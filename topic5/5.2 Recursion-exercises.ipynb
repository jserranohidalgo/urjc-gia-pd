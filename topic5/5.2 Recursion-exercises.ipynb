{
 "cells": [
  {
   "cell_type": "markdown",
   "metadata": {
    "tags": []
   },
   "source": [
    "### Preamble"
   ]
  },
  {
   "cell_type": "code",
   "execution_count": 1,
   "metadata": {},
   "outputs": [
    {
     "data": {
      "text/plain": [
       "\u001b[32mimport \u001b[39m\u001b[36m$ivy.$                                \n",
       "\u001b[39m\n",
       "\u001b[32mimport \u001b[39m\u001b[36morg.scalatest.{Filter => _, _}, flatspec._, matchers._\n",
       "\u001b[39m"
      ]
     },
     "execution_count": 1,
     "metadata": {},
     "output_type": "execute_result"
    }
   ],
   "source": [
    "import $ivy.`org.scalatest::scalatest:3.2.16`\n",
    "import org.scalatest.{Filter => _, _}, flatspec._, matchers._"
   ]
  },
  {
   "cell_type": "markdown",
   "metadata": {},
   "source": [
    "# Topic 5: Recursive functions"
   ]
  },
  {
   "cell_type": "markdown",
   "metadata": {},
   "source": [
    "# Problem 1"
   ]
  },
  {
   "cell_type": "markdown",
   "metadata": {},
   "source": [
    "Implement a function that drops the first _n_ elements of a list. If the number of elements to be dropped is 0, it must return the same list. The implementation must be tail-recursive."
   ]
  },
  {
   "cell_type": "code",
   "execution_count": null,
   "metadata": {},
   "outputs": [],
   "source": [
    "class TestDrop(\n",
    "    drop: (List[Boolean], Int) => List[Boolean]\n",
    ") extends AnyFlatSpec with should.Matchers:\n",
    " \n",
    "    \"drop less elements than the list length\" should \"return the remaining elements\" in:\n",
    "        \n",
    "        drop(List(true, false), 0) shouldBe \n",
    "            List(true, false)\n",
    "        \n",
    "        drop(List(true, false, false, true), 2) shouldBe \n",
    "            List(false, true)\n",
    "        \n",
    "        drop(List(true, false, true, true, false, true), 3) shouldBe \n",
    "            List(true, false, true)\n",
    "    \n",
    "    \"drop a number of elements greater than or equal to its length\" should \"return the empty list\" in:\n",
    "        drop(List(), 0) shouldBe \n",
    "            List()\n",
    "    \n",
    "        drop(List(true, false, true, true, false, true), 6) shouldBe \n",
    "            List()\n",
    "\n",
    "        drop(List(), 2) shouldBe \n",
    "            List()\n",
    "        \n",
    "        drop(List(true, false, true, true, false, true), 8) shouldBe \n",
    "            List()"
   ]
  },
  {
   "cell_type": "markdown",
   "metadata": {
    "jp-MarkdownHeadingCollapsed": true,
    "tags": []
   },
   "source": [
    "###### Solution"
   ]
  },
  {
   "cell_type": "code",
   "execution_count": null,
   "metadata": {},
   "outputs": [],
   "source": [
    "@annotation.tailrec\n",
    "def drop[A](list: List[A], n: Int): List[A] = \n",
    "    list match\n",
    "        case _ :: tail if n > 0 => \n",
    "            drop(tail, n-1)\n",
    "        case list => \n",
    "            list"
   ]
  },
  {
   "cell_type": "markdown",
   "metadata": {
    "tags": []
   },
   "source": [
    "###### Your solution"
   ]
  },
  {
   "cell_type": "code",
   "execution_count": null,
   "metadata": {},
   "outputs": [],
   "source": []
  },
  {
   "cell_type": "code",
   "execution_count": null,
   "metadata": {},
   "outputs": [],
   "source": [
    "run(TestDrop(drop))"
   ]
  },
  {
   "cell_type": "markdown",
   "metadata": {},
   "source": [
    "# Problem 2"
   ]
  },
  {
   "cell_type": "markdown",
   "metadata": {},
   "source": [
    "Create a function that counts the number of occurrences of a given element in a list."
   ]
  },
  {
   "cell_type": "code",
   "execution_count": 2,
   "metadata": {},
   "outputs": [
    {
     "data": {
      "text/plain": [
       "defined \u001b[32mclass\u001b[39m \u001b[36mTestOcurrences\u001b[39m"
      ]
     },
     "execution_count": 2,
     "metadata": {},
     "output_type": "execute_result"
    }
   ],
   "source": [
    "class TestOcurrences(\n",
    "    occurrences: (List[String], String) => Int) \n",
    " extends AnyFlatSpec with should.Matchers:\n",
    "    \n",
    "    \"occurrences\" should \"work\" in:\n",
    "        occurrences(List(\"1\",\"1\",\"1\"), \"1\") shouldBe 3\n",
    "        occurrences(List(\"1\",\"2\",\"3\"), \"2\") shouldBe 1\n",
    "        occurrences(List(), \"3\") shouldBe 0\n",
    "        occurrences(List(\"1\",\"2\",\"3\"), \"5\") shouldBe 0"
   ]
  },
  {
   "cell_type": "markdown",
   "metadata": {},
   "source": [
    "#### Part a) Implement the function recursively, without tail-recursion"
   ]
  },
  {
   "cell_type": "markdown",
   "metadata": {
    "jp-MarkdownHeadingCollapsed": true,
    "tags": []
   },
   "source": [
    "###### Solution"
   ]
  },
  {
   "cell_type": "code",
   "execution_count": null,
   "metadata": {},
   "outputs": [],
   "source": [
    "def occurrencesR[A](list: List[A], a: A): Int = \n",
    "    list match\n",
    "        case Nil => 0\n",
    "        case head :: tail => \n",
    "            (if (head == a) 1 else 0) + occurrencesR(tail, a)"
   ]
  },
  {
   "cell_type": "markdown",
   "metadata": {},
   "source": [
    "Here it's a different implementation that performs the equality test through pattern matching:"
   ]
  },
  {
   "cell_type": "code",
   "execution_count": null,
   "metadata": {},
   "outputs": [],
   "source": [
    "def occurrencesR[A](list: List[A], a: A): Int = \n",
    "    list match\n",
    "        case Nil => 0\n",
    "        case `a` :: tail => \n",
    "            1 + occurrencesR(tail, a)\n",
    "        case _ :: tail => \n",
    "            occurrencesR(tail, a)"
   ]
  },
  {
   "cell_type": "markdown",
   "metadata": {
    "tags": []
   },
   "source": [
    "###### Your solution"
   ]
  },
  {
   "cell_type": "code",
   "execution_count": null,
   "metadata": {},
   "outputs": [],
   "source": []
  },
  {
   "cell_type": "code",
   "execution_count": null,
   "metadata": {},
   "outputs": [],
   "source": [
    "run(TestOcurrences(occurrencesR[String]))"
   ]
  },
  {
   "cell_type": "markdown",
   "metadata": {},
   "source": [
    "#### Part b) Implement the function with tail-recursion"
   ]
  },
  {
   "cell_type": "markdown",
   "metadata": {},
   "source": [
    "out                 aux\n",
    "---                 --- \n",
    "???                 List(1,2,3,4,2,2,1) \n",
    "???                 List(2,3,4,2,2,1) \n",
    "???                 List(3,4,2,2,1) \n",
    "???                 List(4,2,2,1) \n",
    "???                 List(2,2,1) \n",
    "???                 List(2,1) \n",
    "???                 List(1) \n",
    "???                 List()"
   ]
  },
  {
   "cell_type": "markdown",
   "metadata": {},
   "source": [
    "out                 aux\n",
    "---                 --- \n",
    "0                   List(1,2,3,4,2,2,1) \n",
    "0                   List(2,3,4,2,2,1) \n",
    "1                   List(3,4,2,2,1) \n",
    "1                   List(4,2,2,1) \n",
    "1                   List(2,2,1) \n",
    "2                   List(2,1) \n",
    "3                   List(1) \n",
    "3                   List()"
   ]
  },
  {
   "cell_type": "markdown",
   "metadata": {},
   "source": [
    "out                 aux\n",
    "---                 --- \n",
    "0                   List(1,2,3,4,2,2,1) \n",
    "0+0                 List(2,3,4,2,2,1) \n",
    "0+1                 List(3,4,2,2,1) \n",
    "1+0                 List(4,2,2,1) \n",
    "1+0                 List(2,2,1) \n",
    "1+1                 List(2,1) \n",
    "2+1                 List(1) \n",
    "3+0                 List()"
   ]
  },
  {
   "cell_type": "markdown",
   "metadata": {
    "jp-MarkdownHeadingCollapsed": true,
    "tags": []
   },
   "source": [
    "###### Solution"
   ]
  },
  {
   "cell_type": "code",
   "execution_count": null,
   "metadata": {},
   "outputs": [],
   "source": [
    "def occurrencesTR[A](list: List[A], a: A): Int =\n",
    "    \n",
    "    @annotation.tailrec\n",
    "    def occurrencesAux(acc: Int, list: List[A]): Int = \n",
    "        list match\n",
    "            case Nil => acc\n",
    "            case head :: tail => \n",
    "                occurrencesAux(acc + (if (head == a) 1 else 0), tail)\n",
    "    \n",
    "    occurrencesAux(0, list)"
   ]
  },
  {
   "cell_type": "markdown",
   "metadata": {
    "tags": []
   },
   "source": [
    "###### Your solution"
   ]
  },
  {
   "cell_type": "code",
   "execution_count": 3,
   "metadata": {},
   "outputs": [
    {
     "data": {
      "text/plain": [
       "defined \u001b[32mfunction\u001b[39m \u001b[36miterativeTemplate_TailRecursion\u001b[39m"
      ]
     },
     "execution_count": 3,
     "metadata": {},
     "output_type": "execute_result"
    }
   ],
   "source": [
    "def iterativeTemplate_TailRecursion[A, B](l: List[A]): B = \n",
    "    \n",
    "    def step(out: B, aux: List[A]): B = \n",
    "        aux match \n",
    "            case Nil => out\n",
    "            case e :: tail => \n",
    "                val out1 = (??? : (B , A) => B)(out, l.head)\n",
    "                val aux1 = aux.tail\n",
    "                step(out, aux)\n",
    "\n",
    "    step(??? : B, l)"
   ]
  },
  {
   "cell_type": "code",
   "execution_count": 7,
   "metadata": {},
   "outputs": [
    {
     "data": {
      "text/plain": [
       "defined \u001b[32mfunction\u001b[39m \u001b[36moccurrencesTR\u001b[39m"
      ]
     },
     "execution_count": 7,
     "metadata": {},
     "output_type": "execute_result"
    }
   ],
   "source": [
    "def occurrencesTR[A](l: List[A], e: A): Int = \n",
    "\n",
    "    def step(out: Int, aux: List[A]): Int = \n",
    "        aux match \n",
    "            case Nil => out\n",
    "            case head :: tail => \n",
    "                val out1 = if head == e then out + 1 else out\n",
    "                val aux1 = aux.tail\n",
    "                step(out1, aux1)\n",
    "\n",
    "    step(0 : Int, l)"
   ]
  },
  {
   "cell_type": "code",
   "execution_count": 10,
   "metadata": {},
   "outputs": [
    {
     "data": {
      "text/plain": [
       "defined \u001b[32mfunction\u001b[39m \u001b[36moccurrencesTR\u001b[39m"
      ]
     },
     "execution_count": 10,
     "metadata": {},
     "output_type": "execute_result"
    }
   ],
   "source": [
    "def occurrencesTR[A](l: List[A], e: A): Int = \n",
    "    l.foldLeft[Int](0 : Int)(\n",
    "        (out: Int, head: A) =>  \n",
    "            if head == e then out + 1 else out: Int\n",
    "    )"
   ]
  },
  {
   "cell_type": "code",
   "execution_count": 11,
   "metadata": {},
   "outputs": [
    {
     "data": {
      "text/plain": [
       "defined \u001b[32mfunction\u001b[39m \u001b[36moccurrencesTR\u001b[39m"
      ]
     },
     "execution_count": 11,
     "metadata": {},
     "output_type": "execute_result"
    }
   ],
   "source": [
    "def occurrencesFoldLeft[A](l: List[A], e: A): Int = \n",
    "    l.foldLeft(0)(\n",
    "        (out: Int, head: A) =>  \n",
    "            if head == e then out + 1 else out: Int\n",
    "    )"
   ]
  },
  {
   "cell_type": "code",
   "execution_count": 12,
   "metadata": {},
   "outputs": [
    {
     "data": {
      "text/plain": [
       "defined \u001b[32mfunction\u001b[39m \u001b[36moccurrencesFoldLeft\u001b[39m"
      ]
     },
     "execution_count": 12,
     "metadata": {},
     "output_type": "execute_result"
    }
   ],
   "source": [
    "def occurrencesFoldLeft[A](l: List[A], e: A): Int = \n",
    "    l.foldLeft(0):\n",
    "        case (out, `e`) => out + 1\n",
    "        case (out, _) => out"
   ]
  },
  {
   "cell_type": "code",
   "execution_count": 8,
   "metadata": {},
   "outputs": [
    {
     "name": "stdout",
     "output_type": "stream",
     "text": [
      "\u001b[32mcell2$Helper$TestOcurrences:\u001b[0m\n",
      "\u001b[32moccurrences\u001b[0m\n",
      "\u001b[32m- should work\u001b[0m\n"
     ]
    }
   ],
   "source": [
    "run(TestOcurrences(occurrencesTR[String]))"
   ]
  },
  {
   "cell_type": "markdown",
   "metadata": {},
   "source": [
    "# Problem 3"
   ]
  },
  {
   "cell_type": "markdown",
   "metadata": {},
   "source": [
    "Generate a function that takes the first *n* elements of a list. If the length of the list is less than _n_ it must return the input list (i.e. as many elements as there are)."
   ]
  },
  {
   "cell_type": "code",
   "execution_count": null,
   "metadata": {},
   "outputs": [],
   "source": [
    "class TestTake(\n",
    "    take: (List[Char], Int) => List[Char]\n",
    ") extends AnyFlatSpec with should.Matchers:\n",
    "    \n",
    "    \"take\" should \"work\" in:\n",
    "        take(List(), 0) shouldBe List()\n",
    "        take(List(), 5) shouldBe List()\n",
    "        take(List('1','2','3'), 0) shouldBe List()\n",
    "        take(List('1','2','3'), 2) shouldBe List('1','2')\n",
    "        take(List('1','2','3'), 3) shouldBe List('1','2','3')\n",
    "        take(List('1','2','3'), 10) shouldBe List('1','2','3')"
   ]
  },
  {
   "cell_type": "markdown",
   "metadata": {},
   "source": [
    "The function does not need to be tail-recursive."
   ]
  },
  {
   "cell_type": "markdown",
   "metadata": {
    "jp-MarkdownHeadingCollapsed": true,
    "tags": []
   },
   "source": [
    "###### Solution"
   ]
  },
  {
   "cell_type": "code",
   "execution_count": null,
   "metadata": {},
   "outputs": [],
   "source": [
    "def take[A](list: List[A], n: Int): List[A] = \n",
    "    list match\n",
    "        case head :: tail if n > 0 => \n",
    "            head :: take(tail, n-1)\n",
    "        case _ => \n",
    "            List()"
   ]
  },
  {
   "cell_type": "markdown",
   "metadata": {
    "tags": []
   },
   "source": [
    "###### Your solution"
   ]
  },
  {
   "cell_type": "code",
   "execution_count": null,
   "metadata": {},
   "outputs": [],
   "source": []
  },
  {
   "cell_type": "code",
   "execution_count": null,
   "metadata": {},
   "outputs": [],
   "source": [
    "run(TestTake(take))"
   ]
  },
  {
   "cell_type": "markdown",
   "metadata": {},
   "source": [
    "# Problem 4"
   ]
  },
  {
   "cell_type": "markdown",
   "metadata": {},
   "source": [
    "Write a function that partitions a list of integers into a list of even numbers and a list of odd numbers. "
   ]
  },
  {
   "cell_type": "code",
   "execution_count": 7,
   "metadata": {},
   "outputs": [
    {
     "data": {
      "text/plain": [
       "defined \u001b[32mclass\u001b[39m \u001b[36mTestEvenOddPartition\u001b[39m"
      ]
     },
     "execution_count": 7,
     "metadata": {},
     "output_type": "execute_result"
    }
   ],
   "source": [
    "class TestEvenOddPartition(\n",
    "    candidate: List[Int] => (List[Int], List[Int])\n",
    ") extends AnyFlatSpec with should.Matchers:\n",
    "    \n",
    "    \"partitionEvenOdd\" should \"work\" in:\n",
    "        candidate(List()) shouldBe (List(), List())\n",
    "        candidate(List(1,3,5)) shouldBe (List(1,3,5), List())\n",
    "        candidate(List(0,2,4,6)) shouldBe (List(), List(0,2,4,6))\n",
    "        candidate(1 :: List(2,3,4,5)) shouldBe {\n",
    "            val tailSol = (List(3,5), List(2,4))\n",
    "            // (1 :: List(3,5), List(2,4))\n",
    "            (1 :: tailSol._1, tailSol._2)\n",
    "        }"
   ]
  },
  {
   "cell_type": "markdown",
   "metadata": {},
   "source": [
    "Recall that given a [2-tuple](https://www.scala-lang.org/api/current/scala/Tuple2.html) in Scala, we can observe its components as follows:"
   ]
  },
  {
   "cell_type": "code",
   "execution_count": 8,
   "metadata": {},
   "outputs": [
    {
     "data": {
      "text/plain": [
       "\u001b[36mt2\u001b[39m: (\u001b[32mInt\u001b[39m, \u001b[32mString\u001b[39m) = (\u001b[32m3\u001b[39m, \u001b[32m\"tres\"\u001b[39m)\n",
       "\u001b[36mn\u001b[39m: \u001b[32mInt\u001b[39m = \u001b[32m3\u001b[39m\n",
       "\u001b[36ms\u001b[39m: \u001b[32mString\u001b[39m = \u001b[32m\"tres\"\u001b[39m"
      ]
     },
     "execution_count": 8,
     "metadata": {},
     "output_type": "execute_result"
    }
   ],
   "source": [
    "val t2: (Int, String) = (3, \"tres\")\n",
    "val n: Int = t2._1\n",
    "val s: String = t2._2\n",
    "val (n1: Int, s1: String) = t2"
   ]
  },
  {
   "cell_type": "markdown",
   "metadata": {},
   "source": [
    "The function does not need to be tail-recursive."
   ]
  },
  {
   "cell_type": "markdown",
   "metadata": {
    "jp-MarkdownHeadingCollapsed": true,
    "tags": []
   },
   "source": [
    "###### Solution"
   ]
  },
  {
   "cell_type": "code",
   "execution_count": null,
   "metadata": {},
   "outputs": [],
   "source": [
    "def partitionEvenOdd(list: List[Int]): (List[Int], List[Int]) = \n",
    "    list match\n",
    "        case Nil => \n",
    "            (List(), List())\n",
    "        case head :: tail => \n",
    "            val (odds, evens) = partitionEvenOdd(tail)\n",
    "            if (head % 2 == 0) (odds, head :: evens)\n",
    "            else (head :: odds, evens)"
   ]
  },
  {
   "cell_type": "markdown",
   "metadata": {
    "tags": []
   },
   "source": [
    "###### Your solution"
   ]
  },
  {
   "cell_type": "code",
   "execution_count": 5,
   "metadata": {},
   "outputs": [
    {
     "data": {
      "text/plain": [
       "defined \u001b[32mfunction\u001b[39m \u001b[36mrecursionTemplate\u001b[39m"
      ]
     },
     "execution_count": 5,
     "metadata": {},
     "output_type": "execute_result"
    }
   ],
   "source": [
    "def recursionTemplate[A, B](l: List[A]): B = \n",
    "    l match \n",
    "        case Nil => ??? : B\n",
    "        case h :: (t: List[A]) =>  \n",
    "            val tailSol: B = recursionTemplate(t)\n",
    "            ??? : B"
   ]
  },
  {
   "cell_type": "code",
   "execution_count": 4,
   "metadata": {},
   "outputs": [
    {
     "data": {
      "text/plain": [
       "defined \u001b[32mfunction\u001b[39m \u001b[36mevenOddPartition\u001b[39m"
      ]
     },
     "execution_count": 4,
     "metadata": {},
     "output_type": "execute_result"
    }
   ],
   "source": [
    "def evenOddPartition(l: List[Int]): (List[Int], List[Int]) = \n",
    "    l match \n",
    "        case Nil => ??? : (List[Int], List[Int])\n",
    "        case h :: (t: List[Int]) => \n",
    "            val tailSol: (List[Int], List[Int]) = evenOddPartition(t)\n",
    "            ??? : (List[Int], List[Int])"
   ]
  },
  {
   "cell_type": "code",
   "execution_count": 4,
   "metadata": {},
   "outputs": [
    {
     "data": {
      "text/plain": [
       "defined \u001b[32mfunction\u001b[39m \u001b[36mevenOddPartition\u001b[39m"
      ]
     },
     "execution_count": 4,
     "metadata": {},
     "output_type": "execute_result"
    }
   ],
   "source": [
    "def evenOddPartition(l: List[Int]): (List[Int], List[Int]) = \n",
    "    l match \n",
    "        case Nil => (Nil : List[Int], Nil : List[Int])\n",
    "        case h :: (t: List[Int]) => \n",
    "            val tailSol: (List[Int], List[Int]) = evenOddPartition(t)\n",
    "            ??? : (List[Int], List[Int])"
   ]
  },
  {
   "cell_type": "code",
   "execution_count": 9,
   "metadata": {},
   "outputs": [
    {
     "data": {
      "text/plain": [
       "defined \u001b[32mfunction\u001b[39m \u001b[36mevenOddPartition\u001b[39m"
      ]
     },
     "execution_count": 9,
     "metadata": {},
     "output_type": "execute_result"
    }
   ],
   "source": [
    "def evenOddPartition(l: List[Int]): (List[Int], List[Int]) = \n",
    "    l match \n",
    "        case Nil => (Nil : List[Int], Nil : List[Int])\n",
    "        case h :: (t: List[Int]) => \n",
    "            val tailSol: (List[Int], List[Int]) = evenOddPartition(t)\n",
    "            if h % 2 == 0 then\n",
    "                (tailSol._1, h :: tailSol._2)\n",
    "            else \n",
    "                (h :: tailSol._1, tailSol._2)"
   ]
  },
  {
   "cell_type": "code",
   "execution_count": 11,
   "metadata": {},
   "outputs": [
    {
     "data": {
      "text/plain": [
       "defined \u001b[32mfunction\u001b[39m \u001b[36mevenOddPartition\u001b[39m"
      ]
     },
     "execution_count": 11,
     "metadata": {},
     "output_type": "execute_result"
    }
   ],
   "source": [
    "def evenOddPartition(l: List[Int]): (List[Int], List[Int]) = \n",
    "    l match \n",
    "        case Nil => (Nil, Nil)\n",
    "        case h :: (t: List[Int]) => \n",
    "            val (oddTail, evenTail) = evenOddPartition(t)\n",
    "            if h % 2 == 0 then\n",
    "                (oddTail, h :: evenTail)\n",
    "            else \n",
    "                (h :: oddTail, evenTail)"
   ]
  },
  {
   "cell_type": "code",
   "execution_count": 13,
   "metadata": {},
   "outputs": [
    {
     "data": {
      "text/plain": [
       "defined \u001b[32mfunction\u001b[39m \u001b[36mevenOddPartition\u001b[39m"
      ]
     },
     "execution_count": 13,
     "metadata": {},
     "output_type": "execute_result"
    }
   ],
   "source": [
    "def evenOddPartition(l: List[Int]): (List[Int], List[Int]) = \n",
    "    l match \n",
    "        case Nil => (Nil, Nil)\n",
    "        case h :: (t: List[Int]) => \n",
    "            evenOddPartition(t) match \n",
    "                case (oddTail, evenTail) => \n",
    "                    if h % 2 == 0 then\n",
    "                        (oddTail, h :: evenTail)\n",
    "                    else \n",
    "                        (h :: oddTail, evenTail)"
   ]
  },
  {
   "cell_type": "code",
   "execution_count": 14,
   "metadata": {},
   "outputs": [
    {
     "data": {
      "text/plain": [
       "defined \u001b[32mfunction\u001b[39m \u001b[36mevenOddPartition\u001b[39m"
      ]
     },
     "execution_count": 14,
     "metadata": {},
     "output_type": "execute_result"
    }
   ],
   "source": [
    "def evenOddPartition(l: List[Int]): (List[Int], List[Int]) = \n",
    "    l match \n",
    "        case Nil => (Nil, Nil)\n",
    "        case h :: (t: List[Int]) => \n",
    "            evenOddPartition(t) match \n",
    "                case (oddTail, evenTail) if h % 2 == 0 => \n",
    "                    (oddTail, h :: evenTail)\n",
    "                case (oddTail, evenTail) => \n",
    "                    (h :: oddTail, evenTail)"
   ]
  },
  {
   "cell_type": "code",
   "execution_count": 15,
   "metadata": {},
   "outputs": [
    {
     "name": "stdout",
     "output_type": "stream",
     "text": [
      "\u001b[32mcell7$Helper$TestEvenOddPartition:\u001b[0m\n",
      "\u001b[32mpartitionEvenOdd\u001b[0m\n",
      "\u001b[32m- should work\u001b[0m\n"
     ]
    }
   ],
   "source": [
    "run(TestEvenOddPartition(evenOddPartition))"
   ]
  },
  {
   "cell_type": "markdown",
   "metadata": {},
   "source": [
    "# Problem 5"
   ]
  },
  {
   "cell_type": "code",
   "execution_count": null,
   "metadata": {},
   "outputs": [],
   "source": [
    "class TestSplit(\n",
    "    split: List[Either[String, Boolean]] => (List[String], List[Boolean]))\n",
    " extends AnyFlatSpec with should.Matchers:\n",
    "    \"split\" should \"work\" in:\n",
    "        split(List(Left(\"a\"), Left(\"b\"), Left(\"a\"))) shouldBe \n",
    "            (List(\"a\", \"b\", \"a\"), List())\n",
    "        split(List(Right(false), Right(false), Right(true))) shouldBe \n",
    "            (List(), List(false, false, true))\n",
    "        split(List()) shouldBe\n",
    "            (List(), List())\n",
    "        split(List(Right(false), Left(\"a\"), Right(true), Left(\"b\"), Left(\"a\"), Right(true))) shouldBe \n",
    "            (List(\"a\", \"b\", \"a\"), List(false, true, true))"
   ]
  },
  {
   "cell_type": "markdown",
   "metadata": {
    "jp-MarkdownHeadingCollapsed": true,
    "tags": []
   },
   "source": [
    "###### Solution"
   ]
  },
  {
   "cell_type": "code",
   "execution_count": null,
   "metadata": {},
   "outputs": [],
   "source": [
    "def split[A, B](l: List[Either[A, B]]): (List[A], List[B]) = \n",
    "    l match\n",
    "        case Nil => \n",
    "            (List(), List())\n",
    "        case head :: tail =>\n",
    "            val (leftTail, rightTail) = split(tail)\n",
    "            head match\n",
    "                case Left(a) => (a :: leftTail, rightTail)\n",
    "                case Right(b) => (leftTail, b :: rightTail)"
   ]
  },
  {
   "cell_type": "markdown",
   "metadata": {
    "tags": []
   },
   "source": [
    "###### Your solution"
   ]
  },
  {
   "cell_type": "code",
   "execution_count": null,
   "metadata": {},
   "outputs": [],
   "source": []
  },
  {
   "cell_type": "code",
   "execution_count": null,
   "metadata": {},
   "outputs": [],
   "source": [
    "run(TestSplit(split))"
   ]
  },
  {
   "cell_type": "markdown",
   "metadata": {},
   "source": [
    "# Problem 6"
   ]
  },
  {
   "cell_type": "markdown",
   "metadata": {},
   "source": [
    "Write a funtion that receives a list of pairs of integers and returns a new list made from the sum of all pairs."
   ]
  },
  {
   "cell_type": "code",
   "execution_count": 2,
   "metadata": {},
   "outputs": [
    {
     "data": {
      "text/plain": [
       "defined \u001b[32mclass\u001b[39m \u001b[36mTestSum\u001b[39m"
      ]
     },
     "execution_count": 2,
     "metadata": {},
     "output_type": "execute_result"
    }
   ],
   "source": [
    "class TestSum(\n",
    "    sum: List[(Int, Int)] => List[Int]\n",
    ") extends AnyFlatSpec with should.Matchers:\n",
    "    \n",
    "    \"sum\" should \"work\" in:\n",
    "        sum(Nil) shouldBe Nil\n",
    "        sum(List((0,0))) shouldBe List(0)\n",
    "        sum((1,2) :: List((3,4), (5,6))) shouldBe {\n",
    "            val tailSol = List(7, 11)\n",
    "            // List(3, 7, 11)\n",
    "            // 3 :: List(7, 11)\n",
    "            (1+2) :: List(7, 11)\n",
    "        }"
   ]
  },
  {
   "cell_type": "markdown",
   "metadata": {},
   "source": [
    "The function does not need to be tail-recursive."
   ]
  },
  {
   "cell_type": "markdown",
   "metadata": {
    "jp-MarkdownHeadingCollapsed": true,
    "tags": []
   },
   "source": [
    "###### Solution"
   ]
  },
  {
   "cell_type": "code",
   "execution_count": null,
   "metadata": {},
   "outputs": [],
   "source": [
    "def sum(list: List[(Int, Int)]): List[Int] = \n",
    "    list match\n",
    "        case Nil => List()\n",
    "        case (a,b) :: tail => \n",
    "            a+b :: sum(tail)"
   ]
  },
  {
   "cell_type": "markdown",
   "metadata": {
    "tags": []
   },
   "source": [
    "###### Your solution"
   ]
  },
  {
   "cell_type": "code",
   "execution_count": 5,
   "metadata": {},
   "outputs": [
    {
     "data": {
      "text/plain": [
       "defined \u001b[32mfunction\u001b[39m \u001b[36mrecursionTemplate\u001b[39m"
      ]
     },
     "execution_count": 5,
     "metadata": {},
     "output_type": "execute_result"
    }
   ],
   "source": [
    "def tailRecursionTemplate[A, B](l: List[A]): B = \n",
    "    \n",
    "    def step(out: B, aux: List[A]): B = \n",
    "        aux match \n",
    "            case Nil => out\n",
    "            case e :: t => \n",
    "                step(???(out, e), t)\n",
    "\n",
    "    step(???, l)"
   ]
  },
  {
   "cell_type": "code",
   "execution_count": 5,
   "metadata": {},
   "outputs": [
    {
     "data": {
      "text/plain": [
       "defined \u001b[32mfunction\u001b[39m \u001b[36mrecursionTemplate\u001b[39m"
      ]
     },
     "execution_count": 5,
     "metadata": {},
     "output_type": "execute_result"
    }
   ],
   "source": [
    "def recursionTemplate[A, B](l: List[A]): B = \n",
    "    l match \n",
    "        case Nil => ??? : B\n",
    "        case h :: (t: List[A]) =>  \n",
    "            val tailSol: B = recursionTemplate(t)\n",
    "            ??? : B"
   ]
  },
  {
   "cell_type": "code",
   "execution_count": 24,
   "metadata": {},
   "outputs": [
    {
     "data": {
      "text/plain": [
       "defined \u001b[32mfunction\u001b[39m \u001b[36msum\u001b[39m"
      ]
     },
     "execution_count": 24,
     "metadata": {},
     "output_type": "execute_result"
    }
   ],
   "source": [
    "// sum: List[(Int, Int)] => List[Int]\n",
    "// A = (Int, Int)\n",
    "// B = List[Int]\n",
    "def sum(l: List[(Int, Int)]): List[Int] = \n",
    "    l match \n",
    "        case Nil => Nil : List[Int]\n",
    "        case (h: (Int, Int)) :: (t: List[(Int, Int)]) =>  \n",
    "            val tailSol: List[Int] = sum(t)\n",
    "            (h._1 + h._2) :: tailSol : List[Int]"
   ]
  },
  {
   "cell_type": "code",
   "execution_count": 2,
   "metadata": {},
   "outputs": [
    {
     "data": {
      "text/plain": [
       "defined \u001b[32mfunction\u001b[39m \u001b[36msum\u001b[39m"
      ]
     },
     "execution_count": 2,
     "metadata": {},
     "output_type": "execute_result"
    }
   ],
   "source": [
    "// sum: List[(Int, Int)] => List[Int]\n",
    "// A = (Int, Int)\n",
    "// B = List[Int]\n",
    "def sum(l: List[(Int, Int)]): List[Int] = \n",
    "    l.foldRight[List[Int]](Nil)(\n",
    "        (h: (Int, Int), tailSol: List[Int]) => \n",
    "            (h._1 + h._2) :: tailSol\n",
    "    )"
   ]
  },
  {
   "cell_type": "code",
   "execution_count": 26,
   "metadata": {},
   "outputs": [
    {
     "data": {
      "text/plain": [
       "defined \u001b[32mfunction\u001b[39m \u001b[36msum\u001b[39m"
      ]
     },
     "execution_count": 26,
     "metadata": {},
     "output_type": "execute_result"
    }
   ],
   "source": [
    "// sum: List[(Int, Int)] => List[Int]\n",
    "// A = (Int, Int)\n",
    "// B = List[Int]\n",
    "def sum(l: List[(Int, Int)]): List[Int] = \n",
    "    l match \n",
    "        case Nil => Nil \n",
    "        case h :: t =>  \n",
    "            (h._1 + h._2) :: sum(t)"
   ]
  },
  {
   "cell_type": "code",
   "execution_count": 27,
   "metadata": {},
   "outputs": [
    {
     "data": {
      "text/plain": [
       "defined \u001b[32mfunction\u001b[39m \u001b[36msum\u001b[39m"
      ]
     },
     "execution_count": 27,
     "metadata": {},
     "output_type": "execute_result"
    }
   ],
   "source": [
    "// sum: List[(Int, Int)] => List[Int]\n",
    "// A = (Int, Int)\n",
    "// B = List[Int]\n",
    "def sum(l: List[(Int, Int)]): List[Int] = \n",
    "    l match \n",
    "        case Nil => Nil \n",
    "        case (a, b) :: t =>  \n",
    "            a+b :: sum(t)"
   ]
  },
  {
   "cell_type": "code",
   "execution_count": 17,
   "metadata": {},
   "outputs": [
    {
     "data": {
      "text/plain": [
       "defined \u001b[32mfunction\u001b[39m \u001b[36msum\u001b[39m"
      ]
     },
     "execution_count": 17,
     "metadata": {},
     "output_type": "execute_result"
    }
   ],
   "source": [
    "// sum: List[(Int, Int)] => List[Int]\n",
    "// A = (Int, Int)\n",
    "// B = List[Int]\n",
    "def sum(l: List[(Int, Int)]): List[Int] = \n",
    "    l match \n",
    "        case Nil => ??? : List[Int]\n",
    "        case h :: (t: List[(Int, Int)]) =>  \n",
    "            val tailSol: List[Int] = recursionTemplate(t)\n",
    "            ??? : List[Int]"
   ]
  },
  {
   "cell_type": "code",
   "execution_count": 18,
   "metadata": {},
   "outputs": [
    {
     "data": {
      "text/plain": [
       "defined \u001b[32mfunction\u001b[39m \u001b[36mand\u001b[39m"
      ]
     },
     "execution_count": 18,
     "metadata": {},
     "output_type": "execute_result"
    }
   ],
   "source": [
    "// sum: List[(Int, Int)] => List[Int]\n",
    "// A = (Int, Int)\n",
    "// B = List[Int]\n",
    "def and(l: List[(Boolean, Boolean)]): List[Boolean] = \n",
    "    l match \n",
    "        case Nil => ??? : List[Boolean]\n",
    "        case h :: (t: List[(Boolean, Boolean)]) =>  \n",
    "            val tailSol: List[Boolean] = and(t)\n",
    "            ??? : List[Boolean]"
   ]
  },
  {
   "cell_type": "code",
   "execution_count": 19,
   "metadata": {},
   "outputs": [
    {
     "data": {
      "text/plain": [
       "defined \u001b[32mfunction\u001b[39m \u001b[36mmap2\u001b[39m"
      ]
     },
     "execution_count": 19,
     "metadata": {},
     "output_type": "execute_result"
    }
   ],
   "source": [
    "// sum: List[(Int, Int)] => List[Int]\n",
    "// A = (Int, Int)\n",
    "// B = List[Int]\n",
    "def map2[A, B, C](l: List[(A, B)], f: (A, B) => C): List[C] = \n",
    "    l match \n",
    "        case Nil => ??? : List[C]\n",
    "        case h :: (t: List[(A, B)]) =>  \n",
    "            val tailSol: List[C] = map2(t, f)\n",
    "            ??? : List[C]"
   ]
  },
  {
   "cell_type": "code",
   "execution_count": null,
   "metadata": {},
   "outputs": [],
   "source": [
    "// sum: List[(Int, Int)] => List[Int]\n",
    "val sum: List[(Int, Int)] => List[Int] = \n",
    "    ??? "
   ]
  },
  {
   "cell_type": "code",
   "execution_count": null,
   "metadata": {},
   "outputs": [],
   "source": [
    "def sum(l: (List[Int], List[Int])): List[Int] = \n",
    "    ??? "
   ]
  },
  {
   "cell_type": "code",
   "execution_count": null,
   "metadata": {},
   "outputs": [],
   "source": [
    "def sum(l1: List[Int], l2: List[Int]): List[Int] = \n",
    "    ??? "
   ]
  },
  {
   "cell_type": "code",
   "execution_count": 25,
   "metadata": {},
   "outputs": [
    {
     "name": "stdout",
     "output_type": "stream",
     "text": [
      "\u001b[32mcell21$Helper$TestSum:\u001b[0m\n",
      "\u001b[32msum\u001b[0m\n",
      "\u001b[32m- should work\u001b[0m\n"
     ]
    }
   ],
   "source": [
    "run(TestSum(sum))"
   ]
  },
  {
   "cell_type": "markdown",
   "metadata": {},
   "source": [
    "# Problem 7"
   ]
  },
  {
   "cell_type": "markdown",
   "metadata": {},
   "source": [
    "Write a function that receives two lists and returns a single list whose elements are pairs made from the corresponding elements of each list."
   ]
  },
  {
   "cell_type": "code",
   "execution_count": null,
   "metadata": {},
   "outputs": [],
   "source": [
    "class TestZip(\n",
    "    zip: (List[Int], List[Char]) => List[(Int, Char)]\n",
    ") extends AnyFlatSpec with should.Matchers:\n",
    "    \n",
    "    \"zip\" should \"work\" in:\n",
    "        zip(List(), List()) shouldBe List()\n",
    "        zip(List(), List('a','b')) shouldBe List()\n",
    "        zip(List(1,2,3), List()) shouldBe List()\n",
    "        zip(List(1,2,3), List('a','b','c')) shouldBe\n",
    "            List((1,'a'), (2,'b'), (3, 'c'))\n",
    "        zip(List(1,2), List('a','b','c')) shouldBe\n",
    "            List((1,'a'), (2,'b'))\n",
    "        zip(List(1,2,3), List('a','b')) shouldBe\n",
    "            List((1,'a'), (2,'b'))"
   ]
  },
  {
   "cell_type": "markdown",
   "metadata": {},
   "source": [
    "The function does not need to be tail-recursive."
   ]
  },
  {
   "cell_type": "markdown",
   "metadata": {
    "jp-MarkdownHeadingCollapsed": true,
    "tags": []
   },
   "source": [
    "###### Solution"
   ]
  },
  {
   "cell_type": "code",
   "execution_count": null,
   "metadata": {},
   "outputs": [],
   "source": [
    "def zip[A, B](list1: List[A], list2: List[B]): List[(A, B)] = \n",
    "    (list1, list2) match\n",
    "        case (head1 :: tail1, head2 :: tail2) => \n",
    "            (head1, head2) :: zip(tail1, tail2)\n",
    "        case _ => List()"
   ]
  },
  {
   "cell_type": "markdown",
   "metadata": {
    "tags": []
   },
   "source": [
    "###### Your solution"
   ]
  },
  {
   "cell_type": "code",
   "execution_count": null,
   "metadata": {},
   "outputs": [],
   "source": []
  },
  {
   "cell_type": "code",
   "execution_count": null,
   "metadata": {},
   "outputs": [],
   "source": [
    "run(TestZip(zip[Int, Char]))"
   ]
  },
  {
   "cell_type": "markdown",
   "metadata": {},
   "source": [
    "# Problem 8"
   ]
  },
  {
   "cell_type": "markdown",
   "metadata": {},
   "source": [
    "Write a function that returns the greatest element of a list of integers."
   ]
  },
  {
   "cell_type": "code",
   "execution_count": null,
   "metadata": {},
   "outputs": [],
   "source": [
    "class TestGreatest(\n",
    "    greatest: List[Int] => Option[Int]\n",
    ") extends AnyFlatSpec with should.Matchers:\n",
    "    \n",
    "    \"greatest of an empty list\" should \"return None\" in:\n",
    "        greatest(List()) shouldBe None\n",
    "    \n",
    "    \"greatest of a non-empty list\" should \"return the greatest one\" in:\n",
    "        greatest(List(1,2,3)) shouldBe Some(3)\n",
    "        greatest(List(3,2,1)) shouldBe Some(3)\n",
    "        greatest(List(1)) shouldBe Some(1)"
   ]
  },
  {
   "cell_type": "markdown",
   "metadata": {},
   "source": [
    "Use pattern guards when possible. This is an example of pattern guard:"
   ]
  },
  {
   "cell_type": "code",
   "execution_count": null,
   "metadata": {},
   "outputs": [],
   "source": [
    "val maybeInt: Option[Int] = Some(4)\n",
    "maybeInt match\n",
    "    case Some(i) if i>3 => true\n",
    "    // for any other case, no matter if some(_) or None\n",
    "    case _ => false"
   ]
  },
  {
   "cell_type": "markdown",
   "metadata": {},
   "source": [
    "#### Part a) Implement the function recursively, without tail-recursion"
   ]
  },
  {
   "cell_type": "markdown",
   "metadata": {
    "jp-MarkdownHeadingCollapsed": true,
    "tags": []
   },
   "source": [
    "###### Solution"
   ]
  },
  {
   "cell_type": "code",
   "execution_count": null,
   "metadata": {},
   "outputs": [],
   "source": [
    "def greatest(list: List[Int]): Option[Int] = \n",
    "    list match\n",
    "        case Nil => None\n",
    "        case head :: tail => \n",
    "            greatest(tail) match\n",
    "                case Some(e) if e > head => Some(e)\n",
    "                case _ => Some(head)"
   ]
  },
  {
   "cell_type": "markdown",
   "metadata": {
    "tags": []
   },
   "source": [
    "###### Your solution"
   ]
  },
  {
   "cell_type": "code",
   "execution_count": null,
   "metadata": {},
   "outputs": [],
   "source": []
  },
  {
   "cell_type": "code",
   "execution_count": null,
   "metadata": {},
   "outputs": [],
   "source": [
    "run(TestGreatest(greatest))"
   ]
  },
  {
   "cell_type": "markdown",
   "metadata": {},
   "source": [
    "#### Part b) Implement the function with tail-recursion"
   ]
  },
  {
   "cell_type": "markdown",
   "metadata": {
    "jp-MarkdownHeadingCollapsed": true,
    "tags": []
   },
   "source": [
    "###### Solution"
   ]
  },
  {
   "cell_type": "code",
   "execution_count": null,
   "metadata": {},
   "outputs": [],
   "source": [
    "def greatestTR(list: List[Int]): Option[Int] =\n",
    "    \n",
    "    def greatestAux(out: Option[Int], aux: List[Int]): Option[Int] = \n",
    "        aux match\n",
    "            case Nil => out\n",
    "            case head :: tail => \n",
    "                greatestAux(out match\n",
    "                    case Some(e) if e > head => Some(e)\n",
    "                    case _ => Some(head), tail)\n",
    "    \n",
    "    greatestAux(None, list)"
   ]
  },
  {
   "cell_type": "markdown",
   "metadata": {
    "tags": []
   },
   "source": [
    "###### Your solution"
   ]
  },
  {
   "cell_type": "code",
   "execution_count": null,
   "metadata": {},
   "outputs": [],
   "source": []
  },
  {
   "cell_type": "code",
   "execution_count": null,
   "metadata": {},
   "outputs": [],
   "source": [
    "run(TestGreatest(greatestTR))"
   ]
  },
  {
   "cell_type": "markdown",
   "metadata": {},
   "source": [
    "# Problem 9"
   ]
  },
  {
   "cell_type": "markdown",
   "metadata": {},
   "source": [
    "Create a function that given a list of strings or integers, returns the concatenation of all the string elements. If the list doesn't contain any string, it must return the empty string."
   ]
  },
  {
   "cell_type": "code",
   "execution_count": null,
   "metadata": {},
   "outputs": [],
   "source": [
    "class TestConcatenate(\n",
    "    conc: List[Either[String, Int]] => String\n",
    ") extends AnyFlatSpec with should.Matchers:\n",
    "    \n",
    "    \"concatenate\" should \"work\" in:\n",
    "        conc(List()) shouldBe \"\" \n",
    "        conc(List(Right(1), Right(2), Right(3))) shouldBe \"\"\n",
    "        conc(List(Left(\"hello\"), Left(\", \"), Left(\"world!\"))) shouldBe \n",
    "            \"hello, world!\"\n",
    "        conc(List(Right(1), Left(\"hello\"), Right(2), \n",
    "                  Left(\", \"), Left(\"world!\"), Right(5))) shouldBe \n",
    "            \"hello, world!\""
   ]
  },
  {
   "cell_type": "markdown",
   "metadata": {},
   "source": [
    "Recall the definition of the [`Either[A, B]`](https://www.scala-lang.org/api/current/scala/util/Either.html) algebraic data type in the Scala API. "
   ]
  },
  {
   "cell_type": "markdown",
   "metadata": {},
   "source": [
    "The function does not need to be tail-recursive."
   ]
  },
  {
   "cell_type": "markdown",
   "metadata": {
    "jp-MarkdownHeadingCollapsed": true,
    "tags": []
   },
   "source": [
    "###### Solution"
   ]
  },
  {
   "cell_type": "code",
   "execution_count": null,
   "metadata": {},
   "outputs": [],
   "source": [
    "def concatenate(list: List[Either[String, Int]]): String =\n",
    "    list match\n",
    "        case Nil => \n",
    "            \"\"\n",
    "        case Left(s1) :: tail => \n",
    "            s1 ++ concatenate(tail)\n",
    "        case Right(_) :: tail => \n",
    "            concatenate(tail)"
   ]
  },
  {
   "cell_type": "markdown",
   "metadata": {
    "tags": []
   },
   "source": [
    "###### Your solution"
   ]
  },
  {
   "cell_type": "code",
   "execution_count": null,
   "metadata": {},
   "outputs": [],
   "source": []
  },
  {
   "cell_type": "code",
   "execution_count": null,
   "metadata": {},
   "outputs": [],
   "source": [
    "run(TestConcatenate(concatenate))"
   ]
  },
  {
   "cell_type": "markdown",
   "metadata": {},
   "source": [
    "# Binary trees"
   ]
  },
  {
   "cell_type": "markdown",
   "metadata": {},
   "source": [
    "The following problems deal with functions on binary trees. This data structure can be defined as the following algebraic data type:"
   ]
  },
  {
   "cell_type": "code",
   "execution_count": 28,
   "metadata": {},
   "outputs": [
    {
     "data": {
      "text/plain": [
       "defined \u001b[32mobject\u001b[39m \u001b[36mStd\u001b[39m"
      ]
     },
     "execution_count": 28,
     "metadata": {},
     "output_type": "execute_result"
    }
   ],
   "source": [
    "object Std: \n",
    "    // type List[A] = 1 + A * List[A]\n",
    "    enum List[A]: \n",
    "        case Nil() \n",
    "        case ::(head: A, tail: List[A])"
   ]
  },
  {
   "cell_type": "code",
   "execution_count": 30,
   "metadata": {},
   "outputs": [
    {
     "data": {
      "text/plain": [
       "defined \u001b[32mclass\u001b[39m \u001b[36mTree\u001b[39m\n",
       "\u001b[32mimport \u001b[39m\u001b[36mTree.*\n",
       "\u001b[39m"
      ]
     },
     "execution_count": 30,
     "metadata": {},
     "output_type": "execute_result"
    }
   ],
   "source": [
    "// type Tree[A] = 1 + Tree[A] * A * Tree[A]\n",
    "\n",
    "enum Tree[A]:\n",
    "    case Empty()\n",
    "    case Node(izqdo: Tree[A], root: A, dcho: Tree[A])\n",
    "\n",
    "import Tree.*"
   ]
  },
  {
   "cell_type": "markdown",
   "metadata": {},
   "source": [
    "         1\n",
    "       /   \\\n",
    "      2     3 \n",
    "      \\   \n",
    "       4"
   ]
  },
  {
   "cell_type": "code",
   "execution_count": 31,
   "metadata": {},
   "outputs": [
    {
     "data": {
      "text/plain": [
       "\u001b[36mt\u001b[39m: \u001b[32mTree\u001b[39m[\u001b[32mInt\u001b[39m] = \u001b[33mNode\u001b[39m(\n",
       "  izqdo = \u001b[33mNode\u001b[39m(\n",
       "    izqdo = Empty(),\n",
       "    root = \u001b[32m2\u001b[39m,\n",
       "    dcho = \u001b[33mNode\u001b[39m(izqdo = Empty(), root = \u001b[32m4\u001b[39m, dcho = Empty())\n",
       "  ),\n",
       "  root = \u001b[32m1\u001b[39m,\n",
       "  dcho = \u001b[33mNode\u001b[39m(izqdo = Empty(), root = \u001b[32m3\u001b[39m, dcho = Empty())\n",
       ")"
      ]
     },
     "execution_count": 31,
     "metadata": {},
     "output_type": "execute_result"
    }
   ],
   "source": [
    "val t: Tree[Int] = \n",
    "    Node(\n",
    "        Node(Empty(), 2, Node(Empty(), 4, Empty())),\n",
    "        1, \n",
    "        Node(Empty(), 3, Empty()))"
   ]
  },
  {
   "cell_type": "code",
   "execution_count": 16,
   "metadata": {},
   "outputs": [
    {
     "data": {
      "text/plain": [
       "defined \u001b[32mclass\u001b[39m \u001b[36mTree\u001b[39m\n",
       "defined \u001b[32mobject\u001b[39m \u001b[36mTree\u001b[39m"
      ]
     },
     "execution_count": 16,
     "metadata": {},
     "output_type": "execute_result"
    }
   ],
   "source": [
    "// type Tree[A] = 1 + Tree[A] * A * Tree[A]\n",
    "\n",
    "enum Tree[A]:\n",
    "    case Empty()\n",
    "    case Node(left: Tree[A], root: A, right: Tree[A])\n",
    "\n",
    "object Tree:\n",
    "    \n",
    "    def void[A]: Tree[A] = \n",
    "        Empty()\n",
    "    \n",
    "    def leaf[A](a: A): Node[A] = \n",
    "        Node(Empty(), a, Empty())\n",
    "    \n",
    "    def right[A](a: A, tree: Tree[A]): Node[A] = \n",
    "        Node(Empty(), a, tree)\n",
    "    \n",
    "    def left[A](tree: Tree[A], a: A): Node[A] = \n",
    "        Node(tree, a, Empty())\n",
    "    \n",
    "    def node[A](left: Tree[A], a: A, right: Tree[A]): Node[A] = \n",
    "        Node(left, a, right)"
   ]
  },
  {
   "cell_type": "markdown",
   "metadata": {},
   "source": [
    "The companion object defines some smart constructors that will allow us to write test cases more easily."
   ]
  },
  {
   "cell_type": "code",
   "execution_count": 17,
   "metadata": {},
   "outputs": [
    {
     "data": {
      "text/plain": [
       "\u001b[32mimport \u001b[39m\u001b[36mTree._\n",
       "\u001b[39m"
      ]
     },
     "execution_count": 17,
     "metadata": {},
     "output_type": "execute_result"
    }
   ],
   "source": [
    "import Tree._"
   ]
  },
  {
   "cell_type": "code",
   "execution_count": 18,
   "metadata": {},
   "outputs": [
    {
     "data": {
      "text/plain": [
       "\u001b[36mt\u001b[39m: \u001b[32mTree\u001b[39m[\u001b[32mInt\u001b[39m] = \u001b[33mNode\u001b[39m(\n",
       "  left = \u001b[33mNode\u001b[39m(\n",
       "    left = Empty(),\n",
       "    root = \u001b[32m2\u001b[39m,\n",
       "    right = \u001b[33mNode\u001b[39m(left = Empty(), root = \u001b[32m4\u001b[39m, right = Empty())\n",
       "  ),\n",
       "  root = \u001b[32m1\u001b[39m,\n",
       "  right = \u001b[33mNode\u001b[39m(left = Empty(), root = \u001b[32m3\u001b[39m, right = Empty())\n",
       ")"
      ]
     },
     "execution_count": 18,
     "metadata": {},
     "output_type": "execute_result"
    }
   ],
   "source": [
    "val t: Tree[Int] = \n",
    "    Node(\n",
    "        right(2, leaf(4)),\n",
    "        1, \n",
    "        leaf(3))"
   ]
  },
  {
   "cell_type": "code",
   "execution_count": 34,
   "metadata": {},
   "outputs": [
    {
     "data": {
      "text/plain": [
       "\u001b[36mt\u001b[39m: \u001b[32mTree\u001b[39m[\u001b[32mInt\u001b[39m] = \u001b[33mNode\u001b[39m(\n",
       "  left = \u001b[33mNode\u001b[39m(\n",
       "    left = Empty(),\n",
       "    root = \u001b[32m2\u001b[39m,\n",
       "    right = \u001b[33mNode\u001b[39m(left = Empty(), root = \u001b[32m4\u001b[39m, right = Empty())\n",
       "  ),\n",
       "  root = \u001b[32m1\u001b[39m,\n",
       "  right = \u001b[33mNode\u001b[39m(left = Empty(), root = \u001b[32m3\u001b[39m, right = Empty())\n",
       ")"
      ]
     },
     "execution_count": 34,
     "metadata": {},
     "output_type": "execute_result"
    }
   ],
   "source": [
    "val t: Tree[Int] = \n",
    "    node(\n",
    "        right(2, leaf(4)),\n",
    "        1, \n",
    "        leaf(3))"
   ]
  },
  {
   "cell_type": "markdown",
   "metadata": {},
   "source": [
    "# Problem 10"
   ]
  },
  {
   "cell_type": "markdown",
   "metadata": {},
   "source": [
    "Create a function that computes the number of nodes a tree."
   ]
  },
  {
   "cell_type": "code",
   "execution_count": 35,
   "metadata": {},
   "outputs": [
    {
     "data": {
      "text/plain": [
       "defined \u001b[32mclass\u001b[39m \u001b[36mTestTreeNumNodes\u001b[39m"
      ]
     },
     "execution_count": 35,
     "metadata": {},
     "output_type": "execute_result"
    }
   ],
   "source": [
    "class TestTreeNumNodes(\n",
    "    numNodes: Tree[Int] => Int\n",
    ") extends AnyFlatSpec with should.Matchers:\n",
    "    \n",
    "    \"concatenate\" should \"work\" in:\n",
    "        numNodes(void) shouldBe 0\n",
    "        numNodes(leaf(1)) shouldBe 1\n",
    "        numNodes(left(leaf(1), 2)) shouldBe 2\n",
    "        numNodes(node(leaf(1), 2, leaf(3))) shouldBe 3"
   ]
  },
  {
   "cell_type": "code",
   "execution_count": 37,
   "metadata": {},
   "outputs": [
    {
     "data": {
      "text/plain": [
       "defined \u001b[32mclass\u001b[39m \u001b[36mTestTreeNumNodes\u001b[39m"
      ]
     },
     "execution_count": 37,
     "metadata": {},
     "output_type": "execute_result"
    }
   ],
   "source": [
    "class TestTreeNumNodes(\n",
    "    numNodes: Tree[Char] => Int\n",
    ") extends AnyFlatSpec with should.Matchers:\n",
    "    \n",
    "    \"concatenate\" should \"work\" in:\n",
    "        numNodes(void) shouldBe 0\n",
    "        numNodes(leaf('a')) shouldBe 1\n",
    "        numNodes(left(leaf('b'), 'c')) shouldBe 2\n",
    "        numNodes(node(leaf('a'), 'n', leaf('m'))) shouldBe 3"
   ]
  },
  {
   "cell_type": "markdown",
   "metadata": {
    "jp-MarkdownHeadingCollapsed": true,
    "tags": []
   },
   "source": [
    "###### Solution"
   ]
  },
  {
   "cell_type": "code",
   "execution_count": null,
   "metadata": {},
   "outputs": [],
   "source": [
    "def numNodes[A](tree: Tree[A]): Int = \n",
    "    tree match\n",
    "        case Empty() => 0\n",
    "        case Node(left, root, right) => \n",
    "            1 + numNodes(left) + numNodes(right)"
   ]
  },
  {
   "cell_type": "markdown",
   "metadata": {
    "tags": []
   },
   "source": [
    "###### Your solution"
   ]
  },
  {
   "cell_type": "code",
   "execution_count": 41,
   "metadata": {},
   "outputs": [
    {
     "data": {
      "text/plain": [
       "defined \u001b[32mfunction\u001b[39m \u001b[36mnumNodes\u001b[39m"
      ]
     },
     "execution_count": 41,
     "metadata": {},
     "output_type": "execute_result"
    }
   ],
   "source": [
    "def numNodes[A](t: Tree[A]): Int = \n",
    "    t match \n",
    "        case Empty() => 0 : Int \n",
    "        case Node(left, root, right) => \n",
    "            val leftSol: Int = numNodes(left) \n",
    "            val rightSol: Int = numNodes(right)\n",
    "            leftSol + rightSol + 1 : Int "
   ]
  },
  {
   "cell_type": "code",
   "execution_count": 43,
   "metadata": {},
   "outputs": [
    {
     "data": {
      "text/plain": [
       "defined \u001b[32mfunction\u001b[39m \u001b[36mrecursionTemplate\u001b[39m"
      ]
     },
     "execution_count": 43,
     "metadata": {},
     "output_type": "execute_result"
    }
   ],
   "source": [
    "def recursionTemplate[A, B](t: Tree[A]): B = \n",
    "    t match \n",
    "        case Empty() => ??? : B \n",
    "        case Node(left, root, right) => \n",
    "            val leftSol: B = recursionTemplate(left) \n",
    "            val rightSol: B = recursionTemplate(right)\n",
    "            ??? : B // ???(root, leftSol, rightSol)"
   ]
  },
  {
   "cell_type": "code",
   "execution_count": 42,
   "metadata": {},
   "outputs": [
    {
     "name": "stdout",
     "output_type": "stream",
     "text": [
      "\u001b[32mcell37$Helper$TestTreeNumNodes:\u001b[0m\n",
      "\u001b[32mconcatenate\u001b[0m\n",
      "\u001b[32m- should work\u001b[0m\n"
     ]
    }
   ],
   "source": [
    "run(TestTreeNumNodes(numNodes))"
   ]
  },
  {
   "cell_type": "markdown",
   "metadata": {},
   "source": [
    "# Problem 11"
   ]
  },
  {
   "cell_type": "markdown",
   "metadata": {},
   "source": [
    "Create a function that calculates the _height_ of a tree, which is defined as the depth of its deepest node (the depth of a node, in turn, is the number of edges from that node to the root of the tree). An empty tree doesn't have any nodes, so it doesn't have height either. "
   ]
  },
  {
   "cell_type": "code",
   "execution_count": null,
   "metadata": {},
   "outputs": [],
   "source": [
    "class TestTreeHeight(\n",
    "    height: Node[Int] => Int\n",
    ") extends AnyFlatSpec with should.Matchers:\n",
    "    \n",
    "    \"concatenate\" should \"work\" in:\n",
    "        height(leaf(1)) shouldBe 0\n",
    "        height(left(leaf(1),2)) shouldBe 1\n",
    "        height(node(leaf(1), 2, leaf(3))) shouldBe 1\n",
    "        height(left(left(leaf(3),2),1)) shouldBe 2"
   ]
  },
  {
   "cell_type": "markdown",
   "metadata": {},
   "source": [
    "Hint: use the Scala [`max`](https://www.scala-lang.org/api/current/scala/Int.html#max(that:Int):Int) method of the `Int` class to calculate the maximum of two numbers."
   ]
  },
  {
   "cell_type": "markdown",
   "metadata": {
    "jp-MarkdownHeadingCollapsed": true,
    "tags": []
   },
   "source": [
    "###### Solution"
   ]
  },
  {
   "cell_type": "code",
   "execution_count": null,
   "metadata": {},
   "outputs": [],
   "source": [
    "def height[A](tree: Node[A]): Int = \n",
    "    tree match\n",
    "        case Node(Empty(), _, Empty()) => 0\n",
    "        case Node(Empty(), _, right: Node[A]) => \n",
    "            1 + height(right)\n",
    "        case Node(left: Node[A], _, Empty()) => \n",
    "            1 + height(left)\n",
    "        case Node(left: Node[A], _, right: Node[A]) => \n",
    "            1 + height(left) max height(right)"
   ]
  },
  {
   "cell_type": "markdown",
   "metadata": {
    "tags": []
   },
   "source": [
    "###### Your solution"
   ]
  },
  {
   "cell_type": "code",
   "execution_count": null,
   "metadata": {},
   "outputs": [],
   "source": []
  },
  {
   "cell_type": "code",
   "execution_count": null,
   "metadata": {},
   "outputs": [],
   "source": [
    "run(TestTreeHeight(height))"
   ]
  },
  {
   "cell_type": "markdown",
   "metadata": {},
   "source": [
    "# Problem 12"
   ]
  },
  {
   "cell_type": "markdown",
   "metadata": {},
   "source": [
    "A degenerate tree is a tree whose nodes only have a child at most. Create a function that determines whether a tree is degenerate or not."
   ]
  },
  {
   "cell_type": "code",
   "execution_count": null,
   "metadata": {},
   "outputs": [],
   "source": [
    "class TestIsDegenerate(\n",
    "    isDegenerate: Tree[Int] => Boolean\n",
    ") extends AnyFlatSpec with should.Matchers:\n",
    "    \n",
    "    \"isDegenerate\" should \"work\" in:\n",
    "        isDegenerate(void) shouldBe true\n",
    "        isDegenerate(leaf(1)) shouldBe true\n",
    "        isDegenerate(left(leaf(1), 2)) shouldBe true\n",
    "        isDegenerate(right(2, leaf(1)))  shouldBe true\n",
    "        isDegenerate(node(leaf(1), 2, leaf(3))) shouldBe false\n",
    "        isDegenerate(left(left(leaf(3), 2), 1)) shouldBe true\n",
    "        isDegenerate(left(right(2, left(right(4, leaf(5)), 3)),1)) shouldBe true\n",
    "        isDegenerate(left(node(leaf(3), 2, leaf(3)), 1)) shouldBe false"
   ]
  },
  {
   "cell_type": "markdown",
   "metadata": {
    "jp-MarkdownHeadingCollapsed": true,
    "tags": []
   },
   "source": [
    "###### Solution"
   ]
  },
  {
   "cell_type": "code",
   "execution_count": null,
   "metadata": {},
   "outputs": [],
   "source": [
    "def isDegenerate[A](tree: Tree[A]): Boolean = \n",
    "    tree match\n",
    "        case Empty() => \n",
    "            true\n",
    "        case Node(Empty(), _, Empty()) => \n",
    "            true\n",
    "        case Node(left: Node[A], _, right: Node[A]) => \n",
    "            false\n",
    "        case Node(Empty(), _, right: Node[A]) => \n",
    "            isDegenerate(right)\n",
    "        case Node(left: Node[A], _, Empty()) => \n",
    "            isDegenerate(left)"
   ]
  },
  {
   "cell_type": "markdown",
   "metadata": {
    "tags": []
   },
   "source": [
    "###### Your solution"
   ]
  },
  {
   "cell_type": "code",
   "execution_count": null,
   "metadata": {},
   "outputs": [],
   "source": []
  },
  {
   "cell_type": "code",
   "execution_count": null,
   "metadata": {},
   "outputs": [],
   "source": [
    "run(TestIsDegenerate(isDegenerate))"
   ]
  },
  {
   "cell_type": "markdown",
   "metadata": {},
   "source": [
    "# Problem 13"
   ]
  },
  {
   "cell_type": "markdown",
   "metadata": {},
   "source": [
    "Write a function that returns the leaves of a tree. The leafs of any left child must be placed in the list before any leaf from its right sibling. "
   ]
  },
  {
   "cell_type": "code",
   "execution_count": 44,
   "metadata": {},
   "outputs": [
    {
     "data": {
      "text/plain": [
       "defined \u001b[32mclass\u001b[39m \u001b[36mTestLeaves\u001b[39m"
      ]
     },
     "execution_count": 44,
     "metadata": {},
     "output_type": "execute_result"
    }
   ],
   "source": [
    "class TestLeaves(\n",
    "    leaves: Tree[Int] => List[Int]\n",
    ") extends AnyFlatSpec with should.Matchers:\n",
    "    \n",
    "    \"leaves\" should \"work\" in:\n",
    "        leaves(void) shouldBe List()\n",
    "        leaves(leaf(1)) shouldBe List(1)\n",
    "        leaves(left(leaf(1), 2)) shouldBe List(1)\n",
    "        leaves(right(2, leaf(1)))  shouldBe List(1)\n",
    "        leaves(node(leaf(1), 2, leaf(3))) shouldBe List(1,3)\n",
    "        leaves(left(left(leaf(3), 2), 1)) shouldBe List(3)\n",
    "        leaves(left(right(2, left(right(4, leaf(5)), 3)),1)) shouldBe List(5)\n",
    "        leaves(left(node(leaf(3), 2, leaf(3)), 1)) shouldBe List(3,3)\n",
    "        leaves(node(node(leaf(1),2,leaf(3)),4,node(leaf(5),6,leaf(7)))) shouldBe\n",
    "            List(1,3,5,7)"
   ]
  },
  {
   "cell_type": "markdown",
   "metadata": {},
   "source": [
    "Hint: use the [`++`](https://www.scala-lang.org/api/current/scala/collection/immutable/List.html#++[B%3E:A](suffix:scala.collection.IterableOnce[B]):CC[B]) method of the `List` class to concatenate lists."
   ]
  },
  {
   "cell_type": "markdown",
   "metadata": {
    "jp-MarkdownHeadingCollapsed": true,
    "tags": []
   },
   "source": [
    "###### Solution"
   ]
  },
  {
   "cell_type": "code",
   "execution_count": null,
   "metadata": {},
   "outputs": [],
   "source": [
    "def leaves[A](tree: Tree[A]): List[A] = \n",
    "    tree match\n",
    "        case Empty() => \n",
    "            List()\n",
    "        case Node(Empty(), a, Empty()) => \n",
    "            List(a)\n",
    "        case Node(left, _, right) => \n",
    "            leaves(left) ++ leaves(right)"
   ]
  },
  {
   "cell_type": "markdown",
   "metadata": {
    "tags": []
   },
   "source": [
    "###### Your solution"
   ]
  },
  {
   "cell_type": "code",
   "execution_count": 45,
   "metadata": {},
   "outputs": [
    {
     "data": {
      "text/plain": [
       "defined \u001b[32mfunction\u001b[39m \u001b[36mleaves\u001b[39m"
      ]
     },
     "execution_count": 45,
     "metadata": {},
     "output_type": "execute_result"
    }
   ],
   "source": [
    "def leaves[A](t: Tree[A]): List[A] = \n",
    "    ??? "
   ]
  },
  {
   "cell_type": "code",
   "execution_count": 47,
   "metadata": {},
   "outputs": [
    {
     "data": {
      "text/plain": [
       "defined \u001b[32mfunction\u001b[39m \u001b[36mleaves\u001b[39m"
      ]
     },
     "execution_count": 47,
     "metadata": {},
     "output_type": "execute_result"
    }
   ],
   "source": [
    "def leaves[A, B](t: Tree[A]): List[A] = \n",
    "    t match \n",
    "        case Empty() => List() : List[A] \n",
    "        case Node(left, root, right) => \n",
    "            val leftSol: List[A] = leaves(left) \n",
    "            val rightSol: List[A] = leaves(right)\n",
    "            leftSol ++ rightSol : List[A] // ???(root, leftSol, rightSol)"
   ]
  },
  {
   "cell_type": "code",
   "execution_count": 50,
   "metadata": {},
   "outputs": [
    {
     "data": {
      "text/plain": [
       "defined \u001b[32mfunction\u001b[39m \u001b[36mleaves\u001b[39m"
      ]
     },
     "execution_count": 50,
     "metadata": {},
     "output_type": "execute_result"
    }
   ],
   "source": [
    "def leaves[A, B](t: Tree[A]): List[A] = \n",
    "    t match \n",
    "        case Empty() => List() : List[A] \n",
    "        case Node(left, root, right) => \n",
    "            val leftSol: List[A] = leaves(left) \n",
    "            val rightSol: List[A] = leaves(right)\n",
    "            if left == Empty() && right == Empty() then \n",
    "                List(root) \n",
    "            else \n",
    "                leftSol ++ rightSol"
   ]
  },
  {
   "cell_type": "code",
   "execution_count": 53,
   "metadata": {},
   "outputs": [
    {
     "data": {
      "text/plain": [
       "defined \u001b[32mfunction\u001b[39m \u001b[36mleaves\u001b[39m"
      ]
     },
     "execution_count": 53,
     "metadata": {},
     "output_type": "execute_result"
    }
   ],
   "source": [
    "def leaves[A, B](t: Tree[A]): List[A] = \n",
    "    t match \n",
    "        case Empty() => List() : List[A] \n",
    "        case Node(left, root, right) => \n",
    "            if left == Empty() && right == Empty() then \n",
    "                List(root) \n",
    "            else \n",
    "                val leftSol: List[A] = leaves(left) \n",
    "                val rightSol: List[A] = leaves(right)\n",
    "                leftSol ++ rightSol"
   ]
  },
  {
   "cell_type": "code",
   "execution_count": 54,
   "metadata": {},
   "outputs": [
    {
     "data": {
      "text/plain": [
       "defined \u001b[32mfunction\u001b[39m \u001b[36mleaves\u001b[39m"
      ]
     },
     "execution_count": 54,
     "metadata": {},
     "output_type": "execute_result"
    }
   ],
   "source": [
    "def leaves[A, B](t: Tree[A]): List[A] = \n",
    "    t match \n",
    "        case Empty() => List() : List[A] \n",
    "        case Node(left, root, right) => \n",
    "            if left == Empty() && right == Empty() then \n",
    "                List(root) \n",
    "            else \n",
    "                leaves(left) ++ leaves(right)"
   ]
  },
  {
   "cell_type": "code",
   "execution_count": 56,
   "metadata": {},
   "outputs": [
    {
     "data": {
      "text/plain": [
       "defined \u001b[32mfunction\u001b[39m \u001b[36mleaves\u001b[39m"
      ]
     },
     "execution_count": 56,
     "metadata": {},
     "output_type": "execute_result"
    }
   ],
   "source": [
    "def leaves[A, B](t: Tree[A]): List[A] = \n",
    "    t match \n",
    "        case Empty() => List()\n",
    "        case Node(Empty(), root, Empty()) => List(root) \n",
    "        case Node(left, _, right) => leaves(left) ++ leaves(right)"
   ]
  },
  {
   "cell_type": "code",
   "execution_count": 57,
   "metadata": {},
   "outputs": [
    {
     "data": {
      "text/plain": [
       "\u001b[36mres57\u001b[39m: \u001b[32mList\u001b[39m[\u001b[32mInt\u001b[39m] = \u001b[33mList\u001b[39m(\u001b[32m4\u001b[39m)"
      ]
     },
     "execution_count": 57,
     "metadata": {},
     "output_type": "execute_result"
    }
   ],
   "source": [
    "leaves(right(1, leaf(4)))"
   ]
  },
  {
   "cell_type": "code",
   "execution_count": 58,
   "metadata": {},
   "outputs": [
    {
     "name": "stdout",
     "output_type": "stream",
     "text": [
      "\u001b[32mcell44$Helper$TestLeaves:\u001b[0m\n",
      "\u001b[32mleaves\u001b[0m\n",
      "\u001b[32m- should work\u001b[0m\n"
     ]
    }
   ],
   "source": [
    "run(TestLeaves(leaves))"
   ]
  },
  {
   "cell_type": "markdown",
   "metadata": {},
   "source": [
    "# Problem 14"
   ]
  },
  {
   "cell_type": "markdown",
   "metadata": {},
   "source": [
    "This problem deals with [_tree traversals_](https://en.wikipedia.org/wiki/Tree_traversal). "
   ]
  },
  {
   "cell_type": "markdown",
   "metadata": {},
   "source": [
    "Hint: use the [`++`](https://www.scala-lang.org/api/current/scala/collection/immutable/List.html#++[B%3E:A](suffix:scala.collection.IterableOnce[B]):CC[B]) method of the `List` class to concatenate lists."
   ]
  },
  {
   "cell_type": "markdown",
   "metadata": {},
   "source": [
    "#### Part a) Write a function that creates the pre-order of a binary tree."
   ]
  },
  {
   "cell_type": "code",
   "execution_count": 37,
   "metadata": {},
   "outputs": [
    {
     "data": {
      "text/plain": [
       "defined \u001b[32mclass\u001b[39m \u001b[36mTestPreorder\u001b[39m"
      ]
     },
     "execution_count": 37,
     "metadata": {},
     "output_type": "execute_result"
    }
   ],
   "source": [
    "class TestPreorder(\n",
    "    preorder: Tree[Int] => List[Int]\n",
    ") extends AnyFlatSpec with should.Matchers:\n",
    "    \n",
    "    \"preorder\" should \"work\" in:\n",
    "        preorder(void) shouldBe List()\n",
    "        preorder(leaf(1)) shouldBe List(1)\n",
    "        preorder(left(leaf(1), 2)) shouldBe List(2,1)\n",
    "        preorder(right(2, leaf(1)))  shouldBe List(2,1)\n",
    "        preorder(node(leaf(1), 2, leaf(3))) shouldBe List(2,1,3)\n",
    "        preorder(left(left(leaf(3), 2), 1)) shouldBe List(1,2,3)\n",
    "        preorder(node(right(2, left(right(4, leaf(5)), 3)),1, leaf(7))) shouldBe {\n",
    "            val leftSol: List[Int] = List(2,3,4,5)\n",
    "            val rightSol: List[Int] = List(7)\n",
    "            // List(1, 2,3,4,5, 7)\n",
    "            (1 :: List(2,3,4,5)) ++ List(7)\n",
    "            (1 :: leftSol) ++ rightSol\n",
    "        }\n",
    "        preorder(left(node(leaf(3), 2, leaf(4)), 1)) shouldBe \n",
    "            List(1,2,3,4)\n",
    "        preorder(node(node(leaf(1),2,leaf(3)),4,node(leaf(5),6,leaf(7)))) shouldBe\n",
    "            List(4,2,1,3,6,5,7)"
   ]
  },
  {
   "cell_type": "markdown",
   "metadata": {
    "jp-MarkdownHeadingCollapsed": true,
    "tags": []
   },
   "source": [
    "###### Solution"
   ]
  },
  {
   "cell_type": "code",
   "execution_count": null,
   "metadata": {},
   "outputs": [],
   "source": [
    "def preorder[A](tree: Tree[A]): List[A] = \n",
    "    tree match\n",
    "        case Empty() => \n",
    "            List()\n",
    "        case Node(left, a, right) => \n",
    "            a :: (preorder(left) ++ preorder(right))"
   ]
  },
  {
   "cell_type": "markdown",
   "metadata": {
    "tags": []
   },
   "source": [
    "###### Your solution"
   ]
  },
  {
   "cell_type": "code",
   "execution_count": 39,
   "metadata": {},
   "outputs": [
    {
     "ename": "scala.NotImplementedError",
     "evalue": "an implementation is missing",
     "output_type": "error",
     "traceback": [
      "\u001b[31mscala.NotImplementedError: an implementation is missing\u001b[39m",
      "  scala.Predef$.$qmark$qmark$qmark(\u001b[32mPredef.scala\u001b[39m:\u001b[32m344\u001b[39m)",
      "  ammonite.$sess.cell39$Helper.<init>(\u001b[32mcell39.sc\u001b[39m:\u001b[32m1\u001b[39m)",
      "  ammonite.$sess.cell39$.<clinit>(\u001b[32mcell39.sc\u001b[39m:\u001b[32m65120\u001b[39m)"
     ]
    }
   ],
   "source": [
    "val l: [A] => Tree[A] => List[A] = ??? "
   ]
  },
  {
   "cell_type": "code",
   "execution_count": 40,
   "metadata": {},
   "outputs": [
    {
     "data": {
      "text/plain": [
       "defined \u001b[32mfunction\u001b[39m \u001b[36mpreorder\u001b[39m"
      ]
     },
     "execution_count": 40,
     "metadata": {},
     "output_type": "execute_result"
    }
   ],
   "source": [
    "def preorder[A](t: Tree[A]): List[A] = \n",
    "    ??? "
   ]
  },
  {
   "cell_type": "code",
   "execution_count": 42,
   "metadata": {},
   "outputs": [
    {
     "data": {
      "text/plain": [
       "defined \u001b[32mfunction\u001b[39m \u001b[36mpreorder\u001b[39m"
      ]
     },
     "execution_count": 42,
     "metadata": {},
     "output_type": "execute_result"
    }
   ],
   "source": [
    "def preorder[A](t: Tree[A]): List[A] = \n",
    "    t match \n",
    "        case Empty() => List() : List[A] \n",
    "        case Node(left, root, right) => \n",
    "            val leftSol: List[A] = preorder(left) \n",
    "            val rightSol: List[A] = preorder(right)\n",
    "            ??? : List[A] // ???(root, leftSol, rightSol)"
   ]
  },
  {
   "cell_type": "code",
   "execution_count": 42,
   "metadata": {},
   "outputs": [
    {
     "data": {
      "text/plain": [
       "defined \u001b[32mfunction\u001b[39m \u001b[36mpreorder\u001b[39m"
      ]
     },
     "execution_count": 42,
     "metadata": {},
     "output_type": "execute_result"
    }
   ],
   "source": [
    "def preorder[A](t: Tree[A]): List[A] = \n",
    "    t match \n",
    "        case Empty() => List() : List[A] \n",
    "        case Node(left, root, right) => \n",
    "            val leftSol: List[A] = preorder(left) \n",
    "            val rightSol: List[A] = preorder(right)\n",
    "            ??? : List[A] // ???(root, leftSol, rightSol)"
   ]
  },
  {
   "cell_type": "code",
   "execution_count": 41,
   "metadata": {},
   "outputs": [
    {
     "data": {
      "text/plain": [
       "defined \u001b[32mfunction\u001b[39m \u001b[36mpreorder\u001b[39m"
      ]
     },
     "execution_count": 41,
     "metadata": {},
     "output_type": "execute_result"
    }
   ],
   "source": [
    "def preorder[A](t: Tree[A]): List[A] = \n",
    "    t match \n",
    "        case Empty() => ??? : List[A] \n",
    "        case Node(left, root, right) => \n",
    "            val leftSol: List[A] = preorder(left) \n",
    "            val rightSol: List[A] = preorder(right)\n",
    "            ??? : List[A] // ???(root, leftSol, rightSol)"
   ]
  },
  {
   "cell_type": "code",
   "execution_count": 35,
   "metadata": {},
   "outputs": [
    {
     "data": {
      "text/plain": [
       "\u001b[36mres35_0\u001b[39m: \u001b[32mBoolean\u001b[39m = \u001b[32mtrue\u001b[39m\n",
       "\u001b[36mres35_1\u001b[39m: \u001b[32mBoolean\u001b[39m = \u001b[32mtrue\u001b[39m\n",
       "\u001b[36mres35_2\u001b[39m: \u001b[32mBoolean\u001b[39m = \u001b[32mtrue\u001b[39m\n",
       "\u001b[36mres35_3\u001b[39m: \u001b[32mBoolean\u001b[39m = \u001b[32mtrue\u001b[39m\n",
       "\u001b[36mres35_4\u001b[39m: \u001b[32mBoolean\u001b[39m = \u001b[32mtrue\u001b[39m"
      ]
     },
     "execution_count": 35,
     "metadata": {},
     "output_type": "execute_result"
    }
   ],
   "source": [
    "List(1,2,3) ++ List(4,5) == List(1,2,3,4,5)\n",
    "0 :: List(1,2,3) == List(0,1,2,3)\n",
    "List(4,5,6) :+ 7 == List(4,5,6,7)\n",
    "List(4,5,6).appended(7) == List(4,5,6,7)\n",
    "List(4,5,6) ++ List(7) == List(4,5,6,7)"
   ]
  },
  {
   "cell_type": "code",
   "execution_count": 43,
   "metadata": {},
   "outputs": [
    {
     "data": {
      "text/plain": [
       "defined \u001b[32mfunction\u001b[39m \u001b[36mrecursionTemplate\u001b[39m"
      ]
     },
     "execution_count": 43,
     "metadata": {},
     "output_type": "execute_result"
    }
   ],
   "source": [
    "def recursionTemplate[A, B](t: Tree[A]): B = \n",
    "    t match \n",
    "        case Empty() => ??? : B \n",
    "        case Node(left, root, right) => \n",
    "            val leftSol: B = recursionTemplate(left) \n",
    "            val rightSol: B = recursionTemplate(right)\n",
    "            ??? : B // ???(root, leftSol, rightSol)"
   ]
  },
  {
   "cell_type": "code",
   "execution_count": null,
   "metadata": {},
   "outputs": [],
   "source": [
    "run(TestPreorder(preorder))"
   ]
  },
  {
   "cell_type": "markdown",
   "metadata": {},
   "source": [
    "#### Part b) Write a function that returns the in-order of a binary tree"
   ]
  },
  {
   "cell_type": "code",
   "execution_count": 43,
   "metadata": {},
   "outputs": [
    {
     "data": {
      "text/plain": [
       "defined \u001b[32mclass\u001b[39m \u001b[36mTestInorder\u001b[39m"
      ]
     },
     "execution_count": 43,
     "metadata": {},
     "output_type": "execute_result"
    }
   ],
   "source": [
    "class TestInorder(\n",
    "    inorder: Tree[Int] => List[Int]\n",
    ") extends AnyFlatSpec with should.Matchers:\n",
    "    \n",
    "    \"in-order\" should \"work\" in:\n",
    "        inorder(void) shouldBe List()\n",
    "        inorder(leaf(1)) shouldBe List(1)\n",
    "        inorder(left(leaf(1), 2)) shouldBe List(1,2)\n",
    "        inorder(right(2, leaf(1)))  shouldBe List(2,1)\n",
    "        inorder(node(leaf(1), 2, leaf(3))) shouldBe List(1,2,3)\n",
    "        inorder(left(left(leaf(3), 2), 1)) shouldBe List(3,2,1)\n",
    "        inorder(node(right(2, left(right(4, leaf(5)), 3)),1, leaf(7))) shouldBe \n",
    "            val leftInOrder = List(2,4,5,3)\n",
    "            val rightInOrder = List(7)\n",
    "            val root = 1\n",
    "            // List(2,4,5,3, 1, 7)\n",
    "            // List(2,4,5,3) ++ List(1) ++ List(7)\n",
    "            (leftInOrder :+   1) ++  rightInOrder\n",
    "            leftInOrder ++ (1 :: rightInOrder)\n",
    "        inorder(left(node(leaf(3), 2, leaf(4)), 1)) shouldBe \n",
    "            List(3,2,4,1)\n",
    "        inorder(node(node(leaf(1),2,leaf(3)),4,node(leaf(5),6,leaf(7)))) shouldBe\n",
    "            List(1,2,3,4,5,6,7)"
   ]
  },
  {
   "cell_type": "code",
   "execution_count": 44,
   "metadata": {},
   "outputs": [
    {
     "data": {
      "text/plain": [
       "\u001b[36mres44\u001b[39m: \u001b[32mList\u001b[39m[\u001b[32mInt\u001b[39m] = \u001b[33mList\u001b[39m(\u001b[32m1\u001b[39m, \u001b[32m2\u001b[39m, \u001b[32m3\u001b[39m, \u001b[32m4\u001b[39m)"
      ]
     },
     "execution_count": 44,
     "metadata": {},
     "output_type": "execute_result"
    }
   ],
   "source": [
    "List(1,2,3) ++ List(4)"
   ]
  },
  {
   "cell_type": "markdown",
   "metadata": {
    "jp-MarkdownHeadingCollapsed": true,
    "tags": []
   },
   "source": [
    "###### Solution"
   ]
  },
  {
   "cell_type": "code",
   "execution_count": null,
   "metadata": {},
   "outputs": [],
   "source": [
    "def inorder[A](tree: Tree[A]): List[A] = \n",
    "    tree match\n",
    "        case Empty() => \n",
    "            List()\n",
    "        case Node(left, a, right) => \n",
    "            inorder(left) ++ (a :: inorder(right))"
   ]
  },
  {
   "cell_type": "markdown",
   "metadata": {
    "tags": []
   },
   "source": [
    "###### Your solution"
   ]
  },
  {
   "cell_type": "code",
   "execution_count": null,
   "metadata": {},
   "outputs": [],
   "source": []
  },
  {
   "cell_type": "code",
   "execution_count": null,
   "metadata": {},
   "outputs": [],
   "source": [
    "run(TestInorder(inorder))"
   ]
  },
  {
   "cell_type": "markdown",
   "metadata": {},
   "source": [
    "#### Part c) Write a function that returns post-order of a binary tree"
   ]
  },
  {
   "cell_type": "code",
   "execution_count": null,
   "metadata": {},
   "outputs": [],
   "source": [
    "class TestPostorder(\n",
    "    postorder: Tree[Int] => List[Int]\n",
    ") extends AnyFlatSpec with should.Matchers:\n",
    "    \n",
    "    \"postorder\" should \"work\" in:\n",
    "        postorder(void) shouldBe List()\n",
    "        postorder(leaf(1)) shouldBe List(1)\n",
    "        postorder(left(leaf(1), 2)) shouldBe List(1,2)\n",
    "        postorder(right(2, leaf(1)))  shouldBe List(1,2)\n",
    "        postorder(node(leaf(1), 2, leaf(3))) shouldBe List(1,3,2)\n",
    "        postorder(left(left(leaf(3), 2), 1)) shouldBe List(3,2,1)\n",
    "        postorder(left(right(2, left(right(4, leaf(5)), 3)),1)) shouldBe \n",
    "            List(5,4,3,2,1)\n",
    "        postorder(left(node(leaf(3), 2, leaf(4)), 1)) shouldBe \n",
    "            List(3,4,2,1)\n",
    "        postorder(node(node(leaf(1),2,leaf(3)),4,node(leaf(5),6,leaf(7)))) shouldBe\n",
    "            List(1,3,2,5,7,6,4)"
   ]
  },
  {
   "cell_type": "markdown",
   "metadata": {
    "jp-MarkdownHeadingCollapsed": true,
    "tags": []
   },
   "source": [
    "###### Solution"
   ]
  },
  {
   "cell_type": "code",
   "execution_count": null,
   "metadata": {},
   "outputs": [],
   "source": [
    "def postorder[A](tree: Tree[A]): List[A] = \n",
    "    tree match\n",
    "        case Empty() => \n",
    "            List()\n",
    "        case Node(left, a, right) => \n",
    "            (postorder(left) ++ postorder(right)) appended a"
   ]
  },
  {
   "cell_type": "markdown",
   "metadata": {
    "tags": []
   },
   "source": [
    "###### Your solution"
   ]
  },
  {
   "cell_type": "code",
   "execution_count": null,
   "metadata": {},
   "outputs": [],
   "source": []
  },
  {
   "cell_type": "code",
   "execution_count": null,
   "metadata": {},
   "outputs": [],
   "source": [
    "run(TestPostorder(postorder))"
   ]
  },
  {
   "cell_type": "markdown",
   "metadata": {},
   "source": [
    "# Problem 15"
   ]
  },
  {
   "cell_type": "markdown",
   "metadata": {},
   "source": [
    "Given a tree whose nodes are tuples of integers, write a function that returns a tree of the same shape that contains the sum of the numbers for each node."
   ]
  },
  {
   "cell_type": "code",
   "execution_count": 20,
   "metadata": {},
   "outputs": [
    {
     "data": {
      "text/plain": [
       "defined \u001b[32mclass\u001b[39m \u001b[36mTestSum\u001b[39m"
      ]
     },
     "execution_count": 20,
     "metadata": {},
     "output_type": "execute_result"
    }
   ],
   "source": [
    "class TestSum(\n",
    "    sum: Tree[(Int, Int)] => Tree[Int]\n",
    ") extends AnyFlatSpec with should.Matchers:\n",
    "    \n",
    "    \"sum\" should \"work\" in:\n",
    "        sum(Empty()) shouldBe \n",
    "            Empty()\n",
    "        sum(void) shouldBe \n",
    "            void\n",
    "        sum(leaf((1,1))) shouldBe \n",
    "            leaf(2)\n",
    "        sum(Node(Empty(), (1,1), Empty())) shouldBe \n",
    "            leaf(2)\n",
    "        sum(left(leaf((1,3)), (2,5))) shouldBe \n",
    "            left(leaf(4), 7)\n",
    "        sum(Node(Empty(), (0,2), Node(Empty(), (-1,2), Empty()))) shouldBe { \n",
    "            val root = (0,2)\n",
    "            val leftSol: Tree[Int] = Empty()\n",
    "            val rightSol: Tree[Int] = Node(Empty(), 1, Empty())\n",
    "            // Node(Empty(), 2, Node(Empty(), 1, Empty()))\n",
    "            Node(leftSol, root._1+root._2, rightSol)\n",
    "        }\n",
    "        sum(right((0,2), leaf((-1,2)))) shouldBe \n",
    "            // right(2, leaf(1))\n",
    "            right(2, leaf(1))\n",
    "        sum(left(left(leaf((-3,6)), (2,0)), (-5,6))) shouldBe \n",
    "            left(left(leaf(3), 2), 1)"
   ]
  },
  {
   "cell_type": "markdown",
   "metadata": {
    "jp-MarkdownHeadingCollapsed": true,
    "tags": []
   },
   "source": [
    "###### Solution"
   ]
  },
  {
   "cell_type": "code",
   "execution_count": null,
   "metadata": {},
   "outputs": [],
   "source": [
    "def sum(tree: Tree[(Int, Int)]): Tree[Int] = \n",
    "    tree match\n",
    "        case Empty() => \n",
    "            Empty()\n",
    "        case Node(left, (i1, i2), right) => \n",
    "            Node(sum(left), i1 + i2, sum(right))"
   ]
  },
  {
   "cell_type": "markdown",
   "metadata": {
    "tags": []
   },
   "source": [
    "###### Your solution"
   ]
  },
  {
   "cell_type": "code",
   "execution_count": 8,
   "metadata": {},
   "outputs": [
    {
     "ename": "scala.NotImplementedError",
     "evalue": "an implementation is missing",
     "output_type": "error",
     "traceback": [
      "\u001b[31mscala.NotImplementedError: an implementation is missing\u001b[39m",
      "  scala.Predef$.$qmark$qmark$qmark(\u001b[32mPredef.scala\u001b[39m:\u001b[32m344\u001b[39m)",
      "  ammonite.$sess.cell8$Helper.<init>(\u001b[32mcell8.sc\u001b[39m:\u001b[32m2\u001b[39m)",
      "  ammonite.$sess.cell8$.<clinit>(\u001b[32mcell8.sc\u001b[39m:\u001b[32m65181\u001b[39m)"
     ]
    }
   ],
   "source": [
    "val sum: Tree[(Int, Int)] => Tree[Int] = \n",
    "    ??? "
   ]
  },
  {
   "cell_type": "code",
   "execution_count": 9,
   "metadata": {},
   "outputs": [
    {
     "data": {
      "text/plain": [
       "defined \u001b[32mfunction\u001b[39m \u001b[36msum\u001b[39m"
      ]
     },
     "execution_count": 9,
     "metadata": {},
     "output_type": "execute_result"
    }
   ],
   "source": [
    "def sum(t: Tree[(Int, Int)]): Tree[Int] = \n",
    "    ??? "
   ]
  },
  {
   "cell_type": "code",
   "execution_count": 21,
   "metadata": {},
   "outputs": [
    {
     "data": {
      "text/plain": [
       "defined \u001b[32mfunction\u001b[39m \u001b[36msum\u001b[39m"
      ]
     },
     "execution_count": 21,
     "metadata": {},
     "output_type": "execute_result"
    }
   ],
   "source": [
    "def sum(t: Tree[(Int, Int)]): Tree[Int] = \n",
    "    t match \n",
    "        case Empty() => Empty() : Tree[Int] \n",
    "        case Node(left, root, right) => \n",
    "            val leftSol: Tree[Int] = sum(left) \n",
    "            val rightSol: Tree[Int] = sum(right)\n",
    "            Node(leftSol, root._1 + root._2, rightSol) : Tree[Int] // ???(root, leftSol, rightSol)"
   ]
  },
  {
   "cell_type": "code",
   "execution_count": 25,
   "metadata": {},
   "outputs": [
    {
     "data": {
      "text/plain": [
       "defined \u001b[32mfunction\u001b[39m \u001b[36msum\u001b[39m"
      ]
     },
     "execution_count": 25,
     "metadata": {},
     "output_type": "execute_result"
    }
   ],
   "source": [
    "def sum(t: Tree[(Int, Int)]): Tree[Int] = \n",
    "    t match \n",
    "        case Empty() => Empty()\n",
    "        case Node(left, (a, b), right) => \n",
    "            Node(sum(left), a+b, sum(right))"
   ]
  },
  {
   "cell_type": "code",
   "execution_count": 24,
   "metadata": {},
   "outputs": [
    {
     "data": {
      "text/plain": [
       "defined \u001b[32mfunction\u001b[39m \u001b[36msum\u001b[39m"
      ]
     },
     "execution_count": 24,
     "metadata": {},
     "output_type": "execute_result"
    }
   ],
   "source": [
    "def sum(t: Tree[(Int, Int)]): Tree[Int] = \n",
    "    t match \n",
    "        case Empty() => Empty() : Tree[Int] \n",
    "        case Node(left, (a: Int, b: Int), right) => \n",
    "            val leftSol: Tree[Int] = sum(left) \n",
    "            val rightSol: Tree[Int] = sum(right)\n",
    "            Node(leftSol, a+b, rightSol) : Tree[Int] // ???(root, leftSol, rightSol)"
   ]
  },
  {
   "cell_type": "code",
   "execution_count": 27,
   "metadata": {},
   "outputs": [
    {
     "data": {
      "text/plain": [
       "defined \u001b[32mfunction\u001b[39m \u001b[36msum\u001b[39m"
      ]
     },
     "execution_count": 27,
     "metadata": {},
     "output_type": "execute_result"
    }
   ],
   "source": [
    "def sum(t: Tree[(Int, Int)]): Tree[Int] = \n",
    "    t match \n",
    "        case Empty() => Empty() : Tree[Int] \n",
    "        case Node(left, root, right) => \n",
    "            root match \n",
    "                case (a, b) => \n",
    "                    val leftSol: Tree[Int] = sum(left) \n",
    "                    val rightSol: Tree[Int] = sum(right)\n",
    "                    Node(leftSol, a+b, rightSol) : Tree[Int] // ???(root, leftSol, rightSol)"
   ]
  },
  {
   "cell_type": "code",
   "execution_count": 26,
   "metadata": {},
   "outputs": [
    {
     "data": {
      "text/plain": [
       "defined \u001b[32mfunction\u001b[39m \u001b[36msum\u001b[39m"
      ]
     },
     "execution_count": 26,
     "metadata": {},
     "output_type": "execute_result"
    }
   ],
   "source": [
    "def sum(t: Tree[(Int, Int)]): Tree[Int] = \n",
    "    t match \n",
    "        case Empty() => Empty() : Tree[Int] \n",
    "        case Node(left, root, right) => \n",
    "            val leftSol: Tree[Int] = sum(left) \n",
    "            val rightSol: Tree[Int] = sum(right)\n",
    "            Node(leftSol, root._1+root._2, rightSol) : Tree[Int] // ???(root, leftSol, rightSol)"
   ]
  },
  {
   "cell_type": "code",
   "execution_count": 11,
   "metadata": {},
   "outputs": [
    {
     "data": {
      "text/plain": [
       "defined \u001b[32mfunction\u001b[39m \u001b[36msum\u001b[39m"
      ]
     },
     "execution_count": 11,
     "metadata": {},
     "output_type": "execute_result"
    }
   ],
   "source": [
    "def sum(t: Tree[(Int, Int)]): Tree[Int] = \n",
    "    t match \n",
    "        case Empty() => ??? : Tree[Int] \n",
    "        case Node(left, root, right) => \n",
    "            val leftSol: Tree[Int] = sum(left) \n",
    "            val rightSol: Tree[Int] = sum(right)\n",
    "            ??? : Tree[Int] // ???(root, leftSol, rightSol)"
   ]
  },
  {
   "cell_type": "code",
   "execution_count": 43,
   "metadata": {},
   "outputs": [
    {
     "data": {
      "text/plain": [
       "defined \u001b[32mfunction\u001b[39m \u001b[36mrecursionTemplate\u001b[39m"
      ]
     },
     "execution_count": 43,
     "metadata": {},
     "output_type": "execute_result"
    }
   ],
   "source": [
    "def recursionTemplate[A, B](t: Tree[A]): B = \n",
    "    t match \n",
    "        case Empty() => ??? : B \n",
    "        case Node(left, root, right) => \n",
    "            val leftSol: B = recursionTemplate(left) \n",
    "            val rightSol: B = recursionTemplate(right)\n",
    "            ??? : B // ???(root, leftSol, rightSol)"
   ]
  },
  {
   "cell_type": "code",
   "execution_count": null,
   "metadata": {},
   "outputs": [],
   "source": []
  },
  {
   "cell_type": "code",
   "execution_count": 22,
   "metadata": {},
   "outputs": [
    {
     "name": "stdout",
     "output_type": "stream",
     "text": [
      "\u001b[32mcell20$Helper$TestSum:\u001b[0m\n",
      "\u001b[32msum\u001b[0m\n",
      "\u001b[32m- should work\u001b[0m\n"
     ]
    }
   ],
   "source": [
    "run(TestSum(sum))"
   ]
  },
  {
   "cell_type": "code",
   "execution_count": null,
   "metadata": {},
   "outputs": [],
   "source": []
  }
 ],
 "metadata": {
  "kernelspec": {
   "display_name": "Scala 3.3",
   "language": "scala",
   "name": "scala33"
  },
  "language_info": {
   "codemirror_mode": "text/x-scala",
   "file_extension": ".sc",
   "mimetype": "text/x-scala",
   "name": "scala",
   "nbconvert_exporter": "script",
   "version": "2.13.12"
  }
 },
 "nbformat": 4,
 "nbformat_minor": 4
}
