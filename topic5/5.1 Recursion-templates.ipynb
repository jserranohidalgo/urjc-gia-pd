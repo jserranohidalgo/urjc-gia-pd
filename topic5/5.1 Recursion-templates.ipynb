{
 "cells": [
  {
   "cell_type": "markdown",
   "metadata": {},
   "source": [
    "# Topic 5. Recursive functions and data types"
   ]
  },
  {
   "cell_type": "markdown",
   "metadata": {},
   "source": [
    "The goals of this topic are to understand:\n",
    "\n",
    "* How recursive types (lists, trees, etc.) are defined algebraically\n",
    "* How functions over recursive types are defined recursivelly\n",
    "* The two major types of recursive functions: general and tail-recursive"
   ]
  },
  {
   "cell_type": "markdown",
   "metadata": {},
   "source": [
    "### References\n",
    "\n",
    "[__Programming in Scala, \n",
    "A comprehensive step-by-step guide__](https://www.artima.com/shop/programming_in_scala_3ed) Third Edition.\n",
    "by Martin Odersky, Lex Spoon, and Bill Venners. \n",
    "\n",
    "- Chapter 16. Working with Lists\n",
    "- Chapter 26. Extractors (optional)\n",
    "\n",
    "[__Functional programming in Scala__](https://www.manning.com/books/functional-programming-in-scala), by Paul Chiusano and Runar Bjarnason.\n",
    "\n",
    "- Chapter 3. Functional data structures\n",
    "\n",
    "[__Functional programming simplified__](https://alvinalexander.com/downloads/fpsimplified-free-preview.pdf), by Alvin Alexander.\n",
    "\n",
    "- Chapters 29-36. Recursion."
   ]
  },
  {
   "cell_type": "markdown",
   "metadata": {},
   "source": [
    "## Recursive types"
   ]
  },
  {
   "cell_type": "markdown",
   "metadata": {},
   "source": [
    "### The `List` type"
   ]
  },
  {
   "cell_type": "markdown",
   "metadata": {},
   "source": [
    "Lists are data structures which represent sequences of values of the same type, of finite length. They can be defined recursively in an informal way as follows: \n",
    "- A list is the empty sequence\n",
    "- A list is a non-empty sequence made of a value and another list, which represent the head and tail of the list, respectively\n",
    "\n",
    "Thus, the type `IntList`, which represents lists of integers, must satisfy the following algebraic equation:\n",
    "\n",
    "`IntList = 1 + Int * IntList`\n",
    "\n",
    "i.e., a list of integers is the empty sequence (represented by the singleton type `1`), or an integer (the head) and a list (its tail).\n",
    "\n"
   ]
  },
  {
   "cell_type": "markdown",
   "metadata": {},
   "source": [
    "The implementation in Scala is similar to the following one (we also give the generic version `List[A]`, rather than the implementation of `IntList`):"
   ]
  },
  {
   "cell_type": "code",
   "execution_count": 2,
   "metadata": {},
   "outputs": [
    {
     "data": {
      "text/plain": [
       "defined \u001b[32mobject\u001b[39m \u001b[36mStdDefinition\u001b[39m"
      ]
     },
     "execution_count": 2,
     "metadata": {},
     "output_type": "execute_result"
    }
   ],
   "source": [
    "object StdDefinition:\n",
    "    enum List[X]: \n",
    "        case Empty()\n",
    "        case NonEmpty(head: X, tail: List[X])\n",
    "\n",
    "    import List._\n",
    "\n",
    "    // [1,2,3,4]\n",
    "    val l: List[Int] = \n",
    "        NonEmpty(1, \n",
    "            NonEmpty(2, \n",
    "                NonEmpty(3, \n",
    "                    NonEmpty(4, \n",
    "                        Empty() : List[Int]))))"
   ]
  },
  {
   "cell_type": "code",
   "execution_count": null,
   "metadata": {},
   "outputs": [],
   "source": []
  },
  {
   "cell_type": "markdown",
   "metadata": {},
   "source": [
    "However the actual implementation of [immutable lists](https://github.com/scala/scala/blob/v2.13.1/src/library/scala/collection/immutable/List.scala#L79) in the standard library of Scala defines the empty list as an object, rather than a class. This forces us to declare the list covariantly in its generic parameter `A`, which is somewhat inconvenient at times.  The standard definition looks like as follows:"
   ]
  },
  {
   "cell_type": "code",
   "execution_count": 3,
   "metadata": {},
   "outputs": [
    {
     "data": {
      "text/plain": [
       "defined \u001b[32mobject\u001b[39m \u001b[36mActualStdDefinition\u001b[39m"
      ]
     },
     "execution_count": 3,
     "metadata": {},
     "output_type": "execute_result"
    }
   ],
   "source": [
    "object ActualStdDefinition:\n",
    "    enum List[+X]:\n",
    "        case Nil\n",
    "        case ::(head: X, tail: List[X])"
   ]
  },
  {
   "cell_type": "markdown",
   "metadata": {},
   "source": [
    "### Some syntactic sugar"
   ]
  },
  {
   "cell_type": "markdown",
   "metadata": {},
   "source": [
    "Note that we can write standard lists with a more compact syntax: "
   ]
  },
  {
   "cell_type": "code",
   "execution_count": 9,
   "metadata": {},
   "outputs": [
    {
     "data": {
      "text/plain": [
       "\u001b[36ml\u001b[39m: \u001b[32mList\u001b[39m[\u001b[32mChar\u001b[39m] = \u001b[33mList\u001b[39m(\u001b[32m'a'\u001b[39m, \u001b[32m'b'\u001b[39m, \u001b[32m'c'\u001b[39m)\n",
       "\u001b[36ml1\u001b[39m: \u001b[32mList\u001b[39m[\u001b[32mChar\u001b[39m] = \u001b[33mList\u001b[39m(\u001b[32m'a'\u001b[39m, \u001b[32m'b'\u001b[39m, \u001b[32m'c'\u001b[39m)\n",
       "\u001b[36ml2\u001b[39m: \u001b[32mList\u001b[39m[\u001b[32mChar\u001b[39m] = \u001b[33mList\u001b[39m(\u001b[32m'a'\u001b[39m, \u001b[32m'b'\u001b[39m, \u001b[32m'c'\u001b[39m)\n",
       "\u001b[36ml3\u001b[39m: \u001b[32mList\u001b[39m[\u001b[32mChar\u001b[39m] = \u001b[33mList\u001b[39m(\u001b[32m'a'\u001b[39m, \u001b[32m'b'\u001b[39m, \u001b[32m'c'\u001b[39m)\n",
       "\u001b[36ml4\u001b[39m: \u001b[32mList\u001b[39m[\u001b[32mChar\u001b[39m] = \u001b[33mList\u001b[39m()"
      ]
     },
     "execution_count": 9,
     "metadata": {},
     "output_type": "execute_result"
    }
   ],
   "source": [
    "// Less beautifully \n",
    "val l: List[Char] = ::('a', ::('b', ::('c', Nil)))\n",
    "// More idiomatically\n",
    "val l1: List[Char] = 'a' :: ('b' :: ('c' :: Nil))\n",
    "val l2: List[Char] = 'a' :: 'b' :: 'c' :: Nil\n",
    "\n",
    "val l3: List[Char] = List('a', 'b', 'c')\n",
    "val l4: List[Char] = List()"
   ]
  },
  {
   "cell_type": "markdown",
   "metadata": {},
   "source": [
    "And we can also pattern match on lists, similarly:"
   ]
  },
  {
   "cell_type": "code",
   "execution_count": 12,
   "metadata": {},
   "outputs": [
    {
     "data": {
      "text/plain": [
       "\u001b[36mres12_0\u001b[39m: \u001b[32mString\u001b[39m = \u001b[32m\"non-empty with head 1 and tail List(2, 3, 4)\"\u001b[39m\n",
       "\u001b[36mres12_1\u001b[39m: \u001b[32mString\u001b[39m = \u001b[32m\"non-empty with head 1 and tail List(2, 3, 4)\"\u001b[39m\n",
       "\u001b[36mres12_2\u001b[39m: \u001b[32mString\u001b[39m = \u001b[32m\"one element or more than three\"\u001b[39m"
      ]
     },
     "execution_count": 12,
     "metadata": {},
     "output_type": "execute_result"
    }
   ],
   "source": [
    "// Less beautifully\n",
    "List(1,2,3,4) match \n",
    "    case Nil => \"empty\"\n",
    "    case ::(h, t) => \n",
    "        \"non-empty with head \" + h + \" and tail \" + t\n",
    "\n",
    "// more idiomatically\n",
    "\n",
    "List(1,2,3,4) match \n",
    "    case Nil => \"empty\"\n",
    "    case h :: t => \n",
    "        \"non-empty with head \" + h + \" and tail \" + t\n",
    "\n",
    "// or\n",
    "\n",
    "List(1,2,3,4) match \n",
    "    case Nil => \"empty\"\n",
    "    case List(x1, x2) => \"two elements\"\n",
    "    case List(x1, x2, x3) => \"three elements\"\n",
    "    case _ => \"one element or more than three\"\n"
   ]
  },
  {
   "cell_type": "code",
   "execution_count": 17,
   "metadata": {},
   "outputs": [
    {
     "ename": "java.lang.UnsupportedOperationException",
     "evalue": "tail of empty list",
     "output_type": "error",
     "traceback": [
      "\u001b[31mjava.lang.UnsupportedOperationException: tail of empty list\u001b[39m",
      "  scala.collection.immutable.Nil$.tail(\u001b[32mList.scala\u001b[39m:\u001b[32m664\u001b[39m)",
      "  scala.collection.immutable.Nil$.tail(\u001b[32mList.scala\u001b[39m:\u001b[32m661\u001b[39m)",
      "  ammonite.$sess.cell17$Helper.<init>(\u001b[32mcell17.sc\u001b[39m:\u001b[32m3\u001b[39m)",
      "  ammonite.$sess.cell17$.<clinit>(\u001b[32mcell17.sc\u001b[39m:\u001b[32m65387\u001b[39m)"
     ]
    }
   ],
   "source": [
    "List(1,2,3).head\n",
    "List(1,2,3).tail\n",
    "List().tail"
   ]
  },
  {
   "cell_type": "code",
   "execution_count": null,
   "metadata": {},
   "outputs": [],
   "source": []
  },
  {
   "cell_type": "markdown",
   "metadata": {},
   "source": [
    "##  Recursive functions"
   ]
  },
  {
   "cell_type": "markdown",
   "metadata": {},
   "source": [
    "Since lists are defined recursively, functions over lists will be commonly recursive as well. For instance, let's implement a recursive function that computes the length of a list. But before, let's implement the function imperatively for the sake of comparison:"
   ]
  },
  {
   "cell_type": "code",
   "execution_count": 18,
   "metadata": {},
   "outputs": [
    {
     "data": {
      "text/plain": [
       "defined \u001b[32mfunction\u001b[39m \u001b[36mindexInt\u001b[39m\n",
       "defined \u001b[32mfunction\u001b[39m \u001b[36mindexChar\u001b[39m\n",
       "defined \u001b[32mfunction\u001b[39m \u001b[36mindex\u001b[39m"
      ]
     },
     "execution_count": 18,
     "metadata": {},
     "output_type": "execute_result"
    }
   ],
   "source": [
    "// Using mutable variables\n",
    "def indexInt(l: List[Int], n: Int): Int = \n",
    "    ??? \n",
    "\n",
    "def indexChar(l: List[Char], n: Int): Char = \n",
    "    ??? \n",
    "\n",
    "def index[A](l: List[A], n: Int): Option[A] = \n",
    "    var i: Int = 0\n",
    "    var aux: List[A] = l\n",
    "    while (aux != Nil && i < n)\n",
    "        aux = aux.tail\n",
    "        i += 1\n",
    "    if (aux == Nil) None\n",
    "    else Some(aux.head: A)\n"
   ]
  },
  {
   "cell_type": "code",
   "execution_count": 21,
   "metadata": {},
   "outputs": [
    {
     "data": {
      "text/plain": [
       "\u001b[36mres21_0\u001b[39m: \u001b[32mOption\u001b[39m[\u001b[32mInt\u001b[39m] = \u001b[33mSome\u001b[39m(value = \u001b[32m0\u001b[39m)\n",
       "\u001b[36mres21_1\u001b[39m: \u001b[32mOption\u001b[39m[\u001b[32mInt\u001b[39m] = \u001b[33mSome\u001b[39m(value = \u001b[32m1\u001b[39m)\n",
       "\u001b[36mres21_2\u001b[39m: \u001b[32mOption\u001b[39m[\u001b[32mInt\u001b[39m] = \u001b[33mSome\u001b[39m(value = \u001b[32m2\u001b[39m)\n",
       "\u001b[36mres21_3\u001b[39m: \u001b[32mOption\u001b[39m[\u001b[32mInt\u001b[39m] = \u001b[33mSome\u001b[39m(value = \u001b[32m3\u001b[39m)\n",
       "\u001b[36mres21_4\u001b[39m: \u001b[32mOption\u001b[39m[\u001b[32mInt\u001b[39m] = \u001b[32mNone\u001b[39m"
      ]
     },
     "execution_count": 21,
     "metadata": {},
     "output_type": "execute_result"
    }
   ],
   "source": [
    "// invoke\n",
    "index(List(0,1,2,3),0)\n",
    "index(List(0,1,2,3),1)\n",
    "index(List(0,1,2,3),2)\n",
    "index(List(0,1,2,3),3)\n",
    "index(List(0,1,2,3),4)\n",
    "\n",
    "\n"
   ]
  },
  {
   "cell_type": "markdown",
   "metadata": {},
   "source": [
    "The recursive function is implemented as follows: "
   ]
  },
  {
   "cell_type": "code",
   "execution_count": 24,
   "metadata": {},
   "outputs": [
    {
     "data": {
      "text/plain": [
       "defined \u001b[32mfunction\u001b[39m \u001b[36mindex\u001b[39m"
      ]
     },
     "execution_count": 24,
     "metadata": {},
     "output_type": "execute_result"
    }
   ],
   "source": [
    "// Using recursive functions\n",
    "\n",
    "def index[A](list: List[A], n: Int): Option[A] = \n",
    "    list match\n",
    "        case Nil => None : Option[A]\n",
    "        case h :: t => \n",
    "            val tailSol: Option[A] = index(t, n-1)\n",
    "            if (n == 0) Some(h)\n",
    "            else tailSol : Option[A]"
   ]
  },
  {
   "cell_type": "code",
   "execution_count": 29,
   "metadata": {},
   "outputs": [
    {
     "data": {
      "text/plain": [
       "defined \u001b[32mfunction\u001b[39m \u001b[36mindex\u001b[39m"
      ]
     },
     "execution_count": 29,
     "metadata": {},
     "output_type": "execute_result"
    }
   ],
   "source": [
    "// Using recursive functions\n",
    "\n",
    "def index[A](list: List[A], n: Int): Option[A] = \n",
    "    list match\n",
    "        case Nil => None : Option[A]\n",
    "        case h :: t => \n",
    "            if (n == 0) Some(h)\n",
    "            else index(t, n-1) : Option[A]"
   ]
  },
  {
   "cell_type": "code",
   "execution_count": 30,
   "metadata": {},
   "outputs": [
    {
     "data": {
      "text/plain": [
       "defined \u001b[32mfunction\u001b[39m \u001b[36mindex\u001b[39m"
      ]
     },
     "execution_count": 30,
     "metadata": {},
     "output_type": "execute_result"
    }
   ],
   "source": [
    "// Using recursive functions\n",
    "\n",
    "def index[A](list: List[A], n: Int): Option[A] = \n",
    "    list match\n",
    "        case Nil => None : Option[A]\n",
    "        case h :: t if n == 0 => Some(h)\n",
    "        case _ :: t => index(t, n-1)"
   ]
  },
  {
   "cell_type": "code",
   "execution_count": 31,
   "metadata": {},
   "outputs": [
    {
     "data": {
      "text/plain": [
       "\u001b[36mres31\u001b[39m: \u001b[32mOption\u001b[39m[\u001b[32mInt\u001b[39m] = \u001b[32mNone\u001b[39m"
      ]
     },
     "execution_count": 31,
     "metadata": {},
     "output_type": "execute_result"
    }
   ],
   "source": [
    "index(List(0,1,2,3), 4)"
   ]
  },
  {
   "cell_type": "markdown",
   "metadata": {},
   "source": [
    "Some comments: \n",
    "- The recursive function is implemented in a _type-driven development_ style: we proceed, step-by-step, analysing the types of input data that are available, and the types of output that we have to generate. This leads to a divide-and-conquer problem solving strategy and hugely facilitates the implementation.\n",
    "- The recursive function is less efficient, since the stack will blow up with very long lists."
   ]
  },
  {
   "cell_type": "code",
   "execution_count": 55,
   "metadata": {},
   "outputs": [
    {
     "data": {
      "text/plain": [
       "defined \u001b[32mfunction\u001b[39m \u001b[36mlengthI\u001b[39m"
      ]
     },
     "execution_count": 55,
     "metadata": {},
     "output_type": "execute_result"
    }
   ],
   "source": [
    "def lengthI[A](l: List[A]): Int = \n",
    "    var out: Int = 0 \n",
    "    var aux: List[A] = l\n",
    "    while (aux != Nil)\n",
    "        aux = aux.tail\n",
    "        out += 1\n",
    "    out"
   ]
  },
  {
   "cell_type": "code",
   "execution_count": 56,
   "metadata": {},
   "outputs": [
    {
     "data": {
      "text/plain": [
       "\u001b[36mres56\u001b[39m: \u001b[32mInt\u001b[39m = \u001b[32m16666666\u001b[39m"
      ]
     },
     "execution_count": 56,
     "metadata": {},
     "output_type": "execute_result"
    }
   ],
   "source": [
    "lengthI(List.fill(16666666)(0))"
   ]
  },
  {
   "cell_type": "code",
   "execution_count": 34,
   "metadata": {},
   "outputs": [
    {
     "data": {
      "text/plain": [
       "\u001b[36mres34_0\u001b[39m: \u001b[32mInt\u001b[39m = \u001b[32m0\u001b[39m\n",
       "\u001b[36mres34_1\u001b[39m: \u001b[32mInt\u001b[39m = \u001b[32m3\u001b[39m"
      ]
     },
     "execution_count": 34,
     "metadata": {},
     "output_type": "execute_result"
    }
   ],
   "source": [
    "length(List()) \n",
    "length(List(1,2,3))"
   ]
  },
  {
   "cell_type": "code",
   "execution_count": 37,
   "metadata": {},
   "outputs": [
    {
     "data": {
      "text/plain": [
       "defined \u001b[32mfunction\u001b[39m \u001b[36mlength\u001b[39m"
      ]
     },
     "execution_count": 37,
     "metadata": {},
     "output_type": "execute_result"
    }
   ],
   "source": [
    "def length[A](l: List[A]): Int = \n",
    "    ???"
   ]
  },
  {
   "cell_type": "code",
   "execution_count": 36,
   "metadata": {},
   "outputs": [
    {
     "data": {
      "text/plain": [
       "defined \u001b[32mfunction\u001b[39m \u001b[36mlength\u001b[39m"
      ]
     },
     "execution_count": 36,
     "metadata": {},
     "output_type": "execute_result"
    }
   ],
   "source": [
    "def length[A](l: List[A]): Int = \n",
    "    l match \n",
    "        case Nil => ??? : Int\n",
    "        case h :: t => ??? : Int"
   ]
  },
  {
   "cell_type": "code",
   "execution_count": 38,
   "metadata": {},
   "outputs": [
    {
     "data": {
      "text/plain": [
       "defined \u001b[32mfunction\u001b[39m \u001b[36mlength\u001b[39m"
      ]
     },
     "execution_count": 38,
     "metadata": {},
     "output_type": "execute_result"
    }
   ],
   "source": [
    "def length[A](l: List[A]): Int = \n",
    "    l match \n",
    "        case Nil => 0 : Int\n",
    "        case h :: t => ??? : Int"
   ]
  },
  {
   "cell_type": "code",
   "execution_count": 39,
   "metadata": {},
   "outputs": [
    {
     "data": {
      "text/plain": [
       "defined \u001b[32mfunction\u001b[39m \u001b[36mlength\u001b[39m"
      ]
     },
     "execution_count": 39,
     "metadata": {},
     "output_type": "execute_result"
    }
   ],
   "source": [
    "def length[A](l: List[A]): Int = \n",
    "    l match \n",
    "        case Nil => 0 : Int\n",
    "        case h :: t => \n",
    "            val tailSol: Int = length(t)\n",
    "            ??? : Int"
   ]
  },
  {
   "cell_type": "code",
   "execution_count": 41,
   "metadata": {},
   "outputs": [
    {
     "data": {
      "text/plain": [
       "defined \u001b[32mfunction\u001b[39m \u001b[36mlength\u001b[39m"
      ]
     },
     "execution_count": 41,
     "metadata": {},
     "output_type": "execute_result"
    }
   ],
   "source": [
    "def length[A](l: List[A]): Int = \n",
    "    l match \n",
    "        case Nil => 0 : Int\n",
    "        case h :: t => \n",
    "            val tailSol: Int = length(t)\n",
    "            tailSol + 1 : Int"
   ]
  },
  {
   "cell_type": "code",
   "execution_count": 49,
   "metadata": {},
   "outputs": [
    {
     "data": {
      "text/plain": [
       "\u001b[36mres49\u001b[39m: \u001b[32mList\u001b[39m[\u001b[32mList\u001b[39m[\u001b[32mBoolean\u001b[39m]] = \u001b[33mList\u001b[39m(\n",
       "  \u001b[33mList\u001b[39m(\u001b[32mtrue\u001b[39m, \u001b[32mfalse\u001b[39m),\n",
       "  \u001b[33mList\u001b[39m(\u001b[32mtrue\u001b[39m, \u001b[32mfalse\u001b[39m),\n",
       "  \u001b[33mList\u001b[39m(\u001b[32mtrue\u001b[39m, \u001b[32mfalse\u001b[39m),\n",
       "  \u001b[33mList\u001b[39m(\u001b[32mtrue\u001b[39m, \u001b[32mfalse\u001b[39m),\n",
       "  \u001b[33mList\u001b[39m(\u001b[32mtrue\u001b[39m, \u001b[32mfalse\u001b[39m),\n",
       "  \u001b[33mList\u001b[39m(\u001b[32mtrue\u001b[39m, \u001b[32mfalse\u001b[39m),\n",
       "  \u001b[33mList\u001b[39m(\u001b[32mtrue\u001b[39m, \u001b[32mfalse\u001b[39m),\n",
       "  \u001b[33mList\u001b[39m(\u001b[32mtrue\u001b[39m, \u001b[32mfalse\u001b[39m),\n",
       "  \u001b[33mList\u001b[39m(\u001b[32mtrue\u001b[39m, \u001b[32mfalse\u001b[39m),\n",
       "  \u001b[33mList\u001b[39m(\u001b[32mtrue\u001b[39m, \u001b[32mfalse\u001b[39m)\n",
       ")"
      ]
     },
     "execution_count": 49,
     "metadata": {},
     "output_type": "execute_result"
    }
   ],
   "source": [
    "List.fill(10)(List(true, false))"
   ]
  },
  {
   "cell_type": "code",
   "execution_count": 54,
   "metadata": {},
   "outputs": [
    {
     "data": {
      "text/plain": [
       "\u001b[36mres54\u001b[39m: \u001b[32mInt\u001b[39m = \u001b[32m2147483647\u001b[39m"
      ]
     },
     "execution_count": 54,
     "metadata": {},
     "output_type": "execute_result"
    }
   ],
   "source": [
    "Int.MaxValue"
   ]
  },
  {
   "cell_type": "code",
   "execution_count": 53,
   "metadata": {
    "collapsed": true,
    "jupyter": {
     "outputs_hidden": true
    },
    "tags": []
   },
   "outputs": [
    {
     "ename": "java.lang.StackOverflowError",
     "evalue": "null",
     "output_type": "error",
     "traceback": [
      "\u001b[31mjava.lang.StackOverflowError\u001b[39m",
      "  scala.collection.immutable.List.equals(\u001b[32mList.scala\u001b[39m:\u001b[32m612\u001b[39m)",
      "  ammonite.$sess.cell41$Helper.length(\u001b[32mcell41.sc\u001b[39m:\u001b[32m3\u001b[39m)",
      "  ammonite.$sess.cell41$Helper.length(\u001b[32mcell41.sc\u001b[39m:\u001b[32m5\u001b[39m)",
      "  ammonite.$sess.cell41$Helper.length(\u001b[32mcell41.sc\u001b[39m:\u001b[32m5\u001b[39m)",
      "  ammonite.$sess.cell41$Helper.length(\u001b[32mcell41.sc\u001b[39m:\u001b[32m5\u001b[39m)",
      "  ammonite.$sess.cell41$Helper.length(\u001b[32mcell41.sc\u001b[39m:\u001b[32m5\u001b[39m)",
      "  ammonite.$sess.cell41$Helper.length(\u001b[32mcell41.sc\u001b[39m:\u001b[32m5\u001b[39m)",
      "  ammonite.$sess.cell41$Helper.length(\u001b[32mcell41.sc\u001b[39m:\u001b[32m5\u001b[39m)",
      "  ammonite.$sess.cell41$Helper.length(\u001b[32mcell41.sc\u001b[39m:\u001b[32m5\u001b[39m)",
      "  ammonite.$sess.cell41$Helper.length(\u001b[32mcell41.sc\u001b[39m:\u001b[32m5\u001b[39m)",
      "  ammonite.$sess.cell41$Helper.length(\u001b[32mcell41.sc\u001b[39m:\u001b[32m5\u001b[39m)",
      "  ammonite.$sess.cell41$Helper.length(\u001b[32mcell41.sc\u001b[39m:\u001b[32m5\u001b[39m)",
      "  ammonite.$sess.cell41$Helper.length(\u001b[32mcell41.sc\u001b[39m:\u001b[32m5\u001b[39m)",
      "  ammonite.$sess.cell41$Helper.length(\u001b[32mcell41.sc\u001b[39m:\u001b[32m5\u001b[39m)",
      "  ammonite.$sess.cell41$Helper.length(\u001b[32mcell41.sc\u001b[39m:\u001b[32m5\u001b[39m)",
      "  ammonite.$sess.cell41$Helper.length(\u001b[32mcell41.sc\u001b[39m:\u001b[32m5\u001b[39m)",
      "  ammonite.$sess.cell41$Helper.length(\u001b[32mcell41.sc\u001b[39m:\u001b[32m5\u001b[39m)",
      "  ammonite.$sess.cell41$Helper.length(\u001b[32mcell41.sc\u001b[39m:\u001b[32m5\u001b[39m)",
      "  ammonite.$sess.cell41$Helper.length(\u001b[32mcell41.sc\u001b[39m:\u001b[32m5\u001b[39m)",
      "  ammonite.$sess.cell41$Helper.length(\u001b[32mcell41.sc\u001b[39m:\u001b[32m5\u001b[39m)",
      "  ammonite.$sess.cell41$Helper.length(\u001b[32mcell41.sc\u001b[39m:\u001b[32m5\u001b[39m)",
      "  ammonite.$sess.cell41$Helper.length(\u001b[32mcell41.sc\u001b[39m:\u001b[32m5\u001b[39m)",
      "  ammonite.$sess.cell41$Helper.length(\u001b[32mcell41.sc\u001b[39m:\u001b[32m5\u001b[39m)",
      "  ammonite.$sess.cell41$Helper.length(\u001b[32mcell41.sc\u001b[39m:\u001b[32m5\u001b[39m)",
      "  ammonite.$sess.cell41$Helper.length(\u001b[32mcell41.sc\u001b[39m:\u001b[32m5\u001b[39m)",
      "  ammonite.$sess.cell41$Helper.length(\u001b[32mcell41.sc\u001b[39m:\u001b[32m5\u001b[39m)",
      "  ammonite.$sess.cell41$Helper.length(\u001b[32mcell41.sc\u001b[39m:\u001b[32m5\u001b[39m)",
      "  ammonite.$sess.cell41$Helper.length(\u001b[32mcell41.sc\u001b[39m:\u001b[32m5\u001b[39m)",
      "  ammonite.$sess.cell41$Helper.length(\u001b[32mcell41.sc\u001b[39m:\u001b[32m5\u001b[39m)",
      "  ammonite.$sess.cell41$Helper.length(\u001b[32mcell41.sc\u001b[39m:\u001b[32m5\u001b[39m)",
      "  ammonite.$sess.cell41$Helper.length(\u001b[32mcell41.sc\u001b[39m:\u001b[32m5\u001b[39m)",
      "  ammonite.$sess.cell41$Helper.length(\u001b[32mcell41.sc\u001b[39m:\u001b[32m5\u001b[39m)",
      "  ammonite.$sess.cell41$Helper.length(\u001b[32mcell41.sc\u001b[39m:\u001b[32m5\u001b[39m)",
      "  ammonite.$sess.cell41$Helper.length(\u001b[32mcell41.sc\u001b[39m:\u001b[32m5\u001b[39m)",
      "  ammonite.$sess.cell41$Helper.length(\u001b[32mcell41.sc\u001b[39m:\u001b[32m5\u001b[39m)",
      "  ammonite.$sess.cell41$Helper.length(\u001b[32mcell41.sc\u001b[39m:\u001b[32m5\u001b[39m)",
      "  ammonite.$sess.cell41$Helper.length(\u001b[32mcell41.sc\u001b[39m:\u001b[32m5\u001b[39m)",
      "  ammonite.$sess.cell41$Helper.length(\u001b[32mcell41.sc\u001b[39m:\u001b[32m5\u001b[39m)",
      "  ammonite.$sess.cell41$Helper.length(\u001b[32mcell41.sc\u001b[39m:\u001b[32m5\u001b[39m)",
      "  ammonite.$sess.cell41$Helper.length(\u001b[32mcell41.sc\u001b[39m:\u001b[32m5\u001b[39m)",
      "  ammonite.$sess.cell41$Helper.length(\u001b[32mcell41.sc\u001b[39m:\u001b[32m5\u001b[39m)",
      "  ammonite.$sess.cell41$Helper.length(\u001b[32mcell41.sc\u001b[39m:\u001b[32m5\u001b[39m)",
      "  ammonite.$sess.cell41$Helper.length(\u001b[32mcell41.sc\u001b[39m:\u001b[32m5\u001b[39m)",
      "  ammonite.$sess.cell41$Helper.length(\u001b[32mcell41.sc\u001b[39m:\u001b[32m5\u001b[39m)",
      "  ammonite.$sess.cell41$Helper.length(\u001b[32mcell41.sc\u001b[39m:\u001b[32m5\u001b[39m)",
      "  ammonite.$sess.cell41$Helper.length(\u001b[32mcell41.sc\u001b[39m:\u001b[32m5\u001b[39m)",
      "  ammonite.$sess.cell41$Helper.length(\u001b[32mcell41.sc\u001b[39m:\u001b[32m5\u001b[39m)",
      "  ammonite.$sess.cell41$Helper.length(\u001b[32mcell41.sc\u001b[39m:\u001b[32m5\u001b[39m)",
      "  ammonite.$sess.cell41$Helper.length(\u001b[32mcell41.sc\u001b[39m:\u001b[32m5\u001b[39m)",
      "  ammonite.$sess.cell41$Helper.length(\u001b[32mcell41.sc\u001b[39m:\u001b[32m5\u001b[39m)",
      "  ammonite.$sess.cell41$Helper.length(\u001b[32mcell41.sc\u001b[39m:\u001b[32m5\u001b[39m)",
      "  ammonite.$sess.cell41$Helper.length(\u001b[32mcell41.sc\u001b[39m:\u001b[32m5\u001b[39m)",
      "  ammonite.$sess.cell41$Helper.length(\u001b[32mcell41.sc\u001b[39m:\u001b[32m5\u001b[39m)",
      "  ammonite.$sess.cell41$Helper.length(\u001b[32mcell41.sc\u001b[39m:\u001b[32m5\u001b[39m)",
      "  ammonite.$sess.cell41$Helper.length(\u001b[32mcell41.sc\u001b[39m:\u001b[32m5\u001b[39m)",
      "  ammonite.$sess.cell41$Helper.length(\u001b[32mcell41.sc\u001b[39m:\u001b[32m5\u001b[39m)",
      "  ammonite.$sess.cell41$Helper.length(\u001b[32mcell41.sc\u001b[39m:\u001b[32m5\u001b[39m)",
      "  ammonite.$sess.cell41$Helper.length(\u001b[32mcell41.sc\u001b[39m:\u001b[32m5\u001b[39m)",
      "  ammonite.$sess.cell41$Helper.length(\u001b[32mcell41.sc\u001b[39m:\u001b[32m5\u001b[39m)",
      "  ammonite.$sess.cell41$Helper.length(\u001b[32mcell41.sc\u001b[39m:\u001b[32m5\u001b[39m)",
      "  ammonite.$sess.cell41$Helper.length(\u001b[32mcell41.sc\u001b[39m:\u001b[32m5\u001b[39m)",
      "  ammonite.$sess.cell41$Helper.length(\u001b[32mcell41.sc\u001b[39m:\u001b[32m5\u001b[39m)",
      "  ammonite.$sess.cell41$Helper.length(\u001b[32mcell41.sc\u001b[39m:\u001b[32m5\u001b[39m)",
      "  ammonite.$sess.cell41$Helper.length(\u001b[32mcell41.sc\u001b[39m:\u001b[32m5\u001b[39m)",
      "  ammonite.$sess.cell41$Helper.length(\u001b[32mcell41.sc\u001b[39m:\u001b[32m5\u001b[39m)",
      "  ammonite.$sess.cell41$Helper.length(\u001b[32mcell41.sc\u001b[39m:\u001b[32m5\u001b[39m)",
      "  ammonite.$sess.cell41$Helper.length(\u001b[32mcell41.sc\u001b[39m:\u001b[32m5\u001b[39m)",
      "  ammonite.$sess.cell41$Helper.length(\u001b[32mcell41.sc\u001b[39m:\u001b[32m5\u001b[39m)",
      "  ammonite.$sess.cell41$Helper.length(\u001b[32mcell41.sc\u001b[39m:\u001b[32m5\u001b[39m)",
      "  ammonite.$sess.cell41$Helper.length(\u001b[32mcell41.sc\u001b[39m:\u001b[32m5\u001b[39m)",
      "  ammonite.$sess.cell41$Helper.length(\u001b[32mcell41.sc\u001b[39m:\u001b[32m5\u001b[39m)",
      "  ammonite.$sess.cell41$Helper.length(\u001b[32mcell41.sc\u001b[39m:\u001b[32m5\u001b[39m)",
      "  ammonite.$sess.cell41$Helper.length(\u001b[32mcell41.sc\u001b[39m:\u001b[32m5\u001b[39m)",
      "  ammonite.$sess.cell41$Helper.length(\u001b[32mcell41.sc\u001b[39m:\u001b[32m5\u001b[39m)",
      "  ammonite.$sess.cell41$Helper.length(\u001b[32mcell41.sc\u001b[39m:\u001b[32m5\u001b[39m)",
      "  ammonite.$sess.cell41$Helper.length(\u001b[32mcell41.sc\u001b[39m:\u001b[32m5\u001b[39m)",
      "  ammonite.$sess.cell41$Helper.length(\u001b[32mcell41.sc\u001b[39m:\u001b[32m5\u001b[39m)",
      "  ammonite.$sess.cell41$Helper.length(\u001b[32mcell41.sc\u001b[39m:\u001b[32m5\u001b[39m)",
      "  ammonite.$sess.cell41$Helper.length(\u001b[32mcell41.sc\u001b[39m:\u001b[32m5\u001b[39m)",
      "  ammonite.$sess.cell41$Helper.length(\u001b[32mcell41.sc\u001b[39m:\u001b[32m5\u001b[39m)",
      "  ammonite.$sess.cell41$Helper.length(\u001b[32mcell41.sc\u001b[39m:\u001b[32m5\u001b[39m)",
      "  ammonite.$sess.cell41$Helper.length(\u001b[32mcell41.sc\u001b[39m:\u001b[32m5\u001b[39m)",
      "  ammonite.$sess.cell41$Helper.length(\u001b[32mcell41.sc\u001b[39m:\u001b[32m5\u001b[39m)",
      "  ammonite.$sess.cell41$Helper.length(\u001b[32mcell41.sc\u001b[39m:\u001b[32m5\u001b[39m)",
      "  ammonite.$sess.cell41$Helper.length(\u001b[32mcell41.sc\u001b[39m:\u001b[32m5\u001b[39m)",
      "  ammonite.$sess.cell41$Helper.length(\u001b[32mcell41.sc\u001b[39m:\u001b[32m5\u001b[39m)",
      "  ammonite.$sess.cell41$Helper.length(\u001b[32mcell41.sc\u001b[39m:\u001b[32m5\u001b[39m)",
      "  ammonite.$sess.cell41$Helper.length(\u001b[32mcell41.sc\u001b[39m:\u001b[32m5\u001b[39m)",
      "  ammonite.$sess.cell41$Helper.length(\u001b[32mcell41.sc\u001b[39m:\u001b[32m5\u001b[39m)",
      "  ammonite.$sess.cell41$Helper.length(\u001b[32mcell41.sc\u001b[39m:\u001b[32m5\u001b[39m)",
      "  ammonite.$sess.cell41$Helper.length(\u001b[32mcell41.sc\u001b[39m:\u001b[32m5\u001b[39m)",
      "  ammonite.$sess.cell41$Helper.length(\u001b[32mcell41.sc\u001b[39m:\u001b[32m5\u001b[39m)",
      "  ammonite.$sess.cell41$Helper.length(\u001b[32mcell41.sc\u001b[39m:\u001b[32m5\u001b[39m)",
      "  ammonite.$sess.cell41$Helper.length(\u001b[32mcell41.sc\u001b[39m:\u001b[32m5\u001b[39m)",
      "  ammonite.$sess.cell41$Helper.length(\u001b[32mcell41.sc\u001b[39m:\u001b[32m5\u001b[39m)",
      "  ammonite.$sess.cell41$Helper.length(\u001b[32mcell41.sc\u001b[39m:\u001b[32m5\u001b[39m)",
      "  ammonite.$sess.cell41$Helper.length(\u001b[32mcell41.sc\u001b[39m:\u001b[32m5\u001b[39m)",
      "  ammonite.$sess.cell41$Helper.length(\u001b[32mcell41.sc\u001b[39m:\u001b[32m5\u001b[39m)",
      "  ammonite.$sess.cell41$Helper.length(\u001b[32mcell41.sc\u001b[39m:\u001b[32m5\u001b[39m)",
      "  ammonite.$sess.cell41$Helper.length(\u001b[32mcell41.sc\u001b[39m:\u001b[32m5\u001b[39m)",
      "  ammonite.$sess.cell41$Helper.length(\u001b[32mcell41.sc\u001b[39m:\u001b[32m5\u001b[39m)",
      "  ammonite.$sess.cell41$Helper.length(\u001b[32mcell41.sc\u001b[39m:\u001b[32m5\u001b[39m)",
      "  ammonite.$sess.cell41$Helper.length(\u001b[32mcell41.sc\u001b[39m:\u001b[32m5\u001b[39m)",
      "  ammonite.$sess.cell41$Helper.length(\u001b[32mcell41.sc\u001b[39m:\u001b[32m5\u001b[39m)",
      "  ammonite.$sess.cell41$Helper.length(\u001b[32mcell41.sc\u001b[39m:\u001b[32m5\u001b[39m)",
      "  ammonite.$sess.cell41$Helper.length(\u001b[32mcell41.sc\u001b[39m:\u001b[32m5\u001b[39m)",
      "  ammonite.$sess.cell41$Helper.length(\u001b[32mcell41.sc\u001b[39m:\u001b[32m5\u001b[39m)",
      "  ammonite.$sess.cell41$Helper.length(\u001b[32mcell41.sc\u001b[39m:\u001b[32m5\u001b[39m)",
      "  ammonite.$sess.cell41$Helper.length(\u001b[32mcell41.sc\u001b[39m:\u001b[32m5\u001b[39m)",
      "  ammonite.$sess.cell41$Helper.length(\u001b[32mcell41.sc\u001b[39m:\u001b[32m5\u001b[39m)",
      "  ammonite.$sess.cell41$Helper.length(\u001b[32mcell41.sc\u001b[39m:\u001b[32m5\u001b[39m)",
      "  ammonite.$sess.cell41$Helper.length(\u001b[32mcell41.sc\u001b[39m:\u001b[32m5\u001b[39m)",
      "  ammonite.$sess.cell41$Helper.length(\u001b[32mcell41.sc\u001b[39m:\u001b[32m5\u001b[39m)",
      "  ammonite.$sess.cell41$Helper.length(\u001b[32mcell41.sc\u001b[39m:\u001b[32m5\u001b[39m)",
      "  ammonite.$sess.cell41$Helper.length(\u001b[32mcell41.sc\u001b[39m:\u001b[32m5\u001b[39m)",
      "  ammonite.$sess.cell41$Helper.length(\u001b[32mcell41.sc\u001b[39m:\u001b[32m5\u001b[39m)",
      "  ammonite.$sess.cell41$Helper.length(\u001b[32mcell41.sc\u001b[39m:\u001b[32m5\u001b[39m)",
      "  ammonite.$sess.cell41$Helper.length(\u001b[32mcell41.sc\u001b[39m:\u001b[32m5\u001b[39m)",
      "  ammonite.$sess.cell41$Helper.length(\u001b[32mcell41.sc\u001b[39m:\u001b[32m5\u001b[39m)",
      "  ammonite.$sess.cell41$Helper.length(\u001b[32mcell41.sc\u001b[39m:\u001b[32m5\u001b[39m)",
      "  ammonite.$sess.cell41$Helper.length(\u001b[32mcell41.sc\u001b[39m:\u001b[32m5\u001b[39m)",
      "  ammonite.$sess.cell41$Helper.length(\u001b[32mcell41.sc\u001b[39m:\u001b[32m5\u001b[39m)",
      "  ammonite.$sess.cell41$Helper.length(\u001b[32mcell41.sc\u001b[39m:\u001b[32m5\u001b[39m)",
      "  ammonite.$sess.cell41$Helper.length(\u001b[32mcell41.sc\u001b[39m:\u001b[32m5\u001b[39m)",
      "  ammonite.$sess.cell41$Helper.length(\u001b[32mcell41.sc\u001b[39m:\u001b[32m5\u001b[39m)",
      "  ammonite.$sess.cell41$Helper.length(\u001b[32mcell41.sc\u001b[39m:\u001b[32m5\u001b[39m)",
      "  ammonite.$sess.cell41$Helper.length(\u001b[32mcell41.sc\u001b[39m:\u001b[32m5\u001b[39m)",
      "  ammonite.$sess.cell41$Helper.length(\u001b[32mcell41.sc\u001b[39m:\u001b[32m5\u001b[39m)",
      "  ammonite.$sess.cell41$Helper.length(\u001b[32mcell41.sc\u001b[39m:\u001b[32m5\u001b[39m)",
      "  ammonite.$sess.cell41$Helper.length(\u001b[32mcell41.sc\u001b[39m:\u001b[32m5\u001b[39m)",
      "  ammonite.$sess.cell41$Helper.length(\u001b[32mcell41.sc\u001b[39m:\u001b[32m5\u001b[39m)",
      "  ammonite.$sess.cell41$Helper.length(\u001b[32mcell41.sc\u001b[39m:\u001b[32m5\u001b[39m)",
      "  ammonite.$sess.cell41$Helper.length(\u001b[32mcell41.sc\u001b[39m:\u001b[32m5\u001b[39m)",
      "  ammonite.$sess.cell41$Helper.length(\u001b[32mcell41.sc\u001b[39m:\u001b[32m5\u001b[39m)",
      "  ammonite.$sess.cell41$Helper.length(\u001b[32mcell41.sc\u001b[39m:\u001b[32m5\u001b[39m)",
      "  ammonite.$sess.cell41$Helper.length(\u001b[32mcell41.sc\u001b[39m:\u001b[32m5\u001b[39m)",
      "  ammonite.$sess.cell41$Helper.length(\u001b[32mcell41.sc\u001b[39m:\u001b[32m5\u001b[39m)",
      "  ammonite.$sess.cell41$Helper.length(\u001b[32mcell41.sc\u001b[39m:\u001b[32m5\u001b[39m)",
      "  ammonite.$sess.cell41$Helper.length(\u001b[32mcell41.sc\u001b[39m:\u001b[32m5\u001b[39m)",
      "  ammonite.$sess.cell41$Helper.length(\u001b[32mcell41.sc\u001b[39m:\u001b[32m5\u001b[39m)",
      "  ammonite.$sess.cell41$Helper.length(\u001b[32mcell41.sc\u001b[39m:\u001b[32m5\u001b[39m)",
      "  ammonite.$sess.cell41$Helper.length(\u001b[32mcell41.sc\u001b[39m:\u001b[32m5\u001b[39m)",
      "  ammonite.$sess.cell41$Helper.length(\u001b[32mcell41.sc\u001b[39m:\u001b[32m5\u001b[39m)",
      "  ammonite.$sess.cell41$Helper.length(\u001b[32mcell41.sc\u001b[39m:\u001b[32m5\u001b[39m)",
      "  ammonite.$sess.cell41$Helper.length(\u001b[32mcell41.sc\u001b[39m:\u001b[32m5\u001b[39m)",
      "  ammonite.$sess.cell41$Helper.length(\u001b[32mcell41.sc\u001b[39m:\u001b[32m5\u001b[39m)",
      "  ammonite.$sess.cell41$Helper.length(\u001b[32mcell41.sc\u001b[39m:\u001b[32m5\u001b[39m)",
      "  ammonite.$sess.cell41$Helper.length(\u001b[32mcell41.sc\u001b[39m:\u001b[32m5\u001b[39m)",
      "  ammonite.$sess.cell41$Helper.length(\u001b[32mcell41.sc\u001b[39m:\u001b[32m5\u001b[39m)",
      "  ammonite.$sess.cell41$Helper.length(\u001b[32mcell41.sc\u001b[39m:\u001b[32m5\u001b[39m)",
      "  ammonite.$sess.cell41$Helper.length(\u001b[32mcell41.sc\u001b[39m:\u001b[32m5\u001b[39m)",
      "  ammonite.$sess.cell41$Helper.length(\u001b[32mcell41.sc\u001b[39m:\u001b[32m5\u001b[39m)",
      "  ammonite.$sess.cell41$Helper.length(\u001b[32mcell41.sc\u001b[39m:\u001b[32m5\u001b[39m)",
      "  ammonite.$sess.cell41$Helper.length(\u001b[32mcell41.sc\u001b[39m:\u001b[32m5\u001b[39m)",
      "  ammonite.$sess.cell41$Helper.length(\u001b[32mcell41.sc\u001b[39m:\u001b[32m5\u001b[39m)",
      "  ammonite.$sess.cell41$Helper.length(\u001b[32mcell41.sc\u001b[39m:\u001b[32m5\u001b[39m)",
      "  ammonite.$sess.cell41$Helper.length(\u001b[32mcell41.sc\u001b[39m:\u001b[32m5\u001b[39m)",
      "  ammonite.$sess.cell41$Helper.length(\u001b[32mcell41.sc\u001b[39m:\u001b[32m5\u001b[39m)",
      "  ammonite.$sess.cell41$Helper.length(\u001b[32mcell41.sc\u001b[39m:\u001b[32m5\u001b[39m)",
      "  ammonite.$sess.cell41$Helper.length(\u001b[32mcell41.sc\u001b[39m:\u001b[32m5\u001b[39m)",
      "  ammonite.$sess.cell41$Helper.length(\u001b[32mcell41.sc\u001b[39m:\u001b[32m5\u001b[39m)",
      "  ammonite.$sess.cell41$Helper.length(\u001b[32mcell41.sc\u001b[39m:\u001b[32m5\u001b[39m)",
      "  ammonite.$sess.cell41$Helper.length(\u001b[32mcell41.sc\u001b[39m:\u001b[32m5\u001b[39m)",
      "  ammonite.$sess.cell41$Helper.length(\u001b[32mcell41.sc\u001b[39m:\u001b[32m5\u001b[39m)",
      "  ammonite.$sess.cell41$Helper.length(\u001b[32mcell41.sc\u001b[39m:\u001b[32m5\u001b[39m)",
      "  ammonite.$sess.cell41$Helper.length(\u001b[32mcell41.sc\u001b[39m:\u001b[32m5\u001b[39m)",
      "  ammonite.$sess.cell41$Helper.length(\u001b[32mcell41.sc\u001b[39m:\u001b[32m5\u001b[39m)",
      "  ammonite.$sess.cell41$Helper.length(\u001b[32mcell41.sc\u001b[39m:\u001b[32m5\u001b[39m)",
      "  ammonite.$sess.cell41$Helper.length(\u001b[32mcell41.sc\u001b[39m:\u001b[32m5\u001b[39m)",
      "  ammonite.$sess.cell41$Helper.length(\u001b[32mcell41.sc\u001b[39m:\u001b[32m5\u001b[39m)",
      "  ammonite.$sess.cell41$Helper.length(\u001b[32mcell41.sc\u001b[39m:\u001b[32m5\u001b[39m)",
      "  ammonite.$sess.cell41$Helper.length(\u001b[32mcell41.sc\u001b[39m:\u001b[32m5\u001b[39m)",
      "  ammonite.$sess.cell41$Helper.length(\u001b[32mcell41.sc\u001b[39m:\u001b[32m5\u001b[39m)",
      "  ammonite.$sess.cell41$Helper.length(\u001b[32mcell41.sc\u001b[39m:\u001b[32m5\u001b[39m)",
      "  ammonite.$sess.cell41$Helper.length(\u001b[32mcell41.sc\u001b[39m:\u001b[32m5\u001b[39m)",
      "  ammonite.$sess.cell41$Helper.length(\u001b[32mcell41.sc\u001b[39m:\u001b[32m5\u001b[39m)",
      "  ammonite.$sess.cell41$Helper.length(\u001b[32mcell41.sc\u001b[39m:\u001b[32m5\u001b[39m)",
      "  ammonite.$sess.cell41$Helper.length(\u001b[32mcell41.sc\u001b[39m:\u001b[32m5\u001b[39m)",
      "  ammonite.$sess.cell41$Helper.length(\u001b[32mcell41.sc\u001b[39m:\u001b[32m5\u001b[39m)",
      "  ammonite.$sess.cell41$Helper.length(\u001b[32mcell41.sc\u001b[39m:\u001b[32m5\u001b[39m)",
      "  ammonite.$sess.cell41$Helper.length(\u001b[32mcell41.sc\u001b[39m:\u001b[32m5\u001b[39m)",
      "  ammonite.$sess.cell41$Helper.length(\u001b[32mcell41.sc\u001b[39m:\u001b[32m5\u001b[39m)",
      "  ammonite.$sess.cell41$Helper.length(\u001b[32mcell41.sc\u001b[39m:\u001b[32m5\u001b[39m)",
      "  ammonite.$sess.cell41$Helper.length(\u001b[32mcell41.sc\u001b[39m:\u001b[32m5\u001b[39m)",
      "  ammonite.$sess.cell41$Helper.length(\u001b[32mcell41.sc\u001b[39m:\u001b[32m5\u001b[39m)",
      "  ammonite.$sess.cell41$Helper.length(\u001b[32mcell41.sc\u001b[39m:\u001b[32m5\u001b[39m)",
      "  ammonite.$sess.cell41$Helper.length(\u001b[32mcell41.sc\u001b[39m:\u001b[32m5\u001b[39m)",
      "  ammonite.$sess.cell41$Helper.length(\u001b[32mcell41.sc\u001b[39m:\u001b[32m5\u001b[39m)",
      "  ammonite.$sess.cell41$Helper.length(\u001b[32mcell41.sc\u001b[39m:\u001b[32m5\u001b[39m)",
      "  ammonite.$sess.cell41$Helper.length(\u001b[32mcell41.sc\u001b[39m:\u001b[32m5\u001b[39m)",
      "  ammonite.$sess.cell41$Helper.length(\u001b[32mcell41.sc\u001b[39m:\u001b[32m5\u001b[39m)",
      "  ammonite.$sess.cell41$Helper.length(\u001b[32mcell41.sc\u001b[39m:\u001b[32m5\u001b[39m)",
      "  ammonite.$sess.cell41$Helper.length(\u001b[32mcell41.sc\u001b[39m:\u001b[32m5\u001b[39m)",
      "  ammonite.$sess.cell41$Helper.length(\u001b[32mcell41.sc\u001b[39m:\u001b[32m5\u001b[39m)",
      "  ammonite.$sess.cell41$Helper.length(\u001b[32mcell41.sc\u001b[39m:\u001b[32m5\u001b[39m)",
      "  ammonite.$sess.cell41$Helper.length(\u001b[32mcell41.sc\u001b[39m:\u001b[32m5\u001b[39m)",
      "  ammonite.$sess.cell41$Helper.length(\u001b[32mcell41.sc\u001b[39m:\u001b[32m5\u001b[39m)",
      "  ammonite.$sess.cell41$Helper.length(\u001b[32mcell41.sc\u001b[39m:\u001b[32m5\u001b[39m)",
      "  ammonite.$sess.cell41$Helper.length(\u001b[32mcell41.sc\u001b[39m:\u001b[32m5\u001b[39m)",
      "  ammonite.$sess.cell41$Helper.length(\u001b[32mcell41.sc\u001b[39m:\u001b[32m5\u001b[39m)",
      "  ammonite.$sess.cell41$Helper.length(\u001b[32mcell41.sc\u001b[39m:\u001b[32m5\u001b[39m)",
      "  ammonite.$sess.cell41$Helper.length(\u001b[32mcell41.sc\u001b[39m:\u001b[32m5\u001b[39m)",
      "  ammonite.$sess.cell41$Helper.length(\u001b[32mcell41.sc\u001b[39m:\u001b[32m5\u001b[39m)",
      "  ammonite.$sess.cell41$Helper.length(\u001b[32mcell41.sc\u001b[39m:\u001b[32m5\u001b[39m)",
      "  ammonite.$sess.cell41$Helper.length(\u001b[32mcell41.sc\u001b[39m:\u001b[32m5\u001b[39m)",
      "  ammonite.$sess.cell41$Helper.length(\u001b[32mcell41.sc\u001b[39m:\u001b[32m5\u001b[39m)",
      "  ammonite.$sess.cell41$Helper.length(\u001b[32mcell41.sc\u001b[39m:\u001b[32m5\u001b[39m)",
      "  ammonite.$sess.cell41$Helper.length(\u001b[32mcell41.sc\u001b[39m:\u001b[32m5\u001b[39m)",
      "  ammonite.$sess.cell41$Helper.length(\u001b[32mcell41.sc\u001b[39m:\u001b[32m5\u001b[39m)",
      "  ammonite.$sess.cell41$Helper.length(\u001b[32mcell41.sc\u001b[39m:\u001b[32m5\u001b[39m)",
      "  ammonite.$sess.cell41$Helper.length(\u001b[32mcell41.sc\u001b[39m:\u001b[32m5\u001b[39m)",
      "  ammonite.$sess.cell41$Helper.length(\u001b[32mcell41.sc\u001b[39m:\u001b[32m5\u001b[39m)",
      "  ammonite.$sess.cell41$Helper.length(\u001b[32mcell41.sc\u001b[39m:\u001b[32m5\u001b[39m)",
      "  ammonite.$sess.cell41$Helper.length(\u001b[32mcell41.sc\u001b[39m:\u001b[32m5\u001b[39m)",
      "  ammonite.$sess.cell41$Helper.length(\u001b[32mcell41.sc\u001b[39m:\u001b[32m5\u001b[39m)",
      "  ammonite.$sess.cell41$Helper.length(\u001b[32mcell41.sc\u001b[39m:\u001b[32m5\u001b[39m)",
      "  ammonite.$sess.cell41$Helper.length(\u001b[32mcell41.sc\u001b[39m:\u001b[32m5\u001b[39m)",
      "  ammonite.$sess.cell41$Helper.length(\u001b[32mcell41.sc\u001b[39m:\u001b[32m5\u001b[39m)",
      "  ammonite.$sess.cell41$Helper.length(\u001b[32mcell41.sc\u001b[39m:\u001b[32m5\u001b[39m)",
      "  ammonite.$sess.cell41$Helper.length(\u001b[32mcell41.sc\u001b[39m:\u001b[32m5\u001b[39m)",
      "  ammonite.$sess.cell41$Helper.length(\u001b[32mcell41.sc\u001b[39m:\u001b[32m5\u001b[39m)",
      "  ammonite.$sess.cell41$Helper.length(\u001b[32mcell41.sc\u001b[39m:\u001b[32m5\u001b[39m)",
      "  ammonite.$sess.cell41$Helper.length(\u001b[32mcell41.sc\u001b[39m:\u001b[32m5\u001b[39m)",
      "  ammonite.$sess.cell41$Helper.length(\u001b[32mcell41.sc\u001b[39m:\u001b[32m5\u001b[39m)",
      "  ammonite.$sess.cell41$Helper.length(\u001b[32mcell41.sc\u001b[39m:\u001b[32m5\u001b[39m)",
      "  ammonite.$sess.cell41$Helper.length(\u001b[32mcell41.sc\u001b[39m:\u001b[32m5\u001b[39m)",
      "  ammonite.$sess.cell41$Helper.length(\u001b[32mcell41.sc\u001b[39m:\u001b[32m5\u001b[39m)",
      "  ammonite.$sess.cell41$Helper.length(\u001b[32mcell41.sc\u001b[39m:\u001b[32m5\u001b[39m)",
      "  ammonite.$sess.cell41$Helper.length(\u001b[32mcell41.sc\u001b[39m:\u001b[32m5\u001b[39m)",
      "  ammonite.$sess.cell41$Helper.length(\u001b[32mcell41.sc\u001b[39m:\u001b[32m5\u001b[39m)",
      "  ammonite.$sess.cell41$Helper.length(\u001b[32mcell41.sc\u001b[39m:\u001b[32m5\u001b[39m)",
      "  ammonite.$sess.cell41$Helper.length(\u001b[32mcell41.sc\u001b[39m:\u001b[32m5\u001b[39m)",
      "  ammonite.$sess.cell41$Helper.length(\u001b[32mcell41.sc\u001b[39m:\u001b[32m5\u001b[39m)",
      "  ammonite.$sess.cell41$Helper.length(\u001b[32mcell41.sc\u001b[39m:\u001b[32m5\u001b[39m)",
      "  ammonite.$sess.cell41$Helper.length(\u001b[32mcell41.sc\u001b[39m:\u001b[32m5\u001b[39m)",
      "  ammonite.$sess.cell41$Helper.length(\u001b[32mcell41.sc\u001b[39m:\u001b[32m5\u001b[39m)",
      "  ammonite.$sess.cell41$Helper.length(\u001b[32mcell41.sc\u001b[39m:\u001b[32m5\u001b[39m)",
      "  ammonite.$sess.cell41$Helper.length(\u001b[32mcell41.sc\u001b[39m:\u001b[32m5\u001b[39m)",
      "  ammonite.$sess.cell41$Helper.length(\u001b[32mcell41.sc\u001b[39m:\u001b[32m5\u001b[39m)",
      "  ammonite.$sess.cell41$Helper.length(\u001b[32mcell41.sc\u001b[39m:\u001b[32m5\u001b[39m)",
      "  ammonite.$sess.cell41$Helper.length(\u001b[32mcell41.sc\u001b[39m:\u001b[32m5\u001b[39m)",
      "  ammonite.$sess.cell41$Helper.length(\u001b[32mcell41.sc\u001b[39m:\u001b[32m5\u001b[39m)",
      "  ammonite.$sess.cell41$Helper.length(\u001b[32mcell41.sc\u001b[39m:\u001b[32m5\u001b[39m)",
      "  ammonite.$sess.cell41$Helper.length(\u001b[32mcell41.sc\u001b[39m:\u001b[32m5\u001b[39m)",
      "  ammonite.$sess.cell41$Helper.length(\u001b[32mcell41.sc\u001b[39m:\u001b[32m5\u001b[39m)",
      "  ammonite.$sess.cell41$Helper.length(\u001b[32mcell41.sc\u001b[39m:\u001b[32m5\u001b[39m)",
      "  ammonite.$sess.cell41$Helper.length(\u001b[32mcell41.sc\u001b[39m:\u001b[32m5\u001b[39m)",
      "  ammonite.$sess.cell41$Helper.length(\u001b[32mcell41.sc\u001b[39m:\u001b[32m5\u001b[39m)",
      "  ammonite.$sess.cell41$Helper.length(\u001b[32mcell41.sc\u001b[39m:\u001b[32m5\u001b[39m)",
      "  ammonite.$sess.cell41$Helper.length(\u001b[32mcell41.sc\u001b[39m:\u001b[32m5\u001b[39m)",
      "  ammonite.$sess.cell41$Helper.length(\u001b[32mcell41.sc\u001b[39m:\u001b[32m5\u001b[39m)",
      "  ammonite.$sess.cell41$Helper.length(\u001b[32mcell41.sc\u001b[39m:\u001b[32m5\u001b[39m)",
      "  ammonite.$sess.cell41$Helper.length(\u001b[32mcell41.sc\u001b[39m:\u001b[32m5\u001b[39m)",
      "  ammonite.$sess.cell41$Helper.length(\u001b[32mcell41.sc\u001b[39m:\u001b[32m5\u001b[39m)",
      "  ammonite.$sess.cell41$Helper.length(\u001b[32mcell41.sc\u001b[39m:\u001b[32m5\u001b[39m)",
      "  ammonite.$sess.cell41$Helper.length(\u001b[32mcell41.sc\u001b[39m:\u001b[32m5\u001b[39m)",
      "  ammonite.$sess.cell41$Helper.length(\u001b[32mcell41.sc\u001b[39m:\u001b[32m5\u001b[39m)",
      "  ammonite.$sess.cell41$Helper.length(\u001b[32mcell41.sc\u001b[39m:\u001b[32m5\u001b[39m)",
      "  ammonite.$sess.cell41$Helper.length(\u001b[32mcell41.sc\u001b[39m:\u001b[32m5\u001b[39m)",
      "  ammonite.$sess.cell41$Helper.length(\u001b[32mcell41.sc\u001b[39m:\u001b[32m5\u001b[39m)",
      "  ammonite.$sess.cell41$Helper.length(\u001b[32mcell41.sc\u001b[39m:\u001b[32m5\u001b[39m)",
      "  ammonite.$sess.cell41$Helper.length(\u001b[32mcell41.sc\u001b[39m:\u001b[32m5\u001b[39m)",
      "  ammonite.$sess.cell41$Helper.length(\u001b[32mcell41.sc\u001b[39m:\u001b[32m5\u001b[39m)",
      "  ammonite.$sess.cell41$Helper.length(\u001b[32mcell41.sc\u001b[39m:\u001b[32m5\u001b[39m)",
      "  ammonite.$sess.cell41$Helper.length(\u001b[32mcell41.sc\u001b[39m:\u001b[32m5\u001b[39m)",
      "  ammonite.$sess.cell41$Helper.length(\u001b[32mcell41.sc\u001b[39m:\u001b[32m5\u001b[39m)",
      "  ammonite.$sess.cell41$Helper.length(\u001b[32mcell41.sc\u001b[39m:\u001b[32m5\u001b[39m)",
      "  ammonite.$sess.cell41$Helper.length(\u001b[32mcell41.sc\u001b[39m:\u001b[32m5\u001b[39m)",
      "  ammonite.$sess.cell41$Helper.length(\u001b[32mcell41.sc\u001b[39m:\u001b[32m5\u001b[39m)",
      "  ammonite.$sess.cell41$Helper.length(\u001b[32mcell41.sc\u001b[39m:\u001b[32m5\u001b[39m)",
      "  ammonite.$sess.cell41$Helper.length(\u001b[32mcell41.sc\u001b[39m:\u001b[32m5\u001b[39m)",
      "  ammonite.$sess.cell41$Helper.length(\u001b[32mcell41.sc\u001b[39m:\u001b[32m5\u001b[39m)",
      "  ammonite.$sess.cell41$Helper.length(\u001b[32mcell41.sc\u001b[39m:\u001b[32m5\u001b[39m)",
      "  ammonite.$sess.cell41$Helper.length(\u001b[32mcell41.sc\u001b[39m:\u001b[32m5\u001b[39m)",
      "  ammonite.$sess.cell41$Helper.length(\u001b[32mcell41.sc\u001b[39m:\u001b[32m5\u001b[39m)",
      "  ammonite.$sess.cell41$Helper.length(\u001b[32mcell41.sc\u001b[39m:\u001b[32m5\u001b[39m)",
      "  ammonite.$sess.cell41$Helper.length(\u001b[32mcell41.sc\u001b[39m:\u001b[32m5\u001b[39m)",
      "  ammonite.$sess.cell41$Helper.length(\u001b[32mcell41.sc\u001b[39m:\u001b[32m5\u001b[39m)",
      "  ammonite.$sess.cell41$Helper.length(\u001b[32mcell41.sc\u001b[39m:\u001b[32m5\u001b[39m)",
      "  ammonite.$sess.cell41$Helper.length(\u001b[32mcell41.sc\u001b[39m:\u001b[32m5\u001b[39m)",
      "  ammonite.$sess.cell41$Helper.length(\u001b[32mcell41.sc\u001b[39m:\u001b[32m5\u001b[39m)",
      "  ammonite.$sess.cell41$Helper.length(\u001b[32mcell41.sc\u001b[39m:\u001b[32m5\u001b[39m)",
      "  ammonite.$sess.cell41$Helper.length(\u001b[32mcell41.sc\u001b[39m:\u001b[32m5\u001b[39m)",
      "  ammonite.$sess.cell41$Helper.length(\u001b[32mcell41.sc\u001b[39m:\u001b[32m5\u001b[39m)",
      "  ammonite.$sess.cell41$Helper.length(\u001b[32mcell41.sc\u001b[39m:\u001b[32m5\u001b[39m)",
      "  ammonite.$sess.cell41$Helper.length(\u001b[32mcell41.sc\u001b[39m:\u001b[32m5\u001b[39m)",
      "  ammonite.$sess.cell41$Helper.length(\u001b[32mcell41.sc\u001b[39m:\u001b[32m5\u001b[39m)",
      "  ammonite.$sess.cell41$Helper.length(\u001b[32mcell41.sc\u001b[39m:\u001b[32m5\u001b[39m)",
      "  ammonite.$sess.cell41$Helper.length(\u001b[32mcell41.sc\u001b[39m:\u001b[32m5\u001b[39m)",
      "  ammonite.$sess.cell41$Helper.length(\u001b[32mcell41.sc\u001b[39m:\u001b[32m5\u001b[39m)",
      "  ammonite.$sess.cell41$Helper.length(\u001b[32mcell41.sc\u001b[39m:\u001b[32m5\u001b[39m)",
      "  ammonite.$sess.cell41$Helper.length(\u001b[32mcell41.sc\u001b[39m:\u001b[32m5\u001b[39m)",
      "  ammonite.$sess.cell41$Helper.length(\u001b[32mcell41.sc\u001b[39m:\u001b[32m5\u001b[39m)",
      "  ammonite.$sess.cell41$Helper.length(\u001b[32mcell41.sc\u001b[39m:\u001b[32m5\u001b[39m)",
      "  ammonite.$sess.cell41$Helper.length(\u001b[32mcell41.sc\u001b[39m:\u001b[32m5\u001b[39m)",
      "  ammonite.$sess.cell41$Helper.length(\u001b[32mcell41.sc\u001b[39m:\u001b[32m5\u001b[39m)",
      "  ammonite.$sess.cell41$Helper.length(\u001b[32mcell41.sc\u001b[39m:\u001b[32m5\u001b[39m)",
      "  ammonite.$sess.cell41$Helper.length(\u001b[32mcell41.sc\u001b[39m:\u001b[32m5\u001b[39m)",
      "  ammonite.$sess.cell41$Helper.length(\u001b[32mcell41.sc\u001b[39m:\u001b[32m5\u001b[39m)",
      "  ammonite.$sess.cell41$Helper.length(\u001b[32mcell41.sc\u001b[39m:\u001b[32m5\u001b[39m)",
      "  ammonite.$sess.cell41$Helper.length(\u001b[32mcell41.sc\u001b[39m:\u001b[32m5\u001b[39m)",
      "  ammonite.$sess.cell41$Helper.length(\u001b[32mcell41.sc\u001b[39m:\u001b[32m5\u001b[39m)",
      "  ammonite.$sess.cell41$Helper.length(\u001b[32mcell41.sc\u001b[39m:\u001b[32m5\u001b[39m)",
      "  ammonite.$sess.cell41$Helper.length(\u001b[32mcell41.sc\u001b[39m:\u001b[32m5\u001b[39m)",
      "  ammonite.$sess.cell41$Helper.length(\u001b[32mcell41.sc\u001b[39m:\u001b[32m5\u001b[39m)",
      "  ammonite.$sess.cell41$Helper.length(\u001b[32mcell41.sc\u001b[39m:\u001b[32m5\u001b[39m)",
      "  ammonite.$sess.cell41$Helper.length(\u001b[32mcell41.sc\u001b[39m:\u001b[32m5\u001b[39m)",
      "  ammonite.$sess.cell41$Helper.length(\u001b[32mcell41.sc\u001b[39m:\u001b[32m5\u001b[39m)",
      "  ammonite.$sess.cell41$Helper.length(\u001b[32mcell41.sc\u001b[39m:\u001b[32m5\u001b[39m)",
      "  ammonite.$sess.cell41$Helper.length(\u001b[32mcell41.sc\u001b[39m:\u001b[32m5\u001b[39m)",
      "  ammonite.$sess.cell41$Helper.length(\u001b[32mcell41.sc\u001b[39m:\u001b[32m5\u001b[39m)",
      "  ammonite.$sess.cell41$Helper.length(\u001b[32mcell41.sc\u001b[39m:\u001b[32m5\u001b[39m)",
      "  ammonite.$sess.cell41$Helper.length(\u001b[32mcell41.sc\u001b[39m:\u001b[32m5\u001b[39m)",
      "  ammonite.$sess.cell41$Helper.length(\u001b[32mcell41.sc\u001b[39m:\u001b[32m5\u001b[39m)",
      "  ammonite.$sess.cell41$Helper.length(\u001b[32mcell41.sc\u001b[39m:\u001b[32m5\u001b[39m)",
      "  ammonite.$sess.cell41$Helper.length(\u001b[32mcell41.sc\u001b[39m:\u001b[32m5\u001b[39m)",
      "  ammonite.$sess.cell41$Helper.length(\u001b[32mcell41.sc\u001b[39m:\u001b[32m5\u001b[39m)",
      "  ammonite.$sess.cell41$Helper.length(\u001b[32mcell41.sc\u001b[39m:\u001b[32m5\u001b[39m)",
      "  ammonite.$sess.cell41$Helper.length(\u001b[32mcell41.sc\u001b[39m:\u001b[32m5\u001b[39m)",
      "  ammonite.$sess.cell41$Helper.length(\u001b[32mcell41.sc\u001b[39m:\u001b[32m5\u001b[39m)",
      "  ammonite.$sess.cell41$Helper.length(\u001b[32mcell41.sc\u001b[39m:\u001b[32m5\u001b[39m)",
      "  ammonite.$sess.cell41$Helper.length(\u001b[32mcell41.sc\u001b[39m:\u001b[32m5\u001b[39m)",
      "  ammonite.$sess.cell41$Helper.length(\u001b[32mcell41.sc\u001b[39m:\u001b[32m5\u001b[39m)",
      "  ammonite.$sess.cell41$Helper.length(\u001b[32mcell41.sc\u001b[39m:\u001b[32m5\u001b[39m)",
      "  ammonite.$sess.cell41$Helper.length(\u001b[32mcell41.sc\u001b[39m:\u001b[32m5\u001b[39m)",
      "  ammonite.$sess.cell41$Helper.length(\u001b[32mcell41.sc\u001b[39m:\u001b[32m5\u001b[39m)",
      "  ammonite.$sess.cell41$Helper.length(\u001b[32mcell41.sc\u001b[39m:\u001b[32m5\u001b[39m)",
      "  ammonite.$sess.cell41$Helper.length(\u001b[32mcell41.sc\u001b[39m:\u001b[32m5\u001b[39m)",
      "  ammonite.$sess.cell41$Helper.length(\u001b[32mcell41.sc\u001b[39m:\u001b[32m5\u001b[39m)",
      "  ammonite.$sess.cell41$Helper.length(\u001b[32mcell41.sc\u001b[39m:\u001b[32m5\u001b[39m)",
      "  ammonite.$sess.cell41$Helper.length(\u001b[32mcell41.sc\u001b[39m:\u001b[32m5\u001b[39m)",
      "  ammonite.$sess.cell41$Helper.length(\u001b[32mcell41.sc\u001b[39m:\u001b[32m5\u001b[39m)",
      "  ammonite.$sess.cell41$Helper.length(\u001b[32mcell41.sc\u001b[39m:\u001b[32m5\u001b[39m)",
      "  ammonite.$sess.cell41$Helper.length(\u001b[32mcell41.sc\u001b[39m:\u001b[32m5\u001b[39m)",
      "  ammonite.$sess.cell41$Helper.length(\u001b[32mcell41.sc\u001b[39m:\u001b[32m5\u001b[39m)",
      "  ammonite.$sess.cell41$Helper.length(\u001b[32mcell41.sc\u001b[39m:\u001b[32m5\u001b[39m)",
      "  ammonite.$sess.cell41$Helper.length(\u001b[32mcell41.sc\u001b[39m:\u001b[32m5\u001b[39m)",
      "  ammonite.$sess.cell41$Helper.length(\u001b[32mcell41.sc\u001b[39m:\u001b[32m5\u001b[39m)",
      "  ammonite.$sess.cell41$Helper.length(\u001b[32mcell41.sc\u001b[39m:\u001b[32m5\u001b[39m)",
      "  ammonite.$sess.cell41$Helper.length(\u001b[32mcell41.sc\u001b[39m:\u001b[32m5\u001b[39m)",
      "  ammonite.$sess.cell41$Helper.length(\u001b[32mcell41.sc\u001b[39m:\u001b[32m5\u001b[39m)",
      "  ammonite.$sess.cell41$Helper.length(\u001b[32mcell41.sc\u001b[39m:\u001b[32m5\u001b[39m)",
      "  ammonite.$sess.cell41$Helper.length(\u001b[32mcell41.sc\u001b[39m:\u001b[32m5\u001b[39m)",
      "  ammonite.$sess.cell41$Helper.length(\u001b[32mcell41.sc\u001b[39m:\u001b[32m5\u001b[39m)",
      "  ammonite.$sess.cell41$Helper.length(\u001b[32mcell41.sc\u001b[39m:\u001b[32m5\u001b[39m)",
      "  ammonite.$sess.cell41$Helper.length(\u001b[32mcell41.sc\u001b[39m:\u001b[32m5\u001b[39m)",
      "  ammonite.$sess.cell41$Helper.length(\u001b[32mcell41.sc\u001b[39m:\u001b[32m5\u001b[39m)",
      "  ammonite.$sess.cell41$Helper.length(\u001b[32mcell41.sc\u001b[39m:\u001b[32m5\u001b[39m)",
      "  ammonite.$sess.cell41$Helper.length(\u001b[32mcell41.sc\u001b[39m:\u001b[32m5\u001b[39m)",
      "  ammonite.$sess.cell41$Helper.length(\u001b[32mcell41.sc\u001b[39m:\u001b[32m5\u001b[39m)",
      "  ammonite.$sess.cell41$Helper.length(\u001b[32mcell41.sc\u001b[39m:\u001b[32m5\u001b[39m)",
      "  ammonite.$sess.cell41$Helper.length(\u001b[32mcell41.sc\u001b[39m:\u001b[32m5\u001b[39m)",
      "  ammonite.$sess.cell41$Helper.length(\u001b[32mcell41.sc\u001b[39m:\u001b[32m5\u001b[39m)",
      "  ammonite.$sess.cell41$Helper.length(\u001b[32mcell41.sc\u001b[39m:\u001b[32m5\u001b[39m)",
      "  ammonite.$sess.cell41$Helper.length(\u001b[32mcell41.sc\u001b[39m:\u001b[32m5\u001b[39m)",
      "  ammonite.$sess.cell41$Helper.length(\u001b[32mcell41.sc\u001b[39m:\u001b[32m5\u001b[39m)",
      "  ammonite.$sess.cell41$Helper.length(\u001b[32mcell41.sc\u001b[39m:\u001b[32m5\u001b[39m)",
      "  ammonite.$sess.cell41$Helper.length(\u001b[32mcell41.sc\u001b[39m:\u001b[32m5\u001b[39m)",
      "  ammonite.$sess.cell41$Helper.length(\u001b[32mcell41.sc\u001b[39m:\u001b[32m5\u001b[39m)",
      "  ammonite.$sess.cell41$Helper.length(\u001b[32mcell41.sc\u001b[39m:\u001b[32m5\u001b[39m)",
      "  ammonite.$sess.cell41$Helper.length(\u001b[32mcell41.sc\u001b[39m:\u001b[32m5\u001b[39m)",
      "  ammonite.$sess.cell41$Helper.length(\u001b[32mcell41.sc\u001b[39m:\u001b[32m5\u001b[39m)",
      "  ammonite.$sess.cell41$Helper.length(\u001b[32mcell41.sc\u001b[39m:\u001b[32m5\u001b[39m)",
      "  ammonite.$sess.cell41$Helper.length(\u001b[32mcell41.sc\u001b[39m:\u001b[32m5\u001b[39m)",
      "  ammonite.$sess.cell41$Helper.length(\u001b[32mcell41.sc\u001b[39m:\u001b[32m5\u001b[39m)",
      "  ammonite.$sess.cell41$Helper.length(\u001b[32mcell41.sc\u001b[39m:\u001b[32m5\u001b[39m)",
      "  ammonite.$sess.cell41$Helper.length(\u001b[32mcell41.sc\u001b[39m:\u001b[32m5\u001b[39m)",
      "  ammonite.$sess.cell41$Helper.length(\u001b[32mcell41.sc\u001b[39m:\u001b[32m5\u001b[39m)",
      "  ammonite.$sess.cell41$Helper.length(\u001b[32mcell41.sc\u001b[39m:\u001b[32m5\u001b[39m)",
      "  ammonite.$sess.cell41$Helper.length(\u001b[32mcell41.sc\u001b[39m:\u001b[32m5\u001b[39m)",
      "  ammonite.$sess.cell41$Helper.length(\u001b[32mcell41.sc\u001b[39m:\u001b[32m5\u001b[39m)",
      "  ammonite.$sess.cell41$Helper.length(\u001b[32mcell41.sc\u001b[39m:\u001b[32m5\u001b[39m)",
      "  ammonite.$sess.cell41$Helper.length(\u001b[32mcell41.sc\u001b[39m:\u001b[32m5\u001b[39m)",
      "  ammonite.$sess.cell41$Helper.length(\u001b[32mcell41.sc\u001b[39m:\u001b[32m5\u001b[39m)",
      "  ammonite.$sess.cell41$Helper.length(\u001b[32mcell41.sc\u001b[39m:\u001b[32m5\u001b[39m)",
      "  ammonite.$sess.cell41$Helper.length(\u001b[32mcell41.sc\u001b[39m:\u001b[32m5\u001b[39m)",
      "  ammonite.$sess.cell41$Helper.length(\u001b[32mcell41.sc\u001b[39m:\u001b[32m5\u001b[39m)",
      "  ammonite.$sess.cell41$Helper.length(\u001b[32mcell41.sc\u001b[39m:\u001b[32m5\u001b[39m)",
      "  ammonite.$sess.cell41$Helper.length(\u001b[32mcell41.sc\u001b[39m:\u001b[32m5\u001b[39m)",
      "  ammonite.$sess.cell41$Helper.length(\u001b[32mcell41.sc\u001b[39m:\u001b[32m5\u001b[39m)",
      "  ammonite.$sess.cell41$Helper.length(\u001b[32mcell41.sc\u001b[39m:\u001b[32m5\u001b[39m)",
      "  ammonite.$sess.cell41$Helper.length(\u001b[32mcell41.sc\u001b[39m:\u001b[32m5\u001b[39m)",
      "  ammonite.$sess.cell41$Helper.length(\u001b[32mcell41.sc\u001b[39m:\u001b[32m5\u001b[39m)",
      "  ammonite.$sess.cell41$Helper.length(\u001b[32mcell41.sc\u001b[39m:\u001b[32m5\u001b[39m)",
      "  ammonite.$sess.cell41$Helper.length(\u001b[32mcell41.sc\u001b[39m:\u001b[32m5\u001b[39m)",
      "  ammonite.$sess.cell41$Helper.length(\u001b[32mcell41.sc\u001b[39m:\u001b[32m5\u001b[39m)",
      "  ammonite.$sess.cell41$Helper.length(\u001b[32mcell41.sc\u001b[39m:\u001b[32m5\u001b[39m)",
      "  ammonite.$sess.cell41$Helper.length(\u001b[32mcell41.sc\u001b[39m:\u001b[32m5\u001b[39m)",
      "  ammonite.$sess.cell41$Helper.length(\u001b[32mcell41.sc\u001b[39m:\u001b[32m5\u001b[39m)",
      "  ammonite.$sess.cell41$Helper.length(\u001b[32mcell41.sc\u001b[39m:\u001b[32m5\u001b[39m)",
      "  ammonite.$sess.cell41$Helper.length(\u001b[32mcell41.sc\u001b[39m:\u001b[32m5\u001b[39m)",
      "  ammonite.$sess.cell41$Helper.length(\u001b[32mcell41.sc\u001b[39m:\u001b[32m5\u001b[39m)",
      "  ammonite.$sess.cell41$Helper.length(\u001b[32mcell41.sc\u001b[39m:\u001b[32m5\u001b[39m)",
      "  ammonite.$sess.cell41$Helper.length(\u001b[32mcell41.sc\u001b[39m:\u001b[32m5\u001b[39m)",
      "  ammonite.$sess.cell41$Helper.length(\u001b[32mcell41.sc\u001b[39m:\u001b[32m5\u001b[39m)",
      "  ammonite.$sess.cell41$Helper.length(\u001b[32mcell41.sc\u001b[39m:\u001b[32m5\u001b[39m)",
      "  ammonite.$sess.cell41$Helper.length(\u001b[32mcell41.sc\u001b[39m:\u001b[32m5\u001b[39m)",
      "  ammonite.$sess.cell41$Helper.length(\u001b[32mcell41.sc\u001b[39m:\u001b[32m5\u001b[39m)",
      "  ammonite.$sess.cell41$Helper.length(\u001b[32mcell41.sc\u001b[39m:\u001b[32m5\u001b[39m)",
      "  ammonite.$sess.cell41$Helper.length(\u001b[32mcell41.sc\u001b[39m:\u001b[32m5\u001b[39m)",
      "  ammonite.$sess.cell41$Helper.length(\u001b[32mcell41.sc\u001b[39m:\u001b[32m5\u001b[39m)",
      "  ammonite.$sess.cell41$Helper.length(\u001b[32mcell41.sc\u001b[39m:\u001b[32m5\u001b[39m)",
      "  ammonite.$sess.cell41$Helper.length(\u001b[32mcell41.sc\u001b[39m:\u001b[32m5\u001b[39m)",
      "  ammonite.$sess.cell41$Helper.length(\u001b[32mcell41.sc\u001b[39m:\u001b[32m5\u001b[39m)",
      "  ammonite.$sess.cell41$Helper.length(\u001b[32mcell41.sc\u001b[39m:\u001b[32m5\u001b[39m)",
      "  ammonite.$sess.cell41$Helper.length(\u001b[32mcell41.sc\u001b[39m:\u001b[32m5\u001b[39m)",
      "  ammonite.$sess.cell41$Helper.length(\u001b[32mcell41.sc\u001b[39m:\u001b[32m5\u001b[39m)",
      "  ammonite.$sess.cell41$Helper.length(\u001b[32mcell41.sc\u001b[39m:\u001b[32m5\u001b[39m)",
      "  ammonite.$sess.cell41$Helper.length(\u001b[32mcell41.sc\u001b[39m:\u001b[32m5\u001b[39m)",
      "  ammonite.$sess.cell41$Helper.length(\u001b[32mcell41.sc\u001b[39m:\u001b[32m5\u001b[39m)",
      "  ammonite.$sess.cell41$Helper.length(\u001b[32mcell41.sc\u001b[39m:\u001b[32m5\u001b[39m)",
      "  ammonite.$sess.cell41$Helper.length(\u001b[32mcell41.sc\u001b[39m:\u001b[32m5\u001b[39m)",
      "  ammonite.$sess.cell41$Helper.length(\u001b[32mcell41.sc\u001b[39m:\u001b[32m5\u001b[39m)",
      "  ammonite.$sess.cell41$Helper.length(\u001b[32mcell41.sc\u001b[39m:\u001b[32m5\u001b[39m)",
      "  ammonite.$sess.cell41$Helper.length(\u001b[32mcell41.sc\u001b[39m:\u001b[32m5\u001b[39m)",
      "  ammonite.$sess.cell41$Helper.length(\u001b[32mcell41.sc\u001b[39m:\u001b[32m5\u001b[39m)",
      "  ammonite.$sess.cell41$Helper.length(\u001b[32mcell41.sc\u001b[39m:\u001b[32m5\u001b[39m)",
      "  ammonite.$sess.cell41$Helper.length(\u001b[32mcell41.sc\u001b[39m:\u001b[32m5\u001b[39m)",
      "  ammonite.$sess.cell41$Helper.length(\u001b[32mcell41.sc\u001b[39m:\u001b[32m5\u001b[39m)",
      "  ammonite.$sess.cell41$Helper.length(\u001b[32mcell41.sc\u001b[39m:\u001b[32m5\u001b[39m)",
      "  ammonite.$sess.cell41$Helper.length(\u001b[32mcell41.sc\u001b[39m:\u001b[32m5\u001b[39m)",
      "  ammonite.$sess.cell41$Helper.length(\u001b[32mcell41.sc\u001b[39m:\u001b[32m5\u001b[39m)",
      "  ammonite.$sess.cell41$Helper.length(\u001b[32mcell41.sc\u001b[39m:\u001b[32m5\u001b[39m)",
      "  ammonite.$sess.cell41$Helper.length(\u001b[32mcell41.sc\u001b[39m:\u001b[32m5\u001b[39m)",
      "  ammonite.$sess.cell41$Helper.length(\u001b[32mcell41.sc\u001b[39m:\u001b[32m5\u001b[39m)",
      "  ammonite.$sess.cell41$Helper.length(\u001b[32mcell41.sc\u001b[39m:\u001b[32m5\u001b[39m)",
      "  ammonite.$sess.cell41$Helper.length(\u001b[32mcell41.sc\u001b[39m:\u001b[32m5\u001b[39m)",
      "  ammonite.$sess.cell41$Helper.length(\u001b[32mcell41.sc\u001b[39m:\u001b[32m5\u001b[39m)",
      "  ammonite.$sess.cell41$Helper.length(\u001b[32mcell41.sc\u001b[39m:\u001b[32m5\u001b[39m)",
      "  ammonite.$sess.cell41$Helper.length(\u001b[32mcell41.sc\u001b[39m:\u001b[32m5\u001b[39m)",
      "  ammonite.$sess.cell41$Helper.length(\u001b[32mcell41.sc\u001b[39m:\u001b[32m5\u001b[39m)",
      "  ammonite.$sess.cell41$Helper.length(\u001b[32mcell41.sc\u001b[39m:\u001b[32m5\u001b[39m)",
      "  ammonite.$sess.cell41$Helper.length(\u001b[32mcell41.sc\u001b[39m:\u001b[32m5\u001b[39m)",
      "  ammonite.$sess.cell41$Helper.length(\u001b[32mcell41.sc\u001b[39m:\u001b[32m5\u001b[39m)",
      "  ammonite.$sess.cell41$Helper.length(\u001b[32mcell41.sc\u001b[39m:\u001b[32m5\u001b[39m)",
      "  ammonite.$sess.cell41$Helper.length(\u001b[32mcell41.sc\u001b[39m:\u001b[32m5\u001b[39m)",
      "  ammonite.$sess.cell41$Helper.length(\u001b[32mcell41.sc\u001b[39m:\u001b[32m5\u001b[39m)",
      "  ammonite.$sess.cell41$Helper.length(\u001b[32mcell41.sc\u001b[39m:\u001b[32m5\u001b[39m)",
      "  ammonite.$sess.cell41$Helper.length(\u001b[32mcell41.sc\u001b[39m:\u001b[32m5\u001b[39m)",
      "  ammonite.$sess.cell41$Helper.length(\u001b[32mcell41.sc\u001b[39m:\u001b[32m5\u001b[39m)",
      "  ammonite.$sess.cell41$Helper.length(\u001b[32mcell41.sc\u001b[39m:\u001b[32m5\u001b[39m)",
      "  ammonite.$sess.cell41$Helper.length(\u001b[32mcell41.sc\u001b[39m:\u001b[32m5\u001b[39m)",
      "  ammonite.$sess.cell41$Helper.length(\u001b[32mcell41.sc\u001b[39m:\u001b[32m5\u001b[39m)",
      "  ammonite.$sess.cell41$Helper.length(\u001b[32mcell41.sc\u001b[39m:\u001b[32m5\u001b[39m)",
      "  ammonite.$sess.cell41$Helper.length(\u001b[32mcell41.sc\u001b[39m:\u001b[32m5\u001b[39m)",
      "  ammonite.$sess.cell41$Helper.length(\u001b[32mcell41.sc\u001b[39m:\u001b[32m5\u001b[39m)",
      "  ammonite.$sess.cell41$Helper.length(\u001b[32mcell41.sc\u001b[39m:\u001b[32m5\u001b[39m)",
      "  ammonite.$sess.cell41$Helper.length(\u001b[32mcell41.sc\u001b[39m:\u001b[32m5\u001b[39m)",
      "  ammonite.$sess.cell41$Helper.length(\u001b[32mcell41.sc\u001b[39m:\u001b[32m5\u001b[39m)",
      "  ammonite.$sess.cell41$Helper.length(\u001b[32mcell41.sc\u001b[39m:\u001b[32m5\u001b[39m)",
      "  ammonite.$sess.cell41$Helper.length(\u001b[32mcell41.sc\u001b[39m:\u001b[32m5\u001b[39m)",
      "  ammonite.$sess.cell41$Helper.length(\u001b[32mcell41.sc\u001b[39m:\u001b[32m5\u001b[39m)",
      "  ammonite.$sess.cell41$Helper.length(\u001b[32mcell41.sc\u001b[39m:\u001b[32m5\u001b[39m)",
      "  ammonite.$sess.cell41$Helper.length(\u001b[32mcell41.sc\u001b[39m:\u001b[32m5\u001b[39m)",
      "  ammonite.$sess.cell41$Helper.length(\u001b[32mcell41.sc\u001b[39m:\u001b[32m5\u001b[39m)",
      "  ammonite.$sess.cell41$Helper.length(\u001b[32mcell41.sc\u001b[39m:\u001b[32m5\u001b[39m)",
      "  ammonite.$sess.cell41$Helper.length(\u001b[32mcell41.sc\u001b[39m:\u001b[32m5\u001b[39m)",
      "  ammonite.$sess.cell41$Helper.length(\u001b[32mcell41.sc\u001b[39m:\u001b[32m5\u001b[39m)",
      "  ammonite.$sess.cell41$Helper.length(\u001b[32mcell41.sc\u001b[39m:\u001b[32m5\u001b[39m)",
      "  ammonite.$sess.cell41$Helper.length(\u001b[32mcell41.sc\u001b[39m:\u001b[32m5\u001b[39m)",
      "  ammonite.$sess.cell41$Helper.length(\u001b[32mcell41.sc\u001b[39m:\u001b[32m5\u001b[39m)",
      "  ammonite.$sess.cell41$Helper.length(\u001b[32mcell41.sc\u001b[39m:\u001b[32m5\u001b[39m)",
      "  ammonite.$sess.cell41$Helper.length(\u001b[32mcell41.sc\u001b[39m:\u001b[32m5\u001b[39m)",
      "  ammonite.$sess.cell41$Helper.length(\u001b[32mcell41.sc\u001b[39m:\u001b[32m5\u001b[39m)",
      "  ammonite.$sess.cell41$Helper.length(\u001b[32mcell41.sc\u001b[39m:\u001b[32m5\u001b[39m)",
      "  ammonite.$sess.cell41$Helper.length(\u001b[32mcell41.sc\u001b[39m:\u001b[32m5\u001b[39m)",
      "  ammonite.$sess.cell41$Helper.length(\u001b[32mcell41.sc\u001b[39m:\u001b[32m5\u001b[39m)",
      "  ammonite.$sess.cell41$Helper.length(\u001b[32mcell41.sc\u001b[39m:\u001b[32m5\u001b[39m)",
      "  ammonite.$sess.cell41$Helper.length(\u001b[32mcell41.sc\u001b[39m:\u001b[32m5\u001b[39m)",
      "  ammonite.$sess.cell41$Helper.length(\u001b[32mcell41.sc\u001b[39m:\u001b[32m5\u001b[39m)",
      "  ammonite.$sess.cell41$Helper.length(\u001b[32mcell41.sc\u001b[39m:\u001b[32m5\u001b[39m)",
      "  ammonite.$sess.cell41$Helper.length(\u001b[32mcell41.sc\u001b[39m:\u001b[32m5\u001b[39m)",
      "  ammonite.$sess.cell41$Helper.length(\u001b[32mcell41.sc\u001b[39m:\u001b[32m5\u001b[39m)",
      "  ammonite.$sess.cell41$Helper.length(\u001b[32mcell41.sc\u001b[39m:\u001b[32m5\u001b[39m)",
      "  ammonite.$sess.cell41$Helper.length(\u001b[32mcell41.sc\u001b[39m:\u001b[32m5\u001b[39m)",
      "  ammonite.$sess.cell41$Helper.length(\u001b[32mcell41.sc\u001b[39m:\u001b[32m5\u001b[39m)",
      "  ammonite.$sess.cell41$Helper.length(\u001b[32mcell41.sc\u001b[39m:\u001b[32m5\u001b[39m)",
      "  ammonite.$sess.cell41$Helper.length(\u001b[32mcell41.sc\u001b[39m:\u001b[32m5\u001b[39m)",
      "  ammonite.$sess.cell41$Helper.length(\u001b[32mcell41.sc\u001b[39m:\u001b[32m5\u001b[39m)",
      "  ammonite.$sess.cell41$Helper.length(\u001b[32mcell41.sc\u001b[39m:\u001b[32m5\u001b[39m)",
      "  ammonite.$sess.cell41$Helper.length(\u001b[32mcell41.sc\u001b[39m:\u001b[32m5\u001b[39m)",
      "  ammonite.$sess.cell41$Helper.length(\u001b[32mcell41.sc\u001b[39m:\u001b[32m5\u001b[39m)",
      "  ammonite.$sess.cell41$Helper.length(\u001b[32mcell41.sc\u001b[39m:\u001b[32m5\u001b[39m)",
      "  ammonite.$sess.cell41$Helper.length(\u001b[32mcell41.sc\u001b[39m:\u001b[32m5\u001b[39m)",
      "  ammonite.$sess.cell41$Helper.length(\u001b[32mcell41.sc\u001b[39m:\u001b[32m5\u001b[39m)",
      "  ammonite.$sess.cell41$Helper.length(\u001b[32mcell41.sc\u001b[39m:\u001b[32m5\u001b[39m)",
      "  ammonite.$sess.cell41$Helper.length(\u001b[32mcell41.sc\u001b[39m:\u001b[32m5\u001b[39m)",
      "  ammonite.$sess.cell41$Helper.length(\u001b[32mcell41.sc\u001b[39m:\u001b[32m5\u001b[39m)",
      "  ammonite.$sess.cell41$Helper.length(\u001b[32mcell41.sc\u001b[39m:\u001b[32m5\u001b[39m)",
      "  ammonite.$sess.cell41$Helper.length(\u001b[32mcell41.sc\u001b[39m:\u001b[32m5\u001b[39m)",
      "  ammonite.$sess.cell41$Helper.length(\u001b[32mcell41.sc\u001b[39m:\u001b[32m5\u001b[39m)",
      "  ammonite.$sess.cell41$Helper.length(\u001b[32mcell41.sc\u001b[39m:\u001b[32m5\u001b[39m)",
      "  ammonite.$sess.cell41$Helper.length(\u001b[32mcell41.sc\u001b[39m:\u001b[32m5\u001b[39m)",
      "  ammonite.$sess.cell41$Helper.length(\u001b[32mcell41.sc\u001b[39m:\u001b[32m5\u001b[39m)",
      "  ammonite.$sess.cell41$Helper.length(\u001b[32mcell41.sc\u001b[39m:\u001b[32m5\u001b[39m)",
      "  ammonite.$sess.cell41$Helper.length(\u001b[32mcell41.sc\u001b[39m:\u001b[32m5\u001b[39m)",
      "  ammonite.$sess.cell41$Helper.length(\u001b[32mcell41.sc\u001b[39m:\u001b[32m5\u001b[39m)",
      "  ammonite.$sess.cell41$Helper.length(\u001b[32mcell41.sc\u001b[39m:\u001b[32m5\u001b[39m)",
      "  ammonite.$sess.cell41$Helper.length(\u001b[32mcell41.sc\u001b[39m:\u001b[32m5\u001b[39m)",
      "  ammonite.$sess.cell41$Helper.length(\u001b[32mcell41.sc\u001b[39m:\u001b[32m5\u001b[39m)",
      "  ammonite.$sess.cell41$Helper.length(\u001b[32mcell41.sc\u001b[39m:\u001b[32m5\u001b[39m)",
      "  ammonite.$sess.cell41$Helper.length(\u001b[32mcell41.sc\u001b[39m:\u001b[32m5\u001b[39m)",
      "  ammonite.$sess.cell41$Helper.length(\u001b[32mcell41.sc\u001b[39m:\u001b[32m5\u001b[39m)",
      "  ammonite.$sess.cell41$Helper.length(\u001b[32mcell41.sc\u001b[39m:\u001b[32m5\u001b[39m)",
      "  ammonite.$sess.cell41$Helper.length(\u001b[32mcell41.sc\u001b[39m:\u001b[32m5\u001b[39m)",
      "  ammonite.$sess.cell41$Helper.length(\u001b[32mcell41.sc\u001b[39m:\u001b[32m5\u001b[39m)",
      "  ammonite.$sess.cell41$Helper.length(\u001b[32mcell41.sc\u001b[39m:\u001b[32m5\u001b[39m)",
      "  ammonite.$sess.cell41$Helper.length(\u001b[32mcell41.sc\u001b[39m:\u001b[32m5\u001b[39m)",
      "  ammonite.$sess.cell41$Helper.length(\u001b[32mcell41.sc\u001b[39m:\u001b[32m5\u001b[39m)",
      "  ammonite.$sess.cell41$Helper.length(\u001b[32mcell41.sc\u001b[39m:\u001b[32m5\u001b[39m)",
      "  ammonite.$sess.cell41$Helper.length(\u001b[32mcell41.sc\u001b[39m:\u001b[32m5\u001b[39m)",
      "  ammonite.$sess.cell41$Helper.length(\u001b[32mcell41.sc\u001b[39m:\u001b[32m5\u001b[39m)",
      "  ammonite.$sess.cell41$Helper.length(\u001b[32mcell41.sc\u001b[39m:\u001b[32m5\u001b[39m)",
      "  ammonite.$sess.cell41$Helper.length(\u001b[32mcell41.sc\u001b[39m:\u001b[32m5\u001b[39m)",
      "  ammonite.$sess.cell41$Helper.length(\u001b[32mcell41.sc\u001b[39m:\u001b[32m5\u001b[39m)",
      "  ammonite.$sess.cell41$Helper.length(\u001b[32mcell41.sc\u001b[39m:\u001b[32m5\u001b[39m)",
      "  ammonite.$sess.cell41$Helper.length(\u001b[32mcell41.sc\u001b[39m:\u001b[32m5\u001b[39m)",
      "  ammonite.$sess.cell41$Helper.length(\u001b[32mcell41.sc\u001b[39m:\u001b[32m5\u001b[39m)",
      "  ammonite.$sess.cell41$Helper.length(\u001b[32mcell41.sc\u001b[39m:\u001b[32m5\u001b[39m)",
      "  ammonite.$sess.cell41$Helper.length(\u001b[32mcell41.sc\u001b[39m:\u001b[32m5\u001b[39m)",
      "  ammonite.$sess.cell41$Helper.length(\u001b[32mcell41.sc\u001b[39m:\u001b[32m5\u001b[39m)",
      "  ammonite.$sess.cell41$Helper.length(\u001b[32mcell41.sc\u001b[39m:\u001b[32m5\u001b[39m)",
      "  ammonite.$sess.cell41$Helper.length(\u001b[32mcell41.sc\u001b[39m:\u001b[32m5\u001b[39m)",
      "  ammonite.$sess.cell41$Helper.length(\u001b[32mcell41.sc\u001b[39m:\u001b[32m5\u001b[39m)",
      "  ammonite.$sess.cell41$Helper.length(\u001b[32mcell41.sc\u001b[39m:\u001b[32m5\u001b[39m)",
      "  ammonite.$sess.cell41$Helper.length(\u001b[32mcell41.sc\u001b[39m:\u001b[32m5\u001b[39m)",
      "  ammonite.$sess.cell41$Helper.length(\u001b[32mcell41.sc\u001b[39m:\u001b[32m5\u001b[39m)",
      "  ammonite.$sess.cell41$Helper.length(\u001b[32mcell41.sc\u001b[39m:\u001b[32m5\u001b[39m)",
      "  ammonite.$sess.cell41$Helper.length(\u001b[32mcell41.sc\u001b[39m:\u001b[32m5\u001b[39m)",
      "  ammonite.$sess.cell41$Helper.length(\u001b[32mcell41.sc\u001b[39m:\u001b[32m5\u001b[39m)",
      "  ammonite.$sess.cell41$Helper.length(\u001b[32mcell41.sc\u001b[39m:\u001b[32m5\u001b[39m)",
      "  ammonite.$sess.cell41$Helper.length(\u001b[32mcell41.sc\u001b[39m:\u001b[32m5\u001b[39m)",
      "  ammonite.$sess.cell41$Helper.length(\u001b[32mcell41.sc\u001b[39m:\u001b[32m5\u001b[39m)",
      "  ammonite.$sess.cell41$Helper.length(\u001b[32mcell41.sc\u001b[39m:\u001b[32m5\u001b[39m)",
      "  ammonite.$sess.cell41$Helper.length(\u001b[32mcell41.sc\u001b[39m:\u001b[32m5\u001b[39m)",
      "  ammonite.$sess.cell41$Helper.length(\u001b[32mcell41.sc\u001b[39m:\u001b[32m5\u001b[39m)",
      "  ammonite.$sess.cell41$Helper.length(\u001b[32mcell41.sc\u001b[39m:\u001b[32m5\u001b[39m)",
      "  ammonite.$sess.cell41$Helper.length(\u001b[32mcell41.sc\u001b[39m:\u001b[32m5\u001b[39m)",
      "  ammonite.$sess.cell41$Helper.length(\u001b[32mcell41.sc\u001b[39m:\u001b[32m5\u001b[39m)",
      "  ammonite.$sess.cell41$Helper.length(\u001b[32mcell41.sc\u001b[39m:\u001b[32m5\u001b[39m)",
      "  ammonite.$sess.cell41$Helper.length(\u001b[32mcell41.sc\u001b[39m:\u001b[32m5\u001b[39m)",
      "  ammonite.$sess.cell41$Helper.length(\u001b[32mcell41.sc\u001b[39m:\u001b[32m5\u001b[39m)",
      "  ammonite.$sess.cell41$Helper.length(\u001b[32mcell41.sc\u001b[39m:\u001b[32m5\u001b[39m)",
      "  ammonite.$sess.cell41$Helper.length(\u001b[32mcell41.sc\u001b[39m:\u001b[32m5\u001b[39m)",
      "  ammonite.$sess.cell41$Helper.length(\u001b[32mcell41.sc\u001b[39m:\u001b[32m5\u001b[39m)",
      "  ammonite.$sess.cell41$Helper.length(\u001b[32mcell41.sc\u001b[39m:\u001b[32m5\u001b[39m)",
      "  ammonite.$sess.cell41$Helper.length(\u001b[32mcell41.sc\u001b[39m:\u001b[32m5\u001b[39m)",
      "  ammonite.$sess.cell41$Helper.length(\u001b[32mcell41.sc\u001b[39m:\u001b[32m5\u001b[39m)",
      "  ammonite.$sess.cell41$Helper.length(\u001b[32mcell41.sc\u001b[39m:\u001b[32m5\u001b[39m)",
      "  ammonite.$sess.cell41$Helper.length(\u001b[32mcell41.sc\u001b[39m:\u001b[32m5\u001b[39m)",
      "  ammonite.$sess.cell41$Helper.length(\u001b[32mcell41.sc\u001b[39m:\u001b[32m5\u001b[39m)",
      "  ammonite.$sess.cell41$Helper.length(\u001b[32mcell41.sc\u001b[39m:\u001b[32m5\u001b[39m)",
      "  ammonite.$sess.cell41$Helper.length(\u001b[32mcell41.sc\u001b[39m:\u001b[32m5\u001b[39m)",
      "  ammonite.$sess.cell41$Helper.length(\u001b[32mcell41.sc\u001b[39m:\u001b[32m5\u001b[39m)",
      "  ammonite.$sess.cell41$Helper.length(\u001b[32mcell41.sc\u001b[39m:\u001b[32m5\u001b[39m)",
      "  ammonite.$sess.cell41$Helper.length(\u001b[32mcell41.sc\u001b[39m:\u001b[32m5\u001b[39m)",
      "  ammonite.$sess.cell41$Helper.length(\u001b[32mcell41.sc\u001b[39m:\u001b[32m5\u001b[39m)",
      "  ammonite.$sess.cell41$Helper.length(\u001b[32mcell41.sc\u001b[39m:\u001b[32m5\u001b[39m)",
      "  ammonite.$sess.cell41$Helper.length(\u001b[32mcell41.sc\u001b[39m:\u001b[32m5\u001b[39m)",
      "  ammonite.$sess.cell41$Helper.length(\u001b[32mcell41.sc\u001b[39m:\u001b[32m5\u001b[39m)",
      "  ammonite.$sess.cell41$Helper.length(\u001b[32mcell41.sc\u001b[39m:\u001b[32m5\u001b[39m)",
      "  ammonite.$sess.cell41$Helper.length(\u001b[32mcell41.sc\u001b[39m:\u001b[32m5\u001b[39m)",
      "  ammonite.$sess.cell41$Helper.length(\u001b[32mcell41.sc\u001b[39m:\u001b[32m5\u001b[39m)",
      "  ammonite.$sess.cell41$Helper.length(\u001b[32mcell41.sc\u001b[39m:\u001b[32m5\u001b[39m)",
      "  ammonite.$sess.cell41$Helper.length(\u001b[32mcell41.sc\u001b[39m:\u001b[32m5\u001b[39m)",
      "  ammonite.$sess.cell41$Helper.length(\u001b[32mcell41.sc\u001b[39m:\u001b[32m5\u001b[39m)",
      "  ammonite.$sess.cell41$Helper.length(\u001b[32mcell41.sc\u001b[39m:\u001b[32m5\u001b[39m)",
      "  ammonite.$sess.cell41$Helper.length(\u001b[32mcell41.sc\u001b[39m:\u001b[32m5\u001b[39m)",
      "  ammonite.$sess.cell41$Helper.length(\u001b[32mcell41.sc\u001b[39m:\u001b[32m5\u001b[39m)",
      "  ammonite.$sess.cell41$Helper.length(\u001b[32mcell41.sc\u001b[39m:\u001b[32m5\u001b[39m)",
      "  ammonite.$sess.cell41$Helper.length(\u001b[32mcell41.sc\u001b[39m:\u001b[32m5\u001b[39m)",
      "  ammonite.$sess.cell41$Helper.length(\u001b[32mcell41.sc\u001b[39m:\u001b[32m5\u001b[39m)",
      "  ammonite.$sess.cell41$Helper.length(\u001b[32mcell41.sc\u001b[39m:\u001b[32m5\u001b[39m)",
      "  ammonite.$sess.cell41$Helper.length(\u001b[32mcell41.sc\u001b[39m:\u001b[32m5\u001b[39m)",
      "  ammonite.$sess.cell41$Helper.length(\u001b[32mcell41.sc\u001b[39m:\u001b[32m5\u001b[39m)",
      "  ammonite.$sess.cell41$Helper.length(\u001b[32mcell41.sc\u001b[39m:\u001b[32m5\u001b[39m)",
      "  ammonite.$sess.cell41$Helper.length(\u001b[32mcell41.sc\u001b[39m:\u001b[32m5\u001b[39m)",
      "  ammonite.$sess.cell41$Helper.length(\u001b[32mcell41.sc\u001b[39m:\u001b[32m5\u001b[39m)",
      "  ammonite.$sess.cell41$Helper.length(\u001b[32mcell41.sc\u001b[39m:\u001b[32m5\u001b[39m)",
      "  ammonite.$sess.cell41$Helper.length(\u001b[32mcell41.sc\u001b[39m:\u001b[32m5\u001b[39m)",
      "  ammonite.$sess.cell41$Helper.length(\u001b[32mcell41.sc\u001b[39m:\u001b[32m5\u001b[39m)",
      "  ammonite.$sess.cell41$Helper.length(\u001b[32mcell41.sc\u001b[39m:\u001b[32m5\u001b[39m)",
      "  ammonite.$sess.cell41$Helper.length(\u001b[32mcell41.sc\u001b[39m:\u001b[32m5\u001b[39m)",
      "  ammonite.$sess.cell41$Helper.length(\u001b[32mcell41.sc\u001b[39m:\u001b[32m5\u001b[39m)",
      "  ammonite.$sess.cell41$Helper.length(\u001b[32mcell41.sc\u001b[39m:\u001b[32m5\u001b[39m)",
      "  ammonite.$sess.cell41$Helper.length(\u001b[32mcell41.sc\u001b[39m:\u001b[32m5\u001b[39m)",
      "  ammonite.$sess.cell41$Helper.length(\u001b[32mcell41.sc\u001b[39m:\u001b[32m5\u001b[39m)",
      "  ammonite.$sess.cell41$Helper.length(\u001b[32mcell41.sc\u001b[39m:\u001b[32m5\u001b[39m)",
      "  ammonite.$sess.cell41$Helper.length(\u001b[32mcell41.sc\u001b[39m:\u001b[32m5\u001b[39m)",
      "  ammonite.$sess.cell41$Helper.length(\u001b[32mcell41.sc\u001b[39m:\u001b[32m5\u001b[39m)",
      "  ammonite.$sess.cell41$Helper.length(\u001b[32mcell41.sc\u001b[39m:\u001b[32m5\u001b[39m)",
      "  ammonite.$sess.cell41$Helper.length(\u001b[32mcell41.sc\u001b[39m:\u001b[32m5\u001b[39m)",
      "  ammonite.$sess.cell41$Helper.length(\u001b[32mcell41.sc\u001b[39m:\u001b[32m5\u001b[39m)",
      "  ammonite.$sess.cell41$Helper.length(\u001b[32mcell41.sc\u001b[39m:\u001b[32m5\u001b[39m)",
      "  ammonite.$sess.cell41$Helper.length(\u001b[32mcell41.sc\u001b[39m:\u001b[32m5\u001b[39m)",
      "  ammonite.$sess.cell41$Helper.length(\u001b[32mcell41.sc\u001b[39m:\u001b[32m5\u001b[39m)",
      "  ammonite.$sess.cell41$Helper.length(\u001b[32mcell41.sc\u001b[39m:\u001b[32m5\u001b[39m)",
      "  ammonite.$sess.cell41$Helper.length(\u001b[32mcell41.sc\u001b[39m:\u001b[32m5\u001b[39m)",
      "  ammonite.$sess.cell41$Helper.length(\u001b[32mcell41.sc\u001b[39m:\u001b[32m5\u001b[39m)",
      "  ammonite.$sess.cell41$Helper.length(\u001b[32mcell41.sc\u001b[39m:\u001b[32m5\u001b[39m)",
      "  ammonite.$sess.cell41$Helper.length(\u001b[32mcell41.sc\u001b[39m:\u001b[32m5\u001b[39m)",
      "  ammonite.$sess.cell41$Helper.length(\u001b[32mcell41.sc\u001b[39m:\u001b[32m5\u001b[39m)",
      "  ammonite.$sess.cell41$Helper.length(\u001b[32mcell41.sc\u001b[39m:\u001b[32m5\u001b[39m)",
      "  ammonite.$sess.cell41$Helper.length(\u001b[32mcell41.sc\u001b[39m:\u001b[32m5\u001b[39m)",
      "  ammonite.$sess.cell41$Helper.length(\u001b[32mcell41.sc\u001b[39m:\u001b[32m5\u001b[39m)",
      "  ammonite.$sess.cell41$Helper.length(\u001b[32mcell41.sc\u001b[39m:\u001b[32m5\u001b[39m)",
      "  ammonite.$sess.cell41$Helper.length(\u001b[32mcell41.sc\u001b[39m:\u001b[32m5\u001b[39m)",
      "  ammonite.$sess.cell41$Helper.length(\u001b[32mcell41.sc\u001b[39m:\u001b[32m5\u001b[39m)",
      "  ammonite.$sess.cell41$Helper.length(\u001b[32mcell41.sc\u001b[39m:\u001b[32m5\u001b[39m)",
      "  ammonite.$sess.cell41$Helper.length(\u001b[32mcell41.sc\u001b[39m:\u001b[32m5\u001b[39m)",
      "  ammonite.$sess.cell41$Helper.length(\u001b[32mcell41.sc\u001b[39m:\u001b[32m5\u001b[39m)",
      "  ammonite.$sess.cell41$Helper.length(\u001b[32mcell41.sc\u001b[39m:\u001b[32m5\u001b[39m)",
      "  ammonite.$sess.cell41$Helper.length(\u001b[32mcell41.sc\u001b[39m:\u001b[32m5\u001b[39m)",
      "  ammonite.$sess.cell41$Helper.length(\u001b[32mcell41.sc\u001b[39m:\u001b[32m5\u001b[39m)",
      "  ammonite.$sess.cell41$Helper.length(\u001b[32mcell41.sc\u001b[39m:\u001b[32m5\u001b[39m)",
      "  ammonite.$sess.cell41$Helper.length(\u001b[32mcell41.sc\u001b[39m:\u001b[32m5\u001b[39m)",
      "  ammonite.$sess.cell41$Helper.length(\u001b[32mcell41.sc\u001b[39m:\u001b[32m5\u001b[39m)",
      "  ammonite.$sess.cell41$Helper.length(\u001b[32mcell41.sc\u001b[39m:\u001b[32m5\u001b[39m)",
      "  ammonite.$sess.cell41$Helper.length(\u001b[32mcell41.sc\u001b[39m:\u001b[32m5\u001b[39m)",
      "  ammonite.$sess.cell41$Helper.length(\u001b[32mcell41.sc\u001b[39m:\u001b[32m5\u001b[39m)",
      "  ammonite.$sess.cell41$Helper.length(\u001b[32mcell41.sc\u001b[39m:\u001b[32m5\u001b[39m)",
      "  ammonite.$sess.cell41$Helper.length(\u001b[32mcell41.sc\u001b[39m:\u001b[32m5\u001b[39m)",
      "  ammonite.$sess.cell41$Helper.length(\u001b[32mcell41.sc\u001b[39m:\u001b[32m5\u001b[39m)",
      "  ammonite.$sess.cell41$Helper.length(\u001b[32mcell41.sc\u001b[39m:\u001b[32m5\u001b[39m)",
      "  ammonite.$sess.cell41$Helper.length(\u001b[32mcell41.sc\u001b[39m:\u001b[32m5\u001b[39m)",
      "  ammonite.$sess.cell41$Helper.length(\u001b[32mcell41.sc\u001b[39m:\u001b[32m5\u001b[39m)",
      "  ammonite.$sess.cell41$Helper.length(\u001b[32mcell41.sc\u001b[39m:\u001b[32m5\u001b[39m)",
      "  ammonite.$sess.cell41$Helper.length(\u001b[32mcell41.sc\u001b[39m:\u001b[32m5\u001b[39m)",
      "  ammonite.$sess.cell41$Helper.length(\u001b[32mcell41.sc\u001b[39m:\u001b[32m5\u001b[39m)",
      "  ammonite.$sess.cell41$Helper.length(\u001b[32mcell41.sc\u001b[39m:\u001b[32m5\u001b[39m)",
      "  ammonite.$sess.cell41$Helper.length(\u001b[32mcell41.sc\u001b[39m:\u001b[32m5\u001b[39m)",
      "  ammonite.$sess.cell41$Helper.length(\u001b[32mcell41.sc\u001b[39m:\u001b[32m5\u001b[39m)",
      "  ammonite.$sess.cell41$Helper.length(\u001b[32mcell41.sc\u001b[39m:\u001b[32m5\u001b[39m)",
      "  ammonite.$sess.cell41$Helper.length(\u001b[32mcell41.sc\u001b[39m:\u001b[32m5\u001b[39m)",
      "  ammonite.$sess.cell41$Helper.length(\u001b[32mcell41.sc\u001b[39m:\u001b[32m5\u001b[39m)",
      "  ammonite.$sess.cell41$Helper.length(\u001b[32mcell41.sc\u001b[39m:\u001b[32m5\u001b[39m)",
      "  ammonite.$sess.cell41$Helper.length(\u001b[32mcell41.sc\u001b[39m:\u001b[32m5\u001b[39m)",
      "  ammonite.$sess.cell41$Helper.length(\u001b[32mcell41.sc\u001b[39m:\u001b[32m5\u001b[39m)",
      "  ammonite.$sess.cell41$Helper.length(\u001b[32mcell41.sc\u001b[39m:\u001b[32m5\u001b[39m)",
      "  ammonite.$sess.cell41$Helper.length(\u001b[32mcell41.sc\u001b[39m:\u001b[32m5\u001b[39m)",
      "  ammonite.$sess.cell41$Helper.length(\u001b[32mcell41.sc\u001b[39m:\u001b[32m5\u001b[39m)",
      "  ammonite.$sess.cell41$Helper.length(\u001b[32mcell41.sc\u001b[39m:\u001b[32m5\u001b[39m)",
      "  ammonite.$sess.cell41$Helper.length(\u001b[32mcell41.sc\u001b[39m:\u001b[32m5\u001b[39m)",
      "  ammonite.$sess.cell41$Helper.length(\u001b[32mcell41.sc\u001b[39m:\u001b[32m5\u001b[39m)",
      "  ammonite.$sess.cell41$Helper.length(\u001b[32mcell41.sc\u001b[39m:\u001b[32m5\u001b[39m)",
      "  ammonite.$sess.cell41$Helper.length(\u001b[32mcell41.sc\u001b[39m:\u001b[32m5\u001b[39m)",
      "  ammonite.$sess.cell41$Helper.length(\u001b[32mcell41.sc\u001b[39m:\u001b[32m5\u001b[39m)",
      "  ammonite.$sess.cell41$Helper.length(\u001b[32mcell41.sc\u001b[39m:\u001b[32m5\u001b[39m)",
      "  ammonite.$sess.cell41$Helper.length(\u001b[32mcell41.sc\u001b[39m:\u001b[32m5\u001b[39m)",
      "  ammonite.$sess.cell41$Helper.length(\u001b[32mcell41.sc\u001b[39m:\u001b[32m5\u001b[39m)",
      "  ammonite.$sess.cell41$Helper.length(\u001b[32mcell41.sc\u001b[39m:\u001b[32m5\u001b[39m)",
      "  ammonite.$sess.cell41$Helper.length(\u001b[32mcell41.sc\u001b[39m:\u001b[32m5\u001b[39m)",
      "  ammonite.$sess.cell41$Helper.length(\u001b[32mcell41.sc\u001b[39m:\u001b[32m5\u001b[39m)",
      "  ammonite.$sess.cell41$Helper.length(\u001b[32mcell41.sc\u001b[39m:\u001b[32m5\u001b[39m)",
      "  ammonite.$sess.cell41$Helper.length(\u001b[32mcell41.sc\u001b[39m:\u001b[32m5\u001b[39m)",
      "  ammonite.$sess.cell41$Helper.length(\u001b[32mcell41.sc\u001b[39m:\u001b[32m5\u001b[39m)",
      "  ammonite.$sess.cell41$Helper.length(\u001b[32mcell41.sc\u001b[39m:\u001b[32m5\u001b[39m)",
      "  ammonite.$sess.cell41$Helper.length(\u001b[32mcell41.sc\u001b[39m:\u001b[32m5\u001b[39m)",
      "  ammonite.$sess.cell41$Helper.length(\u001b[32mcell41.sc\u001b[39m:\u001b[32m5\u001b[39m)",
      "  ammonite.$sess.cell41$Helper.length(\u001b[32mcell41.sc\u001b[39m:\u001b[32m5\u001b[39m)",
      "  ammonite.$sess.cell41$Helper.length(\u001b[32mcell41.sc\u001b[39m:\u001b[32m5\u001b[39m)",
      "  ammonite.$sess.cell41$Helper.length(\u001b[32mcell41.sc\u001b[39m:\u001b[32m5\u001b[39m)",
      "  ammonite.$sess.cell41$Helper.length(\u001b[32mcell41.sc\u001b[39m:\u001b[32m5\u001b[39m)",
      "  ammonite.$sess.cell41$Helper.length(\u001b[32mcell41.sc\u001b[39m:\u001b[32m5\u001b[39m)",
      "  ammonite.$sess.cell41$Helper.length(\u001b[32mcell41.sc\u001b[39m:\u001b[32m5\u001b[39m)",
      "  ammonite.$sess.cell41$Helper.length(\u001b[32mcell41.sc\u001b[39m:\u001b[32m5\u001b[39m)",
      "  ammonite.$sess.cell41$Helper.length(\u001b[32mcell41.sc\u001b[39m:\u001b[32m5\u001b[39m)",
      "  ammonite.$sess.cell41$Helper.length(\u001b[32mcell41.sc\u001b[39m:\u001b[32m5\u001b[39m)",
      "  ammonite.$sess.cell41$Helper.length(\u001b[32mcell41.sc\u001b[39m:\u001b[32m5\u001b[39m)",
      "  ammonite.$sess.cell41$Helper.length(\u001b[32mcell41.sc\u001b[39m:\u001b[32m5\u001b[39m)",
      "  ammonite.$sess.cell41$Helper.length(\u001b[32mcell41.sc\u001b[39m:\u001b[32m5\u001b[39m)",
      "  ammonite.$sess.cell41$Helper.length(\u001b[32mcell41.sc\u001b[39m:\u001b[32m5\u001b[39m)",
      "  ammonite.$sess.cell41$Helper.length(\u001b[32mcell41.sc\u001b[39m:\u001b[32m5\u001b[39m)",
      "  ammonite.$sess.cell41$Helper.length(\u001b[32mcell41.sc\u001b[39m:\u001b[32m5\u001b[39m)",
      "  ammonite.$sess.cell41$Helper.length(\u001b[32mcell41.sc\u001b[39m:\u001b[32m5\u001b[39m)",
      "  ammonite.$sess.cell41$Helper.length(\u001b[32mcell41.sc\u001b[39m:\u001b[32m5\u001b[39m)",
      "  ammonite.$sess.cell41$Helper.length(\u001b[32mcell41.sc\u001b[39m:\u001b[32m5\u001b[39m)",
      "  ammonite.$sess.cell41$Helper.length(\u001b[32mcell41.sc\u001b[39m:\u001b[32m5\u001b[39m)",
      "  ammonite.$sess.cell41$Helper.length(\u001b[32mcell41.sc\u001b[39m:\u001b[32m5\u001b[39m)",
      "  ammonite.$sess.cell41$Helper.length(\u001b[32mcell41.sc\u001b[39m:\u001b[32m5\u001b[39m)",
      "  ammonite.$sess.cell41$Helper.length(\u001b[32mcell41.sc\u001b[39m:\u001b[32m5\u001b[39m)",
      "  ammonite.$sess.cell41$Helper.length(\u001b[32mcell41.sc\u001b[39m:\u001b[32m5\u001b[39m)",
      "  ammonite.$sess.cell41$Helper.length(\u001b[32mcell41.sc\u001b[39m:\u001b[32m5\u001b[39m)",
      "  ammonite.$sess.cell41$Helper.length(\u001b[32mcell41.sc\u001b[39m:\u001b[32m5\u001b[39m)",
      "  ammonite.$sess.cell41$Helper.length(\u001b[32mcell41.sc\u001b[39m:\u001b[32m5\u001b[39m)",
      "  ammonite.$sess.cell41$Helper.length(\u001b[32mcell41.sc\u001b[39m:\u001b[32m5\u001b[39m)",
      "  ammonite.$sess.cell41$Helper.length(\u001b[32mcell41.sc\u001b[39m:\u001b[32m5\u001b[39m)",
      "  ammonite.$sess.cell41$Helper.length(\u001b[32mcell41.sc\u001b[39m:\u001b[32m5\u001b[39m)",
      "  ammonite.$sess.cell41$Helper.length(\u001b[32mcell41.sc\u001b[39m:\u001b[32m5\u001b[39m)",
      "  ammonite.$sess.cell41$Helper.length(\u001b[32mcell41.sc\u001b[39m:\u001b[32m5\u001b[39m)",
      "  ammonite.$sess.cell41$Helper.length(\u001b[32mcell41.sc\u001b[39m:\u001b[32m5\u001b[39m)",
      "  ammonite.$sess.cell41$Helper.length(\u001b[32mcell41.sc\u001b[39m:\u001b[32m5\u001b[39m)",
      "  ammonite.$sess.cell41$Helper.length(\u001b[32mcell41.sc\u001b[39m:\u001b[32m5\u001b[39m)",
      "  ammonite.$sess.cell41$Helper.length(\u001b[32mcell41.sc\u001b[39m:\u001b[32m5\u001b[39m)",
      "  ammonite.$sess.cell41$Helper.length(\u001b[32mcell41.sc\u001b[39m:\u001b[32m5\u001b[39m)",
      "  ammonite.$sess.cell41$Helper.length(\u001b[32mcell41.sc\u001b[39m:\u001b[32m5\u001b[39m)",
      "  ammonite.$sess.cell41$Helper.length(\u001b[32mcell41.sc\u001b[39m:\u001b[32m5\u001b[39m)",
      "  ammonite.$sess.cell41$Helper.length(\u001b[32mcell41.sc\u001b[39m:\u001b[32m5\u001b[39m)",
      "  ammonite.$sess.cell41$Helper.length(\u001b[32mcell41.sc\u001b[39m:\u001b[32m5\u001b[39m)",
      "  ammonite.$sess.cell41$Helper.length(\u001b[32mcell41.sc\u001b[39m:\u001b[32m5\u001b[39m)",
      "  ammonite.$sess.cell41$Helper.length(\u001b[32mcell41.sc\u001b[39m:\u001b[32m5\u001b[39m)",
      "  ammonite.$sess.cell41$Helper.length(\u001b[32mcell41.sc\u001b[39m:\u001b[32m5\u001b[39m)",
      "  ammonite.$sess.cell41$Helper.length(\u001b[32mcell41.sc\u001b[39m:\u001b[32m5\u001b[39m)",
      "  ammonite.$sess.cell41$Helper.length(\u001b[32mcell41.sc\u001b[39m:\u001b[32m5\u001b[39m)",
      "  ammonite.$sess.cell41$Helper.length(\u001b[32mcell41.sc\u001b[39m:\u001b[32m5\u001b[39m)",
      "  ammonite.$sess.cell41$Helper.length(\u001b[32mcell41.sc\u001b[39m:\u001b[32m5\u001b[39m)",
      "  ammonite.$sess.cell41$Helper.length(\u001b[32mcell41.sc\u001b[39m:\u001b[32m5\u001b[39m)",
      "  ammonite.$sess.cell41$Helper.length(\u001b[32mcell41.sc\u001b[39m:\u001b[32m5\u001b[39m)",
      "  ammonite.$sess.cell41$Helper.length(\u001b[32mcell41.sc\u001b[39m:\u001b[32m5\u001b[39m)",
      "  ammonite.$sess.cell41$Helper.length(\u001b[32mcell41.sc\u001b[39m:\u001b[32m5\u001b[39m)",
      "  ammonite.$sess.cell41$Helper.length(\u001b[32mcell41.sc\u001b[39m:\u001b[32m5\u001b[39m)",
      "  ammonite.$sess.cell41$Helper.length(\u001b[32mcell41.sc\u001b[39m:\u001b[32m5\u001b[39m)",
      "  ammonite.$sess.cell41$Helper.length(\u001b[32mcell41.sc\u001b[39m:\u001b[32m5\u001b[39m)",
      "  ammonite.$sess.cell41$Helper.length(\u001b[32mcell41.sc\u001b[39m:\u001b[32m5\u001b[39m)",
      "  ammonite.$sess.cell41$Helper.length(\u001b[32mcell41.sc\u001b[39m:\u001b[32m5\u001b[39m)",
      "  ammonite.$sess.cell41$Helper.length(\u001b[32mcell41.sc\u001b[39m:\u001b[32m5\u001b[39m)",
      "  ammonite.$sess.cell41$Helper.length(\u001b[32mcell41.sc\u001b[39m:\u001b[32m5\u001b[39m)",
      "  ammonite.$sess.cell41$Helper.length(\u001b[32mcell41.sc\u001b[39m:\u001b[32m5\u001b[39m)",
      "  ammonite.$sess.cell41$Helper.length(\u001b[32mcell41.sc\u001b[39m:\u001b[32m5\u001b[39m)",
      "  ammonite.$sess.cell41$Helper.length(\u001b[32mcell41.sc\u001b[39m:\u001b[32m5\u001b[39m)",
      "  ammonite.$sess.cell41$Helper.length(\u001b[32mcell41.sc\u001b[39m:\u001b[32m5\u001b[39m)",
      "  ammonite.$sess.cell41$Helper.length(\u001b[32mcell41.sc\u001b[39m:\u001b[32m5\u001b[39m)",
      "  ammonite.$sess.cell41$Helper.length(\u001b[32mcell41.sc\u001b[39m:\u001b[32m5\u001b[39m)",
      "  ammonite.$sess.cell41$Helper.length(\u001b[32mcell41.sc\u001b[39m:\u001b[32m5\u001b[39m)",
      "  ammonite.$sess.cell41$Helper.length(\u001b[32mcell41.sc\u001b[39m:\u001b[32m5\u001b[39m)",
      "  ammonite.$sess.cell41$Helper.length(\u001b[32mcell41.sc\u001b[39m:\u001b[32m5\u001b[39m)",
      "  ammonite.$sess.cell41$Helper.length(\u001b[32mcell41.sc\u001b[39m:\u001b[32m5\u001b[39m)",
      "  ammonite.$sess.cell41$Helper.length(\u001b[32mcell41.sc\u001b[39m:\u001b[32m5\u001b[39m)",
      "  ammonite.$sess.cell41$Helper.length(\u001b[32mcell41.sc\u001b[39m:\u001b[32m5\u001b[39m)",
      "  ammonite.$sess.cell41$Helper.length(\u001b[32mcell41.sc\u001b[39m:\u001b[32m5\u001b[39m)",
      "  ammonite.$sess.cell41$Helper.length(\u001b[32mcell41.sc\u001b[39m:\u001b[32m5\u001b[39m)",
      "  ammonite.$sess.cell41$Helper.length(\u001b[32mcell41.sc\u001b[39m:\u001b[32m5\u001b[39m)",
      "  ammonite.$sess.cell41$Helper.length(\u001b[32mcell41.sc\u001b[39m:\u001b[32m5\u001b[39m)",
      "  ammonite.$sess.cell41$Helper.length(\u001b[32mcell41.sc\u001b[39m:\u001b[32m5\u001b[39m)",
      "  ammonite.$sess.cell41$Helper.length(\u001b[32mcell41.sc\u001b[39m:\u001b[32m5\u001b[39m)",
      "  ammonite.$sess.cell41$Helper.length(\u001b[32mcell41.sc\u001b[39m:\u001b[32m5\u001b[39m)",
      "  ammonite.$sess.cell41$Helper.length(\u001b[32mcell41.sc\u001b[39m:\u001b[32m5\u001b[39m)",
      "  ammonite.$sess.cell41$Helper.length(\u001b[32mcell41.sc\u001b[39m:\u001b[32m5\u001b[39m)",
      "  ammonite.$sess.cell41$Helper.length(\u001b[32mcell41.sc\u001b[39m:\u001b[32m5\u001b[39m)",
      "  ammonite.$sess.cell41$Helper.length(\u001b[32mcell41.sc\u001b[39m:\u001b[32m5\u001b[39m)",
      "  ammonite.$sess.cell41$Helper.length(\u001b[32mcell41.sc\u001b[39m:\u001b[32m5\u001b[39m)",
      "  ammonite.$sess.cell41$Helper.length(\u001b[32mcell41.sc\u001b[39m:\u001b[32m5\u001b[39m)",
      "  ammonite.$sess.cell41$Helper.length(\u001b[32mcell41.sc\u001b[39m:\u001b[32m5\u001b[39m)",
      "  ammonite.$sess.cell41$Helper.length(\u001b[32mcell41.sc\u001b[39m:\u001b[32m5\u001b[39m)",
      "  ammonite.$sess.cell41$Helper.length(\u001b[32mcell41.sc\u001b[39m:\u001b[32m5\u001b[39m)",
      "  ammonite.$sess.cell41$Helper.length(\u001b[32mcell41.sc\u001b[39m:\u001b[32m5\u001b[39m)",
      "  ammonite.$sess.cell41$Helper.length(\u001b[32mcell41.sc\u001b[39m:\u001b[32m5\u001b[39m)",
      "  ammonite.$sess.cell41$Helper.length(\u001b[32mcell41.sc\u001b[39m:\u001b[32m5\u001b[39m)",
      "  ammonite.$sess.cell41$Helper.length(\u001b[32mcell41.sc\u001b[39m:\u001b[32m5\u001b[39m)",
      "  ammonite.$sess.cell41$Helper.length(\u001b[32mcell41.sc\u001b[39m:\u001b[32m5\u001b[39m)",
      "  ammonite.$sess.cell41$Helper.length(\u001b[32mcell41.sc\u001b[39m:\u001b[32m5\u001b[39m)",
      "  ammonite.$sess.cell41$Helper.length(\u001b[32mcell41.sc\u001b[39m:\u001b[32m5\u001b[39m)",
      "  ammonite.$sess.cell41$Helper.length(\u001b[32mcell41.sc\u001b[39m:\u001b[32m5\u001b[39m)",
      "  ammonite.$sess.cell41$Helper.length(\u001b[32mcell41.sc\u001b[39m:\u001b[32m5\u001b[39m)",
      "  ammonite.$sess.cell41$Helper.length(\u001b[32mcell41.sc\u001b[39m:\u001b[32m5\u001b[39m)",
      "  ammonite.$sess.cell41$Helper.length(\u001b[32mcell41.sc\u001b[39m:\u001b[32m5\u001b[39m)",
      "  ammonite.$sess.cell41$Helper.length(\u001b[32mcell41.sc\u001b[39m:\u001b[32m5\u001b[39m)",
      "  ammonite.$sess.cell41$Helper.length(\u001b[32mcell41.sc\u001b[39m:\u001b[32m5\u001b[39m)",
      "  ammonite.$sess.cell41$Helper.length(\u001b[32mcell41.sc\u001b[39m:\u001b[32m5\u001b[39m)",
      "  ammonite.$sess.cell41$Helper.length(\u001b[32mcell41.sc\u001b[39m:\u001b[32m5\u001b[39m)",
      "  ammonite.$sess.cell41$Helper.length(\u001b[32mcell41.sc\u001b[39m:\u001b[32m5\u001b[39m)",
      "  ammonite.$sess.cell41$Helper.length(\u001b[32mcell41.sc\u001b[39m:\u001b[32m5\u001b[39m)",
      "  ammonite.$sess.cell41$Helper.length(\u001b[32mcell41.sc\u001b[39m:\u001b[32m5\u001b[39m)",
      "  ammonite.$sess.cell41$Helper.length(\u001b[32mcell41.sc\u001b[39m:\u001b[32m5\u001b[39m)",
      "  ammonite.$sess.cell41$Helper.length(\u001b[32mcell41.sc\u001b[39m:\u001b[32m5\u001b[39m)",
      "  ammonite.$sess.cell41$Helper.length(\u001b[32mcell41.sc\u001b[39m:\u001b[32m5\u001b[39m)",
      "  ammonite.$sess.cell41$Helper.length(\u001b[32mcell41.sc\u001b[39m:\u001b[32m5\u001b[39m)",
      "  ammonite.$sess.cell41$Helper.length(\u001b[32mcell41.sc\u001b[39m:\u001b[32m5\u001b[39m)",
      "  ammonite.$sess.cell41$Helper.length(\u001b[32mcell41.sc\u001b[39m:\u001b[32m5\u001b[39m)",
      "  ammonite.$sess.cell41$Helper.length(\u001b[32mcell41.sc\u001b[39m:\u001b[32m5\u001b[39m)",
      "  ammonite.$sess.cell41$Helper.length(\u001b[32mcell41.sc\u001b[39m:\u001b[32m5\u001b[39m)",
      "  ammonite.$sess.cell41$Helper.length(\u001b[32mcell41.sc\u001b[39m:\u001b[32m5\u001b[39m)",
      "  ammonite.$sess.cell41$Helper.length(\u001b[32mcell41.sc\u001b[39m:\u001b[32m5\u001b[39m)",
      "  ammonite.$sess.cell41$Helper.length(\u001b[32mcell41.sc\u001b[39m:\u001b[32m5\u001b[39m)",
      "  ammonite.$sess.cell41$Helper.length(\u001b[32mcell41.sc\u001b[39m:\u001b[32m5\u001b[39m)",
      "  ammonite.$sess.cell41$Helper.length(\u001b[32mcell41.sc\u001b[39m:\u001b[32m5\u001b[39m)",
      "  ammonite.$sess.cell41$Helper.length(\u001b[32mcell41.sc\u001b[39m:\u001b[32m5\u001b[39m)",
      "  ammonite.$sess.cell41$Helper.length(\u001b[32mcell41.sc\u001b[39m:\u001b[32m5\u001b[39m)",
      "  ammonite.$sess.cell41$Helper.length(\u001b[32mcell41.sc\u001b[39m:\u001b[32m5\u001b[39m)",
      "  ammonite.$sess.cell41$Helper.length(\u001b[32mcell41.sc\u001b[39m:\u001b[32m5\u001b[39m)",
      "  ammonite.$sess.cell41$Helper.length(\u001b[32mcell41.sc\u001b[39m:\u001b[32m5\u001b[39m)",
      "  ammonite.$sess.cell41$Helper.length(\u001b[32mcell41.sc\u001b[39m:\u001b[32m5\u001b[39m)",
      "  ammonite.$sess.cell41$Helper.length(\u001b[32mcell41.sc\u001b[39m:\u001b[32m5\u001b[39m)",
      "  ammonite.$sess.cell41$Helper.length(\u001b[32mcell41.sc\u001b[39m:\u001b[32m5\u001b[39m)",
      "  ammonite.$sess.cell41$Helper.length(\u001b[32mcell41.sc\u001b[39m:\u001b[32m5\u001b[39m)",
      "  ammonite.$sess.cell41$Helper.length(\u001b[32mcell41.sc\u001b[39m:\u001b[32m5\u001b[39m)",
      "  ammonite.$sess.cell41$Helper.length(\u001b[32mcell41.sc\u001b[39m:\u001b[32m5\u001b[39m)",
      "  ammonite.$sess.cell41$Helper.length(\u001b[32mcell41.sc\u001b[39m:\u001b[32m5\u001b[39m)",
      "  ammonite.$sess.cell41$Helper.length(\u001b[32mcell41.sc\u001b[39m:\u001b[32m5\u001b[39m)",
      "  ammonite.$sess.cell41$Helper.length(\u001b[32mcell41.sc\u001b[39m:\u001b[32m5\u001b[39m)",
      "  ammonite.$sess.cell41$Helper.length(\u001b[32mcell41.sc\u001b[39m:\u001b[32m5\u001b[39m)",
      "  ammonite.$sess.cell41$Helper.length(\u001b[32mcell41.sc\u001b[39m:\u001b[32m5\u001b[39m)",
      "  ammonite.$sess.cell41$Helper.length(\u001b[32mcell41.sc\u001b[39m:\u001b[32m5\u001b[39m)",
      "  ammonite.$sess.cell41$Helper.length(\u001b[32mcell41.sc\u001b[39m:\u001b[32m5\u001b[39m)",
      "  ammonite.$sess.cell41$Helper.length(\u001b[32mcell41.sc\u001b[39m:\u001b[32m5\u001b[39m)",
      "  ammonite.$sess.cell41$Helper.length(\u001b[32mcell41.sc\u001b[39m:\u001b[32m5\u001b[39m)",
      "  ammonite.$sess.cell41$Helper.length(\u001b[32mcell41.sc\u001b[39m:\u001b[32m5\u001b[39m)",
      "  ammonite.$sess.cell41$Helper.length(\u001b[32mcell41.sc\u001b[39m:\u001b[32m5\u001b[39m)",
      "  ammonite.$sess.cell41$Helper.length(\u001b[32mcell41.sc\u001b[39m:\u001b[32m5\u001b[39m)",
      "  ammonite.$sess.cell41$Helper.length(\u001b[32mcell41.sc\u001b[39m:\u001b[32m5\u001b[39m)",
      "  ammonite.$sess.cell41$Helper.length(\u001b[32mcell41.sc\u001b[39m:\u001b[32m5\u001b[39m)",
      "  ammonite.$sess.cell41$Helper.length(\u001b[32mcell41.sc\u001b[39m:\u001b[32m5\u001b[39m)",
      "  ammonite.$sess.cell41$Helper.length(\u001b[32mcell41.sc\u001b[39m:\u001b[32m5\u001b[39m)",
      "  ammonite.$sess.cell41$Helper.length(\u001b[32mcell41.sc\u001b[39m:\u001b[32m5\u001b[39m)",
      "  ammonite.$sess.cell41$Helper.length(\u001b[32mcell41.sc\u001b[39m:\u001b[32m5\u001b[39m)",
      "  ammonite.$sess.cell41$Helper.length(\u001b[32mcell41.sc\u001b[39m:\u001b[32m5\u001b[39m)",
      "  ammonite.$sess.cell41$Helper.length(\u001b[32mcell41.sc\u001b[39m:\u001b[32m5\u001b[39m)",
      "  ammonite.$sess.cell41$Helper.length(\u001b[32mcell41.sc\u001b[39m:\u001b[32m5\u001b[39m)",
      "  ammonite.$sess.cell41$Helper.length(\u001b[32mcell41.sc\u001b[39m:\u001b[32m5\u001b[39m)",
      "  ammonite.$sess.cell41$Helper.length(\u001b[32mcell41.sc\u001b[39m:\u001b[32m5\u001b[39m)",
      "  ammonite.$sess.cell41$Helper.length(\u001b[32mcell41.sc\u001b[39m:\u001b[32m5\u001b[39m)",
      "  ammonite.$sess.cell41$Helper.length(\u001b[32mcell41.sc\u001b[39m:\u001b[32m5\u001b[39m)",
      "  ammonite.$sess.cell41$Helper.length(\u001b[32mcell41.sc\u001b[39m:\u001b[32m5\u001b[39m)",
      "  ammonite.$sess.cell41$Helper.length(\u001b[32mcell41.sc\u001b[39m:\u001b[32m5\u001b[39m)",
      "  ammonite.$sess.cell41$Helper.length(\u001b[32mcell41.sc\u001b[39m:\u001b[32m5\u001b[39m)",
      "  ammonite.$sess.cell41$Helper.length(\u001b[32mcell41.sc\u001b[39m:\u001b[32m5\u001b[39m)",
      "  ammonite.$sess.cell41$Helper.length(\u001b[32mcell41.sc\u001b[39m:\u001b[32m5\u001b[39m)",
      "  ammonite.$sess.cell41$Helper.length(\u001b[32mcell41.sc\u001b[39m:\u001b[32m5\u001b[39m)",
      "  ammonite.$sess.cell41$Helper.length(\u001b[32mcell41.sc\u001b[39m:\u001b[32m5\u001b[39m)",
      "  ammonite.$sess.cell41$Helper.length(\u001b[32mcell41.sc\u001b[39m:\u001b[32m5\u001b[39m)",
      "  ammonite.$sess.cell41$Helper.length(\u001b[32mcell41.sc\u001b[39m:\u001b[32m5\u001b[39m)",
      "  ammonite.$sess.cell41$Helper.length(\u001b[32mcell41.sc\u001b[39m:\u001b[32m5\u001b[39m)",
      "  ammonite.$sess.cell41$Helper.length(\u001b[32mcell41.sc\u001b[39m:\u001b[32m5\u001b[39m)",
      "  ammonite.$sess.cell41$Helper.length(\u001b[32mcell41.sc\u001b[39m:\u001b[32m5\u001b[39m)",
      "  ammonite.$sess.cell41$Helper.length(\u001b[32mcell41.sc\u001b[39m:\u001b[32m5\u001b[39m)",
      "  ammonite.$sess.cell41$Helper.length(\u001b[32mcell41.sc\u001b[39m:\u001b[32m5\u001b[39m)",
      "  ammonite.$sess.cell41$Helper.length(\u001b[32mcell41.sc\u001b[39m:\u001b[32m5\u001b[39m)",
      "  ammonite.$sess.cell41$Helper.length(\u001b[32mcell41.sc\u001b[39m:\u001b[32m5\u001b[39m)",
      "  ammonite.$sess.cell41$Helper.length(\u001b[32mcell41.sc\u001b[39m:\u001b[32m5\u001b[39m)",
      "  ammonite.$sess.cell41$Helper.length(\u001b[32mcell41.sc\u001b[39m:\u001b[32m5\u001b[39m)",
      "  ammonite.$sess.cell41$Helper.length(\u001b[32mcell41.sc\u001b[39m:\u001b[32m5\u001b[39m)",
      "  ammonite.$sess.cell41$Helper.length(\u001b[32mcell41.sc\u001b[39m:\u001b[32m5\u001b[39m)",
      "  ammonite.$sess.cell41$Helper.length(\u001b[32mcell41.sc\u001b[39m:\u001b[32m5\u001b[39m)",
      "  ammonite.$sess.cell41$Helper.length(\u001b[32mcell41.sc\u001b[39m:\u001b[32m5\u001b[39m)",
      "  ammonite.$sess.cell41$Helper.length(\u001b[32mcell41.sc\u001b[39m:\u001b[32m5\u001b[39m)",
      "  ammonite.$sess.cell41$Helper.length(\u001b[32mcell41.sc\u001b[39m:\u001b[32m5\u001b[39m)",
      "  ammonite.$sess.cell41$Helper.length(\u001b[32mcell41.sc\u001b[39m:\u001b[32m5\u001b[39m)",
      "  ammonite.$sess.cell41$Helper.length(\u001b[32mcell41.sc\u001b[39m:\u001b[32m5\u001b[39m)",
      "  ammonite.$sess.cell41$Helper.length(\u001b[32mcell41.sc\u001b[39m:\u001b[32m5\u001b[39m)",
      "  ammonite.$sess.cell41$Helper.length(\u001b[32mcell41.sc\u001b[39m:\u001b[32m5\u001b[39m)",
      "  ammonite.$sess.cell41$Helper.length(\u001b[32mcell41.sc\u001b[39m:\u001b[32m5\u001b[39m)",
      "  ammonite.$sess.cell41$Helper.length(\u001b[32mcell41.sc\u001b[39m:\u001b[32m5\u001b[39m)",
      "  ammonite.$sess.cell41$Helper.length(\u001b[32mcell41.sc\u001b[39m:\u001b[32m5\u001b[39m)",
      "  ammonite.$sess.cell41$Helper.length(\u001b[32mcell41.sc\u001b[39m:\u001b[32m5\u001b[39m)",
      "  ammonite.$sess.cell41$Helper.length(\u001b[32mcell41.sc\u001b[39m:\u001b[32m5\u001b[39m)",
      "  ammonite.$sess.cell41$Helper.length(\u001b[32mcell41.sc\u001b[39m:\u001b[32m5\u001b[39m)",
      "  ammonite.$sess.cell41$Helper.length(\u001b[32mcell41.sc\u001b[39m:\u001b[32m5\u001b[39m)",
      "  ammonite.$sess.cell41$Helper.length(\u001b[32mcell41.sc\u001b[39m:\u001b[32m5\u001b[39m)",
      "  ammonite.$sess.cell41$Helper.length(\u001b[32mcell41.sc\u001b[39m:\u001b[32m5\u001b[39m)",
      "  ammonite.$sess.cell41$Helper.length(\u001b[32mcell41.sc\u001b[39m:\u001b[32m5\u001b[39m)",
      "  ammonite.$sess.cell41$Helper.length(\u001b[32mcell41.sc\u001b[39m:\u001b[32m5\u001b[39m)",
      "  ammonite.$sess.cell41$Helper.length(\u001b[32mcell41.sc\u001b[39m:\u001b[32m5\u001b[39m)",
      "  ammonite.$sess.cell41$Helper.length(\u001b[32mcell41.sc\u001b[39m:\u001b[32m5\u001b[39m)",
      "  ammonite.$sess.cell41$Helper.length(\u001b[32mcell41.sc\u001b[39m:\u001b[32m5\u001b[39m)",
      "  ammonite.$sess.cell41$Helper.length(\u001b[32mcell41.sc\u001b[39m:\u001b[32m5\u001b[39m)",
      "  ammonite.$sess.cell41$Helper.length(\u001b[32mcell41.sc\u001b[39m:\u001b[32m5\u001b[39m)",
      "  ammonite.$sess.cell41$Helper.length(\u001b[32mcell41.sc\u001b[39m:\u001b[32m5\u001b[39m)",
      "  ammonite.$sess.cell41$Helper.length(\u001b[32mcell41.sc\u001b[39m:\u001b[32m5\u001b[39m)",
      "  ammonite.$sess.cell41$Helper.length(\u001b[32mcell41.sc\u001b[39m:\u001b[32m5\u001b[39m)",
      "  ammonite.$sess.cell41$Helper.length(\u001b[32mcell41.sc\u001b[39m:\u001b[32m5\u001b[39m)",
      "  ammonite.$sess.cell41$Helper.length(\u001b[32mcell41.sc\u001b[39m:\u001b[32m5\u001b[39m)",
      "  ammonite.$sess.cell41$Helper.length(\u001b[32mcell41.sc\u001b[39m:\u001b[32m5\u001b[39m)",
      "  ammonite.$sess.cell41$Helper.length(\u001b[32mcell41.sc\u001b[39m:\u001b[32m5\u001b[39m)",
      "  ammonite.$sess.cell41$Helper.length(\u001b[32mcell41.sc\u001b[39m:\u001b[32m5\u001b[39m)",
      "  ammonite.$sess.cell41$Helper.length(\u001b[32mcell41.sc\u001b[39m:\u001b[32m5\u001b[39m)",
      "  ammonite.$sess.cell41$Helper.length(\u001b[32mcell41.sc\u001b[39m:\u001b[32m5\u001b[39m)",
      "  ammonite.$sess.cell41$Helper.length(\u001b[32mcell41.sc\u001b[39m:\u001b[32m5\u001b[39m)",
      "  ammonite.$sess.cell41$Helper.length(\u001b[32mcell41.sc\u001b[39m:\u001b[32m5\u001b[39m)",
      "  ammonite.$sess.cell41$Helper.length(\u001b[32mcell41.sc\u001b[39m:\u001b[32m5\u001b[39m)",
      "  ammonite.$sess.cell41$Helper.length(\u001b[32mcell41.sc\u001b[39m:\u001b[32m5\u001b[39m)",
      "  ammonite.$sess.cell41$Helper.length(\u001b[32mcell41.sc\u001b[39m:\u001b[32m5\u001b[39m)",
      "  ammonite.$sess.cell41$Helper.length(\u001b[32mcell41.sc\u001b[39m:\u001b[32m5\u001b[39m)",
      "  ammonite.$sess.cell41$Helper.length(\u001b[32mcell41.sc\u001b[39m:\u001b[32m5\u001b[39m)",
      "  ammonite.$sess.cell41$Helper.length(\u001b[32mcell41.sc\u001b[39m:\u001b[32m5\u001b[39m)",
      "  ammonite.$sess.cell41$Helper.length(\u001b[32mcell41.sc\u001b[39m:\u001b[32m5\u001b[39m)",
      "  ammonite.$sess.cell41$Helper.length(\u001b[32mcell41.sc\u001b[39m:\u001b[32m5\u001b[39m)",
      "  ammonite.$sess.cell41$Helper.length(\u001b[32mcell41.sc\u001b[39m:\u001b[32m5\u001b[39m)",
      "  ammonite.$sess.cell41$Helper.length(\u001b[32mcell41.sc\u001b[39m:\u001b[32m5\u001b[39m)",
      "  ammonite.$sess.cell41$Helper.length(\u001b[32mcell41.sc\u001b[39m:\u001b[32m5\u001b[39m)",
      "  ammonite.$sess.cell41$Helper.length(\u001b[32mcell41.sc\u001b[39m:\u001b[32m5\u001b[39m)",
      "  ammonite.$sess.cell41$Helper.length(\u001b[32mcell41.sc\u001b[39m:\u001b[32m5\u001b[39m)",
      "  ammonite.$sess.cell41$Helper.length(\u001b[32mcell41.sc\u001b[39m:\u001b[32m5\u001b[39m)",
      "  ammonite.$sess.cell41$Helper.length(\u001b[32mcell41.sc\u001b[39m:\u001b[32m5\u001b[39m)",
      "  ammonite.$sess.cell41$Helper.length(\u001b[32mcell41.sc\u001b[39m:\u001b[32m5\u001b[39m)",
      "  ammonite.$sess.cell41$Helper.length(\u001b[32mcell41.sc\u001b[39m:\u001b[32m5\u001b[39m)",
      "  ammonite.$sess.cell41$Helper.length(\u001b[32mcell41.sc\u001b[39m:\u001b[32m5\u001b[39m)",
      "  ammonite.$sess.cell41$Helper.length(\u001b[32mcell41.sc\u001b[39m:\u001b[32m5\u001b[39m)",
      "  ammonite.$sess.cell41$Helper.length(\u001b[32mcell41.sc\u001b[39m:\u001b[32m5\u001b[39m)",
      "  ammonite.$sess.cell41$Helper.length(\u001b[32mcell41.sc\u001b[39m:\u001b[32m5\u001b[39m)",
      "  ammonite.$sess.cell41$Helper.length(\u001b[32mcell41.sc\u001b[39m:\u001b[32m5\u001b[39m)",
      "  ammonite.$sess.cell41$Helper.length(\u001b[32mcell41.sc\u001b[39m:\u001b[32m5\u001b[39m)",
      "  ammonite.$sess.cell41$Helper.length(\u001b[32mcell41.sc\u001b[39m:\u001b[32m5\u001b[39m)",
      "  ammonite.$sess.cell41$Helper.length(\u001b[32mcell41.sc\u001b[39m:\u001b[32m5\u001b[39m)",
      "  ammonite.$sess.cell41$Helper.length(\u001b[32mcell41.sc\u001b[39m:\u001b[32m5\u001b[39m)",
      "  ammonite.$sess.cell41$Helper.length(\u001b[32mcell41.sc\u001b[39m:\u001b[32m5\u001b[39m)",
      "  ammonite.$sess.cell41$Helper.length(\u001b[32mcell41.sc\u001b[39m:\u001b[32m5\u001b[39m)",
      "  ammonite.$sess.cell41$Helper.length(\u001b[32mcell41.sc\u001b[39m:\u001b[32m5\u001b[39m)",
      "  ammonite.$sess.cell41$Helper.length(\u001b[32mcell41.sc\u001b[39m:\u001b[32m5\u001b[39m)",
      "  ammonite.$sess.cell41$Helper.length(\u001b[32mcell41.sc\u001b[39m:\u001b[32m5\u001b[39m)",
      "  ammonite.$sess.cell41$Helper.length(\u001b[32mcell41.sc\u001b[39m:\u001b[32m5\u001b[39m)",
      "  ammonite.$sess.cell41$Helper.length(\u001b[32mcell41.sc\u001b[39m:\u001b[32m5\u001b[39m)",
      "  ammonite.$sess.cell41$Helper.length(\u001b[32mcell41.sc\u001b[39m:\u001b[32m5\u001b[39m)",
      "  ammonite.$sess.cell41$Helper.length(\u001b[32mcell41.sc\u001b[39m:\u001b[32m5\u001b[39m)",
      "  ammonite.$sess.cell41$Helper.length(\u001b[32mcell41.sc\u001b[39m:\u001b[32m5\u001b[39m)",
      "  ammonite.$sess.cell41$Helper.length(\u001b[32mcell41.sc\u001b[39m:\u001b[32m5\u001b[39m)",
      "  ammonite.$sess.cell41$Helper.length(\u001b[32mcell41.sc\u001b[39m:\u001b[32m5\u001b[39m)",
      "  ammonite.$sess.cell41$Helper.length(\u001b[32mcell41.sc\u001b[39m:\u001b[32m5\u001b[39m)",
      "  ammonite.$sess.cell41$Helper.length(\u001b[32mcell41.sc\u001b[39m:\u001b[32m5\u001b[39m)",
      "  ammonite.$sess.cell41$Helper.length(\u001b[32mcell41.sc\u001b[39m:\u001b[32m5\u001b[39m)",
      "  ammonite.$sess.cell41$Helper.length(\u001b[32mcell41.sc\u001b[39m:\u001b[32m5\u001b[39m)",
      "  ammonite.$sess.cell41$Helper.length(\u001b[32mcell41.sc\u001b[39m:\u001b[32m5\u001b[39m)",
      "  ammonite.$sess.cell41$Helper.length(\u001b[32mcell41.sc\u001b[39m:\u001b[32m5\u001b[39m)",
      "  ammonite.$sess.cell41$Helper.length(\u001b[32mcell41.sc\u001b[39m:\u001b[32m5\u001b[39m)",
      "  ammonite.$sess.cell41$Helper.length(\u001b[32mcell41.sc\u001b[39m:\u001b[32m5\u001b[39m)",
      "  ammonite.$sess.cell41$Helper.length(\u001b[32mcell41.sc\u001b[39m:\u001b[32m5\u001b[39m)",
      "  ammonite.$sess.cell41$Helper.length(\u001b[32mcell41.sc\u001b[39m:\u001b[32m5\u001b[39m)",
      "  ammonite.$sess.cell41$Helper.length(\u001b[32mcell41.sc\u001b[39m:\u001b[32m5\u001b[39m)",
      "  ammonite.$sess.cell41$Helper.length(\u001b[32mcell41.sc\u001b[39m:\u001b[32m5\u001b[39m)",
      "  ammonite.$sess.cell41$Helper.length(\u001b[32mcell41.sc\u001b[39m:\u001b[32m5\u001b[39m)",
      "  ammonite.$sess.cell41$Helper.length(\u001b[32mcell41.sc\u001b[39m:\u001b[32m5\u001b[39m)",
      "  ammonite.$sess.cell41$Helper.length(\u001b[32mcell41.sc\u001b[39m:\u001b[32m5\u001b[39m)",
      "  ammonite.$sess.cell41$Helper.length(\u001b[32mcell41.sc\u001b[39m:\u001b[32m5\u001b[39m)",
      "  ammonite.$sess.cell41$Helper.length(\u001b[32mcell41.sc\u001b[39m:\u001b[32m5\u001b[39m)",
      "  ammonite.$sess.cell41$Helper.length(\u001b[32mcell41.sc\u001b[39m:\u001b[32m5\u001b[39m)",
      "  ammonite.$sess.cell41$Helper.length(\u001b[32mcell41.sc\u001b[39m:\u001b[32m5\u001b[39m)",
      "  ammonite.$sess.cell41$Helper.length(\u001b[32mcell41.sc\u001b[39m:\u001b[32m5\u001b[39m)",
      "  ammonite.$sess.cell41$Helper.length(\u001b[32mcell41.sc\u001b[39m:\u001b[32m5\u001b[39m)",
      "  ammonite.$sess.cell41$Helper.length(\u001b[32mcell41.sc\u001b[39m:\u001b[32m5\u001b[39m)",
      "  ammonite.$sess.cell41$Helper.length(\u001b[32mcell41.sc\u001b[39m:\u001b[32m5\u001b[39m)",
      "  ammonite.$sess.cell41$Helper.length(\u001b[32mcell41.sc\u001b[39m:\u001b[32m5\u001b[39m)",
      "  ammonite.$sess.cell41$Helper.length(\u001b[32mcell41.sc\u001b[39m:\u001b[32m5\u001b[39m)",
      "  ammonite.$sess.cell41$Helper.length(\u001b[32mcell41.sc\u001b[39m:\u001b[32m5\u001b[39m)",
      "  ammonite.$sess.cell41$Helper.length(\u001b[32mcell41.sc\u001b[39m:\u001b[32m5\u001b[39m)",
      "  ammonite.$sess.cell41$Helper.length(\u001b[32mcell41.sc\u001b[39m:\u001b[32m5\u001b[39m)",
      "  ammonite.$sess.cell41$Helper.length(\u001b[32mcell41.sc\u001b[39m:\u001b[32m5\u001b[39m)",
      "  ammonite.$sess.cell41$Helper.length(\u001b[32mcell41.sc\u001b[39m:\u001b[32m5\u001b[39m)",
      "  ammonite.$sess.cell41$Helper.length(\u001b[32mcell41.sc\u001b[39m:\u001b[32m5\u001b[39m)",
      "  ammonite.$sess.cell41$Helper.length(\u001b[32mcell41.sc\u001b[39m:\u001b[32m5\u001b[39m)",
      "  ammonite.$sess.cell41$Helper.length(\u001b[32mcell41.sc\u001b[39m:\u001b[32m5\u001b[39m)",
      "  ammonite.$sess.cell41$Helper.length(\u001b[32mcell41.sc\u001b[39m:\u001b[32m5\u001b[39m)",
      "  ammonite.$sess.cell41$Helper.length(\u001b[32mcell41.sc\u001b[39m:\u001b[32m5\u001b[39m)",
      "  ammonite.$sess.cell41$Helper.length(\u001b[32mcell41.sc\u001b[39m:\u001b[32m5\u001b[39m)",
      "  ammonite.$sess.cell41$Helper.length(\u001b[32mcell41.sc\u001b[39m:\u001b[32m5\u001b[39m)",
      "  ammonite.$sess.cell41$Helper.length(\u001b[32mcell41.sc\u001b[39m:\u001b[32m5\u001b[39m)",
      "  ammonite.$sess.cell41$Helper.length(\u001b[32mcell41.sc\u001b[39m:\u001b[32m5\u001b[39m)",
      "  ammonite.$sess.cell41$Helper.length(\u001b[32mcell41.sc\u001b[39m:\u001b[32m5\u001b[39m)",
      "  ammonite.$sess.cell41$Helper.length(\u001b[32mcell41.sc\u001b[39m:\u001b[32m5\u001b[39m)",
      "  ammonite.$sess.cell41$Helper.length(\u001b[32mcell41.sc\u001b[39m:\u001b[32m5\u001b[39m)",
      "  ammonite.$sess.cell41$Helper.length(\u001b[32mcell41.sc\u001b[39m:\u001b[32m5\u001b[39m)",
      "  ammonite.$sess.cell41$Helper.length(\u001b[32mcell41.sc\u001b[39m:\u001b[32m5\u001b[39m)",
      "  ammonite.$sess.cell41$Helper.length(\u001b[32mcell41.sc\u001b[39m:\u001b[32m5\u001b[39m)",
      "  ammonite.$sess.cell41$Helper.length(\u001b[32mcell41.sc\u001b[39m:\u001b[32m5\u001b[39m)",
      "  ammonite.$sess.cell41$Helper.length(\u001b[32mcell41.sc\u001b[39m:\u001b[32m5\u001b[39m)",
      "  ammonite.$sess.cell41$Helper.length(\u001b[32mcell41.sc\u001b[39m:\u001b[32m5\u001b[39m)",
      "  ammonite.$sess.cell41$Helper.length(\u001b[32mcell41.sc\u001b[39m:\u001b[32m5\u001b[39m)",
      "  ammonite.$sess.cell41$Helper.length(\u001b[32mcell41.sc\u001b[39m:\u001b[32m5\u001b[39m)",
      "  ammonite.$sess.cell41$Helper.length(\u001b[32mcell41.sc\u001b[39m:\u001b[32m5\u001b[39m)",
      "  ammonite.$sess.cell41$Helper.length(\u001b[32mcell41.sc\u001b[39m:\u001b[32m5\u001b[39m)",
      "  ammonite.$sess.cell41$Helper.length(\u001b[32mcell41.sc\u001b[39m:\u001b[32m5\u001b[39m)",
      "  ammonite.$sess.cell41$Helper.length(\u001b[32mcell41.sc\u001b[39m:\u001b[32m5\u001b[39m)",
      "  ammonite.$sess.cell41$Helper.length(\u001b[32mcell41.sc\u001b[39m:\u001b[32m5\u001b[39m)",
      "  ammonite.$sess.cell41$Helper.length(\u001b[32mcell41.sc\u001b[39m:\u001b[32m5\u001b[39m)",
      "  ammonite.$sess.cell41$Helper.length(\u001b[32mcell41.sc\u001b[39m:\u001b[32m5\u001b[39m)",
      "  ammonite.$sess.cell41$Helper.length(\u001b[32mcell41.sc\u001b[39m:\u001b[32m5\u001b[39m)",
      "  ammonite.$sess.cell41$Helper.length(\u001b[32mcell41.sc\u001b[39m:\u001b[32m5\u001b[39m)",
      "  ammonite.$sess.cell41$Helper.length(\u001b[32mcell41.sc\u001b[39m:\u001b[32m5\u001b[39m)",
      "  ammonite.$sess.cell41$Helper.length(\u001b[32mcell41.sc\u001b[39m:\u001b[32m5\u001b[39m)",
      "  ammonite.$sess.cell41$Helper.length(\u001b[32mcell41.sc\u001b[39m:\u001b[32m5\u001b[39m)",
      "  ammonite.$sess.cell41$Helper.length(\u001b[32mcell41.sc\u001b[39m:\u001b[32m5\u001b[39m)",
      "  ammonite.$sess.cell41$Helper.length(\u001b[32mcell41.sc\u001b[39m:\u001b[32m5\u001b[39m)",
      "  ammonite.$sess.cell41$Helper.length(\u001b[32mcell41.sc\u001b[39m:\u001b[32m5\u001b[39m)",
      "  ammonite.$sess.cell41$Helper.length(\u001b[32mcell41.sc\u001b[39m:\u001b[32m5\u001b[39m)",
      "  ammonite.$sess.cell41$Helper.length(\u001b[32mcell41.sc\u001b[39m:\u001b[32m5\u001b[39m)",
      "  ammonite.$sess.cell41$Helper.length(\u001b[32mcell41.sc\u001b[39m:\u001b[32m5\u001b[39m)",
      "  ammonite.$sess.cell41$Helper.length(\u001b[32mcell41.sc\u001b[39m:\u001b[32m5\u001b[39m)",
      "  ammonite.$sess.cell41$Helper.length(\u001b[32mcell41.sc\u001b[39m:\u001b[32m5\u001b[39m)",
      "  ammonite.$sess.cell41$Helper.length(\u001b[32mcell41.sc\u001b[39m:\u001b[32m5\u001b[39m)",
      "  ammonite.$sess.cell41$Helper.length(\u001b[32mcell41.sc\u001b[39m:\u001b[32m5\u001b[39m)",
      "  ammonite.$sess.cell41$Helper.length(\u001b[32mcell41.sc\u001b[39m:\u001b[32m5\u001b[39m)",
      "  ammonite.$sess.cell41$Helper.length(\u001b[32mcell41.sc\u001b[39m:\u001b[32m5\u001b[39m)",
      "  ammonite.$sess.cell41$Helper.length(\u001b[32mcell41.sc\u001b[39m:\u001b[32m5\u001b[39m)",
      "  ammonite.$sess.cell41$Helper.length(\u001b[32mcell41.sc\u001b[39m:\u001b[32m5\u001b[39m)",
      "  ammonite.$sess.cell41$Helper.length(\u001b[32mcell41.sc\u001b[39m:\u001b[32m5\u001b[39m)",
      "  ammonite.$sess.cell41$Helper.length(\u001b[32mcell41.sc\u001b[39m:\u001b[32m5\u001b[39m)",
      "  ammonite.$sess.cell41$Helper.length(\u001b[32mcell41.sc\u001b[39m:\u001b[32m5\u001b[39m)",
      "  ammonite.$sess.cell41$Helper.length(\u001b[32mcell41.sc\u001b[39m:\u001b[32m5\u001b[39m)",
      "  ammonite.$sess.cell41$Helper.length(\u001b[32mcell41.sc\u001b[39m:\u001b[32m5\u001b[39m)",
      "  ammonite.$sess.cell41$Helper.length(\u001b[32mcell41.sc\u001b[39m:\u001b[32m5\u001b[39m)",
      "  ammonite.$sess.cell41$Helper.length(\u001b[32mcell41.sc\u001b[39m:\u001b[32m5\u001b[39m)",
      "  ammonite.$sess.cell41$Helper.length(\u001b[32mcell41.sc\u001b[39m:\u001b[32m5\u001b[39m)",
      "  ammonite.$sess.cell41$Helper.length(\u001b[32mcell41.sc\u001b[39m:\u001b[32m5\u001b[39m)",
      "  ammonite.$sess.cell41$Helper.length(\u001b[32mcell41.sc\u001b[39m:\u001b[32m5\u001b[39m)",
      "  ammonite.$sess.cell41$Helper.length(\u001b[32mcell41.sc\u001b[39m:\u001b[32m5\u001b[39m)",
      "  ammonite.$sess.cell41$Helper.length(\u001b[32mcell41.sc\u001b[39m:\u001b[32m5\u001b[39m)",
      "  ammonite.$sess.cell41$Helper.length(\u001b[32mcell41.sc\u001b[39m:\u001b[32m5\u001b[39m)",
      "  ammonite.$sess.cell41$Helper.length(\u001b[32mcell41.sc\u001b[39m:\u001b[32m5\u001b[39m)",
      "  ammonite.$sess.cell41$Helper.length(\u001b[32mcell41.sc\u001b[39m:\u001b[32m5\u001b[39m)",
      "  ammonite.$sess.cell41$Helper.length(\u001b[32mcell41.sc\u001b[39m:\u001b[32m5\u001b[39m)",
      "  ammonite.$sess.cell41$Helper.length(\u001b[32mcell41.sc\u001b[39m:\u001b[32m5\u001b[39m)",
      "  ammonite.$sess.cell41$Helper.length(\u001b[32mcell41.sc\u001b[39m:\u001b[32m5\u001b[39m)",
      "  ammonite.$sess.cell41$Helper.length(\u001b[32mcell41.sc\u001b[39m:\u001b[32m5\u001b[39m)",
      "  ammonite.$sess.cell41$Helper.length(\u001b[32mcell41.sc\u001b[39m:\u001b[32m5\u001b[39m)",
      "  ammonite.$sess.cell41$Helper.length(\u001b[32mcell41.sc\u001b[39m:\u001b[32m5\u001b[39m)",
      "  ammonite.$sess.cell41$Helper.length(\u001b[32mcell41.sc\u001b[39m:\u001b[32m5\u001b[39m)",
      "  ammonite.$sess.cell41$Helper.length(\u001b[32mcell41.sc\u001b[39m:\u001b[32m5\u001b[39m)",
      "  ammonite.$sess.cell41$Helper.length(\u001b[32mcell41.sc\u001b[39m:\u001b[32m5\u001b[39m)",
      "  ammonite.$sess.cell41$Helper.length(\u001b[32mcell41.sc\u001b[39m:\u001b[32m5\u001b[39m)",
      "  ammonite.$sess.cell41$Helper.length(\u001b[32mcell41.sc\u001b[39m:\u001b[32m5\u001b[39m)",
      "  ammonite.$sess.cell41$Helper.length(\u001b[32mcell41.sc\u001b[39m:\u001b[32m5\u001b[39m)",
      "  ammonite.$sess.cell41$Helper.length(\u001b[32mcell41.sc\u001b[39m:\u001b[32m5\u001b[39m)",
      "  ammonite.$sess.cell41$Helper.length(\u001b[32mcell41.sc\u001b[39m:\u001b[32m5\u001b[39m)",
      "  ammonite.$sess.cell41$Helper.length(\u001b[32mcell41.sc\u001b[39m:\u001b[32m5\u001b[39m)",
      "  ammonite.$sess.cell41$Helper.length(\u001b[32mcell41.sc\u001b[39m:\u001b[32m5\u001b[39m)",
      "  ammonite.$sess.cell41$Helper.length(\u001b[32mcell41.sc\u001b[39m:\u001b[32m5\u001b[39m)",
      "  ammonite.$sess.cell41$Helper.length(\u001b[32mcell41.sc\u001b[39m:\u001b[32m5\u001b[39m)",
      "  ammonite.$sess.cell41$Helper.length(\u001b[32mcell41.sc\u001b[39m:\u001b[32m5\u001b[39m)",
      "  ammonite.$sess.cell41$Helper.length(\u001b[32mcell41.sc\u001b[39m:\u001b[32m5\u001b[39m)",
      "  ammonite.$sess.cell41$Helper.length(\u001b[32mcell41.sc\u001b[39m:\u001b[32m5\u001b[39m)",
      "  ammonite.$sess.cell41$Helper.length(\u001b[32mcell41.sc\u001b[39m:\u001b[32m5\u001b[39m)",
      "  ammonite.$sess.cell41$Helper.length(\u001b[32mcell41.sc\u001b[39m:\u001b[32m5\u001b[39m)",
      "  ammonite.$sess.cell41$Helper.length(\u001b[32mcell41.sc\u001b[39m:\u001b[32m5\u001b[39m)",
      "  ammonite.$sess.cell41$Helper.length(\u001b[32mcell41.sc\u001b[39m:\u001b[32m5\u001b[39m)",
      "  ammonite.$sess.cell41$Helper.length(\u001b[32mcell41.sc\u001b[39m:\u001b[32m5\u001b[39m)",
      "  ammonite.$sess.cell41$Helper.length(\u001b[32mcell41.sc\u001b[39m:\u001b[32m5\u001b[39m)"
     ]
    }
   ],
   "source": [
    "length(List.fill(1500000)('a'))"
   ]
  },
  {
   "cell_type": "markdown",
   "metadata": {},
   "source": [
    "### Tail-recursive functions"
   ]
  },
  {
   "cell_type": "markdown",
   "metadata": {},
   "source": [
    "The implementation using tail-recursion solves the issues with the stack. It commonly makes use of auxiliary functions:"
   ]
  },
  {
   "cell_type": "code",
   "execution_count": 8,
   "metadata": {},
   "outputs": [
    {
     "data": {
      "text/plain": [
       "defined \u001b[32mfunction\u001b[39m \u001b[36mlengthTR\u001b[39m"
      ]
     },
     "execution_count": 8,
     "metadata": {},
     "output_type": "execute_result"
    }
   ],
   "source": [
    "// Using tail-recursive functions\n",
    "\n"
   ]
  },
  {
   "cell_type": "code",
   "execution_count": 9,
   "metadata": {},
   "outputs": [
    {
     "data": {
      "text/plain": [
       "\u001b[36mres9_0\u001b[39m: \u001b[32mInt\u001b[39m = \u001b[32m0\u001b[39m\n",
       "\u001b[36mres9_1\u001b[39m: \u001b[32mInt\u001b[39m = \u001b[32m3\u001b[39m"
      ]
     },
     "execution_count": 9,
     "metadata": {},
     "output_type": "execute_result"
    }
   ],
   "source": []
  },
  {
   "cell_type": "markdown",
   "metadata": {},
   "source": [
    "We can check the stack-safety problems of non-tail recursive functions by calculating the length of a very big list. We will use the following function, which creates a constant list of given length."
   ]
  },
  {
   "cell_type": "code",
   "execution_count": 10,
   "metadata": {},
   "outputs": [
    {
     "data": {
      "text/plain": [
       "defined \u001b[32mfunction\u001b[39m \u001b[36mconstantList\u001b[39m"
      ]
     },
     "execution_count": 10,
     "metadata": {},
     "output_type": "execute_result"
    }
   ],
   "source": [
    "// First, imperatively\n",
    "\n"
   ]
  },
  {
   "cell_type": "code",
   "execution_count": 11,
   "metadata": {},
   "outputs": [
    {
     "data": {
      "text/plain": [
       "defined \u001b[32mfunction\u001b[39m \u001b[36mconstantList\u001b[39m"
      ]
     },
     "execution_count": 11,
     "metadata": {},
     "output_type": "execute_result"
    }
   ],
   "source": [
    "// Next, tail-recursively\n",
    "\n"
   ]
  },
  {
   "cell_type": "markdown",
   "metadata": {},
   "source": [
    "We can also use the function [`fill`](https://www.scala-lang.org/api/2.13.3/scala/collection/immutable/List$.html#fill[A](n:Int)(elem:=%3EA):CC[A]) of the Scala standard library."
   ]
  },
  {
   "cell_type": "markdown",
   "metadata": {},
   "source": [
    "Now, let's calculate the length of a list long enough to blow up the stack, using each of the three implementations:"
   ]
  },
  {
   "cell_type": "code",
   "execution_count": 12,
   "metadata": {},
   "outputs": [
    {
     "data": {
      "text/plain": [
       "\u001b[36mres12\u001b[39m: \u001b[32mInt\u001b[39m = \u001b[32m100000\u001b[39m"
      ]
     },
     "execution_count": 12,
     "metadata": {},
     "output_type": "execute_result"
    }
   ],
   "source": [
    "// Imperatively\n"
   ]
  },
  {
   "cell_type": "code",
   "execution_count": 13,
   "metadata": {},
   "outputs": [
    {
     "data": {
      "text/plain": [
       "\u001b[36mres13\u001b[39m: \u001b[32mInt\u001b[39m = \u001b[32m100000\u001b[39m"
      ]
     },
     "execution_count": 13,
     "metadata": {},
     "output_type": "execute_result"
    }
   ],
   "source": [
    "// Tail-recursive\n"
   ]
  },
  {
   "cell_type": "code",
   "execution_count": 13,
   "metadata": {},
   "outputs": [],
   "source": [
    "// Plain recursive\n"
   ]
  },
  {
   "cell_type": "markdown",
   "metadata": {},
   "source": [
    "### Unit testing with `scalatest`"
   ]
  },
  {
   "cell_type": "code",
   "execution_count": 1,
   "metadata": {},
   "outputs": [
    {
     "data": {
      "text/plain": [
       "\u001b[32mimport \u001b[39m\u001b[36m$ivy.$                                \n",
       "\u001b[39m\n",
       "\u001b[32mimport \u001b[39m\u001b[36morg.scalatest.{Filter => _, _}, flatspec._, matchers._\n",
       "\u001b[39m"
      ]
     },
     "execution_count": 1,
     "metadata": {},
     "output_type": "execute_result"
    }
   ],
   "source": [
    "import $ivy.`org.scalatest::scalatest:3.2.16`\n",
    "import org.scalatest.{Filter => _, _}, flatspec._, matchers._"
   ]
  },
  {
   "cell_type": "markdown",
   "metadata": {},
   "source": [
    "From now on, we will also make extensive use of unit testing for the different functions that we implement. And we will use the [`scalatest`](http://www.scalatest.org/) library for that purpose. In particular, for each function we will implement a test catalogue that test it against different test cases. The test catalogue receives the actual function to be tested as a parameter. For instance, this is a possible test class for the `length` function:"
   ]
  },
  {
   "cell_type": "code",
   "execution_count": null,
   "metadata": {},
   "outputs": [],
   "source": [
    "class TestLength(lengthF: List[Int] => Int) extends AnyFlatSpec with should.Matchers:\n",
    "    \"length\" should \"work\" in:\n",
    "        ??? "
   ]
  },
  {
   "cell_type": "markdown",
   "metadata": {},
   "source": [
    "The method `shouldBe` is a _matcher_. The scalatest library offers an extensive catalogue of [them](http://www.scalatest.org/user_guide/using_matchers). Similarly, scalatest also support many different [testing styles](http://www.scalatest.org/user_guide/selecting_a_style). The chosen one here was `FlatSpec`. In order to execute the test catalogue we can simply use the scalatest method `run`:"
   ]
  },
  {
   "cell_type": "code",
   "execution_count": 16,
   "metadata": {},
   "outputs": [
    {
     "name": "stdout",
     "output_type": "stream",
     "text": [
      "\u001b[32mcell15$Helper$TestLength:\u001b[0m\n",
      "\u001b[32mlength\u001b[0m\n",
      "\u001b[32m- should work\u001b[0m\n"
     ]
    }
   ],
   "source": [
    "run(TestLength(lengthR))"
   ]
  },
  {
   "cell_type": "markdown",
   "metadata": {},
   "source": [
    "### Example: adding numbers"
   ]
  },
  {
   "cell_type": "code",
   "execution_count": 2,
   "metadata": {},
   "outputs": [
    {
     "data": {
      "text/plain": [
       "defined \u001b[32mobject\u001b[39m \u001b[36mstd\u001b[39m"
      ]
     },
     "execution_count": 2,
     "metadata": {},
     "output_type": "execute_result"
    }
   ],
   "source": [
    "object std: \n",
    "    enum Either[X, Y]: \n",
    "        case Left(x: X)\n",
    "        case Right(y: Y)\n",
    "\n",
    "    enum List[X]: \n",
    "        case Nil // 1\n",
    "        case ::(head: X, tail: List[X]) // (X, List[X])"
   ]
  },
  {
   "cell_type": "code",
   "execution_count": 5,
   "metadata": {},
   "outputs": [
    {
     "data": {
      "text/plain": [
       "\u001b[36ml\u001b[39m: \u001b[32mList\u001b[39m[\u001b[32mInt\u001b[39m] = \u001b[33mList\u001b[39m(\u001b[32m1\u001b[39m, \u001b[32m2\u001b[39m, \u001b[32m3\u001b[39m, \u001b[32m4\u001b[39m)\n",
       "\u001b[36ml1\u001b[39m: \u001b[32mList\u001b[39m[\u001b[32mInt\u001b[39m] = \u001b[33mList\u001b[39m(\u001b[32m1\u001b[39m, \u001b[32m2\u001b[39m, \u001b[32m3\u001b[39m, \u001b[32m4\u001b[39m)\n",
       "\u001b[36ml2\u001b[39m: \u001b[32mList\u001b[39m[\u001b[32mInt\u001b[39m] = \u001b[33mList\u001b[39m(\u001b[32m1\u001b[39m, \u001b[32m2\u001b[39m, \u001b[32m3\u001b[39m, \u001b[32m4\u001b[39m)\n",
       "\u001b[36me\u001b[39m: \u001b[32mEither\u001b[39m[\u001b[32mString\u001b[39m, \u001b[32mBoolean\u001b[39m] = \u001b[33mRight\u001b[39m(value = \u001b[32mtrue\u001b[39m)"
      ]
     },
     "execution_count": 5,
     "metadata": {},
     "output_type": "execute_result"
    }
   ],
   "source": [
    "val l: List[Int] = List(1,2,3,4)\n",
    "val l1: List[Int] = 1 :: (2 :: (3 :: (4 :: Nil)))\n",
    "\n",
    "val l2: List[Int] = ::(1, ::(2, ::(3, ::(4, Nil))))\n",
    "val e: Either[String, Boolean] = Right(true)"
   ]
  },
  {
   "cell_type": "code",
   "execution_count": 7,
   "metadata": {},
   "outputs": [
    {
     "data": {
      "text/plain": [
       "defined \u001b[32mfunction\u001b[39m \u001b[36misEmpty\u001b[39m"
      ]
     },
     "execution_count": 7,
     "metadata": {},
     "output_type": "execute_result"
    }
   ],
   "source": [
    "def isEmpty[X](l: List[X]): Boolean = \n",
    "    l match \n",
    "        case Nil => true : Boolean\n",
    "        case head :: tail => false : Boolean"
   ]
  },
  {
   "cell_type": "code",
   "execution_count": null,
   "metadata": {},
   "outputs": [],
   "source": []
  },
  {
   "cell_type": "markdown",
   "metadata": {},
   "source": [
    "Let's implement a function that sums all the numbers of a list."
   ]
  },
  {
   "cell_type": "code",
   "execution_count": 8,
   "metadata": {},
   "outputs": [
    {
     "data": {
      "text/plain": [
       "defined \u001b[32mfunction\u001b[39m \u001b[36msum\u001b[39m"
      ]
     },
     "execution_count": 8,
     "metadata": {},
     "output_type": "execute_result"
    }
   ],
   "source": [
    "def sum(l: List[Int]): Int = \n",
    "    var out: Int = ??? \n",
    "    for (e <- l)\n",
    "        out = ???(out, e)\n",
    "    out"
   ]
  },
  {
   "cell_type": "code",
   "execution_count": 21,
   "metadata": {},
   "outputs": [
    {
     "data": {
      "text/plain": [
       "defined \u001b[32mfunction\u001b[39m \u001b[36msumI\u001b[39m"
      ]
     },
     "execution_count": 21,
     "metadata": {},
     "output_type": "execute_result"
    }
   ],
   "source": [
    "def sumI(l: List[Int]): Int = \n",
    "    var out: Int = 0\n",
    "    for (e <- l)\n",
    "        out = out + e\n",
    "    /*return*/ out"
   ]
  },
  {
   "cell_type": "code",
   "execution_count": 22,
   "metadata": {},
   "outputs": [
    {
     "data": {
      "text/plain": [
       "defined \u001b[32mclass\u001b[39m \u001b[36mTestSum\u001b[39m"
      ]
     },
     "execution_count": 22,
     "metadata": {},
     "output_type": "execute_result"
    }
   ],
   "source": [
    "class TestSum(sum: List[Int] => Int) \n",
    "extends AnyFlatSpec with should.Matchers:\n",
    "    \"sum\" should \"return 0 for the empty list\" in:\n",
    "        sum(Nil) shouldBe 0 \n",
    "\n",
    "    \"sum\" should \"return the right value for non-empty lists\" in:\n",
    "        sum(1 :: Nil) shouldBe 1\n",
    "        sum(List(6, 2, 3)) shouldBe 11 "
   ]
  },
  {
   "cell_type": "code",
   "execution_count": 23,
   "metadata": {},
   "outputs": [
    {
     "name": "stdout",
     "output_type": "stream",
     "text": [
      "\u001b[32mcell22$Helper$TestSum:\u001b[0m\n",
      "\u001b[32msum\u001b[0m\n",
      "\u001b[32m- should return 0 for the empty list\u001b[0m\n",
      "\u001b[32msum\u001b[0m\n",
      "\u001b[32m- should return the right value for non-empty lists\u001b[0m\n"
     ]
    }
   ],
   "source": [
    "run(TestSum(sumI))"
   ]
  },
  {
   "cell_type": "code",
   "execution_count": 24,
   "metadata": {},
   "outputs": [
    {
     "data": {
      "text/plain": [
       "defined \u001b[32mfunction\u001b[39m \u001b[36msum\u001b[39m"
      ]
     },
     "execution_count": 24,
     "metadata": {},
     "output_type": "execute_result"
    }
   ],
   "source": [
    "def sum(l: List[Int]): Int = \n",
    "   ??? : Int"
   ]
  },
  {
   "cell_type": "code",
   "execution_count": 24,
   "metadata": {},
   "outputs": [
    {
     "data": {
      "text/plain": [
       "defined \u001b[32mfunction\u001b[39m \u001b[36msum\u001b[39m"
      ]
     },
     "execution_count": 24,
     "metadata": {},
     "output_type": "execute_result"
    }
   ],
   "source": [
    "def sum(l: List[Int]): Int = \n",
    "    l match \n",
    "        case Nil => ??? : Int\n",
    "        case head :: tail => ??? : Int"
   ]
  },
  {
   "cell_type": "code",
   "execution_count": 24,
   "metadata": {},
   "outputs": [
    {
     "data": {
      "text/plain": [
       "defined \u001b[32mfunction\u001b[39m \u001b[36msum\u001b[39m"
      ]
     },
     "execution_count": 24,
     "metadata": {},
     "output_type": "execute_result"
    }
   ],
   "source": [
    "def sum(l: List[Int]): Int = \n",
    "    l match \n",
    "        case Nil => \n",
    "            0 : Int\n",
    "        case (head: Int) :: (tail: List[Int]) => \n",
    "            ??? : Int"
   ]
  },
  {
   "cell_type": "code",
   "execution_count": 68,
   "metadata": {},
   "outputs": [
    {
     "name": "stderr",
     "output_type": "stream",
     "text": [
      "-- Error: cell69.sc:7:35 -------------------------------------------------------\n",
      "7 |            val tailSum: Int = sumR(tail)\n",
      "  |                               ^^^^^^^^^^\n",
      "  |                 Cannot rewrite recursive call: it is not in tail position\n",
      "Compilation Failed"
     ]
    }
   ],
   "source": [
    "@scala.annotation.tailrec\n",
    "def sumR(l: List[Int]): Int = \n",
    "    l match \n",
    "        case Nil => \n",
    "            0 : Int\n",
    "        case (head: Int) :: (tail: List[Int]) => \n",
    "            val tailSum: Int = sumR(tail)\n",
    "            head + tailSum : Int"
   ]
  },
  {
   "cell_type": "code",
   "execution_count": 50,
   "metadata": {},
   "outputs": [
    {
     "data": {
      "text/plain": [
       "defined \u001b[32mfunction\u001b[39m \u001b[36msumR\u001b[39m"
      ]
     },
     "execution_count": 50,
     "metadata": {},
     "output_type": "execute_result"
    }
   ],
   "source": [
    "def sumR(l: List[Int]): Int = \n",
    "    l match \n",
    "        case Nil => \n",
    "            0 : Int\n",
    "        case head :: tail => \n",
    "            head + sumR(tail)"
   ]
  },
  {
   "cell_type": "code",
   "execution_count": 51,
   "metadata": {},
   "outputs": [
    {
     "name": "stdout",
     "output_type": "stream",
     "text": [
      "\u001b[32mcell22$Helper$TestSum:\u001b[0m\n",
      "\u001b[32msum\u001b[0m\n",
      "\u001b[32m- should return 0 for the empty list\u001b[0m\n",
      "\u001b[32msum\u001b[0m\n",
      "\u001b[32m- should return the right value for non-empty lists\u001b[0m\n"
     ]
    }
   ],
   "source": [
    "run(TestSum(sumR))"
   ]
  },
  {
   "cell_type": "code",
   "execution_count": 28,
   "metadata": {},
   "outputs": [],
   "source": [
    "// Recursively\n",
    "\n"
   ]
  },
  {
   "cell_type": "code",
   "execution_count": 19,
   "metadata": {},
   "outputs": [
    {
     "name": "stdout",
     "output_type": "stream",
     "text": [
      "\u001b[32mcell17$Helper$TestSum:\u001b[0m\n",
      "\u001b[32msum\u001b[0m\n",
      "\u001b[32m- should work\u001b[0m\n"
     ]
    }
   ],
   "source": [
    "run(TestSum(sum))"
   ]
  },
  {
   "cell_type": "code",
   "execution_count": 20,
   "metadata": {},
   "outputs": [
    {
     "data": {
      "text/plain": [
       "defined \u001b[32mfunction\u001b[39m \u001b[36msumTR\u001b[39m"
      ]
     },
     "execution_count": 20,
     "metadata": {},
     "output_type": "execute_result"
    }
   ],
   "source": [
    "// With tail-recursion\n",
    "\n"
   ]
  },
  {
   "cell_type": "code",
   "execution_count": null,
   "metadata": {},
   "outputs": [],
   "source": []
  },
  {
   "cell_type": "code",
   "execution_count": 68,
   "metadata": {},
   "outputs": [
    {
     "data": {
      "text/plain": [
       "defined \u001b[32mfunction\u001b[39m \u001b[36msumTR\u001b[39m"
      ]
     },
     "execution_count": 68,
     "metadata": {},
     "output_type": "execute_result"
    }
   ],
   "source": [
    "def sumTR(l: List[Int]): Int = \n",
    "\n",
    "    @scala.annotation.tailrec\n",
    "    def sumAux(out: Int, aux: List[Int]): Int = \n",
    "        aux match \n",
    "            case Nil => out\n",
    "            case head :: tail => \n",
    "                sumAux(out + head, tail) \n",
    "\n",
    "    sumAux(0, l)\n",
    "        \n",
    "    /*var out: Int = 0\n",
    "    var aux: List[Int] = l\n",
    "    while (aux != Nil)\n",
    "        out = out + aux.head\n",
    "        aux = aux.tail\n",
    "    out*/\n",
    "\n",
    "    \n",
    "    "
   ]
  },
  {
   "cell_type": "code",
   "execution_count": 67,
   "metadata": {},
   "outputs": [
    {
     "name": "stdout",
     "output_type": "stream",
     "text": [
      "\u001b[32mcell22$Helper$TestSum:\u001b[0m\n",
      "\u001b[32msum\u001b[0m\n",
      "\u001b[32m- should return 0 for the empty list\u001b[0m\n",
      "\u001b[32msum\u001b[0m\n",
      "\u001b[32m- should return the right value for non-empty lists\u001b[0m\n"
     ]
    }
   ],
   "source": [
    "run(TestSum(sumTR))"
   ]
  },
  {
   "cell_type": "code",
   "execution_count": 72,
   "metadata": {},
   "outputs": [
    {
     "data": {
      "text/plain": [
       "\u001b[36mres72\u001b[39m: \u001b[32mInt\u001b[39m = \u001b[32m10000000\u001b[39m"
      ]
     },
     "execution_count": 72,
     "metadata": {},
     "output_type": "execute_result"
    }
   ],
   "source": [
    "sumTR(List.fill(10000000)(1))"
   ]
  },
  {
   "cell_type": "code",
   "execution_count": 56,
   "metadata": {},
   "outputs": [
    {
     "data": {
      "text/plain": [
       "\u001b[36mres56\u001b[39m: \u001b[32mList\u001b[39m[\u001b[32mInt\u001b[39m] = \u001b[33mList\u001b[39m(\u001b[32m1\u001b[39m, \u001b[32m1\u001b[39m, \u001b[32m1\u001b[39m, \u001b[32m1\u001b[39m, \u001b[32m1\u001b[39m, \u001b[32m1\u001b[39m, \u001b[32m1\u001b[39m, \u001b[32m1\u001b[39m, \u001b[32m1\u001b[39m, \u001b[32m1\u001b[39m)"
      ]
     },
     "execution_count": 56,
     "metadata": {},
     "output_type": "execute_result"
    }
   ],
   "source": [
    "List.fill(10)(1)"
   ]
  },
  {
   "cell_type": "code",
   "execution_count": 63,
   "metadata": {
    "collapsed": true,
    "jupyter": {
     "outputs_hidden": true
    },
    "tags": []
   },
   "outputs": [
    {
     "ename": "java.lang.StackOverflowError",
     "evalue": "null",
     "output_type": "error",
     "traceback": [
      "\u001b[31mjava.lang.StackOverflowError\u001b[39m",
      "  ammonite.$sess.cell50$Helper.sumR(\u001b[32mcell50.sc\u001b[39m:\u001b[32m6\u001b[39m)",
      "  ammonite.$sess.cell50$Helper.sumR(\u001b[32mcell50.sc\u001b[39m:\u001b[32m6\u001b[39m)",
      "  ammonite.$sess.cell50$Helper.sumR(\u001b[32mcell50.sc\u001b[39m:\u001b[32m6\u001b[39m)",
      "  ammonite.$sess.cell50$Helper.sumR(\u001b[32mcell50.sc\u001b[39m:\u001b[32m6\u001b[39m)",
      "  ammonite.$sess.cell50$Helper.sumR(\u001b[32mcell50.sc\u001b[39m:\u001b[32m6\u001b[39m)",
      "  ammonite.$sess.cell50$Helper.sumR(\u001b[32mcell50.sc\u001b[39m:\u001b[32m6\u001b[39m)",
      "  ammonite.$sess.cell50$Helper.sumR(\u001b[32mcell50.sc\u001b[39m:\u001b[32m6\u001b[39m)",
      "  ammonite.$sess.cell50$Helper.sumR(\u001b[32mcell50.sc\u001b[39m:\u001b[32m6\u001b[39m)",
      "  ammonite.$sess.cell50$Helper.sumR(\u001b[32mcell50.sc\u001b[39m:\u001b[32m6\u001b[39m)",
      "  ammonite.$sess.cell50$Helper.sumR(\u001b[32mcell50.sc\u001b[39m:\u001b[32m6\u001b[39m)",
      "  ammonite.$sess.cell50$Helper.sumR(\u001b[32mcell50.sc\u001b[39m:\u001b[32m6\u001b[39m)",
      "  ammonite.$sess.cell50$Helper.sumR(\u001b[32mcell50.sc\u001b[39m:\u001b[32m6\u001b[39m)",
      "  ammonite.$sess.cell50$Helper.sumR(\u001b[32mcell50.sc\u001b[39m:\u001b[32m6\u001b[39m)",
      "  ammonite.$sess.cell50$Helper.sumR(\u001b[32mcell50.sc\u001b[39m:\u001b[32m6\u001b[39m)",
      "  ammonite.$sess.cell50$Helper.sumR(\u001b[32mcell50.sc\u001b[39m:\u001b[32m6\u001b[39m)",
      "  ammonite.$sess.cell50$Helper.sumR(\u001b[32mcell50.sc\u001b[39m:\u001b[32m6\u001b[39m)",
      "  ammonite.$sess.cell50$Helper.sumR(\u001b[32mcell50.sc\u001b[39m:\u001b[32m6\u001b[39m)",
      "  ammonite.$sess.cell50$Helper.sumR(\u001b[32mcell50.sc\u001b[39m:\u001b[32m6\u001b[39m)",
      "  ammonite.$sess.cell50$Helper.sumR(\u001b[32mcell50.sc\u001b[39m:\u001b[32m6\u001b[39m)",
      "  ammonite.$sess.cell50$Helper.sumR(\u001b[32mcell50.sc\u001b[39m:\u001b[32m6\u001b[39m)",
      "  ammonite.$sess.cell50$Helper.sumR(\u001b[32mcell50.sc\u001b[39m:\u001b[32m6\u001b[39m)",
      "  ammonite.$sess.cell50$Helper.sumR(\u001b[32mcell50.sc\u001b[39m:\u001b[32m6\u001b[39m)",
      "  ammonite.$sess.cell50$Helper.sumR(\u001b[32mcell50.sc\u001b[39m:\u001b[32m6\u001b[39m)",
      "  ammonite.$sess.cell50$Helper.sumR(\u001b[32mcell50.sc\u001b[39m:\u001b[32m6\u001b[39m)",
      "  ammonite.$sess.cell50$Helper.sumR(\u001b[32mcell50.sc\u001b[39m:\u001b[32m6\u001b[39m)",
      "  ammonite.$sess.cell50$Helper.sumR(\u001b[32mcell50.sc\u001b[39m:\u001b[32m6\u001b[39m)",
      "  ammonite.$sess.cell50$Helper.sumR(\u001b[32mcell50.sc\u001b[39m:\u001b[32m6\u001b[39m)",
      "  ammonite.$sess.cell50$Helper.sumR(\u001b[32mcell50.sc\u001b[39m:\u001b[32m6\u001b[39m)",
      "  ammonite.$sess.cell50$Helper.sumR(\u001b[32mcell50.sc\u001b[39m:\u001b[32m6\u001b[39m)",
      "  ammonite.$sess.cell50$Helper.sumR(\u001b[32mcell50.sc\u001b[39m:\u001b[32m6\u001b[39m)",
      "  ammonite.$sess.cell50$Helper.sumR(\u001b[32mcell50.sc\u001b[39m:\u001b[32m6\u001b[39m)",
      "  ammonite.$sess.cell50$Helper.sumR(\u001b[32mcell50.sc\u001b[39m:\u001b[32m6\u001b[39m)",
      "  ammonite.$sess.cell50$Helper.sumR(\u001b[32mcell50.sc\u001b[39m:\u001b[32m6\u001b[39m)",
      "  ammonite.$sess.cell50$Helper.sumR(\u001b[32mcell50.sc\u001b[39m:\u001b[32m6\u001b[39m)",
      "  ammonite.$sess.cell50$Helper.sumR(\u001b[32mcell50.sc\u001b[39m:\u001b[32m6\u001b[39m)",
      "  ammonite.$sess.cell50$Helper.sumR(\u001b[32mcell50.sc\u001b[39m:\u001b[32m6\u001b[39m)",
      "  ammonite.$sess.cell50$Helper.sumR(\u001b[32mcell50.sc\u001b[39m:\u001b[32m6\u001b[39m)",
      "  ammonite.$sess.cell50$Helper.sumR(\u001b[32mcell50.sc\u001b[39m:\u001b[32m6\u001b[39m)",
      "  ammonite.$sess.cell50$Helper.sumR(\u001b[32mcell50.sc\u001b[39m:\u001b[32m6\u001b[39m)",
      "  ammonite.$sess.cell50$Helper.sumR(\u001b[32mcell50.sc\u001b[39m:\u001b[32m6\u001b[39m)",
      "  ammonite.$sess.cell50$Helper.sumR(\u001b[32mcell50.sc\u001b[39m:\u001b[32m6\u001b[39m)",
      "  ammonite.$sess.cell50$Helper.sumR(\u001b[32mcell50.sc\u001b[39m:\u001b[32m6\u001b[39m)",
      "  ammonite.$sess.cell50$Helper.sumR(\u001b[32mcell50.sc\u001b[39m:\u001b[32m6\u001b[39m)",
      "  ammonite.$sess.cell50$Helper.sumR(\u001b[32mcell50.sc\u001b[39m:\u001b[32m6\u001b[39m)",
      "  ammonite.$sess.cell50$Helper.sumR(\u001b[32mcell50.sc\u001b[39m:\u001b[32m6\u001b[39m)",
      "  ammonite.$sess.cell50$Helper.sumR(\u001b[32mcell50.sc\u001b[39m:\u001b[32m6\u001b[39m)",
      "  ammonite.$sess.cell50$Helper.sumR(\u001b[32mcell50.sc\u001b[39m:\u001b[32m6\u001b[39m)",
      "  ammonite.$sess.cell50$Helper.sumR(\u001b[32mcell50.sc\u001b[39m:\u001b[32m6\u001b[39m)",
      "  ammonite.$sess.cell50$Helper.sumR(\u001b[32mcell50.sc\u001b[39m:\u001b[32m6\u001b[39m)",
      "  ammonite.$sess.cell50$Helper.sumR(\u001b[32mcell50.sc\u001b[39m:\u001b[32m6\u001b[39m)",
      "  ammonite.$sess.cell50$Helper.sumR(\u001b[32mcell50.sc\u001b[39m:\u001b[32m6\u001b[39m)",
      "  ammonite.$sess.cell50$Helper.sumR(\u001b[32mcell50.sc\u001b[39m:\u001b[32m6\u001b[39m)",
      "  ammonite.$sess.cell50$Helper.sumR(\u001b[32mcell50.sc\u001b[39m:\u001b[32m6\u001b[39m)",
      "  ammonite.$sess.cell50$Helper.sumR(\u001b[32mcell50.sc\u001b[39m:\u001b[32m6\u001b[39m)",
      "  ammonite.$sess.cell50$Helper.sumR(\u001b[32mcell50.sc\u001b[39m:\u001b[32m6\u001b[39m)",
      "  ammonite.$sess.cell50$Helper.sumR(\u001b[32mcell50.sc\u001b[39m:\u001b[32m6\u001b[39m)",
      "  ammonite.$sess.cell50$Helper.sumR(\u001b[32mcell50.sc\u001b[39m:\u001b[32m6\u001b[39m)",
      "  ammonite.$sess.cell50$Helper.sumR(\u001b[32mcell50.sc\u001b[39m:\u001b[32m6\u001b[39m)",
      "  ammonite.$sess.cell50$Helper.sumR(\u001b[32mcell50.sc\u001b[39m:\u001b[32m6\u001b[39m)",
      "  ammonite.$sess.cell50$Helper.sumR(\u001b[32mcell50.sc\u001b[39m:\u001b[32m6\u001b[39m)",
      "  ammonite.$sess.cell50$Helper.sumR(\u001b[32mcell50.sc\u001b[39m:\u001b[32m6\u001b[39m)",
      "  ammonite.$sess.cell50$Helper.sumR(\u001b[32mcell50.sc\u001b[39m:\u001b[32m6\u001b[39m)",
      "  ammonite.$sess.cell50$Helper.sumR(\u001b[32mcell50.sc\u001b[39m:\u001b[32m6\u001b[39m)",
      "  ammonite.$sess.cell50$Helper.sumR(\u001b[32mcell50.sc\u001b[39m:\u001b[32m6\u001b[39m)",
      "  ammonite.$sess.cell50$Helper.sumR(\u001b[32mcell50.sc\u001b[39m:\u001b[32m6\u001b[39m)",
      "  ammonite.$sess.cell50$Helper.sumR(\u001b[32mcell50.sc\u001b[39m:\u001b[32m6\u001b[39m)",
      "  ammonite.$sess.cell50$Helper.sumR(\u001b[32mcell50.sc\u001b[39m:\u001b[32m6\u001b[39m)",
      "  ammonite.$sess.cell50$Helper.sumR(\u001b[32mcell50.sc\u001b[39m:\u001b[32m6\u001b[39m)",
      "  ammonite.$sess.cell50$Helper.sumR(\u001b[32mcell50.sc\u001b[39m:\u001b[32m6\u001b[39m)",
      "  ammonite.$sess.cell50$Helper.sumR(\u001b[32mcell50.sc\u001b[39m:\u001b[32m6\u001b[39m)",
      "  ammonite.$sess.cell50$Helper.sumR(\u001b[32mcell50.sc\u001b[39m:\u001b[32m6\u001b[39m)",
      "  ammonite.$sess.cell50$Helper.sumR(\u001b[32mcell50.sc\u001b[39m:\u001b[32m6\u001b[39m)",
      "  ammonite.$sess.cell50$Helper.sumR(\u001b[32mcell50.sc\u001b[39m:\u001b[32m6\u001b[39m)",
      "  ammonite.$sess.cell50$Helper.sumR(\u001b[32mcell50.sc\u001b[39m:\u001b[32m6\u001b[39m)",
      "  ammonite.$sess.cell50$Helper.sumR(\u001b[32mcell50.sc\u001b[39m:\u001b[32m6\u001b[39m)",
      "  ammonite.$sess.cell50$Helper.sumR(\u001b[32mcell50.sc\u001b[39m:\u001b[32m6\u001b[39m)",
      "  ammonite.$sess.cell50$Helper.sumR(\u001b[32mcell50.sc\u001b[39m:\u001b[32m6\u001b[39m)",
      "  ammonite.$sess.cell50$Helper.sumR(\u001b[32mcell50.sc\u001b[39m:\u001b[32m6\u001b[39m)",
      "  ammonite.$sess.cell50$Helper.sumR(\u001b[32mcell50.sc\u001b[39m:\u001b[32m6\u001b[39m)",
      "  ammonite.$sess.cell50$Helper.sumR(\u001b[32mcell50.sc\u001b[39m:\u001b[32m6\u001b[39m)",
      "  ammonite.$sess.cell50$Helper.sumR(\u001b[32mcell50.sc\u001b[39m:\u001b[32m6\u001b[39m)",
      "  ammonite.$sess.cell50$Helper.sumR(\u001b[32mcell50.sc\u001b[39m:\u001b[32m6\u001b[39m)",
      "  ammonite.$sess.cell50$Helper.sumR(\u001b[32mcell50.sc\u001b[39m:\u001b[32m6\u001b[39m)",
      "  ammonite.$sess.cell50$Helper.sumR(\u001b[32mcell50.sc\u001b[39m:\u001b[32m6\u001b[39m)",
      "  ammonite.$sess.cell50$Helper.sumR(\u001b[32mcell50.sc\u001b[39m:\u001b[32m6\u001b[39m)",
      "  ammonite.$sess.cell50$Helper.sumR(\u001b[32mcell50.sc\u001b[39m:\u001b[32m6\u001b[39m)",
      "  ammonite.$sess.cell50$Helper.sumR(\u001b[32mcell50.sc\u001b[39m:\u001b[32m6\u001b[39m)",
      "  ammonite.$sess.cell50$Helper.sumR(\u001b[32mcell50.sc\u001b[39m:\u001b[32m6\u001b[39m)",
      "  ammonite.$sess.cell50$Helper.sumR(\u001b[32mcell50.sc\u001b[39m:\u001b[32m6\u001b[39m)",
      "  ammonite.$sess.cell50$Helper.sumR(\u001b[32mcell50.sc\u001b[39m:\u001b[32m6\u001b[39m)",
      "  ammonite.$sess.cell50$Helper.sumR(\u001b[32mcell50.sc\u001b[39m:\u001b[32m6\u001b[39m)",
      "  ammonite.$sess.cell50$Helper.sumR(\u001b[32mcell50.sc\u001b[39m:\u001b[32m6\u001b[39m)",
      "  ammonite.$sess.cell50$Helper.sumR(\u001b[32mcell50.sc\u001b[39m:\u001b[32m6\u001b[39m)",
      "  ammonite.$sess.cell50$Helper.sumR(\u001b[32mcell50.sc\u001b[39m:\u001b[32m6\u001b[39m)",
      "  ammonite.$sess.cell50$Helper.sumR(\u001b[32mcell50.sc\u001b[39m:\u001b[32m6\u001b[39m)",
      "  ammonite.$sess.cell50$Helper.sumR(\u001b[32mcell50.sc\u001b[39m:\u001b[32m6\u001b[39m)",
      "  ammonite.$sess.cell50$Helper.sumR(\u001b[32mcell50.sc\u001b[39m:\u001b[32m6\u001b[39m)",
      "  ammonite.$sess.cell50$Helper.sumR(\u001b[32mcell50.sc\u001b[39m:\u001b[32m6\u001b[39m)",
      "  ammonite.$sess.cell50$Helper.sumR(\u001b[32mcell50.sc\u001b[39m:\u001b[32m6\u001b[39m)",
      "  ammonite.$sess.cell50$Helper.sumR(\u001b[32mcell50.sc\u001b[39m:\u001b[32m6\u001b[39m)",
      "  ammonite.$sess.cell50$Helper.sumR(\u001b[32mcell50.sc\u001b[39m:\u001b[32m6\u001b[39m)",
      "  ammonite.$sess.cell50$Helper.sumR(\u001b[32mcell50.sc\u001b[39m:\u001b[32m6\u001b[39m)",
      "  ammonite.$sess.cell50$Helper.sumR(\u001b[32mcell50.sc\u001b[39m:\u001b[32m6\u001b[39m)",
      "  ammonite.$sess.cell50$Helper.sumR(\u001b[32mcell50.sc\u001b[39m:\u001b[32m6\u001b[39m)",
      "  ammonite.$sess.cell50$Helper.sumR(\u001b[32mcell50.sc\u001b[39m:\u001b[32m6\u001b[39m)",
      "  ammonite.$sess.cell50$Helper.sumR(\u001b[32mcell50.sc\u001b[39m:\u001b[32m6\u001b[39m)",
      "  ammonite.$sess.cell50$Helper.sumR(\u001b[32mcell50.sc\u001b[39m:\u001b[32m6\u001b[39m)",
      "  ammonite.$sess.cell50$Helper.sumR(\u001b[32mcell50.sc\u001b[39m:\u001b[32m6\u001b[39m)",
      "  ammonite.$sess.cell50$Helper.sumR(\u001b[32mcell50.sc\u001b[39m:\u001b[32m6\u001b[39m)",
      "  ammonite.$sess.cell50$Helper.sumR(\u001b[32mcell50.sc\u001b[39m:\u001b[32m6\u001b[39m)",
      "  ammonite.$sess.cell50$Helper.sumR(\u001b[32mcell50.sc\u001b[39m:\u001b[32m6\u001b[39m)",
      "  ammonite.$sess.cell50$Helper.sumR(\u001b[32mcell50.sc\u001b[39m:\u001b[32m6\u001b[39m)",
      "  ammonite.$sess.cell50$Helper.sumR(\u001b[32mcell50.sc\u001b[39m:\u001b[32m6\u001b[39m)",
      "  ammonite.$sess.cell50$Helper.sumR(\u001b[32mcell50.sc\u001b[39m:\u001b[32m6\u001b[39m)",
      "  ammonite.$sess.cell50$Helper.sumR(\u001b[32mcell50.sc\u001b[39m:\u001b[32m6\u001b[39m)",
      "  ammonite.$sess.cell50$Helper.sumR(\u001b[32mcell50.sc\u001b[39m:\u001b[32m6\u001b[39m)",
      "  ammonite.$sess.cell50$Helper.sumR(\u001b[32mcell50.sc\u001b[39m:\u001b[32m6\u001b[39m)",
      "  ammonite.$sess.cell50$Helper.sumR(\u001b[32mcell50.sc\u001b[39m:\u001b[32m6\u001b[39m)",
      "  ammonite.$sess.cell50$Helper.sumR(\u001b[32mcell50.sc\u001b[39m:\u001b[32m6\u001b[39m)",
      "  ammonite.$sess.cell50$Helper.sumR(\u001b[32mcell50.sc\u001b[39m:\u001b[32m6\u001b[39m)",
      "  ammonite.$sess.cell50$Helper.sumR(\u001b[32mcell50.sc\u001b[39m:\u001b[32m6\u001b[39m)",
      "  ammonite.$sess.cell50$Helper.sumR(\u001b[32mcell50.sc\u001b[39m:\u001b[32m6\u001b[39m)",
      "  ammonite.$sess.cell50$Helper.sumR(\u001b[32mcell50.sc\u001b[39m:\u001b[32m6\u001b[39m)",
      "  ammonite.$sess.cell50$Helper.sumR(\u001b[32mcell50.sc\u001b[39m:\u001b[32m6\u001b[39m)",
      "  ammonite.$sess.cell50$Helper.sumR(\u001b[32mcell50.sc\u001b[39m:\u001b[32m6\u001b[39m)",
      "  ammonite.$sess.cell50$Helper.sumR(\u001b[32mcell50.sc\u001b[39m:\u001b[32m6\u001b[39m)",
      "  ammonite.$sess.cell50$Helper.sumR(\u001b[32mcell50.sc\u001b[39m:\u001b[32m6\u001b[39m)",
      "  ammonite.$sess.cell50$Helper.sumR(\u001b[32mcell50.sc\u001b[39m:\u001b[32m6\u001b[39m)",
      "  ammonite.$sess.cell50$Helper.sumR(\u001b[32mcell50.sc\u001b[39m:\u001b[32m6\u001b[39m)",
      "  ammonite.$sess.cell50$Helper.sumR(\u001b[32mcell50.sc\u001b[39m:\u001b[32m6\u001b[39m)",
      "  ammonite.$sess.cell50$Helper.sumR(\u001b[32mcell50.sc\u001b[39m:\u001b[32m6\u001b[39m)",
      "  ammonite.$sess.cell50$Helper.sumR(\u001b[32mcell50.sc\u001b[39m:\u001b[32m6\u001b[39m)",
      "  ammonite.$sess.cell50$Helper.sumR(\u001b[32mcell50.sc\u001b[39m:\u001b[32m6\u001b[39m)",
      "  ammonite.$sess.cell50$Helper.sumR(\u001b[32mcell50.sc\u001b[39m:\u001b[32m6\u001b[39m)",
      "  ammonite.$sess.cell50$Helper.sumR(\u001b[32mcell50.sc\u001b[39m:\u001b[32m6\u001b[39m)",
      "  ammonite.$sess.cell50$Helper.sumR(\u001b[32mcell50.sc\u001b[39m:\u001b[32m6\u001b[39m)",
      "  ammonite.$sess.cell50$Helper.sumR(\u001b[32mcell50.sc\u001b[39m:\u001b[32m6\u001b[39m)",
      "  ammonite.$sess.cell50$Helper.sumR(\u001b[32mcell50.sc\u001b[39m:\u001b[32m6\u001b[39m)",
      "  ammonite.$sess.cell50$Helper.sumR(\u001b[32mcell50.sc\u001b[39m:\u001b[32m6\u001b[39m)",
      "  ammonite.$sess.cell50$Helper.sumR(\u001b[32mcell50.sc\u001b[39m:\u001b[32m6\u001b[39m)",
      "  ammonite.$sess.cell50$Helper.sumR(\u001b[32mcell50.sc\u001b[39m:\u001b[32m6\u001b[39m)",
      "  ammonite.$sess.cell50$Helper.sumR(\u001b[32mcell50.sc\u001b[39m:\u001b[32m6\u001b[39m)",
      "  ammonite.$sess.cell50$Helper.sumR(\u001b[32mcell50.sc\u001b[39m:\u001b[32m6\u001b[39m)",
      "  ammonite.$sess.cell50$Helper.sumR(\u001b[32mcell50.sc\u001b[39m:\u001b[32m6\u001b[39m)",
      "  ammonite.$sess.cell50$Helper.sumR(\u001b[32mcell50.sc\u001b[39m:\u001b[32m6\u001b[39m)",
      "  ammonite.$sess.cell50$Helper.sumR(\u001b[32mcell50.sc\u001b[39m:\u001b[32m6\u001b[39m)",
      "  ammonite.$sess.cell50$Helper.sumR(\u001b[32mcell50.sc\u001b[39m:\u001b[32m6\u001b[39m)",
      "  ammonite.$sess.cell50$Helper.sumR(\u001b[32mcell50.sc\u001b[39m:\u001b[32m6\u001b[39m)",
      "  ammonite.$sess.cell50$Helper.sumR(\u001b[32mcell50.sc\u001b[39m:\u001b[32m6\u001b[39m)",
      "  ammonite.$sess.cell50$Helper.sumR(\u001b[32mcell50.sc\u001b[39m:\u001b[32m6\u001b[39m)",
      "  ammonite.$sess.cell50$Helper.sumR(\u001b[32mcell50.sc\u001b[39m:\u001b[32m6\u001b[39m)",
      "  ammonite.$sess.cell50$Helper.sumR(\u001b[32mcell50.sc\u001b[39m:\u001b[32m6\u001b[39m)",
      "  ammonite.$sess.cell50$Helper.sumR(\u001b[32mcell50.sc\u001b[39m:\u001b[32m6\u001b[39m)",
      "  ammonite.$sess.cell50$Helper.sumR(\u001b[32mcell50.sc\u001b[39m:\u001b[32m6\u001b[39m)",
      "  ammonite.$sess.cell50$Helper.sumR(\u001b[32mcell50.sc\u001b[39m:\u001b[32m6\u001b[39m)",
      "  ammonite.$sess.cell50$Helper.sumR(\u001b[32mcell50.sc\u001b[39m:\u001b[32m6\u001b[39m)",
      "  ammonite.$sess.cell50$Helper.sumR(\u001b[32mcell50.sc\u001b[39m:\u001b[32m6\u001b[39m)",
      "  ammonite.$sess.cell50$Helper.sumR(\u001b[32mcell50.sc\u001b[39m:\u001b[32m6\u001b[39m)",
      "  ammonite.$sess.cell50$Helper.sumR(\u001b[32mcell50.sc\u001b[39m:\u001b[32m6\u001b[39m)",
      "  ammonite.$sess.cell50$Helper.sumR(\u001b[32mcell50.sc\u001b[39m:\u001b[32m6\u001b[39m)",
      "  ammonite.$sess.cell50$Helper.sumR(\u001b[32mcell50.sc\u001b[39m:\u001b[32m6\u001b[39m)",
      "  ammonite.$sess.cell50$Helper.sumR(\u001b[32mcell50.sc\u001b[39m:\u001b[32m6\u001b[39m)",
      "  ammonite.$sess.cell50$Helper.sumR(\u001b[32mcell50.sc\u001b[39m:\u001b[32m6\u001b[39m)",
      "  ammonite.$sess.cell50$Helper.sumR(\u001b[32mcell50.sc\u001b[39m:\u001b[32m6\u001b[39m)",
      "  ammonite.$sess.cell50$Helper.sumR(\u001b[32mcell50.sc\u001b[39m:\u001b[32m6\u001b[39m)",
      "  ammonite.$sess.cell50$Helper.sumR(\u001b[32mcell50.sc\u001b[39m:\u001b[32m6\u001b[39m)",
      "  ammonite.$sess.cell50$Helper.sumR(\u001b[32mcell50.sc\u001b[39m:\u001b[32m6\u001b[39m)",
      "  ammonite.$sess.cell50$Helper.sumR(\u001b[32mcell50.sc\u001b[39m:\u001b[32m6\u001b[39m)",
      "  ammonite.$sess.cell50$Helper.sumR(\u001b[32mcell50.sc\u001b[39m:\u001b[32m6\u001b[39m)",
      "  ammonite.$sess.cell50$Helper.sumR(\u001b[32mcell50.sc\u001b[39m:\u001b[32m6\u001b[39m)",
      "  ammonite.$sess.cell50$Helper.sumR(\u001b[32mcell50.sc\u001b[39m:\u001b[32m6\u001b[39m)",
      "  ammonite.$sess.cell50$Helper.sumR(\u001b[32mcell50.sc\u001b[39m:\u001b[32m6\u001b[39m)",
      "  ammonite.$sess.cell50$Helper.sumR(\u001b[32mcell50.sc\u001b[39m:\u001b[32m6\u001b[39m)",
      "  ammonite.$sess.cell50$Helper.sumR(\u001b[32mcell50.sc\u001b[39m:\u001b[32m6\u001b[39m)",
      "  ammonite.$sess.cell50$Helper.sumR(\u001b[32mcell50.sc\u001b[39m:\u001b[32m6\u001b[39m)",
      "  ammonite.$sess.cell50$Helper.sumR(\u001b[32mcell50.sc\u001b[39m:\u001b[32m6\u001b[39m)",
      "  ammonite.$sess.cell50$Helper.sumR(\u001b[32mcell50.sc\u001b[39m:\u001b[32m6\u001b[39m)",
      "  ammonite.$sess.cell50$Helper.sumR(\u001b[32mcell50.sc\u001b[39m:\u001b[32m6\u001b[39m)",
      "  ammonite.$sess.cell50$Helper.sumR(\u001b[32mcell50.sc\u001b[39m:\u001b[32m6\u001b[39m)",
      "  ammonite.$sess.cell50$Helper.sumR(\u001b[32mcell50.sc\u001b[39m:\u001b[32m6\u001b[39m)",
      "  ammonite.$sess.cell50$Helper.sumR(\u001b[32mcell50.sc\u001b[39m:\u001b[32m6\u001b[39m)",
      "  ammonite.$sess.cell50$Helper.sumR(\u001b[32mcell50.sc\u001b[39m:\u001b[32m6\u001b[39m)",
      "  ammonite.$sess.cell50$Helper.sumR(\u001b[32mcell50.sc\u001b[39m:\u001b[32m6\u001b[39m)",
      "  ammonite.$sess.cell50$Helper.sumR(\u001b[32mcell50.sc\u001b[39m:\u001b[32m6\u001b[39m)",
      "  ammonite.$sess.cell50$Helper.sumR(\u001b[32mcell50.sc\u001b[39m:\u001b[32m6\u001b[39m)",
      "  ammonite.$sess.cell50$Helper.sumR(\u001b[32mcell50.sc\u001b[39m:\u001b[32m6\u001b[39m)",
      "  ammonite.$sess.cell50$Helper.sumR(\u001b[32mcell50.sc\u001b[39m:\u001b[32m6\u001b[39m)",
      "  ammonite.$sess.cell50$Helper.sumR(\u001b[32mcell50.sc\u001b[39m:\u001b[32m6\u001b[39m)",
      "  ammonite.$sess.cell50$Helper.sumR(\u001b[32mcell50.sc\u001b[39m:\u001b[32m6\u001b[39m)",
      "  ammonite.$sess.cell50$Helper.sumR(\u001b[32mcell50.sc\u001b[39m:\u001b[32m6\u001b[39m)",
      "  ammonite.$sess.cell50$Helper.sumR(\u001b[32mcell50.sc\u001b[39m:\u001b[32m6\u001b[39m)",
      "  ammonite.$sess.cell50$Helper.sumR(\u001b[32mcell50.sc\u001b[39m:\u001b[32m6\u001b[39m)",
      "  ammonite.$sess.cell50$Helper.sumR(\u001b[32mcell50.sc\u001b[39m:\u001b[32m6\u001b[39m)",
      "  ammonite.$sess.cell50$Helper.sumR(\u001b[32mcell50.sc\u001b[39m:\u001b[32m6\u001b[39m)",
      "  ammonite.$sess.cell50$Helper.sumR(\u001b[32mcell50.sc\u001b[39m:\u001b[32m6\u001b[39m)",
      "  ammonite.$sess.cell50$Helper.sumR(\u001b[32mcell50.sc\u001b[39m:\u001b[32m6\u001b[39m)",
      "  ammonite.$sess.cell50$Helper.sumR(\u001b[32mcell50.sc\u001b[39m:\u001b[32m6\u001b[39m)",
      "  ammonite.$sess.cell50$Helper.sumR(\u001b[32mcell50.sc\u001b[39m:\u001b[32m6\u001b[39m)",
      "  ammonite.$sess.cell50$Helper.sumR(\u001b[32mcell50.sc\u001b[39m:\u001b[32m6\u001b[39m)",
      "  ammonite.$sess.cell50$Helper.sumR(\u001b[32mcell50.sc\u001b[39m:\u001b[32m6\u001b[39m)",
      "  ammonite.$sess.cell50$Helper.sumR(\u001b[32mcell50.sc\u001b[39m:\u001b[32m6\u001b[39m)",
      "  ammonite.$sess.cell50$Helper.sumR(\u001b[32mcell50.sc\u001b[39m:\u001b[32m6\u001b[39m)",
      "  ammonite.$sess.cell50$Helper.sumR(\u001b[32mcell50.sc\u001b[39m:\u001b[32m6\u001b[39m)",
      "  ammonite.$sess.cell50$Helper.sumR(\u001b[32mcell50.sc\u001b[39m:\u001b[32m6\u001b[39m)",
      "  ammonite.$sess.cell50$Helper.sumR(\u001b[32mcell50.sc\u001b[39m:\u001b[32m6\u001b[39m)",
      "  ammonite.$sess.cell50$Helper.sumR(\u001b[32mcell50.sc\u001b[39m:\u001b[32m6\u001b[39m)",
      "  ammonite.$sess.cell50$Helper.sumR(\u001b[32mcell50.sc\u001b[39m:\u001b[32m6\u001b[39m)",
      "  ammonite.$sess.cell50$Helper.sumR(\u001b[32mcell50.sc\u001b[39m:\u001b[32m6\u001b[39m)",
      "  ammonite.$sess.cell50$Helper.sumR(\u001b[32mcell50.sc\u001b[39m:\u001b[32m6\u001b[39m)",
      "  ammonite.$sess.cell50$Helper.sumR(\u001b[32mcell50.sc\u001b[39m:\u001b[32m6\u001b[39m)",
      "  ammonite.$sess.cell50$Helper.sumR(\u001b[32mcell50.sc\u001b[39m:\u001b[32m6\u001b[39m)",
      "  ammonite.$sess.cell50$Helper.sumR(\u001b[32mcell50.sc\u001b[39m:\u001b[32m6\u001b[39m)",
      "  ammonite.$sess.cell50$Helper.sumR(\u001b[32mcell50.sc\u001b[39m:\u001b[32m6\u001b[39m)",
      "  ammonite.$sess.cell50$Helper.sumR(\u001b[32mcell50.sc\u001b[39m:\u001b[32m6\u001b[39m)",
      "  ammonite.$sess.cell50$Helper.sumR(\u001b[32mcell50.sc\u001b[39m:\u001b[32m6\u001b[39m)",
      "  ammonite.$sess.cell50$Helper.sumR(\u001b[32mcell50.sc\u001b[39m:\u001b[32m6\u001b[39m)",
      "  ammonite.$sess.cell50$Helper.sumR(\u001b[32mcell50.sc\u001b[39m:\u001b[32m6\u001b[39m)",
      "  ammonite.$sess.cell50$Helper.sumR(\u001b[32mcell50.sc\u001b[39m:\u001b[32m6\u001b[39m)",
      "  ammonite.$sess.cell50$Helper.sumR(\u001b[32mcell50.sc\u001b[39m:\u001b[32m6\u001b[39m)",
      "  ammonite.$sess.cell50$Helper.sumR(\u001b[32mcell50.sc\u001b[39m:\u001b[32m6\u001b[39m)",
      "  ammonite.$sess.cell50$Helper.sumR(\u001b[32mcell50.sc\u001b[39m:\u001b[32m6\u001b[39m)",
      "  ammonite.$sess.cell50$Helper.sumR(\u001b[32mcell50.sc\u001b[39m:\u001b[32m6\u001b[39m)",
      "  ammonite.$sess.cell50$Helper.sumR(\u001b[32mcell50.sc\u001b[39m:\u001b[32m6\u001b[39m)",
      "  ammonite.$sess.cell50$Helper.sumR(\u001b[32mcell50.sc\u001b[39m:\u001b[32m6\u001b[39m)",
      "  ammonite.$sess.cell50$Helper.sumR(\u001b[32mcell50.sc\u001b[39m:\u001b[32m6\u001b[39m)",
      "  ammonite.$sess.cell50$Helper.sumR(\u001b[32mcell50.sc\u001b[39m:\u001b[32m6\u001b[39m)",
      "  ammonite.$sess.cell50$Helper.sumR(\u001b[32mcell50.sc\u001b[39m:\u001b[32m6\u001b[39m)",
      "  ammonite.$sess.cell50$Helper.sumR(\u001b[32mcell50.sc\u001b[39m:\u001b[32m6\u001b[39m)",
      "  ammonite.$sess.cell50$Helper.sumR(\u001b[32mcell50.sc\u001b[39m:\u001b[32m6\u001b[39m)",
      "  ammonite.$sess.cell50$Helper.sumR(\u001b[32mcell50.sc\u001b[39m:\u001b[32m6\u001b[39m)",
      "  ammonite.$sess.cell50$Helper.sumR(\u001b[32mcell50.sc\u001b[39m:\u001b[32m6\u001b[39m)",
      "  ammonite.$sess.cell50$Helper.sumR(\u001b[32mcell50.sc\u001b[39m:\u001b[32m6\u001b[39m)",
      "  ammonite.$sess.cell50$Helper.sumR(\u001b[32mcell50.sc\u001b[39m:\u001b[32m6\u001b[39m)",
      "  ammonite.$sess.cell50$Helper.sumR(\u001b[32mcell50.sc\u001b[39m:\u001b[32m6\u001b[39m)",
      "  ammonite.$sess.cell50$Helper.sumR(\u001b[32mcell50.sc\u001b[39m:\u001b[32m6\u001b[39m)",
      "  ammonite.$sess.cell50$Helper.sumR(\u001b[32mcell50.sc\u001b[39m:\u001b[32m6\u001b[39m)",
      "  ammonite.$sess.cell50$Helper.sumR(\u001b[32mcell50.sc\u001b[39m:\u001b[32m6\u001b[39m)",
      "  ammonite.$sess.cell50$Helper.sumR(\u001b[32mcell50.sc\u001b[39m:\u001b[32m6\u001b[39m)",
      "  ammonite.$sess.cell50$Helper.sumR(\u001b[32mcell50.sc\u001b[39m:\u001b[32m6\u001b[39m)",
      "  ammonite.$sess.cell50$Helper.sumR(\u001b[32mcell50.sc\u001b[39m:\u001b[32m6\u001b[39m)",
      "  ammonite.$sess.cell50$Helper.sumR(\u001b[32mcell50.sc\u001b[39m:\u001b[32m6\u001b[39m)",
      "  ammonite.$sess.cell50$Helper.sumR(\u001b[32mcell50.sc\u001b[39m:\u001b[32m6\u001b[39m)",
      "  ammonite.$sess.cell50$Helper.sumR(\u001b[32mcell50.sc\u001b[39m:\u001b[32m6\u001b[39m)",
      "  ammonite.$sess.cell50$Helper.sumR(\u001b[32mcell50.sc\u001b[39m:\u001b[32m6\u001b[39m)",
      "  ammonite.$sess.cell50$Helper.sumR(\u001b[32mcell50.sc\u001b[39m:\u001b[32m6\u001b[39m)",
      "  ammonite.$sess.cell50$Helper.sumR(\u001b[32mcell50.sc\u001b[39m:\u001b[32m6\u001b[39m)",
      "  ammonite.$sess.cell50$Helper.sumR(\u001b[32mcell50.sc\u001b[39m:\u001b[32m6\u001b[39m)",
      "  ammonite.$sess.cell50$Helper.sumR(\u001b[32mcell50.sc\u001b[39m:\u001b[32m6\u001b[39m)",
      "  ammonite.$sess.cell50$Helper.sumR(\u001b[32mcell50.sc\u001b[39m:\u001b[32m6\u001b[39m)",
      "  ammonite.$sess.cell50$Helper.sumR(\u001b[32mcell50.sc\u001b[39m:\u001b[32m6\u001b[39m)",
      "  ammonite.$sess.cell50$Helper.sumR(\u001b[32mcell50.sc\u001b[39m:\u001b[32m6\u001b[39m)",
      "  ammonite.$sess.cell50$Helper.sumR(\u001b[32mcell50.sc\u001b[39m:\u001b[32m6\u001b[39m)",
      "  ammonite.$sess.cell50$Helper.sumR(\u001b[32mcell50.sc\u001b[39m:\u001b[32m6\u001b[39m)",
      "  ammonite.$sess.cell50$Helper.sumR(\u001b[32mcell50.sc\u001b[39m:\u001b[32m6\u001b[39m)",
      "  ammonite.$sess.cell50$Helper.sumR(\u001b[32mcell50.sc\u001b[39m:\u001b[32m6\u001b[39m)",
      "  ammonite.$sess.cell50$Helper.sumR(\u001b[32mcell50.sc\u001b[39m:\u001b[32m6\u001b[39m)",
      "  ammonite.$sess.cell50$Helper.sumR(\u001b[32mcell50.sc\u001b[39m:\u001b[32m6\u001b[39m)",
      "  ammonite.$sess.cell50$Helper.sumR(\u001b[32mcell50.sc\u001b[39m:\u001b[32m6\u001b[39m)",
      "  ammonite.$sess.cell50$Helper.sumR(\u001b[32mcell50.sc\u001b[39m:\u001b[32m6\u001b[39m)",
      "  ammonite.$sess.cell50$Helper.sumR(\u001b[32mcell50.sc\u001b[39m:\u001b[32m6\u001b[39m)",
      "  ammonite.$sess.cell50$Helper.sumR(\u001b[32mcell50.sc\u001b[39m:\u001b[32m6\u001b[39m)",
      "  ammonite.$sess.cell50$Helper.sumR(\u001b[32mcell50.sc\u001b[39m:\u001b[32m6\u001b[39m)",
      "  ammonite.$sess.cell50$Helper.sumR(\u001b[32mcell50.sc\u001b[39m:\u001b[32m6\u001b[39m)",
      "  ammonite.$sess.cell50$Helper.sumR(\u001b[32mcell50.sc\u001b[39m:\u001b[32m6\u001b[39m)",
      "  ammonite.$sess.cell50$Helper.sumR(\u001b[32mcell50.sc\u001b[39m:\u001b[32m6\u001b[39m)",
      "  ammonite.$sess.cell50$Helper.sumR(\u001b[32mcell50.sc\u001b[39m:\u001b[32m6\u001b[39m)",
      "  ammonite.$sess.cell50$Helper.sumR(\u001b[32mcell50.sc\u001b[39m:\u001b[32m6\u001b[39m)",
      "  ammonite.$sess.cell50$Helper.sumR(\u001b[32mcell50.sc\u001b[39m:\u001b[32m6\u001b[39m)",
      "  ammonite.$sess.cell50$Helper.sumR(\u001b[32mcell50.sc\u001b[39m:\u001b[32m6\u001b[39m)",
      "  ammonite.$sess.cell50$Helper.sumR(\u001b[32mcell50.sc\u001b[39m:\u001b[32m6\u001b[39m)",
      "  ammonite.$sess.cell50$Helper.sumR(\u001b[32mcell50.sc\u001b[39m:\u001b[32m6\u001b[39m)",
      "  ammonite.$sess.cell50$Helper.sumR(\u001b[32mcell50.sc\u001b[39m:\u001b[32m6\u001b[39m)",
      "  ammonite.$sess.cell50$Helper.sumR(\u001b[32mcell50.sc\u001b[39m:\u001b[32m6\u001b[39m)",
      "  ammonite.$sess.cell50$Helper.sumR(\u001b[32mcell50.sc\u001b[39m:\u001b[32m6\u001b[39m)",
      "  ammonite.$sess.cell50$Helper.sumR(\u001b[32mcell50.sc\u001b[39m:\u001b[32m6\u001b[39m)",
      "  ammonite.$sess.cell50$Helper.sumR(\u001b[32mcell50.sc\u001b[39m:\u001b[32m6\u001b[39m)",
      "  ammonite.$sess.cell50$Helper.sumR(\u001b[32mcell50.sc\u001b[39m:\u001b[32m6\u001b[39m)",
      "  ammonite.$sess.cell50$Helper.sumR(\u001b[32mcell50.sc\u001b[39m:\u001b[32m6\u001b[39m)",
      "  ammonite.$sess.cell50$Helper.sumR(\u001b[32mcell50.sc\u001b[39m:\u001b[32m6\u001b[39m)",
      "  ammonite.$sess.cell50$Helper.sumR(\u001b[32mcell50.sc\u001b[39m:\u001b[32m6\u001b[39m)",
      "  ammonite.$sess.cell50$Helper.sumR(\u001b[32mcell50.sc\u001b[39m:\u001b[32m6\u001b[39m)",
      "  ammonite.$sess.cell50$Helper.sumR(\u001b[32mcell50.sc\u001b[39m:\u001b[32m6\u001b[39m)",
      "  ammonite.$sess.cell50$Helper.sumR(\u001b[32mcell50.sc\u001b[39m:\u001b[32m6\u001b[39m)",
      "  ammonite.$sess.cell50$Helper.sumR(\u001b[32mcell50.sc\u001b[39m:\u001b[32m6\u001b[39m)",
      "  ammonite.$sess.cell50$Helper.sumR(\u001b[32mcell50.sc\u001b[39m:\u001b[32m6\u001b[39m)",
      "  ammonite.$sess.cell50$Helper.sumR(\u001b[32mcell50.sc\u001b[39m:\u001b[32m6\u001b[39m)",
      "  ammonite.$sess.cell50$Helper.sumR(\u001b[32mcell50.sc\u001b[39m:\u001b[32m6\u001b[39m)",
      "  ammonite.$sess.cell50$Helper.sumR(\u001b[32mcell50.sc\u001b[39m:\u001b[32m6\u001b[39m)",
      "  ammonite.$sess.cell50$Helper.sumR(\u001b[32mcell50.sc\u001b[39m:\u001b[32m6\u001b[39m)",
      "  ammonite.$sess.cell50$Helper.sumR(\u001b[32mcell50.sc\u001b[39m:\u001b[32m6\u001b[39m)",
      "  ammonite.$sess.cell50$Helper.sumR(\u001b[32mcell50.sc\u001b[39m:\u001b[32m6\u001b[39m)",
      "  ammonite.$sess.cell50$Helper.sumR(\u001b[32mcell50.sc\u001b[39m:\u001b[32m6\u001b[39m)",
      "  ammonite.$sess.cell50$Helper.sumR(\u001b[32mcell50.sc\u001b[39m:\u001b[32m6\u001b[39m)",
      "  ammonite.$sess.cell50$Helper.sumR(\u001b[32mcell50.sc\u001b[39m:\u001b[32m6\u001b[39m)",
      "  ammonite.$sess.cell50$Helper.sumR(\u001b[32mcell50.sc\u001b[39m:\u001b[32m6\u001b[39m)",
      "  ammonite.$sess.cell50$Helper.sumR(\u001b[32mcell50.sc\u001b[39m:\u001b[32m6\u001b[39m)",
      "  ammonite.$sess.cell50$Helper.sumR(\u001b[32mcell50.sc\u001b[39m:\u001b[32m6\u001b[39m)",
      "  ammonite.$sess.cell50$Helper.sumR(\u001b[32mcell50.sc\u001b[39m:\u001b[32m6\u001b[39m)",
      "  ammonite.$sess.cell50$Helper.sumR(\u001b[32mcell50.sc\u001b[39m:\u001b[32m6\u001b[39m)",
      "  ammonite.$sess.cell50$Helper.sumR(\u001b[32mcell50.sc\u001b[39m:\u001b[32m6\u001b[39m)",
      "  ammonite.$sess.cell50$Helper.sumR(\u001b[32mcell50.sc\u001b[39m:\u001b[32m6\u001b[39m)",
      "  ammonite.$sess.cell50$Helper.sumR(\u001b[32mcell50.sc\u001b[39m:\u001b[32m6\u001b[39m)",
      "  ammonite.$sess.cell50$Helper.sumR(\u001b[32mcell50.sc\u001b[39m:\u001b[32m6\u001b[39m)",
      "  ammonite.$sess.cell50$Helper.sumR(\u001b[32mcell50.sc\u001b[39m:\u001b[32m6\u001b[39m)",
      "  ammonite.$sess.cell50$Helper.sumR(\u001b[32mcell50.sc\u001b[39m:\u001b[32m6\u001b[39m)",
      "  ammonite.$sess.cell50$Helper.sumR(\u001b[32mcell50.sc\u001b[39m:\u001b[32m6\u001b[39m)",
      "  ammonite.$sess.cell50$Helper.sumR(\u001b[32mcell50.sc\u001b[39m:\u001b[32m6\u001b[39m)",
      "  ammonite.$sess.cell50$Helper.sumR(\u001b[32mcell50.sc\u001b[39m:\u001b[32m6\u001b[39m)",
      "  ammonite.$sess.cell50$Helper.sumR(\u001b[32mcell50.sc\u001b[39m:\u001b[32m6\u001b[39m)",
      "  ammonite.$sess.cell50$Helper.sumR(\u001b[32mcell50.sc\u001b[39m:\u001b[32m6\u001b[39m)",
      "  ammonite.$sess.cell50$Helper.sumR(\u001b[32mcell50.sc\u001b[39m:\u001b[32m6\u001b[39m)",
      "  ammonite.$sess.cell50$Helper.sumR(\u001b[32mcell50.sc\u001b[39m:\u001b[32m6\u001b[39m)",
      "  ammonite.$sess.cell50$Helper.sumR(\u001b[32mcell50.sc\u001b[39m:\u001b[32m6\u001b[39m)",
      "  ammonite.$sess.cell50$Helper.sumR(\u001b[32mcell50.sc\u001b[39m:\u001b[32m6\u001b[39m)",
      "  ammonite.$sess.cell50$Helper.sumR(\u001b[32mcell50.sc\u001b[39m:\u001b[32m6\u001b[39m)",
      "  ammonite.$sess.cell50$Helper.sumR(\u001b[32mcell50.sc\u001b[39m:\u001b[32m6\u001b[39m)",
      "  ammonite.$sess.cell50$Helper.sumR(\u001b[32mcell50.sc\u001b[39m:\u001b[32m6\u001b[39m)",
      "  ammonite.$sess.cell50$Helper.sumR(\u001b[32mcell50.sc\u001b[39m:\u001b[32m6\u001b[39m)",
      "  ammonite.$sess.cell50$Helper.sumR(\u001b[32mcell50.sc\u001b[39m:\u001b[32m6\u001b[39m)",
      "  ammonite.$sess.cell50$Helper.sumR(\u001b[32mcell50.sc\u001b[39m:\u001b[32m6\u001b[39m)",
      "  ammonite.$sess.cell50$Helper.sumR(\u001b[32mcell50.sc\u001b[39m:\u001b[32m6\u001b[39m)",
      "  ammonite.$sess.cell50$Helper.sumR(\u001b[32mcell50.sc\u001b[39m:\u001b[32m6\u001b[39m)",
      "  ammonite.$sess.cell50$Helper.sumR(\u001b[32mcell50.sc\u001b[39m:\u001b[32m6\u001b[39m)",
      "  ammonite.$sess.cell50$Helper.sumR(\u001b[32mcell50.sc\u001b[39m:\u001b[32m6\u001b[39m)",
      "  ammonite.$sess.cell50$Helper.sumR(\u001b[32mcell50.sc\u001b[39m:\u001b[32m6\u001b[39m)",
      "  ammonite.$sess.cell50$Helper.sumR(\u001b[32mcell50.sc\u001b[39m:\u001b[32m6\u001b[39m)",
      "  ammonite.$sess.cell50$Helper.sumR(\u001b[32mcell50.sc\u001b[39m:\u001b[32m6\u001b[39m)",
      "  ammonite.$sess.cell50$Helper.sumR(\u001b[32mcell50.sc\u001b[39m:\u001b[32m6\u001b[39m)",
      "  ammonite.$sess.cell50$Helper.sumR(\u001b[32mcell50.sc\u001b[39m:\u001b[32m6\u001b[39m)",
      "  ammonite.$sess.cell50$Helper.sumR(\u001b[32mcell50.sc\u001b[39m:\u001b[32m6\u001b[39m)",
      "  ammonite.$sess.cell50$Helper.sumR(\u001b[32mcell50.sc\u001b[39m:\u001b[32m6\u001b[39m)",
      "  ammonite.$sess.cell50$Helper.sumR(\u001b[32mcell50.sc\u001b[39m:\u001b[32m6\u001b[39m)",
      "  ammonite.$sess.cell50$Helper.sumR(\u001b[32mcell50.sc\u001b[39m:\u001b[32m6\u001b[39m)",
      "  ammonite.$sess.cell50$Helper.sumR(\u001b[32mcell50.sc\u001b[39m:\u001b[32m6\u001b[39m)",
      "  ammonite.$sess.cell50$Helper.sumR(\u001b[32mcell50.sc\u001b[39m:\u001b[32m6\u001b[39m)",
      "  ammonite.$sess.cell50$Helper.sumR(\u001b[32mcell50.sc\u001b[39m:\u001b[32m6\u001b[39m)",
      "  ammonite.$sess.cell50$Helper.sumR(\u001b[32mcell50.sc\u001b[39m:\u001b[32m6\u001b[39m)",
      "  ammonite.$sess.cell50$Helper.sumR(\u001b[32mcell50.sc\u001b[39m:\u001b[32m6\u001b[39m)",
      "  ammonite.$sess.cell50$Helper.sumR(\u001b[32mcell50.sc\u001b[39m:\u001b[32m6\u001b[39m)",
      "  ammonite.$sess.cell50$Helper.sumR(\u001b[32mcell50.sc\u001b[39m:\u001b[32m6\u001b[39m)",
      "  ammonite.$sess.cell50$Helper.sumR(\u001b[32mcell50.sc\u001b[39m:\u001b[32m6\u001b[39m)",
      "  ammonite.$sess.cell50$Helper.sumR(\u001b[32mcell50.sc\u001b[39m:\u001b[32m6\u001b[39m)",
      "  ammonite.$sess.cell50$Helper.sumR(\u001b[32mcell50.sc\u001b[39m:\u001b[32m6\u001b[39m)",
      "  ammonite.$sess.cell50$Helper.sumR(\u001b[32mcell50.sc\u001b[39m:\u001b[32m6\u001b[39m)",
      "  ammonite.$sess.cell50$Helper.sumR(\u001b[32mcell50.sc\u001b[39m:\u001b[32m6\u001b[39m)",
      "  ammonite.$sess.cell50$Helper.sumR(\u001b[32mcell50.sc\u001b[39m:\u001b[32m6\u001b[39m)",
      "  ammonite.$sess.cell50$Helper.sumR(\u001b[32mcell50.sc\u001b[39m:\u001b[32m6\u001b[39m)",
      "  ammonite.$sess.cell50$Helper.sumR(\u001b[32mcell50.sc\u001b[39m:\u001b[32m6\u001b[39m)",
      "  ammonite.$sess.cell50$Helper.sumR(\u001b[32mcell50.sc\u001b[39m:\u001b[32m6\u001b[39m)",
      "  ammonite.$sess.cell50$Helper.sumR(\u001b[32mcell50.sc\u001b[39m:\u001b[32m6\u001b[39m)",
      "  ammonite.$sess.cell50$Helper.sumR(\u001b[32mcell50.sc\u001b[39m:\u001b[32m6\u001b[39m)",
      "  ammonite.$sess.cell50$Helper.sumR(\u001b[32mcell50.sc\u001b[39m:\u001b[32m6\u001b[39m)",
      "  ammonite.$sess.cell50$Helper.sumR(\u001b[32mcell50.sc\u001b[39m:\u001b[32m6\u001b[39m)",
      "  ammonite.$sess.cell50$Helper.sumR(\u001b[32mcell50.sc\u001b[39m:\u001b[32m6\u001b[39m)",
      "  ammonite.$sess.cell50$Helper.sumR(\u001b[32mcell50.sc\u001b[39m:\u001b[32m6\u001b[39m)",
      "  ammonite.$sess.cell50$Helper.sumR(\u001b[32mcell50.sc\u001b[39m:\u001b[32m6\u001b[39m)",
      "  ammonite.$sess.cell50$Helper.sumR(\u001b[32mcell50.sc\u001b[39m:\u001b[32m6\u001b[39m)",
      "  ammonite.$sess.cell50$Helper.sumR(\u001b[32mcell50.sc\u001b[39m:\u001b[32m6\u001b[39m)",
      "  ammonite.$sess.cell50$Helper.sumR(\u001b[32mcell50.sc\u001b[39m:\u001b[32m6\u001b[39m)",
      "  ammonite.$sess.cell50$Helper.sumR(\u001b[32mcell50.sc\u001b[39m:\u001b[32m6\u001b[39m)",
      "  ammonite.$sess.cell50$Helper.sumR(\u001b[32mcell50.sc\u001b[39m:\u001b[32m6\u001b[39m)",
      "  ammonite.$sess.cell50$Helper.sumR(\u001b[32mcell50.sc\u001b[39m:\u001b[32m6\u001b[39m)",
      "  ammonite.$sess.cell50$Helper.sumR(\u001b[32mcell50.sc\u001b[39m:\u001b[32m6\u001b[39m)",
      "  ammonite.$sess.cell50$Helper.sumR(\u001b[32mcell50.sc\u001b[39m:\u001b[32m6\u001b[39m)",
      "  ammonite.$sess.cell50$Helper.sumR(\u001b[32mcell50.sc\u001b[39m:\u001b[32m6\u001b[39m)",
      "  ammonite.$sess.cell50$Helper.sumR(\u001b[32mcell50.sc\u001b[39m:\u001b[32m6\u001b[39m)",
      "  ammonite.$sess.cell50$Helper.sumR(\u001b[32mcell50.sc\u001b[39m:\u001b[32m6\u001b[39m)",
      "  ammonite.$sess.cell50$Helper.sumR(\u001b[32mcell50.sc\u001b[39m:\u001b[32m6\u001b[39m)",
      "  ammonite.$sess.cell50$Helper.sumR(\u001b[32mcell50.sc\u001b[39m:\u001b[32m6\u001b[39m)",
      "  ammonite.$sess.cell50$Helper.sumR(\u001b[32mcell50.sc\u001b[39m:\u001b[32m6\u001b[39m)",
      "  ammonite.$sess.cell50$Helper.sumR(\u001b[32mcell50.sc\u001b[39m:\u001b[32m6\u001b[39m)",
      "  ammonite.$sess.cell50$Helper.sumR(\u001b[32mcell50.sc\u001b[39m:\u001b[32m6\u001b[39m)",
      "  ammonite.$sess.cell50$Helper.sumR(\u001b[32mcell50.sc\u001b[39m:\u001b[32m6\u001b[39m)",
      "  ammonite.$sess.cell50$Helper.sumR(\u001b[32mcell50.sc\u001b[39m:\u001b[32m6\u001b[39m)",
      "  ammonite.$sess.cell50$Helper.sumR(\u001b[32mcell50.sc\u001b[39m:\u001b[32m6\u001b[39m)",
      "  ammonite.$sess.cell50$Helper.sumR(\u001b[32mcell50.sc\u001b[39m:\u001b[32m6\u001b[39m)",
      "  ammonite.$sess.cell50$Helper.sumR(\u001b[32mcell50.sc\u001b[39m:\u001b[32m6\u001b[39m)",
      "  ammonite.$sess.cell50$Helper.sumR(\u001b[32mcell50.sc\u001b[39m:\u001b[32m6\u001b[39m)",
      "  ammonite.$sess.cell50$Helper.sumR(\u001b[32mcell50.sc\u001b[39m:\u001b[32m6\u001b[39m)",
      "  ammonite.$sess.cell50$Helper.sumR(\u001b[32mcell50.sc\u001b[39m:\u001b[32m6\u001b[39m)",
      "  ammonite.$sess.cell50$Helper.sumR(\u001b[32mcell50.sc\u001b[39m:\u001b[32m6\u001b[39m)",
      "  ammonite.$sess.cell50$Helper.sumR(\u001b[32mcell50.sc\u001b[39m:\u001b[32m6\u001b[39m)",
      "  ammonite.$sess.cell50$Helper.sumR(\u001b[32mcell50.sc\u001b[39m:\u001b[32m6\u001b[39m)",
      "  ammonite.$sess.cell50$Helper.sumR(\u001b[32mcell50.sc\u001b[39m:\u001b[32m6\u001b[39m)",
      "  ammonite.$sess.cell50$Helper.sumR(\u001b[32mcell50.sc\u001b[39m:\u001b[32m6\u001b[39m)",
      "  ammonite.$sess.cell50$Helper.sumR(\u001b[32mcell50.sc\u001b[39m:\u001b[32m6\u001b[39m)",
      "  ammonite.$sess.cell50$Helper.sumR(\u001b[32mcell50.sc\u001b[39m:\u001b[32m6\u001b[39m)",
      "  ammonite.$sess.cell50$Helper.sumR(\u001b[32mcell50.sc\u001b[39m:\u001b[32m6\u001b[39m)",
      "  ammonite.$sess.cell50$Helper.sumR(\u001b[32mcell50.sc\u001b[39m:\u001b[32m6\u001b[39m)",
      "  ammonite.$sess.cell50$Helper.sumR(\u001b[32mcell50.sc\u001b[39m:\u001b[32m6\u001b[39m)",
      "  ammonite.$sess.cell50$Helper.sumR(\u001b[32mcell50.sc\u001b[39m:\u001b[32m6\u001b[39m)",
      "  ammonite.$sess.cell50$Helper.sumR(\u001b[32mcell50.sc\u001b[39m:\u001b[32m6\u001b[39m)",
      "  ammonite.$sess.cell50$Helper.sumR(\u001b[32mcell50.sc\u001b[39m:\u001b[32m6\u001b[39m)",
      "  ammonite.$sess.cell50$Helper.sumR(\u001b[32mcell50.sc\u001b[39m:\u001b[32m6\u001b[39m)",
      "  ammonite.$sess.cell50$Helper.sumR(\u001b[32mcell50.sc\u001b[39m:\u001b[32m6\u001b[39m)",
      "  ammonite.$sess.cell50$Helper.sumR(\u001b[32mcell50.sc\u001b[39m:\u001b[32m6\u001b[39m)",
      "  ammonite.$sess.cell50$Helper.sumR(\u001b[32mcell50.sc\u001b[39m:\u001b[32m6\u001b[39m)",
      "  ammonite.$sess.cell50$Helper.sumR(\u001b[32mcell50.sc\u001b[39m:\u001b[32m6\u001b[39m)",
      "  ammonite.$sess.cell50$Helper.sumR(\u001b[32mcell50.sc\u001b[39m:\u001b[32m6\u001b[39m)",
      "  ammonite.$sess.cell50$Helper.sumR(\u001b[32mcell50.sc\u001b[39m:\u001b[32m6\u001b[39m)",
      "  ammonite.$sess.cell50$Helper.sumR(\u001b[32mcell50.sc\u001b[39m:\u001b[32m6\u001b[39m)",
      "  ammonite.$sess.cell50$Helper.sumR(\u001b[32mcell50.sc\u001b[39m:\u001b[32m6\u001b[39m)",
      "  ammonite.$sess.cell50$Helper.sumR(\u001b[32mcell50.sc\u001b[39m:\u001b[32m6\u001b[39m)",
      "  ammonite.$sess.cell50$Helper.sumR(\u001b[32mcell50.sc\u001b[39m:\u001b[32m6\u001b[39m)",
      "  ammonite.$sess.cell50$Helper.sumR(\u001b[32mcell50.sc\u001b[39m:\u001b[32m6\u001b[39m)",
      "  ammonite.$sess.cell50$Helper.sumR(\u001b[32mcell50.sc\u001b[39m:\u001b[32m6\u001b[39m)",
      "  ammonite.$sess.cell50$Helper.sumR(\u001b[32mcell50.sc\u001b[39m:\u001b[32m6\u001b[39m)",
      "  ammonite.$sess.cell50$Helper.sumR(\u001b[32mcell50.sc\u001b[39m:\u001b[32m6\u001b[39m)",
      "  ammonite.$sess.cell50$Helper.sumR(\u001b[32mcell50.sc\u001b[39m:\u001b[32m6\u001b[39m)",
      "  ammonite.$sess.cell50$Helper.sumR(\u001b[32mcell50.sc\u001b[39m:\u001b[32m6\u001b[39m)",
      "  ammonite.$sess.cell50$Helper.sumR(\u001b[32mcell50.sc\u001b[39m:\u001b[32m6\u001b[39m)",
      "  ammonite.$sess.cell50$Helper.sumR(\u001b[32mcell50.sc\u001b[39m:\u001b[32m6\u001b[39m)",
      "  ammonite.$sess.cell50$Helper.sumR(\u001b[32mcell50.sc\u001b[39m:\u001b[32m6\u001b[39m)",
      "  ammonite.$sess.cell50$Helper.sumR(\u001b[32mcell50.sc\u001b[39m:\u001b[32m6\u001b[39m)",
      "  ammonite.$sess.cell50$Helper.sumR(\u001b[32mcell50.sc\u001b[39m:\u001b[32m6\u001b[39m)",
      "  ammonite.$sess.cell50$Helper.sumR(\u001b[32mcell50.sc\u001b[39m:\u001b[32m6\u001b[39m)",
      "  ammonite.$sess.cell50$Helper.sumR(\u001b[32mcell50.sc\u001b[39m:\u001b[32m6\u001b[39m)",
      "  ammonite.$sess.cell50$Helper.sumR(\u001b[32mcell50.sc\u001b[39m:\u001b[32m6\u001b[39m)",
      "  ammonite.$sess.cell50$Helper.sumR(\u001b[32mcell50.sc\u001b[39m:\u001b[32m6\u001b[39m)",
      "  ammonite.$sess.cell50$Helper.sumR(\u001b[32mcell50.sc\u001b[39m:\u001b[32m6\u001b[39m)",
      "  ammonite.$sess.cell50$Helper.sumR(\u001b[32mcell50.sc\u001b[39m:\u001b[32m6\u001b[39m)",
      "  ammonite.$sess.cell50$Helper.sumR(\u001b[32mcell50.sc\u001b[39m:\u001b[32m6\u001b[39m)",
      "  ammonite.$sess.cell50$Helper.sumR(\u001b[32mcell50.sc\u001b[39m:\u001b[32m6\u001b[39m)",
      "  ammonite.$sess.cell50$Helper.sumR(\u001b[32mcell50.sc\u001b[39m:\u001b[32m6\u001b[39m)",
      "  ammonite.$sess.cell50$Helper.sumR(\u001b[32mcell50.sc\u001b[39m:\u001b[32m6\u001b[39m)",
      "  ammonite.$sess.cell50$Helper.sumR(\u001b[32mcell50.sc\u001b[39m:\u001b[32m6\u001b[39m)",
      "  ammonite.$sess.cell50$Helper.sumR(\u001b[32mcell50.sc\u001b[39m:\u001b[32m6\u001b[39m)",
      "  ammonite.$sess.cell50$Helper.sumR(\u001b[32mcell50.sc\u001b[39m:\u001b[32m6\u001b[39m)",
      "  ammonite.$sess.cell50$Helper.sumR(\u001b[32mcell50.sc\u001b[39m:\u001b[32m6\u001b[39m)",
      "  ammonite.$sess.cell50$Helper.sumR(\u001b[32mcell50.sc\u001b[39m:\u001b[32m6\u001b[39m)",
      "  ammonite.$sess.cell50$Helper.sumR(\u001b[32mcell50.sc\u001b[39m:\u001b[32m6\u001b[39m)",
      "  ammonite.$sess.cell50$Helper.sumR(\u001b[32mcell50.sc\u001b[39m:\u001b[32m6\u001b[39m)",
      "  ammonite.$sess.cell50$Helper.sumR(\u001b[32mcell50.sc\u001b[39m:\u001b[32m6\u001b[39m)",
      "  ammonite.$sess.cell50$Helper.sumR(\u001b[32mcell50.sc\u001b[39m:\u001b[32m6\u001b[39m)",
      "  ammonite.$sess.cell50$Helper.sumR(\u001b[32mcell50.sc\u001b[39m:\u001b[32m6\u001b[39m)",
      "  ammonite.$sess.cell50$Helper.sumR(\u001b[32mcell50.sc\u001b[39m:\u001b[32m6\u001b[39m)",
      "  ammonite.$sess.cell50$Helper.sumR(\u001b[32mcell50.sc\u001b[39m:\u001b[32m6\u001b[39m)",
      "  ammonite.$sess.cell50$Helper.sumR(\u001b[32mcell50.sc\u001b[39m:\u001b[32m6\u001b[39m)",
      "  ammonite.$sess.cell50$Helper.sumR(\u001b[32mcell50.sc\u001b[39m:\u001b[32m6\u001b[39m)",
      "  ammonite.$sess.cell50$Helper.sumR(\u001b[32mcell50.sc\u001b[39m:\u001b[32m6\u001b[39m)",
      "  ammonite.$sess.cell50$Helper.sumR(\u001b[32mcell50.sc\u001b[39m:\u001b[32m6\u001b[39m)",
      "  ammonite.$sess.cell50$Helper.sumR(\u001b[32mcell50.sc\u001b[39m:\u001b[32m6\u001b[39m)",
      "  ammonite.$sess.cell50$Helper.sumR(\u001b[32mcell50.sc\u001b[39m:\u001b[32m6\u001b[39m)",
      "  ammonite.$sess.cell50$Helper.sumR(\u001b[32mcell50.sc\u001b[39m:\u001b[32m6\u001b[39m)",
      "  ammonite.$sess.cell50$Helper.sumR(\u001b[32mcell50.sc\u001b[39m:\u001b[32m6\u001b[39m)",
      "  ammonite.$sess.cell50$Helper.sumR(\u001b[32mcell50.sc\u001b[39m:\u001b[32m6\u001b[39m)",
      "  ammonite.$sess.cell50$Helper.sumR(\u001b[32mcell50.sc\u001b[39m:\u001b[32m6\u001b[39m)",
      "  ammonite.$sess.cell50$Helper.sumR(\u001b[32mcell50.sc\u001b[39m:\u001b[32m6\u001b[39m)",
      "  ammonite.$sess.cell50$Helper.sumR(\u001b[32mcell50.sc\u001b[39m:\u001b[32m6\u001b[39m)",
      "  ammonite.$sess.cell50$Helper.sumR(\u001b[32mcell50.sc\u001b[39m:\u001b[32m6\u001b[39m)",
      "  ammonite.$sess.cell50$Helper.sumR(\u001b[32mcell50.sc\u001b[39m:\u001b[32m6\u001b[39m)",
      "  ammonite.$sess.cell50$Helper.sumR(\u001b[32mcell50.sc\u001b[39m:\u001b[32m6\u001b[39m)",
      "  ammonite.$sess.cell50$Helper.sumR(\u001b[32mcell50.sc\u001b[39m:\u001b[32m6\u001b[39m)",
      "  ammonite.$sess.cell50$Helper.sumR(\u001b[32mcell50.sc\u001b[39m:\u001b[32m6\u001b[39m)",
      "  ammonite.$sess.cell50$Helper.sumR(\u001b[32mcell50.sc\u001b[39m:\u001b[32m6\u001b[39m)",
      "  ammonite.$sess.cell50$Helper.sumR(\u001b[32mcell50.sc\u001b[39m:\u001b[32m6\u001b[39m)",
      "  ammonite.$sess.cell50$Helper.sumR(\u001b[32mcell50.sc\u001b[39m:\u001b[32m6\u001b[39m)",
      "  ammonite.$sess.cell50$Helper.sumR(\u001b[32mcell50.sc\u001b[39m:\u001b[32m6\u001b[39m)",
      "  ammonite.$sess.cell50$Helper.sumR(\u001b[32mcell50.sc\u001b[39m:\u001b[32m6\u001b[39m)",
      "  ammonite.$sess.cell50$Helper.sumR(\u001b[32mcell50.sc\u001b[39m:\u001b[32m6\u001b[39m)",
      "  ammonite.$sess.cell50$Helper.sumR(\u001b[32mcell50.sc\u001b[39m:\u001b[32m6\u001b[39m)",
      "  ammonite.$sess.cell50$Helper.sumR(\u001b[32mcell50.sc\u001b[39m:\u001b[32m6\u001b[39m)",
      "  ammonite.$sess.cell50$Helper.sumR(\u001b[32mcell50.sc\u001b[39m:\u001b[32m6\u001b[39m)",
      "  ammonite.$sess.cell50$Helper.sumR(\u001b[32mcell50.sc\u001b[39m:\u001b[32m6\u001b[39m)",
      "  ammonite.$sess.cell50$Helper.sumR(\u001b[32mcell50.sc\u001b[39m:\u001b[32m6\u001b[39m)",
      "  ammonite.$sess.cell50$Helper.sumR(\u001b[32mcell50.sc\u001b[39m:\u001b[32m6\u001b[39m)",
      "  ammonite.$sess.cell50$Helper.sumR(\u001b[32mcell50.sc\u001b[39m:\u001b[32m6\u001b[39m)",
      "  ammonite.$sess.cell50$Helper.sumR(\u001b[32mcell50.sc\u001b[39m:\u001b[32m6\u001b[39m)",
      "  ammonite.$sess.cell50$Helper.sumR(\u001b[32mcell50.sc\u001b[39m:\u001b[32m6\u001b[39m)",
      "  ammonite.$sess.cell50$Helper.sumR(\u001b[32mcell50.sc\u001b[39m:\u001b[32m6\u001b[39m)",
      "  ammonite.$sess.cell50$Helper.sumR(\u001b[32mcell50.sc\u001b[39m:\u001b[32m6\u001b[39m)",
      "  ammonite.$sess.cell50$Helper.sumR(\u001b[32mcell50.sc\u001b[39m:\u001b[32m6\u001b[39m)",
      "  ammonite.$sess.cell50$Helper.sumR(\u001b[32mcell50.sc\u001b[39m:\u001b[32m6\u001b[39m)",
      "  ammonite.$sess.cell50$Helper.sumR(\u001b[32mcell50.sc\u001b[39m:\u001b[32m6\u001b[39m)",
      "  ammonite.$sess.cell50$Helper.sumR(\u001b[32mcell50.sc\u001b[39m:\u001b[32m6\u001b[39m)",
      "  ammonite.$sess.cell50$Helper.sumR(\u001b[32mcell50.sc\u001b[39m:\u001b[32m6\u001b[39m)",
      "  ammonite.$sess.cell50$Helper.sumR(\u001b[32mcell50.sc\u001b[39m:\u001b[32m6\u001b[39m)",
      "  ammonite.$sess.cell50$Helper.sumR(\u001b[32mcell50.sc\u001b[39m:\u001b[32m6\u001b[39m)",
      "  ammonite.$sess.cell50$Helper.sumR(\u001b[32mcell50.sc\u001b[39m:\u001b[32m6\u001b[39m)",
      "  ammonite.$sess.cell50$Helper.sumR(\u001b[32mcell50.sc\u001b[39m:\u001b[32m6\u001b[39m)",
      "  ammonite.$sess.cell50$Helper.sumR(\u001b[32mcell50.sc\u001b[39m:\u001b[32m6\u001b[39m)",
      "  ammonite.$sess.cell50$Helper.sumR(\u001b[32mcell50.sc\u001b[39m:\u001b[32m6\u001b[39m)",
      "  ammonite.$sess.cell50$Helper.sumR(\u001b[32mcell50.sc\u001b[39m:\u001b[32m6\u001b[39m)",
      "  ammonite.$sess.cell50$Helper.sumR(\u001b[32mcell50.sc\u001b[39m:\u001b[32m6\u001b[39m)",
      "  ammonite.$sess.cell50$Helper.sumR(\u001b[32mcell50.sc\u001b[39m:\u001b[32m6\u001b[39m)",
      "  ammonite.$sess.cell50$Helper.sumR(\u001b[32mcell50.sc\u001b[39m:\u001b[32m6\u001b[39m)",
      "  ammonite.$sess.cell50$Helper.sumR(\u001b[32mcell50.sc\u001b[39m:\u001b[32m6\u001b[39m)",
      "  ammonite.$sess.cell50$Helper.sumR(\u001b[32mcell50.sc\u001b[39m:\u001b[32m6\u001b[39m)",
      "  ammonite.$sess.cell50$Helper.sumR(\u001b[32mcell50.sc\u001b[39m:\u001b[32m6\u001b[39m)",
      "  ammonite.$sess.cell50$Helper.sumR(\u001b[32mcell50.sc\u001b[39m:\u001b[32m6\u001b[39m)",
      "  ammonite.$sess.cell50$Helper.sumR(\u001b[32mcell50.sc\u001b[39m:\u001b[32m6\u001b[39m)",
      "  ammonite.$sess.cell50$Helper.sumR(\u001b[32mcell50.sc\u001b[39m:\u001b[32m6\u001b[39m)",
      "  ammonite.$sess.cell50$Helper.sumR(\u001b[32mcell50.sc\u001b[39m:\u001b[32m6\u001b[39m)",
      "  ammonite.$sess.cell50$Helper.sumR(\u001b[32mcell50.sc\u001b[39m:\u001b[32m6\u001b[39m)",
      "  ammonite.$sess.cell50$Helper.sumR(\u001b[32mcell50.sc\u001b[39m:\u001b[32m6\u001b[39m)",
      "  ammonite.$sess.cell50$Helper.sumR(\u001b[32mcell50.sc\u001b[39m:\u001b[32m6\u001b[39m)",
      "  ammonite.$sess.cell50$Helper.sumR(\u001b[32mcell50.sc\u001b[39m:\u001b[32m6\u001b[39m)",
      "  ammonite.$sess.cell50$Helper.sumR(\u001b[32mcell50.sc\u001b[39m:\u001b[32m6\u001b[39m)",
      "  ammonite.$sess.cell50$Helper.sumR(\u001b[32mcell50.sc\u001b[39m:\u001b[32m6\u001b[39m)",
      "  ammonite.$sess.cell50$Helper.sumR(\u001b[32mcell50.sc\u001b[39m:\u001b[32m6\u001b[39m)",
      "  ammonite.$sess.cell50$Helper.sumR(\u001b[32mcell50.sc\u001b[39m:\u001b[32m6\u001b[39m)",
      "  ammonite.$sess.cell50$Helper.sumR(\u001b[32mcell50.sc\u001b[39m:\u001b[32m6\u001b[39m)",
      "  ammonite.$sess.cell50$Helper.sumR(\u001b[32mcell50.sc\u001b[39m:\u001b[32m6\u001b[39m)",
      "  ammonite.$sess.cell50$Helper.sumR(\u001b[32mcell50.sc\u001b[39m:\u001b[32m6\u001b[39m)",
      "  ammonite.$sess.cell50$Helper.sumR(\u001b[32mcell50.sc\u001b[39m:\u001b[32m6\u001b[39m)",
      "  ammonite.$sess.cell50$Helper.sumR(\u001b[32mcell50.sc\u001b[39m:\u001b[32m6\u001b[39m)",
      "  ammonite.$sess.cell50$Helper.sumR(\u001b[32mcell50.sc\u001b[39m:\u001b[32m6\u001b[39m)",
      "  ammonite.$sess.cell50$Helper.sumR(\u001b[32mcell50.sc\u001b[39m:\u001b[32m6\u001b[39m)",
      "  ammonite.$sess.cell50$Helper.sumR(\u001b[32mcell50.sc\u001b[39m:\u001b[32m6\u001b[39m)",
      "  ammonite.$sess.cell50$Helper.sumR(\u001b[32mcell50.sc\u001b[39m:\u001b[32m6\u001b[39m)",
      "  ammonite.$sess.cell50$Helper.sumR(\u001b[32mcell50.sc\u001b[39m:\u001b[32m6\u001b[39m)",
      "  ammonite.$sess.cell50$Helper.sumR(\u001b[32mcell50.sc\u001b[39m:\u001b[32m6\u001b[39m)",
      "  ammonite.$sess.cell50$Helper.sumR(\u001b[32mcell50.sc\u001b[39m:\u001b[32m6\u001b[39m)",
      "  ammonite.$sess.cell50$Helper.sumR(\u001b[32mcell50.sc\u001b[39m:\u001b[32m6\u001b[39m)",
      "  ammonite.$sess.cell50$Helper.sumR(\u001b[32mcell50.sc\u001b[39m:\u001b[32m6\u001b[39m)",
      "  ammonite.$sess.cell50$Helper.sumR(\u001b[32mcell50.sc\u001b[39m:\u001b[32m6\u001b[39m)",
      "  ammonite.$sess.cell50$Helper.sumR(\u001b[32mcell50.sc\u001b[39m:\u001b[32m6\u001b[39m)",
      "  ammonite.$sess.cell50$Helper.sumR(\u001b[32mcell50.sc\u001b[39m:\u001b[32m6\u001b[39m)",
      "  ammonite.$sess.cell50$Helper.sumR(\u001b[32mcell50.sc\u001b[39m:\u001b[32m6\u001b[39m)",
      "  ammonite.$sess.cell50$Helper.sumR(\u001b[32mcell50.sc\u001b[39m:\u001b[32m6\u001b[39m)",
      "  ammonite.$sess.cell50$Helper.sumR(\u001b[32mcell50.sc\u001b[39m:\u001b[32m6\u001b[39m)",
      "  ammonite.$sess.cell50$Helper.sumR(\u001b[32mcell50.sc\u001b[39m:\u001b[32m6\u001b[39m)",
      "  ammonite.$sess.cell50$Helper.sumR(\u001b[32mcell50.sc\u001b[39m:\u001b[32m6\u001b[39m)",
      "  ammonite.$sess.cell50$Helper.sumR(\u001b[32mcell50.sc\u001b[39m:\u001b[32m6\u001b[39m)",
      "  ammonite.$sess.cell50$Helper.sumR(\u001b[32mcell50.sc\u001b[39m:\u001b[32m6\u001b[39m)",
      "  ammonite.$sess.cell50$Helper.sumR(\u001b[32mcell50.sc\u001b[39m:\u001b[32m6\u001b[39m)",
      "  ammonite.$sess.cell50$Helper.sumR(\u001b[32mcell50.sc\u001b[39m:\u001b[32m6\u001b[39m)",
      "  ammonite.$sess.cell50$Helper.sumR(\u001b[32mcell50.sc\u001b[39m:\u001b[32m6\u001b[39m)",
      "  ammonite.$sess.cell50$Helper.sumR(\u001b[32mcell50.sc\u001b[39m:\u001b[32m6\u001b[39m)",
      "  ammonite.$sess.cell50$Helper.sumR(\u001b[32mcell50.sc\u001b[39m:\u001b[32m6\u001b[39m)",
      "  ammonite.$sess.cell50$Helper.sumR(\u001b[32mcell50.sc\u001b[39m:\u001b[32m6\u001b[39m)",
      "  ammonite.$sess.cell50$Helper.sumR(\u001b[32mcell50.sc\u001b[39m:\u001b[32m6\u001b[39m)",
      "  ammonite.$sess.cell50$Helper.sumR(\u001b[32mcell50.sc\u001b[39m:\u001b[32m6\u001b[39m)",
      "  ammonite.$sess.cell50$Helper.sumR(\u001b[32mcell50.sc\u001b[39m:\u001b[32m6\u001b[39m)",
      "  ammonite.$sess.cell50$Helper.sumR(\u001b[32mcell50.sc\u001b[39m:\u001b[32m6\u001b[39m)",
      "  ammonite.$sess.cell50$Helper.sumR(\u001b[32mcell50.sc\u001b[39m:\u001b[32m6\u001b[39m)",
      "  ammonite.$sess.cell50$Helper.sumR(\u001b[32mcell50.sc\u001b[39m:\u001b[32m6\u001b[39m)",
      "  ammonite.$sess.cell50$Helper.sumR(\u001b[32mcell50.sc\u001b[39m:\u001b[32m6\u001b[39m)",
      "  ammonite.$sess.cell50$Helper.sumR(\u001b[32mcell50.sc\u001b[39m:\u001b[32m6\u001b[39m)",
      "  ammonite.$sess.cell50$Helper.sumR(\u001b[32mcell50.sc\u001b[39m:\u001b[32m6\u001b[39m)",
      "  ammonite.$sess.cell50$Helper.sumR(\u001b[32mcell50.sc\u001b[39m:\u001b[32m6\u001b[39m)",
      "  ammonite.$sess.cell50$Helper.sumR(\u001b[32mcell50.sc\u001b[39m:\u001b[32m6\u001b[39m)",
      "  ammonite.$sess.cell50$Helper.sumR(\u001b[32mcell50.sc\u001b[39m:\u001b[32m6\u001b[39m)",
      "  ammonite.$sess.cell50$Helper.sumR(\u001b[32mcell50.sc\u001b[39m:\u001b[32m6\u001b[39m)",
      "  ammonite.$sess.cell50$Helper.sumR(\u001b[32mcell50.sc\u001b[39m:\u001b[32m6\u001b[39m)",
      "  ammonite.$sess.cell50$Helper.sumR(\u001b[32mcell50.sc\u001b[39m:\u001b[32m6\u001b[39m)",
      "  ammonite.$sess.cell50$Helper.sumR(\u001b[32mcell50.sc\u001b[39m:\u001b[32m6\u001b[39m)",
      "  ammonite.$sess.cell50$Helper.sumR(\u001b[32mcell50.sc\u001b[39m:\u001b[32m6\u001b[39m)",
      "  ammonite.$sess.cell50$Helper.sumR(\u001b[32mcell50.sc\u001b[39m:\u001b[32m6\u001b[39m)",
      "  ammonite.$sess.cell50$Helper.sumR(\u001b[32mcell50.sc\u001b[39m:\u001b[32m6\u001b[39m)",
      "  ammonite.$sess.cell50$Helper.sumR(\u001b[32mcell50.sc\u001b[39m:\u001b[32m6\u001b[39m)",
      "  ammonite.$sess.cell50$Helper.sumR(\u001b[32mcell50.sc\u001b[39m:\u001b[32m6\u001b[39m)",
      "  ammonite.$sess.cell50$Helper.sumR(\u001b[32mcell50.sc\u001b[39m:\u001b[32m6\u001b[39m)",
      "  ammonite.$sess.cell50$Helper.sumR(\u001b[32mcell50.sc\u001b[39m:\u001b[32m6\u001b[39m)",
      "  ammonite.$sess.cell50$Helper.sumR(\u001b[32mcell50.sc\u001b[39m:\u001b[32m6\u001b[39m)",
      "  ammonite.$sess.cell50$Helper.sumR(\u001b[32mcell50.sc\u001b[39m:\u001b[32m6\u001b[39m)",
      "  ammonite.$sess.cell50$Helper.sumR(\u001b[32mcell50.sc\u001b[39m:\u001b[32m6\u001b[39m)",
      "  ammonite.$sess.cell50$Helper.sumR(\u001b[32mcell50.sc\u001b[39m:\u001b[32m6\u001b[39m)",
      "  ammonite.$sess.cell50$Helper.sumR(\u001b[32mcell50.sc\u001b[39m:\u001b[32m6\u001b[39m)",
      "  ammonite.$sess.cell50$Helper.sumR(\u001b[32mcell50.sc\u001b[39m:\u001b[32m6\u001b[39m)",
      "  ammonite.$sess.cell50$Helper.sumR(\u001b[32mcell50.sc\u001b[39m:\u001b[32m6\u001b[39m)",
      "  ammonite.$sess.cell50$Helper.sumR(\u001b[32mcell50.sc\u001b[39m:\u001b[32m6\u001b[39m)",
      "  ammonite.$sess.cell50$Helper.sumR(\u001b[32mcell50.sc\u001b[39m:\u001b[32m6\u001b[39m)",
      "  ammonite.$sess.cell50$Helper.sumR(\u001b[32mcell50.sc\u001b[39m:\u001b[32m6\u001b[39m)",
      "  ammonite.$sess.cell50$Helper.sumR(\u001b[32mcell50.sc\u001b[39m:\u001b[32m6\u001b[39m)",
      "  ammonite.$sess.cell50$Helper.sumR(\u001b[32mcell50.sc\u001b[39m:\u001b[32m6\u001b[39m)",
      "  ammonite.$sess.cell50$Helper.sumR(\u001b[32mcell50.sc\u001b[39m:\u001b[32m6\u001b[39m)",
      "  ammonite.$sess.cell50$Helper.sumR(\u001b[32mcell50.sc\u001b[39m:\u001b[32m6\u001b[39m)",
      "  ammonite.$sess.cell50$Helper.sumR(\u001b[32mcell50.sc\u001b[39m:\u001b[32m6\u001b[39m)",
      "  ammonite.$sess.cell50$Helper.sumR(\u001b[32mcell50.sc\u001b[39m:\u001b[32m6\u001b[39m)",
      "  ammonite.$sess.cell50$Helper.sumR(\u001b[32mcell50.sc\u001b[39m:\u001b[32m6\u001b[39m)",
      "  ammonite.$sess.cell50$Helper.sumR(\u001b[32mcell50.sc\u001b[39m:\u001b[32m6\u001b[39m)",
      "  ammonite.$sess.cell50$Helper.sumR(\u001b[32mcell50.sc\u001b[39m:\u001b[32m6\u001b[39m)",
      "  ammonite.$sess.cell50$Helper.sumR(\u001b[32mcell50.sc\u001b[39m:\u001b[32m6\u001b[39m)",
      "  ammonite.$sess.cell50$Helper.sumR(\u001b[32mcell50.sc\u001b[39m:\u001b[32m6\u001b[39m)",
      "  ammonite.$sess.cell50$Helper.sumR(\u001b[32mcell50.sc\u001b[39m:\u001b[32m6\u001b[39m)",
      "  ammonite.$sess.cell50$Helper.sumR(\u001b[32mcell50.sc\u001b[39m:\u001b[32m6\u001b[39m)",
      "  ammonite.$sess.cell50$Helper.sumR(\u001b[32mcell50.sc\u001b[39m:\u001b[32m6\u001b[39m)",
      "  ammonite.$sess.cell50$Helper.sumR(\u001b[32mcell50.sc\u001b[39m:\u001b[32m6\u001b[39m)",
      "  ammonite.$sess.cell50$Helper.sumR(\u001b[32mcell50.sc\u001b[39m:\u001b[32m6\u001b[39m)",
      "  ammonite.$sess.cell50$Helper.sumR(\u001b[32mcell50.sc\u001b[39m:\u001b[32m6\u001b[39m)",
      "  ammonite.$sess.cell50$Helper.sumR(\u001b[32mcell50.sc\u001b[39m:\u001b[32m6\u001b[39m)",
      "  ammonite.$sess.cell50$Helper.sumR(\u001b[32mcell50.sc\u001b[39m:\u001b[32m6\u001b[39m)",
      "  ammonite.$sess.cell50$Helper.sumR(\u001b[32mcell50.sc\u001b[39m:\u001b[32m6\u001b[39m)",
      "  ammonite.$sess.cell50$Helper.sumR(\u001b[32mcell50.sc\u001b[39m:\u001b[32m6\u001b[39m)",
      "  ammonite.$sess.cell50$Helper.sumR(\u001b[32mcell50.sc\u001b[39m:\u001b[32m6\u001b[39m)",
      "  ammonite.$sess.cell50$Helper.sumR(\u001b[32mcell50.sc\u001b[39m:\u001b[32m6\u001b[39m)",
      "  ammonite.$sess.cell50$Helper.sumR(\u001b[32mcell50.sc\u001b[39m:\u001b[32m6\u001b[39m)",
      "  ammonite.$sess.cell50$Helper.sumR(\u001b[32mcell50.sc\u001b[39m:\u001b[32m6\u001b[39m)",
      "  ammonite.$sess.cell50$Helper.sumR(\u001b[32mcell50.sc\u001b[39m:\u001b[32m6\u001b[39m)",
      "  ammonite.$sess.cell50$Helper.sumR(\u001b[32mcell50.sc\u001b[39m:\u001b[32m6\u001b[39m)",
      "  ammonite.$sess.cell50$Helper.sumR(\u001b[32mcell50.sc\u001b[39m:\u001b[32m6\u001b[39m)",
      "  ammonite.$sess.cell50$Helper.sumR(\u001b[32mcell50.sc\u001b[39m:\u001b[32m6\u001b[39m)",
      "  ammonite.$sess.cell50$Helper.sumR(\u001b[32mcell50.sc\u001b[39m:\u001b[32m6\u001b[39m)",
      "  ammonite.$sess.cell50$Helper.sumR(\u001b[32mcell50.sc\u001b[39m:\u001b[32m6\u001b[39m)",
      "  ammonite.$sess.cell50$Helper.sumR(\u001b[32mcell50.sc\u001b[39m:\u001b[32m6\u001b[39m)",
      "  ammonite.$sess.cell50$Helper.sumR(\u001b[32mcell50.sc\u001b[39m:\u001b[32m6\u001b[39m)",
      "  ammonite.$sess.cell50$Helper.sumR(\u001b[32mcell50.sc\u001b[39m:\u001b[32m6\u001b[39m)",
      "  ammonite.$sess.cell50$Helper.sumR(\u001b[32mcell50.sc\u001b[39m:\u001b[32m6\u001b[39m)",
      "  ammonite.$sess.cell50$Helper.sumR(\u001b[32mcell50.sc\u001b[39m:\u001b[32m6\u001b[39m)",
      "  ammonite.$sess.cell50$Helper.sumR(\u001b[32mcell50.sc\u001b[39m:\u001b[32m6\u001b[39m)",
      "  ammonite.$sess.cell50$Helper.sumR(\u001b[32mcell50.sc\u001b[39m:\u001b[32m6\u001b[39m)",
      "  ammonite.$sess.cell50$Helper.sumR(\u001b[32mcell50.sc\u001b[39m:\u001b[32m6\u001b[39m)",
      "  ammonite.$sess.cell50$Helper.sumR(\u001b[32mcell50.sc\u001b[39m:\u001b[32m6\u001b[39m)",
      "  ammonite.$sess.cell50$Helper.sumR(\u001b[32mcell50.sc\u001b[39m:\u001b[32m6\u001b[39m)",
      "  ammonite.$sess.cell50$Helper.sumR(\u001b[32mcell50.sc\u001b[39m:\u001b[32m6\u001b[39m)",
      "  ammonite.$sess.cell50$Helper.sumR(\u001b[32mcell50.sc\u001b[39m:\u001b[32m6\u001b[39m)",
      "  ammonite.$sess.cell50$Helper.sumR(\u001b[32mcell50.sc\u001b[39m:\u001b[32m6\u001b[39m)",
      "  ammonite.$sess.cell50$Helper.sumR(\u001b[32mcell50.sc\u001b[39m:\u001b[32m6\u001b[39m)",
      "  ammonite.$sess.cell50$Helper.sumR(\u001b[32mcell50.sc\u001b[39m:\u001b[32m6\u001b[39m)",
      "  ammonite.$sess.cell50$Helper.sumR(\u001b[32mcell50.sc\u001b[39m:\u001b[32m6\u001b[39m)",
      "  ammonite.$sess.cell50$Helper.sumR(\u001b[32mcell50.sc\u001b[39m:\u001b[32m6\u001b[39m)",
      "  ammonite.$sess.cell50$Helper.sumR(\u001b[32mcell50.sc\u001b[39m:\u001b[32m6\u001b[39m)",
      "  ammonite.$sess.cell50$Helper.sumR(\u001b[32mcell50.sc\u001b[39m:\u001b[32m6\u001b[39m)",
      "  ammonite.$sess.cell50$Helper.sumR(\u001b[32mcell50.sc\u001b[39m:\u001b[32m6\u001b[39m)",
      "  ammonite.$sess.cell50$Helper.sumR(\u001b[32mcell50.sc\u001b[39m:\u001b[32m6\u001b[39m)",
      "  ammonite.$sess.cell50$Helper.sumR(\u001b[32mcell50.sc\u001b[39m:\u001b[32m6\u001b[39m)",
      "  ammonite.$sess.cell50$Helper.sumR(\u001b[32mcell50.sc\u001b[39m:\u001b[32m6\u001b[39m)",
      "  ammonite.$sess.cell50$Helper.sumR(\u001b[32mcell50.sc\u001b[39m:\u001b[32m6\u001b[39m)",
      "  ammonite.$sess.cell50$Helper.sumR(\u001b[32mcell50.sc\u001b[39m:\u001b[32m6\u001b[39m)",
      "  ammonite.$sess.cell50$Helper.sumR(\u001b[32mcell50.sc\u001b[39m:\u001b[32m6\u001b[39m)",
      "  ammonite.$sess.cell50$Helper.sumR(\u001b[32mcell50.sc\u001b[39m:\u001b[32m6\u001b[39m)",
      "  ammonite.$sess.cell50$Helper.sumR(\u001b[32mcell50.sc\u001b[39m:\u001b[32m6\u001b[39m)",
      "  ammonite.$sess.cell50$Helper.sumR(\u001b[32mcell50.sc\u001b[39m:\u001b[32m6\u001b[39m)",
      "  ammonite.$sess.cell50$Helper.sumR(\u001b[32mcell50.sc\u001b[39m:\u001b[32m6\u001b[39m)",
      "  ammonite.$sess.cell50$Helper.sumR(\u001b[32mcell50.sc\u001b[39m:\u001b[32m6\u001b[39m)",
      "  ammonite.$sess.cell50$Helper.sumR(\u001b[32mcell50.sc\u001b[39m:\u001b[32m6\u001b[39m)",
      "  ammonite.$sess.cell50$Helper.sumR(\u001b[32mcell50.sc\u001b[39m:\u001b[32m6\u001b[39m)",
      "  ammonite.$sess.cell50$Helper.sumR(\u001b[32mcell50.sc\u001b[39m:\u001b[32m6\u001b[39m)",
      "  ammonite.$sess.cell50$Helper.sumR(\u001b[32mcell50.sc\u001b[39m:\u001b[32m6\u001b[39m)",
      "  ammonite.$sess.cell50$Helper.sumR(\u001b[32mcell50.sc\u001b[39m:\u001b[32m6\u001b[39m)",
      "  ammonite.$sess.cell50$Helper.sumR(\u001b[32mcell50.sc\u001b[39m:\u001b[32m6\u001b[39m)",
      "  ammonite.$sess.cell50$Helper.sumR(\u001b[32mcell50.sc\u001b[39m:\u001b[32m6\u001b[39m)",
      "  ammonite.$sess.cell50$Helper.sumR(\u001b[32mcell50.sc\u001b[39m:\u001b[32m6\u001b[39m)",
      "  ammonite.$sess.cell50$Helper.sumR(\u001b[32mcell50.sc\u001b[39m:\u001b[32m6\u001b[39m)",
      "  ammonite.$sess.cell50$Helper.sumR(\u001b[32mcell50.sc\u001b[39m:\u001b[32m6\u001b[39m)",
      "  ammonite.$sess.cell50$Helper.sumR(\u001b[32mcell50.sc\u001b[39m:\u001b[32m6\u001b[39m)",
      "  ammonite.$sess.cell50$Helper.sumR(\u001b[32mcell50.sc\u001b[39m:\u001b[32m6\u001b[39m)",
      "  ammonite.$sess.cell50$Helper.sumR(\u001b[32mcell50.sc\u001b[39m:\u001b[32m6\u001b[39m)",
      "  ammonite.$sess.cell50$Helper.sumR(\u001b[32mcell50.sc\u001b[39m:\u001b[32m6\u001b[39m)",
      "  ammonite.$sess.cell50$Helper.sumR(\u001b[32mcell50.sc\u001b[39m:\u001b[32m6\u001b[39m)",
      "  ammonite.$sess.cell50$Helper.sumR(\u001b[32mcell50.sc\u001b[39m:\u001b[32m6\u001b[39m)",
      "  ammonite.$sess.cell50$Helper.sumR(\u001b[32mcell50.sc\u001b[39m:\u001b[32m6\u001b[39m)",
      "  ammonite.$sess.cell50$Helper.sumR(\u001b[32mcell50.sc\u001b[39m:\u001b[32m6\u001b[39m)",
      "  ammonite.$sess.cell50$Helper.sumR(\u001b[32mcell50.sc\u001b[39m:\u001b[32m6\u001b[39m)",
      "  ammonite.$sess.cell50$Helper.sumR(\u001b[32mcell50.sc\u001b[39m:\u001b[32m6\u001b[39m)",
      "  ammonite.$sess.cell50$Helper.sumR(\u001b[32mcell50.sc\u001b[39m:\u001b[32m6\u001b[39m)",
      "  ammonite.$sess.cell50$Helper.sumR(\u001b[32mcell50.sc\u001b[39m:\u001b[32m6\u001b[39m)",
      "  ammonite.$sess.cell50$Helper.sumR(\u001b[32mcell50.sc\u001b[39m:\u001b[32m6\u001b[39m)",
      "  ammonite.$sess.cell50$Helper.sumR(\u001b[32mcell50.sc\u001b[39m:\u001b[32m6\u001b[39m)",
      "  ammonite.$sess.cell50$Helper.sumR(\u001b[32mcell50.sc\u001b[39m:\u001b[32m6\u001b[39m)",
      "  ammonite.$sess.cell50$Helper.sumR(\u001b[32mcell50.sc\u001b[39m:\u001b[32m6\u001b[39m)",
      "  ammonite.$sess.cell50$Helper.sumR(\u001b[32mcell50.sc\u001b[39m:\u001b[32m6\u001b[39m)",
      "  ammonite.$sess.cell50$Helper.sumR(\u001b[32mcell50.sc\u001b[39m:\u001b[32m6\u001b[39m)",
      "  ammonite.$sess.cell50$Helper.sumR(\u001b[32mcell50.sc\u001b[39m:\u001b[32m6\u001b[39m)",
      "  ammonite.$sess.cell50$Helper.sumR(\u001b[32mcell50.sc\u001b[39m:\u001b[32m6\u001b[39m)",
      "  ammonite.$sess.cell50$Helper.sumR(\u001b[32mcell50.sc\u001b[39m:\u001b[32m6\u001b[39m)",
      "  ammonite.$sess.cell50$Helper.sumR(\u001b[32mcell50.sc\u001b[39m:\u001b[32m6\u001b[39m)",
      "  ammonite.$sess.cell50$Helper.sumR(\u001b[32mcell50.sc\u001b[39m:\u001b[32m6\u001b[39m)",
      "  ammonite.$sess.cell50$Helper.sumR(\u001b[32mcell50.sc\u001b[39m:\u001b[32m6\u001b[39m)",
      "  ammonite.$sess.cell50$Helper.sumR(\u001b[32mcell50.sc\u001b[39m:\u001b[32m6\u001b[39m)",
      "  ammonite.$sess.cell50$Helper.sumR(\u001b[32mcell50.sc\u001b[39m:\u001b[32m6\u001b[39m)",
      "  ammonite.$sess.cell50$Helper.sumR(\u001b[32mcell50.sc\u001b[39m:\u001b[32m6\u001b[39m)",
      "  ammonite.$sess.cell50$Helper.sumR(\u001b[32mcell50.sc\u001b[39m:\u001b[32m6\u001b[39m)",
      "  ammonite.$sess.cell50$Helper.sumR(\u001b[32mcell50.sc\u001b[39m:\u001b[32m6\u001b[39m)",
      "  ammonite.$sess.cell50$Helper.sumR(\u001b[32mcell50.sc\u001b[39m:\u001b[32m6\u001b[39m)",
      "  ammonite.$sess.cell50$Helper.sumR(\u001b[32mcell50.sc\u001b[39m:\u001b[32m6\u001b[39m)",
      "  ammonite.$sess.cell50$Helper.sumR(\u001b[32mcell50.sc\u001b[39m:\u001b[32m6\u001b[39m)",
      "  ammonite.$sess.cell50$Helper.sumR(\u001b[32mcell50.sc\u001b[39m:\u001b[32m6\u001b[39m)",
      "  ammonite.$sess.cell50$Helper.sumR(\u001b[32mcell50.sc\u001b[39m:\u001b[32m6\u001b[39m)",
      "  ammonite.$sess.cell50$Helper.sumR(\u001b[32mcell50.sc\u001b[39m:\u001b[32m6\u001b[39m)",
      "  ammonite.$sess.cell50$Helper.sumR(\u001b[32mcell50.sc\u001b[39m:\u001b[32m6\u001b[39m)",
      "  ammonite.$sess.cell50$Helper.sumR(\u001b[32mcell50.sc\u001b[39m:\u001b[32m6\u001b[39m)",
      "  ammonite.$sess.cell50$Helper.sumR(\u001b[32mcell50.sc\u001b[39m:\u001b[32m6\u001b[39m)",
      "  ammonite.$sess.cell50$Helper.sumR(\u001b[32mcell50.sc\u001b[39m:\u001b[32m6\u001b[39m)",
      "  ammonite.$sess.cell50$Helper.sumR(\u001b[32mcell50.sc\u001b[39m:\u001b[32m6\u001b[39m)",
      "  ammonite.$sess.cell50$Helper.sumR(\u001b[32mcell50.sc\u001b[39m:\u001b[32m6\u001b[39m)",
      "  ammonite.$sess.cell50$Helper.sumR(\u001b[32mcell50.sc\u001b[39m:\u001b[32m6\u001b[39m)",
      "  ammonite.$sess.cell50$Helper.sumR(\u001b[32mcell50.sc\u001b[39m:\u001b[32m6\u001b[39m)",
      "  ammonite.$sess.cell50$Helper.sumR(\u001b[32mcell50.sc\u001b[39m:\u001b[32m6\u001b[39m)",
      "  ammonite.$sess.cell50$Helper.sumR(\u001b[32mcell50.sc\u001b[39m:\u001b[32m6\u001b[39m)",
      "  ammonite.$sess.cell50$Helper.sumR(\u001b[32mcell50.sc\u001b[39m:\u001b[32m6\u001b[39m)",
      "  ammonite.$sess.cell50$Helper.sumR(\u001b[32mcell50.sc\u001b[39m:\u001b[32m6\u001b[39m)",
      "  ammonite.$sess.cell50$Helper.sumR(\u001b[32mcell50.sc\u001b[39m:\u001b[32m6\u001b[39m)",
      "  ammonite.$sess.cell50$Helper.sumR(\u001b[32mcell50.sc\u001b[39m:\u001b[32m6\u001b[39m)",
      "  ammonite.$sess.cell50$Helper.sumR(\u001b[32mcell50.sc\u001b[39m:\u001b[32m6\u001b[39m)",
      "  ammonite.$sess.cell50$Helper.sumR(\u001b[32mcell50.sc\u001b[39m:\u001b[32m6\u001b[39m)",
      "  ammonite.$sess.cell50$Helper.sumR(\u001b[32mcell50.sc\u001b[39m:\u001b[32m6\u001b[39m)",
      "  ammonite.$sess.cell50$Helper.sumR(\u001b[32mcell50.sc\u001b[39m:\u001b[32m6\u001b[39m)",
      "  ammonite.$sess.cell50$Helper.sumR(\u001b[32mcell50.sc\u001b[39m:\u001b[32m6\u001b[39m)",
      "  ammonite.$sess.cell50$Helper.sumR(\u001b[32mcell50.sc\u001b[39m:\u001b[32m6\u001b[39m)",
      "  ammonite.$sess.cell50$Helper.sumR(\u001b[32mcell50.sc\u001b[39m:\u001b[32m6\u001b[39m)",
      "  ammonite.$sess.cell50$Helper.sumR(\u001b[32mcell50.sc\u001b[39m:\u001b[32m6\u001b[39m)",
      "  ammonite.$sess.cell50$Helper.sumR(\u001b[32mcell50.sc\u001b[39m:\u001b[32m6\u001b[39m)",
      "  ammonite.$sess.cell50$Helper.sumR(\u001b[32mcell50.sc\u001b[39m:\u001b[32m6\u001b[39m)",
      "  ammonite.$sess.cell50$Helper.sumR(\u001b[32mcell50.sc\u001b[39m:\u001b[32m6\u001b[39m)",
      "  ammonite.$sess.cell50$Helper.sumR(\u001b[32mcell50.sc\u001b[39m:\u001b[32m6\u001b[39m)",
      "  ammonite.$sess.cell50$Helper.sumR(\u001b[32mcell50.sc\u001b[39m:\u001b[32m6\u001b[39m)",
      "  ammonite.$sess.cell50$Helper.sumR(\u001b[32mcell50.sc\u001b[39m:\u001b[32m6\u001b[39m)",
      "  ammonite.$sess.cell50$Helper.sumR(\u001b[32mcell50.sc\u001b[39m:\u001b[32m6\u001b[39m)",
      "  ammonite.$sess.cell50$Helper.sumR(\u001b[32mcell50.sc\u001b[39m:\u001b[32m6\u001b[39m)",
      "  ammonite.$sess.cell50$Helper.sumR(\u001b[32mcell50.sc\u001b[39m:\u001b[32m6\u001b[39m)",
      "  ammonite.$sess.cell50$Helper.sumR(\u001b[32mcell50.sc\u001b[39m:\u001b[32m6\u001b[39m)",
      "  ammonite.$sess.cell50$Helper.sumR(\u001b[32mcell50.sc\u001b[39m:\u001b[32m6\u001b[39m)",
      "  ammonite.$sess.cell50$Helper.sumR(\u001b[32mcell50.sc\u001b[39m:\u001b[32m6\u001b[39m)",
      "  ammonite.$sess.cell50$Helper.sumR(\u001b[32mcell50.sc\u001b[39m:\u001b[32m6\u001b[39m)",
      "  ammonite.$sess.cell50$Helper.sumR(\u001b[32mcell50.sc\u001b[39m:\u001b[32m6\u001b[39m)",
      "  ammonite.$sess.cell50$Helper.sumR(\u001b[32mcell50.sc\u001b[39m:\u001b[32m6\u001b[39m)",
      "  ammonite.$sess.cell50$Helper.sumR(\u001b[32mcell50.sc\u001b[39m:\u001b[32m6\u001b[39m)",
      "  ammonite.$sess.cell50$Helper.sumR(\u001b[32mcell50.sc\u001b[39m:\u001b[32m6\u001b[39m)",
      "  ammonite.$sess.cell50$Helper.sumR(\u001b[32mcell50.sc\u001b[39m:\u001b[32m6\u001b[39m)",
      "  ammonite.$sess.cell50$Helper.sumR(\u001b[32mcell50.sc\u001b[39m:\u001b[32m6\u001b[39m)",
      "  ammonite.$sess.cell50$Helper.sumR(\u001b[32mcell50.sc\u001b[39m:\u001b[32m6\u001b[39m)",
      "  ammonite.$sess.cell50$Helper.sumR(\u001b[32mcell50.sc\u001b[39m:\u001b[32m6\u001b[39m)",
      "  ammonite.$sess.cell50$Helper.sumR(\u001b[32mcell50.sc\u001b[39m:\u001b[32m6\u001b[39m)",
      "  ammonite.$sess.cell50$Helper.sumR(\u001b[32mcell50.sc\u001b[39m:\u001b[32m6\u001b[39m)",
      "  ammonite.$sess.cell50$Helper.sumR(\u001b[32mcell50.sc\u001b[39m:\u001b[32m6\u001b[39m)",
      "  ammonite.$sess.cell50$Helper.sumR(\u001b[32mcell50.sc\u001b[39m:\u001b[32m6\u001b[39m)",
      "  ammonite.$sess.cell50$Helper.sumR(\u001b[32mcell50.sc\u001b[39m:\u001b[32m6\u001b[39m)",
      "  ammonite.$sess.cell50$Helper.sumR(\u001b[32mcell50.sc\u001b[39m:\u001b[32m6\u001b[39m)",
      "  ammonite.$sess.cell50$Helper.sumR(\u001b[32mcell50.sc\u001b[39m:\u001b[32m6\u001b[39m)",
      "  ammonite.$sess.cell50$Helper.sumR(\u001b[32mcell50.sc\u001b[39m:\u001b[32m6\u001b[39m)",
      "  ammonite.$sess.cell50$Helper.sumR(\u001b[32mcell50.sc\u001b[39m:\u001b[32m6\u001b[39m)",
      "  ammonite.$sess.cell50$Helper.sumR(\u001b[32mcell50.sc\u001b[39m:\u001b[32m6\u001b[39m)",
      "  ammonite.$sess.cell50$Helper.sumR(\u001b[32mcell50.sc\u001b[39m:\u001b[32m6\u001b[39m)",
      "  ammonite.$sess.cell50$Helper.sumR(\u001b[32mcell50.sc\u001b[39m:\u001b[32m6\u001b[39m)",
      "  ammonite.$sess.cell50$Helper.sumR(\u001b[32mcell50.sc\u001b[39m:\u001b[32m6\u001b[39m)",
      "  ammonite.$sess.cell50$Helper.sumR(\u001b[32mcell50.sc\u001b[39m:\u001b[32m6\u001b[39m)",
      "  ammonite.$sess.cell50$Helper.sumR(\u001b[32mcell50.sc\u001b[39m:\u001b[32m6\u001b[39m)",
      "  ammonite.$sess.cell50$Helper.sumR(\u001b[32mcell50.sc\u001b[39m:\u001b[32m6\u001b[39m)",
      "  ammonite.$sess.cell50$Helper.sumR(\u001b[32mcell50.sc\u001b[39m:\u001b[32m6\u001b[39m)",
      "  ammonite.$sess.cell50$Helper.sumR(\u001b[32mcell50.sc\u001b[39m:\u001b[32m6\u001b[39m)",
      "  ammonite.$sess.cell50$Helper.sumR(\u001b[32mcell50.sc\u001b[39m:\u001b[32m6\u001b[39m)",
      "  ammonite.$sess.cell50$Helper.sumR(\u001b[32mcell50.sc\u001b[39m:\u001b[32m6\u001b[39m)",
      "  ammonite.$sess.cell50$Helper.sumR(\u001b[32mcell50.sc\u001b[39m:\u001b[32m6\u001b[39m)",
      "  ammonite.$sess.cell50$Helper.sumR(\u001b[32mcell50.sc\u001b[39m:\u001b[32m6\u001b[39m)",
      "  ammonite.$sess.cell50$Helper.sumR(\u001b[32mcell50.sc\u001b[39m:\u001b[32m6\u001b[39m)",
      "  ammonite.$sess.cell50$Helper.sumR(\u001b[32mcell50.sc\u001b[39m:\u001b[32m6\u001b[39m)",
      "  ammonite.$sess.cell50$Helper.sumR(\u001b[32mcell50.sc\u001b[39m:\u001b[32m6\u001b[39m)",
      "  ammonite.$sess.cell50$Helper.sumR(\u001b[32mcell50.sc\u001b[39m:\u001b[32m6\u001b[39m)",
      "  ammonite.$sess.cell50$Helper.sumR(\u001b[32mcell50.sc\u001b[39m:\u001b[32m6\u001b[39m)",
      "  ammonite.$sess.cell50$Helper.sumR(\u001b[32mcell50.sc\u001b[39m:\u001b[32m6\u001b[39m)",
      "  ammonite.$sess.cell50$Helper.sumR(\u001b[32mcell50.sc\u001b[39m:\u001b[32m6\u001b[39m)",
      "  ammonite.$sess.cell50$Helper.sumR(\u001b[32mcell50.sc\u001b[39m:\u001b[32m6\u001b[39m)",
      "  ammonite.$sess.cell50$Helper.sumR(\u001b[32mcell50.sc\u001b[39m:\u001b[32m6\u001b[39m)",
      "  ammonite.$sess.cell50$Helper.sumR(\u001b[32mcell50.sc\u001b[39m:\u001b[32m6\u001b[39m)",
      "  ammonite.$sess.cell50$Helper.sumR(\u001b[32mcell50.sc\u001b[39m:\u001b[32m6\u001b[39m)",
      "  ammonite.$sess.cell50$Helper.sumR(\u001b[32mcell50.sc\u001b[39m:\u001b[32m6\u001b[39m)",
      "  ammonite.$sess.cell50$Helper.sumR(\u001b[32mcell50.sc\u001b[39m:\u001b[32m6\u001b[39m)",
      "  ammonite.$sess.cell50$Helper.sumR(\u001b[32mcell50.sc\u001b[39m:\u001b[32m6\u001b[39m)",
      "  ammonite.$sess.cell50$Helper.sumR(\u001b[32mcell50.sc\u001b[39m:\u001b[32m6\u001b[39m)",
      "  ammonite.$sess.cell50$Helper.sumR(\u001b[32mcell50.sc\u001b[39m:\u001b[32m6\u001b[39m)",
      "  ammonite.$sess.cell50$Helper.sumR(\u001b[32mcell50.sc\u001b[39m:\u001b[32m6\u001b[39m)",
      "  ammonite.$sess.cell50$Helper.sumR(\u001b[32mcell50.sc\u001b[39m:\u001b[32m6\u001b[39m)",
      "  ammonite.$sess.cell50$Helper.sumR(\u001b[32mcell50.sc\u001b[39m:\u001b[32m6\u001b[39m)",
      "  ammonite.$sess.cell50$Helper.sumR(\u001b[32mcell50.sc\u001b[39m:\u001b[32m6\u001b[39m)",
      "  ammonite.$sess.cell50$Helper.sumR(\u001b[32mcell50.sc\u001b[39m:\u001b[32m6\u001b[39m)",
      "  ammonite.$sess.cell50$Helper.sumR(\u001b[32mcell50.sc\u001b[39m:\u001b[32m6\u001b[39m)",
      "  ammonite.$sess.cell50$Helper.sumR(\u001b[32mcell50.sc\u001b[39m:\u001b[32m6\u001b[39m)",
      "  ammonite.$sess.cell50$Helper.sumR(\u001b[32mcell50.sc\u001b[39m:\u001b[32m6\u001b[39m)",
      "  ammonite.$sess.cell50$Helper.sumR(\u001b[32mcell50.sc\u001b[39m:\u001b[32m6\u001b[39m)",
      "  ammonite.$sess.cell50$Helper.sumR(\u001b[32mcell50.sc\u001b[39m:\u001b[32m6\u001b[39m)",
      "  ammonite.$sess.cell50$Helper.sumR(\u001b[32mcell50.sc\u001b[39m:\u001b[32m6\u001b[39m)",
      "  ammonite.$sess.cell50$Helper.sumR(\u001b[32mcell50.sc\u001b[39m:\u001b[32m6\u001b[39m)",
      "  ammonite.$sess.cell50$Helper.sumR(\u001b[32mcell50.sc\u001b[39m:\u001b[32m6\u001b[39m)",
      "  ammonite.$sess.cell50$Helper.sumR(\u001b[32mcell50.sc\u001b[39m:\u001b[32m6\u001b[39m)",
      "  ammonite.$sess.cell50$Helper.sumR(\u001b[32mcell50.sc\u001b[39m:\u001b[32m6\u001b[39m)",
      "  ammonite.$sess.cell50$Helper.sumR(\u001b[32mcell50.sc\u001b[39m:\u001b[32m6\u001b[39m)",
      "  ammonite.$sess.cell50$Helper.sumR(\u001b[32mcell50.sc\u001b[39m:\u001b[32m6\u001b[39m)",
      "  ammonite.$sess.cell50$Helper.sumR(\u001b[32mcell50.sc\u001b[39m:\u001b[32m6\u001b[39m)",
      "  ammonite.$sess.cell50$Helper.sumR(\u001b[32mcell50.sc\u001b[39m:\u001b[32m6\u001b[39m)",
      "  ammonite.$sess.cell50$Helper.sumR(\u001b[32mcell50.sc\u001b[39m:\u001b[32m6\u001b[39m)",
      "  ammonite.$sess.cell50$Helper.sumR(\u001b[32mcell50.sc\u001b[39m:\u001b[32m6\u001b[39m)",
      "  ammonite.$sess.cell50$Helper.sumR(\u001b[32mcell50.sc\u001b[39m:\u001b[32m6\u001b[39m)",
      "  ammonite.$sess.cell50$Helper.sumR(\u001b[32mcell50.sc\u001b[39m:\u001b[32m6\u001b[39m)",
      "  ammonite.$sess.cell50$Helper.sumR(\u001b[32mcell50.sc\u001b[39m:\u001b[32m6\u001b[39m)",
      "  ammonite.$sess.cell50$Helper.sumR(\u001b[32mcell50.sc\u001b[39m:\u001b[32m6\u001b[39m)",
      "  ammonite.$sess.cell50$Helper.sumR(\u001b[32mcell50.sc\u001b[39m:\u001b[32m6\u001b[39m)",
      "  ammonite.$sess.cell50$Helper.sumR(\u001b[32mcell50.sc\u001b[39m:\u001b[32m6\u001b[39m)",
      "  ammonite.$sess.cell50$Helper.sumR(\u001b[32mcell50.sc\u001b[39m:\u001b[32m6\u001b[39m)",
      "  ammonite.$sess.cell50$Helper.sumR(\u001b[32mcell50.sc\u001b[39m:\u001b[32m6\u001b[39m)",
      "  ammonite.$sess.cell50$Helper.sumR(\u001b[32mcell50.sc\u001b[39m:\u001b[32m6\u001b[39m)",
      "  ammonite.$sess.cell50$Helper.sumR(\u001b[32mcell50.sc\u001b[39m:\u001b[32m6\u001b[39m)",
      "  ammonite.$sess.cell50$Helper.sumR(\u001b[32mcell50.sc\u001b[39m:\u001b[32m6\u001b[39m)",
      "  ammonite.$sess.cell50$Helper.sumR(\u001b[32mcell50.sc\u001b[39m:\u001b[32m6\u001b[39m)",
      "  ammonite.$sess.cell50$Helper.sumR(\u001b[32mcell50.sc\u001b[39m:\u001b[32m6\u001b[39m)",
      "  ammonite.$sess.cell50$Helper.sumR(\u001b[32mcell50.sc\u001b[39m:\u001b[32m6\u001b[39m)",
      "  ammonite.$sess.cell50$Helper.sumR(\u001b[32mcell50.sc\u001b[39m:\u001b[32m6\u001b[39m)",
      "  ammonite.$sess.cell50$Helper.sumR(\u001b[32mcell50.sc\u001b[39m:\u001b[32m6\u001b[39m)",
      "  ammonite.$sess.cell50$Helper.sumR(\u001b[32mcell50.sc\u001b[39m:\u001b[32m6\u001b[39m)",
      "  ammonite.$sess.cell50$Helper.sumR(\u001b[32mcell50.sc\u001b[39m:\u001b[32m6\u001b[39m)",
      "  ammonite.$sess.cell50$Helper.sumR(\u001b[32mcell50.sc\u001b[39m:\u001b[32m6\u001b[39m)",
      "  ammonite.$sess.cell50$Helper.sumR(\u001b[32mcell50.sc\u001b[39m:\u001b[32m6\u001b[39m)",
      "  ammonite.$sess.cell50$Helper.sumR(\u001b[32mcell50.sc\u001b[39m:\u001b[32m6\u001b[39m)",
      "  ammonite.$sess.cell50$Helper.sumR(\u001b[32mcell50.sc\u001b[39m:\u001b[32m6\u001b[39m)",
      "  ammonite.$sess.cell50$Helper.sumR(\u001b[32mcell50.sc\u001b[39m:\u001b[32m6\u001b[39m)",
      "  ammonite.$sess.cell50$Helper.sumR(\u001b[32mcell50.sc\u001b[39m:\u001b[32m6\u001b[39m)",
      "  ammonite.$sess.cell50$Helper.sumR(\u001b[32mcell50.sc\u001b[39m:\u001b[32m6\u001b[39m)",
      "  ammonite.$sess.cell50$Helper.sumR(\u001b[32mcell50.sc\u001b[39m:\u001b[32m6\u001b[39m)",
      "  ammonite.$sess.cell50$Helper.sumR(\u001b[32mcell50.sc\u001b[39m:\u001b[32m6\u001b[39m)",
      "  ammonite.$sess.cell50$Helper.sumR(\u001b[32mcell50.sc\u001b[39m:\u001b[32m6\u001b[39m)",
      "  ammonite.$sess.cell50$Helper.sumR(\u001b[32mcell50.sc\u001b[39m:\u001b[32m6\u001b[39m)",
      "  ammonite.$sess.cell50$Helper.sumR(\u001b[32mcell50.sc\u001b[39m:\u001b[32m6\u001b[39m)",
      "  ammonite.$sess.cell50$Helper.sumR(\u001b[32mcell50.sc\u001b[39m:\u001b[32m6\u001b[39m)",
      "  ammonite.$sess.cell50$Helper.sumR(\u001b[32mcell50.sc\u001b[39m:\u001b[32m6\u001b[39m)",
      "  ammonite.$sess.cell50$Helper.sumR(\u001b[32mcell50.sc\u001b[39m:\u001b[32m6\u001b[39m)",
      "  ammonite.$sess.cell50$Helper.sumR(\u001b[32mcell50.sc\u001b[39m:\u001b[32m6\u001b[39m)",
      "  ammonite.$sess.cell50$Helper.sumR(\u001b[32mcell50.sc\u001b[39m:\u001b[32m6\u001b[39m)",
      "  ammonite.$sess.cell50$Helper.sumR(\u001b[32mcell50.sc\u001b[39m:\u001b[32m6\u001b[39m)",
      "  ammonite.$sess.cell50$Helper.sumR(\u001b[32mcell50.sc\u001b[39m:\u001b[32m6\u001b[39m)",
      "  ammonite.$sess.cell50$Helper.sumR(\u001b[32mcell50.sc\u001b[39m:\u001b[32m6\u001b[39m)",
      "  ammonite.$sess.cell50$Helper.sumR(\u001b[32mcell50.sc\u001b[39m:\u001b[32m6\u001b[39m)",
      "  ammonite.$sess.cell50$Helper.sumR(\u001b[32mcell50.sc\u001b[39m:\u001b[32m6\u001b[39m)",
      "  ammonite.$sess.cell50$Helper.sumR(\u001b[32mcell50.sc\u001b[39m:\u001b[32m6\u001b[39m)",
      "  ammonite.$sess.cell50$Helper.sumR(\u001b[32mcell50.sc\u001b[39m:\u001b[32m6\u001b[39m)",
      "  ammonite.$sess.cell50$Helper.sumR(\u001b[32mcell50.sc\u001b[39m:\u001b[32m6\u001b[39m)",
      "  ammonite.$sess.cell50$Helper.sumR(\u001b[32mcell50.sc\u001b[39m:\u001b[32m6\u001b[39m)",
      "  ammonite.$sess.cell50$Helper.sumR(\u001b[32mcell50.sc\u001b[39m:\u001b[32m6\u001b[39m)",
      "  ammonite.$sess.cell50$Helper.sumR(\u001b[32mcell50.sc\u001b[39m:\u001b[32m6\u001b[39m)",
      "  ammonite.$sess.cell50$Helper.sumR(\u001b[32mcell50.sc\u001b[39m:\u001b[32m6\u001b[39m)",
      "  ammonite.$sess.cell50$Helper.sumR(\u001b[32mcell50.sc\u001b[39m:\u001b[32m6\u001b[39m)",
      "  ammonite.$sess.cell50$Helper.sumR(\u001b[32mcell50.sc\u001b[39m:\u001b[32m6\u001b[39m)",
      "  ammonite.$sess.cell50$Helper.sumR(\u001b[32mcell50.sc\u001b[39m:\u001b[32m6\u001b[39m)",
      "  ammonite.$sess.cell50$Helper.sumR(\u001b[32mcell50.sc\u001b[39m:\u001b[32m6\u001b[39m)",
      "  ammonite.$sess.cell50$Helper.sumR(\u001b[32mcell50.sc\u001b[39m:\u001b[32m6\u001b[39m)",
      "  ammonite.$sess.cell50$Helper.sumR(\u001b[32mcell50.sc\u001b[39m:\u001b[32m6\u001b[39m)",
      "  ammonite.$sess.cell50$Helper.sumR(\u001b[32mcell50.sc\u001b[39m:\u001b[32m6\u001b[39m)",
      "  ammonite.$sess.cell50$Helper.sumR(\u001b[32mcell50.sc\u001b[39m:\u001b[32m6\u001b[39m)",
      "  ammonite.$sess.cell50$Helper.sumR(\u001b[32mcell50.sc\u001b[39m:\u001b[32m6\u001b[39m)",
      "  ammonite.$sess.cell50$Helper.sumR(\u001b[32mcell50.sc\u001b[39m:\u001b[32m6\u001b[39m)",
      "  ammonite.$sess.cell50$Helper.sumR(\u001b[32mcell50.sc\u001b[39m:\u001b[32m6\u001b[39m)",
      "  ammonite.$sess.cell50$Helper.sumR(\u001b[32mcell50.sc\u001b[39m:\u001b[32m6\u001b[39m)",
      "  ammonite.$sess.cell50$Helper.sumR(\u001b[32mcell50.sc\u001b[39m:\u001b[32m6\u001b[39m)",
      "  ammonite.$sess.cell50$Helper.sumR(\u001b[32mcell50.sc\u001b[39m:\u001b[32m6\u001b[39m)",
      "  ammonite.$sess.cell50$Helper.sumR(\u001b[32mcell50.sc\u001b[39m:\u001b[32m6\u001b[39m)",
      "  ammonite.$sess.cell50$Helper.sumR(\u001b[32mcell50.sc\u001b[39m:\u001b[32m6\u001b[39m)",
      "  ammonite.$sess.cell50$Helper.sumR(\u001b[32mcell50.sc\u001b[39m:\u001b[32m6\u001b[39m)",
      "  ammonite.$sess.cell50$Helper.sumR(\u001b[32mcell50.sc\u001b[39m:\u001b[32m6\u001b[39m)",
      "  ammonite.$sess.cell50$Helper.sumR(\u001b[32mcell50.sc\u001b[39m:\u001b[32m6\u001b[39m)",
      "  ammonite.$sess.cell50$Helper.sumR(\u001b[32mcell50.sc\u001b[39m:\u001b[32m6\u001b[39m)",
      "  ammonite.$sess.cell50$Helper.sumR(\u001b[32mcell50.sc\u001b[39m:\u001b[32m6\u001b[39m)",
      "  ammonite.$sess.cell50$Helper.sumR(\u001b[32mcell50.sc\u001b[39m:\u001b[32m6\u001b[39m)",
      "  ammonite.$sess.cell50$Helper.sumR(\u001b[32mcell50.sc\u001b[39m:\u001b[32m6\u001b[39m)",
      "  ammonite.$sess.cell50$Helper.sumR(\u001b[32mcell50.sc\u001b[39m:\u001b[32m6\u001b[39m)",
      "  ammonite.$sess.cell50$Helper.sumR(\u001b[32mcell50.sc\u001b[39m:\u001b[32m6\u001b[39m)",
      "  ammonite.$sess.cell50$Helper.sumR(\u001b[32mcell50.sc\u001b[39m:\u001b[32m6\u001b[39m)",
      "  ammonite.$sess.cell50$Helper.sumR(\u001b[32mcell50.sc\u001b[39m:\u001b[32m6\u001b[39m)",
      "  ammonite.$sess.cell50$Helper.sumR(\u001b[32mcell50.sc\u001b[39m:\u001b[32m6\u001b[39m)",
      "  ammonite.$sess.cell50$Helper.sumR(\u001b[32mcell50.sc\u001b[39m:\u001b[32m6\u001b[39m)",
      "  ammonite.$sess.cell50$Helper.sumR(\u001b[32mcell50.sc\u001b[39m:\u001b[32m6\u001b[39m)",
      "  ammonite.$sess.cell50$Helper.sumR(\u001b[32mcell50.sc\u001b[39m:\u001b[32m6\u001b[39m)",
      "  ammonite.$sess.cell50$Helper.sumR(\u001b[32mcell50.sc\u001b[39m:\u001b[32m6\u001b[39m)",
      "  ammonite.$sess.cell50$Helper.sumR(\u001b[32mcell50.sc\u001b[39m:\u001b[32m6\u001b[39m)",
      "  ammonite.$sess.cell50$Helper.sumR(\u001b[32mcell50.sc\u001b[39m:\u001b[32m6\u001b[39m)",
      "  ammonite.$sess.cell50$Helper.sumR(\u001b[32mcell50.sc\u001b[39m:\u001b[32m6\u001b[39m)",
      "  ammonite.$sess.cell50$Helper.sumR(\u001b[32mcell50.sc\u001b[39m:\u001b[32m6\u001b[39m)",
      "  ammonite.$sess.cell50$Helper.sumR(\u001b[32mcell50.sc\u001b[39m:\u001b[32m6\u001b[39m)",
      "  ammonite.$sess.cell50$Helper.sumR(\u001b[32mcell50.sc\u001b[39m:\u001b[32m6\u001b[39m)",
      "  ammonite.$sess.cell50$Helper.sumR(\u001b[32mcell50.sc\u001b[39m:\u001b[32m6\u001b[39m)",
      "  ammonite.$sess.cell50$Helper.sumR(\u001b[32mcell50.sc\u001b[39m:\u001b[32m6\u001b[39m)",
      "  ammonite.$sess.cell50$Helper.sumR(\u001b[32mcell50.sc\u001b[39m:\u001b[32m6\u001b[39m)",
      "  ammonite.$sess.cell50$Helper.sumR(\u001b[32mcell50.sc\u001b[39m:\u001b[32m6\u001b[39m)",
      "  ammonite.$sess.cell50$Helper.sumR(\u001b[32mcell50.sc\u001b[39m:\u001b[32m6\u001b[39m)",
      "  ammonite.$sess.cell50$Helper.sumR(\u001b[32mcell50.sc\u001b[39m:\u001b[32m6\u001b[39m)",
      "  ammonite.$sess.cell50$Helper.sumR(\u001b[32mcell50.sc\u001b[39m:\u001b[32m6\u001b[39m)",
      "  ammonite.$sess.cell50$Helper.sumR(\u001b[32mcell50.sc\u001b[39m:\u001b[32m6\u001b[39m)",
      "  ammonite.$sess.cell50$Helper.sumR(\u001b[32mcell50.sc\u001b[39m:\u001b[32m6\u001b[39m)",
      "  ammonite.$sess.cell50$Helper.sumR(\u001b[32mcell50.sc\u001b[39m:\u001b[32m6\u001b[39m)",
      "  ammonite.$sess.cell50$Helper.sumR(\u001b[32mcell50.sc\u001b[39m:\u001b[32m6\u001b[39m)",
      "  ammonite.$sess.cell50$Helper.sumR(\u001b[32mcell50.sc\u001b[39m:\u001b[32m6\u001b[39m)",
      "  ammonite.$sess.cell50$Helper.sumR(\u001b[32mcell50.sc\u001b[39m:\u001b[32m6\u001b[39m)",
      "  ammonite.$sess.cell50$Helper.sumR(\u001b[32mcell50.sc\u001b[39m:\u001b[32m6\u001b[39m)",
      "  ammonite.$sess.cell50$Helper.sumR(\u001b[32mcell50.sc\u001b[39m:\u001b[32m6\u001b[39m)",
      "  ammonite.$sess.cell50$Helper.sumR(\u001b[32mcell50.sc\u001b[39m:\u001b[32m6\u001b[39m)",
      "  ammonite.$sess.cell50$Helper.sumR(\u001b[32mcell50.sc\u001b[39m:\u001b[32m6\u001b[39m)",
      "  ammonite.$sess.cell50$Helper.sumR(\u001b[32mcell50.sc\u001b[39m:\u001b[32m6\u001b[39m)",
      "  ammonite.$sess.cell50$Helper.sumR(\u001b[32mcell50.sc\u001b[39m:\u001b[32m6\u001b[39m)",
      "  ammonite.$sess.cell50$Helper.sumR(\u001b[32mcell50.sc\u001b[39m:\u001b[32m6\u001b[39m)",
      "  ammonite.$sess.cell50$Helper.sumR(\u001b[32mcell50.sc\u001b[39m:\u001b[32m6\u001b[39m)",
      "  ammonite.$sess.cell50$Helper.sumR(\u001b[32mcell50.sc\u001b[39m:\u001b[32m6\u001b[39m)",
      "  ammonite.$sess.cell50$Helper.sumR(\u001b[32mcell50.sc\u001b[39m:\u001b[32m6\u001b[39m)",
      "  ammonite.$sess.cell50$Helper.sumR(\u001b[32mcell50.sc\u001b[39m:\u001b[32m6\u001b[39m)",
      "  ammonite.$sess.cell50$Helper.sumR(\u001b[32mcell50.sc\u001b[39m:\u001b[32m6\u001b[39m)",
      "  ammonite.$sess.cell50$Helper.sumR(\u001b[32mcell50.sc\u001b[39m:\u001b[32m6\u001b[39m)",
      "  ammonite.$sess.cell50$Helper.sumR(\u001b[32mcell50.sc\u001b[39m:\u001b[32m6\u001b[39m)",
      "  ammonite.$sess.cell50$Helper.sumR(\u001b[32mcell50.sc\u001b[39m:\u001b[32m6\u001b[39m)",
      "  ammonite.$sess.cell50$Helper.sumR(\u001b[32mcell50.sc\u001b[39m:\u001b[32m6\u001b[39m)",
      "  ammonite.$sess.cell50$Helper.sumR(\u001b[32mcell50.sc\u001b[39m:\u001b[32m6\u001b[39m)",
      "  ammonite.$sess.cell50$Helper.sumR(\u001b[32mcell50.sc\u001b[39m:\u001b[32m6\u001b[39m)",
      "  ammonite.$sess.cell50$Helper.sumR(\u001b[32mcell50.sc\u001b[39m:\u001b[32m6\u001b[39m)",
      "  ammonite.$sess.cell50$Helper.sumR(\u001b[32mcell50.sc\u001b[39m:\u001b[32m6\u001b[39m)",
      "  ammonite.$sess.cell50$Helper.sumR(\u001b[32mcell50.sc\u001b[39m:\u001b[32m6\u001b[39m)",
      "  ammonite.$sess.cell50$Helper.sumR(\u001b[32mcell50.sc\u001b[39m:\u001b[32m6\u001b[39m)",
      "  ammonite.$sess.cell50$Helper.sumR(\u001b[32mcell50.sc\u001b[39m:\u001b[32m6\u001b[39m)",
      "  ammonite.$sess.cell50$Helper.sumR(\u001b[32mcell50.sc\u001b[39m:\u001b[32m6\u001b[39m)",
      "  ammonite.$sess.cell50$Helper.sumR(\u001b[32mcell50.sc\u001b[39m:\u001b[32m6\u001b[39m)",
      "  ammonite.$sess.cell50$Helper.sumR(\u001b[32mcell50.sc\u001b[39m:\u001b[32m6\u001b[39m)",
      "  ammonite.$sess.cell50$Helper.sumR(\u001b[32mcell50.sc\u001b[39m:\u001b[32m6\u001b[39m)",
      "  ammonite.$sess.cell50$Helper.sumR(\u001b[32mcell50.sc\u001b[39m:\u001b[32m6\u001b[39m)",
      "  ammonite.$sess.cell50$Helper.sumR(\u001b[32mcell50.sc\u001b[39m:\u001b[32m6\u001b[39m)",
      "  ammonite.$sess.cell50$Helper.sumR(\u001b[32mcell50.sc\u001b[39m:\u001b[32m6\u001b[39m)",
      "  ammonite.$sess.cell50$Helper.sumR(\u001b[32mcell50.sc\u001b[39m:\u001b[32m6\u001b[39m)",
      "  ammonite.$sess.cell50$Helper.sumR(\u001b[32mcell50.sc\u001b[39m:\u001b[32m6\u001b[39m)",
      "  ammonite.$sess.cell50$Helper.sumR(\u001b[32mcell50.sc\u001b[39m:\u001b[32m6\u001b[39m)",
      "  ammonite.$sess.cell50$Helper.sumR(\u001b[32mcell50.sc\u001b[39m:\u001b[32m6\u001b[39m)",
      "  ammonite.$sess.cell50$Helper.sumR(\u001b[32mcell50.sc\u001b[39m:\u001b[32m6\u001b[39m)",
      "  ammonite.$sess.cell50$Helper.sumR(\u001b[32mcell50.sc\u001b[39m:\u001b[32m6\u001b[39m)",
      "  ammonite.$sess.cell50$Helper.sumR(\u001b[32mcell50.sc\u001b[39m:\u001b[32m6\u001b[39m)",
      "  ammonite.$sess.cell50$Helper.sumR(\u001b[32mcell50.sc\u001b[39m:\u001b[32m6\u001b[39m)",
      "  ammonite.$sess.cell50$Helper.sumR(\u001b[32mcell50.sc\u001b[39m:\u001b[32m6\u001b[39m)",
      "  ammonite.$sess.cell50$Helper.sumR(\u001b[32mcell50.sc\u001b[39m:\u001b[32m6\u001b[39m)",
      "  ammonite.$sess.cell50$Helper.sumR(\u001b[32mcell50.sc\u001b[39m:\u001b[32m6\u001b[39m)",
      "  ammonite.$sess.cell50$Helper.sumR(\u001b[32mcell50.sc\u001b[39m:\u001b[32m6\u001b[39m)",
      "  ammonite.$sess.cell50$Helper.sumR(\u001b[32mcell50.sc\u001b[39m:\u001b[32m6\u001b[39m)",
      "  ammonite.$sess.cell50$Helper.sumR(\u001b[32mcell50.sc\u001b[39m:\u001b[32m6\u001b[39m)",
      "  ammonite.$sess.cell50$Helper.sumR(\u001b[32mcell50.sc\u001b[39m:\u001b[32m6\u001b[39m)",
      "  ammonite.$sess.cell50$Helper.sumR(\u001b[32mcell50.sc\u001b[39m:\u001b[32m6\u001b[39m)",
      "  ammonite.$sess.cell50$Helper.sumR(\u001b[32mcell50.sc\u001b[39m:\u001b[32m6\u001b[39m)",
      "  ammonite.$sess.cell50$Helper.sumR(\u001b[32mcell50.sc\u001b[39m:\u001b[32m6\u001b[39m)",
      "  ammonite.$sess.cell50$Helper.sumR(\u001b[32mcell50.sc\u001b[39m:\u001b[32m6\u001b[39m)",
      "  ammonite.$sess.cell50$Helper.sumR(\u001b[32mcell50.sc\u001b[39m:\u001b[32m6\u001b[39m)",
      "  ammonite.$sess.cell50$Helper.sumR(\u001b[32mcell50.sc\u001b[39m:\u001b[32m6\u001b[39m)",
      "  ammonite.$sess.cell50$Helper.sumR(\u001b[32mcell50.sc\u001b[39m:\u001b[32m6\u001b[39m)",
      "  ammonite.$sess.cell50$Helper.sumR(\u001b[32mcell50.sc\u001b[39m:\u001b[32m6\u001b[39m)",
      "  ammonite.$sess.cell50$Helper.sumR(\u001b[32mcell50.sc\u001b[39m:\u001b[32m6\u001b[39m)",
      "  ammonite.$sess.cell50$Helper.sumR(\u001b[32mcell50.sc\u001b[39m:\u001b[32m6\u001b[39m)",
      "  ammonite.$sess.cell50$Helper.sumR(\u001b[32mcell50.sc\u001b[39m:\u001b[32m6\u001b[39m)",
      "  ammonite.$sess.cell50$Helper.sumR(\u001b[32mcell50.sc\u001b[39m:\u001b[32m6\u001b[39m)",
      "  ammonite.$sess.cell50$Helper.sumR(\u001b[32mcell50.sc\u001b[39m:\u001b[32m6\u001b[39m)",
      "  ammonite.$sess.cell50$Helper.sumR(\u001b[32mcell50.sc\u001b[39m:\u001b[32m6\u001b[39m)",
      "  ammonite.$sess.cell50$Helper.sumR(\u001b[32mcell50.sc\u001b[39m:\u001b[32m6\u001b[39m)",
      "  ammonite.$sess.cell50$Helper.sumR(\u001b[32mcell50.sc\u001b[39m:\u001b[32m6\u001b[39m)",
      "  ammonite.$sess.cell50$Helper.sumR(\u001b[32mcell50.sc\u001b[39m:\u001b[32m6\u001b[39m)",
      "  ammonite.$sess.cell50$Helper.sumR(\u001b[32mcell50.sc\u001b[39m:\u001b[32m6\u001b[39m)",
      "  ammonite.$sess.cell50$Helper.sumR(\u001b[32mcell50.sc\u001b[39m:\u001b[32m6\u001b[39m)",
      "  ammonite.$sess.cell50$Helper.sumR(\u001b[32mcell50.sc\u001b[39m:\u001b[32m6\u001b[39m)",
      "  ammonite.$sess.cell50$Helper.sumR(\u001b[32mcell50.sc\u001b[39m:\u001b[32m6\u001b[39m)",
      "  ammonite.$sess.cell50$Helper.sumR(\u001b[32mcell50.sc\u001b[39m:\u001b[32m6\u001b[39m)",
      "  ammonite.$sess.cell50$Helper.sumR(\u001b[32mcell50.sc\u001b[39m:\u001b[32m6\u001b[39m)",
      "  ammonite.$sess.cell50$Helper.sumR(\u001b[32mcell50.sc\u001b[39m:\u001b[32m6\u001b[39m)",
      "  ammonite.$sess.cell50$Helper.sumR(\u001b[32mcell50.sc\u001b[39m:\u001b[32m6\u001b[39m)",
      "  ammonite.$sess.cell50$Helper.sumR(\u001b[32mcell50.sc\u001b[39m:\u001b[32m6\u001b[39m)",
      "  ammonite.$sess.cell50$Helper.sumR(\u001b[32mcell50.sc\u001b[39m:\u001b[32m6\u001b[39m)",
      "  ammonite.$sess.cell50$Helper.sumR(\u001b[32mcell50.sc\u001b[39m:\u001b[32m6\u001b[39m)",
      "  ammonite.$sess.cell50$Helper.sumR(\u001b[32mcell50.sc\u001b[39m:\u001b[32m6\u001b[39m)",
      "  ammonite.$sess.cell50$Helper.sumR(\u001b[32mcell50.sc\u001b[39m:\u001b[32m6\u001b[39m)",
      "  ammonite.$sess.cell50$Helper.sumR(\u001b[32mcell50.sc\u001b[39m:\u001b[32m6\u001b[39m)",
      "  ammonite.$sess.cell50$Helper.sumR(\u001b[32mcell50.sc\u001b[39m:\u001b[32m6\u001b[39m)",
      "  ammonite.$sess.cell50$Helper.sumR(\u001b[32mcell50.sc\u001b[39m:\u001b[32m6\u001b[39m)",
      "  ammonite.$sess.cell50$Helper.sumR(\u001b[32mcell50.sc\u001b[39m:\u001b[32m6\u001b[39m)",
      "  ammonite.$sess.cell50$Helper.sumR(\u001b[32mcell50.sc\u001b[39m:\u001b[32m6\u001b[39m)",
      "  ammonite.$sess.cell50$Helper.sumR(\u001b[32mcell50.sc\u001b[39m:\u001b[32m6\u001b[39m)",
      "  ammonite.$sess.cell50$Helper.sumR(\u001b[32mcell50.sc\u001b[39m:\u001b[32m6\u001b[39m)",
      "  ammonite.$sess.cell50$Helper.sumR(\u001b[32mcell50.sc\u001b[39m:\u001b[32m6\u001b[39m)",
      "  ammonite.$sess.cell50$Helper.sumR(\u001b[32mcell50.sc\u001b[39m:\u001b[32m6\u001b[39m)",
      "  ammonite.$sess.cell50$Helper.sumR(\u001b[32mcell50.sc\u001b[39m:\u001b[32m6\u001b[39m)",
      "  ammonite.$sess.cell50$Helper.sumR(\u001b[32mcell50.sc\u001b[39m:\u001b[32m6\u001b[39m)",
      "  ammonite.$sess.cell50$Helper.sumR(\u001b[32mcell50.sc\u001b[39m:\u001b[32m6\u001b[39m)",
      "  ammonite.$sess.cell50$Helper.sumR(\u001b[32mcell50.sc\u001b[39m:\u001b[32m6\u001b[39m)",
      "  ammonite.$sess.cell50$Helper.sumR(\u001b[32mcell50.sc\u001b[39m:\u001b[32m6\u001b[39m)",
      "  ammonite.$sess.cell50$Helper.sumR(\u001b[32mcell50.sc\u001b[39m:\u001b[32m6\u001b[39m)",
      "  ammonite.$sess.cell50$Helper.sumR(\u001b[32mcell50.sc\u001b[39m:\u001b[32m6\u001b[39m)",
      "  ammonite.$sess.cell50$Helper.sumR(\u001b[32mcell50.sc\u001b[39m:\u001b[32m6\u001b[39m)",
      "  ammonite.$sess.cell50$Helper.sumR(\u001b[32mcell50.sc\u001b[39m:\u001b[32m6\u001b[39m)",
      "  ammonite.$sess.cell50$Helper.sumR(\u001b[32mcell50.sc\u001b[39m:\u001b[32m6\u001b[39m)",
      "  ammonite.$sess.cell50$Helper.sumR(\u001b[32mcell50.sc\u001b[39m:\u001b[32m6\u001b[39m)",
      "  ammonite.$sess.cell50$Helper.sumR(\u001b[32mcell50.sc\u001b[39m:\u001b[32m6\u001b[39m)",
      "  ammonite.$sess.cell50$Helper.sumR(\u001b[32mcell50.sc\u001b[39m:\u001b[32m6\u001b[39m)",
      "  ammonite.$sess.cell50$Helper.sumR(\u001b[32mcell50.sc\u001b[39m:\u001b[32m6\u001b[39m)",
      "  ammonite.$sess.cell50$Helper.sumR(\u001b[32mcell50.sc\u001b[39m:\u001b[32m6\u001b[39m)",
      "  ammonite.$sess.cell50$Helper.sumR(\u001b[32mcell50.sc\u001b[39m:\u001b[32m6\u001b[39m)",
      "  ammonite.$sess.cell50$Helper.sumR(\u001b[32mcell50.sc\u001b[39m:\u001b[32m6\u001b[39m)",
      "  ammonite.$sess.cell50$Helper.sumR(\u001b[32mcell50.sc\u001b[39m:\u001b[32m6\u001b[39m)",
      "  ammonite.$sess.cell50$Helper.sumR(\u001b[32mcell50.sc\u001b[39m:\u001b[32m6\u001b[39m)",
      "  ammonite.$sess.cell50$Helper.sumR(\u001b[32mcell50.sc\u001b[39m:\u001b[32m6\u001b[39m)",
      "  ammonite.$sess.cell50$Helper.sumR(\u001b[32mcell50.sc\u001b[39m:\u001b[32m6\u001b[39m)",
      "  ammonite.$sess.cell50$Helper.sumR(\u001b[32mcell50.sc\u001b[39m:\u001b[32m6\u001b[39m)",
      "  ammonite.$sess.cell50$Helper.sumR(\u001b[32mcell50.sc\u001b[39m:\u001b[32m6\u001b[39m)",
      "  ammonite.$sess.cell50$Helper.sumR(\u001b[32mcell50.sc\u001b[39m:\u001b[32m6\u001b[39m)",
      "  ammonite.$sess.cell50$Helper.sumR(\u001b[32mcell50.sc\u001b[39m:\u001b[32m6\u001b[39m)",
      "  ammonite.$sess.cell50$Helper.sumR(\u001b[32mcell50.sc\u001b[39m:\u001b[32m6\u001b[39m)",
      "  ammonite.$sess.cell50$Helper.sumR(\u001b[32mcell50.sc\u001b[39m:\u001b[32m6\u001b[39m)",
      "  ammonite.$sess.cell50$Helper.sumR(\u001b[32mcell50.sc\u001b[39m:\u001b[32m6\u001b[39m)",
      "  ammonite.$sess.cell50$Helper.sumR(\u001b[32mcell50.sc\u001b[39m:\u001b[32m6\u001b[39m)",
      "  ammonite.$sess.cell50$Helper.sumR(\u001b[32mcell50.sc\u001b[39m:\u001b[32m6\u001b[39m)",
      "  ammonite.$sess.cell50$Helper.sumR(\u001b[32mcell50.sc\u001b[39m:\u001b[32m6\u001b[39m)",
      "  ammonite.$sess.cell50$Helper.sumR(\u001b[32mcell50.sc\u001b[39m:\u001b[32m6\u001b[39m)",
      "  ammonite.$sess.cell50$Helper.sumR(\u001b[32mcell50.sc\u001b[39m:\u001b[32m6\u001b[39m)",
      "  ammonite.$sess.cell50$Helper.sumR(\u001b[32mcell50.sc\u001b[39m:\u001b[32m6\u001b[39m)",
      "  ammonite.$sess.cell50$Helper.sumR(\u001b[32mcell50.sc\u001b[39m:\u001b[32m6\u001b[39m)",
      "  ammonite.$sess.cell50$Helper.sumR(\u001b[32mcell50.sc\u001b[39m:\u001b[32m6\u001b[39m)",
      "  ammonite.$sess.cell50$Helper.sumR(\u001b[32mcell50.sc\u001b[39m:\u001b[32m6\u001b[39m)",
      "  ammonite.$sess.cell50$Helper.sumR(\u001b[32mcell50.sc\u001b[39m:\u001b[32m6\u001b[39m)",
      "  ammonite.$sess.cell50$Helper.sumR(\u001b[32mcell50.sc\u001b[39m:\u001b[32m6\u001b[39m)",
      "  ammonite.$sess.cell50$Helper.sumR(\u001b[32mcell50.sc\u001b[39m:\u001b[32m6\u001b[39m)",
      "  ammonite.$sess.cell50$Helper.sumR(\u001b[32mcell50.sc\u001b[39m:\u001b[32m6\u001b[39m)",
      "  ammonite.$sess.cell50$Helper.sumR(\u001b[32mcell50.sc\u001b[39m:\u001b[32m6\u001b[39m)",
      "  ammonite.$sess.cell50$Helper.sumR(\u001b[32mcell50.sc\u001b[39m:\u001b[32m6\u001b[39m)",
      "  ammonite.$sess.cell50$Helper.sumR(\u001b[32mcell50.sc\u001b[39m:\u001b[32m6\u001b[39m)",
      "  ammonite.$sess.cell50$Helper.sumR(\u001b[32mcell50.sc\u001b[39m:\u001b[32m6\u001b[39m)",
      "  ammonite.$sess.cell50$Helper.sumR(\u001b[32mcell50.sc\u001b[39m:\u001b[32m6\u001b[39m)",
      "  ammonite.$sess.cell50$Helper.sumR(\u001b[32mcell50.sc\u001b[39m:\u001b[32m6\u001b[39m)",
      "  ammonite.$sess.cell50$Helper.sumR(\u001b[32mcell50.sc\u001b[39m:\u001b[32m6\u001b[39m)",
      "  ammonite.$sess.cell50$Helper.sumR(\u001b[32mcell50.sc\u001b[39m:\u001b[32m6\u001b[39m)",
      "  ammonite.$sess.cell50$Helper.sumR(\u001b[32mcell50.sc\u001b[39m:\u001b[32m6\u001b[39m)",
      "  ammonite.$sess.cell50$Helper.sumR(\u001b[32mcell50.sc\u001b[39m:\u001b[32m6\u001b[39m)",
      "  ammonite.$sess.cell50$Helper.sumR(\u001b[32mcell50.sc\u001b[39m:\u001b[32m6\u001b[39m)",
      "  ammonite.$sess.cell50$Helper.sumR(\u001b[32mcell50.sc\u001b[39m:\u001b[32m6\u001b[39m)",
      "  ammonite.$sess.cell50$Helper.sumR(\u001b[32mcell50.sc\u001b[39m:\u001b[32m6\u001b[39m)",
      "  ammonite.$sess.cell50$Helper.sumR(\u001b[32mcell50.sc\u001b[39m:\u001b[32m6\u001b[39m)",
      "  ammonite.$sess.cell50$Helper.sumR(\u001b[32mcell50.sc\u001b[39m:\u001b[32m6\u001b[39m)",
      "  ammonite.$sess.cell50$Helper.sumR(\u001b[32mcell50.sc\u001b[39m:\u001b[32m6\u001b[39m)",
      "  ammonite.$sess.cell50$Helper.sumR(\u001b[32mcell50.sc\u001b[39m:\u001b[32m6\u001b[39m)",
      "  ammonite.$sess.cell50$Helper.sumR(\u001b[32mcell50.sc\u001b[39m:\u001b[32m6\u001b[39m)",
      "  ammonite.$sess.cell50$Helper.sumR(\u001b[32mcell50.sc\u001b[39m:\u001b[32m6\u001b[39m)",
      "  ammonite.$sess.cell50$Helper.sumR(\u001b[32mcell50.sc\u001b[39m:\u001b[32m6\u001b[39m)",
      "  ammonite.$sess.cell50$Helper.sumR(\u001b[32mcell50.sc\u001b[39m:\u001b[32m6\u001b[39m)",
      "  ammonite.$sess.cell50$Helper.sumR(\u001b[32mcell50.sc\u001b[39m:\u001b[32m6\u001b[39m)",
      "  ammonite.$sess.cell50$Helper.sumR(\u001b[32mcell50.sc\u001b[39m:\u001b[32m6\u001b[39m)",
      "  ammonite.$sess.cell50$Helper.sumR(\u001b[32mcell50.sc\u001b[39m:\u001b[32m6\u001b[39m)",
      "  ammonite.$sess.cell50$Helper.sumR(\u001b[32mcell50.sc\u001b[39m:\u001b[32m6\u001b[39m)",
      "  ammonite.$sess.cell50$Helper.sumR(\u001b[32mcell50.sc\u001b[39m:\u001b[32m6\u001b[39m)",
      "  ammonite.$sess.cell50$Helper.sumR(\u001b[32mcell50.sc\u001b[39m:\u001b[32m6\u001b[39m)",
      "  ammonite.$sess.cell50$Helper.sumR(\u001b[32mcell50.sc\u001b[39m:\u001b[32m6\u001b[39m)"
     ]
    }
   ],
   "source": [
    "//sumI(List.fill(10000)(1))\n",
    "sumR(List.fill(100000)(1))"
   ]
  },
  {
   "cell_type": "markdown",
   "metadata": {},
   "source": [
    "### Example: multiplying list elements"
   ]
  },
  {
   "cell_type": "markdown",
   "metadata": {},
   "source": [
    "Let's multiply the elements of a list. If the list is empty we return the identity element for integers."
   ]
  },
  {
   "cell_type": "code",
   "execution_count": 22,
   "metadata": {},
   "outputs": [
    {
     "data": {
      "text/plain": [
       "defined \u001b[32mclass\u001b[39m \u001b[36mTestProduct\u001b[39m"
      ]
     },
     "execution_count": 22,
     "metadata": {},
     "output_type": "execute_result"
    }
   ],
   "source": [
    "class TestProduct(product: List[Int] => Int) extends AnyFlatSpec with should.Matchers:\n",
    "    \"product\" should \"work\" in:\n",
    "        ???"
   ]
  },
  {
   "cell_type": "markdown",
   "metadata": {},
   "source": [
    " This is the common recursive implementation:"
   ]
  },
  {
   "cell_type": "code",
   "execution_count": 23,
   "metadata": {},
   "outputs": [
    {
     "data": {
      "text/plain": [
       "defined \u001b[32mfunction\u001b[39m \u001b[36mproduct\u001b[39m"
      ]
     },
     "execution_count": 23,
     "metadata": {},
     "output_type": "execute_result"
    }
   ],
   "source": []
  },
  {
   "cell_type": "code",
   "execution_count": 24,
   "metadata": {},
   "outputs": [
    {
     "name": "stdout",
     "output_type": "stream",
     "text": [
      "\u001b[32mcell22$Helper$TestProduct:\u001b[0m\n",
      "\u001b[32mproduct\u001b[0m\n",
      "\u001b[32m- should work\u001b[0m\n"
     ]
    }
   ],
   "source": [
    "run(TestProduct(product))"
   ]
  },
  {
   "cell_type": "markdown",
   "metadata": {},
   "source": [
    "But we can optimize the function a little bit. Note that if the number 0 belongs to the list, then the result is 0, no matter how many elements the list has. So, once we find the element 0 it's a waste of resources to make the recursive call. Let's take this into account."
   ]
  },
  {
   "cell_type": "code",
   "execution_count": 25,
   "metadata": {},
   "outputs": [
    {
     "data": {
      "text/plain": [
       "defined \u001b[32mfunction\u001b[39m \u001b[36mproduct2\u001b[39m"
      ]
     },
     "execution_count": 25,
     "metadata": {},
     "output_type": "execute_result"
    }
   ],
   "source": [
    "// optimization for 0\n",
    "\n"
   ]
  },
  {
   "cell_type": "code",
   "execution_count": 26,
   "metadata": {},
   "outputs": [
    {
     "name": "stdout",
     "output_type": "stream",
     "text": [
      "\u001b[32mcell22$Helper$TestProduct:\u001b[0m\n",
      "\u001b[32mproduct\u001b[0m\n",
      "\u001b[32m- should work\u001b[0m\n"
     ]
    }
   ],
   "source": [
    "run(TestProduct(product2))"
   ]
  },
  {
   "cell_type": "markdown",
   "metadata": {},
   "source": [
    "A similar optimization can be made for the tail-recursive implementation."
   ]
  },
  {
   "cell_type": "markdown",
   "metadata": {},
   "source": [
    "### Example: membership"
   ]
  },
  {
   "cell_type": "markdown",
   "metadata": {},
   "source": [
    "Let's implement a function that given a list and an element, returns whether the element belongs to that list."
   ]
  },
  {
   "cell_type": "code",
   "execution_count": 30,
   "metadata": {},
   "outputs": [
    {
     "data": {
      "text/plain": [
       "defined \u001b[32mclass\u001b[39m \u001b[36mTestMember\u001b[39m"
      ]
     },
     "execution_count": 30,
     "metadata": {},
     "output_type": "execute_result"
    }
   ],
   "source": [
    "class TestMember(member: (List[Int], Int) => Boolean) extends AnyFlatSpec with should.Matchers:\n",
    "    \"member\" should \"work\" in:\n",
    "        member(Nil, 6) shouldBe false \n",
    "        member(List(1, 8 ,5), 6) shouldBe false \n",
    "        member(List(1, 8 ,5), 1) shouldBe true \n",
    "        member(List(1, 8 ,5), 5) shouldBe true \n",
    "        member(List(1, 8 ,5), 8) shouldBe true "
   ]
  },
  {
   "cell_type": "code",
   "execution_count": 33,
   "metadata": {},
   "outputs": [
    {
     "data": {
      "text/plain": [
       "defined \u001b[32mfunction\u001b[39m \u001b[36mmember\u001b[39m"
      ]
     },
     "execution_count": 33,
     "metadata": {},
     "output_type": "execute_result"
    }
   ],
   "source": [
    "def member(l: List[Int], e: Int): Boolean = \n",
    "    l match \n",
    "        case Nil => ??? : Boolean\n",
    "        case head :: tail => \n",
    "            val tailSol: Boolean = ??? \n",
    "            ??? : Boolean "
   ]
  },
  {
   "cell_type": "code",
   "execution_count": 36,
   "metadata": {},
   "outputs": [
    {
     "data": {
      "text/plain": [
       "defined \u001b[32mfunction\u001b[39m \u001b[36mmemberR\u001b[39m"
      ]
     },
     "execution_count": 36,
     "metadata": {},
     "output_type": "execute_result"
    }
   ],
   "source": [
    "def memberR(l: List[Int], e: Int): Boolean = \n",
    "    l match \n",
    "        case Nil => false : Boolean\n",
    "        case head :: tail => \n",
    "            val tailSol: Boolean = memberR(tail, e)\n",
    "            /*if (head == e) true \n",
    "            else tailSol : Boolean */\n",
    "            (head == e) || tailSol"
   ]
  },
  {
   "cell_type": "code",
   "execution_count": 36,
   "metadata": {},
   "outputs": [
    {
     "data": {
      "text/plain": [
       "defined \u001b[32mfunction\u001b[39m \u001b[36mmemberR\u001b[39m"
      ]
     },
     "execution_count": 36,
     "metadata": {},
     "output_type": "execute_result"
    }
   ],
   "source": [
    "def memberR(l: List[Int], e: Int): Boolean = \n",
    "    l match \n",
    "        case Nil => false : Boolean\n",
    "        case head :: tail => \n",
    "            (head == e) || memberR(tail, e)"
   ]
  },
  {
   "cell_type": "code",
   "execution_count": 36,
   "metadata": {},
   "outputs": [
    {
     "data": {
      "text/plain": [
       "defined \u001b[32mfunction\u001b[39m \u001b[36mmemberR\u001b[39m"
      ]
     },
     "execution_count": 36,
     "metadata": {},
     "output_type": "execute_result"
    }
   ],
   "source": [
    "def memberR(l: List[Int], e: Int): Boolean = \n",
    "    l match \n",
    "        case Nil => false : Boolean\n",
    "        case head :: tail if head == e => true\n",
    "        case _ :: tail => memberR(tail, e)"
   ]
  },
  {
   "cell_type": "code",
   "execution_count": 47,
   "metadata": {},
   "outputs": [
    {
     "data": {
      "text/plain": [
       "defined \u001b[32mfunction\u001b[39m \u001b[36mmemberR\u001b[39m"
      ]
     },
     "execution_count": 47,
     "metadata": {},
     "output_type": "execute_result"
    }
   ],
   "source": [
    "def memberR(l: List[Int], e: Int): Boolean = \n",
    "    l match \n",
    "        case Nil => false : Boolean\n",
    "        case `e` :: tail => true\n",
    "        case _ :: tail => memberR(tail, e)"
   ]
  },
  {
   "cell_type": "code",
   "execution_count": 48,
   "metadata": {},
   "outputs": [
    {
     "name": "stdout",
     "output_type": "stream",
     "text": [
      "\u001b[32mcell30$Helper$TestMember:\u001b[0m\n",
      "\u001b[32mmember\u001b[0m\n",
      "\u001b[32m- should work\u001b[0m\n"
     ]
    }
   ],
   "source": [
    "run(TestMember(memberR))"
   ]
  },
  {
   "cell_type": "code",
   "execution_count": 38,
   "metadata": {},
   "outputs": [
    {
     "data": {
      "text/plain": [
       "defined \u001b[32mfunction\u001b[39m \u001b[36mmemberI\u001b[39m"
      ]
     },
     "execution_count": 38,
     "metadata": {},
     "output_type": "execute_result"
    }
   ],
   "source": [
    "def memberI(l: List[Int], e: Int): Boolean = \n",
    "    var out: Boolean = ???\n",
    "    for (e <- l)\n",
    "        out = ???(out, e)\n",
    "    out"
   ]
  },
  {
   "cell_type": "code",
   "execution_count": 45,
   "metadata": {},
   "outputs": [
    {
     "data": {
      "text/plain": [
       "defined \u001b[32mfunction\u001b[39m \u001b[36mmemberI\u001b[39m"
      ]
     },
     "execution_count": 45,
     "metadata": {},
     "output_type": "execute_result"
    }
   ],
   "source": [
    "def memberI(l: List[Int], e: Int): Boolean = \n",
    "    var out: Boolean = false\n",
    "    var aux: List[Int] = l\n",
    "    while (aux != Nil && !out)\n",
    "        out = out || aux.head == e\n",
    "        aux = aux.tail\n",
    "    out"
   ]
  },
  {
   "cell_type": "code",
   "execution_count": 39,
   "metadata": {},
   "outputs": [
    {
     "data": {
      "text/plain": [
       "defined \u001b[32mfunction\u001b[39m \u001b[36mmemberI\u001b[39m"
      ]
     },
     "execution_count": 39,
     "metadata": {},
     "output_type": "execute_result"
    }
   ],
   "source": [
    "def memberI(l: List[Int], e: Int): Boolean = \n",
    "    var out: Boolean = false\n",
    "    for (e1 <- l)\n",
    "        out = out || e1 == e\n",
    "    out"
   ]
  },
  {
   "cell_type": "code",
   "execution_count": 46,
   "metadata": {},
   "outputs": [
    {
     "name": "stdout",
     "output_type": "stream",
     "text": [
      "\u001b[32mcell30$Helper$TestMember:\u001b[0m\n",
      "\u001b[32mmember\u001b[0m\n",
      "\u001b[32m- should work\u001b[0m\n"
     ]
    }
   ],
   "source": [
    "run(TestMember(memberI))"
   ]
  },
  {
   "cell_type": "markdown",
   "metadata": {},
   "source": [
    "We can also pattern match against a specific value as follows:"
   ]
  },
  {
   "cell_type": "code",
   "execution_count": 30,
   "metadata": {},
   "outputs": [
    {
     "data": {
      "text/plain": [
       "defined \u001b[32mfunction\u001b[39m \u001b[36mmember\u001b[39m"
      ]
     },
     "execution_count": 30,
     "metadata": {},
     "output_type": "execute_result"
    }
   ],
   "source": []
  },
  {
   "cell_type": "markdown",
   "metadata": {},
   "source": [
    "### Example: last element"
   ]
  },
  {
   "cell_type": "markdown",
   "metadata": {},
   "source": [
    "Let's implement a function that returns the last element of a given list. Note that an empty list does not have elements, and, hence, does not have a last element."
   ]
  },
  {
   "cell_type": "code",
   "execution_count": 31,
   "metadata": {},
   "outputs": [
    {
     "data": {
      "text/plain": [
       "defined \u001b[32mclass\u001b[39m \u001b[36mTestLast\u001b[39m"
      ]
     },
     "execution_count": 31,
     "metadata": {},
     "output_type": "execute_result"
    }
   ],
   "source": [
    "class TestLast(last: List[Int] => Option[Int]) extends AnyFlatSpec with should.Matchers:\n",
    "    \"last\" should \"work\" in:\n",
    "        ???"
   ]
  },
  {
   "cell_type": "code",
   "execution_count": 32,
   "metadata": {},
   "outputs": [
    {
     "data": {
      "text/plain": [
       "defined \u001b[32mfunction\u001b[39m \u001b[36mlast\u001b[39m"
      ]
     },
     "execution_count": 32,
     "metadata": {},
     "output_type": "execute_result"
    }
   ],
   "source": [
    "@annotation.tailrec\n"
   ]
  },
  {
   "cell_type": "code",
   "execution_count": 33,
   "metadata": {},
   "outputs": [
    {
     "name": "stdout",
     "output_type": "stream",
     "text": [
      "\u001b[32mcell31$Helper$TestLast:\u001b[0m\n",
      "\u001b[32mlast\u001b[0m\n",
      "\u001b[32m- should work\u001b[0m\n"
     ]
    }
   ],
   "source": [
    "run(TestLast(last))"
   ]
  },
  {
   "cell_type": "markdown",
   "metadata": {},
   "source": [
    "### Example: insert last"
   ]
  },
  {
   "cell_type": "markdown",
   "metadata": {},
   "source": [
    "Now, a function that allows us to insert an element at the end of the list. "
   ]
  },
  {
   "cell_type": "code",
   "execution_count": 12,
   "metadata": {},
   "outputs": [
    {
     "data": {
      "text/plain": [
       "defined \u001b[32mclass\u001b[39m \u001b[36mTestInsertLast\u001b[39m"
      ]
     },
     "execution_count": 12,
     "metadata": {},
     "output_type": "execute_result"
    }
   ],
   "source": [
    "class TestInsertLast(insertLast: (List[Int], Int) => List[Int]) \n",
    "extends AnyFlatSpec with should.Matchers:\n",
    "    \"insertLast\" should \"work\" in:\n",
    "        insertLast(List(1,2,3), 4) shouldBe List(1,2,3,4)\n",
    "        insertLast(1::List(2,3), 4) shouldBe 1::List(2,3,4)\n",
    "        insertLast(List(), 1) shouldBe List(1)"
   ]
  },
  {
   "cell_type": "code",
   "execution_count": 13,
   "metadata": {},
   "outputs": [
    {
     "data": {
      "text/plain": [
       "defined \u001b[32mfunction\u001b[39m \u001b[36minsertLast\u001b[39m"
      ]
     },
     "execution_count": 13,
     "metadata": {},
     "output_type": "execute_result"
    }
   ],
   "source": [
    "def insertLast[A](l: List[A], e: A): List[A] = \n",
    "    l match \n",
    "        case Nil => ??? : List[A] \n",
    "        case head :: tail => \n",
    "            val tailSol: List[A] = insertLast(tail, e)\n",
    "            ??? : List[A]"
   ]
  },
  {
   "cell_type": "code",
   "execution_count": 14,
   "metadata": {},
   "outputs": [
    {
     "data": {
      "text/plain": [
       "defined \u001b[32mfunction\u001b[39m \u001b[36minsertLast\u001b[39m"
      ]
     },
     "execution_count": 14,
     "metadata": {},
     "output_type": "execute_result"
    }
   ],
   "source": [
    "def insertLast[A](l: List[A], e: A): List[A] = \n",
    "    l match \n",
    "        case Nil => List(e) : List[A] \n",
    "        case head :: tail => \n",
    "            val tailSol: List[A] = insertLast(tail, e)\n",
    "            head :: tailSol : List[A]"
   ]
  },
  {
   "cell_type": "code",
   "execution_count": 15,
   "metadata": {},
   "outputs": [
    {
     "name": "stdout",
     "output_type": "stream",
     "text": [
      "\u001b[32mcell12$Helper$TestInsertLast:\u001b[0m\n",
      "\u001b[32minsertLast\u001b[0m\n",
      "\u001b[32m- should work\u001b[0m\n"
     ]
    }
   ],
   "source": [
    "run(TestInsertLast(insertLast))"
   ]
  },
  {
   "cell_type": "markdown",
   "metadata": {},
   "source": [
    "### Example: reverse lists"
   ]
  },
  {
   "cell_type": "markdown",
   "metadata": {},
   "source": [
    "Implement a function which receives a list and returns its reverse."
   ]
  },
  {
   "cell_type": "code",
   "execution_count": 18,
   "metadata": {},
   "outputs": [
    {
     "data": {
      "text/plain": [
       "\u001b[36mres18\u001b[39m: \u001b[32mList\u001b[39m[\u001b[32mInt\u001b[39m] = \u001b[33mList\u001b[39m(\u001b[32m1\u001b[39m, \u001b[32m2\u001b[39m, \u001b[32m3\u001b[39m, \u001b[32m4\u001b[39m)"
      ]
     },
     "execution_count": 18,
     "metadata": {},
     "output_type": "execute_result"
    }
   ],
   "source": [
    "List(1,2,3) :+ 4"
   ]
  },
  {
   "cell_type": "code",
   "execution_count": 17,
   "metadata": {},
   "outputs": [
    {
     "data": {
      "text/plain": [
       "defined \u001b[32mclass\u001b[39m \u001b[36mTestReverse\u001b[39m"
      ]
     },
     "execution_count": 17,
     "metadata": {},
     "output_type": "execute_result"
    }
   ],
   "source": [
    "class TestReverse(reverse: List[Int] => List[Int]) extends AnyFlatSpec with should.Matchers:\n",
    "    \"reverse\" should \"work\" in:\n",
    "        reverse(List(1,2,3,4)) shouldBe List(4,3,2,1)\n",
    "        reverse(1::List(2,3,4)) shouldBe insertLast(List(4,3,2), 1)\n",
    "        reverse(List()) shouldBe List()\n",
    "        reverse(List(7,3,2)) shouldBe List(2,3,7)"
   ]
  },
  {
   "cell_type": "code",
   "execution_count": 20,
   "metadata": {},
   "outputs": [
    {
     "data": {
      "text/plain": [
       "defined \u001b[32mfunction\u001b[39m \u001b[36mreverse\u001b[39m"
      ]
     },
     "execution_count": 20,
     "metadata": {},
     "output_type": "execute_result"
    }
   ],
   "source": [
    "// Really inefficient \n",
    "\n",
    "def reverse(l: List[Int]): List[Int] = \n",
    "    l match \n",
    "        case Nil => Nil \n",
    "        case head :: tail => \n",
    "            val tailSol: List[Int] = reverse(tail)\n",
    "            insertLast(tailSol, head) : List[Int]"
   ]
  },
  {
   "cell_type": "code",
   "execution_count": 23,
   "metadata": {},
   "outputs": [
    {
     "data": {
      "text/plain": [
       "defined \u001b[32mfunction\u001b[39m \u001b[36mreverse\u001b[39m"
      ]
     },
     "execution_count": 23,
     "metadata": {},
     "output_type": "execute_result"
    }
   ],
   "source": [
    "// Really inefficient \n",
    "\n",
    "def reverse(l: List[Char]): List[Char] = \n",
    "    l match \n",
    "        case Nil => Nil \n",
    "        case head :: tail => insertLast(reverse(tail), head)"
   ]
  },
  {
   "cell_type": "code",
   "execution_count": 26,
   "metadata": {},
   "outputs": [
    {
     "data": {
      "text/plain": [
       "defined \u001b[32mfunction\u001b[39m \u001b[36mreverse\u001b[39m"
      ]
     },
     "execution_count": 26,
     "metadata": {},
     "output_type": "execute_result"
    }
   ],
   "source": [
    "// Really inefficient \n",
    "\n",
    "def reverse[A](l: List[A]): List[A] = \n",
    "    l match \n",
    "        case Nil => Nil \n",
    "        case head :: tail => insertLast(reverse(tail), head)"
   ]
  },
  {
   "cell_type": "code",
   "execution_count": 34,
   "metadata": {
    "collapsed": true,
    "jupyter": {
     "outputs_hidden": true
    },
    "tags": []
   },
   "outputs": [
    {
     "ename": "java.lang.StackOverflowError",
     "evalue": "null",
     "output_type": "error",
     "traceback": [
      "\u001b[31mjava.lang.StackOverflowError\u001b[39m",
      "  scala.collection.immutable.List.equals(\u001b[32mList.scala\u001b[39m:\u001b[32m612\u001b[39m)",
      "  ammonite.$sess.cell26$Helper.reverse(\u001b[32mcell26.sc\u001b[39m:\u001b[32m3\u001b[39m)",
      "  ammonite.$sess.cell26$Helper.reverse(\u001b[32mcell26.sc\u001b[39m:\u001b[32m4\u001b[39m)",
      "  ammonite.$sess.cell26$Helper.reverse(\u001b[32mcell26.sc\u001b[39m:\u001b[32m4\u001b[39m)",
      "  ammonite.$sess.cell26$Helper.reverse(\u001b[32mcell26.sc\u001b[39m:\u001b[32m4\u001b[39m)",
      "  ammonite.$sess.cell26$Helper.reverse(\u001b[32mcell26.sc\u001b[39m:\u001b[32m4\u001b[39m)",
      "  ammonite.$sess.cell26$Helper.reverse(\u001b[32mcell26.sc\u001b[39m:\u001b[32m4\u001b[39m)",
      "  ammonite.$sess.cell26$Helper.reverse(\u001b[32mcell26.sc\u001b[39m:\u001b[32m4\u001b[39m)",
      "  ammonite.$sess.cell26$Helper.reverse(\u001b[32mcell26.sc\u001b[39m:\u001b[32m4\u001b[39m)",
      "  ammonite.$sess.cell26$Helper.reverse(\u001b[32mcell26.sc\u001b[39m:\u001b[32m4\u001b[39m)",
      "  ammonite.$sess.cell26$Helper.reverse(\u001b[32mcell26.sc\u001b[39m:\u001b[32m4\u001b[39m)",
      "  ammonite.$sess.cell26$Helper.reverse(\u001b[32mcell26.sc\u001b[39m:\u001b[32m4\u001b[39m)",
      "  ammonite.$sess.cell26$Helper.reverse(\u001b[32mcell26.sc\u001b[39m:\u001b[32m4\u001b[39m)",
      "  ammonite.$sess.cell26$Helper.reverse(\u001b[32mcell26.sc\u001b[39m:\u001b[32m4\u001b[39m)",
      "  ammonite.$sess.cell26$Helper.reverse(\u001b[32mcell26.sc\u001b[39m:\u001b[32m4\u001b[39m)",
      "  ammonite.$sess.cell26$Helper.reverse(\u001b[32mcell26.sc\u001b[39m:\u001b[32m4\u001b[39m)",
      "  ammonite.$sess.cell26$Helper.reverse(\u001b[32mcell26.sc\u001b[39m:\u001b[32m4\u001b[39m)",
      "  ammonite.$sess.cell26$Helper.reverse(\u001b[32mcell26.sc\u001b[39m:\u001b[32m4\u001b[39m)",
      "  ammonite.$sess.cell26$Helper.reverse(\u001b[32mcell26.sc\u001b[39m:\u001b[32m4\u001b[39m)",
      "  ammonite.$sess.cell26$Helper.reverse(\u001b[32mcell26.sc\u001b[39m:\u001b[32m4\u001b[39m)",
      "  ammonite.$sess.cell26$Helper.reverse(\u001b[32mcell26.sc\u001b[39m:\u001b[32m4\u001b[39m)",
      "  ammonite.$sess.cell26$Helper.reverse(\u001b[32mcell26.sc\u001b[39m:\u001b[32m4\u001b[39m)",
      "  ammonite.$sess.cell26$Helper.reverse(\u001b[32mcell26.sc\u001b[39m:\u001b[32m4\u001b[39m)",
      "  ammonite.$sess.cell26$Helper.reverse(\u001b[32mcell26.sc\u001b[39m:\u001b[32m4\u001b[39m)",
      "  ammonite.$sess.cell26$Helper.reverse(\u001b[32mcell26.sc\u001b[39m:\u001b[32m4\u001b[39m)",
      "  ammonite.$sess.cell26$Helper.reverse(\u001b[32mcell26.sc\u001b[39m:\u001b[32m4\u001b[39m)",
      "  ammonite.$sess.cell26$Helper.reverse(\u001b[32mcell26.sc\u001b[39m:\u001b[32m4\u001b[39m)",
      "  ammonite.$sess.cell26$Helper.reverse(\u001b[32mcell26.sc\u001b[39m:\u001b[32m4\u001b[39m)",
      "  ammonite.$sess.cell26$Helper.reverse(\u001b[32mcell26.sc\u001b[39m:\u001b[32m4\u001b[39m)",
      "  ammonite.$sess.cell26$Helper.reverse(\u001b[32mcell26.sc\u001b[39m:\u001b[32m4\u001b[39m)",
      "  ammonite.$sess.cell26$Helper.reverse(\u001b[32mcell26.sc\u001b[39m:\u001b[32m4\u001b[39m)",
      "  ammonite.$sess.cell26$Helper.reverse(\u001b[32mcell26.sc\u001b[39m:\u001b[32m4\u001b[39m)",
      "  ammonite.$sess.cell26$Helper.reverse(\u001b[32mcell26.sc\u001b[39m:\u001b[32m4\u001b[39m)",
      "  ammonite.$sess.cell26$Helper.reverse(\u001b[32mcell26.sc\u001b[39m:\u001b[32m4\u001b[39m)",
      "  ammonite.$sess.cell26$Helper.reverse(\u001b[32mcell26.sc\u001b[39m:\u001b[32m4\u001b[39m)",
      "  ammonite.$sess.cell26$Helper.reverse(\u001b[32mcell26.sc\u001b[39m:\u001b[32m4\u001b[39m)",
      "  ammonite.$sess.cell26$Helper.reverse(\u001b[32mcell26.sc\u001b[39m:\u001b[32m4\u001b[39m)",
      "  ammonite.$sess.cell26$Helper.reverse(\u001b[32mcell26.sc\u001b[39m:\u001b[32m4\u001b[39m)",
      "  ammonite.$sess.cell26$Helper.reverse(\u001b[32mcell26.sc\u001b[39m:\u001b[32m4\u001b[39m)",
      "  ammonite.$sess.cell26$Helper.reverse(\u001b[32mcell26.sc\u001b[39m:\u001b[32m4\u001b[39m)",
      "  ammonite.$sess.cell26$Helper.reverse(\u001b[32mcell26.sc\u001b[39m:\u001b[32m4\u001b[39m)",
      "  ammonite.$sess.cell26$Helper.reverse(\u001b[32mcell26.sc\u001b[39m:\u001b[32m4\u001b[39m)",
      "  ammonite.$sess.cell26$Helper.reverse(\u001b[32mcell26.sc\u001b[39m:\u001b[32m4\u001b[39m)",
      "  ammonite.$sess.cell26$Helper.reverse(\u001b[32mcell26.sc\u001b[39m:\u001b[32m4\u001b[39m)",
      "  ammonite.$sess.cell26$Helper.reverse(\u001b[32mcell26.sc\u001b[39m:\u001b[32m4\u001b[39m)",
      "  ammonite.$sess.cell26$Helper.reverse(\u001b[32mcell26.sc\u001b[39m:\u001b[32m4\u001b[39m)",
      "  ammonite.$sess.cell26$Helper.reverse(\u001b[32mcell26.sc\u001b[39m:\u001b[32m4\u001b[39m)",
      "  ammonite.$sess.cell26$Helper.reverse(\u001b[32mcell26.sc\u001b[39m:\u001b[32m4\u001b[39m)",
      "  ammonite.$sess.cell26$Helper.reverse(\u001b[32mcell26.sc\u001b[39m:\u001b[32m4\u001b[39m)",
      "  ammonite.$sess.cell26$Helper.reverse(\u001b[32mcell26.sc\u001b[39m:\u001b[32m4\u001b[39m)",
      "  ammonite.$sess.cell26$Helper.reverse(\u001b[32mcell26.sc\u001b[39m:\u001b[32m4\u001b[39m)",
      "  ammonite.$sess.cell26$Helper.reverse(\u001b[32mcell26.sc\u001b[39m:\u001b[32m4\u001b[39m)",
      "  ammonite.$sess.cell26$Helper.reverse(\u001b[32mcell26.sc\u001b[39m:\u001b[32m4\u001b[39m)",
      "  ammonite.$sess.cell26$Helper.reverse(\u001b[32mcell26.sc\u001b[39m:\u001b[32m4\u001b[39m)",
      "  ammonite.$sess.cell26$Helper.reverse(\u001b[32mcell26.sc\u001b[39m:\u001b[32m4\u001b[39m)",
      "  ammonite.$sess.cell26$Helper.reverse(\u001b[32mcell26.sc\u001b[39m:\u001b[32m4\u001b[39m)",
      "  ammonite.$sess.cell26$Helper.reverse(\u001b[32mcell26.sc\u001b[39m:\u001b[32m4\u001b[39m)",
      "  ammonite.$sess.cell26$Helper.reverse(\u001b[32mcell26.sc\u001b[39m:\u001b[32m4\u001b[39m)",
      "  ammonite.$sess.cell26$Helper.reverse(\u001b[32mcell26.sc\u001b[39m:\u001b[32m4\u001b[39m)",
      "  ammonite.$sess.cell26$Helper.reverse(\u001b[32mcell26.sc\u001b[39m:\u001b[32m4\u001b[39m)",
      "  ammonite.$sess.cell26$Helper.reverse(\u001b[32mcell26.sc\u001b[39m:\u001b[32m4\u001b[39m)",
      "  ammonite.$sess.cell26$Helper.reverse(\u001b[32mcell26.sc\u001b[39m:\u001b[32m4\u001b[39m)",
      "  ammonite.$sess.cell26$Helper.reverse(\u001b[32mcell26.sc\u001b[39m:\u001b[32m4\u001b[39m)",
      "  ammonite.$sess.cell26$Helper.reverse(\u001b[32mcell26.sc\u001b[39m:\u001b[32m4\u001b[39m)",
      "  ammonite.$sess.cell26$Helper.reverse(\u001b[32mcell26.sc\u001b[39m:\u001b[32m4\u001b[39m)",
      "  ammonite.$sess.cell26$Helper.reverse(\u001b[32mcell26.sc\u001b[39m:\u001b[32m4\u001b[39m)",
      "  ammonite.$sess.cell26$Helper.reverse(\u001b[32mcell26.sc\u001b[39m:\u001b[32m4\u001b[39m)",
      "  ammonite.$sess.cell26$Helper.reverse(\u001b[32mcell26.sc\u001b[39m:\u001b[32m4\u001b[39m)",
      "  ammonite.$sess.cell26$Helper.reverse(\u001b[32mcell26.sc\u001b[39m:\u001b[32m4\u001b[39m)",
      "  ammonite.$sess.cell26$Helper.reverse(\u001b[32mcell26.sc\u001b[39m:\u001b[32m4\u001b[39m)",
      "  ammonite.$sess.cell26$Helper.reverse(\u001b[32mcell26.sc\u001b[39m:\u001b[32m4\u001b[39m)",
      "  ammonite.$sess.cell26$Helper.reverse(\u001b[32mcell26.sc\u001b[39m:\u001b[32m4\u001b[39m)",
      "  ammonite.$sess.cell26$Helper.reverse(\u001b[32mcell26.sc\u001b[39m:\u001b[32m4\u001b[39m)",
      "  ammonite.$sess.cell26$Helper.reverse(\u001b[32mcell26.sc\u001b[39m:\u001b[32m4\u001b[39m)",
      "  ammonite.$sess.cell26$Helper.reverse(\u001b[32mcell26.sc\u001b[39m:\u001b[32m4\u001b[39m)",
      "  ammonite.$sess.cell26$Helper.reverse(\u001b[32mcell26.sc\u001b[39m:\u001b[32m4\u001b[39m)",
      "  ammonite.$sess.cell26$Helper.reverse(\u001b[32mcell26.sc\u001b[39m:\u001b[32m4\u001b[39m)",
      "  ammonite.$sess.cell26$Helper.reverse(\u001b[32mcell26.sc\u001b[39m:\u001b[32m4\u001b[39m)",
      "  ammonite.$sess.cell26$Helper.reverse(\u001b[32mcell26.sc\u001b[39m:\u001b[32m4\u001b[39m)",
      "  ammonite.$sess.cell26$Helper.reverse(\u001b[32mcell26.sc\u001b[39m:\u001b[32m4\u001b[39m)",
      "  ammonite.$sess.cell26$Helper.reverse(\u001b[32mcell26.sc\u001b[39m:\u001b[32m4\u001b[39m)",
      "  ammonite.$sess.cell26$Helper.reverse(\u001b[32mcell26.sc\u001b[39m:\u001b[32m4\u001b[39m)",
      "  ammonite.$sess.cell26$Helper.reverse(\u001b[32mcell26.sc\u001b[39m:\u001b[32m4\u001b[39m)",
      "  ammonite.$sess.cell26$Helper.reverse(\u001b[32mcell26.sc\u001b[39m:\u001b[32m4\u001b[39m)",
      "  ammonite.$sess.cell26$Helper.reverse(\u001b[32mcell26.sc\u001b[39m:\u001b[32m4\u001b[39m)",
      "  ammonite.$sess.cell26$Helper.reverse(\u001b[32mcell26.sc\u001b[39m:\u001b[32m4\u001b[39m)",
      "  ammonite.$sess.cell26$Helper.reverse(\u001b[32mcell26.sc\u001b[39m:\u001b[32m4\u001b[39m)",
      "  ammonite.$sess.cell26$Helper.reverse(\u001b[32mcell26.sc\u001b[39m:\u001b[32m4\u001b[39m)",
      "  ammonite.$sess.cell26$Helper.reverse(\u001b[32mcell26.sc\u001b[39m:\u001b[32m4\u001b[39m)",
      "  ammonite.$sess.cell26$Helper.reverse(\u001b[32mcell26.sc\u001b[39m:\u001b[32m4\u001b[39m)",
      "  ammonite.$sess.cell26$Helper.reverse(\u001b[32mcell26.sc\u001b[39m:\u001b[32m4\u001b[39m)",
      "  ammonite.$sess.cell26$Helper.reverse(\u001b[32mcell26.sc\u001b[39m:\u001b[32m4\u001b[39m)",
      "  ammonite.$sess.cell26$Helper.reverse(\u001b[32mcell26.sc\u001b[39m:\u001b[32m4\u001b[39m)",
      "  ammonite.$sess.cell26$Helper.reverse(\u001b[32mcell26.sc\u001b[39m:\u001b[32m4\u001b[39m)",
      "  ammonite.$sess.cell26$Helper.reverse(\u001b[32mcell26.sc\u001b[39m:\u001b[32m4\u001b[39m)",
      "  ammonite.$sess.cell26$Helper.reverse(\u001b[32mcell26.sc\u001b[39m:\u001b[32m4\u001b[39m)",
      "  ammonite.$sess.cell26$Helper.reverse(\u001b[32mcell26.sc\u001b[39m:\u001b[32m4\u001b[39m)",
      "  ammonite.$sess.cell26$Helper.reverse(\u001b[32mcell26.sc\u001b[39m:\u001b[32m4\u001b[39m)",
      "  ammonite.$sess.cell26$Helper.reverse(\u001b[32mcell26.sc\u001b[39m:\u001b[32m4\u001b[39m)",
      "  ammonite.$sess.cell26$Helper.reverse(\u001b[32mcell26.sc\u001b[39m:\u001b[32m4\u001b[39m)",
      "  ammonite.$sess.cell26$Helper.reverse(\u001b[32mcell26.sc\u001b[39m:\u001b[32m4\u001b[39m)",
      "  ammonite.$sess.cell26$Helper.reverse(\u001b[32mcell26.sc\u001b[39m:\u001b[32m4\u001b[39m)",
      "  ammonite.$sess.cell26$Helper.reverse(\u001b[32mcell26.sc\u001b[39m:\u001b[32m4\u001b[39m)",
      "  ammonite.$sess.cell26$Helper.reverse(\u001b[32mcell26.sc\u001b[39m:\u001b[32m4\u001b[39m)",
      "  ammonite.$sess.cell26$Helper.reverse(\u001b[32mcell26.sc\u001b[39m:\u001b[32m4\u001b[39m)",
      "  ammonite.$sess.cell26$Helper.reverse(\u001b[32mcell26.sc\u001b[39m:\u001b[32m4\u001b[39m)",
      "  ammonite.$sess.cell26$Helper.reverse(\u001b[32mcell26.sc\u001b[39m:\u001b[32m4\u001b[39m)",
      "  ammonite.$sess.cell26$Helper.reverse(\u001b[32mcell26.sc\u001b[39m:\u001b[32m4\u001b[39m)",
      "  ammonite.$sess.cell26$Helper.reverse(\u001b[32mcell26.sc\u001b[39m:\u001b[32m4\u001b[39m)",
      "  ammonite.$sess.cell26$Helper.reverse(\u001b[32mcell26.sc\u001b[39m:\u001b[32m4\u001b[39m)",
      "  ammonite.$sess.cell26$Helper.reverse(\u001b[32mcell26.sc\u001b[39m:\u001b[32m4\u001b[39m)",
      "  ammonite.$sess.cell26$Helper.reverse(\u001b[32mcell26.sc\u001b[39m:\u001b[32m4\u001b[39m)",
      "  ammonite.$sess.cell26$Helper.reverse(\u001b[32mcell26.sc\u001b[39m:\u001b[32m4\u001b[39m)",
      "  ammonite.$sess.cell26$Helper.reverse(\u001b[32mcell26.sc\u001b[39m:\u001b[32m4\u001b[39m)",
      "  ammonite.$sess.cell26$Helper.reverse(\u001b[32mcell26.sc\u001b[39m:\u001b[32m4\u001b[39m)",
      "  ammonite.$sess.cell26$Helper.reverse(\u001b[32mcell26.sc\u001b[39m:\u001b[32m4\u001b[39m)",
      "  ammonite.$sess.cell26$Helper.reverse(\u001b[32mcell26.sc\u001b[39m:\u001b[32m4\u001b[39m)",
      "  ammonite.$sess.cell26$Helper.reverse(\u001b[32mcell26.sc\u001b[39m:\u001b[32m4\u001b[39m)",
      "  ammonite.$sess.cell26$Helper.reverse(\u001b[32mcell26.sc\u001b[39m:\u001b[32m4\u001b[39m)",
      "  ammonite.$sess.cell26$Helper.reverse(\u001b[32mcell26.sc\u001b[39m:\u001b[32m4\u001b[39m)",
      "  ammonite.$sess.cell26$Helper.reverse(\u001b[32mcell26.sc\u001b[39m:\u001b[32m4\u001b[39m)",
      "  ammonite.$sess.cell26$Helper.reverse(\u001b[32mcell26.sc\u001b[39m:\u001b[32m4\u001b[39m)",
      "  ammonite.$sess.cell26$Helper.reverse(\u001b[32mcell26.sc\u001b[39m:\u001b[32m4\u001b[39m)",
      "  ammonite.$sess.cell26$Helper.reverse(\u001b[32mcell26.sc\u001b[39m:\u001b[32m4\u001b[39m)",
      "  ammonite.$sess.cell26$Helper.reverse(\u001b[32mcell26.sc\u001b[39m:\u001b[32m4\u001b[39m)",
      "  ammonite.$sess.cell26$Helper.reverse(\u001b[32mcell26.sc\u001b[39m:\u001b[32m4\u001b[39m)",
      "  ammonite.$sess.cell26$Helper.reverse(\u001b[32mcell26.sc\u001b[39m:\u001b[32m4\u001b[39m)",
      "  ammonite.$sess.cell26$Helper.reverse(\u001b[32mcell26.sc\u001b[39m:\u001b[32m4\u001b[39m)",
      "  ammonite.$sess.cell26$Helper.reverse(\u001b[32mcell26.sc\u001b[39m:\u001b[32m4\u001b[39m)",
      "  ammonite.$sess.cell26$Helper.reverse(\u001b[32mcell26.sc\u001b[39m:\u001b[32m4\u001b[39m)",
      "  ammonite.$sess.cell26$Helper.reverse(\u001b[32mcell26.sc\u001b[39m:\u001b[32m4\u001b[39m)",
      "  ammonite.$sess.cell26$Helper.reverse(\u001b[32mcell26.sc\u001b[39m:\u001b[32m4\u001b[39m)",
      "  ammonite.$sess.cell26$Helper.reverse(\u001b[32mcell26.sc\u001b[39m:\u001b[32m4\u001b[39m)",
      "  ammonite.$sess.cell26$Helper.reverse(\u001b[32mcell26.sc\u001b[39m:\u001b[32m4\u001b[39m)",
      "  ammonite.$sess.cell26$Helper.reverse(\u001b[32mcell26.sc\u001b[39m:\u001b[32m4\u001b[39m)",
      "  ammonite.$sess.cell26$Helper.reverse(\u001b[32mcell26.sc\u001b[39m:\u001b[32m4\u001b[39m)",
      "  ammonite.$sess.cell26$Helper.reverse(\u001b[32mcell26.sc\u001b[39m:\u001b[32m4\u001b[39m)",
      "  ammonite.$sess.cell26$Helper.reverse(\u001b[32mcell26.sc\u001b[39m:\u001b[32m4\u001b[39m)",
      "  ammonite.$sess.cell26$Helper.reverse(\u001b[32mcell26.sc\u001b[39m:\u001b[32m4\u001b[39m)",
      "  ammonite.$sess.cell26$Helper.reverse(\u001b[32mcell26.sc\u001b[39m:\u001b[32m4\u001b[39m)",
      "  ammonite.$sess.cell26$Helper.reverse(\u001b[32mcell26.sc\u001b[39m:\u001b[32m4\u001b[39m)",
      "  ammonite.$sess.cell26$Helper.reverse(\u001b[32mcell26.sc\u001b[39m:\u001b[32m4\u001b[39m)",
      "  ammonite.$sess.cell26$Helper.reverse(\u001b[32mcell26.sc\u001b[39m:\u001b[32m4\u001b[39m)",
      "  ammonite.$sess.cell26$Helper.reverse(\u001b[32mcell26.sc\u001b[39m:\u001b[32m4\u001b[39m)",
      "  ammonite.$sess.cell26$Helper.reverse(\u001b[32mcell26.sc\u001b[39m:\u001b[32m4\u001b[39m)",
      "  ammonite.$sess.cell26$Helper.reverse(\u001b[32mcell26.sc\u001b[39m:\u001b[32m4\u001b[39m)",
      "  ammonite.$sess.cell26$Helper.reverse(\u001b[32mcell26.sc\u001b[39m:\u001b[32m4\u001b[39m)",
      "  ammonite.$sess.cell26$Helper.reverse(\u001b[32mcell26.sc\u001b[39m:\u001b[32m4\u001b[39m)",
      "  ammonite.$sess.cell26$Helper.reverse(\u001b[32mcell26.sc\u001b[39m:\u001b[32m4\u001b[39m)",
      "  ammonite.$sess.cell26$Helper.reverse(\u001b[32mcell26.sc\u001b[39m:\u001b[32m4\u001b[39m)",
      "  ammonite.$sess.cell26$Helper.reverse(\u001b[32mcell26.sc\u001b[39m:\u001b[32m4\u001b[39m)",
      "  ammonite.$sess.cell26$Helper.reverse(\u001b[32mcell26.sc\u001b[39m:\u001b[32m4\u001b[39m)",
      "  ammonite.$sess.cell26$Helper.reverse(\u001b[32mcell26.sc\u001b[39m:\u001b[32m4\u001b[39m)",
      "  ammonite.$sess.cell26$Helper.reverse(\u001b[32mcell26.sc\u001b[39m:\u001b[32m4\u001b[39m)",
      "  ammonite.$sess.cell26$Helper.reverse(\u001b[32mcell26.sc\u001b[39m:\u001b[32m4\u001b[39m)",
      "  ammonite.$sess.cell26$Helper.reverse(\u001b[32mcell26.sc\u001b[39m:\u001b[32m4\u001b[39m)",
      "  ammonite.$sess.cell26$Helper.reverse(\u001b[32mcell26.sc\u001b[39m:\u001b[32m4\u001b[39m)",
      "  ammonite.$sess.cell26$Helper.reverse(\u001b[32mcell26.sc\u001b[39m:\u001b[32m4\u001b[39m)",
      "  ammonite.$sess.cell26$Helper.reverse(\u001b[32mcell26.sc\u001b[39m:\u001b[32m4\u001b[39m)",
      "  ammonite.$sess.cell26$Helper.reverse(\u001b[32mcell26.sc\u001b[39m:\u001b[32m4\u001b[39m)",
      "  ammonite.$sess.cell26$Helper.reverse(\u001b[32mcell26.sc\u001b[39m:\u001b[32m4\u001b[39m)",
      "  ammonite.$sess.cell26$Helper.reverse(\u001b[32mcell26.sc\u001b[39m:\u001b[32m4\u001b[39m)",
      "  ammonite.$sess.cell26$Helper.reverse(\u001b[32mcell26.sc\u001b[39m:\u001b[32m4\u001b[39m)",
      "  ammonite.$sess.cell26$Helper.reverse(\u001b[32mcell26.sc\u001b[39m:\u001b[32m4\u001b[39m)",
      "  ammonite.$sess.cell26$Helper.reverse(\u001b[32mcell26.sc\u001b[39m:\u001b[32m4\u001b[39m)",
      "  ammonite.$sess.cell26$Helper.reverse(\u001b[32mcell26.sc\u001b[39m:\u001b[32m4\u001b[39m)",
      "  ammonite.$sess.cell26$Helper.reverse(\u001b[32mcell26.sc\u001b[39m:\u001b[32m4\u001b[39m)",
      "  ammonite.$sess.cell26$Helper.reverse(\u001b[32mcell26.sc\u001b[39m:\u001b[32m4\u001b[39m)",
      "  ammonite.$sess.cell26$Helper.reverse(\u001b[32mcell26.sc\u001b[39m:\u001b[32m4\u001b[39m)",
      "  ammonite.$sess.cell26$Helper.reverse(\u001b[32mcell26.sc\u001b[39m:\u001b[32m4\u001b[39m)",
      "  ammonite.$sess.cell26$Helper.reverse(\u001b[32mcell26.sc\u001b[39m:\u001b[32m4\u001b[39m)",
      "  ammonite.$sess.cell26$Helper.reverse(\u001b[32mcell26.sc\u001b[39m:\u001b[32m4\u001b[39m)",
      "  ammonite.$sess.cell26$Helper.reverse(\u001b[32mcell26.sc\u001b[39m:\u001b[32m4\u001b[39m)",
      "  ammonite.$sess.cell26$Helper.reverse(\u001b[32mcell26.sc\u001b[39m:\u001b[32m4\u001b[39m)",
      "  ammonite.$sess.cell26$Helper.reverse(\u001b[32mcell26.sc\u001b[39m:\u001b[32m4\u001b[39m)",
      "  ammonite.$sess.cell26$Helper.reverse(\u001b[32mcell26.sc\u001b[39m:\u001b[32m4\u001b[39m)",
      "  ammonite.$sess.cell26$Helper.reverse(\u001b[32mcell26.sc\u001b[39m:\u001b[32m4\u001b[39m)",
      "  ammonite.$sess.cell26$Helper.reverse(\u001b[32mcell26.sc\u001b[39m:\u001b[32m4\u001b[39m)",
      "  ammonite.$sess.cell26$Helper.reverse(\u001b[32mcell26.sc\u001b[39m:\u001b[32m4\u001b[39m)",
      "  ammonite.$sess.cell26$Helper.reverse(\u001b[32mcell26.sc\u001b[39m:\u001b[32m4\u001b[39m)",
      "  ammonite.$sess.cell26$Helper.reverse(\u001b[32mcell26.sc\u001b[39m:\u001b[32m4\u001b[39m)",
      "  ammonite.$sess.cell26$Helper.reverse(\u001b[32mcell26.sc\u001b[39m:\u001b[32m4\u001b[39m)",
      "  ammonite.$sess.cell26$Helper.reverse(\u001b[32mcell26.sc\u001b[39m:\u001b[32m4\u001b[39m)",
      "  ammonite.$sess.cell26$Helper.reverse(\u001b[32mcell26.sc\u001b[39m:\u001b[32m4\u001b[39m)",
      "  ammonite.$sess.cell26$Helper.reverse(\u001b[32mcell26.sc\u001b[39m:\u001b[32m4\u001b[39m)",
      "  ammonite.$sess.cell26$Helper.reverse(\u001b[32mcell26.sc\u001b[39m:\u001b[32m4\u001b[39m)",
      "  ammonite.$sess.cell26$Helper.reverse(\u001b[32mcell26.sc\u001b[39m:\u001b[32m4\u001b[39m)",
      "  ammonite.$sess.cell26$Helper.reverse(\u001b[32mcell26.sc\u001b[39m:\u001b[32m4\u001b[39m)",
      "  ammonite.$sess.cell26$Helper.reverse(\u001b[32mcell26.sc\u001b[39m:\u001b[32m4\u001b[39m)",
      "  ammonite.$sess.cell26$Helper.reverse(\u001b[32mcell26.sc\u001b[39m:\u001b[32m4\u001b[39m)",
      "  ammonite.$sess.cell26$Helper.reverse(\u001b[32mcell26.sc\u001b[39m:\u001b[32m4\u001b[39m)",
      "  ammonite.$sess.cell26$Helper.reverse(\u001b[32mcell26.sc\u001b[39m:\u001b[32m4\u001b[39m)",
      "  ammonite.$sess.cell26$Helper.reverse(\u001b[32mcell26.sc\u001b[39m:\u001b[32m4\u001b[39m)",
      "  ammonite.$sess.cell26$Helper.reverse(\u001b[32mcell26.sc\u001b[39m:\u001b[32m4\u001b[39m)",
      "  ammonite.$sess.cell26$Helper.reverse(\u001b[32mcell26.sc\u001b[39m:\u001b[32m4\u001b[39m)",
      "  ammonite.$sess.cell26$Helper.reverse(\u001b[32mcell26.sc\u001b[39m:\u001b[32m4\u001b[39m)",
      "  ammonite.$sess.cell26$Helper.reverse(\u001b[32mcell26.sc\u001b[39m:\u001b[32m4\u001b[39m)",
      "  ammonite.$sess.cell26$Helper.reverse(\u001b[32mcell26.sc\u001b[39m:\u001b[32m4\u001b[39m)",
      "  ammonite.$sess.cell26$Helper.reverse(\u001b[32mcell26.sc\u001b[39m:\u001b[32m4\u001b[39m)",
      "  ammonite.$sess.cell26$Helper.reverse(\u001b[32mcell26.sc\u001b[39m:\u001b[32m4\u001b[39m)",
      "  ammonite.$sess.cell26$Helper.reverse(\u001b[32mcell26.sc\u001b[39m:\u001b[32m4\u001b[39m)",
      "  ammonite.$sess.cell26$Helper.reverse(\u001b[32mcell26.sc\u001b[39m:\u001b[32m4\u001b[39m)",
      "  ammonite.$sess.cell26$Helper.reverse(\u001b[32mcell26.sc\u001b[39m:\u001b[32m4\u001b[39m)",
      "  ammonite.$sess.cell26$Helper.reverse(\u001b[32mcell26.sc\u001b[39m:\u001b[32m4\u001b[39m)",
      "  ammonite.$sess.cell26$Helper.reverse(\u001b[32mcell26.sc\u001b[39m:\u001b[32m4\u001b[39m)",
      "  ammonite.$sess.cell26$Helper.reverse(\u001b[32mcell26.sc\u001b[39m:\u001b[32m4\u001b[39m)",
      "  ammonite.$sess.cell26$Helper.reverse(\u001b[32mcell26.sc\u001b[39m:\u001b[32m4\u001b[39m)",
      "  ammonite.$sess.cell26$Helper.reverse(\u001b[32mcell26.sc\u001b[39m:\u001b[32m4\u001b[39m)",
      "  ammonite.$sess.cell26$Helper.reverse(\u001b[32mcell26.sc\u001b[39m:\u001b[32m4\u001b[39m)",
      "  ammonite.$sess.cell26$Helper.reverse(\u001b[32mcell26.sc\u001b[39m:\u001b[32m4\u001b[39m)",
      "  ammonite.$sess.cell26$Helper.reverse(\u001b[32mcell26.sc\u001b[39m:\u001b[32m4\u001b[39m)",
      "  ammonite.$sess.cell26$Helper.reverse(\u001b[32mcell26.sc\u001b[39m:\u001b[32m4\u001b[39m)",
      "  ammonite.$sess.cell26$Helper.reverse(\u001b[32mcell26.sc\u001b[39m:\u001b[32m4\u001b[39m)",
      "  ammonite.$sess.cell26$Helper.reverse(\u001b[32mcell26.sc\u001b[39m:\u001b[32m4\u001b[39m)",
      "  ammonite.$sess.cell26$Helper.reverse(\u001b[32mcell26.sc\u001b[39m:\u001b[32m4\u001b[39m)",
      "  ammonite.$sess.cell26$Helper.reverse(\u001b[32mcell26.sc\u001b[39m:\u001b[32m4\u001b[39m)",
      "  ammonite.$sess.cell26$Helper.reverse(\u001b[32mcell26.sc\u001b[39m:\u001b[32m4\u001b[39m)",
      "  ammonite.$sess.cell26$Helper.reverse(\u001b[32mcell26.sc\u001b[39m:\u001b[32m4\u001b[39m)",
      "  ammonite.$sess.cell26$Helper.reverse(\u001b[32mcell26.sc\u001b[39m:\u001b[32m4\u001b[39m)",
      "  ammonite.$sess.cell26$Helper.reverse(\u001b[32mcell26.sc\u001b[39m:\u001b[32m4\u001b[39m)",
      "  ammonite.$sess.cell26$Helper.reverse(\u001b[32mcell26.sc\u001b[39m:\u001b[32m4\u001b[39m)",
      "  ammonite.$sess.cell26$Helper.reverse(\u001b[32mcell26.sc\u001b[39m:\u001b[32m4\u001b[39m)",
      "  ammonite.$sess.cell26$Helper.reverse(\u001b[32mcell26.sc\u001b[39m:\u001b[32m4\u001b[39m)",
      "  ammonite.$sess.cell26$Helper.reverse(\u001b[32mcell26.sc\u001b[39m:\u001b[32m4\u001b[39m)",
      "  ammonite.$sess.cell26$Helper.reverse(\u001b[32mcell26.sc\u001b[39m:\u001b[32m4\u001b[39m)",
      "  ammonite.$sess.cell26$Helper.reverse(\u001b[32mcell26.sc\u001b[39m:\u001b[32m4\u001b[39m)",
      "  ammonite.$sess.cell26$Helper.reverse(\u001b[32mcell26.sc\u001b[39m:\u001b[32m4\u001b[39m)",
      "  ammonite.$sess.cell26$Helper.reverse(\u001b[32mcell26.sc\u001b[39m:\u001b[32m4\u001b[39m)",
      "  ammonite.$sess.cell26$Helper.reverse(\u001b[32mcell26.sc\u001b[39m:\u001b[32m4\u001b[39m)",
      "  ammonite.$sess.cell26$Helper.reverse(\u001b[32mcell26.sc\u001b[39m:\u001b[32m4\u001b[39m)",
      "  ammonite.$sess.cell26$Helper.reverse(\u001b[32mcell26.sc\u001b[39m:\u001b[32m4\u001b[39m)",
      "  ammonite.$sess.cell26$Helper.reverse(\u001b[32mcell26.sc\u001b[39m:\u001b[32m4\u001b[39m)",
      "  ammonite.$sess.cell26$Helper.reverse(\u001b[32mcell26.sc\u001b[39m:\u001b[32m4\u001b[39m)",
      "  ammonite.$sess.cell26$Helper.reverse(\u001b[32mcell26.sc\u001b[39m:\u001b[32m4\u001b[39m)",
      "  ammonite.$sess.cell26$Helper.reverse(\u001b[32mcell26.sc\u001b[39m:\u001b[32m4\u001b[39m)",
      "  ammonite.$sess.cell26$Helper.reverse(\u001b[32mcell26.sc\u001b[39m:\u001b[32m4\u001b[39m)",
      "  ammonite.$sess.cell26$Helper.reverse(\u001b[32mcell26.sc\u001b[39m:\u001b[32m4\u001b[39m)",
      "  ammonite.$sess.cell26$Helper.reverse(\u001b[32mcell26.sc\u001b[39m:\u001b[32m4\u001b[39m)",
      "  ammonite.$sess.cell26$Helper.reverse(\u001b[32mcell26.sc\u001b[39m:\u001b[32m4\u001b[39m)",
      "  ammonite.$sess.cell26$Helper.reverse(\u001b[32mcell26.sc\u001b[39m:\u001b[32m4\u001b[39m)",
      "  ammonite.$sess.cell26$Helper.reverse(\u001b[32mcell26.sc\u001b[39m:\u001b[32m4\u001b[39m)",
      "  ammonite.$sess.cell26$Helper.reverse(\u001b[32mcell26.sc\u001b[39m:\u001b[32m4\u001b[39m)",
      "  ammonite.$sess.cell26$Helper.reverse(\u001b[32mcell26.sc\u001b[39m:\u001b[32m4\u001b[39m)",
      "  ammonite.$sess.cell26$Helper.reverse(\u001b[32mcell26.sc\u001b[39m:\u001b[32m4\u001b[39m)",
      "  ammonite.$sess.cell26$Helper.reverse(\u001b[32mcell26.sc\u001b[39m:\u001b[32m4\u001b[39m)",
      "  ammonite.$sess.cell26$Helper.reverse(\u001b[32mcell26.sc\u001b[39m:\u001b[32m4\u001b[39m)",
      "  ammonite.$sess.cell26$Helper.reverse(\u001b[32mcell26.sc\u001b[39m:\u001b[32m4\u001b[39m)",
      "  ammonite.$sess.cell26$Helper.reverse(\u001b[32mcell26.sc\u001b[39m:\u001b[32m4\u001b[39m)",
      "  ammonite.$sess.cell26$Helper.reverse(\u001b[32mcell26.sc\u001b[39m:\u001b[32m4\u001b[39m)",
      "  ammonite.$sess.cell26$Helper.reverse(\u001b[32mcell26.sc\u001b[39m:\u001b[32m4\u001b[39m)",
      "  ammonite.$sess.cell26$Helper.reverse(\u001b[32mcell26.sc\u001b[39m:\u001b[32m4\u001b[39m)",
      "  ammonite.$sess.cell26$Helper.reverse(\u001b[32mcell26.sc\u001b[39m:\u001b[32m4\u001b[39m)",
      "  ammonite.$sess.cell26$Helper.reverse(\u001b[32mcell26.sc\u001b[39m:\u001b[32m4\u001b[39m)",
      "  ammonite.$sess.cell26$Helper.reverse(\u001b[32mcell26.sc\u001b[39m:\u001b[32m4\u001b[39m)",
      "  ammonite.$sess.cell26$Helper.reverse(\u001b[32mcell26.sc\u001b[39m:\u001b[32m4\u001b[39m)",
      "  ammonite.$sess.cell26$Helper.reverse(\u001b[32mcell26.sc\u001b[39m:\u001b[32m4\u001b[39m)",
      "  ammonite.$sess.cell26$Helper.reverse(\u001b[32mcell26.sc\u001b[39m:\u001b[32m4\u001b[39m)",
      "  ammonite.$sess.cell26$Helper.reverse(\u001b[32mcell26.sc\u001b[39m:\u001b[32m4\u001b[39m)",
      "  ammonite.$sess.cell26$Helper.reverse(\u001b[32mcell26.sc\u001b[39m:\u001b[32m4\u001b[39m)",
      "  ammonite.$sess.cell26$Helper.reverse(\u001b[32mcell26.sc\u001b[39m:\u001b[32m4\u001b[39m)",
      "  ammonite.$sess.cell26$Helper.reverse(\u001b[32mcell26.sc\u001b[39m:\u001b[32m4\u001b[39m)",
      "  ammonite.$sess.cell26$Helper.reverse(\u001b[32mcell26.sc\u001b[39m:\u001b[32m4\u001b[39m)",
      "  ammonite.$sess.cell26$Helper.reverse(\u001b[32mcell26.sc\u001b[39m:\u001b[32m4\u001b[39m)",
      "  ammonite.$sess.cell26$Helper.reverse(\u001b[32mcell26.sc\u001b[39m:\u001b[32m4\u001b[39m)",
      "  ammonite.$sess.cell26$Helper.reverse(\u001b[32mcell26.sc\u001b[39m:\u001b[32m4\u001b[39m)",
      "  ammonite.$sess.cell26$Helper.reverse(\u001b[32mcell26.sc\u001b[39m:\u001b[32m4\u001b[39m)",
      "  ammonite.$sess.cell26$Helper.reverse(\u001b[32mcell26.sc\u001b[39m:\u001b[32m4\u001b[39m)",
      "  ammonite.$sess.cell26$Helper.reverse(\u001b[32mcell26.sc\u001b[39m:\u001b[32m4\u001b[39m)",
      "  ammonite.$sess.cell26$Helper.reverse(\u001b[32mcell26.sc\u001b[39m:\u001b[32m4\u001b[39m)",
      "  ammonite.$sess.cell26$Helper.reverse(\u001b[32mcell26.sc\u001b[39m:\u001b[32m4\u001b[39m)",
      "  ammonite.$sess.cell26$Helper.reverse(\u001b[32mcell26.sc\u001b[39m:\u001b[32m4\u001b[39m)",
      "  ammonite.$sess.cell26$Helper.reverse(\u001b[32mcell26.sc\u001b[39m:\u001b[32m4\u001b[39m)",
      "  ammonite.$sess.cell26$Helper.reverse(\u001b[32mcell26.sc\u001b[39m:\u001b[32m4\u001b[39m)",
      "  ammonite.$sess.cell26$Helper.reverse(\u001b[32mcell26.sc\u001b[39m:\u001b[32m4\u001b[39m)",
      "  ammonite.$sess.cell26$Helper.reverse(\u001b[32mcell26.sc\u001b[39m:\u001b[32m4\u001b[39m)",
      "  ammonite.$sess.cell26$Helper.reverse(\u001b[32mcell26.sc\u001b[39m:\u001b[32m4\u001b[39m)",
      "  ammonite.$sess.cell26$Helper.reverse(\u001b[32mcell26.sc\u001b[39m:\u001b[32m4\u001b[39m)",
      "  ammonite.$sess.cell26$Helper.reverse(\u001b[32mcell26.sc\u001b[39m:\u001b[32m4\u001b[39m)",
      "  ammonite.$sess.cell26$Helper.reverse(\u001b[32mcell26.sc\u001b[39m:\u001b[32m4\u001b[39m)",
      "  ammonite.$sess.cell26$Helper.reverse(\u001b[32mcell26.sc\u001b[39m:\u001b[32m4\u001b[39m)",
      "  ammonite.$sess.cell26$Helper.reverse(\u001b[32mcell26.sc\u001b[39m:\u001b[32m4\u001b[39m)",
      "  ammonite.$sess.cell26$Helper.reverse(\u001b[32mcell26.sc\u001b[39m:\u001b[32m4\u001b[39m)",
      "  ammonite.$sess.cell26$Helper.reverse(\u001b[32mcell26.sc\u001b[39m:\u001b[32m4\u001b[39m)",
      "  ammonite.$sess.cell26$Helper.reverse(\u001b[32mcell26.sc\u001b[39m:\u001b[32m4\u001b[39m)",
      "  ammonite.$sess.cell26$Helper.reverse(\u001b[32mcell26.sc\u001b[39m:\u001b[32m4\u001b[39m)",
      "  ammonite.$sess.cell26$Helper.reverse(\u001b[32mcell26.sc\u001b[39m:\u001b[32m4\u001b[39m)",
      "  ammonite.$sess.cell26$Helper.reverse(\u001b[32mcell26.sc\u001b[39m:\u001b[32m4\u001b[39m)",
      "  ammonite.$sess.cell26$Helper.reverse(\u001b[32mcell26.sc\u001b[39m:\u001b[32m4\u001b[39m)",
      "  ammonite.$sess.cell26$Helper.reverse(\u001b[32mcell26.sc\u001b[39m:\u001b[32m4\u001b[39m)",
      "  ammonite.$sess.cell26$Helper.reverse(\u001b[32mcell26.sc\u001b[39m:\u001b[32m4\u001b[39m)",
      "  ammonite.$sess.cell26$Helper.reverse(\u001b[32mcell26.sc\u001b[39m:\u001b[32m4\u001b[39m)",
      "  ammonite.$sess.cell26$Helper.reverse(\u001b[32mcell26.sc\u001b[39m:\u001b[32m4\u001b[39m)",
      "  ammonite.$sess.cell26$Helper.reverse(\u001b[32mcell26.sc\u001b[39m:\u001b[32m4\u001b[39m)",
      "  ammonite.$sess.cell26$Helper.reverse(\u001b[32mcell26.sc\u001b[39m:\u001b[32m4\u001b[39m)",
      "  ammonite.$sess.cell26$Helper.reverse(\u001b[32mcell26.sc\u001b[39m:\u001b[32m4\u001b[39m)",
      "  ammonite.$sess.cell26$Helper.reverse(\u001b[32mcell26.sc\u001b[39m:\u001b[32m4\u001b[39m)",
      "  ammonite.$sess.cell26$Helper.reverse(\u001b[32mcell26.sc\u001b[39m:\u001b[32m4\u001b[39m)",
      "  ammonite.$sess.cell26$Helper.reverse(\u001b[32mcell26.sc\u001b[39m:\u001b[32m4\u001b[39m)",
      "  ammonite.$sess.cell26$Helper.reverse(\u001b[32mcell26.sc\u001b[39m:\u001b[32m4\u001b[39m)",
      "  ammonite.$sess.cell26$Helper.reverse(\u001b[32mcell26.sc\u001b[39m:\u001b[32m4\u001b[39m)",
      "  ammonite.$sess.cell26$Helper.reverse(\u001b[32mcell26.sc\u001b[39m:\u001b[32m4\u001b[39m)",
      "  ammonite.$sess.cell26$Helper.reverse(\u001b[32mcell26.sc\u001b[39m:\u001b[32m4\u001b[39m)",
      "  ammonite.$sess.cell26$Helper.reverse(\u001b[32mcell26.sc\u001b[39m:\u001b[32m4\u001b[39m)",
      "  ammonite.$sess.cell26$Helper.reverse(\u001b[32mcell26.sc\u001b[39m:\u001b[32m4\u001b[39m)",
      "  ammonite.$sess.cell26$Helper.reverse(\u001b[32mcell26.sc\u001b[39m:\u001b[32m4\u001b[39m)",
      "  ammonite.$sess.cell26$Helper.reverse(\u001b[32mcell26.sc\u001b[39m:\u001b[32m4\u001b[39m)",
      "  ammonite.$sess.cell26$Helper.reverse(\u001b[32mcell26.sc\u001b[39m:\u001b[32m4\u001b[39m)",
      "  ammonite.$sess.cell26$Helper.reverse(\u001b[32mcell26.sc\u001b[39m:\u001b[32m4\u001b[39m)",
      "  ammonite.$sess.cell26$Helper.reverse(\u001b[32mcell26.sc\u001b[39m:\u001b[32m4\u001b[39m)",
      "  ammonite.$sess.cell26$Helper.reverse(\u001b[32mcell26.sc\u001b[39m:\u001b[32m4\u001b[39m)",
      "  ammonite.$sess.cell26$Helper.reverse(\u001b[32mcell26.sc\u001b[39m:\u001b[32m4\u001b[39m)",
      "  ammonite.$sess.cell26$Helper.reverse(\u001b[32mcell26.sc\u001b[39m:\u001b[32m4\u001b[39m)",
      "  ammonite.$sess.cell26$Helper.reverse(\u001b[32mcell26.sc\u001b[39m:\u001b[32m4\u001b[39m)",
      "  ammonite.$sess.cell26$Helper.reverse(\u001b[32mcell26.sc\u001b[39m:\u001b[32m4\u001b[39m)",
      "  ammonite.$sess.cell26$Helper.reverse(\u001b[32mcell26.sc\u001b[39m:\u001b[32m4\u001b[39m)",
      "  ammonite.$sess.cell26$Helper.reverse(\u001b[32mcell26.sc\u001b[39m:\u001b[32m4\u001b[39m)",
      "  ammonite.$sess.cell26$Helper.reverse(\u001b[32mcell26.sc\u001b[39m:\u001b[32m4\u001b[39m)",
      "  ammonite.$sess.cell26$Helper.reverse(\u001b[32mcell26.sc\u001b[39m:\u001b[32m4\u001b[39m)",
      "  ammonite.$sess.cell26$Helper.reverse(\u001b[32mcell26.sc\u001b[39m:\u001b[32m4\u001b[39m)",
      "  ammonite.$sess.cell26$Helper.reverse(\u001b[32mcell26.sc\u001b[39m:\u001b[32m4\u001b[39m)",
      "  ammonite.$sess.cell26$Helper.reverse(\u001b[32mcell26.sc\u001b[39m:\u001b[32m4\u001b[39m)",
      "  ammonite.$sess.cell26$Helper.reverse(\u001b[32mcell26.sc\u001b[39m:\u001b[32m4\u001b[39m)",
      "  ammonite.$sess.cell26$Helper.reverse(\u001b[32mcell26.sc\u001b[39m:\u001b[32m4\u001b[39m)",
      "  ammonite.$sess.cell26$Helper.reverse(\u001b[32mcell26.sc\u001b[39m:\u001b[32m4\u001b[39m)",
      "  ammonite.$sess.cell26$Helper.reverse(\u001b[32mcell26.sc\u001b[39m:\u001b[32m4\u001b[39m)",
      "  ammonite.$sess.cell26$Helper.reverse(\u001b[32mcell26.sc\u001b[39m:\u001b[32m4\u001b[39m)",
      "  ammonite.$sess.cell26$Helper.reverse(\u001b[32mcell26.sc\u001b[39m:\u001b[32m4\u001b[39m)",
      "  ammonite.$sess.cell26$Helper.reverse(\u001b[32mcell26.sc\u001b[39m:\u001b[32m4\u001b[39m)",
      "  ammonite.$sess.cell26$Helper.reverse(\u001b[32mcell26.sc\u001b[39m:\u001b[32m4\u001b[39m)",
      "  ammonite.$sess.cell26$Helper.reverse(\u001b[32mcell26.sc\u001b[39m:\u001b[32m4\u001b[39m)",
      "  ammonite.$sess.cell26$Helper.reverse(\u001b[32mcell26.sc\u001b[39m:\u001b[32m4\u001b[39m)",
      "  ammonite.$sess.cell26$Helper.reverse(\u001b[32mcell26.sc\u001b[39m:\u001b[32m4\u001b[39m)",
      "  ammonite.$sess.cell26$Helper.reverse(\u001b[32mcell26.sc\u001b[39m:\u001b[32m4\u001b[39m)",
      "  ammonite.$sess.cell26$Helper.reverse(\u001b[32mcell26.sc\u001b[39m:\u001b[32m4\u001b[39m)",
      "  ammonite.$sess.cell26$Helper.reverse(\u001b[32mcell26.sc\u001b[39m:\u001b[32m4\u001b[39m)",
      "  ammonite.$sess.cell26$Helper.reverse(\u001b[32mcell26.sc\u001b[39m:\u001b[32m4\u001b[39m)",
      "  ammonite.$sess.cell26$Helper.reverse(\u001b[32mcell26.sc\u001b[39m:\u001b[32m4\u001b[39m)",
      "  ammonite.$sess.cell26$Helper.reverse(\u001b[32mcell26.sc\u001b[39m:\u001b[32m4\u001b[39m)",
      "  ammonite.$sess.cell26$Helper.reverse(\u001b[32mcell26.sc\u001b[39m:\u001b[32m4\u001b[39m)",
      "  ammonite.$sess.cell26$Helper.reverse(\u001b[32mcell26.sc\u001b[39m:\u001b[32m4\u001b[39m)",
      "  ammonite.$sess.cell26$Helper.reverse(\u001b[32mcell26.sc\u001b[39m:\u001b[32m4\u001b[39m)",
      "  ammonite.$sess.cell26$Helper.reverse(\u001b[32mcell26.sc\u001b[39m:\u001b[32m4\u001b[39m)",
      "  ammonite.$sess.cell26$Helper.reverse(\u001b[32mcell26.sc\u001b[39m:\u001b[32m4\u001b[39m)",
      "  ammonite.$sess.cell26$Helper.reverse(\u001b[32mcell26.sc\u001b[39m:\u001b[32m4\u001b[39m)",
      "  ammonite.$sess.cell26$Helper.reverse(\u001b[32mcell26.sc\u001b[39m:\u001b[32m4\u001b[39m)",
      "  ammonite.$sess.cell26$Helper.reverse(\u001b[32mcell26.sc\u001b[39m:\u001b[32m4\u001b[39m)",
      "  ammonite.$sess.cell26$Helper.reverse(\u001b[32mcell26.sc\u001b[39m:\u001b[32m4\u001b[39m)",
      "  ammonite.$sess.cell26$Helper.reverse(\u001b[32mcell26.sc\u001b[39m:\u001b[32m4\u001b[39m)",
      "  ammonite.$sess.cell26$Helper.reverse(\u001b[32mcell26.sc\u001b[39m:\u001b[32m4\u001b[39m)",
      "  ammonite.$sess.cell26$Helper.reverse(\u001b[32mcell26.sc\u001b[39m:\u001b[32m4\u001b[39m)",
      "  ammonite.$sess.cell26$Helper.reverse(\u001b[32mcell26.sc\u001b[39m:\u001b[32m4\u001b[39m)",
      "  ammonite.$sess.cell26$Helper.reverse(\u001b[32mcell26.sc\u001b[39m:\u001b[32m4\u001b[39m)",
      "  ammonite.$sess.cell26$Helper.reverse(\u001b[32mcell26.sc\u001b[39m:\u001b[32m4\u001b[39m)",
      "  ammonite.$sess.cell26$Helper.reverse(\u001b[32mcell26.sc\u001b[39m:\u001b[32m4\u001b[39m)",
      "  ammonite.$sess.cell26$Helper.reverse(\u001b[32mcell26.sc\u001b[39m:\u001b[32m4\u001b[39m)",
      "  ammonite.$sess.cell26$Helper.reverse(\u001b[32mcell26.sc\u001b[39m:\u001b[32m4\u001b[39m)",
      "  ammonite.$sess.cell26$Helper.reverse(\u001b[32mcell26.sc\u001b[39m:\u001b[32m4\u001b[39m)",
      "  ammonite.$sess.cell26$Helper.reverse(\u001b[32mcell26.sc\u001b[39m:\u001b[32m4\u001b[39m)",
      "  ammonite.$sess.cell26$Helper.reverse(\u001b[32mcell26.sc\u001b[39m:\u001b[32m4\u001b[39m)",
      "  ammonite.$sess.cell26$Helper.reverse(\u001b[32mcell26.sc\u001b[39m:\u001b[32m4\u001b[39m)",
      "  ammonite.$sess.cell26$Helper.reverse(\u001b[32mcell26.sc\u001b[39m:\u001b[32m4\u001b[39m)",
      "  ammonite.$sess.cell26$Helper.reverse(\u001b[32mcell26.sc\u001b[39m:\u001b[32m4\u001b[39m)",
      "  ammonite.$sess.cell26$Helper.reverse(\u001b[32mcell26.sc\u001b[39m:\u001b[32m4\u001b[39m)",
      "  ammonite.$sess.cell26$Helper.reverse(\u001b[32mcell26.sc\u001b[39m:\u001b[32m4\u001b[39m)",
      "  ammonite.$sess.cell26$Helper.reverse(\u001b[32mcell26.sc\u001b[39m:\u001b[32m4\u001b[39m)",
      "  ammonite.$sess.cell26$Helper.reverse(\u001b[32mcell26.sc\u001b[39m:\u001b[32m4\u001b[39m)",
      "  ammonite.$sess.cell26$Helper.reverse(\u001b[32mcell26.sc\u001b[39m:\u001b[32m4\u001b[39m)",
      "  ammonite.$sess.cell26$Helper.reverse(\u001b[32mcell26.sc\u001b[39m:\u001b[32m4\u001b[39m)",
      "  ammonite.$sess.cell26$Helper.reverse(\u001b[32mcell26.sc\u001b[39m:\u001b[32m4\u001b[39m)",
      "  ammonite.$sess.cell26$Helper.reverse(\u001b[32mcell26.sc\u001b[39m:\u001b[32m4\u001b[39m)",
      "  ammonite.$sess.cell26$Helper.reverse(\u001b[32mcell26.sc\u001b[39m:\u001b[32m4\u001b[39m)",
      "  ammonite.$sess.cell26$Helper.reverse(\u001b[32mcell26.sc\u001b[39m:\u001b[32m4\u001b[39m)",
      "  ammonite.$sess.cell26$Helper.reverse(\u001b[32mcell26.sc\u001b[39m:\u001b[32m4\u001b[39m)",
      "  ammonite.$sess.cell26$Helper.reverse(\u001b[32mcell26.sc\u001b[39m:\u001b[32m4\u001b[39m)",
      "  ammonite.$sess.cell26$Helper.reverse(\u001b[32mcell26.sc\u001b[39m:\u001b[32m4\u001b[39m)",
      "  ammonite.$sess.cell26$Helper.reverse(\u001b[32mcell26.sc\u001b[39m:\u001b[32m4\u001b[39m)",
      "  ammonite.$sess.cell26$Helper.reverse(\u001b[32mcell26.sc\u001b[39m:\u001b[32m4\u001b[39m)",
      "  ammonite.$sess.cell26$Helper.reverse(\u001b[32mcell26.sc\u001b[39m:\u001b[32m4\u001b[39m)",
      "  ammonite.$sess.cell26$Helper.reverse(\u001b[32mcell26.sc\u001b[39m:\u001b[32m4\u001b[39m)",
      "  ammonite.$sess.cell26$Helper.reverse(\u001b[32mcell26.sc\u001b[39m:\u001b[32m4\u001b[39m)",
      "  ammonite.$sess.cell26$Helper.reverse(\u001b[32mcell26.sc\u001b[39m:\u001b[32m4\u001b[39m)",
      "  ammonite.$sess.cell26$Helper.reverse(\u001b[32mcell26.sc\u001b[39m:\u001b[32m4\u001b[39m)",
      "  ammonite.$sess.cell26$Helper.reverse(\u001b[32mcell26.sc\u001b[39m:\u001b[32m4\u001b[39m)",
      "  ammonite.$sess.cell26$Helper.reverse(\u001b[32mcell26.sc\u001b[39m:\u001b[32m4\u001b[39m)",
      "  ammonite.$sess.cell26$Helper.reverse(\u001b[32mcell26.sc\u001b[39m:\u001b[32m4\u001b[39m)",
      "  ammonite.$sess.cell26$Helper.reverse(\u001b[32mcell26.sc\u001b[39m:\u001b[32m4\u001b[39m)",
      "  ammonite.$sess.cell26$Helper.reverse(\u001b[32mcell26.sc\u001b[39m:\u001b[32m4\u001b[39m)",
      "  ammonite.$sess.cell26$Helper.reverse(\u001b[32mcell26.sc\u001b[39m:\u001b[32m4\u001b[39m)",
      "  ammonite.$sess.cell26$Helper.reverse(\u001b[32mcell26.sc\u001b[39m:\u001b[32m4\u001b[39m)",
      "  ammonite.$sess.cell26$Helper.reverse(\u001b[32mcell26.sc\u001b[39m:\u001b[32m4\u001b[39m)",
      "  ammonite.$sess.cell26$Helper.reverse(\u001b[32mcell26.sc\u001b[39m:\u001b[32m4\u001b[39m)",
      "  ammonite.$sess.cell26$Helper.reverse(\u001b[32mcell26.sc\u001b[39m:\u001b[32m4\u001b[39m)",
      "  ammonite.$sess.cell26$Helper.reverse(\u001b[32mcell26.sc\u001b[39m:\u001b[32m4\u001b[39m)",
      "  ammonite.$sess.cell26$Helper.reverse(\u001b[32mcell26.sc\u001b[39m:\u001b[32m4\u001b[39m)",
      "  ammonite.$sess.cell26$Helper.reverse(\u001b[32mcell26.sc\u001b[39m:\u001b[32m4\u001b[39m)",
      "  ammonite.$sess.cell26$Helper.reverse(\u001b[32mcell26.sc\u001b[39m:\u001b[32m4\u001b[39m)",
      "  ammonite.$sess.cell26$Helper.reverse(\u001b[32mcell26.sc\u001b[39m:\u001b[32m4\u001b[39m)",
      "  ammonite.$sess.cell26$Helper.reverse(\u001b[32mcell26.sc\u001b[39m:\u001b[32m4\u001b[39m)",
      "  ammonite.$sess.cell26$Helper.reverse(\u001b[32mcell26.sc\u001b[39m:\u001b[32m4\u001b[39m)",
      "  ammonite.$sess.cell26$Helper.reverse(\u001b[32mcell26.sc\u001b[39m:\u001b[32m4\u001b[39m)",
      "  ammonite.$sess.cell26$Helper.reverse(\u001b[32mcell26.sc\u001b[39m:\u001b[32m4\u001b[39m)",
      "  ammonite.$sess.cell26$Helper.reverse(\u001b[32mcell26.sc\u001b[39m:\u001b[32m4\u001b[39m)",
      "  ammonite.$sess.cell26$Helper.reverse(\u001b[32mcell26.sc\u001b[39m:\u001b[32m4\u001b[39m)",
      "  ammonite.$sess.cell26$Helper.reverse(\u001b[32mcell26.sc\u001b[39m:\u001b[32m4\u001b[39m)",
      "  ammonite.$sess.cell26$Helper.reverse(\u001b[32mcell26.sc\u001b[39m:\u001b[32m4\u001b[39m)",
      "  ammonite.$sess.cell26$Helper.reverse(\u001b[32mcell26.sc\u001b[39m:\u001b[32m4\u001b[39m)",
      "  ammonite.$sess.cell26$Helper.reverse(\u001b[32mcell26.sc\u001b[39m:\u001b[32m4\u001b[39m)",
      "  ammonite.$sess.cell26$Helper.reverse(\u001b[32mcell26.sc\u001b[39m:\u001b[32m4\u001b[39m)",
      "  ammonite.$sess.cell26$Helper.reverse(\u001b[32mcell26.sc\u001b[39m:\u001b[32m4\u001b[39m)",
      "  ammonite.$sess.cell26$Helper.reverse(\u001b[32mcell26.sc\u001b[39m:\u001b[32m4\u001b[39m)",
      "  ammonite.$sess.cell26$Helper.reverse(\u001b[32mcell26.sc\u001b[39m:\u001b[32m4\u001b[39m)",
      "  ammonite.$sess.cell26$Helper.reverse(\u001b[32mcell26.sc\u001b[39m:\u001b[32m4\u001b[39m)",
      "  ammonite.$sess.cell26$Helper.reverse(\u001b[32mcell26.sc\u001b[39m:\u001b[32m4\u001b[39m)",
      "  ammonite.$sess.cell26$Helper.reverse(\u001b[32mcell26.sc\u001b[39m:\u001b[32m4\u001b[39m)",
      "  ammonite.$sess.cell26$Helper.reverse(\u001b[32mcell26.sc\u001b[39m:\u001b[32m4\u001b[39m)",
      "  ammonite.$sess.cell26$Helper.reverse(\u001b[32mcell26.sc\u001b[39m:\u001b[32m4\u001b[39m)",
      "  ammonite.$sess.cell26$Helper.reverse(\u001b[32mcell26.sc\u001b[39m:\u001b[32m4\u001b[39m)",
      "  ammonite.$sess.cell26$Helper.reverse(\u001b[32mcell26.sc\u001b[39m:\u001b[32m4\u001b[39m)",
      "  ammonite.$sess.cell26$Helper.reverse(\u001b[32mcell26.sc\u001b[39m:\u001b[32m4\u001b[39m)",
      "  ammonite.$sess.cell26$Helper.reverse(\u001b[32mcell26.sc\u001b[39m:\u001b[32m4\u001b[39m)",
      "  ammonite.$sess.cell26$Helper.reverse(\u001b[32mcell26.sc\u001b[39m:\u001b[32m4\u001b[39m)",
      "  ammonite.$sess.cell26$Helper.reverse(\u001b[32mcell26.sc\u001b[39m:\u001b[32m4\u001b[39m)",
      "  ammonite.$sess.cell26$Helper.reverse(\u001b[32mcell26.sc\u001b[39m:\u001b[32m4\u001b[39m)",
      "  ammonite.$sess.cell26$Helper.reverse(\u001b[32mcell26.sc\u001b[39m:\u001b[32m4\u001b[39m)",
      "  ammonite.$sess.cell26$Helper.reverse(\u001b[32mcell26.sc\u001b[39m:\u001b[32m4\u001b[39m)",
      "  ammonite.$sess.cell26$Helper.reverse(\u001b[32mcell26.sc\u001b[39m:\u001b[32m4\u001b[39m)",
      "  ammonite.$sess.cell26$Helper.reverse(\u001b[32mcell26.sc\u001b[39m:\u001b[32m4\u001b[39m)",
      "  ammonite.$sess.cell26$Helper.reverse(\u001b[32mcell26.sc\u001b[39m:\u001b[32m4\u001b[39m)",
      "  ammonite.$sess.cell26$Helper.reverse(\u001b[32mcell26.sc\u001b[39m:\u001b[32m4\u001b[39m)",
      "  ammonite.$sess.cell26$Helper.reverse(\u001b[32mcell26.sc\u001b[39m:\u001b[32m4\u001b[39m)",
      "  ammonite.$sess.cell26$Helper.reverse(\u001b[32mcell26.sc\u001b[39m:\u001b[32m4\u001b[39m)",
      "  ammonite.$sess.cell26$Helper.reverse(\u001b[32mcell26.sc\u001b[39m:\u001b[32m4\u001b[39m)",
      "  ammonite.$sess.cell26$Helper.reverse(\u001b[32mcell26.sc\u001b[39m:\u001b[32m4\u001b[39m)",
      "  ammonite.$sess.cell26$Helper.reverse(\u001b[32mcell26.sc\u001b[39m:\u001b[32m4\u001b[39m)",
      "  ammonite.$sess.cell26$Helper.reverse(\u001b[32mcell26.sc\u001b[39m:\u001b[32m4\u001b[39m)",
      "  ammonite.$sess.cell26$Helper.reverse(\u001b[32mcell26.sc\u001b[39m:\u001b[32m4\u001b[39m)",
      "  ammonite.$sess.cell26$Helper.reverse(\u001b[32mcell26.sc\u001b[39m:\u001b[32m4\u001b[39m)",
      "  ammonite.$sess.cell26$Helper.reverse(\u001b[32mcell26.sc\u001b[39m:\u001b[32m4\u001b[39m)",
      "  ammonite.$sess.cell26$Helper.reverse(\u001b[32mcell26.sc\u001b[39m:\u001b[32m4\u001b[39m)",
      "  ammonite.$sess.cell26$Helper.reverse(\u001b[32mcell26.sc\u001b[39m:\u001b[32m4\u001b[39m)",
      "  ammonite.$sess.cell26$Helper.reverse(\u001b[32mcell26.sc\u001b[39m:\u001b[32m4\u001b[39m)",
      "  ammonite.$sess.cell26$Helper.reverse(\u001b[32mcell26.sc\u001b[39m:\u001b[32m4\u001b[39m)",
      "  ammonite.$sess.cell26$Helper.reverse(\u001b[32mcell26.sc\u001b[39m:\u001b[32m4\u001b[39m)",
      "  ammonite.$sess.cell26$Helper.reverse(\u001b[32mcell26.sc\u001b[39m:\u001b[32m4\u001b[39m)",
      "  ammonite.$sess.cell26$Helper.reverse(\u001b[32mcell26.sc\u001b[39m:\u001b[32m4\u001b[39m)",
      "  ammonite.$sess.cell26$Helper.reverse(\u001b[32mcell26.sc\u001b[39m:\u001b[32m4\u001b[39m)",
      "  ammonite.$sess.cell26$Helper.reverse(\u001b[32mcell26.sc\u001b[39m:\u001b[32m4\u001b[39m)",
      "  ammonite.$sess.cell26$Helper.reverse(\u001b[32mcell26.sc\u001b[39m:\u001b[32m4\u001b[39m)",
      "  ammonite.$sess.cell26$Helper.reverse(\u001b[32mcell26.sc\u001b[39m:\u001b[32m4\u001b[39m)",
      "  ammonite.$sess.cell26$Helper.reverse(\u001b[32mcell26.sc\u001b[39m:\u001b[32m4\u001b[39m)",
      "  ammonite.$sess.cell26$Helper.reverse(\u001b[32mcell26.sc\u001b[39m:\u001b[32m4\u001b[39m)",
      "  ammonite.$sess.cell26$Helper.reverse(\u001b[32mcell26.sc\u001b[39m:\u001b[32m4\u001b[39m)",
      "  ammonite.$sess.cell26$Helper.reverse(\u001b[32mcell26.sc\u001b[39m:\u001b[32m4\u001b[39m)",
      "  ammonite.$sess.cell26$Helper.reverse(\u001b[32mcell26.sc\u001b[39m:\u001b[32m4\u001b[39m)",
      "  ammonite.$sess.cell26$Helper.reverse(\u001b[32mcell26.sc\u001b[39m:\u001b[32m4\u001b[39m)",
      "  ammonite.$sess.cell26$Helper.reverse(\u001b[32mcell26.sc\u001b[39m:\u001b[32m4\u001b[39m)",
      "  ammonite.$sess.cell26$Helper.reverse(\u001b[32mcell26.sc\u001b[39m:\u001b[32m4\u001b[39m)",
      "  ammonite.$sess.cell26$Helper.reverse(\u001b[32mcell26.sc\u001b[39m:\u001b[32m4\u001b[39m)",
      "  ammonite.$sess.cell26$Helper.reverse(\u001b[32mcell26.sc\u001b[39m:\u001b[32m4\u001b[39m)",
      "  ammonite.$sess.cell26$Helper.reverse(\u001b[32mcell26.sc\u001b[39m:\u001b[32m4\u001b[39m)",
      "  ammonite.$sess.cell26$Helper.reverse(\u001b[32mcell26.sc\u001b[39m:\u001b[32m4\u001b[39m)",
      "  ammonite.$sess.cell26$Helper.reverse(\u001b[32mcell26.sc\u001b[39m:\u001b[32m4\u001b[39m)",
      "  ammonite.$sess.cell26$Helper.reverse(\u001b[32mcell26.sc\u001b[39m:\u001b[32m4\u001b[39m)",
      "  ammonite.$sess.cell26$Helper.reverse(\u001b[32mcell26.sc\u001b[39m:\u001b[32m4\u001b[39m)",
      "  ammonite.$sess.cell26$Helper.reverse(\u001b[32mcell26.sc\u001b[39m:\u001b[32m4\u001b[39m)",
      "  ammonite.$sess.cell26$Helper.reverse(\u001b[32mcell26.sc\u001b[39m:\u001b[32m4\u001b[39m)",
      "  ammonite.$sess.cell26$Helper.reverse(\u001b[32mcell26.sc\u001b[39m:\u001b[32m4\u001b[39m)",
      "  ammonite.$sess.cell26$Helper.reverse(\u001b[32mcell26.sc\u001b[39m:\u001b[32m4\u001b[39m)",
      "  ammonite.$sess.cell26$Helper.reverse(\u001b[32mcell26.sc\u001b[39m:\u001b[32m4\u001b[39m)",
      "  ammonite.$sess.cell26$Helper.reverse(\u001b[32mcell26.sc\u001b[39m:\u001b[32m4\u001b[39m)",
      "  ammonite.$sess.cell26$Helper.reverse(\u001b[32mcell26.sc\u001b[39m:\u001b[32m4\u001b[39m)",
      "  ammonite.$sess.cell26$Helper.reverse(\u001b[32mcell26.sc\u001b[39m:\u001b[32m4\u001b[39m)",
      "  ammonite.$sess.cell26$Helper.reverse(\u001b[32mcell26.sc\u001b[39m:\u001b[32m4\u001b[39m)",
      "  ammonite.$sess.cell26$Helper.reverse(\u001b[32mcell26.sc\u001b[39m:\u001b[32m4\u001b[39m)",
      "  ammonite.$sess.cell26$Helper.reverse(\u001b[32mcell26.sc\u001b[39m:\u001b[32m4\u001b[39m)",
      "  ammonite.$sess.cell26$Helper.reverse(\u001b[32mcell26.sc\u001b[39m:\u001b[32m4\u001b[39m)",
      "  ammonite.$sess.cell26$Helper.reverse(\u001b[32mcell26.sc\u001b[39m:\u001b[32m4\u001b[39m)",
      "  ammonite.$sess.cell26$Helper.reverse(\u001b[32mcell26.sc\u001b[39m:\u001b[32m4\u001b[39m)",
      "  ammonite.$sess.cell26$Helper.reverse(\u001b[32mcell26.sc\u001b[39m:\u001b[32m4\u001b[39m)",
      "  ammonite.$sess.cell26$Helper.reverse(\u001b[32mcell26.sc\u001b[39m:\u001b[32m4\u001b[39m)",
      "  ammonite.$sess.cell26$Helper.reverse(\u001b[32mcell26.sc\u001b[39m:\u001b[32m4\u001b[39m)",
      "  ammonite.$sess.cell26$Helper.reverse(\u001b[32mcell26.sc\u001b[39m:\u001b[32m4\u001b[39m)",
      "  ammonite.$sess.cell26$Helper.reverse(\u001b[32mcell26.sc\u001b[39m:\u001b[32m4\u001b[39m)",
      "  ammonite.$sess.cell26$Helper.reverse(\u001b[32mcell26.sc\u001b[39m:\u001b[32m4\u001b[39m)",
      "  ammonite.$sess.cell26$Helper.reverse(\u001b[32mcell26.sc\u001b[39m:\u001b[32m4\u001b[39m)",
      "  ammonite.$sess.cell26$Helper.reverse(\u001b[32mcell26.sc\u001b[39m:\u001b[32m4\u001b[39m)",
      "  ammonite.$sess.cell26$Helper.reverse(\u001b[32mcell26.sc\u001b[39m:\u001b[32m4\u001b[39m)",
      "  ammonite.$sess.cell26$Helper.reverse(\u001b[32mcell26.sc\u001b[39m:\u001b[32m4\u001b[39m)",
      "  ammonite.$sess.cell26$Helper.reverse(\u001b[32mcell26.sc\u001b[39m:\u001b[32m4\u001b[39m)",
      "  ammonite.$sess.cell26$Helper.reverse(\u001b[32mcell26.sc\u001b[39m:\u001b[32m4\u001b[39m)",
      "  ammonite.$sess.cell26$Helper.reverse(\u001b[32mcell26.sc\u001b[39m:\u001b[32m4\u001b[39m)",
      "  ammonite.$sess.cell26$Helper.reverse(\u001b[32mcell26.sc\u001b[39m:\u001b[32m4\u001b[39m)",
      "  ammonite.$sess.cell26$Helper.reverse(\u001b[32mcell26.sc\u001b[39m:\u001b[32m4\u001b[39m)",
      "  ammonite.$sess.cell26$Helper.reverse(\u001b[32mcell26.sc\u001b[39m:\u001b[32m4\u001b[39m)",
      "  ammonite.$sess.cell26$Helper.reverse(\u001b[32mcell26.sc\u001b[39m:\u001b[32m4\u001b[39m)",
      "  ammonite.$sess.cell26$Helper.reverse(\u001b[32mcell26.sc\u001b[39m:\u001b[32m4\u001b[39m)",
      "  ammonite.$sess.cell26$Helper.reverse(\u001b[32mcell26.sc\u001b[39m:\u001b[32m4\u001b[39m)",
      "  ammonite.$sess.cell26$Helper.reverse(\u001b[32mcell26.sc\u001b[39m:\u001b[32m4\u001b[39m)",
      "  ammonite.$sess.cell26$Helper.reverse(\u001b[32mcell26.sc\u001b[39m:\u001b[32m4\u001b[39m)",
      "  ammonite.$sess.cell26$Helper.reverse(\u001b[32mcell26.sc\u001b[39m:\u001b[32m4\u001b[39m)",
      "  ammonite.$sess.cell26$Helper.reverse(\u001b[32mcell26.sc\u001b[39m:\u001b[32m4\u001b[39m)",
      "  ammonite.$sess.cell26$Helper.reverse(\u001b[32mcell26.sc\u001b[39m:\u001b[32m4\u001b[39m)",
      "  ammonite.$sess.cell26$Helper.reverse(\u001b[32mcell26.sc\u001b[39m:\u001b[32m4\u001b[39m)",
      "  ammonite.$sess.cell26$Helper.reverse(\u001b[32mcell26.sc\u001b[39m:\u001b[32m4\u001b[39m)",
      "  ammonite.$sess.cell26$Helper.reverse(\u001b[32mcell26.sc\u001b[39m:\u001b[32m4\u001b[39m)",
      "  ammonite.$sess.cell26$Helper.reverse(\u001b[32mcell26.sc\u001b[39m:\u001b[32m4\u001b[39m)",
      "  ammonite.$sess.cell26$Helper.reverse(\u001b[32mcell26.sc\u001b[39m:\u001b[32m4\u001b[39m)",
      "  ammonite.$sess.cell26$Helper.reverse(\u001b[32mcell26.sc\u001b[39m:\u001b[32m4\u001b[39m)",
      "  ammonite.$sess.cell26$Helper.reverse(\u001b[32mcell26.sc\u001b[39m:\u001b[32m4\u001b[39m)",
      "  ammonite.$sess.cell26$Helper.reverse(\u001b[32mcell26.sc\u001b[39m:\u001b[32m4\u001b[39m)",
      "  ammonite.$sess.cell26$Helper.reverse(\u001b[32mcell26.sc\u001b[39m:\u001b[32m4\u001b[39m)",
      "  ammonite.$sess.cell26$Helper.reverse(\u001b[32mcell26.sc\u001b[39m:\u001b[32m4\u001b[39m)",
      "  ammonite.$sess.cell26$Helper.reverse(\u001b[32mcell26.sc\u001b[39m:\u001b[32m4\u001b[39m)",
      "  ammonite.$sess.cell26$Helper.reverse(\u001b[32mcell26.sc\u001b[39m:\u001b[32m4\u001b[39m)",
      "  ammonite.$sess.cell26$Helper.reverse(\u001b[32mcell26.sc\u001b[39m:\u001b[32m4\u001b[39m)",
      "  ammonite.$sess.cell26$Helper.reverse(\u001b[32mcell26.sc\u001b[39m:\u001b[32m4\u001b[39m)",
      "  ammonite.$sess.cell26$Helper.reverse(\u001b[32mcell26.sc\u001b[39m:\u001b[32m4\u001b[39m)",
      "  ammonite.$sess.cell26$Helper.reverse(\u001b[32mcell26.sc\u001b[39m:\u001b[32m4\u001b[39m)",
      "  ammonite.$sess.cell26$Helper.reverse(\u001b[32mcell26.sc\u001b[39m:\u001b[32m4\u001b[39m)",
      "  ammonite.$sess.cell26$Helper.reverse(\u001b[32mcell26.sc\u001b[39m:\u001b[32m4\u001b[39m)",
      "  ammonite.$sess.cell26$Helper.reverse(\u001b[32mcell26.sc\u001b[39m:\u001b[32m4\u001b[39m)",
      "  ammonite.$sess.cell26$Helper.reverse(\u001b[32mcell26.sc\u001b[39m:\u001b[32m4\u001b[39m)",
      "  ammonite.$sess.cell26$Helper.reverse(\u001b[32mcell26.sc\u001b[39m:\u001b[32m4\u001b[39m)",
      "  ammonite.$sess.cell26$Helper.reverse(\u001b[32mcell26.sc\u001b[39m:\u001b[32m4\u001b[39m)",
      "  ammonite.$sess.cell26$Helper.reverse(\u001b[32mcell26.sc\u001b[39m:\u001b[32m4\u001b[39m)",
      "  ammonite.$sess.cell26$Helper.reverse(\u001b[32mcell26.sc\u001b[39m:\u001b[32m4\u001b[39m)",
      "  ammonite.$sess.cell26$Helper.reverse(\u001b[32mcell26.sc\u001b[39m:\u001b[32m4\u001b[39m)",
      "  ammonite.$sess.cell26$Helper.reverse(\u001b[32mcell26.sc\u001b[39m:\u001b[32m4\u001b[39m)",
      "  ammonite.$sess.cell26$Helper.reverse(\u001b[32mcell26.sc\u001b[39m:\u001b[32m4\u001b[39m)",
      "  ammonite.$sess.cell26$Helper.reverse(\u001b[32mcell26.sc\u001b[39m:\u001b[32m4\u001b[39m)",
      "  ammonite.$sess.cell26$Helper.reverse(\u001b[32mcell26.sc\u001b[39m:\u001b[32m4\u001b[39m)",
      "  ammonite.$sess.cell26$Helper.reverse(\u001b[32mcell26.sc\u001b[39m:\u001b[32m4\u001b[39m)",
      "  ammonite.$sess.cell26$Helper.reverse(\u001b[32mcell26.sc\u001b[39m:\u001b[32m4\u001b[39m)",
      "  ammonite.$sess.cell26$Helper.reverse(\u001b[32mcell26.sc\u001b[39m:\u001b[32m4\u001b[39m)",
      "  ammonite.$sess.cell26$Helper.reverse(\u001b[32mcell26.sc\u001b[39m:\u001b[32m4\u001b[39m)",
      "  ammonite.$sess.cell26$Helper.reverse(\u001b[32mcell26.sc\u001b[39m:\u001b[32m4\u001b[39m)",
      "  ammonite.$sess.cell26$Helper.reverse(\u001b[32mcell26.sc\u001b[39m:\u001b[32m4\u001b[39m)",
      "  ammonite.$sess.cell26$Helper.reverse(\u001b[32mcell26.sc\u001b[39m:\u001b[32m4\u001b[39m)",
      "  ammonite.$sess.cell26$Helper.reverse(\u001b[32mcell26.sc\u001b[39m:\u001b[32m4\u001b[39m)",
      "  ammonite.$sess.cell26$Helper.reverse(\u001b[32mcell26.sc\u001b[39m:\u001b[32m4\u001b[39m)",
      "  ammonite.$sess.cell26$Helper.reverse(\u001b[32mcell26.sc\u001b[39m:\u001b[32m4\u001b[39m)",
      "  ammonite.$sess.cell26$Helper.reverse(\u001b[32mcell26.sc\u001b[39m:\u001b[32m4\u001b[39m)",
      "  ammonite.$sess.cell26$Helper.reverse(\u001b[32mcell26.sc\u001b[39m:\u001b[32m4\u001b[39m)",
      "  ammonite.$sess.cell26$Helper.reverse(\u001b[32mcell26.sc\u001b[39m:\u001b[32m4\u001b[39m)",
      "  ammonite.$sess.cell26$Helper.reverse(\u001b[32mcell26.sc\u001b[39m:\u001b[32m4\u001b[39m)",
      "  ammonite.$sess.cell26$Helper.reverse(\u001b[32mcell26.sc\u001b[39m:\u001b[32m4\u001b[39m)",
      "  ammonite.$sess.cell26$Helper.reverse(\u001b[32mcell26.sc\u001b[39m:\u001b[32m4\u001b[39m)",
      "  ammonite.$sess.cell26$Helper.reverse(\u001b[32mcell26.sc\u001b[39m:\u001b[32m4\u001b[39m)",
      "  ammonite.$sess.cell26$Helper.reverse(\u001b[32mcell26.sc\u001b[39m:\u001b[32m4\u001b[39m)",
      "  ammonite.$sess.cell26$Helper.reverse(\u001b[32mcell26.sc\u001b[39m:\u001b[32m4\u001b[39m)",
      "  ammonite.$sess.cell26$Helper.reverse(\u001b[32mcell26.sc\u001b[39m:\u001b[32m4\u001b[39m)",
      "  ammonite.$sess.cell26$Helper.reverse(\u001b[32mcell26.sc\u001b[39m:\u001b[32m4\u001b[39m)",
      "  ammonite.$sess.cell26$Helper.reverse(\u001b[32mcell26.sc\u001b[39m:\u001b[32m4\u001b[39m)",
      "  ammonite.$sess.cell26$Helper.reverse(\u001b[32mcell26.sc\u001b[39m:\u001b[32m4\u001b[39m)",
      "  ammonite.$sess.cell26$Helper.reverse(\u001b[32mcell26.sc\u001b[39m:\u001b[32m4\u001b[39m)",
      "  ammonite.$sess.cell26$Helper.reverse(\u001b[32mcell26.sc\u001b[39m:\u001b[32m4\u001b[39m)",
      "  ammonite.$sess.cell26$Helper.reverse(\u001b[32mcell26.sc\u001b[39m:\u001b[32m4\u001b[39m)",
      "  ammonite.$sess.cell26$Helper.reverse(\u001b[32mcell26.sc\u001b[39m:\u001b[32m4\u001b[39m)",
      "  ammonite.$sess.cell26$Helper.reverse(\u001b[32mcell26.sc\u001b[39m:\u001b[32m4\u001b[39m)",
      "  ammonite.$sess.cell26$Helper.reverse(\u001b[32mcell26.sc\u001b[39m:\u001b[32m4\u001b[39m)",
      "  ammonite.$sess.cell26$Helper.reverse(\u001b[32mcell26.sc\u001b[39m:\u001b[32m4\u001b[39m)",
      "  ammonite.$sess.cell26$Helper.reverse(\u001b[32mcell26.sc\u001b[39m:\u001b[32m4\u001b[39m)",
      "  ammonite.$sess.cell26$Helper.reverse(\u001b[32mcell26.sc\u001b[39m:\u001b[32m4\u001b[39m)",
      "  ammonite.$sess.cell26$Helper.reverse(\u001b[32mcell26.sc\u001b[39m:\u001b[32m4\u001b[39m)",
      "  ammonite.$sess.cell26$Helper.reverse(\u001b[32mcell26.sc\u001b[39m:\u001b[32m4\u001b[39m)",
      "  ammonite.$sess.cell26$Helper.reverse(\u001b[32mcell26.sc\u001b[39m:\u001b[32m4\u001b[39m)",
      "  ammonite.$sess.cell26$Helper.reverse(\u001b[32mcell26.sc\u001b[39m:\u001b[32m4\u001b[39m)",
      "  ammonite.$sess.cell26$Helper.reverse(\u001b[32mcell26.sc\u001b[39m:\u001b[32m4\u001b[39m)",
      "  ammonite.$sess.cell26$Helper.reverse(\u001b[32mcell26.sc\u001b[39m:\u001b[32m4\u001b[39m)",
      "  ammonite.$sess.cell26$Helper.reverse(\u001b[32mcell26.sc\u001b[39m:\u001b[32m4\u001b[39m)",
      "  ammonite.$sess.cell26$Helper.reverse(\u001b[32mcell26.sc\u001b[39m:\u001b[32m4\u001b[39m)",
      "  ammonite.$sess.cell26$Helper.reverse(\u001b[32mcell26.sc\u001b[39m:\u001b[32m4\u001b[39m)",
      "  ammonite.$sess.cell26$Helper.reverse(\u001b[32mcell26.sc\u001b[39m:\u001b[32m4\u001b[39m)",
      "  ammonite.$sess.cell26$Helper.reverse(\u001b[32mcell26.sc\u001b[39m:\u001b[32m4\u001b[39m)",
      "  ammonite.$sess.cell26$Helper.reverse(\u001b[32mcell26.sc\u001b[39m:\u001b[32m4\u001b[39m)",
      "  ammonite.$sess.cell26$Helper.reverse(\u001b[32mcell26.sc\u001b[39m:\u001b[32m4\u001b[39m)",
      "  ammonite.$sess.cell26$Helper.reverse(\u001b[32mcell26.sc\u001b[39m:\u001b[32m4\u001b[39m)",
      "  ammonite.$sess.cell26$Helper.reverse(\u001b[32mcell26.sc\u001b[39m:\u001b[32m4\u001b[39m)",
      "  ammonite.$sess.cell26$Helper.reverse(\u001b[32mcell26.sc\u001b[39m:\u001b[32m4\u001b[39m)",
      "  ammonite.$sess.cell26$Helper.reverse(\u001b[32mcell26.sc\u001b[39m:\u001b[32m4\u001b[39m)",
      "  ammonite.$sess.cell26$Helper.reverse(\u001b[32mcell26.sc\u001b[39m:\u001b[32m4\u001b[39m)",
      "  ammonite.$sess.cell26$Helper.reverse(\u001b[32mcell26.sc\u001b[39m:\u001b[32m4\u001b[39m)",
      "  ammonite.$sess.cell26$Helper.reverse(\u001b[32mcell26.sc\u001b[39m:\u001b[32m4\u001b[39m)",
      "  ammonite.$sess.cell26$Helper.reverse(\u001b[32mcell26.sc\u001b[39m:\u001b[32m4\u001b[39m)",
      "  ammonite.$sess.cell26$Helper.reverse(\u001b[32mcell26.sc\u001b[39m:\u001b[32m4\u001b[39m)",
      "  ammonite.$sess.cell26$Helper.reverse(\u001b[32mcell26.sc\u001b[39m:\u001b[32m4\u001b[39m)",
      "  ammonite.$sess.cell26$Helper.reverse(\u001b[32mcell26.sc\u001b[39m:\u001b[32m4\u001b[39m)",
      "  ammonite.$sess.cell26$Helper.reverse(\u001b[32mcell26.sc\u001b[39m:\u001b[32m4\u001b[39m)",
      "  ammonite.$sess.cell26$Helper.reverse(\u001b[32mcell26.sc\u001b[39m:\u001b[32m4\u001b[39m)",
      "  ammonite.$sess.cell26$Helper.reverse(\u001b[32mcell26.sc\u001b[39m:\u001b[32m4\u001b[39m)",
      "  ammonite.$sess.cell26$Helper.reverse(\u001b[32mcell26.sc\u001b[39m:\u001b[32m4\u001b[39m)",
      "  ammonite.$sess.cell26$Helper.reverse(\u001b[32mcell26.sc\u001b[39m:\u001b[32m4\u001b[39m)",
      "  ammonite.$sess.cell26$Helper.reverse(\u001b[32mcell26.sc\u001b[39m:\u001b[32m4\u001b[39m)",
      "  ammonite.$sess.cell26$Helper.reverse(\u001b[32mcell26.sc\u001b[39m:\u001b[32m4\u001b[39m)",
      "  ammonite.$sess.cell26$Helper.reverse(\u001b[32mcell26.sc\u001b[39m:\u001b[32m4\u001b[39m)",
      "  ammonite.$sess.cell26$Helper.reverse(\u001b[32mcell26.sc\u001b[39m:\u001b[32m4\u001b[39m)",
      "  ammonite.$sess.cell26$Helper.reverse(\u001b[32mcell26.sc\u001b[39m:\u001b[32m4\u001b[39m)",
      "  ammonite.$sess.cell26$Helper.reverse(\u001b[32mcell26.sc\u001b[39m:\u001b[32m4\u001b[39m)",
      "  ammonite.$sess.cell26$Helper.reverse(\u001b[32mcell26.sc\u001b[39m:\u001b[32m4\u001b[39m)",
      "  ammonite.$sess.cell26$Helper.reverse(\u001b[32mcell26.sc\u001b[39m:\u001b[32m4\u001b[39m)",
      "  ammonite.$sess.cell26$Helper.reverse(\u001b[32mcell26.sc\u001b[39m:\u001b[32m4\u001b[39m)",
      "  ammonite.$sess.cell26$Helper.reverse(\u001b[32mcell26.sc\u001b[39m:\u001b[32m4\u001b[39m)",
      "  ammonite.$sess.cell26$Helper.reverse(\u001b[32mcell26.sc\u001b[39m:\u001b[32m4\u001b[39m)",
      "  ammonite.$sess.cell26$Helper.reverse(\u001b[32mcell26.sc\u001b[39m:\u001b[32m4\u001b[39m)",
      "  ammonite.$sess.cell26$Helper.reverse(\u001b[32mcell26.sc\u001b[39m:\u001b[32m4\u001b[39m)",
      "  ammonite.$sess.cell26$Helper.reverse(\u001b[32mcell26.sc\u001b[39m:\u001b[32m4\u001b[39m)",
      "  ammonite.$sess.cell26$Helper.reverse(\u001b[32mcell26.sc\u001b[39m:\u001b[32m4\u001b[39m)",
      "  ammonite.$sess.cell26$Helper.reverse(\u001b[32mcell26.sc\u001b[39m:\u001b[32m4\u001b[39m)",
      "  ammonite.$sess.cell26$Helper.reverse(\u001b[32mcell26.sc\u001b[39m:\u001b[32m4\u001b[39m)",
      "  ammonite.$sess.cell26$Helper.reverse(\u001b[32mcell26.sc\u001b[39m:\u001b[32m4\u001b[39m)",
      "  ammonite.$sess.cell26$Helper.reverse(\u001b[32mcell26.sc\u001b[39m:\u001b[32m4\u001b[39m)",
      "  ammonite.$sess.cell26$Helper.reverse(\u001b[32mcell26.sc\u001b[39m:\u001b[32m4\u001b[39m)",
      "  ammonite.$sess.cell26$Helper.reverse(\u001b[32mcell26.sc\u001b[39m:\u001b[32m4\u001b[39m)",
      "  ammonite.$sess.cell26$Helper.reverse(\u001b[32mcell26.sc\u001b[39m:\u001b[32m4\u001b[39m)",
      "  ammonite.$sess.cell26$Helper.reverse(\u001b[32mcell26.sc\u001b[39m:\u001b[32m4\u001b[39m)",
      "  ammonite.$sess.cell26$Helper.reverse(\u001b[32mcell26.sc\u001b[39m:\u001b[32m4\u001b[39m)",
      "  ammonite.$sess.cell26$Helper.reverse(\u001b[32mcell26.sc\u001b[39m:\u001b[32m4\u001b[39m)",
      "  ammonite.$sess.cell26$Helper.reverse(\u001b[32mcell26.sc\u001b[39m:\u001b[32m4\u001b[39m)",
      "  ammonite.$sess.cell26$Helper.reverse(\u001b[32mcell26.sc\u001b[39m:\u001b[32m4\u001b[39m)",
      "  ammonite.$sess.cell26$Helper.reverse(\u001b[32mcell26.sc\u001b[39m:\u001b[32m4\u001b[39m)",
      "  ammonite.$sess.cell26$Helper.reverse(\u001b[32mcell26.sc\u001b[39m:\u001b[32m4\u001b[39m)",
      "  ammonite.$sess.cell26$Helper.reverse(\u001b[32mcell26.sc\u001b[39m:\u001b[32m4\u001b[39m)",
      "  ammonite.$sess.cell26$Helper.reverse(\u001b[32mcell26.sc\u001b[39m:\u001b[32m4\u001b[39m)",
      "  ammonite.$sess.cell26$Helper.reverse(\u001b[32mcell26.sc\u001b[39m:\u001b[32m4\u001b[39m)",
      "  ammonite.$sess.cell26$Helper.reverse(\u001b[32mcell26.sc\u001b[39m:\u001b[32m4\u001b[39m)",
      "  ammonite.$sess.cell26$Helper.reverse(\u001b[32mcell26.sc\u001b[39m:\u001b[32m4\u001b[39m)",
      "  ammonite.$sess.cell26$Helper.reverse(\u001b[32mcell26.sc\u001b[39m:\u001b[32m4\u001b[39m)",
      "  ammonite.$sess.cell26$Helper.reverse(\u001b[32mcell26.sc\u001b[39m:\u001b[32m4\u001b[39m)",
      "  ammonite.$sess.cell26$Helper.reverse(\u001b[32mcell26.sc\u001b[39m:\u001b[32m4\u001b[39m)",
      "  ammonite.$sess.cell26$Helper.reverse(\u001b[32mcell26.sc\u001b[39m:\u001b[32m4\u001b[39m)",
      "  ammonite.$sess.cell26$Helper.reverse(\u001b[32mcell26.sc\u001b[39m:\u001b[32m4\u001b[39m)",
      "  ammonite.$sess.cell26$Helper.reverse(\u001b[32mcell26.sc\u001b[39m:\u001b[32m4\u001b[39m)",
      "  ammonite.$sess.cell26$Helper.reverse(\u001b[32mcell26.sc\u001b[39m:\u001b[32m4\u001b[39m)",
      "  ammonite.$sess.cell26$Helper.reverse(\u001b[32mcell26.sc\u001b[39m:\u001b[32m4\u001b[39m)",
      "  ammonite.$sess.cell26$Helper.reverse(\u001b[32mcell26.sc\u001b[39m:\u001b[32m4\u001b[39m)",
      "  ammonite.$sess.cell26$Helper.reverse(\u001b[32mcell26.sc\u001b[39m:\u001b[32m4\u001b[39m)",
      "  ammonite.$sess.cell26$Helper.reverse(\u001b[32mcell26.sc\u001b[39m:\u001b[32m4\u001b[39m)",
      "  ammonite.$sess.cell26$Helper.reverse(\u001b[32mcell26.sc\u001b[39m:\u001b[32m4\u001b[39m)",
      "  ammonite.$sess.cell26$Helper.reverse(\u001b[32mcell26.sc\u001b[39m:\u001b[32m4\u001b[39m)",
      "  ammonite.$sess.cell26$Helper.reverse(\u001b[32mcell26.sc\u001b[39m:\u001b[32m4\u001b[39m)",
      "  ammonite.$sess.cell26$Helper.reverse(\u001b[32mcell26.sc\u001b[39m:\u001b[32m4\u001b[39m)",
      "  ammonite.$sess.cell26$Helper.reverse(\u001b[32mcell26.sc\u001b[39m:\u001b[32m4\u001b[39m)",
      "  ammonite.$sess.cell26$Helper.reverse(\u001b[32mcell26.sc\u001b[39m:\u001b[32m4\u001b[39m)",
      "  ammonite.$sess.cell26$Helper.reverse(\u001b[32mcell26.sc\u001b[39m:\u001b[32m4\u001b[39m)",
      "  ammonite.$sess.cell26$Helper.reverse(\u001b[32mcell26.sc\u001b[39m:\u001b[32m4\u001b[39m)",
      "  ammonite.$sess.cell26$Helper.reverse(\u001b[32mcell26.sc\u001b[39m:\u001b[32m4\u001b[39m)",
      "  ammonite.$sess.cell26$Helper.reverse(\u001b[32mcell26.sc\u001b[39m:\u001b[32m4\u001b[39m)",
      "  ammonite.$sess.cell26$Helper.reverse(\u001b[32mcell26.sc\u001b[39m:\u001b[32m4\u001b[39m)",
      "  ammonite.$sess.cell26$Helper.reverse(\u001b[32mcell26.sc\u001b[39m:\u001b[32m4\u001b[39m)",
      "  ammonite.$sess.cell26$Helper.reverse(\u001b[32mcell26.sc\u001b[39m:\u001b[32m4\u001b[39m)",
      "  ammonite.$sess.cell26$Helper.reverse(\u001b[32mcell26.sc\u001b[39m:\u001b[32m4\u001b[39m)",
      "  ammonite.$sess.cell26$Helper.reverse(\u001b[32mcell26.sc\u001b[39m:\u001b[32m4\u001b[39m)",
      "  ammonite.$sess.cell26$Helper.reverse(\u001b[32mcell26.sc\u001b[39m:\u001b[32m4\u001b[39m)",
      "  ammonite.$sess.cell26$Helper.reverse(\u001b[32mcell26.sc\u001b[39m:\u001b[32m4\u001b[39m)",
      "  ammonite.$sess.cell26$Helper.reverse(\u001b[32mcell26.sc\u001b[39m:\u001b[32m4\u001b[39m)",
      "  ammonite.$sess.cell26$Helper.reverse(\u001b[32mcell26.sc\u001b[39m:\u001b[32m4\u001b[39m)",
      "  ammonite.$sess.cell26$Helper.reverse(\u001b[32mcell26.sc\u001b[39m:\u001b[32m4\u001b[39m)",
      "  ammonite.$sess.cell26$Helper.reverse(\u001b[32mcell26.sc\u001b[39m:\u001b[32m4\u001b[39m)",
      "  ammonite.$sess.cell26$Helper.reverse(\u001b[32mcell26.sc\u001b[39m:\u001b[32m4\u001b[39m)",
      "  ammonite.$sess.cell26$Helper.reverse(\u001b[32mcell26.sc\u001b[39m:\u001b[32m4\u001b[39m)",
      "  ammonite.$sess.cell26$Helper.reverse(\u001b[32mcell26.sc\u001b[39m:\u001b[32m4\u001b[39m)",
      "  ammonite.$sess.cell26$Helper.reverse(\u001b[32mcell26.sc\u001b[39m:\u001b[32m4\u001b[39m)",
      "  ammonite.$sess.cell26$Helper.reverse(\u001b[32mcell26.sc\u001b[39m:\u001b[32m4\u001b[39m)",
      "  ammonite.$sess.cell26$Helper.reverse(\u001b[32mcell26.sc\u001b[39m:\u001b[32m4\u001b[39m)",
      "  ammonite.$sess.cell26$Helper.reverse(\u001b[32mcell26.sc\u001b[39m:\u001b[32m4\u001b[39m)",
      "  ammonite.$sess.cell26$Helper.reverse(\u001b[32mcell26.sc\u001b[39m:\u001b[32m4\u001b[39m)",
      "  ammonite.$sess.cell26$Helper.reverse(\u001b[32mcell26.sc\u001b[39m:\u001b[32m4\u001b[39m)",
      "  ammonite.$sess.cell26$Helper.reverse(\u001b[32mcell26.sc\u001b[39m:\u001b[32m4\u001b[39m)",
      "  ammonite.$sess.cell26$Helper.reverse(\u001b[32mcell26.sc\u001b[39m:\u001b[32m4\u001b[39m)",
      "  ammonite.$sess.cell26$Helper.reverse(\u001b[32mcell26.sc\u001b[39m:\u001b[32m4\u001b[39m)",
      "  ammonite.$sess.cell26$Helper.reverse(\u001b[32mcell26.sc\u001b[39m:\u001b[32m4\u001b[39m)",
      "  ammonite.$sess.cell26$Helper.reverse(\u001b[32mcell26.sc\u001b[39m:\u001b[32m4\u001b[39m)",
      "  ammonite.$sess.cell26$Helper.reverse(\u001b[32mcell26.sc\u001b[39m:\u001b[32m4\u001b[39m)",
      "  ammonite.$sess.cell26$Helper.reverse(\u001b[32mcell26.sc\u001b[39m:\u001b[32m4\u001b[39m)",
      "  ammonite.$sess.cell26$Helper.reverse(\u001b[32mcell26.sc\u001b[39m:\u001b[32m4\u001b[39m)",
      "  ammonite.$sess.cell26$Helper.reverse(\u001b[32mcell26.sc\u001b[39m:\u001b[32m4\u001b[39m)",
      "  ammonite.$sess.cell26$Helper.reverse(\u001b[32mcell26.sc\u001b[39m:\u001b[32m4\u001b[39m)",
      "  ammonite.$sess.cell26$Helper.reverse(\u001b[32mcell26.sc\u001b[39m:\u001b[32m4\u001b[39m)",
      "  ammonite.$sess.cell26$Helper.reverse(\u001b[32mcell26.sc\u001b[39m:\u001b[32m4\u001b[39m)",
      "  ammonite.$sess.cell26$Helper.reverse(\u001b[32mcell26.sc\u001b[39m:\u001b[32m4\u001b[39m)",
      "  ammonite.$sess.cell26$Helper.reverse(\u001b[32mcell26.sc\u001b[39m:\u001b[32m4\u001b[39m)",
      "  ammonite.$sess.cell26$Helper.reverse(\u001b[32mcell26.sc\u001b[39m:\u001b[32m4\u001b[39m)",
      "  ammonite.$sess.cell26$Helper.reverse(\u001b[32mcell26.sc\u001b[39m:\u001b[32m4\u001b[39m)",
      "  ammonite.$sess.cell26$Helper.reverse(\u001b[32mcell26.sc\u001b[39m:\u001b[32m4\u001b[39m)",
      "  ammonite.$sess.cell26$Helper.reverse(\u001b[32mcell26.sc\u001b[39m:\u001b[32m4\u001b[39m)",
      "  ammonite.$sess.cell26$Helper.reverse(\u001b[32mcell26.sc\u001b[39m:\u001b[32m4\u001b[39m)",
      "  ammonite.$sess.cell26$Helper.reverse(\u001b[32mcell26.sc\u001b[39m:\u001b[32m4\u001b[39m)",
      "  ammonite.$sess.cell26$Helper.reverse(\u001b[32mcell26.sc\u001b[39m:\u001b[32m4\u001b[39m)",
      "  ammonite.$sess.cell26$Helper.reverse(\u001b[32mcell26.sc\u001b[39m:\u001b[32m4\u001b[39m)",
      "  ammonite.$sess.cell26$Helper.reverse(\u001b[32mcell26.sc\u001b[39m:\u001b[32m4\u001b[39m)",
      "  ammonite.$sess.cell26$Helper.reverse(\u001b[32mcell26.sc\u001b[39m:\u001b[32m4\u001b[39m)",
      "  ammonite.$sess.cell26$Helper.reverse(\u001b[32mcell26.sc\u001b[39m:\u001b[32m4\u001b[39m)",
      "  ammonite.$sess.cell26$Helper.reverse(\u001b[32mcell26.sc\u001b[39m:\u001b[32m4\u001b[39m)",
      "  ammonite.$sess.cell26$Helper.reverse(\u001b[32mcell26.sc\u001b[39m:\u001b[32m4\u001b[39m)",
      "  ammonite.$sess.cell26$Helper.reverse(\u001b[32mcell26.sc\u001b[39m:\u001b[32m4\u001b[39m)",
      "  ammonite.$sess.cell26$Helper.reverse(\u001b[32mcell26.sc\u001b[39m:\u001b[32m4\u001b[39m)",
      "  ammonite.$sess.cell26$Helper.reverse(\u001b[32mcell26.sc\u001b[39m:\u001b[32m4\u001b[39m)",
      "  ammonite.$sess.cell26$Helper.reverse(\u001b[32mcell26.sc\u001b[39m:\u001b[32m4\u001b[39m)",
      "  ammonite.$sess.cell26$Helper.reverse(\u001b[32mcell26.sc\u001b[39m:\u001b[32m4\u001b[39m)",
      "  ammonite.$sess.cell26$Helper.reverse(\u001b[32mcell26.sc\u001b[39m:\u001b[32m4\u001b[39m)",
      "  ammonite.$sess.cell26$Helper.reverse(\u001b[32mcell26.sc\u001b[39m:\u001b[32m4\u001b[39m)",
      "  ammonite.$sess.cell26$Helper.reverse(\u001b[32mcell26.sc\u001b[39m:\u001b[32m4\u001b[39m)",
      "  ammonite.$sess.cell26$Helper.reverse(\u001b[32mcell26.sc\u001b[39m:\u001b[32m4\u001b[39m)",
      "  ammonite.$sess.cell26$Helper.reverse(\u001b[32mcell26.sc\u001b[39m:\u001b[32m4\u001b[39m)",
      "  ammonite.$sess.cell26$Helper.reverse(\u001b[32mcell26.sc\u001b[39m:\u001b[32m4\u001b[39m)",
      "  ammonite.$sess.cell26$Helper.reverse(\u001b[32mcell26.sc\u001b[39m:\u001b[32m4\u001b[39m)",
      "  ammonite.$sess.cell26$Helper.reverse(\u001b[32mcell26.sc\u001b[39m:\u001b[32m4\u001b[39m)",
      "  ammonite.$sess.cell26$Helper.reverse(\u001b[32mcell26.sc\u001b[39m:\u001b[32m4\u001b[39m)",
      "  ammonite.$sess.cell26$Helper.reverse(\u001b[32mcell26.sc\u001b[39m:\u001b[32m4\u001b[39m)",
      "  ammonite.$sess.cell26$Helper.reverse(\u001b[32mcell26.sc\u001b[39m:\u001b[32m4\u001b[39m)",
      "  ammonite.$sess.cell26$Helper.reverse(\u001b[32mcell26.sc\u001b[39m:\u001b[32m4\u001b[39m)",
      "  ammonite.$sess.cell26$Helper.reverse(\u001b[32mcell26.sc\u001b[39m:\u001b[32m4\u001b[39m)",
      "  ammonite.$sess.cell26$Helper.reverse(\u001b[32mcell26.sc\u001b[39m:\u001b[32m4\u001b[39m)",
      "  ammonite.$sess.cell26$Helper.reverse(\u001b[32mcell26.sc\u001b[39m:\u001b[32m4\u001b[39m)",
      "  ammonite.$sess.cell26$Helper.reverse(\u001b[32mcell26.sc\u001b[39m:\u001b[32m4\u001b[39m)",
      "  ammonite.$sess.cell26$Helper.reverse(\u001b[32mcell26.sc\u001b[39m:\u001b[32m4\u001b[39m)",
      "  ammonite.$sess.cell26$Helper.reverse(\u001b[32mcell26.sc\u001b[39m:\u001b[32m4\u001b[39m)",
      "  ammonite.$sess.cell26$Helper.reverse(\u001b[32mcell26.sc\u001b[39m:\u001b[32m4\u001b[39m)",
      "  ammonite.$sess.cell26$Helper.reverse(\u001b[32mcell26.sc\u001b[39m:\u001b[32m4\u001b[39m)",
      "  ammonite.$sess.cell26$Helper.reverse(\u001b[32mcell26.sc\u001b[39m:\u001b[32m4\u001b[39m)",
      "  ammonite.$sess.cell26$Helper.reverse(\u001b[32mcell26.sc\u001b[39m:\u001b[32m4\u001b[39m)",
      "  ammonite.$sess.cell26$Helper.reverse(\u001b[32mcell26.sc\u001b[39m:\u001b[32m4\u001b[39m)",
      "  ammonite.$sess.cell26$Helper.reverse(\u001b[32mcell26.sc\u001b[39m:\u001b[32m4\u001b[39m)",
      "  ammonite.$sess.cell26$Helper.reverse(\u001b[32mcell26.sc\u001b[39m:\u001b[32m4\u001b[39m)",
      "  ammonite.$sess.cell26$Helper.reverse(\u001b[32mcell26.sc\u001b[39m:\u001b[32m4\u001b[39m)",
      "  ammonite.$sess.cell26$Helper.reverse(\u001b[32mcell26.sc\u001b[39m:\u001b[32m4\u001b[39m)",
      "  ammonite.$sess.cell26$Helper.reverse(\u001b[32mcell26.sc\u001b[39m:\u001b[32m4\u001b[39m)",
      "  ammonite.$sess.cell26$Helper.reverse(\u001b[32mcell26.sc\u001b[39m:\u001b[32m4\u001b[39m)",
      "  ammonite.$sess.cell26$Helper.reverse(\u001b[32mcell26.sc\u001b[39m:\u001b[32m4\u001b[39m)",
      "  ammonite.$sess.cell26$Helper.reverse(\u001b[32mcell26.sc\u001b[39m:\u001b[32m4\u001b[39m)",
      "  ammonite.$sess.cell26$Helper.reverse(\u001b[32mcell26.sc\u001b[39m:\u001b[32m4\u001b[39m)",
      "  ammonite.$sess.cell26$Helper.reverse(\u001b[32mcell26.sc\u001b[39m:\u001b[32m4\u001b[39m)",
      "  ammonite.$sess.cell26$Helper.reverse(\u001b[32mcell26.sc\u001b[39m:\u001b[32m4\u001b[39m)",
      "  ammonite.$sess.cell26$Helper.reverse(\u001b[32mcell26.sc\u001b[39m:\u001b[32m4\u001b[39m)",
      "  ammonite.$sess.cell26$Helper.reverse(\u001b[32mcell26.sc\u001b[39m:\u001b[32m4\u001b[39m)",
      "  ammonite.$sess.cell26$Helper.reverse(\u001b[32mcell26.sc\u001b[39m:\u001b[32m4\u001b[39m)",
      "  ammonite.$sess.cell26$Helper.reverse(\u001b[32mcell26.sc\u001b[39m:\u001b[32m4\u001b[39m)",
      "  ammonite.$sess.cell26$Helper.reverse(\u001b[32mcell26.sc\u001b[39m:\u001b[32m4\u001b[39m)",
      "  ammonite.$sess.cell26$Helper.reverse(\u001b[32mcell26.sc\u001b[39m:\u001b[32m4\u001b[39m)",
      "  ammonite.$sess.cell26$Helper.reverse(\u001b[32mcell26.sc\u001b[39m:\u001b[32m4\u001b[39m)",
      "  ammonite.$sess.cell26$Helper.reverse(\u001b[32mcell26.sc\u001b[39m:\u001b[32m4\u001b[39m)",
      "  ammonite.$sess.cell26$Helper.reverse(\u001b[32mcell26.sc\u001b[39m:\u001b[32m4\u001b[39m)",
      "  ammonite.$sess.cell26$Helper.reverse(\u001b[32mcell26.sc\u001b[39m:\u001b[32m4\u001b[39m)",
      "  ammonite.$sess.cell26$Helper.reverse(\u001b[32mcell26.sc\u001b[39m:\u001b[32m4\u001b[39m)",
      "  ammonite.$sess.cell26$Helper.reverse(\u001b[32mcell26.sc\u001b[39m:\u001b[32m4\u001b[39m)",
      "  ammonite.$sess.cell26$Helper.reverse(\u001b[32mcell26.sc\u001b[39m:\u001b[32m4\u001b[39m)",
      "  ammonite.$sess.cell26$Helper.reverse(\u001b[32mcell26.sc\u001b[39m:\u001b[32m4\u001b[39m)",
      "  ammonite.$sess.cell26$Helper.reverse(\u001b[32mcell26.sc\u001b[39m:\u001b[32m4\u001b[39m)",
      "  ammonite.$sess.cell26$Helper.reverse(\u001b[32mcell26.sc\u001b[39m:\u001b[32m4\u001b[39m)",
      "  ammonite.$sess.cell26$Helper.reverse(\u001b[32mcell26.sc\u001b[39m:\u001b[32m4\u001b[39m)",
      "  ammonite.$sess.cell26$Helper.reverse(\u001b[32mcell26.sc\u001b[39m:\u001b[32m4\u001b[39m)",
      "  ammonite.$sess.cell26$Helper.reverse(\u001b[32mcell26.sc\u001b[39m:\u001b[32m4\u001b[39m)",
      "  ammonite.$sess.cell26$Helper.reverse(\u001b[32mcell26.sc\u001b[39m:\u001b[32m4\u001b[39m)",
      "  ammonite.$sess.cell26$Helper.reverse(\u001b[32mcell26.sc\u001b[39m:\u001b[32m4\u001b[39m)",
      "  ammonite.$sess.cell26$Helper.reverse(\u001b[32mcell26.sc\u001b[39m:\u001b[32m4\u001b[39m)",
      "  ammonite.$sess.cell26$Helper.reverse(\u001b[32mcell26.sc\u001b[39m:\u001b[32m4\u001b[39m)",
      "  ammonite.$sess.cell26$Helper.reverse(\u001b[32mcell26.sc\u001b[39m:\u001b[32m4\u001b[39m)",
      "  ammonite.$sess.cell26$Helper.reverse(\u001b[32mcell26.sc\u001b[39m:\u001b[32m4\u001b[39m)",
      "  ammonite.$sess.cell26$Helper.reverse(\u001b[32mcell26.sc\u001b[39m:\u001b[32m4\u001b[39m)",
      "  ammonite.$sess.cell26$Helper.reverse(\u001b[32mcell26.sc\u001b[39m:\u001b[32m4\u001b[39m)",
      "  ammonite.$sess.cell26$Helper.reverse(\u001b[32mcell26.sc\u001b[39m:\u001b[32m4\u001b[39m)",
      "  ammonite.$sess.cell26$Helper.reverse(\u001b[32mcell26.sc\u001b[39m:\u001b[32m4\u001b[39m)",
      "  ammonite.$sess.cell26$Helper.reverse(\u001b[32mcell26.sc\u001b[39m:\u001b[32m4\u001b[39m)",
      "  ammonite.$sess.cell26$Helper.reverse(\u001b[32mcell26.sc\u001b[39m:\u001b[32m4\u001b[39m)",
      "  ammonite.$sess.cell26$Helper.reverse(\u001b[32mcell26.sc\u001b[39m:\u001b[32m4\u001b[39m)",
      "  ammonite.$sess.cell26$Helper.reverse(\u001b[32mcell26.sc\u001b[39m:\u001b[32m4\u001b[39m)",
      "  ammonite.$sess.cell26$Helper.reverse(\u001b[32mcell26.sc\u001b[39m:\u001b[32m4\u001b[39m)",
      "  ammonite.$sess.cell26$Helper.reverse(\u001b[32mcell26.sc\u001b[39m:\u001b[32m4\u001b[39m)",
      "  ammonite.$sess.cell26$Helper.reverse(\u001b[32mcell26.sc\u001b[39m:\u001b[32m4\u001b[39m)",
      "  ammonite.$sess.cell26$Helper.reverse(\u001b[32mcell26.sc\u001b[39m:\u001b[32m4\u001b[39m)",
      "  ammonite.$sess.cell26$Helper.reverse(\u001b[32mcell26.sc\u001b[39m:\u001b[32m4\u001b[39m)",
      "  ammonite.$sess.cell26$Helper.reverse(\u001b[32mcell26.sc\u001b[39m:\u001b[32m4\u001b[39m)",
      "  ammonite.$sess.cell26$Helper.reverse(\u001b[32mcell26.sc\u001b[39m:\u001b[32m4\u001b[39m)",
      "  ammonite.$sess.cell26$Helper.reverse(\u001b[32mcell26.sc\u001b[39m:\u001b[32m4\u001b[39m)",
      "  ammonite.$sess.cell26$Helper.reverse(\u001b[32mcell26.sc\u001b[39m:\u001b[32m4\u001b[39m)",
      "  ammonite.$sess.cell26$Helper.reverse(\u001b[32mcell26.sc\u001b[39m:\u001b[32m4\u001b[39m)",
      "  ammonite.$sess.cell26$Helper.reverse(\u001b[32mcell26.sc\u001b[39m:\u001b[32m4\u001b[39m)",
      "  ammonite.$sess.cell26$Helper.reverse(\u001b[32mcell26.sc\u001b[39m:\u001b[32m4\u001b[39m)",
      "  ammonite.$sess.cell26$Helper.reverse(\u001b[32mcell26.sc\u001b[39m:\u001b[32m4\u001b[39m)",
      "  ammonite.$sess.cell26$Helper.reverse(\u001b[32mcell26.sc\u001b[39m:\u001b[32m4\u001b[39m)",
      "  ammonite.$sess.cell26$Helper.reverse(\u001b[32mcell26.sc\u001b[39m:\u001b[32m4\u001b[39m)",
      "  ammonite.$sess.cell26$Helper.reverse(\u001b[32mcell26.sc\u001b[39m:\u001b[32m4\u001b[39m)",
      "  ammonite.$sess.cell26$Helper.reverse(\u001b[32mcell26.sc\u001b[39m:\u001b[32m4\u001b[39m)",
      "  ammonite.$sess.cell26$Helper.reverse(\u001b[32mcell26.sc\u001b[39m:\u001b[32m4\u001b[39m)",
      "  ammonite.$sess.cell26$Helper.reverse(\u001b[32mcell26.sc\u001b[39m:\u001b[32m4\u001b[39m)",
      "  ammonite.$sess.cell26$Helper.reverse(\u001b[32mcell26.sc\u001b[39m:\u001b[32m4\u001b[39m)",
      "  ammonite.$sess.cell26$Helper.reverse(\u001b[32mcell26.sc\u001b[39m:\u001b[32m4\u001b[39m)",
      "  ammonite.$sess.cell26$Helper.reverse(\u001b[32mcell26.sc\u001b[39m:\u001b[32m4\u001b[39m)",
      "  ammonite.$sess.cell26$Helper.reverse(\u001b[32mcell26.sc\u001b[39m:\u001b[32m4\u001b[39m)",
      "  ammonite.$sess.cell26$Helper.reverse(\u001b[32mcell26.sc\u001b[39m:\u001b[32m4\u001b[39m)",
      "  ammonite.$sess.cell26$Helper.reverse(\u001b[32mcell26.sc\u001b[39m:\u001b[32m4\u001b[39m)",
      "  ammonite.$sess.cell26$Helper.reverse(\u001b[32mcell26.sc\u001b[39m:\u001b[32m4\u001b[39m)",
      "  ammonite.$sess.cell26$Helper.reverse(\u001b[32mcell26.sc\u001b[39m:\u001b[32m4\u001b[39m)",
      "  ammonite.$sess.cell26$Helper.reverse(\u001b[32mcell26.sc\u001b[39m:\u001b[32m4\u001b[39m)",
      "  ammonite.$sess.cell26$Helper.reverse(\u001b[32mcell26.sc\u001b[39m:\u001b[32m4\u001b[39m)",
      "  ammonite.$sess.cell26$Helper.reverse(\u001b[32mcell26.sc\u001b[39m:\u001b[32m4\u001b[39m)",
      "  ammonite.$sess.cell26$Helper.reverse(\u001b[32mcell26.sc\u001b[39m:\u001b[32m4\u001b[39m)",
      "  ammonite.$sess.cell26$Helper.reverse(\u001b[32mcell26.sc\u001b[39m:\u001b[32m4\u001b[39m)",
      "  ammonite.$sess.cell26$Helper.reverse(\u001b[32mcell26.sc\u001b[39m:\u001b[32m4\u001b[39m)",
      "  ammonite.$sess.cell26$Helper.reverse(\u001b[32mcell26.sc\u001b[39m:\u001b[32m4\u001b[39m)",
      "  ammonite.$sess.cell26$Helper.reverse(\u001b[32mcell26.sc\u001b[39m:\u001b[32m4\u001b[39m)",
      "  ammonite.$sess.cell26$Helper.reverse(\u001b[32mcell26.sc\u001b[39m:\u001b[32m4\u001b[39m)",
      "  ammonite.$sess.cell26$Helper.reverse(\u001b[32mcell26.sc\u001b[39m:\u001b[32m4\u001b[39m)",
      "  ammonite.$sess.cell26$Helper.reverse(\u001b[32mcell26.sc\u001b[39m:\u001b[32m4\u001b[39m)",
      "  ammonite.$sess.cell26$Helper.reverse(\u001b[32mcell26.sc\u001b[39m:\u001b[32m4\u001b[39m)",
      "  ammonite.$sess.cell26$Helper.reverse(\u001b[32mcell26.sc\u001b[39m:\u001b[32m4\u001b[39m)",
      "  ammonite.$sess.cell26$Helper.reverse(\u001b[32mcell26.sc\u001b[39m:\u001b[32m4\u001b[39m)",
      "  ammonite.$sess.cell26$Helper.reverse(\u001b[32mcell26.sc\u001b[39m:\u001b[32m4\u001b[39m)",
      "  ammonite.$sess.cell26$Helper.reverse(\u001b[32mcell26.sc\u001b[39m:\u001b[32m4\u001b[39m)",
      "  ammonite.$sess.cell26$Helper.reverse(\u001b[32mcell26.sc\u001b[39m:\u001b[32m4\u001b[39m)",
      "  ammonite.$sess.cell26$Helper.reverse(\u001b[32mcell26.sc\u001b[39m:\u001b[32m4\u001b[39m)",
      "  ammonite.$sess.cell26$Helper.reverse(\u001b[32mcell26.sc\u001b[39m:\u001b[32m4\u001b[39m)",
      "  ammonite.$sess.cell26$Helper.reverse(\u001b[32mcell26.sc\u001b[39m:\u001b[32m4\u001b[39m)",
      "  ammonite.$sess.cell26$Helper.reverse(\u001b[32mcell26.sc\u001b[39m:\u001b[32m4\u001b[39m)",
      "  ammonite.$sess.cell26$Helper.reverse(\u001b[32mcell26.sc\u001b[39m:\u001b[32m4\u001b[39m)",
      "  ammonite.$sess.cell26$Helper.reverse(\u001b[32mcell26.sc\u001b[39m:\u001b[32m4\u001b[39m)",
      "  ammonite.$sess.cell26$Helper.reverse(\u001b[32mcell26.sc\u001b[39m:\u001b[32m4\u001b[39m)",
      "  ammonite.$sess.cell26$Helper.reverse(\u001b[32mcell26.sc\u001b[39m:\u001b[32m4\u001b[39m)",
      "  ammonite.$sess.cell26$Helper.reverse(\u001b[32mcell26.sc\u001b[39m:\u001b[32m4\u001b[39m)",
      "  ammonite.$sess.cell26$Helper.reverse(\u001b[32mcell26.sc\u001b[39m:\u001b[32m4\u001b[39m)",
      "  ammonite.$sess.cell26$Helper.reverse(\u001b[32mcell26.sc\u001b[39m:\u001b[32m4\u001b[39m)",
      "  ammonite.$sess.cell26$Helper.reverse(\u001b[32mcell26.sc\u001b[39m:\u001b[32m4\u001b[39m)",
      "  ammonite.$sess.cell26$Helper.reverse(\u001b[32mcell26.sc\u001b[39m:\u001b[32m4\u001b[39m)",
      "  ammonite.$sess.cell26$Helper.reverse(\u001b[32mcell26.sc\u001b[39m:\u001b[32m4\u001b[39m)",
      "  ammonite.$sess.cell26$Helper.reverse(\u001b[32mcell26.sc\u001b[39m:\u001b[32m4\u001b[39m)",
      "  ammonite.$sess.cell26$Helper.reverse(\u001b[32mcell26.sc\u001b[39m:\u001b[32m4\u001b[39m)",
      "  ammonite.$sess.cell26$Helper.reverse(\u001b[32mcell26.sc\u001b[39m:\u001b[32m4\u001b[39m)",
      "  ammonite.$sess.cell26$Helper.reverse(\u001b[32mcell26.sc\u001b[39m:\u001b[32m4\u001b[39m)",
      "  ammonite.$sess.cell26$Helper.reverse(\u001b[32mcell26.sc\u001b[39m:\u001b[32m4\u001b[39m)",
      "  ammonite.$sess.cell26$Helper.reverse(\u001b[32mcell26.sc\u001b[39m:\u001b[32m4\u001b[39m)",
      "  ammonite.$sess.cell26$Helper.reverse(\u001b[32mcell26.sc\u001b[39m:\u001b[32m4\u001b[39m)",
      "  ammonite.$sess.cell26$Helper.reverse(\u001b[32mcell26.sc\u001b[39m:\u001b[32m4\u001b[39m)",
      "  ammonite.$sess.cell26$Helper.reverse(\u001b[32mcell26.sc\u001b[39m:\u001b[32m4\u001b[39m)",
      "  ammonite.$sess.cell26$Helper.reverse(\u001b[32mcell26.sc\u001b[39m:\u001b[32m4\u001b[39m)",
      "  ammonite.$sess.cell26$Helper.reverse(\u001b[32mcell26.sc\u001b[39m:\u001b[32m4\u001b[39m)",
      "  ammonite.$sess.cell26$Helper.reverse(\u001b[32mcell26.sc\u001b[39m:\u001b[32m4\u001b[39m)",
      "  ammonite.$sess.cell26$Helper.reverse(\u001b[32mcell26.sc\u001b[39m:\u001b[32m4\u001b[39m)",
      "  ammonite.$sess.cell26$Helper.reverse(\u001b[32mcell26.sc\u001b[39m:\u001b[32m4\u001b[39m)",
      "  ammonite.$sess.cell26$Helper.reverse(\u001b[32mcell26.sc\u001b[39m:\u001b[32m4\u001b[39m)",
      "  ammonite.$sess.cell26$Helper.reverse(\u001b[32mcell26.sc\u001b[39m:\u001b[32m4\u001b[39m)",
      "  ammonite.$sess.cell26$Helper.reverse(\u001b[32mcell26.sc\u001b[39m:\u001b[32m4\u001b[39m)",
      "  ammonite.$sess.cell26$Helper.reverse(\u001b[32mcell26.sc\u001b[39m:\u001b[32m4\u001b[39m)",
      "  ammonite.$sess.cell26$Helper.reverse(\u001b[32mcell26.sc\u001b[39m:\u001b[32m4\u001b[39m)",
      "  ammonite.$sess.cell26$Helper.reverse(\u001b[32mcell26.sc\u001b[39m:\u001b[32m4\u001b[39m)",
      "  ammonite.$sess.cell26$Helper.reverse(\u001b[32mcell26.sc\u001b[39m:\u001b[32m4\u001b[39m)",
      "  ammonite.$sess.cell26$Helper.reverse(\u001b[32mcell26.sc\u001b[39m:\u001b[32m4\u001b[39m)",
      "  ammonite.$sess.cell26$Helper.reverse(\u001b[32mcell26.sc\u001b[39m:\u001b[32m4\u001b[39m)",
      "  ammonite.$sess.cell26$Helper.reverse(\u001b[32mcell26.sc\u001b[39m:\u001b[32m4\u001b[39m)",
      "  ammonite.$sess.cell26$Helper.reverse(\u001b[32mcell26.sc\u001b[39m:\u001b[32m4\u001b[39m)",
      "  ammonite.$sess.cell26$Helper.reverse(\u001b[32mcell26.sc\u001b[39m:\u001b[32m4\u001b[39m)",
      "  ammonite.$sess.cell26$Helper.reverse(\u001b[32mcell26.sc\u001b[39m:\u001b[32m4\u001b[39m)",
      "  ammonite.$sess.cell26$Helper.reverse(\u001b[32mcell26.sc\u001b[39m:\u001b[32m4\u001b[39m)",
      "  ammonite.$sess.cell26$Helper.reverse(\u001b[32mcell26.sc\u001b[39m:\u001b[32m4\u001b[39m)",
      "  ammonite.$sess.cell26$Helper.reverse(\u001b[32mcell26.sc\u001b[39m:\u001b[32m4\u001b[39m)",
      "  ammonite.$sess.cell26$Helper.reverse(\u001b[32mcell26.sc\u001b[39m:\u001b[32m4\u001b[39m)",
      "  ammonite.$sess.cell26$Helper.reverse(\u001b[32mcell26.sc\u001b[39m:\u001b[32m4\u001b[39m)",
      "  ammonite.$sess.cell26$Helper.reverse(\u001b[32mcell26.sc\u001b[39m:\u001b[32m4\u001b[39m)",
      "  ammonite.$sess.cell26$Helper.reverse(\u001b[32mcell26.sc\u001b[39m:\u001b[32m4\u001b[39m)",
      "  ammonite.$sess.cell26$Helper.reverse(\u001b[32mcell26.sc\u001b[39m:\u001b[32m4\u001b[39m)",
      "  ammonite.$sess.cell26$Helper.reverse(\u001b[32mcell26.sc\u001b[39m:\u001b[32m4\u001b[39m)",
      "  ammonite.$sess.cell26$Helper.reverse(\u001b[32mcell26.sc\u001b[39m:\u001b[32m4\u001b[39m)",
      "  ammonite.$sess.cell26$Helper.reverse(\u001b[32mcell26.sc\u001b[39m:\u001b[32m4\u001b[39m)",
      "  ammonite.$sess.cell26$Helper.reverse(\u001b[32mcell26.sc\u001b[39m:\u001b[32m4\u001b[39m)",
      "  ammonite.$sess.cell26$Helper.reverse(\u001b[32mcell26.sc\u001b[39m:\u001b[32m4\u001b[39m)",
      "  ammonite.$sess.cell26$Helper.reverse(\u001b[32mcell26.sc\u001b[39m:\u001b[32m4\u001b[39m)",
      "  ammonite.$sess.cell26$Helper.reverse(\u001b[32mcell26.sc\u001b[39m:\u001b[32m4\u001b[39m)",
      "  ammonite.$sess.cell26$Helper.reverse(\u001b[32mcell26.sc\u001b[39m:\u001b[32m4\u001b[39m)",
      "  ammonite.$sess.cell26$Helper.reverse(\u001b[32mcell26.sc\u001b[39m:\u001b[32m4\u001b[39m)",
      "  ammonite.$sess.cell26$Helper.reverse(\u001b[32mcell26.sc\u001b[39m:\u001b[32m4\u001b[39m)",
      "  ammonite.$sess.cell26$Helper.reverse(\u001b[32mcell26.sc\u001b[39m:\u001b[32m4\u001b[39m)",
      "  ammonite.$sess.cell26$Helper.reverse(\u001b[32mcell26.sc\u001b[39m:\u001b[32m4\u001b[39m)",
      "  ammonite.$sess.cell26$Helper.reverse(\u001b[32mcell26.sc\u001b[39m:\u001b[32m4\u001b[39m)",
      "  ammonite.$sess.cell26$Helper.reverse(\u001b[32mcell26.sc\u001b[39m:\u001b[32m4\u001b[39m)",
      "  ammonite.$sess.cell26$Helper.reverse(\u001b[32mcell26.sc\u001b[39m:\u001b[32m4\u001b[39m)",
      "  ammonite.$sess.cell26$Helper.reverse(\u001b[32mcell26.sc\u001b[39m:\u001b[32m4\u001b[39m)",
      "  ammonite.$sess.cell26$Helper.reverse(\u001b[32mcell26.sc\u001b[39m:\u001b[32m4\u001b[39m)",
      "  ammonite.$sess.cell26$Helper.reverse(\u001b[32mcell26.sc\u001b[39m:\u001b[32m4\u001b[39m)",
      "  ammonite.$sess.cell26$Helper.reverse(\u001b[32mcell26.sc\u001b[39m:\u001b[32m4\u001b[39m)",
      "  ammonite.$sess.cell26$Helper.reverse(\u001b[32mcell26.sc\u001b[39m:\u001b[32m4\u001b[39m)",
      "  ammonite.$sess.cell26$Helper.reverse(\u001b[32mcell26.sc\u001b[39m:\u001b[32m4\u001b[39m)",
      "  ammonite.$sess.cell26$Helper.reverse(\u001b[32mcell26.sc\u001b[39m:\u001b[32m4\u001b[39m)",
      "  ammonite.$sess.cell26$Helper.reverse(\u001b[32mcell26.sc\u001b[39m:\u001b[32m4\u001b[39m)",
      "  ammonite.$sess.cell26$Helper.reverse(\u001b[32mcell26.sc\u001b[39m:\u001b[32m4\u001b[39m)",
      "  ammonite.$sess.cell26$Helper.reverse(\u001b[32mcell26.sc\u001b[39m:\u001b[32m4\u001b[39m)",
      "  ammonite.$sess.cell26$Helper.reverse(\u001b[32mcell26.sc\u001b[39m:\u001b[32m4\u001b[39m)",
      "  ammonite.$sess.cell26$Helper.reverse(\u001b[32mcell26.sc\u001b[39m:\u001b[32m4\u001b[39m)",
      "  ammonite.$sess.cell26$Helper.reverse(\u001b[32mcell26.sc\u001b[39m:\u001b[32m4\u001b[39m)",
      "  ammonite.$sess.cell26$Helper.reverse(\u001b[32mcell26.sc\u001b[39m:\u001b[32m4\u001b[39m)",
      "  ammonite.$sess.cell26$Helper.reverse(\u001b[32mcell26.sc\u001b[39m:\u001b[32m4\u001b[39m)",
      "  ammonite.$sess.cell26$Helper.reverse(\u001b[32mcell26.sc\u001b[39m:\u001b[32m4\u001b[39m)",
      "  ammonite.$sess.cell26$Helper.reverse(\u001b[32mcell26.sc\u001b[39m:\u001b[32m4\u001b[39m)",
      "  ammonite.$sess.cell26$Helper.reverse(\u001b[32mcell26.sc\u001b[39m:\u001b[32m4\u001b[39m)",
      "  ammonite.$sess.cell26$Helper.reverse(\u001b[32mcell26.sc\u001b[39m:\u001b[32m4\u001b[39m)",
      "  ammonite.$sess.cell26$Helper.reverse(\u001b[32mcell26.sc\u001b[39m:\u001b[32m4\u001b[39m)",
      "  ammonite.$sess.cell26$Helper.reverse(\u001b[32mcell26.sc\u001b[39m:\u001b[32m4\u001b[39m)",
      "  ammonite.$sess.cell26$Helper.reverse(\u001b[32mcell26.sc\u001b[39m:\u001b[32m4\u001b[39m)",
      "  ammonite.$sess.cell26$Helper.reverse(\u001b[32mcell26.sc\u001b[39m:\u001b[32m4\u001b[39m)",
      "  ammonite.$sess.cell26$Helper.reverse(\u001b[32mcell26.sc\u001b[39m:\u001b[32m4\u001b[39m)",
      "  ammonite.$sess.cell26$Helper.reverse(\u001b[32mcell26.sc\u001b[39m:\u001b[32m4\u001b[39m)",
      "  ammonite.$sess.cell26$Helper.reverse(\u001b[32mcell26.sc\u001b[39m:\u001b[32m4\u001b[39m)",
      "  ammonite.$sess.cell26$Helper.reverse(\u001b[32mcell26.sc\u001b[39m:\u001b[32m4\u001b[39m)",
      "  ammonite.$sess.cell26$Helper.reverse(\u001b[32mcell26.sc\u001b[39m:\u001b[32m4\u001b[39m)",
      "  ammonite.$sess.cell26$Helper.reverse(\u001b[32mcell26.sc\u001b[39m:\u001b[32m4\u001b[39m)",
      "  ammonite.$sess.cell26$Helper.reverse(\u001b[32mcell26.sc\u001b[39m:\u001b[32m4\u001b[39m)",
      "  ammonite.$sess.cell26$Helper.reverse(\u001b[32mcell26.sc\u001b[39m:\u001b[32m4\u001b[39m)",
      "  ammonite.$sess.cell26$Helper.reverse(\u001b[32mcell26.sc\u001b[39m:\u001b[32m4\u001b[39m)",
      "  ammonite.$sess.cell26$Helper.reverse(\u001b[32mcell26.sc\u001b[39m:\u001b[32m4\u001b[39m)",
      "  ammonite.$sess.cell26$Helper.reverse(\u001b[32mcell26.sc\u001b[39m:\u001b[32m4\u001b[39m)",
      "  ammonite.$sess.cell26$Helper.reverse(\u001b[32mcell26.sc\u001b[39m:\u001b[32m4\u001b[39m)",
      "  ammonite.$sess.cell26$Helper.reverse(\u001b[32mcell26.sc\u001b[39m:\u001b[32m4\u001b[39m)",
      "  ammonite.$sess.cell26$Helper.reverse(\u001b[32mcell26.sc\u001b[39m:\u001b[32m4\u001b[39m)",
      "  ammonite.$sess.cell26$Helper.reverse(\u001b[32mcell26.sc\u001b[39m:\u001b[32m4\u001b[39m)",
      "  ammonite.$sess.cell26$Helper.reverse(\u001b[32mcell26.sc\u001b[39m:\u001b[32m4\u001b[39m)",
      "  ammonite.$sess.cell26$Helper.reverse(\u001b[32mcell26.sc\u001b[39m:\u001b[32m4\u001b[39m)",
      "  ammonite.$sess.cell26$Helper.reverse(\u001b[32mcell26.sc\u001b[39m:\u001b[32m4\u001b[39m)",
      "  ammonite.$sess.cell26$Helper.reverse(\u001b[32mcell26.sc\u001b[39m:\u001b[32m4\u001b[39m)",
      "  ammonite.$sess.cell26$Helper.reverse(\u001b[32mcell26.sc\u001b[39m:\u001b[32m4\u001b[39m)",
      "  ammonite.$sess.cell26$Helper.reverse(\u001b[32mcell26.sc\u001b[39m:\u001b[32m4\u001b[39m)",
      "  ammonite.$sess.cell26$Helper.reverse(\u001b[32mcell26.sc\u001b[39m:\u001b[32m4\u001b[39m)",
      "  ammonite.$sess.cell26$Helper.reverse(\u001b[32mcell26.sc\u001b[39m:\u001b[32m4\u001b[39m)",
      "  ammonite.$sess.cell26$Helper.reverse(\u001b[32mcell26.sc\u001b[39m:\u001b[32m4\u001b[39m)",
      "  ammonite.$sess.cell26$Helper.reverse(\u001b[32mcell26.sc\u001b[39m:\u001b[32m4\u001b[39m)",
      "  ammonite.$sess.cell26$Helper.reverse(\u001b[32mcell26.sc\u001b[39m:\u001b[32m4\u001b[39m)",
      "  ammonite.$sess.cell26$Helper.reverse(\u001b[32mcell26.sc\u001b[39m:\u001b[32m4\u001b[39m)",
      "  ammonite.$sess.cell26$Helper.reverse(\u001b[32mcell26.sc\u001b[39m:\u001b[32m4\u001b[39m)",
      "  ammonite.$sess.cell26$Helper.reverse(\u001b[32mcell26.sc\u001b[39m:\u001b[32m4\u001b[39m)",
      "  ammonite.$sess.cell26$Helper.reverse(\u001b[32mcell26.sc\u001b[39m:\u001b[32m4\u001b[39m)",
      "  ammonite.$sess.cell26$Helper.reverse(\u001b[32mcell26.sc\u001b[39m:\u001b[32m4\u001b[39m)",
      "  ammonite.$sess.cell26$Helper.reverse(\u001b[32mcell26.sc\u001b[39m:\u001b[32m4\u001b[39m)",
      "  ammonite.$sess.cell26$Helper.reverse(\u001b[32mcell26.sc\u001b[39m:\u001b[32m4\u001b[39m)",
      "  ammonite.$sess.cell26$Helper.reverse(\u001b[32mcell26.sc\u001b[39m:\u001b[32m4\u001b[39m)",
      "  ammonite.$sess.cell26$Helper.reverse(\u001b[32mcell26.sc\u001b[39m:\u001b[32m4\u001b[39m)",
      "  ammonite.$sess.cell26$Helper.reverse(\u001b[32mcell26.sc\u001b[39m:\u001b[32m4\u001b[39m)",
      "  ammonite.$sess.cell26$Helper.reverse(\u001b[32mcell26.sc\u001b[39m:\u001b[32m4\u001b[39m)",
      "  ammonite.$sess.cell26$Helper.reverse(\u001b[32mcell26.sc\u001b[39m:\u001b[32m4\u001b[39m)",
      "  ammonite.$sess.cell26$Helper.reverse(\u001b[32mcell26.sc\u001b[39m:\u001b[32m4\u001b[39m)",
      "  ammonite.$sess.cell26$Helper.reverse(\u001b[32mcell26.sc\u001b[39m:\u001b[32m4\u001b[39m)",
      "  ammonite.$sess.cell26$Helper.reverse(\u001b[32mcell26.sc\u001b[39m:\u001b[32m4\u001b[39m)",
      "  ammonite.$sess.cell26$Helper.reverse(\u001b[32mcell26.sc\u001b[39m:\u001b[32m4\u001b[39m)",
      "  ammonite.$sess.cell26$Helper.reverse(\u001b[32mcell26.sc\u001b[39m:\u001b[32m4\u001b[39m)",
      "  ammonite.$sess.cell26$Helper.reverse(\u001b[32mcell26.sc\u001b[39m:\u001b[32m4\u001b[39m)",
      "  ammonite.$sess.cell26$Helper.reverse(\u001b[32mcell26.sc\u001b[39m:\u001b[32m4\u001b[39m)",
      "  ammonite.$sess.cell26$Helper.reverse(\u001b[32mcell26.sc\u001b[39m:\u001b[32m4\u001b[39m)",
      "  ammonite.$sess.cell26$Helper.reverse(\u001b[32mcell26.sc\u001b[39m:\u001b[32m4\u001b[39m)",
      "  ammonite.$sess.cell26$Helper.reverse(\u001b[32mcell26.sc\u001b[39m:\u001b[32m4\u001b[39m)",
      "  ammonite.$sess.cell26$Helper.reverse(\u001b[32mcell26.sc\u001b[39m:\u001b[32m4\u001b[39m)",
      "  ammonite.$sess.cell26$Helper.reverse(\u001b[32mcell26.sc\u001b[39m:\u001b[32m4\u001b[39m)",
      "  ammonite.$sess.cell26$Helper.reverse(\u001b[32mcell26.sc\u001b[39m:\u001b[32m4\u001b[39m)",
      "  ammonite.$sess.cell26$Helper.reverse(\u001b[32mcell26.sc\u001b[39m:\u001b[32m4\u001b[39m)",
      "  ammonite.$sess.cell26$Helper.reverse(\u001b[32mcell26.sc\u001b[39m:\u001b[32m4\u001b[39m)",
      "  ammonite.$sess.cell26$Helper.reverse(\u001b[32mcell26.sc\u001b[39m:\u001b[32m4\u001b[39m)",
      "  ammonite.$sess.cell26$Helper.reverse(\u001b[32mcell26.sc\u001b[39m:\u001b[32m4\u001b[39m)",
      "  ammonite.$sess.cell26$Helper.reverse(\u001b[32mcell26.sc\u001b[39m:\u001b[32m4\u001b[39m)",
      "  ammonite.$sess.cell26$Helper.reverse(\u001b[32mcell26.sc\u001b[39m:\u001b[32m4\u001b[39m)",
      "  ammonite.$sess.cell26$Helper.reverse(\u001b[32mcell26.sc\u001b[39m:\u001b[32m4\u001b[39m)",
      "  ammonite.$sess.cell26$Helper.reverse(\u001b[32mcell26.sc\u001b[39m:\u001b[32m4\u001b[39m)",
      "  ammonite.$sess.cell26$Helper.reverse(\u001b[32mcell26.sc\u001b[39m:\u001b[32m4\u001b[39m)",
      "  ammonite.$sess.cell26$Helper.reverse(\u001b[32mcell26.sc\u001b[39m:\u001b[32m4\u001b[39m)",
      "  ammonite.$sess.cell26$Helper.reverse(\u001b[32mcell26.sc\u001b[39m:\u001b[32m4\u001b[39m)",
      "  ammonite.$sess.cell26$Helper.reverse(\u001b[32mcell26.sc\u001b[39m:\u001b[32m4\u001b[39m)",
      "  ammonite.$sess.cell26$Helper.reverse(\u001b[32mcell26.sc\u001b[39m:\u001b[32m4\u001b[39m)",
      "  ammonite.$sess.cell26$Helper.reverse(\u001b[32mcell26.sc\u001b[39m:\u001b[32m4\u001b[39m)",
      "  ammonite.$sess.cell26$Helper.reverse(\u001b[32mcell26.sc\u001b[39m:\u001b[32m4\u001b[39m)",
      "  ammonite.$sess.cell26$Helper.reverse(\u001b[32mcell26.sc\u001b[39m:\u001b[32m4\u001b[39m)",
      "  ammonite.$sess.cell26$Helper.reverse(\u001b[32mcell26.sc\u001b[39m:\u001b[32m4\u001b[39m)",
      "  ammonite.$sess.cell26$Helper.reverse(\u001b[32mcell26.sc\u001b[39m:\u001b[32m4\u001b[39m)",
      "  ammonite.$sess.cell26$Helper.reverse(\u001b[32mcell26.sc\u001b[39m:\u001b[32m4\u001b[39m)",
      "  ammonite.$sess.cell26$Helper.reverse(\u001b[32mcell26.sc\u001b[39m:\u001b[32m4\u001b[39m)",
      "  ammonite.$sess.cell26$Helper.reverse(\u001b[32mcell26.sc\u001b[39m:\u001b[32m4\u001b[39m)",
      "  ammonite.$sess.cell26$Helper.reverse(\u001b[32mcell26.sc\u001b[39m:\u001b[32m4\u001b[39m)",
      "  ammonite.$sess.cell26$Helper.reverse(\u001b[32mcell26.sc\u001b[39m:\u001b[32m4\u001b[39m)",
      "  ammonite.$sess.cell26$Helper.reverse(\u001b[32mcell26.sc\u001b[39m:\u001b[32m4\u001b[39m)",
      "  ammonite.$sess.cell26$Helper.reverse(\u001b[32mcell26.sc\u001b[39m:\u001b[32m4\u001b[39m)",
      "  ammonite.$sess.cell26$Helper.reverse(\u001b[32mcell26.sc\u001b[39m:\u001b[32m4\u001b[39m)",
      "  ammonite.$sess.cell26$Helper.reverse(\u001b[32mcell26.sc\u001b[39m:\u001b[32m4\u001b[39m)",
      "  ammonite.$sess.cell26$Helper.reverse(\u001b[32mcell26.sc\u001b[39m:\u001b[32m4\u001b[39m)",
      "  ammonite.$sess.cell26$Helper.reverse(\u001b[32mcell26.sc\u001b[39m:\u001b[32m4\u001b[39m)",
      "  ammonite.$sess.cell26$Helper.reverse(\u001b[32mcell26.sc\u001b[39m:\u001b[32m4\u001b[39m)",
      "  ammonite.$sess.cell26$Helper.reverse(\u001b[32mcell26.sc\u001b[39m:\u001b[32m4\u001b[39m)",
      "  ammonite.$sess.cell26$Helper.reverse(\u001b[32mcell26.sc\u001b[39m:\u001b[32m4\u001b[39m)",
      "  ammonite.$sess.cell26$Helper.reverse(\u001b[32mcell26.sc\u001b[39m:\u001b[32m4\u001b[39m)",
      "  ammonite.$sess.cell26$Helper.reverse(\u001b[32mcell26.sc\u001b[39m:\u001b[32m4\u001b[39m)",
      "  ammonite.$sess.cell26$Helper.reverse(\u001b[32mcell26.sc\u001b[39m:\u001b[32m4\u001b[39m)",
      "  ammonite.$sess.cell26$Helper.reverse(\u001b[32mcell26.sc\u001b[39m:\u001b[32m4\u001b[39m)",
      "  ammonite.$sess.cell26$Helper.reverse(\u001b[32mcell26.sc\u001b[39m:\u001b[32m4\u001b[39m)",
      "  ammonite.$sess.cell26$Helper.reverse(\u001b[32mcell26.sc\u001b[39m:\u001b[32m4\u001b[39m)",
      "  ammonite.$sess.cell26$Helper.reverse(\u001b[32mcell26.sc\u001b[39m:\u001b[32m4\u001b[39m)",
      "  ammonite.$sess.cell26$Helper.reverse(\u001b[32mcell26.sc\u001b[39m:\u001b[32m4\u001b[39m)",
      "  ammonite.$sess.cell26$Helper.reverse(\u001b[32mcell26.sc\u001b[39m:\u001b[32m4\u001b[39m)",
      "  ammonite.$sess.cell26$Helper.reverse(\u001b[32mcell26.sc\u001b[39m:\u001b[32m4\u001b[39m)",
      "  ammonite.$sess.cell26$Helper.reverse(\u001b[32mcell26.sc\u001b[39m:\u001b[32m4\u001b[39m)",
      "  ammonite.$sess.cell26$Helper.reverse(\u001b[32mcell26.sc\u001b[39m:\u001b[32m4\u001b[39m)",
      "  ammonite.$sess.cell26$Helper.reverse(\u001b[32mcell26.sc\u001b[39m:\u001b[32m4\u001b[39m)",
      "  ammonite.$sess.cell26$Helper.reverse(\u001b[32mcell26.sc\u001b[39m:\u001b[32m4\u001b[39m)",
      "  ammonite.$sess.cell26$Helper.reverse(\u001b[32mcell26.sc\u001b[39m:\u001b[32m4\u001b[39m)",
      "  ammonite.$sess.cell26$Helper.reverse(\u001b[32mcell26.sc\u001b[39m:\u001b[32m4\u001b[39m)",
      "  ammonite.$sess.cell26$Helper.reverse(\u001b[32mcell26.sc\u001b[39m:\u001b[32m4\u001b[39m)",
      "  ammonite.$sess.cell26$Helper.reverse(\u001b[32mcell26.sc\u001b[39m:\u001b[32m4\u001b[39m)",
      "  ammonite.$sess.cell26$Helper.reverse(\u001b[32mcell26.sc\u001b[39m:\u001b[32m4\u001b[39m)",
      "  ammonite.$sess.cell26$Helper.reverse(\u001b[32mcell26.sc\u001b[39m:\u001b[32m4\u001b[39m)",
      "  ammonite.$sess.cell26$Helper.reverse(\u001b[32mcell26.sc\u001b[39m:\u001b[32m4\u001b[39m)",
      "  ammonite.$sess.cell26$Helper.reverse(\u001b[32mcell26.sc\u001b[39m:\u001b[32m4\u001b[39m)",
      "  ammonite.$sess.cell26$Helper.reverse(\u001b[32mcell26.sc\u001b[39m:\u001b[32m4\u001b[39m)",
      "  ammonite.$sess.cell26$Helper.reverse(\u001b[32mcell26.sc\u001b[39m:\u001b[32m4\u001b[39m)",
      "  ammonite.$sess.cell26$Helper.reverse(\u001b[32mcell26.sc\u001b[39m:\u001b[32m4\u001b[39m)",
      "  ammonite.$sess.cell26$Helper.reverse(\u001b[32mcell26.sc\u001b[39m:\u001b[32m4\u001b[39m)",
      "  ammonite.$sess.cell26$Helper.reverse(\u001b[32mcell26.sc\u001b[39m:\u001b[32m4\u001b[39m)",
      "  ammonite.$sess.cell26$Helper.reverse(\u001b[32mcell26.sc\u001b[39m:\u001b[32m4\u001b[39m)",
      "  ammonite.$sess.cell26$Helper.reverse(\u001b[32mcell26.sc\u001b[39m:\u001b[32m4\u001b[39m)",
      "  ammonite.$sess.cell26$Helper.reverse(\u001b[32mcell26.sc\u001b[39m:\u001b[32m4\u001b[39m)",
      "  ammonite.$sess.cell26$Helper.reverse(\u001b[32mcell26.sc\u001b[39m:\u001b[32m4\u001b[39m)",
      "  ammonite.$sess.cell26$Helper.reverse(\u001b[32mcell26.sc\u001b[39m:\u001b[32m4\u001b[39m)",
      "  ammonite.$sess.cell26$Helper.reverse(\u001b[32mcell26.sc\u001b[39m:\u001b[32m4\u001b[39m)",
      "  ammonite.$sess.cell26$Helper.reverse(\u001b[32mcell26.sc\u001b[39m:\u001b[32m4\u001b[39m)",
      "  ammonite.$sess.cell26$Helper.reverse(\u001b[32mcell26.sc\u001b[39m:\u001b[32m4\u001b[39m)",
      "  ammonite.$sess.cell26$Helper.reverse(\u001b[32mcell26.sc\u001b[39m:\u001b[32m4\u001b[39m)",
      "  ammonite.$sess.cell26$Helper.reverse(\u001b[32mcell26.sc\u001b[39m:\u001b[32m4\u001b[39m)",
      "  ammonite.$sess.cell26$Helper.reverse(\u001b[32mcell26.sc\u001b[39m:\u001b[32m4\u001b[39m)",
      "  ammonite.$sess.cell26$Helper.reverse(\u001b[32mcell26.sc\u001b[39m:\u001b[32m4\u001b[39m)",
      "  ammonite.$sess.cell26$Helper.reverse(\u001b[32mcell26.sc\u001b[39m:\u001b[32m4\u001b[39m)",
      "  ammonite.$sess.cell26$Helper.reverse(\u001b[32mcell26.sc\u001b[39m:\u001b[32m4\u001b[39m)",
      "  ammonite.$sess.cell26$Helper.reverse(\u001b[32mcell26.sc\u001b[39m:\u001b[32m4\u001b[39m)",
      "  ammonite.$sess.cell26$Helper.reverse(\u001b[32mcell26.sc\u001b[39m:\u001b[32m4\u001b[39m)",
      "  ammonite.$sess.cell26$Helper.reverse(\u001b[32mcell26.sc\u001b[39m:\u001b[32m4\u001b[39m)"
     ]
    }
   ],
   "source": [
    "reverse(List.fill(1000000)(0))"
   ]
  },
  {
   "cell_type": "code",
   "execution_count": null,
   "metadata": {},
   "outputs": [],
   "source": [
    "def reverseI[A](l: List[A]): List[A] = \n",
    "    var out: List[A] = ??? \n",
    "    var aux: List[A] = l\n",
    "    while (aux != Nil)\n",
    "        out = ?(out, aux.head)\n",
    "        aux = aux.tail\n",
    "    out"
   ]
  },
  {
   "cell_type": "code",
   "execution_count": 35,
   "metadata": {},
   "outputs": [
    {
     "data": {
      "text/plain": [
       "defined \u001b[32mfunction\u001b[39m \u001b[36mreverseI\u001b[39m"
      ]
     },
     "execution_count": 35,
     "metadata": {},
     "output_type": "execute_result"
    }
   ],
   "source": [
    "def reverseI[A](l: List[A]): List[A] = \n",
    "    var out: List[A] = Nil\n",
    "    var aux: List[A] = l\n",
    "    while (aux != Nil)\n",
    "        out = aux.head :: out\n",
    "        aux = aux.tail\n",
    "    out"
   ]
  },
  {
   "cell_type": "code",
   "execution_count": 40,
   "metadata": {},
   "outputs": [
    {
     "data": {
      "text/plain": [
       "defined \u001b[32mfunction\u001b[39m \u001b[36mreverseTR\u001b[39m"
      ]
     },
     "execution_count": 40,
     "metadata": {},
     "output_type": "execute_result"
    }
   ],
   "source": [
    "def reverseTR[A](l: List[A]): List[A] = \n",
    "    \n",
    "    def rev_aux(aux: List[A], out: List[A]): List[A] = \n",
    "        aux match \n",
    "            case Nil => out\n",
    "            case head :: tail => \n",
    "                rev_aux(tail, head :: out) \n",
    "\n",
    "    rev_aux(l, Nil)\n",
    "/*\n",
    "    var out: List[A] = Nil\n",
    "    var aux: List[A] = l\n",
    "    while (aux != Nil)\n",
    "        out = aux.head :: out\n",
    "        aux = aux.tail\n",
    "    out*/"
   ]
  },
  {
   "cell_type": "code",
   "execution_count": 35,
   "metadata": {},
   "outputs": [
    {
     "data": {
      "text/plain": [
       "defined \u001b[32mfunction\u001b[39m \u001b[36mreverseI\u001b[39m"
      ]
     },
     "execution_count": 35,
     "metadata": {},
     "output_type": "execute_result"
    }
   ],
   "source": [
    "def reverseTR[A](l: List[A]): List[A] = \n",
    "    \n",
    "    def rev_aux(aux: List[A], out: List[A]): List[A] = \n",
    "        aux match \n",
    "            case Nil => out \n",
    "            case head :: tail => \n",
    "                rev_aux(tail, ?(out, head))\n",
    "\n",
    "    rev_aux(l, ???)\n",
    "/*\n",
    "    var out: List[A] = Nil\n",
    "    var aux: List[A] = l\n",
    "    while (aux != Nil)\n",
    "        out = aux.head :: out\n",
    "        aux = aux.tail\n",
    "    out*/"
   ]
  },
  {
   "cell_type": "code",
   "execution_count": 42,
   "metadata": {
    "collapsed": true,
    "jupyter": {
     "outputs_hidden": true
    },
    "tags": []
   },
   "outputs": [
    {
     "data": {
      "text/plain": [
       "\u001b[36mres42\u001b[39m: \u001b[32mList\u001b[39m[\u001b[32mInt\u001b[39m] = \u001b[33mList\u001b[39m(\n",
       "  \u001b[32m0\u001b[39m,\n",
       "  \u001b[32m0\u001b[39m,\n",
       "  \u001b[32m0\u001b[39m,\n",
       "  \u001b[32m0\u001b[39m,\n",
       "  \u001b[32m0\u001b[39m,\n",
       "  \u001b[32m0\u001b[39m,\n",
       "  \u001b[32m0\u001b[39m,\n",
       "  \u001b[32m0\u001b[39m,\n",
       "  \u001b[32m0\u001b[39m,\n",
       "  \u001b[32m0\u001b[39m,\n",
       "  \u001b[32m0\u001b[39m,\n",
       "  \u001b[32m0\u001b[39m,\n",
       "  \u001b[32m0\u001b[39m,\n",
       "  \u001b[32m0\u001b[39m,\n",
       "  \u001b[32m0\u001b[39m,\n",
       "  \u001b[32m0\u001b[39m,\n",
       "  \u001b[32m0\u001b[39m,\n",
       "  \u001b[32m0\u001b[39m,\n",
       "  \u001b[32m0\u001b[39m,\n",
       "  \u001b[32m0\u001b[39m,\n",
       "  \u001b[32m0\u001b[39m,\n",
       "  \u001b[32m0\u001b[39m,\n",
       "  \u001b[32m0\u001b[39m,\n",
       "  \u001b[32m0\u001b[39m,\n",
       "  \u001b[32m0\u001b[39m,\n",
       "  \u001b[32m0\u001b[39m,\n",
       "  \u001b[32m0\u001b[39m,\n",
       "  \u001b[32m0\u001b[39m,\n",
       "  \u001b[32m0\u001b[39m,\n",
       "  \u001b[32m0\u001b[39m,\n",
       "  \u001b[32m0\u001b[39m,\n",
       "  \u001b[32m0\u001b[39m,\n",
       "  \u001b[32m0\u001b[39m,\n",
       "  \u001b[32m0\u001b[39m,\n",
       "  \u001b[32m0\u001b[39m,\n",
       "  \u001b[32m0\u001b[39m,\n",
       "  \u001b[32m0\u001b[39m,\n",
       "  \u001b[32m0\u001b[39m,\n",
       "..."
      ]
     },
     "execution_count": 42,
     "metadata": {},
     "output_type": "execute_result"
    }
   ],
   "source": [
    "reverseTR(List.fill(1000000)(0))"
   ]
  },
  {
   "cell_type": "code",
   "execution_count": 19,
   "metadata": {},
   "outputs": [
    {
     "data": {
      "text/plain": [
       "defined \u001b[32mfunction\u001b[39m \u001b[36mreverse\u001b[39m"
      ]
     },
     "execution_count": 19,
     "metadata": {},
     "output_type": "execute_result"
    }
   ],
   "source": [
    "// Really inefficient \n",
    "\n",
    "def reverse(l: List[Int]): List[Int] = \n",
    "    l match \n",
    "        case Nil => ??? \n",
    "        case head :: tail => \n",
    "            val tailSol: List[Int] = ??? \n",
    "            ??? : List[Int]"
   ]
  },
  {
   "cell_type": "code",
   "execution_count": 28,
   "metadata": {},
   "outputs": [
    {
     "name": "stdout",
     "output_type": "stream",
     "text": [
      "\u001b[32mcell17$Helper$TestReverse:\u001b[0m\n",
      "\u001b[32mreverse\u001b[0m\n",
      "\u001b[32m- should work\u001b[0m\n"
     ]
    }
   ],
   "source": [
    "run(TestReverse(reverse[Int]))"
   ]
  },
  {
   "cell_type": "code",
   "execution_count": 36,
   "metadata": {},
   "outputs": [
    {
     "name": "stdout",
     "output_type": "stream",
     "text": [
      "\u001b[32mcell17$Helper$TestReverse:\u001b[0m\n",
      "\u001b[32mreverse\u001b[0m\n",
      "\u001b[32m- should work\u001b[0m\n"
     ]
    }
   ],
   "source": [
    "run(TestReverse(reverseI[Int]))"
   ]
  },
  {
   "cell_type": "code",
   "execution_count": 41,
   "metadata": {},
   "outputs": [
    {
     "name": "stdout",
     "output_type": "stream",
     "text": [
      "\u001b[32mcell17$Helper$TestReverse:\u001b[0m\n",
      "\u001b[32mreverse\u001b[0m\n",
      "\u001b[32m- should work\u001b[0m\n"
     ]
    }
   ],
   "source": [
    "run(TestReverse(reverseTR[Int]))"
   ]
  },
  {
   "cell_type": "code",
   "execution_count": 53,
   "metadata": {},
   "outputs": [
    {
     "data": {
      "text/plain": [
       "defined \u001b[32mfunction\u001b[39m \u001b[36mreverseTR\u001b[39m"
      ]
     },
     "execution_count": 53,
     "metadata": {},
     "output_type": "execute_result"
    }
   ],
   "source": [
    "// Tail-recursive, efficiently\n",
    "\n"
   ]
  },
  {
   "cell_type": "code",
   "execution_count": 54,
   "metadata": {},
   "outputs": [
    {
     "name": "stdout",
     "output_type": "stream",
     "text": [
      "\u001b[32mcell50$Helper$TestReverse:\u001b[0m\n",
      "\u001b[32mreverse\u001b[0m\n",
      "\u001b[32m- should work\u001b[0m\n"
     ]
    }
   ],
   "source": [
    "run(TestReverse(reverseTR))"
   ]
  },
  {
   "cell_type": "markdown",
   "metadata": {},
   "source": [
    "### Example: concatenate lists"
   ]
  },
  {
   "cell_type": "code",
   "execution_count": 43,
   "metadata": {},
   "outputs": [
    {
     "data": {
      "text/plain": [
       "defined \u001b[32mclass\u001b[39m \u001b[36mTestConcatenate\u001b[39m"
      ]
     },
     "execution_count": 43,
     "metadata": {},
     "output_type": "execute_result"
    }
   ],
   "source": [
    "class TestConcatenate(concatenate: (List[Int], List[Int]) => List[Int]) \n",
    "extends AnyFlatSpec with should.Matchers:\n",
    "    \"concatenate\" should \"work\" in:\n",
    "        concatenate(List(1,2,3), List(4,5,6)) shouldBe List(1,2,3,4,5,6)\n",
    "        concatenate(List(), List(1,2,3)) shouldBe List(1,2,3)\n",
    "        concatenate(List(), List()) shouldBe List()\n",
    "        concatenate(List(1,2,3), List()) shouldBe List(1,2,3)"
   ]
  },
  {
   "cell_type": "code",
   "execution_count": 48,
   "metadata": {},
   "outputs": [
    {
     "data": {
      "text/plain": [
       "defined \u001b[32mfunction\u001b[39m \u001b[36mconcatenate\u001b[39m"
      ]
     },
     "execution_count": 48,
     "metadata": {},
     "output_type": "execute_result"
    }
   ],
   "source": [
    "def concatenate[A](l1: List[A], l2: List[A]): List[A] = \n",
    "  l1 match \n",
    "    case Nil => ???\n",
    "    case h :: t => \n",
    "        val tailSol: List[A] = ??? \n",
    "        ???"
   ]
  },
  {
   "cell_type": "code",
   "execution_count": 52,
   "metadata": {},
   "outputs": [
    {
     "data": {
      "text/plain": [
       "defined \u001b[32mfunction\u001b[39m \u001b[36mconcatenate\u001b[39m"
      ]
     },
     "execution_count": 52,
     "metadata": {},
     "output_type": "execute_result"
    }
   ],
   "source": [
    "// NO @scala.annotation.tailrec \n",
    "def concatenate[A](l1: List[A], l2: List[A]): List[A] = \n",
    "  l1 match \n",
    "    case Nil => l2\n",
    "    case h :: t => \n",
    "        val tailSol: List[A] = concatenate(t, l2) \n",
    "        h :: tailSol"
   ]
  },
  {
   "cell_type": "code",
   "execution_count": 53,
   "metadata": {},
   "outputs": [
    {
     "data": {
      "text/plain": [
       "defined \u001b[32mfunction\u001b[39m \u001b[36mconcatenate\u001b[39m"
      ]
     },
     "execution_count": 53,
     "metadata": {},
     "output_type": "execute_result"
    }
   ],
   "source": [
    "// NO @scala.annotation.tailrec \n",
    "def concatenate[A](l1: List[A], l2: List[A]): List[A] = \n",
    "  l1 match \n",
    "    case Nil => l2\n",
    "    case h :: t => h :: concatenate(t, l2) "
   ]
  },
  {
   "cell_type": "code",
   "execution_count": 48,
   "metadata": {},
   "outputs": [
    {
     "data": {
      "text/plain": [
       "defined \u001b[32mfunction\u001b[39m \u001b[36mconcatenate\u001b[39m"
      ]
     },
     "execution_count": 48,
     "metadata": {},
     "output_type": "execute_result"
    }
   ],
   "source": [
    "def concatenate[A](l1: List[A], l2: List[A]): List[A] = \n",
    "    \n",
    "    @scala.annotation.tailrec\n",
    "    def conc_aux(aux: List[A], out: List[A]): List[A] = \n",
    "        aux match \n",
    "            case Nil => out\n",
    "            case e :: tail => \n",
    "                conc_aux(tail, e :: out)\n",
    "\n",
    "    conc_aux(conc_aux(l1, Nil), l2)"
   ]
  },
  {
   "cell_type": "code",
   "execution_count": 51,
   "metadata": {},
   "outputs": [
    {
     "name": "stdout",
     "output_type": "stream",
     "text": [
      "\u001b[32mcell43$Helper$TestConcatenate:\u001b[0m\n",
      "\u001b[32mconcatenate\u001b[0m\n",
      "\u001b[32m- should work\u001b[0m\n"
     ]
    }
   ],
   "source": [
    "run(TestConcatenate(concatenate))"
   ]
  },
  {
   "cell_type": "markdown",
   "metadata": {},
   "source": [
    "Tail-recursive concatenation:"
   ]
  },
  {
   "cell_type": "code",
   "execution_count": 59,
   "metadata": {},
   "outputs": [
    {
     "data": {
      "text/plain": [
       "defined \u001b[32mfunction\u001b[39m \u001b[36mconcatenateTR\u001b[39m"
      ]
     },
     "execution_count": 59,
     "metadata": {},
     "output_type": "execute_result"
    }
   ],
   "source": []
  },
  {
   "cell_type": "code",
   "execution_count": 60,
   "metadata": {},
   "outputs": [
    {
     "name": "stdout",
     "output_type": "stream",
     "text": [
      "\u001b[32mcell56$Helper$TestConcatenate:\u001b[0m\n",
      "\u001b[32mconcatenate\u001b[0m\n",
      "\u001b[32m- should work\u001b[0m\n"
     ]
    }
   ],
   "source": [
    "run(TestConcatenate(concatenateTR))"
   ]
  }
 ],
 "metadata": {
  "kernelspec": {
   "display_name": "Scala 3.3",
   "language": "scala",
   "name": "scala33"
  },
  "language_info": {
   "codemirror_mode": "text/x-scala",
   "file_extension": ".sc",
   "mimetype": "text/x-scala",
   "name": "scala",
   "nbconvert_exporter": "script",
   "version": "2.13.12"
  }
 },
 "nbformat": 4,
 "nbformat_minor": 4
}
