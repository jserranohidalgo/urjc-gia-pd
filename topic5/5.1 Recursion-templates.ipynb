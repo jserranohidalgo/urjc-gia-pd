{
 "cells": [
  {
   "cell_type": "markdown",
   "metadata": {},
   "source": [
    "# Topic 5. Recursive functions and data types"
   ]
  },
  {
   "cell_type": "markdown",
   "metadata": {},
   "source": [
    "The goals of this topic are to understand:\n",
    "\n",
    "* How recursive types (lists, trees, etc.) are defined algebraically\n",
    "* How functions over recursive types are defined recursivelly\n",
    "* The two major types of recursive functions: general and tail-recursive"
   ]
  },
  {
   "cell_type": "markdown",
   "metadata": {},
   "source": [
    "### References\n",
    "\n",
    "[__Programming in Scala, \n",
    "A comprehensive step-by-step guide__](https://www.artima.com/shop/programming_in_scala_3ed) Third Edition.\n",
    "by Martin Odersky, Lex Spoon, and Bill Venners. \n",
    "\n",
    "- Chapter 16. Working with Lists\n",
    "- Chapter 26. Extractors (optional)\n",
    "\n",
    "[__Functional programming in Scala__](https://www.manning.com/books/functional-programming-in-scala), by Paul Chiusano and Runar Bjarnason.\n",
    "\n",
    "- Chapter 3. Functional data structures\n",
    "\n",
    "[__Functional programming simplified__](https://alvinalexander.com/downloads/fpsimplified-free-preview.pdf), by Alvin Alexander.\n",
    "\n",
    "- Chapters 29-36. Recursion."
   ]
  },
  {
   "cell_type": "markdown",
   "metadata": {},
   "source": [
    "## Recursive types"
   ]
  },
  {
   "cell_type": "markdown",
   "metadata": {},
   "source": [
    "### The `List` type"
   ]
  },
  {
   "cell_type": "markdown",
   "metadata": {},
   "source": [
    "Lists are data structures which represent sequences of values of the same type, of finite length. They can be defined recursively in an informal way as follows: \n",
    "- A list is the empty sequence\n",
    "- A list is a non-empty sequence made of a value and another list, which represent the head and tail of the list, respectively\n",
    "\n",
    "Thus, the type `IntList`, which represents lists of integers, must satisfy the following algebraic equation:\n",
    "\n",
    "`IntList = 1 + Int * IntList`\n",
    "\n",
    "i.e., a list of integers is the empty sequence (represented by the singleton type `1`), or an integer (the head) and a list (its tail).\n",
    "\n"
   ]
  },
  {
   "cell_type": "code",
   "execution_count": 2,
   "metadata": {},
   "outputs": [
    {
     "data": {
      "text/plain": [
       "defined \u001b[32mobject\u001b[39m \u001b[36mStd\u001b[39m"
      ]
     },
     "execution_count": 2,
     "metadata": {},
     "output_type": "execute_result"
    }
   ],
   "source": [
    "object Std: \n",
    "\n",
    "    // type Either[A, B] = A + B\n",
    "    enum Either[A, B]: \n",
    "        case Left(a: A)\n",
    "        case Right(b: B)\n",
    "\n",
    "    // type Option[A] = 1 + A\n",
    "    enum Option[A]: \n",
    "        case None()\n",
    "        case Some(a: A)"
   ]
  },
  {
   "cell_type": "code",
   "execution_count": 4,
   "metadata": {},
   "outputs": [
    {
     "data": {
      "text/plain": [
       "\u001b[36ma\u001b[39m: \u001b[32mOption\u001b[39m[\u001b[32mInt\u001b[39m] = \u001b[32mNone\u001b[39m\n",
       "\u001b[36mb\u001b[39m: \u001b[32mOption\u001b[39m[\u001b[32mInt\u001b[39m] = \u001b[33mSome\u001b[39m(value = \u001b[32m1\u001b[39m)"
      ]
     },
     "execution_count": 4,
     "metadata": {},
     "output_type": "execute_result"
    }
   ],
   "source": [
    "val a: Option[Int] = None\n",
    "val b: Option[Int] = Some(1)"
   ]
  },
  {
   "cell_type": "code",
   "execution_count": 5,
   "metadata": {},
   "outputs": [
    {
     "data": {
      "text/plain": [
       "defined \u001b[32mobject\u001b[39m \u001b[36mStd\u001b[39m"
      ]
     },
     "execution_count": 5,
     "metadata": {},
     "output_type": "execute_result"
    }
   ],
   "source": [
    "object Std: \n",
    "\n",
    "    // type IntList = 1 + /* ... */\n",
    "    // type IntList = 1 + Int + Int * Int + Int * Int * Int + ...  \n",
    "    enum IntList: \n",
    "        case Empty()\n",
    "        // case NonEmpty(/*...*/)\n",
    "        case One(i: Int)\n",
    "        case Two(i1: Int, i2: Int)\n",
    "        // ... "
   ]
  },
  {
   "cell_type": "code",
   "execution_count": null,
   "metadata": {},
   "outputs": [],
   "source": [
    "S = 1 + a + a*a + a*a*a + ... \n",
    "S = 1 + a(1 + a + a*a + ...)\n",
    "S = 1 + a * S"
   ]
  },
  {
   "cell_type": "code",
   "execution_count": 5,
   "metadata": {},
   "outputs": [
    {
     "data": {
      "text/plain": [
       "defined \u001b[32mobject\u001b[39m \u001b[36mStd\u001b[39m"
      ]
     },
     "execution_count": 5,
     "metadata": {},
     "output_type": "execute_result"
    }
   ],
   "source": [
    "object Std: \n",
    "\n",
    "    // type IntList = 1 + /* ... */\n",
    "    // type IntList = 1 + Int + Int * Int + Int * Int * Int + ...  \n",
    "    enum IntList: \n",
    "        case Empty()\n",
    "        // case NonEmpty(/*...*/)\n",
    "        case One(i: Int)\n",
    "        case Two(i1: Int, i2: Int)\n",
    "        // ... "
   ]
  },
  {
   "cell_type": "code",
   "execution_count": null,
   "metadata": {},
   "outputs": [],
   "source": [
    "[1, 2, 3, 4, 5]\n",
    "\n",
    "[2, 3]\n",
    "\n",
    "[1] \n",
    "\n",
    "[]\n",
    "\n",
    "[\"5\", \"2\", \"1\", \"8\", \"2\"]\n",
    "\n",
    "['a', 'b', 'c', 'd']"
   ]
  },
  {
   "cell_type": "markdown",
   "metadata": {},
   "source": [
    "The implementation in Scala is similar to the following one (we also give the generic version `List[A]`, rather than the implementation of `IntList`):"
   ]
  },
  {
   "cell_type": "code",
   "execution_count": 13,
   "metadata": {},
   "outputs": [
    {
     "data": {
      "text/plain": [
       "defined \u001b[32mobject\u001b[39m \u001b[36mStdDefinition\u001b[39m"
      ]
     },
     "execution_count": 13,
     "metadata": {},
     "output_type": "execute_result"
    }
   ],
   "source": [
    "object StdDefinition:\n",
    "\n",
    "    // type IntList = 1 + /* ... */\n",
    "    // type IntList = 1 + Int + Int * Int + Int * Int * Int + ...  \n",
    "    // type IntList = 1 + Int * (1 + Int + Int * Int + ...)\n",
    "    // type IntList = 1 + Int * IntList\n",
    "    enum IntList: \n",
    "        case Nil()\n",
    "        case ::(head : Int, tail: IntList)\n",
    "\n",
    "    enum CharList: \n",
    "        case Nil()\n",
    "        case ::(head : Char, tail: CharList)\n",
    "\n",
    "    val c: CharList = CharList.::('a', CharList.::('b', CharList.Nil()))\n",
    "    \n",
    "\n",
    "    // l1 = [1, 2, 3, 4] = \n",
    "    //    1 :: [2, 3, 4]\n",
    "    //    1 :: 2 :: [3, 4]\n",
    "    //    1 :: 2 :: 3 :: [4]\n",
    "    //    1 :: (2 :: (3 :: (4 :: [])))\n",
    "    \n",
    "    import IntList._\n",
    "    \n",
    "    val l1: IntList = ::(1, ::(2, ::(3, ::(4, Nil()))))\n",
    "\n",
    "    enum List[A]: \n",
    "        case Nil()\n",
    "        case ::(head : A, tail: List[A])\n",
    "\n",
    "    type CharList2 = List[Char]\n",
    "\n",
    "    type IntList2 = List[Int]\n",
    "    "
   ]
  },
  {
   "cell_type": "code",
   "execution_count": 8,
   "metadata": {},
   "outputs": [
    {
     "data": {
      "text/plain": [
       "\u001b[36ml1\u001b[39m: \u001b[32mList\u001b[39m[\u001b[32mInt\u001b[39m] = \u001b[33mList\u001b[39m(\u001b[32m1\u001b[39m, \u001b[32m2\u001b[39m, \u001b[32m3\u001b[39m)"
      ]
     },
     "execution_count": 8,
     "metadata": {},
     "output_type": "execute_result"
    }
   ],
   "source": [
    "val l1: List[Int] = ::(1, ::(2, ::(3, Nil)))"
   ]
  },
  {
   "cell_type": "code",
   "execution_count": 9,
   "metadata": {},
   "outputs": [
    {
     "data": {
      "text/plain": [
       "\u001b[36ml2\u001b[39m: \u001b[32mList\u001b[39m[\u001b[32mChar\u001b[39m] = \u001b[33mList\u001b[39m(\u001b[32m'a'\u001b[39m, \u001b[32m'b'\u001b[39m)"
      ]
     },
     "execution_count": 9,
     "metadata": {},
     "output_type": "execute_result"
    }
   ],
   "source": [
    "val l2: List[Char] = ::('a', ::('b', Nil))"
   ]
  },
  {
   "cell_type": "markdown",
   "metadata": {},
   "source": [
    "However the actual implementation of [immutable lists](https://github.com/scala/scala/blob/v2.13.1/src/library/scala/collection/immutable/List.scala#L79) in the standard library of Scala defines the empty list as an object, rather than a class. This forces us to declare the list covariantly in its generic parameter `A`, which is somewhat inconvenient at times.  The standard definition looks like as follows:"
   ]
  },
  {
   "cell_type": "code",
   "execution_count": 2,
   "metadata": {},
   "outputs": [
    {
     "data": {
      "text/plain": [
       "defined \u001b[32mobject\u001b[39m \u001b[36mActualStdDefinition\u001b[39m"
      ]
     },
     "execution_count": 2,
     "metadata": {},
     "output_type": "execute_result"
    }
   ],
   "source": [
    "object ActualStdDefinition:\n"
   ]
  },
  {
   "cell_type": "markdown",
   "metadata": {},
   "source": [
    "### Some syntactic sugar"
   ]
  },
  {
   "cell_type": "markdown",
   "metadata": {},
   "source": [
    "Note that we can write standard lists with a more compact syntax: "
   ]
  },
  {
   "cell_type": "code",
   "execution_count": 17,
   "metadata": {},
   "outputs": [
    {
     "data": {
      "text/plain": [
       "\u001b[36ml2\u001b[39m: \u001b[32mList\u001b[39m[\u001b[32mChar\u001b[39m] = \u001b[33mList\u001b[39m(\u001b[32m'a'\u001b[39m, \u001b[32m'b'\u001b[39m)\n",
       "\u001b[36ml1\u001b[39m: \u001b[32mList\u001b[39m[\u001b[32mChar\u001b[39m] = \u001b[33mList\u001b[39m(\u001b[32m'a'\u001b[39m, \u001b[32m'b'\u001b[39m, \u001b[32m'c'\u001b[39m)\n",
       "\u001b[36ml3\u001b[39m: \u001b[32mList\u001b[39m[\u001b[32mChar\u001b[39m] = \u001b[33mList\u001b[39m(\u001b[32m'a'\u001b[39m, \u001b[32m'b'\u001b[39m, \u001b[32m'c'\u001b[39m)\n",
       "\u001b[36ml4\u001b[39m: \u001b[32mList\u001b[39m[\u001b[32mChar\u001b[39m] = \u001b[33mList\u001b[39m(\u001b[32m'a'\u001b[39m, \u001b[32m'b'\u001b[39m, \u001b[32m'c'\u001b[39m)\n",
       "\u001b[36ml5\u001b[39m: \u001b[32mList\u001b[39m[\u001b[32mChar\u001b[39m] = \u001b[33mList\u001b[39m(\u001b[32m'a'\u001b[39m, \u001b[32m'b'\u001b[39m, \u001b[32m'c'\u001b[39m)"
      ]
     },
     "execution_count": 17,
     "metadata": {},
     "output_type": "execute_result"
    }
   ],
   "source": [
    "// Less beautifully \n",
    "val l2: List[Char] = ::('a', ::('b', Nil))\n",
    "\n",
    "// More idiomatically\n",
    "\n",
    "val l1: List[Char] = 'a' :: ('b' :: ('c' :: Nil))\n",
    "\n",
    "val l3: List[Char] = 'a' :: 'b' :: 'c' :: Nil\n",
    "\n",
    "val l4: List[Char] = List.apply('a', 'b', 'c')\n",
    "\n",
    "val l5: List[Char] = List('a', 'b', 'c')"
   ]
  },
  {
   "cell_type": "code",
   "execution_count": 18,
   "metadata": {},
   "outputs": [
    {
     "data": {
      "text/plain": [
       "defined \u001b[32mfunction\u001b[39m \u001b[36mkind\u001b[39m"
      ]
     },
     "execution_count": 18,
     "metadata": {},
     "output_type": "execute_result"
    }
   ],
   "source": [
    "def kind(e: Either[Int, Char]): String = \n",
    "    e match \n",
    "        case Left(i: Int) => \"int\"\n",
    "        case Right(c: Char) => \"char\""
   ]
  },
  {
   "cell_type": "code",
   "execution_count": 19,
   "metadata": {},
   "outputs": [
    {
     "data": {
      "text/plain": [
       "\u001b[36mres19\u001b[39m: \u001b[32mString\u001b[39m = \u001b[32m\"int\"\u001b[39m"
      ]
     },
     "execution_count": 19,
     "metadata": {},
     "output_type": "execute_result"
    }
   ],
   "source": [
    "kind(Left(1))"
   ]
  },
  {
   "cell_type": "markdown",
   "metadata": {},
   "source": [
    "And we can also pattern match on lists, similarly:"
   ]
  },
  {
   "cell_type": "code",
   "execution_count": 23,
   "metadata": {},
   "outputs": [
    {
     "data": {
      "text/plain": [
       "defined \u001b[32mfunction\u001b[39m \u001b[36mkind\u001b[39m\n",
       "defined \u001b[32mfunction\u001b[39m \u001b[36mkind2\u001b[39m\n",
       "defined \u001b[32mfunction\u001b[39m \u001b[36mkind3\u001b[39m"
      ]
     },
     "execution_count": 23,
     "metadata": {},
     "output_type": "execute_result"
    }
   ],
   "source": [
    "// Less beautifully\n",
    "\n",
    "def kind(l: List[Int]): String = \n",
    "    l match \n",
    "        case Nil => \"vacía\"\n",
    "        case ::(_, _) => \"no vacía\"\n",
    "\n",
    "// more idiomatically\n",
    "\n",
    "def kind2(l: List[Int]): String = \n",
    "    l match \n",
    "        case Nil => \"vacía\"\n",
    "        case _ :: _ => \"no vacía\"\n",
    "\n",
    "\n",
    "def kind3[A](l: List[A]): String = \n",
    "    l match \n",
    "        case Nil => \"vacía\"\n",
    "        case _ :: _ => \"no vacía\"\n",
    "\n",
    "\n",
    "// or\n",
    "\n"
   ]
  },
  {
   "cell_type": "code",
   "execution_count": 26,
   "metadata": {},
   "outputs": [
    {
     "data": {
      "text/plain": [
       "\u001b[36ml\u001b[39m: \u001b[32mList\u001b[39m[\u001b[32mAny\u001b[39m] = \u001b[33mList\u001b[39m(\u001b[32m1\u001b[39m, \u001b[32m'a'\u001b[39m, \u001b[32m\"String\"\u001b[39m)\n",
       "\u001b[36mt\u001b[39m: \u001b[32m*:\u001b[39m[\u001b[32mInt\u001b[39m, \u001b[32m*:\u001b[39m[\u001b[32mChar\u001b[39m, \u001b[32m*:\u001b[39m[\u001b[32mString\u001b[39m, scala.*:[scala.Int, scala.*:[scala.Char, scala.*:[java.lang.String, scala.Tuple$package.EmptyTuple]]]]]] = (\u001b[32m1\u001b[39m, \u001b[32m'a'\u001b[39m, \u001b[32m\"string\"\u001b[39m)"
      ]
     },
     "execution_count": 26,
     "metadata": {},
     "output_type": "execute_result"
    }
   ],
   "source": [
    "val l: List[Any] = 1 :: 'a' :: \"String\" :: Nil\n",
    "val t = 1 *: 'a' *: \"string\" *: EmptyTuple"
   ]
  },
  {
   "cell_type": "markdown",
   "metadata": {},
   "source": [
    "##  Recursive functions"
   ]
  },
  {
   "cell_type": "markdown",
   "metadata": {},
   "source": [
    "Since lists are defined recursively, functions over lists will be commonly recursive as well. For instance, let's implement a recursive function that computes the length of a list. But before, let's implement the function imperatively for the sake of comparison:"
   ]
  },
  {
   "cell_type": "code",
   "execution_count": 28,
   "metadata": {},
   "outputs": [
    {
     "data": {
      "text/plain": [
       "defined \u001b[32mfunction\u001b[39m \u001b[36mlength\u001b[39m"
      ]
     },
     "execution_count": 28,
     "metadata": {},
     "output_type": "execute_result"
    }
   ],
   "source": [
    "// Using mutable variables\n",
    "\n",
    "def imperativePattern(l: List[String]): Int = \n",
    "    var out: Int = ??? \n",
    "\n",
    "    var aux: List[String] = l \n",
    "    while aux != Nil do \n",
    "        out = ??? // ???(out, aux.head)\n",
    "        aux = aux.tail\n",
    "\n",
    "    /*return*/ out"
   ]
  },
  {
   "cell_type": "markdown",
   "metadata": {},
   "source": [
    "out          aux \n",
    "---          --- \n",
    "\n",
    "???          1 :: 2 :: 3 :: Nil\n",
    "???          2 :: 3 :: Nil\n",
    "???          3 :: Nil\n",
    "???          Nil\n"
   ]
  },
  {
   "cell_type": "markdown",
   "metadata": {},
   "source": [
    "out: Int     aux: List[Int]\n",
    "--------     --------------\n",
    "\n",
    "0            1 :: 2 :: 3 :: Nil\n",
    "(0)+1        2 :: 3 :: Nil\n",
    "(0+1)+1      3 :: Nil\n",
    "(0+1+1)+1    Nil\n"
   ]
  },
  {
   "cell_type": "code",
   "execution_count": 28,
   "metadata": {},
   "outputs": [
    {
     "data": {
      "text/plain": [
       "defined \u001b[32mfunction\u001b[39m \u001b[36mlength\u001b[39m"
      ]
     },
     "execution_count": 28,
     "metadata": {},
     "output_type": "execute_result"
    }
   ],
   "source": [
    "// Using mutable variables\n",
    "\n",
    "def length(l: List[String]): Int = \n",
    "    iterative(l)(initial = 0)(\n",
    "        update = (e: String, out: Int) => out + 1\n",
    "    )"
   ]
  },
  {
   "cell_type": "code",
   "execution_count": 29,
   "metadata": {},
   "outputs": [
    {
     "data": {
      "text/plain": [
       "defined \u001b[32mfunction\u001b[39m \u001b[36mlength\u001b[39m"
      ]
     },
     "execution_count": 29,
     "metadata": {},
     "output_type": "execute_result"
    }
   ],
   "source": [
    "// Using mutable variables\n",
    "\n",
    "def length(l: List[String]): Int = \n",
    "    var out: Int = 0\n",
    "\n",
    "    var aux: List[String] = l\n",
    "    while aux != Nil do \n",
    "        out = out + 1 \n",
    "        aux = aux.tail\n",
    "\n",
    "    /*return*/ out"
   ]
  },
  {
   "cell_type": "code",
   "execution_count": 3,
   "metadata": {},
   "outputs": [
    {
     "data": {
      "text/plain": [
       "defined \u001b[32mfunction\u001b[39m \u001b[36mlengthI\u001b[39m"
      ]
     },
     "execution_count": 3,
     "metadata": {},
     "output_type": "execute_result"
    }
   ],
   "source": [
    "// Using mutable variables\n",
    "\n",
    "def lengthI[A](l: List[A]): Int = \n",
    "    var out: Int = 0\n",
    "\n",
    "    var aux: List[A] = l\n",
    "    while aux != Nil do \n",
    "        out = out + 1 \n",
    "        aux = aux.tail\n",
    "\n",
    "    /*return*/ out"
   ]
  },
  {
   "cell_type": "code",
   "execution_count": 32,
   "metadata": {},
   "outputs": [
    {
     "data": {
      "text/plain": [
       "\u001b[36mres32\u001b[39m: \u001b[32mInt\u001b[39m = \u001b[32m4\u001b[39m"
      ]
     },
     "execution_count": 32,
     "metadata": {},
     "output_type": "execute_result"
    }
   ],
   "source": [
    "// invoke\n",
    "length(List(\"1\",\"2\",\"3\",\"4\"))"
   ]
  },
  {
   "cell_type": "code",
   "execution_count": 33,
   "metadata": {},
   "outputs": [
    {
     "data": {
      "text/plain": [
       "\u001b[36mres33\u001b[39m: \u001b[32mInt\u001b[39m = \u001b[32m4\u001b[39m"
      ]
     },
     "execution_count": 33,
     "metadata": {},
     "output_type": "execute_result"
    }
   ],
   "source": [
    "// invoke\n",
    "length(List(1,2,3,4))"
   ]
  },
  {
   "cell_type": "markdown",
   "metadata": {},
   "source": [
    "The recursive function is implemented as follows: "
   ]
  },
  {
   "cell_type": "code",
   "execution_count": 35,
   "metadata": {},
   "outputs": [
    {
     "data": {
      "text/plain": [
       "defined \u001b[32mfunction\u001b[39m \u001b[36mlengthR\u001b[39m"
      ]
     },
     "execution_count": 35,
     "metadata": {},
     "output_type": "execute_result"
    }
   ],
   "source": [
    "// Using recursive functions\n",
    "\n",
    "def lengthR[A](l: List[A]): Int = \n",
    "    l match \n",
    "        case Nil => ??? : Int\n",
    "        case head :: tail => ??? : Int"
   ]
  },
  {
   "cell_type": "code",
   "execution_count": 36,
   "metadata": {},
   "outputs": [
    {
     "data": {
      "text/plain": [
       "defined \u001b[32mfunction\u001b[39m \u001b[36mdivideAndConquer\u001b[39m"
      ]
     },
     "execution_count": 36,
     "metadata": {},
     "output_type": "execute_result"
    }
   ],
   "source": [
    "// Using recursive functions\n",
    "\n",
    "def divideAndConquer[A](l: List[A]): Int = \n",
    "    l match \n",
    "        case Nil => ??? : Int\n",
    "        case (head : A) :: (tail : List[A]) => \n",
    "            val tailSol: Int = divideAndConquer(tail)\n",
    "            ??? : Int"
   ]
  },
  {
   "cell_type": "code",
   "execution_count": 37,
   "metadata": {},
   "outputs": [
    {
     "data": {
      "text/plain": [
       "defined \u001b[32mfunction\u001b[39m \u001b[36mdivideAndConquer\u001b[39m"
      ]
     },
     "execution_count": 37,
     "metadata": {},
     "output_type": "execute_result"
    }
   ],
   "source": [
    "// Using recursive functions\n",
    "\n",
    "def divideAndConquer[A, B](l: List[A]): B = \n",
    "    l match \n",
    "        case Nil => ??? : B\n",
    "        case (head : A) :: (tail : List[A]) => \n",
    "            val tailSol: B = divideAndConquer(tail)\n",
    "            ??? : B // ???(head, tailSol)"
   ]
  },
  {
   "cell_type": "code",
   "execution_count": 25,
   "metadata": {},
   "outputs": [
    {
     "name": "stderr",
     "output_type": "stream",
     "text": [
      "-- Error: cell26.sc:6:38 -------------------------------------------------------\n",
      "6 |            val tailSol: Int = lengthR(tail)\n",
      "  |                               ^^^^^^^^^^^^^\n",
      "  |                 Cannot rewrite recursive call: it is not in tail position\n",
      "Compilation Failed"
     ]
    }
   ],
   "source": [
    "// Using recursive functions\n",
    "\n",
    "//@scala.annotation.tailrec\n",
    "def lengthR[A](l: List[A]): Int = \n",
    "    l match \n",
    "        case Nil => 0 : Int\n",
    "        case (head : A) :: (tail : List[A]) => \n",
    "            val tailSol: Int = lengthR(tail)\n",
    "            tailSol + 1 : Int // ???(head, tailSol)"
   ]
  },
  {
   "cell_type": "code",
   "execution_count": 4,
   "metadata": {},
   "outputs": [
    {
     "data": {
      "text/plain": [
       "\u001b[36mlength\u001b[39m: \u001b[32mPolyFunction\u001b[39m{type apply = scala.PolyFunction {\n",
       "  val apply: [A _ >: scala.Nothing <: scala.Any](l: scala.collection.immutable.List[A])scala.Int\n",
       "}} = <function1>"
      ]
     },
     "execution_count": 4,
     "metadata": {},
     "output_type": "execute_result"
    }
   ],
   "source": [
    "// Using recursive functions\n",
    "\n",
    "val length: [A] => (l: List[A]) => Int = [A] => (l: List[A]) => \n",
    "    l match \n",
    "        case Nil => 0 : Int\n",
    "        case (head : A) :: (tail : List[A]) => \n",
    "            val tailSol: Int = lengthR(tail)\n",
    "            tailSol + 1 : Int // ???(head, tailSol)"
   ]
  },
  {
   "cell_type": "code",
   "execution_count": 8,
   "metadata": {},
   "outputs": [
    {
     "data": {
      "text/plain": [
       "\u001b[36mres8_0\u001b[39m: \u001b[32mInt\u001b[39m = \u001b[32m4\u001b[39m\n",
       "\u001b[36mres8_1\u001b[39m: \u001b[32mInt\u001b[39m = \u001b[32m4\u001b[39m"
      ]
     },
     "execution_count": 8,
     "metadata": {},
     "output_type": "execute_result"
    }
   ],
   "source": [
    "lengthR(List(1,2,3,4))\n",
    "lengthI(List(1,2,3,4))"
   ]
  },
  {
   "cell_type": "code",
   "execution_count": 17,
   "metadata": {},
   "outputs": [
    {
     "data": {
      "text/plain": [
       "\u001b[36mres17\u001b[39m: \u001b[32mInt\u001b[39m = \u001b[32m1000000\u001b[39m"
      ]
     },
     "execution_count": 17,
     "metadata": {},
     "output_type": "execute_result"
    }
   ],
   "source": [
    "lengthI(List.fill(1000000)(1))"
   ]
  },
  {
   "cell_type": "markdown",
   "metadata": {},
   "source": [
    "Some comments: \n",
    "- The recursive function is implemented in a _type-driven development_ style: we proceed, step-by-step, analysing the types of input data that are available, and the types of output that we have to generate. This leads to a divide-and-conquer problem solving strategy and hugely facilitates the implementation.\n",
    "- The recursive function is less efficient, since the stack will blow up with very long lists."
   ]
  },
  {
   "cell_type": "markdown",
   "metadata": {},
   "source": [
    "### Tail-recursive functions"
   ]
  },
  {
   "cell_type": "markdown",
   "metadata": {},
   "source": [
    "The implementation using tail-recursion solves the issues with the stack. It commonly makes use of auxiliary functions:"
   ]
  },
  {
   "cell_type": "markdown",
   "metadata": {},
   "source": [
    "out: Int     aux: List[Int]\n",
    "--------     --------------\n",
    "\n",
    "0            1 :: 2 :: 3 :: Nil\n",
    "(0)+1        2 :: 3 :: Nil\n",
    "(0+1)+1      3 :: Nil\n",
    "(0+1+1)+1    Nil\n"
   ]
  },
  {
   "cell_type": "code",
   "execution_count": 18,
   "metadata": {},
   "outputs": [
    {
     "data": {
      "text/plain": [
       "defined \u001b[32mfunction\u001b[39m \u001b[36mlengthI\u001b[39m"
      ]
     },
     "execution_count": 18,
     "metadata": {},
     "output_type": "execute_result"
    }
   ],
   "source": [
    "def lengthI[A](l: List[A]): Int = \n",
    "    var out: Int = 0\n",
    "\n",
    "    var aux: List[A] = l\n",
    "    while aux != Nil do \n",
    "        out = out + 1 \n",
    "        aux = aux.tail\n",
    "\n",
    "    /*return*/ out"
   ]
  },
  {
   "cell_type": "code",
   "execution_count": 19,
   "metadata": {},
   "outputs": [
    {
     "data": {
      "text/plain": [
       "defined \u001b[32mfunction\u001b[39m \u001b[36mlengthI\u001b[39m"
      ]
     },
     "execution_count": 19,
     "metadata": {},
     "output_type": "execute_result"
    }
   ],
   "source": [
    "def lengthI[A](l: List[A]): Int = \n",
    "/*        \n",
    "    var out: Int = 0\n",
    "\n",
    "    var aux: List[A] = l\n",
    "    while aux != Nil do \n",
    "        out = out + 1 \n",
    "        aux = aux.tail\n",
    "\n",
    "    out\n",
    "*/\n",
    "    def step(out: Int, aux: List[A]): Int = \n",
    "        if aux == Nil then \n",
    "            out\n",
    "        else \n",
    "            val out2 = out + 1 \n",
    "            val aux2 = aux.tail\n",
    "            step(out2, aux2)\n",
    "\n",
    "    step(0 : Int, l)\n"
   ]
  },
  {
   "cell_type": "code",
   "execution_count": 20,
   "metadata": {},
   "outputs": [
    {
     "data": {
      "text/plain": [
       "defined \u001b[32mfunction\u001b[39m \u001b[36mlengthI\u001b[39m"
      ]
     },
     "execution_count": 20,
     "metadata": {},
     "output_type": "execute_result"
    }
   ],
   "source": [
    "def lengthI[A](l: List[A]): Int = \n",
    "/*        \n",
    "    var out: Int = 0\n",
    "\n",
    "    var aux: List[A] = l\n",
    "    while aux != Nil do \n",
    "        out = out + 1 \n",
    "        aux = aux.tail\n",
    "\n",
    "    out\n",
    "*/\n",
    "    def step(out: Int, aux: List[A]): Int = \n",
    "        if aux == Nil then \n",
    "            out\n",
    "        else \n",
    "            step(out + 1, aux.tail)\n",
    "\n",
    "    step(0 : Int, l)\n"
   ]
  },
  {
   "cell_type": "code",
   "execution_count": 25,
   "metadata": {},
   "outputs": [
    {
     "data": {
      "text/plain": [
       "defined \u001b[32mfunction\u001b[39m \u001b[36mlengthTR\u001b[39m"
      ]
     },
     "execution_count": 25,
     "metadata": {},
     "output_type": "execute_result"
    }
   ],
   "source": [
    "def lengthTR[A](l: List[A]): Int = \n",
    "/*        \n",
    "    var out: Int = 0\n",
    "\n",
    "    var aux: List[A] = l\n",
    "    while aux != Nil do \n",
    "        out = out + 1 \n",
    "        aux = aux.tail\n",
    "\n",
    "    out\n",
    "*/\n",
    "    @scala.annotation.tailrec\n",
    "    def step(out: Int, aux: List[A]): Int = \n",
    "        aux match \n",
    "            case Nil => out\n",
    "            case head :: tail => \n",
    "                step(out + 1, tail)\n",
    "\n",
    "    step(0 : Int, l)\n"
   ]
  },
  {
   "cell_type": "code",
   "execution_count": 25,
   "metadata": {},
   "outputs": [
    {
     "name": "stderr",
     "output_type": "stream",
     "text": [
      "-- [E050] Type Error: cell26.sc:8:21 -------------------------------------------\n",
      "8 |                step(???(out, head), tail)\n",
      "  |                     ^^^\n",
      "  |                     method ??? in object Predef does not take parameters\n",
      "  |\n",
      "  | longer explanation available when compiling with `-explain`\n",
      "-- [E007] Type Mismatch Error: cell26.sc:10:9 ----------------------------------\n",
      "10 |    step(??? : Int, l)\n",
      "   |         ^^^^^^^^^\n",
      "   |    Found:    Int\n",
      "   |    Required: B\n",
      "   |\n",
      "   |    The following import might make progress towards fixing the problem:\n",
      "   |\n",
      "   |      import sourcecode.Text.generate\n",
      "   |\n",
      "   |\n",
      "   | longer explanation available when compiling with `-explain`\n",
      "Compilation Failed"
     ]
    }
   ],
   "source": [
    "def tailRecursiveSolution[A, B](l: List[A]): B = \n",
    "\n",
    "    @scala.annotation.tailrec\n",
    "    def step(out: B, aux: List[A]): B = \n",
    "        aux match \n",
    "            case Nil => out\n",
    "            case head :: tail => \n",
    "                step(???(out, head), tail)\n",
    "\n",
    "    step(??? : Int, l)\n"
   ]
  },
  {
   "cell_type": "code",
   "execution_count": 24,
   "metadata": {},
   "outputs": [
    {
     "data": {
      "text/plain": [
       "\u001b[36mres24\u001b[39m: \u001b[32mInt\u001b[39m = \u001b[32m1000000\u001b[39m"
      ]
     },
     "execution_count": 24,
     "metadata": {},
     "output_type": "execute_result"
    }
   ],
   "source": [
    "lengthTR(List.fill(1000000)(1))"
   ]
  },
  {
   "cell_type": "code",
   "execution_count": 8,
   "metadata": {},
   "outputs": [
    {
     "data": {
      "text/plain": [
       "defined \u001b[32mfunction\u001b[39m \u001b[36mlengthTR\u001b[39m"
      ]
     },
     "execution_count": 8,
     "metadata": {},
     "output_type": "execute_result"
    }
   ],
   "source": [
    "// Using tail-recursive functions\n",
    "\n"
   ]
  },
  {
   "cell_type": "code",
   "execution_count": 9,
   "metadata": {},
   "outputs": [
    {
     "data": {
      "text/plain": [
       "\u001b[36mres9_0\u001b[39m: \u001b[32mInt\u001b[39m = \u001b[32m0\u001b[39m\n",
       "\u001b[36mres9_1\u001b[39m: \u001b[32mInt\u001b[39m = \u001b[32m3\u001b[39m"
      ]
     },
     "execution_count": 9,
     "metadata": {},
     "output_type": "execute_result"
    }
   ],
   "source": []
  },
  {
   "cell_type": "markdown",
   "metadata": {},
   "source": [
    "We can check the stack-safety problems of non-tail recursive functions by calculating the length of a very big list. We will use the following function, which creates a constant list of given length."
   ]
  },
  {
   "cell_type": "code",
   "execution_count": 10,
   "metadata": {},
   "outputs": [
    {
     "data": {
      "text/plain": [
       "defined \u001b[32mfunction\u001b[39m \u001b[36mconstantList\u001b[39m"
      ]
     },
     "execution_count": 10,
     "metadata": {},
     "output_type": "execute_result"
    }
   ],
   "source": [
    "// First, imperatively\n",
    "\n"
   ]
  },
  {
   "cell_type": "code",
   "execution_count": 11,
   "metadata": {},
   "outputs": [
    {
     "data": {
      "text/plain": [
       "defined \u001b[32mfunction\u001b[39m \u001b[36mconstantList\u001b[39m"
      ]
     },
     "execution_count": 11,
     "metadata": {},
     "output_type": "execute_result"
    }
   ],
   "source": [
    "// Next, tail-recursively\n",
    "\n"
   ]
  },
  {
   "cell_type": "markdown",
   "metadata": {},
   "source": [
    "We can also use the function [`fill`](https://www.scala-lang.org/api/2.13.3/scala/collection/immutable/List$.html#fill[A](n:Int)(elem:=%3EA):CC[A]) of the Scala standard library."
   ]
  },
  {
   "cell_type": "markdown",
   "metadata": {},
   "source": [
    "Now, let's calculate the length of a list long enough to blow up the stack, using each of the three implementations:"
   ]
  },
  {
   "cell_type": "code",
   "execution_count": 12,
   "metadata": {},
   "outputs": [
    {
     "data": {
      "text/plain": [
       "\u001b[36mres12\u001b[39m: \u001b[32mInt\u001b[39m = \u001b[32m100000\u001b[39m"
      ]
     },
     "execution_count": 12,
     "metadata": {},
     "output_type": "execute_result"
    }
   ],
   "source": [
    "// Imperatively\n"
   ]
  },
  {
   "cell_type": "code",
   "execution_count": 13,
   "metadata": {},
   "outputs": [
    {
     "data": {
      "text/plain": [
       "\u001b[36mres13\u001b[39m: \u001b[32mInt\u001b[39m = \u001b[32m100000\u001b[39m"
      ]
     },
     "execution_count": 13,
     "metadata": {},
     "output_type": "execute_result"
    }
   ],
   "source": [
    "// Tail-recursive\n"
   ]
  },
  {
   "cell_type": "code",
   "execution_count": 13,
   "metadata": {},
   "outputs": [],
   "source": [
    "// Plain recursive\n"
   ]
  },
  {
   "cell_type": "markdown",
   "metadata": {},
   "source": [
    "### Unit testing with `scalatest`"
   ]
  },
  {
   "cell_type": "code",
   "execution_count": 1,
   "metadata": {},
   "outputs": [
    {
     "data": {
      "text/plain": [
       "\u001b[32mimport \u001b[39m\u001b[36m$ivy.$                                \n",
       "\u001b[39m\n",
       "\u001b[32mimport \u001b[39m\u001b[36morg.scalatest.{Filter => _, _}, flatspec._, matchers._\n",
       "\u001b[39m"
      ]
     },
     "execution_count": 1,
     "metadata": {},
     "output_type": "execute_result"
    }
   ],
   "source": [
    "import $ivy.`org.scalatest::scalatest:3.2.16`\n",
    "import org.scalatest.{Filter => _, _}, flatspec._, matchers._"
   ]
  },
  {
   "cell_type": "markdown",
   "metadata": {},
   "source": [
    "From now on, we will also make extensive use of unit testing for the different functions that we implement. And we will use the [`scalatest`](http://www.scalatest.org/) library for that purpose. In particular, for each function we will implement a test catalogue that test it against different test cases. The test catalogue receives the actual function to be tested as a parameter. For instance, this is a possible test class for the `length` function:"
   ]
  },
  {
   "cell_type": "code",
   "execution_count": 43,
   "metadata": {},
   "outputs": [
    {
     "data": {
      "text/plain": [
       "defined \u001b[32mclass\u001b[39m \u001b[36mTestLength\u001b[39m"
      ]
     },
     "execution_count": 43,
     "metadata": {},
     "output_type": "execute_result"
    }
   ],
   "source": [
    "class TestLength extends AnyFlatSpec with should.Matchers:\n",
    "    \"length\" should \"work\" in:\n",
    "        lengthR(Nil) shouldBe 0 \n",
    "        lengthR(1 :: 3 :: 5 :: 0 :: Nil) shouldBe 4\n"
   ]
  },
  {
   "cell_type": "code",
   "execution_count": 44,
   "metadata": {},
   "outputs": [
    {
     "data": {
      "text/plain": [
       "defined \u001b[32mclass\u001b[39m \u001b[36mTestLength\u001b[39m"
      ]
     },
     "execution_count": 44,
     "metadata": {},
     "output_type": "execute_result"
    }
   ],
   "source": [
    "class TestLength extends AnyFlatSpec with should.Matchers:\n",
    "    \"length\" should \"work\" in:\n",
    "        lengthI(Nil) shouldBe 0 \n",
    "        lengthI(1 :: 3 :: 5 :: 0 :: Nil) shouldBe 4\n"
   ]
  },
  {
   "cell_type": "code",
   "execution_count": 47,
   "metadata": {},
   "outputs": [
    {
     "data": {
      "text/plain": [
       "defined \u001b[32mclass\u001b[39m \u001b[36mTestLength\u001b[39m"
      ]
     },
     "execution_count": 47,
     "metadata": {},
     "output_type": "execute_result"
    }
   ],
   "source": [
    "class TestLength(length: List[Int] => Int) extends AnyFlatSpec with should.Matchers:\n",
    "    \"length\" should \"work\" in:\n",
    "        length(Nil) shouldBe 0 \n",
    "        length(1 :: 3 :: 5 :: 0 :: Nil) shouldBe 4\n"
   ]
  },
  {
   "cell_type": "markdown",
   "metadata": {},
   "source": [
    "The method `shouldBe` is a _matcher_. The scalatest library offers an extensive catalogue of [them](http://www.scalatest.org/user_guide/using_matchers). Similarly, scalatest also support many different [testing styles](http://www.scalatest.org/user_guide/selecting_a_style). The chosen one here was `FlatSpec`. In order to execute the test catalogue we can simply use the scalatest method `run`:"
   ]
  },
  {
   "cell_type": "code",
   "execution_count": 49,
   "metadata": {},
   "outputs": [
    {
     "name": "stdout",
     "output_type": "stream",
     "text": [
      "\u001b[32mcell47$Helper$TestLength:\u001b[0m\n",
      "\u001b[32mlength\u001b[0m\n",
      "\u001b[32m- should work\u001b[0m\n",
      "\u001b[32mcell47$Helper$TestLength:\u001b[0m\n",
      "\u001b[32mlength\u001b[0m\n",
      "\u001b[32m- should work\u001b[0m\n"
     ]
    }
   ],
   "source": [
    "run(TestLength(lengthR))\n",
    "run(TestLength(lengthI))"
   ]
  },
  {
   "cell_type": "markdown",
   "metadata": {},
   "source": [
    "### Example: adding numbers"
   ]
  },
  {
   "cell_type": "markdown",
   "metadata": {},
   "source": [
    "Let's implement a function that sums all the numbers of a list."
   ]
  },
  {
   "cell_type": "code",
   "execution_count": 28,
   "metadata": {},
   "outputs": [
    {
     "data": {
      "text/plain": [
       "defined \u001b[32mclass\u001b[39m \u001b[36mTestSum\u001b[39m"
      ]
     },
     "execution_count": 28,
     "metadata": {},
     "output_type": "execute_result"
    }
   ],
   "source": [
    "class TestSum(sum: List[Int] => Int) extends AnyFlatSpec with should.Matchers:\n",
    "    \"sum\" should \"work\" in:\n",
    "        sum(List()) shouldBe 0\n",
    "        sum(List(1,2,3,4)) shouldBe 10\n",
    "        sum(List(6)) shouldBe 6"
   ]
  },
  {
   "cell_type": "code",
   "execution_count": 54,
   "metadata": {},
   "outputs": [
    {
     "data": {
      "text/plain": [
       "defined \u001b[32mfunction\u001b[39m \u001b[36msum\u001b[39m"
      ]
     },
     "execution_count": 54,
     "metadata": {},
     "output_type": "execute_result"
    }
   ],
   "source": [
    "// Recursively\n",
    "\n",
    "def sum(l: List[Int]): Int = \n",
    "    l match \n",
    "        case Nil => 0 \n",
    "        case head :: tail => \n",
    "            val tailSum: Int = sum(tail) \n",
    "            tailSum + head : Int"
   ]
  },
  {
   "cell_type": "code",
   "execution_count": 54,
   "metadata": {},
   "outputs": [
    {
     "data": {
      "text/plain": [
       "defined \u001b[32mfunction\u001b[39m \u001b[36msum\u001b[39m"
      ]
     },
     "execution_count": 54,
     "metadata": {},
     "output_type": "execute_result"
    }
   ],
   "source": [
    "// Tail-recursively\n",
    "\n",
    "def sum(l: List[Int]): Int = \n",
    "    l match \n",
    "        case Nil => 0 \n",
    "        case head :: tail => \n",
    "            val tailSum: Int = sum(tail) \n",
    "            tailSum + head : Int"
   ]
  },
  {
   "cell_type": "markdown",
   "metadata": {},
   "source": [
    "out          aux\n",
    "---          --- \n",
    "0            1 :: 2 :: 3 :: Nil\n",
    "0+1               2 :: 3 :: Nil\n",
    "1+2                    3 :: Nil\n",
    "3+3                         Nil"
   ]
  },
  {
   "cell_type": "code",
   "execution_count": 27,
   "metadata": {},
   "outputs": [
    {
     "data": {
      "text/plain": [
       "defined \u001b[32mfunction\u001b[39m \u001b[36maddTR\u001b[39m"
      ]
     },
     "execution_count": 27,
     "metadata": {},
     "output_type": "execute_result"
    }
   ],
   "source": [
    "def addTR(l: List[Int]): Int = \n",
    "\n",
    "    @scala.annotation.tailrec\n",
    "    def step(out: Int, aux: List[Int]): Int = \n",
    "        aux match \n",
    "            case Nil => out\n",
    "            case head :: tail => \n",
    "                step(out + head, tail)\n",
    "\n",
    "    step(0 : Int, l)\n"
   ]
  },
  {
   "cell_type": "code",
   "execution_count": 29,
   "metadata": {},
   "outputs": [
    {
     "name": "stdout",
     "output_type": "stream",
     "text": [
      "\u001b[32mcell28$Helper$TestSum:\u001b[0m\n",
      "\u001b[32msum\u001b[0m\n",
      "\u001b[32m- should work\u001b[0m\n"
     ]
    }
   ],
   "source": [
    "run(TestSum(addTR))"
   ]
  },
  {
   "cell_type": "code",
   "execution_count": 20,
   "metadata": {},
   "outputs": [
    {
     "data": {
      "text/plain": [
       "defined \u001b[32mfunction\u001b[39m \u001b[36msumTR\u001b[39m"
      ]
     },
     "execution_count": 20,
     "metadata": {},
     "output_type": "execute_result"
    }
   ],
   "source": [
    "// With tail-recursion\n",
    "\n"
   ]
  },
  {
   "cell_type": "code",
   "execution_count": 21,
   "metadata": {},
   "outputs": [
    {
     "name": "stdout",
     "output_type": "stream",
     "text": [
      "\u001b[32mcell17$Helper$TestSum:\u001b[0m\n",
      "\u001b[32msum\u001b[0m\n",
      "\u001b[32m- should work\u001b[0m\n"
     ]
    }
   ],
   "source": [
    "run(TestSum(sumTR))"
   ]
  },
  {
   "cell_type": "markdown",
   "metadata": {},
   "source": [
    "### Example: multiplying list elements"
   ]
  },
  {
   "cell_type": "markdown",
   "metadata": {},
   "source": [
    "Let's multiply the elements of a list. If the list is empty we return the identity element for integers."
   ]
  },
  {
   "cell_type": "code",
   "execution_count": 22,
   "metadata": {},
   "outputs": [
    {
     "data": {
      "text/plain": [
       "defined \u001b[32mclass\u001b[39m \u001b[36mTestProduct\u001b[39m"
      ]
     },
     "execution_count": 22,
     "metadata": {},
     "output_type": "execute_result"
    }
   ],
   "source": [
    "class TestProduct(product: List[Int] => Int) extends AnyFlatSpec with should.Matchers:\n",
    "    \"product\" should \"work\" in:\n",
    "        ???"
   ]
  },
  {
   "cell_type": "markdown",
   "metadata": {},
   "source": [
    " This is the common recursive implementation:"
   ]
  },
  {
   "cell_type": "code",
   "execution_count": 23,
   "metadata": {},
   "outputs": [
    {
     "data": {
      "text/plain": [
       "defined \u001b[32mfunction\u001b[39m \u001b[36mproduct\u001b[39m"
      ]
     },
     "execution_count": 23,
     "metadata": {},
     "output_type": "execute_result"
    }
   ],
   "source": []
  },
  {
   "cell_type": "code",
   "execution_count": 24,
   "metadata": {},
   "outputs": [
    {
     "name": "stdout",
     "output_type": "stream",
     "text": [
      "\u001b[32mcell22$Helper$TestProduct:\u001b[0m\n",
      "\u001b[32mproduct\u001b[0m\n",
      "\u001b[32m- should work\u001b[0m\n"
     ]
    }
   ],
   "source": [
    "run(TestProduct(product))"
   ]
  },
  {
   "cell_type": "markdown",
   "metadata": {},
   "source": [
    "But we can optimize the function a little bit. Note that if the number 0 belongs to the list, then the result is 0, no matter how many elements the list has. So, once we find the element 0 it's a waste of resources to make the recursive call. Let's take this into account."
   ]
  },
  {
   "cell_type": "code",
   "execution_count": 25,
   "metadata": {},
   "outputs": [
    {
     "data": {
      "text/plain": [
       "defined \u001b[32mfunction\u001b[39m \u001b[36mproduct2\u001b[39m"
      ]
     },
     "execution_count": 25,
     "metadata": {},
     "output_type": "execute_result"
    }
   ],
   "source": [
    "// optimization for 0\n",
    "\n"
   ]
  },
  {
   "cell_type": "code",
   "execution_count": 26,
   "metadata": {},
   "outputs": [
    {
     "name": "stdout",
     "output_type": "stream",
     "text": [
      "\u001b[32mcell22$Helper$TestProduct:\u001b[0m\n",
      "\u001b[32mproduct\u001b[0m\n",
      "\u001b[32m- should work\u001b[0m\n"
     ]
    }
   ],
   "source": [
    "run(TestProduct(product2))"
   ]
  },
  {
   "cell_type": "markdown",
   "metadata": {},
   "source": [
    "A similar optimization can be made for the tail-recursive implementation."
   ]
  },
  {
   "cell_type": "markdown",
   "metadata": {},
   "source": [
    "### Example: membership"
   ]
  },
  {
   "cell_type": "markdown",
   "metadata": {},
   "source": [
    "Let's implement a function that given a list and an element, returns whether the element belongs to that list."
   ]
  },
  {
   "cell_type": "code",
   "execution_count": 31,
   "metadata": {},
   "outputs": [
    {
     "data": {
      "text/plain": [
       "defined \u001b[32mclass\u001b[39m \u001b[36mTestMember\u001b[39m"
      ]
     },
     "execution_count": 31,
     "metadata": {},
     "output_type": "execute_result"
    }
   ],
   "source": [
    "class TestMember(member: (List[Int], Int) => Boolean) extends AnyFlatSpec with should.Matchers:\n",
    "    \"member\" should \"work\" in:\n",
    "        member(Nil, 3) shouldBe false\n",
    "        member(List(1), 3) shouldBe false\n",
    "        member(List(1,2,3), 4) shouldBe false\n",
    "        member(List(1), 1) shouldBe true\n",
    "        member(List(1,2,3), 2) shouldBe true"
   ]
  },
  {
   "cell_type": "code",
   "execution_count": null,
   "metadata": {},
   "outputs": [],
   "source": [
    "out           aux          a\n",
    "---           ---          -- \n",
    "false         [1,2,3]      4\n",
    "false           [2,3]\n",
    "false             [3]\n",
    "false              []\n"
   ]
  },
  {
   "cell_type": "code",
   "execution_count": null,
   "metadata": {},
   "outputs": [],
   "source": [
    "out           aux          a\n",
    "---           ---          -- \n",
    "false         [1,2,3]      3\n",
    "false           [2,3]\n",
    "false             [3]\n",
    "true               []\n"
   ]
  },
  {
   "cell_type": "code",
   "execution_count": null,
   "metadata": {},
   "outputs": [],
   "source": [
    "out           aux          a\n",
    "---           ---          -- \n",
    "false         [1,2,3]      2\n",
    "false           [2,3]\n",
    "true              [3]\n",
    "false              []\n"
   ]
  },
  {
   "cell_type": "code",
   "execution_count": 37,
   "metadata": {},
   "outputs": [
    {
     "data": {
      "text/plain": [
       "defined \u001b[32mfunction\u001b[39m \u001b[36mmemberTR\u001b[39m"
      ]
     },
     "execution_count": 37,
     "metadata": {},
     "output_type": "execute_result"
    }
   ],
   "source": [
    "def memberTR[A](l: List[A], a: A): Boolean = \n",
    "\n",
    "    @scala.annotation.tailrec\n",
    "    def step(out: Boolean, aux: List[A]): Boolean = \n",
    "        aux match \n",
    "            case Nil => out\n",
    "            case head :: tail => \n",
    "                // step(if out then out else head == a, tail)\n",
    "                step(out || head == a, tail)\n",
    "\n",
    "    step(false : Boolean, l)\n"
   ]
  },
  {
   "cell_type": "code",
   "execution_count": 43,
   "metadata": {},
   "outputs": [
    {
     "data": {
      "text/plain": [
       "defined \u001b[32mfunction\u001b[39m \u001b[36mmemberTR\u001b[39m"
      ]
     },
     "execution_count": 43,
     "metadata": {},
     "output_type": "execute_result"
    }
   ],
   "source": [
    "def memberTR[A](l: List[A], a: A): Boolean = \n",
    "\n",
    "    @scala.annotation.tailrec\n",
    "    def step(out: Boolean, aux: List[A]): Boolean = \n",
    "        (out, aux) match \n",
    "            case (true, _) => true\n",
    "            case (out, Nil) => false\n",
    "            case (out, head :: tail) => \n",
    "                // step(if out then out else head == a, tail)\n",
    "                step(head == a, tail)\n",
    "\n",
    "    step(false : Boolean, l)\n"
   ]
  },
  {
   "cell_type": "code",
   "execution_count": 41,
   "metadata": {},
   "outputs": [
    {
     "data": {
      "text/plain": [
       "defined \u001b[32mfunction\u001b[39m \u001b[36mmemberTR\u001b[39m"
      ]
     },
     "execution_count": 41,
     "metadata": {},
     "output_type": "execute_result"
    }
   ],
   "source": [
    "def memberTR[A](l: List[A], a: A): Boolean = \n",
    "\n",
    "    @scala.annotation.tailrec\n",
    "    def step(out: Boolean, aux: List[A]): Boolean = \n",
    "        if out then out \n",
    "        else aux match \n",
    "            case Nil => false\n",
    "            case head :: tail => \n",
    "                step(head == a, tail)\n",
    "\n",
    "    step(false : Boolean, l)\n"
   ]
  },
  {
   "cell_type": "code",
   "execution_count": 42,
   "metadata": {},
   "outputs": [
    {
     "name": "stdout",
     "output_type": "stream",
     "text": [
      "\u001b[32mcell31$Helper$TestMember:\u001b[0m\n",
      "\u001b[32mmember\u001b[0m\n",
      "\u001b[32m- should work\u001b[0m\n"
     ]
    }
   ],
   "source": [
    "run(TestMember(memberTR))"
   ]
  },
  {
   "cell_type": "code",
   "execution_count": 45,
   "metadata": {},
   "outputs": [
    {
     "data": {
      "text/plain": [
       "defined \u001b[32mfunction\u001b[39m \u001b[36mmemberR\u001b[39m"
      ]
     },
     "execution_count": 45,
     "metadata": {},
     "output_type": "execute_result"
    }
   ],
   "source": [
    "// Using recursive functions\n",
    "\n",
    "def memberR[A](l: List[A], a: A): Boolean = \n",
    "    l match \n",
    "        case Nil => false : Boolean\n",
    "        case (head : A) :: (tail : List[A]) => \n",
    "            val tailSol: Boolean = memberR(tail, a)\n",
    "            tailSol || head == a : Boolean "
   ]
  },
  {
   "cell_type": "code",
   "execution_count": 51,
   "metadata": {},
   "outputs": [
    {
     "data": {
      "text/plain": [
       "defined \u001b[32mfunction\u001b[39m \u001b[36mmemberR\u001b[39m"
      ]
     },
     "execution_count": 51,
     "metadata": {},
     "output_type": "execute_result"
    }
   ],
   "source": [
    "// Using recursive functions\n",
    "\n",
    "@scala.annotation.tailrec\n",
    "def memberR[A](l: List[A], a: A): Boolean = \n",
    "    l match \n",
    "        case Nil => false : Boolean\n",
    "        case `a` :: tail => true \n",
    "        case _ :: tail => memberR(tail, a)"
   ]
  },
  {
   "cell_type": "code",
   "execution_count": 50,
   "metadata": {},
   "outputs": [
    {
     "name": "stdout",
     "output_type": "stream",
     "text": [
      "\u001b[32mcell31$Helper$TestMember:\u001b[0m\n",
      "\u001b[32mmember\u001b[0m\n",
      "\u001b[32m- should work\u001b[0m\n"
     ]
    }
   ],
   "source": [
    "run(TestMember(memberR))"
   ]
  },
  {
   "cell_type": "markdown",
   "metadata": {},
   "source": [
    "We can also pattern match against a specific value as follows:"
   ]
  },
  {
   "cell_type": "markdown",
   "metadata": {},
   "source": [
    "We can also pattern match against a specific value as follows:"
   ]
  },
  {
   "cell_type": "code",
   "execution_count": 30,
   "metadata": {},
   "outputs": [
    {
     "data": {
      "text/plain": [
       "defined \u001b[32mfunction\u001b[39m \u001b[36mmember\u001b[39m"
      ]
     },
     "execution_count": 30,
     "metadata": {},
     "output_type": "execute_result"
    }
   ],
   "source": []
  },
  {
   "cell_type": "markdown",
   "metadata": {},
   "source": [
    "### Example: last element"
   ]
  },
  {
   "cell_type": "markdown",
   "metadata": {},
   "source": [
    "Let's implement a function that returns the last element of a given list. Note that an empty list does not have elements, and, hence, does not have a last element."
   ]
  },
  {
   "cell_type": "code",
   "execution_count": 31,
   "metadata": {},
   "outputs": [
    {
     "data": {
      "text/plain": [
       "defined \u001b[32mclass\u001b[39m \u001b[36mTestLast\u001b[39m"
      ]
     },
     "execution_count": 31,
     "metadata": {},
     "output_type": "execute_result"
    }
   ],
   "source": [
    "class TestLast(last: List[Int] => Option[Int]) extends AnyFlatSpec with should.Matchers:\n",
    "    \"last\" should \"work\" in:\n",
    "        ???"
   ]
  },
  {
   "cell_type": "code",
   "execution_count": 32,
   "metadata": {},
   "outputs": [
    {
     "data": {
      "text/plain": [
       "defined \u001b[32mfunction\u001b[39m \u001b[36mlast\u001b[39m"
      ]
     },
     "execution_count": 32,
     "metadata": {},
     "output_type": "execute_result"
    }
   ],
   "source": [
    "@annotation.tailrec\n"
   ]
  },
  {
   "cell_type": "code",
   "execution_count": 33,
   "metadata": {},
   "outputs": [
    {
     "name": "stdout",
     "output_type": "stream",
     "text": [
      "\u001b[32mcell31$Helper$TestLast:\u001b[0m\n",
      "\u001b[32mlast\u001b[0m\n",
      "\u001b[32m- should work\u001b[0m\n"
     ]
    }
   ],
   "source": [
    "run(TestLast(last))"
   ]
  },
  {
   "cell_type": "markdown",
   "metadata": {},
   "source": [
    "### Example: insert last"
   ]
  },
  {
   "cell_type": "markdown",
   "metadata": {},
   "source": [
    "Now, a function that allows us to insert an element at the end of the list. "
   ]
  },
  {
   "cell_type": "code",
   "execution_count": 47,
   "metadata": {},
   "outputs": [
    {
     "data": {
      "text/plain": [
       "defined \u001b[32mclass\u001b[39m \u001b[36mTestInsertLast\u001b[39m"
      ]
     },
     "execution_count": 47,
     "metadata": {},
     "output_type": "execute_result"
    }
   ],
   "source": [
    "class TestInsertLast(insertLast: (List[Int], Int) => List[Int]) \n",
    "extends AnyFlatSpec with should.Matchers:\n",
    "    \"insertLast\" should \"work\" in:\n",
    "        ???"
   ]
  },
  {
   "cell_type": "code",
   "execution_count": 48,
   "metadata": {},
   "outputs": [
    {
     "data": {
      "text/plain": [
       "defined \u001b[32mfunction\u001b[39m \u001b[36minsertLast\u001b[39m"
      ]
     },
     "execution_count": 48,
     "metadata": {},
     "output_type": "execute_result"
    }
   ],
   "source": []
  },
  {
   "cell_type": "code",
   "execution_count": 49,
   "metadata": {},
   "outputs": [
    {
     "name": "stdout",
     "output_type": "stream",
     "text": [
      "\u001b[32mcell47$Helper$TestInsertLast:\u001b[0m\n",
      "\u001b[32minsertLast\u001b[0m\n",
      "\u001b[32m- should work\u001b[0m\n"
     ]
    }
   ],
   "source": [
    "run(TestInsertLast(insertLast))"
   ]
  },
  {
   "cell_type": "markdown",
   "metadata": {},
   "source": [
    "### Example: reverse lists"
   ]
  },
  {
   "cell_type": "markdown",
   "metadata": {},
   "source": [
    "Implement a function which receives a list and returns its reverse."
   ]
  },
  {
   "cell_type": "code",
   "execution_count": 50,
   "metadata": {},
   "outputs": [
    {
     "data": {
      "text/plain": [
       "defined \u001b[32mclass\u001b[39m \u001b[36mTestReverse\u001b[39m"
      ]
     },
     "execution_count": 50,
     "metadata": {},
     "output_type": "execute_result"
    }
   ],
   "source": [
    "class TestReverse(reverse: List[Int] => List[Int]) extends AnyFlatSpec with should.Matchers:\n",
    "    \"reverse\" should \"work\" in:\n",
    "        ???"
   ]
  },
  {
   "cell_type": "code",
   "execution_count": 51,
   "metadata": {},
   "outputs": [
    {
     "data": {
      "text/plain": [
       "defined \u001b[32mfunction\u001b[39m \u001b[36mreverse\u001b[39m"
      ]
     },
     "execution_count": 51,
     "metadata": {},
     "output_type": "execute_result"
    }
   ],
   "source": [
    "// Really inefficient \n",
    "\n"
   ]
  },
  {
   "cell_type": "code",
   "execution_count": 52,
   "metadata": {},
   "outputs": [
    {
     "name": "stdout",
     "output_type": "stream",
     "text": [
      "\u001b[32mcell50$Helper$TestReverse:\u001b[0m\n",
      "\u001b[32mreverse\u001b[0m\n",
      "\u001b[32m- should work\u001b[0m\n"
     ]
    }
   ],
   "source": [
    "run(TestReverse(reverse))"
   ]
  },
  {
   "cell_type": "code",
   "execution_count": 53,
   "metadata": {},
   "outputs": [
    {
     "data": {
      "text/plain": [
       "defined \u001b[32mfunction\u001b[39m \u001b[36mreverseTR\u001b[39m"
      ]
     },
     "execution_count": 53,
     "metadata": {},
     "output_type": "execute_result"
    }
   ],
   "source": [
    "// Tail-recursive, efficiently\n",
    "\n"
   ]
  },
  {
   "cell_type": "code",
   "execution_count": 54,
   "metadata": {},
   "outputs": [
    {
     "name": "stdout",
     "output_type": "stream",
     "text": [
      "\u001b[32mcell50$Helper$TestReverse:\u001b[0m\n",
      "\u001b[32mreverse\u001b[0m\n",
      "\u001b[32m- should work\u001b[0m\n"
     ]
    }
   ],
   "source": [
    "run(TestReverse(reverseTR))"
   ]
  },
  {
   "cell_type": "markdown",
   "metadata": {},
   "source": [
    "### Example: concatenate lists"
   ]
  },
  {
   "cell_type": "code",
   "execution_count": 56,
   "metadata": {},
   "outputs": [
    {
     "data": {
      "text/plain": [
       "defined \u001b[32mclass\u001b[39m \u001b[36mTestConcatenate\u001b[39m"
      ]
     },
     "execution_count": 56,
     "metadata": {},
     "output_type": "execute_result"
    }
   ],
   "source": [
    "class TestConcatenate(concatenate: (List[Int], List[Int]) => List[Int]) \n",
    "extends AnyFlatSpec with should.Matchers:\n",
    "    \"concatenate\" should \"work\" in:\n",
    "        ???"
   ]
  },
  {
   "cell_type": "code",
   "execution_count": 57,
   "metadata": {},
   "outputs": [
    {
     "data": {
      "text/plain": [
       "defined \u001b[32mfunction\u001b[39m \u001b[36mconcatenate\u001b[39m"
      ]
     },
     "execution_count": 57,
     "metadata": {},
     "output_type": "execute_result"
    }
   ],
   "source": []
  },
  {
   "cell_type": "code",
   "execution_count": 58,
   "metadata": {},
   "outputs": [
    {
     "name": "stdout",
     "output_type": "stream",
     "text": [
      "\u001b[32mcell56$Helper$TestConcatenate:\u001b[0m\n",
      "\u001b[32mconcatenate\u001b[0m\n",
      "\u001b[32m- should work\u001b[0m\n"
     ]
    }
   ],
   "source": [
    "run(TestConcatenate(concatenate))"
   ]
  },
  {
   "cell_type": "markdown",
   "metadata": {},
   "source": [
    "Tail-recursive concatenation:"
   ]
  },
  {
   "cell_type": "code",
   "execution_count": 59,
   "metadata": {},
   "outputs": [
    {
     "data": {
      "text/plain": [
       "defined \u001b[32mfunction\u001b[39m \u001b[36mconcatenateTR\u001b[39m"
      ]
     },
     "execution_count": 59,
     "metadata": {},
     "output_type": "execute_result"
    }
   ],
   "source": []
  },
  {
   "cell_type": "code",
   "execution_count": 60,
   "metadata": {},
   "outputs": [
    {
     "name": "stdout",
     "output_type": "stream",
     "text": [
      "\u001b[32mcell56$Helper$TestConcatenate:\u001b[0m\n",
      "\u001b[32mconcatenate\u001b[0m\n",
      "\u001b[32m- should work\u001b[0m\n"
     ]
    }
   ],
   "source": [
    "run(TestConcatenate(concatenateTR))"
   ]
  }
 ],
 "metadata": {
  "kernelspec": {
   "display_name": "Scala 3.3",
   "language": "scala",
   "name": "scala33"
  },
  "language_info": {
   "codemirror_mode": "text/x-scala",
   "file_extension": ".sc",
   "mimetype": "text/x-scala",
   "name": "scala",
   "nbconvert_exporter": "script",
   "version": "2.13.12"
  }
 },
 "nbformat": 4,
 "nbformat_minor": 4
}
