{
 "cells": [
  {
   "cell_type": "markdown",
   "id": "6eefef07-c49c-47a0-9791-d3a90c3697da",
   "metadata": {
    "tags": []
   },
   "source": [
    "### Preamble"
   ]
  },
  {
   "cell_type": "code",
   "execution_count": null,
   "id": "29f9b2f1-72ff-4bb3-b335-2a36a750dc6c",
   "metadata": {},
   "outputs": [],
   "source": [
    "import $ivy.`org.scalatest::scalatest:3.2.16`\n",
    "import org.scalatest.{Filter => _, _}, flatspec._, matchers._"
   ]
  },
  {
   "cell_type": "markdown",
   "id": "f14c87af-3318-4f61-95c3-380bdb6c6238",
   "metadata": {},
   "source": [
    "# Topic 7. Applications"
   ]
  },
  {
   "cell_type": "markdown",
   "id": "ce18b059-2bf9-4067-943c-09ea439671a6",
   "metadata": {},
   "source": [
    "## 7.3 Games"
   ]
  },
  {
   "cell_type": "markdown",
   "id": "249affe6-13a2-4fe2-8ec1-008d7c545f59",
   "metadata": {},
   "source": [
    "In this section we will exploit ADTs and higher-order functions to implement the game of Wordle. In doing so, we will also emphasise the general design patterns that can be applied to implement these kinds of applications.  "
   ]
  },
  {
   "cell_type": "markdown",
   "id": "6e1aab79-50c3-4bfd-b886-e4f5d40f4496",
   "metadata": {},
   "source": [
    "##### Wordle specification"
   ]
  },
  {
   "cell_type": "markdown",
   "id": "9fbc3e4a-e2e2-4b78-a2af-5b4797f8eaff",
   "metadata": {},
   "source": [
    "Wordle is a popular online word game that challenges players to guess a five-letter word within six tries. Each guess must be a valid five-letter word. After each guess, the game provides feedback in the form of colored tiles, indicating how close the guess was to the word. A green tile shows that a letter is correct and in the right position, a yellow tile indicates that the letter is correct but in the wrong position, and a gray tile means that the letter is not in the word at all. The goal is to guess the correct word in as few tries as possible."
   ]
  },
  {
   "cell_type": "markdown",
   "id": "f8b65496-85c7-4c29-9f04-50c9e441ba55",
   "metadata": {},
   "source": [
    "For instance, this a game in which the correct word (\"slice\") was guessed in three attempts: "
   ]
  },
  {
   "cell_type": "markdown",
   "id": "eb5fc5ec-1b85-45f8-a408-d96a0d86d11b",
   "metadata": {},
   "source": [
    "- Guess 1: CRANE\n",
    "  - 🟨⬛⬛⬛🟩\n",
    "- Guess 2: PIOUS\n",
    "  - ⬛🟨⬛⬛🟨\n",
    "- Guess 3: SLICE\n",
    "  - 🟩🟩🟩🟩🟩"
   ]
  },
  {
   "cell_type": "markdown",
   "id": "eed1eb51-0d6c-4234-821b-63794eb0f2f5",
   "metadata": {},
   "source": [
    "In the first guess, \"CRANE\", the first letter is marked with a yellow tile since it appears in the word \"SLICE\" in a different position; the letters \"R\", \"A\" and \"N\" do not appear, and they are marked with a gray tile accordingly; last, the letter \"E\" appears in the right position and it's therefore marked as green. \n",
    "\n",
    "Green and gray tiles are easy to assign, but potential yellow tiles have to be assigned carefully. For instance, consider the following guess of the correct word \"ATLAS\": "
   ]
  },
  {
   "cell_type": "markdown",
   "id": "6463a3ed-a8a7-42ae-9ca5-14ffd90afa19",
   "metadata": {},
   "source": [
    "- Guess 1: BAABA\n",
    "  - ⬛🟨🟨⬛⬛"
   ]
  },
  {
   "cell_type": "markdown",
   "id": "76b528b2-a0c2-49ed-b929-583f47db9d27",
   "metadata": {},
   "source": [
    "Note that only the first two occurrences of the letter \"A\" are marked as yellow. The last occurrence is marked as gray because the correct word only has two occurrences of this letter. Also, consider the following example: "
   ]
  },
  {
   "cell_type": "markdown",
   "id": "a37f0472-eb89-4ca3-8e6b-7388af85398d",
   "metadata": {},
   "source": [
    "- Guess 1: BAAAA\n",
    "  - ⬛🟨⬛🟩⬛"
   ]
  },
  {
   "cell_type": "markdown",
   "id": "59575156-953d-42b6-b99f-99bc9b19c10e",
   "metadata": {},
   "source": [
    "In this case, the second occurrence of the letter \"A\" is marked as gray, even if there are two occurrences of this letter in the correct word. This is because there is an occurrence of this letter in the right position (i.e. marked as green)."
   ]
  },
  {
   "cell_type": "markdown",
   "id": "c87a67a1-a8c4-4151-8609-05b26b01cc42",
   "metadata": {},
   "source": [
    "Last, note that these previous examples were not quite right, because guesses need to be found in the dictionary. In case that they don't, they will be simply rejected and the player will be asked to try again. "
   ]
  },
  {
   "cell_type": "markdown",
   "id": "d0c8f665-3941-43d1-b04b-10a209ffcc5b",
   "metadata": {},
   "source": [
    "##### The _machine_ metaphor"
   ]
  },
  {
   "cell_type": "markdown",
   "id": "9c41fda0-c0c8-440c-a53a-b74db58c38ae",
   "metadata": {},
   "source": [
    "The implementation of wordle will follow a _machine_ metaphor, whereby game applications are essentially machines which hold a characteristic state that evolve over time in response to user input. From this perspective, we can identify the following components in a game application: \n",
    "* The state of the game. Which information characterises the game at a given moment?\n",
    "* The dynamics of the game. How does the game state evolve over time?\n",
    "* The user interface. How does the user interact with the game machine?\n",
    "\n",
    "The following sections deal with the implementation of these components."
   ]
  },
  {
   "cell_type": "markdown",
   "id": "8b8f0eed-95ab-4d87-a5c8-8a9534d8bc50",
   "metadata": {},
   "source": [
    "### The state of the game"
   ]
  },
  {
   "cell_type": "markdown",
   "id": "bdb5cb6e-959e-415c-ace7-b06fd9972a6a",
   "metadata": {},
   "source": [
    "The state of a wordle game can be characterised by the following information: \n",
    "  * The correct word to be guessed\n",
    "  * A dictionary of five-letter words\n",
    "  * The list of attempts so far"
   ]
  },
  {
   "cell_type": "code",
   "execution_count": null,
   "id": "253dce4d-1a93-4f3a-86bc-8a0c81fc67a2",
   "metadata": {},
   "outputs": [],
   "source": [
    "// Wordle state\n"
   ]
  },
  {
   "cell_type": "markdown",
   "id": "76df3a0f-9b1e-4f8c-a6de-dc87cfb708b8",
   "metadata": {},
   "source": [
    "Accordingly, the state of the match shown previously would be implemented as follows: "
   ]
  },
  {
   "cell_type": "code",
   "execution_count": null,
   "id": "1a8a05f4-1800-40a6-8786-0a059d4d8b78",
   "metadata": {},
   "outputs": [],
   "source": [
    "// An instance\n"
   ]
  },
  {
   "cell_type": "markdown",
   "id": "df6a6ae4-afdb-4a27-8375-2c6b2c05813c",
   "metadata": {},
   "source": [
    "We can distinguish between the raw information that fully characterised a given state, and the information that we can derive from it, such as: \n",
    "* Did the player win? This will be the case if the player guessed the word in the last attempt.\n",
    "* Did the player lose? This will be the case if the player run out of attempts (namely, six) without guessing the word.\n",
    "* Is the game over? i.e., did the player lose or win?\n",
    "* Which are the tiles of the different guesses? "
   ]
  },
  {
   "cell_type": "markdown",
   "id": "4a4fca07-64c7-46cb-9a7a-42fef5f5e943",
   "metadata": {},
   "source": [
    "##### Winning"
   ]
  },
  {
   "cell_type": "code",
   "execution_count": null,
   "id": "24083cde-e248-4733-95a3-f363988ba55e",
   "metadata": {},
   "outputs": [],
   "source": [
    "// win observer\n",
    "\n"
   ]
  },
  {
   "cell_type": "code",
   "execution_count": null,
   "id": "0715ce4d-d691-46d7-90f2-ff144c8873cd",
   "metadata": {},
   "outputs": [],
   "source": [
    "val w = Wordle(\"SLICE\", List(/*skip*/), List(\"PIOUS\", \"CRANE\"))"
   ]
  },
  {
   "cell_type": "code",
   "execution_count": null,
   "id": "071bdff9-fd8d-48e5-91b6-573bb4d7c05a",
   "metadata": {},
   "outputs": [],
   "source": [
    "win(w)"
   ]
  },
  {
   "cell_type": "markdown",
   "id": "16448b10-b8c8-4519-92f6-143a451b45de",
   "metadata": {},
   "source": [
    "##### Losing"
   ]
  },
  {
   "cell_type": "code",
   "execution_count": null,
   "id": "979b873d-813f-456d-8c2e-e5230d7c39bd",
   "metadata": {},
   "outputs": [],
   "source": [
    "// Lose observer\n",
    "\n",
    "\n"
   ]
  },
  {
   "cell_type": "markdown",
   "id": "937d0246-d7a9-404d-af19-b4ed19e80adc",
   "metadata": {},
   "source": [
    "##### Game over"
   ]
  },
  {
   "cell_type": "code",
   "execution_count": null,
   "id": "791340a6-5216-4468-be95-bf8a21b64f85",
   "metadata": {},
   "outputs": [],
   "source": [
    "// game over observer\n"
   ]
  },
  {
   "cell_type": "markdown",
   "id": "02e8796a-f604-4878-91b4-4b5d314df175",
   "metadata": {},
   "source": [
    "### Tile assignment"
   ]
  },
  {
   "cell_type": "markdown",
   "id": "896abdad-9cad-440d-b34b-5b244aba9283",
   "metadata": {},
   "source": [
    "Tile assignment is complex enough to deserve its own section. We will first define a brief catalogue of tests together with basic type definition. Then, we will explain the basic algorithm for tile assignment, and several implementations: first, an imperative one based on mutable variables and for loops; then, an implementation based on the `foldLeft` HOF; and, finally, a more declarative implementation based on state transformations."
   ]
  },
  {
   "cell_type": "markdown",
   "id": "7e0228e8-1f43-40dd-8dfe-ff3d97ca5c44",
   "metadata": {},
   "source": [
    "##### Test catalogue"
   ]
  },
  {
   "cell_type": "markdown",
   "id": "9399d569-b28f-403d-bc91-946221a581fa",
   "metadata": {},
   "source": [
    "We must first define the `Tile` enumeration type: "
   ]
  },
  {
   "cell_type": "code",
   "execution_count": null,
   "id": "e40a26aa-988c-4bff-a7dc-95fc5ac787a6",
   "metadata": {},
   "outputs": [],
   "source": [
    "// Tile def.\n"
   ]
  },
  {
   "cell_type": "markdown",
   "id": "1b13fa12-1cf3-4891-9638-d8e69f9d9fb2",
   "metadata": {},
   "source": [
    "and the type which represent the assignments of tiles to the different letters of the guess word: "
   ]
  },
  {
   "cell_type": "code",
   "execution_count": null,
   "id": "485d8b31-a941-400b-8332-dbcb9e9ed024",
   "metadata": {},
   "outputs": [],
   "source": [
    "// Assignment def.\n"
   ]
  },
  {
   "cell_type": "markdown",
   "id": "e4deb9df-902a-42f6-a2c8-6699daf3243f",
   "metadata": {},
   "source": [
    "Note that the type is not simply `List[(Char, Tile)]`. This is in order to reuse this structure throughout the tile assignment process."
   ]
  },
  {
   "cell_type": "markdown",
   "id": "3fd97a77-e6d8-4371-a819-f9646147a797",
   "metadata": {},
   "source": [
    "The test catalogue can then be defined as follows: "
   ]
  },
  {
   "cell_type": "code",
   "execution_count": null,
   "id": "6f2edefd-e2d8-4f68-abc4-1bcb6b6d4887",
   "metadata": {},
   "outputs": [],
   "source": [
    "class TileTest(\n",
    "    tiles: (String, String) => Assignment\n",
    ") extends AnyFlatSpec with should.Matchers:\n",
    "    \n",
    "    \"tiles\" should \"work in normal cases\" in:\n",
    "        tiles(\"CRANE\", \"BRAVE\") shouldBe List('B' -> Some(Gray), 'R' -> Some(Green), 'A' -> Some(Green), 'V' -> Some(Gray), 'E' -> Some(Green))\n",
    "        tiles(\"SLICE\", \"CRANE\") shouldBe List('C' -> Some(Yellow), 'R' -> Some(Gray), 'A' -> Some(Gray), 'N' -> Some(Gray), 'E' -> Some(Green))\n",
    "        tiles(\"SLICE\", \"PIOUS\") shouldBe List('P' -> Some(Gray), 'I' -> Some(Yellow), 'O' -> Some(Gray), 'U' -> Some(Gray), 'S' -> Some(Yellow))\n",
    "        tiles(\"SLICE\", \"SLICE\") shouldBe List('S' -> Some(Green), 'L' -> Some(Green), 'I' -> Some(Green), 'C' -> Some(Green), 'E' -> Some(Green))\n",
    "\n",
    "    \"tiles\" should \"assign gray tiles to letters that appear in the correct word when there are not enough occurrences\" in: \n",
    "        tiles(\"ATLAS\", \"BAABA\") shouldBe List('B' -> Some(???), 'A' -> Some(???), 'A' -> Some(???), 'B' -> Some(???), 'A' -> Some(???))\n",
    "\n",
    "    \"tiles\" should \"take into account that letters with green tiles decrease the number of effective occurrences of that letter\" in:\n",
    "        tiles(\"ATLAS\", \"BAAAA\") shouldBe List('B' -> Some(???), 'A' -> Some(???), 'A' -> Some(???), 'A' -> Some(???), 'A' -> Some(???))\n"
   ]
  },
  {
   "cell_type": "markdown",
   "id": "f66f9183-df15-41e3-989f-0847d7d0fc89",
   "metadata": {},
   "source": [
    "##### The tile assignment algorithm"
   ]
  },
  {
   "cell_type": "markdown",
   "id": "04fbde7a-c3ef-4d90-aba9-9f6acf92de9d",
   "metadata": {},
   "source": [
    "The tile assignment algorithm will use as an auxiliary data structure the _bag_ of letters corresponding to the correct word. A bag is simply a set with possibly repeated occurrences of elements. For instance, the bag associated to the word \"ATLAS\" is `{A, A, T, L, S}`. Note that the letter `A` appears twice. \n",
    "\n",
    "Tile assignment will be performed in two major steps: \n",
    "* In the first one, we will assign green tiles to those letters in the right position. This step will also update the initial bag of letters by removing one occurrence for each green letter found. \n",
    "* In the second one, we will assign gray and yellow tiles. Yellow tiles will be assigned to those letters that do appear in the bag; each time a yellow tile is assigned for some letter, we will remove an occurrence of this letter from the current bag. Gray tiles will be assigned to those letters that are not contained in the bag.\n",
    "\n",
    "For instance, given the correct word \"ATLAS\" the tile assignment of the guess \"BAAAA\" will be performed as follows: \n",
    "\n",
    "* Step 1.  Green tile assignment.\n",
    "\n",
    "    * {A, A, T, L, S}, B -> ?\n",
    "    * {A, A, T, L, S}, A -> ?\n",
    "    * {A, A, T, L, S}, A -> ?\n",
    "    * {A, A, T, L, S}, A -> Green\n",
    "    * {A, T, L, S}, A -> ?\n",
    "    \n",
    "Preliminary assignment: B -> ?, A -> ?, A -> ?, A -> Green, A -> ?\n",
    "\n",
    "* Step 2. Yellow and gray assignments.\n",
    "\n",
    "    * {A, T, L, S}, B -> Gray\n",
    "    * {A, T, L, S}, A -> Yellow\n",
    "    * {T, L, S}, A -> Gray\n",
    "    * {T, L, S}, A -> Green\n",
    "    * {T, L, S}, A -> Gray\n",
    "    \n",
    "Definitive assignment: B -> Gray, A -> Yellow, A -> Gray, A -> Green, A -> Gray\n"
   ]
  },
  {
   "cell_type": "markdown",
   "id": "e106d27f-254d-41c0-8546-3e89bdcf94b2",
   "metadata": {},
   "source": [
    "##### Implementing bags"
   ]
  },
  {
   "cell_type": "markdown",
   "id": "6707af54-f79b-4635-b5cf-5e90ff515a7a",
   "metadata": {},
   "source": [
    "The bag data structure is not included in the Scala collection library, but we can defined it easily in terms of a mapping from letters to an integer representing its multiplicity: "
   ]
  },
  {
   "cell_type": "code",
   "execution_count": null,
   "id": "bec80e8d-abc6-4d75-b2b2-f00a0a89e83a",
   "metadata": {},
   "outputs": [],
   "source": [
    "type Bag[T] = Map[T, Int]\n",
    "\n",
    "object Bag: \n",
    "\n",
    "    // Empty constructor\n",
    "    def apply[T](): Bag[T] = \n",
    "        Map()\n",
    "\n",
    "    // String constructor\n",
    "    def from[T](s: String): Bag[Char] = \n",
    "        ???\n",
    "\n",
    "    // Remove occurrences\n",
    "    extension [T](b: Bag[T])\n",
    "        def rm(t: T): Bag[T] = \n",
    "            ???\n",
    "\n",
    "import Bag._"
   ]
  },
  {
   "cell_type": "markdown",
   "id": "13d5896e-a2fd-47b6-8c3b-2bb5c4bad0a4",
   "metadata": {},
   "source": [
    "Besides being able to create a bag from a given string, we will also need an operation that allow us to remove an occurrence from the bag. We called this operation `rm`. For instance: "
   ]
  },
  {
   "cell_type": "code",
   "execution_count": null,
   "id": "06e269a2-1b01-4bc3-a97c-f3b66f325cd5",
   "metadata": {},
   "outputs": [],
   "source": [
    "val b1: Bag[Char] = Bag.from(\"ATLAS\")\n",
    "val b2: Bag[Char] = b1 rm 'A'\n",
    "val b3: Bag[Char] = b2 rm 'A'\n",
    "val b4: Bag[Char] = b3 rm 'A'"
   ]
  },
  {
   "cell_type": "markdown",
   "id": "6760c295-af18-4a91-91ac-9fe9e7461fe4",
   "metadata": {},
   "source": [
    "##### Imperative implementation"
   ]
  },
  {
   "cell_type": "markdown",
   "id": "0722f5ef-9fd4-48cc-9204-396a158eb2fd",
   "metadata": {},
   "source": [
    "The imperative implementation is straightforward: it basically follows an iterative process whereby we incrementally update an initially empty tile assignment in two major phases, using as an auxiliary data structure the bag of letters."
   ]
  },
  {
   "cell_type": "code",
   "execution_count": null,
   "id": "369a16fe-c57c-4e29-8998-3c72e064485b",
   "metadata": {},
   "outputs": [],
   "source": [
    "def tiles(correct: String, guess: String): Assignment =\n",
    "    var assignment: Assignment = List()\n",
    "    var bag: Bag[Char] = Bag.from(correct)\n",
    "\n",
    "    // Step 1\n",
    "    for (i <- 0 to guess.length-1)\n",
    "        if guess(i) == correct(i) then \n",
    "            assignment = (guess(i) -> Some(Green)) :: assignment\n",
    "            bag = bag rm guess(i)\n",
    "        else \n",
    "            assignment = (guess(i) -> None) :: assignment\n",
    "\n",
    "    // Step 2\n",
    "    var out: Assignment = List()\n",
    "    for (a <- assignment.reverse)\n",
    "        a match \n",
    "            case c -> None => \n",
    "                if bag.contains(c) then \n",
    "                    out = (c -> Some(Yellow)) :: out\n",
    "                    bag = bag rm c\n",
    "                else \n",
    "                    out = (c -> Some(Gray)) :: out\n",
    "            case v => out = v :: out\n",
    "                          \n",
    "    out.reverse"
   ]
  },
  {
   "cell_type": "code",
   "execution_count": null,
   "id": "0b3bc75e-9798-4b64-9a12-abfb7934f93c",
   "metadata": {},
   "outputs": [],
   "source": [
    "run(TileTest(tiles))"
   ]
  },
  {
   "cell_type": "markdown",
   "id": "39444cac-c265-4a78-83e6-696a9c358703",
   "metadata": {},
   "source": [
    "##### FoldLeft implementation"
   ]
  },
  {
   "cell_type": "markdown",
   "id": "aa13b984-8153-4e5b-b974-ebae8cb859fb",
   "metadata": {},
   "source": [
    "The `foldLeft` solution implements the very same iterative algoritm of the imperative one. The only difference is that for-loops and auxiliary mutable variables are hidden or encapsulated by the `foldLeft` function:"
   ]
  },
  {
   "cell_type": "code",
   "execution_count": null,
   "id": "cf404192-4434-4ee7-a96a-dc91d09d1c6e",
   "metadata": {},
   "outputs": [],
   "source": [
    "def tiles(correct: String, guess: String): Assignment =\n",
    "    ???"
   ]
  },
  {
   "cell_type": "code",
   "execution_count": null,
   "id": "f69dd126-635d-4da3-838a-98ed032a2834",
   "metadata": {},
   "outputs": [],
   "source": [
    "run(TileTest(tiles))"
   ]
  },
  {
   "cell_type": "markdown",
   "id": "ded01e6a-2e40-4bd6-bbb2-9033b4912789",
   "metadata": {},
   "source": [
    "##### With state-transformations"
   ]
  },
  {
   "cell_type": "markdown",
   "id": "26ab6e2c-757b-4f4e-905c-e14554d5eb68",
   "metadata": {},
   "source": [
    "The `foldLeft` implementation was a little more concise, but it can hardly be regarded as a definitive improvement over the imperative solution. Essentially, this is because they both implement the same iterative algoritm. In order to move further in the ladder of abstraction, and come up with a more declarative solution, we may attempt to use the `map` HOF: in step 1, this is actually what we need. Indeed, the goal of this step is to map each letter in the right position of the guess word into a green assignment. We can achieve this by zipping the correct and the guess words: "
   ]
  },
  {
   "cell_type": "code",
   "execution_count": null,
   "id": "2e75d4a2-43b0-4d4b-90f2-0cae0a9f5ef6",
   "metadata": {},
   "outputs": [],
   "source": [
    "def step1(correct: String, guess: String): Assignment =\n",
    "    ???"
   ]
  },
  {
   "cell_type": "code",
   "execution_count": null,
   "id": "8d9f8c3f-81b2-492a-a18a-49e87bd31811",
   "metadata": {},
   "outputs": [],
   "source": [
    "step1(\"ATLAS\", \"AAAAA\")"
   ]
  },
  {
   "cell_type": "markdown",
   "id": "7f7a4e71-b208-41de-bf9c-b585cee9c5ef",
   "metadata": {},
   "source": [
    "We still need to remove the letters with green occurrences from the bag, but this could be done easily in a new intermediate step. However, the second step is more complicated: there, we need to traverse the preliminary assignment from left to right, and update the bag each time we perform a yellow assignment. This update has to be done while we are traversing the assignment; it can't be done in a subsequent step."
   ]
  },
  {
   "cell_type": "markdown",
   "id": "38e551b2-5b79-433e-900b-7a52f06d16f9",
   "metadata": {},
   "source": [
    "Still, we can conceptualize the algorithm in terms of the `map` HOF with the help of so-called _state-transformations_ (or actions). Specifically, we can map each preliminary assignment to a bag transformation, which are later on combined sequentially. This is the essence of the `traverse` higher-order function: first, map the structure into some computation (a state-transformation in our case), and then fuse these computations sequentially.  "
   ]
  },
  {
   "cell_type": "markdown",
   "id": "5336cd5a-1d88-49f0-b700-98438198af5c",
   "metadata": {},
   "source": [
    "Now, state-transformations, traversals, etc., are out of the scope of this first course on functional programming. We implement these abstractions below and use them in the implementation of the tile assignment function, only to show that a more declarative implementation of this function is indeed possible. "
   ]
  },
  {
   "cell_type": "code",
   "execution_count": null,
   "id": "05d919d3-8a0e-4539-8247-e19a10beb30e",
   "metadata": {},
   "outputs": [],
   "source": [
    "type Action[T] = Bag[Char] => (Bag[Char], T)\n",
    "\n",
    "object Action: \n",
    "\n",
    "    def returns[T](t: T): Action[T] = \n",
    "        b => \n",
    "            //println(s\"$b, $t\")\n",
    "            (b, t)\n",
    "\n",
    "    def remove(c: Char): Action[Unit] = \n",
    "        b => \n",
    "            //println(s\"${b rm c}, ()\")\n",
    "            (b rm c, ())\n",
    "\n",
    "    def inspect[T](f: Bag[Char] => T): Action[T] = \n",
    "        b => (b, f(b))\n",
    "\n",
    "    def ifThenElse[T](predicate: Bag[Char] => Boolean)(_then: Action[T], _else: Action[T]): Action[T] = \n",
    "        inspect(predicate) flatMap:\n",
    "            if _ then _then \n",
    "            else _else\n",
    "\n",
    "    extension [T](act: Action[T])\n",
    "        def runAction(b: Bag[Char]): T = \n",
    "            act(b)._2\n",
    "\n",
    "        def flatMap[T2](act2: T => Action[T2]): Action[T2] = \n",
    "            b => act(b) match \n",
    "                case (b1, t) => act2(t)(b1)\n",
    "\n",
    "        def and[T2](act2: Action[T2]): Action[T2] = \n",
    "            act flatMap (_ => act2)\n",
    "\n",
    "        def map2[T1, T2](act2: Action[T1])(f: (T, T1) => T2): Action[T2] = \n",
    "            act flatMap: t => \n",
    "                act2 flatMap: t1 => \n",
    "                    returns(f(t, t1))\n",
    "\n",
    "    extension [T](acts: List[Action[T]])\n",
    "        def sequence: Action[List[T]] = \n",
    "            acts match \n",
    "                case Nil => returns(List[T]())\n",
    "                case act :: tail => \n",
    "                    act.map2(tail.sequence)(_ :: _)\n",
    "    \n",
    "    extension [T](l: List[T])\n",
    "        def traverse[T1](f: T => Action[T1]): Action[List[T1]] = \n",
    "            l.map(f).sequence"
   ]
  },
  {
   "cell_type": "code",
   "execution_count": null,
   "id": "62bc3c62-17fd-4312-be1d-87207d1a5d2f",
   "metadata": {},
   "outputs": [],
   "source": [
    "def tiles(correct: String, guess: String): Assignment =\n",
    "    import Action._ \n",
    "\n",
    "    ???"
   ]
  },
  {
   "cell_type": "code",
   "execution_count": null,
   "id": "2a2e3a2d-308d-4fdc-aee9-fb380d009b44",
   "metadata": {},
   "outputs": [],
   "source": [
    "run(TileTest(tiles))"
   ]
  },
  {
   "cell_type": "markdown",
   "id": "8cf5f442-e5f8-402f-a1a8-0173acec041b",
   "metadata": {},
   "source": [
    "Although this implementation essentially performs the same steps as the iterative algorithm illustrated previously through the imperative and `foldLeft`-based implementations, it is of a more declarative nature. Note that we don't have to deal with the construction of the list of assignments, for instance. Also, the implementation can be explained in terms of higher-level conceptual blocks as follows: \n",
    "* First, zip together the correct and guess words to obtain a list of potentially matching characters.\n",
    "* Second, assign a green tile for each matching letter and remove an occurrence from the bag; for non-matching letters, simply return a temporary void assignment.\n",
    "* Third, update the preliminary assignments as follows: if the letter was not actually assigned any tile and it's contained in the bag, then assign a yellow tile for it and remove an occurrence of that letter from the bag; otherwise, return a gray assignment; if the letter was assigned a green tile, keep that assignment.\n",
    "\n",
    "The following image illustrates the conceptual structure of the implementation:"
   ]
  },
  {
   "attachments": {
    "e981ea0a-91a8-4d70-bff6-b511fcabf6fd.png": {
     "image/png": "[encoded data removed]"
    }
   },
   "cell_type": "markdown",
   "id": "f4c94339-a810-482e-992c-ed8ea9bba6a5",
   "metadata": {},
   "source": [
    "![image.png](attachment:e981ea0a-91a8-4d70-bff6-b511fcabf6fd.png)"
   ]
  },
  {
   "cell_type": "markdown",
   "id": "2daa2646-2ebe-4280-95ca-18154cafe1d9",
   "metadata": {},
   "source": [
    "##### Cats implementation"
   ]
  },
  {
   "cell_type": "markdown",
   "id": "20823e0c-335f-45a3-b0e9-42c931ef65cf",
   "metadata": {},
   "source": [
    "After reviewing the last implementation, you may think that achieving declarative implementations is an ardous task: we don't only need to understand higher-level abstractions like state-transformations, traversals, etc., but also to implement these abstractions ourselves. Well, while we can't avoid the understanding part, we can certainly be dispensed with the implementation one, since these abstractions are already implemented by functional libraries like [cats](https://github.com/typelevel/cats). You can find below the implementation of the tile assignment function using this library."
   ]
  },
  {
   "cell_type": "code",
   "execution_count": null,
   "id": "7dbcdf3a-4d5c-4ea8-8f11-300ae8834a57",
   "metadata": {},
   "outputs": [],
   "source": [
    "import $ivy.`org.typelevel::cats-core:2.10.0`"
   ]
  },
  {
   "cell_type": "code",
   "execution_count": null,
   "id": "69ea2786-8c16-4ef9-87a6-4f13530f8904",
   "metadata": {},
   "outputs": [],
   "source": [
    "import cats.syntax.all._, cats.data.State, State._"
   ]
  },
  {
   "cell_type": "code",
   "execution_count": null,
   "id": "3ae9fcb4-5b9d-4731-875b-b5113c91a4c3",
   "metadata": {},
   "outputs": [],
   "source": [
    "def tiles(correct: String, guess: String): Assignment =\n",
    "\n",
    "    def remove(c: Char): State[Bag[Char], Unit] = \n",
    "        modify[Bag[Char]](_ rm c)\n",
    "\n",
    "    (correct zip guess).toList\n",
    "        .traverse:\n",
    "            case (c1, c2) if c1 == c2 => \n",
    "                remove(c1).as(c1 -> Option(Green))\n",
    "            case (_, c) => \n",
    "                pure(c -> None)\n",
    "        .flatMap:\n",
    "            _.traverse: \n",
    "                case (c, None) => \n",
    "                    inspect((b: Bag[Char]) => !b.contains(c)).flatMap: \n",
    "                        if _ then pure(c -> Some(Gray))\n",
    "                        else remove(c).as(c -> Some(Yellow))\n",
    "                case v => pure(v)\n",
    "        .runA(Bag.from(correct))\n",
    "        .value"
   ]
  },
  {
   "cell_type": "code",
   "execution_count": null,
   "id": "7295bf80-7cda-41b6-9d4c-5791f51c1e24",
   "metadata": {},
   "outputs": [],
   "source": [
    "run(TileTest(tiles))"
   ]
  },
  {
   "cell_type": "markdown",
   "id": "d5000a61-0d79-4b97-a9bc-de100a67bf00",
   "metadata": {},
   "source": [
    "### The dynamics of the game"
   ]
  },
  {
   "cell_type": "markdown",
   "id": "e89f2e0a-2c46-42cb-9dbb-37d5a9cd1c40",
   "metadata": {},
   "source": [
    "In this section we deal with the creation and the evolution of the game state described previously. Conceptually, the following operations related to the game state can be identified: \n",
    "* Creating the initial game state. We have to provide a dictionary and the correct word to be guessed. \n",
    "* Providing a new guess. The player may attempt to guess the correct word, but if the game was already over or the word is not in the dictionary, an error should be returned; otherwise, a new game state will be returned together with the tile assignment of the input guess. "
   ]
  },
  {
   "cell_type": "code",
   "execution_count": null,
   "id": "23717b51-ff0f-4ca9-8be2-663c062b15ad",
   "metadata": {},
   "outputs": [],
   "source": [
    "// start game\n",
    "\n",
    "// Attempt Error type\n",
    "\n",
    "// attempt \n",
    "\n"
   ]
  },
  {
   "cell_type": "markdown",
   "id": "229c4c93-bebc-4671-bd37-75a28aeaac57",
   "metadata": {},
   "source": [
    "We can then simulate the game as follows: "
   ]
  },
  {
   "cell_type": "code",
   "execution_count": null,
   "id": "87ec2553-6930-48b2-83f9-9b5ce14e4ca2",
   "metadata": {},
   "outputs": [],
   "source": [
    "val game0: Wordle = start(\"SLICE\", List(\"CRANE\", \"PIOUS\", \"SLICE\"))\n",
    "val Right(game1, assignment1) = attempt(\"CRANE\")(game0): @unchecked\n",
    "assignment1\n",
    "val Right(game2, assignment2) = attempt(\"PIOUS\")(game1): @unchecked\n",
    "assignment2\n",
    "val Right(game3, assignment3) = attempt(\"SLICE\")(game2): @unchecked\n",
    "assignment3"
   ]
  },
  {
   "cell_type": "markdown",
   "id": "f3217444-3962-4176-901c-42554d9482f3",
   "metadata": {},
   "source": [
    "### User interface"
   ]
  },
  {
   "cell_type": "markdown",
   "id": "e79ceb95-d579-4330-8f3f-cc335787977c",
   "metadata": {},
   "source": [
    "The user interface module deals with the interaction between the player and the machine. In order to test the user interface we recommend executing the accompanying sbt project. In order to do so, you will first have to install the [`sbt` build tool](https://www.scala-sbt.org/), and then simply execute `sbt run` from the command line. Alternatively, you can also run the application through [VS Code or Intellij](https://docs.scala-lang.org/getting-started/index.html#open-hello-world-project). "
   ]
  },
  {
   "cell_type": "markdown",
   "id": "e85d3d66-5dbc-4d8d-8879-6712d37e37eb",
   "metadata": {},
   "source": [
    "##### The dictionary"
   ]
  },
  {
   "cell_type": "markdown",
   "id": "a447f2e0-30d3-4ea5-bc25-a060a3fd15e9",
   "metadata": {},
   "source": [
    "Before explaining the user interface itself, we have to add some functionality related to the dictionary. Namely, how to create the dictionary and how to extract a sample word randomly."
   ]
  },
  {
   "cell_type": "code",
   "execution_count": null,
   "id": "a53866d7-20f7-4735-aa84-f97e32160d70",
   "metadata": {},
   "outputs": [],
   "source": [
    "import scala.util.Try\n",
    "\n",
    "object Dictionary:\n",
    "    def apply(file: String): Try[Dictionary] = \n",
    "        Try(scala.io.Source.fromResource(file).getLines.toList)\n",
    "\n",
    "    extension (dict: Dictionary)\n",
    "        def sample: String = \n",
    "            dict(scala.util.Random.nextInt(dict.size))\n",
    "\n",
    "import Dictionary._"
   ]
  },
  {
   "cell_type": "markdown",
   "id": "18a04dd0-5aaa-4230-8098-1f659471f0dc",
   "metadata": {},
   "source": [
    "As you can see, we read the dictionary from a file located in the classpath of the project. Since the file name could be wrong we capture the potential `FileNotFound` exception with the [`Try`](https://www.scala-lang.org/api/current/scala/util/Try.html) utility (basically, `Try[T]` is isomorphic to `Either[Throwable, T]`)."
   ]
  },
  {
   "cell_type": "markdown",
   "id": "79c79d4f-42a9-49ae-a661-948bb176a16e",
   "metadata": {},
   "source": [
    "In order to extract a sample word randomly, we use the `scala.util.Random` object. "
   ]
  },
  {
   "cell_type": "markdown",
   "id": "144c3c67-5e8f-41c3-87a0-1b1623f2ae0c",
   "metadata": {},
   "source": [
    "##### The user interface"
   ]
  },
  {
   "cell_type": "markdown",
   "id": "68d4880e-4538-466a-b4f4-4b2af89e88c2",
   "metadata": {},
   "source": [
    "The user interface is implemented by two tail-recursive functions, which make use of an auxiliary function to map the assignment into an ANSI-coloured string. "
   ]
  },
  {
   "cell_type": "code",
   "execution_count": null,
   "id": "2a5b66fe-4652-44eb-8b8e-b19e851b0cf4",
   "metadata": {},
   "outputs": [],
   "source": [
    "def play(dict: Dictionary): Unit = \n",
    "    println(\"Guess the word in six tries!\")\n",
    "    play(start(dict.sample, dict), 1)\n",
    "    scala.io.StdIn.readLine(\"Would you like to play again? (y/n) \") match\n",
    "        case \"y\" => play(dict)\n",
    "        case _ => println(\"Goodbye!\")\n",
    "\n",
    "def play(w: Wordle, attemptNo: Int): Unit = \n",
    "    if win(w) then \n",
    "        println(\"You win!\")\n",
    "    else if lose(w) then \n",
    "        println(\"You lose! The correct word was: \"+ w.correct)\n",
    "    else \n",
    "        val guess = scala.io.StdIn.readLine(s\"GUESS $attemptNo: \")\n",
    "        attempt(guess)(w) match\n",
    "            case Left(AttemptError.WrongWord) => \n",
    "                println(\"Not in my dictionary! Try again, please.\")\n",
    "                play(w, attemptNo)\n",
    "            case Left(AttemptError.IsOver) =>\n",
    "                println(\"Game is already over!\")\n",
    "            case Right(w, assignment) =>\n",
    "                println(ansi(assignment))\n",
    "                play(w, attemptNo + 1)\n",
    "\n",
    "import Console.{GREEN_B, MAGENTA_B, RESET, YELLOW_B}\n",
    "\n",
    "def ansi(assignment: Assignment): String = \n",
    "    ???"
   ]
  },
  {
   "cell_type": "markdown",
   "id": "f60a8a72-095c-4c34-a78c-d5ecb7fb4216",
   "metadata": {},
   "source": [
    "##### The main function"
   ]
  },
  {
   "cell_type": "markdown",
   "id": "9bb45cf5-64f1-4ca1-9460-ea4649d0da8e",
   "metadata": {},
   "source": [
    "The main function simply creates the dictionary and launch the main function of the user interface. "
   ]
  },
  {
   "cell_type": "code",
   "execution_count": null,
   "id": "1232b5f6-62ec-4121-baf1-aa29c103d335",
   "metadata": {},
   "outputs": [],
   "source": [
    "import scala.util.{Success, Failure}\n",
    "\n",
    "def main(): Unit =\n",
    "  Dictionary(\"word.txt\") match \n",
    "    case Failure(error) => println(error)\n",
    "    case Success(dict) => play(dict) "
   ]
  }
 ],
 "metadata": {
  "kernelspec": {
   "display_name": "Scala 3.3",
   "language": "scala",
   "name": "scala33"
  },
  "language_info": {
   "codemirror_mode": "text/x-scala",
   "file_extension": ".sc",
   "mimetype": "text/x-scala",
   "name": "scala",
   "nbconvert_exporter": "script",
   "version": "2.13.12"
  }
 },
 "nbformat": 4,
 "nbformat_minor": 5
}
