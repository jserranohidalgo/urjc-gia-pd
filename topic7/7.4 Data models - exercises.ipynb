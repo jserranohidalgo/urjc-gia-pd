{
 "cells": [
  {
   "cell_type": "markdown",
   "metadata": {
    "tags": []
   },
   "source": [
    "### Preamble"
   ]
  },
  {
   "cell_type": "code",
   "execution_count": 1,
   "metadata": {},
   "outputs": [
    {
     "data": {
      "text/plain": [
       "\u001b[32mimport \u001b[39m\u001b[36m$ivy.$                                \n",
       "\u001b[39m\n",
       "\u001b[32mimport \u001b[39m\u001b[36morg.scalatest.{Filter => _, _}, flatspec._, matchers._\n",
       "\u001b[39m"
      ]
     },
     "execution_count": 1,
     "metadata": {},
     "output_type": "execute_result"
    }
   ],
   "source": [
    "import $ivy.`org.scalatest::scalatest:3.2.16`\n",
    "import org.scalatest.{Filter => _, _}, flatspec._, matchers._"
   ]
  },
  {
   "cell_type": "markdown",
   "metadata": {},
   "source": [
    "# Topic 7. Applications"
   ]
  },
  {
   "cell_type": "markdown",
   "metadata": {},
   "source": [
    "This problem set contains different exercises on the standard HOFs and operations of the Scala collection framework. The goal is to write queries over a data model implemented using case classes, `Map`s and `List`s, etc., in a declarative and functional style. "
   ]
  },
  {
   "cell_type": "markdown",
   "metadata": {},
   "source": [
    "# Movie database"
   ]
  },
  {
   "cell_type": "markdown",
   "metadata": {},
   "source": [
    "We will use a small data model that declares information about films, directors, actors, etc., and the ratings of these films by registered users.   "
   ]
  },
  {
   "cell_type": "code",
   "execution_count": 2,
   "metadata": {},
   "outputs": [
    {
     "data": {
      "text/plain": [
       "defined \u001b[32mclass\u001b[39m \u001b[36mMovieDatabase\u001b[39m\n",
       "defined \u001b[32mclass\u001b[39m \u001b[36mFilm\u001b[39m\n",
       "defined \u001b[32mobject\u001b[39m \u001b[36mFilm\u001b[39m\n",
       "defined \u001b[32mclass\u001b[39m \u001b[36mUser\u001b[39m\n",
       "defined \u001b[32mobject\u001b[39m \u001b[36mUser\u001b[39m\n",
       "defined \u001b[32mclass\u001b[39m \u001b[36mRating\u001b[39m"
      ]
     },
     "execution_count": 2,
     "metadata": {},
     "output_type": "execute_result"
    }
   ],
   "source": [
    "case class MovieDatabase(\n",
    "    films: Map[Film.Id, Film],\n",
    "    users: Map[User.Id, User],\n",
    "    ratings: Map[(Film.Id, User.Id), Rating])\n",
    "    \n",
    "case class Film(\n",
    "    id: Film.Id, \n",
    "    title: String, \n",
    "    director: String,\n",
    "    genre: String,\n",
    "    year: Int,\n",
    "    country: String)\n",
    "\n",
    "object Film:\n",
    "    type Id = Int\n",
    "\n",
    "case class User(\n",
    "    id: User.Id,\n",
    "    name: String,\n",
    "    registered: Int)\n",
    "        \n",
    "object User:\n",
    "    type Id = Int\n",
    "        \n",
    "case class Rating(\n",
    "    film: Film.Id,\n",
    "    user: User.Id,\n",
    "    score: Int)"
   ]
  },
  {
   "cell_type": "markdown",
   "metadata": {},
   "source": [
    "The following instance of the movie database will be used in the test catalogues for the different queries below."
   ]
  },
  {
   "cell_type": "code",
   "execution_count": 3,
   "metadata": {},
   "outputs": [
    {
     "data": {
      "text/plain": [
       "\u001b[36mmoviedb\u001b[39m: \u001b[32mMovieDatabase\u001b[39m = \u001b[33mMovieDatabase\u001b[39m(\n",
       "  films = \u001b[33mHashMap\u001b[39m(\n",
       "    \u001b[32m5\u001b[39m -> \u001b[33mFilm\u001b[39m(\n",
       "      id = \u001b[32m5\u001b[39m,\n",
       "      title = \u001b[32m\"2001: A Space Odyssey\"\u001b[39m,\n",
       "      director = \u001b[32m\"Stanley Kubrick\"\u001b[39m,\n",
       "      genre = \u001b[32m\"Sci-Fi\"\u001b[39m,\n",
       "      year = \u001b[32m1968\u001b[39m,\n",
       "      country = \u001b[32m\"United Kingdom\"\u001b[39m\n",
       "    ),\n",
       "    \u001b[32m10\u001b[39m -> \u001b[33mFilm\u001b[39m(\n",
       "      id = \u001b[32m10\u001b[39m,\n",
       "      title = \u001b[32m\"Batman v. Superman: Dawn of Justice\"\u001b[39m,\n",
       "      director = \u001b[32m\"Zack Snyder\"\u001b[39m,\n",
       "      genre = \u001b[32m\"Sci-Fi\"\u001b[39m,\n",
       "      year = \u001b[32m2016\u001b[39m,\n",
       "      country = \u001b[32m\"United States\"\u001b[39m\n",
       "    ),\n",
       "    \u001b[32m1\u001b[39m -> \u001b[33mFilm\u001b[39m(\n",
       "      id = \u001b[32m1\u001b[39m,\n",
       "      title = \u001b[32m\"Blade Runner\"\u001b[39m,\n",
       "      director = \u001b[32m\"Ridley Scott\"\u001b[39m,\n",
       "      genre = \u001b[32m\"Sci-Fi\"\u001b[39m,\n",
       "      year = \u001b[32m1982\u001b[39m,\n",
       "      country = \u001b[32m\"United States\"\u001b[39m\n",
       "    ),\n",
       "    \u001b[32m6\u001b[39m -> \u001b[33mFilm\u001b[39m(\n",
       "      id = \u001b[32m6\u001b[39m,\n",
       "      title = \u001b[32m\"El crack Cero\"\u001b[39m,\n",
       "      director = \u001b[32m\"José Luis Garci\"\u001b[39m,\n",
       "      genre = \u001b[32m\"Film noir\"\u001b[39m,\n",
       "      year = \u001b[32m2019\u001b[39m,\n",
       "      country = \u001b[32m\"Spain\"\u001b[39m\n",
       "    ),\n",
       "    \u001b[32m9\u001b[39m -> \u001b[33mFilm\u001b[39m(\n",
       "      id = \u001b[32m9\u001b[39m,\n",
       "      title = \u001b[32m\"Chinatown\"\u001b[39m,\n",
       "      director = \u001b[32m\"Roman Polanski\"\u001b[39m,\n",
       "      genre = \u001b[32m\"Film noir\"\u001b[39m,\n",
       "..."
      ]
     },
     "execution_count": 3,
     "metadata": {},
     "output_type": "execute_result"
    }
   ],
   "source": [
    "val moviedb: MovieDatabase = MovieDatabase(\n",
    "    films = Map(\n",
    "        1 -> Film(1, \"Blade Runner\", \"Ridley Scott\", \"Sci-Fi\", 1982, \"United States\"),\n",
    "        2 -> Film(2, \"Amanece, que no es poco\", \"José Luis Cuerda\", \"Comedy\", 1989, \"Spain\"),\n",
    "        3 -> Film(3, \"El milagro de P. Tinto\", \"Javier Fesser\", \"Comedy\", 1998, \"Spain\"),\n",
    "        4 -> Film(4, \"Mars Attacks!\", \"Tim Burton\", \"Sci-Fi\", 1996, \"United States\"),\n",
    "        5 -> Film(5, \"2001: A Space Odyssey\", \"Stanley Kubrick\", \"Sci-Fi\", 1968, \"United Kingdom\"),\n",
    "        6 -> Film(6, \"El crack Cero\", \"José Luis Garci\", \"Film noir\", 2019, \"Spain\"),\n",
    "        7 -> Film(7, \"El crack\", \"José Luis Garci\", \"Film noir\", 1981, \"Spain\"),\n",
    "        8 -> Film(8, \"The Maltese Falcon\", \"John Huston\", \"Film noir\", 1941, \"United States\"),\n",
    "        9 -> Film(9, \"Chinatown\", \"Roman Polanski\", \"Film noir\", 1974, \"United States\"),\n",
    "        10 -> Film(10, \"Batman v. Superman: Dawn of Justice\", \"Zack Snyder\", \"Sci-Fi\", 2016, \"United States\"),\n",
    "        11 -> Film(11, \"Dumb and Dumber\", \"Peter Farrelly\", \"Comedy\", 1994, \"United States\")\n",
    "    ),\n",
    "    users = Map(\n",
    "        1 -> User(1, \"Juan\", 1500),\n",
    "        2 -> User(2, \"Alf\", 1555),\n",
    "        3 -> User(3, \"Lola\", 1644),\n",
    "        4 -> User(4, \"Lola\", 1655),\n",
    "        5 -> User(5, \"Dinu\", 1622)),\n",
    "    ratings = Map(\n",
    "        (1,1) -> Rating(1,1,5),\n",
    "        (1,2) -> Rating(1,2,1),\n",
    "        (1,3) -> Rating(1,3,4),\n",
    "        (1,4) -> Rating(1,4,3),\n",
    "        (2,1) -> Rating(2,1,1),\n",
    "        (2,4) -> Rating(2,4,1),\n",
    "        (4,1) -> Rating(4,1,3),\n",
    "        (5,4) -> Rating(5,4,2),\n",
    "        (6,1) -> Rating(6,1,3),\n",
    "        (6,2) -> Rating(6,2,3),\n",
    "        (6,3) -> Rating(6,3,3),\n",
    "        (7,1) -> Rating(7,1,2),\n",
    "        (8,2) -> Rating(8,2,2),\n",
    "        (9,1) -> Rating(9,1,1),\n",
    "        (10,1) -> Rating(10,1,0),\n",
    "        (10,3) -> Rating(10,3,0),\n",
    "        (11,1) -> Rating(11,1,0),\n",
    "        (11,2) -> Rating(11,2,1),\n",
    "        (11,4) -> Rating(11,4,2)))"
   ]
  },
  {
   "cell_type": "markdown",
   "metadata": {},
   "source": [
    "# Problem 1"
   ]
  },
  {
   "cell_type": "markdown",
   "metadata": {},
   "source": [
    "Write the followig basic queries for the movie database."
   ]
  },
  {
   "cell_type": "markdown",
   "metadata": {
    "tags": []
   },
   "source": [
    "###### Solution"
   ]
  },
  {
   "cell_type": "code",
   "execution_count": null,
   "metadata": {},
   "outputs": [],
   "source": [
    "object BasicQueries{\n",
    "    \n",
    "    // Entities\n",
    "    \n",
    "    def films(mdb: MovieDatabase): List[Film] =\n",
    "        mdb.films.values.toList\n",
    "    \n",
    "    def filmIds(mdb: MovieDatabase): List[Film.Id] =\n",
    "        mdb.films.keys.toList\n",
    "\n",
    "    def getFilm(id: Film.Id)(mdb: MovieDatabase): List[Film] = \n",
    "        mdb.films.get(id).toList\n",
    "    \n",
    "    def userIds(mdb: MovieDatabase): List[User.Id] = \n",
    "        mdb.users.keys.toList\n",
    "    \n",
    "    def getUser(id: User.Id)(mdb: MovieDatabase): List[User] = \n",
    "        mdb.users.get(id).toList\n",
    "    \n",
    "    // 1-N relationships\n",
    "    \n",
    "    def films(dir: String)(mdb: MovieDatabase): List[Film.Id] = \n",
    "        mdb.films.filter(_._2.director == dir).map(_._1).toList\n",
    "    \n",
    "    // N-M relationships\n",
    "    \n",
    "    def ratings(mdb: MovieDatabase): List[Rating] = \n",
    "        mdb.ratings.values.toList\n",
    "    \n",
    "    def userRatings(user: User.Id)(mdb: MovieDatabase): List[Rating] = \n",
    "        mdb.ratings.filter(_._1._2 == user).values.toList\n",
    "    \n",
    "    def filmRatings(film: Film.Id)(mdb: MovieDatabase): List[Rating] = \n",
    "        mdb.ratings.filter(_._1._1 == film).values.toList\n",
    "}\n",
    "\n",
    "import BasicQueries._"
   ]
  },
  {
   "cell_type": "markdown",
   "metadata": {
    "tags": []
   },
   "source": [
    "###### Your solution"
   ]
  },
  {
   "cell_type": "code",
   "execution_count": 13,
   "metadata": {},
   "outputs": [
    {
     "data": {
      "text/plain": [
       "defined \u001b[32mobject\u001b[39m \u001b[36mBasicQueries\u001b[39m\n",
       "\u001b[32mimport \u001b[39m\u001b[36mBasicQueries._\n",
       "\u001b[39m"
      ]
     },
     "execution_count": 13,
     "metadata": {},
     "output_type": "execute_result"
    }
   ],
   "source": [
    "object BasicQueries{\n",
    "    \n",
    "    // Entities\n",
    "    \n",
    "    def films(mdb: MovieDatabase): List[Film] =\n",
    "        mdb.films.values.toList\n",
    "    \n",
    "    def filmIds(mdb: MovieDatabase): List[Film.Id] =\n",
    "        ???\n",
    "\n",
    "    def getFilm(id: Film.Id)(mdb: MovieDatabase): List[Film] = \n",
    "        mdb.films.get(id).toList\n",
    "    \n",
    "    def userIds(mdb: MovieDatabase): List[User.Id] = \n",
    "        ???\n",
    "    \n",
    "    def getUser(id: User.Id)(mdb: MovieDatabase): List[User] = \n",
    "        ???\n",
    "    \n",
    "    // 1-N relationships\n",
    "    \n",
    "    def films(dir: String)(mdb: MovieDatabase): List[Film.Id] = \n",
    "        mdb.films.filter(t => t._2.director == dir).keys.toList\n",
    "    \n",
    "    // N-M relationships\n",
    "    \n",
    "    def ratings(mdb: MovieDatabase): List[Rating] = \n",
    "        ???\n",
    "    \n",
    "    def userRatings(user: User.Id)(mdb: MovieDatabase): List[Rating] = \n",
    "        mdb.ratings.filter(_._1._2 == user).map(_._2).toList\n",
    "    \n",
    "    def filmRatings(film: Film.Id)(mdb: MovieDatabase): List[Rating] = \n",
    "        mdb.ratings.filter(_._1._1 == film).map(_._2).toList\n",
    "}\n",
    "\n",
    "import BasicQueries._"
   ]
  },
  {
   "cell_type": "code",
   "execution_count": 8,
   "metadata": {},
   "outputs": [
    {
     "data": {
      "text/plain": [
       "\u001b[36mres8\u001b[39m: \u001b[32mList\u001b[39m[\u001b[32mRating\u001b[39m] = \u001b[33mList\u001b[39m(\n",
       "  \u001b[33mRating\u001b[39m(film = \u001b[32m2\u001b[39m, user = \u001b[32m1\u001b[39m, score = \u001b[32m1\u001b[39m),\n",
       "  \u001b[33mRating\u001b[39m(film = \u001b[32m6\u001b[39m, user = \u001b[32m1\u001b[39m, score = \u001b[32m3\u001b[39m),\n",
       "  \u001b[33mRating\u001b[39m(film = \u001b[32m4\u001b[39m, user = \u001b[32m1\u001b[39m, score = \u001b[32m3\u001b[39m),\n",
       "  \u001b[33mRating\u001b[39m(film = \u001b[32m9\u001b[39m, user = \u001b[32m1\u001b[39m, score = \u001b[32m1\u001b[39m),\n",
       "  \u001b[33mRating\u001b[39m(film = \u001b[32m11\u001b[39m, user = \u001b[32m1\u001b[39m, score = \u001b[32m0\u001b[39m),\n",
       "  \u001b[33mRating\u001b[39m(film = \u001b[32m1\u001b[39m, user = \u001b[32m1\u001b[39m, score = \u001b[32m5\u001b[39m),\n",
       "  \u001b[33mRating\u001b[39m(film = \u001b[32m7\u001b[39m, user = \u001b[32m1\u001b[39m, score = \u001b[32m2\u001b[39m),\n",
       "  \u001b[33mRating\u001b[39m(film = \u001b[32m10\u001b[39m, user = \u001b[32m1\u001b[39m, score = \u001b[32m0\u001b[39m)\n",
       ")"
      ]
     },
     "execution_count": 8,
     "metadata": {},
     "output_type": "execute_result"
    }
   ],
   "source": [
    "userRatings(1)(moviedb)"
   ]
  },
  {
   "cell_type": "code",
   "execution_count": 10,
   "metadata": {},
   "outputs": [
    {
     "data": {
      "text/plain": [
       "\u001b[36mres10\u001b[39m: \u001b[32mList\u001b[39m[\u001b[32mString\u001b[39m] = \u001b[33mList\u001b[39m(\n",
       "  \u001b[32m\"2001: A Space Odyssey\"\u001b[39m,\n",
       "  \u001b[32m\"Batman v. Superman: Dawn of Justice\"\u001b[39m,\n",
       "  \u001b[32m\"Blade Runner\"\u001b[39m,\n",
       "  \u001b[32m\"El crack Cero\"\u001b[39m,\n",
       "  \u001b[32m\"Chinatown\"\u001b[39m,\n",
       "  \u001b[32m\"Amanece, que no es poco\"\u001b[39m,\n",
       "  \u001b[32m\"El crack\"\u001b[39m,\n",
       "  \u001b[32m\"El milagro de P. Tinto\"\u001b[39m,\n",
       "  \u001b[32m\"Dumb and Dumber\"\u001b[39m,\n",
       "  \u001b[32m\"The Maltese Falcon\"\u001b[39m,\n",
       "  \u001b[32m\"Mars Attacks!\"\u001b[39m\n",
       ")"
      ]
     },
     "execution_count": 10,
     "metadata": {},
     "output_type": "execute_result"
    }
   ],
   "source": [
    "films(moviedb).map(_.title)"
   ]
  },
  {
   "cell_type": "markdown",
   "metadata": {},
   "source": [
    "# Problem 2"
   ]
  },
  {
   "cell_type": "markdown",
   "metadata": {},
   "source": [
    "__Part a)__ Write an auxiliary function that computes the average of a list of values. For simplicity, assume that the average of an empty list is 0/0 (i.e. the special `Double` value `NaN`). Implement the function using `foldLeft` -- and try to do it in a single traversal."
   ]
  },
  {
   "cell_type": "markdown",
   "metadata": {
    "jp-MarkdownHeadingCollapsed": true,
    "tags": []
   },
   "source": [
    "###### Solution"
   ]
  },
  {
   "cell_type": "code",
   "execution_count": 11,
   "metadata": {},
   "outputs": [
    {
     "data": {
      "text/plain": [
       "defined \u001b[32mfunction\u001b[39m \u001b[36maverage\u001b[39m"
      ]
     },
     "execution_count": 11,
     "metadata": {},
     "output_type": "execute_result"
    }
   ],
   "source": [
    "def average(seq: List[Int]): Double =\n",
    "    val (sum, count) = seq.foldLeft((0.0, 0)):\n",
    "        case ((sum, count), e) => (sum + e, count + 1)\n",
    "    sum / count"
   ]
  },
  {
   "cell_type": "markdown",
   "metadata": {
    "tags": []
   },
   "source": [
    "###### Your solution"
   ]
  },
  {
   "cell_type": "code",
   "execution_count": null,
   "metadata": {},
   "outputs": [],
   "source": [
    "def average(seq: List[Int]): Double = \n",
    "    ???"
   ]
  },
  {
   "cell_type": "code",
   "execution_count": null,
   "metadata": {},
   "outputs": [],
   "source": [
    "class TestAverage(\n",
    "    average: List[Int] => Double\n",
    ") extends AnyFlatSpec with should.Matchers:\n",
    "    \n",
    "    \"average\" should \"work\" in:\n",
    "        average(List()).isNaN shouldBe true\n",
    "        average(List(1,2,3,4)) shouldBe 2.5\n",
    "        average(List(1,1,1,1)) shouldBe 1.0\n",
    "        average(List(1,5)) shouldBe 3.0"
   ]
  },
  {
   "cell_type": "code",
   "execution_count": null,
   "metadata": {},
   "outputs": [],
   "source": [
    "run(new TestAverage(average))"
   ]
  },
  {
   "cell_type": "code",
   "execution_count": 12,
   "metadata": {},
   "outputs": [
    {
     "data": {
      "text/plain": [
       "\u001b[36mres12\u001b[39m: \u001b[32mDouble\u001b[39m = \u001b[32m3.3333333333333335\u001b[39m"
      ]
     },
     "execution_count": 12,
     "metadata": {},
     "output_type": "execute_result"
    }
   ],
   "source": [
    "average(List(1,3,6))"
   ]
  },
  {
   "cell_type": "markdown",
   "metadata": {},
   "source": [
    "__Part b)__ Write a function that computes the average score of a film. "
   ]
  },
  {
   "cell_type": "markdown",
   "metadata": {
    "jp-MarkdownHeadingCollapsed": true,
    "tags": []
   },
   "source": [
    "###### Solution"
   ]
  },
  {
   "cell_type": "code",
   "execution_count": null,
   "metadata": {},
   "outputs": [],
   "source": [
    "def averageRating(film: Film.Id)(mdb: MovieDatabase): Double =\n",
    "    average(filmRatings(film)(mdb).map:\n",
    "        rating => rating.score\n",
    "    )"
   ]
  },
  {
   "cell_type": "markdown",
   "metadata": {
    "tags": []
   },
   "source": [
    "###### Your solution"
   ]
  },
  {
   "cell_type": "code",
   "execution_count": 15,
   "metadata": {},
   "outputs": [
    {
     "data": {
      "text/plain": [
       "\u001b[36mres15\u001b[39m: \u001b[32mDouble\u001b[39m = \u001b[32m3.25\u001b[39m"
      ]
     },
     "execution_count": 15,
     "metadata": {},
     "output_type": "execute_result"
    }
   ],
   "source": [
    "average(List(1,3,5,4))"
   ]
  },
  {
   "cell_type": "code",
   "execution_count": 17,
   "metadata": {},
   "outputs": [
    {
     "data": {
      "text/plain": [
       "\u001b[36mres17\u001b[39m: \u001b[32mDouble\u001b[39m = \u001b[32m3.25\u001b[39m"
      ]
     },
     "execution_count": 17,
     "metadata": {},
     "output_type": "execute_result"
    }
   ],
   "source": [
    "average(filmRatings(1)(moviedb)\n",
    "    .map(rating => rating.score))"
   ]
  },
  {
   "cell_type": "code",
   "execution_count": 19,
   "metadata": {},
   "outputs": [
    {
     "data": {
      "text/plain": [
       "defined \u001b[32mfunction\u001b[39m \u001b[36maverageRating\u001b[39m"
      ]
     },
     "execution_count": 19,
     "metadata": {},
     "output_type": "execute_result"
    }
   ],
   "source": [
    "def averageRating(film: Film.Id)(mdb: MovieDatabase): Double =\n",
    "    average(filmRatings(film)(moviedb)\n",
    "        .map(rating => rating.score))"
   ]
  },
  {
   "cell_type": "code",
   "execution_count": 20,
   "metadata": {},
   "outputs": [
    {
     "data": {
      "text/plain": [
       "defined \u001b[32mclass\u001b[39m \u001b[36mTestAverageRating\u001b[39m"
      ]
     },
     "execution_count": 20,
     "metadata": {},
     "output_type": "execute_result"
    }
   ],
   "source": [
    "class TestAverageRating(\n",
    "    averageRating: Film.Id => MovieDatabase => Double\n",
    ") extends AnyFlatSpec with should.Matchers:\n",
    "    \n",
    "    \"averageRating\" should \"work\" in:\n",
    "        averageRating(1)(moviedb) shouldBe 3.25\n",
    "        averageRating(3)(moviedb).isNaN shouldBe true\n",
    "        averageRating(5)(moviedb) shouldBe 2.0"
   ]
  },
  {
   "cell_type": "code",
   "execution_count": 21,
   "metadata": {},
   "outputs": [
    {
     "name": "stdout",
     "output_type": "stream",
     "text": [
      "\u001b[32mcell20$Helper$TestAverageRating:\u001b[0m\n",
      "\u001b[32maverageRating\u001b[0m\n",
      "\u001b[32m- should work\u001b[0m\n"
     ]
    }
   ],
   "source": [
    "run(new TestAverageRating(averageRating))"
   ]
  },
  {
   "cell_type": "markdown",
   "metadata": {},
   "source": [
    "__Part c)__ Write a function that computes the average score of all the films in a movie database."
   ]
  },
  {
   "cell_type": "markdown",
   "metadata": {
    "jp-MarkdownHeadingCollapsed": true,
    "tags": []
   },
   "source": [
    "###### Solution"
   ]
  },
  {
   "cell_type": "code",
   "execution_count": null,
   "metadata": {},
   "outputs": [],
   "source": [
    "def wholeAverageRating(mdb: MovieDatabase): Double = \n",
    "    average(ratings(mdb).map:\n",
    "        rating => rating.score\n",
    "    )"
   ]
  },
  {
   "cell_type": "markdown",
   "metadata": {
    "tags": []
   },
   "source": [
    "###### Your solution"
   ]
  },
  {
   "cell_type": "code",
   "execution_count": null,
   "metadata": {},
   "outputs": [],
   "source": [
    "def wholeAverageRating(mdb: MovieDatabase): Double = \n",
    "    ???"
   ]
  },
  {
   "cell_type": "code",
   "execution_count": null,
   "metadata": {},
   "outputs": [],
   "source": [
    "class TestWholeAverageRating(\n",
    "    wholeAverageRating: MovieDatabase => Double\n",
    ") extends AnyFlatSpec with should.Matchers:\n",
    "    \n",
    "    \"wholeAverageRating\" should \"work\" in:\n",
    "        wholeAverageRating(moviedb) shouldBe 1.9473684210526316"
   ]
  },
  {
   "cell_type": "code",
   "execution_count": null,
   "metadata": {},
   "outputs": [],
   "source": [
    "run(new TestWholeAverageRating(wholeAverageRating))"
   ]
  },
  {
   "cell_type": "markdown",
   "metadata": {},
   "source": [
    "# Problem 3"
   ]
  },
  {
   "cell_type": "markdown",
   "metadata": {},
   "source": [
    "Write functions to compute the following rankings of a movie dataset."
   ]
  },
  {
   "cell_type": "markdown",
   "metadata": {},
   "source": [
    "__Part a)__ Obtain a ranking of films, sorted by their number of ratings in descending order."
   ]
  },
  {
   "cell_type": "markdown",
   "metadata": {
    "jp-MarkdownHeadingCollapsed": true,
    "tags": []
   },
   "source": [
    "###### Solution"
   ]
  },
  {
   "cell_type": "code",
   "execution_count": null,
   "metadata": {},
   "outputs": [],
   "source": [
    "def mostRated(mdb: MovieDatabase): List[(String, Int)] = \n",
    "    films(mdb).map: film => \n",
    "        (film.title, filmRatings(film.id)(mdb).size)\n",
    "    .sortWith: (tuple1, tuple2) => \n",
    "        tuple1._2 > tuple2._2"
   ]
  },
  {
   "cell_type": "markdown",
   "metadata": {
    "tags": []
   },
   "source": [
    "###### Your solution"
   ]
  },
  {
   "cell_type": "code",
   "execution_count": null,
   "metadata": {},
   "outputs": [],
   "source": [
    "def mostRated(mdb: MovieDatabase): List[(String, Int)] = \n",
    "    ???"
   ]
  },
  {
   "cell_type": "code",
   "execution_count": null,
   "metadata": {},
   "outputs": [],
   "source": [
    "class TestMostRated(\n",
    "    mostRated: MovieDatabase => List[(String, Int)]\n",
    ") extends AnyFlatSpec with should.Matchers:\n",
    "    \n",
    "    \"mostRated\" should \"work\" in:\n",
    "        mostRated(moviedb) shouldBe List(\n",
    "          (\"Blade Runner\", 4),\n",
    "          (\"El crack Cero\", 3),\n",
    "          (\"Dumb and Dumber\", 3),\n",
    "          (\"Batman v. Superman: Dawn of Justice\", 2),\n",
    "          (\"Amanece, que no es poco\", 2),\n",
    "          (\"2001: A Space Odyssey\", 1),\n",
    "          (\"Chinatown\", 1),\n",
    "          (\"El crack\", 1),\n",
    "          (\"The Maltese Falcon\", 1),\n",
    "          (\"Mars Attacks!\", 1),\n",
    "          (\"El milagro de P. Tinto\", 0)\n",
    "        )"
   ]
  },
  {
   "cell_type": "code",
   "execution_count": null,
   "metadata": {},
   "outputs": [],
   "source": [
    "run(new TestMostRated(mostRated))"
   ]
  },
  {
   "cell_type": "markdown",
   "metadata": {},
   "source": [
    "__Part b)__ Obtain a ranking of films, sorted by their average score in ascending order. "
   ]
  },
  {
   "cell_type": "markdown",
   "metadata": {
    "jp-MarkdownHeadingCollapsed": true,
    "tags": []
   },
   "source": [
    "###### Solution"
   ]
  },
  {
   "cell_type": "code",
   "execution_count": null,
   "metadata": {},
   "outputs": [],
   "source": [
    "def topRated(mdb: MovieDatabase): List[(String, Double)] = \n",
    "    films(mdb).map: film => \n",
    "        (film.title, averageRating(film.id)(mdb))\n",
    "    .toList.sortBy(_._2)"
   ]
  },
  {
   "cell_type": "markdown",
   "metadata": {
    "tags": []
   },
   "source": [
    "###### Your solution"
   ]
  },
  {
   "cell_type": "code",
   "execution_count": null,
   "metadata": {},
   "outputs": [],
   "source": [
    "def topRated(mdb: MovieDatabase): List[(String, Double)] = \n",
    "    ???"
   ]
  },
  {
   "cell_type": "code",
   "execution_count": null,
   "metadata": {},
   "outputs": [],
   "source": [
    "class TestTopRated(\n",
    "    topRated: MovieDatabase => List[(String, Double)]\n",
    ") extends AnyFlatSpec with should.Matchers:\n",
    "    \n",
    "    \"topRated\" should \"work\" in:\n",
    "        topRated(moviedb).map{\n",
    "            case (title, score) => \n",
    "                (title, if (score.isNaN) None else Some(score))\n",
    "        } shouldBe List(\n",
    "            (\"Batman v. Superman: Dawn of Justice\", Some(0.0)), \n",
    "            (\"Chinatown\", Some(1.0)), \n",
    "            (\"Amanece, que no es poco\", Some(1.0)), \n",
    "            (\"Dumb and Dumber\", Some(1.0)), \n",
    "            (\"2001: A Space Odyssey\",Some(2.0)), \n",
    "            (\"El crack\",Some(2.0)), \n",
    "            (\"The Maltese Falcon\",Some(2.0)), \n",
    "            (\"El crack Cero\",Some(3.0)), \n",
    "            (\"Mars Attacks!\",Some(3.0)), \n",
    "            (\"Blade Runner\",Some(3.25)), \n",
    "            (\"El milagro de P. Tinto\",None))\n",
    "\n"
   ]
  },
  {
   "cell_type": "code",
   "execution_count": null,
   "metadata": {},
   "outputs": [],
   "source": [
    "run(new TestTopRated(topRated))"
   ]
  },
  {
   "cell_type": "markdown",
   "metadata": {},
   "source": [
    "# Problem 4"
   ]
  },
  {
   "cell_type": "markdown",
   "metadata": {},
   "source": [
    "__Part a)__ Obtain the list of the `n` favourite films of a user (i.e. the ones that the user gave them a highest score)."
   ]
  },
  {
   "cell_type": "markdown",
   "metadata": {
    "jp-MarkdownHeadingCollapsed": true,
    "tags": []
   },
   "source": [
    "###### Solution"
   ]
  },
  {
   "cell_type": "code",
   "execution_count": null,
   "metadata": {},
   "outputs": [],
   "source": [
    "def favourites(user: User.Id, n: Int)(mdb: MovieDatabase): List[Film.Id] = \n",
    "    userRatings(user)(mdb)\n",
    "        .sortWith: (rating1, rating2) => \n",
    "            rating1.score > rating2.score\n",
    "        .map(rating => rating.film)\n",
    "        .take(n)"
   ]
  },
  {
   "cell_type": "markdown",
   "metadata": {
    "tags": []
   },
   "source": [
    "###### Your solution"
   ]
  },
  {
   "cell_type": "code",
   "execution_count": null,
   "metadata": {},
   "outputs": [],
   "source": [
    "def favourites(user: User.Id, n: Int)(mdb: MovieDatabase): List[Film.Id] = \n",
    "    ???"
   ]
  },
  {
   "cell_type": "code",
   "execution_count": null,
   "metadata": {},
   "outputs": [],
   "source": [
    "class TestFavourites(\n",
    "    favourites: (User.Id, Int) => MovieDatabase => List[Film.Id]\n",
    ") extends AnyFlatSpec with should.Matchers:\n",
    "    \n",
    "    \"favourites\" should \"work\" in:\n",
    "        favourites(1,3)(moviedb) shouldBe List(1, 6, 4)\n",
    "        favourites(3,2)(moviedb) shouldBe List(1, 6)\n",
    "        favourites(5,3)(moviedb) shouldBe List()\n",
    "        favourites(3,0)(moviedb) shouldBe List()"
   ]
  },
  {
   "cell_type": "code",
   "execution_count": null,
   "metadata": {},
   "outputs": [],
   "source": [
    "run(new TestFavourites(favourites))"
   ]
  },
  {
   "cell_type": "markdown",
   "metadata": {},
   "source": [
    "__Part b)__ Write a function that gives the name of the user, the title of the film, and the score of a given rating. "
   ]
  },
  {
   "cell_type": "markdown",
   "metadata": {
    "jp-MarkdownHeadingCollapsed": true,
    "tags": []
   },
   "source": [
    "###### Solution"
   ]
  },
  {
   "cell_type": "code",
   "execution_count": null,
   "metadata": {},
   "outputs": [],
   "source": [
    "def ratingInfo(rating: Rating)(mdb: MovieDatabase): List[(String, String, Int)] = \n",
    "    getFilm(rating.film)(mdb).flatMap: film => \n",
    "        getUser(rating.user)(mdb).map: user => \n",
    "            (user.name, film.title, rating.score)"
   ]
  },
  {
   "cell_type": "markdown",
   "metadata": {
    "tags": []
   },
   "source": [
    "###### Your solution"
   ]
  },
  {
   "cell_type": "code",
   "execution_count": null,
   "metadata": {},
   "outputs": [],
   "source": [
    "def ratingInfo(rating: Rating)(mdb: MovieDatabase): List[(String, String, Int)] = \n",
    "    ???"
   ]
  },
  {
   "cell_type": "code",
   "execution_count": null,
   "metadata": {},
   "outputs": [],
   "source": [
    "class TestRatingInfo(\n",
    "    ratingInfo: Rating => MovieDatabase => List[(String, String, Int)]\n",
    ") extends AnyFlatSpec with should.Matchers:\n",
    "    \n",
    "    \"ratingInfo\" should \"work\" in:\n",
    "        ratingInfo(Rating(1,1,3))(moviedb) shouldBe \n",
    "            List((\"Juan\", \"Blade Runner\", 3))\n",
    "        ratingInfo(Rating(3,1,4))(moviedb) shouldBe \n",
    "            List((\"Juan\", \"El milagro de P. Tinto\", 4))"
   ]
  },
  {
   "cell_type": "code",
   "execution_count": null,
   "metadata": {},
   "outputs": [],
   "source": [
    "run(new TestRatingInfo(ratingInfo))"
   ]
  },
  {
   "cell_type": "markdown",
   "metadata": {},
   "source": [
    "__Part c)__ Same function as in part a), but now returning the name of the user, the title of the film and the score of the user for that film."
   ]
  },
  {
   "cell_type": "markdown",
   "metadata": {
    "jp-MarkdownHeadingCollapsed": true,
    "tags": []
   },
   "source": [
    "###### Solution"
   ]
  },
  {
   "cell_type": "code",
   "execution_count": null,
   "metadata": {},
   "outputs": [],
   "source": [
    "def favourites2(user: User.Id, n: Int)(\n",
    "        mdb: MovieDatabase): List[(String, String, Int)] = \n",
    "    userRatings(user)(mdb)\n",
    "        .sortWith: (rating1, rating2) => \n",
    "            rating1.score > rating2.score\n",
    "        .take(n)\n",
    "        .flatMap: rating => \n",
    "            ratingInfo(rating)(mdb)\n",
    "    "
   ]
  },
  {
   "cell_type": "markdown",
   "metadata": {
    "tags": []
   },
   "source": [
    "###### Your solution"
   ]
  },
  {
   "cell_type": "code",
   "execution_count": null,
   "metadata": {},
   "outputs": [],
   "source": [
    "def favourites2(user: User.Id, n: Int)(\n",
    "        mdb: MovieDatabase): List[(String, String, Int)] = \n",
    "        ???"
   ]
  },
  {
   "cell_type": "code",
   "execution_count": null,
   "metadata": {},
   "outputs": [],
   "source": [
    "class TestFavourites2(\n",
    "    favourites: (User.Id, Int) => MovieDatabase => List[(String, String, Int)]\n",
    ") extends AnyFlatSpec with should.Matchers:\n",
    "    \n",
    "    \"favourites\" should \"work\" in:\n",
    "        favourites(1,3)(moviedb) shouldBe \n",
    "            List((\"Juan\",\"Blade Runner\",5), \n",
    "                 (\"Juan\",\"El crack Cero\",3), \n",
    "                 (\"Juan\",\"Mars Attacks!\",3))\n",
    "        favourites(3,2)(moviedb) shouldBe \n",
    "            List((\"Lola\",\"Blade Runner\",4), \n",
    "                 (\"Lola\",\"El crack Cero\",3))\n",
    "        favourites(5,3)(moviedb) shouldBe List()\n",
    "        favourites(3,0)(moviedb) shouldBe List()"
   ]
  },
  {
   "cell_type": "code",
   "execution_count": null,
   "metadata": {},
   "outputs": [],
   "source": [
    "run(new TestFavourites2(favourites2))"
   ]
  },
  {
   "cell_type": "markdown",
   "metadata": {},
   "source": [
    "# Problem 5"
   ]
  },
  {
   "cell_type": "markdown",
   "metadata": {},
   "source": [
    "__Part a)__ Obtain the average rating of all films that belongs to a given genre."
   ]
  },
  {
   "cell_type": "markdown",
   "metadata": {
    "jp-MarkdownHeadingCollapsed": true,
    "tags": []
   },
   "source": [
    "###### Solution"
   ]
  },
  {
   "cell_type": "code",
   "execution_count": null,
   "metadata": {},
   "outputs": [],
   "source": [
    "def averageGenreRating(genre: String)(mdb: MovieDatabase): Double =\n",
    "    val genreRatings: List[Int] = \n",
    "        ratings(mdb) flatMap: rating => \n",
    "            getFilm(rating.film)(mdb) \n",
    "                .filter: film => \n",
    "                    film.genre == genre\n",
    "                .map: _ => \n",
    "                    rating.score\n",
    "    average(genreRatings)"
   ]
  },
  {
   "cell_type": "markdown",
   "metadata": {
    "tags": []
   },
   "source": [
    "###### Your solution"
   ]
  },
  {
   "cell_type": "code",
   "execution_count": null,
   "metadata": {},
   "outputs": [],
   "source": [
    "def averageGenreRating(genre: String)(mdb: MovieDatabase): Double = \n",
    "    ???"
   ]
  },
  {
   "cell_type": "code",
   "execution_count": null,
   "metadata": {},
   "outputs": [],
   "source": [
    "class TestAverageGenreRating(\n",
    "    averageGenreRating: String => MovieDatabase => Double\n",
    ") extends AnyFlatSpec with should.Matchers:\n",
    "    \n",
    "    \"averageGenreRating\" should \"work\" in:\n",
    "        averageGenreRating(\"Comedy\")(moviedb) shouldBe 1.0\n",
    "        averageGenreRating(\"Film noir\")(moviedb) shouldBe 2.3333333333333335\n",
    "        averageGenreRating(\"Sci-Fi\")(moviedb) shouldBe 2.25"
   ]
  },
  {
   "cell_type": "code",
   "execution_count": null,
   "metadata": {},
   "outputs": [],
   "source": [
    "run(new TestAverageGenreRating(averageGenreRating))"
   ]
  },
  {
   "cell_type": "markdown",
   "metadata": {},
   "source": [
    "__Part b)__ Use `for-comprehensions` to write the previous query."
   ]
  },
  {
   "cell_type": "markdown",
   "metadata": {
    "jp-MarkdownHeadingCollapsed": true,
    "tags": []
   },
   "source": [
    "###### Solution"
   ]
  },
  {
   "cell_type": "code",
   "execution_count": null,
   "metadata": {},
   "outputs": [],
   "source": [
    "def averageGenreRatingFC(genre: String)(mdb: MovieDatabase): Double =\n",
    "    val genreRatings: List[Int] = for\n",
    "        rating <- ratings(mdb)\n",
    "        film <- getFilm(rating.film)(mdb) if film.genre == genre\n",
    "    yield rating.score\n",
    "    average(genreRatings)"
   ]
  },
  {
   "cell_type": "markdown",
   "metadata": {
    "tags": []
   },
   "source": [
    "###### Your solution"
   ]
  },
  {
   "cell_type": "code",
   "execution_count": null,
   "metadata": {},
   "outputs": [],
   "source": [
    "def averageGenreRatingFC(genre: String)(mdb: MovieDatabase): Double = \n",
    "    ???"
   ]
  },
  {
   "cell_type": "code",
   "execution_count": null,
   "metadata": {},
   "outputs": [],
   "source": [
    "run(new TestAverageGenreRating(averageGenreRatingFC))"
   ]
  },
  {
   "cell_type": "markdown",
   "metadata": {},
   "source": [
    "__Part c)__ Write a query that returns the average ratings of all genres in the movie database. Particularly, the query must return a `Map` whose keys and values are the genres and their ratings, respectively."
   ]
  },
  {
   "cell_type": "markdown",
   "metadata": {
    "jp-MarkdownHeadingCollapsed": true,
    "tags": []
   },
   "source": [
    "###### Solution"
   ]
  },
  {
   "cell_type": "code",
   "execution_count": null,
   "metadata": {},
   "outputs": [],
   "source": [
    "def allGenreRatings(mdb: MovieDatabase): List[(String, Double)] = \n",
    "    films(mdb)\n",
    "        .map(film => film.genre)\n",
    "        .distinct\n",
    "        .map(genre => (genre, averageGenreRating(genre)(mdb)))"
   ]
  },
  {
   "cell_type": "markdown",
   "metadata": {
    "tags": []
   },
   "source": [
    "###### Your solution"
   ]
  },
  {
   "cell_type": "code",
   "execution_count": null,
   "metadata": {},
   "outputs": [],
   "source": [
    "def allGenreRatings(mdb: MovieDatabase): List[(String, Double)] = \n",
    "    ???"
   ]
  },
  {
   "cell_type": "code",
   "execution_count": null,
   "metadata": {},
   "outputs": [],
   "source": [
    "class TestAllGenreRatings(\n",
    "    allGenreRatings: MovieDatabase => List[(String, Double)]\n",
    ") extends AnyFlatSpec with should.Matchers:\n",
    "    \n",
    "    \"allGenreRatings\" should \"work\" in:\n",
    "        allGenreRatings(moviedb) shouldBe \n",
    "            List((\"Sci-Fi\",2.25), \n",
    "                 (\"Film noir\",2.3333333333333335), \n",
    "                 (\"Comedy\",1.0))"
   ]
  },
  {
   "cell_type": "code",
   "execution_count": null,
   "metadata": {},
   "outputs": [],
   "source": [
    "run(new TestAllGenreRatings(allGenreRatings))"
   ]
  }
 ],
 "metadata": {
  "kernelspec": {
   "display_name": "Scala 3.3",
   "language": "scala",
   "name": "scala33"
  },
  "language_info": {
   "codemirror_mode": "text/x-scala",
   "file_extension": ".sc",
   "mimetype": "text/x-scala",
   "name": "scala",
   "nbconvert_exporter": "script",
   "version": "2.13.12"
  }
 },
 "nbformat": 4,
 "nbformat_minor": 4
}
