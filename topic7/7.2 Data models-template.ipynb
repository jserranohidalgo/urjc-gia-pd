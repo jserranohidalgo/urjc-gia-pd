{
 "cells": [
  {
   "cell_type": "markdown",
   "metadata": {
    "tags": []
   },
   "source": [
    "### Preamble"
   ]
  },
  {
   "cell_type": "code",
   "execution_count": 1,
   "metadata": {},
   "outputs": [
    {
     "data": {
      "text/plain": [
       "\u001b[32mimport \u001b[39m\u001b[36m$ivy.$                                \n",
       "\u001b[39m\n",
       "\u001b[32mimport \u001b[39m\u001b[36morg.scalatest.{Filter => _, _}, flatspec._, matchers._\n",
       "\u001b[39m"
      ]
     },
     "execution_count": 1,
     "metadata": {},
     "output_type": "execute_result"
    }
   ],
   "source": [
    "import $ivy.`org.scalatest::scalatest:3.2.16`\n",
    "import org.scalatest.{Filter => _, _}, flatspec._, matchers._"
   ]
  },
  {
   "cell_type": "markdown",
   "metadata": {},
   "source": [
    "# Topic 7. Applications"
   ]
  },
  {
   "cell_type": "markdown",
   "metadata": {},
   "source": [
    "## 7.2 Implementing & querying data models"
   ]
  },
  {
   "cell_type": "markdown",
   "metadata": {},
   "source": [
    "The Scala collections library greatly facilitate the implementation and querying of data models. For instance, the following classes model the structure of an organization which consists of departments, employees and tasks that employees can perform. "
   ]
  },
  {
   "cell_type": "code",
   "execution_count": 2,
   "metadata": {},
   "outputs": [
    {
     "data": {
      "text/plain": [
       "defined \u001b[32mclass\u001b[39m \u001b[36mDepartment\u001b[39m\n",
       "defined \u001b[32mobject\u001b[39m \u001b[36mDepartment\u001b[39m\n",
       "defined \u001b[32mclass\u001b[39m \u001b[36mTask\u001b[39m\n",
       "defined \u001b[32mobject\u001b[39m \u001b[36mTask\u001b[39m\n",
       "defined \u001b[32mclass\u001b[39m \u001b[36mEmployee\u001b[39m\n",
       "defined \u001b[32mobject\u001b[39m \u001b[36mEmployee\u001b[39m\n",
       "defined \u001b[32mclass\u001b[39m \u001b[36mOrganization\u001b[39m"
      ]
     },
     "execution_count": 2,
     "metadata": {},
     "output_type": "execute_result"
    }
   ],
   "source": [
    "// departments\n",
    "\n",
    "case class Department(id: Department.Id/*, responsable: Employee.Id*/)\n",
    "object Department:\n",
    "    type Id = String\n",
    "\n",
    "// tasks \n",
    "\n",
    "case class Task(id: Task.Id, hours: Int)\n",
    "object Task:\n",
    "    type Id = String\n",
    "\n",
    "// Employees\n",
    "\n",
    "case class Employee(id: Employee.Id, dpt: Department.Id)\n",
    "object Employee:\n",
    "    type Id = String\n",
    "\n",
    "// The whole organization\n",
    "\n",
    "case class Organization(\n",
    "    departments: Map[Department.Id, Department], \n",
    "    tasks: Map[Task.Id, Task],\n",
    "    employees: Map[Employee.Id, Employee], \n",
    "    knows: List[(Employee.Id, Task.Id)])"
   ]
  },
  {
   "cell_type": "code",
   "execution_count": 7,
   "metadata": {},
   "outputs": [
    {
     "data": {
      "text/plain": [
       "defined \u001b[32mfunction\u001b[39m \u001b[36mdepartments\u001b[39m"
      ]
     },
     "execution_count": 7,
     "metadata": {},
     "output_type": "execute_result"
    }
   ],
   "source": [
    "def departments(org: Organization): List[Department] = \n",
    "    org.departments.values.toList"
   ]
  },
  {
   "cell_type": "code",
   "execution_count": 8,
   "metadata": {},
   "outputs": [
    {
     "data": {
      "text/plain": [
       "defined \u001b[32mfunction\u001b[39m \u001b[36mdepartmentIds\u001b[39m"
      ]
     },
     "execution_count": 8,
     "metadata": {},
     "output_type": "execute_result"
    }
   ],
   "source": [
    "def departmentIds(org: Organization): List[Department.Id] = \n",
    "    org.departments.keys.toList"
   ]
  },
  {
   "cell_type": "code",
   "execution_count": 9,
   "metadata": {},
   "outputs": [
    {
     "data": {
      "text/plain": [
       "\u001b[36mres9_0\u001b[39m: \u001b[32mList\u001b[39m[\u001b[32mDepartment\u001b[39m] = \u001b[33mList\u001b[39m(\n",
       "  \u001b[33mDepartment\u001b[39m(id = \u001b[32m\"Product\"\u001b[39m),\n",
       "  \u001b[33mDepartment\u001b[39m(id = \u001b[32m\"Quality\"\u001b[39m),\n",
       "  \u001b[33mDepartment\u001b[39m(id = \u001b[32m\"Research\"\u001b[39m),\n",
       "  \u001b[33mDepartment\u001b[39m(id = \u001b[32m\"Sales\"\u001b[39m)\n",
       ")\n",
       "\u001b[36mres9_1\u001b[39m: \u001b[32mList\u001b[39m[\u001b[32mId\u001b[39m] = \u001b[33mList\u001b[39m(\u001b[32m\"Product\"\u001b[39m, \u001b[32m\"Quality\"\u001b[39m, \u001b[32m\"Research\"\u001b[39m, \u001b[32m\"Sales\"\u001b[39m)"
      ]
     },
     "execution_count": 9,
     "metadata": {},
     "output_type": "execute_result"
    }
   ],
   "source": [
    "departments(org)\n",
    "departmentIds(org)"
   ]
  },
  {
   "cell_type": "markdown",
   "metadata": {},
   "source": [
    "This implementation is an example of a _flat_ data model. The key feature of these kinds of models are that the different entities (employees, departments and tasks, in this case) refer to each other by using _keys_. This is a possible instance of the organization data model:"
   ]
  },
  {
   "cell_type": "code",
   "execution_count": 16,
   "metadata": {},
   "outputs": [
    {
     "data": {
      "text/plain": [
       "\u001b[36morg\u001b[39m: \u001b[32mOrganization\u001b[39m = \u001b[33mOrganization\u001b[39m(\n",
       "  departments = \u001b[33mMap\u001b[39m(\n",
       "    \u001b[32m\"Product\"\u001b[39m -> \u001b[33mDepartment\u001b[39m(id = \u001b[32m\"Product\"\u001b[39m),\n",
       "    \u001b[32m\"Quality\"\u001b[39m -> \u001b[33mDepartment\u001b[39m(id = \u001b[32m\"Quality\"\u001b[39m),\n",
       "    \u001b[32m\"Research\"\u001b[39m -> \u001b[33mDepartment\u001b[39m(id = \u001b[32m\"Research\"\u001b[39m),\n",
       "    \u001b[32m\"Sales\"\u001b[39m -> \u001b[33mDepartment\u001b[39m(id = \u001b[32m\"Sales\"\u001b[39m)\n",
       "  ),\n",
       "  tasks = \u001b[33mHashMap\u001b[39m(\n",
       "    \u001b[32m\"program\"\u001b[39m -> \u001b[33mTask\u001b[39m(id = \u001b[32m\"program\"\u001b[39m, hours = \u001b[32m3\u001b[39m),\n",
       "    \u001b[32m\"design\"\u001b[39m -> \u001b[33mTask\u001b[39m(id = \u001b[32m\"design\"\u001b[39m, hours = \u001b[32m2\u001b[39m),\n",
       "    \u001b[32m\"abstract\"\u001b[39m -> \u001b[33mTask\u001b[39m(id = \u001b[32m\"abstract\"\u001b[39m, hours = \u001b[32m5\u001b[39m),\n",
       "    \u001b[32m\"build\"\u001b[39m -> \u001b[33mTask\u001b[39m(id = \u001b[32m\"build\"\u001b[39m, hours = \u001b[32m3\u001b[39m),\n",
       "    \u001b[32m\"call\"\u001b[39m -> \u001b[33mTask\u001b[39m(id = \u001b[32m\"call\"\u001b[39m, hours = \u001b[32m1\u001b[39m)\n",
       "  ),\n",
       "  employees = \u001b[33mHashMap\u001b[39m(\n",
       "    \u001b[32m\"Alex\"\u001b[39m -> \u001b[33mEmployee\u001b[39m(id = \u001b[32m\"Alex\"\u001b[39m, dpt = \u001b[32m\"Product\"\u001b[39m),\n",
       "    \u001b[32m\"Fred\"\u001b[39m -> \u001b[33mEmployee\u001b[39m(id = \u001b[32m\"Fred\"\u001b[39m, dpt = \u001b[32m\"Sales\"\u001b[39m),\n",
       "    \u001b[32m\"Bert\"\u001b[39m -> \u001b[33mEmployee\u001b[39m(id = \u001b[32m\"Bert\"\u001b[39m, dpt = \u001b[32m\"Product\"\u001b[39m),\n",
       "    \u001b[32m\"Cora\"\u001b[39m -> \u001b[33mEmployee\u001b[39m(id = \u001b[32m\"Cora\"\u001b[39m, dpt = \u001b[32m\"Research\"\u001b[39m),\n",
       "    \u001b[32m\"Edna\"\u001b[39m -> \u001b[33mEmployee\u001b[39m(id = \u001b[32m\"Edna\"\u001b[39m, dpt = \u001b[32m\"Research\"\u001b[39m),\n",
       "    \u001b[32m\"Drew\"\u001b[39m -> \u001b[33mEmployee\u001b[39m(id = \u001b[32m\"Drew\"\u001b[39m, dpt = \u001b[32m\"Research\"\u001b[39m)\n",
       "  ),\n",
       "  knows = \u001b[33mList\u001b[39m(\n",
       "    (\u001b[32m\"Alex\"\u001b[39m, \u001b[32m\"build\"\u001b[39m),\n",
       "    (\u001b[32m\"Bert\"\u001b[39m, \u001b[32m\"build\"\u001b[39m),\n",
       "    (\u001b[32m\"Cora\"\u001b[39m, \u001b[32m\"abstract\"\u001b[39m),\n",
       "    (\u001b[32m\"Cora\"\u001b[39m, \u001b[32m\"build\"\u001b[39m),\n",
       "    (\u001b[32m\"Cora\"\u001b[39m, \u001b[32m\"design\"\u001b[39m),\n",
       "    (\u001b[32m\"Drew\"\u001b[39m, \u001b[32m\"abstract\"\u001b[39m),\n",
       "    (\u001b[32m\"Drew\"\u001b[39m, \u001b[32m\"design\"\u001b[39m),\n",
       "    (\u001b[32m\"Edna\"\u001b[39m, \u001b[32m\"abstract\"\u001b[39m),\n",
       "    (\u001b[32m\"Edna\"\u001b[39m, \u001b[32m\"call\"\u001b[39m),\n",
       "    (\u001b[32m\"Edna\"\u001b[39m, \u001b[32m\"design\"\u001b[39m),\n",
       "    (\u001b[32m\"Fred\"\u001b[39m, \u001b[32m\"call\"\u001b[39m)\n",
       "  )\n",
       ")"
      ]
     },
     "execution_count": 16,
     "metadata": {},
     "output_type": "execute_result"
    }
   ],
   "source": [
    "val org: Organization = Organization(\n",
    "    Map(\n",
    "        \"Product\"  -> Department(\"Product\"),\n",
    "        \"Quality\"  -> Department(\"Quality\"),\n",
    "        \"Research\" -> Department(\"Research\"),\n",
    "        \"Sales\"    -> Department(\"Sales\")),\n",
    "    \n",
    "    Map(\"build\"    -> Task(\"build\", 3), \n",
    "        \"abstract\" -> Task(\"abstract\", 5), \n",
    "        \"design\"   -> Task(\"design\", 2),\n",
    "        \"call\"     -> Task(\"call\", 1),\n",
    "        \"program\"  -> Task(\"program\", 3)),\n",
    "    \n",
    "    Map(\"Alex\"     -> Employee(\"Alex\", \"Product\"), \n",
    "        \"Bert\"     -> Employee(\"Bert\", \"Product\"), \n",
    "        \"Cora\"     -> Employee(\"Cora\", \"Research\"), \n",
    "        \"Drew\"     -> Employee(\"Drew\", \"Research\"), \n",
    "        \"Edna\"     -> Employee(\"Edna\", \"Research\"), \n",
    "        \"Fred\"     -> Employee(\"Fred\", \"Sales\")),\n",
    "    \n",
    "    List(\n",
    "        (\"Alex\", \"build\"),\n",
    "        (\"Bert\", \"build\"),\n",
    "        (\"Cora\", \"abstract\"),\n",
    "        (\"Cora\", \"build\"),\n",
    "        (\"Cora\", \"design\"),\n",
    "        (\"Drew\", \"abstract\"),\n",
    "        (\"Drew\", \"design\"),\n",
    "        (\"Edna\", \"abstract\"),\n",
    "        (\"Edna\", \"call\"),\n",
    "        (\"Edna\", \"design\"),\n",
    "        (\"Fred\", \"call\")))"
   ]
  },
  {
   "cell_type": "code",
   "execution_count": 10,
   "metadata": {},
   "outputs": [
    {
     "data": {
      "text/plain": [
       "\u001b[36mres10\u001b[39m: \u001b[32mList\u001b[39m[\u001b[32mString\u001b[39m] = \u001b[33mList\u001b[39m(\u001b[32m\"Cora\"\u001b[39m, \u001b[32m\"Drew\"\u001b[39m, \u001b[32m\"Edna\"\u001b[39m)"
      ]
     },
     "execution_count": 10,
     "metadata": {},
     "output_type": "execute_result"
    }
   ],
   "source": [
    "org.knows.filter(_._2 == \"abstract\").map(_._1)"
   ]
  },
  {
   "cell_type": "markdown",
   "metadata": {},
   "source": [
    "Flat data models are actually very close to the common _relational_ data models used in SQL persistent stores. This is the equivalent relational model of the organization database: "
   ]
  },
  {
   "cell_type": "markdown",
   "metadata": {},
   "source": [
    "![](../images/relational-model.png)"
   ]
  },
  {
   "cell_type": "markdown",
   "metadata": {},
   "source": [
    "According to this mapping: \n",
    "- The `Organization` class represents the whole relational _database_.\n",
    "- Members of this class correspond to the different _tables_ of the database, represented as `Map`s or simple `Set`s. We have four tables: the table of departments, employees, tasks, and a table which stores which tasks employees can perform.\n",
    "- The key type of `Map` can be understood as the primary key of the relational table. The value type specifies the columns of the table. By convention, the identifier type is defined by the `Id` type alias in the companion object of the value type. For instance, the `employees` table is indexed by the employee identifier (a string value), and stores the department to which the employee belongs to.\n",
    "- If the primary key consists of several keys, as in the `knows` table, we use tuples. \n",
    "- If the table just consists of the key (simple or composed) we use `Set` instead of `Map` (as the `knows` table also illustrates).\n",
    "\n"
   ]
  },
  {
   "cell_type": "markdown",
   "metadata": {},
   "source": [
    "## Basic queries"
   ]
  },
  {
   "cell_type": "markdown",
   "metadata": {},
   "source": [
    "Complex queries typically builds upon basic queries which are directly related to the structure of the data model. In particular, they are identified from the primary key and foreign-key relations in the relational model. In the organizational database we can identify the following queries:"
   ]
  },
  {
   "cell_type": "code",
   "execution_count": 11,
   "metadata": {},
   "outputs": [
    {
     "data": {
      "text/plain": [
       "defined \u001b[32mobject\u001b[39m \u001b[36mBasicQueries\u001b[39m\n",
       "\u001b[32mimport \u001b[39m\u001b[36mBasicQueries._\n",
       "\u001b[39m"
      ]
     },
     "execution_count": 11,
     "metadata": {},
     "output_type": "execute_result"
    }
   ],
   "source": [
    "\n",
    "object BasicQueries:\n",
    "\n",
    "    // Entities\n",
    "    \n",
    "    def departments(org: Organization): List[Department] = \n",
    "        org.departments.values.toList\n",
    "\n",
    "    def departmentIds(org: Organization): List[Department.Id] = \n",
    "        org.departments.keys.toList\n",
    "    \n",
    "    def getDepartment(id: Department.Id)(org: Organization): List[Department] = \n",
    "        org.departments.get(id).toList\n",
    "\n",
    "    def employees(org: Organization): List[Employee] = \n",
    "        org.employees.values.toList\n",
    "\n",
    "    def employeeIds(org: Organization): List[Employee.Id] = \n",
    "        org.employees.keys.toList\n",
    "\n",
    "    def getEmployee(id: Employee.Id)(org: Organization): List[Employee] = \n",
    "        org.employees.get(id).toList\n",
    "\n",
    "    // tasks, taskIds and getTask of the organization\n",
    "    \n",
    "    def tasks(org: Organization): List[Task] = \n",
    "        org.tasks.values.toList\n",
    "\n",
    "    def taskIds(org: Organization): List[Task.Id] = \n",
    "        org.tasks.keys.toList\n",
    "\n",
    "    def getTask(id: Task.Id)(org: Organization): List[Task] = \n",
    "        org.tasks.get(id).toList\n",
    "    \n",
    "    // 1-N relationships\n",
    "    \n",
    "    def employeeIds(dpt: Department.Id)(org: Organization): List[Employee.Id] = \n",
    "        org.employees.filter(_._2.dpt == dpt).map(_._1).toList\n",
    "    \n",
    "    // N-M relationships\n",
    "\n",
    "    def capabilities(emp: Employee.Id)(org: Organization): List[Task.Id] = \n",
    "        org.knows.filter(_._1 == emp).map(_._2)\n",
    "    \n",
    "    // performerIds\n",
    "\n",
    "    def performerIds(tid: Task.Id)(org: Organization): List[Employee.Id] = \n",
    "        org.knows.filter(_._2 == tid).map(_._1)\n",
    "\n",
    "import BasicQueries._"
   ]
  },
  {
   "cell_type": "code",
   "execution_count": 12,
   "metadata": {},
   "outputs": [
    {
     "data": {
      "text/plain": [
       "\u001b[36mres12_0\u001b[39m: \u001b[32mList\u001b[39m[\u001b[32mTask\u001b[39m] = \u001b[33mList\u001b[39m(\u001b[33mTask\u001b[39m(id = \u001b[32m\"abstract\"\u001b[39m, hours = \u001b[32m5\u001b[39m))\n",
       "\u001b[36mres12_1\u001b[39m: \u001b[32mList\u001b[39m[\u001b[32mList\u001b[39m[\u001b[32mDepartment\u001b[39m]] = \u001b[33mList\u001b[39m(\u001b[33mList\u001b[39m(\u001b[33mDepartment\u001b[39m(id = \u001b[32m\"Research\"\u001b[39m)))\n",
       "\u001b[36mres12_2\u001b[39m: \u001b[32mList\u001b[39m[\u001b[32mDepartment\u001b[39m] = \u001b[33mList\u001b[39m(\u001b[33mDepartment\u001b[39m(id = \u001b[32m\"Research\"\u001b[39m))"
      ]
     },
     "execution_count": 12,
     "metadata": {},
     "output_type": "execute_result"
    }
   ],
   "source": [
    "getTask(\"abstract\")(org)\n",
    "((getEmployee(\"Drew\")(org): List[Employee]).map: \n",
    "    case Employee(id, dptId) => \n",
    "        getDepartment(dptId)(org): List[Department]): List[List[Department]]\n",
    "((getEmployee(\"Drew\")(org): List[Employee]).flatMap: \n",
    "    case Employee(id, dptId) => \n",
    "        getDepartment(dptId)(org): List[Department]): List[Department]"
   ]
  },
  {
   "cell_type": "code",
   "execution_count": 13,
   "metadata": {},
   "outputs": [
    {
     "ename": "scala.NotImplementedError",
     "evalue": "an implementation is missing",
     "output_type": "error",
     "traceback": [
      "\u001b[31mscala.NotImplementedError: an implementation is missing\u001b[39m",
      "  scala.Predef$.$qmark$qmark$qmark(\u001b[32mPredef.scala\u001b[39m:\u001b[32m344\u001b[39m)",
      "  ammonite.$sess.cell13$Helper.<init>(\u001b[32mcell13.sc\u001b[39m:\u001b[32m1\u001b[39m)",
      "  ammonite.$sess.cell13$.<clinit>(\u001b[32mcell13.sc\u001b[39m:\u001b[32m65160\u001b[39m)"
     ]
    }
   ],
   "source": [
    "// ¿Cuáles son todos los empleados del departmento de investigación?\n",
    "employees(org).filter(??? : Employee => Boolean)"
   ]
  },
  {
   "cell_type": "code",
   "execution_count": 13,
   "metadata": {},
   "outputs": [
    {
     "name": "stderr",
     "output_type": "stream",
     "text": [
      "-- [E006] Not Found Error: cell14.sc:2:46 --------------------------------------\n",
      "2 |    case Employee(id: String, dpt: String) => ???? : Boolean\n",
      "  |                                              ^^^^\n",
      "  |                                              Not found: ????\n",
      "  |\n",
      "  | longer explanation available when compiling with `-explain`\n",
      "Compilation Failed"
     ]
    }
   ],
   "source": [
    "employees(org).filter: \n",
    "    case Employee(id: String, dpt: String) => ???? : Boolean"
   ]
  },
  {
   "cell_type": "code",
   "execution_count": 14,
   "metadata": {},
   "outputs": [
    {
     "data": {
      "text/plain": [
       "\u001b[36mres14\u001b[39m: \u001b[32mList\u001b[39m[\u001b[32mEmployee\u001b[39m] = \u001b[33mList\u001b[39m(\n",
       "  \u001b[33mEmployee\u001b[39m(id = \u001b[32m\"Cora\"\u001b[39m, dpt = \u001b[32m\"Research\"\u001b[39m),\n",
       "  \u001b[33mEmployee\u001b[39m(id = \u001b[32m\"Edna\"\u001b[39m, dpt = \u001b[32m\"Research\"\u001b[39m),\n",
       "  \u001b[33mEmployee\u001b[39m(id = \u001b[32m\"Drew\"\u001b[39m, dpt = \u001b[32m\"Research\"\u001b[39m)\n",
       ")"
      ]
     },
     "execution_count": 14,
     "metadata": {},
     "output_type": "execute_result"
    }
   ],
   "source": [
    "employees(org).filter: \n",
    "    case Employee(id: String, dpt: String) => \n",
    "        dpt == \"Research\" : Boolean"
   ]
  },
  {
   "cell_type": "markdown",
   "metadata": {},
   "source": [
    "## Sample queries"
   ]
  },
  {
   "cell_type": "markdown",
   "metadata": {},
   "source": [
    "__Which are the tasks of the organization which can't be performed by any employee?__"
   ]
  },
  {
   "cell_type": "code",
   "execution_count": 15,
   "metadata": {},
   "outputs": [
    {
     "data": {
      "text/plain": [
       "defined \u001b[32mclass\u001b[39m \u001b[36mTestImpossibleTasks\u001b[39m"
      ]
     },
     "execution_count": 15,
     "metadata": {},
     "output_type": "execute_result"
    }
   ],
   "source": [
    "class TestImpossibleTasks(\n",
    "    impossibleTasks: Organization => List[Task.Id]\n",
    ") extends AnyFlatSpec with should.Matchers:\n",
    "    \n",
    "    \"impossibleTasks\" should \"work\" in:\n",
    "        impossibleTasks(org) shouldBe \n",
    "            List(\"program\")"
   ]
  },
  {
   "cell_type": "markdown",
   "metadata": {},
   "source": [
    "This is a conventional imperative implementation, using mutable variables:"
   ]
  },
  {
   "cell_type": "code",
   "execution_count": 61,
   "metadata": {},
   "outputs": [
    {
     "ename": "scala.NotImplementedError",
     "evalue": "an implementation is missing",
     "output_type": "error",
     "traceback": [
      "\u001b[31mscala.NotImplementedError: an implementation is missing\u001b[39m",
      "  scala.Predef$.$qmark$qmark$qmark(\u001b[32mPredef.scala\u001b[39m:\u001b[32m344\u001b[39m)",
      "  ammonite.$sess.cell61.ammonite$$sess$cell61$Helper$$_$$lessinit$greater$$anonfun$1(\u001b[32mcell61.sc\u001b[39m:\u001b[32m2\u001b[39m)",
      "  scala.collection.immutable.List.filter(\u001b[32mList.scala\u001b[39m:\u001b[32m515\u001b[39m)",
      "  ammonite.$sess.cell61$Helper.<init>(\u001b[32mcell61.sc\u001b[39m:\u001b[32m2\u001b[39m)",
      "  ammonite.$sess.cell61$.<clinit>(\u001b[32mcell61.sc\u001b[39m:\u001b[32m65022\u001b[39m)"
     ]
    }
   ],
   "source": [
    "taskIds(org).filter: \n",
    "    case tid => ??? : Boolean"
   ]
  },
  {
   "cell_type": "code",
   "execution_count": 65,
   "metadata": {},
   "outputs": [
    {
     "data": {
      "text/plain": [
       "\u001b[36mres65_0\u001b[39m: \u001b[32mBoolean\u001b[39m = \u001b[32mfalse\u001b[39m\n",
       "\u001b[36mres65_1\u001b[39m: \u001b[32mBoolean\u001b[39m = \u001b[32mtrue\u001b[39m"
      ]
     },
     "execution_count": 65,
     "metadata": {},
     "output_type": "execute_result"
    }
   ],
   "source": [
    "performerIds(\"abstract\")(org).isEmpty\n",
    "performerIds(\"program\")(org).isEmpty"
   ]
  },
  {
   "cell_type": "code",
   "execution_count": 66,
   "metadata": {},
   "outputs": [
    {
     "data": {
      "text/plain": [
       "\u001b[36mres66\u001b[39m: \u001b[32mList\u001b[39m[\u001b[32mId\u001b[39m] = \u001b[33mList\u001b[39m(\u001b[32m\"program\"\u001b[39m)"
      ]
     },
     "execution_count": 66,
     "metadata": {},
     "output_type": "execute_result"
    }
   ],
   "source": [
    "taskIds(org).filter: \n",
    "    case tid => performerIds(tid)(org).isEmpty : Boolean"
   ]
  },
  {
   "cell_type": "code",
   "execution_count": null,
   "metadata": {},
   "outputs": [],
   "source": [
    "import collection.mutable.ListBuffer\n",
    "\n",
    "def impossibleTasks(org: Organization): List[Task.Id] =\n",
    "    ???"
   ]
  },
  {
   "cell_type": "code",
   "execution_count": null,
   "metadata": {},
   "outputs": [],
   "source": [
    "run(TestImpossibleTasks(impossibleTasks))"
   ]
  },
  {
   "cell_type": "markdown",
   "metadata": {},
   "source": [
    "This works but it is not the _functional_ style. The following version is closer to what we are looking for:"
   ]
  },
  {
   "cell_type": "code",
   "execution_count": 53,
   "metadata": {},
   "outputs": [
    {
     "data": {
      "text/plain": [
       "\u001b[36mres53\u001b[39m: \u001b[32mList\u001b[39m[\u001b[32mTask\u001b[39m] = \u001b[33mList\u001b[39m(\n",
       "  \u001b[33mTask\u001b[39m(id = \u001b[32m\"program\"\u001b[39m, hours = \u001b[32m3\u001b[39m),\n",
       "  \u001b[33mTask\u001b[39m(id = \u001b[32m\"design\"\u001b[39m, hours = \u001b[32m2\u001b[39m),\n",
       "  \u001b[33mTask\u001b[39m(id = \u001b[32m\"abstract\"\u001b[39m, hours = \u001b[32m5\u001b[39m),\n",
       "  \u001b[33mTask\u001b[39m(id = \u001b[32m\"build\"\u001b[39m, hours = \u001b[32m3\u001b[39m),\n",
       "  \u001b[33mTask\u001b[39m(id = \u001b[32m\"call\"\u001b[39m, hours = \u001b[32m1\u001b[39m)\n",
       ")"
      ]
     },
     "execution_count": 53,
     "metadata": {},
     "output_type": "execute_result"
    }
   ],
   "source": [
    "tasks(org)"
   ]
  },
  {
   "cell_type": "code",
   "execution_count": 67,
   "metadata": {},
   "outputs": [
    {
     "data": {
      "text/plain": [
       "defined \u001b[32mfunction\u001b[39m \u001b[36mimpossibleTasks\u001b[39m"
      ]
     },
     "execution_count": 67,
     "metadata": {},
     "output_type": "execute_result"
    }
   ],
   "source": [
    "def impossibleTasks(org: Organization): List[Task.Id] =\n",
    "    taskIds(org).filter(tid => performerIds(tid)(org).isEmpty)"
   ]
  },
  {
   "cell_type": "code",
   "execution_count": 69,
   "metadata": {},
   "outputs": [
    {
     "data": {
      "text/plain": [
       "defined \u001b[32mfunction\u001b[39m \u001b[36mimpossibleTasks\u001b[39m"
      ]
     },
     "execution_count": 69,
     "metadata": {},
     "output_type": "execute_result"
    }
   ],
   "source": [
    "def impossibleTasks(org: Organization): List[Task.Id] =\n",
    "    taskIds(org).filter(performerIds(_)(org).isEmpty)"
   ]
  },
  {
   "cell_type": "code",
   "execution_count": 69,
   "metadata": {},
   "outputs": [
    {
     "data": {
      "text/plain": [
       "defined \u001b[32mfunction\u001b[39m \u001b[36mimpossibleTasks\u001b[39m"
      ]
     },
     "execution_count": 69,
     "metadata": {},
     "output_type": "execute_result"
    }
   ],
   "source": [
    "def impossibleTasks(org: Organization): List[Task.Id] =\n",
    "    taskIds(org).filter(performerIds(_)(org).isEmpty)"
   ]
  },
  {
   "cell_type": "markdown",
   "metadata": {},
   "source": [
    "or with pattern matching syntax:"
   ]
  },
  {
   "cell_type": "code",
   "execution_count": null,
   "metadata": {},
   "outputs": [],
   "source": [
    "def impossibleTasks(org: Organization): List[Task.Id] =\n",
    "    ???"
   ]
  },
  {
   "cell_type": "code",
   "execution_count": 68,
   "metadata": {},
   "outputs": [
    {
     "name": "stdout",
     "output_type": "stream",
     "text": [
      "\u001b[32mcell52$Helper$TestImpossibleTasks:\u001b[0m\n",
      "\u001b[32mimpossibleTasks\u001b[0m\n",
      "\u001b[32m- should work\u001b[0m\n"
     ]
    }
   ],
   "source": [
    "run(TestImpossibleTasks(impossibleTasks))"
   ]
  },
  {
   "cell_type": "markdown",
   "metadata": {},
   "source": [
    "But we can do it even better. We will endorse the following implementation that uses hight-level set operations (`diff`) and HOFs (`map`):"
   ]
  },
  {
   "cell_type": "code",
   "execution_count": 74,
   "metadata": {},
   "outputs": [
    {
     "data": {
      "text/plain": [
       "\u001b[36mres74\u001b[39m: \u001b[32mList\u001b[39m[\u001b[32mId\u001b[39m] = \u001b[33mList\u001b[39m(\u001b[32m\"program\"\u001b[39m)"
      ]
     },
     "execution_count": 74,
     "metadata": {},
     "output_type": "execute_result"
    }
   ],
   "source": [
    "\n",
    "taskIds(org) diff org.knows.map(_._2).distinct"
   ]
  },
  {
   "cell_type": "code",
   "execution_count": 75,
   "metadata": {},
   "outputs": [
    {
     "data": {
      "text/plain": [
       "defined \u001b[32mfunction\u001b[39m \u001b[36mimpossibleTasks\u001b[39m"
      ]
     },
     "execution_count": 75,
     "metadata": {},
     "output_type": "execute_result"
    }
   ],
   "source": [
    "def impossibleTasks(org: Organization): List[Task.Id] =\n",
    "    taskIds(org) diff org.knows.map(_._2)"
   ]
  },
  {
   "cell_type": "code",
   "execution_count": 76,
   "metadata": {},
   "outputs": [
    {
     "name": "stdout",
     "output_type": "stream",
     "text": [
      "\u001b[32mcell52$Helper$TestImpossibleTasks:\u001b[0m\n",
      "\u001b[32mimpossibleTasks\u001b[0m\n",
      "\u001b[32m- should work\u001b[0m\n"
     ]
    }
   ],
   "source": [
    "run(TestImpossibleTasks(impossibleTasks))"
   ]
  },
  {
   "cell_type": "markdown",
   "metadata": {},
   "source": [
    "Arguably, this implementation conveys the intent of the function more clearly. It's more _declarative_. Moreover, it is more reliable since it builds upon standard methods of the Scala library (`diff` and `map`). It's true that the imperative version is also easy to read, but this is only because this is such a very simple function. We will see later on more complex examples where the functional solution shines brighter. "
   ]
  },
  {
   "cell_type": "markdown",
   "metadata": {},
   "source": [
    "__Which tasks can be performed by the employees of a given department?__"
   ]
  },
  {
   "cell_type": "code",
   "execution_count": 19,
   "metadata": {},
   "outputs": [
    {
     "data": {
      "text/plain": [
       "\u001b[36mres19\u001b[39m: \u001b[32mList\u001b[39m[\u001b[32mId\u001b[39m] = \u001b[33mList\u001b[39m(\u001b[32m\"Cora\"\u001b[39m, \u001b[32m\"Edna\"\u001b[39m, \u001b[32m\"Drew\"\u001b[39m)"
      ]
     },
     "execution_count": 19,
     "metadata": {},
     "output_type": "execute_result"
    }
   ],
   "source": [
    "employeeIds(\"Research\")(org)"
   ]
  },
  {
   "cell_type": "code",
   "execution_count": 22,
   "metadata": {},
   "outputs": [
    {
     "data": {
      "text/plain": [
       "\u001b[36mres22_0\u001b[39m: \u001b[32mList\u001b[39m[\u001b[32mId\u001b[39m] = \u001b[33mList\u001b[39m(\u001b[32m\"abstract\"\u001b[39m, \u001b[32m\"build\"\u001b[39m, \u001b[32m\"design\"\u001b[39m)\n",
       "\u001b[36mres22_1\u001b[39m: \u001b[32mList\u001b[39m[\u001b[32mId\u001b[39m] = \u001b[33mList\u001b[39m(\u001b[32m\"abstract\"\u001b[39m, \u001b[32m\"call\"\u001b[39m, \u001b[32m\"design\"\u001b[39m)\n",
       "\u001b[36mres22_2\u001b[39m: \u001b[32mList\u001b[39m[\u001b[32mId\u001b[39m] = \u001b[33mList\u001b[39m(\u001b[32m\"abstract\"\u001b[39m, \u001b[32m\"design\"\u001b[39m)"
      ]
     },
     "execution_count": 22,
     "metadata": {},
     "output_type": "execute_result"
    }
   ],
   "source": [
    "capabilities(\"Cora\")(org)\n",
    "capabilities(\"Edna\")(org)\n",
    "capabilities(\"Drew\")(org)"
   ]
  },
  {
   "cell_type": "code",
   "execution_count": 37,
   "metadata": {},
   "outputs": [
    {
     "data": {
      "text/plain": [
       "\u001b[36mres37\u001b[39m: \u001b[32mList\u001b[39m[\u001b[32mList\u001b[39m[\u001b[32mId\u001b[39m]] = \u001b[33mList\u001b[39m(\n",
       "  \u001b[33mList\u001b[39m(\u001b[32m\"abstract\"\u001b[39m, \u001b[32m\"build\"\u001b[39m, \u001b[32m\"design\"\u001b[39m),\n",
       "  \u001b[33mList\u001b[39m(\u001b[32m\"abstract\"\u001b[39m, \u001b[32m\"call\"\u001b[39m, \u001b[32m\"design\"\u001b[39m),\n",
       "  \u001b[33mList\u001b[39m(\u001b[32m\"abstract\"\u001b[39m, \u001b[32m\"design\"\u001b[39m)\n",
       ")"
      ]
     },
     "execution_count": 37,
     "metadata": {},
     "output_type": "execute_result"
    }
   ],
   "source": [
    "employeeIds(\"Research\")(org)\n",
    "    .map((emp: Employee.Id) => capabilities(emp)(org): List[Task.Id])"
   ]
  },
  {
   "cell_type": "code",
   "execution_count": 38,
   "metadata": {},
   "outputs": [
    {
     "data": {
      "text/plain": [
       "\u001b[36mres38\u001b[39m: \u001b[32mList\u001b[39m[\u001b[32mInt\u001b[39m] = \u001b[33mList\u001b[39m(\u001b[32m4\u001b[39m, \u001b[32m4\u001b[39m, \u001b[32m4\u001b[39m)"
      ]
     },
     "execution_count": 38,
     "metadata": {},
     "output_type": "execute_result"
    }
   ],
   "source": [
    "employeeIds(\"Research\")(org)\n",
    "    .map((emp: Employee.Id) => emp.size)"
   ]
  },
  {
   "cell_type": "code",
   "execution_count": 24,
   "metadata": {},
   "outputs": [
    {
     "data": {
      "text/plain": [
       "\u001b[36mres24\u001b[39m: \u001b[32mList\u001b[39m[\u001b[32mString\u001b[39m] = \u001b[33mList\u001b[39m(\n",
       "  \u001b[32m\"abstract\"\u001b[39m,\n",
       "  \u001b[32m\"build\"\u001b[39m,\n",
       "  \u001b[32m\"design\"\u001b[39m,\n",
       "  \u001b[32m\"abstract\"\u001b[39m,\n",
       "  \u001b[32m\"call\"\u001b[39m,\n",
       "  \u001b[32m\"design\"\u001b[39m,\n",
       "  \u001b[32m\"abstract\"\u001b[39m,\n",
       "  \u001b[32m\"design\"\u001b[39m\n",
       ")"
      ]
     },
     "execution_count": 24,
     "metadata": {},
     "output_type": "execute_result"
    }
   ],
   "source": [
    "employeeIds(\"Research\")(org)\n",
    "    .map(emp => capabilities(emp)(org))\n",
    "    .flatten"
   ]
  },
  {
   "cell_type": "code",
   "execution_count": 26,
   "metadata": {},
   "outputs": [
    {
     "data": {
      "text/plain": [
       "\u001b[36mres26\u001b[39m: \u001b[32mList\u001b[39m[\u001b[32mString\u001b[39m] = \u001b[33mList\u001b[39m(\u001b[32m\"abstract\"\u001b[39m, \u001b[32m\"build\"\u001b[39m, \u001b[32m\"design\"\u001b[39m, \u001b[32m\"call\"\u001b[39m)"
      ]
     },
     "execution_count": 26,
     "metadata": {},
     "output_type": "execute_result"
    }
   ],
   "source": [
    "employeeIds(\"Research\")(org)\n",
    "    .flatMap(emp => capabilities(emp)(org))\n",
    "    .distinct"
   ]
  },
  {
   "cell_type": "code",
   "execution_count": 27,
   "metadata": {},
   "outputs": [
    {
     "data": {
      "text/plain": [
       "defined \u001b[32mclass\u001b[39m \u001b[36mTestAllTasks\u001b[39m"
      ]
     },
     "execution_count": 27,
     "metadata": {},
     "output_type": "execute_result"
    }
   ],
   "source": [
    "class TestAllTasks(\n",
    "    allTasks: Department.Id => Organization => List[Task.Id]\n",
    ") extends AnyFlatSpec with should.Matchers:\n",
    "\n",
    "    \"allTasks\" should \"work\" in:\n",
    "        allTasks(\"Product\")(org).toSet shouldBe \n",
    "            Set(\"build\")\n",
    "        allTasks(\"Quality\")(org).toSet shouldBe \n",
    "            Set()\n",
    "        allTasks(\"Sales\")(org).toSet shouldBe \n",
    "            Set(\"call\")\n",
    "        allTasks(\"Research\")(org).toSet shouldBe \n",
    "            Set(\"abstract\", \"build\", \"design\", \"call\")"
   ]
  },
  {
   "cell_type": "markdown",
   "metadata": {},
   "source": [
    "The basic queries of the data model allow us to obtain all the employees of an organization, and the tasks that they can perform. So, this a first step towards the solution:"
   ]
  },
  {
   "cell_type": "code",
   "execution_count": 28,
   "metadata": {},
   "outputs": [
    {
     "data": {
      "text/plain": [
       "defined \u001b[32mfunction\u001b[39m \u001b[36mallTasks\u001b[39m"
      ]
     },
     "execution_count": 28,
     "metadata": {},
     "output_type": "execute_result"
    }
   ],
   "source": [
    "// def allTasks(dpt: Department.Id)(org: Organization): List[Task.Id]\n",
    "def allTasks(dpt: Department.Id)(org: Organization): List[List[Task.Id]] = \n",
    "    ???"
   ]
  },
  {
   "cell_type": "markdown",
   "metadata": {},
   "source": [
    "However, this is not the signature that we need to implement, since we are returning a set of sets of tasks, not a set of tasks. In order to do it right we need also to _flatten_ the result, i.e. concatenate all the individual sets of tasks for each employee. In sum, we need the `flatMap` HOF:"
   ]
  },
  {
   "cell_type": "code",
   "execution_count": 29,
   "metadata": {},
   "outputs": [
    {
     "data": {
      "text/plain": [
       "defined \u001b[32mfunction\u001b[39m \u001b[36mallTasks\u001b[39m"
      ]
     },
     "execution_count": 29,
     "metadata": {},
     "output_type": "execute_result"
    }
   ],
   "source": [
    "def allTasks(dpt: Department.Id)(org: Organization): List[Task.Id] = \n",
    "    employeeIds(dpt)(org)\n",
    "        .flatMap(emp => capabilities(emp)(org))\n",
    "        .distinct"
   ]
  },
  {
   "cell_type": "code",
   "execution_count": 30,
   "metadata": {},
   "outputs": [
    {
     "name": "stdout",
     "output_type": "stream",
     "text": [
      "\u001b[32mcell27$Helper$TestAllTasks:\u001b[0m\n",
      "\u001b[32mallTasks\u001b[0m\n",
      "\u001b[32m- should work\u001b[0m\n"
     ]
    }
   ],
   "source": [
    "run(TestAllTasks(allTasks))"
   ]
  },
  {
   "cell_type": "markdown",
   "metadata": {},
   "source": [
    "__Compute the list of departments of an organization together with the number of tasks their employees can perform, sorted by the number of tasks__"
   ]
  },
  {
   "cell_type": "code",
   "execution_count": 47,
   "metadata": {},
   "outputs": [
    {
     "data": {
      "text/plain": [
       "defined \u001b[32mclass\u001b[39m \u001b[36mTestSortedDeps\u001b[39m"
      ]
     },
     "execution_count": 47,
     "metadata": {},
     "output_type": "execute_result"
    }
   ],
   "source": [
    "class TestSortedDeps(\n",
    "    sortedDeps: Organization => List[(Department.Id, Int)]\n",
    ") extends AnyFlatSpec with should.Matchers:\n",
    "    \n",
    "    \"sortedDeps\" should \"work\" in:\n",
    "        sortedDeps(org) shouldBe \n",
    "            List((\"Research\",4), (\"Product\",1), (\"Sales\",1), (\"Quality\",0))"
   ]
  },
  {
   "cell_type": "code",
   "execution_count": 49,
   "metadata": {},
   "outputs": [
    {
     "data": {
      "text/plain": [
       "\u001b[36mres49_0\u001b[39m: \u001b[32mBoolean\u001b[39m = \u001b[32mtrue\u001b[39m\n",
       "\u001b[36mres49_1\u001b[39m: \u001b[32mBoolean\u001b[39m = \u001b[32mfalse\u001b[39m"
      ]
     },
     "execution_count": 49,
     "metadata": {},
     "output_type": "execute_result"
    }
   ],
   "source": [
    "Set(1,2,3) == Set(3,2,1)\n",
    "List(1,2,3) == List(3,2,1)"
   ]
  },
  {
   "cell_type": "code",
   "execution_count": 32,
   "metadata": {},
   "outputs": [
    {
     "data": {
      "text/plain": [
       "\u001b[36mres32\u001b[39m: \u001b[32mList\u001b[39m[\u001b[32mId\u001b[39m] = \u001b[33mList\u001b[39m(\u001b[32m\"Product\"\u001b[39m, \u001b[32m\"Quality\"\u001b[39m, \u001b[32m\"Research\"\u001b[39m, \u001b[32m\"Sales\"\u001b[39m)"
      ]
     },
     "execution_count": 32,
     "metadata": {},
     "output_type": "execute_result"
    }
   ],
   "source": [
    "departmentIds(org)"
   ]
  },
  {
   "cell_type": "code",
   "execution_count": 35,
   "metadata": {},
   "outputs": [
    {
     "data": {
      "text/plain": [
       "\u001b[36mres35_0\u001b[39m: \u001b[32mInt\u001b[39m = \u001b[32m1\u001b[39m\n",
       "\u001b[36mres35_1\u001b[39m: \u001b[32mInt\u001b[39m = \u001b[32m0\u001b[39m\n",
       "\u001b[36mres35_2\u001b[39m: \u001b[32mInt\u001b[39m = \u001b[32m4\u001b[39m\n",
       "\u001b[36mres35_3\u001b[39m: \u001b[32mInt\u001b[39m = \u001b[32m1\u001b[39m"
      ]
     },
     "execution_count": 35,
     "metadata": {},
     "output_type": "execute_result"
    }
   ],
   "source": [
    "allTasks(\"Product\")(org).size\n",
    "allTasks(\"Quality\")(org).size\n",
    "allTasks(\"Research\")(org).size\n",
    "allTasks(\"Sales\")(org).size\n"
   ]
  },
  {
   "cell_type": "code",
   "execution_count": 55,
   "metadata": {},
   "outputs": [
    {
     "data": {
      "text/plain": [
       "\u001b[36mres55\u001b[39m: \u001b[32mList\u001b[39m[(\u001b[32mString\u001b[39m, \u001b[32mInt\u001b[39m)] = \u001b[33mList\u001b[39m(\n",
       "  (\u001b[32m\"Product\"\u001b[39m, \u001b[32m1\u001b[39m),\n",
       "  (\u001b[32m\"Quality\"\u001b[39m, \u001b[32m0\u001b[39m),\n",
       "  (\u001b[32m\"Research\"\u001b[39m, \u001b[32m4\u001b[39m),\n",
       "  (\u001b[32m\"Sales\"\u001b[39m, \u001b[32m1\u001b[39m)\n",
       ")"
      ]
     },
     "execution_count": 55,
     "metadata": {},
     "output_type": "execute_result"
    }
   ],
   "source": [
    "departmentIds(org)\n",
    "    .map: (dpt: Department.Id) =>\n",
    "        (dpt : Department.Id, allTasks(dpt)(org).size : Int)"
   ]
  },
  {
   "cell_type": "code",
   "execution_count": 55,
   "metadata": {},
   "outputs": [
    {
     "data": {
      "text/plain": [
       "\u001b[36mres55\u001b[39m: \u001b[32mList\u001b[39m[(\u001b[32mString\u001b[39m, \u001b[32mInt\u001b[39m)] = \u001b[33mList\u001b[39m(\n",
       "  (\u001b[32m\"Product\"\u001b[39m, \u001b[32m1\u001b[39m),\n",
       "  (\u001b[32m\"Quality\"\u001b[39m, \u001b[32m0\u001b[39m),\n",
       "  (\u001b[32m\"Research\"\u001b[39m, \u001b[32m4\u001b[39m),\n",
       "  (\u001b[32m\"Sales\"\u001b[39m, \u001b[32m1\u001b[39m)\n",
       ")"
      ]
     },
     "execution_count": 55,
     "metadata": {},
     "output_type": "execute_result"
    }
   ],
   "source": [
    "departmentIds(org)\n",
    "    .map: (dpt: Department.Id) =>\n",
    "        (dpt : Department.Id, allTasks(dpt)(org).size : Int)\n",
    "    .sortWith(??? : ((Department.Id, Int), (Department.Id, Int)) => Boolean)"
   ]
  },
  {
   "cell_type": "code",
   "execution_count": 58,
   "metadata": {},
   "outputs": [
    {
     "data": {
      "text/plain": [
       "\u001b[36mres58\u001b[39m: \u001b[32mList\u001b[39m[(\u001b[32mString\u001b[39m, \u001b[32mInt\u001b[39m)] = \u001b[33mList\u001b[39m(\n",
       "  (\u001b[32m\"Research\"\u001b[39m, \u001b[32m4\u001b[39m),\n",
       "  (\u001b[32m\"Sales\"\u001b[39m, \u001b[32m1\u001b[39m),\n",
       "  (\u001b[32m\"Product\"\u001b[39m, \u001b[32m1\u001b[39m),\n",
       "  (\u001b[32m\"Quality\"\u001b[39m, \u001b[32m0\u001b[39m)\n",
       ")"
      ]
     },
     "execution_count": 58,
     "metadata": {},
     "output_type": "execute_result"
    }
   ],
   "source": [
    "departmentIds(org)\n",
    "    .map: (dpt: Department.Id) =>\n",
    "        (dpt : Department.Id, allTasks(dpt)(org).size : Int)\n",
    "    .sortWith((t1: (Department.Id, Int), t2: (Department.Id, Int)) => \n",
    "        t1._2 < t2._2 : Boolean)\n",
    "    .reverse"
   ]
  },
  {
   "cell_type": "code",
   "execution_count": 59,
   "metadata": {},
   "outputs": [
    {
     "data": {
      "text/plain": [
       "\u001b[36mres59\u001b[39m: \u001b[32mList\u001b[39m[(\u001b[32mString\u001b[39m, \u001b[32mInt\u001b[39m)] = \u001b[33mList\u001b[39m(\n",
       "  (\u001b[32m\"Research\"\u001b[39m, \u001b[32m4\u001b[39m),\n",
       "  (\u001b[32m\"Product\"\u001b[39m, \u001b[32m1\u001b[39m),\n",
       "  (\u001b[32m\"Sales\"\u001b[39m, \u001b[32m1\u001b[39m),\n",
       "  (\u001b[32m\"Quality\"\u001b[39m, \u001b[32m0\u001b[39m)\n",
       ")"
      ]
     },
     "execution_count": 59,
     "metadata": {},
     "output_type": "execute_result"
    }
   ],
   "source": [
    "departmentIds(org)\n",
    "    .map: (dpt: Department.Id) =>\n",
    "        (dpt : Department.Id, allTasks(dpt)(org).size : Int)\n",
    "    .sortWith((t1: (Department.Id, Int), t2: (Department.Id, Int)) => \n",
    "        t1._2 > t2._2 : Boolean)"
   ]
  },
  {
   "cell_type": "code",
   "execution_count": 60,
   "metadata": {},
   "outputs": [
    {
     "data": {
      "text/plain": [
       "defined \u001b[32mfunction\u001b[39m \u001b[36msortedDeps\u001b[39m"
      ]
     },
     "execution_count": 60,
     "metadata": {},
     "output_type": "execute_result"
    }
   ],
   "source": [
    "def sortedDeps(org: Organization): List[(Department.Id, Int)] = \n",
    "    departmentIds(org)\n",
    "        .map: (dpt: Department.Id) =>\n",
    "            (dpt : Department.Id, allTasks(dpt)(org).size : Int)\n",
    "        .sortWith((t1: (Department.Id, Int), t2: (Department.Id, Int)) => \n",
    "            t1._2 > t2._2 : Boolean)"
   ]
  },
  {
   "cell_type": "code",
   "execution_count": 62,
   "metadata": {},
   "outputs": [
    {
     "data": {
      "text/plain": [
       "defined \u001b[32mfunction\u001b[39m \u001b[36msortedDeps\u001b[39m"
      ]
     },
     "execution_count": 62,
     "metadata": {},
     "output_type": "execute_result"
    }
   ],
   "source": [
    "def sortedDeps(org: Organization): List[(Department.Id, Int)] = \n",
    "    departmentIds(org)\n",
    "        .map: (dpt: Department.Id) =>\n",
    "            (dpt : Department.Id, allTasks(dpt)(org).size : Int)\n",
    "        .sortWith:  \n",
    "            case ((_, s1), (_, s2)) => s1 > s2 "
   ]
  },
  {
   "cell_type": "markdown",
   "metadata": {},
   "source": [
    "or with pattern matching syntax:"
   ]
  },
  {
   "cell_type": "code",
   "execution_count": null,
   "metadata": {},
   "outputs": [],
   "source": [
    "def sortedDeps(org: Organization): List[(Department.Id, Int)] = \n",
    "    ???"
   ]
  },
  {
   "cell_type": "code",
   "execution_count": 63,
   "metadata": {},
   "outputs": [
    {
     "name": "stdout",
     "output_type": "stream",
     "text": [
      "\u001b[32mcell47$Helper$TestSortedDeps:\u001b[0m\n",
      "\u001b[32msortedDeps\u001b[0m\n",
      "\u001b[32m- should work\u001b[0m\n"
     ]
    }
   ],
   "source": [
    "run(TestSortedDeps(sortedDeps))"
   ]
  },
  {
   "cell_type": "code",
   "execution_count": null,
   "metadata": {},
   "outputs": [],
   "source": [
    "List(1,6,2,3,5,0).sortWith(??? : (Int, Int) => Boolean)"
   ]
  },
  {
   "cell_type": "code",
   "execution_count": 52,
   "metadata": {},
   "outputs": [
    {
     "data": {
      "text/plain": [
       "\u001b[36mres52\u001b[39m: \u001b[32mList\u001b[39m[\u001b[32mInt\u001b[39m] = \u001b[33mList\u001b[39m(\u001b[32m0\u001b[39m, \u001b[32m1\u001b[39m, \u001b[32m2\u001b[39m, \u001b[32m3\u001b[39m, \u001b[32m5\u001b[39m, \u001b[32m6\u001b[39m)"
      ]
     },
     "execution_count": 52,
     "metadata": {},
     "output_type": "execute_result"
    }
   ],
   "source": [
    "List(1,6,2,3,5,0).sortWith((i1: Int, i2: Int) => i1 < i2 : Boolean)"
   ]
  },
  {
   "cell_type": "code",
   "execution_count": 53,
   "metadata": {},
   "outputs": [
    {
     "data": {
      "text/plain": [
       "\u001b[36mres53\u001b[39m: \u001b[32mList\u001b[39m[\u001b[32mInt\u001b[39m] = \u001b[33mList\u001b[39m(\u001b[32m0\u001b[39m, \u001b[32m1\u001b[39m, \u001b[32m2\u001b[39m, \u001b[32m3\u001b[39m, \u001b[32m5\u001b[39m, \u001b[32m6\u001b[39m)"
      ]
     },
     "execution_count": 53,
     "metadata": {},
     "output_type": "execute_result"
    }
   ],
   "source": [
    "List(1,6,2,3,5,0).sortWith(_ < _)"
   ]
  },
  {
   "cell_type": "code",
   "execution_count": 54,
   "metadata": {},
   "outputs": [
    {
     "data": {
      "text/plain": [
       "\u001b[36mres54\u001b[39m: \u001b[32mList\u001b[39m[\u001b[32mInt\u001b[39m] = \u001b[33mList\u001b[39m(\u001b[32m0\u001b[39m, \u001b[32m1\u001b[39m, \u001b[32m2\u001b[39m, \u001b[32m3\u001b[39m, \u001b[32m5\u001b[39m, \u001b[32m6\u001b[39m)"
      ]
     },
     "execution_count": 54,
     "metadata": {},
     "output_type": "execute_result"
    }
   ],
   "source": [
    "List(1,6,2,3,5,0).sortBy(i => i)"
   ]
  },
  {
   "cell_type": "markdown",
   "metadata": {},
   "source": [
    "__Which are the employees who can perform tasks of a given duration?__"
   ]
  },
  {
   "cell_type": "code",
   "execution_count": 79,
   "metadata": {},
   "outputs": [
    {
     "data": {
      "text/plain": [
       "defined \u001b[32mclass\u001b[39m \u001b[36mTestPersistentEmps\u001b[39m"
      ]
     },
     "execution_count": 79,
     "metadata": {},
     "output_type": "execute_result"
    }
   ],
   "source": [
    "class TestPersistentEmps(\n",
    "    persistentEmps: Int => Organization => List[Employee.Id]\n",
    ") extends AnyFlatSpec with should.Matchers:\n",
    "    \n",
    "    \"persistentEmps\" should \"work\" in:\n",
    "        persistentEmps(3)(org).toSet shouldBe \n",
    "            Set(\"Cora\", \"Drew\", \"Edna\")"
   ]
  },
  {
   "cell_type": "code",
   "execution_count": 64,
   "metadata": {},
   "outputs": [
    {
     "data": {
      "text/plain": [
       "\u001b[36mres64\u001b[39m: \u001b[32mList\u001b[39m[\u001b[32mId\u001b[39m] = \u001b[33mList\u001b[39m(\u001b[32m\"Alex\"\u001b[39m, \u001b[32m\"Fred\"\u001b[39m, \u001b[32m\"Bert\"\u001b[39m, \u001b[32m\"Cora\"\u001b[39m, \u001b[32m\"Edna\"\u001b[39m, \u001b[32m\"Drew\"\u001b[39m)"
      ]
     },
     "execution_count": 64,
     "metadata": {},
     "output_type": "execute_result"
    }
   ],
   "source": [
    "employeeIds(org)\n",
    "    .filter(??? : Employee.Id => Boolean)"
   ]
  },
  {
   "cell_type": "code",
   "execution_count": 68,
   "metadata": {},
   "outputs": [
    {
     "data": {
      "text/plain": [
       "\u001b[36mres68\u001b[39m: \u001b[32mList\u001b[39m[\u001b[32mId\u001b[39m] = \u001b[33mList\u001b[39m(\u001b[32m\"abstract\"\u001b[39m, \u001b[32m\"build\"\u001b[39m, \u001b[32m\"design\"\u001b[39m)"
      ]
     },
     "execution_count": 68,
     "metadata": {},
     "output_type": "execute_result"
    }
   ],
   "source": [
    "capabilities(\"Cora\")(org)"
   ]
  },
  {
   "cell_type": "code",
   "execution_count": 70,
   "metadata": {},
   "outputs": [
    {
     "data": {
      "text/plain": [
       "\u001b[36mres70_0\u001b[39m: \u001b[32mList\u001b[39m[\u001b[32mTask\u001b[39m] = \u001b[33mList\u001b[39m(\u001b[33mTask\u001b[39m(id = \u001b[32m\"abstract\"\u001b[39m, hours = \u001b[32m5\u001b[39m))\n",
       "\u001b[36mres70_1\u001b[39m: \u001b[32mList\u001b[39m[\u001b[32mTask\u001b[39m] = \u001b[33mList\u001b[39m(\u001b[33mTask\u001b[39m(id = \u001b[32m\"build\"\u001b[39m, hours = \u001b[32m3\u001b[39m))\n",
       "\u001b[36mres70_2\u001b[39m: \u001b[32mList\u001b[39m[\u001b[32mTask\u001b[39m] = \u001b[33mList\u001b[39m(\u001b[33mTask\u001b[39m(id = \u001b[32m\"design\"\u001b[39m, hours = \u001b[32m2\u001b[39m))"
      ]
     },
     "execution_count": 70,
     "metadata": {},
     "output_type": "execute_result"
    }
   ],
   "source": [
    "\n",
    "getTask(\"abstract\")(org)\n",
    "getTask(\"build\")(org)\n",
    "getTask(\"design\")(org)"
   ]
  },
  {
   "cell_type": "code",
   "execution_count": 71,
   "metadata": {},
   "outputs": [
    {
     "data": {
      "text/plain": [
       "\u001b[36mres71\u001b[39m: \u001b[32mList\u001b[39m[\u001b[32mList\u001b[39m[\u001b[32mTask\u001b[39m]] = \u001b[33mList\u001b[39m(\n",
       "  \u001b[33mList\u001b[39m(\u001b[33mTask\u001b[39m(id = \u001b[32m\"abstract\"\u001b[39m, hours = \u001b[32m5\u001b[39m)),\n",
       "  \u001b[33mList\u001b[39m(\u001b[33mTask\u001b[39m(id = \u001b[32m\"build\"\u001b[39m, hours = \u001b[32m3\u001b[39m)),\n",
       "  \u001b[33mList\u001b[39m(\u001b[33mTask\u001b[39m(id = \u001b[32m\"design\"\u001b[39m, hours = \u001b[32m2\u001b[39m))\n",
       ")"
      ]
     },
     "execution_count": 71,
     "metadata": {},
     "output_type": "execute_result"
    }
   ],
   "source": [
    "capabilities(\"Cora\")(org)\n",
    "    .map(tid => getTask(tid)(org))"
   ]
  },
  {
   "cell_type": "code",
   "execution_count": 72,
   "metadata": {},
   "outputs": [
    {
     "data": {
      "text/plain": [
       "\u001b[36mres72\u001b[39m: \u001b[32mList\u001b[39m[\u001b[32mTask\u001b[39m] = \u001b[33mList\u001b[39m(\n",
       "  \u001b[33mTask\u001b[39m(id = \u001b[32m\"abstract\"\u001b[39m, hours = \u001b[32m5\u001b[39m),\n",
       "  \u001b[33mTask\u001b[39m(id = \u001b[32m\"build\"\u001b[39m, hours = \u001b[32m3\u001b[39m),\n",
       "  \u001b[33mTask\u001b[39m(id = \u001b[32m\"design\"\u001b[39m, hours = \u001b[32m2\u001b[39m)\n",
       ")"
      ]
     },
     "execution_count": 72,
     "metadata": {},
     "output_type": "execute_result"
    }
   ],
   "source": [
    "capabilities(\"Cora\")(org)\n",
    "    .flatMap(tid => getTask(tid)(org))"
   ]
  },
  {
   "cell_type": "code",
   "execution_count": 76,
   "metadata": {},
   "outputs": [
    {
     "data": {
      "text/plain": [
       "\u001b[36mres76\u001b[39m: \u001b[32mBoolean\u001b[39m = \u001b[32mtrue\u001b[39m"
      ]
     },
     "execution_count": 76,
     "metadata": {},
     "output_type": "execute_result"
    }
   ],
   "source": [
    "capabilities(\"Cora\")(org)\n",
    "    .flatMap(tid => getTask(tid)(org))\n",
    "    .filter(t => t.hours > 3)\n",
    "    .nonEmpty"
   ]
  },
  {
   "cell_type": "code",
   "execution_count": 77,
   "metadata": {},
   "outputs": [
    {
     "data": {
      "text/plain": [
       "\u001b[36mres77\u001b[39m: \u001b[32mList\u001b[39m[\u001b[32mId\u001b[39m] = \u001b[33mList\u001b[39m(\u001b[32m\"Cora\"\u001b[39m, \u001b[32m\"Edna\"\u001b[39m, \u001b[32m\"Drew\"\u001b[39m)"
      ]
     },
     "execution_count": 77,
     "metadata": {},
     "output_type": "execute_result"
    }
   ],
   "source": [
    "employeeIds(org)\n",
    "    .filter: emp => \n",
    "        capabilities(emp)(org)\n",
    "            .flatMap(tid => getTask(tid)(org))\n",
    "            .filter(t => t.hours > 3)\n",
    "            .nonEmpty"
   ]
  },
  {
   "cell_type": "code",
   "execution_count": 73,
   "metadata": {},
   "outputs": [
    {
     "data": {
      "text/plain": [
       "\u001b[36mres73\u001b[39m: \u001b[32mBoolean\u001b[39m = \u001b[32mtrue\u001b[39m"
      ]
     },
     "execution_count": 73,
     "metadata": {},
     "output_type": "execute_result"
    }
   ],
   "source": [
    "Task(\"abstract\", 5).hours > 3"
   ]
  },
  {
   "cell_type": "code",
   "execution_count": 80,
   "metadata": {},
   "outputs": [
    {
     "data": {
      "text/plain": [
       "defined \u001b[32mfunction\u001b[39m \u001b[36mpersistentEmps\u001b[39m"
      ]
     },
     "execution_count": 80,
     "metadata": {},
     "output_type": "execute_result"
    }
   ],
   "source": [
    "def persistentEmps(min: Int)(org: Organization): List[Employee.Id] = \n",
    "    employeeIds(org)\n",
    "        .filter: emp => \n",
    "            capabilities(emp)(org)\n",
    "                .flatMap(tid => getTask(tid)(org))\n",
    "                .filter(t => t.hours > min)\n",
    "                .nonEmpty"
   ]
  },
  {
   "cell_type": "code",
   "execution_count": 87,
   "metadata": {},
   "outputs": [
    {
     "data": {
      "text/plain": [
       "defined \u001b[32mfunction\u001b[39m \u001b[36mpersistentEmps\u001b[39m"
      ]
     },
     "execution_count": 87,
     "metadata": {},
     "output_type": "execute_result"
    }
   ],
   "source": [
    "def persistentEmps(min: Int)(org: Organization): List[Employee.Id] = \n",
    "    employeeIds(org)\n",
    "        .filter: emp => \n",
    "            capabilities(emp)(org)\n",
    "                .flatMap(tid => getTask(tid)(org))\n",
    "                .exists(t => t.hours > min)"
   ]
  },
  {
   "cell_type": "code",
   "execution_count": 83,
   "metadata": {},
   "outputs": [
    {
     "data": {
      "text/plain": [
       "\u001b[36mres83\u001b[39m: \u001b[32mBoolean\u001b[39m = \u001b[32mtrue\u001b[39m"
      ]
     },
     "execution_count": 83,
     "metadata": {},
     "output_type": "execute_result"
    }
   ],
   "source": [
    "List(1,2,3,4,5).filter(_ % 2 == 0).nonEmpty"
   ]
  },
  {
   "cell_type": "code",
   "execution_count": 85,
   "metadata": {},
   "outputs": [
    {
     "data": {
      "text/plain": [
       "\u001b[36mres85\u001b[39m: \u001b[32mBoolean\u001b[39m = \u001b[32mtrue\u001b[39m"
      ]
     },
     "execution_count": 85,
     "metadata": {},
     "output_type": "execute_result"
    }
   ],
   "source": [
    "List(1,2,3,4,5).exists(_ % 2 == 0)"
   ]
  },
  {
   "cell_type": "code",
   "execution_count": 84,
   "metadata": {},
   "outputs": [
    {
     "data": {
      "text/plain": [
       "\u001b[36mres84\u001b[39m: \u001b[32mBoolean\u001b[39m = \u001b[32mfalse\u001b[39m"
      ]
     },
     "execution_count": 84,
     "metadata": {},
     "output_type": "execute_result"
    }
   ],
   "source": [
    "List(1,3,5).filter(_ % 2 == 0).nonEmpty"
   ]
  },
  {
   "cell_type": "code",
   "execution_count": 86,
   "metadata": {},
   "outputs": [
    {
     "data": {
      "text/plain": [
       "\u001b[36mres86\u001b[39m: \u001b[32mBoolean\u001b[39m = \u001b[32mtrue\u001b[39m"
      ]
     },
     "execution_count": 86,
     "metadata": {},
     "output_type": "execute_result"
    }
   ],
   "source": [
    "List(1,3,5).forall(_ % 2 != 0)"
   ]
  },
  {
   "cell_type": "markdown",
   "metadata": {},
   "source": [
    "Alterrnatively, we can also bet by with `filter` and `exists`:"
   ]
  },
  {
   "cell_type": "code",
   "execution_count": null,
   "metadata": {},
   "outputs": [],
   "source": [
    "def persistentEmps(min: Int)(org: Organization): List[Employee.Id] = \n",
    "    ???"
   ]
  },
  {
   "cell_type": "code",
   "execution_count": 88,
   "metadata": {},
   "outputs": [
    {
     "name": "stdout",
     "output_type": "stream",
     "text": [
      "\u001b[32mcell79$Helper$TestPersistentEmps:\u001b[0m\n",
      "\u001b[32mpersistentEmps\u001b[0m\n",
      "\u001b[32m- should work\u001b[0m\n"
     ]
    }
   ],
   "source": [
    "run(TestPersistentEmps(persistentEmps))"
   ]
  },
  {
   "cell_type": "markdown",
   "metadata": {},
   "source": [
    "__Which are the departments whose employees, as a team, know how to perform a given set of tasks?__"
   ]
  },
  {
   "cell_type": "code",
   "execution_count": null,
   "metadata": {},
   "outputs": [],
   "source": [
    "class TestDptsThatKnowHowTo(\n",
    "    dptsThatKnowHowTo: Set[Task.Id] => Organization => List[Department.Id]\n",
    ") extends AnyFlatSpec with should.Matchers:\n",
    "    \n",
    "    \"dptsThatKnowHowTo\" should \"work\" in:\n",
    "        dptsThatKnowHowTo(Set())(org).toSet shouldBe \n",
    "            Set(\"Sales\", \"Product\", \"Quality\", \"Research\")\n",
    "        dptsThatKnowHowTo(Set(\"call\"))(org).toSet shouldBe \n",
    "            Set(\"Sales\", \"Research\")\n",
    "        dptsThatKnowHowTo(Set(\"call\", \"abstract\"))(org).toSet shouldBe \n",
    "            Set(\"Research\")"
   ]
  },
  {
   "cell_type": "markdown",
   "metadata": {},
   "source": [
    "We can build upon the previous function `allTasks`:"
   ]
  },
  {
   "cell_type": "code",
   "execution_count": null,
   "metadata": {},
   "outputs": [],
   "source": [
    "def dptsThatKnowHowTo(tasks: Set[Task.Id])(org: Organization): List[Department.Id] = \n",
    "    ???"
   ]
  },
  {
   "cell_type": "code",
   "execution_count": null,
   "metadata": {},
   "outputs": [],
   "source": [
    "run(TestDptsThatKnowHowTo(dptsThatKnowHowTo))"
   ]
  },
  {
   "cell_type": "markdown",
   "metadata": {},
   "source": [
    "__Obtain a list of employees sorted by the number of tasks that they can perform__"
   ]
  },
  {
   "cell_type": "code",
   "execution_count": null,
   "metadata": {},
   "outputs": [],
   "source": [
    "class TestSortedEmployees(\n",
    "    sortedEmployees: Organization => List[(Employee.Id, Int)]\n",
    ") extends AnyFlatSpec with should.Matchers:\n",
    "    \n",
    "    \"sortedEmployees\" should \"work\" in:\n",
    "        sortedEmployees(org) shouldBe \n",
    "            List(\n",
    "              (\"Alex\", 1),\n",
    "              (\"Fred\", 1),\n",
    "              (\"Bert\", 1),\n",
    "              (\"Drew\", 2),\n",
    "              (\"Cora\", 3),\n",
    "              (\"Edna\", 3))"
   ]
  },
  {
   "cell_type": "markdown",
   "metadata": {},
   "source": [
    "We may attempt the following:"
   ]
  },
  {
   "cell_type": "code",
   "execution_count": null,
   "metadata": {},
   "outputs": [],
   "source": [
    "def sortedEmployees(org: Organization): List[(Employee.Id, Int)] = \n",
    "    ???"
   ]
  },
  {
   "cell_type": "markdown",
   "metadata": {},
   "source": [
    "and this is almost right: we are missing those employees that can't perform any task. This is the right one:"
   ]
  },
  {
   "cell_type": "code",
   "execution_count": null,
   "metadata": {},
   "outputs": [],
   "source": [
    "def sortedEmployees(org: Organization): List[(Employee.Id, Int)] = \n",
    "    ???"
   ]
  },
  {
   "cell_type": "code",
   "execution_count": null,
   "metadata": {},
   "outputs": [],
   "source": [
    "run(TestSortedEmployees(sortedEmployees))"
   ]
  },
  {
   "cell_type": "markdown",
   "metadata": {},
   "source": [
    "__Which are the departments whose employees are all able to perform a given task?__"
   ]
  },
  {
   "cell_type": "code",
   "execution_count": null,
   "metadata": {},
   "outputs": [],
   "source": [
    "class TestExpertDepsIn(\n",
    "    expertDpts: Task.Id => Organization => List[Department.Id]\n",
    ") extends AnyFlatSpec with should.Matchers:\n",
    "    \n",
    "    \"expertDpts\" should \"work\" in:\n",
    "        expertDpts(\"abstract\")(org).toSet shouldBe \n",
    "            Set(\"Quality\", \"Research\")"
   ]
  },
  {
   "cell_type": "markdown",
   "metadata": {},
   "source": [
    "The conventional imperative solution is quite complex: "
   ]
  },
  {
   "cell_type": "code",
   "execution_count": null,
   "metadata": {},
   "outputs": [],
   "source": [
    "def expertDepsIn(task: Task.Id)(org: Organization): List[Department.Id] =\n",
    "    ???"
   ]
  },
  {
   "cell_type": "code",
   "execution_count": null,
   "metadata": {},
   "outputs": [],
   "source": [
    "run(new TestExpertDepsIn(expertDepsIn))"
   ]
  },
  {
   "cell_type": "markdown",
   "metadata": {},
   "source": [
    "This is not only more complex to understand, but prone to error. In order to obtain a simpler (and functional) solution by first declaring in plain natural language the intended query:"
   ]
  },
  {
   "cell_type": "code",
   "execution_count": null,
   "metadata": {},
   "outputs": [],
   "source": [
    "def expertDepsIn(tsk: Task.Id)(org: Organization): List[Department.Id] = \n",
    "    // From all the departments of the organization, choose\n",
    "    // those that for all its employees\n",
    "    // the specified task is included in their capabilities\n",
    "    ???"
   ]
  },
  {
   "cell_type": "markdown",
   "metadata": {},
   "source": [
    "Then, we can formalize the natural language specification by relying on standard HOFs (`filter`, `forall`) and collection operations (`contains`):"
   ]
  },
  {
   "cell_type": "code",
   "execution_count": null,
   "metadata": {},
   "outputs": [],
   "source": [
    "def expertDepsIn(tsk: Task.Id)(org: Organization): List[Department.Id] = \n",
    "    ???"
   ]
  },
  {
   "cell_type": "code",
   "execution_count": null,
   "metadata": {},
   "outputs": [],
   "source": [
    "run(TestExpertDepsIn(expertDepsIn))"
   ]
  }
 ],
 "metadata": {
  "kernelspec": {
   "display_name": "Scala 3.3",
   "language": "scala",
   "name": "scala33"
  },
  "language_info": {
   "codemirror_mode": "text/x-scala",
   "file_extension": ".sc",
   "mimetype": "text/x-scala",
   "name": "scala",
   "nbconvert_exporter": "script",
   "version": "2.13.12"
  }
 },
 "nbformat": 4,
 "nbformat_minor": 4
}
