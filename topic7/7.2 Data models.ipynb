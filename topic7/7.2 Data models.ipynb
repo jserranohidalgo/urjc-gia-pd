{
 "cells": [
  {
   "cell_type": "markdown",
   "metadata": {
    "tags": []
   },
   "source": [
    "### Preamble"
   ]
  },
  {
   "cell_type": "code",
   "execution_count": 1,
   "metadata": {},
   "outputs": [
    {
     "data": {
      "text/plain": [
       "\u001b[32mimport \u001b[39m\u001b[36m$ivy.$                                \n",
       "\u001b[39m\n",
       "\u001b[32mimport \u001b[39m\u001b[36morg.scalatest.{Filter => _, _}, flatspec._, matchers._\n",
       "\u001b[39m"
      ]
     },
     "execution_count": 1,
     "metadata": {},
     "output_type": "execute_result"
    }
   ],
   "source": [
    "import $ivy.`org.scalatest::scalatest:3.2.16`\n",
    "import org.scalatest.{Filter => _, _}, flatspec._, matchers._"
   ]
  },
  {
   "cell_type": "markdown",
   "metadata": {},
   "source": [
    "# Topic 7. Applications"
   ]
  },
  {
   "cell_type": "markdown",
   "metadata": {},
   "source": [
    "## 7.2 Implementing & querying data models"
   ]
  },
  {
   "cell_type": "markdown",
   "metadata": {},
   "source": [
    "The Scala collections library greatly facilitate the implementation and querying of data models. For instance, the following classes model the structure of an organization which consists of departments, employees and tasks that employees can perform. "
   ]
  },
  {
   "cell_type": "code",
   "execution_count": 3,
   "metadata": {},
   "outputs": [
    {
     "data": {
      "text/plain": [
       "defined \u001b[32mclass\u001b[39m \u001b[36mDepartment\u001b[39m\n",
       "defined \u001b[32mobject\u001b[39m \u001b[36mDepartment\u001b[39m\n",
       "defined \u001b[32mclass\u001b[39m \u001b[36mEmployee\u001b[39m\n",
       "defined \u001b[32mobject\u001b[39m \u001b[36mEmployee\u001b[39m\n",
       "defined \u001b[32mclass\u001b[39m \u001b[36mTask\u001b[39m\n",
       "defined \u001b[32mobject\u001b[39m \u001b[36mTask\u001b[39m\n",
       "defined \u001b[32mclass\u001b[39m \u001b[36mOrganization\u001b[39m"
      ]
     },
     "execution_count": 3,
     "metadata": {},
     "output_type": "execute_result"
    }
   ],
   "source": [
    "// departments\n",
    "\n",
    "case class Department(id: Department.Id)\n",
    "object Department:\n",
    "    type Id = String\n",
    "\n",
    "// Employees\n",
    "\n",
    "case class Employee(id: Employee.Id, dpt: Department.Id)\n",
    "object Employee:\n",
    "    type Id = String\n",
    "\n",
    "// tasks \n",
    "\n",
    "case class Task(id: Task.Id, hours: Int)\n",
    "object Task:\n",
    "    type Id = String\n",
    "\n",
    "// The whole organization\n",
    "\n",
    "case class Organization(\n",
    "    departments: Map[Department.Id, Department], \n",
    "    employees: Map[Employee.Id, Employee], \n",
    "    tasks: Map[Task.Id, Task],\n",
    "    knows: List[(Employee.Id, Task.Id)])"
   ]
  },
  {
   "cell_type": "markdown",
   "metadata": {},
   "source": [
    "This implementation is an example of a _flat_ data model. The key feature of these kinds of models are that the different entities (employees, departments and tasks, in this case) refer to each other by using _keys_. This is a possible instance of the organization data model:"
   ]
  },
  {
   "cell_type": "code",
   "execution_count": 4,
   "metadata": {},
   "outputs": [
    {
     "data": {
      "text/plain": [
       "\u001b[36morg\u001b[39m: \u001b[32mOrganization\u001b[39m = \u001b[33mOrganization\u001b[39m(\n",
       "  departments = \u001b[33mMap\u001b[39m(\n",
       "    \u001b[32m\"Product\"\u001b[39m -> \u001b[33mDepartment\u001b[39m(id = \u001b[32m\"Product\"\u001b[39m),\n",
       "    \u001b[32m\"Quality\"\u001b[39m -> \u001b[33mDepartment\u001b[39m(id = \u001b[32m\"Quality\"\u001b[39m),\n",
       "    \u001b[32m\"Research\"\u001b[39m -> \u001b[33mDepartment\u001b[39m(id = \u001b[32m\"Research\"\u001b[39m),\n",
       "    \u001b[32m\"Sales\"\u001b[39m -> \u001b[33mDepartment\u001b[39m(id = \u001b[32m\"Sales\"\u001b[39m)\n",
       "  ),\n",
       "  employees = \u001b[33mHashMap\u001b[39m(\n",
       "    \u001b[32m\"Alex\"\u001b[39m -> \u001b[33mEmployee\u001b[39m(id = \u001b[32m\"Alex\"\u001b[39m, dpt = \u001b[32m\"Product\"\u001b[39m),\n",
       "    \u001b[32m\"Fred\"\u001b[39m -> \u001b[33mEmployee\u001b[39m(id = \u001b[32m\"Fred\"\u001b[39m, dpt = \u001b[32m\"Sales\"\u001b[39m),\n",
       "    \u001b[32m\"Bert\"\u001b[39m -> \u001b[33mEmployee\u001b[39m(id = \u001b[32m\"Bert\"\u001b[39m, dpt = \u001b[32m\"Product\"\u001b[39m),\n",
       "    \u001b[32m\"Cora\"\u001b[39m -> \u001b[33mEmployee\u001b[39m(id = \u001b[32m\"Cora\"\u001b[39m, dpt = \u001b[32m\"Research\"\u001b[39m),\n",
       "    \u001b[32m\"Edna\"\u001b[39m -> \u001b[33mEmployee\u001b[39m(id = \u001b[32m\"Edna\"\u001b[39m, dpt = \u001b[32m\"Research\"\u001b[39m),\n",
       "    \u001b[32m\"Drew\"\u001b[39m -> \u001b[33mEmployee\u001b[39m(id = \u001b[32m\"Drew\"\u001b[39m, dpt = \u001b[32m\"Research\"\u001b[39m)\n",
       "  ),\n",
       "  tasks = \u001b[33mHashMap\u001b[39m(\n",
       "    \u001b[32m\"program\"\u001b[39m -> \u001b[33mTask\u001b[39m(id = \u001b[32m\"program\"\u001b[39m, hours = \u001b[32m3\u001b[39m),\n",
       "    \u001b[32m\"design\"\u001b[39m -> \u001b[33mTask\u001b[39m(id = \u001b[32m\"design\"\u001b[39m, hours = \u001b[32m2\u001b[39m),\n",
       "    \u001b[32m\"abstract\"\u001b[39m -> \u001b[33mTask\u001b[39m(id = \u001b[32m\"abstract\"\u001b[39m, hours = \u001b[32m5\u001b[39m),\n",
       "    \u001b[32m\"build\"\u001b[39m -> \u001b[33mTask\u001b[39m(id = \u001b[32m\"build\"\u001b[39m, hours = \u001b[32m3\u001b[39m),\n",
       "    \u001b[32m\"call\"\u001b[39m -> \u001b[33mTask\u001b[39m(id = \u001b[32m\"call\"\u001b[39m, hours = \u001b[32m1\u001b[39m)\n",
       "  ),\n",
       "  knows = \u001b[33mList\u001b[39m(\n",
       "    (\u001b[32m\"Alex\"\u001b[39m, \u001b[32m\"build\"\u001b[39m),\n",
       "    (\u001b[32m\"Bert\"\u001b[39m, \u001b[32m\"build\"\u001b[39m),\n",
       "    (\u001b[32m\"Cora\"\u001b[39m, \u001b[32m\"abstract\"\u001b[39m),\n",
       "    (\u001b[32m\"Cora\"\u001b[39m, \u001b[32m\"build\"\u001b[39m),\n",
       "    (\u001b[32m\"Cora\"\u001b[39m, \u001b[32m\"design\"\u001b[39m),\n",
       "    (\u001b[32m\"Drew\"\u001b[39m, \u001b[32m\"abstract\"\u001b[39m),\n",
       "    (\u001b[32m\"Drew\"\u001b[39m, \u001b[32m\"design\"\u001b[39m),\n",
       "    (\u001b[32m\"Edna\"\u001b[39m, \u001b[32m\"abstract\"\u001b[39m),\n",
       "    (\u001b[32m\"Edna\"\u001b[39m, \u001b[32m\"call\"\u001b[39m),\n",
       "    (\u001b[32m\"Edna\"\u001b[39m, \u001b[32m\"design\"\u001b[39m),\n",
       "    (\u001b[32m\"Fred\"\u001b[39m, \u001b[32m\"call\"\u001b[39m)\n",
       "  )\n",
       ")"
      ]
     },
     "execution_count": 4,
     "metadata": {},
     "output_type": "execute_result"
    }
   ],
   "source": [
    "val org: Organization = Organization(\n",
    "    Map(\n",
    "        \"Product\"  -> Department(\"Product\"),\n",
    "        \"Quality\"  -> Department(\"Quality\"),\n",
    "        \"Research\" -> Department(\"Research\"),\n",
    "        \"Sales\"    -> Department(\"Sales\")),\n",
    "    \n",
    "    Map(\"Alex\"     -> Employee(\"Alex\", \"Product\"), \n",
    "        \"Bert\"     -> Employee(\"Bert\", \"Product\"), \n",
    "        \"Cora\"     -> Employee(\"Cora\", \"Research\"), \n",
    "        \"Drew\"     -> Employee(\"Drew\", \"Research\"), \n",
    "        \"Edna\"     -> Employee(\"Edna\", \"Research\"), \n",
    "        \"Fred\"     -> Employee(\"Fred\", \"Sales\")),\n",
    "    \n",
    "    Map(\"build\"    -> Task(\"build\", 3), \n",
    "        \"abstract\" -> Task(\"abstract\", 5), \n",
    "        \"design\"   -> Task(\"design\", 2),\n",
    "        \"call\"     -> Task(\"call\", 1),\n",
    "        \"program\"  -> Task(\"program\", 3)),\n",
    "    \n",
    "    List(\n",
    "        (\"Alex\", \"build\"),\n",
    "        (\"Bert\", \"build\"),\n",
    "        (\"Cora\", \"abstract\"),\n",
    "        (\"Cora\", \"build\"),\n",
    "        (\"Cora\", \"design\"),\n",
    "        (\"Drew\", \"abstract\"),\n",
    "        (\"Drew\", \"design\"),\n",
    "        (\"Edna\", \"abstract\"),\n",
    "        (\"Edna\", \"call\"),\n",
    "        (\"Edna\", \"design\"),\n",
    "        (\"Fred\", \"call\")))"
   ]
  },
  {
   "cell_type": "markdown",
   "metadata": {},
   "source": [
    "Flat data models are actually very close to the common _relational_ data models used in SQL persistent stores. This is the equivalent relational model of the organization database: "
   ]
  },
  {
   "cell_type": "markdown",
   "metadata": {},
   "source": [
    "![](../images/relational-model.png)"
   ]
  },
  {
   "cell_type": "markdown",
   "metadata": {},
   "source": [
    "According to this mapping: \n",
    "- The `Organization` class represents the whole relational _database_.\n",
    "- Members of this class correspond to the different _tables_ of the database, represented as `Map`s or simple `Set`s. We have four tables: the table of departments, employees, tasks, and a table which stores which tasks employees can perform.\n",
    "- The key type of `Map` can be understood as the primary key of the relational table. The value type specifies the columns of the table. By convention, the identifier type is defined by the `Id` type alias in the companion object of the value type. For instance, the `employees` table is indexed by the employee identifier (a string value), and stores the department to which the employee belongs to.\n",
    "- If the primary key consists of several keys, as in the `knows` table, we use tuples. \n",
    "- If the table just consists of the key (simple or composed) we use `Set` instead of `Map` (as the `knows` table also illustrates).\n",
    "\n"
   ]
  },
  {
   "cell_type": "markdown",
   "metadata": {},
   "source": [
    "## Basic queries"
   ]
  },
  {
   "cell_type": "markdown",
   "metadata": {},
   "source": [
    "Complex queries typically builds upon basic queries which are directly related to the structure of the data model. In particular, they are identified from the primary key and foreign-key relations in the relational model. In the organizational database we can identify the following queries:"
   ]
  },
  {
   "cell_type": "code",
   "execution_count": 6,
   "metadata": {},
   "outputs": [
    {
     "data": {
      "text/plain": [
       "defined \u001b[32mobject\u001b[39m \u001b[36mBasicQueries\u001b[39m\n",
       "\u001b[32mimport \u001b[39m\u001b[36mBasicQueries._\n",
       "\u001b[39m"
      ]
     },
     "execution_count": 6,
     "metadata": {},
     "output_type": "execute_result"
    }
   ],
   "source": [
    "\n",
    "object BasicQueries:\n",
    "\n",
    "    // Entities\n",
    "    \n",
    "    def departments(org: Organization): List[Department] = \n",
    "        org.departments.values.toList\n",
    "\n",
    "    def departmentIds(org: Organization): List[Department.Id] = \n",
    "        org.departments.keys.toList\n",
    "    \n",
    "    def getDepartment(id: Department.Id)(org: Organization): List[Department] = \n",
    "        org.departments.get(id).toList\n",
    "\n",
    "    def employees(org: Organization): List[Employee] = \n",
    "        org.employees.values.toList\n",
    "\n",
    "    def employeeIds(org: Organization): List[Employee.Id] = \n",
    "        org.employees.keys.toList\n",
    "\n",
    "    def getEmployee(id: Employee.Id)(org: Organization): List[Employee] = \n",
    "        org.employees.get(id).toList\n",
    "\n",
    "    def tasks(org: Organization): List[Task] = \n",
    "        org.tasks.values.toList\n",
    "\n",
    "    def taskIds(org: Organization): List[Task.Id] = \n",
    "        org.tasks.keys.toList\n",
    "\n",
    "    def getTask(id: Task.Id)(org: Organization): List[Task] = \n",
    "        org.tasks.get(id).toList\n",
    "    \n",
    "    // 1-N relationships\n",
    "    \n",
    "    def employeeIds(dpt: Department.Id)(org: Organization): List[Employee.Id] = \n",
    "        org.employees.filter(_._2.dpt == dpt).map(_._1).toList\n",
    "    \n",
    "    // N-M relationships\n",
    "    \n",
    "    def capabilities(emp: Employee.Id)(org: Organization): List[Task.Id] = \n",
    "        org.knows.filter(_._1 == emp).map(_._2)\n",
    "\n",
    "    def performerIds(tsk: Task.Id)(org: Organization): List[Employee.Id] = \n",
    "        org.knows.filter(_._2 == tsk).map(_._1)\n",
    "\n",
    "import BasicQueries._"
   ]
  },
  {
   "cell_type": "markdown",
   "metadata": {},
   "source": [
    "## Sample queries"
   ]
  },
  {
   "cell_type": "markdown",
   "metadata": {},
   "source": [
    "__Which are the tasks of the organization which can't be performed by any employee?__"
   ]
  },
  {
   "cell_type": "code",
   "execution_count": null,
   "metadata": {},
   "outputs": [],
   "source": [
    "class TestImpossibleTasks(\n",
    "    impossibleTasks: Organization => List[Task.Id]\n",
    ") extends AnyFlatSpec with should.Matchers:\n",
    "    \n",
    "    \"impossibleTasks\" should \"work\" in:\n",
    "        impossibleTasks(org) shouldBe \n",
    "            List(\"program\")"
   ]
  },
  {
   "cell_type": "markdown",
   "metadata": {},
   "source": [
    "This is a conventional imperative implementation, using mutable variables:"
   ]
  },
  {
   "cell_type": "code",
   "execution_count": null,
   "metadata": {},
   "outputs": [],
   "source": [
    "import collection.mutable.ListBuffer\n",
    "\n",
    "def impossibleTasks(org: Organization): List[Task.Id] =\n",
    "    var impTasks: ListBuffer[Task.Id] = \n",
    "        ListBuffer.from(taskIds(org))\n",
    "    for (entry <- org.knows)\n",
    "        impTasks -= entry._2\n",
    "//        impTasks = impTasks subtractOne entry._2\n",
    "    impTasks.toList"
   ]
  },
  {
   "cell_type": "code",
   "execution_count": null,
   "metadata": {},
   "outputs": [],
   "source": [
    "run(TestImpossibleTasks(impossibleTasks))"
   ]
  },
  {
   "cell_type": "markdown",
   "metadata": {},
   "source": [
    "This works but it is not the _functional_ style. The following version is closer to what we are looking for:"
   ]
  },
  {
   "cell_type": "code",
   "execution_count": null,
   "metadata": {},
   "outputs": [],
   "source": [
    "def impossibleTasks(org: Organization): List[Task.Id] =\n",
    "    org.knows.foldLeft(ListBuffer.from(taskIds(org))):\n",
    "        (impTasks, entry) => impTasks subtractOne entry._2\n",
    "    .toList"
   ]
  },
  {
   "cell_type": "markdown",
   "metadata": {},
   "source": [
    "or with pattern matching syntax:"
   ]
  },
  {
   "cell_type": "code",
   "execution_count": null,
   "metadata": {},
   "outputs": [],
   "source": [
    "def impossibleTasks(org: Organization): List[Task.Id] =\n",
    "    org.knows.foldLeft(ListBuffer.from(taskIds(org))):\n",
    "        case (impTasks, (_, task)) => impTasks subtractOne task\n",
    "    .toList"
   ]
  },
  {
   "cell_type": "code",
   "execution_count": null,
   "metadata": {},
   "outputs": [],
   "source": [
    "run(TestImpossibleTasks(impossibleTasks))"
   ]
  },
  {
   "cell_type": "markdown",
   "metadata": {},
   "source": [
    "But we can do it even better. We will endorse the following implementation that uses hight-level set operations (`diff`) and HOFs (`map`):"
   ]
  },
  {
   "cell_type": "code",
   "execution_count": null,
   "metadata": {},
   "outputs": [],
   "source": [
    "def impossibleTasks(org: Organization): List[Task.Id] =\n",
    "    val possibleTasks = org.knows.map(entry => entry._2)\n",
    "    taskIds(org) diff possibleTasks"
   ]
  },
  {
   "cell_type": "code",
   "execution_count": null,
   "metadata": {},
   "outputs": [],
   "source": [
    "run(TestImpossibleTasks(impossibleTasks))"
   ]
  },
  {
   "cell_type": "markdown",
   "metadata": {},
   "source": [
    "Arguably, this implementation conveys the intent of the function more clearly. It's more _declarative_. Moreover, it is more reliable since it builds upon standard methods of the Scala library (`diff` and `map`). It's true that the imperative version is also easy to read, but this is only because this is such a very simple function. We will see later on more complex examples where the functional solution shines brighter. "
   ]
  },
  {
   "cell_type": "markdown",
   "metadata": {},
   "source": [
    "__Which tasks can be performed by the employees of a given department?__"
   ]
  },
  {
   "cell_type": "code",
   "execution_count": null,
   "metadata": {},
   "outputs": [],
   "source": [
    "class TestAllTasks(\n",
    "    allTasks: Department.Id => Organization => List[Task.Id]\n",
    ") extends AnyFlatSpec with should.Matchers:\n",
    "    \n",
    "    \"allTasks\" should \"work\" in:\n",
    "        allTasks(\"Product\")(org).toSet shouldBe \n",
    "            Set(\"build\")\n",
    "        allTasks(\"Quality\")(org).toSet shouldBe \n",
    "            Set()\n",
    "        allTasks(\"Sales\")(org).toSet shouldBe \n",
    "            Set(\"call\")\n",
    "        allTasks(\"Research\")(org).toSet shouldBe \n",
    "            Set(\"abstract\", \"build\", \"design\", \"call\")"
   ]
  },
  {
   "cell_type": "markdown",
   "metadata": {},
   "source": [
    "The basic queries of the data model allow us to obtain all the employees of an organization, and the tasks that they can perform. So, this a first step towards the solution:"
   ]
  },
  {
   "cell_type": "code",
   "execution_count": null,
   "metadata": {},
   "outputs": [],
   "source": [
    "// def allTasks(dpt: Department.Id)(org: Organization): List[Task.Id]\n",
    "def allTasks(dpt: Department.Id)(org: Organization): List[List[Task.Id]] = \n",
    "    employeeIds(dpt)(org) map:\n",
    "        emp => capabilities(emp)(org)"
   ]
  },
  {
   "cell_type": "markdown",
   "metadata": {},
   "source": [
    "However, this is not the signature that we need to implement, since we are returning a set of sets of tasks, not a set of tasks. In order to do it right we need also to _flatten_ the result, i.e. concatenate all the individual sets of tasks for each employee. In sum, we need the `flatMap` HOF:"
   ]
  },
  {
   "cell_type": "code",
   "execution_count": null,
   "metadata": {},
   "outputs": [],
   "source": [
    "def allTasks(dpt: Department.Id)(org: Organization): List[Task.Id] = \n",
    "    employeeIds(dpt)(org).flatMap:\n",
    "        emp => capabilities(emp)(org)\n",
    "    .distinct"
   ]
  },
  {
   "cell_type": "code",
   "execution_count": null,
   "metadata": {},
   "outputs": [],
   "source": [
    "run(TestAllTasks(allTasks))"
   ]
  },
  {
   "cell_type": "markdown",
   "metadata": {},
   "source": [
    "__Compute the list of departments of an organization together with the number of tasks their employees can perform, sorted by the number of tasks__"
   ]
  },
  {
   "cell_type": "code",
   "execution_count": null,
   "metadata": {},
   "outputs": [],
   "source": [
    "class TestSortedDeps(\n",
    "    sortedDeps: Organization => List[(Department.Id, Int)]\n",
    ") extends AnyFlatSpec with should.Matchers:\n",
    "    \n",
    "    \"sortedDeps\" should \"work\" in:\n",
    "        sortedDeps(org).toSet shouldBe \n",
    "            Set((\"Research\",4), (\"Product\",1), (\"Sales\",1), (\"Quality\",0))"
   ]
  },
  {
   "cell_type": "code",
   "execution_count": null,
   "metadata": {},
   "outputs": [],
   "source": [
    "def sortedDeps(org: Organization): List[(Department.Id, Int)] = \n",
    "    departmentIds(org).map: dep => \n",
    "        (dep, allTasks(dep)(org).size)\n",
    "    .sortWith: (tuple1, tuple2) => \n",
    "        tuple1._2 > tuple2._2"
   ]
  },
  {
   "cell_type": "markdown",
   "metadata": {},
   "source": [
    "or with pattern matching syntax:"
   ]
  },
  {
   "cell_type": "code",
   "execution_count": null,
   "metadata": {},
   "outputs": [],
   "source": [
    "def sortedDeps(org: Organization): List[(Department.Id, Int)] = \n",
    "    departmentIds(org).map: dep => \n",
    "        (dep, allTasks(dep)(org).size)\n",
    "    .sortWith: \n",
    "        case ((_, n1), (_, n2)) => n1 > n2"
   ]
  },
  {
   "cell_type": "code",
   "execution_count": null,
   "metadata": {},
   "outputs": [],
   "source": [
    "run(TestSortedDeps(sortedDeps))"
   ]
  },
  {
   "cell_type": "markdown",
   "metadata": {},
   "source": [
    "__Which are the employees who can perform tasks of a given duration?__"
   ]
  },
  {
   "cell_type": "code",
   "execution_count": null,
   "metadata": {},
   "outputs": [],
   "source": [
    "class TestPersistentEmps(\n",
    "    persistentEmps: Int => Organization => List[Employee.Id]\n",
    ") extends AnyFlatSpec with should.Matchers:\n",
    "    \n",
    "    \"persistentEmps\" should \"work\" in:\n",
    "        persistentEmps(3)(org).toSet shouldBe \n",
    "            Set(\"Cora\", \"Drew\", \"Edna\")"
   ]
  },
  {
   "cell_type": "code",
   "execution_count": null,
   "metadata": {},
   "outputs": [],
   "source": [
    "def persistentEmps(min: Int)(org: Organization): List[Employee.Id] = \n",
    "    org.knows.flatMap:\n",
    "        case (emp, task) => \n",
    "            getTask(task)(org).filter: task =>\n",
    "                task.hours > min\n",
    "            .map: _ => \n",
    "                emp\n",
    "    .distinct"
   ]
  },
  {
   "cell_type": "markdown",
   "metadata": {},
   "source": [
    "Alterrnatively, we can also bet by with `filter` and `exists`:"
   ]
  },
  {
   "cell_type": "code",
   "execution_count": null,
   "metadata": {},
   "outputs": [],
   "source": [
    "def persistentEmps(min: Int)(org: Organization): List[Employee.Id] = \n",
    "    employeeIds(org).filter: empId =>  \n",
    "        capabilities(empId)(org).flatMap: taskId => \n",
    "            getTask(taskId)(org)\n",
    "        .exists: task => \n",
    "            task.hours > min"
   ]
  },
  {
   "cell_type": "code",
   "execution_count": null,
   "metadata": {},
   "outputs": [],
   "source": [
    "run(TestPersistentEmps(persistentEmps))"
   ]
  },
  {
   "cell_type": "markdown",
   "metadata": {},
   "source": [
    "__Which are the departments whose employees, as a team, know how to perform a given set of tasks?__"
   ]
  },
  {
   "cell_type": "code",
   "execution_count": null,
   "metadata": {},
   "outputs": [],
   "source": [
    "class TestDptsThatKnowHowTo(\n",
    "    dptsThatKnowHowTo: Set[Task.Id] => Organization => List[Department.Id]\n",
    ") extends AnyFlatSpec with should.Matchers:\n",
    "    \n",
    "    \"dptsThatKnowHowTo\" should \"work\" in:\n",
    "        dptsThatKnowHowTo(Set())(org).toSet shouldBe \n",
    "            Set(\"Sales\", \"Product\", \"Quality\", \"Research\")\n",
    "        dptsThatKnowHowTo(Set(\"call\"))(org).toSet shouldBe \n",
    "            Set(\"Sales\", \"Research\")\n",
    "        dptsThatKnowHowTo(Set(\"call\", \"abstract\"))(org).toSet shouldBe \n",
    "            Set(\"Research\")"
   ]
  },
  {
   "cell_type": "markdown",
   "metadata": {},
   "source": [
    "We can build upon the previous function `allTasks`:"
   ]
  },
  {
   "cell_type": "code",
   "execution_count": null,
   "metadata": {},
   "outputs": [],
   "source": [
    "def dptsThatKnowHowTo(tasks: Set[Task.Id])(org: Organization): List[Department.Id] = \n",
    "    departmentIds(org).filter: dpt => \n",
    "        tasks subsetOf allTasks(dpt)(org).toSet"
   ]
  },
  {
   "cell_type": "code",
   "execution_count": null,
   "metadata": {},
   "outputs": [],
   "source": [
    "run(TestDptsThatKnowHowTo(dptsThatKnowHowTo))"
   ]
  },
  {
   "cell_type": "markdown",
   "metadata": {},
   "source": [
    "__Obtain a list of employees sorted by the number of tasks that they can perform__"
   ]
  },
  {
   "cell_type": "code",
   "execution_count": null,
   "metadata": {},
   "outputs": [],
   "source": [
    "class TestSortedEmployees(\n",
    "    sortedEmployees: Organization => List[(Employee.Id, Int)]\n",
    ") extends AnyFlatSpec with should.Matchers:\n",
    "    \n",
    "    \"sortedEmployees\" should \"work\" in:\n",
    "        sortedEmployees(org) shouldBe \n",
    "            List(\n",
    "              (\"Alex\", 1),\n",
    "              (\"Fred\", 1),\n",
    "              (\"Bert\", 1),\n",
    "              (\"Drew\", 2),\n",
    "              (\"Cora\", 3),\n",
    "              (\"Edna\", 3))"
   ]
  },
  {
   "cell_type": "markdown",
   "metadata": {},
   "source": [
    "We may attempt the following:"
   ]
  },
  {
   "cell_type": "code",
   "execution_count": null,
   "metadata": {},
   "outputs": [],
   "source": [
    "def sortedEmployees(org: Organization): List[(Employee.Id, Int)] = \n",
    "    org.knows\n",
    "        .groupBy(_._1)     // Map[Employee.Id, List[Task.Id]]\n",
    "        .view.mapValues(_.size) // Map[Employee.Id, Int]\n",
    "        .toList            // List[(Employee.Id, Int)]\n",
    "        .sortBy(_._2) "
   ]
  },
  {
   "cell_type": "markdown",
   "metadata": {},
   "source": [
    "and this is almost right: we are missing those employees that can't perform any task. This is the right one:"
   ]
  },
  {
   "cell_type": "code",
   "execution_count": null,
   "metadata": {},
   "outputs": [],
   "source": [
    "def sortedEmployees(org: Organization): List[(Employee.Id, Int)] = \n",
    "    employeeIds(org).map: empId => \n",
    "        (empId, capabilities(empId)(org).size)\n",
    "    .sortBy(_._2)"
   ]
  },
  {
   "cell_type": "code",
   "execution_count": null,
   "metadata": {},
   "outputs": [],
   "source": [
    "run(TestSortedEmployees(sortedEmployees))"
   ]
  },
  {
   "cell_type": "markdown",
   "metadata": {},
   "source": [
    "__Which are the departments whose employees are all able to perform a given task?__"
   ]
  },
  {
   "cell_type": "code",
   "execution_count": null,
   "metadata": {},
   "outputs": [],
   "source": [
    "class TestExpertDepsIn(\n",
    "    expertDpts: Task.Id => Organization => List[Department.Id]\n",
    ") extends AnyFlatSpec with should.Matchers:\n",
    "    \n",
    "    \"expertDpts\" should \"work\" in:\n",
    "        expertDpts(\"abstract\")(org).toSet shouldBe \n",
    "            Set(\"Quality\", \"Research\")"
   ]
  },
  {
   "cell_type": "markdown",
   "metadata": {},
   "source": [
    "The conventional imperative solution is quite complex: "
   ]
  },
  {
   "cell_type": "code",
   "execution_count": null,
   "metadata": {},
   "outputs": [],
   "source": [
    "def expertDepsIn(task: Task.Id)(org: Organization): List[Department.Id] =\n",
    "    var out: ListBuffer[Department.Id] = ListBuffer()\n",
    "    for (dep <- departmentIds(org))\n",
    "        var employeesThatCantPerform: ListBuffer[Employee.Id] = \n",
    "            ListBuffer.from(employeeIds(dep)(org))\n",
    "        for (emp <- employeeIds(dep)(org))\n",
    "            for (someTask <- capabilities(emp)(org))\n",
    "                if (someTask == task)\n",
    "                    employeesThatCantPerform -= emp\n",
    "        if (employeesThatCantPerform.isEmpty) \n",
    "            out += dep\n",
    "    out.toList"
   ]
  },
  {
   "cell_type": "code",
   "execution_count": null,
   "metadata": {},
   "outputs": [],
   "source": [
    "run(new TestExpertDepsIn(expertDepsIn))"
   ]
  },
  {
   "cell_type": "markdown",
   "metadata": {},
   "source": [
    "This is not only more complex to understand, but prone to error. In order to obtain a simpler (and functional) solution by first declaring in plain natural language the intended query:"
   ]
  },
  {
   "cell_type": "code",
   "execution_count": null,
   "metadata": {},
   "outputs": [],
   "source": [
    "def expertDepsIn(tsk: Task.Id)(org: Organization): List[Department.Id] = \n",
    "    // From all the departments of the organization, choose\n",
    "    // those that for all its employees\n",
    "    // the specified task is included in their capabilities\n",
    "    ???"
   ]
  },
  {
   "cell_type": "markdown",
   "metadata": {},
   "source": [
    "Then, we can formalize the natural language specification by relying on standard HOFs (`filter`, `forall`) and collection operations (`contains`):"
   ]
  },
  {
   "cell_type": "code",
   "execution_count": null,
   "metadata": {},
   "outputs": [],
   "source": [
    "def expertDepsIn(tsk: Task.Id)(org: Organization): List[Department.Id] = \n",
    "    departmentIds(org).filter:\n",
    "        dpt => employeeIds(dpt)(org).forall:\n",
    "            emp => capabilities(emp)(org).contains(tsk)"
   ]
  },
  {
   "cell_type": "code",
   "execution_count": null,
   "metadata": {},
   "outputs": [],
   "source": [
    "run(TestExpertDepsIn(expertDepsIn))"
   ]
  }
 ],
 "metadata": {
  "kernelspec": {
   "display_name": "Scala 3.3",
   "language": "scala",
   "name": "scala33"
  },
  "language_info": {
   "codemirror_mode": "text/x-scala",
   "file_extension": ".sc",
   "mimetype": "text/x-scala",
   "name": "scala",
   "nbconvert_exporter": "script",
   "version": "2.13.12"
  }
 },
 "nbformat": 4,
 "nbformat_minor": 4
}
