{
 "cells": [
  {
   "cell_type": "markdown",
   "metadata": {},
   "source": [
    "# Topic 3. Algebraic data types\n",
    "\n",
    "## 3.2 Data types"
   ]
  },
  {
   "cell_type": "markdown",
   "metadata": {},
   "source": [
    "Auxiliary definitions:"
   ]
  },
  {
   "cell_type": "code",
   "execution_count": null,
   "metadata": {},
   "outputs": [],
   "source": [
    "trait Isomorphic[A, B]{\n",
    "    \n",
    "    def from(a: A): B\n",
    "    \n",
    "    def to(b: B): A\n",
    "    \n",
    "    // equality \n",
    "    \n",
    "    def equalA(a1: A, a2: A): Boolean = \n",
    "        a1 == a2\n",
    "    \n",
    "    def equalB(b1: B, b2: B): Boolean =\n",
    "        b1 == b2\n",
    "    \n",
    "    // Bijection laws\n",
    "    \n",
    "    def law1(a: A): Boolean = \n",
    "        equalA(to(from(a)), a)\n",
    "    \n",
    "    def law2(b: B): Boolean = \n",
    "        equalB(from(to(b)), b)\n",
    "}"
   ]
  },
  {
   "cell_type": "markdown",
   "metadata": {},
   "source": [
    "## Exercise 1"
   ]
  },
  {
   "cell_type": "markdown",
   "metadata": {},
   "source": [
    "### Part a)"
   ]
  },
  {
   "cell_type": "markdown",
   "metadata": {},
   "source": [
    "Prove that the isomorphism $Either[Unit, Unit] \\cong Boolean$ holds by implementing the following bijections: "
   ]
  },
  {
   "cell_type": "code",
   "execution_count": null,
   "metadata": {},
   "outputs": [],
   "source": [
    "object Iso extends Isomorphic[Boolean, Either[Unit, Unit]]{\n",
    "\n",
    "    def from(a: Boolean): Either[Unit, Unit] = \n",
    "        if (a) Right(()) \n",
    "        else Left(())    \n",
    "    \n",
    "    def to(a: Either[Unit, Unit]): Boolean = \n",
    "        a match {\n",
    "            case Left(_) => false\n",
    "            case Right(_) => true\n",
    "        }\n",
    "}"
   ]
  },
  {
   "cell_type": "markdown",
   "metadata": {},
   "source": [
    "Check that they are indeed mutual inverses, i.e. that for all $a: Boolean$, `toBoolean(fromBoolean(a))==a`, and that for all $a: Either[Unit, Unit]$, `fromBoolean(toBoolean(a))==a`."
   ]
  },
  {
   "cell_type": "code",
   "execution_count": null,
   "metadata": {},
   "outputs": [],
   "source": [
    "Iso.law1(true)\n",
    "Iso.law1(false)\n",
    "Iso.law2(Left(()))\n",
    "Iso.law2(Right(()))\n"
   ]
  },
  {
   "cell_type": "markdown",
   "metadata": {},
   "source": [
    "### Part b)"
   ]
  },
  {
   "cell_type": "markdown",
   "metadata": {},
   "source": [
    "Show that we can redefine `Option[A]` using `Either[A,Unit]`: "
   ]
  },
  {
   "cell_type": "code",
   "execution_count": null,
   "metadata": {},
   "outputs": [],
   "source": [
    "class Iso[A] extends Isomorphic[Option[A], Either[A, Unit]]{\n",
    "    \n",
    "    def from(o: Option[A]): Either[A, Unit] = \n",
    "        o match {\n",
    "            case None => Right(())\n",
    "            case Some(a) => Left(a)\n",
    "        }\n",
    "\n",
    "    def to(e: Either[A, Unit]): Option[A] = \n",
    "        e match {\n",
    "            case Left(a) => Some(a)\n",
    "            case Right(()) => None\n",
    "        }\n",
    "}"
   ]
  },
  {
   "cell_type": "markdown",
   "metadata": {},
   "source": [
    "Check that these functions are mutual inverses. For that, fix $A$ to particular types (e.g. `Boolean`, `Int`, etc.), and test the equivalences `from(to(e)) == e` and `to(from(o)) == o` for some values $o$ and $e$."
   ]
  },
  {
   "cell_type": "code",
   "execution_count": null,
   "metadata": {},
   "outputs": [],
   "source": [
    "(new Iso[Int]).law1(None)\n",
    "(new Iso[Boolean]).law1(None)\n",
    "(new Iso[Int]).law1(Some(1))\n",
    "(new Iso[Boolean]).law1(Some(true))\n",
    "(new Iso[Int]).law2(Left(1))\n",
    "(new Iso[Int]).law2(Right(()))"
   ]
  },
  {
   "cell_type": "markdown",
   "metadata": {},
   "source": [
    "## Exercise 2"
   ]
  },
  {
   "cell_type": "markdown",
   "metadata": {},
   "source": [
    "How many functions are there of type `Either[Unit, Either[Unit, Unit]] => Boolean`? Identify all of them as alternative implementations of the following signature: "
   ]
  },
  {
   "cell_type": "code",
   "execution_count": null,
   "metadata": {},
   "outputs": [],
   "source": [
    "def f1(e: Either[Unit, Either[Unit, Unit]]): Boolean = \n",
    "    e match {\n",
    "        case Left(()) => ??? // true or false\n",
    "        case Right(Left(())) => ??? // true or false\n",
    "        case Right(Right(())) => ??? // true or false\n",
    "    }"
   ]
  },
  {
   "cell_type": "code",
   "execution_count": null,
   "metadata": {},
   "outputs": [],
   "source": [
    "def f1(e: Either[Unit, Either[Unit, Unit]]): Boolean = \n",
    "    e match {\n",
    "        case Left(()) => false // true or false\n",
    "        case Right(Left(())) => false // true or false\n",
    "        case Right(Right(())) => false // true or false\n",
    "    }"
   ]
  },
  {
   "cell_type": "code",
   "execution_count": null,
   "metadata": {},
   "outputs": [],
   "source": [
    "def f1(e: Either[Unit, Either[Unit, Unit]]): Boolean = \n",
    "    e match {\n",
    "        case Left(()) => true // true or false\n",
    "        case Right(Left(())) => false // true or false\n",
    "        case Right(Right(())) => false // true or false\n",
    "    }"
   ]
  },
  {
   "cell_type": "markdown",
   "metadata": {},
   "source": [
    "etc. (eight functions in total)"
   ]
  },
  {
   "cell_type": "markdown",
   "metadata": {},
   "source": [
    "Idem, as alternative lambda expressions:"
   ]
  },
  {
   "cell_type": "code",
   "execution_count": null,
   "metadata": {},
   "outputs": [],
   "source": [
    "val f1: Either[Unit, Either[Unit, Unit]] => Boolean = \n",
    "    {\n",
    "        case Left(()) => ??? // true or false\n",
    "        case Right(Left(())) => ???// true or false\n",
    "        case Right(Right(())) => ???// true or false\n",
    "    }"
   ]
  },
  {
   "cell_type": "markdown",
   "metadata": {},
   "source": [
    "## Exercise 3"
   ]
  },
  {
   "cell_type": "markdown",
   "metadata": {},
   "source": [
    "How many different implementations are there of the following function-method? Recall that two implementations will be considered different if the corresponding mathematical functions are different."
   ]
  },
  {
   "cell_type": "code",
   "execution_count": null,
   "metadata": {},
   "outputs": [],
   "source": [
    "def f1(b: Boolean): Either[Unit, Either[Unit, Unit]] = \n",
    "    Left(())\n",
    "\n",
    "def f2(b: Boolean): Either[Unit, Either[Unit, Unit]] = \n",
    "    Right(Left(()))\n",
    "\n",
    "def f3(b: Boolean): Either[Unit, Either[Unit, Unit]] = \n",
    "    Right(Right(()))\n",
    "\n",
    "def f4(b: Boolean): Either[Unit, Either[Unit, Unit]] = \n",
    "    if (b) Left(()) else Right(Left())\n",
    "\n",
    "def f5(b: Boolean): Either[Unit, Either[Unit, Unit]] = \n",
    "    if (b) Right(Left()) else Right(Right(()))\n",
    "\n",
    "def f6(b: Boolean): Either[Unit, Either[Unit, Unit]] = \n",
    "    if (b) Left(()) else Right(Right(()))\n",
    "\n",
    "def f7(b: Boolean): Either[Unit, Either[Unit, Unit]] = \n",
    "    if (!b) Left(()) else Right(Left())\n",
    "\n",
    "def f8(b: Boolean): Either[Unit, Either[Unit, Unit]] = \n",
    "    if (!b) Right(Left()) else Right(Right(()))\n",
    "\n",
    "def f9(b: Boolean): Either[Unit, Either[Unit, Unit]] = \n",
    "    if (!b) Left(()) else Right(Right(()))\n"
   ]
  },
  {
   "cell_type": "markdown",
   "metadata": {},
   "source": [
    "## Exercise 4"
   ]
  },
  {
   "cell_type": "markdown",
   "metadata": {},
   "source": [
    "Show that the following law holds for exponent types: $X => (Y => Z) \\cong (Y, X) => Z$, for all types $X$, $Y$ and $Z$."
   ]
  },
  {
   "cell_type": "code",
   "execution_count": null,
   "metadata": {},
   "outputs": [],
   "source": [
    "class Iso[X, Y, Z] extends Isomorphic[X => (Y => Z), (Y, X) => Z]{\n",
    "    \n",
    "    // uncurry\n",
    "    def from(f: X => Y => Z): (Y, X) => Z = \n",
    "        (y, x) => f(x)(y)\n",
    " \n",
    "    // curry\n",
    "    def to(f: (Y, X) => Z): X => Y => Z = \n",
    "        x => y => f(y, x)\n",
    "}"
   ]
  },
  {
   "cell_type": "markdown",
   "metadata": {},
   "source": [
    "Implement function equality for the following signatures and check that both functions, `curry` and `uncurry`, are inverses of each other for two sample functions $ex1$ and $ex2$:  "
   ]
  },
  {
   "cell_type": "code",
   "execution_count": null,
   "metadata": {},
   "outputs": [],
   "source": [
    "def ex1: Boolean => Boolean => Boolean = b1 => b2 => false\n",
    "\n",
    "def ex2: (Boolean, Boolean) => Boolean = (b1, b2) => true"
   ]
  },
  {
   "cell_type": "markdown",
   "metadata": {},
   "source": [
    "Accordingly, we need to override the equality functions:"
   ]
  },
  {
   "cell_type": "code",
   "execution_count": null,
   "metadata": {},
   "outputs": [],
   "source": [
    "object Iso extends Iso[Boolean, Boolean, Boolean]{\n",
    "    \n",
    "    override def equalA(f1: Boolean => Boolean => Boolean, \n",
    "               f2: Boolean => Boolean => Boolean): Boolean = \n",
    "        f1(false)(false) == f2(false)(false) &&\n",
    "        f1(false)(true) == f2(false)(true) &&\n",
    "        f1(true)(false) == f2(true)(false) &&\n",
    "        f1(true)(true) == f2(true)(true)\n",
    "    \n",
    "    override def equalB(f1: (Boolean, Boolean) => Boolean, \n",
    "               f2: (Boolean, Boolean) => Boolean): Boolean = \n",
    "        f1(false,false) == f2(false,false) &&\n",
    "        f1(false,true) == f2(false,true) &&\n",
    "        f1(true,false) == f2(true,false) &&\n",
    "        f1(true,true) == f2(true,true)\n",
    "}"
   ]
  },
  {
   "cell_type": "markdown",
   "metadata": {},
   "source": [
    "Now, check that curry and uncurry are inverses of each other for sample\n",
    "functions `ex1` and `ex2`:\n"
   ]
  },
  {
   "cell_type": "code",
   "execution_count": null,
   "metadata": {},
   "outputs": [],
   "source": [
    "Iso.law1(ex1)\n",
    "Iso.law2(ex2)"
   ]
  },
  {
   "cell_type": "markdown",
   "metadata": {},
   "source": [
    "## Exercise 5"
   ]
  },
  {
   "cell_type": "markdown",
   "metadata": {},
   "source": [
    "Shows that the following law holds for exponent types: $X => (Y, Z) \\cong (X => Y, X => Z)$, for all types $X$, $Y$ and $Z$."
   ]
  },
  {
   "cell_type": "code",
   "execution_count": null,
   "metadata": {},
   "outputs": [],
   "source": [
    "class Iso[X, Y, Z] extends Isomorphic[X => (Y, Z), (X => Y, X => Z)]{\n",
    "    \n",
    "    def from(f: X => (Y, Z)): (X => Y, X => Z) = \n",
    "        (x => f(x)._1, x => f(x)._2)\n",
    "\n",
    "    def to(t: (X => Y, X => Z)): X => (Y, Z) = t match {\n",
    "        case (f1, f2) => x => (f1(x), f2(x))\n",
    "    }\n",
    "}"
   ]
  },
  {
   "cell_type": "markdown",
   "metadata": {},
   "source": [
    "Fix $X$, $Y$ and $Z$ to particular types, implement equality for the corresponding signatures and check that both functions, `from` and `to`, are inverses of each other given two sample functions of your choice.  "
   ]
  },
  {
   "cell_type": "code",
   "execution_count": null,
   "metadata": {},
   "outputs": [],
   "source": [
    "val ex1: Boolean => (Boolean, Boolean) = \n",
    "    _ => (false, false)\n",
    "\n",
    "val ex2: (Boolean => Boolean, Boolean => Boolean) = \n",
    "    (_ => true, ! _)"
   ]
  },
  {
   "cell_type": "code",
   "execution_count": null,
   "metadata": {},
   "outputs": [],
   "source": [
    "object Iso extends Iso[Boolean, Boolean, Boolean]{\n",
    "    \n",
    "    def equalAux(f1: Boolean => Boolean, f2: Boolean => Boolean): Boolean = \n",
    "        f1(false) == f2(false) && \n",
    "        f1(true) == f2(true)\n",
    "    \n",
    "    override def equalA(f1: Boolean => (Boolean, Boolean), f2: Boolean => (Boolean, Boolean)): Boolean = \n",
    "        f1(false) == f2(false) && \n",
    "        f1(true) == f2(true)\n",
    "    \n",
    "    override def equalB(f1: (Boolean => Boolean, Boolean => Boolean), \n",
    "                        f2: (Boolean => Boolean, Boolean => Boolean)): Boolean = \n",
    "        equalAux(f1._1, f2._1) && equalAux(f1._2, f2._2)\n",
    "}"
   ]
  },
  {
   "cell_type": "code",
   "execution_count": null,
   "metadata": {},
   "outputs": [],
   "source": [
    "Iso.law1(ex1)\n",
    "Iso.law2(ex2)"
   ]
  },
  {
   "cell_type": "markdown",
   "metadata": {},
   "source": [
    "## Exercise 6"
   ]
  },
  {
   "cell_type": "markdown",
   "metadata": {},
   "source": [
    "Shows that the following isomorphisms holds for algebraic data types:"
   ]
  },
  {
   "cell_type": "markdown",
   "metadata": {},
   "source": [
    "$$ \n",
    "\\begin{array}{rcl}\n",
    "Either[X,Nothing] & \\cong & X \\\\\n",
    "\\end{array}\n",
    "$$\n",
    "\n"
   ]
  },
  {
   "cell_type": "code",
   "execution_count": null,
   "metadata": {},
   "outputs": [],
   "source": [
    "// extends trait Isomorphic"
   ]
  },
  {
   "cell_type": "markdown",
   "metadata": {},
   "source": [
    "$$ \n",
    "\\begin{array}{rcl}\n",
    "Either[X,Y] & \\cong & Either[Y,X] \\\\\n",
    "\\end{array}\n",
    "$$\n",
    "\n"
   ]
  },
  {
   "cell_type": "code",
   "execution_count": null,
   "metadata": {},
   "outputs": [],
   "source": [
    "// extends trait Isomorphic"
   ]
  },
  {
   "cell_type": "markdown",
   "metadata": {},
   "source": [
    "$$ \n",
    "\\begin{array}{rcl}\n",
    "Either[X,Either[Y,Z]] & \\cong & Either[Either[X,Y],Z] \\\\\n",
    "\\end{array}\n",
    "$$\n",
    "\n"
   ]
  },
  {
   "cell_type": "code",
   "execution_count": null,
   "metadata": {},
   "outputs": [],
   "source": [
    "// extends trait Isomorphic"
   ]
  },
  {
   "cell_type": "markdown",
   "metadata": {},
   "source": [
    "$$ \n",
    "\\begin{array}{rcl}\n",
    "(X,Nothing) & \\cong & Nothing \\\\\n",
    "\\end{array}\n",
    "$$\n",
    "\n"
   ]
  },
  {
   "cell_type": "code",
   "execution_count": null,
   "metadata": {},
   "outputs": [],
   "source": [
    "// extends trait Isomorphic"
   ]
  },
  {
   "cell_type": "markdown",
   "metadata": {},
   "source": [
    "$$ \n",
    "\\begin{array}{rcl}\n",
    "(X,Unit) & \\cong & X \\\\\n",
    "\\end{array}\n",
    "$$\n",
    "\n"
   ]
  },
  {
   "cell_type": "code",
   "execution_count": null,
   "metadata": {},
   "outputs": [],
   "source": [
    "// extends trait Isomorphic"
   ]
  },
  {
   "cell_type": "markdown",
   "metadata": {},
   "source": [
    "$$ \n",
    "\\begin{array}{rcl}\n",
    "(X,Y) & \\cong & (Y,X) \\\\\n",
    "\\end{array}\n",
    "$$\n",
    "\n"
   ]
  },
  {
   "cell_type": "code",
   "execution_count": null,
   "metadata": {},
   "outputs": [],
   "source": [
    "// extends trait Isomorphic"
   ]
  },
  {
   "cell_type": "markdown",
   "metadata": {},
   "source": [
    "$$ \n",
    "\\begin{array}{rcl}\n",
    "(X,(Y,Z)) & \\cong & ((X,Y),Z) \\\\\n",
    "\\end{array}\n",
    "$$\n",
    "\n"
   ]
  },
  {
   "cell_type": "code",
   "execution_count": null,
   "metadata": {},
   "outputs": [],
   "source": [
    "// extends trait Isomorphic"
   ]
  },
  {
   "cell_type": "markdown",
   "metadata": {},
   "source": [
    "$$ \n",
    "\\begin{array}{rcl}\n",
    "(X,Either[Y,Z]) & \\cong & Either[(X,Y),(X,Z)] \\\\\n",
    "\\end{array}\n",
    "$$\n",
    "\n"
   ]
  },
  {
   "cell_type": "code",
   "execution_count": null,
   "metadata": {},
   "outputs": [],
   "source": [
    "// extends trait Isomorphic"
   ]
  },
  {
   "cell_type": "markdown",
   "metadata": {},
   "source": [
    "$$ \n",
    "\\begin{array}{rcl}\n",
    "Nothing  \\Rightarrow X & \\cong & Unit \\\\\n",
    "\\end{array}\n",
    "$$\n",
    "\n"
   ]
  },
  {
   "cell_type": "code",
   "execution_count": null,
   "metadata": {},
   "outputs": [],
   "source": [
    "// extends trait Isomorphic"
   ]
  },
  {
   "cell_type": "markdown",
   "metadata": {},
   "source": [
    "# Ejercicio 7"
   ]
  },
  {
   "cell_type": "markdown",
   "metadata": {},
   "source": [
    "Demuestra el siguiente isomorfismo entre tipos algebraicos de datos para todo tipo $X$: \n",
    "\n",
    "$(1+1)^X \\cong Boolean^X$\n",
    "\n",
    "A continuación se muestran unos casos de prueba de este isomorfismo para $X=Int$:"
   ]
  },
  {
   "cell_type": "code",
   "execution_count": null,
   "metadata": {},
   "outputs": [],
   "source": [
    "class IsoTest(\n",
    "    from: (Int => Either[Unit, Unit]) => Int => Boolean, \n",
    "    to: (Int => Boolean) => Int => Either[Unit, Unit]\n",
    ") extends FlatSpec with Matchers{\n",
    "    \n",
    "    val f: Int => Either[Unit, Unit] = \n",
    "        i => if (i % 2 == 0) Left(()) else Right(())\n",
    "    \n",
    "    val g: Int => Boolean = \n",
    "        _ % 2 == 0\n",
    "    \n",
    "    \"from-to\" should \"work\" in {\n",
    "        from(to(g))(0) shouldBe g(0)\n",
    "        from(to(g))(1) shouldBe g(1)\n",
    "        from(to(g))(2) shouldBe g(2)\n",
    "        from(to(g))(3) shouldBe g(3)\n",
    "    }\n",
    "    \n",
    "    \"to-from\" should \"work\" in {\n",
    "        to(from(f))(0) shouldBe f(0)\n",
    "        to(from(f))(1) shouldBe f(1)\n",
    "        to(from(f))(2) shouldBe f(2)\n",
    "        to(from(f))(3) shouldBe f(3)\n",
    "    }\n",
    "}"
   ]
  },
  {
   "cell_type": "code",
   "execution_count": null,
   "metadata": {},
   "outputs": [],
   "source": [
    "// extends trait Isomorphic"
   ]
  },
  {
   "cell_type": "markdown",
   "metadata": {},
   "source": [
    "# Ejercicio 8"
   ]
  },
  {
   "cell_type": "markdown",
   "metadata": {},
   "source": [
    "Demuestra el siguiente isomorfismo entre tipos algebraicos de datos para todo tipo $X$, $Y$ y $Z$: \n",
    "\n",
    "$(1+Y+Z+Y*Z)^X \\cong (Y+1)^X * (Z+1)^X$\n",
    "\n",
    "A continuación se muestran unos casos de prueba de este isomorfismo para $X=Int$, $Y=Unit$ y $Z=Unit$:"
   ]
  },
  {
   "cell_type": "code",
   "execution_count": null,
   "metadata": {},
   "outputs": [],
   "source": [
    "class IsoTest(\n",
    "    from: (Int => Either[Unit, Either[Unit, Either[Unit, (Unit, Unit)]]]) => (Int => Option[Unit], Int => Option[Unit]), \n",
    "    to: ((Int => Option[Unit], Int => Option[Unit])) => Int => Either[Unit, Either[Unit, Either[Unit, (Unit, Unit)]]]\n",
    ") extends FlatSpec with Matchers{\n",
    "    \n",
    "    val f: Int => Either[Unit, Either[Unit, Either[Unit, (Unit, Unit)]]] = \n",
    "        i => if (i % 4 == 0) Left(()) \n",
    "             else if (i % 4 == 1) Right(Left(()))\n",
    "             else if (i % 4 == 2) Right(Right(Left(())))\n",
    "             else Right(Right(Right(((),()))))\n",
    "    \n",
    "    val g: (Int => Option[Unit], Int => Option[Unit]) = \n",
    "        (i => if (i % 2 == 0) None else Some(()),\n",
    "         i => if (i % 2 == 0) None else Some(()))\n",
    "    \n",
    "    \"from-to\" should \"work\" in {\n",
    "        from(to(g))._1(0) shouldBe g._1(0)\n",
    "        from(to(g))._1(1) shouldBe g._1(1)\n",
    "        from(to(g))._1(2) shouldBe g._1(2)\n",
    "        from(to(g))._1(3) shouldBe g._1(3)\n",
    "        from(to(g))._2(0) shouldBe g._2(0)\n",
    "        from(to(g))._2(1) shouldBe g._2(1)\n",
    "        from(to(g))._2(2) shouldBe g._2(2)\n",
    "        from(to(g))._2(3) shouldBe g._2(3)\n",
    "    }\n",
    "    \n",
    "    \"to-from\" should \"work\" in {\n",
    "        to(from(f))(0) shouldBe f(0)\n",
    "        to(from(f))(1) shouldBe f(1)\n",
    "        to(from(f))(2) shouldBe f(2)\n",
    "        to(from(f))(3) shouldBe f(3)\n",
    "    }\n",
    "}"
   ]
  },
  {
   "cell_type": "code",
   "execution_count": null,
   "metadata": {},
   "outputs": [],
   "source": [
    "// extends trait Isomorphic"
   ]
  },
  {
   "cell_type": "code",
   "execution_count": null,
   "metadata": {},
   "outputs": [],
   "source": []
  },
  {
   "cell_type": "code",
   "execution_count": null,
   "metadata": {},
   "outputs": [],
   "source": []
  }
 ],
 "metadata": {
  "kernelspec": {
   "display_name": "Scala",
   "language": "scala",
   "name": "scala"
  },
  "language_info": {
   "codemirror_mode": "text/x-scala",
   "file_extension": ".sc",
   "mimetype": "text/x-scala",
   "name": "scala",
   "nbconvert_exporter": "script",
   "version": "2.13.1"
  }
 },
 "nbformat": 4,
 "nbformat_minor": 4
}
