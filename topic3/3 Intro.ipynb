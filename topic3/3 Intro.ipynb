{
 "cells": [
  {
   "cell_type": "markdown",
   "metadata": {},
   "source": [
    "# Topic 3. Algebraic data types"
   ]
  },
  {
   "cell_type": "markdown",
   "metadata": {},
   "source": [
    "Every programming language offers _primitive_ types, such as the types of boolean values, integer and double numeric values, strings, etc. But they also provide mechanisms to define new types, so-called user-defined types, which are designed to satisfy the needs of particular applications. For instance, user-defined types in object-oriented languages are specified through class or trait declarations; and types can also be specified from already existing user-defined types through the inheritance mechanism.  "
   ]
  },
  {
   "cell_type": "markdown",
   "metadata": {},
   "source": [
    "In functional programming, the rules for declaring new types are different: no inheritance or classes, just _products_, _sums_ and _exponentiation_ of types. Because of the correspondence with arithmetic (which goes beyond the terminology!), these types are called **algebraic data types** (ADTs). "
   ]
  },
  {
   "cell_type": "markdown",
   "metadata": {},
   "source": [
    "### Goals"
   ]
  },
  {
   "cell_type": "markdown",
   "metadata": {},
   "source": [
    "The goals of this section are the following:\n",
    "* Understanding products, sums and exponents as the primary means of representing data types in functional programming.\n",
    "* Understanding the _algebraic_ nature of these types.\n",
    "* Being able to prove isomorphisms between algebraic data types using the methodology of _type-driven development_. "
   ]
  },
  {
   "cell_type": "markdown",
   "metadata": {},
   "source": [
    "### References\n",
    "\n",
    "[__Programming in Scala, \n",
    "A comprehensive step-by-step guide__](https://www.artima.com/shop/programming_in_scala_5ed) Fifth Edition.\n",
    "by Martin Odersky, Lex Spoon, and Bill Venners. \n",
    "\n",
    "- Chapter 13. Pattern Matching\n",
    "\n",
    "__[Scala book (online)](https://docs.scala-lang.org/scala3/book/introduction.html)__.\n",
    "\n",
    "- [Pure functions](https://docs.scala-lang.org/scala3/book/fp-pure-functions.html)\n",
    "- [Match Expressions](https://docs.scala-lang.org/scala3/book/control-structures.html#match-expressions)\n",
    "- [Case classes](https://docs.scala-lang.org/scala3/book/domain-modeling-tools.html#case-classes)\n",
    "- [Case objects](https://docs.scala-lang.org/scala3/book/domain-modeling-tools.html#case-objects)\n",
    "\n",
    "[__Functional programming simplified__](https://alvinalexander.com/downloads/fpsimplified-free-preview.pdf), by Alvin Alexander.\n",
    "\n",
    "- Chapters 19. Functional Programming as Algebra \n",
    "\n",
    "[__Tony Morris on ADTs__](https://about.chatroulette.com/posts/algebraic-data-types/)\n",
    "\n",
    "_[Optional]_ __[Why Functional Programming Matters](https://www.cs.kent.ac.uk/people/staff/dat/miranda/whyfp90.pdf)__ John Hughes. This is a classic paper that motivates the need for functional programming by appealing to software enginerring principles such as modularity. It's written using the Miranda programming language, and it's more an academic paper that undergraduate material. Nevertheless, its reading is highly recommeded. Give it a try if you find some time!\n"
   ]
  }
 ],
 "metadata": {
  "kernelspec": {
   "display_name": "Scala",
   "language": "scala",
   "name": "scala"
  },
  "language_info": {
   "codemirror_mode": "text/x-scala",
   "file_extension": ".sc",
   "mimetype": "text/x-scala",
   "name": "scala",
   "nbconvert_exporter": "script",
   "version": "2.13.10"
  }
 },
 "nbformat": 4,
 "nbformat_minor": 4
}
