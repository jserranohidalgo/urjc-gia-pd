{
 "cells": [
  {
   "cell_type": "markdown",
   "metadata": {
    "jp-MarkdownHeadingCollapsed": true,
    "tags": []
   },
   "source": [
    "### Preamble"
   ]
  },
  {
   "cell_type": "code",
   "execution_count": 1,
   "metadata": {},
   "outputs": [
    {
     "data": {
      "text/plain": [
       "\u001b[32mimport \u001b[39m\u001b[36m$ivy.$                                \n",
       "\u001b[39m\n",
       "\u001b[32mimport \u001b[39m\u001b[36morg.scalatest.{Filter => _, _}, flatspec._, matchers._\n",
       "\u001b[39m"
      ]
     },
     "execution_count": 1,
     "metadata": {},
     "output_type": "execute_result"
    }
   ],
   "source": [
    "import $ivy.`org.scalatest::scalatest:3.2.16`\n",
    "import org.scalatest.{Filter => _, _}, flatspec._, matchers._"
   ]
  },
  {
   "cell_type": "code",
   "execution_count": 2,
   "metadata": {},
   "outputs": [
    {
     "data": {
      "text/plain": [
       "defined \u001b[32mtrait\u001b[39m \u001b[36mIsomorphic\u001b[39m"
      ]
     },
     "execution_count": 2,
     "metadata": {},
     "output_type": "execute_result"
    }
   ],
   "source": [
    "trait Isomorphic[A, B]{\n",
    "    \n",
    "    def from(a: A): B\n",
    "    \n",
    "    def to(b: B): A\n",
    "    \n",
    "    // equality \n",
    "    \n",
    "    def equalA(a1: A, a2: A): Boolean = \n",
    "        a1 == a2\n",
    "    \n",
    "    def equalB(b1: B, b2: B): Boolean =\n",
    "        b1 == b2\n",
    "    \n",
    "    // Bijection laws\n",
    "    \n",
    "    def law1(a: A): Boolean = \n",
    "        equalA(to(from(a)), a)\n",
    "    \n",
    "    def law2(b: B): Boolean = \n",
    "        equalB(from(to(b)), b)\n",
    "}"
   ]
  },
  {
   "cell_type": "code",
   "execution_count": 3,
   "metadata": {},
   "outputs": [
    {
     "data": {
      "text/plain": [
       "defined \u001b[32mclass\u001b[39m \u001b[36mTestIso\u001b[39m"
      ]
     },
     "execution_count": 3,
     "metadata": {},
     "output_type": "execute_result"
    }
   ],
   "source": [
    "class TestIso[A, B](iso: Isomorphic[A, B])(a: A*)(b: B*)  extends AnyFlatSpec with should.Matchers:\n",
    "    import iso._\n",
    "\n",
    "    \"law1\" should \"hold\" in:\n",
    "        a.forall(law1) should be(true)\n",
    "\n",
    "    \"law2\" should \"hold\" in:\n",
    "        b.forall(law2) should be(true)"
   ]
  },
  {
   "cell_type": "markdown",
   "metadata": {},
   "source": [
    "# Topic 3. Algebraic data types\n"
   ]
  },
  {
   "cell_type": "markdown",
   "metadata": {},
   "source": [
    "## 3.4 Isomorphisms"
   ]
  },
  {
   "cell_type": "markdown",
   "metadata": {},
   "source": [
    "## Exercise 1"
   ]
  },
  {
   "cell_type": "markdown",
   "metadata": {},
   "source": [
    "### Part a)"
   ]
  },
  {
   "cell_type": "markdown",
   "metadata": {},
   "source": [
    "Prove that the isomorphism $Either[Unit, Unit] \\cong Boolean$ holds by implementing the following bijections: "
   ]
  },
  {
   "cell_type": "code",
   "execution_count": null,
   "metadata": {},
   "outputs": [],
   "source": [
    "object Iso1a extends Isomorphic[Boolean, Either[Unit, Unit]]:\n",
    "\n",
    "    def from(a: Boolean): Either[Unit, Unit] = \n",
    "        ???    \n",
    "    \n",
    "    def to(a: Either[Unit, Unit]): Boolean = \n",
    "        ???"
   ]
  },
  {
   "cell_type": "markdown",
   "metadata": {},
   "source": [
    "Check that they are indeed mutual inverses, i.e. that for all $a: Boolean$, `toBoolean(fromBoolean(a))==a`, and that for all $a: Either[Unit, Unit]$, `fromBoolean(toBoolean(a))==a`."
   ]
  },
  {
   "cell_type": "markdown",
   "metadata": {
    "jp-MarkdownHeadingCollapsed": true,
    "tags": []
   },
   "source": [
    "#### Solution"
   ]
  },
  {
   "cell_type": "code",
   "execution_count": null,
   "metadata": {},
   "outputs": [],
   "source": [
    "object Iso1a extends Isomorphic[Boolean, Either[Unit, Unit]]:\n",
    "\n",
    "    def from(a: Boolean): Either[Unit, Unit] = \n",
    "        if a then Right(()) \n",
    "        else Left(())    \n",
    "    \n",
    "    def to(a: Either[Unit, Unit]): Boolean = \n",
    "        a match\n",
    "            case Left(_) => false\n",
    "            case Right(_) => true"
   ]
  },
  {
   "cell_type": "code",
   "execution_count": null,
   "metadata": {},
   "outputs": [],
   "source": [
    "run(TestIso(Iso1a)\n",
    "           (false, true)\n",
    "           (Left(()), Right(())))"
   ]
  },
  {
   "cell_type": "markdown",
   "metadata": {},
   "source": [
    "#### Your solution"
   ]
  },
  {
   "cell_type": "code",
   "execution_count": null,
   "metadata": {},
   "outputs": [],
   "source": []
  },
  {
   "cell_type": "markdown",
   "metadata": {},
   "source": [
    "### Part b)"
   ]
  },
  {
   "cell_type": "markdown",
   "metadata": {},
   "source": [
    "Show that we can redefine `Option[A]` using `Either[A,Unit]` by implementing the following isomorphism: "
   ]
  },
  {
   "cell_type": "code",
   "execution_count": null,
   "metadata": {},
   "outputs": [],
   "source": [
    "class Iso1b[A] extends Isomorphic[Option[A], Either[A, Unit]]:\n",
    "    // ... "
   ]
  },
  {
   "cell_type": "markdown",
   "metadata": {},
   "source": [
    "Check that these functions are mutual inverses. For that, fix $A$ to particular types (e.g. `Boolean`, `Int`, etc.), and test the equivalences `from(to(e)) == e` and `to(from(o)) == o` for some values $o$ and $e$."
   ]
  },
  {
   "cell_type": "markdown",
   "metadata": {
    "jp-MarkdownHeadingCollapsed": true,
    "tags": []
   },
   "source": [
    "#### Solution"
   ]
  },
  {
   "cell_type": "code",
   "execution_count": null,
   "metadata": {},
   "outputs": [],
   "source": [
    "class Iso1b[A] extends Isomorphic[Option[A], Either[A, Unit]]:\n",
    "    \n",
    "    def from(o: Option[A]): Either[A, Unit] = \n",
    "        o match\n",
    "            case None => Right(())\n",
    "            case Some(a) => Left(a)\n",
    "\n",
    "    def to(e: Either[A, Unit]): Option[A] = \n",
    "        e match\n",
    "            case Left(a) => Some(a)\n",
    "            case Right(()) => None"
   ]
  },
  {
   "cell_type": "code",
   "execution_count": null,
   "metadata": {},
   "outputs": [],
   "source": [
    "run(TestIso(Iso1b[Boolean])\n",
    "           (None, Some(true))\n",
    "           (Left(false), Left(true), Right(())))"
   ]
  },
  {
   "cell_type": "markdown",
   "metadata": {},
   "source": [
    "#### Your solution"
   ]
  },
  {
   "cell_type": "code",
   "execution_count": null,
   "metadata": {},
   "outputs": [],
   "source": []
  },
  {
   "cell_type": "markdown",
   "metadata": {},
   "source": [
    "## Exercise 2"
   ]
  },
  {
   "cell_type": "markdown",
   "metadata": {},
   "source": [
    "How many functions are there of type `Either[Unit, Either[Unit, Unit]] => Boolean`? Identify all of them as alternative implementations of the following signature: "
   ]
  },
  {
   "cell_type": "code",
   "execution_count": null,
   "metadata": {},
   "outputs": [],
   "source": [
    "def f1(e: Either[Unit, Either[Unit, Unit]]): Boolean = e match\n",
    "    case Left(()) => ??? \n",
    "    case Right(Left(())) => ??? \n",
    "    case Right(Right(())) => ??? "
   ]
  },
  {
   "cell_type": "markdown",
   "metadata": {},
   "source": [
    "Idem, as alternative lambda expressions:"
   ]
  },
  {
   "cell_type": "code",
   "execution_count": null,
   "metadata": {},
   "outputs": [],
   "source": [
    "val f1: Either[Unit, Either[Unit, Unit]] => Boolean = \n",
    "    ???"
   ]
  },
  {
   "cell_type": "markdown",
   "metadata": {
    "jp-MarkdownHeadingCollapsed": true,
    "tags": []
   },
   "source": [
    "#### Solution"
   ]
  },
  {
   "cell_type": "code",
   "execution_count": null,
   "metadata": {},
   "outputs": [],
   "source": [
    "def f1(e: Either[Unit, Either[Unit, Unit]]): Boolean = e match\n",
    "    case Left(()) => false \n",
    "    case Right(Left(())) => false \n",
    "    case Right(Right(())) => false "
   ]
  },
  {
   "cell_type": "code",
   "execution_count": null,
   "metadata": {},
   "outputs": [],
   "source": [
    "def f2(e: Either[Unit, Either[Unit, Unit]]): Boolean = e match\n",
    "    case Left(()) => true \n",
    "    case Right(Left(())) => false \n",
    "    case Right(Right(())) => false "
   ]
  },
  {
   "cell_type": "code",
   "execution_count": null,
   "metadata": {},
   "outputs": [],
   "source": [
    "def f3(e: Either[Unit, Either[Unit, Unit]]): Boolean = e match\n",
    "    case Left(()) => false\n",
    "    case Right(Left(())) => true\n",
    "    case Right(Right(())) => false "
   ]
  },
  {
   "cell_type": "code",
   "execution_count": null,
   "metadata": {},
   "outputs": [],
   "source": [
    "def f4(e: Either[Unit, Either[Unit, Unit]]): Boolean = e match\n",
    "    case Left(()) => true \n",
    "    case Right(Left(())) => true\n",
    "    case Right(Right(())) => false "
   ]
  },
  {
   "cell_type": "code",
   "execution_count": null,
   "metadata": {},
   "outputs": [],
   "source": [
    "def f5(e: Either[Unit, Either[Unit, Unit]]): Boolean = e match\n",
    "    case Left(()) => false \n",
    "    case Right(Left(())) => false \n",
    "    case Right(Right(())) => true "
   ]
  },
  {
   "cell_type": "code",
   "execution_count": null,
   "metadata": {},
   "outputs": [],
   "source": [
    "def f6(e: Either[Unit, Either[Unit, Unit]]): Boolean = e match\n",
    "    case Left(()) => true \n",
    "    case Right(Left(())) => false \n",
    "    case Right(Right(())) => true "
   ]
  },
  {
   "cell_type": "code",
   "execution_count": null,
   "metadata": {},
   "outputs": [],
   "source": [
    "def f7(e: Either[Unit, Either[Unit, Unit]]): Boolean = e match\n",
    "    case Left(()) => false\n",
    "    case Right(Left(())) => true\n",
    "    case Right(Right(())) => true "
   ]
  },
  {
   "cell_type": "code",
   "execution_count": null,
   "metadata": {},
   "outputs": [],
   "source": [
    "def f8(e: Either[Unit, Either[Unit, Unit]]): Boolean = e match\n",
    "    case Left(()) => true \n",
    "    case Right(Left(())) => true\n",
    "    case Right(Right(())) => true "
   ]
  },
  {
   "cell_type": "markdown",
   "metadata": {},
   "source": [
    "With lambda expressions: "
   ]
  },
  {
   "cell_type": "code",
   "execution_count": null,
   "metadata": {},
   "outputs": [],
   "source": [
    "val f8: Either[Unit, Either[Unit, Unit]] => Boolean =\n",
    "    case Left(()) => true \n",
    "    case Right(Left(())) => true\n",
    "    case Right(Right(())) => true "
   ]
  },
  {
   "cell_type": "markdown",
   "metadata": {},
   "source": [
    "etc."
   ]
  },
  {
   "cell_type": "markdown",
   "metadata": {},
   "source": [
    "#### Your solution"
   ]
  },
  {
   "cell_type": "code",
   "execution_count": null,
   "metadata": {},
   "outputs": [],
   "source": []
  },
  {
   "cell_type": "markdown",
   "metadata": {},
   "source": [
    "## Exercise 3"
   ]
  },
  {
   "cell_type": "markdown",
   "metadata": {},
   "source": [
    "How many different implementations are there of the following function? Recall that two implementations will be considered different if the corresponding mathematical functions are different."
   ]
  },
  {
   "cell_type": "code",
   "execution_count": null,
   "metadata": {},
   "outputs": [],
   "source": [
    "def f1(b: Boolean): Either[Unit, Either[Unit, Unit]] = \n",
    "    ???"
   ]
  },
  {
   "cell_type": "markdown",
   "metadata": {
    "jp-MarkdownHeadingCollapsed": true,
    "tags": []
   },
   "source": [
    "#### Solution"
   ]
  },
  {
   "cell_type": "code",
   "execution_count": null,
   "metadata": {},
   "outputs": [],
   "source": [
    "def f1(b: Boolean): Either[Unit, Either[Unit, Unit]] = \n",
    "    Left(())\n",
    "\n",
    "def f2(b: Boolean): Either[Unit, Either[Unit, Unit]] = \n",
    "    Right(Left(()))\n",
    "\n",
    "def f3(b: Boolean): Either[Unit, Either[Unit, Unit]] = \n",
    "    Right(Right(()))\n",
    "\n",
    "def f4(b: Boolean): Either[Unit, Either[Unit, Unit]] = \n",
    "    if b then Left(()) else Right(Left(()))\n",
    "\n",
    "def f5(b: Boolean): Either[Unit, Either[Unit, Unit]] = \n",
    "    if b then Right(Left(())) else Right(Right(()))\n",
    "\n",
    "def f6(b: Boolean): Either[Unit, Either[Unit, Unit]] = \n",
    "    if b then Left(()) else Right(Right(()))\n",
    "\n",
    "def f7(b: Boolean): Either[Unit, Either[Unit, Unit]] = \n",
    "    if !b then Left(()) else Right(Left(()))\n",
    "\n",
    "def f8(b: Boolean): Either[Unit, Either[Unit, Unit]] = \n",
    "    if !b then Right(Left(())) else Right(Right(()))\n",
    "\n",
    "def f9(b: Boolean): Either[Unit, Either[Unit, Unit]] = \n",
    "    if !b then Left(()) else Right(Right(()))\n"
   ]
  },
  {
   "cell_type": "markdown",
   "metadata": {},
   "source": [
    "#### Your solution"
   ]
  },
  {
   "cell_type": "code",
   "execution_count": null,
   "metadata": {},
   "outputs": [],
   "source": []
  },
  {
   "cell_type": "markdown",
   "metadata": {},
   "source": [
    "## Exercise 4"
   ]
  },
  {
   "cell_type": "markdown",
   "metadata": {},
   "source": [
    "Show that the following isomorphism holds for exponent types: $X => (Y => Z) \\cong ((Y, X)) => Z$, for all types $X$, $Y$ and $Z$."
   ]
  },
  {
   "cell_type": "code",
   "execution_count": null,
   "metadata": {},
   "outputs": [],
   "source": [
    "class Iso[X, Y, Z] extends Isomorphic[X => (Y => Z), ((Y, X)) => Z]\n",
    "    // ... "
   ]
  },
  {
   "cell_type": "markdown",
   "metadata": {},
   "source": [
    "Implement function equality for the corresponding signatures and check that both functions, `curry` and `uncurry`, are inverses of each other for two sample functions $ex1$ and $ex2$:  "
   ]
  },
  {
   "cell_type": "code",
   "execution_count": null,
   "metadata": {},
   "outputs": [],
   "source": [
    "def ex1: Boolean => Boolean => Boolean = b1 => b2 => false\n",
    "\n",
    "def ex2: ((Boolean, Boolean)) => Boolean = (b1, b2) => true"
   ]
  },
  {
   "cell_type": "markdown",
   "metadata": {
    "jp-MarkdownHeadingCollapsed": true,
    "tags": []
   },
   "source": [
    "#### Solution"
   ]
  },
  {
   "cell_type": "code",
   "execution_count": null,
   "metadata": {},
   "outputs": [],
   "source": [
    "class Iso[X, Y, Z] extends Isomorphic[X => (Y => Z), ((Y, X)) => Z]:\n",
    "    \n",
    "    // uncurry\n",
    "    def from(f: X => Y => Z): ((Y, X)) => Z = \n",
    "        (y, x) => f(x)(y)\n",
    " \n",
    "    // curry\n",
    "    def to(f: ((Y, X)) => Z): X => Y => Z = \n",
    "        x => y => f(y, x)\n"
   ]
  },
  {
   "cell_type": "code",
   "execution_count": null,
   "metadata": {},
   "outputs": [],
   "source": [
    "object Iso1 extends Iso[Boolean, Boolean, Boolean]:\n",
    "    \n",
    "    override def equalA(f1: Boolean => Boolean => Boolean, \n",
    "               f2: Boolean => Boolean => Boolean): Boolean = \n",
    "        f1(false)(false) == f2(false)(false) &&\n",
    "        f1(false)(true) == f2(false)(true) &&\n",
    "        f1(true)(false) == f2(true)(false) &&\n",
    "        f1(true)(true) == f2(true)(true)\n",
    "    \n",
    "    override def equalB(f1: ((Boolean, Boolean)) => Boolean, \n",
    "               f2: ((Boolean, Boolean)) => Boolean): Boolean = \n",
    "        f1(false,false) == f2(false,false) &&\n",
    "        f1(false,true) == f2(false,true) &&\n",
    "        f1(true,false) == f2(true,false) &&\n",
    "        f1(true,true) == f2(true,true)"
   ]
  },
  {
   "cell_type": "code",
   "execution_count": null,
   "metadata": {},
   "outputs": [],
   "source": [
    "run(TestIso(Iso1)(ex1)(ex2))"
   ]
  },
  {
   "cell_type": "markdown",
   "metadata": {},
   "source": [
    "#### Your solution"
   ]
  },
  {
   "cell_type": "code",
   "execution_count": null,
   "metadata": {},
   "outputs": [],
   "source": []
  },
  {
   "cell_type": "markdown",
   "metadata": {},
   "source": [
    "## Exercise 5"
   ]
  },
  {
   "cell_type": "markdown",
   "metadata": {},
   "source": [
    "Shows that the following law holds for exponent types: $X => (Y, Z) \\cong (X => Y, X => Z)$, for all types $X$, $Y$ and $Z$."
   ]
  },
  {
   "cell_type": "markdown",
   "metadata": {},
   "source": [
    "Fix $X$, $Y$ and $Z$ to particular types, implement equality for the corresponding signatures and check that both functions, `from` and `to`, are inverses of each other given two sample functions of your choice.  "
   ]
  },
  {
   "cell_type": "markdown",
   "metadata": {
    "jp-MarkdownHeadingCollapsed": true,
    "tags": []
   },
   "source": [
    "#### Solution"
   ]
  },
  {
   "cell_type": "code",
   "execution_count": null,
   "metadata": {},
   "outputs": [],
   "source": [
    "class Iso[X, Y, Z] extends Isomorphic[X => (Y, Z), (X => Y, X => Z)]:\n",
    "    \n",
    "    def from(f: X => (Y, Z)): (X => Y, X => Z) = \n",
    "        (x => f(x)._1, x => f(x)._2)\n",
    "\n",
    "    def to(t: (X => Y, X => Z)): X => (Y, Z) = t match\n",
    "        case (f1, f2) => x => (f1(x), f2(x))"
   ]
  },
  {
   "cell_type": "code",
   "execution_count": null,
   "metadata": {},
   "outputs": [],
   "source": [
    "object Iso1 extends Iso[Boolean, Boolean, Boolean]:\n",
    "    \n",
    "    def equalAux(f1: Boolean => Boolean, f2: Boolean => Boolean): Boolean = \n",
    "        f1(false) == f2(false) && \n",
    "        f1(true) == f2(true)\n",
    "    \n",
    "    override def equalA(f1: Boolean => (Boolean, Boolean), f2: Boolean => (Boolean, Boolean)): Boolean = \n",
    "        f1(false) == f2(false) && \n",
    "        f1(true) == f2(true)\n",
    "    \n",
    "    override def equalB(f1: (Boolean => Boolean, Boolean => Boolean), \n",
    "                        f2: (Boolean => Boolean, Boolean => Boolean)): Boolean = \n",
    "        equalAux(f1._1, f2._1) && equalAux(f1._2, f2._2)"
   ]
  },
  {
   "cell_type": "code",
   "execution_count": null,
   "metadata": {},
   "outputs": [],
   "source": [
    "val ex1: Boolean => (Boolean, Boolean) = \n",
    "    _ => (false, false)\n",
    "\n",
    "val ex2: (Boolean => Boolean, Boolean => Boolean) = \n",
    "    (_ => true, ! _)"
   ]
  },
  {
   "cell_type": "code",
   "execution_count": null,
   "metadata": {},
   "outputs": [],
   "source": [
    "run(TestIso(Iso1)(ex1)(ex2))"
   ]
  },
  {
   "cell_type": "markdown",
   "metadata": {},
   "source": [
    "#### Your solution"
   ]
  },
  {
   "cell_type": "code",
   "execution_count": null,
   "metadata": {},
   "outputs": [],
   "source": []
  },
  {
   "cell_type": "markdown",
   "metadata": {},
   "source": [
    "## Exercise 6"
   ]
  },
  {
   "cell_type": "markdown",
   "metadata": {},
   "source": [
    "Shows that the following isomorphisms holds for algebraic data types:"
   ]
  },
  {
   "cell_type": "markdown",
   "metadata": {},
   "source": [
    "$$ \n",
    "\\begin{array}{rcl}\n",
    "Either[X,Nothing] & \\cong & X \\\\\n",
    "\\end{array}\n",
    "$$\n",
    "\n"
   ]
  },
  {
   "cell_type": "code",
   "execution_count": null,
   "metadata": {},
   "outputs": [],
   "source": [
    "// extends trait Isomorphic"
   ]
  },
  {
   "cell_type": "markdown",
   "metadata": {},
   "source": [
    "$$ \n",
    "\\begin{array}{rcl}\n",
    "Either[X,Y] & \\cong & Either[Y,X] \\\\\n",
    "\\end{array}\n",
    "$$\n",
    "\n"
   ]
  },
  {
   "cell_type": "code",
   "execution_count": null,
   "metadata": {},
   "outputs": [],
   "source": [
    "// extends trait Isomorphic"
   ]
  },
  {
   "cell_type": "markdown",
   "metadata": {},
   "source": [
    "$$ \n",
    "\\begin{array}{rcl}\n",
    "Either[X,Either[Y,Z]] & \\cong & Either[Either[X,Y],Z] \\\\\n",
    "\\end{array}\n",
    "$$\n",
    "\n"
   ]
  },
  {
   "cell_type": "code",
   "execution_count": null,
   "metadata": {},
   "outputs": [],
   "source": [
    "// extends trait Isomorphic"
   ]
  },
  {
   "cell_type": "markdown",
   "metadata": {},
   "source": [
    "$$ \n",
    "\\begin{array}{rcl}\n",
    "(X,Nothing) & \\cong & Nothing \\\\\n",
    "\\end{array}\n",
    "$$\n",
    "\n"
   ]
  },
  {
   "cell_type": "code",
   "execution_count": null,
   "metadata": {},
   "outputs": [],
   "source": [
    "// extends trait Isomorphic"
   ]
  },
  {
   "cell_type": "markdown",
   "metadata": {},
   "source": [
    "$$ \n",
    "\\begin{array}{rcl}\n",
    "(X,Unit) & \\cong & X \\\\\n",
    "\\end{array}\n",
    "$$\n",
    "\n"
   ]
  },
  {
   "cell_type": "code",
   "execution_count": null,
   "metadata": {},
   "outputs": [],
   "source": [
    "// extends trait Isomorphic"
   ]
  },
  {
   "cell_type": "markdown",
   "metadata": {},
   "source": [
    "$$ \n",
    "\\begin{array}{rcl}\n",
    "(X,Y) & \\cong & (Y,X) \\\\\n",
    "\\end{array}\n",
    "$$\n",
    "\n"
   ]
  },
  {
   "cell_type": "code",
   "execution_count": null,
   "metadata": {},
   "outputs": [],
   "source": [
    "// extends trait Isomorphic"
   ]
  },
  {
   "cell_type": "markdown",
   "metadata": {},
   "source": [
    "$$ \n",
    "\\begin{array}{rcl}\n",
    "(X,(Y,Z)) & \\cong & ((X,Y),Z) \\\\\n",
    "\\end{array}\n",
    "$$\n",
    "\n"
   ]
  },
  {
   "cell_type": "code",
   "execution_count": null,
   "metadata": {},
   "outputs": [],
   "source": [
    "// extends trait Isomorphic"
   ]
  },
  {
   "cell_type": "markdown",
   "metadata": {},
   "source": [
    "$$ \n",
    "\\begin{array}{rcl}\n",
    "(X,Either[Y,Z]) & \\cong & Either[(X,Y),(X,Z)] \\\\\n",
    "\\end{array}\n",
    "$$\n",
    "\n"
   ]
  },
  {
   "cell_type": "code",
   "execution_count": null,
   "metadata": {},
   "outputs": [],
   "source": [
    "// extends trait Isomorphic"
   ]
  },
  {
   "cell_type": "markdown",
   "metadata": {},
   "source": [
    "# Ejercicio 7"
   ]
  },
  {
   "cell_type": "markdown",
   "metadata": {},
   "source": [
    "Demuestra el siguiente isomorfismo entre tipos algebraicos de datos para todo tipo $X$: \n",
    "\n",
    "$(Unit+Unit)^X \\cong Boolean^X$"
   ]
  },
  {
   "cell_type": "code",
   "execution_count": null,
   "metadata": {},
   "outputs": [],
   "source": [
    "abstract class Isomorphic7[X] extends Isomorphic[X => Either[Unit, Unit], X => Boolean]"
   ]
  },
  {
   "cell_type": "markdown",
   "metadata": {},
   "source": [
    "A continuación se muestran dos ejemplos de funciones para los casos de prueba de este isomorfismo cuando $X=Int$:"
   ]
  },
  {
   "cell_type": "code",
   "execution_count": 4,
   "metadata": {},
   "outputs": [
    {
     "data": {
      "text/plain": [
       "\u001b[36mf\u001b[39m: \u001b[32mInt\u001b[39m => \u001b[32mEither\u001b[39m[\u001b[32mUnit\u001b[39m, \u001b[32mUnit\u001b[39m] = ammonite.$sess.cell4$Helper$$Lambda$3514/1475037471@207455cb\n",
       "\u001b[36mg\u001b[39m: \u001b[32mInt\u001b[39m => \u001b[32mBoolean\u001b[39m = ammonite.$sess.cell4$Helper$$Lambda$3515/1473748731@9b7fe05"
      ]
     },
     "execution_count": 4,
     "metadata": {},
     "output_type": "execute_result"
    }
   ],
   "source": [
    "val f: Int => Either[Unit, Unit] = \n",
    "    i => if (i % 2 == 0) Left(()) else Right(())\n",
    "\n",
    "val g: Int => Boolean = \n",
    "    _ % 2 == 0"
   ]
  },
  {
   "cell_type": "markdown",
   "metadata": {},
   "source": [
    "Para poder comparar estas funciones se deberán sobreescribir los métodos de comparación de la siguiente forma:"
   ]
  },
  {
   "cell_type": "code",
   "execution_count": 5,
   "metadata": {},
   "outputs": [
    {
     "data": {
      "text/plain": [
       "defined \u001b[32mtrait\u001b[39m \u001b[36mEquals7\u001b[39m"
      ]
     },
     "execution_count": 5,
     "metadata": {},
     "output_type": "execute_result"
    }
   ],
   "source": [
    "trait Equals7 extends Isomorphic[Int => Either[Unit, Unit], Int => Boolean]:\n",
    "    \n",
    "    override def equalA(f1: Int => Either[Unit, Unit], f2: Int => Either[Unit, Unit]): Boolean = \n",
    "        f1(0) == f2(0) && \n",
    "        f1(1) == f2(1) && \n",
    "        f1(2) == f2(2) && \n",
    "        f1(3) == f2(3)\n",
    "\n",
    "    override def equalB(f1: Int => Boolean, f2: Int => Boolean): Boolean = \n",
    "        f1(0) == f2(0) && \n",
    "        f1(1) == f2(1) && \n",
    "        f1(2) == f2(2) && \n",
    "        f1(3) == f2(3)        "
   ]
  },
  {
   "cell_type": "markdown",
   "metadata": {
    "jp-MarkdownHeadingCollapsed": true,
    "tags": []
   },
   "source": [
    "#### Solution"
   ]
  },
  {
   "cell_type": "code",
   "execution_count": 6,
   "metadata": {},
   "outputs": [
    {
     "data": {
      "text/plain": [
       "defined \u001b[32mclass\u001b[39m \u001b[36mIsomorphic7\u001b[39m"
      ]
     },
     "execution_count": 6,
     "metadata": {},
     "output_type": "execute_result"
    }
   ],
   "source": [
    "class Isomorphic7[X] extends Isomorphic[X => Either[Unit, Unit], X => Boolean]:\n",
    "\n",
    "    def from(a: X => Either[Unit, Unit]): X => Boolean = \n",
    "        x => a(x) match\n",
    "            case Left(_) => false\n",
    "            case Right(_) => true\n",
    "\n",
    "    def to(b: X => Boolean): X => Either[Unit, Unit] = \n",
    "        x => if b(x) then Right(()) else Left(())"
   ]
  },
  {
   "cell_type": "code",
   "execution_count": 7,
   "metadata": {},
   "outputs": [
    {
     "name": "stdout",
     "output_type": "stream",
     "text": [
      "\u001b[32mcell3$Helper$TestIso:\u001b[0m\n",
      "\u001b[32mlaw1\u001b[0m\n",
      "\u001b[32m- should hold\u001b[0m\n",
      "\u001b[32mlaw2\u001b[0m\n",
      "\u001b[32m- should hold\u001b[0m\n"
     ]
    }
   ],
   "source": [
    "run(TestIso(new Isomorphic7[Int] with Equals7)(f)(g))"
   ]
  },
  {
   "cell_type": "markdown",
   "metadata": {},
   "source": [
    "#### Your solution"
   ]
  },
  {
   "cell_type": "code",
   "execution_count": null,
   "metadata": {},
   "outputs": [],
   "source": [
    "// extends trait Isomorphic"
   ]
  },
  {
   "cell_type": "markdown",
   "metadata": {},
   "source": [
    "# Ejercicio 8"
   ]
  },
  {
   "cell_type": "markdown",
   "metadata": {},
   "source": [
    "Demuestra el siguiente isomorfismo entre tipos algebraicos de datos para todo tipo $X$, $Y$ y $Z$: \n",
    "\n",
    "$(Unit+Y+Z+Y*Z)^X \\cong (Y+Unit)^X * (Z+Unit)^X$"
   ]
  },
  {
   "cell_type": "code",
   "execution_count": null,
   "metadata": {},
   "outputs": [],
   "source": [
    "abstract class Isomorphic8[X, Y, Z] \n",
    "extends Isomorphic[X => Either[Unit, Either[Y, Either[Z, (Y, Z)]]], \n",
    "                   (X => Option[Y], X => Option[Z])]"
   ]
  },
  {
   "cell_type": "markdown",
   "metadata": {},
   "source": [
    "A continuación se muestran dos objetos para las pruebas de este isomorfismo cuando $X=Int$, $Y=Unit$ y $Z=Unit$:"
   ]
  },
  {
   "cell_type": "code",
   "execution_count": 8,
   "metadata": {},
   "outputs": [
    {
     "data": {
      "text/plain": [
       "\u001b[36mf\u001b[39m: \u001b[32mInt\u001b[39m => \u001b[32mEither\u001b[39m[\u001b[32mUnit\u001b[39m, \u001b[32mEither\u001b[39m[\u001b[32mUnit\u001b[39m, \u001b[32mEither\u001b[39m[\u001b[32mUnit\u001b[39m, (\u001b[32mUnit\u001b[39m, \u001b[32mUnit\u001b[39m)]]] = ammonite.$sess.cell8$Helper$$Lambda$3773/1478526739@5a3d5251\n",
       "\u001b[36mg\u001b[39m: (\u001b[32mInt\u001b[39m => \u001b[32mOption\u001b[39m[\u001b[32mUnit\u001b[39m], \u001b[32mInt\u001b[39m => \u001b[32mOption\u001b[39m[\u001b[32mUnit\u001b[39m]) = (\n",
       "  ammonite.$sess.cell8$Helper$$Lambda$3774/1645661915@f479104,\n",
       "  ammonite.$sess.cell8$Helper$$Lambda$3775/181429860@78dc1108\n",
       ")"
      ]
     },
     "execution_count": 8,
     "metadata": {},
     "output_type": "execute_result"
    }
   ],
   "source": [
    "val f: Int => Either[Unit, Either[Unit, Either[Unit, (Unit, Unit)]]] = \n",
    "    i => if (i % 4 == 0) Left(()) \n",
    "         else if (i % 4 == 1) Right(Left(()))\n",
    "         else if (i % 4 == 2) Right(Right(Left(())))\n",
    "         else Right(Right(Right(((),()))))\n",
    "\n",
    "val g: (Int => Option[Unit], Int => Option[Unit]) = \n",
    "    (i => if (i % 2 == 0) None else Some(()),\n",
    "     i => if (i % 2 == 0) None else Some(()))"
   ]
  },
  {
   "cell_type": "markdown",
   "metadata": {},
   "source": [
    "Asimismo, se deberán las siguientes redefiniciones de los métodos de comparación:"
   ]
  },
  {
   "cell_type": "code",
   "execution_count": 9,
   "metadata": {},
   "outputs": [
    {
     "data": {
      "text/plain": [
       "defined \u001b[32mtrait\u001b[39m \u001b[36mEquals8\u001b[39m"
      ]
     },
     "execution_count": 9,
     "metadata": {},
     "output_type": "execute_result"
    }
   ],
   "source": [
    "trait Equals8 extends Isomorphic[Int => Either[Unit, Either[Unit, Either[Unit, (Unit, Unit)]]], \n",
    "                                 (Int => Option[Unit], Int => Option[Unit])]:\n",
    "    override def equalB(a1: (Int => Option[Unit], Int => Option[Unit]), \n",
    "                        a2: (Int => Option[Unit], Int => Option[Unit])): Boolean = \n",
    "        a1._1(0) == a2._1(0)\n",
    "        a1._1(1) == a2._1(1)\n",
    "        a1._1(2) == a2._1(2)\n",
    "        a1._1(3) == a2._1(3)\n",
    "        a1._2(0) == a2._2(0)\n",
    "        a1._2(1) == a2._2(1)\n",
    "        a1._2(2) == a2._2(2)\n",
    "        a1._2(3) == a2._2(3)\n",
    "    \n",
    "    override def equalA(a1: Int => Either[Unit, Either[Unit, Either[Unit, (Unit, Unit)]]],\n",
    "                        a2: Int => Either[Unit, Either[Unit, Either[Unit, (Unit, Unit)]]]): Boolean = \n",
    "        a1(0) == a2(0)\n",
    "        a1(1) == a2(1)\n",
    "        a1(2) == a2(2)\n",
    "        a1(3) == a2(3)"
   ]
  },
  {
   "cell_type": "markdown",
   "metadata": {},
   "source": [
    "#### Your solution"
   ]
  },
  {
   "cell_type": "code",
   "execution_count": null,
   "metadata": {},
   "outputs": [],
   "source": []
  }
 ],
 "metadata": {
  "kernelspec": {
   "display_name": "Scala 3.3",
   "language": "scala",
   "name": "scala33"
  },
  "language_info": {
   "codemirror_mode": "text/x-scala",
   "file_extension": ".sc",
   "mimetype": "text/x-scala",
   "name": "scala",
   "nbconvert_exporter": "script",
   "version": "2.13.12"
  }
 },
 "nbformat": 4,
 "nbformat_minor": 4
}
