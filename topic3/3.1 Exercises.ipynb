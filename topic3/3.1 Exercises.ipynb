{
 "cells": [
  {
   "cell_type": "markdown",
   "metadata": {},
   "source": [
    "# Topic 3. Algebraic data types\n",
    "\n",
    "## 3.1 Functions"
   ]
  },
  {
   "cell_type": "markdown",
   "metadata": {},
   "source": [
    "## Exercise 1"
   ]
  },
  {
   "cell_type": "markdown",
   "metadata": {},
   "source": [
    "Implement the following _function-methods_ as standard _function-values_ without any syntactic sugar, i.e. as instances of the corresponding trait [Function1](https://www.scala-lang.org/api/current/scala/Function1.html), [Function2](https://www.scala-lang.org/api/current/scala/Function2.html), etc. Implement alternative versions using `object`/`val` declarations, and different levels of type inference."
   ]
  },
  {
   "cell_type": "code",
   "execution_count": null,
   "metadata": {},
   "outputs": [],
   "source": [
    "import scala.math._\n",
    "\n",
    "object FunctionMethods{\n",
    "    \n",
    "    def circleArea(radius: Double): Double = \n",
    "        Pi*pow(radius, 2)\n",
    "    \n",
    "    def triangleArea(base: Double, height: Double): Double = \n",
    "        base * height / 2\n",
    "    \n",
    "    def rectangleArea(width: Double, height: Double): Double = \n",
    "        width * height\n",
    "    \n",
    "    def trapezoidArea(width1: Double, width2: Double, height: Double): Double = \n",
    "        (width1 + width2) * height / 2 \n",
    "}"
   ]
  },
  {
   "cell_type": "code",
   "execution_count": null,
   "metadata": {},
   "outputs": [],
   "source": [
    "import scala.math._\n",
    "\n",
    "object FunctionValuesNoSugar{\n",
    "    \n",
    "    // object circleArea ...\n",
    "    \n",
    "    // object triangleArea ...\n",
    "    \n",
    "    // val rectangleArea = ...\n",
    "    \n",
    "    // val trapezoidArea: ... = ...\n",
    "}"
   ]
  },
  {
   "cell_type": "markdown",
   "metadata": {},
   "source": [
    "## Exercise 2"
   ]
  },
  {
   "cell_type": "markdown",
   "metadata": {},
   "source": [
    "The same as in exercise 1, but using lambda expressions. Implement alternative versions with different levels of type inference and syntactic sugar (e.g. using _underscore_ syntax)."
   ]
  },
  {
   "cell_type": "code",
   "execution_count": null,
   "metadata": {},
   "outputs": [],
   "source": [
    "import scala.math._\n",
    "\n",
    "object FunctionValuesSugar{\n",
    "    \n",
    "    // val circleArea: ??? => ??? = ???\n",
    "            \n",
    "    // val triangleArea: ??? => ??? = ???\n",
    "        \n",
    "    // val rectangleArea = ???\n",
    "    \n",
    "    // val trapezoidArea: ??? = ???\n",
    "}"
   ]
  },
  {
   "cell_type": "markdown",
   "metadata": {},
   "source": [
    "## Exercise 3 "
   ]
  },
  {
   "cell_type": "markdown",
   "metadata": {},
   "source": [
    "Implement the function-methods as _currified_ function-values."
   ]
  },
  {
   "cell_type": "code",
   "execution_count": null,
   "metadata": {},
   "outputs": [],
   "source": [
    "import scala.math._\n",
    "\n",
    "object FunctionValuesCurrified{\n",
    "    \n",
    "    // val circleArea = ...\n",
    "    \n",
    "    // val triangleArea = ...\n",
    "    \n",
    "    // val rectangleArea = ...\n",
    "    \n",
    "    // val trapezoid = ...\n",
    "}"
   ]
  },
  {
   "cell_type": "markdown",
   "metadata": {},
   "source": [
    "## Exercise 4"
   ]
  },
  {
   "cell_type": "markdown",
   "metadata": {},
   "source": [
    "Given the following monomorphic version of the `call` HOF "
   ]
  },
  {
   "cell_type": "code",
   "execution_count": null,
   "metadata": {},
   "outputs": [],
   "source": [
    "def call(f: Int => Int, a: Int): Int =\n",
    "    f(a)"
   ]
  },
  {
   "cell_type": "markdown",
   "metadata": {},
   "source": [
    "implement a polymorphic version as a function-method, so that it can work with multiple types (i.e. not only with functions of type `Int => Int`). Test that your implementation is correct by checking that the following examples compile and work as expected."
   ]
  },
  {
   "cell_type": "code",
   "execution_count": null,
   "metadata": {},
   "outputs": [],
   "source": [
    "// call[Int, Int](_ + 1, 1)\n",
    "// call((i: Int) => i+1, 3)\n",
    "// call(\"hello, \" + _, \"pepe\")\n",
    "// call((_ : Int) > 0, 3)\n",
    "// call((i: Int) => i < 0, 2)"
   ]
  },
  {
   "cell_type": "markdown",
   "metadata": {},
   "source": [
    "## Exercise 5"
   ]
  },
  {
   "cell_type": "markdown",
   "metadata": {},
   "source": [
    "Given the following monomorphic version of the `call` HOF "
   ]
  },
  {
   "cell_type": "code",
   "execution_count": null,
   "metadata": {},
   "outputs": [],
   "source": [
    "def call(f: Int => Int)(a: Int): Int =\n",
    "    f(a)"
   ]
  },
  {
   "cell_type": "markdown",
   "metadata": {},
   "source": [
    "implement a polymorphic version as a currified function-value, so that it can work with multiple types. The implementation must comply with the following template:"
   ]
  },
  {
   "cell_type": "code",
   "execution_count": null,
   "metadata": {},
   "outputs": [],
   "source": [
    "// def call[A, B]: ... = ???"
   ]
  },
  {
   "cell_type": "markdown",
   "metadata": {},
   "source": [
    "Test that your implementation is correct by checking that the following examples compile and work as expected."
   ]
  },
  {
   "cell_type": "code",
   "execution_count": null,
   "metadata": {},
   "outputs": [],
   "source": [
    "// call[Int, Int](_ + 1)(1)\n",
    "// call((i: Int) => i+1)(3)\n",
    "// call(\"hello, \" + _)(\"pepe\")\n",
    "// call((_ : Int) > 0)(3)\n",
    "// call((i: Int) => i < 0)(2)"
   ]
  }
 ],
 "metadata": {
  "kernelspec": {
   "display_name": "Scala",
   "language": "scala",
   "name": "scala"
  },
  "language_info": {
   "codemirror_mode": "text/x-scala",
   "file_extension": ".sc",
   "mimetype": "text/x-scala",
   "name": "scala",
   "nbconvert_exporter": "script",
   "version": "2.13.1"
  }
 },
 "nbformat": 4,
 "nbformat_minor": 2
}
