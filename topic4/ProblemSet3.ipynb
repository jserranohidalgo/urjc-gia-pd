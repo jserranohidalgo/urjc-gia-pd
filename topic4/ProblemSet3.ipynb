{
 "cells": [
  {
   "cell_type": "markdown",
   "metadata": {},
   "source": [
    "# Declarative Programming @ URJC\n",
    "# Functional programming\n",
    "## Problem Set 3: Recursion"
   ]
  },
  {
   "cell_type": "code",
   "execution_count": null,
   "metadata": {},
   "outputs": [],
   "source": [
    "import $ivy.`org.scalatest::scalatest:3.0.8`\n",
    "import org.scalatest._"
   ]
  },
  {
   "cell_type": "markdown",
   "metadata": {},
   "source": [
    "# Problem 1"
   ]
  },
  {
   "cell_type": "markdown",
   "metadata": {},
   "source": [
    "Implement a function that drops the first _n_ elements of a list. If the number of elements to be dropped is 0, it must return the same list. The implementation must be tail-recursive."
   ]
  },
  {
   "cell_type": "code",
   "execution_count": null,
   "metadata": {},
   "outputs": [],
   "source": [
    "class TestDrop(\n",
    "    drop: (List[Boolean], Int) => List[Boolean]\n",
    ") extends FlatSpec with Matchers{\n",
    " \n",
    "    \"drop less elements than the list length\" should \"return the remaining elements\" in {\n",
    "        \n",
    "        drop(List(true, false), 0) shouldBe \n",
    "            List(true, false)\n",
    "        \n",
    "        drop(List(true, false, false, true), 2) shouldBe \n",
    "            List(false, true)\n",
    "        \n",
    "        drop(List(true, false, true, true, false, true), 3) shouldBe \n",
    "            List(true, false, true)\n",
    "    }\n",
    "    \n",
    "    \"drop a number of elements greater than or equal to its length\" should \"return the empty list\" in {\n",
    "        drop(List(), 0) shouldBe \n",
    "            List()\n",
    "    \n",
    "        drop(List(true, false, true, true, false, true), 6) shouldBe \n",
    "            List()\n",
    "\n",
    "        drop(List(), 2) shouldBe \n",
    "            List()\n",
    "        \n",
    "        drop(List(true, false, true, true, false, true), 8) shouldBe \n",
    "            List()\n",
    "    }\n",
    "}"
   ]
  },
  {
   "cell_type": "code",
   "execution_count": null,
   "metadata": {},
   "outputs": [],
   "source": [
    "@annotation.tailrec\n",
    "def drop[A](list: List[A], n: Int): List[A] = \n",
    "    ???"
   ]
  },
  {
   "cell_type": "code",
   "execution_count": null,
   "metadata": {},
   "outputs": [],
   "source": [
    "run(new TestDrop(drop))"
   ]
  },
  {
   "cell_type": "markdown",
   "metadata": {},
   "source": [
    "# Problem 2"
   ]
  },
  {
   "cell_type": "markdown",
   "metadata": {},
   "source": [
    "Create a function that counts the number of occurrences of a given element in a list."
   ]
  },
  {
   "cell_type": "code",
   "execution_count": null,
   "metadata": {},
   "outputs": [],
   "source": [
    "case class TestOcurrences(\n",
    "    occurrences: (List[String], String) => Int) \n",
    "extends FlatSpec with Matchers{\n",
    "    \n",
    "    \"occurrences\" should \"work\" in {\n",
    "        occurrences(List(\"1\",\"1\",\"1\"), \"1\") shouldBe 3\n",
    "        occurrences(List(\"1\",\"2\",\"3\"), \"2\") shouldBe 1\n",
    "        occurrences(List(), \"3\") shouldBe 0\n",
    "        occurrences(List(\"1\",\"2\",\"3\"), \"5\") shouldBe 0\n",
    "    }\n",
    "}"
   ]
  },
  {
   "cell_type": "markdown",
   "metadata": {},
   "source": [
    "#### Part a) Implement the function recursively, without tail-recursion"
   ]
  },
  {
   "cell_type": "code",
   "execution_count": null,
   "metadata": {},
   "outputs": [],
   "source": [
    "def occurrencesR[A](list: List[A], a: A): Int = \n",
    "    ???"
   ]
  },
  {
   "cell_type": "code",
   "execution_count": null,
   "metadata": {},
   "outputs": [],
   "source": [
    "run(TestOcurrences(occurrencesR[String]))"
   ]
  },
  {
   "cell_type": "markdown",
   "metadata": {},
   "source": [
    "#### Part b) Implement the function with tail-recursion"
   ]
  },
  {
   "cell_type": "code",
   "execution_count": null,
   "metadata": {},
   "outputs": [],
   "source": [
    "def occurrencesTR[A](list: List[A], a: A): Int =\n",
    "    ???"
   ]
  },
  {
   "cell_type": "code",
   "execution_count": null,
   "metadata": {},
   "outputs": [],
   "source": [
    "run(TestOcurrences(occurrencesTR[String]))"
   ]
  },
  {
   "cell_type": "markdown",
   "metadata": {},
   "source": [
    "# Problem 3"
   ]
  },
  {
   "cell_type": "markdown",
   "metadata": {},
   "source": [
    "Generate a function that takes the first *n* elements of a list. If the length of the list is less than _n_ it must return the input list (i.e. as many elements as there are)."
   ]
  },
  {
   "cell_type": "code",
   "execution_count": null,
   "metadata": {},
   "outputs": [],
   "source": [
    "class TestTake(\n",
    "    take: (List[Char], Int) => List[Char]\n",
    ") extends FlatSpec with Matchers{\n",
    "    \n",
    "    \"take\" should \"work\" in {\n",
    "        take(List(), 0) shouldBe List()\n",
    "        take(List(), 5) shouldBe List()\n",
    "        take(List('1','2','3'), 0) shouldBe List()\n",
    "        take(List('1','2','3'), 2) shouldBe List('1','2')\n",
    "        take(List('1','2','3'), 3) shouldBe List('1','2','3')\n",
    "        take(List('1','2','3'), 10) shouldBe List('1','2','3')\n",
    "    }\n",
    "}"
   ]
  },
  {
   "cell_type": "markdown",
   "metadata": {},
   "source": [
    "The function does not need to be tail-recursive."
   ]
  },
  {
   "cell_type": "code",
   "execution_count": null,
   "metadata": {},
   "outputs": [],
   "source": [
    "def take[A](list: List[A], n: Int): List[A] = \n",
    "    ???"
   ]
  },
  {
   "cell_type": "code",
   "execution_count": null,
   "metadata": {},
   "outputs": [],
   "source": [
    "run(new TestTake(take))"
   ]
  },
  {
   "cell_type": "markdown",
   "metadata": {},
   "source": [
    "# Problem 4"
   ]
  },
  {
   "cell_type": "markdown",
   "metadata": {},
   "source": [
    "Write a function that partitions a list of integers into a list of even numbers and a list of odd numbers. "
   ]
  },
  {
   "cell_type": "code",
   "execution_count": null,
   "metadata": {},
   "outputs": [],
   "source": [
    "class TestEvenOddPartition(\n",
    "    candidate: List[Int] => (List[Int], List[Int])\n",
    ") extends FlatSpec with Matchers{\n",
    "    \n",
    "    \"partitionEvenOdd\" should \"work\" in {\n",
    "        candidate(List()) shouldBe (List(), List())\n",
    "        candidate(List(1,3,5)) shouldBe (List(1,3,5), List())\n",
    "        candidate(List(0,2,4,6)) shouldBe (List(), List(0,2,4,6))\n",
    "        candidate(List(1,2,3,4,5)) shouldBe (List(1,3,5), List(2,4))\n",
    "    }\n",
    "}"
   ]
  },
  {
   "cell_type": "markdown",
   "metadata": {},
   "source": [
    "Recall that given a [2-tuple](https://www.scala-lang.org/api/current/scala/Tuple2.html) in Scala, we can observe its components as follows:"
   ]
  },
  {
   "cell_type": "code",
   "execution_count": null,
   "metadata": {},
   "outputs": [],
   "source": [
    "val t2: (Int, String) = (3, \"tres\")\n",
    "val n: Int = t2._1\n",
    "val s: String = t2._2\n",
    "val (n1: Int, s1: String) = t2"
   ]
  },
  {
   "cell_type": "markdown",
   "metadata": {},
   "source": [
    "The function does not need to be tail-recursive."
   ]
  },
  {
   "cell_type": "code",
   "execution_count": null,
   "metadata": {},
   "outputs": [],
   "source": [
    "def partitionEvenOdd(list: List[Int]): (List[Int], List[Int]) = \n",
    "    ???"
   ]
  },
  {
   "cell_type": "code",
   "execution_count": null,
   "metadata": {},
   "outputs": [],
   "source": [
    "run(new TestEvenOddPartition(partitionEvenOdd))"
   ]
  },
  {
   "cell_type": "markdown",
   "metadata": {},
   "source": [
    "# Problem 5"
   ]
  },
  {
   "cell_type": "markdown",
   "metadata": {},
   "source": [
    "Write a function that receives a list whose values are either `A`s or `B`s, and splits them apart into two different lists of `A`s and `B`s, respectively."
   ]
  },
  {
   "cell_type": "code",
   "execution_count": null,
   "metadata": {},
   "outputs": [],
   "source": [
    "class TestSplit(split: List[Either[String, Boolean]] => (List[String], List[Boolean]))\n",
    "extends FlatSpec with Matchers{\n",
    "    \"split\" should \"work\" in {\n",
    "        split(List(Left(\"a\"), Left(\"b\"), Left(\"a\"))) shouldBe \n",
    "            (List(\"a\", \"b\", \"a\"), List())\n",
    "        split(List(Right(false), Right(false), Right(true))) shouldBe \n",
    "            (List(), List(false, false, true))\n",
    "        split(List()) shouldBe\n",
    "            (List(), List())\n",
    "        split(List(Right(false), Left(\"a\"), Right(true), Left(\"b\"), Left(\"a\"), Right(true))) shouldBe \n",
    "            (List(\"a\", \"b\", \"a\"), List(false, true, true))\n",
    "    }\n",
    "} "
   ]
  },
  {
   "cell_type": "code",
   "execution_count": null,
   "metadata": {},
   "outputs": [],
   "source": [
    "def split[A, B](l: List[Either[A, B]]): (List[A], List[B]) = \n",
    "    ???"
   ]
  },
  {
   "cell_type": "code",
   "execution_count": null,
   "metadata": {},
   "outputs": [],
   "source": [
    "run(new TestSplit(split))"
   ]
  },
  {
   "cell_type": "markdown",
   "metadata": {},
   "source": [
    "# Problem 6"
   ]
  },
  {
   "cell_type": "markdown",
   "metadata": {},
   "source": [
    "Write a funtion that receives a list of pairs of integers and returns a new list made from the sum of all pairs."
   ]
  },
  {
   "cell_type": "code",
   "execution_count": null,
   "metadata": {},
   "outputs": [],
   "source": [
    "class TestSum(\n",
    "    sum: List[(Int, Int)] => List[Int]\n",
    ") extends FlatSpec with Matchers{\n",
    "    \n",
    "    \"sum\" should \"work\" in {\n",
    "        sum(List()) shouldBe List()\n",
    "        sum(List((0,0))) shouldBe List(0)\n",
    "        sum(List((1,2), (3,4), (5,6))) shouldBe List(3, 7, 11)\n",
    "    }\n",
    "}"
   ]
  },
  {
   "cell_type": "markdown",
   "metadata": {},
   "source": [
    "The function does not need to be tail-recursive."
   ]
  },
  {
   "cell_type": "code",
   "execution_count": null,
   "metadata": {},
   "outputs": [],
   "source": [
    "def sum(list: List[(Int, Int)]): List[Int] = \n",
    "    ???"
   ]
  },
  {
   "cell_type": "code",
   "execution_count": null,
   "metadata": {},
   "outputs": [],
   "source": [
    "run(new TestSum(sum))"
   ]
  },
  {
   "cell_type": "markdown",
   "metadata": {},
   "source": [
    "# Problem 7"
   ]
  },
  {
   "cell_type": "markdown",
   "metadata": {},
   "source": [
    "Write a function that receives two lists and returns a single list whose elements are pairs made from the corresponding elements of each list."
   ]
  },
  {
   "cell_type": "code",
   "execution_count": null,
   "metadata": {},
   "outputs": [],
   "source": [
    "class TestZip(\n",
    "    zip: (List[Int], List[Char]) => List[(Int, Char)]\n",
    ") extends FlatSpec with Matchers{\n",
    "    \n",
    "    \"zip\" should \"work\" in {\n",
    "        zip(List(), List()) shouldBe List()\n",
    "        zip(List(), List('a','b')) shouldBe List()\n",
    "        zip(List(1,2,3), List()) shouldBe List()\n",
    "        zip(List(1,2,3), List('a','b','c')) shouldBe\n",
    "            List((1,'a'), (2,'b'), (3, 'c'))\n",
    "        zip(List(1,2), List('a','b','c')) shouldBe\n",
    "            List((1,'a'), (2,'b'))\n",
    "        zip(List(1,2,3), List('a','b')) shouldBe\n",
    "            List((1,'a'), (2,'b'))\n",
    "    }\n",
    "}\n"
   ]
  },
  {
   "cell_type": "markdown",
   "metadata": {},
   "source": [
    "The function does not need to be tail-recursive."
   ]
  },
  {
   "cell_type": "code",
   "execution_count": null,
   "metadata": {},
   "outputs": [],
   "source": [
    "def zip[A, B](list1: List[A], list2: List[B]): List[(A, B)] = \n",
    "    ???"
   ]
  },
  {
   "cell_type": "code",
   "execution_count": null,
   "metadata": {},
   "outputs": [],
   "source": [
    "run(new TestZip(zip[Int, Char]))"
   ]
  },
  {
   "cell_type": "markdown",
   "metadata": {},
   "source": [
    "# Problem 8"
   ]
  },
  {
   "cell_type": "markdown",
   "metadata": {},
   "source": [
    "Write a function that returns the greatest element of a list of integers."
   ]
  },
  {
   "cell_type": "code",
   "execution_count": null,
   "metadata": {},
   "outputs": [],
   "source": [
    "class TestGreatest(\n",
    "    greatest: List[Int] => Option[Int]\n",
    ") extends FlatSpec with Matchers{\n",
    "    \n",
    "    \"greatest of an empty list\" should \"return None\" in {\n",
    "        greatest(List()) shouldBe None\n",
    "    }\n",
    "    \n",
    "    \"greatest of a non-empty list\" should \"return the greatest one\" in {\n",
    "        greatest(List(1,2,3)) shouldBe Some(3)\n",
    "        greatest(List(3,2,1)) shouldBe Some(3)\n",
    "        greatest(List(1)) shouldBe Some(1)\n",
    "    }\n",
    "}"
   ]
  },
  {
   "cell_type": "markdown",
   "metadata": {},
   "source": [
    "Use pattern guards when possible. This is an example of pattern guard:"
   ]
  },
  {
   "cell_type": "code",
   "execution_count": null,
   "metadata": {},
   "outputs": [],
   "source": [
    "val maybeInt: Option[Int] = Some(4)\n",
    "maybeInt match {\n",
    "    case Some(i) if i>3 => true\n",
    "    // for any other case, no matter if some(_) or None\n",
    "    case _ => false\n",
    "}"
   ]
  },
  {
   "cell_type": "markdown",
   "metadata": {},
   "source": [
    "#### Part a) Implement the function recursively, without tail-recursion"
   ]
  },
  {
   "cell_type": "code",
   "execution_count": null,
   "metadata": {},
   "outputs": [],
   "source": [
    "def greatest(list: List[Int]): Option[Int] = \n",
    "    ???"
   ]
  },
  {
   "cell_type": "code",
   "execution_count": null,
   "metadata": {},
   "outputs": [],
   "source": [
    "run(new TestGreatest(greatest))"
   ]
  },
  {
   "cell_type": "markdown",
   "metadata": {},
   "source": [
    "#### Part b) Implement the function with tail-recursion"
   ]
  },
  {
   "cell_type": "code",
   "execution_count": null,
   "metadata": {},
   "outputs": [],
   "source": [
    "def greatestTR(list: List[Int]): Option[Int] = \n",
    "    ???"
   ]
  },
  {
   "cell_type": "code",
   "execution_count": null,
   "metadata": {},
   "outputs": [],
   "source": [
    "run(new TestGreatest(greatestTR))"
   ]
  },
  {
   "cell_type": "markdown",
   "metadata": {},
   "source": [
    "# Problem 9"
   ]
  },
  {
   "cell_type": "markdown",
   "metadata": {},
   "source": [
    "Create a function that given a list of strings or integers, returns the concatenation of all the string elements. If the list doesn't contain any string, it must return the empty string."
   ]
  },
  {
   "cell_type": "code",
   "execution_count": null,
   "metadata": {},
   "outputs": [],
   "source": [
    "class TestConcatenate(\n",
    "    conc: List[Either[String, Int]] => String\n",
    ") extends FlatSpec with Matchers {\n",
    "    \n",
    "    \"concatenate\" should \"work\" in {\n",
    "        conc(List()) shouldBe \"\" \n",
    "        conc(List(Right(1), Right(2), Right(3))) shouldBe \"\"\n",
    "        conc(List(Left(\"hello\"), Left(\", \"), Left(\"world!\"))) shouldBe \n",
    "            \"hello, world!\"\n",
    "        conc(List(Right(1), Left(\"hello\"), Right(2), \n",
    "                  Left(\", \"), Left(\"world!\"), Right(5))) shouldBe \n",
    "            \"hello, world!\"\n",
    "        \n",
    "    }\n",
    "}"
   ]
  },
  {
   "cell_type": "markdown",
   "metadata": {},
   "source": [
    "Recall the definition of the [`Either[A, B]`](https://www.scala-lang.org/api/current/scala/util/Either.html) algebraic data type in the Scala API. "
   ]
  },
  {
   "cell_type": "markdown",
   "metadata": {},
   "source": [
    "The function does not need to be tail-recursive."
   ]
  },
  {
   "cell_type": "code",
   "execution_count": null,
   "metadata": {},
   "outputs": [],
   "source": [
    "def concatenate(list: List[Either[String, Int]]): String =\n",
    "    ???"
   ]
  },
  {
   "cell_type": "code",
   "execution_count": null,
   "metadata": {},
   "outputs": [],
   "source": [
    "run(new TestConcatenate(concatenate))"
   ]
  },
  {
   "cell_type": "markdown",
   "metadata": {},
   "source": [
    "# Binary trees"
   ]
  },
  {
   "cell_type": "markdown",
   "metadata": {},
   "source": [
    "The following problems deal with functions on binary trees. This data structure can be defined as the following algebraic data type:"
   ]
  },
  {
   "cell_type": "code",
   "execution_count": null,
   "metadata": {},
   "outputs": [],
   "source": [
    "// type Tree[A] = 1 + Tree[A] * A * Tree[A]\n",
    "\n",
    "sealed abstract class Tree[A]\n",
    "case class Empty[A]() extends Tree[A]\n",
    "case class Node[A](left: Tree[A], root: A, right: Tree[A]) extends Tree[A]"
   ]
  },
  {
   "cell_type": "markdown",
   "metadata": {},
   "source": [
    "The companion object defines some smart constructors that will allow us to write test cases more easily."
   ]
  },
  {
   "cell_type": "code",
   "execution_count": null,
   "metadata": {},
   "outputs": [],
   "source": [
    "object Tree{\n",
    "    \n",
    "    def void[A]: Tree[A] = \n",
    "        Empty()\n",
    "    \n",
    "    def leaf[A](a: A): Node[A] = \n",
    "        Node(Empty(), a, Empty())\n",
    "    \n",
    "    def right[A](a: A, tree: Tree[A]): Node[A] = \n",
    "        Node(Empty(), a, tree)\n",
    "    \n",
    "    def left[A](tree: Tree[A], a: A): Node[A] = \n",
    "        Node(tree, a, Empty())\n",
    "    \n",
    "    def node[A](left: Tree[A], a: A, right: Tree[A]): Node[A] = \n",
    "        Node(left, a, right)\n",
    "}\n",
    "\n",
    "import Tree._"
   ]
  },
  {
   "cell_type": "markdown",
   "metadata": {},
   "source": [
    "# Problem 10"
   ]
  },
  {
   "cell_type": "markdown",
   "metadata": {},
   "source": [
    "Create a function that computes the number of nodes a tree."
   ]
  },
  {
   "cell_type": "code",
   "execution_count": null,
   "metadata": {},
   "outputs": [],
   "source": [
    "class TestTreeNumNodes(\n",
    "    numNodes: Tree[Int] => Int\n",
    ") extends FlatSpec with Matchers {\n",
    "    \n",
    "    \"concatenate\" should \"work\" in {\n",
    "        numNodes(void) shouldBe 0\n",
    "        numNodes(leaf(1)) shouldBe 1\n",
    "        numNodes(left(leaf(1), 2)) shouldBe 2\n",
    "        numNodes(node(leaf(1), 2, leaf(3))) shouldBe 3\n",
    "    }\n",
    "}"
   ]
  },
  {
   "cell_type": "code",
   "execution_count": null,
   "metadata": {},
   "outputs": [],
   "source": [
    "def numNodes[A](tree: Tree[A]): Int = \n",
    "    ???"
   ]
  },
  {
   "cell_type": "code",
   "execution_count": null,
   "metadata": {},
   "outputs": [],
   "source": [
    "run(new TestTreeNumNodes(numNodes))"
   ]
  },
  {
   "cell_type": "markdown",
   "metadata": {},
   "source": [
    "# Problem 11"
   ]
  },
  {
   "cell_type": "markdown",
   "metadata": {},
   "source": [
    "Create a function that calculates the _height_ of a tree, which is defined as the depth of its deepest node (the depth of a node, in turn, is the number of edges from that node to the root of the tree). An empty tree doesn't have any nodes, so it doesn't have height either. "
   ]
  },
  {
   "cell_type": "code",
   "execution_count": null,
   "metadata": {},
   "outputs": [],
   "source": [
    "class TestTreeHeight(\n",
    "    height: Node[Int] => Int\n",
    ") extends FlatSpec with Matchers {\n",
    "    \n",
    "    \"concatenate\" should \"work\" in {\n",
    "        height(leaf(1)) shouldBe 0\n",
    "        height(left(leaf(1),2)) shouldBe 1\n",
    "        height(node(leaf(1), 2, leaf(3))) shouldBe 1\n",
    "        height(left(left(leaf(3),2),1)) shouldBe 2\n",
    "    }\n",
    "}"
   ]
  },
  {
   "cell_type": "markdown",
   "metadata": {},
   "source": [
    "Hint: use the Scala [`max`](https://www.scala-lang.org/api/current/scala/Int.html#max(that:Int):Int) method of the `Int` class to calculate the maximum of two numbers."
   ]
  },
  {
   "cell_type": "code",
   "execution_count": null,
   "metadata": {},
   "outputs": [],
   "source": [
    "def height[A](tree: Node[A]): Int = \n",
    "    ???"
   ]
  },
  {
   "cell_type": "code",
   "execution_count": null,
   "metadata": {},
   "outputs": [],
   "source": [
    "run(new TestTreeHeight(height))"
   ]
  },
  {
   "cell_type": "markdown",
   "metadata": {},
   "source": [
    "# Problem 11"
   ]
  },
  {
   "cell_type": "markdown",
   "metadata": {},
   "source": [
    "A degenerate tree is a tree whose nodes only have a child at most. Create a function that determines whether a tree is degenerate or not."
   ]
  },
  {
   "cell_type": "code",
   "execution_count": null,
   "metadata": {},
   "outputs": [],
   "source": [
    "class TestIsDegenerate(\n",
    "    isDegenerate: Tree[Int] => Boolean\n",
    ") extends FlatSpec with Matchers {\n",
    "    \n",
    "    \"isDegenerate\" should \"work\" in {\n",
    "        isDegenerate(void) shouldBe true\n",
    "        isDegenerate(leaf(1)) shouldBe true\n",
    "        isDegenerate(left(leaf(1), 2)) shouldBe true\n",
    "        isDegenerate(right(2, leaf(1)))  shouldBe true\n",
    "        isDegenerate(node(leaf(1), 2, leaf(3))) shouldBe false\n",
    "        isDegenerate(left(left(leaf(3), 2), 1)) shouldBe true\n",
    "        isDegenerate(left(right(2, left(right(4, leaf(5)), 3)),1)) shouldBe true\n",
    "        isDegenerate(left(node(leaf(3), 2, leaf(3)), 1)) shouldBe false\n",
    "    }\n",
    "}"
   ]
  },
  {
   "cell_type": "code",
   "execution_count": null,
   "metadata": {},
   "outputs": [],
   "source": [
    "def isDegenerate[A](tree: Tree[A]): Boolean = \n",
    "    ???"
   ]
  },
  {
   "cell_type": "code",
   "execution_count": null,
   "metadata": {},
   "outputs": [],
   "source": [
    "run(new TestIsDegenerate(isDegenerate))"
   ]
  },
  {
   "cell_type": "markdown",
   "metadata": {},
   "source": [
    "# Problem 12"
   ]
  },
  {
   "cell_type": "markdown",
   "metadata": {},
   "source": [
    "Write a function that returns the leaves of a tree. The leafs of any left child must be placed in the list before any leaf from its right sibling. "
   ]
  },
  {
   "cell_type": "code",
   "execution_count": null,
   "metadata": {},
   "outputs": [],
   "source": [
    "class TestLeaves(\n",
    "    leaves: Tree[Int] => List[Int]\n",
    ") extends FlatSpec with Matchers {\n",
    "    \n",
    "    \"isDegenerate\" should \"work\" in {\n",
    "        leaves(void) shouldBe List()\n",
    "        leaves(leaf(1)) shouldBe List(1)\n",
    "        leaves(left(leaf(1), 2)) shouldBe List(1)\n",
    "        leaves(right(2, leaf(1)))  shouldBe List(1)\n",
    "        leaves(node(leaf(1), 2, leaf(3))) shouldBe List(1,3)\n",
    "        leaves(left(left(leaf(3), 2), 1)) shouldBe List(3)\n",
    "        leaves(left(right(2, left(right(4, leaf(5)), 3)),1)) shouldBe List(5)\n",
    "        leaves(left(node(leaf(3), 2, leaf(3)), 1)) shouldBe List(3,3)\n",
    "        leaves(node(node(leaf(1),2,leaf(3)),4,node(leaf(5),6,leaf(7)))) shouldBe\n",
    "            List(1,3,5,7)\n",
    "    }\n",
    "}"
   ]
  },
  {
   "cell_type": "markdown",
   "metadata": {},
   "source": [
    "Hint: use the [`++`](https://www.scala-lang.org/api/current/scala/collection/immutable/List.html#++[B%3E:A](suffix:scala.collection.IterableOnce[B]):CC[B]) method of the `List` class to concatenate lists."
   ]
  },
  {
   "cell_type": "code",
   "execution_count": null,
   "metadata": {},
   "outputs": [],
   "source": [
    "def leaves[A](tree: Tree[A]): List[A] = \n",
    "    ???"
   ]
  },
  {
   "cell_type": "code",
   "execution_count": null,
   "metadata": {},
   "outputs": [],
   "source": [
    "run(new TestLeaves(leaves))"
   ]
  },
  {
   "cell_type": "markdown",
   "metadata": {},
   "source": [
    "# Problem 13"
   ]
  },
  {
   "cell_type": "markdown",
   "metadata": {},
   "source": [
    "This problem deals with [_tree traversals_](https://en.wikipedia.org/wiki/Tree_traversal). "
   ]
  },
  {
   "cell_type": "markdown",
   "metadata": {},
   "source": [
    "Hint: use the [`++`](https://www.scala-lang.org/api/current/scala/collection/immutable/List.html#++[B%3E:A](suffix:scala.collection.IterableOnce[B]):CC[B]) method of the `List` class to concatenate lists."
   ]
  },
  {
   "cell_type": "markdown",
   "metadata": {},
   "source": [
    "#### Part a) Write a function that creates the pre-order of a binary tree."
   ]
  },
  {
   "cell_type": "code",
   "execution_count": null,
   "metadata": {},
   "outputs": [],
   "source": [
    "class TestPreorder(\n",
    "    preorder: Tree[Int] => List[Int]\n",
    ") extends FlatSpec with Matchers {\n",
    "    \n",
    "    \"preorder\" should \"work\" in {\n",
    "        preorder(void) shouldBe List()\n",
    "        preorder(leaf(1)) shouldBe List(1)\n",
    "        preorder(left(leaf(1), 2)) shouldBe List(2,1)\n",
    "        preorder(right(2, leaf(1)))  shouldBe List(2,1)\n",
    "        preorder(node(leaf(1), 2, leaf(3))) shouldBe List(2,1,3)\n",
    "        preorder(left(left(leaf(3), 2), 1)) shouldBe List(1,2,3)\n",
    "        preorder(left(right(2, left(right(4, leaf(5)), 3)),1)) shouldBe \n",
    "            List(1,2,3,4,5)\n",
    "        preorder(left(node(leaf(3), 2, leaf(4)), 1)) shouldBe \n",
    "            List(1,2,3,4)\n",
    "        preorder(node(node(leaf(1),2,leaf(3)),4,node(leaf(5),6,leaf(7)))) shouldBe\n",
    "            List(4,2,1,3,6,5,7)\n",
    "    }\n",
    "}"
   ]
  },
  {
   "cell_type": "code",
   "execution_count": null,
   "metadata": {},
   "outputs": [],
   "source": [
    "def preorder[A](tree: Tree[A]): List[A] = \n",
    "    ???"
   ]
  },
  {
   "cell_type": "code",
   "execution_count": null,
   "metadata": {},
   "outputs": [],
   "source": [
    "run(new TestPreorder(preorder))"
   ]
  },
  {
   "cell_type": "markdown",
   "metadata": {},
   "source": [
    "#### Part b) Write a function that returns the in-order of a binary tree"
   ]
  },
  {
   "cell_type": "code",
   "execution_count": null,
   "metadata": {},
   "outputs": [],
   "source": [
    "class TestInorder(\n",
    "    inorder: Tree[Int] => List[Int]\n",
    ") extends FlatSpec with Matchers {\n",
    "    \n",
    "    \"preorder\" should \"work\" in {\n",
    "        inorder(void) shouldBe List()\n",
    "        inorder(leaf(1)) shouldBe List(1)\n",
    "        inorder(left(leaf(1), 2)) shouldBe List(1,2)\n",
    "        inorder(right(2, leaf(1)))  shouldBe List(2,1)\n",
    "        inorder(node(leaf(1), 2, leaf(3))) shouldBe List(1,2,3)\n",
    "        inorder(left(left(leaf(3), 2), 1)) shouldBe List(3,2,1)\n",
    "        inorder(left(right(2, left(right(4, leaf(5)), 3)),1)) shouldBe \n",
    "            List(2,4,5,3,1)\n",
    "        inorder(left(node(leaf(3), 2, leaf(4)), 1)) shouldBe \n",
    "            List(3,2,4,1)\n",
    "        inorder(node(node(leaf(1),2,leaf(3)),4,node(leaf(5),6,leaf(7)))) shouldBe\n",
    "            List(1,2,3,4,5,6,7)\n",
    "    }\n",
    "}"
   ]
  },
  {
   "cell_type": "code",
   "execution_count": null,
   "metadata": {},
   "outputs": [],
   "source": [
    "def inorder[A](tree: Tree[A]): List[A] = \n",
    "    ???"
   ]
  },
  {
   "cell_type": "code",
   "execution_count": null,
   "metadata": {},
   "outputs": [],
   "source": [
    "run(new TestInorder(inorder))"
   ]
  },
  {
   "cell_type": "markdown",
   "metadata": {},
   "source": [
    "#### Part c) Write a function that returns post-order of a binary tree"
   ]
  },
  {
   "cell_type": "code",
   "execution_count": null,
   "metadata": {},
   "outputs": [],
   "source": [
    "class TestPostorder(\n",
    "    postorder: Tree[Int] => List[Int]\n",
    ") extends FlatSpec with Matchers {\n",
    "    \n",
    "    \"postorder\" should \"work\" in {\n",
    "        postorder(void) shouldBe List()\n",
    "        postorder(leaf(1)) shouldBe List(1)\n",
    "        postorder(left(leaf(1), 2)) shouldBe List(1,2)\n",
    "        postorder(right(2, leaf(1)))  shouldBe List(1,2)\n",
    "        postorder(node(leaf(1), 2, leaf(3))) shouldBe List(1,3,2)\n",
    "        postorder(left(left(leaf(3), 2), 1)) shouldBe List(3,2,1)\n",
    "        postorder(left(right(2, left(right(4, leaf(5)), 3)),1)) shouldBe \n",
    "            List(5,4,3,2,1)\n",
    "        postorder(left(node(leaf(3), 2, leaf(4)), 1)) shouldBe \n",
    "            List(3,4,2,1)\n",
    "        postorder(node(node(leaf(1),2,leaf(3)),4,node(leaf(5),6,leaf(7)))) shouldBe\n",
    "            List(1,3,2,5,7,6,4)\n",
    "    }\n",
    "}"
   ]
  },
  {
   "cell_type": "code",
   "execution_count": null,
   "metadata": {},
   "outputs": [],
   "source": [
    "def postorder[A](tree: Tree[A]): List[A] = \n",
    "    ???"
   ]
  },
  {
   "cell_type": "code",
   "execution_count": null,
   "metadata": {},
   "outputs": [],
   "source": [
    "run(new TestPostorder(postorder))"
   ]
  },
  {
   "cell_type": "markdown",
   "metadata": {},
   "source": [
    "# Problem 14"
   ]
  },
  {
   "cell_type": "markdown",
   "metadata": {},
   "source": [
    "Given a tree whose nodes are tuples of integers, write a function that returns a tree of the same shape that contains the sum of the numbers for each node."
   ]
  },
  {
   "cell_type": "code",
   "execution_count": null,
   "metadata": {},
   "outputs": [],
   "source": [
    "class TestSum(\n",
    "    sum: Tree[(Int, Int)] => Tree[Int]\n",
    ") extends FlatSpec with Matchers {\n",
    "    \n",
    "    \"sum\" should \"work\" in {\n",
    "        sum(void) shouldBe \n",
    "            void\n",
    "        sum(leaf((1,1))) shouldBe \n",
    "            leaf(2)\n",
    "        sum(left(leaf((1,3)), (2,5))) shouldBe \n",
    "            left(leaf(4), 7)\n",
    "        sum(right((0,2), leaf((-1,2)))) shouldBe \n",
    "            right(2, leaf(1))\n",
    "        sum(left(left(leaf((-3,6)), (2,0)), (-5,6))) shouldBe \n",
    "            left(left(leaf(3), 2), 1)\n",
    "    }\n",
    "}"
   ]
  },
  {
   "cell_type": "code",
   "execution_count": null,
   "metadata": {},
   "outputs": [],
   "source": [
    "def sum(tree: Tree[(Int, Int)]): Tree[Int] = \n",
    "    ???"
   ]
  },
  {
   "cell_type": "code",
   "execution_count": null,
   "metadata": {},
   "outputs": [],
   "source": [
    "run(new TestSum(sum))"
   ]
  }
 ],
 "metadata": {
  "kernelspec": {
   "display_name": "Scala",
   "language": "scala",
   "name": "scala"
  },
  "language_info": {
   "codemirror_mode": "text/x-scala",
   "file_extension": ".sc",
   "mimetype": "text/x-scala",
   "name": "scala",
   "nbconvert_exporter": "script",
   "version": "2.13.1"
  }
 },
 "nbformat": 4,
 "nbformat_minor": 2
}
