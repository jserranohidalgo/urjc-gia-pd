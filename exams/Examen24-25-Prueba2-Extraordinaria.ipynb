{
 "cells": [
  {
   "cell_type": "markdown",
   "metadata": {},
   "source": [
    "# Programación declarativa @ GIA - URJC\n",
    "## Curso 24-25\n",
    "## Convocatoria extraordinaria\n",
    "## Prueba 2\n",
    "\n",
    "La duración de la prueba es de 1 hora y 20 minutos.\n"
   ]
  },
  {
   "cell_type": "markdown",
   "metadata": {
    "tags": []
   },
   "source": [
    "# Preámbulo"
   ]
  },
  {
   "cell_type": "code",
   "execution_count": null,
   "metadata": {},
   "outputs": [],
   "source": [
    "import $ivy.`org.scalatest::scalatest:3.2.16`\n",
    "import org.scalatest.{Filter => _, _}, flatspec._, matchers._"
   ]
  },
  {
   "cell_type": "code",
   "execution_count": null,
   "metadata": {},
   "outputs": [],
   "source": [
    "object SignaturesList :\n",
    "    abstract class List[A]:\n",
    "        \n",
    "        // Common HOFs\n",
    "        def foldRight[B](nil: B)(cons: (A, B) => B): B\n",
    "        def foldLeft[B](initial: B)(update: (B, A) => B): B\n",
    "        def map[B](f: A => B): List[B]\n",
    "        def flatMap[B](f: A => List[B]): List[B]\n",
    "        def filter(f: A => Boolean): List[A]\n",
    "\n",
    "        // Devuelve cierto si todos los elementos de la lista satisfacen el predicado de entrada.\n",
    "        def forall(pred: A => Boolean): Boolean\n",
    " \n",
    "        // Devuelve el tamaño (número de elementos) de la lista.\n",
    "        def size: Int\n",
    "\n",
    "        // Devuelve una lista formada por todos los pares de elementos que se encuentran en la misma posición\n",
    "        // de esta lista y la lista `l`. La lista resultante contendrá tantos pares como el tamaño de la lista más pequeña.\n",
    "        def zip[B](l: List[B]): List[(A, B)]\n",
    "        "
   ]
  },
  {
   "cell_type": "code",
   "execution_count": null,
   "metadata": {},
   "outputs": [],
   "source": [
    "object SignaturesOption:\n",
    "\n",
    "    enum Option[+A]:\n",
    "        case None extends Option[Nothing]\n",
    "        case Some(a: A)\n",
    "\n",
    "        // Common HOFs\n",
    "        def flatMap[B](f: A => Option[B]): Option[B] = \n",
    "            this match \n",
    "                case None => None\n",
    "                case Some(a) => f(a)\n",
    "        \n",
    "        // Devuelve cierto si esta valor opcional es de tipo `Some`\n",
    "        def isDefined: Boolean = this match \n",
    "            case None => false\n",
    "            case _ => true\n",
    "\n",
    "        // Si este valor opcional es un `Some` devuelve su valor, en caso contrario, se producirá una excepción.\n",
    "        def get: A = (this : @unchecked) match\n",
    "            case Some(a) => a\n"
   ]
  },
  {
   "cell_type": "code",
   "execution_count": null,
   "metadata": {},
   "outputs": [],
   "source": [
    "object SignaturesEither:\n",
    "\n",
    "    enum Either[A, B]:\n",
    "        case Left(a: A)\n",
    "        case Right(b: B)\n"
   ]
  },
  {
   "cell_type": "markdown",
   "metadata": {
    "tags": []
   },
   "source": [
    "# Ejercicio 1 (3 puntos)"
   ]
  },
  {
   "cell_type": "markdown",
   "metadata": {},
   "source": [
    "Supóngase que se desea implementar una función que, dada una cadena de caracteres, transforma dicha cadena en un número, comprueba que es distinto de cero y devuelve su inversa. En caso de que la cadena no represente un número, la función deberá devolver un error. Igualmente, si la cadena sí representa un número pero es cero, también se devolverá un error."
   ]
  },
  {
   "cell_type": "markdown",
   "metadata": {},
   "source": [
    "La gestión de errores mediante excepciones nos lleva a programar esta función de la siguiente forma: "
   ]
  },
  {
   "cell_type": "code",
   "execution_count": null,
   "metadata": {},
   "outputs": [],
   "source": [
    "def inverseOf_Impure(s: String): Double = \n",
    "    val i: Int = s.toInt ; \n",
    "    assert(i != 0) ; \n",
    "    1/i"
   ]
  },
  {
   "cell_type": "markdown",
   "metadata": {},
   "source": [
    "En este caso, tanto si la cadena no es número como si es cero, el programa lanzará una excepción. En la signatura de la función no se refleja en absoluto esta posibilidad, de ahí que caracterizemos a esta función como una función _impura_. "
   ]
  },
  {
   "cell_type": "markdown",
   "metadata": {},
   "source": [
    "Alternativamente al uso de excepciones, podemos utilizar valores opcionales para gestionar los posibles errores mediante una función _pura_: "
   ]
  },
  {
   "cell_type": "code",
   "execution_count": null,
   "metadata": {},
   "outputs": [],
   "source": [
    "def inverseOf_Pure(s: String): Option[Double] = \n",
    "    ???"
   ]
  },
  {
   "cell_type": "markdown",
   "metadata": {},
   "source": [
    "El propósito de este ejercicio es realizar una implementación de esta función pura análoga funcionalmente a la versión impura mostrada anteriormente."
   ]
  },
  {
   "cell_type": "markdown",
   "metadata": {},
   "source": [
    "#### a) (1 punto)"
   ]
  },
  {
   "cell_type": "markdown",
   "metadata": {},
   "source": [
    "Implementa las siguientes funciones auxiliares `assertNonZero` y `inverse`. La función `assertNonZero` recibe un entero y devuelve `None` en caso de que sea cero; en caso contrario, devuelve el valor de entrada como parte de un valor de tipo `Some`."
   ]
  },
  {
   "cell_type": "code",
   "execution_count": null,
   "metadata": {},
   "outputs": [],
   "source": [
    "class TestNonZero(nonZero: Int => Option[Int]) extends AnyFlatSpec with should.Matchers:\n",
    "\n",
    "    \"nonZero\" should \"work\" in:\n",
    "        nonZero(22) shouldBe Some(22)\n",
    "        nonZero(1) shouldBe Some(1)\n",
    "        nonZero(0) shouldBe None"
   ]
  },
  {
   "cell_type": "code",
   "execution_count": null,
   "metadata": {},
   "outputs": [],
   "source": [
    "// IMPLEMENTA TU RESPUESTA\n",
    "\n",
    "def assertNonZero(i: Int): Option[Int] = \n",
    "    if i == 0 then None\n",
    "    else Some(i)"
   ]
  },
  {
   "cell_type": "code",
   "execution_count": null,
   "metadata": {},
   "outputs": [],
   "source": [
    "run(TestNonZero(assertNonZero))"
   ]
  },
  {
   "cell_type": "markdown",
   "metadata": {},
   "source": [
    "La función `inverse` devuelve el inverso del valor de entrada como parte de un valor de tipo `Some`, sin comprobar previamente si dicho valor es cero o no. "
   ]
  },
  {
   "cell_type": "code",
   "execution_count": null,
   "metadata": {},
   "outputs": [],
   "source": [
    "class TestInverse(inverse: Int => Option[Double]) extends AnyFlatSpec with should.Matchers:\n",
    "\n",
    "    \"inverse\" should \"work\" in:\n",
    "        inverse(1) shouldBe Some(1/1)\n",
    "        inverse(4) shouldBe Some(1/4)\n",
    "        inverse(8) shouldBe Some(1/8)"
   ]
  },
  {
   "cell_type": "code",
   "execution_count": null,
   "metadata": {},
   "outputs": [],
   "source": [
    "// IMPLEMENTA TU RESPUESTA\n",
    "\n",
    "def inverse(i: Int): Option[Double] = \n",
    "    Some(1/i)"
   ]
  },
  {
   "cell_type": "code",
   "execution_count": null,
   "metadata": {},
   "outputs": [],
   "source": [
    "run(TestInverse(inverse))"
   ]
  },
  {
   "cell_type": "markdown",
   "metadata": {},
   "source": [
    "#### b) (1 punto)"
   ]
  },
  {
   "cell_type": "markdown",
   "metadata": {},
   "source": [
    "Para implementar la función `inverseOf` se hará uso de las funciones del apartado anterior, así como del método `toIntOption` de la clase `Int`, que parsea una cadena de caracteres en un número, devolviendo el resultado en un valor opcional. Por ejemplo:"
   ]
  },
  {
   "cell_type": "code",
   "execution_count": null,
   "metadata": {},
   "outputs": [],
   "source": [
    "\"123\".toIntOption == Some(123)\n",
    "\"X\".toIntOption == None"
   ]
  },
  {
   "cell_type": "markdown",
   "metadata": {},
   "source": [
    "Algunos ejemplos de uso de la función `inverseOf` son los siguientes:"
   ]
  },
  {
   "cell_type": "code",
   "execution_count": null,
   "metadata": {},
   "outputs": [],
   "source": [
    "class TestInverseOf(inverseOf: String => Option[Double]) extends AnyFlatSpec with should.Matchers:\n",
    "\n",
    "    \"inverseOf\" should \"work\" in:\n",
    "        inverseOf(\"4\") shouldBe Some(1/4)\n",
    "        inverseOf(\"1\") shouldBe Some(1/1)\n",
    "        inverseOf(\"X\") shouldBe None\n",
    "        inverseOf(\"0\") shouldBe None"
   ]
  },
  {
   "cell_type": "markdown",
   "metadata": {},
   "source": [
    "Implementa la función `inverseOf` _sin_ utilizar funciones de orden superior."
   ]
  },
  {
   "cell_type": "code",
   "execution_count": null,
   "metadata": {},
   "outputs": [],
   "source": [
    "// IMPLEMENTA TU RESPUESTA\n",
    "\n",
    "def inverseOf(s: String): Option[Double] = \n",
    "    s.toIntOption match \n",
    "        case None => None\n",
    "        case Some(i) =>\n",
    "            assertNonZero(i) match \n",
    "                case None => None\n",
    "                case Some(i) => \n",
    "                    inverse(i)"
   ]
  },
  {
   "cell_type": "code",
   "execution_count": null,
   "metadata": {},
   "outputs": [],
   "source": [
    "run(TestInverseOf(inverseOf))"
   ]
  },
  {
   "cell_type": "markdown",
   "metadata": {},
   "source": [
    "#### c) (1 punto)"
   ]
  },
  {
   "cell_type": "markdown",
   "metadata": {},
   "source": [
    "Implementa la función `inverseOf` utilizando la función de orden superior `flatMap` para valores de tipo `Option[_]` (véase la definición de esta función en el preámbulo del examen)."
   ]
  },
  {
   "cell_type": "code",
   "execution_count": null,
   "metadata": {},
   "outputs": [],
   "source": [
    "// IMPLEMENTA TU RESPUESTA\n",
    "\n",
    "def inverseOf(s: String): Option[Double] = \n",
    "    s.toIntOption flatMap \n",
    "    assertNonZero flatMap \n",
    "    inverse"
   ]
  },
  {
   "cell_type": "code",
   "execution_count": null,
   "metadata": {},
   "outputs": [],
   "source": [
    "run(TestInverseOf(inverseOf))"
   ]
  },
  {
   "cell_type": "markdown",
   "metadata": {
    "tags": []
   },
   "source": [
    "# Ejercicio 2 (4 puntos)"
   ]
  },
  {
   "cell_type": "markdown",
   "metadata": {},
   "source": [
    "Se desea implementar una función `collect` que combina el comportamiento de las funciones `map` y `filter`. Si la función `map` permite transformar una lista de `A`s en una lista de `B`s, la función `collect` permite aplicar esta transformación de manera selectiva, de tal forma que solamente algunos de los `A`s se transformen en `B`s. Para ello, además de la lista a transformar, `collect` recibe como argumento una función del tipo `A => Option[B]`; los elementos que se transformarán serán precisamente aquellos para los que dicha función devuelva un valor distinto de `None`. A continuación se muestran algunos ejemplos de uso de la función `collect` sobre listas de cadenas de caracteres:"
   ]
  },
  {
   "cell_type": "code",
   "execution_count": null,
   "metadata": {},
   "outputs": [],
   "source": [
    "class TestCollect(collect: List[String] => (String => Option[Int]) => List[Int]) extends AnyFlatSpec with should.Matchers:\n",
    "\n",
    "    \"collect\" should \"work\" in:\n",
    "        collect(List(\"asdg\", \"12\", \"X\", \"652\"))(_.toIntOption) shouldBe List(12, 652)\n",
    "        collect(List(\"12\", \"652\"))(_.toIntOption) shouldBe List(12, 652)\n",
    "        collect(List(\"asdg\", \"X\"))(_.toIntOption) shouldBe List()\n",
    "        collect(List())(_.toIntOption) shouldBe List()\n",
    "        "
   ]
  },
  {
   "cell_type": "markdown",
   "metadata": {},
   "source": [
    "#### a) (1 punto)"
   ]
  },
  {
   "cell_type": "markdown",
   "metadata": {},
   "source": [
    "Implementa la función `collect` de manera recursiva."
   ]
  },
  {
   "cell_type": "code",
   "execution_count": null,
   "metadata": {},
   "outputs": [],
   "source": [
    "// IMPLEMENTA TU RESPUESTA\n",
    "\n",
    "def collect[A, B](l: List[A])(f: A => Option[B]): List[B] = \n",
    "    l match \n",
    "        case Nil => Nil\n",
    "        case h :: t => \n",
    "            f(h) match \n",
    "                case None => collect(t)(f)\n",
    "                case Some(e) => e :: collect(t)(f)"
   ]
  },
  {
   "cell_type": "code",
   "execution_count": null,
   "metadata": {},
   "outputs": [],
   "source": [
    "run(TestCollect(collect))"
   ]
  },
  {
   "cell_type": "markdown",
   "metadata": {},
   "source": [
    "#### b) (1 punto)"
   ]
  },
  {
   "cell_type": "markdown",
   "metadata": {},
   "source": [
    "Implementa la función `collect` mediante la función `foldRight`."
   ]
  },
  {
   "cell_type": "code",
   "execution_count": null,
   "metadata": {},
   "outputs": [],
   "source": [
    "// IMPLEMENTA TU RESPUESTA\n",
    "\n",
    "def collect[A, B](l: List[A])(f: A => Option[B]): List[B] = \n",
    "    l.foldRight(List[B]()): \n",
    "        (h, tailSol) => \n",
    "            f(h) match \n",
    "                case None => tailSol\n",
    "                case Some(e) => e :: tailSol"
   ]
  },
  {
   "cell_type": "code",
   "execution_count": null,
   "metadata": {},
   "outputs": [],
   "source": [
    "run(TestCollect(collect))"
   ]
  },
  {
   "cell_type": "markdown",
   "metadata": {},
   "source": [
    "#### c) (1 punto)"
   ]
  },
  {
   "cell_type": "markdown",
   "metadata": {},
   "source": [
    "Implementa la función `collect` mediante las funciones `map` y `filter`. Ténganse en cuenta para ello los métodos `isDefined ` y `get` de la clase `Option[_]` descritas en el preámbulo del examen."
   ]
  },
  {
   "cell_type": "code",
   "execution_count": null,
   "metadata": {},
   "outputs": [],
   "source": [
    "// IMPLEMENTA TU RESPUESTA\n",
    "\n",
    "def collect[A, B](l: List[A])(f: A => Option[B]): List[B] = \n",
    "    l.map(f)\n",
    "     .filter(_.isDefined)\n",
    "     .map(_.get)"
   ]
  },
  {
   "cell_type": "code",
   "execution_count": null,
   "metadata": {},
   "outputs": [],
   "source": [
    "run(TestCollect(collect))"
   ]
  },
  {
   "cell_type": "markdown",
   "metadata": {},
   "source": [
    "#### d) (1 punto)"
   ]
  },
  {
   "cell_type": "markdown",
   "metadata": {},
   "source": [
    "La función `lefts` recibe una lista de `A`s o `B`s y devuelve una lista formada únicamente por los valores de tipo `A`. A continuación se muestran algunos ejemplos de funcionamiento: "
   ]
  },
  {
   "cell_type": "code",
   "execution_count": null,
   "metadata": {},
   "outputs": [],
   "source": [
    "class TestLefts(lefts: List[Either[String, Int]] => List[String]) extends AnyFlatSpec with should.Matchers:\n",
    "\n",
    "    \"lefts\" should \"work\" in:\n",
    "        lefts(List(Left(\"a\"), Left(\"b\"), Right(3), Left(\"c\"), Right(4))) shouldBe List(\"a\", \"b\", \"c\")\n",
    "        lefts(List(Left(\"a\"), Left(\"b\"), Left(\"c\"))) shouldBe List(\"a\", \"b\", \"c\")\n",
    "        lefts(List(Right(3), Right(4))) shouldBe List()\n",
    "        lefts(List()) shouldBe List()"
   ]
  },
  {
   "cell_type": "markdown",
   "metadata": {},
   "source": [
    "Implementa la función `lefts` haciendo uso de la función `collect`."
   ]
  },
  {
   "cell_type": "code",
   "execution_count": null,
   "metadata": {},
   "outputs": [],
   "source": [
    "// IMPLEMENTA TU RESPUESTA\n",
    "\n",
    "def lefts[A, B](l: List[Either[A, B]]): List[A] = \n",
    "    collect(l): \n",
    "        case Left(a) => Some(a)\n",
    "        case Right(_) => None"
   ]
  },
  {
   "cell_type": "code",
   "execution_count": null,
   "metadata": {},
   "outputs": [],
   "source": [
    "run(TestLefts(lefts))"
   ]
  },
  {
   "cell_type": "markdown",
   "metadata": {
    "tags": []
   },
   "source": [
    "# Ejercicio 3 (3 puntos)"
   ]
  },
  {
   "cell_type": "markdown",
   "metadata": {},
   "source": [
    "Se desea implementar la función `corresponds` que, dadas dos listas y un predicado binario, devuelve cierto si todos los pares de elementos correspondientes de ambas listas satisfacen el predicado. Dos elementos son _correspondientes_ si se encuentran en la misma posición de sus listas. Por ejemplo, los siguientes casos de prueba se basan en un predicado `equals`, que recibe una cadena de caracteres y un número entero, y devuelve cierto si la representación numérica de la cadena es igual a dicho número:"
   ]
  },
  {
   "cell_type": "code",
   "execution_count": null,
   "metadata": {},
   "outputs": [],
   "source": [
    "class TestCorresponds(corresponds: (List[Int], List[String]) => ((Int, String) => Boolean) => Boolean) \n",
    "extends AnyFlatSpec with should.Matchers:\n",
    "\n",
    "    val equals: (Int, String) => Boolean = \n",
    "        (x, y) => x == y.toInt\n",
    "\n",
    "    \"corresponds\" should \"work\" in:\n",
    "        corresponds(List(), List())(equals) shouldBe true\n",
    "        corresponds(List(1,2,3,4), List(\"1\", \"2\", \"3\", \"4\"))(equals) shouldBe true\n",
    "        corresponds(List(1,2,3,4), List(\"1\", \"22\", \"3\", \"4\"))(equals) shouldBe false\n",
    "        corresponds(List(1,2,3), List(\"1\", \"2\", \"3\", \"4\"))(equals) shouldBe false\n",
    "        corresponds(List(1,2,3,4), List(\"1\", \"2\", \"3\"))(equals) shouldBe false\n",
    "        "
   ]
  },
  {
   "cell_type": "markdown",
   "metadata": {},
   "source": [
    "Como se observa en el segundo ejemplo, todos los pares correspondientes de ambas listas (`(1,\"1\")`, `(2, \"2\")`, etc.) satisfacen el predicado, por lo que el resultado es `true`. Asimismo, como se observa en los dos últimos ejemplos, para que dos listas sean correspondientes tienen que tener el mismo tamaño."
   ]
  },
  {
   "cell_type": "markdown",
   "metadata": {},
   "source": [
    "#### a) (1.5 puntos)"
   ]
  },
  {
   "cell_type": "markdown",
   "metadata": {},
   "source": [
    "Implementa la función `corresponds` mediante recursión final. "
   ]
  },
  {
   "cell_type": "code",
   "execution_count": null,
   "metadata": {},
   "outputs": [],
   "source": [
    "// IMPLEMENTA TU RESPUESTA\n",
    "\n",
    "def corresponds[A, B](l1: List[A], l2: List[B])(f: (A, B) => Boolean): Boolean = \n",
    "    (l1, l2) match \n",
    "        case (Nil, Nil) => true\n",
    "        case (ha::ta, hb::tb) if f(ha, hb) => corresponds(ta, tb)(f)\n",
    "        case _ => false"
   ]
  },
  {
   "cell_type": "code",
   "execution_count": null,
   "metadata": {},
   "outputs": [],
   "source": [
    "run(TestCorresponds(corresponds))"
   ]
  },
  {
   "cell_type": "markdown",
   "metadata": {},
   "source": [
    "#### b) (1.5 puntos)"
   ]
  },
  {
   "cell_type": "markdown",
   "metadata": {},
   "source": [
    "Implementa la función `corresponds` mediante los métodos de la librería estándar de Scala de la clase `List[_]`, `size`, `zip` y `forall`. Se encontrará una descripción de estos métodos en el preámbulo del examen."
   ]
  },
  {
   "cell_type": "code",
   "execution_count": null,
   "metadata": {},
   "outputs": [],
   "source": [
    "// IMPLEMENTA TU RESPUESTA\n",
    "\n",
    "def corresponds[A, B](l1: List[A], l2: List[B])(f: (A, B) => Boolean): Boolean = \n",
    "    l1.size == l2.size && \n",
    "    l1.zip(l2).forall(f.tupled)"
   ]
  },
  {
   "cell_type": "code",
   "execution_count": null,
   "metadata": {},
   "outputs": [],
   "source": [
    "run(TestCorresponds(corresponds))"
   ]
  }
 ],
 "metadata": {
  "kernelspec": {
   "display_name": "Scala (3.3.0)",
   "language": "scala",
   "name": "scala33"
  },
  "language_info": {
   "codemirror_mode": "text/x-scala",
   "file_extension": ".sc",
   "mimetype": "text/x-scala",
   "name": "scala",
   "nbconvert_exporter": "script",
   "version": "2.13.14"
  }
 },
 "nbformat": 4,
 "nbformat_minor": 4
}
