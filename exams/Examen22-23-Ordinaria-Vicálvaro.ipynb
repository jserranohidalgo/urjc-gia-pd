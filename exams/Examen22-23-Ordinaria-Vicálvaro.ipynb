{
 "cells": [
  {
   "cell_type": "markdown",
   "metadata": {},
   "source": [
    "# Programación declarativa @ URJC\n",
    "# Programación funcional\n",
    "## Curso 22-23, convocatoria ordinaria (31 de octubre de 2022)\n",
    "## Campus de Vicálvaro\n"
   ]
  },
  {
   "cell_type": "markdown",
   "metadata": {},
   "source": [
    "# Definiciones auxiliares"
   ]
  },
  {
   "cell_type": "code",
   "execution_count": 8,
   "metadata": {},
   "outputs": [
    {
     "data": {
      "text/plain": [
       "\u001b[32mimport \u001b[39m\u001b[36m$ivy.$                               \n",
       "\u001b[39m\n",
       "\u001b[32mimport \u001b[39m\u001b[36morg.scalatest._\u001b[39m"
      ]
     },
     "execution_count": 8,
     "metadata": {},
     "output_type": "execute_result"
    }
   ],
   "source": [
    "import $ivy.`org.scalatest::scalatest:3.0.8`\n",
    "import org.scalatest._"
   ]
  },
  {
   "cell_type": "markdown",
   "metadata": {},
   "source": [
    "### Algunas definiciones de tipos y funciones auxiliares"
   ]
  },
  {
   "cell_type": "code",
   "execution_count": 9,
   "metadata": {},
   "outputs": [
    {
     "data": {
      "text/plain": [
       "defined \u001b[32mclass\u001b[39m \u001b[36mTree\u001b[39m\n",
       "defined \u001b[32mclass\u001b[39m \u001b[36mEmpty\u001b[39m\n",
       "defined \u001b[32mclass\u001b[39m \u001b[36mNode\u001b[39m\n",
       "defined \u001b[32mobject\u001b[39m \u001b[36mTree\u001b[39m\n",
       "\u001b[32mimport \u001b[39m\u001b[36mTree._\n",
       "\n",
       "\u001b[39m\n",
       "defined \u001b[32mfunction\u001b[39m \u001b[36mfoldTree\u001b[39m"
      ]
     },
     "execution_count": 9,
     "metadata": {},
     "output_type": "execute_result"
    }
   ],
   "source": [
    "sealed abstract class Tree[A]\n",
    "case class Empty[A]() extends Tree[A]\n",
    "case class Node[A](left: Tree[A], root: A, right: Tree[A]) extends Tree[A]\n",
    "\n",
    "object Tree{\n",
    "    def void[A]: Tree[A] = Empty()\n",
    "    def leaf[A](a: A): Node[A] = Node(Empty(), a, Empty())\n",
    "    def right[A](a: A, tree: Tree[A]): Node[A] = Node(Empty(), a, tree)\n",
    "    def left[A](tree: Tree[A], a: A): Node[A] = Node(tree, a, Empty())\n",
    "    def node[A](left: Tree[A], a: A, right: Tree[A]): Node[A] = Node(left, a, right)\n",
    "}\n",
    "\n",
    "import Tree._\n",
    "\n",
    "def foldTree[A, B](tree: Tree[A])(empty: B)(node: (B, A, B) => B): B = \n",
    "    tree match {\n",
    "        case Empty() => empty\n",
    "        case Node(left, root, right) => node(foldTree(left)(empty)(node), root, foldTree(right)(empty)(node))\n",
    "    }"
   ]
  },
  {
   "cell_type": "code",
   "execution_count": 10,
   "metadata": {},
   "outputs": [
    {
     "data": {
      "text/plain": [
       "defined \u001b[32mobject\u001b[39m \u001b[36mSignatures\u001b[39m"
      ]
     },
     "execution_count": 10,
     "metadata": {},
     "output_type": "execute_result"
    }
   ],
   "source": [
    "object Signatures{\n",
    "    abstract class List[A]{\n",
    "        \n",
    "        // Common HOFs\n",
    "        def foldRight[B](nil: B)(cons: (A, B) => B): B\n",
    "        def foldLeft[B](initial: B)(update: (B, A) => B): B\n",
    "        def map[B](f: A => B): List[B]\n",
    "        def flatMap[B](f: A => List[B]): List[B]\n",
    "        def filter(f: A => Boolean): List[A]\n",
    "        def forall(pred: A => Boolean): Boolean\n",
    "        def exists(pred: A => Boolean): Boolean\n",
    " \n",
    "        // Returns the number of elements of this list\n",
    "        def length: Int\n",
    "        def reverse: List[A]\n",
    "    }\n",
    "}"
   ]
  },
  {
   "cell_type": "markdown",
   "metadata": {},
   "source": [
    "### Definiciones auxiliares sobre la correspondencia Curry-Howard y Tipos Algebraicos de Datos"
   ]
  },
  {
   "cell_type": "code",
   "execution_count": 1,
   "metadata": {},
   "outputs": [
    {
     "data": {
      "text/plain": [
       "defined \u001b[32mtrait\u001b[39m \u001b[36mIsomorphic\u001b[39m"
      ]
     },
     "execution_count": 1,
     "metadata": {},
     "output_type": "execute_result"
    }
   ],
   "source": [
    "trait Isomorphic[A, B]{\n",
    "    \n",
    "    def from(a: A): B\n",
    "    \n",
    "    def to(b: B): A\n",
    "}"
   ]
  },
  {
   "cell_type": "code",
   "execution_count": 12,
   "metadata": {},
   "outputs": [
    {
     "data": {
      "text/plain": [
       "defined \u001b[32mtype\u001b[39m \u001b[36mNot\u001b[39m"
      ]
     },
     "execution_count": 12,
     "metadata": {},
     "output_type": "execute_result"
    }
   ],
   "source": [
    "type Not[P] = P => Nothing"
   ]
  },
  {
   "cell_type": "markdown",
   "metadata": {},
   "source": [
    "# Ejercicio 1 (a)\n",
    "__(2 puntos)__\n",
    "\n",
    "__a) (1 punto)__ Utiliza la correspondencia de Curry-Howard para demostrar la validez del siguiente argumento lógico: \n",
    "\n",
    "$\\{ p\\vee q \\vee r, p \\rightarrow s, \\neg r \\rightarrow \\neg s\\} \\vdash \\neg r \\rightarrow q$"
   ]
  },
  {
   "cell_type": "code",
   "execution_count": null,
   "metadata": {},
   "outputs": [],
   "source": [
    "def proof[P, Q, R, S](pqr: Either[P, Either[Q, R]], \n",
    "                      ps: P => S, \n",
    "                      rs: Not[R] => Not[S]): \n",
    "                          Not[R] => Q = \n",
    "    nr => pqr match {\n",
    "        case Left(p) => rs(nr)(ps(p)) : Q\n",
    "        case Right(Left(q)) => q\n",
    "        case Right(Right(r)) => nr(r)\n",
    "    }"
   ]
  },
  {
   "cell_type": "markdown",
   "metadata": {},
   "source": [
    "__b) (1 punto)__ Utiliza la correspondencia Curry-Howard para demostrar la siguiente tautología de la lógica clásica proposicional: $\\vdash_c (\\neg p \\rightarrow p) \\rightarrow p$. Para ello, utiliza como premisa adicional la ley del tercio excluso aplicada a la proposición P, es decir, demuestra la validez intuicionista del siguiente argumento lógico:\n",
    "\n",
    "$\\{ p \\vee \\neg p \\} \\vdash (\\neg p \\rightarrow p) \\rightarrow p$"
   ]
  },
  {
   "cell_type": "code",
   "execution_count": null,
   "metadata": {},
   "outputs": [],
   "source": [
    "def proof[P](lemp: Either[P, Not[P]]): (Not[P] => P) => P = \n",
    "    (f: Not[P] => P) => \n",
    "        lemp match {\n",
    "            case Left(p) => p\n",
    "            case Right(np) => f(np)\n",
    "        }"
   ]
  },
  {
   "cell_type": "markdown",
   "metadata": {},
   "source": [
    "# Ejercicio 1 (b)\n",
    "__(2 puntos)__\n",
    "\n",
    "__a) (1 punto)__ Utiliza la correspondencia de Curry-Howard para demostrar la validez del siguiente argumento lógico: \n",
    "\n",
    "$ \\vdash (p \\rightarrow (q \\wedge r \\wedge s)) \\rightarrow \\neg r \\rightarrow \\neg p$"
   ]
  },
  {
   "cell_type": "code",
   "execution_count": 2,
   "metadata": {},
   "outputs": [
    {
     "data": {
      "text/plain": [
       "defined \u001b[32mfunction\u001b[39m \u001b[36mproof\u001b[39m"
      ]
     },
     "execution_count": 2,
     "metadata": {},
     "output_type": "execute_result"
    }
   ],
   "source": [
    "def proof[P, Q, R, S]: (P => (Q, (R, S))) => Not[R] => Not[P] = \n",
    "    (f: P => (Q, (R, S))) => (nr: Not[R]) => (p: P) =>\n",
    "        nr(f(p)._2._1 : R)"
   ]
  },
  {
   "cell_type": "markdown",
   "metadata": {},
   "source": [
    "__b) (1 punto)__ Utiliza la correspondencia Curry-Howard para demostrar la siguiente tautología de la lógica clásica proposicional: $\\vdash_c p \\vee (p \\rightarrow q)$. Para ello, utiliza como premisa adicional la ley del tercio excluso aplicada a la proposición $p$, es decir, demuestra la validez intuicionista del siguiente argumento lógico:\n",
    "\n",
    "$\\{ p \\vee \\neg p \\} \\vdash p \\vee (p \\rightarrow q)$"
   ]
  },
  {
   "cell_type": "code",
   "execution_count": 6,
   "metadata": {},
   "outputs": [
    {
     "data": {
      "text/plain": [
       "defined \u001b[32mfunction\u001b[39m \u001b[36mproof\u001b[39m"
      ]
     },
     "execution_count": 6,
     "metadata": {},
     "output_type": "execute_result"
    }
   ],
   "source": [
    "def proof[P, Q](lemp: Either[P, Not[P]]): Either[P, P => Q] = \n",
    "    lemp match {\n",
    "        case Left(p) => Left(p)\n",
    "        case Right(np) => Right(p => np(p))\n",
    "    }\n",
    "    "
   ]
  },
  {
   "cell_type": "code",
   "execution_count": 7,
   "metadata": {},
   "outputs": [
    {
     "data": {
      "text/plain": [
       "defined \u001b[32mfunction\u001b[39m \u001b[36mproof\u001b[39m"
      ]
     },
     "execution_count": 7,
     "metadata": {},
     "output_type": "execute_result"
    }
   ],
   "source": [
    "def proof[P, Q](lemp: Either[P, Not[P]]): Either[P, P => Q] = \n",
    "    lemp"
   ]
  },
  {
   "cell_type": "markdown",
   "metadata": {},
   "source": [
    "# Ejercicio 2 (a)\n",
    "__(1 punto)__"
   ]
  },
  {
   "cell_type": "markdown",
   "metadata": {},
   "source": [
    "Dado el siguiente tipo de datos `Cont[A]`:"
   ]
  },
  {
   "cell_type": "code",
   "execution_count": null,
   "metadata": {},
   "outputs": [],
   "source": [
    "trait Cont[A]{\n",
    "    def apply[X]: (A => X) => X\n",
    "}"
   ]
  },
  {
   "cell_type": "markdown",
   "metadata": {},
   "source": [
    "demuestra que, para todo tipo `A`, los tipos de datos `Cont[A]` y `A` son isomorfos:"
   ]
  },
  {
   "cell_type": "code",
   "execution_count": null,
   "metadata": {},
   "outputs": [],
   "source": [
    "class Iso[A] extends Isomorphic[Cont[A], A]{\n",
    "    \n",
    "    def from(f: Cont[A]): A = \n",
    "        f[A](identity)\n",
    "\n",
    "    def to(a: A): Cont[A] = \n",
    "        new Cont[A]{\n",
    "            def apply[X]: (A => X) => X = \n",
    "                (f: A => X) => f(a)\n",
    "        }\n",
    "}"
   ]
  },
  {
   "cell_type": "markdown",
   "metadata": {},
   "source": [
    "# Ejercicio 2 (b)\n",
    "__(1 punto)__"
   ]
  },
  {
   "cell_type": "markdown",
   "metadata": {},
   "source": [
    "Dado el siguiente tipo de datos `Cont[A]`:"
   ]
  },
  {
   "cell_type": "code",
   "execution_count": null,
   "metadata": {},
   "outputs": [],
   "source": [
    "trait Cont[A]{\n",
    "    def apply[X]: (Option[A] => X) => X\n",
    "}"
   ]
  },
  {
   "cell_type": "markdown",
   "metadata": {},
   "source": [
    "demuestra que, para todo tipo `A`, los tipos de datos `Cont[A]` y `Option[A]` son isomorfos:"
   ]
  },
  {
   "cell_type": "code",
   "execution_count": null,
   "metadata": {},
   "outputs": [],
   "source": [
    "class Iso[A] extends Isomorphic[Cont[A], Option[A]]{\n",
    "    \n",
    "    def from(f: Cont[A]): Option[A] = \n",
    "        f[Option[A]](identity)\n",
    "\n",
    "    def to(a: Option[A]): Cont[A] = \n",
    "        new Cont[A]{\n",
    "            def apply[X]: (Option[A] => X) => X = \n",
    "                (f: Option[A] => X) => f(a)\n",
    "        }\n",
    "}"
   ]
  },
  {
   "cell_type": "markdown",
   "metadata": {},
   "source": [
    "# Ejercicio 3\n",
    "__(4 puntos)__\n",
    "\n",
    "Considérense las dos funciones siguientes, `parse` y `validate`:\n"
   ]
  },
  {
   "cell_type": "code",
   "execution_count": null,
   "metadata": {},
   "outputs": [],
   "source": [
    "def parse(l: List[String]): Option[List[Int]] = \n",
    "    l match {\n",
    "        case Nil => Some(Nil)\n",
    "        case head :: tail => \n",
    "            val tailParse: Option[List[Int]] = parse(tail)\n",
    "            val headInt: Option[Int] = head.toIntOption\n",
    "            (headInt, tailParse) match {\n",
    "                case (Some(h), Some(t)) => Some(h :: t)\n",
    "                case _ => None\n",
    "            }\n",
    "    }"
   ]
  },
  {
   "cell_type": "code",
   "execution_count": null,
   "metadata": {},
   "outputs": [],
   "source": [
    "def validate(l: List[Int]): Option[List[Int]] = \n",
    "    l match {\n",
    "        case Nil => Some(Nil)\n",
    "        case head :: tail => \n",
    "            val tailValidate: Option[List[Int]] = validate(tail)\n",
    "            val headInt: Option[Int] = if (head < 0) None else Some(head)\n",
    "            (headInt, tailValidate) match {\n",
    "                case (Some(h), Some(t)) => Some(h :: t)\n",
    "                case _ => None\n",
    "            }\n",
    "    }"
   ]
  },
  {
   "cell_type": "code",
   "execution_count": null,
   "metadata": {},
   "outputs": [],
   "source": [
    "def ints(l: List[Double]): Option[List[Int]] = \n",
    "    l match {\n",
    "        case Nil => Some(Nil)\n",
    "        case head :: tail => \n",
    "            val tailInts: Option[List[Int]] = toInt(tail)\n",
    "            val headInt: Option[Int] = if (!head.isValidInt) None else Some(head.toInt)\n",
    "            (headInt, tailInts) match {\n",
    "                case (Some(h), Some(t)) => Some(h :: t)\n",
    "                case _ => None\n",
    "            }\n",
    "    }"
   ]
  },
  {
   "cell_type": "markdown",
   "metadata": {},
   "source": [
    "La función `parse` traduce todas las cadenas de caracteres de una lista a sus representaciones numéricas correspondientes. Si alguna de las cadenas no representa un número, entonces la función devuelve `None`. Por ejemplo: "
   ]
  },
  {
   "cell_type": "code",
   "execution_count": null,
   "metadata": {},
   "outputs": [],
   "source": [
    "parse(List(\"1\", \"2\", \"3\", \"4\")) == Some(List(1, 2, 3, 4))\n",
    "parse(List(\"1\", \"2\", \"aaa\", \"4\")) == None"
   ]
  },
  {
   "cell_type": "markdown",
   "metadata": {},
   "source": [
    "La función `validate` comprueba que todos los números de una lista son mayores o iguales a cero. Si se cumple esta condición, entonces la función devuelve la misma lista de entrada; en otro caso, devuelve `None`."
   ]
  },
  {
   "cell_type": "code",
   "execution_count": null,
   "metadata": {},
   "outputs": [],
   "source": [
    "validate(List(0,1,2,3,4)) == Some(List(0, 1, 2, 3, 4))\n",
    "validate(List(0,1,-2)) == None"
   ]
  },
  {
   "cell_type": "markdown",
   "metadata": {},
   "source": [
    "La función `ints` comprueba que todos los números de tipo `Double` (equivalentes al tipo `double` de Java) son números enteros, es decir, que su parte fraccional es zero (ese es el cometido de la función `_.isValidInt`). Si se cumple esta condición, entonces la función devuelve la conversión a enteros de los números de tipo `Double` (realizada mediante la función `_.toInt`); en otro caso, devuelve `None`. Por ejemplo: "
   ]
  },
  {
   "cell_type": "code",
   "execution_count": null,
   "metadata": {},
   "outputs": [],
   "source": [
    "ints(List(1.0, 2.0, 3.0, 4.0, 5.0)) == Some(List(1, 2, 3, 4, 5))\n",
    "ints(List(1.0, 2.2, 3.333, 4.0)) == None"
   ]
  },
  {
   "cell_type": "markdown",
   "metadata": {},
   "source": [
    "El procesamiento en todos estos casos es similar: tenemos una función que se aplica a cada elemento de la lista, y que podría resultar exitosa o no (el éxito o fracaso se indica mediante un valor de tipo `Option`). Si esta función se puede aplicar con éxito a _todos_ los elementos, se devuelve una lista con todos los resultados; en otro caso, se devuelve `None`."
   ]
  },
  {
   "cell_type": "markdown",
   "metadata": {},
   "source": [
    "__a) (2 puntos)__ Implementa una función de orden superior que encapsule el patrón de diseño descrito anteriormente utilizado en las funciones `parse` y `validate`. A esta función la denominaremos `traverse`:"
   ]
  },
  {
   "cell_type": "code",
   "execution_count": null,
   "metadata": {},
   "outputs": [],
   "source": [
    "def traverse[A, B](l: List[A])(f: A => Option[B]): Option[List[B]] = \n",
    "    l match {\n",
    "        case Nil => Some(Nil)\n",
    "        case head :: tail => \n",
    "            val tailTraverse: Option[List[B]] = traverse(tail)(f)\n",
    "            val headB: Option[B] = f(head)\n",
    "            (headB, tailTraverse) match {\n",
    "                case (Some(h), Some(t)) => Some(h :: t)\n",
    "                case _ => None\n",
    "            }\n",
    "    }"
   ]
  },
  {
   "cell_type": "markdown",
   "metadata": {},
   "source": [
    "__b) (2 puntos)__ Reimplementa las funciones `parse` y `validate` de una manera más modular reutilizando la función de orden superior `traverse` implementada en el apartado anterior. "
   ]
  },
  {
   "cell_type": "code",
   "execution_count": null,
   "metadata": {},
   "outputs": [],
   "source": [
    "def parse(l: List[String]): Option[List[Int]] = \n",
    "    traverse(l)(_.toIntOption)"
   ]
  },
  {
   "cell_type": "code",
   "execution_count": null,
   "metadata": {},
   "outputs": [],
   "source": [
    "def validate(l: List[Int]): Option[List[Int]] = \n",
    "    traverse(l)(head => if (head < 0) None else Some(head))"
   ]
  },
  {
   "cell_type": "code",
   "execution_count": null,
   "metadata": {},
   "outputs": [],
   "source": [
    "def ints(l: List[Double]): Option[List[Int]] = \n",
    "    traverse(l)(head => if (!head.isValidInt) None else Some(head.toInt))"
   ]
  },
  {
   "cell_type": "markdown",
   "metadata": {},
   "source": [
    "# Ejercicio 4\n",
    "__(3 puntos)__\n",
    "\n",
    "Dado un árbol binario se desea implementar una función `breadth` que devuelva los nodos pertenecientes a un nivel determinado del árbol. Por ejemplo:"
   ]
  },
  {
   "cell_type": "code",
   "execution_count": 13,
   "metadata": {},
   "outputs": [
    {
     "data": {
      "text/plain": [
       "defined \u001b[32mclass\u001b[39m \u001b[36mTestBreadth\u001b[39m"
      ]
     },
     "execution_count": 13,
     "metadata": {},
     "output_type": "execute_result"
    }
   ],
   "source": [
    "class TestBreadth(breadth: Tree[Int] => Int => List[Int]) extends FlatSpec with Matchers{\n",
    "    \"breadth path\" should \"work\" in {\n",
    "        List(0,1) map breadth(void) shouldBe \n",
    "            List(Nil, Nil)\n",
    "        \n",
    "        List(0,1,2,3,4,5) map breadth(left(left(right(3,right(2,leaf(1))), 4), 5)) shouldBe \n",
    "            List(List(5), List(4), List(3), List(2), List(1), Nil)\n",
    "        \n",
    "        List(0,1,2,3,4,5) map breadth(node(left(leaf(4), 1), 0, node(leaf(3), 2, right(2, right(4, leaf(5)))))) shouldBe \n",
    "            List(List(0), List(1, 2), List(4, 3, 2), List(4), List(5), Nil)\n",
    "    }\n",
    "}"
   ]
  },
  {
   "cell_type": "markdown",
   "metadata": {},
   "source": [
    "__a) (1,5 puntos)__ Implementa la función `breadth` recursivamente."
   ]
  },
  {
   "cell_type": "code",
   "execution_count": 14,
   "metadata": {},
   "outputs": [
    {
     "data": {
      "text/plain": [
       "defined \u001b[32mfunction\u001b[39m \u001b[36mbreadth\u001b[39m"
      ]
     },
     "execution_count": 14,
     "metadata": {},
     "output_type": "execute_result"
    }
   ],
   "source": [
    "def breadth[A](tree: Tree[A]): Int => List[A] = \n",
    "    level => tree match {\n",
    "        case Empty() => List()\n",
    "        case Node(_, root, _) if level == 0 => List(root)\n",
    "        case Node(left, _, right) => \n",
    "            breadth(left)(level-1) ++ breadth(right)(level-1)\n",
    "    }"
   ]
  },
  {
   "cell_type": "code",
   "execution_count": 15,
   "metadata": {},
   "outputs": [
    {
     "data": {
      "text/plain": [
       "defined \u001b[32mfunction\u001b[39m \u001b[36mbreadth\u001b[39m"
      ]
     },
     "execution_count": 15,
     "metadata": {},
     "output_type": "execute_result"
    }
   ],
   "source": [
    "def breadth[A](tree: Tree[A])(level: Int): List[A] = \n",
    "    tree match {\n",
    "        case Empty() => List()\n",
    "        case Node(_, root, _) if level == 0 => List(root)\n",
    "        case Node(left, _, right) => \n",
    "            breadth(left)(level-1) ++ breadth(right)(level-1)\n",
    "    }"
   ]
  },
  {
   "cell_type": "code",
   "execution_count": 25,
   "metadata": {},
   "outputs": [
    {
     "data": {
      "text/plain": [
       "defined \u001b[32mfunction\u001b[39m \u001b[36mbreadth\u001b[39m"
      ]
     },
     "execution_count": 25,
     "metadata": {},
     "output_type": "execute_result"
    }
   ],
   "source": [
    "def breadth[A](tree: Tree[A]): Int => List[A] = {\n",
    "    def aux(tree: Tree[A], level: Int, acc: List[A]): List[A] = \n",
    "        tree match {\n",
    "            case Empty() => acc\n",
    "            case Node(_, root, _) if level == 0 => root :: acc\n",
    "            case Node(left, _, right) => \n",
    "                aux(left, level-1, aux(right, level-1, acc))\n",
    "        }\n",
    "    \n",
    "    level => aux(tree, level, List())\n",
    "}"
   ]
  },
  {
   "cell_type": "code",
   "execution_count": 16,
   "metadata": {},
   "outputs": [
    {
     "name": "stdout",
     "output_type": "stream",
     "text": [
      "\u001b[32mcmd12$Helper$TestBreadth:\u001b[0m\n",
      "\u001b[32mbreadth path\u001b[0m\n",
      "\u001b[32m- should work\u001b[0m\n"
     ]
    }
   ],
   "source": [
    "run(new TestBreadth(breadth))"
   ]
  },
  {
   "cell_type": "markdown",
   "metadata": {},
   "source": [
    "__b) (1,5 puntos)__ Implementa la función `breadth` mediante la función de orden superior `foldTree`."
   ]
  },
  {
   "cell_type": "code",
   "execution_count": 17,
   "metadata": {},
   "outputs": [
    {
     "data": {
      "text/plain": [
       "defined \u001b[32mfunction\u001b[39m \u001b[36mbreadth\u001b[39m"
      ]
     },
     "execution_count": 17,
     "metadata": {},
     "output_type": "execute_result"
    }
   ],
   "source": [
    "def breadth[A](tree: Tree[A]): Int => List[A] = \n",
    "    foldTree(tree)((_: Int) => List[A]())(\n",
    "        (breadthL, root, breadthR) => \n",
    "            level => if (level == 0) List(root)\n",
    "                     else breadthL(level-1) ++ breadthR(level-1)\n",
    "    )"
   ]
  },
  {
   "cell_type": "code",
   "execution_count": 28,
   "metadata": {},
   "outputs": [
    {
     "name": "stdout",
     "output_type": "stream",
     "text": [
      "\u001b[32mcmd12$Helper$TestBreadth:\u001b[0m\n",
      "\u001b[32mbreadth path\u001b[0m\n",
      "\u001b[32m- should work\u001b[0m\n"
     ]
    }
   ],
   "source": [
    "run(new TestBreadth(breadth))"
   ]
  },
  {
   "cell_type": "code",
   "execution_count": null,
   "metadata": {},
   "outputs": [],
   "source": []
  },
  {
   "cell_type": "code",
   "execution_count": null,
   "metadata": {},
   "outputs": [],
   "source": []
  }
 ],
 "metadata": {
  "kernelspec": {
   "display_name": "Scala",
   "language": "scala",
   "name": "scala"
  },
  "language_info": {
   "codemirror_mode": "text/x-scala",
   "file_extension": ".sc",
   "mimetype": "text/x-scala",
   "name": "scala",
   "nbconvert_exporter": "script",
   "version": "2.13.1"
  }
 },
 "nbformat": 4,
 "nbformat_minor": 2
}
