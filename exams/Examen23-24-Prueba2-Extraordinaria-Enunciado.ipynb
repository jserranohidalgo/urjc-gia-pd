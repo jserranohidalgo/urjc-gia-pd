{
 "cells": [
  {
   "cell_type": "markdown",
   "metadata": {},
   "source": [
    "# Programación declarativa @ GIA - URJC\n",
    "## Curso 23-24\n",
    "## Convocatoria extraordinaria\n",
    "## Prueba 2\n",
    "\n",
    "La duración de la prueba es de 1 hora y 20 minutos.\n"
   ]
  },
  {
   "cell_type": "markdown",
   "metadata": {
    "tags": []
   },
   "source": [
    "# Definiciones auxiliares"
   ]
  },
  {
   "cell_type": "code",
   "execution_count": null,
   "metadata": {},
   "outputs": [],
   "source": [
    "import $ivy.`org.scalatest::scalatest:3.2.16`\n",
    "import org.scalatest.{Filter => _, _}, flatspec._, matchers._"
   ]
  },
  {
   "cell_type": "code",
   "execution_count": null,
   "metadata": {},
   "outputs": [],
   "source": [
    "object Signatures:\n",
    "    abstract class List[A]:\n",
    "        \n",
    "        // Common HOFs\n",
    "        def foldRight[B](nil: B)(cons: (A, B) => B): B\n",
    "        def foldLeft[B](initial: B)(update: (B, A) => B): B\n",
    "        def map[B](f: A => B): List[B]\n",
    "        def flatMap[B](f: A => List[B]): List[B]\n",
    "        def filter(f: A => Boolean): List[A]\n",
    "        def forall(pred: A => Boolean): Boolean\n",
    "        def reduce(f: (A, A) => A): A\n",
    " \n",
    "        // Common functions\n",
    "        def length: Int\n",
    "        def reverse: List[A]\n",
    "        def flatten[B](/* A debe poder convertirse al tipo List[B] */): List[B]\n",
    "\n",
    "        // devuelve la lista formada por los `i` primeros elementos\n",
    "        def take(i: Int): List[A]\n",
    "\n",
    "        // devuelve la lista resultante de eliminar los `i` primeros elementos\n",
    "        def drop(i: Int): List[A]\n",
    "\n",
    "    abstract class StringOps(s: String): \n",
    "\n",
    "        // Devuelve la primera posición de la cadena de caracteres en la que el predicado es cierto para el carácter en dicha posición.\n",
    "        // Si no existe ningún carácter que satisfaga el predicado, la función devuelve el valor -1.\n",
    "        def indexWhere(pred: Char => Boolean): Int \n",
    "\n",
    "        // Particiona el string en dos substrings de acuerdo a un índice `i`, el primero de ellos con los caracteres desde la posición 0..i-1\n",
    "        // y el segundo con los caracteres de las posiciones i..length\n",
    "        def splitAt(i: Int): (String, String)\n",
    "\n",
    "        // Elimina `i` caracteres del comienzo del string. \n",
    "        def drop(i: Int): String"
   ]
  },
  {
   "cell_type": "code",
   "execution_count": null,
   "metadata": {},
   "outputs": [],
   "source": [
    "// type Tree[A] = 1 + Tree[A] * A * Tree[A]\n",
    "\n",
    "enum Tree[A]:\n",
    "    case Empty()\n",
    "    case Node(left: Tree[A], root: A, right: Tree[A])\n",
    "\n",
    "object Tree:\n",
    "    \n",
    "    def void[A]: Tree[A] = \n",
    "        Empty()\n",
    "    \n",
    "    def leaf[A](a: A): Node[A] = \n",
    "        Node(Empty(), a, Empty())\n",
    "    \n",
    "    def right[A](a: A, tree: Tree[A]): Node[A] = \n",
    "        Node(Empty(), a, tree)\n",
    "    \n",
    "    def left[A](tree: Tree[A], a: A): Node[A] = \n",
    "        Node(tree, a, Empty())\n",
    "    \n",
    "    def node[A](left: Tree[A], a: A, right: Tree[A]): Node[A] = \n",
    "        Node(left, a, right)\n",
    "\n",
    "import Tree._"
   ]
  },
  {
   "cell_type": "markdown",
   "metadata": {
    "tags": []
   },
   "source": [
    "# Ejercicio 1\n",
    "__(4 puntos)__"
   ]
  },
  {
   "cell_type": "markdown",
   "metadata": {
    "tags": []
   },
   "source": [
    "Se desea implementar una función `cut` que permita particionar una lista de elementos en sublistas contiguas de un tamaño dado (excepto la última sublista, que podrá ser de un tamaño inferior si la longitud de la lista no es múltiplo de dicho tamaño). El siguiente test ilustra el comportamiento de la función para elementos de tipo `Int`:"
   ]
  },
  {
   "cell_type": "code",
   "execution_count": null,
   "metadata": {},
   "outputs": [],
   "source": [
    "class TestCut(cut: Int => List[Int] => Option[List[List[Int]]]) extends AnyFlatSpec with should.Matchers:\n",
    "\n",
    "    \"cut\" should \"work\" in:\n",
    "        cut(0)(List(1,2,3,4)) shouldBe None\n",
    "        cut(1)(List(1,2,3,4,5)) shouldBe Some(List(List(1), List(2), List(3), List(4), List(5)))\n",
    "        cut(2)(List()) shouldBe Some(List())\n",
    "        cut(2)(List(1)) shouldBe Some(List(List(1)))\n",
    "        cut(2)(List(1,2,3,4)) shouldBe Some(List(List(1,2),List(3,4)))\n",
    "        cut(2)(List(1,2,3,4,5)) shouldBe Some(List(List(1,2),List(3,4),List(5)))\n",
    "        cut(3)(List(1,2,3,4,5)) shouldBe Some(List(List(1,2,3),List(4,5)))\n",
    "        cut(6)(List(1,2,3,4,5)) shouldBe Some(List(List(1,2,3,4,5)))"
   ]
  },
  {
   "cell_type": "markdown",
   "metadata": {},
   "source": [
    "Obsérvese que la función solo devuelve una partición en caso de que el tamaño solicitado sea mayor que 0."
   ]
  },
  {
   "cell_type": "markdown",
   "metadata": {},
   "source": [
    "__a) (2 puntos)__ Implementa la función `cut` mediante recursividad final, haciendo uso de las funciones de la librería estándar de Scala `take` y `drop` (descritas en el anexo del examen)."
   ]
  },
  {
   "cell_type": "code",
   "execution_count": null,
   "metadata": {},
   "outputs": [],
   "source": [
    "// INTRODUCE TU RESPUESTA\n",
    "\n"
   ]
  },
  {
   "cell_type": "code",
   "execution_count": null,
   "metadata": {},
   "outputs": [],
   "source": [
    "run(TestCut(cut))"
   ]
  },
  {
   "cell_type": "markdown",
   "metadata": {},
   "source": [
    "__b) (2 puntos)__ Implementa la función `cut` mediante la siguiente función de orden superior `iterate`. Esta función generaliza el patrón de diseño iterativo de la función `foldLeft` en dos aspectos: \n",
    "* En primer lugar, la actualización de la solución parcial se puede llevar a cabo teniendo en cuenta un prefijo de elementos de la lista, no solamente un elemento.\n",
    "* En segundo lugar, la iteración no se estructura en tantos pasos como elementos tenga la lista, sino en función de los distintos prefijos calculados.\n",
    "\n",
    "En la signatura que se muestra a continuación, la función `split` se encarga de dividir la lista de elementos restantes en dos partes: el prefijo que se tendrá en cuenta para actualizar la solución parcial (mediante la función `update`), y el sufijo que se tendrá en cuenta en el siguiente paso de la iteración. "
   ]
  },
  {
   "cell_type": "code",
   "execution_count": null,
   "metadata": {},
   "outputs": [],
   "source": [
    "def iterate[A, B](l: List[A])(ini: B)(split: List[A] => (List[A], List[A]), update: (B, List[A]) => B): B = \n",
    "    l match \n",
    "        case Nil => ini\n",
    "        case t => \n",
    "            val (prefix, suffix) = split(t)\n",
    "            iterate(suffix)(update(ini, prefix))(split, update)"
   ]
  },
  {
   "cell_type": "code",
   "execution_count": null,
   "metadata": {},
   "outputs": [],
   "source": [
    "// INTRODUCE TU RESPUESTA\n",
    "\n"
   ]
  },
  {
   "cell_type": "code",
   "execution_count": null,
   "metadata": {},
   "outputs": [],
   "source": [
    "run(TestCut(cut))"
   ]
  },
  {
   "cell_type": "markdown",
   "metadata": {
    "tags": []
   },
   "source": [
    "# Ejercicio 2\n",
    "__(2 puntos)__"
   ]
  },
  {
   "cell_type": "markdown",
   "metadata": {},
   "source": [
    "La función `vs` permite particionar un string en función de las distintas ocurrencias de un determinado carácter. Por ejemplo: "
   ]
  },
  {
   "cell_type": "code",
   "execution_count": null,
   "metadata": {},
   "outputs": [],
   "source": [
    "class TestVs(vs: Char => String => List[String]) extends AnyFlatSpec with should.Matchers:\n",
    "\n",
    "    \"vs\" should \"work\" in:\n",
    "        vs('#')(\"abcd#efgh\") shouldBe List(\"abcd\", \"efgh\")\n",
    "        vs('#')(\"ab#cd#ef#gh\") shouldBe List(\"ab\", \"cd\", \"ef\", \"gh\")\n",
    "        vs('#')(\"abcd\") shouldBe List(\"abcd\")\n",
    "        vs('#')(\"\") shouldBe List(\"\")\n",
    "        vs('#')(\"##\") shouldBe List(\"\", \"\", \"\")"
   ]
  },
  {
   "cell_type": "markdown",
   "metadata": {},
   "source": [
    "Se pide implementar la función `vs` mediante recursividad general (no final). Se recomienda para ello utilizar las siguientes funciones de la librería estándar de Scala, cuyas signaturas se describen en el anexo del enunciado: `indexWhere`, `splitAt` y `drop`."
   ]
  },
  {
   "cell_type": "code",
   "execution_count": null,
   "metadata": {},
   "outputs": [],
   "source": [
    "// INTRODUCE TU RESPUESTA\n",
    "\n"
   ]
  },
  {
   "cell_type": "code",
   "execution_count": null,
   "metadata": {},
   "outputs": [],
   "source": [
    "run(TestVs(vs))"
   ]
  },
  {
   "cell_type": "markdown",
   "metadata": {
    "tags": []
   },
   "source": [
    "# Ejercicio 3\n",
    "__(4 puntos)__"
   ]
  },
  {
   "cell_type": "markdown",
   "metadata": {},
   "source": [
    "Los árboles degenerados son árboles binarios cuyos subárboles tienen a lo sumo un hijo no vacío. Un árbol degenerado se puede representar mediante el siguiente tipo de datos algebraico, según el cual, un árbol degenerado puede ser: \n",
    "* O bien vacío\n",
    "* O bien no vacío, en cuyo caso, almacena un valor de tipo `A` y un árbol degenerado (o bien el izquierdo, o bien el derecho, lo cual se representa mediante un valor de tipo `Either`)."
   ]
  },
  {
   "cell_type": "code",
   "execution_count": null,
   "metadata": {},
   "outputs": [],
   "source": [
    "enum TreeDeg[A]: \n",
    "    case EmptyDeg()\n",
    "    case NonEmptyDeg(a: A, child: Either[TreeDeg[A], TreeDeg[A]])\n",
    "\n",
    "import TreeDeg._"
   ]
  },
  {
   "cell_type": "markdown",
   "metadata": {},
   "source": [
    "__a) (1.5 puntos)__ Implementa una función que permita transformar la representación de un árbol binario estándar (cuya definición `Tree` se encontrará en el anexo de este enunciado) en la representación de árboles degenerados `TreeDeg` definida más arriba. En caso de que el árbol binario de entrada no sea degenerado, la transformación no se llevará a cabo, tal y como se indica en los siguientes tests:  "
   ]
  },
  {
   "cell_type": "code",
   "execution_count": null,
   "metadata": {},
   "outputs": [],
   "source": [
    "class TestToDegenerate(toDeg: Tree[Int] => Option[TreeDeg[Int]]) extends AnyFlatSpec with should.Matchers:\n",
    "\n",
    "    \"toDeg\" should \"work\" in:\n",
    "        toDeg(void) shouldBe Some(EmptyDeg())\n",
    "        toDeg(leaf(1)) shouldBe Some(NonEmptyDeg(1, Left(EmptyDeg())))\n",
    "        toDeg(left(leaf(1), 2)) shouldBe Some(NonEmptyDeg(2, Left(NonEmptyDeg(1, Left(EmptyDeg())))))\n",
    "        toDeg(right(2, leaf(1)))  shouldBe Some(NonEmptyDeg(2, Right(NonEmptyDeg(1, Left(EmptyDeg())))))\n",
    "        toDeg(left(left(leaf(3), 2), 1)) shouldBe Some(NonEmptyDeg(1, Left(NonEmptyDeg(2, Left(NonEmptyDeg(3, Left(EmptyDeg())))))))\n",
    "        toDeg(left(right(2, left(right(4, leaf(5)), 3)),1)) shouldBe \n",
    "            Some(NonEmptyDeg(1, Left(NonEmptyDeg(2, Right(NonEmptyDeg(3, Left(NonEmptyDeg(4, Right(NonEmptyDeg(5, Left(EmptyDeg())))))))))))\n",
    "        toDeg(node(leaf(1), 2, leaf(3))) shouldBe None\n",
    "        toDeg(left(node(leaf(3), 2, leaf(3)), 1)) shouldBe None"
   ]
  },
  {
   "cell_type": "markdown",
   "metadata": {},
   "source": [
    "Obsérvese que las hojas (árboles no vacíos degenerados con un solo nodo) tienen su único árbol vacío representado en el valor de tipo `Left`. Se podría haber elegido el valor de tipo `Right` como convención alternativa. "
   ]
  },
  {
   "cell_type": "code",
   "execution_count": null,
   "metadata": {},
   "outputs": [],
   "source": [
    "// INTRODUCE TU RESPUESTA\n",
    "\n"
   ]
  },
  {
   "cell_type": "code",
   "execution_count": null,
   "metadata": {},
   "outputs": [],
   "source": [
    "run(TestToDegenerate(toDegenerate))"
   ]
  },
  {
   "cell_type": "markdown",
   "metadata": {},
   "source": [
    "__b) (1.5 puntos)__ Implementa la misma función, pero teniendo en cuenta obligatoriamente la siguiente función de orden superior (equivalente a la función `map` de las listas para el tipo `Option`):"
   ]
  },
  {
   "cell_type": "code",
   "execution_count": null,
   "metadata": {},
   "outputs": [],
   "source": [
    "def mapOption[A, B](o: Option[A])(f: A => B): Option[B] = \n",
    "    o match \n",
    "        case None => None\n",
    "        case Some(a) => Some(f(a))"
   ]
  },
  {
   "cell_type": "code",
   "execution_count": null,
   "metadata": {},
   "outputs": [],
   "source": [
    "// INTRODUCE TU RESPUESTA\n",
    "\n"
   ]
  },
  {
   "cell_type": "code",
   "execution_count": null,
   "metadata": {},
   "outputs": [],
   "source": [
    "run(TestToDegenerate(toDegenerate))"
   ]
  },
  {
   "cell_type": "markdown",
   "metadata": {},
   "source": [
    "__c) (0.5 puntos)__ Implementa la función inversa, que dado un árbol degenerado en la representación `TreeDeg` devuelve un árbol en la representación `Tree`. "
   ]
  },
  {
   "cell_type": "code",
   "execution_count": null,
   "metadata": {},
   "outputs": [],
   "source": [
    "class TestFromDegenerate(fromDeg: TreeDeg[Int] => Tree[Int]) extends AnyFlatSpec with should.Matchers:\n",
    "\n",
    "    \"fromDeg\" should \"work\" in:\n",
    "        fromDeg(EmptyDeg()) shouldBe void\n",
    "        fromDeg(NonEmptyDeg(1, Left(EmptyDeg()))) shouldBe leaf(1)\n",
    "        fromDeg(NonEmptyDeg(2, Left(NonEmptyDeg(1, Left(EmptyDeg()))))) shouldBe left(leaf(1), 2)\n",
    "        fromDeg(NonEmptyDeg(2, Right(NonEmptyDeg(1, Left(EmptyDeg())))))  shouldBe right(2, leaf(1))\n",
    "        fromDeg(NonEmptyDeg(1, Left(NonEmptyDeg(2, Left(NonEmptyDeg(3, Left(EmptyDeg()))))))) shouldBe left(left(leaf(3), 2), 1)\n",
    "        fromDeg(NonEmptyDeg(1, Left(NonEmptyDeg(2, Right(NonEmptyDeg(3, Left(NonEmptyDeg(4, Right(NonEmptyDeg(5, Left(EmptyDeg()))))))))))) shouldBe \n",
    "            left(right(2, left(right(4, leaf(5)), 3)),1)"
   ]
  },
  {
   "cell_type": "code",
   "execution_count": null,
   "metadata": {},
   "outputs": [],
   "source": [
    "// INTRODUCE TU RESPUESTA\n",
    "\n"
   ]
  },
  {
   "cell_type": "code",
   "execution_count": null,
   "metadata": {},
   "outputs": [],
   "source": [
    "run(TestFromDegenerate(fromDegenerate))"
   ]
  },
  {
   "cell_type": "markdown",
   "metadata": {},
   "source": [
    "__d) (0.5 puntos)__ Implementa la siguiente ley: dado un árbol binario degenerado, la transformación a la representación `TreeDeg` mediante la función `toDegenerate` y la transformación de dicho resultado de vuelta a la representación `Tree`, es la identidad (es decir, el resultado es el árbol binario de partida)."
   ]
  },
  {
   "cell_type": "code",
   "execution_count": null,
   "metadata": {},
   "outputs": [],
   "source": [
    "// INTRODUCE TU RESPUESTA\n",
    "\n",
    "def law[A](t: Tree[A]): Boolean = \n",
    "    ???"
   ]
  }
 ],
 "metadata": {
  "kernelspec": {
   "display_name": "Scala 3.3",
   "language": "scala",
   "name": "scala33"
  },
  "language_info": {
   "codemirror_mode": "text/x-scala",
   "file_extension": ".sc",
   "mimetype": "text/x-scala",
   "name": "scala",
   "nbconvert_exporter": "script",
   "version": "2.13.12"
  }
 },
 "nbformat": 4,
 "nbformat_minor": 4
}
