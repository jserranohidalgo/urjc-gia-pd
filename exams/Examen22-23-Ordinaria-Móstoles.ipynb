{
 "cells": [
  {
   "cell_type": "markdown",
   "metadata": {},
   "source": [
    "# Programación declarativa @ URJC\n",
    "# Programación funcional\n",
    "## Curso 22-23, convocatoria ordinaria (31 de octubre de 2022)\n",
    "## Campus de Móstoles\n"
   ]
  },
  {
   "cell_type": "markdown",
   "metadata": {},
   "source": [
    "# Definiciones auxiliares"
   ]
  },
  {
   "cell_type": "code",
   "execution_count": 1,
   "metadata": {},
   "outputs": [
    {
     "data": {
      "text/plain": [
       "\u001b[32mimport \u001b[39m\u001b[36m$ivy.$                               \n",
       "\u001b[39m\n",
       "\u001b[32mimport \u001b[39m\u001b[36morg.scalatest._\u001b[39m"
      ]
     },
     "execution_count": 1,
     "metadata": {},
     "output_type": "execute_result"
    }
   ],
   "source": [
    "import $ivy.`org.scalatest::scalatest:3.0.8`\n",
    "import org.scalatest._"
   ]
  },
  {
   "cell_type": "markdown",
   "metadata": {},
   "source": [
    "### Algunas definiciones de tipos y funciones auxiliares"
   ]
  },
  {
   "cell_type": "code",
   "execution_count": 2,
   "metadata": {},
   "outputs": [
    {
     "data": {
      "text/plain": [
       "defined \u001b[32mclass\u001b[39m \u001b[36mTree\u001b[39m\n",
       "defined \u001b[32mclass\u001b[39m \u001b[36mEmpty\u001b[39m\n",
       "defined \u001b[32mclass\u001b[39m \u001b[36mNode\u001b[39m\n",
       "defined \u001b[32mobject\u001b[39m \u001b[36mTree\u001b[39m\n",
       "\u001b[32mimport \u001b[39m\u001b[36mTree._\n",
       "\n",
       "\u001b[39m\n",
       "defined \u001b[32mfunction\u001b[39m \u001b[36mfoldTree\u001b[39m"
      ]
     },
     "execution_count": 2,
     "metadata": {},
     "output_type": "execute_result"
    }
   ],
   "source": [
    "sealed abstract class Tree[A]\n",
    "case class Empty[A]() extends Tree[A]\n",
    "case class Node[A](left: Tree[A], root: A, right: Tree[A]) extends Tree[A]\n",
    "\n",
    "object Tree{\n",
    "    def void[A]: Tree[A] = Empty()\n",
    "    def leaf[A](a: A): Node[A] = Node(Empty(), a, Empty())\n",
    "    def right[A](a: A, tree: Tree[A]): Node[A] = Node(Empty(), a, tree)\n",
    "    def left[A](tree: Tree[A], a: A): Node[A] = Node(tree, a, Empty())\n",
    "    def node[A](left: Tree[A], a: A, right: Tree[A]): Node[A] = Node(left, a, right)\n",
    "}\n",
    "\n",
    "import Tree._\n",
    "\n",
    "def foldTree[A, B](tree: Tree[A])(empty: B)(node: (B, A, B) => B): B = \n",
    "    tree match {\n",
    "        case Empty() => empty\n",
    "        case Node(left, root, right) => node(foldTree(left)(empty)(node), root, foldTree(right)(empty)(node))\n",
    "    }"
   ]
  },
  {
   "cell_type": "code",
   "execution_count": 3,
   "metadata": {},
   "outputs": [
    {
     "data": {
      "text/plain": [
       "defined \u001b[32mobject\u001b[39m \u001b[36mSignatures\u001b[39m"
      ]
     },
     "execution_count": 3,
     "metadata": {},
     "output_type": "execute_result"
    }
   ],
   "source": [
    "object Signatures{\n",
    "    abstract class List[A]{\n",
    "        \n",
    "        // Common HOFs\n",
    "        def foldRight[B](nil: B)(cons: (A, B) => B): B\n",
    "        def foldLeft[B](initial: B)(update: (B, A) => B): B\n",
    "        def map[B](f: A => B): List[B]\n",
    "        def flatMap[B](f: A => List[B]): List[B]\n",
    "        def filter(f: A => Boolean): List[A]\n",
    "        def forall(pred: A => Boolean): Boolean\n",
    "        def exists(pred: A => Boolean): Boolean\n",
    " \n",
    "        // Returns the number of elements of this list\n",
    "        def length: Int\n",
    "        def reverse: List[A]\n",
    "    }\n",
    "}"
   ]
  },
  {
   "cell_type": "markdown",
   "metadata": {},
   "source": [
    "### Definiciones auxiliares sobre la correspondencia Curry-Howard y Tipos Algebraicos de Datos"
   ]
  },
  {
   "cell_type": "code",
   "execution_count": 1,
   "metadata": {},
   "outputs": [
    {
     "data": {
      "text/plain": [
       "defined \u001b[32mtrait\u001b[39m \u001b[36mIsomorphic\u001b[39m"
      ]
     },
     "execution_count": 1,
     "metadata": {},
     "output_type": "execute_result"
    }
   ],
   "source": [
    "trait Isomorphic[A, B]{\n",
    "    \n",
    "    def from(a: A): B\n",
    "    \n",
    "    def to(b: B): A\n",
    "\n",
    "}"
   ]
  },
  {
   "cell_type": "code",
   "execution_count": 5,
   "metadata": {},
   "outputs": [
    {
     "data": {
      "text/plain": [
       "defined \u001b[32mtype\u001b[39m \u001b[36mNot\u001b[39m"
      ]
     },
     "execution_count": 5,
     "metadata": {},
     "output_type": "execute_result"
    }
   ],
   "source": [
    "type Not[P] = P => Nothing"
   ]
  },
  {
   "cell_type": "markdown",
   "metadata": {},
   "source": [
    "# Ejercicio 1 (a)\n",
    "__(2 puntos)__\n",
    "\n",
    "__a) (1 punto)__ Utiliza la correspondencia de Curry-Howard para demostrar la validez del siguiente argumento lógico: \n",
    "\n",
    "$\\{ p \\rightarrow (q \\vee r), \\neg r, q \\rightarrow (s \\vee t), \\neg (s \\vee t)\\} \\vdash \\neg p $"
   ]
  },
  {
   "cell_type": "code",
   "execution_count": 9,
   "metadata": {},
   "outputs": [
    {
     "data": {
      "text/plain": [
       "defined \u001b[32mfunction\u001b[39m \u001b[36mproof\u001b[39m"
      ]
     },
     "execution_count": 9,
     "metadata": {},
     "output_type": "execute_result"
    }
   ],
   "source": [
    "def proof[P, Q, R, S, T](p1: P => Either[Q, R], \n",
    "                         p2: Not[R], \n",
    "                         p3: Q => Either[S, T], \n",
    "                         p4: Not[Either[S, T]]): \n",
    "                             Not[P] = \n",
    "     (p: P) => \n",
    "        p1(p) match {    \n",
    "            case Left(q) => p4(p3(q))\n",
    "            case Right(r) => p2(r)\n",
    "        }"
   ]
  },
  {
   "cell_type": "markdown",
   "metadata": {},
   "source": [
    "__b) (1 punto)__ Utiliza la correspondencia Curry-Howard para demostrar la siguiente tautología de la lógica clásica proposicional: $\\vdash_c (p \\rightarrow q) \\vee (q \\rightarrow r)$. Para ello, utiliza como premisa adicional la ley del tercio excluso aplicada a la proposición $q$, es decir, demuestra la validez intuicionista del siguiente argumento lógico:\n",
    "\n",
    "$\\{ q \\vee \\neg q \\} \\vdash (p \\rightarrow q) \\vee (q \\rightarrow r)$"
   ]
  },
  {
   "cell_type": "code",
   "execution_count": 10,
   "metadata": {},
   "outputs": [
    {
     "data": {
      "text/plain": [
       "defined \u001b[32mfunction\u001b[39m \u001b[36mproof\u001b[39m"
      ]
     },
     "execution_count": 10,
     "metadata": {},
     "output_type": "execute_result"
    }
   ],
   "source": [
    "def proof[P, Q, R](lemq: Either[Q, Not[Q]]): Either[P => Q, Q => R] = \n",
    "    lemq match {\n",
    "        case Left(q) => \n",
    "            Left(_ => q)\n",
    "        case Right(nq) => \n",
    "            Right(nq)\n",
    "    }"
   ]
  },
  {
   "cell_type": "markdown",
   "metadata": {},
   "source": [
    "# Ejercicio 1 (b)\n",
    "__(2 puntos)__\n",
    "\n",
    "__a) (1 punto)__ Utiliza la correspondencia de Curry-Howard para demostrar la validez del siguiente argumento lógico: \n",
    "\n",
    "$ \\{ p \\rightarrow q, r \\vee s, s \\rightarrow \\neg q, \\neg r \\} \\vdash \\neg p $"
   ]
  },
  {
   "cell_type": "code",
   "execution_count": 11,
   "metadata": {},
   "outputs": [
    {
     "data": {
      "text/plain": [
       "defined \u001b[32mfunction\u001b[39m \u001b[36mproof\u001b[39m"
      ]
     },
     "execution_count": 11,
     "metadata": {},
     "output_type": "execute_result"
    }
   ],
   "source": [
    "def proof[P, Q, R, S](p1: P => Q, \n",
    "                      p2: Either[R, S], \n",
    "                      p3: S => Not[Q], \n",
    "                      p4: Not[R]): Not[P] = \n",
    "    p => p2 match {\n",
    "        case Left(r) => p4(r)\n",
    "        case Right(s) => p3(s)(p1(p))\n",
    "    }"
   ]
  },
  {
   "cell_type": "markdown",
   "metadata": {},
   "source": [
    "__b) (1 punto)__ Utiliza la correspondencia Curry-Howard para demostrar la siguiente tautología de la lógica clásica proposicional: $\\vdash_c \\neg (p \\rightarrow q) \\rightarrow (p \\wedge \\neg q) $. Para ello, utiliza como premisa adicional la ley del tercio excluso aplicada a la proposición $p$, es decir, demuestra la validez intuicionista del siguiente argumento lógico:\n",
    "\n",
    "$\\{ p \\vee \\neg p \\} \\vdash \\neg (p \\rightarrow q) \\rightarrow (p \\wedge \\neg q) $"
   ]
  },
  {
   "cell_type": "code",
   "execution_count": 12,
   "metadata": {},
   "outputs": [
    {
     "data": {
      "text/plain": [
       "defined \u001b[32mfunction\u001b[39m \u001b[36mproof\u001b[39m"
      ]
     },
     "execution_count": 12,
     "metadata": {},
     "output_type": "execute_result"
    }
   ],
   "source": [
    "def proof[P, Q](lemp: Either[P, Not[P]]): Not[P => Q] => (P, Not[Q]) = \n",
    "    (npq: (P => Q) => Nothing) => \n",
    "        (lemp match {\n",
    "            case Left(p) => p\n",
    "            case Right(np) => npq(np)\n",
    "        }, \n",
    "         q => npq(_ => q)\n",
    "        )"
   ]
  },
  {
   "cell_type": "markdown",
   "metadata": {},
   "source": [
    "# Ejercicio 2\n",
    "__(2 puntos)__"
   ]
  },
  {
   "cell_type": "markdown",
   "metadata": {},
   "source": [
    "Desde un punto de vista algebraico, una lista de elementos de tipo `A` puede representarse como el siguiente tipo algebraico de datos recursivo:\n",
    "\n",
    "$List[A] = 1 + A * List[A] $\n",
    "\n",
    "Si expandimos la definición del tipo lista en la parte derecha obtenemos lo siguiente:\n",
    "\n",
    "$List[A] = 1 + A * (1 + A * List[A]) = 1 + A + A^2 * List[A]$\n",
    "\n",
    "Se pide demostrar que los tipos $List[A]$ y $1 + A + A^2 * List[A]$ son isomorfos."
   ]
  },
  {
   "cell_type": "code",
   "execution_count": 14,
   "metadata": {},
   "outputs": [
    {
     "data": {
      "text/plain": [
       "defined \u001b[32mclass\u001b[39m \u001b[36mIso\u001b[39m"
      ]
     },
     "execution_count": 14,
     "metadata": {},
     "output_type": "execute_result"
    }
   ],
   "source": [
    "class Iso[A] extends Isomorphic[Either[Unit, Either[A, (A, A, List[A])]], List[A]]{\n",
    "    \n",
    "    def from(e: Either[Unit, Either[A, (A, A, List[A])]]): List[A] = \n",
    "        e match {\n",
    "            case Left(_) => Nil\n",
    "            case Right(Left(a)) => a :: Nil\n",
    "            case Right(Right((h1, h2, t))) => h1 :: h2 :: t\n",
    "        }\n",
    "    \n",
    "    def to(l: List[A]): Either[Unit, Either[A, (A, A, List[A])]] = \n",
    "        l match {\n",
    "            case Nil => Left(()) \n",
    "            case a :: Nil => Right(Left(a))\n",
    "            case h1 :: h2 :: t => Right(Right((h1, h2, t)))\n",
    "        }\n",
    "}"
   ]
  },
  {
   "cell_type": "markdown",
   "metadata": {},
   "source": [
    "# Ejercicio 3\n",
    "__(3 puntos)__\n",
    "\n",
    "Considérense las funciones siguientes, `parse`, `validate` e `ints`, las cuales hacen uso de las funciones auxiliares `parseNumber`, `validateNumber` y `doubleToInt`:\n"
   ]
  },
  {
   "cell_type": "code",
   "execution_count": 17,
   "metadata": {},
   "outputs": [
    {
     "data": {
      "text/plain": [
       "defined \u001b[32mfunction\u001b[39m \u001b[36mparseNumber\u001b[39m\n",
       "defined \u001b[32mfunction\u001b[39m \u001b[36mparse\u001b[39m"
      ]
     },
     "execution_count": 17,
     "metadata": {},
     "output_type": "execute_result"
    }
   ],
   "source": [
    "def parseNumber(s: String): Either[String, Int] = \n",
    "    s.toIntOption match {\n",
    "        case None => Left(\"'\" + s + \"' is not a number\")\n",
    "        case Some(i) => Right(i)\n",
    "    }\n",
    "\n",
    "def parse(l: List[String]): Either[String, List[Int]] =\n",
    "    l match {\n",
    "        case Nil => Right(Nil)\n",
    "        case head :: tail => \n",
    "            val tailParse: Either[String, List[Int]] = parse(tail)\n",
    "            val headInt: Either[String, Int] = parseNumber(head)\n",
    "            (headInt, tailParse) match {\n",
    "                case (Right(h), Right(t)) => Right(h :: t)\n",
    "                case (Right(_), Left(s)) => Left(s)\n",
    "                case (Left(s), _) => Left(s)\n",
    "            }\n",
    "    }\n"
   ]
  },
  {
   "cell_type": "code",
   "execution_count": null,
   "metadata": {},
   "outputs": [],
   "source": [
    "def validateNumber(i: Int): Either[String, Int] = \n",
    "    if (i < 0) Left(\"'\" + i + \"' is negative\") \n",
    "    else Right(i)\n",
    "\n",
    "def validate(l: List[Int]): Either[String, List[Int]] = \n",
    "    l match {\n",
    "        case Nil => Right(Nil)\n",
    "        case head :: tail => \n",
    "            val tailValidate: Either[String, List[Int]] = validate(tail)\n",
    "            val headInt: Either[String, Int] = validateNumber(head)\n",
    "            (headInt, tailValidate) match {\n",
    "                case (Right(h), Right(t)) => Right(h :: t)\n",
    "                case (Right(_), Left(s)) => Left(s)\n",
    "                case (Left(s), _) => Left(s)\n",
    "            }\n",
    "    }"
   ]
  },
  {
   "cell_type": "code",
   "execution_count": null,
   "metadata": {},
   "outputs": [],
   "source": [
    "def doubleToInt(d: Double): Either[String, Int] = \n",
    "    if (!d.isValidInt) Left(\"The fractional part of '\" + d + \"' is not zero\") \n",
    "    else Right(d.toInt)\n",
    "\n",
    "def ints(l: List[Double]): Either[String, List[Int]] = \n",
    "    l match {\n",
    "        case Nil => Right(Nil)\n",
    "        case head :: tail => \n",
    "            val tailInts: Either[String, List[Int]] = ints(tail)\n",
    "            val headInt: Either[String, Int] = doubleToInt(head)\n",
    "            (headInt, tailInts) match {\n",
    "                case (Right(h), Right(t)) => Right(h :: t)\n",
    "                case (Right(_), Left(s)) => Left(s)\n",
    "                case (Left(s), _) => Left(s)\n",
    "            }\n",
    "    }"
   ]
  },
  {
   "cell_type": "markdown",
   "metadata": {},
   "source": [
    "La función `parse` traduce todas las cadenas de caracteres de una lista a sus representaciones numéricas correspondientes. Si alguna de las cadenas no representa un número, entonces la función devuelve un valor de tipo `Left` indicando la primera cadena (más a la izquierda) que no cumple dicha condición. Por ejemplo: "
   ]
  },
  {
   "cell_type": "code",
   "execution_count": null,
   "metadata": {},
   "outputs": [],
   "source": [
    "parse(List(\"1\", \"2\", \"3\", \"4\")) == Right(List(1, 2, 3, 4))\n",
    "parse(List(\"1\", \"2\", \"aaa\", \"bb\")) == Left(\"'aaa' is not a number\")"
   ]
  },
  {
   "cell_type": "markdown",
   "metadata": {},
   "source": [
    "La función `validate` comprueba que todos los números de una lista son mayores o iguales a cero. Si se cumple esta condición, entonces la función devuelve la misma lista de entrada; en otro caso, devuelve un valor de tipo `Left` indicando el primer número (más a la izquierda) que no cumple la condición."
   ]
  },
  {
   "cell_type": "code",
   "execution_count": null,
   "metadata": {},
   "outputs": [],
   "source": [
    "validate(List(0,1,2,3,4)) == Right(List(0, 1, 2, 3, 4))\n",
    "validate(List(0,1,-2)) == Left(\"'-2' is negative\")"
   ]
  },
  {
   "cell_type": "markdown",
   "metadata": {},
   "source": [
    "La función `ints` comprueba que todos los números de tipo `Double` (equivalentes al tipo `double` de Java) son números enteros, es decir, que su parte fraccional es cero (ese es el cometido de la función `_.isValidInt`). Si se cumple esta condición, entonces la función devuelve la conversión a enteros de los números de tipo `Double` (realizada mediante la función `_.toInt`); en otro caso, devuelve un valor de tipo `Left` indicando el primer número (más a la izquierda) de tipo `Double` que no cumple la condición. Por ejemplo: "
   ]
  },
  {
   "cell_type": "code",
   "execution_count": null,
   "metadata": {},
   "outputs": [],
   "source": [
    "ints(List(1.0, 2.0, 3.0, 4.0, 5.0)) == Right(List(1, 2, 3, 4, 5))\n",
    "ints(List(1.0, 2.2, 3.333, 4.3)) == Left(\"The fractional part of '2.2' is not zero\")"
   ]
  },
  {
   "cell_type": "markdown",
   "metadata": {},
   "source": [
    "El procesamiento en todos estos casos es similar: tenemos una función que se aplica a cada elemento de la lista, y que podría resultar exitosa o no (el éxito o fracaso se indica mediante un valor de tipo `Either`). Si esta función se puede aplicar con éxito a _todos_ los elementos, se devuelve una lista con todos los resultados; en otro caso, se devuelve un valor de tipo `Left` indicando el primer elemento (más a la izquierda) que genera un error."
   ]
  },
  {
   "cell_type": "markdown",
   "metadata": {},
   "source": [
    "__a) (2 puntos)__ Implementa una función de orden superior que encapsule el patrón de diseño descrito anteriormente y utilizado en las funciones `parse` y `validate`. A esta función la denominaremos `traverse`:"
   ]
  },
  {
   "cell_type": "code",
   "execution_count": null,
   "metadata": {},
   "outputs": [],
   "source": [
    "def traverse[A, B, E](l: List[A])(f: A => Either[E, B]): Either[E, List[B]] = \n",
    "    l match {\n",
    "        case Nil => Right(Nil)\n",
    "        case head :: tail => \n",
    "            val tailTraverse: Either[E, List[B]] = traverse(tail)(f)\n",
    "            val headB: Either[E, B] = f(head)\n",
    "            (headB, tailTraverse) match {\n",
    "                case (Right(h), Right(t)) => Right(h :: t)\n",
    "                case (Right(_), Left(e)) => Left(e)\n",
    "                case (Left(e), _) => Left(e)\n",
    "            }\n",
    "    }"
   ]
  },
  {
   "cell_type": "markdown",
   "metadata": {},
   "source": [
    "__b) (1 punto)__ Reimplementa las funciones `parse` y `validate` de una manera más modular reutilizando la función de orden superior `traverse` implementada en el apartado anterior. "
   ]
  },
  {
   "cell_type": "code",
   "execution_count": null,
   "metadata": {},
   "outputs": [],
   "source": [
    "def parse(l: List[String]): Either[String, List[Int]] = \n",
    "    traverse(l)(parseNumber)"
   ]
  },
  {
   "cell_type": "code",
   "execution_count": null,
   "metadata": {},
   "outputs": [],
   "source": [
    "def validate(l: List[Int]): Either[String, List[Int]] = \n",
    "    traverse(l)(validateNumber)"
   ]
  },
  {
   "cell_type": "code",
   "execution_count": null,
   "metadata": {},
   "outputs": [],
   "source": [
    "def ints(l: List[Double]): Either[String, List[Int]] = \n",
    "    traverse(l)(doubleToInt)"
   ]
  },
  {
   "cell_type": "markdown",
   "metadata": {},
   "source": [
    "# Ejercicio 4\n",
    "__(3 puntos)__\n",
    "\n",
    "Dada una función `f: A => B => C`, se desea implementar una función de orden superior `lift1st` que permita transformar `f` en una función similar pero que reciba como primer argumento una lista de `A`s, en lugar de simplemente una `A`. Es decir, `lift1st(f): List[A] => B => List[C]`. La idea es que la expresión `lift1st(f)(l)(b)` consista en una lista que contenga todos los resultados `f(a)(b)` obtenidos tras aplicar `f(_)(b)` a cada uno de los elementos `a` de la lista `l`. A continuación se ilustra el funcionamiento deseado de la función `lift1st` para funciones del tipo `String => Int => Boolean`:"
   ]
  },
  {
   "cell_type": "code",
   "execution_count": 6,
   "metadata": {},
   "outputs": [
    {
     "data": {
      "text/plain": [
       "defined \u001b[32mclass\u001b[39m \u001b[36mTestLift1st\u001b[39m"
      ]
     },
     "execution_count": 6,
     "metadata": {},
     "output_type": "execute_result"
    }
   ],
   "source": [
    "class TestLift1st(lift1st: (String => Int => Boolean) => (List[String] => Int => List[Boolean]))\n",
    "extends FlatSpec with Matchers{\n",
    "\n",
    "    def f: String => Int => Boolean = \n",
    "        s => i => s.length >= i \n",
    "\n",
    "    \"lift1st\" should \"work\" in {\n",
    "        lift1st(f)(List(\"\", \"a\", \"ab\", \"abc\", \"abcd\"))(3) shouldBe \n",
    "            List(f(\"\")(3), f(\"a\")(3), f(\"ab\")(3), f(\"abc\")(3), f(\"abcd\")(3))\n",
    "        \n",
    "        lift1st(f)(List(\"\", \"a\", \"ab\", \"abc\", \"abcd\"))(2) shouldBe \n",
    "            List(false, false, true, true, true)\n",
    "        \n",
    "        lift1st(f)(List(\"\", \"a\", \"ab\", \"abc\", \"abcd\"))(1) shouldBe \n",
    "            List(false, true, true, true, true)\n",
    "        \n",
    "        lift1st(f)(List(\"\", \"a\", \"ab\", \"abc\", \"abcd\"))(0) shouldBe \n",
    "            List(true, true, true, true, true)\n",
    "    }\n",
    "}"
   ]
  },
  {
   "cell_type": "code",
   "execution_count": 7,
   "metadata": {},
   "outputs": [
    {
     "data": {
      "text/plain": [
       "defined \u001b[32mclass\u001b[39m \u001b[36mTestLift2nd\u001b[39m"
      ]
     },
     "execution_count": 7,
     "metadata": {},
     "output_type": "execute_result"
    }
   ],
   "source": [
    "class TestLift2nd(lift2nd: (String => Int => Boolean) => (String => List[Int] => List[Boolean]))\n",
    "extends FlatSpec with Matchers{\n",
    "\n",
    "    def f: String => Int => Boolean = \n",
    "        s => i => s.length >= i \n",
    "    \n",
    "    \"lift2nd\" should \"work\" in {\n",
    "        lift2nd(f)(\"abc\")(List(0,1,2,3,4,5)) shouldBe \n",
    "            List(f(\"abc\")(0), f(\"abc\")(1), f(\"abc\")(2), f(\"abc\")(3), f(\"abc\")(4), f(\"abc\")(5))\n",
    "        \n",
    "        lift2nd(f)(\"a\")(List(0,1,2,3,4)) shouldBe \n",
    "            List(true, true, false, false, false)\n",
    "        \n",
    "        lift2nd(f)(\"\")(List(0,1,2)) shouldBe \n",
    "            List(true, false, false)\n",
    "    }\n",
    "}"
   ]
  },
  {
   "cell_type": "markdown",
   "metadata": {},
   "source": [
    "__a) (1 punto)__ Implementa la función `lift1st` recursivamente."
   ]
  },
  {
   "cell_type": "code",
   "execution_count": 8,
   "metadata": {},
   "outputs": [
    {
     "data": {
      "text/plain": [
       "defined \u001b[32mfunction\u001b[39m \u001b[36mlift1st\u001b[39m"
      ]
     },
     "execution_count": 8,
     "metadata": {},
     "output_type": "execute_result"
    }
   ],
   "source": [
    "def lift1st[A, B, C](f: A => B => C)(l: List[A])(b: B): List[C] = \n",
    "    l match {\n",
    "        case Nil => Nil\n",
    "        case a :: t => \n",
    "            val tailSol: List[C] = lift1st(f)(t)(b)\n",
    "            f(a)(b) :: tailSol\n",
    "    }"
   ]
  },
  {
   "cell_type": "code",
   "execution_count": 27,
   "metadata": {},
   "outputs": [
    {
     "data": {
      "text/plain": [
       "defined \u001b[32mfunction\u001b[39m \u001b[36mlift1st\u001b[39m"
      ]
     },
     "execution_count": 27,
     "metadata": {},
     "output_type": "execute_result"
    }
   ],
   "source": [
    "def lift1st[A, B, C](f: A => B => C)(l: List[A])(b: B): List[C] = \n",
    "    l match {\n",
    "        case Nil => Nil\n",
    "        case a :: t => f(a)(b) :: lift1st(f)(t)(b)\n",
    "    }"
   ]
  },
  {
   "cell_type": "code",
   "execution_count": 28,
   "metadata": {},
   "outputs": [
    {
     "name": "stdout",
     "output_type": "stream",
     "text": [
      "\u001b[32mcmd5$Helper$TestLift1st:\u001b[0m\n",
      "\u001b[32mlift1st\u001b[0m\n",
      "\u001b[32m- should work\u001b[0m\n"
     ]
    }
   ],
   "source": [
    "run(new TestLift1st(lift1st))"
   ]
  },
  {
   "cell_type": "code",
   "execution_count": 10,
   "metadata": {},
   "outputs": [
    {
     "data": {
      "text/plain": [
       "defined \u001b[32mfunction\u001b[39m \u001b[36mlift2nd\u001b[39m"
      ]
     },
     "execution_count": 10,
     "metadata": {},
     "output_type": "execute_result"
    }
   ],
   "source": [
    "def lift2nd[A, B, C](f: A => B => C)(a: A)(l: List[B]): List[C] = \n",
    "    l match {\n",
    "        case Nil => Nil\n",
    "        case b :: t => \n",
    "            val tailSol: List[C] = lift2nd(f)(a)(t)\n",
    "            f(a)(b) :: tailSol\n",
    "    }"
   ]
  },
  {
   "cell_type": "code",
   "execution_count": 11,
   "metadata": {},
   "outputs": [
    {
     "name": "stdout",
     "output_type": "stream",
     "text": [
      "\u001b[32mcmd6$Helper$TestLift2nd:\u001b[0m\n",
      "\u001b[32mlift2nd\u001b[0m\n",
      "\u001b[32m- should work\u001b[0m\n"
     ]
    }
   ],
   "source": [
    "run(new TestLift2nd(lift2nd))"
   ]
  },
  {
   "cell_type": "markdown",
   "metadata": {},
   "source": [
    "__b) (1 punto)__ Implementa la función `lift1st` mediante la función de orden superior `foldRight`."
   ]
  },
  {
   "cell_type": "code",
   "execution_count": 12,
   "metadata": {},
   "outputs": [
    {
     "data": {
      "text/plain": [
       "defined \u001b[32mfunction\u001b[39m \u001b[36mlift1st\u001b[39m"
      ]
     },
     "execution_count": 12,
     "metadata": {},
     "output_type": "execute_result"
    }
   ],
   "source": [
    "def lift1st[A, B, C](f: A => B => C)(l: List[A])(b: B): List[C] = \n",
    "    l.foldRight(List[C]())(\n",
    "        (a, tailSol) => f(a)(b) :: tailSol\n",
    "    )"
   ]
  },
  {
   "cell_type": "code",
   "execution_count": 13,
   "metadata": {},
   "outputs": [
    {
     "name": "stdout",
     "output_type": "stream",
     "text": [
      "\u001b[32mcmd5$Helper$TestLift1st:\u001b[0m\n",
      "\u001b[32mlift1st\u001b[0m\n",
      "\u001b[32m- should work\u001b[0m\n"
     ]
    }
   ],
   "source": [
    "run(new TestLift1st(lift1st))"
   ]
  },
  {
   "cell_type": "code",
   "execution_count": 21,
   "metadata": {},
   "outputs": [
    {
     "data": {
      "text/plain": [
       "defined \u001b[32mfunction\u001b[39m \u001b[36mlift2nd\u001b[39m"
      ]
     },
     "execution_count": 21,
     "metadata": {},
     "output_type": "execute_result"
    }
   ],
   "source": [
    "def lift2nd[A, B, C](f: A => B => C)(a: A)(l: List[B]): List[C] = \n",
    "    l.foldRight(List[C]())(f(a)(_) :: _)"
   ]
  },
  {
   "cell_type": "code",
   "execution_count": 22,
   "metadata": {},
   "outputs": [
    {
     "name": "stdout",
     "output_type": "stream",
     "text": [
      "\u001b[32mcmd6$Helper$TestLift2nd:\u001b[0m\n",
      "\u001b[32mlift2nd\u001b[0m\n",
      "\u001b[32m- should work\u001b[0m\n"
     ]
    }
   ],
   "source": [
    "run(new TestLift2nd(lift2nd))"
   ]
  },
  {
   "cell_type": "markdown",
   "metadata": {},
   "source": [
    "__c) (1 punto)__ Implementa la función `lift1st` mediante la función de orden superior `map`."
   ]
  },
  {
   "cell_type": "code",
   "execution_count": null,
   "metadata": {},
   "outputs": [],
   "source": [
    "def lift1st[A, B, C](f: A => B => C)(l: List[A])(b: B): List[C] = \n",
    "    l.map(a => f(a)(b))"
   ]
  },
  {
   "cell_type": "code",
   "execution_count": 23,
   "metadata": {},
   "outputs": [
    {
     "data": {
      "text/plain": [
       "defined \u001b[32mfunction\u001b[39m \u001b[36mlift1st\u001b[39m"
      ]
     },
     "execution_count": 23,
     "metadata": {},
     "output_type": "execute_result"
    }
   ],
   "source": [
    "def lift1st[A, B, C](f: A => B => C)(l: List[A])(b: B): List[C] = \n",
    "    l.map(f(_)(b))"
   ]
  },
  {
   "cell_type": "code",
   "execution_count": 24,
   "metadata": {},
   "outputs": [
    {
     "name": "stdout",
     "output_type": "stream",
     "text": [
      "\u001b[32mcmd5$Helper$TestLift1st:\u001b[0m\n",
      "\u001b[32mlift1st\u001b[0m\n",
      "\u001b[32m- should work\u001b[0m\n"
     ]
    }
   ],
   "source": [
    "run(new TestLift1st(lift1st))"
   ]
  },
  {
   "cell_type": "code",
   "execution_count": 25,
   "metadata": {},
   "outputs": [
    {
     "data": {
      "text/plain": [
       "defined \u001b[32mfunction\u001b[39m \u001b[36mlift2nd\u001b[39m"
      ]
     },
     "execution_count": 25,
     "metadata": {},
     "output_type": "execute_result"
    }
   ],
   "source": [
    "def lift2nd[A, B, C](f: A => B => C)(a: A)(l: List[B]): List[C] = \n",
    "    l.map(f(a))"
   ]
  },
  {
   "cell_type": "code",
   "execution_count": 26,
   "metadata": {},
   "outputs": [
    {
     "name": "stdout",
     "output_type": "stream",
     "text": [
      "\u001b[32mcmd6$Helper$TestLift2nd:\u001b[0m\n",
      "\u001b[32mlift2nd\u001b[0m\n",
      "\u001b[32m- should work\u001b[0m\n"
     ]
    }
   ],
   "source": [
    "run(new TestLift2nd(lift2nd))"
   ]
  },
  {
   "cell_type": "code",
   "execution_count": null,
   "metadata": {},
   "outputs": [],
   "source": []
  }
 ],
 "metadata": {
  "kernelspec": {
   "display_name": "Scala",
   "language": "scala",
   "name": "scala"
  },
  "language_info": {
   "codemirror_mode": "text/x-scala",
   "file_extension": ".sc",
   "mimetype": "text/x-scala",
   "name": "scala",
   "nbconvert_exporter": "script",
   "version": "2.13.1"
  }
 },
 "nbformat": 4,
 "nbformat_minor": 2
}
