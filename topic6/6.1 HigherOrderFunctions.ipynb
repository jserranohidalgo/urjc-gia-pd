{
 "cells": [
  {
   "cell_type": "markdown",
   "metadata": {
    "jp-MarkdownHeadingCollapsed": true,
    "tags": []
   },
   "source": [
    "### Preamble"
   ]
  },
  {
   "cell_type": "code",
   "execution_count": 1,
   "metadata": {},
   "outputs": [
    {
     "data": {
      "text/plain": [
       "\u001b[32mimport \u001b[39m\u001b[36m$ivy.$                                \n",
       "\u001b[39m\n",
       "\u001b[32mimport \u001b[39m\u001b[36morg.scalatest.{Filter => _, _}, flatspec._, matchers._\n",
       "\u001b[39m"
      ]
     },
     "execution_count": 1,
     "metadata": {},
     "output_type": "execute_result"
    }
   ],
   "source": [
    "import $ivy.`org.scalatest::scalatest:3.2.16`\n",
    "import org.scalatest.{Filter => _, _}, flatspec._, matchers._"
   ]
  },
  {
   "cell_type": "markdown",
   "metadata": {},
   "source": [
    "# Topic 6. Higher-order functions and modular programming"
   ]
  },
  {
   "cell_type": "markdown",
   "metadata": {},
   "source": [
    "In this notebook, we will see that higher-order functions (HOFs) are essential modularity devices, and we will introduce the most common higher-order functions that operate over many different data structures."
   ]
  },
  {
   "cell_type": "markdown",
   "metadata": {},
   "source": [
    "### References\n",
    "\n",
    "[__Programming in Scala, \n",
    "A comprehensive step-by-step guide__](https://www.artima.com/shop/programming_in_scala_3ed) Third Edition.\n",
    "by Martin Odersky, Lex Spoon, and Bill Venners. \n",
    "\n",
    "- Chapter 6. Functional objects\n",
    "- Chapter 8. Functions and closures\n",
    "- Chapter 16. Working with Lists\n",
    "- Chapter 23. For Expressions Revisited\n",
    "\n",
    "[__Functional programming in Scala__](https://www.manning.com/books/functional-programming-in-scala), by Paul Chiusano and Runar Bjarnason.\n",
    "\n",
    "- Chapter 3. Functional data structures\n",
    "\n",
    "[__Functional programming simplified__](https://alvinalexander.com/downloads/fpsimplified-free-preview.pdf), by Alvin Alexander.\n",
    "\n",
    "- Chapter 22. Functions Are Variables, Too\n",
    "- Chapter 23. Using Methods As If They Were Functions\n",
    "- Chapter 24. How to Write Functions That Take Functions as Input Parameters\n",
    "- Chapter 25. How to Write a ‘map’ Function\n",
    "- Chapter 27. Functions Can Have Multiple Parameter Groups\n",
    "- Chapter 28. Partially-Applied Functions (and Currying)"
   ]
  },
  {
   "cell_type": "markdown",
   "metadata": {},
   "source": [
    "## `FoldRight`: divide and conquer"
   ]
  },
  {
   "cell_type": "markdown",
   "metadata": {},
   "source": [
    "HOFs shine when the time comes to break monoliths. For instance, let's consider the following two functions:"
   ]
  },
  {
   "cell_type": "code",
   "execution_count": 2,
   "metadata": {},
   "outputs": [
    {
     "data": {
      "text/plain": [
       "defined \u001b[32mfunction\u001b[39m \u001b[36msum\u001b[39m"
      ]
     },
     "execution_count": 2,
     "metadata": {},
     "output_type": "execute_result"
    }
   ],
   "source": [
    "def sum(list: List[Int]): Int = \n",
    "    list match\n",
    "        case Nil => 0\n",
    "        case head :: tail => head + sum(tail)"
   ]
  },
  {
   "cell_type": "code",
   "execution_count": 3,
   "metadata": {},
   "outputs": [
    {
     "data": {
      "text/plain": [
       "defined \u001b[32mfunction\u001b[39m \u001b[36mmultiply\u001b[39m"
      ]
     },
     "execution_count": 3,
     "metadata": {},
     "output_type": "execute_result"
    }
   ],
   "source": [
    "def multiply(list: List[Int]): Int = \n",
    "    list match\n",
    "        case Nil => 1\n",
    "        case head :: tail => head * multiply(tail)"
   ]
  },
  {
   "cell_type": "markdown",
   "metadata": {},
   "source": [
    "These functions clearly share a common logic: their only differences are the value which is returned when the list is empty, and the function used to combine numbers (`+` and `*`, respectively). We can abstract away these differences and arrive to a more generic function which encodes that common logic:"
   ]
  },
  {
   "cell_type": "code",
   "execution_count": 4,
   "metadata": {},
   "outputs": [
    {
     "data": {
      "text/plain": [
       "defined \u001b[32mfunction\u001b[39m \u001b[36mcombine\u001b[39m"
      ]
     },
     "execution_count": 4,
     "metadata": {},
     "output_type": "execute_result"
    }
   ],
   "source": [
    "def combine(list: List[Int])(nil: Int, cons: (Int, Int) => Int): Int = \n",
    "    list match\n",
    "        case Nil => nil\n",
    "        case head :: tail => cons(head, combine(tail)(nil, cons))"
   ]
  },
  {
   "cell_type": "markdown",
   "metadata": {},
   "source": [
    "which allows us to re-define in a modular way the `sum` and `multiply` functions:"
   ]
  },
  {
   "cell_type": "code",
   "execution_count": null,
   "metadata": {},
   "outputs": [],
   "source": [
    "def sum(list: List[Int]): Int = \n",
    "    combine(list)(0, (a, b) => a + b)"
   ]
  },
  {
   "cell_type": "code",
   "execution_count": null,
   "metadata": {},
   "outputs": [],
   "source": [
    "def multiply(list: List[Int]): Int = \n",
    "    combine(list)(1, _ * _)"
   ]
  },
  {
   "cell_type": "markdown",
   "metadata": {},
   "source": [
    "But we don't need to constrain ourselves to integers. In its generic version, the `combine` function is actually the `foldRight` higher-order function (for `List`s):"
   ]
  },
  {
   "cell_type": "code",
   "execution_count": 5,
   "metadata": {},
   "outputs": [
    {
     "data": {
      "text/plain": [
       "defined \u001b[32mfunction\u001b[39m \u001b[36mfoldRight\u001b[39m"
      ]
     },
     "execution_count": 5,
     "metadata": {},
     "output_type": "execute_result"
    }
   ],
   "source": [
    "def foldRight[A, B](list: List[A])(nil: B, cons: (A, B) => B): B = \n",
    "    list match\n",
    "        case Nil => nil\n",
    "        case head :: tail => cons(head, foldRight(tail)(nil, cons))"
   ]
  },
  {
   "cell_type": "markdown",
   "metadata": {},
   "source": [
    "Graphically, we can explain the behaviour of `foldRight` as follows: "
   ]
  },
  {
   "cell_type": "markdown",
   "metadata": {},
   "source": [
    "![with elements](../images/foldRight.1.svg)\n",
    "\n",
    "(all images credit to [Scala Visual Reference](https://superruzafa.github.io/visual-scala-reference/))"
   ]
  },
  {
   "cell_type": "markdown",
   "metadata": {},
   "source": [
    "We can understand `foldRight` as an implementation of the divide-and-conquer design pattern: first, divide your problems in subproblems; second, solve these sub-problems; last, compose their solutions to obtain the solution to the overall problem. If the sub-problems are simple enough they can be solved directly; otherwise, they are solved recursively. In the case of lists:\n",
    "- The problem is obtaining a value of type `B` for a given list.\n",
    "- The only sub-problem corresponds to the tail of that list. \n",
    "- The arguments of the `foldRight` function tell us how to obtain the solution for the empty list (the atomic problem which can not be further decomposed), and how to obtain the solution from the solution to the sub-problem."
   ]
  },
  {
   "cell_type": "markdown",
   "metadata": {},
   "source": [
    "From this perspective, the implementation of `sum` and `multiply` is exactly the same as before when we used the function `combine`, although we can explain them differently:"
   ]
  },
  {
   "cell_type": "code",
   "execution_count": 6,
   "metadata": {},
   "outputs": [
    {
     "data": {
      "text/plain": [
       "defined \u001b[32mfunction\u001b[39m \u001b[36msum\u001b[39m"
      ]
     },
     "execution_count": 6,
     "metadata": {},
     "output_type": "execute_result"
    }
   ],
   "source": [
    "def sum(list: List[Int]): Int = \n",
    "    foldRight[Int, Int](list)(\n",
    "        0, // direct solution to atomic problem\n",
    "        (head, subsol) => head + subsol // composing sub-solution\n",
    "    )"
   ]
  },
  {
   "cell_type": "code",
   "execution_count": 7,
   "metadata": {},
   "outputs": [
    {
     "data": {
      "text/plain": [
       "defined \u001b[32mfunction\u001b[39m \u001b[36mmultiply\u001b[39m"
      ]
     },
     "execution_count": 7,
     "metadata": {},
     "output_type": "execute_result"
    }
   ],
   "source": [
    "def multiply(list: List[Int]): Int = \n",
    "    foldRight(list)(\n",
    "        1, // direct solution\n",
    "        (head: Int, subsol: Int) => head * subsol // compose\n",
    "    )"
   ]
  },
  {
   "cell_type": "markdown",
   "metadata": {},
   "source": [
    "#### HOFs in the Scala API"
   ]
  },
  {
   "cell_type": "markdown",
   "metadata": {},
   "source": [
    "The `foldRight` HOF, as all the HOFs that we will explain in this notebook, are actually part of the standard Collections library of Scala. Typically, they are implemented as member methods of the corresponding collection class. For lists, the [Scala API](https://www.scala-lang.org/api/2.13.1/scala/collection/immutable/List.html) offers something like this:"
   ]
  },
  {
   "cell_type": "code",
   "execution_count": 9,
   "metadata": {},
   "outputs": [
    {
     "data": {
      "text/plain": [
       "defined \u001b[32mobject\u001b[39m \u001b[36mStandard\u001b[39m"
      ]
     },
     "execution_count": 9,
     "metadata": {},
     "output_type": "execute_result"
    }
   ],
   "source": [
    "object Standard{\n",
    "    class List[A]{\n",
    "        def foldRight[B](b: B)(f: (B, A) => B): B = ???\n",
    "    }\n",
    "}"
   ]
  },
  {
   "cell_type": "markdown",
   "metadata": {},
   "source": [
    "So, invocations of the standard `foldRight` do not receive the list as argument, but are common method invocations on some `List` instance:"
   ]
  },
  {
   "cell_type": "code",
   "execution_count": 10,
   "metadata": {},
   "outputs": [
    {
     "data": {
      "text/plain": [
       "\u001b[36mres10\u001b[39m: \u001b[32mInt\u001b[39m = \u001b[32m6\u001b[39m"
      ]
     },
     "execution_count": 10,
     "metadata": {},
     "output_type": "execute_result"
    }
   ],
   "source": [
    "List(1,2,3).foldRight(0)(_ + _)"
   ]
  },
  {
   "cell_type": "markdown",
   "metadata": {},
   "source": [
    "Normally, we will use standard HOFs instead of our home-made versions, once they are explained. "
   ]
  },
  {
   "cell_type": "markdown",
   "metadata": {},
   "source": [
    "## The Hall of Fame of HOFs"
   ]
  },
  {
   "cell_type": "markdown",
   "metadata": {},
   "source": [
    "Besides `compose`, `andThen` and `foldRight`, there are other famous higher-order functions which work great as modularity devices: "
   ]
  },
  {
   "cell_type": "code",
   "execution_count": 11,
   "metadata": {},
   "outputs": [
    {
     "data": {
      "text/plain": [
       "defined \u001b[32mfunction\u001b[39m \u001b[36mfoldLeft\u001b[39m\n",
       "defined \u001b[32mfunction\u001b[39m \u001b[36mfilter\u001b[39m\n",
       "defined \u001b[32mfunction\u001b[39m \u001b[36mmap\u001b[39m\n",
       "defined \u001b[32mfunction\u001b[39m \u001b[36mflatMap\u001b[39m"
      ]
     },
     "execution_count": 11,
     "metadata": {},
     "output_type": "execute_result"
    }
   ],
   "source": [
    "def foldLeft[A, B](list: List[A])(b: B)(f: (B, A) => B): B = ???\n",
    "def filter[A](list: List[A])(f: A => Boolean): List[A] = ???\n",
    "def map[A, B](list: List[A])(f: A => B): List[B] = ???\n",
    "def flatMap[A, B](list: List[A])(f: A => List[B]): List[B] = ???"
   ]
  },
  {
   "cell_type": "markdown",
   "metadata": {},
   "source": [
    "But most of these functions do not only work for `List`, they work also for `Option`, `Either[A, ?]`, and many other data structures. For instance:"
   ]
  },
  {
   "cell_type": "code",
   "execution_count": 12,
   "metadata": {},
   "outputs": [
    {
     "data": {
      "text/plain": [
       "defined \u001b[32mfunction\u001b[39m \u001b[36mfold\u001b[39m\n",
       "defined \u001b[32mfunction\u001b[39m \u001b[36mfilter\u001b[39m\n",
       "defined \u001b[32mfunction\u001b[39m \u001b[36mmap\u001b[39m\n",
       "defined \u001b[32mfunction\u001b[39m \u001b[36mflatMap\u001b[39m"
      ]
     },
     "execution_count": 12,
     "metadata": {},
     "output_type": "execute_result"
    }
   ],
   "source": [
    "def fold[A, B](opt: Option[A])(none: B)(some: A => B): B = ???\n",
    "def filter[A](opt: Option[A])(f: A => Boolean): Option[A] = ???\n",
    "def map[A, B](opt: Option[A])(f: A => B): Option[B] = ???  \n",
    "def flatMap[A, B](opt: Option[A])(f: A => Option[B] ): Option[B] = ???"
   ]
  },
  {
   "cell_type": "code",
   "execution_count": 13,
   "metadata": {},
   "outputs": [
    {
     "data": {
      "text/plain": [
       "defined \u001b[32mfunction\u001b[39m \u001b[36mfold\u001b[39m\n",
       "defined \u001b[32mfunction\u001b[39m \u001b[36mfilter\u001b[39m\n",
       "defined \u001b[32mfunction\u001b[39m \u001b[36mmap\u001b[39m\n",
       "defined \u001b[32mfunction\u001b[39m \u001b[36mflatMap\u001b[39m"
      ]
     },
     "execution_count": 13,
     "metadata": {},
     "output_type": "execute_result"
    }
   ],
   "source": [
    "def fold[A, B, C](opt: Either[A, B])(left: A => C, right: B => C): C = ???\n",
    "def filter[A, B](opt: Either[A, B])(f: B => Boolean): Either[A, B] = ???\n",
    "def map[A, B, C](opt: Either[A, B])(f: B => C): Either[A, C] = ???  \n",
    "def flatMap[A, B, C](opt: Either[A, B])(f: B => Either[A, C] ): Either[A, C] = ???"
   ]
  },
  {
   "cell_type": "markdown",
   "metadata": {},
   "source": [
    "The `fold` function is the catamorphism for `Option` and `Either[A, ?]`, in the same way than `foldRight` is the catamorphism for lists (unfortunately, the concept of catamorphism won't be explained due to lack of time). "
   ]
  },
  {
   "cell_type": "markdown",
   "metadata": {},
   "source": [
    "## FoldLeft: a better loop"
   ]
  },
  {
   "cell_type": "markdown",
   "metadata": {},
   "source": [
    "The `foldLeft` HOF is the functional way to implement common imperative algorithms. For instance:"
   ]
  },
  {
   "cell_type": "code",
   "execution_count": 14,
   "metadata": {},
   "outputs": [
    {
     "data": {
      "text/plain": [
       "defined \u001b[32mfunction\u001b[39m \u001b[36mlength\u001b[39m"
      ]
     },
     "execution_count": 14,
     "metadata": {},
     "output_type": "execute_result"
    }
   ],
   "source": [
    "def length[A](list: List[A]): Int =\n",
    "    var out: Int = 0\n",
    "    for (e <- list)\n",
    "        out += 1\n",
    "    out"
   ]
  },
  {
   "cell_type": "code",
   "execution_count": 15,
   "metadata": {},
   "outputs": [
    {
     "data": {
      "text/plain": [
       "defined \u001b[32mfunction\u001b[39m \u001b[36mreverse\u001b[39m"
      ]
     },
     "execution_count": 15,
     "metadata": {},
     "output_type": "execute_result"
    }
   ],
   "source": [
    "def reverse[A](list: List[A]): List[A] =\n",
    "    var out: List[A] = List()\n",
    "    for (e <- list)\n",
    "        out = e :: out\n",
    "    out"
   ]
  },
  {
   "cell_type": "markdown",
   "metadata": {},
   "source": [
    "The following implementation abstracts away the differences in the above functions, and declares two additional parameters: the initial value of a mutable variable, and the update function executed in every step of the loop."
   ]
  },
  {
   "cell_type": "code",
   "execution_count": 16,
   "metadata": {},
   "outputs": [
    {
     "data": {
      "text/plain": [
       "defined \u001b[32mfunction\u001b[39m \u001b[36mfoldLeft\u001b[39m"
      ]
     },
     "execution_count": 16,
     "metadata": {},
     "output_type": "execute_result"
    }
   ],
   "source": [
    "def foldLeft[A, B](list: List[A])(initial: B)(update: (B, A) => B): B =\n",
    "    var out: B = initial\n",
    "    for (elem <- list) \n",
    "        out = update(out, elem)\n",
    "    out"
   ]
  },
  {
   "cell_type": "markdown",
   "metadata": {},
   "source": [
    "Similarly, the `foldLeft` function is typically used where a tail-recursive function is needed. Its recursive implementation is naturally tail-recursive:"
   ]
  },
  {
   "cell_type": "code",
   "execution_count": 17,
   "metadata": {},
   "outputs": [
    {
     "data": {
      "text/plain": [
       "defined \u001b[32mfunction\u001b[39m \u001b[36mfoldLeft\u001b[39m"
      ]
     },
     "execution_count": 17,
     "metadata": {},
     "output_type": "execute_result"
    }
   ],
   "source": [
    "@annotation.tailrec\n",
    "def foldLeft[A, B](list: List[A])(out: B)(update: (B, A) => B): B =\n",
    "    list match\n",
    "        case Nil => out\n",
    "        case head :: tail => \n",
    "            foldLeft(tail)(update(out, head))(update)"
   ]
  },
  {
   "cell_type": "markdown",
   "metadata": {},
   "source": [
    "Using `foldLeft` we can implement functions at a higher-level of abstraction, i.e. using constructs which are nearer to the problem-domain, without caring about mutable variables, tail-safe recursion, etc. Its use also leads to very concise (and readable!) implementations. For instance, these are (almost) one-liner implementations of some of the functions of the last notebook on recursive functions:"
   ]
  },
  {
   "cell_type": "code",
   "execution_count": 18,
   "metadata": {},
   "outputs": [
    {
     "data": {
      "text/plain": [
       "defined \u001b[32mfunction\u001b[39m \u001b[36mlength\u001b[39m"
      ]
     },
     "execution_count": 18,
     "metadata": {},
     "output_type": "execute_result"
    }
   ],
   "source": [
    "def length[A](list: List[A]): Int = \n",
    "    foldLeft(list)(0)((out: Int, _: A) => out + 1)"
   ]
  },
  {
   "cell_type": "code",
   "execution_count": 19,
   "metadata": {},
   "outputs": [
    {
     "data": {
      "text/plain": [
       "defined \u001b[32mfunction\u001b[39m \u001b[36msum\u001b[39m"
      ]
     },
     "execution_count": 19,
     "metadata": {},
     "output_type": "execute_result"
    }
   ],
   "source": [
    "def sum(list: List[Int]): Int = \n",
    "    foldLeft(list)(0)(_ + _)"
   ]
  },
  {
   "cell_type": "code",
   "execution_count": 20,
   "metadata": {},
   "outputs": [
    {
     "data": {
      "text/plain": [
       "defined \u001b[32mfunction\u001b[39m \u001b[36mreverse\u001b[39m"
      ]
     },
     "execution_count": 20,
     "metadata": {},
     "output_type": "execute_result"
    }
   ],
   "source": [
    "def reverse[A](list: List[A]): List[A] = \n",
    "    foldLeft(list)(List[A]())(\n",
    "        (out: List[A], a: A) => a :: out\n",
    "    )"
   ]
  },
  {
   "cell_type": "markdown",
   "metadata": {},
   "source": [
    "But we may also use the `foldRight` function to implement them:"
   ]
  },
  {
   "cell_type": "code",
   "execution_count": 21,
   "metadata": {},
   "outputs": [
    {
     "data": {
      "text/plain": [
       "defined \u001b[32mfunction\u001b[39m \u001b[36mlength\u001b[39m"
      ]
     },
     "execution_count": 21,
     "metadata": {},
     "output_type": "execute_result"
    }
   ],
   "source": [
    "def length[A](list: List[A]): Int = \n",
    "    list.foldRight(0)((head: A, tail: Int) => tail + 1)"
   ]
  },
  {
   "cell_type": "code",
   "execution_count": 22,
   "metadata": {},
   "outputs": [
    {
     "data": {
      "text/plain": [
       "defined \u001b[32mfunction\u001b[39m \u001b[36msum\u001b[39m"
      ]
     },
     "execution_count": 22,
     "metadata": {},
     "output_type": "execute_result"
    }
   ],
   "source": [
    "def sum(list: List[Int]): Int = \n",
    "    list.foldRight(0)((head: Int, tail: Int) => head + tail)"
   ]
  },
  {
   "cell_type": "code",
   "execution_count": 24,
   "metadata": {},
   "outputs": [
    {
     "data": {
      "text/plain": [
       "defined \u001b[32mfunction\u001b[39m \u001b[36mreverse\u001b[39m"
      ]
     },
     "execution_count": 24,
     "metadata": {},
     "output_type": "execute_result"
    }
   ],
   "source": [
    "def reverse[A](list: List[A]): List[A] = \n",
    "    list.foldRight(List[A]()):\n",
    "        (head: A, tail: List[A]) => tail.appended(head)"
   ]
  },
  {
   "cell_type": "markdown",
   "metadata": {},
   "source": [
    "Functionally, both versions are equivalent, but the ones using `foldLeft` are more efficient. In particular, the `foldRight` version of `reverse` has cuadratic complexity. "
   ]
  },
  {
   "cell_type": "markdown",
   "metadata": {},
   "source": [
    "#### Implementing `foldRight` with `foldLeft`"
   ]
  },
  {
   "cell_type": "markdown",
   "metadata": {},
   "source": [
    "The implementation that we gave for `foldRight` was not tail-recursive, so this will blow up the stack:"
   ]
  },
  {
   "cell_type": "code",
   "execution_count": 26,
   "metadata": {
    "collapsed": true,
    "jupyter": {
     "outputs_hidden": true
    },
    "tags": []
   },
   "outputs": [
    {
     "ename": "java.lang.StackOverflowError",
     "evalue": "null",
     "output_type": "error",
     "traceback": [
      "\u001b[31mjava.lang.StackOverflowError\u001b[39m",
      "  scala.collection.immutable.List.equals(\u001b[32mList.scala\u001b[39m:\u001b[32m612\u001b[39m)",
      "  ammonite.$sess.cell5$Helper.foldRight(\u001b[32mcell5.sc\u001b[39m:\u001b[32m3\u001b[39m)",
      "  ammonite.$sess.cell5$Helper.foldRight(\u001b[32mcell5.sc\u001b[39m:\u001b[32m4\u001b[39m)",
      "  ammonite.$sess.cell5$Helper.foldRight(\u001b[32mcell5.sc\u001b[39m:\u001b[32m4\u001b[39m)",
      "  ammonite.$sess.cell5$Helper.foldRight(\u001b[32mcell5.sc\u001b[39m:\u001b[32m4\u001b[39m)",
      "  ammonite.$sess.cell5$Helper.foldRight(\u001b[32mcell5.sc\u001b[39m:\u001b[32m4\u001b[39m)",
      "  ammonite.$sess.cell5$Helper.foldRight(\u001b[32mcell5.sc\u001b[39m:\u001b[32m4\u001b[39m)",
      "  ammonite.$sess.cell5$Helper.foldRight(\u001b[32mcell5.sc\u001b[39m:\u001b[32m4\u001b[39m)",
      "  ammonite.$sess.cell5$Helper.foldRight(\u001b[32mcell5.sc\u001b[39m:\u001b[32m4\u001b[39m)",
      "  ammonite.$sess.cell5$Helper.foldRight(\u001b[32mcell5.sc\u001b[39m:\u001b[32m4\u001b[39m)",
      "  ammonite.$sess.cell5$Helper.foldRight(\u001b[32mcell5.sc\u001b[39m:\u001b[32m4\u001b[39m)",
      "  ammonite.$sess.cell5$Helper.foldRight(\u001b[32mcell5.sc\u001b[39m:\u001b[32m4\u001b[39m)",
      "  ammonite.$sess.cell5$Helper.foldRight(\u001b[32mcell5.sc\u001b[39m:\u001b[32m4\u001b[39m)",
      "  ammonite.$sess.cell5$Helper.foldRight(\u001b[32mcell5.sc\u001b[39m:\u001b[32m4\u001b[39m)",
      "  ammonite.$sess.cell5$Helper.foldRight(\u001b[32mcell5.sc\u001b[39m:\u001b[32m4\u001b[39m)",
      "  ammonite.$sess.cell5$Helper.foldRight(\u001b[32mcell5.sc\u001b[39m:\u001b[32m4\u001b[39m)",
      "  ammonite.$sess.cell5$Helper.foldRight(\u001b[32mcell5.sc\u001b[39m:\u001b[32m4\u001b[39m)",
      "  ammonite.$sess.cell5$Helper.foldRight(\u001b[32mcell5.sc\u001b[39m:\u001b[32m4\u001b[39m)",
      "  ammonite.$sess.cell5$Helper.foldRight(\u001b[32mcell5.sc\u001b[39m:\u001b[32m4\u001b[39m)",
      "  ammonite.$sess.cell5$Helper.foldRight(\u001b[32mcell5.sc\u001b[39m:\u001b[32m4\u001b[39m)",
      "  ammonite.$sess.cell5$Helper.foldRight(\u001b[32mcell5.sc\u001b[39m:\u001b[32m4\u001b[39m)",
      "  ammonite.$sess.cell5$Helper.foldRight(\u001b[32mcell5.sc\u001b[39m:\u001b[32m4\u001b[39m)",
      "  ammonite.$sess.cell5$Helper.foldRight(\u001b[32mcell5.sc\u001b[39m:\u001b[32m4\u001b[39m)",
      "  ammonite.$sess.cell5$Helper.foldRight(\u001b[32mcell5.sc\u001b[39m:\u001b[32m4\u001b[39m)",
      "  ammonite.$sess.cell5$Helper.foldRight(\u001b[32mcell5.sc\u001b[39m:\u001b[32m4\u001b[39m)",
      "  ammonite.$sess.cell5$Helper.foldRight(\u001b[32mcell5.sc\u001b[39m:\u001b[32m4\u001b[39m)",
      "  ammonite.$sess.cell5$Helper.foldRight(\u001b[32mcell5.sc\u001b[39m:\u001b[32m4\u001b[39m)",
      "  ammonite.$sess.cell5$Helper.foldRight(\u001b[32mcell5.sc\u001b[39m:\u001b[32m4\u001b[39m)",
      "  ammonite.$sess.cell5$Helper.foldRight(\u001b[32mcell5.sc\u001b[39m:\u001b[32m4\u001b[39m)",
      "  ammonite.$sess.cell5$Helper.foldRight(\u001b[32mcell5.sc\u001b[39m:\u001b[32m4\u001b[39m)",
      "  ammonite.$sess.cell5$Helper.foldRight(\u001b[32mcell5.sc\u001b[39m:\u001b[32m4\u001b[39m)",
      "  ammonite.$sess.cell5$Helper.foldRight(\u001b[32mcell5.sc\u001b[39m:\u001b[32m4\u001b[39m)",
      "  ammonite.$sess.cell5$Helper.foldRight(\u001b[32mcell5.sc\u001b[39m:\u001b[32m4\u001b[39m)",
      "  ammonite.$sess.cell5$Helper.foldRight(\u001b[32mcell5.sc\u001b[39m:\u001b[32m4\u001b[39m)",
      "  ammonite.$sess.cell5$Helper.foldRight(\u001b[32mcell5.sc\u001b[39m:\u001b[32m4\u001b[39m)",
      "  ammonite.$sess.cell5$Helper.foldRight(\u001b[32mcell5.sc\u001b[39m:\u001b[32m4\u001b[39m)",
      "  ammonite.$sess.cell5$Helper.foldRight(\u001b[32mcell5.sc\u001b[39m:\u001b[32m4\u001b[39m)",
      "  ammonite.$sess.cell5$Helper.foldRight(\u001b[32mcell5.sc\u001b[39m:\u001b[32m4\u001b[39m)",
      "  ammonite.$sess.cell5$Helper.foldRight(\u001b[32mcell5.sc\u001b[39m:\u001b[32m4\u001b[39m)",
      "  ammonite.$sess.cell5$Helper.foldRight(\u001b[32mcell5.sc\u001b[39m:\u001b[32m4\u001b[39m)",
      "  ammonite.$sess.cell5$Helper.foldRight(\u001b[32mcell5.sc\u001b[39m:\u001b[32m4\u001b[39m)",
      "  ammonite.$sess.cell5$Helper.foldRight(\u001b[32mcell5.sc\u001b[39m:\u001b[32m4\u001b[39m)",
      "  ammonite.$sess.cell5$Helper.foldRight(\u001b[32mcell5.sc\u001b[39m:\u001b[32m4\u001b[39m)",
      "  ammonite.$sess.cell5$Helper.foldRight(\u001b[32mcell5.sc\u001b[39m:\u001b[32m4\u001b[39m)",
      "  ammonite.$sess.cell5$Helper.foldRight(\u001b[32mcell5.sc\u001b[39m:\u001b[32m4\u001b[39m)",
      "  ammonite.$sess.cell5$Helper.foldRight(\u001b[32mcell5.sc\u001b[39m:\u001b[32m4\u001b[39m)",
      "  ammonite.$sess.cell5$Helper.foldRight(\u001b[32mcell5.sc\u001b[39m:\u001b[32m4\u001b[39m)",
      "  ammonite.$sess.cell5$Helper.foldRight(\u001b[32mcell5.sc\u001b[39m:\u001b[32m4\u001b[39m)",
      "  ammonite.$sess.cell5$Helper.foldRight(\u001b[32mcell5.sc\u001b[39m:\u001b[32m4\u001b[39m)",
      "  ammonite.$sess.cell5$Helper.foldRight(\u001b[32mcell5.sc\u001b[39m:\u001b[32m4\u001b[39m)",
      "  ammonite.$sess.cell5$Helper.foldRight(\u001b[32mcell5.sc\u001b[39m:\u001b[32m4\u001b[39m)",
      "  ammonite.$sess.cell5$Helper.foldRight(\u001b[32mcell5.sc\u001b[39m:\u001b[32m4\u001b[39m)",
      "  ammonite.$sess.cell5$Helper.foldRight(\u001b[32mcell5.sc\u001b[39m:\u001b[32m4\u001b[39m)",
      "  ammonite.$sess.cell5$Helper.foldRight(\u001b[32mcell5.sc\u001b[39m:\u001b[32m4\u001b[39m)",
      "  ammonite.$sess.cell5$Helper.foldRight(\u001b[32mcell5.sc\u001b[39m:\u001b[32m4\u001b[39m)",
      "  ammonite.$sess.cell5$Helper.foldRight(\u001b[32mcell5.sc\u001b[39m:\u001b[32m4\u001b[39m)",
      "  ammonite.$sess.cell5$Helper.foldRight(\u001b[32mcell5.sc\u001b[39m:\u001b[32m4\u001b[39m)",
      "  ammonite.$sess.cell5$Helper.foldRight(\u001b[32mcell5.sc\u001b[39m:\u001b[32m4\u001b[39m)",
      "  ammonite.$sess.cell5$Helper.foldRight(\u001b[32mcell5.sc\u001b[39m:\u001b[32m4\u001b[39m)",
      "  ammonite.$sess.cell5$Helper.foldRight(\u001b[32mcell5.sc\u001b[39m:\u001b[32m4\u001b[39m)",
      "  ammonite.$sess.cell5$Helper.foldRight(\u001b[32mcell5.sc\u001b[39m:\u001b[32m4\u001b[39m)",
      "  ammonite.$sess.cell5$Helper.foldRight(\u001b[32mcell5.sc\u001b[39m:\u001b[32m4\u001b[39m)",
      "  ammonite.$sess.cell5$Helper.foldRight(\u001b[32mcell5.sc\u001b[39m:\u001b[32m4\u001b[39m)",
      "  ammonite.$sess.cell5$Helper.foldRight(\u001b[32mcell5.sc\u001b[39m:\u001b[32m4\u001b[39m)",
      "  ammonite.$sess.cell5$Helper.foldRight(\u001b[32mcell5.sc\u001b[39m:\u001b[32m4\u001b[39m)",
      "  ammonite.$sess.cell5$Helper.foldRight(\u001b[32mcell5.sc\u001b[39m:\u001b[32m4\u001b[39m)",
      "  ammonite.$sess.cell5$Helper.foldRight(\u001b[32mcell5.sc\u001b[39m:\u001b[32m4\u001b[39m)",
      "  ammonite.$sess.cell5$Helper.foldRight(\u001b[32mcell5.sc\u001b[39m:\u001b[32m4\u001b[39m)",
      "  ammonite.$sess.cell5$Helper.foldRight(\u001b[32mcell5.sc\u001b[39m:\u001b[32m4\u001b[39m)",
      "  ammonite.$sess.cell5$Helper.foldRight(\u001b[32mcell5.sc\u001b[39m:\u001b[32m4\u001b[39m)",
      "  ammonite.$sess.cell5$Helper.foldRight(\u001b[32mcell5.sc\u001b[39m:\u001b[32m4\u001b[39m)",
      "  ammonite.$sess.cell5$Helper.foldRight(\u001b[32mcell5.sc\u001b[39m:\u001b[32m4\u001b[39m)",
      "  ammonite.$sess.cell5$Helper.foldRight(\u001b[32mcell5.sc\u001b[39m:\u001b[32m4\u001b[39m)",
      "  ammonite.$sess.cell5$Helper.foldRight(\u001b[32mcell5.sc\u001b[39m:\u001b[32m4\u001b[39m)",
      "  ammonite.$sess.cell5$Helper.foldRight(\u001b[32mcell5.sc\u001b[39m:\u001b[32m4\u001b[39m)",
      "  ammonite.$sess.cell5$Helper.foldRight(\u001b[32mcell5.sc\u001b[39m:\u001b[32m4\u001b[39m)",
      "  ammonite.$sess.cell5$Helper.foldRight(\u001b[32mcell5.sc\u001b[39m:\u001b[32m4\u001b[39m)",
      "  ammonite.$sess.cell5$Helper.foldRight(\u001b[32mcell5.sc\u001b[39m:\u001b[32m4\u001b[39m)",
      "  ammonite.$sess.cell5$Helper.foldRight(\u001b[32mcell5.sc\u001b[39m:\u001b[32m4\u001b[39m)",
      "  ammonite.$sess.cell5$Helper.foldRight(\u001b[32mcell5.sc\u001b[39m:\u001b[32m4\u001b[39m)",
      "  ammonite.$sess.cell5$Helper.foldRight(\u001b[32mcell5.sc\u001b[39m:\u001b[32m4\u001b[39m)",
      "  ammonite.$sess.cell5$Helper.foldRight(\u001b[32mcell5.sc\u001b[39m:\u001b[32m4\u001b[39m)",
      "  ammonite.$sess.cell5$Helper.foldRight(\u001b[32mcell5.sc\u001b[39m:\u001b[32m4\u001b[39m)",
      "  ammonite.$sess.cell5$Helper.foldRight(\u001b[32mcell5.sc\u001b[39m:\u001b[32m4\u001b[39m)",
      "  ammonite.$sess.cell5$Helper.foldRight(\u001b[32mcell5.sc\u001b[39m:\u001b[32m4\u001b[39m)",
      "  ammonite.$sess.cell5$Helper.foldRight(\u001b[32mcell5.sc\u001b[39m:\u001b[32m4\u001b[39m)",
      "  ammonite.$sess.cell5$Helper.foldRight(\u001b[32mcell5.sc\u001b[39m:\u001b[32m4\u001b[39m)",
      "  ammonite.$sess.cell5$Helper.foldRight(\u001b[32mcell5.sc\u001b[39m:\u001b[32m4\u001b[39m)",
      "  ammonite.$sess.cell5$Helper.foldRight(\u001b[32mcell5.sc\u001b[39m:\u001b[32m4\u001b[39m)",
      "  ammonite.$sess.cell5$Helper.foldRight(\u001b[32mcell5.sc\u001b[39m:\u001b[32m4\u001b[39m)",
      "  ammonite.$sess.cell5$Helper.foldRight(\u001b[32mcell5.sc\u001b[39m:\u001b[32m4\u001b[39m)",
      "  ammonite.$sess.cell5$Helper.foldRight(\u001b[32mcell5.sc\u001b[39m:\u001b[32m4\u001b[39m)",
      "  ammonite.$sess.cell5$Helper.foldRight(\u001b[32mcell5.sc\u001b[39m:\u001b[32m4\u001b[39m)",
      "  ammonite.$sess.cell5$Helper.foldRight(\u001b[32mcell5.sc\u001b[39m:\u001b[32m4\u001b[39m)",
      "  ammonite.$sess.cell5$Helper.foldRight(\u001b[32mcell5.sc\u001b[39m:\u001b[32m4\u001b[39m)",
      "  ammonite.$sess.cell5$Helper.foldRight(\u001b[32mcell5.sc\u001b[39m:\u001b[32m4\u001b[39m)",
      "  ammonite.$sess.cell5$Helper.foldRight(\u001b[32mcell5.sc\u001b[39m:\u001b[32m4\u001b[39m)",
      "  ammonite.$sess.cell5$Helper.foldRight(\u001b[32mcell5.sc\u001b[39m:\u001b[32m4\u001b[39m)",
      "  ammonite.$sess.cell5$Helper.foldRight(\u001b[32mcell5.sc\u001b[39m:\u001b[32m4\u001b[39m)",
      "  ammonite.$sess.cell5$Helper.foldRight(\u001b[32mcell5.sc\u001b[39m:\u001b[32m4\u001b[39m)",
      "  ammonite.$sess.cell5$Helper.foldRight(\u001b[32mcell5.sc\u001b[39m:\u001b[32m4\u001b[39m)",
      "  ammonite.$sess.cell5$Helper.foldRight(\u001b[32mcell5.sc\u001b[39m:\u001b[32m4\u001b[39m)",
      "  ammonite.$sess.cell5$Helper.foldRight(\u001b[32mcell5.sc\u001b[39m:\u001b[32m4\u001b[39m)",
      "  ammonite.$sess.cell5$Helper.foldRight(\u001b[32mcell5.sc\u001b[39m:\u001b[32m4\u001b[39m)",
      "  ammonite.$sess.cell5$Helper.foldRight(\u001b[32mcell5.sc\u001b[39m:\u001b[32m4\u001b[39m)",
      "  ammonite.$sess.cell5$Helper.foldRight(\u001b[32mcell5.sc\u001b[39m:\u001b[32m4\u001b[39m)",
      "  ammonite.$sess.cell5$Helper.foldRight(\u001b[32mcell5.sc\u001b[39m:\u001b[32m4\u001b[39m)",
      "  ammonite.$sess.cell5$Helper.foldRight(\u001b[32mcell5.sc\u001b[39m:\u001b[32m4\u001b[39m)",
      "  ammonite.$sess.cell5$Helper.foldRight(\u001b[32mcell5.sc\u001b[39m:\u001b[32m4\u001b[39m)",
      "  ammonite.$sess.cell5$Helper.foldRight(\u001b[32mcell5.sc\u001b[39m:\u001b[32m4\u001b[39m)",
      "  ammonite.$sess.cell5$Helper.foldRight(\u001b[32mcell5.sc\u001b[39m:\u001b[32m4\u001b[39m)",
      "  ammonite.$sess.cell5$Helper.foldRight(\u001b[32mcell5.sc\u001b[39m:\u001b[32m4\u001b[39m)",
      "  ammonite.$sess.cell5$Helper.foldRight(\u001b[32mcell5.sc\u001b[39m:\u001b[32m4\u001b[39m)",
      "  ammonite.$sess.cell5$Helper.foldRight(\u001b[32mcell5.sc\u001b[39m:\u001b[32m4\u001b[39m)",
      "  ammonite.$sess.cell5$Helper.foldRight(\u001b[32mcell5.sc\u001b[39m:\u001b[32m4\u001b[39m)",
      "  ammonite.$sess.cell5$Helper.foldRight(\u001b[32mcell5.sc\u001b[39m:\u001b[32m4\u001b[39m)",
      "  ammonite.$sess.cell5$Helper.foldRight(\u001b[32mcell5.sc\u001b[39m:\u001b[32m4\u001b[39m)",
      "  ammonite.$sess.cell5$Helper.foldRight(\u001b[32mcell5.sc\u001b[39m:\u001b[32m4\u001b[39m)",
      "  ammonite.$sess.cell5$Helper.foldRight(\u001b[32mcell5.sc\u001b[39m:\u001b[32m4\u001b[39m)",
      "  ammonite.$sess.cell5$Helper.foldRight(\u001b[32mcell5.sc\u001b[39m:\u001b[32m4\u001b[39m)",
      "  ammonite.$sess.cell5$Helper.foldRight(\u001b[32mcell5.sc\u001b[39m:\u001b[32m4\u001b[39m)",
      "  ammonite.$sess.cell5$Helper.foldRight(\u001b[32mcell5.sc\u001b[39m:\u001b[32m4\u001b[39m)",
      "  ammonite.$sess.cell5$Helper.foldRight(\u001b[32mcell5.sc\u001b[39m:\u001b[32m4\u001b[39m)",
      "  ammonite.$sess.cell5$Helper.foldRight(\u001b[32mcell5.sc\u001b[39m:\u001b[32m4\u001b[39m)",
      "  ammonite.$sess.cell5$Helper.foldRight(\u001b[32mcell5.sc\u001b[39m:\u001b[32m4\u001b[39m)",
      "  ammonite.$sess.cell5$Helper.foldRight(\u001b[32mcell5.sc\u001b[39m:\u001b[32m4\u001b[39m)",
      "  ammonite.$sess.cell5$Helper.foldRight(\u001b[32mcell5.sc\u001b[39m:\u001b[32m4\u001b[39m)",
      "  ammonite.$sess.cell5$Helper.foldRight(\u001b[32mcell5.sc\u001b[39m:\u001b[32m4\u001b[39m)",
      "  ammonite.$sess.cell5$Helper.foldRight(\u001b[32mcell5.sc\u001b[39m:\u001b[32m4\u001b[39m)",
      "  ammonite.$sess.cell5$Helper.foldRight(\u001b[32mcell5.sc\u001b[39m:\u001b[32m4\u001b[39m)",
      "  ammonite.$sess.cell5$Helper.foldRight(\u001b[32mcell5.sc\u001b[39m:\u001b[32m4\u001b[39m)",
      "  ammonite.$sess.cell5$Helper.foldRight(\u001b[32mcell5.sc\u001b[39m:\u001b[32m4\u001b[39m)",
      "  ammonite.$sess.cell5$Helper.foldRight(\u001b[32mcell5.sc\u001b[39m:\u001b[32m4\u001b[39m)",
      "  ammonite.$sess.cell5$Helper.foldRight(\u001b[32mcell5.sc\u001b[39m:\u001b[32m4\u001b[39m)",
      "  ammonite.$sess.cell5$Helper.foldRight(\u001b[32mcell5.sc\u001b[39m:\u001b[32m4\u001b[39m)",
      "  ammonite.$sess.cell5$Helper.foldRight(\u001b[32mcell5.sc\u001b[39m:\u001b[32m4\u001b[39m)",
      "  ammonite.$sess.cell5$Helper.foldRight(\u001b[32mcell5.sc\u001b[39m:\u001b[32m4\u001b[39m)",
      "  ammonite.$sess.cell5$Helper.foldRight(\u001b[32mcell5.sc\u001b[39m:\u001b[32m4\u001b[39m)",
      "  ammonite.$sess.cell5$Helper.foldRight(\u001b[32mcell5.sc\u001b[39m:\u001b[32m4\u001b[39m)",
      "  ammonite.$sess.cell5$Helper.foldRight(\u001b[32mcell5.sc\u001b[39m:\u001b[32m4\u001b[39m)",
      "  ammonite.$sess.cell5$Helper.foldRight(\u001b[32mcell5.sc\u001b[39m:\u001b[32m4\u001b[39m)",
      "  ammonite.$sess.cell5$Helper.foldRight(\u001b[32mcell5.sc\u001b[39m:\u001b[32m4\u001b[39m)",
      "  ammonite.$sess.cell5$Helper.foldRight(\u001b[32mcell5.sc\u001b[39m:\u001b[32m4\u001b[39m)",
      "  ammonite.$sess.cell5$Helper.foldRight(\u001b[32mcell5.sc\u001b[39m:\u001b[32m4\u001b[39m)",
      "  ammonite.$sess.cell5$Helper.foldRight(\u001b[32mcell5.sc\u001b[39m:\u001b[32m4\u001b[39m)",
      "  ammonite.$sess.cell5$Helper.foldRight(\u001b[32mcell5.sc\u001b[39m:\u001b[32m4\u001b[39m)",
      "  ammonite.$sess.cell5$Helper.foldRight(\u001b[32mcell5.sc\u001b[39m:\u001b[32m4\u001b[39m)",
      "  ammonite.$sess.cell5$Helper.foldRight(\u001b[32mcell5.sc\u001b[39m:\u001b[32m4\u001b[39m)",
      "  ammonite.$sess.cell5$Helper.foldRight(\u001b[32mcell5.sc\u001b[39m:\u001b[32m4\u001b[39m)",
      "  ammonite.$sess.cell5$Helper.foldRight(\u001b[32mcell5.sc\u001b[39m:\u001b[32m4\u001b[39m)",
      "  ammonite.$sess.cell5$Helper.foldRight(\u001b[32mcell5.sc\u001b[39m:\u001b[32m4\u001b[39m)",
      "  ammonite.$sess.cell5$Helper.foldRight(\u001b[32mcell5.sc\u001b[39m:\u001b[32m4\u001b[39m)",
      "  ammonite.$sess.cell5$Helper.foldRight(\u001b[32mcell5.sc\u001b[39m:\u001b[32m4\u001b[39m)",
      "  ammonite.$sess.cell5$Helper.foldRight(\u001b[32mcell5.sc\u001b[39m:\u001b[32m4\u001b[39m)",
      "  ammonite.$sess.cell5$Helper.foldRight(\u001b[32mcell5.sc\u001b[39m:\u001b[32m4\u001b[39m)",
      "  ammonite.$sess.cell5$Helper.foldRight(\u001b[32mcell5.sc\u001b[39m:\u001b[32m4\u001b[39m)",
      "  ammonite.$sess.cell5$Helper.foldRight(\u001b[32mcell5.sc\u001b[39m:\u001b[32m4\u001b[39m)",
      "  ammonite.$sess.cell5$Helper.foldRight(\u001b[32mcell5.sc\u001b[39m:\u001b[32m4\u001b[39m)",
      "  ammonite.$sess.cell5$Helper.foldRight(\u001b[32mcell5.sc\u001b[39m:\u001b[32m4\u001b[39m)",
      "  ammonite.$sess.cell5$Helper.foldRight(\u001b[32mcell5.sc\u001b[39m:\u001b[32m4\u001b[39m)",
      "  ammonite.$sess.cell5$Helper.foldRight(\u001b[32mcell5.sc\u001b[39m:\u001b[32m4\u001b[39m)",
      "  ammonite.$sess.cell5$Helper.foldRight(\u001b[32mcell5.sc\u001b[39m:\u001b[32m4\u001b[39m)",
      "  ammonite.$sess.cell5$Helper.foldRight(\u001b[32mcell5.sc\u001b[39m:\u001b[32m4\u001b[39m)",
      "  ammonite.$sess.cell5$Helper.foldRight(\u001b[32mcell5.sc\u001b[39m:\u001b[32m4\u001b[39m)",
      "  ammonite.$sess.cell5$Helper.foldRight(\u001b[32mcell5.sc\u001b[39m:\u001b[32m4\u001b[39m)",
      "  ammonite.$sess.cell5$Helper.foldRight(\u001b[32mcell5.sc\u001b[39m:\u001b[32m4\u001b[39m)",
      "  ammonite.$sess.cell5$Helper.foldRight(\u001b[32mcell5.sc\u001b[39m:\u001b[32m4\u001b[39m)",
      "  ammonite.$sess.cell5$Helper.foldRight(\u001b[32mcell5.sc\u001b[39m:\u001b[32m4\u001b[39m)",
      "  ammonite.$sess.cell5$Helper.foldRight(\u001b[32mcell5.sc\u001b[39m:\u001b[32m4\u001b[39m)",
      "  ammonite.$sess.cell5$Helper.foldRight(\u001b[32mcell5.sc\u001b[39m:\u001b[32m4\u001b[39m)",
      "  ammonite.$sess.cell5$Helper.foldRight(\u001b[32mcell5.sc\u001b[39m:\u001b[32m4\u001b[39m)",
      "  ammonite.$sess.cell5$Helper.foldRight(\u001b[32mcell5.sc\u001b[39m:\u001b[32m4\u001b[39m)",
      "  ammonite.$sess.cell5$Helper.foldRight(\u001b[32mcell5.sc\u001b[39m:\u001b[32m4\u001b[39m)",
      "  ammonite.$sess.cell5$Helper.foldRight(\u001b[32mcell5.sc\u001b[39m:\u001b[32m4\u001b[39m)",
      "  ammonite.$sess.cell5$Helper.foldRight(\u001b[32mcell5.sc\u001b[39m:\u001b[32m4\u001b[39m)",
      "  ammonite.$sess.cell5$Helper.foldRight(\u001b[32mcell5.sc\u001b[39m:\u001b[32m4\u001b[39m)",
      "  ammonite.$sess.cell5$Helper.foldRight(\u001b[32mcell5.sc\u001b[39m:\u001b[32m4\u001b[39m)",
      "  ammonite.$sess.cell5$Helper.foldRight(\u001b[32mcell5.sc\u001b[39m:\u001b[32m4\u001b[39m)",
      "  ammonite.$sess.cell5$Helper.foldRight(\u001b[32mcell5.sc\u001b[39m:\u001b[32m4\u001b[39m)",
      "  ammonite.$sess.cell5$Helper.foldRight(\u001b[32mcell5.sc\u001b[39m:\u001b[32m4\u001b[39m)",
      "  ammonite.$sess.cell5$Helper.foldRight(\u001b[32mcell5.sc\u001b[39m:\u001b[32m4\u001b[39m)",
      "  ammonite.$sess.cell5$Helper.foldRight(\u001b[32mcell5.sc\u001b[39m:\u001b[32m4\u001b[39m)",
      "  ammonite.$sess.cell5$Helper.foldRight(\u001b[32mcell5.sc\u001b[39m:\u001b[32m4\u001b[39m)",
      "  ammonite.$sess.cell5$Helper.foldRight(\u001b[32mcell5.sc\u001b[39m:\u001b[32m4\u001b[39m)",
      "  ammonite.$sess.cell5$Helper.foldRight(\u001b[32mcell5.sc\u001b[39m:\u001b[32m4\u001b[39m)",
      "  ammonite.$sess.cell5$Helper.foldRight(\u001b[32mcell5.sc\u001b[39m:\u001b[32m4\u001b[39m)",
      "  ammonite.$sess.cell5$Helper.foldRight(\u001b[32mcell5.sc\u001b[39m:\u001b[32m4\u001b[39m)",
      "  ammonite.$sess.cell5$Helper.foldRight(\u001b[32mcell5.sc\u001b[39m:\u001b[32m4\u001b[39m)",
      "  ammonite.$sess.cell5$Helper.foldRight(\u001b[32mcell5.sc\u001b[39m:\u001b[32m4\u001b[39m)",
      "  ammonite.$sess.cell5$Helper.foldRight(\u001b[32mcell5.sc\u001b[39m:\u001b[32m4\u001b[39m)",
      "  ammonite.$sess.cell5$Helper.foldRight(\u001b[32mcell5.sc\u001b[39m:\u001b[32m4\u001b[39m)",
      "  ammonite.$sess.cell5$Helper.foldRight(\u001b[32mcell5.sc\u001b[39m:\u001b[32m4\u001b[39m)",
      "  ammonite.$sess.cell5$Helper.foldRight(\u001b[32mcell5.sc\u001b[39m:\u001b[32m4\u001b[39m)",
      "  ammonite.$sess.cell5$Helper.foldRight(\u001b[32mcell5.sc\u001b[39m:\u001b[32m4\u001b[39m)",
      "  ammonite.$sess.cell5$Helper.foldRight(\u001b[32mcell5.sc\u001b[39m:\u001b[32m4\u001b[39m)",
      "  ammonite.$sess.cell5$Helper.foldRight(\u001b[32mcell5.sc\u001b[39m:\u001b[32m4\u001b[39m)",
      "  ammonite.$sess.cell5$Helper.foldRight(\u001b[32mcell5.sc\u001b[39m:\u001b[32m4\u001b[39m)",
      "  ammonite.$sess.cell5$Helper.foldRight(\u001b[32mcell5.sc\u001b[39m:\u001b[32m4\u001b[39m)",
      "  ammonite.$sess.cell5$Helper.foldRight(\u001b[32mcell5.sc\u001b[39m:\u001b[32m4\u001b[39m)",
      "  ammonite.$sess.cell5$Helper.foldRight(\u001b[32mcell5.sc\u001b[39m:\u001b[32m4\u001b[39m)",
      "  ammonite.$sess.cell5$Helper.foldRight(\u001b[32mcell5.sc\u001b[39m:\u001b[32m4\u001b[39m)",
      "  ammonite.$sess.cell5$Helper.foldRight(\u001b[32mcell5.sc\u001b[39m:\u001b[32m4\u001b[39m)",
      "  ammonite.$sess.cell5$Helper.foldRight(\u001b[32mcell5.sc\u001b[39m:\u001b[32m4\u001b[39m)",
      "  ammonite.$sess.cell5$Helper.foldRight(\u001b[32mcell5.sc\u001b[39m:\u001b[32m4\u001b[39m)",
      "  ammonite.$sess.cell5$Helper.foldRight(\u001b[32mcell5.sc\u001b[39m:\u001b[32m4\u001b[39m)",
      "  ammonite.$sess.cell5$Helper.foldRight(\u001b[32mcell5.sc\u001b[39m:\u001b[32m4\u001b[39m)",
      "  ammonite.$sess.cell5$Helper.foldRight(\u001b[32mcell5.sc\u001b[39m:\u001b[32m4\u001b[39m)",
      "  ammonite.$sess.cell5$Helper.foldRight(\u001b[32mcell5.sc\u001b[39m:\u001b[32m4\u001b[39m)",
      "  ammonite.$sess.cell5$Helper.foldRight(\u001b[32mcell5.sc\u001b[39m:\u001b[32m4\u001b[39m)",
      "  ammonite.$sess.cell5$Helper.foldRight(\u001b[32mcell5.sc\u001b[39m:\u001b[32m4\u001b[39m)",
      "  ammonite.$sess.cell5$Helper.foldRight(\u001b[32mcell5.sc\u001b[39m:\u001b[32m4\u001b[39m)",
      "  ammonite.$sess.cell5$Helper.foldRight(\u001b[32mcell5.sc\u001b[39m:\u001b[32m4\u001b[39m)",
      "  ammonite.$sess.cell5$Helper.foldRight(\u001b[32mcell5.sc\u001b[39m:\u001b[32m4\u001b[39m)",
      "  ammonite.$sess.cell5$Helper.foldRight(\u001b[32mcell5.sc\u001b[39m:\u001b[32m4\u001b[39m)",
      "  ammonite.$sess.cell5$Helper.foldRight(\u001b[32mcell5.sc\u001b[39m:\u001b[32m4\u001b[39m)",
      "  ammonite.$sess.cell5$Helper.foldRight(\u001b[32mcell5.sc\u001b[39m:\u001b[32m4\u001b[39m)",
      "  ammonite.$sess.cell5$Helper.foldRight(\u001b[32mcell5.sc\u001b[39m:\u001b[32m4\u001b[39m)",
      "  ammonite.$sess.cell5$Helper.foldRight(\u001b[32mcell5.sc\u001b[39m:\u001b[32m4\u001b[39m)",
      "  ammonite.$sess.cell5$Helper.foldRight(\u001b[32mcell5.sc\u001b[39m:\u001b[32m4\u001b[39m)",
      "  ammonite.$sess.cell5$Helper.foldRight(\u001b[32mcell5.sc\u001b[39m:\u001b[32m4\u001b[39m)",
      "  ammonite.$sess.cell5$Helper.foldRight(\u001b[32mcell5.sc\u001b[39m:\u001b[32m4\u001b[39m)",
      "  ammonite.$sess.cell5$Helper.foldRight(\u001b[32mcell5.sc\u001b[39m:\u001b[32m4\u001b[39m)",
      "  ammonite.$sess.cell5$Helper.foldRight(\u001b[32mcell5.sc\u001b[39m:\u001b[32m4\u001b[39m)",
      "  ammonite.$sess.cell5$Helper.foldRight(\u001b[32mcell5.sc\u001b[39m:\u001b[32m4\u001b[39m)",
      "  ammonite.$sess.cell5$Helper.foldRight(\u001b[32mcell5.sc\u001b[39m:\u001b[32m4\u001b[39m)",
      "  ammonite.$sess.cell5$Helper.foldRight(\u001b[32mcell5.sc\u001b[39m:\u001b[32m4\u001b[39m)",
      "  ammonite.$sess.cell5$Helper.foldRight(\u001b[32mcell5.sc\u001b[39m:\u001b[32m4\u001b[39m)",
      "  ammonite.$sess.cell5$Helper.foldRight(\u001b[32mcell5.sc\u001b[39m:\u001b[32m4\u001b[39m)",
      "  ammonite.$sess.cell5$Helper.foldRight(\u001b[32mcell5.sc\u001b[39m:\u001b[32m4\u001b[39m)",
      "  ammonite.$sess.cell5$Helper.foldRight(\u001b[32mcell5.sc\u001b[39m:\u001b[32m4\u001b[39m)",
      "  ammonite.$sess.cell5$Helper.foldRight(\u001b[32mcell5.sc\u001b[39m:\u001b[32m4\u001b[39m)",
      "  ammonite.$sess.cell5$Helper.foldRight(\u001b[32mcell5.sc\u001b[39m:\u001b[32m4\u001b[39m)",
      "  ammonite.$sess.cell5$Helper.foldRight(\u001b[32mcell5.sc\u001b[39m:\u001b[32m4\u001b[39m)",
      "  ammonite.$sess.cell5$Helper.foldRight(\u001b[32mcell5.sc\u001b[39m:\u001b[32m4\u001b[39m)",
      "  ammonite.$sess.cell5$Helper.foldRight(\u001b[32mcell5.sc\u001b[39m:\u001b[32m4\u001b[39m)",
      "  ammonite.$sess.cell5$Helper.foldRight(\u001b[32mcell5.sc\u001b[39m:\u001b[32m4\u001b[39m)",
      "  ammonite.$sess.cell5$Helper.foldRight(\u001b[32mcell5.sc\u001b[39m:\u001b[32m4\u001b[39m)",
      "  ammonite.$sess.cell5$Helper.foldRight(\u001b[32mcell5.sc\u001b[39m:\u001b[32m4\u001b[39m)",
      "  ammonite.$sess.cell5$Helper.foldRight(\u001b[32mcell5.sc\u001b[39m:\u001b[32m4\u001b[39m)",
      "  ammonite.$sess.cell5$Helper.foldRight(\u001b[32mcell5.sc\u001b[39m:\u001b[32m4\u001b[39m)",
      "  ammonite.$sess.cell5$Helper.foldRight(\u001b[32mcell5.sc\u001b[39m:\u001b[32m4\u001b[39m)",
      "  ammonite.$sess.cell5$Helper.foldRight(\u001b[32mcell5.sc\u001b[39m:\u001b[32m4\u001b[39m)",
      "  ammonite.$sess.cell5$Helper.foldRight(\u001b[32mcell5.sc\u001b[39m:\u001b[32m4\u001b[39m)",
      "  ammonite.$sess.cell5$Helper.foldRight(\u001b[32mcell5.sc\u001b[39m:\u001b[32m4\u001b[39m)",
      "  ammonite.$sess.cell5$Helper.foldRight(\u001b[32mcell5.sc\u001b[39m:\u001b[32m4\u001b[39m)",
      "  ammonite.$sess.cell5$Helper.foldRight(\u001b[32mcell5.sc\u001b[39m:\u001b[32m4\u001b[39m)",
      "  ammonite.$sess.cell5$Helper.foldRight(\u001b[32mcell5.sc\u001b[39m:\u001b[32m4\u001b[39m)",
      "  ammonite.$sess.cell5$Helper.foldRight(\u001b[32mcell5.sc\u001b[39m:\u001b[32m4\u001b[39m)",
      "  ammonite.$sess.cell5$Helper.foldRight(\u001b[32mcell5.sc\u001b[39m:\u001b[32m4\u001b[39m)",
      "  ammonite.$sess.cell5$Helper.foldRight(\u001b[32mcell5.sc\u001b[39m:\u001b[32m4\u001b[39m)",
      "  ammonite.$sess.cell5$Helper.foldRight(\u001b[32mcell5.sc\u001b[39m:\u001b[32m4\u001b[39m)",
      "  ammonite.$sess.cell5$Helper.foldRight(\u001b[32mcell5.sc\u001b[39m:\u001b[32m4\u001b[39m)",
      "  ammonite.$sess.cell5$Helper.foldRight(\u001b[32mcell5.sc\u001b[39m:\u001b[32m4\u001b[39m)",
      "  ammonite.$sess.cell5$Helper.foldRight(\u001b[32mcell5.sc\u001b[39m:\u001b[32m4\u001b[39m)",
      "  ammonite.$sess.cell5$Helper.foldRight(\u001b[32mcell5.sc\u001b[39m:\u001b[32m4\u001b[39m)",
      "  ammonite.$sess.cell5$Helper.foldRight(\u001b[32mcell5.sc\u001b[39m:\u001b[32m4\u001b[39m)",
      "  ammonite.$sess.cell5$Helper.foldRight(\u001b[32mcell5.sc\u001b[39m:\u001b[32m4\u001b[39m)",
      "  ammonite.$sess.cell5$Helper.foldRight(\u001b[32mcell5.sc\u001b[39m:\u001b[32m4\u001b[39m)",
      "  ammonite.$sess.cell5$Helper.foldRight(\u001b[32mcell5.sc\u001b[39m:\u001b[32m4\u001b[39m)",
      "  ammonite.$sess.cell5$Helper.foldRight(\u001b[32mcell5.sc\u001b[39m:\u001b[32m4\u001b[39m)",
      "  ammonite.$sess.cell5$Helper.foldRight(\u001b[32mcell5.sc\u001b[39m:\u001b[32m4\u001b[39m)",
      "  ammonite.$sess.cell5$Helper.foldRight(\u001b[32mcell5.sc\u001b[39m:\u001b[32m4\u001b[39m)",
      "  ammonite.$sess.cell5$Helper.foldRight(\u001b[32mcell5.sc\u001b[39m:\u001b[32m4\u001b[39m)",
      "  ammonite.$sess.cell5$Helper.foldRight(\u001b[32mcell5.sc\u001b[39m:\u001b[32m4\u001b[39m)",
      "  ammonite.$sess.cell5$Helper.foldRight(\u001b[32mcell5.sc\u001b[39m:\u001b[32m4\u001b[39m)",
      "  ammonite.$sess.cell5$Helper.foldRight(\u001b[32mcell5.sc\u001b[39m:\u001b[32m4\u001b[39m)",
      "  ammonite.$sess.cell5$Helper.foldRight(\u001b[32mcell5.sc\u001b[39m:\u001b[32m4\u001b[39m)",
      "  ammonite.$sess.cell5$Helper.foldRight(\u001b[32mcell5.sc\u001b[39m:\u001b[32m4\u001b[39m)",
      "  ammonite.$sess.cell5$Helper.foldRight(\u001b[32mcell5.sc\u001b[39m:\u001b[32m4\u001b[39m)",
      "  ammonite.$sess.cell5$Helper.foldRight(\u001b[32mcell5.sc\u001b[39m:\u001b[32m4\u001b[39m)",
      "  ammonite.$sess.cell5$Helper.foldRight(\u001b[32mcell5.sc\u001b[39m:\u001b[32m4\u001b[39m)",
      "  ammonite.$sess.cell5$Helper.foldRight(\u001b[32mcell5.sc\u001b[39m:\u001b[32m4\u001b[39m)",
      "  ammonite.$sess.cell5$Helper.foldRight(\u001b[32mcell5.sc\u001b[39m:\u001b[32m4\u001b[39m)",
      "  ammonite.$sess.cell5$Helper.foldRight(\u001b[32mcell5.sc\u001b[39m:\u001b[32m4\u001b[39m)",
      "  ammonite.$sess.cell5$Helper.foldRight(\u001b[32mcell5.sc\u001b[39m:\u001b[32m4\u001b[39m)",
      "  ammonite.$sess.cell5$Helper.foldRight(\u001b[32mcell5.sc\u001b[39m:\u001b[32m4\u001b[39m)",
      "  ammonite.$sess.cell5$Helper.foldRight(\u001b[32mcell5.sc\u001b[39m:\u001b[32m4\u001b[39m)",
      "  ammonite.$sess.cell5$Helper.foldRight(\u001b[32mcell5.sc\u001b[39m:\u001b[32m4\u001b[39m)",
      "  ammonite.$sess.cell5$Helper.foldRight(\u001b[32mcell5.sc\u001b[39m:\u001b[32m4\u001b[39m)",
      "  ammonite.$sess.cell5$Helper.foldRight(\u001b[32mcell5.sc\u001b[39m:\u001b[32m4\u001b[39m)",
      "  ammonite.$sess.cell5$Helper.foldRight(\u001b[32mcell5.sc\u001b[39m:\u001b[32m4\u001b[39m)",
      "  ammonite.$sess.cell5$Helper.foldRight(\u001b[32mcell5.sc\u001b[39m:\u001b[32m4\u001b[39m)",
      "  ammonite.$sess.cell5$Helper.foldRight(\u001b[32mcell5.sc\u001b[39m:\u001b[32m4\u001b[39m)",
      "  ammonite.$sess.cell5$Helper.foldRight(\u001b[32mcell5.sc\u001b[39m:\u001b[32m4\u001b[39m)",
      "  ammonite.$sess.cell5$Helper.foldRight(\u001b[32mcell5.sc\u001b[39m:\u001b[32m4\u001b[39m)",
      "  ammonite.$sess.cell5$Helper.foldRight(\u001b[32mcell5.sc\u001b[39m:\u001b[32m4\u001b[39m)",
      "  ammonite.$sess.cell5$Helper.foldRight(\u001b[32mcell5.sc\u001b[39m:\u001b[32m4\u001b[39m)",
      "  ammonite.$sess.cell5$Helper.foldRight(\u001b[32mcell5.sc\u001b[39m:\u001b[32m4\u001b[39m)",
      "  ammonite.$sess.cell5$Helper.foldRight(\u001b[32mcell5.sc\u001b[39m:\u001b[32m4\u001b[39m)",
      "  ammonite.$sess.cell5$Helper.foldRight(\u001b[32mcell5.sc\u001b[39m:\u001b[32m4\u001b[39m)",
      "  ammonite.$sess.cell5$Helper.foldRight(\u001b[32mcell5.sc\u001b[39m:\u001b[32m4\u001b[39m)",
      "  ammonite.$sess.cell5$Helper.foldRight(\u001b[32mcell5.sc\u001b[39m:\u001b[32m4\u001b[39m)",
      "  ammonite.$sess.cell5$Helper.foldRight(\u001b[32mcell5.sc\u001b[39m:\u001b[32m4\u001b[39m)",
      "  ammonite.$sess.cell5$Helper.foldRight(\u001b[32mcell5.sc\u001b[39m:\u001b[32m4\u001b[39m)",
      "  ammonite.$sess.cell5$Helper.foldRight(\u001b[32mcell5.sc\u001b[39m:\u001b[32m4\u001b[39m)",
      "  ammonite.$sess.cell5$Helper.foldRight(\u001b[32mcell5.sc\u001b[39m:\u001b[32m4\u001b[39m)",
      "  ammonite.$sess.cell5$Helper.foldRight(\u001b[32mcell5.sc\u001b[39m:\u001b[32m4\u001b[39m)",
      "  ammonite.$sess.cell5$Helper.foldRight(\u001b[32mcell5.sc\u001b[39m:\u001b[32m4\u001b[39m)",
      "  ammonite.$sess.cell5$Helper.foldRight(\u001b[32mcell5.sc\u001b[39m:\u001b[32m4\u001b[39m)",
      "  ammonite.$sess.cell5$Helper.foldRight(\u001b[32mcell5.sc\u001b[39m:\u001b[32m4\u001b[39m)",
      "  ammonite.$sess.cell5$Helper.foldRight(\u001b[32mcell5.sc\u001b[39m:\u001b[32m4\u001b[39m)",
      "  ammonite.$sess.cell5$Helper.foldRight(\u001b[32mcell5.sc\u001b[39m:\u001b[32m4\u001b[39m)",
      "  ammonite.$sess.cell5$Helper.foldRight(\u001b[32mcell5.sc\u001b[39m:\u001b[32m4\u001b[39m)",
      "  ammonite.$sess.cell5$Helper.foldRight(\u001b[32mcell5.sc\u001b[39m:\u001b[32m4\u001b[39m)",
      "  ammonite.$sess.cell5$Helper.foldRight(\u001b[32mcell5.sc\u001b[39m:\u001b[32m4\u001b[39m)",
      "  ammonite.$sess.cell5$Helper.foldRight(\u001b[32mcell5.sc\u001b[39m:\u001b[32m4\u001b[39m)",
      "  ammonite.$sess.cell5$Helper.foldRight(\u001b[32mcell5.sc\u001b[39m:\u001b[32m4\u001b[39m)",
      "  ammonite.$sess.cell5$Helper.foldRight(\u001b[32mcell5.sc\u001b[39m:\u001b[32m4\u001b[39m)",
      "  ammonite.$sess.cell5$Helper.foldRight(\u001b[32mcell5.sc\u001b[39m:\u001b[32m4\u001b[39m)",
      "  ammonite.$sess.cell5$Helper.foldRight(\u001b[32mcell5.sc\u001b[39m:\u001b[32m4\u001b[39m)",
      "  ammonite.$sess.cell5$Helper.foldRight(\u001b[32mcell5.sc\u001b[39m:\u001b[32m4\u001b[39m)",
      "  ammonite.$sess.cell5$Helper.foldRight(\u001b[32mcell5.sc\u001b[39m:\u001b[32m4\u001b[39m)",
      "  ammonite.$sess.cell5$Helper.foldRight(\u001b[32mcell5.sc\u001b[39m:\u001b[32m4\u001b[39m)",
      "  ammonite.$sess.cell5$Helper.foldRight(\u001b[32mcell5.sc\u001b[39m:\u001b[32m4\u001b[39m)",
      "  ammonite.$sess.cell5$Helper.foldRight(\u001b[32mcell5.sc\u001b[39m:\u001b[32m4\u001b[39m)",
      "  ammonite.$sess.cell5$Helper.foldRight(\u001b[32mcell5.sc\u001b[39m:\u001b[32m4\u001b[39m)",
      "  ammonite.$sess.cell5$Helper.foldRight(\u001b[32mcell5.sc\u001b[39m:\u001b[32m4\u001b[39m)",
      "  ammonite.$sess.cell5$Helper.foldRight(\u001b[32mcell5.sc\u001b[39m:\u001b[32m4\u001b[39m)",
      "  ammonite.$sess.cell5$Helper.foldRight(\u001b[32mcell5.sc\u001b[39m:\u001b[32m4\u001b[39m)",
      "  ammonite.$sess.cell5$Helper.foldRight(\u001b[32mcell5.sc\u001b[39m:\u001b[32m4\u001b[39m)",
      "  ammonite.$sess.cell5$Helper.foldRight(\u001b[32mcell5.sc\u001b[39m:\u001b[32m4\u001b[39m)",
      "  ammonite.$sess.cell5$Helper.foldRight(\u001b[32mcell5.sc\u001b[39m:\u001b[32m4\u001b[39m)",
      "  ammonite.$sess.cell5$Helper.foldRight(\u001b[32mcell5.sc\u001b[39m:\u001b[32m4\u001b[39m)",
      "  ammonite.$sess.cell5$Helper.foldRight(\u001b[32mcell5.sc\u001b[39m:\u001b[32m4\u001b[39m)",
      "  ammonite.$sess.cell5$Helper.foldRight(\u001b[32mcell5.sc\u001b[39m:\u001b[32m4\u001b[39m)",
      "  ammonite.$sess.cell5$Helper.foldRight(\u001b[32mcell5.sc\u001b[39m:\u001b[32m4\u001b[39m)",
      "  ammonite.$sess.cell5$Helper.foldRight(\u001b[32mcell5.sc\u001b[39m:\u001b[32m4\u001b[39m)",
      "  ammonite.$sess.cell5$Helper.foldRight(\u001b[32mcell5.sc\u001b[39m:\u001b[32m4\u001b[39m)",
      "  ammonite.$sess.cell5$Helper.foldRight(\u001b[32mcell5.sc\u001b[39m:\u001b[32m4\u001b[39m)",
      "  ammonite.$sess.cell5$Helper.foldRight(\u001b[32mcell5.sc\u001b[39m:\u001b[32m4\u001b[39m)",
      "  ammonite.$sess.cell5$Helper.foldRight(\u001b[32mcell5.sc\u001b[39m:\u001b[32m4\u001b[39m)",
      "  ammonite.$sess.cell5$Helper.foldRight(\u001b[32mcell5.sc\u001b[39m:\u001b[32m4\u001b[39m)",
      "  ammonite.$sess.cell5$Helper.foldRight(\u001b[32mcell5.sc\u001b[39m:\u001b[32m4\u001b[39m)",
      "  ammonite.$sess.cell5$Helper.foldRight(\u001b[32mcell5.sc\u001b[39m:\u001b[32m4\u001b[39m)",
      "  ammonite.$sess.cell5$Helper.foldRight(\u001b[32mcell5.sc\u001b[39m:\u001b[32m4\u001b[39m)",
      "  ammonite.$sess.cell5$Helper.foldRight(\u001b[32mcell5.sc\u001b[39m:\u001b[32m4\u001b[39m)",
      "  ammonite.$sess.cell5$Helper.foldRight(\u001b[32mcell5.sc\u001b[39m:\u001b[32m4\u001b[39m)",
      "  ammonite.$sess.cell5$Helper.foldRight(\u001b[32mcell5.sc\u001b[39m:\u001b[32m4\u001b[39m)",
      "  ammonite.$sess.cell5$Helper.foldRight(\u001b[32mcell5.sc\u001b[39m:\u001b[32m4\u001b[39m)",
      "  ammonite.$sess.cell5$Helper.foldRight(\u001b[32mcell5.sc\u001b[39m:\u001b[32m4\u001b[39m)",
      "  ammonite.$sess.cell5$Helper.foldRight(\u001b[32mcell5.sc\u001b[39m:\u001b[32m4\u001b[39m)",
      "  ammonite.$sess.cell5$Helper.foldRight(\u001b[32mcell5.sc\u001b[39m:\u001b[32m4\u001b[39m)",
      "  ammonite.$sess.cell5$Helper.foldRight(\u001b[32mcell5.sc\u001b[39m:\u001b[32m4\u001b[39m)",
      "  ammonite.$sess.cell5$Helper.foldRight(\u001b[32mcell5.sc\u001b[39m:\u001b[32m4\u001b[39m)",
      "  ammonite.$sess.cell5$Helper.foldRight(\u001b[32mcell5.sc\u001b[39m:\u001b[32m4\u001b[39m)",
      "  ammonite.$sess.cell5$Helper.foldRight(\u001b[32mcell5.sc\u001b[39m:\u001b[32m4\u001b[39m)",
      "  ammonite.$sess.cell5$Helper.foldRight(\u001b[32mcell5.sc\u001b[39m:\u001b[32m4\u001b[39m)",
      "  ammonite.$sess.cell5$Helper.foldRight(\u001b[32mcell5.sc\u001b[39m:\u001b[32m4\u001b[39m)",
      "  ammonite.$sess.cell5$Helper.foldRight(\u001b[32mcell5.sc\u001b[39m:\u001b[32m4\u001b[39m)",
      "  ammonite.$sess.cell5$Helper.foldRight(\u001b[32mcell5.sc\u001b[39m:\u001b[32m4\u001b[39m)",
      "  ammonite.$sess.cell5$Helper.foldRight(\u001b[32mcell5.sc\u001b[39m:\u001b[32m4\u001b[39m)",
      "  ammonite.$sess.cell5$Helper.foldRight(\u001b[32mcell5.sc\u001b[39m:\u001b[32m4\u001b[39m)",
      "  ammonite.$sess.cell5$Helper.foldRight(\u001b[32mcell5.sc\u001b[39m:\u001b[32m4\u001b[39m)",
      "  ammonite.$sess.cell5$Helper.foldRight(\u001b[32mcell5.sc\u001b[39m:\u001b[32m4\u001b[39m)",
      "  ammonite.$sess.cell5$Helper.foldRight(\u001b[32mcell5.sc\u001b[39m:\u001b[32m4\u001b[39m)",
      "  ammonite.$sess.cell5$Helper.foldRight(\u001b[32mcell5.sc\u001b[39m:\u001b[32m4\u001b[39m)",
      "  ammonite.$sess.cell5$Helper.foldRight(\u001b[32mcell5.sc\u001b[39m:\u001b[32m4\u001b[39m)",
      "  ammonite.$sess.cell5$Helper.foldRight(\u001b[32mcell5.sc\u001b[39m:\u001b[32m4\u001b[39m)",
      "  ammonite.$sess.cell5$Helper.foldRight(\u001b[32mcell5.sc\u001b[39m:\u001b[32m4\u001b[39m)",
      "  ammonite.$sess.cell5$Helper.foldRight(\u001b[32mcell5.sc\u001b[39m:\u001b[32m4\u001b[39m)",
      "  ammonite.$sess.cell5$Helper.foldRight(\u001b[32mcell5.sc\u001b[39m:\u001b[32m4\u001b[39m)",
      "  ammonite.$sess.cell5$Helper.foldRight(\u001b[32mcell5.sc\u001b[39m:\u001b[32m4\u001b[39m)",
      "  ammonite.$sess.cell5$Helper.foldRight(\u001b[32mcell5.sc\u001b[39m:\u001b[32m4\u001b[39m)",
      "  ammonite.$sess.cell5$Helper.foldRight(\u001b[32mcell5.sc\u001b[39m:\u001b[32m4\u001b[39m)",
      "  ammonite.$sess.cell5$Helper.foldRight(\u001b[32mcell5.sc\u001b[39m:\u001b[32m4\u001b[39m)",
      "  ammonite.$sess.cell5$Helper.foldRight(\u001b[32mcell5.sc\u001b[39m:\u001b[32m4\u001b[39m)",
      "  ammonite.$sess.cell5$Helper.foldRight(\u001b[32mcell5.sc\u001b[39m:\u001b[32m4\u001b[39m)",
      "  ammonite.$sess.cell5$Helper.foldRight(\u001b[32mcell5.sc\u001b[39m:\u001b[32m4\u001b[39m)",
      "  ammonite.$sess.cell5$Helper.foldRight(\u001b[32mcell5.sc\u001b[39m:\u001b[32m4\u001b[39m)",
      "  ammonite.$sess.cell5$Helper.foldRight(\u001b[32mcell5.sc\u001b[39m:\u001b[32m4\u001b[39m)",
      "  ammonite.$sess.cell5$Helper.foldRight(\u001b[32mcell5.sc\u001b[39m:\u001b[32m4\u001b[39m)",
      "  ammonite.$sess.cell5$Helper.foldRight(\u001b[32mcell5.sc\u001b[39m:\u001b[32m4\u001b[39m)",
      "  ammonite.$sess.cell5$Helper.foldRight(\u001b[32mcell5.sc\u001b[39m:\u001b[32m4\u001b[39m)",
      "  ammonite.$sess.cell5$Helper.foldRight(\u001b[32mcell5.sc\u001b[39m:\u001b[32m4\u001b[39m)",
      "  ammonite.$sess.cell5$Helper.foldRight(\u001b[32mcell5.sc\u001b[39m:\u001b[32m4\u001b[39m)",
      "  ammonite.$sess.cell5$Helper.foldRight(\u001b[32mcell5.sc\u001b[39m:\u001b[32m4\u001b[39m)",
      "  ammonite.$sess.cell5$Helper.foldRight(\u001b[32mcell5.sc\u001b[39m:\u001b[32m4\u001b[39m)",
      "  ammonite.$sess.cell5$Helper.foldRight(\u001b[32mcell5.sc\u001b[39m:\u001b[32m4\u001b[39m)",
      "  ammonite.$sess.cell5$Helper.foldRight(\u001b[32mcell5.sc\u001b[39m:\u001b[32m4\u001b[39m)",
      "  ammonite.$sess.cell5$Helper.foldRight(\u001b[32mcell5.sc\u001b[39m:\u001b[32m4\u001b[39m)",
      "  ammonite.$sess.cell5$Helper.foldRight(\u001b[32mcell5.sc\u001b[39m:\u001b[32m4\u001b[39m)",
      "  ammonite.$sess.cell5$Helper.foldRight(\u001b[32mcell5.sc\u001b[39m:\u001b[32m4\u001b[39m)",
      "  ammonite.$sess.cell5$Helper.foldRight(\u001b[32mcell5.sc\u001b[39m:\u001b[32m4\u001b[39m)",
      "  ammonite.$sess.cell5$Helper.foldRight(\u001b[32mcell5.sc\u001b[39m:\u001b[32m4\u001b[39m)",
      "  ammonite.$sess.cell5$Helper.foldRight(\u001b[32mcell5.sc\u001b[39m:\u001b[32m4\u001b[39m)",
      "  ammonite.$sess.cell5$Helper.foldRight(\u001b[32mcell5.sc\u001b[39m:\u001b[32m4\u001b[39m)",
      "  ammonite.$sess.cell5$Helper.foldRight(\u001b[32mcell5.sc\u001b[39m:\u001b[32m4\u001b[39m)",
      "  ammonite.$sess.cell5$Helper.foldRight(\u001b[32mcell5.sc\u001b[39m:\u001b[32m4\u001b[39m)",
      "  ammonite.$sess.cell5$Helper.foldRight(\u001b[32mcell5.sc\u001b[39m:\u001b[32m4\u001b[39m)",
      "  ammonite.$sess.cell5$Helper.foldRight(\u001b[32mcell5.sc\u001b[39m:\u001b[32m4\u001b[39m)",
      "  ammonite.$sess.cell5$Helper.foldRight(\u001b[32mcell5.sc\u001b[39m:\u001b[32m4\u001b[39m)",
      "  ammonite.$sess.cell5$Helper.foldRight(\u001b[32mcell5.sc\u001b[39m:\u001b[32m4\u001b[39m)",
      "  ammonite.$sess.cell5$Helper.foldRight(\u001b[32mcell5.sc\u001b[39m:\u001b[32m4\u001b[39m)",
      "  ammonite.$sess.cell5$Helper.foldRight(\u001b[32mcell5.sc\u001b[39m:\u001b[32m4\u001b[39m)",
      "  ammonite.$sess.cell5$Helper.foldRight(\u001b[32mcell5.sc\u001b[39m:\u001b[32m4\u001b[39m)",
      "  ammonite.$sess.cell5$Helper.foldRight(\u001b[32mcell5.sc\u001b[39m:\u001b[32m4\u001b[39m)",
      "  ammonite.$sess.cell5$Helper.foldRight(\u001b[32mcell5.sc\u001b[39m:\u001b[32m4\u001b[39m)",
      "  ammonite.$sess.cell5$Helper.foldRight(\u001b[32mcell5.sc\u001b[39m:\u001b[32m4\u001b[39m)",
      "  ammonite.$sess.cell5$Helper.foldRight(\u001b[32mcell5.sc\u001b[39m:\u001b[32m4\u001b[39m)",
      "  ammonite.$sess.cell5$Helper.foldRight(\u001b[32mcell5.sc\u001b[39m:\u001b[32m4\u001b[39m)",
      "  ammonite.$sess.cell5$Helper.foldRight(\u001b[32mcell5.sc\u001b[39m:\u001b[32m4\u001b[39m)",
      "  ammonite.$sess.cell5$Helper.foldRight(\u001b[32mcell5.sc\u001b[39m:\u001b[32m4\u001b[39m)",
      "  ammonite.$sess.cell5$Helper.foldRight(\u001b[32mcell5.sc\u001b[39m:\u001b[32m4\u001b[39m)",
      "  ammonite.$sess.cell5$Helper.foldRight(\u001b[32mcell5.sc\u001b[39m:\u001b[32m4\u001b[39m)",
      "  ammonite.$sess.cell5$Helper.foldRight(\u001b[32mcell5.sc\u001b[39m:\u001b[32m4\u001b[39m)",
      "  ammonite.$sess.cell5$Helper.foldRight(\u001b[32mcell5.sc\u001b[39m:\u001b[32m4\u001b[39m)",
      "  ammonite.$sess.cell5$Helper.foldRight(\u001b[32mcell5.sc\u001b[39m:\u001b[32m4\u001b[39m)",
      "  ammonite.$sess.cell5$Helper.foldRight(\u001b[32mcell5.sc\u001b[39m:\u001b[32m4\u001b[39m)",
      "  ammonite.$sess.cell5$Helper.foldRight(\u001b[32mcell5.sc\u001b[39m:\u001b[32m4\u001b[39m)",
      "  ammonite.$sess.cell5$Helper.foldRight(\u001b[32mcell5.sc\u001b[39m:\u001b[32m4\u001b[39m)",
      "  ammonite.$sess.cell5$Helper.foldRight(\u001b[32mcell5.sc\u001b[39m:\u001b[32m4\u001b[39m)",
      "  ammonite.$sess.cell5$Helper.foldRight(\u001b[32mcell5.sc\u001b[39m:\u001b[32m4\u001b[39m)",
      "  ammonite.$sess.cell5$Helper.foldRight(\u001b[32mcell5.sc\u001b[39m:\u001b[32m4\u001b[39m)",
      "  ammonite.$sess.cell5$Helper.foldRight(\u001b[32mcell5.sc\u001b[39m:\u001b[32m4\u001b[39m)",
      "  ammonite.$sess.cell5$Helper.foldRight(\u001b[32mcell5.sc\u001b[39m:\u001b[32m4\u001b[39m)",
      "  ammonite.$sess.cell5$Helper.foldRight(\u001b[32mcell5.sc\u001b[39m:\u001b[32m4\u001b[39m)",
      "  ammonite.$sess.cell5$Helper.foldRight(\u001b[32mcell5.sc\u001b[39m:\u001b[32m4\u001b[39m)",
      "  ammonite.$sess.cell5$Helper.foldRight(\u001b[32mcell5.sc\u001b[39m:\u001b[32m4\u001b[39m)",
      "  ammonite.$sess.cell5$Helper.foldRight(\u001b[32mcell5.sc\u001b[39m:\u001b[32m4\u001b[39m)",
      "  ammonite.$sess.cell5$Helper.foldRight(\u001b[32mcell5.sc\u001b[39m:\u001b[32m4\u001b[39m)",
      "  ammonite.$sess.cell5$Helper.foldRight(\u001b[32mcell5.sc\u001b[39m:\u001b[32m4\u001b[39m)",
      "  ammonite.$sess.cell5$Helper.foldRight(\u001b[32mcell5.sc\u001b[39m:\u001b[32m4\u001b[39m)",
      "  ammonite.$sess.cell5$Helper.foldRight(\u001b[32mcell5.sc\u001b[39m:\u001b[32m4\u001b[39m)",
      "  ammonite.$sess.cell5$Helper.foldRight(\u001b[32mcell5.sc\u001b[39m:\u001b[32m4\u001b[39m)",
      "  ammonite.$sess.cell5$Helper.foldRight(\u001b[32mcell5.sc\u001b[39m:\u001b[32m4\u001b[39m)",
      "  ammonite.$sess.cell5$Helper.foldRight(\u001b[32mcell5.sc\u001b[39m:\u001b[32m4\u001b[39m)",
      "  ammonite.$sess.cell5$Helper.foldRight(\u001b[32mcell5.sc\u001b[39m:\u001b[32m4\u001b[39m)",
      "  ammonite.$sess.cell5$Helper.foldRight(\u001b[32mcell5.sc\u001b[39m:\u001b[32m4\u001b[39m)",
      "  ammonite.$sess.cell5$Helper.foldRight(\u001b[32mcell5.sc\u001b[39m:\u001b[32m4\u001b[39m)",
      "  ammonite.$sess.cell5$Helper.foldRight(\u001b[32mcell5.sc\u001b[39m:\u001b[32m4\u001b[39m)",
      "  ammonite.$sess.cell5$Helper.foldRight(\u001b[32mcell5.sc\u001b[39m:\u001b[32m4\u001b[39m)",
      "  ammonite.$sess.cell5$Helper.foldRight(\u001b[32mcell5.sc\u001b[39m:\u001b[32m4\u001b[39m)",
      "  ammonite.$sess.cell5$Helper.foldRight(\u001b[32mcell5.sc\u001b[39m:\u001b[32m4\u001b[39m)",
      "  ammonite.$sess.cell5$Helper.foldRight(\u001b[32mcell5.sc\u001b[39m:\u001b[32m4\u001b[39m)",
      "  ammonite.$sess.cell5$Helper.foldRight(\u001b[32mcell5.sc\u001b[39m:\u001b[32m4\u001b[39m)",
      "  ammonite.$sess.cell5$Helper.foldRight(\u001b[32mcell5.sc\u001b[39m:\u001b[32m4\u001b[39m)",
      "  ammonite.$sess.cell5$Helper.foldRight(\u001b[32mcell5.sc\u001b[39m:\u001b[32m4\u001b[39m)",
      "  ammonite.$sess.cell5$Helper.foldRight(\u001b[32mcell5.sc\u001b[39m:\u001b[32m4\u001b[39m)",
      "  ammonite.$sess.cell5$Helper.foldRight(\u001b[32mcell5.sc\u001b[39m:\u001b[32m4\u001b[39m)",
      "  ammonite.$sess.cell5$Helper.foldRight(\u001b[32mcell5.sc\u001b[39m:\u001b[32m4\u001b[39m)",
      "  ammonite.$sess.cell5$Helper.foldRight(\u001b[32mcell5.sc\u001b[39m:\u001b[32m4\u001b[39m)",
      "  ammonite.$sess.cell5$Helper.foldRight(\u001b[32mcell5.sc\u001b[39m:\u001b[32m4\u001b[39m)",
      "  ammonite.$sess.cell5$Helper.foldRight(\u001b[32mcell5.sc\u001b[39m:\u001b[32m4\u001b[39m)",
      "  ammonite.$sess.cell5$Helper.foldRight(\u001b[32mcell5.sc\u001b[39m:\u001b[32m4\u001b[39m)",
      "  ammonite.$sess.cell5$Helper.foldRight(\u001b[32mcell5.sc\u001b[39m:\u001b[32m4\u001b[39m)",
      "  ammonite.$sess.cell5$Helper.foldRight(\u001b[32mcell5.sc\u001b[39m:\u001b[32m4\u001b[39m)",
      "  ammonite.$sess.cell5$Helper.foldRight(\u001b[32mcell5.sc\u001b[39m:\u001b[32m4\u001b[39m)",
      "  ammonite.$sess.cell5$Helper.foldRight(\u001b[32mcell5.sc\u001b[39m:\u001b[32m4\u001b[39m)",
      "  ammonite.$sess.cell5$Helper.foldRight(\u001b[32mcell5.sc\u001b[39m:\u001b[32m4\u001b[39m)",
      "  ammonite.$sess.cell5$Helper.foldRight(\u001b[32mcell5.sc\u001b[39m:\u001b[32m4\u001b[39m)",
      "  ammonite.$sess.cell5$Helper.foldRight(\u001b[32mcell5.sc\u001b[39m:\u001b[32m4\u001b[39m)",
      "  ammonite.$sess.cell5$Helper.foldRight(\u001b[32mcell5.sc\u001b[39m:\u001b[32m4\u001b[39m)",
      "  ammonite.$sess.cell5$Helper.foldRight(\u001b[32mcell5.sc\u001b[39m:\u001b[32m4\u001b[39m)",
      "  ammonite.$sess.cell5$Helper.foldRight(\u001b[32mcell5.sc\u001b[39m:\u001b[32m4\u001b[39m)",
      "  ammonite.$sess.cell5$Helper.foldRight(\u001b[32mcell5.sc\u001b[39m:\u001b[32m4\u001b[39m)",
      "  ammonite.$sess.cell5$Helper.foldRight(\u001b[32mcell5.sc\u001b[39m:\u001b[32m4\u001b[39m)",
      "  ammonite.$sess.cell5$Helper.foldRight(\u001b[32mcell5.sc\u001b[39m:\u001b[32m4\u001b[39m)",
      "  ammonite.$sess.cell5$Helper.foldRight(\u001b[32mcell5.sc\u001b[39m:\u001b[32m4\u001b[39m)",
      "  ammonite.$sess.cell5$Helper.foldRight(\u001b[32mcell5.sc\u001b[39m:\u001b[32m4\u001b[39m)",
      "  ammonite.$sess.cell5$Helper.foldRight(\u001b[32mcell5.sc\u001b[39m:\u001b[32m4\u001b[39m)",
      "  ammonite.$sess.cell5$Helper.foldRight(\u001b[32mcell5.sc\u001b[39m:\u001b[32m4\u001b[39m)",
      "  ammonite.$sess.cell5$Helper.foldRight(\u001b[32mcell5.sc\u001b[39m:\u001b[32m4\u001b[39m)",
      "  ammonite.$sess.cell5$Helper.foldRight(\u001b[32mcell5.sc\u001b[39m:\u001b[32m4\u001b[39m)",
      "  ammonite.$sess.cell5$Helper.foldRight(\u001b[32mcell5.sc\u001b[39m:\u001b[32m4\u001b[39m)",
      "  ammonite.$sess.cell5$Helper.foldRight(\u001b[32mcell5.sc\u001b[39m:\u001b[32m4\u001b[39m)",
      "  ammonite.$sess.cell5$Helper.foldRight(\u001b[32mcell5.sc\u001b[39m:\u001b[32m4\u001b[39m)",
      "  ammonite.$sess.cell5$Helper.foldRight(\u001b[32mcell5.sc\u001b[39m:\u001b[32m4\u001b[39m)",
      "  ammonite.$sess.cell5$Helper.foldRight(\u001b[32mcell5.sc\u001b[39m:\u001b[32m4\u001b[39m)",
      "  ammonite.$sess.cell5$Helper.foldRight(\u001b[32mcell5.sc\u001b[39m:\u001b[32m4\u001b[39m)",
      "  ammonite.$sess.cell5$Helper.foldRight(\u001b[32mcell5.sc\u001b[39m:\u001b[32m4\u001b[39m)",
      "  ammonite.$sess.cell5$Helper.foldRight(\u001b[32mcell5.sc\u001b[39m:\u001b[32m4\u001b[39m)",
      "  ammonite.$sess.cell5$Helper.foldRight(\u001b[32mcell5.sc\u001b[39m:\u001b[32m4\u001b[39m)",
      "  ammonite.$sess.cell5$Helper.foldRight(\u001b[32mcell5.sc\u001b[39m:\u001b[32m4\u001b[39m)",
      "  ammonite.$sess.cell5$Helper.foldRight(\u001b[32mcell5.sc\u001b[39m:\u001b[32m4\u001b[39m)",
      "  ammonite.$sess.cell5$Helper.foldRight(\u001b[32mcell5.sc\u001b[39m:\u001b[32m4\u001b[39m)",
      "  ammonite.$sess.cell5$Helper.foldRight(\u001b[32mcell5.sc\u001b[39m:\u001b[32m4\u001b[39m)",
      "  ammonite.$sess.cell5$Helper.foldRight(\u001b[32mcell5.sc\u001b[39m:\u001b[32m4\u001b[39m)",
      "  ammonite.$sess.cell5$Helper.foldRight(\u001b[32mcell5.sc\u001b[39m:\u001b[32m4\u001b[39m)",
      "  ammonite.$sess.cell5$Helper.foldRight(\u001b[32mcell5.sc\u001b[39m:\u001b[32m4\u001b[39m)",
      "  ammonite.$sess.cell5$Helper.foldRight(\u001b[32mcell5.sc\u001b[39m:\u001b[32m4\u001b[39m)",
      "  ammonite.$sess.cell5$Helper.foldRight(\u001b[32mcell5.sc\u001b[39m:\u001b[32m4\u001b[39m)",
      "  ammonite.$sess.cell5$Helper.foldRight(\u001b[32mcell5.sc\u001b[39m:\u001b[32m4\u001b[39m)",
      "  ammonite.$sess.cell5$Helper.foldRight(\u001b[32mcell5.sc\u001b[39m:\u001b[32m4\u001b[39m)",
      "  ammonite.$sess.cell5$Helper.foldRight(\u001b[32mcell5.sc\u001b[39m:\u001b[32m4\u001b[39m)",
      "  ammonite.$sess.cell5$Helper.foldRight(\u001b[32mcell5.sc\u001b[39m:\u001b[32m4\u001b[39m)",
      "  ammonite.$sess.cell5$Helper.foldRight(\u001b[32mcell5.sc\u001b[39m:\u001b[32m4\u001b[39m)",
      "  ammonite.$sess.cell5$Helper.foldRight(\u001b[32mcell5.sc\u001b[39m:\u001b[32m4\u001b[39m)",
      "  ammonite.$sess.cell5$Helper.foldRight(\u001b[32mcell5.sc\u001b[39m:\u001b[32m4\u001b[39m)",
      "  ammonite.$sess.cell5$Helper.foldRight(\u001b[32mcell5.sc\u001b[39m:\u001b[32m4\u001b[39m)",
      "  ammonite.$sess.cell5$Helper.foldRight(\u001b[32mcell5.sc\u001b[39m:\u001b[32m4\u001b[39m)",
      "  ammonite.$sess.cell5$Helper.foldRight(\u001b[32mcell5.sc\u001b[39m:\u001b[32m4\u001b[39m)",
      "  ammonite.$sess.cell5$Helper.foldRight(\u001b[32mcell5.sc\u001b[39m:\u001b[32m4\u001b[39m)",
      "  ammonite.$sess.cell5$Helper.foldRight(\u001b[32mcell5.sc\u001b[39m:\u001b[32m4\u001b[39m)",
      "  ammonite.$sess.cell5$Helper.foldRight(\u001b[32mcell5.sc\u001b[39m:\u001b[32m4\u001b[39m)",
      "  ammonite.$sess.cell5$Helper.foldRight(\u001b[32mcell5.sc\u001b[39m:\u001b[32m4\u001b[39m)",
      "  ammonite.$sess.cell5$Helper.foldRight(\u001b[32mcell5.sc\u001b[39m:\u001b[32m4\u001b[39m)",
      "  ammonite.$sess.cell5$Helper.foldRight(\u001b[32mcell5.sc\u001b[39m:\u001b[32m4\u001b[39m)",
      "  ammonite.$sess.cell5$Helper.foldRight(\u001b[32mcell5.sc\u001b[39m:\u001b[32m4\u001b[39m)",
      "  ammonite.$sess.cell5$Helper.foldRight(\u001b[32mcell5.sc\u001b[39m:\u001b[32m4\u001b[39m)",
      "  ammonite.$sess.cell5$Helper.foldRight(\u001b[32mcell5.sc\u001b[39m:\u001b[32m4\u001b[39m)",
      "  ammonite.$sess.cell5$Helper.foldRight(\u001b[32mcell5.sc\u001b[39m:\u001b[32m4\u001b[39m)",
      "  ammonite.$sess.cell5$Helper.foldRight(\u001b[32mcell5.sc\u001b[39m:\u001b[32m4\u001b[39m)",
      "  ammonite.$sess.cell5$Helper.foldRight(\u001b[32mcell5.sc\u001b[39m:\u001b[32m4\u001b[39m)",
      "  ammonite.$sess.cell5$Helper.foldRight(\u001b[32mcell5.sc\u001b[39m:\u001b[32m4\u001b[39m)",
      "  ammonite.$sess.cell5$Helper.foldRight(\u001b[32mcell5.sc\u001b[39m:\u001b[32m4\u001b[39m)",
      "  ammonite.$sess.cell5$Helper.foldRight(\u001b[32mcell5.sc\u001b[39m:\u001b[32m4\u001b[39m)",
      "  ammonite.$sess.cell5$Helper.foldRight(\u001b[32mcell5.sc\u001b[39m:\u001b[32m4\u001b[39m)",
      "  ammonite.$sess.cell5$Helper.foldRight(\u001b[32mcell5.sc\u001b[39m:\u001b[32m4\u001b[39m)",
      "  ammonite.$sess.cell5$Helper.foldRight(\u001b[32mcell5.sc\u001b[39m:\u001b[32m4\u001b[39m)",
      "  ammonite.$sess.cell5$Helper.foldRight(\u001b[32mcell5.sc\u001b[39m:\u001b[32m4\u001b[39m)",
      "  ammonite.$sess.cell5$Helper.foldRight(\u001b[32mcell5.sc\u001b[39m:\u001b[32m4\u001b[39m)",
      "  ammonite.$sess.cell5$Helper.foldRight(\u001b[32mcell5.sc\u001b[39m:\u001b[32m4\u001b[39m)",
      "  ammonite.$sess.cell5$Helper.foldRight(\u001b[32mcell5.sc\u001b[39m:\u001b[32m4\u001b[39m)",
      "  ammonite.$sess.cell5$Helper.foldRight(\u001b[32mcell5.sc\u001b[39m:\u001b[32m4\u001b[39m)",
      "  ammonite.$sess.cell5$Helper.foldRight(\u001b[32mcell5.sc\u001b[39m:\u001b[32m4\u001b[39m)",
      "  ammonite.$sess.cell5$Helper.foldRight(\u001b[32mcell5.sc\u001b[39m:\u001b[32m4\u001b[39m)",
      "  ammonite.$sess.cell5$Helper.foldRight(\u001b[32mcell5.sc\u001b[39m:\u001b[32m4\u001b[39m)",
      "  ammonite.$sess.cell5$Helper.foldRight(\u001b[32mcell5.sc\u001b[39m:\u001b[32m4\u001b[39m)",
      "  ammonite.$sess.cell5$Helper.foldRight(\u001b[32mcell5.sc\u001b[39m:\u001b[32m4\u001b[39m)",
      "  ammonite.$sess.cell5$Helper.foldRight(\u001b[32mcell5.sc\u001b[39m:\u001b[32m4\u001b[39m)",
      "  ammonite.$sess.cell5$Helper.foldRight(\u001b[32mcell5.sc\u001b[39m:\u001b[32m4\u001b[39m)",
      "  ammonite.$sess.cell5$Helper.foldRight(\u001b[32mcell5.sc\u001b[39m:\u001b[32m4\u001b[39m)",
      "  ammonite.$sess.cell5$Helper.foldRight(\u001b[32mcell5.sc\u001b[39m:\u001b[32m4\u001b[39m)",
      "  ammonite.$sess.cell5$Helper.foldRight(\u001b[32mcell5.sc\u001b[39m:\u001b[32m4\u001b[39m)",
      "  ammonite.$sess.cell5$Helper.foldRight(\u001b[32mcell5.sc\u001b[39m:\u001b[32m4\u001b[39m)",
      "  ammonite.$sess.cell5$Helper.foldRight(\u001b[32mcell5.sc\u001b[39m:\u001b[32m4\u001b[39m)",
      "  ammonite.$sess.cell5$Helper.foldRight(\u001b[32mcell5.sc\u001b[39m:\u001b[32m4\u001b[39m)",
      "  ammonite.$sess.cell5$Helper.foldRight(\u001b[32mcell5.sc\u001b[39m:\u001b[32m4\u001b[39m)",
      "  ammonite.$sess.cell5$Helper.foldRight(\u001b[32mcell5.sc\u001b[39m:\u001b[32m4\u001b[39m)",
      "  ammonite.$sess.cell5$Helper.foldRight(\u001b[32mcell5.sc\u001b[39m:\u001b[32m4\u001b[39m)",
      "  ammonite.$sess.cell5$Helper.foldRight(\u001b[32mcell5.sc\u001b[39m:\u001b[32m4\u001b[39m)",
      "  ammonite.$sess.cell5$Helper.foldRight(\u001b[32mcell5.sc\u001b[39m:\u001b[32m4\u001b[39m)",
      "  ammonite.$sess.cell5$Helper.foldRight(\u001b[32mcell5.sc\u001b[39m:\u001b[32m4\u001b[39m)",
      "  ammonite.$sess.cell5$Helper.foldRight(\u001b[32mcell5.sc\u001b[39m:\u001b[32m4\u001b[39m)",
      "  ammonite.$sess.cell5$Helper.foldRight(\u001b[32mcell5.sc\u001b[39m:\u001b[32m4\u001b[39m)",
      "  ammonite.$sess.cell5$Helper.foldRight(\u001b[32mcell5.sc\u001b[39m:\u001b[32m4\u001b[39m)",
      "  ammonite.$sess.cell5$Helper.foldRight(\u001b[32mcell5.sc\u001b[39m:\u001b[32m4\u001b[39m)",
      "  ammonite.$sess.cell5$Helper.foldRight(\u001b[32mcell5.sc\u001b[39m:\u001b[32m4\u001b[39m)",
      "  ammonite.$sess.cell5$Helper.foldRight(\u001b[32mcell5.sc\u001b[39m:\u001b[32m4\u001b[39m)",
      "  ammonite.$sess.cell5$Helper.foldRight(\u001b[32mcell5.sc\u001b[39m:\u001b[32m4\u001b[39m)",
      "  ammonite.$sess.cell5$Helper.foldRight(\u001b[32mcell5.sc\u001b[39m:\u001b[32m4\u001b[39m)",
      "  ammonite.$sess.cell5$Helper.foldRight(\u001b[32mcell5.sc\u001b[39m:\u001b[32m4\u001b[39m)",
      "  ammonite.$sess.cell5$Helper.foldRight(\u001b[32mcell5.sc\u001b[39m:\u001b[32m4\u001b[39m)",
      "  ammonite.$sess.cell5$Helper.foldRight(\u001b[32mcell5.sc\u001b[39m:\u001b[32m4\u001b[39m)",
      "  ammonite.$sess.cell5$Helper.foldRight(\u001b[32mcell5.sc\u001b[39m:\u001b[32m4\u001b[39m)",
      "  ammonite.$sess.cell5$Helper.foldRight(\u001b[32mcell5.sc\u001b[39m:\u001b[32m4\u001b[39m)",
      "  ammonite.$sess.cell5$Helper.foldRight(\u001b[32mcell5.sc\u001b[39m:\u001b[32m4\u001b[39m)",
      "  ammonite.$sess.cell5$Helper.foldRight(\u001b[32mcell5.sc\u001b[39m:\u001b[32m4\u001b[39m)",
      "  ammonite.$sess.cell5$Helper.foldRight(\u001b[32mcell5.sc\u001b[39m:\u001b[32m4\u001b[39m)",
      "  ammonite.$sess.cell5$Helper.foldRight(\u001b[32mcell5.sc\u001b[39m:\u001b[32m4\u001b[39m)",
      "  ammonite.$sess.cell5$Helper.foldRight(\u001b[32mcell5.sc\u001b[39m:\u001b[32m4\u001b[39m)",
      "  ammonite.$sess.cell5$Helper.foldRight(\u001b[32mcell5.sc\u001b[39m:\u001b[32m4\u001b[39m)",
      "  ammonite.$sess.cell5$Helper.foldRight(\u001b[32mcell5.sc\u001b[39m:\u001b[32m4\u001b[39m)",
      "  ammonite.$sess.cell5$Helper.foldRight(\u001b[32mcell5.sc\u001b[39m:\u001b[32m4\u001b[39m)",
      "  ammonite.$sess.cell5$Helper.foldRight(\u001b[32mcell5.sc\u001b[39m:\u001b[32m4\u001b[39m)",
      "  ammonite.$sess.cell5$Helper.foldRight(\u001b[32mcell5.sc\u001b[39m:\u001b[32m4\u001b[39m)",
      "  ammonite.$sess.cell5$Helper.foldRight(\u001b[32mcell5.sc\u001b[39m:\u001b[32m4\u001b[39m)",
      "  ammonite.$sess.cell5$Helper.foldRight(\u001b[32mcell5.sc\u001b[39m:\u001b[32m4\u001b[39m)",
      "  ammonite.$sess.cell5$Helper.foldRight(\u001b[32mcell5.sc\u001b[39m:\u001b[32m4\u001b[39m)",
      "  ammonite.$sess.cell5$Helper.foldRight(\u001b[32mcell5.sc\u001b[39m:\u001b[32m4\u001b[39m)",
      "  ammonite.$sess.cell5$Helper.foldRight(\u001b[32mcell5.sc\u001b[39m:\u001b[32m4\u001b[39m)",
      "  ammonite.$sess.cell5$Helper.foldRight(\u001b[32mcell5.sc\u001b[39m:\u001b[32m4\u001b[39m)",
      "  ammonite.$sess.cell5$Helper.foldRight(\u001b[32mcell5.sc\u001b[39m:\u001b[32m4\u001b[39m)",
      "  ammonite.$sess.cell5$Helper.foldRight(\u001b[32mcell5.sc\u001b[39m:\u001b[32m4\u001b[39m)",
      "  ammonite.$sess.cell5$Helper.foldRight(\u001b[32mcell5.sc\u001b[39m:\u001b[32m4\u001b[39m)",
      "  ammonite.$sess.cell5$Helper.foldRight(\u001b[32mcell5.sc\u001b[39m:\u001b[32m4\u001b[39m)",
      "  ammonite.$sess.cell5$Helper.foldRight(\u001b[32mcell5.sc\u001b[39m:\u001b[32m4\u001b[39m)",
      "  ammonite.$sess.cell5$Helper.foldRight(\u001b[32mcell5.sc\u001b[39m:\u001b[32m4\u001b[39m)",
      "  ammonite.$sess.cell5$Helper.foldRight(\u001b[32mcell5.sc\u001b[39m:\u001b[32m4\u001b[39m)",
      "  ammonite.$sess.cell5$Helper.foldRight(\u001b[32mcell5.sc\u001b[39m:\u001b[32m4\u001b[39m)",
      "  ammonite.$sess.cell5$Helper.foldRight(\u001b[32mcell5.sc\u001b[39m:\u001b[32m4\u001b[39m)",
      "  ammonite.$sess.cell5$Helper.foldRight(\u001b[32mcell5.sc\u001b[39m:\u001b[32m4\u001b[39m)",
      "  ammonite.$sess.cell5$Helper.foldRight(\u001b[32mcell5.sc\u001b[39m:\u001b[32m4\u001b[39m)",
      "  ammonite.$sess.cell5$Helper.foldRight(\u001b[32mcell5.sc\u001b[39m:\u001b[32m4\u001b[39m)",
      "  ammonite.$sess.cell5$Helper.foldRight(\u001b[32mcell5.sc\u001b[39m:\u001b[32m4\u001b[39m)",
      "  ammonite.$sess.cell5$Helper.foldRight(\u001b[32mcell5.sc\u001b[39m:\u001b[32m4\u001b[39m)",
      "  ammonite.$sess.cell5$Helper.foldRight(\u001b[32mcell5.sc\u001b[39m:\u001b[32m4\u001b[39m)",
      "  ammonite.$sess.cell5$Helper.foldRight(\u001b[32mcell5.sc\u001b[39m:\u001b[32m4\u001b[39m)",
      "  ammonite.$sess.cell5$Helper.foldRight(\u001b[32mcell5.sc\u001b[39m:\u001b[32m4\u001b[39m)",
      "  ammonite.$sess.cell5$Helper.foldRight(\u001b[32mcell5.sc\u001b[39m:\u001b[32m4\u001b[39m)",
      "  ammonite.$sess.cell5$Helper.foldRight(\u001b[32mcell5.sc\u001b[39m:\u001b[32m4\u001b[39m)",
      "  ammonite.$sess.cell5$Helper.foldRight(\u001b[32mcell5.sc\u001b[39m:\u001b[32m4\u001b[39m)",
      "  ammonite.$sess.cell5$Helper.foldRight(\u001b[32mcell5.sc\u001b[39m:\u001b[32m4\u001b[39m)",
      "  ammonite.$sess.cell5$Helper.foldRight(\u001b[32mcell5.sc\u001b[39m:\u001b[32m4\u001b[39m)",
      "  ammonite.$sess.cell5$Helper.foldRight(\u001b[32mcell5.sc\u001b[39m:\u001b[32m4\u001b[39m)",
      "  ammonite.$sess.cell5$Helper.foldRight(\u001b[32mcell5.sc\u001b[39m:\u001b[32m4\u001b[39m)",
      "  ammonite.$sess.cell5$Helper.foldRight(\u001b[32mcell5.sc\u001b[39m:\u001b[32m4\u001b[39m)",
      "  ammonite.$sess.cell5$Helper.foldRight(\u001b[32mcell5.sc\u001b[39m:\u001b[32m4\u001b[39m)",
      "  ammonite.$sess.cell5$Helper.foldRight(\u001b[32mcell5.sc\u001b[39m:\u001b[32m4\u001b[39m)",
      "  ammonite.$sess.cell5$Helper.foldRight(\u001b[32mcell5.sc\u001b[39m:\u001b[32m4\u001b[39m)",
      "  ammonite.$sess.cell5$Helper.foldRight(\u001b[32mcell5.sc\u001b[39m:\u001b[32m4\u001b[39m)",
      "  ammonite.$sess.cell5$Helper.foldRight(\u001b[32mcell5.sc\u001b[39m:\u001b[32m4\u001b[39m)",
      "  ammonite.$sess.cell5$Helper.foldRight(\u001b[32mcell5.sc\u001b[39m:\u001b[32m4\u001b[39m)",
      "  ammonite.$sess.cell5$Helper.foldRight(\u001b[32mcell5.sc\u001b[39m:\u001b[32m4\u001b[39m)",
      "  ammonite.$sess.cell5$Helper.foldRight(\u001b[32mcell5.sc\u001b[39m:\u001b[32m4\u001b[39m)",
      "  ammonite.$sess.cell5$Helper.foldRight(\u001b[32mcell5.sc\u001b[39m:\u001b[32m4\u001b[39m)",
      "  ammonite.$sess.cell5$Helper.foldRight(\u001b[32mcell5.sc\u001b[39m:\u001b[32m4\u001b[39m)",
      "  ammonite.$sess.cell5$Helper.foldRight(\u001b[32mcell5.sc\u001b[39m:\u001b[32m4\u001b[39m)",
      "  ammonite.$sess.cell5$Helper.foldRight(\u001b[32mcell5.sc\u001b[39m:\u001b[32m4\u001b[39m)",
      "  ammonite.$sess.cell5$Helper.foldRight(\u001b[32mcell5.sc\u001b[39m:\u001b[32m4\u001b[39m)",
      "  ammonite.$sess.cell5$Helper.foldRight(\u001b[32mcell5.sc\u001b[39m:\u001b[32m4\u001b[39m)",
      "  ammonite.$sess.cell5$Helper.foldRight(\u001b[32mcell5.sc\u001b[39m:\u001b[32m4\u001b[39m)",
      "  ammonite.$sess.cell5$Helper.foldRight(\u001b[32mcell5.sc\u001b[39m:\u001b[32m4\u001b[39m)",
      "  ammonite.$sess.cell5$Helper.foldRight(\u001b[32mcell5.sc\u001b[39m:\u001b[32m4\u001b[39m)",
      "  ammonite.$sess.cell5$Helper.foldRight(\u001b[32mcell5.sc\u001b[39m:\u001b[32m4\u001b[39m)",
      "  ammonite.$sess.cell5$Helper.foldRight(\u001b[32mcell5.sc\u001b[39m:\u001b[32m4\u001b[39m)",
      "  ammonite.$sess.cell5$Helper.foldRight(\u001b[32mcell5.sc\u001b[39m:\u001b[32m4\u001b[39m)",
      "  ammonite.$sess.cell5$Helper.foldRight(\u001b[32mcell5.sc\u001b[39m:\u001b[32m4\u001b[39m)",
      "  ammonite.$sess.cell5$Helper.foldRight(\u001b[32mcell5.sc\u001b[39m:\u001b[32m4\u001b[39m)",
      "  ammonite.$sess.cell5$Helper.foldRight(\u001b[32mcell5.sc\u001b[39m:\u001b[32m4\u001b[39m)",
      "  ammonite.$sess.cell5$Helper.foldRight(\u001b[32mcell5.sc\u001b[39m:\u001b[32m4\u001b[39m)",
      "  ammonite.$sess.cell5$Helper.foldRight(\u001b[32mcell5.sc\u001b[39m:\u001b[32m4\u001b[39m)",
      "  ammonite.$sess.cell5$Helper.foldRight(\u001b[32mcell5.sc\u001b[39m:\u001b[32m4\u001b[39m)",
      "  ammonite.$sess.cell5$Helper.foldRight(\u001b[32mcell5.sc\u001b[39m:\u001b[32m4\u001b[39m)",
      "  ammonite.$sess.cell5$Helper.foldRight(\u001b[32mcell5.sc\u001b[39m:\u001b[32m4\u001b[39m)",
      "  ammonite.$sess.cell5$Helper.foldRight(\u001b[32mcell5.sc\u001b[39m:\u001b[32m4\u001b[39m)",
      "  ammonite.$sess.cell5$Helper.foldRight(\u001b[32mcell5.sc\u001b[39m:\u001b[32m4\u001b[39m)",
      "  ammonite.$sess.cell5$Helper.foldRight(\u001b[32mcell5.sc\u001b[39m:\u001b[32m4\u001b[39m)",
      "  ammonite.$sess.cell5$Helper.foldRight(\u001b[32mcell5.sc\u001b[39m:\u001b[32m4\u001b[39m)",
      "  ammonite.$sess.cell5$Helper.foldRight(\u001b[32mcell5.sc\u001b[39m:\u001b[32m4\u001b[39m)",
      "  ammonite.$sess.cell5$Helper.foldRight(\u001b[32mcell5.sc\u001b[39m:\u001b[32m4\u001b[39m)",
      "  ammonite.$sess.cell5$Helper.foldRight(\u001b[32mcell5.sc\u001b[39m:\u001b[32m4\u001b[39m)",
      "  ammonite.$sess.cell5$Helper.foldRight(\u001b[32mcell5.sc\u001b[39m:\u001b[32m4\u001b[39m)",
      "  ammonite.$sess.cell5$Helper.foldRight(\u001b[32mcell5.sc\u001b[39m:\u001b[32m4\u001b[39m)",
      "  ammonite.$sess.cell5$Helper.foldRight(\u001b[32mcell5.sc\u001b[39m:\u001b[32m4\u001b[39m)",
      "  ammonite.$sess.cell5$Helper.foldRight(\u001b[32mcell5.sc\u001b[39m:\u001b[32m4\u001b[39m)",
      "  ammonite.$sess.cell5$Helper.foldRight(\u001b[32mcell5.sc\u001b[39m:\u001b[32m4\u001b[39m)",
      "  ammonite.$sess.cell5$Helper.foldRight(\u001b[32mcell5.sc\u001b[39m:\u001b[32m4\u001b[39m)",
      "  ammonite.$sess.cell5$Helper.foldRight(\u001b[32mcell5.sc\u001b[39m:\u001b[32m4\u001b[39m)",
      "  ammonite.$sess.cell5$Helper.foldRight(\u001b[32mcell5.sc\u001b[39m:\u001b[32m4\u001b[39m)",
      "  ammonite.$sess.cell5$Helper.foldRight(\u001b[32mcell5.sc\u001b[39m:\u001b[32m4\u001b[39m)",
      "  ammonite.$sess.cell5$Helper.foldRight(\u001b[32mcell5.sc\u001b[39m:\u001b[32m4\u001b[39m)",
      "  ammonite.$sess.cell5$Helper.foldRight(\u001b[32mcell5.sc\u001b[39m:\u001b[32m4\u001b[39m)",
      "  ammonite.$sess.cell5$Helper.foldRight(\u001b[32mcell5.sc\u001b[39m:\u001b[32m4\u001b[39m)",
      "  ammonite.$sess.cell5$Helper.foldRight(\u001b[32mcell5.sc\u001b[39m:\u001b[32m4\u001b[39m)",
      "  ammonite.$sess.cell5$Helper.foldRight(\u001b[32mcell5.sc\u001b[39m:\u001b[32m4\u001b[39m)",
      "  ammonite.$sess.cell5$Helper.foldRight(\u001b[32mcell5.sc\u001b[39m:\u001b[32m4\u001b[39m)",
      "  ammonite.$sess.cell5$Helper.foldRight(\u001b[32mcell5.sc\u001b[39m:\u001b[32m4\u001b[39m)",
      "  ammonite.$sess.cell5$Helper.foldRight(\u001b[32mcell5.sc\u001b[39m:\u001b[32m4\u001b[39m)",
      "  ammonite.$sess.cell5$Helper.foldRight(\u001b[32mcell5.sc\u001b[39m:\u001b[32m4\u001b[39m)",
      "  ammonite.$sess.cell5$Helper.foldRight(\u001b[32mcell5.sc\u001b[39m:\u001b[32m4\u001b[39m)",
      "  ammonite.$sess.cell5$Helper.foldRight(\u001b[32mcell5.sc\u001b[39m:\u001b[32m4\u001b[39m)",
      "  ammonite.$sess.cell5$Helper.foldRight(\u001b[32mcell5.sc\u001b[39m:\u001b[32m4\u001b[39m)",
      "  ammonite.$sess.cell5$Helper.foldRight(\u001b[32mcell5.sc\u001b[39m:\u001b[32m4\u001b[39m)",
      "  ammonite.$sess.cell5$Helper.foldRight(\u001b[32mcell5.sc\u001b[39m:\u001b[32m4\u001b[39m)",
      "  ammonite.$sess.cell5$Helper.foldRight(\u001b[32mcell5.sc\u001b[39m:\u001b[32m4\u001b[39m)",
      "  ammonite.$sess.cell5$Helper.foldRight(\u001b[32mcell5.sc\u001b[39m:\u001b[32m4\u001b[39m)",
      "  ammonite.$sess.cell5$Helper.foldRight(\u001b[32mcell5.sc\u001b[39m:\u001b[32m4\u001b[39m)",
      "  ammonite.$sess.cell5$Helper.foldRight(\u001b[32mcell5.sc\u001b[39m:\u001b[32m4\u001b[39m)",
      "  ammonite.$sess.cell5$Helper.foldRight(\u001b[32mcell5.sc\u001b[39m:\u001b[32m4\u001b[39m)",
      "  ammonite.$sess.cell5$Helper.foldRight(\u001b[32mcell5.sc\u001b[39m:\u001b[32m4\u001b[39m)",
      "  ammonite.$sess.cell5$Helper.foldRight(\u001b[32mcell5.sc\u001b[39m:\u001b[32m4\u001b[39m)",
      "  ammonite.$sess.cell5$Helper.foldRight(\u001b[32mcell5.sc\u001b[39m:\u001b[32m4\u001b[39m)",
      "  ammonite.$sess.cell5$Helper.foldRight(\u001b[32mcell5.sc\u001b[39m:\u001b[32m4\u001b[39m)",
      "  ammonite.$sess.cell5$Helper.foldRight(\u001b[32mcell5.sc\u001b[39m:\u001b[32m4\u001b[39m)",
      "  ammonite.$sess.cell5$Helper.foldRight(\u001b[32mcell5.sc\u001b[39m:\u001b[32m4\u001b[39m)",
      "  ammonite.$sess.cell5$Helper.foldRight(\u001b[32mcell5.sc\u001b[39m:\u001b[32m4\u001b[39m)",
      "  ammonite.$sess.cell5$Helper.foldRight(\u001b[32mcell5.sc\u001b[39m:\u001b[32m4\u001b[39m)",
      "  ammonite.$sess.cell5$Helper.foldRight(\u001b[32mcell5.sc\u001b[39m:\u001b[32m4\u001b[39m)",
      "  ammonite.$sess.cell5$Helper.foldRight(\u001b[32mcell5.sc\u001b[39m:\u001b[32m4\u001b[39m)",
      "  ammonite.$sess.cell5$Helper.foldRight(\u001b[32mcell5.sc\u001b[39m:\u001b[32m4\u001b[39m)",
      "  ammonite.$sess.cell5$Helper.foldRight(\u001b[32mcell5.sc\u001b[39m:\u001b[32m4\u001b[39m)",
      "  ammonite.$sess.cell5$Helper.foldRight(\u001b[32mcell5.sc\u001b[39m:\u001b[32m4\u001b[39m)",
      "  ammonite.$sess.cell5$Helper.foldRight(\u001b[32mcell5.sc\u001b[39m:\u001b[32m4\u001b[39m)",
      "  ammonite.$sess.cell5$Helper.foldRight(\u001b[32mcell5.sc\u001b[39m:\u001b[32m4\u001b[39m)",
      "  ammonite.$sess.cell5$Helper.foldRight(\u001b[32mcell5.sc\u001b[39m:\u001b[32m4\u001b[39m)",
      "  ammonite.$sess.cell5$Helper.foldRight(\u001b[32mcell5.sc\u001b[39m:\u001b[32m4\u001b[39m)",
      "  ammonite.$sess.cell5$Helper.foldRight(\u001b[32mcell5.sc\u001b[39m:\u001b[32m4\u001b[39m)",
      "  ammonite.$sess.cell5$Helper.foldRight(\u001b[32mcell5.sc\u001b[39m:\u001b[32m4\u001b[39m)",
      "  ammonite.$sess.cell5$Helper.foldRight(\u001b[32mcell5.sc\u001b[39m:\u001b[32m4\u001b[39m)",
      "  ammonite.$sess.cell5$Helper.foldRight(\u001b[32mcell5.sc\u001b[39m:\u001b[32m4\u001b[39m)",
      "  ammonite.$sess.cell5$Helper.foldRight(\u001b[32mcell5.sc\u001b[39m:\u001b[32m4\u001b[39m)",
      "  ammonite.$sess.cell5$Helper.foldRight(\u001b[32mcell5.sc\u001b[39m:\u001b[32m4\u001b[39m)",
      "  ammonite.$sess.cell5$Helper.foldRight(\u001b[32mcell5.sc\u001b[39m:\u001b[32m4\u001b[39m)",
      "  ammonite.$sess.cell5$Helper.foldRight(\u001b[32mcell5.sc\u001b[39m:\u001b[32m4\u001b[39m)",
      "  ammonite.$sess.cell5$Helper.foldRight(\u001b[32mcell5.sc\u001b[39m:\u001b[32m4\u001b[39m)",
      "  ammonite.$sess.cell5$Helper.foldRight(\u001b[32mcell5.sc\u001b[39m:\u001b[32m4\u001b[39m)",
      "  ammonite.$sess.cell5$Helper.foldRight(\u001b[32mcell5.sc\u001b[39m:\u001b[32m4\u001b[39m)",
      "  ammonite.$sess.cell5$Helper.foldRight(\u001b[32mcell5.sc\u001b[39m:\u001b[32m4\u001b[39m)",
      "  ammonite.$sess.cell5$Helper.foldRight(\u001b[32mcell5.sc\u001b[39m:\u001b[32m4\u001b[39m)",
      "  ammonite.$sess.cell5$Helper.foldRight(\u001b[32mcell5.sc\u001b[39m:\u001b[32m4\u001b[39m)",
      "  ammonite.$sess.cell5$Helper.foldRight(\u001b[32mcell5.sc\u001b[39m:\u001b[32m4\u001b[39m)",
      "  ammonite.$sess.cell5$Helper.foldRight(\u001b[32mcell5.sc\u001b[39m:\u001b[32m4\u001b[39m)",
      "  ammonite.$sess.cell5$Helper.foldRight(\u001b[32mcell5.sc\u001b[39m:\u001b[32m4\u001b[39m)",
      "  ammonite.$sess.cell5$Helper.foldRight(\u001b[32mcell5.sc\u001b[39m:\u001b[32m4\u001b[39m)",
      "  ammonite.$sess.cell5$Helper.foldRight(\u001b[32mcell5.sc\u001b[39m:\u001b[32m4\u001b[39m)",
      "  ammonite.$sess.cell5$Helper.foldRight(\u001b[32mcell5.sc\u001b[39m:\u001b[32m4\u001b[39m)",
      "  ammonite.$sess.cell5$Helper.foldRight(\u001b[32mcell5.sc\u001b[39m:\u001b[32m4\u001b[39m)",
      "  ammonite.$sess.cell5$Helper.foldRight(\u001b[32mcell5.sc\u001b[39m:\u001b[32m4\u001b[39m)",
      "  ammonite.$sess.cell5$Helper.foldRight(\u001b[32mcell5.sc\u001b[39m:\u001b[32m4\u001b[39m)",
      "  ammonite.$sess.cell5$Helper.foldRight(\u001b[32mcell5.sc\u001b[39m:\u001b[32m4\u001b[39m)",
      "  ammonite.$sess.cell5$Helper.foldRight(\u001b[32mcell5.sc\u001b[39m:\u001b[32m4\u001b[39m)",
      "  ammonite.$sess.cell5$Helper.foldRight(\u001b[32mcell5.sc\u001b[39m:\u001b[32m4\u001b[39m)",
      "  ammonite.$sess.cell5$Helper.foldRight(\u001b[32mcell5.sc\u001b[39m:\u001b[32m4\u001b[39m)",
      "  ammonite.$sess.cell5$Helper.foldRight(\u001b[32mcell5.sc\u001b[39m:\u001b[32m4\u001b[39m)",
      "  ammonite.$sess.cell5$Helper.foldRight(\u001b[32mcell5.sc\u001b[39m:\u001b[32m4\u001b[39m)",
      "  ammonite.$sess.cell5$Helper.foldRight(\u001b[32mcell5.sc\u001b[39m:\u001b[32m4\u001b[39m)",
      "  ammonite.$sess.cell5$Helper.foldRight(\u001b[32mcell5.sc\u001b[39m:\u001b[32m4\u001b[39m)",
      "  ammonite.$sess.cell5$Helper.foldRight(\u001b[32mcell5.sc\u001b[39m:\u001b[32m4\u001b[39m)",
      "  ammonite.$sess.cell5$Helper.foldRight(\u001b[32mcell5.sc\u001b[39m:\u001b[32m4\u001b[39m)",
      "  ammonite.$sess.cell5$Helper.foldRight(\u001b[32mcell5.sc\u001b[39m:\u001b[32m4\u001b[39m)",
      "  ammonite.$sess.cell5$Helper.foldRight(\u001b[32mcell5.sc\u001b[39m:\u001b[32m4\u001b[39m)",
      "  ammonite.$sess.cell5$Helper.foldRight(\u001b[32mcell5.sc\u001b[39m:\u001b[32m4\u001b[39m)",
      "  ammonite.$sess.cell5$Helper.foldRight(\u001b[32mcell5.sc\u001b[39m:\u001b[32m4\u001b[39m)",
      "  ammonite.$sess.cell5$Helper.foldRight(\u001b[32mcell5.sc\u001b[39m:\u001b[32m4\u001b[39m)",
      "  ammonite.$sess.cell5$Helper.foldRight(\u001b[32mcell5.sc\u001b[39m:\u001b[32m4\u001b[39m)",
      "  ammonite.$sess.cell5$Helper.foldRight(\u001b[32mcell5.sc\u001b[39m:\u001b[32m4\u001b[39m)",
      "  ammonite.$sess.cell5$Helper.foldRight(\u001b[32mcell5.sc\u001b[39m:\u001b[32m4\u001b[39m)",
      "  ammonite.$sess.cell5$Helper.foldRight(\u001b[32mcell5.sc\u001b[39m:\u001b[32m4\u001b[39m)",
      "  ammonite.$sess.cell5$Helper.foldRight(\u001b[32mcell5.sc\u001b[39m:\u001b[32m4\u001b[39m)",
      "  ammonite.$sess.cell5$Helper.foldRight(\u001b[32mcell5.sc\u001b[39m:\u001b[32m4\u001b[39m)",
      "  ammonite.$sess.cell5$Helper.foldRight(\u001b[32mcell5.sc\u001b[39m:\u001b[32m4\u001b[39m)",
      "  ammonite.$sess.cell5$Helper.foldRight(\u001b[32mcell5.sc\u001b[39m:\u001b[32m4\u001b[39m)",
      "  ammonite.$sess.cell5$Helper.foldRight(\u001b[32mcell5.sc\u001b[39m:\u001b[32m4\u001b[39m)",
      "  ammonite.$sess.cell5$Helper.foldRight(\u001b[32mcell5.sc\u001b[39m:\u001b[32m4\u001b[39m)",
      "  ammonite.$sess.cell5$Helper.foldRight(\u001b[32mcell5.sc\u001b[39m:\u001b[32m4\u001b[39m)",
      "  ammonite.$sess.cell5$Helper.foldRight(\u001b[32mcell5.sc\u001b[39m:\u001b[32m4\u001b[39m)",
      "  ammonite.$sess.cell5$Helper.foldRight(\u001b[32mcell5.sc\u001b[39m:\u001b[32m4\u001b[39m)",
      "  ammonite.$sess.cell5$Helper.foldRight(\u001b[32mcell5.sc\u001b[39m:\u001b[32m4\u001b[39m)",
      "  ammonite.$sess.cell5$Helper.foldRight(\u001b[32mcell5.sc\u001b[39m:\u001b[32m4\u001b[39m)",
      "  ammonite.$sess.cell5$Helper.foldRight(\u001b[32mcell5.sc\u001b[39m:\u001b[32m4\u001b[39m)",
      "  ammonite.$sess.cell5$Helper.foldRight(\u001b[32mcell5.sc\u001b[39m:\u001b[32m4\u001b[39m)",
      "  ammonite.$sess.cell5$Helper.foldRight(\u001b[32mcell5.sc\u001b[39m:\u001b[32m4\u001b[39m)",
      "  ammonite.$sess.cell5$Helper.foldRight(\u001b[32mcell5.sc\u001b[39m:\u001b[32m4\u001b[39m)",
      "  ammonite.$sess.cell5$Helper.foldRight(\u001b[32mcell5.sc\u001b[39m:\u001b[32m4\u001b[39m)",
      "  ammonite.$sess.cell5$Helper.foldRight(\u001b[32mcell5.sc\u001b[39m:\u001b[32m4\u001b[39m)",
      "  ammonite.$sess.cell5$Helper.foldRight(\u001b[32mcell5.sc\u001b[39m:\u001b[32m4\u001b[39m)",
      "  ammonite.$sess.cell5$Helper.foldRight(\u001b[32mcell5.sc\u001b[39m:\u001b[32m4\u001b[39m)",
      "  ammonite.$sess.cell5$Helper.foldRight(\u001b[32mcell5.sc\u001b[39m:\u001b[32m4\u001b[39m)",
      "  ammonite.$sess.cell5$Helper.foldRight(\u001b[32mcell5.sc\u001b[39m:\u001b[32m4\u001b[39m)",
      "  ammonite.$sess.cell5$Helper.foldRight(\u001b[32mcell5.sc\u001b[39m:\u001b[32m4\u001b[39m)",
      "  ammonite.$sess.cell5$Helper.foldRight(\u001b[32mcell5.sc\u001b[39m:\u001b[32m4\u001b[39m)",
      "  ammonite.$sess.cell5$Helper.foldRight(\u001b[32mcell5.sc\u001b[39m:\u001b[32m4\u001b[39m)",
      "  ammonite.$sess.cell5$Helper.foldRight(\u001b[32mcell5.sc\u001b[39m:\u001b[32m4\u001b[39m)",
      "  ammonite.$sess.cell5$Helper.foldRight(\u001b[32mcell5.sc\u001b[39m:\u001b[32m4\u001b[39m)",
      "  ammonite.$sess.cell5$Helper.foldRight(\u001b[32mcell5.sc\u001b[39m:\u001b[32m4\u001b[39m)",
      "  ammonite.$sess.cell5$Helper.foldRight(\u001b[32mcell5.sc\u001b[39m:\u001b[32m4\u001b[39m)",
      "  ammonite.$sess.cell5$Helper.foldRight(\u001b[32mcell5.sc\u001b[39m:\u001b[32m4\u001b[39m)",
      "  ammonite.$sess.cell5$Helper.foldRight(\u001b[32mcell5.sc\u001b[39m:\u001b[32m4\u001b[39m)",
      "  ammonite.$sess.cell5$Helper.foldRight(\u001b[32mcell5.sc\u001b[39m:\u001b[32m4\u001b[39m)",
      "  ammonite.$sess.cell5$Helper.foldRight(\u001b[32mcell5.sc\u001b[39m:\u001b[32m4\u001b[39m)",
      "  ammonite.$sess.cell5$Helper.foldRight(\u001b[32mcell5.sc\u001b[39m:\u001b[32m4\u001b[39m)",
      "  ammonite.$sess.cell5$Helper.foldRight(\u001b[32mcell5.sc\u001b[39m:\u001b[32m4\u001b[39m)",
      "  ammonite.$sess.cell5$Helper.foldRight(\u001b[32mcell5.sc\u001b[39m:\u001b[32m4\u001b[39m)",
      "  ammonite.$sess.cell5$Helper.foldRight(\u001b[32mcell5.sc\u001b[39m:\u001b[32m4\u001b[39m)",
      "  ammonite.$sess.cell5$Helper.foldRight(\u001b[32mcell5.sc\u001b[39m:\u001b[32m4\u001b[39m)",
      "  ammonite.$sess.cell5$Helper.foldRight(\u001b[32mcell5.sc\u001b[39m:\u001b[32m4\u001b[39m)",
      "  ammonite.$sess.cell5$Helper.foldRight(\u001b[32mcell5.sc\u001b[39m:\u001b[32m4\u001b[39m)",
      "  ammonite.$sess.cell5$Helper.foldRight(\u001b[32mcell5.sc\u001b[39m:\u001b[32m4\u001b[39m)",
      "  ammonite.$sess.cell5$Helper.foldRight(\u001b[32mcell5.sc\u001b[39m:\u001b[32m4\u001b[39m)",
      "  ammonite.$sess.cell5$Helper.foldRight(\u001b[32mcell5.sc\u001b[39m:\u001b[32m4\u001b[39m)",
      "  ammonite.$sess.cell5$Helper.foldRight(\u001b[32mcell5.sc\u001b[39m:\u001b[32m4\u001b[39m)",
      "  ammonite.$sess.cell5$Helper.foldRight(\u001b[32mcell5.sc\u001b[39m:\u001b[32m4\u001b[39m)",
      "  ammonite.$sess.cell5$Helper.foldRight(\u001b[32mcell5.sc\u001b[39m:\u001b[32m4\u001b[39m)",
      "  ammonite.$sess.cell5$Helper.foldRight(\u001b[32mcell5.sc\u001b[39m:\u001b[32m4\u001b[39m)",
      "  ammonite.$sess.cell5$Helper.foldRight(\u001b[32mcell5.sc\u001b[39m:\u001b[32m4\u001b[39m)",
      "  ammonite.$sess.cell5$Helper.foldRight(\u001b[32mcell5.sc\u001b[39m:\u001b[32m4\u001b[39m)",
      "  ammonite.$sess.cell5$Helper.foldRight(\u001b[32mcell5.sc\u001b[39m:\u001b[32m4\u001b[39m)",
      "  ammonite.$sess.cell5$Helper.foldRight(\u001b[32mcell5.sc\u001b[39m:\u001b[32m4\u001b[39m)",
      "  ammonite.$sess.cell5$Helper.foldRight(\u001b[32mcell5.sc\u001b[39m:\u001b[32m4\u001b[39m)",
      "  ammonite.$sess.cell5$Helper.foldRight(\u001b[32mcell5.sc\u001b[39m:\u001b[32m4\u001b[39m)",
      "  ammonite.$sess.cell5$Helper.foldRight(\u001b[32mcell5.sc\u001b[39m:\u001b[32m4\u001b[39m)",
      "  ammonite.$sess.cell5$Helper.foldRight(\u001b[32mcell5.sc\u001b[39m:\u001b[32m4\u001b[39m)",
      "  ammonite.$sess.cell5$Helper.foldRight(\u001b[32mcell5.sc\u001b[39m:\u001b[32m4\u001b[39m)",
      "  ammonite.$sess.cell5$Helper.foldRight(\u001b[32mcell5.sc\u001b[39m:\u001b[32m4\u001b[39m)",
      "  ammonite.$sess.cell5$Helper.foldRight(\u001b[32mcell5.sc\u001b[39m:\u001b[32m4\u001b[39m)",
      "  ammonite.$sess.cell5$Helper.foldRight(\u001b[32mcell5.sc\u001b[39m:\u001b[32m4\u001b[39m)",
      "  ammonite.$sess.cell5$Helper.foldRight(\u001b[32mcell5.sc\u001b[39m:\u001b[32m4\u001b[39m)",
      "  ammonite.$sess.cell5$Helper.foldRight(\u001b[32mcell5.sc\u001b[39m:\u001b[32m4\u001b[39m)",
      "  ammonite.$sess.cell5$Helper.foldRight(\u001b[32mcell5.sc\u001b[39m:\u001b[32m4\u001b[39m)",
      "  ammonite.$sess.cell5$Helper.foldRight(\u001b[32mcell5.sc\u001b[39m:\u001b[32m4\u001b[39m)",
      "  ammonite.$sess.cell5$Helper.foldRight(\u001b[32mcell5.sc\u001b[39m:\u001b[32m4\u001b[39m)",
      "  ammonite.$sess.cell5$Helper.foldRight(\u001b[32mcell5.sc\u001b[39m:\u001b[32m4\u001b[39m)",
      "  ammonite.$sess.cell5$Helper.foldRight(\u001b[32mcell5.sc\u001b[39m:\u001b[32m4\u001b[39m)",
      "  ammonite.$sess.cell5$Helper.foldRight(\u001b[32mcell5.sc\u001b[39m:\u001b[32m4\u001b[39m)",
      "  ammonite.$sess.cell5$Helper.foldRight(\u001b[32mcell5.sc\u001b[39m:\u001b[32m4\u001b[39m)",
      "  ammonite.$sess.cell5$Helper.foldRight(\u001b[32mcell5.sc\u001b[39m:\u001b[32m4\u001b[39m)",
      "  ammonite.$sess.cell5$Helper.foldRight(\u001b[32mcell5.sc\u001b[39m:\u001b[32m4\u001b[39m)",
      "  ammonite.$sess.cell5$Helper.foldRight(\u001b[32mcell5.sc\u001b[39m:\u001b[32m4\u001b[39m)",
      "  ammonite.$sess.cell5$Helper.foldRight(\u001b[32mcell5.sc\u001b[39m:\u001b[32m4\u001b[39m)",
      "  ammonite.$sess.cell5$Helper.foldRight(\u001b[32mcell5.sc\u001b[39m:\u001b[32m4\u001b[39m)",
      "  ammonite.$sess.cell5$Helper.foldRight(\u001b[32mcell5.sc\u001b[39m:\u001b[32m4\u001b[39m)",
      "  ammonite.$sess.cell5$Helper.foldRight(\u001b[32mcell5.sc\u001b[39m:\u001b[32m4\u001b[39m)",
      "  ammonite.$sess.cell5$Helper.foldRight(\u001b[32mcell5.sc\u001b[39m:\u001b[32m4\u001b[39m)",
      "  ammonite.$sess.cell5$Helper.foldRight(\u001b[32mcell5.sc\u001b[39m:\u001b[32m4\u001b[39m)",
      "  ammonite.$sess.cell5$Helper.foldRight(\u001b[32mcell5.sc\u001b[39m:\u001b[32m4\u001b[39m)",
      "  ammonite.$sess.cell5$Helper.foldRight(\u001b[32mcell5.sc\u001b[39m:\u001b[32m4\u001b[39m)",
      "  ammonite.$sess.cell5$Helper.foldRight(\u001b[32mcell5.sc\u001b[39m:\u001b[32m4\u001b[39m)",
      "  ammonite.$sess.cell5$Helper.foldRight(\u001b[32mcell5.sc\u001b[39m:\u001b[32m4\u001b[39m)",
      "  ammonite.$sess.cell5$Helper.foldRight(\u001b[32mcell5.sc\u001b[39m:\u001b[32m4\u001b[39m)",
      "  ammonite.$sess.cell5$Helper.foldRight(\u001b[32mcell5.sc\u001b[39m:\u001b[32m4\u001b[39m)",
      "  ammonite.$sess.cell5$Helper.foldRight(\u001b[32mcell5.sc\u001b[39m:\u001b[32m4\u001b[39m)",
      "  ammonite.$sess.cell5$Helper.foldRight(\u001b[32mcell5.sc\u001b[39m:\u001b[32m4\u001b[39m)",
      "  ammonite.$sess.cell5$Helper.foldRight(\u001b[32mcell5.sc\u001b[39m:\u001b[32m4\u001b[39m)",
      "  ammonite.$sess.cell5$Helper.foldRight(\u001b[32mcell5.sc\u001b[39m:\u001b[32m4\u001b[39m)",
      "  ammonite.$sess.cell5$Helper.foldRight(\u001b[32mcell5.sc\u001b[39m:\u001b[32m4\u001b[39m)",
      "  ammonite.$sess.cell5$Helper.foldRight(\u001b[32mcell5.sc\u001b[39m:\u001b[32m4\u001b[39m)",
      "  ammonite.$sess.cell5$Helper.foldRight(\u001b[32mcell5.sc\u001b[39m:\u001b[32m4\u001b[39m)",
      "  ammonite.$sess.cell5$Helper.foldRight(\u001b[32mcell5.sc\u001b[39m:\u001b[32m4\u001b[39m)",
      "  ammonite.$sess.cell5$Helper.foldRight(\u001b[32mcell5.sc\u001b[39m:\u001b[32m4\u001b[39m)",
      "  ammonite.$sess.cell5$Helper.foldRight(\u001b[32mcell5.sc\u001b[39m:\u001b[32m4\u001b[39m)",
      "  ammonite.$sess.cell5$Helper.foldRight(\u001b[32mcell5.sc\u001b[39m:\u001b[32m4\u001b[39m)",
      "  ammonite.$sess.cell5$Helper.foldRight(\u001b[32mcell5.sc\u001b[39m:\u001b[32m4\u001b[39m)",
      "  ammonite.$sess.cell5$Helper.foldRight(\u001b[32mcell5.sc\u001b[39m:\u001b[32m4\u001b[39m)",
      "  ammonite.$sess.cell5$Helper.foldRight(\u001b[32mcell5.sc\u001b[39m:\u001b[32m4\u001b[39m)",
      "  ammonite.$sess.cell5$Helper.foldRight(\u001b[32mcell5.sc\u001b[39m:\u001b[32m4\u001b[39m)",
      "  ammonite.$sess.cell5$Helper.foldRight(\u001b[32mcell5.sc\u001b[39m:\u001b[32m4\u001b[39m)",
      "  ammonite.$sess.cell5$Helper.foldRight(\u001b[32mcell5.sc\u001b[39m:\u001b[32m4\u001b[39m)",
      "  ammonite.$sess.cell5$Helper.foldRight(\u001b[32mcell5.sc\u001b[39m:\u001b[32m4\u001b[39m)",
      "  ammonite.$sess.cell5$Helper.foldRight(\u001b[32mcell5.sc\u001b[39m:\u001b[32m4\u001b[39m)",
      "  ammonite.$sess.cell5$Helper.foldRight(\u001b[32mcell5.sc\u001b[39m:\u001b[32m4\u001b[39m)",
      "  ammonite.$sess.cell5$Helper.foldRight(\u001b[32mcell5.sc\u001b[39m:\u001b[32m4\u001b[39m)",
      "  ammonite.$sess.cell5$Helper.foldRight(\u001b[32mcell5.sc\u001b[39m:\u001b[32m4\u001b[39m)",
      "  ammonite.$sess.cell5$Helper.foldRight(\u001b[32mcell5.sc\u001b[39m:\u001b[32m4\u001b[39m)",
      "  ammonite.$sess.cell5$Helper.foldRight(\u001b[32mcell5.sc\u001b[39m:\u001b[32m4\u001b[39m)",
      "  ammonite.$sess.cell5$Helper.foldRight(\u001b[32mcell5.sc\u001b[39m:\u001b[32m4\u001b[39m)",
      "  ammonite.$sess.cell5$Helper.foldRight(\u001b[32mcell5.sc\u001b[39m:\u001b[32m4\u001b[39m)",
      "  ammonite.$sess.cell5$Helper.foldRight(\u001b[32mcell5.sc\u001b[39m:\u001b[32m4\u001b[39m)",
      "  ammonite.$sess.cell5$Helper.foldRight(\u001b[32mcell5.sc\u001b[39m:\u001b[32m4\u001b[39m)",
      "  ammonite.$sess.cell5$Helper.foldRight(\u001b[32mcell5.sc\u001b[39m:\u001b[32m4\u001b[39m)",
      "  ammonite.$sess.cell5$Helper.foldRight(\u001b[32mcell5.sc\u001b[39m:\u001b[32m4\u001b[39m)",
      "  ammonite.$sess.cell5$Helper.foldRight(\u001b[32mcell5.sc\u001b[39m:\u001b[32m4\u001b[39m)",
      "  ammonite.$sess.cell5$Helper.foldRight(\u001b[32mcell5.sc\u001b[39m:\u001b[32m4\u001b[39m)",
      "  ammonite.$sess.cell5$Helper.foldRight(\u001b[32mcell5.sc\u001b[39m:\u001b[32m4\u001b[39m)",
      "  ammonite.$sess.cell5$Helper.foldRight(\u001b[32mcell5.sc\u001b[39m:\u001b[32m4\u001b[39m)",
      "  ammonite.$sess.cell5$Helper.foldRight(\u001b[32mcell5.sc\u001b[39m:\u001b[32m4\u001b[39m)",
      "  ammonite.$sess.cell5$Helper.foldRight(\u001b[32mcell5.sc\u001b[39m:\u001b[32m4\u001b[39m)",
      "  ammonite.$sess.cell5$Helper.foldRight(\u001b[32mcell5.sc\u001b[39m:\u001b[32m4\u001b[39m)",
      "  ammonite.$sess.cell5$Helper.foldRight(\u001b[32mcell5.sc\u001b[39m:\u001b[32m4\u001b[39m)",
      "  ammonite.$sess.cell5$Helper.foldRight(\u001b[32mcell5.sc\u001b[39m:\u001b[32m4\u001b[39m)",
      "  ammonite.$sess.cell5$Helper.foldRight(\u001b[32mcell5.sc\u001b[39m:\u001b[32m4\u001b[39m)",
      "  ammonite.$sess.cell5$Helper.foldRight(\u001b[32mcell5.sc\u001b[39m:\u001b[32m4\u001b[39m)",
      "  ammonite.$sess.cell5$Helper.foldRight(\u001b[32mcell5.sc\u001b[39m:\u001b[32m4\u001b[39m)",
      "  ammonite.$sess.cell5$Helper.foldRight(\u001b[32mcell5.sc\u001b[39m:\u001b[32m4\u001b[39m)",
      "  ammonite.$sess.cell5$Helper.foldRight(\u001b[32mcell5.sc\u001b[39m:\u001b[32m4\u001b[39m)",
      "  ammonite.$sess.cell5$Helper.foldRight(\u001b[32mcell5.sc\u001b[39m:\u001b[32m4\u001b[39m)",
      "  ammonite.$sess.cell5$Helper.foldRight(\u001b[32mcell5.sc\u001b[39m:\u001b[32m4\u001b[39m)",
      "  ammonite.$sess.cell5$Helper.foldRight(\u001b[32mcell5.sc\u001b[39m:\u001b[32m4\u001b[39m)",
      "  ammonite.$sess.cell5$Helper.foldRight(\u001b[32mcell5.sc\u001b[39m:\u001b[32m4\u001b[39m)",
      "  ammonite.$sess.cell5$Helper.foldRight(\u001b[32mcell5.sc\u001b[39m:\u001b[32m4\u001b[39m)",
      "  ammonite.$sess.cell5$Helper.foldRight(\u001b[32mcell5.sc\u001b[39m:\u001b[32m4\u001b[39m)",
      "  ammonite.$sess.cell5$Helper.foldRight(\u001b[32mcell5.sc\u001b[39m:\u001b[32m4\u001b[39m)",
      "  ammonite.$sess.cell5$Helper.foldRight(\u001b[32mcell5.sc\u001b[39m:\u001b[32m4\u001b[39m)",
      "  ammonite.$sess.cell5$Helper.foldRight(\u001b[32mcell5.sc\u001b[39m:\u001b[32m4\u001b[39m)",
      "  ammonite.$sess.cell5$Helper.foldRight(\u001b[32mcell5.sc\u001b[39m:\u001b[32m4\u001b[39m)",
      "  ammonite.$sess.cell5$Helper.foldRight(\u001b[32mcell5.sc\u001b[39m:\u001b[32m4\u001b[39m)",
      "  ammonite.$sess.cell5$Helper.foldRight(\u001b[32mcell5.sc\u001b[39m:\u001b[32m4\u001b[39m)",
      "  ammonite.$sess.cell5$Helper.foldRight(\u001b[32mcell5.sc\u001b[39m:\u001b[32m4\u001b[39m)",
      "  ammonite.$sess.cell5$Helper.foldRight(\u001b[32mcell5.sc\u001b[39m:\u001b[32m4\u001b[39m)",
      "  ammonite.$sess.cell5$Helper.foldRight(\u001b[32mcell5.sc\u001b[39m:\u001b[32m4\u001b[39m)",
      "  ammonite.$sess.cell5$Helper.foldRight(\u001b[32mcell5.sc\u001b[39m:\u001b[32m4\u001b[39m)",
      "  ammonite.$sess.cell5$Helper.foldRight(\u001b[32mcell5.sc\u001b[39m:\u001b[32m4\u001b[39m)",
      "  ammonite.$sess.cell5$Helper.foldRight(\u001b[32mcell5.sc\u001b[39m:\u001b[32m4\u001b[39m)",
      "  ammonite.$sess.cell5$Helper.foldRight(\u001b[32mcell5.sc\u001b[39m:\u001b[32m4\u001b[39m)",
      "  ammonite.$sess.cell5$Helper.foldRight(\u001b[32mcell5.sc\u001b[39m:\u001b[32m4\u001b[39m)",
      "  ammonite.$sess.cell5$Helper.foldRight(\u001b[32mcell5.sc\u001b[39m:\u001b[32m4\u001b[39m)",
      "  ammonite.$sess.cell5$Helper.foldRight(\u001b[32mcell5.sc\u001b[39m:\u001b[32m4\u001b[39m)",
      "  ammonite.$sess.cell5$Helper.foldRight(\u001b[32mcell5.sc\u001b[39m:\u001b[32m4\u001b[39m)",
      "  ammonite.$sess.cell5$Helper.foldRight(\u001b[32mcell5.sc\u001b[39m:\u001b[32m4\u001b[39m)",
      "  ammonite.$sess.cell5$Helper.foldRight(\u001b[32mcell5.sc\u001b[39m:\u001b[32m4\u001b[39m)",
      "  ammonite.$sess.cell5$Helper.foldRight(\u001b[32mcell5.sc\u001b[39m:\u001b[32m4\u001b[39m)",
      "  ammonite.$sess.cell5$Helper.foldRight(\u001b[32mcell5.sc\u001b[39m:\u001b[32m4\u001b[39m)",
      "  ammonite.$sess.cell5$Helper.foldRight(\u001b[32mcell5.sc\u001b[39m:\u001b[32m4\u001b[39m)",
      "  ammonite.$sess.cell5$Helper.foldRight(\u001b[32mcell5.sc\u001b[39m:\u001b[32m4\u001b[39m)",
      "  ammonite.$sess.cell5$Helper.foldRight(\u001b[32mcell5.sc\u001b[39m:\u001b[32m4\u001b[39m)",
      "  ammonite.$sess.cell5$Helper.foldRight(\u001b[32mcell5.sc\u001b[39m:\u001b[32m4\u001b[39m)",
      "  ammonite.$sess.cell5$Helper.foldRight(\u001b[32mcell5.sc\u001b[39m:\u001b[32m4\u001b[39m)",
      "  ammonite.$sess.cell5$Helper.foldRight(\u001b[32mcell5.sc\u001b[39m:\u001b[32m4\u001b[39m)",
      "  ammonite.$sess.cell5$Helper.foldRight(\u001b[32mcell5.sc\u001b[39m:\u001b[32m4\u001b[39m)",
      "  ammonite.$sess.cell5$Helper.foldRight(\u001b[32mcell5.sc\u001b[39m:\u001b[32m4\u001b[39m)",
      "  ammonite.$sess.cell5$Helper.foldRight(\u001b[32mcell5.sc\u001b[39m:\u001b[32m4\u001b[39m)",
      "  ammonite.$sess.cell5$Helper.foldRight(\u001b[32mcell5.sc\u001b[39m:\u001b[32m4\u001b[39m)",
      "  ammonite.$sess.cell5$Helper.foldRight(\u001b[32mcell5.sc\u001b[39m:\u001b[32m4\u001b[39m)",
      "  ammonite.$sess.cell5$Helper.foldRight(\u001b[32mcell5.sc\u001b[39m:\u001b[32m4\u001b[39m)",
      "  ammonite.$sess.cell5$Helper.foldRight(\u001b[32mcell5.sc\u001b[39m:\u001b[32m4\u001b[39m)",
      "  ammonite.$sess.cell5$Helper.foldRight(\u001b[32mcell5.sc\u001b[39m:\u001b[32m4\u001b[39m)",
      "  ammonite.$sess.cell5$Helper.foldRight(\u001b[32mcell5.sc\u001b[39m:\u001b[32m4\u001b[39m)",
      "  ammonite.$sess.cell5$Helper.foldRight(\u001b[32mcell5.sc\u001b[39m:\u001b[32m4\u001b[39m)",
      "  ammonite.$sess.cell5$Helper.foldRight(\u001b[32mcell5.sc\u001b[39m:\u001b[32m4\u001b[39m)",
      "  ammonite.$sess.cell5$Helper.foldRight(\u001b[32mcell5.sc\u001b[39m:\u001b[32m4\u001b[39m)",
      "  ammonite.$sess.cell5$Helper.foldRight(\u001b[32mcell5.sc\u001b[39m:\u001b[32m4\u001b[39m)",
      "  ammonite.$sess.cell5$Helper.foldRight(\u001b[32mcell5.sc\u001b[39m:\u001b[32m4\u001b[39m)",
      "  ammonite.$sess.cell5$Helper.foldRight(\u001b[32mcell5.sc\u001b[39m:\u001b[32m4\u001b[39m)",
      "  ammonite.$sess.cell5$Helper.foldRight(\u001b[32mcell5.sc\u001b[39m:\u001b[32m4\u001b[39m)",
      "  ammonite.$sess.cell5$Helper.foldRight(\u001b[32mcell5.sc\u001b[39m:\u001b[32m4\u001b[39m)",
      "  ammonite.$sess.cell5$Helper.foldRight(\u001b[32mcell5.sc\u001b[39m:\u001b[32m4\u001b[39m)",
      "  ammonite.$sess.cell5$Helper.foldRight(\u001b[32mcell5.sc\u001b[39m:\u001b[32m4\u001b[39m)",
      "  ammonite.$sess.cell5$Helper.foldRight(\u001b[32mcell5.sc\u001b[39m:\u001b[32m4\u001b[39m)",
      "  ammonite.$sess.cell5$Helper.foldRight(\u001b[32mcell5.sc\u001b[39m:\u001b[32m4\u001b[39m)",
      "  ammonite.$sess.cell5$Helper.foldRight(\u001b[32mcell5.sc\u001b[39m:\u001b[32m4\u001b[39m)",
      "  ammonite.$sess.cell5$Helper.foldRight(\u001b[32mcell5.sc\u001b[39m:\u001b[32m4\u001b[39m)",
      "  ammonite.$sess.cell5$Helper.foldRight(\u001b[32mcell5.sc\u001b[39m:\u001b[32m4\u001b[39m)",
      "  ammonite.$sess.cell5$Helper.foldRight(\u001b[32mcell5.sc\u001b[39m:\u001b[32m4\u001b[39m)",
      "  ammonite.$sess.cell5$Helper.foldRight(\u001b[32mcell5.sc\u001b[39m:\u001b[32m4\u001b[39m)",
      "  ammonite.$sess.cell5$Helper.foldRight(\u001b[32mcell5.sc\u001b[39m:\u001b[32m4\u001b[39m)",
      "  ammonite.$sess.cell5$Helper.foldRight(\u001b[32mcell5.sc\u001b[39m:\u001b[32m4\u001b[39m)",
      "  ammonite.$sess.cell5$Helper.foldRight(\u001b[32mcell5.sc\u001b[39m:\u001b[32m4\u001b[39m)",
      "  ammonite.$sess.cell5$Helper.foldRight(\u001b[32mcell5.sc\u001b[39m:\u001b[32m4\u001b[39m)",
      "  ammonite.$sess.cell5$Helper.foldRight(\u001b[32mcell5.sc\u001b[39m:\u001b[32m4\u001b[39m)",
      "  ammonite.$sess.cell5$Helper.foldRight(\u001b[32mcell5.sc\u001b[39m:\u001b[32m4\u001b[39m)",
      "  ammonite.$sess.cell5$Helper.foldRight(\u001b[32mcell5.sc\u001b[39m:\u001b[32m4\u001b[39m)",
      "  ammonite.$sess.cell5$Helper.foldRight(\u001b[32mcell5.sc\u001b[39m:\u001b[32m4\u001b[39m)",
      "  ammonite.$sess.cell5$Helper.foldRight(\u001b[32mcell5.sc\u001b[39m:\u001b[32m4\u001b[39m)",
      "  ammonite.$sess.cell5$Helper.foldRight(\u001b[32mcell5.sc\u001b[39m:\u001b[32m4\u001b[39m)",
      "  ammonite.$sess.cell5$Helper.foldRight(\u001b[32mcell5.sc\u001b[39m:\u001b[32m4\u001b[39m)",
      "  ammonite.$sess.cell5$Helper.foldRight(\u001b[32mcell5.sc\u001b[39m:\u001b[32m4\u001b[39m)",
      "  ammonite.$sess.cell5$Helper.foldRight(\u001b[32mcell5.sc\u001b[39m:\u001b[32m4\u001b[39m)",
      "  ammonite.$sess.cell5$Helper.foldRight(\u001b[32mcell5.sc\u001b[39m:\u001b[32m4\u001b[39m)",
      "  ammonite.$sess.cell5$Helper.foldRight(\u001b[32mcell5.sc\u001b[39m:\u001b[32m4\u001b[39m)",
      "  ammonite.$sess.cell5$Helper.foldRight(\u001b[32mcell5.sc\u001b[39m:\u001b[32m4\u001b[39m)",
      "  ammonite.$sess.cell5$Helper.foldRight(\u001b[32mcell5.sc\u001b[39m:\u001b[32m4\u001b[39m)",
      "  ammonite.$sess.cell5$Helper.foldRight(\u001b[32mcell5.sc\u001b[39m:\u001b[32m4\u001b[39m)",
      "  ammonite.$sess.cell5$Helper.foldRight(\u001b[32mcell5.sc\u001b[39m:\u001b[32m4\u001b[39m)",
      "  ammonite.$sess.cell5$Helper.foldRight(\u001b[32mcell5.sc\u001b[39m:\u001b[32m4\u001b[39m)",
      "  ammonite.$sess.cell5$Helper.foldRight(\u001b[32mcell5.sc\u001b[39m:\u001b[32m4\u001b[39m)",
      "  ammonite.$sess.cell5$Helper.foldRight(\u001b[32mcell5.sc\u001b[39m:\u001b[32m4\u001b[39m)",
      "  ammonite.$sess.cell5$Helper.foldRight(\u001b[32mcell5.sc\u001b[39m:\u001b[32m4\u001b[39m)",
      "  ammonite.$sess.cell5$Helper.foldRight(\u001b[32mcell5.sc\u001b[39m:\u001b[32m4\u001b[39m)",
      "  ammonite.$sess.cell5$Helper.foldRight(\u001b[32mcell5.sc\u001b[39m:\u001b[32m4\u001b[39m)",
      "  ammonite.$sess.cell5$Helper.foldRight(\u001b[32mcell5.sc\u001b[39m:\u001b[32m4\u001b[39m)",
      "  ammonite.$sess.cell5$Helper.foldRight(\u001b[32mcell5.sc\u001b[39m:\u001b[32m4\u001b[39m)",
      "  ammonite.$sess.cell5$Helper.foldRight(\u001b[32mcell5.sc\u001b[39m:\u001b[32m4\u001b[39m)",
      "  ammonite.$sess.cell5$Helper.foldRight(\u001b[32mcell5.sc\u001b[39m:\u001b[32m4\u001b[39m)",
      "  ammonite.$sess.cell5$Helper.foldRight(\u001b[32mcell5.sc\u001b[39m:\u001b[32m4\u001b[39m)",
      "  ammonite.$sess.cell5$Helper.foldRight(\u001b[32mcell5.sc\u001b[39m:\u001b[32m4\u001b[39m)",
      "  ammonite.$sess.cell5$Helper.foldRight(\u001b[32mcell5.sc\u001b[39m:\u001b[32m4\u001b[39m)",
      "  ammonite.$sess.cell5$Helper.foldRight(\u001b[32mcell5.sc\u001b[39m:\u001b[32m4\u001b[39m)",
      "  ammonite.$sess.cell5$Helper.foldRight(\u001b[32mcell5.sc\u001b[39m:\u001b[32m4\u001b[39m)",
      "  ammonite.$sess.cell5$Helper.foldRight(\u001b[32mcell5.sc\u001b[39m:\u001b[32m4\u001b[39m)",
      "  ammonite.$sess.cell5$Helper.foldRight(\u001b[32mcell5.sc\u001b[39m:\u001b[32m4\u001b[39m)",
      "  ammonite.$sess.cell5$Helper.foldRight(\u001b[32mcell5.sc\u001b[39m:\u001b[32m4\u001b[39m)",
      "  ammonite.$sess.cell5$Helper.foldRight(\u001b[32mcell5.sc\u001b[39m:\u001b[32m4\u001b[39m)",
      "  ammonite.$sess.cell5$Helper.foldRight(\u001b[32mcell5.sc\u001b[39m:\u001b[32m4\u001b[39m)",
      "  ammonite.$sess.cell5$Helper.foldRight(\u001b[32mcell5.sc\u001b[39m:\u001b[32m4\u001b[39m)",
      "  ammonite.$sess.cell5$Helper.foldRight(\u001b[32mcell5.sc\u001b[39m:\u001b[32m4\u001b[39m)",
      "  ammonite.$sess.cell5$Helper.foldRight(\u001b[32mcell5.sc\u001b[39m:\u001b[32m4\u001b[39m)",
      "  ammonite.$sess.cell5$Helper.foldRight(\u001b[32mcell5.sc\u001b[39m:\u001b[32m4\u001b[39m)",
      "  ammonite.$sess.cell5$Helper.foldRight(\u001b[32mcell5.sc\u001b[39m:\u001b[32m4\u001b[39m)",
      "  ammonite.$sess.cell5$Helper.foldRight(\u001b[32mcell5.sc\u001b[39m:\u001b[32m4\u001b[39m)",
      "  ammonite.$sess.cell5$Helper.foldRight(\u001b[32mcell5.sc\u001b[39m:\u001b[32m4\u001b[39m)",
      "  ammonite.$sess.cell5$Helper.foldRight(\u001b[32mcell5.sc\u001b[39m:\u001b[32m4\u001b[39m)",
      "  ammonite.$sess.cell5$Helper.foldRight(\u001b[32mcell5.sc\u001b[39m:\u001b[32m4\u001b[39m)",
      "  ammonite.$sess.cell5$Helper.foldRight(\u001b[32mcell5.sc\u001b[39m:\u001b[32m4\u001b[39m)",
      "  ammonite.$sess.cell5$Helper.foldRight(\u001b[32mcell5.sc\u001b[39m:\u001b[32m4\u001b[39m)",
      "  ammonite.$sess.cell5$Helper.foldRight(\u001b[32mcell5.sc\u001b[39m:\u001b[32m4\u001b[39m)",
      "  ammonite.$sess.cell5$Helper.foldRight(\u001b[32mcell5.sc\u001b[39m:\u001b[32m4\u001b[39m)",
      "  ammonite.$sess.cell5$Helper.foldRight(\u001b[32mcell5.sc\u001b[39m:\u001b[32m4\u001b[39m)",
      "  ammonite.$sess.cell5$Helper.foldRight(\u001b[32mcell5.sc\u001b[39m:\u001b[32m4\u001b[39m)",
      "  ammonite.$sess.cell5$Helper.foldRight(\u001b[32mcell5.sc\u001b[39m:\u001b[32m4\u001b[39m)",
      "  ammonite.$sess.cell5$Helper.foldRight(\u001b[32mcell5.sc\u001b[39m:\u001b[32m4\u001b[39m)",
      "  ammonite.$sess.cell5$Helper.foldRight(\u001b[32mcell5.sc\u001b[39m:\u001b[32m4\u001b[39m)",
      "  ammonite.$sess.cell5$Helper.foldRight(\u001b[32mcell5.sc\u001b[39m:\u001b[32m4\u001b[39m)",
      "  ammonite.$sess.cell5$Helper.foldRight(\u001b[32mcell5.sc\u001b[39m:\u001b[32m4\u001b[39m)",
      "  ammonite.$sess.cell5$Helper.foldRight(\u001b[32mcell5.sc\u001b[39m:\u001b[32m4\u001b[39m)",
      "  ammonite.$sess.cell5$Helper.foldRight(\u001b[32mcell5.sc\u001b[39m:\u001b[32m4\u001b[39m)",
      "  ammonite.$sess.cell5$Helper.foldRight(\u001b[32mcell5.sc\u001b[39m:\u001b[32m4\u001b[39m)",
      "  ammonite.$sess.cell5$Helper.foldRight(\u001b[32mcell5.sc\u001b[39m:\u001b[32m4\u001b[39m)",
      "  ammonite.$sess.cell5$Helper.foldRight(\u001b[32mcell5.sc\u001b[39m:\u001b[32m4\u001b[39m)",
      "  ammonite.$sess.cell5$Helper.foldRight(\u001b[32mcell5.sc\u001b[39m:\u001b[32m4\u001b[39m)",
      "  ammonite.$sess.cell5$Helper.foldRight(\u001b[32mcell5.sc\u001b[39m:\u001b[32m4\u001b[39m)",
      "  ammonite.$sess.cell5$Helper.foldRight(\u001b[32mcell5.sc\u001b[39m:\u001b[32m4\u001b[39m)",
      "  ammonite.$sess.cell5$Helper.foldRight(\u001b[32mcell5.sc\u001b[39m:\u001b[32m4\u001b[39m)",
      "  ammonite.$sess.cell5$Helper.foldRight(\u001b[32mcell5.sc\u001b[39m:\u001b[32m4\u001b[39m)",
      "  ammonite.$sess.cell5$Helper.foldRight(\u001b[32mcell5.sc\u001b[39m:\u001b[32m4\u001b[39m)",
      "  ammonite.$sess.cell5$Helper.foldRight(\u001b[32mcell5.sc\u001b[39m:\u001b[32m4\u001b[39m)",
      "  ammonite.$sess.cell5$Helper.foldRight(\u001b[32mcell5.sc\u001b[39m:\u001b[32m4\u001b[39m)",
      "  ammonite.$sess.cell5$Helper.foldRight(\u001b[32mcell5.sc\u001b[39m:\u001b[32m4\u001b[39m)",
      "  ammonite.$sess.cell5$Helper.foldRight(\u001b[32mcell5.sc\u001b[39m:\u001b[32m4\u001b[39m)",
      "  ammonite.$sess.cell5$Helper.foldRight(\u001b[32mcell5.sc\u001b[39m:\u001b[32m4\u001b[39m)",
      "  ammonite.$sess.cell5$Helper.foldRight(\u001b[32mcell5.sc\u001b[39m:\u001b[32m4\u001b[39m)",
      "  ammonite.$sess.cell5$Helper.foldRight(\u001b[32mcell5.sc\u001b[39m:\u001b[32m4\u001b[39m)",
      "  ammonite.$sess.cell5$Helper.foldRight(\u001b[32mcell5.sc\u001b[39m:\u001b[32m4\u001b[39m)",
      "  ammonite.$sess.cell5$Helper.foldRight(\u001b[32mcell5.sc\u001b[39m:\u001b[32m4\u001b[39m)",
      "  ammonite.$sess.cell5$Helper.foldRight(\u001b[32mcell5.sc\u001b[39m:\u001b[32m4\u001b[39m)",
      "  ammonite.$sess.cell5$Helper.foldRight(\u001b[32mcell5.sc\u001b[39m:\u001b[32m4\u001b[39m)",
      "  ammonite.$sess.cell5$Helper.foldRight(\u001b[32mcell5.sc\u001b[39m:\u001b[32m4\u001b[39m)",
      "  ammonite.$sess.cell5$Helper.foldRight(\u001b[32mcell5.sc\u001b[39m:\u001b[32m4\u001b[39m)",
      "  ammonite.$sess.cell5$Helper.foldRight(\u001b[32mcell5.sc\u001b[39m:\u001b[32m4\u001b[39m)",
      "  ammonite.$sess.cell5$Helper.foldRight(\u001b[32mcell5.sc\u001b[39m:\u001b[32m4\u001b[39m)",
      "  ammonite.$sess.cell5$Helper.foldRight(\u001b[32mcell5.sc\u001b[39m:\u001b[32m4\u001b[39m)",
      "  ammonite.$sess.cell5$Helper.foldRight(\u001b[32mcell5.sc\u001b[39m:\u001b[32m4\u001b[39m)",
      "  ammonite.$sess.cell5$Helper.foldRight(\u001b[32mcell5.sc\u001b[39m:\u001b[32m4\u001b[39m)",
      "  ammonite.$sess.cell5$Helper.foldRight(\u001b[32mcell5.sc\u001b[39m:\u001b[32m4\u001b[39m)",
      "  ammonite.$sess.cell5$Helper.foldRight(\u001b[32mcell5.sc\u001b[39m:\u001b[32m4\u001b[39m)",
      "  ammonite.$sess.cell5$Helper.foldRight(\u001b[32mcell5.sc\u001b[39m:\u001b[32m4\u001b[39m)",
      "  ammonite.$sess.cell5$Helper.foldRight(\u001b[32mcell5.sc\u001b[39m:\u001b[32m4\u001b[39m)",
      "  ammonite.$sess.cell5$Helper.foldRight(\u001b[32mcell5.sc\u001b[39m:\u001b[32m4\u001b[39m)",
      "  ammonite.$sess.cell5$Helper.foldRight(\u001b[32mcell5.sc\u001b[39m:\u001b[32m4\u001b[39m)",
      "  ammonite.$sess.cell5$Helper.foldRight(\u001b[32mcell5.sc\u001b[39m:\u001b[32m4\u001b[39m)",
      "  ammonite.$sess.cell5$Helper.foldRight(\u001b[32mcell5.sc\u001b[39m:\u001b[32m4\u001b[39m)",
      "  ammonite.$sess.cell5$Helper.foldRight(\u001b[32mcell5.sc\u001b[39m:\u001b[32m4\u001b[39m)",
      "  ammonite.$sess.cell5$Helper.foldRight(\u001b[32mcell5.sc\u001b[39m:\u001b[32m4\u001b[39m)",
      "  ammonite.$sess.cell5$Helper.foldRight(\u001b[32mcell5.sc\u001b[39m:\u001b[32m4\u001b[39m)",
      "  ammonite.$sess.cell5$Helper.foldRight(\u001b[32mcell5.sc\u001b[39m:\u001b[32m4\u001b[39m)",
      "  ammonite.$sess.cell5$Helper.foldRight(\u001b[32mcell5.sc\u001b[39m:\u001b[32m4\u001b[39m)",
      "  ammonite.$sess.cell5$Helper.foldRight(\u001b[32mcell5.sc\u001b[39m:\u001b[32m4\u001b[39m)",
      "  ammonite.$sess.cell5$Helper.foldRight(\u001b[32mcell5.sc\u001b[39m:\u001b[32m4\u001b[39m)",
      "  ammonite.$sess.cell5$Helper.foldRight(\u001b[32mcell5.sc\u001b[39m:\u001b[32m4\u001b[39m)",
      "  ammonite.$sess.cell5$Helper.foldRight(\u001b[32mcell5.sc\u001b[39m:\u001b[32m4\u001b[39m)",
      "  ammonite.$sess.cell5$Helper.foldRight(\u001b[32mcell5.sc\u001b[39m:\u001b[32m4\u001b[39m)",
      "  ammonite.$sess.cell5$Helper.foldRight(\u001b[32mcell5.sc\u001b[39m:\u001b[32m4\u001b[39m)",
      "  ammonite.$sess.cell5$Helper.foldRight(\u001b[32mcell5.sc\u001b[39m:\u001b[32m4\u001b[39m)",
      "  ammonite.$sess.cell5$Helper.foldRight(\u001b[32mcell5.sc\u001b[39m:\u001b[32m4\u001b[39m)",
      "  ammonite.$sess.cell5$Helper.foldRight(\u001b[32mcell5.sc\u001b[39m:\u001b[32m4\u001b[39m)",
      "  ammonite.$sess.cell5$Helper.foldRight(\u001b[32mcell5.sc\u001b[39m:\u001b[32m4\u001b[39m)",
      "  ammonite.$sess.cell5$Helper.foldRight(\u001b[32mcell5.sc\u001b[39m:\u001b[32m4\u001b[39m)",
      "  ammonite.$sess.cell5$Helper.foldRight(\u001b[32mcell5.sc\u001b[39m:\u001b[32m4\u001b[39m)",
      "  ammonite.$sess.cell5$Helper.foldRight(\u001b[32mcell5.sc\u001b[39m:\u001b[32m4\u001b[39m)",
      "  ammonite.$sess.cell5$Helper.foldRight(\u001b[32mcell5.sc\u001b[39m:\u001b[32m4\u001b[39m)",
      "  ammonite.$sess.cell5$Helper.foldRight(\u001b[32mcell5.sc\u001b[39m:\u001b[32m4\u001b[39m)",
      "  ammonite.$sess.cell5$Helper.foldRight(\u001b[32mcell5.sc\u001b[39m:\u001b[32m4\u001b[39m)",
      "  ammonite.$sess.cell5$Helper.foldRight(\u001b[32mcell5.sc\u001b[39m:\u001b[32m4\u001b[39m)",
      "  ammonite.$sess.cell5$Helper.foldRight(\u001b[32mcell5.sc\u001b[39m:\u001b[32m4\u001b[39m)",
      "  ammonite.$sess.cell5$Helper.foldRight(\u001b[32mcell5.sc\u001b[39m:\u001b[32m4\u001b[39m)",
      "  ammonite.$sess.cell5$Helper.foldRight(\u001b[32mcell5.sc\u001b[39m:\u001b[32m4\u001b[39m)",
      "  ammonite.$sess.cell5$Helper.foldRight(\u001b[32mcell5.sc\u001b[39m:\u001b[32m4\u001b[39m)",
      "  ammonite.$sess.cell5$Helper.foldRight(\u001b[32mcell5.sc\u001b[39m:\u001b[32m4\u001b[39m)",
      "  ammonite.$sess.cell5$Helper.foldRight(\u001b[32mcell5.sc\u001b[39m:\u001b[32m4\u001b[39m)",
      "  ammonite.$sess.cell5$Helper.foldRight(\u001b[32mcell5.sc\u001b[39m:\u001b[32m4\u001b[39m)",
      "  ammonite.$sess.cell5$Helper.foldRight(\u001b[32mcell5.sc\u001b[39m:\u001b[32m4\u001b[39m)",
      "  ammonite.$sess.cell5$Helper.foldRight(\u001b[32mcell5.sc\u001b[39m:\u001b[32m4\u001b[39m)",
      "  ammonite.$sess.cell5$Helper.foldRight(\u001b[32mcell5.sc\u001b[39m:\u001b[32m4\u001b[39m)",
      "  ammonite.$sess.cell5$Helper.foldRight(\u001b[32mcell5.sc\u001b[39m:\u001b[32m4\u001b[39m)",
      "  ammonite.$sess.cell5$Helper.foldRight(\u001b[32mcell5.sc\u001b[39m:\u001b[32m4\u001b[39m)"
     ]
    }
   ],
   "source": [
    "foldRight[Int, Int](List.fill(100000)(1))(0, (_,_)=> 0)"
   ]
  },
  {
   "cell_type": "markdown",
   "metadata": {},
   "source": [
    "In order to obtain a better implementation, we may first reverse the list and use `foldLeft` as follows: "
   ]
  },
  {
   "cell_type": "code",
   "execution_count": 27,
   "metadata": {},
   "outputs": [
    {
     "data": {
      "text/plain": [
       "defined \u001b[32mfunction\u001b[39m \u001b[36mfoldRightTR\u001b[39m"
      ]
     },
     "execution_count": 27,
     "metadata": {},
     "output_type": "execute_result"
    }
   ],
   "source": [
    "def foldRightTR[A, B](list: List[A])(nil: B)(cons: (A, B) => B): B = \n",
    "    foldLeft(list.reverse)(nil):\n",
    "        (acc: B, a: A) => cons(a, acc)"
   ]
  },
  {
   "cell_type": "markdown",
   "metadata": {},
   "source": [
    "This implementation works right with big lists:"
   ]
  },
  {
   "cell_type": "code",
   "execution_count": 28,
   "metadata": {},
   "outputs": [
    {
     "data": {
      "text/plain": [
       "\u001b[36mres28\u001b[39m: \u001b[32mInt\u001b[39m = \u001b[32m0\u001b[39m"
      ]
     },
     "execution_count": 28,
     "metadata": {},
     "output_type": "execute_result"
    }
   ],
   "source": [
    "foldRightTR[Int, Int](List.fill(100000)(1))(0)((_,_)=> 0)"
   ]
  },
  {
   "cell_type": "markdown",
   "metadata": {},
   "source": [
    "#### Implementing `foldLeft` with `foldRight`"
   ]
  },
  {
   "cell_type": "markdown",
   "metadata": {},
   "source": [
    "This is also possible, though challenging. We start from the tail-recursive implementation of `foldLeft`. First, we rearrange the arguments so that it now returns a function instead of a plain value of type `B`. "
   ]
  },
  {
   "cell_type": "code",
   "execution_count": 29,
   "metadata": {},
   "outputs": [
    {
     "data": {
      "text/plain": [
       "defined \u001b[32mfunction\u001b[39m \u001b[36mfoldLeftAux\u001b[39m"
      ]
     },
     "execution_count": 29,
     "metadata": {},
     "output_type": "execute_result"
    }
   ],
   "source": [
    "def foldLeftAux[A, B](list: List[A])(update: (B, A) => B): B => B =\n",
    "    list match\n",
    "        case Nil => identity[B]\n",
    "        case head :: tail => \n",
    "            out => foldLeftAux(tail)(update)(update(out, head))"
   ]
  },
  {
   "cell_type": "markdown",
   "metadata": {},
   "source": [
    "This was in order to better expose the recursion pattern of `foldRight`. The solution is now obtained simply by noticing that `foldLeft(tail)(update)` is the solution for the tail:"
   ]
  },
  {
   "cell_type": "code",
   "execution_count": 30,
   "metadata": {},
   "outputs": [
    {
     "data": {
      "text/plain": [
       "defined \u001b[32mfunction\u001b[39m \u001b[36mfoldLeftAux\u001b[39m"
      ]
     },
     "execution_count": 30,
     "metadata": {},
     "output_type": "execute_result"
    }
   ],
   "source": [
    "def foldLeftAux[A, B](list: List[A])(update: (B, A) => B): B => B =\n",
    "    list.foldRight(identity[B] _):\n",
    "        case (head, tailSol) => out => tailSol(update(out, head))"
   ]
  },
  {
   "cell_type": "markdown",
   "metadata": {},
   "source": [
    "The original signature can then be implemented as follows: "
   ]
  },
  {
   "cell_type": "code",
   "execution_count": null,
   "metadata": {},
   "outputs": [],
   "source": [
    "def foldLeft[A, B](list: List[A])(out: B)(update: (B, A) => B): B =\n",
    "    list.foldRight(identity[B] _){\n",
    "        case (head, tailSol) => \n",
    "            out => tailSol(update(out, head))\n",
    "    }(out)"
   ]
  },
  {
   "cell_type": "markdown",
   "metadata": {},
   "source": [
    "## The `map` HOF"
   ]
  },
  {
   "cell_type": "markdown",
   "metadata": {},
   "source": [
    "The `map` function is one of the essential HOFs. Its purpose is applying a function to the elements of a data structure, in such a way that the relationships between these elements do not change. The only thing that must be modified is the _content_ of the data structure, not its _shape_. This condition is expressed in the following equations:\n",
    "\n",
    "1. `map(list)(identity) == list` for all `list: List[A]`\n",
    "2. `map(map(list)(f))(g) == map(list)(g compose f)` for all `list: List[A]`, `f: A => B`, `g: B => C`"
   ]
  },
  {
   "cell_type": "markdown",
   "metadata": {},
   "source": [
    "![map](../images/map.svg)"
   ]
  },
  {
   "cell_type": "markdown",
   "metadata": {},
   "source": [
    "The implementation for lists can be done as follows:"
   ]
  },
  {
   "cell_type": "code",
   "execution_count": 31,
   "metadata": {},
   "outputs": [
    {
     "data": {
      "text/plain": [
       "defined \u001b[32mfunction\u001b[39m \u001b[36mmap\u001b[39m"
      ]
     },
     "execution_count": 31,
     "metadata": {},
     "output_type": "execute_result"
    }
   ],
   "source": [
    "def map[A, B](list: List[A])(f: A => B): List[B] = \n",
    "    list match\n",
    "        case Nil => Nil \n",
    "        case head :: tail => \n",
    "            f(head) :: map(tail)(f)"
   ]
  },
  {
   "cell_type": "markdown",
   "metadata": {},
   "source": [
    "The `map` function is polymorphic in `A` and `B`, but we can't pass generic functions (aka polymorphic values) as parameters using `FunctionN`classes (these classes only wrap functions from specific types to specific result types). We may create polymorphic versions of `FunctionN` clases, but in order to keep things simple, we will define the test catalogue for `map` using a specific signature chosen at random (any other may serve as well):"
   ]
  },
  {
   "cell_type": "code",
   "execution_count": 32,
   "metadata": {},
   "outputs": [
    {
     "data": {
      "text/plain": [
       "defined \u001b[32mclass\u001b[39m \u001b[36mTestMap\u001b[39m"
      ]
     },
     "execution_count": 32,
     "metadata": {},
     "output_type": "execute_result"
    }
   ],
   "source": [
    "class TestMap(\n",
    "    map: List[Int] => (Int => Boolean) => List[Boolean]\n",
    ") extends AnyFlatSpec with should.Matchers:\n",
    "\n",
    "    val isEven: Int => Boolean = _ % 2 == 0\n",
    "\n",
    "    \"mapping an empty list\" should \"return an empty list\" in:\n",
    "        map(List())(isEven) shouldBe List()\n",
    "    \n",
    "    \"mapping an non-empty list\" should \"only change its content\" in:\n",
    "        map(List(1))(isEven) shouldBe List(false)\n",
    "        map(List(1,2))(isEven) shouldBe List(false, true)\n",
    "        map(List(1,2,3))(isEven) shouldBe List(false, true, false)"
   ]
  },
  {
   "cell_type": "markdown",
   "metadata": {},
   "source": [
    "To run the tests we will pass the `map` function for `Ìnt` and `Boolean` types:"
   ]
  },
  {
   "cell_type": "code",
   "execution_count": 34,
   "metadata": {},
   "outputs": [
    {
     "name": "stdout",
     "output_type": "stream",
     "text": [
      "\u001b[32mcell32$Helper$TestMap:\u001b[0m\n",
      "\u001b[32mmapping an empty list\u001b[0m\n",
      "\u001b[32m- should return an empty list\u001b[0m\n",
      "\u001b[32mmapping an non-empty list\u001b[0m\n",
      "\u001b[32m- should only change its content\u001b[0m\n"
     ]
    }
   ],
   "source": [
    "run(TestMap(map[Int, Boolean]))"
   ]
  },
  {
   "cell_type": "markdown",
   "metadata": {},
   "source": [
    "although it's not necessary to write the types explicitly (Scala will infer the types for us):"
   ]
  },
  {
   "cell_type": "code",
   "execution_count": 35,
   "metadata": {},
   "outputs": [
    {
     "name": "stdout",
     "output_type": "stream",
     "text": [
      "\u001b[32mcell32$Helper$TestMap:\u001b[0m\n",
      "\u001b[32mmapping an empty list\u001b[0m\n",
      "\u001b[32m- should return an empty list\u001b[0m\n",
      "\u001b[32mmapping an non-empty list\u001b[0m\n",
      "\u001b[32m- should only change its content\u001b[0m\n"
     ]
    }
   ],
   "source": [
    "run(TestMap(map))"
   ]
  },
  {
   "cell_type": "markdown",
   "metadata": {},
   "source": [
    "The implementation of `map` is really close to the implementation of `foldRight`. Indeed, we can give a more modular implementation using this more basic HOF: "
   ]
  },
  {
   "cell_type": "code",
   "execution_count": 36,
   "metadata": {},
   "outputs": [
    {
     "data": {
      "text/plain": [
       "defined \u001b[32mfunction\u001b[39m \u001b[36mmapFR\u001b[39m"
      ]
     },
     "execution_count": 36,
     "metadata": {},
     "output_type": "execute_result"
    }
   ],
   "source": [
    "/*\n",
    "def foldRight[A, B](list: List[A])(nil: B)(cons: (A, B) => B): B = \n",
    "    list match {\n",
    "        case Nil => nil\n",
    "        case head :: tail => cons(head, foldRight(tail)(nil)(cons))\n",
    "    }\n",
    "*/\n",
    "\n",
    "def mapFR[A, B](list: List[A])(f: A => B): List[B] = \n",
    "    list.foldRight(Nil: List[B])((a, l) => f(a) :: l)"
   ]
  },
  {
   "cell_type": "code",
   "execution_count": 37,
   "metadata": {},
   "outputs": [
    {
     "name": "stdout",
     "output_type": "stream",
     "text": [
      "\u001b[32mcell32$Helper$TestMap:\u001b[0m\n",
      "\u001b[32mmapping an empty list\u001b[0m\n",
      "\u001b[32m- should return an empty list\u001b[0m\n",
      "\u001b[32mmapping an non-empty list\u001b[0m\n",
      "\u001b[32m- should only change its content\u001b[0m\n"
     ]
    }
   ],
   "source": [
    "run(TestMap(mapFR))"
   ]
  },
  {
   "cell_type": "markdown",
   "metadata": {},
   "source": [
    "### `map` for `Option`"
   ]
  },
  {
   "cell_type": "markdown",
   "metadata": {},
   "source": [
    "The implementation of the `map` function given above works over lists, but we can also map optional values and many other data structures. The implementation for the data structure `Option` must satisfy the following test:"
   ]
  },
  {
   "cell_type": "code",
   "execution_count": 38,
   "metadata": {},
   "outputs": [
    {
     "data": {
      "text/plain": [
       "defined \u001b[32mclass\u001b[39m \u001b[36mTestMapOption\u001b[39m"
      ]
     },
     "execution_count": 38,
     "metadata": {},
     "output_type": "execute_result"
    }
   ],
   "source": [
    "class TestMapOption(\n",
    "    map: Option[Int] => (Int => Boolean) => Option[Boolean]\n",
    ") extends AnyFlatSpec with should.Matchers:\n",
    "    \n",
    "    val isEven: Int => Boolean = _ % 2 == 0\n",
    "\n",
    "    \"mapping the `None` value\" should \"return `None`\" in:\n",
    "        map(None)(isEven) shouldBe None\n",
    "    \n",
    "    \"mapping a `Some` value\" should \"only change its content\" in:\n",
    "        map(Option(3))(isEven) shouldBe Some(false)\n",
    "        map(Option(1))(isEven) shouldBe Some(false)\n",
    "        map(Option(2))(isEven) shouldBe Some(true)"
   ]
  },
  {
   "cell_type": "markdown",
   "metadata": {},
   "source": [
    "The implementation is simple:"
   ]
  },
  {
   "cell_type": "code",
   "execution_count": 39,
   "metadata": {},
   "outputs": [
    {
     "data": {
      "text/plain": [
       "defined \u001b[32mfunction\u001b[39m \u001b[36mmapOpt\u001b[39m"
      ]
     },
     "execution_count": 39,
     "metadata": {},
     "output_type": "execute_result"
    }
   ],
   "source": [
    "def mapOpt[A, B](maybeA: Option[A])(f: A => B): Option[B] = \n",
    "    maybeA match\n",
    "        case None => None\n",
    "        case Some(a) => Some(f(a))"
   ]
  },
  {
   "cell_type": "code",
   "execution_count": 40,
   "metadata": {},
   "outputs": [
    {
     "name": "stdout",
     "output_type": "stream",
     "text": [
      "\u001b[32mcell38$Helper$TestMapOption:\u001b[0m\n",
      "\u001b[32mmapping the `None` value\u001b[0m\n",
      "\u001b[32m- should return `None`\u001b[0m\n",
      "\u001b[32mmapping a `Some` value\u001b[0m\n",
      "\u001b[32m- should only change its content\u001b[0m\n"
     ]
    }
   ],
   "source": [
    "run(TestMapOption(mapOpt))"
   ]
  },
  {
   "cell_type": "markdown",
   "metadata": {},
   "source": [
    "## Filtering elements"
   ]
  },
  {
   "cell_type": "markdown",
   "metadata": {},
   "source": [
    "Unlike `map`, the `filter` HOF allows us to change the shape of the data structure, removing those elements that do not satisfy a given predicate. "
   ]
  },
  {
   "cell_type": "markdown",
   "metadata": {},
   "source": [
    "![filter](../images/filter.svg)"
   ]
  },
  {
   "cell_type": "code",
   "execution_count": 41,
   "metadata": {},
   "outputs": [
    {
     "data": {
      "text/plain": [
       "defined \u001b[32mfunction\u001b[39m \u001b[36mfilterR\u001b[39m"
      ]
     },
     "execution_count": 41,
     "metadata": {},
     "output_type": "execute_result"
    }
   ],
   "source": [
    "def filterR[A](list: List[A])(predicate: A => Boolean): List[A] = \n",
    "    list match\n",
    "        case Nil => Nil \n",
    "        case head :: tail if predicate(head) => \n",
    "            head :: filterR(tail)(predicate)\n",
    "        case _ :: tail => \n",
    "            filterR(tail)(predicate)"
   ]
  },
  {
   "cell_type": "code",
   "execution_count": 42,
   "metadata": {},
   "outputs": [
    {
     "data": {
      "text/plain": [
       "defined \u001b[32mclass\u001b[39m \u001b[36mTestFilterList\u001b[39m"
      ]
     },
     "execution_count": 42,
     "metadata": {},
     "output_type": "execute_result"
    }
   ],
   "source": [
    "class TestFilterList(\n",
    "    filter: List[Int] => (Int => Boolean) => List[Int]\n",
    ") extends AnyFlatSpec with should.Matchers:\n",
    "    \n",
    "    val isEven: Int => Boolean = _ % 2 == 0\n",
    "\n",
    "    \"filter\" should \"work\" in:\n",
    "        filter(List())(isEven) shouldBe List()\n",
    "        filter(List(1))(isEven) shouldBe List()\n",
    "        filter(List(1,3,5))(isEven) shouldBe List()\n",
    "        filter(List(2,4,6))(isEven) shouldBe List(2,4,6)"
   ]
  },
  {
   "cell_type": "code",
   "execution_count": 43,
   "metadata": {},
   "outputs": [
    {
     "name": "stdout",
     "output_type": "stream",
     "text": [
      "\u001b[32mcell42$Helper$TestFilterList:\u001b[0m\n",
      "\u001b[32mfilter\u001b[0m\n",
      "\u001b[32m- should work\u001b[0m\n"
     ]
    }
   ],
   "source": [
    "run(TestFilterList(filterR))"
   ]
  },
  {
   "cell_type": "markdown",
   "metadata": {},
   "source": [
    "Using `foldRight` we can get a more modular implementation: "
   ]
  },
  {
   "cell_type": "code",
   "execution_count": 45,
   "metadata": {},
   "outputs": [
    {
     "data": {
      "text/plain": [
       "defined \u001b[32mfunction\u001b[39m \u001b[36mfilterFR\u001b[39m"
      ]
     },
     "execution_count": 45,
     "metadata": {},
     "output_type": "execute_result"
    }
   ],
   "source": [
    "def filterFR[A](list: List[A])(predicate: A => Boolean): List[A] = \n",
    "    list.foldRight(List[A]()):\n",
    "        (head, filteredTail) => \n",
    "            if (predicate(head)) head :: filteredTail\n",
    "            else filteredTail"
   ]
  },
  {
   "cell_type": "code",
   "execution_count": 46,
   "metadata": {},
   "outputs": [
    {
     "name": "stdout",
     "output_type": "stream",
     "text": [
      "\u001b[32mcell42$Helper$TestFilterList:\u001b[0m\n",
      "\u001b[32mfilter\u001b[0m\n",
      "\u001b[32m- should work\u001b[0m\n"
     ]
    }
   ],
   "source": [
    "run(TestFilterList(filterFR))"
   ]
  },
  {
   "cell_type": "markdown",
   "metadata": {},
   "source": [
    "### Filtering optional values"
   ]
  },
  {
   "cell_type": "markdown",
   "metadata": {},
   "source": [
    "We only have a possible value, so implementing filtering is easy in this case:"
   ]
  },
  {
   "cell_type": "code",
   "execution_count": 48,
   "metadata": {},
   "outputs": [
    {
     "data": {
      "text/plain": [
       "defined \u001b[32mclass\u001b[39m \u001b[36mTestFilterOption\u001b[39m"
      ]
     },
     "execution_count": 48,
     "metadata": {},
     "output_type": "execute_result"
    }
   ],
   "source": [
    "class TestFilterOption(\n",
    "    filter: Option[Int] => (Int => Boolean) => Option[Int]\n",
    ") extends AnyFlatSpec with should.Matchers:\n",
    "    \n",
    "    val isEven: Int => Boolean = _ % 2 == 0\n",
    "\n",
    "    \"filter\" should \"work\" in:\n",
    "        filter(None)(isEven) shouldBe None\n",
    "        filter(Some(1))(isEven) shouldBe None\n",
    "        filter(Some(2))(isEven) shouldBe Some(2)"
   ]
  },
  {
   "cell_type": "code",
   "execution_count": 49,
   "metadata": {},
   "outputs": [
    {
     "data": {
      "text/plain": [
       "defined \u001b[32mfunction\u001b[39m \u001b[36mfilter\u001b[39m"
      ]
     },
     "execution_count": 49,
     "metadata": {},
     "output_type": "execute_result"
    }
   ],
   "source": [
    "def filter[A](maybeA: Option[A])(predicate: A => Boolean): Option[A] = \n",
    "    maybeA match\n",
    "        case None => None\n",
    "        case Some(a) if predicate(a) => Some(a)\n",
    "        case _ => None"
   ]
  },
  {
   "cell_type": "code",
   "execution_count": 50,
   "metadata": {},
   "outputs": [
    {
     "name": "stdout",
     "output_type": "stream",
     "text": [
      "\u001b[32mcell48$Helper$TestFilterOption:\u001b[0m\n",
      "\u001b[32mfilter\u001b[0m\n",
      "\u001b[32m- should work\u001b[0m\n"
     ]
    }
   ],
   "source": [
    "run(TestFilterOption(filter))"
   ]
  },
  {
   "cell_type": "markdown",
   "metadata": {},
   "source": [
    "## FlatMapping data structures"
   ]
  },
  {
   "cell_type": "markdown",
   "metadata": {},
   "source": [
    "Let's consider a paragraph represented as a list of sentences, where each sentence is in turn modelled as a string made of _words_ separated by blank spaces. We want to obtain a list of all the words in each sentence. "
   ]
  },
  {
   "cell_type": "code",
   "execution_count": 51,
   "metadata": {},
   "outputs": [
    {
     "data": {
      "text/plain": [
       "defined \u001b[32mfunction\u001b[39m \u001b[36mwords\u001b[39m"
      ]
     },
     "execution_count": 51,
     "metadata": {},
     "output_type": "execute_result"
    }
   ],
   "source": [
    "def words(paragraph: List[String]): List[String] = \n",
    "    ???"
   ]
  },
  {
   "cell_type": "code",
   "execution_count": 52,
   "metadata": {},
   "outputs": [
    {
     "data": {
      "text/plain": [
       "defined \u001b[32mclass\u001b[39m \u001b[36mTestWords\u001b[39m"
      ]
     },
     "execution_count": 52,
     "metadata": {},
     "output_type": "execute_result"
    }
   ],
   "source": [
    "class TestWords(\n",
    "    words: List[String] => List[String]\n",
    ") extends AnyFlatSpec with should.Matchers:\n",
    "            \n",
    "    val paragraph1 = List(\n",
    "        \"En un lugar\",\n",
    "        \"de la Mancha\", \n",
    "        \"de cuyo nombre no\",\n",
    "        \"quiero acordarme\")\n",
    "    \n",
    "    \"words\" should \"work\" in:\n",
    "        words(paragraph1) shouldBe \n",
    "            List(\"En\", \"un\", \"lugar\", \"de\", \"la\", \"Mancha\", \n",
    "                 \"de\", \"cuyo\", \"nombre\", \"no\", \"quiero\", \"acordarme\")"
   ]
  },
  {
   "cell_type": "markdown",
   "metadata": {},
   "source": [
    "We may try to map the paragraph with a function that `split`s  each sentence into the words they are made of:"
   ]
  },
  {
   "cell_type": "code",
   "execution_count": 53,
   "metadata": {},
   "outputs": [
    {
     "data": {
      "text/plain": [
       "\u001b[36mparagraph\u001b[39m: \u001b[32mList\u001b[39m[\u001b[32mString\u001b[39m] = \u001b[33mList\u001b[39m(\u001b[32m\"en un lugar\"\u001b[39m, \u001b[32m\"de la Mancha\"\u001b[39m)\n",
       "\u001b[36mres53_1\u001b[39m: \u001b[32mList\u001b[39m[\u001b[32mList\u001b[39m[\u001b[32mString\u001b[39m]] = \u001b[33mList\u001b[39m(\n",
       "  \u001b[33mList\u001b[39m(\u001b[32m\"en\"\u001b[39m, \u001b[32m\"un\"\u001b[39m, \u001b[32m\"lugar\"\u001b[39m),\n",
       "  \u001b[33mList\u001b[39m(\u001b[32m\"de\"\u001b[39m, \u001b[32m\"la\"\u001b[39m, \u001b[32m\"Mancha\"\u001b[39m)\n",
       ")"
      ]
     },
     "execution_count": 53,
     "metadata": {},
     "output_type": "execute_result"
    }
   ],
   "source": [
    "val paragraph: List[String] = List(\"en un lugar\", \"de la Mancha\")\n",
    "\n",
    "map(paragraph)((sentence: String) => sentence.split(\" \").toList)"
   ]
  },
  {
   "cell_type": "markdown",
   "metadata": {},
   "source": [
    "but then we obtain a _list of lists_ of strings, not a list of plain strings. The solution is not far though: we have just to concatenate all the lists and we obtain what we need. The function `flatten` performs this concatenation:"
   ]
  },
  {
   "cell_type": "code",
   "execution_count": 54,
   "metadata": {},
   "outputs": [
    {
     "data": {
      "text/plain": [
       "defined \u001b[32mfunction\u001b[39m \u001b[36mflatten\u001b[39m"
      ]
     },
     "execution_count": 54,
     "metadata": {},
     "output_type": "execute_result"
    }
   ],
   "source": [
    "def flatten[A](listOflists: List[List[A]]): List[A] = \n",
    "    listOflists.foldRight(List[A]()):\n",
    "        (list, flattenedTail) => \n",
    "            list ++ flattenedTail"
   ]
  },
  {
   "cell_type": "markdown",
   "metadata": {},
   "source": [
    "The function `flatten` is actually provided by the Scala API. So, the implementation of the `words` function is as follows:"
   ]
  },
  {
   "cell_type": "code",
   "execution_count": 55,
   "metadata": {},
   "outputs": [
    {
     "data": {
      "text/plain": [
       "defined \u001b[32mfunction\u001b[39m \u001b[36mwords\u001b[39m"
      ]
     },
     "execution_count": 55,
     "metadata": {},
     "output_type": "execute_result"
    }
   ],
   "source": [
    "def words(paragraph: List[String]): List[String] = \n",
    "    paragraph\n",
    "        .map(sentence => sentence.split(\" \").toList)\n",
    "        .flatten"
   ]
  },
  {
   "cell_type": "code",
   "execution_count": 57,
   "metadata": {},
   "outputs": [
    {
     "name": "stdout",
     "output_type": "stream",
     "text": [
      "\u001b[32mcell52$Helper$TestWords:\u001b[0m\n",
      "\u001b[32mwords\u001b[0m\n",
      "\u001b[32m- should work\u001b[0m\n"
     ]
    }
   ],
   "source": [
    "run(TestWords(words))"
   ]
  },
  {
   "cell_type": "markdown",
   "metadata": {},
   "source": [
    "This combination of the HOF `map` and the function `flatten` is so common, that it has been given a proper name: `flatMap`. "
   ]
  },
  {
   "cell_type": "code",
   "execution_count": 58,
   "metadata": {},
   "outputs": [
    {
     "data": {
      "text/plain": [
       "defined \u001b[32mfunction\u001b[39m \u001b[36mflatMap\u001b[39m"
      ]
     },
     "execution_count": 58,
     "metadata": {},
     "output_type": "execute_result"
    }
   ],
   "source": [
    "def flatMap[A](list: List[A])(f: A => List[A]): List[A] = \n",
    "    list.map(f).flatten"
   ]
  },
  {
   "cell_type": "markdown",
   "metadata": {},
   "source": [
    "![filter](../images/flatMap.svg)"
   ]
  },
  {
   "cell_type": "markdown",
   "metadata": {},
   "source": [
    "Using `flatMap` the word function is implemented even more easily:"
   ]
  },
  {
   "cell_type": "code",
   "execution_count": 59,
   "metadata": {},
   "outputs": [
    {
     "data": {
      "text/plain": [
       "defined \u001b[32mfunction\u001b[39m \u001b[36mwords\u001b[39m"
      ]
     },
     "execution_count": 59,
     "metadata": {},
     "output_type": "execute_result"
    }
   ],
   "source": [
    "def words(paragraph: List[String]): List[String] = \n",
    "    paragraph.flatMap: sentence => \n",
    "        sentence.split(\" \").toList"
   ]
  },
  {
   "cell_type": "markdown",
   "metadata": {},
   "source": [
    "### FlatMapping optional values"
   ]
  },
  {
   "cell_type": "code",
   "execution_count": 60,
   "metadata": {},
   "outputs": [
    {
     "data": {
      "text/plain": [
       "defined \u001b[32mfunction\u001b[39m \u001b[36mflatMap\u001b[39m"
      ]
     },
     "execution_count": 60,
     "metadata": {},
     "output_type": "execute_result"
    }
   ],
   "source": [
    "def flatMap[A, B](maybeA: Option[A])(cont: A => Option[B]): Option[B] = \n",
    "    maybeA match\n",
    "        case None => \n",
    "            None\n",
    "        case Some(a) => \n",
    "            cont(a)"
   ]
  },
  {
   "cell_type": "code",
   "execution_count": 61,
   "metadata": {},
   "outputs": [
    {
     "data": {
      "text/plain": [
       "defined \u001b[32mclass\u001b[39m \u001b[36mTestFlatMapOption\u001b[39m"
      ]
     },
     "execution_count": 61,
     "metadata": {},
     "output_type": "execute_result"
    }
   ],
   "source": [
    "class TestFlatMapOption(\n",
    "    flatMap: Option[Int] => (Int => Option[Boolean]) => Option[Boolean]\n",
    ") extends AnyFlatSpec with should.Matchers:\n",
    "    \n",
    "    def isPositiveEven(i: Int): Option[Boolean] = \n",
    "        if (i>=0) Some(i % 2 == 0)\n",
    "        else None\n",
    "    \n",
    "    \"flatMap\" should \"work\" in:\n",
    "        flatMap(None)(isPositiveEven) shouldBe None\n",
    "        flatMap(Some(5))(isPositiveEven) shouldBe Some(false)\n",
    "        flatMap(Some(-5))(isPositiveEven) shouldBe None\n",
    "        flatMap(Some(0))(isPositiveEven) shouldBe Some(true)\n",
    "        flatMap(Some(4))(isPositiveEven) shouldBe Some(true)"
   ]
  },
  {
   "cell_type": "code",
   "execution_count": 62,
   "metadata": {},
   "outputs": [
    {
     "name": "stdout",
     "output_type": "stream",
     "text": [
      "\u001b[32mcell61$Helper$TestFlatMapOption:\u001b[0m\n",
      "\u001b[32mflatMap\u001b[0m\n",
      "\u001b[32m- should work\u001b[0m\n"
     ]
    }
   ],
   "source": [
    "run(TestFlatMapOption(flatMap))"
   ]
  },
  {
   "cell_type": "markdown",
   "metadata": {},
   "source": [
    "## All together: a modularity problem"
   ]
  },
  {
   "cell_type": "markdown",
   "metadata": {},
   "source": [
    "As before, we start from a list of sentences, but now we want to take care of the possible extra spaces between each word. Also, we want to obtain not the words themselves but their lengths. So, the specification of our problem is a function `lengths`:"
   ]
  },
  {
   "cell_type": "code",
   "execution_count": 63,
   "metadata": {},
   "outputs": [
    {
     "data": {
      "text/plain": [
       "defined \u001b[32mfunction\u001b[39m \u001b[36mlengths\u001b[39m"
      ]
     },
     "execution_count": 63,
     "metadata": {},
     "output_type": "execute_result"
    }
   ],
   "source": [
    "def lengths(paragraph: List[String]): List[Int] = ???"
   ]
  },
  {
   "cell_type": "markdown",
   "metadata": {},
   "source": [
    "such that: "
   ]
  },
  {
   "cell_type": "code",
   "execution_count": 64,
   "metadata": {},
   "outputs": [
    {
     "data": {
      "text/plain": [
       "defined \u001b[32mclass\u001b[39m \u001b[36mTestLengths\u001b[39m"
      ]
     },
     "execution_count": 64,
     "metadata": {},
     "output_type": "execute_result"
    }
   ],
   "source": [
    "class TestLengths(\n",
    "    lengths: List[String] => List[Int]\n",
    ") extends AnyFlatSpec with should.Matchers:\n",
    "            \n",
    "    val paragraph1 = List(\n",
    "        \"En un  lugar\",\n",
    "        \"de  la Mancha \", \n",
    "        \"de cuyo nombre no\",\n",
    "        \"quiero        acordarme\")\n",
    "    \n",
    "    \"lengths\" should \"work\" in:\n",
    "        lengths(paragraph1) shouldBe \n",
    "            List(2, 2, 5, 2, 2, 6, \n",
    "                 2, 4, 6, 2, 6, 9)"
   ]
  },
  {
   "cell_type": "markdown",
   "metadata": {},
   "source": [
    "We may try to implement this function imperatively using mutable variables:"
   ]
  },
  {
   "cell_type": "code",
   "execution_count": 70,
   "metadata": {},
   "outputs": [
    {
     "data": {
      "text/plain": [
       "defined \u001b[32mfunction\u001b[39m \u001b[36mlengthsM\u001b[39m"
      ]
     },
     "execution_count": 70,
     "metadata": {},
     "output_type": "execute_result"
    }
   ],
   "source": [
    "def lengthsM(paragraph: List[String]): List[Int] =\n",
    "    var out: List[Int] = List()\n",
    "\n",
    "    for (sentence <- paragraph)\n",
    "        val words: List[String] =\n",
    "            sentence.split(\" \").toList\n",
    "        for (word <- words)\n",
    "            if (word != \"\") \n",
    "                out = word.length :: out\n",
    "\n",
    "    out.reverse"
   ]
  },
  {
   "cell_type": "markdown",
   "metadata": {},
   "source": [
    "and this works, of course: "
   ]
  },
  {
   "cell_type": "code",
   "execution_count": 69,
   "metadata": {},
   "outputs": [
    {
     "name": "stdout",
     "output_type": "stream",
     "text": [
      "\u001b[32mcell64$Helper$TestLengths:\u001b[0m\n",
      "\u001b[32mlengths\u001b[0m\n",
      "\u001b[32m- should work\u001b[0m\n"
     ]
    }
   ],
   "source": [
    "run(TestLengths(lengthsM))"
   ]
  },
  {
   "cell_type": "markdown",
   "metadata": {},
   "source": [
    "but can we do it better? Yes, we can! Using HOFs we can get a more concise, understandable and reliable version, with a great level of reuse!"
   ]
  },
  {
   "cell_type": "code",
   "execution_count": 71,
   "metadata": {},
   "outputs": [
    {
     "data": {
      "text/plain": [
       "defined \u001b[32mfunction\u001b[39m \u001b[36mlengthsHOF\u001b[39m"
      ]
     },
     "execution_count": 71,
     "metadata": {},
     "output_type": "execute_result"
    }
   ],
   "source": [
    "def lengthsHOF(paragraph: List[String]): List[Int] = \n",
    "    paragraph\n",
    "        .flatMap(_.split(\" \").toList)\n",
    "        .filter(_ != \"\")\n",
    "        .map(_.length)"
   ]
  },
  {
   "cell_type": "code",
   "execution_count": 73,
   "metadata": {},
   "outputs": [
    {
     "name": "stdout",
     "output_type": "stream",
     "text": [
      "\u001b[32mcell64$Helper$TestLengths:\u001b[0m\n",
      "\u001b[32mlengths\u001b[0m\n",
      "\u001b[32m- should work\u001b[0m\n"
     ]
    }
   ],
   "source": [
    "run(TestLengths(lengthsHOF))"
   ]
  },
  {
   "cell_type": "markdown",
   "metadata": {},
   "source": [
    "This solution contrasts with the mutable version in several respects:\n",
    "- It's more **modular**, i.e. it's made of coarse-grained components: the HOFs `flatMap`, `filter` and `map`. The mutable version builds instead upon fine-grained components: `var`s, and `for` loops.\n",
    "- The HOF components `flatMap`, etc., are actually very generic and domain-independent, and are typically part of standard libraries, so the level of **reuse** and **reliability** of the HOF-based solution is very high.\n",
    "- The HOF-based solution is more **understandable**: it models the solution to the problem in terms of standard _transformations_ which are composed together using plain function composition. Moreover, these transformations are also at the right level of abstraction, i.e. it's natural to specify the solution to the problem in terms of flatMap, filter and map."
   ]
  },
  {
   "cell_type": "markdown",
   "metadata": {},
   "source": [
    "### For-comprehensions"
   ]
  },
  {
   "cell_type": "markdown",
   "metadata": {},
   "source": [
    "The combination of `map`, `flatMap` and `filter` HOFs is so common, that Scala has a special syntax for them: for-comprehensions."
   ]
  },
  {
   "cell_type": "code",
   "execution_count": 76,
   "metadata": {},
   "outputs": [
    {
     "data": {
      "text/plain": [
       "defined \u001b[32mfunction\u001b[39m \u001b[36mlengthsFC\u001b[39m"
      ]
     },
     "execution_count": 76,
     "metadata": {},
     "output_type": "execute_result"
    }
   ],
   "source": [
    "def lengthsFC(paragraph: List[String]): List[Int] = \n",
    "    for sentence <- paragraph \n",
    "        word <- sentence.split(\" \").toList if word != \"\"\n",
    "    yield word.length"
   ]
  },
  {
   "cell_type": "code",
   "execution_count": 77,
   "metadata": {},
   "outputs": [
    {
     "name": "stdout",
     "output_type": "stream",
     "text": [
      "\u001b[32mcell64$Helper$TestLengths:\u001b[0m\n",
      "\u001b[32mlengths\u001b[0m\n",
      "\u001b[32m- should work\u001b[0m\n"
     ]
    }
   ],
   "source": [
    "run(TestLengths(lengthsFC))"
   ]
  }
 ],
 "metadata": {
  "kernelspec": {
   "display_name": "Scala 3.3",
   "language": "scala",
   "name": "scala33"
  },
  "language_info": {
   "codemirror_mode": "text/x-scala",
   "file_extension": ".sc",
   "mimetype": "text/x-scala",
   "name": "scala",
   "nbconvert_exporter": "script",
   "version": "2.13.12"
  }
 },
 "nbformat": 4,
 "nbformat_minor": 4
}
