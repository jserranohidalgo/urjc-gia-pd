{
 "cells": [
  {
   "cell_type": "markdown",
   "metadata": {
    "jp-MarkdownHeadingCollapsed": true,
    "tags": []
   },
   "source": [
    "### Preamble"
   ]
  },
  {
   "cell_type": "code",
   "execution_count": null,
   "metadata": {},
   "outputs": [],
   "source": [
    "import $ivy.`org.scalatest::scalatest:3.2.16`\n",
    "import org.scalatest.{Filter => _, _}, flatspec._, matchers._"
   ]
  },
  {
   "cell_type": "markdown",
   "metadata": {},
   "source": [
    "# Topic 6. Higher-Order functions"
   ]
  },
  {
   "cell_type": "markdown",
   "metadata": {},
   "source": [
    "# Problem 1"
   ]
  },
  {
   "cell_type": "markdown",
   "metadata": {},
   "source": [
    "Write a function that concatenates two lists using `foldRight`."
   ]
  },
  {
   "cell_type": "code",
   "execution_count": null,
   "metadata": {},
   "outputs": [],
   "source": [
    "class TestConcatenate(\n",
    "    concatenate: (List[Int], List[Int]) => List[Int]\n",
    ") extends AnyFlatSpec with should.Matchers:\n",
    "    \"concatenate\" should \"work\" in:\n",
    "        concatenate(List(), List()) shouldBe List()\n",
    "        concatenate(List(1), List()) shouldBe List(1)\n",
    "        concatenate(List(), List(1)) shouldBe List(1)\n",
    "        concatenate(List(1,2,3), List(1,3)) shouldBe List(1,2,3,1,3)"
   ]
  },
  {
   "cell_type": "markdown",
   "metadata": {
    "jp-MarkdownHeadingCollapsed": true,
    "tags": []
   },
   "source": [
    "###### Solution"
   ]
  },
  {
   "cell_type": "code",
   "execution_count": null,
   "metadata": {},
   "outputs": [],
   "source": [
    "def concatenate[A](list1: List[A], list2: List[A]): List[A] = \n",
    "    list1.foldRight(list2)(_ :: _)"
   ]
  },
  {
   "cell_type": "markdown",
   "metadata": {
    "tags": []
   },
   "source": [
    "###### Your solution"
   ]
  },
  {
   "cell_type": "code",
   "execution_count": null,
   "metadata": {},
   "outputs": [],
   "source": []
  },
  {
   "cell_type": "code",
   "execution_count": null,
   "metadata": {},
   "outputs": [],
   "source": [
    "run(TestConcatenate(concatenate))"
   ]
  },
  {
   "cell_type": "markdown",
   "metadata": {},
   "source": [
    "# Problem 2"
   ]
  },
  {
   "cell_type": "markdown",
   "metadata": {},
   "source": [
    "Write a function that returns the head of a list, if non-empty. Use the `foldRight` HOF."
   ]
  },
  {
   "cell_type": "code",
   "execution_count": null,
   "metadata": {},
   "outputs": [],
   "source": [
    "class TestHeadOption(\n",
    "    headOption: List[Int] => Option[Int]\n",
    ") extends AnyFlatSpec with should.Matchers:\n",
    "    \"headOption\" should \"work\" in:\n",
    "        headOption(List()) shouldBe None\n",
    "        headOption(List(1)) shouldBe Some(1)\n",
    "        headOption(List(1,2,3)) shouldBe Some(1)"
   ]
  },
  {
   "cell_type": "markdown",
   "metadata": {
    "jp-MarkdownHeadingCollapsed": true,
    "tags": []
   },
   "source": [
    "###### Solution"
   ]
  },
  {
   "cell_type": "code",
   "execution_count": null,
   "metadata": {},
   "outputs": [],
   "source": [
    "def headOption[A](list: List[A]): Option[A] = \n",
    "    list.foldRight[Option[A]](None)((e, _) => Some(e))"
   ]
  },
  {
   "cell_type": "markdown",
   "metadata": {
    "tags": []
   },
   "source": [
    "###### Your solution"
   ]
  },
  {
   "cell_type": "code",
   "execution_count": null,
   "metadata": {},
   "outputs": [],
   "source": []
  },
  {
   "cell_type": "code",
   "execution_count": null,
   "metadata": {},
   "outputs": [],
   "source": [
    "run(TestHeadOption(headOption))"
   ]
  },
  {
   "cell_type": "markdown",
   "metadata": {},
   "source": [
    "# Problem 3"
   ]
  },
  {
   "cell_type": "markdown",
   "metadata": {},
   "source": [
    "Write a function that inserts an element at the end of a given list. Use the `foldRight` HOF."
   ]
  },
  {
   "cell_type": "code",
   "execution_count": null,
   "metadata": {},
   "outputs": [],
   "source": [
    "class TestInsertLast(\n",
    "    insertLast: (List[Int], Int) => List[Int]\n",
    ") extends AnyFlatSpec with should.Matchers:\n",
    "    \n",
    "    \"insertLast\" should \"work\" in:\n",
    "        insertLast(List(), 1) shouldBe List(1)\n",
    "        insertLast(List(1), 2) shouldBe List(1,2)\n",
    "        insertLast(List(1,2,3), 4) shouldBe List(1,2,3,4)"
   ]
  },
  {
   "cell_type": "markdown",
   "metadata": {
    "jp-MarkdownHeadingCollapsed": true,
    "tags": []
   },
   "source": [
    "###### Solution"
   ]
  },
  {
   "cell_type": "code",
   "execution_count": null,
   "metadata": {},
   "outputs": [],
   "source": [
    "def insertLast[A](list: List[A], elem: A): List[A] = \n",
    "    list.foldRight(List(elem))(_ :: _)"
   ]
  },
  {
   "cell_type": "markdown",
   "metadata": {
    "tags": []
   },
   "source": [
    "###### Your solution"
   ]
  },
  {
   "cell_type": "code",
   "execution_count": null,
   "metadata": {},
   "outputs": [],
   "source": []
  },
  {
   "cell_type": "code",
   "execution_count": null,
   "metadata": {},
   "outputs": [],
   "source": [
    "run(TestInsertLast(insertLast))"
   ]
  },
  {
   "cell_type": "markdown",
   "metadata": {},
   "source": [
    "# Problem 4"
   ]
  },
  {
   "cell_type": "markdown",
   "metadata": {},
   "source": [
    "Use `foldRight` to implement a function that given a list of strings or integers, returns the concatenation of all the string elements. If the list doesn't contain any string, it must return the empty string."
   ]
  },
  {
   "cell_type": "code",
   "execution_count": null,
   "metadata": {},
   "outputs": [],
   "source": [
    "class TestConcatenateEither(\n",
    "    conc: List[Either[String, Int]] => String\n",
    ") extends AnyFlatSpec with should.Matchers:\n",
    "\n",
    "    \"concatenate\" should \"work\" in:\n",
    "        conc(List()) shouldBe \"\" \n",
    "        conc(List(Right(1), Right(2), Right(3))) shouldBe \"\"\n",
    "        conc(List(Left(\"hello\"), Left(\", \"), Left(\"world!\"))) shouldBe \n",
    "            \"hello, world!\"\n",
    "        conc(List(Right(1), Left(\"hello\"), Right(2), \n",
    "                  Left(\", \"), Left(\"world!\"), Right(5))) shouldBe \n",
    "            \"hello, world!\""
   ]
  },
  {
   "cell_type": "markdown",
   "metadata": {
    "jp-MarkdownHeadingCollapsed": true,
    "tags": []
   },
   "source": [
    "###### Solution"
   ]
  },
  {
   "cell_type": "code",
   "execution_count": null,
   "metadata": {},
   "outputs": [],
   "source": [
    "def concatenateEither(list: List[Either[String, Int]]): String =\n",
    "    list.foldRight(\"\"):\n",
    "        case (Left(s), concatenatedTail) => \n",
    "            s ++ concatenatedTail\n",
    "        case (_, concatenatedTail) => \n",
    "            concatenatedTail"
   ]
  },
  {
   "cell_type": "markdown",
   "metadata": {
    "tags": []
   },
   "source": [
    "###### Your solution"
   ]
  },
  {
   "cell_type": "code",
   "execution_count": null,
   "metadata": {},
   "outputs": [],
   "source": []
  },
  {
   "cell_type": "code",
   "execution_count": null,
   "metadata": {},
   "outputs": [],
   "source": [
    "run(TestConcatenateEither(concatenateEither))"
   ]
  },
  {
   "cell_type": "markdown",
   "metadata": {},
   "source": [
    "# Problem 5"
   ]
  },
  {
   "cell_type": "markdown",
   "metadata": {},
   "source": [
    "Write a function that returns the greatest element of a list of integers using `foldLeft`."
   ]
  },
  {
   "cell_type": "code",
   "execution_count": null,
   "metadata": {},
   "outputs": [],
   "source": [
    "class TestGreatest(\n",
    "    greatest: List[Int] => Option[Int]\n",
    ") extends AnyFlatSpec with should.Matchers:\n",
    "    \n",
    "    \"greatest of an empty list\" should \"return None\" in:\n",
    "        greatest(List()) shouldBe None\n",
    "    \n",
    "    \"greatest of a non-empty list\" should \"return the greatest one\" in:\n",
    "        greatest(List(1,2,3)) shouldBe Some(3)\n",
    "        greatest(List(3,2,1)) shouldBe Some(3)\n",
    "        greatest(List(1)) shouldBe Some(1)"
   ]
  },
  {
   "cell_type": "markdown",
   "metadata": {
    "jp-MarkdownHeadingCollapsed": true,
    "tags": []
   },
   "source": [
    "###### Solution"
   ]
  },
  {
   "cell_type": "code",
   "execution_count": null,
   "metadata": {},
   "outputs": [],
   "source": [
    "def greatestTR(list: List[Int]): Option[Int] = \n",
    "    list.foldLeft(Option.empty[Int]):\n",
    "        case (Some(e1), e2) if e1 > e2 => \n",
    "            Some(e1)\n",
    "        case (_, e2) => \n",
    "            Some(e2)"
   ]
  },
  {
   "cell_type": "markdown",
   "metadata": {
    "tags": []
   },
   "source": [
    "###### Your solution"
   ]
  },
  {
   "cell_type": "code",
   "execution_count": null,
   "metadata": {},
   "outputs": [],
   "source": []
  },
  {
   "cell_type": "code",
   "execution_count": null,
   "metadata": {},
   "outputs": [],
   "source": [
    "run(TestGreatest(greatestTR))"
   ]
  },
  {
   "cell_type": "markdown",
   "metadata": {},
   "source": [
    "# Problem 6"
   ]
  },
  {
   "cell_type": "markdown",
   "metadata": {},
   "source": [
    "Implement the `filter` function for `List`s using `flatMap`."
   ]
  },
  {
   "cell_type": "code",
   "execution_count": null,
   "metadata": {},
   "outputs": [],
   "source": [
    "class TestFilterList(\n",
    "    filter: List[Int] => (Int => Boolean) => List[Int]\n",
    ") extends AnyFlatSpec with should.Matchers:\n",
    "    val isEven: Int => Boolean = _ % 2 == 0\n",
    "    \n",
    "    \"filter\" should \"work\" in:\n",
    "        filter(List())(isEven) shouldBe List()\n",
    "        filter(List(1))(isEven) shouldBe List()\n",
    "        filter(List(1,3,5))(isEven) shouldBe List()\n",
    "        filter(List(2,4,6))(isEven) shouldBe List(2,4,6)"
   ]
  },
  {
   "cell_type": "markdown",
   "metadata": {
    "jp-MarkdownHeadingCollapsed": true,
    "tags": []
   },
   "source": [
    "###### Solution"
   ]
  },
  {
   "cell_type": "code",
   "execution_count": null,
   "metadata": {},
   "outputs": [],
   "source": [
    "def filter[A](list: List[A])(pred: A => Boolean): List[A] = \n",
    "    list.flatMap( a =>  if (pred(a)) List(a) else List())"
   ]
  },
  {
   "cell_type": "markdown",
   "metadata": {
    "tags": []
   },
   "source": [
    "###### Your solution"
   ]
  },
  {
   "cell_type": "code",
   "execution_count": null,
   "metadata": {},
   "outputs": [],
   "source": []
  },
  {
   "cell_type": "code",
   "execution_count": null,
   "metadata": {},
   "outputs": [],
   "source": [
    "run(TestFilterList(filter))"
   ]
  },
  {
   "cell_type": "markdown",
   "metadata": {},
   "source": [
    "# Problem 7"
   ]
  },
  {
   "cell_type": "markdown",
   "metadata": {},
   "source": [
    "Use `map` to implement a funtion that receives a list of pairs of integers and returns a new list made from the sum of all pairs."
   ]
  },
  {
   "cell_type": "code",
   "execution_count": null,
   "metadata": {},
   "outputs": [],
   "source": [
    "class TestSum(\n",
    "    sum: List[(Int, Int)] => List[Int]\n",
    ") extends AnyFlatSpec with should.Matchers:\n",
    "    \n",
    "    \"sum\" should \"work\" in:\n",
    "        sum(List()) shouldBe List()\n",
    "        sum(List((0,0))) shouldBe List(0)\n",
    "        sum(List((1,2), (3,4), (5,6))) shouldBe List(3, 7, 11)"
   ]
  },
  {
   "cell_type": "markdown",
   "metadata": {
    "jp-MarkdownHeadingCollapsed": true,
    "tags": []
   },
   "source": [
    "###### Solution"
   ]
  },
  {
   "cell_type": "code",
   "execution_count": null,
   "metadata": {},
   "outputs": [],
   "source": [
    "def sum(list: List[(Int, Int)]): List[Int] = \n",
    "    list.map{ case (a, b) => a + b }"
   ]
  },
  {
   "cell_type": "markdown",
   "metadata": {
    "tags": []
   },
   "source": [
    "###### Your solution"
   ]
  },
  {
   "cell_type": "code",
   "execution_count": null,
   "metadata": {},
   "outputs": [],
   "source": []
  },
  {
   "cell_type": "code",
   "execution_count": null,
   "metadata": {},
   "outputs": [],
   "source": [
    "run(TestSum(sum))"
   ]
  },
  {
   "cell_type": "markdown",
   "metadata": {},
   "source": [
    "# Problem 8"
   ]
  },
  {
   "cell_type": "markdown",
   "metadata": {},
   "source": [
    "__Part a)__ Write a function that given two lists of types `A` and `B`, create a list of elements of type `C` obtained by applying a function `f: (A, B) => C` to each pair of values from both lists in the same position. The length of the resulting list must be the minimum length of the input lists."
   ]
  },
  {
   "cell_type": "code",
   "execution_count": null,
   "metadata": {},
   "outputs": [],
   "source": [
    "class TestZipWith(\n",
    "    zipWith: (List[Int], List[String]) => \n",
    "        ((Int, String) => Boolean) => List[Boolean]\n",
    ") extends AnyFlatSpec with should.Matchers:\n",
    "    \n",
    "    val f: (Int, String) => Boolean = \n",
    "        (i: Int, s: String) => (i + s.length) > 0\n",
    "    \n",
    "    \"sum\" should \"work\" in:\n",
    "        zipWith(List(), List())(f) shouldBe List()\n",
    "        zipWith(List(0),List(\"a\"))(f) shouldBe List(true)\n",
    "        zipWith(List(-2,3,-5), List(\"ab\",\"hi\",\"\"))(f) shouldBe \n",
    "            List(false, true, false)"
   ]
  },
  {
   "cell_type": "markdown",
   "metadata": {
    "jp-MarkdownHeadingCollapsed": true,
    "tags": []
   },
   "source": [
    "###### Solution"
   ]
  },
  {
   "cell_type": "code",
   "execution_count": null,
   "metadata": {},
   "outputs": [],
   "source": [
    "def zipWith[A, B, C](list1: List[A], list2: List[B])(f: (A, B) => C): List[C] = \n",
    "    (list1, list2) match\n",
    "        case (h1::t1, h2::t2) => \n",
    "            f(h1, h2) :: zipWith(t1, t2)(f)\n",
    "        case _ => \n",
    "            Nil"
   ]
  },
  {
   "cell_type": "markdown",
   "metadata": {
    "tags": []
   },
   "source": [
    "###### Your solution"
   ]
  },
  {
   "cell_type": "code",
   "execution_count": null,
   "metadata": {},
   "outputs": [],
   "source": []
  },
  {
   "cell_type": "code",
   "execution_count": null,
   "metadata": {},
   "outputs": [],
   "source": [
    "run(TestZipWith(zipWith))"
   ]
  },
  {
   "cell_type": "markdown",
   "metadata": {},
   "source": [
    "__Part b)__ Use the function `zipWith` to implement the function `sum` below."
   ]
  },
  {
   "cell_type": "code",
   "execution_count": null,
   "metadata": {},
   "outputs": [],
   "source": [
    "class TestSum(\n",
    "    sum: (List[Int], List[Int]) => List[Int]\n",
    ") extends AnyFlatSpec with should.Matchers:\n",
    "    \n",
    "    \"sum\" should \"work\" in:\n",
    "        sum(List(), List()) shouldBe List()\n",
    "        sum(List(0),List(0)) shouldBe List(0)\n",
    "        sum(List(1,3,5), List(2,4,6)) shouldBe List(3, 7, 11)"
   ]
  },
  {
   "cell_type": "markdown",
   "metadata": {
    "jp-MarkdownHeadingCollapsed": true,
    "tags": []
   },
   "source": [
    "###### Solution"
   ]
  },
  {
   "cell_type": "code",
   "execution_count": null,
   "metadata": {},
   "outputs": [],
   "source": [
    "def sum(list1: List[Int], list2: List[Int]): List[Int] = \n",
    "    zipWith(list1, list2)(_ + _)"
   ]
  },
  {
   "cell_type": "markdown",
   "metadata": {
    "tags": []
   },
   "source": [
    "###### Your solution"
   ]
  },
  {
   "cell_type": "code",
   "execution_count": null,
   "metadata": {},
   "outputs": [],
   "source": []
  },
  {
   "cell_type": "code",
   "execution_count": null,
   "metadata": {},
   "outputs": [],
   "source": [
    "run(TestSum(sum))"
   ]
  },
  {
   "cell_type": "markdown",
   "metadata": {},
   "source": [
    "# Problem 9"
   ]
  },
  {
   "cell_type": "markdown",
   "metadata": {},
   "source": [
    "__Part a)__ Write the function `ocurrences`, which counts the number of elements that satisfy a given predicate. Use the `foldLeft` HOF."
   ]
  },
  {
   "cell_type": "markdown",
   "metadata": {
    "jp-MarkdownHeadingCollapsed": true,
    "tags": []
   },
   "source": [
    "###### Solution"
   ]
  },
  {
   "cell_type": "code",
   "execution_count": null,
   "metadata": {},
   "outputs": [],
   "source": [
    "def occurrences[A](list: List[A])(pred: A => Boolean): Int = \n",
    "    list.foldLeft(0):\n",
    "        case (acc, e) if pred(e) => acc + 1\n",
    "        case (acc, _) => acc"
   ]
  },
  {
   "cell_type": "markdown",
   "metadata": {
    "tags": []
   },
   "source": [
    "###### Your solution"
   ]
  },
  {
   "cell_type": "code",
   "execution_count": null,
   "metadata": {},
   "outputs": [],
   "source": []
  },
  {
   "cell_type": "markdown",
   "metadata": {},
   "source": [
    "__Part b)__ Use the generic function `occurrences` to create a function that counts the number of occurrences of a given element in a list."
   ]
  },
  {
   "cell_type": "code",
   "execution_count": null,
   "metadata": {},
   "outputs": [],
   "source": [
    "case class TestOccurrencesOf(\n",
    "    occurrencesOf: (List[String], String) => Int) \n",
    " extends AnyFlatSpec with should.Matchers:\n",
    "    \n",
    "    \"occurrences\" should \"work\" in:\n",
    "        occurrencesOf(List(\"1\",\"1\",\"1\"), \"1\") shouldBe 3\n",
    "        occurrencesOf(List(\"1\",\"2\",\"3\"), \"2\") shouldBe 1\n",
    "        occurrencesOf(List(), \"3\") shouldBe 0\n",
    "        occurrencesOf(List(\"1\",\"2\",\"3\"), \"5\") shouldBe 0"
   ]
  },
  {
   "cell_type": "markdown",
   "metadata": {
    "jp-MarkdownHeadingCollapsed": true,
    "tags": []
   },
   "source": [
    "###### Solution"
   ]
  },
  {
   "cell_type": "code",
   "execution_count": null,
   "metadata": {},
   "outputs": [],
   "source": [
    "def occurrencesOf[A](list: List[A], a: A): Int = \n",
    "    occurrences(list)(_ == a)"
   ]
  },
  {
   "cell_type": "markdown",
   "metadata": {
    "tags": []
   },
   "source": [
    "###### Your solution"
   ]
  },
  {
   "cell_type": "code",
   "execution_count": null,
   "metadata": {},
   "outputs": [],
   "source": []
  },
  {
   "cell_type": "code",
   "execution_count": null,
   "metadata": {},
   "outputs": [],
   "source": [
    "run(TestOccurrencesOf(occurrencesOf))"
   ]
  },
  {
   "cell_type": "markdown",
   "metadata": {},
   "source": [
    "__Part c)__ Implement the function `occurrencesOf` using `filter` and `length`."
   ]
  },
  {
   "cell_type": "markdown",
   "metadata": {
    "jp-MarkdownHeadingCollapsed": true,
    "tags": []
   },
   "source": [
    "###### Solution"
   ]
  },
  {
   "cell_type": "code",
   "execution_count": null,
   "metadata": {},
   "outputs": [],
   "source": [
    "def occurrencesOf_WithFilter[A](list: List[A], a: A): Int = \n",
    "    list.filter(_ == a).length"
   ]
  },
  {
   "cell_type": "markdown",
   "metadata": {
    "tags": []
   },
   "source": [
    "###### Your solution"
   ]
  },
  {
   "cell_type": "code",
   "execution_count": null,
   "metadata": {},
   "outputs": [],
   "source": []
  },
  {
   "cell_type": "code",
   "execution_count": null,
   "metadata": {},
   "outputs": [],
   "source": [
    "run(TestOccurrencesOf(occurrencesOf_WithFilter))"
   ]
  },
  {
   "cell_type": "markdown",
   "metadata": {},
   "source": [
    "# Problem 10"
   ]
  },
  {
   "cell_type": "markdown",
   "metadata": {},
   "source": [
    "__Part a)__ Write a function that takes the longest prefix of elements of a list that satisfy a given predicate."
   ]
  },
  {
   "cell_type": "code",
   "execution_count": null,
   "metadata": {},
   "outputs": [],
   "source": [
    "class TestTakeWhile(\n",
    "    takeWhile: List[String] => (String => Boolean) => List[String]\n",
    ") extends AnyFlatSpec with should.Matchers:\n",
    "    \n",
    "    val isEvenLength: String => Boolean = \n",
    "        (s: String) => s.length % 2 == 0\n",
    "    \n",
    "    \"takeWhile\" should \"work\" in:\n",
    "        takeWhile(List())(isEvenLength) shouldBe List()\n",
    "        takeWhile(List(\"a\", \"aa\", \"aaaa\"))(isEvenLength) shouldBe List()\n",
    "        takeWhile(List(\"\", \"ab\", \"abcd\", \"a\", \"aa\"))(isEvenLength) shouldBe \n",
    "            List(\"\", \"ab\", \"abcd\")"
   ]
  },
  {
   "cell_type": "markdown",
   "metadata": {
    "jp-MarkdownHeadingCollapsed": true,
    "tags": []
   },
   "source": [
    "###### Solution"
   ]
  },
  {
   "cell_type": "code",
   "execution_count": null,
   "metadata": {},
   "outputs": [],
   "source": [
    "def takeWhile[A](list: List[A])(pred: A => Boolean): List[A] = \n",
    "    list match\n",
    "        case head :: tail if pred(head) => \n",
    "            head :: takeWhile(tail)(pred)\n",
    "        case _ => \n",
    "            List()"
   ]
  },
  {
   "cell_type": "code",
   "execution_count": null,
   "metadata": {},
   "outputs": [],
   "source": [
    "def takeWhile[A](list: List[A])(pred: A => Boolean): List[A] = \n",
    "    list.foldRight(List() : List[A])(\n",
    "        (head: A, tailPrefix: List[A]) => \n",
    "            if (!pred(head)) List()\n",
    "            else head :: tailPrefix\n",
    "    )"
   ]
  },
  {
   "cell_type": "markdown",
   "metadata": {
    "tags": []
   },
   "source": [
    "###### Your solution"
   ]
  },
  {
   "cell_type": "code",
   "execution_count": null,
   "metadata": {},
   "outputs": [],
   "source": []
  },
  {
   "cell_type": "code",
   "execution_count": null,
   "metadata": {},
   "outputs": [],
   "source": [
    "run(TestTakeWhile(takeWhile))"
   ]
  },
  {
   "cell_type": "markdown",
   "metadata": {},
   "source": [
    "__Part b)__ Use the function `takeWhile` to implement `takePositives`, a function that returns the longest prefix of positive numbers of a list of integers. "
   ]
  },
  {
   "cell_type": "code",
   "execution_count": null,
   "metadata": {},
   "outputs": [],
   "source": [
    "class TestTakePositives(\n",
    "    takePositives: List[Int] => List[Int]\n",
    ") extends AnyFlatSpec with should.Matchers:\n",
    "    \n",
    "    \"takePositives\" should \"work\" in:\n",
    "        takePositives(List(1,2,-1,3,4)) shouldBe List(1,2)\n",
    "        takePositives(List(0,-1, 1,23)) shouldBe List()\n",
    "        takePositives(List()) shouldBe List()"
   ]
  },
  {
   "cell_type": "markdown",
   "metadata": {
    "jp-MarkdownHeadingCollapsed": true,
    "tags": []
   },
   "source": [
    "###### Solution"
   ]
  },
  {
   "cell_type": "code",
   "execution_count": null,
   "metadata": {},
   "outputs": [],
   "source": [
    "def takePositives(list: List[Int]): List[Int] = \n",
    "    takeWhile(list)(_ > 0)"
   ]
  },
  {
   "cell_type": "markdown",
   "metadata": {
    "tags": []
   },
   "source": [
    "###### Your solution"
   ]
  },
  {
   "cell_type": "code",
   "execution_count": null,
   "metadata": {},
   "outputs": [],
   "source": []
  },
  {
   "cell_type": "code",
   "execution_count": null,
   "metadata": {},
   "outputs": [],
   "source": [
    "run(TestTakePositives(takePositives))"
   ]
  },
  {
   "cell_type": "markdown",
   "metadata": {},
   "source": [
    "# Problem 11"
   ]
  },
  {
   "cell_type": "markdown",
   "metadata": {},
   "source": [
    "__Part a)__ Write a function that partitions a list of elements into two lists with all the elements that satisfy and do not satisfy, respectively, a given predicate."
   ]
  },
  {
   "cell_type": "code",
   "execution_count": null,
   "metadata": {},
   "outputs": [],
   "source": [
    "class TestPartition(\n",
    "    partition: List[String] => (String => Boolean) => (List[String], List[String])\n",
    ") extends AnyFlatSpec with should.Matchers:\n",
    "    \n",
    "    val containsA: String => Boolean = \n",
    "        (s: String) => s.contains('A')\n",
    "    \n",
    "    \"partition\" should \"work\" in:\n",
    "        partition(List(\"AB\", \"ab\", \"\"))(containsA) shouldBe \n",
    "            (List(\"AB\"), List(\"ab\", \"\"))\n",
    "        \n",
    "        partition(List())(containsA) shouldBe \n",
    "            (List(), List())\n",
    "        \n",
    "        partition(List(\"aaA\", \"a\", \"Ab\", \"b\", \"c\"))(containsA) shouldBe\n",
    "            (List(\"aaA\", \"Ab\"), List(\"a\", \"b\", \"c\"))"
   ]
  },
  {
   "cell_type": "markdown",
   "metadata": {
    "jp-MarkdownHeadingCollapsed": true,
    "tags": []
   },
   "source": [
    "###### Solution"
   ]
  },
  {
   "cell_type": "code",
   "execution_count": null,
   "metadata": {},
   "outputs": [],
   "source": [
    "def partition[A](list: List[A])(predicate: A => Boolean): (List[A], List[A]) = \n",
    "    list.foldRight((List[A](), List[A]())):\n",
    "        case (e, (listYes, listNo)) if predicate(e) => \n",
    "            (e :: listYes, listNo)\n",
    "        case (e, (listYes, listNo))  => \n",
    "            (listYes, e :: listNo)"
   ]
  },
  {
   "cell_type": "markdown",
   "metadata": {
    "tags": []
   },
   "source": [
    "###### Your solution"
   ]
  },
  {
   "cell_type": "code",
   "execution_count": null,
   "metadata": {},
   "outputs": [],
   "source": []
  },
  {
   "cell_type": "code",
   "execution_count": null,
   "metadata": {},
   "outputs": [],
   "source": [
    "run(TestPartition(partition))"
   ]
  },
  {
   "cell_type": "markdown",
   "metadata": {},
   "source": [
    "__Part b)__ Write a function that partitions a list of integers into a list of odd numbers and a list of even numbers. "
   ]
  },
  {
   "cell_type": "code",
   "execution_count": null,
   "metadata": {},
   "outputs": [],
   "source": [
    "class TestEvenOddPartition(\n",
    "    candidate: List[Int] => (List[Int], List[Int])\n",
    ") extends AnyFlatSpec with should.Matchers:\n",
    "    \n",
    "    \"partitionEvenOdd\" should \"work\" in:\n",
    "        candidate(List()) shouldBe (List(), List())\n",
    "        candidate(List(1,3,5)) shouldBe (List(1,3,5), List())\n",
    "        candidate(List(0,2,4,6)) shouldBe (List(), List(0,2,4,6))\n",
    "        candidate(List(1,2,3,4,5)) shouldBe (List(1,3,5), List(2,4))"
   ]
  },
  {
   "cell_type": "markdown",
   "metadata": {
    "jp-MarkdownHeadingCollapsed": true,
    "tags": []
   },
   "source": [
    "###### Solution"
   ]
  },
  {
   "cell_type": "code",
   "execution_count": null,
   "metadata": {},
   "outputs": [],
   "source": [
    "def partitionEvenOdd(list: List[Int]): (List[Int], List[Int]) = \n",
    "    partition(list)((i: Int) => i % 2 != 0)"
   ]
  },
  {
   "cell_type": "markdown",
   "metadata": {
    "tags": []
   },
   "source": [
    "###### Your solution"
   ]
  },
  {
   "cell_type": "code",
   "execution_count": null,
   "metadata": {},
   "outputs": [],
   "source": []
  },
  {
   "cell_type": "code",
   "execution_count": null,
   "metadata": {},
   "outputs": [],
   "source": [
    "run(TestEvenOddPartition(partitionEvenOdd))"
   ]
  },
  {
   "cell_type": "markdown",
   "metadata": {},
   "source": [
    "# Problem 12"
   ]
  },
  {
   "cell_type": "markdown",
   "metadata": {},
   "source": [
    "The functions of this problem must terminate as soon as possible. Explain why using `foldRight` is not adequate given this constraint."
   ]
  },
  {
   "cell_type": "markdown",
   "metadata": {},
   "source": [
    "__Part a)__ Write a function to determine if all the elements of a list pass a given predicate."
   ]
  },
  {
   "cell_type": "code",
   "execution_count": null,
   "metadata": {},
   "outputs": [],
   "source": [
    "class TestForall(\n",
    "    forall: List[Int] => (Int => Boolean) => Boolean\n",
    ") extends AnyFlatSpec with should.Matchers:\n",
    "    \n",
    "    val isEven: Int => Boolean = \n",
    "        _ % 2 == 0\n",
    "    \n",
    "    \"forall\" should \"work\" in:\n",
    "        forall(List())(isEven) shouldBe true\n",
    "        forall(List(2,4,6,8))(isEven) shouldBe true\n",
    "        forall(List(1,2,4,6))(isEven) shouldBe false"
   ]
  },
  {
   "cell_type": "markdown",
   "metadata": {
    "jp-MarkdownHeadingCollapsed": true,
    "tags": []
   },
   "source": [
    "###### Solution"
   ]
  },
  {
   "cell_type": "code",
   "execution_count": null,
   "metadata": {},
   "outputs": [],
   "source": [
    "def forall[A](list: List[A])(pred: A => Boolean): Boolean = \n",
    "    list match\n",
    "        case Nil => true\n",
    "        case head :: tail =>\n",
    "            pred(head) && forall(tail)(pred)"
   ]
  },
  {
   "cell_type": "markdown",
   "metadata": {
    "tags": []
   },
   "source": [
    "###### Your solution"
   ]
  },
  {
   "cell_type": "code",
   "execution_count": null,
   "metadata": {},
   "outputs": [],
   "source": []
  },
  {
   "cell_type": "code",
   "execution_count": null,
   "metadata": {},
   "outputs": [],
   "source": [
    "run(TestForall(forall))"
   ]
  },
  {
   "cell_type": "markdown",
   "metadata": {},
   "source": [
    "__Part b)__ Write a function that given a predicate and a list returns true if there exists some element of the list that passes the predicate; false, otherwise."
   ]
  },
  {
   "cell_type": "code",
   "execution_count": null,
   "metadata": {},
   "outputs": [],
   "source": [
    "class TestExists(\n",
    "    exists: List[Int] => (Int => Boolean) => Boolean\n",
    ") extends AnyFlatSpec with should.Matchers:\n",
    "    \n",
    "    val isEven: Int => Boolean = \n",
    "        _ % 2 == 0\n",
    "    \n",
    "    \"exists\" should \"work\" in:\n",
    "        exists(List())(isEven) shouldBe false\n",
    "        exists(List(2,4,6,8))(isEven) shouldBe true\n",
    "        exists(List(1,7,3,5))(isEven) shouldBe false"
   ]
  },
  {
   "cell_type": "markdown",
   "metadata": {
    "jp-MarkdownHeadingCollapsed": true,
    "tags": []
   },
   "source": [
    "###### Solution"
   ]
  },
  {
   "cell_type": "code",
   "execution_count": null,
   "metadata": {},
   "outputs": [],
   "source": [
    "def exists[A](list: List[A])(pred: A => Boolean): Boolean = \n",
    "    list match\n",
    "        case Nil => false\n",
    "        case head :: tail => \n",
    "            pred(head) || exists(tail)(pred)"
   ]
  },
  {
   "cell_type": "markdown",
   "metadata": {
    "tags": []
   },
   "source": [
    "###### Your solution"
   ]
  },
  {
   "cell_type": "code",
   "execution_count": null,
   "metadata": {},
   "outputs": [],
   "source": []
  },
  {
   "cell_type": "code",
   "execution_count": null,
   "metadata": {},
   "outputs": [],
   "source": [
    "run(TestExists(exists))"
   ]
  },
  {
   "cell_type": "markdown",
   "metadata": {},
   "source": [
    "__Part c)__ Write a function to know if a given element is member of a list using `exists` or `forall`."
   ]
  },
  {
   "cell_type": "code",
   "execution_count": null,
   "metadata": {},
   "outputs": [],
   "source": [
    "class TestMember(\n",
    "    member: (List[Int], Int) => Boolean\n",
    ") extends AnyFlatSpec with should.Matchers:\n",
    "\n",
    "    \"member\" should \"work\" in:\n",
    "        member(List(), 6) shouldBe false\n",
    "        member(List(1), 1) shouldBe true\n",
    "        member(List(1), 3) shouldBe false\n",
    "        member(List(1,2,3,4), 4) shouldBe true"
   ]
  },
  {
   "cell_type": "markdown",
   "metadata": {
    "jp-MarkdownHeadingCollapsed": true,
    "tags": []
   },
   "source": [
    "###### Solution"
   ]
  },
  {
   "cell_type": "code",
   "execution_count": null,
   "metadata": {},
   "outputs": [],
   "source": [
    "def member[A](list: List[A], a: A): Boolean = \n",
    "    exists(list)(_ == a)"
   ]
  },
  {
   "cell_type": "markdown",
   "metadata": {
    "tags": []
   },
   "source": [
    "###### Your solution"
   ]
  },
  {
   "cell_type": "code",
   "execution_count": null,
   "metadata": {},
   "outputs": [],
   "source": []
  },
  {
   "cell_type": "code",
   "execution_count": null,
   "metadata": {},
   "outputs": [],
   "source": [
    "run(TestMember(member))"
   ]
  },
  {
   "cell_type": "markdown",
   "metadata": {},
   "source": [
    "# Trees"
   ]
  },
  {
   "cell_type": "markdown",
   "metadata": {},
   "source": [
    "The following problems deal with the `Tree` ADT."
   ]
  },
  {
   "cell_type": "code",
   "execution_count": null,
   "metadata": {},
   "outputs": [],
   "source": [
    "// type Tree[A] = 1 + Tree[A] * A * Tree[A]\n",
    "\n",
    "enum Tree[A]:\n",
    "    case Empty()\n",
    "    case Node(left: Tree[A], root: A, right: Tree[A])\n",
    "\n",
    "object Tree:\n",
    "    \n",
    "    def void[A]: Tree[A] = \n",
    "        Empty()\n",
    "    \n",
    "    def leaf[A](a: A): Node[A] = \n",
    "        Node(Empty(), a, Empty())\n",
    "    \n",
    "    def right[A](a: A, tree: Tree[A]): Node[A] = \n",
    "        Node(Empty(), a, tree)\n",
    "    \n",
    "    def left[A](tree: Tree[A], a: A): Node[A] = \n",
    "        Node(tree, a, Empty())\n",
    "    \n",
    "    def node[A](left: Tree[A], a: A, right: Tree[A]): Node[A] = \n",
    "        Node(left, a, right)\n",
    "\n",
    "import Tree._"
   ]
  },
  {
   "cell_type": "markdown",
   "metadata": {},
   "source": [
    "The companion object defines some smart constructors that will allow us to write test cases more easily."
   ]
  },
  {
   "cell_type": "markdown",
   "metadata": {},
   "source": [
    "# Problem 13"
   ]
  },
  {
   "cell_type": "markdown",
   "metadata": {},
   "source": [
    "Implement the `foldTree` function, which implements a divide-and-conquer strategy on trees. In particular, the first argument `empty` represents the direct solution to the problem corresponding to the empty tree; the `node` argument specifies the way of solving the whole problem from the sub-solutions to the problems corresponding to the left and right trees. "
   ]
  },
  {
   "cell_type": "markdown",
   "metadata": {
    "jp-MarkdownHeadingCollapsed": true,
    "tags": []
   },
   "source": [
    "###### Solution"
   ]
  },
  {
   "cell_type": "code",
   "execution_count": null,
   "metadata": {},
   "outputs": [],
   "source": [
    "def foldTree[A, B](tree: Tree[A])(empty: B)(node: (B, A, B) => B): B = \n",
    "    tree match\n",
    "        case Empty() => \n",
    "            empty\n",
    "        case Node(left, a, right) =>\n",
    "            node(foldTree(left)(empty)(node),\n",
    "                a,\n",
    "                foldTree(right)(empty)(node))"
   ]
  },
  {
   "cell_type": "markdown",
   "metadata": {
    "tags": []
   },
   "source": [
    "###### Your solution"
   ]
  },
  {
   "cell_type": "code",
   "execution_count": null,
   "metadata": {},
   "outputs": [],
   "source": []
  },
  {
   "cell_type": "markdown",
   "metadata": {},
   "source": [
    "For instance, we can implement function that computes the number of nodes a tree using `foldTree` in the following way:"
   ]
  },
  {
   "cell_type": "code",
   "execution_count": null,
   "metadata": {},
   "outputs": [],
   "source": [
    "def numNodes[A](tree: Tree[A]): Int = \n",
    "    foldTree(tree)(0)((l, _, r) => 1 + l + r)"
   ]
  },
  {
   "cell_type": "markdown",
   "metadata": {},
   "source": [
    "Test that your implementation of `foldTree` is correct using the following test catalogue:"
   ]
  },
  {
   "cell_type": "code",
   "execution_count": null,
   "metadata": {},
   "outputs": [],
   "source": [
    "class TestTreeNumNodes(\n",
    "    numNodes: Tree[Int] => Int\n",
    ") extends AnyFlatSpec with should.Matchers:\n",
    "    \n",
    "    \"concatenate\" should \"work\" in:\n",
    "        numNodes(void) shouldBe 0\n",
    "        numNodes(leaf(1)) shouldBe 1\n",
    "        numNodes(left(leaf(1), 2)) shouldBe 2\n",
    "        numNodes(node(leaf(1), 2, leaf(3))) shouldBe 3"
   ]
  },
  {
   "cell_type": "code",
   "execution_count": null,
   "metadata": {},
   "outputs": [],
   "source": [
    "run(TestTreeNumNodes(numNodes))"
   ]
  },
  {
   "cell_type": "markdown",
   "metadata": {},
   "source": [
    "# Problem 14"
   ]
  },
  {
   "cell_type": "markdown",
   "metadata": {},
   "source": [
    "Use `foldTree` to create a function that calculates the _height_ of a tree, which is defined as the depth of its deepest node (the depth of a node, in turn, is the number of edges from that node to the root of the tree). "
   ]
  },
  {
   "cell_type": "code",
   "execution_count": null,
   "metadata": {},
   "outputs": [],
   "source": [
    "class TestTreeHeight(\n",
    "    height: Tree[Int] => Option[Int]\n",
    ") extends AnyFlatSpec with should.Matchers:\n",
    "    \n",
    "    \"concatenate\" should \"work\" in:\n",
    "        height(void) shouldBe None\n",
    "        height(leaf(1)) shouldBe Some(0)\n",
    "        height(left(leaf(1),2)) shouldBe Some(1)\n",
    "        height(node(leaf(1), 2, leaf(3))) shouldBe Some(1)\n",
    "        height(left(left(leaf(3),2),1)) shouldBe Some(2)"
   ]
  },
  {
   "cell_type": "markdown",
   "metadata": {
    "jp-MarkdownHeadingCollapsed": true,
    "tags": []
   },
   "source": [
    "###### Solution"
   ]
  },
  {
   "cell_type": "code",
   "execution_count": null,
   "metadata": {},
   "outputs": [],
   "source": [
    "def height[A](tree: Tree[A]): Option[Int] = \n",
    "    foldTree(tree)(Option.empty[Int]):\n",
    "        case (None, _, None) => Some(0)\n",
    "        case (None, _, Some(hright)) => Some(1 + hright)\n",
    "        case (Some(hleft), _, None) => Some(1 + hleft)\n",
    "        case (Some(hleft), _, Some(hright)) => \n",
    "            Some(1 + hleft max hright)"
   ]
  },
  {
   "cell_type": "markdown",
   "metadata": {
    "tags": []
   },
   "source": [
    "###### Your solution"
   ]
  },
  {
   "cell_type": "code",
   "execution_count": null,
   "metadata": {},
   "outputs": [],
   "source": []
  },
  {
   "cell_type": "code",
   "execution_count": null,
   "metadata": {},
   "outputs": [],
   "source": [
    "run(TestTreeHeight(height))"
   ]
  },
  {
   "cell_type": "markdown",
   "metadata": {},
   "source": [
    "# Problem 15"
   ]
  },
  {
   "cell_type": "markdown",
   "metadata": {},
   "source": [
    "Use `foldTree` to create a function that determines whether a tree is degenerate or not."
   ]
  },
  {
   "cell_type": "code",
   "execution_count": null,
   "metadata": {},
   "outputs": [],
   "source": [
    "class TestIsDegenerate(\n",
    "    isDegenerate: Tree[Int] => Boolean\n",
    ") extends AnyFlatSpec with should.Matchers:\n",
    "    \n",
    "    \"isDegenerate\" should \"work\" in:\n",
    "        isDegenerate(void) shouldBe true\n",
    "        isDegenerate(leaf(1)) shouldBe true\n",
    "        isDegenerate(left(leaf(1), 2)) shouldBe true\n",
    "        isDegenerate(right(2, leaf(1)))  shouldBe true\n",
    "        isDegenerate(node(leaf(1), 2, leaf(3))) shouldBe false\n",
    "        isDegenerate(left(left(leaf(3), 2), 1)) shouldBe true\n",
    "        isDegenerate(left(right(2, left(right(4, leaf(5)), 3)),1)) shouldBe true\n",
    "        isDegenerate(left(node(leaf(3), 2, leaf(3)), 1)) shouldBe false"
   ]
  },
  {
   "cell_type": "markdown",
   "metadata": {
    "jp-MarkdownHeadingCollapsed": true,
    "tags": []
   },
   "source": [
    "###### Solution"
   ]
  },
  {
   "cell_type": "code",
   "execution_count": null,
   "metadata": {},
   "outputs": [],
   "source": [
    "def isDegenerate[A](tree: Tree[A]): Boolean = \n",
    "    foldTree(tree)((true, true)):\n",
    "        case ((true, _), _, (true, _)) => \n",
    "            (false, true)\n",
    "        case ((false, _), _, (false, _)) => \n",
    "            (false, false)\n",
    "        case ((true, _), _, (false, isR)) => \n",
    "            (false, isR)\n",
    "        case ((false, isL), _, (true, _)) => \n",
    "            (false, isL)\n",
    "    ._2"
   ]
  },
  {
   "cell_type": "markdown",
   "metadata": {
    "tags": []
   },
   "source": [
    "###### Your solution"
   ]
  },
  {
   "cell_type": "code",
   "execution_count": null,
   "metadata": {},
   "outputs": [],
   "source": []
  },
  {
   "cell_type": "code",
   "execution_count": null,
   "metadata": {},
   "outputs": [],
   "source": [
    "run(TestIsDegenerate(isDegenerate))"
   ]
  },
  {
   "cell_type": "markdown",
   "metadata": {},
   "source": [
    "# Problem 16"
   ]
  },
  {
   "cell_type": "markdown",
   "metadata": {},
   "source": [
    "Use `foldTree` to write a function that returns the leaves of a tree. The leafs of any left child must be placed in the list before any leaf from its right sibling. "
   ]
  },
  {
   "cell_type": "code",
   "execution_count": null,
   "metadata": {},
   "outputs": [],
   "source": [
    "class TestLeaves(\n",
    "    leaves: Tree[Int] => List[Int]\n",
    ") extends AnyFlatSpec with should.Matchers:\n",
    "    \n",
    "    \"isDegenerate\" should \"work\" in:\n",
    "        leaves(void) shouldBe List()\n",
    "        leaves(leaf(1)) shouldBe List(1)\n",
    "        leaves(left(leaf(1), 2)) shouldBe List(1)\n",
    "        leaves(right(2, leaf(1)))  shouldBe List(1)\n",
    "        leaves(node(leaf(1), 2, leaf(3))) shouldBe List(1,3)\n",
    "        leaves(left(left(leaf(3), 2), 1)) shouldBe List(3)\n",
    "        leaves(left(right(2, left(right(4, leaf(5)), 3)),1)) shouldBe List(5)\n",
    "        leaves(left(node(leaf(3), 2, leaf(3)), 1)) shouldBe List(3,3)\n",
    "        leaves(node(node(leaf(1),2,leaf(3)),4,node(leaf(5),6,leaf(7)))) shouldBe\n",
    "            List(1,3,5,7)"
   ]
  },
  {
   "cell_type": "markdown",
   "metadata": {
    "jp-MarkdownHeadingCollapsed": true,
    "tags": []
   },
   "source": [
    "###### Solution"
   ]
  },
  {
   "cell_type": "code",
   "execution_count": null,
   "metadata": {},
   "outputs": [],
   "source": [
    "def leaves[A](tree: Tree[A]): List[A] = \n",
    "    foldTree(tree)(List[A]()):\n",
    "        case (List(), a, List()) => \n",
    "            List(a)\n",
    "        case (leavesL, _, leavesR) => \n",
    "            leavesL ++ leavesR"
   ]
  },
  {
   "cell_type": "markdown",
   "metadata": {
    "tags": []
   },
   "source": [
    "###### Your solution"
   ]
  },
  {
   "cell_type": "code",
   "execution_count": null,
   "metadata": {},
   "outputs": [],
   "source": []
  },
  {
   "cell_type": "code",
   "execution_count": null,
   "metadata": {},
   "outputs": [],
   "source": [
    "run(TestLeaves(leaves))"
   ]
  },
  {
   "cell_type": "markdown",
   "metadata": {},
   "source": [
    "# Problem 17"
   ]
  },
  {
   "cell_type": "markdown",
   "metadata": {},
   "source": [
    "This problem deals with [_tree traversals_](https://en.wikipedia.org/wiki/Tree_traversal). Use the `foldTree` function in their implementation."
   ]
  },
  {
   "cell_type": "markdown",
   "metadata": {},
   "source": [
    "__Part a)__ Write a function that creates the pre-order of a binary tree."
   ]
  },
  {
   "cell_type": "code",
   "execution_count": null,
   "metadata": {},
   "outputs": [],
   "source": [
    "class TestPreorder(\n",
    "    preorder: Tree[Int] => List[Int]\n",
    ") extends AnyFlatSpec with should.Matchers:\n",
    "    \n",
    "    \"preorder\" should \"work\" in:\n",
    "        preorder(void) shouldBe List()\n",
    "        preorder(leaf(1)) shouldBe List(1)\n",
    "        preorder(left(leaf(1), 2)) shouldBe List(2,1)\n",
    "        preorder(right(2, leaf(1)))  shouldBe List(2,1)\n",
    "        preorder(node(leaf(1), 2, leaf(3))) shouldBe List(2,1,3)\n",
    "        preorder(left(left(leaf(3), 2), 1)) shouldBe List(1,2,3)\n",
    "        preorder(left(right(2, left(right(4, leaf(5)), 3)),1)) shouldBe \n",
    "            List(1,2,3,4,5)\n",
    "        preorder(left(node(leaf(3), 2, leaf(4)), 1)) shouldBe \n",
    "            List(1,2,3,4)\n",
    "        preorder(node(node(leaf(1),2,leaf(3)),4,node(leaf(5),6,leaf(7)))) shouldBe\n",
    "            List(4,2,1,3,6,5,7)"
   ]
  },
  {
   "cell_type": "markdown",
   "metadata": {
    "jp-MarkdownHeadingCollapsed": true,
    "tags": []
   },
   "source": [
    "###### Solution"
   ]
  },
  {
   "cell_type": "code",
   "execution_count": null,
   "metadata": {},
   "outputs": [],
   "source": [
    "def preorder[A](tree: Tree[A]): List[A] = \n",
    "    foldTree(tree)(List[A]()):\n",
    "        case (preL, a, preR) => \n",
    "            a :: (preL ++ preR)"
   ]
  },
  {
   "cell_type": "markdown",
   "metadata": {
    "tags": []
   },
   "source": [
    "###### Your solution"
   ]
  },
  {
   "cell_type": "code",
   "execution_count": null,
   "metadata": {},
   "outputs": [],
   "source": []
  },
  {
   "cell_type": "code",
   "execution_count": null,
   "metadata": {},
   "outputs": [],
   "source": [
    "run(TestPreorder(preorder))"
   ]
  },
  {
   "cell_type": "markdown",
   "metadata": {},
   "source": [
    "__Part b)__ Write a function that returns the in-order of a binary tree"
   ]
  },
  {
   "cell_type": "code",
   "execution_count": null,
   "metadata": {},
   "outputs": [],
   "source": [
    "class TestInorder(\n",
    "    inorder: Tree[Int] => List[Int]\n",
    ") extends AnyFlatSpec with should.Matchers:\n",
    "    \n",
    "    \"preorder\" should \"work\" in:\n",
    "        inorder(void) shouldBe List()\n",
    "        inorder(leaf(1)) shouldBe List(1)\n",
    "        inorder(left(leaf(1), 2)) shouldBe List(1,2)\n",
    "        inorder(right(2, leaf(1)))  shouldBe List(2,1)\n",
    "        inorder(node(leaf(1), 2, leaf(3))) shouldBe List(1,2,3)\n",
    "        inorder(left(left(leaf(3), 2), 1)) shouldBe List(3,2,1)\n",
    "        inorder(left(right(2, left(right(4, leaf(5)), 3)),1)) shouldBe \n",
    "            List(2,4,5,3,1)\n",
    "        inorder(left(node(leaf(3), 2, leaf(4)), 1)) shouldBe \n",
    "            List(3,2,4,1)\n",
    "        inorder(node(node(leaf(1),2,leaf(3)),4,node(leaf(5),6,leaf(7)))) shouldBe\n",
    "            List(1,2,3,4,5,6,7)"
   ]
  },
  {
   "cell_type": "markdown",
   "metadata": {
    "jp-MarkdownHeadingCollapsed": true,
    "tags": []
   },
   "source": [
    "###### Solution"
   ]
  },
  {
   "cell_type": "code",
   "execution_count": null,
   "metadata": {},
   "outputs": [],
   "source": [
    "def inorder[A](tree: Tree[A]): List[A] = \n",
    "    foldTree(tree)(List[A]()):\n",
    "        case (inL, a, inR) => \n",
    "            inL ++ (a :: inR)"
   ]
  },
  {
   "cell_type": "markdown",
   "metadata": {
    "tags": []
   },
   "source": [
    "###### Your solution"
   ]
  },
  {
   "cell_type": "code",
   "execution_count": null,
   "metadata": {},
   "outputs": [],
   "source": []
  },
  {
   "cell_type": "code",
   "execution_count": null,
   "metadata": {},
   "outputs": [],
   "source": [
    "run(TestInorder(inorder))"
   ]
  },
  {
   "cell_type": "markdown",
   "metadata": {},
   "source": [
    "__Part c)__ Write a function that returns post-order of a binary tree"
   ]
  },
  {
   "cell_type": "code",
   "execution_count": null,
   "metadata": {},
   "outputs": [],
   "source": [
    "class TestPostorder(\n",
    "    postorder: Tree[Int] => List[Int]\n",
    ") extends AnyFlatSpec with should.Matchers:\n",
    "    \n",
    "    \"postorder\" should \"work\" in:\n",
    "        postorder(void) shouldBe List()\n",
    "        postorder(leaf(1)) shouldBe List(1)\n",
    "        postorder(left(leaf(1), 2)) shouldBe List(1,2)\n",
    "        postorder(right(2, leaf(1)))  shouldBe List(1,2)\n",
    "        postorder(node(leaf(1), 2, leaf(3))) shouldBe List(1,3,2)\n",
    "        postorder(left(left(leaf(3), 2), 1)) shouldBe List(3,2,1)\n",
    "        postorder(left(right(2, left(right(4, leaf(5)), 3)),1)) shouldBe \n",
    "            List(5,4,3,2,1)\n",
    "        postorder(left(node(leaf(3), 2, leaf(4)), 1)) shouldBe \n",
    "            List(3,4,2,1)\n",
    "        postorder(node(node(leaf(1),2,leaf(3)),4,node(leaf(5),6,leaf(7)))) shouldBe\n",
    "            List(1,3,2,5,7,6,4)"
   ]
  },
  {
   "cell_type": "markdown",
   "metadata": {
    "jp-MarkdownHeadingCollapsed": true,
    "tags": []
   },
   "source": [
    "###### Solution"
   ]
  },
  {
   "cell_type": "code",
   "execution_count": null,
   "metadata": {},
   "outputs": [],
   "source": [
    "def postorder[A](tree: Tree[A]): List[A] = \n",
    "    foldTree(tree)(List[A]()):\n",
    "        case (postL, a, postR) => \n",
    "            (postL ++ postR) :+ a"
   ]
  },
  {
   "cell_type": "markdown",
   "metadata": {
    "tags": []
   },
   "source": [
    "###### Your solution"
   ]
  },
  {
   "cell_type": "code",
   "execution_count": null,
   "metadata": {},
   "outputs": [],
   "source": []
  },
  {
   "cell_type": "code",
   "execution_count": null,
   "metadata": {},
   "outputs": [],
   "source": [
    "run(TestPostorder(postorder))"
   ]
  },
  {
   "cell_type": "markdown",
   "metadata": {},
   "source": [
    "# Problem 18"
   ]
  },
  {
   "cell_type": "markdown",
   "metadata": {},
   "source": [
    "The `foldLeft` HOF for trees can be implemented by first obtaining the in-order traversal of the tree, and then applying the `foldLeft` for `List`s:"
   ]
  },
  {
   "cell_type": "code",
   "execution_count": null,
   "metadata": {},
   "outputs": [],
   "source": [
    "def foldLeft[A, B](tree: Tree[A])(initial: B)(update: (B, A) => B): B = \n",
    "    inorder(tree).foldLeft(initial)(update)"
   ]
  },
  {
   "cell_type": "code",
   "execution_count": null,
   "metadata": {},
   "outputs": [],
   "source": [
    "class TestFoldLeftTree(\n",
    "    foldLeft: Tree[Int] => Int => ((Int, Int) => Int) => Int\n",
    ") extends AnyFlatSpec with should.Matchers:\n",
    "    \n",
    "    \"foldLeft\" should \"work\" in:\n",
    "        foldLeft(node(\n",
    "            node(leaf(1), 2, leaf(3)), \n",
    "            4, \n",
    "            node(leaf(5), 6, leaf(7))))(0)(_ + _) shouldBe \n",
    "            0+1+2+3+4+5+6+7\n",
    "        \n",
    "        \n",
    "        foldLeft(node(\n",
    "            node(leaf(1), 2, leaf(3)), \n",
    "            4, \n",
    "            node(leaf(5), 6, leaf(7))))(0)(_ - _) shouldBe \n",
    "            0-1-2-3-4-5-6-7"
   ]
  },
  {
   "cell_type": "code",
   "execution_count": null,
   "metadata": {},
   "outputs": [],
   "source": [
    "run(TestFoldLeftTree(foldLeft))"
   ]
  },
  {
   "cell_type": "markdown",
   "metadata": {},
   "source": [
    "__Part a)__ Give a recursive implementation of `foldLeft` without creating an intermediate list. The function need not be tail-recursive."
   ]
  },
  {
   "cell_type": "markdown",
   "metadata": {
    "jp-MarkdownHeadingCollapsed": true,
    "tags": []
   },
   "source": [
    "###### Solution"
   ]
  },
  {
   "cell_type": "code",
   "execution_count": null,
   "metadata": {},
   "outputs": [],
   "source": [
    "def foldLeft[A, B](tree: Tree[A])(initial: B)(updt: (B, A) => B): B =\n",
    "    tree match\n",
    "        case Empty() => initial\n",
    "        case Node(left, a, right) => \n",
    "            foldLeft(right)(updt(foldLeft(left)(initial)(updt), a))(updt)"
   ]
  },
  {
   "cell_type": "markdown",
   "metadata": {
    "tags": []
   },
   "source": [
    "###### Your solution"
   ]
  },
  {
   "cell_type": "code",
   "execution_count": null,
   "metadata": {},
   "outputs": [],
   "source": []
  },
  {
   "cell_type": "code",
   "execution_count": null,
   "metadata": {},
   "outputs": [],
   "source": [
    "run(TestFoldLeftTree(foldLeft))"
   ]
  },
  {
   "cell_type": "markdown",
   "metadata": {},
   "source": [
    "__Part b)__ Give a tail-recursive implementation of `foldLeft`.\n",
    "\n",
    "_Hint_: Use a stack (in the form of a `List`) to store _either_ the trees _or_ the elements that must be traversed."
   ]
  },
  {
   "cell_type": "markdown",
   "metadata": {
    "jp-MarkdownHeadingCollapsed": true,
    "tags": []
   },
   "source": [
    "###### Solution"
   ]
  },
  {
   "cell_type": "code",
   "execution_count": null,
   "metadata": {},
   "outputs": [],
   "source": [
    "def foldLeftTR[A, B](tree: Tree[A])(initial: B)(updt: (B, A) => B): B =\n",
    "    @annotation.tailrec\n",
    "    def foldAux(acc: B, aux: List[Either[Tree[A], A]]): B = \n",
    "        aux match\n",
    "            case Nil => acc\n",
    "            case Left(Empty()) :: tail => \n",
    "                foldAux(acc, tail)\n",
    "            case Left(Node(left, a, right)) :: tail => \n",
    "                foldAux(acc, Left(left) :: Right(a) :: Left(right) :: tail)\n",
    "            case Right(a) :: tail => \n",
    "                foldAux(updt(acc, a), tail)\n",
    "    \n",
    "    foldAux(initial, List(Left(tree)))"
   ]
  },
  {
   "cell_type": "markdown",
   "metadata": {
    "tags": []
   },
   "source": [
    "###### Your solution"
   ]
  },
  {
   "cell_type": "code",
   "execution_count": null,
   "metadata": {},
   "outputs": [],
   "source": []
  },
  {
   "cell_type": "code",
   "execution_count": null,
   "metadata": {},
   "outputs": [],
   "source": [
    "run(TestFoldLeftTree(foldLeftTR))"
   ]
  },
  {
   "cell_type": "markdown",
   "metadata": {},
   "source": [
    "# Problem 19"
   ]
  },
  {
   "cell_type": "markdown",
   "metadata": {},
   "source": [
    "Implement the `map` function for `Tree`s using the `foldTree` HOF."
   ]
  },
  {
   "cell_type": "markdown",
   "metadata": {
    "jp-MarkdownHeadingCollapsed": true,
    "tags": []
   },
   "source": [
    "###### Solution"
   ]
  },
  {
   "cell_type": "code",
   "execution_count": null,
   "metadata": {},
   "outputs": [],
   "source": [
    "def map[A, B](tree: Tree[A])(f: A => B): Tree[B] = \n",
    "    foldTree(tree)(Empty(): Tree[B]):\n",
    "        (ml, a, mr) => Node(ml, f(a), mr)"
   ]
  },
  {
   "cell_type": "markdown",
   "metadata": {},
   "source": [
    "###### Your solution"
   ]
  },
  {
   "cell_type": "code",
   "execution_count": null,
   "metadata": {},
   "outputs": [],
   "source": []
  },
  {
   "cell_type": "markdown",
   "metadata": {},
   "source": [
    "Check that the solution is correct by testing the `sum` function:"
   ]
  },
  {
   "cell_type": "code",
   "execution_count": null,
   "metadata": {},
   "outputs": [],
   "source": [
    "class TestSum(\n",
    "    sum: Tree[(Int, Int)] => Tree[Int]\n",
    ") extends AnyFlatSpec with should.Matchers:\n",
    "    \n",
    "    \"sum\" should \"work\" in:\n",
    "        sum(void) shouldBe \n",
    "            void\n",
    "        sum(leaf((1,1))) shouldBe \n",
    "            leaf(2)\n",
    "        sum(left(leaf((1,3)), (2,5))) shouldBe \n",
    "            left(leaf(4), 7)\n",
    "        sum(right((0,2), leaf((-1,2)))) shouldBe \n",
    "            right(2, leaf(1))\n",
    "        sum(left(left(leaf((-3,6)), (2,0)), (-5,6))) shouldBe \n",
    "            left(left(leaf(3), 2), 1)"
   ]
  },
  {
   "cell_type": "markdown",
   "metadata": {
    "jp-MarkdownHeadingCollapsed": true,
    "tags": []
   },
   "source": [
    "###### Solution"
   ]
  },
  {
   "cell_type": "code",
   "execution_count": null,
   "metadata": {},
   "outputs": [],
   "source": [
    "def sum(tree: Tree[(Int, Int)]): Tree[Int] = \n",
    "    map(tree):\n",
    "        case (a, b) => a + b"
   ]
  },
  {
   "cell_type": "markdown",
   "metadata": {
    "tags": []
   },
   "source": [
    "###### Your solution"
   ]
  },
  {
   "cell_type": "code",
   "execution_count": null,
   "metadata": {},
   "outputs": [],
   "source": []
  },
  {
   "cell_type": "code",
   "execution_count": null,
   "metadata": {},
   "outputs": [],
   "source": [
    "run(TestSum(sum))"
   ]
  }
 ],
 "metadata": {
  "kernelspec": {
   "display_name": "Scala 3.3",
   "language": "scala",
   "name": "scala33"
  },
  "language_info": {
   "codemirror_mode": "text/x-scala",
   "file_extension": ".sc",
   "mimetype": "text/x-scala",
   "name": "scala",
   "nbconvert_exporter": "script",
   "version": "2.13.12"
  }
 },
 "nbformat": 4,
 "nbformat_minor": 4
}
