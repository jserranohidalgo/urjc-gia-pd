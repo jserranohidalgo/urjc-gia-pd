{
 "cells": [
  {
   "cell_type": "markdown",
   "metadata": {
    "tags": []
   },
   "source": [
    "### Preamble"
   ]
  },
  {
   "cell_type": "code",
   "execution_count": 1,
   "metadata": {},
   "outputs": [
    {
     "data": {
      "text/plain": [
       "\u001b[32mimport \u001b[39m\u001b[36m$ivy.$                                \n",
       "\u001b[39m\n",
       "\u001b[32mimport \u001b[39m\u001b[36morg.scalatest.{Filter => _, _}, flatspec._, matchers._\n",
       "\u001b[39m"
      ]
     },
     "execution_count": 1,
     "metadata": {},
     "output_type": "execute_result"
    }
   ],
   "source": [
    "import $ivy.`org.scalatest::scalatest:3.2.16`\n",
    "import org.scalatest.{Filter => _, _}, flatspec._, matchers._"
   ]
  },
  {
   "cell_type": "markdown",
   "metadata": {},
   "source": [
    "# Topic 6. Higher-order functions and modular programming"
   ]
  },
  {
   "cell_type": "markdown",
   "metadata": {},
   "source": [
    "In this notebook, we will see that higher-order functions (HOFs) are essential modularity devices, and we will introduce the most common higher-order functions that operate over many different data structures."
   ]
  },
  {
   "cell_type": "markdown",
   "metadata": {},
   "source": [
    "### References\n",
    "\n",
    "[__Programming in Scala, \n",
    "A comprehensive step-by-step guide__](https://www.artima.com/shop/programming_in_scala_3ed) Third Edition.\n",
    "by Martin Odersky, Lex Spoon, and Bill Venners. \n",
    "\n",
    "- Chapter 6. Functional objects\n",
    "- Chapter 8. Functions and closures\n",
    "- Chapter 16. Working with Lists\n",
    "- Chapter 23. For Expressions Revisited\n",
    "\n",
    "[__Functional programming in Scala__](https://www.manning.com/books/functional-programming-in-scala), by Paul Chiusano and Runar Bjarnason.\n",
    "\n",
    "- Chapter 3. Functional data structures\n",
    "\n",
    "[__Functional programming simplified__](https://alvinalexander.com/downloads/fpsimplified-free-preview.pdf), by Alvin Alexander.\n",
    "\n",
    "- Chapter 22. Functions Are Variables, Too\n",
    "- Chapter 23. Using Methods As If They Were Functions\n",
    "- Chapter 24. How to Write Functions That Take Functions as Input Parameters\n",
    "- Chapter 25. How to Write a ‘map’ Function\n",
    "- Chapter 27. Functions Can Have Multiple Parameter Groups\n",
    "- Chapter 28. Partially-Applied Functions (and Currying)"
   ]
  },
  {
   "cell_type": "markdown",
   "metadata": {},
   "source": [
    "## `FoldRight`: divide and conquer"
   ]
  },
  {
   "cell_type": "markdown",
   "metadata": {},
   "source": [
    "HOFs shine when the time comes to break monoliths. For instance, let's consider the following two functions:"
   ]
  },
  {
   "cell_type": "code",
   "execution_count": 25,
   "metadata": {},
   "outputs": [
    {
     "data": {
      "text/plain": [
       "defined \u001b[32mfunction\u001b[39m \u001b[36mrecursionTemplate\u001b[39m"
      ]
     },
     "execution_count": 25,
     "metadata": {},
     "output_type": "execute_result"
    }
   ],
   "source": [
    "def recursionTemplate[A, B](l: List[A]): B = \n",
    "    l match \n",
    "        case Nil => ??? : B\n",
    "        case (h: A) :: (t: List[A]) =>  \n",
    "            val tailSol: B = recursionTemplate(t)\n",
    "            ???(h: A, tailSol: B) : B"
   ]
  },
  {
   "cell_type": "code",
   "execution_count": 26,
   "metadata": {},
   "outputs": [
    {
     "data": {
      "text/plain": [
       "defined \u001b[32mfunction\u001b[39m \u001b[36mrecursionTemplate\u001b[39m"
      ]
     },
     "execution_count": 26,
     "metadata": {},
     "output_type": "execute_result"
    }
   ],
   "source": [
    "def recursionTemplate[A, B](l: List[A])(\n",
    "        nil: B, \n",
    "        cons: (A, B) => B\n",
    "    ): B = \n",
    "    l match \n",
    "        case Nil => nil : B\n",
    "        case (h: A) :: (t: List[A]) =>  \n",
    "            val tailSol: B = recursionTemplate(t)(nil, cons)\n",
    "            cons(h, tailSol) : B"
   ]
  },
  {
   "cell_type": "code",
   "execution_count": 2,
   "metadata": {},
   "outputs": [
    {
     "data": {
      "text/plain": [
       "defined \u001b[32mfunction\u001b[39m \u001b[36msum\u001b[39m"
      ]
     },
     "execution_count": 2,
     "metadata": {},
     "output_type": "execute_result"
    }
   ],
   "source": [
    "def sum(l: List[Int]): Int = \n",
    "    l match \n",
    "        case Nil => 0 : Int\n",
    "        case h :: (t: List[Int]) =>  \n",
    "            val tailSum: Int = sum(t)\n",
    "            h + tailSum : Int"
   ]
  },
  {
   "cell_type": "code",
   "execution_count": 27,
   "metadata": {},
   "outputs": [
    {
     "data": {
      "text/plain": [
       "defined \u001b[32mfunction\u001b[39m \u001b[36msum\u001b[39m"
      ]
     },
     "execution_count": 27,
     "metadata": {},
     "output_type": "execute_result"
    }
   ],
   "source": [
    "def sum(l: List[Int]): Int = \n",
    "    // Utiliza el esquema de recursión para tipos A =Int y B=Int\n",
    "    // devolviendo 0 cuando la lista sea vacía\n",
    "    // y en caso de que la lista no sea vacía, y tenga cabeza `h`\n",
    "    // y solución al resto `tailSol`, devuelve h + tailSol\n",
    "    recursionTemplate[Int, Int](l)(\n",
    "        0, // solución si la lista es vacía)\n",
    "        (head: Int, tailSol: Int) => head + tailSol // solución si la lista es no vacía, con cabeza `head` y solución al resto `tailSol`\n",
    "    )"
   ]
  },
  {
   "cell_type": "code",
   "execution_count": 47,
   "metadata": {},
   "outputs": [
    {
     "data": {
      "text/plain": [
       "defined \u001b[32mfunction\u001b[39m \u001b[36msum\u001b[39m"
      ]
     },
     "execution_count": 47,
     "metadata": {},
     "output_type": "execute_result"
    }
   ],
   "source": [
    "def sum(l: List[Int]): Int = \n",
    "    l.foldRight[Int](\n",
    "        0\n",
    "    )(\n",
    "        (head: Int, tailSol: Int) => head + tailSol // solución si la lista es no vacía, con cabeza `head` y solución al resto `tailSol`\n",
    "    )"
   ]
  },
  {
   "cell_type": "code",
   "execution_count": 48,
   "metadata": {},
   "outputs": [
    {
     "data": {
      "text/plain": [
       "defined \u001b[32mfunction\u001b[39m \u001b[36msum\u001b[39m"
      ]
     },
     "execution_count": 48,
     "metadata": {},
     "output_type": "execute_result"
    }
   ],
   "source": [
    "def sum(l: List[Int]): Int = \n",
    "    l.foldRight(0)((head: Int, tailSol: Int) => head + tailSol)"
   ]
  },
  {
   "cell_type": "code",
   "execution_count": 49,
   "metadata": {},
   "outputs": [
    {
     "data": {
      "text/plain": [
       "defined \u001b[32mfunction\u001b[39m \u001b[36msum\u001b[39m"
      ]
     },
     "execution_count": 49,
     "metadata": {},
     "output_type": "execute_result"
    }
   ],
   "source": [
    "def sum(l: List[Int]): Int = \n",
    "    l.foldRight(0)((head, tailSol) => head + tailSol)"
   ]
  },
  {
   "cell_type": "code",
   "execution_count": 50,
   "metadata": {},
   "outputs": [
    {
     "data": {
      "text/plain": [
       "defined \u001b[32mfunction\u001b[39m \u001b[36msum\u001b[39m"
      ]
     },
     "execution_count": 50,
     "metadata": {},
     "output_type": "execute_result"
    }
   ],
   "source": [
    "def sum(l: List[Int]): Int = \n",
    "    l.foldRight(0)(_+_)"
   ]
  },
  {
   "cell_type": "code",
   "execution_count": 28,
   "metadata": {},
   "outputs": [
    {
     "data": {
      "text/plain": [
       "\u001b[36mres28\u001b[39m: \u001b[32mInt\u001b[39m = \u001b[32m10\u001b[39m"
      ]
     },
     "execution_count": 28,
     "metadata": {},
     "output_type": "execute_result"
    }
   ],
   "source": [
    "sum(List(1,2,3,4))"
   ]
  },
  {
   "cell_type": "code",
   "execution_count": 37,
   "metadata": {},
   "outputs": [
    {
     "data": {
      "text/plain": [
       "defined \u001b[32mfunction\u001b[39m \u001b[36mevenOdd\u001b[39m"
      ]
     },
     "execution_count": 37,
     "metadata": {},
     "output_type": "execute_result"
    }
   ],
   "source": [
    "def evenOdd[A](l: List[A], even: Boolean): List[A] =\n",
    "    l match \n",
    "        case Nil => Nil : List[A]\n",
    "        case head :: tail => \n",
    "            val tailSol: List[A] = evenOdd(tail, !even)\n",
    "            if even then (head :: tailSol) : List[A]\n",
    "            else tailSol"
   ]
  },
  {
   "cell_type": "code",
   "execution_count": null,
   "metadata": {},
   "outputs": [],
   "source": [
    "val f1: (Int, String) => Boolean = (_, _) => false\n",
    "val f2: Int => (String => Boolean)"
   ]
  },
  {
   "cell_type": "code",
   "execution_count": 37,
   "metadata": {},
   "outputs": [
    {
     "data": {
      "text/plain": [
       "defined \u001b[32mfunction\u001b[39m \u001b[36mevenOdd\u001b[39m"
      ]
     },
     "execution_count": 37,
     "metadata": {},
     "output_type": "execute_result"
    }
   ],
   "source": [
    "def evenOdd[A](l: List[A], even: Boolean): List[A] =\n",
    "    l match \n",
    "        case Nil => Nil : List[A]\n",
    "        case head :: tail => \n",
    "            val tailSol: List[A] = evenOdd(tail, !even)\n",
    "            if even then (head :: tailSol) : List[A]\n",
    "            else tailSol"
   ]
  },
  {
   "cell_type": "code",
   "execution_count": 39,
   "metadata": {},
   "outputs": [
    {
     "data": {
      "text/plain": [
       "defined \u001b[32mfunction\u001b[39m \u001b[36mevenOdd\u001b[39m"
      ]
     },
     "execution_count": 39,
     "metadata": {},
     "output_type": "execute_result"
    }
   ],
   "source": [
    "def evenOdd[A](l: List[A]): Boolean => List[A] =\n",
    "    l match \n",
    "        case Nil => ((b: Boolean) => Nil) : (Boolean => List[A])\n",
    "        case head :: tail => \n",
    "            val tailSol: Boolean => List[A] = evenOdd(tail)\n",
    "            even => \n",
    "                if even then (head :: tailSol(!even)) : List[A]\n",
    "                else tailSol(!even)"
   ]
  },
  {
   "cell_type": "code",
   "execution_count": 42,
   "metadata": {},
   "outputs": [
    {
     "data": {
      "text/plain": [
       "defined \u001b[32mfunction\u001b[39m \u001b[36mevenOdd\u001b[39m"
      ]
     },
     "execution_count": 42,
     "metadata": {},
     "output_type": "execute_result"
    }
   ],
   "source": [
    "def evenOdd[A](l: List[A]): Boolean => List[A] =\n",
    "    recursionTemplate[A, Boolean => List[A]](l)(\n",
    "        ((b: Boolean) => Nil) : (Boolean => List[A]),\n",
    "        (head: A, tailSol: Boolean => List[A]) => \n",
    "            even => \n",
    "                if even then (head :: tailSol(!even)) : List[A]\n",
    "                else tailSol(!even)\n",
    "    )"
   ]
  },
  {
   "cell_type": "code",
   "execution_count": 44,
   "metadata": {},
   "outputs": [
    {
     "data": {
      "text/plain": [
       "defined \u001b[32mobject\u001b[39m \u001b[36mStd\u001b[39m"
      ]
     },
     "execution_count": 44,
     "metadata": {},
     "output_type": "execute_result"
    }
   ],
   "source": [
    "object Std: \n",
    "\n",
    "    def recursionTemplate[A, B](l: List[A])(nil: B, cons: (A, B) => B): B = \n",
    "        ??? \n",
    "\n",
    "    class List[A]: \n",
    "        def foldRight[B](nil: B)(cons: (A, B) => B): B = ??? "
   ]
  },
  {
   "cell_type": "code",
   "execution_count": 45,
   "metadata": {},
   "outputs": [
    {
     "data": {
      "text/plain": [
       "defined \u001b[32mfunction\u001b[39m \u001b[36mevenOdd\u001b[39m"
      ]
     },
     "execution_count": 45,
     "metadata": {},
     "output_type": "execute_result"
    }
   ],
   "source": [
    "def evenOdd[A](l: List[A]): Boolean => List[A] =\n",
    "    l.foldRight[Boolean => List[A]](\n",
    "        ((b: Boolean) => Nil) : (Boolean => List[A])\n",
    "    )(\n",
    "        (head: A, tailSol: Boolean => List[A]) => \n",
    "            even => \n",
    "                if even then (head :: tailSol(!even)) : List[A]\n",
    "                else tailSol(!even)\n",
    "    )"
   ]
  },
  {
   "cell_type": "code",
   "execution_count": 37,
   "metadata": {},
   "outputs": [
    {
     "data": {
      "text/plain": [
       "defined \u001b[32mfunction\u001b[39m \u001b[36mevenOdd\u001b[39m"
      ]
     },
     "execution_count": 37,
     "metadata": {},
     "output_type": "execute_result"
    }
   ],
   "source": [
    "def evenOdd[A](l: List[A], even: Boolean): List[A] =\n",
    "    recursionTemplate[???, ???](l)(\n",
    "        ???, // solución si lista vacía\n",
    "        (head, tailSol) => ??? // ...\n",
    "    )"
   ]
  },
  {
   "cell_type": "code",
   "execution_count": 41,
   "metadata": {},
   "outputs": [
    {
     "data": {
      "text/plain": [
       "\u001b[36mres41\u001b[39m: \u001b[32mList\u001b[39m[\u001b[32mInt\u001b[39m] = \u001b[33mList\u001b[39m(\u001b[32m1\u001b[39m, \u001b[32m3\u001b[39m, \u001b[32m5\u001b[39m)"
      ]
     },
     "execution_count": 41,
     "metadata": {},
     "output_type": "execute_result"
    }
   ],
   "source": [
    "evenOdd(List(0,1,2,3,4,5,6))(false)"
   ]
  },
  {
   "cell_type": "code",
   "execution_count": 33,
   "metadata": {},
   "outputs": [
    {
     "data": {
      "text/plain": [
       "\u001b[36mres33_0\u001b[39m: \u001b[32mBoolean\u001b[39m = \u001b[32mfalse\u001b[39m\n",
       "\u001b[36mres33_1\u001b[39m: \u001b[32mBoolean\u001b[39m = \u001b[32mfalse\u001b[39m\n",
       "\u001b[36mres33_2\u001b[39m: \u001b[32mBoolean\u001b[39m = \u001b[32mtrue\u001b[39m"
      ]
     },
     "execution_count": 33,
     "metadata": {},
     "output_type": "execute_result"
    }
   ],
   "source": [
    "evenOdd(List(0,1,2,3,4,5,6), true) == List(0,2,4,6)\n",
    "evenOdd(7 :: List(2,2,8,3,4,7), true) == {\n",
    "    val tailSol = List(2,3,7)\n",
    "    7 :: List(2,3,7)\n",
    "}\n",
    "evenOdd(List(), true) == List()"
   ]
  },
  {
   "cell_type": "code",
   "execution_count": 38,
   "metadata": {},
   "outputs": [
    {
     "data": {
      "text/plain": [
       "\u001b[36mres38_0\u001b[39m: \u001b[32mBoolean\u001b[39m = \u001b[32mtrue\u001b[39m\n",
       "\u001b[36mres38_1\u001b[39m: \u001b[32mBoolean\u001b[39m = \u001b[32mtrue\u001b[39m\n",
       "\u001b[36mres38_2\u001b[39m: \u001b[32mBoolean\u001b[39m = \u001b[32mtrue\u001b[39m"
      ]
     },
     "execution_count": 38,
     "metadata": {},
     "output_type": "execute_result"
    }
   ],
   "source": [
    "evenOdd(List(0,1,2,3,4,5,6), false) == List(1, 3, 5)\n",
    "evenOdd(7 :: List(2,2,8,3,4,7), false) == {\n",
    "    \n",
    "    List(2, 8, 4)\n",
    "}\n",
    "\n",
    "evenOdd(List(), false) == List()\n"
   ]
  },
  {
   "cell_type": "code",
   "execution_count": null,
   "metadata": {},
   "outputs": [],
   "source": [
    "def evens[A](l: List["
   ]
  },
  {
   "cell_type": "code",
   "execution_count": 13,
   "metadata": {},
   "outputs": [
    {
     "data": {
      "text/plain": [
       "defined \u001b[32mfunction\u001b[39m \u001b[36mfirstLetters\u001b[39m"
      ]
     },
     "execution_count": 13,
     "metadata": {},
     "output_type": "execute_result"
    }
   ],
   "source": [
    "def firstLetters(l: List[String]): String = \n",
    "    l match \n",
    "        case Nil => \"\" : String\n",
    "        case (h: String) :: (t: List[String]) =>  \n",
    "            val tailSol: String = firstLetters(t)\n",
    "            h(0).toString + tailSol : String"
   ]
  },
  {
   "cell_type": "code",
   "execution_count": 13,
   "metadata": {},
   "outputs": [
    {
     "data": {
      "text/plain": [
       "defined \u001b[32mfunction\u001b[39m \u001b[36mfirstLetters\u001b[39m"
      ]
     },
     "execution_count": 13,
     "metadata": {},
     "output_type": "execute_result"
    }
   ],
   "source": [
    "def firstLetters(l: List[String]): Either[String, Unit] = \n",
    "    l match \n",
    "        case Nil => \"\" : String\n",
    "        case (h: String) :: (t: List[String]) =>  \n",
    "            val tailSol: String = firstLetters(t)\n",
    "            h(0).toString + tailSol : String"
   ]
  },
  {
   "cell_type": "code",
   "execution_count": 18,
   "metadata": {},
   "outputs": [
    {
     "data": {
      "text/plain": [
       "\u001b[36mo\u001b[39m: \u001b[32mOption\u001b[39m[\u001b[32mString\u001b[39m] = \u001b[33mSome\u001b[39m(value = \u001b[32m\"hola\"\u001b[39m)\n",
       "\u001b[36mo1\u001b[39m: \u001b[32mOption\u001b[39m[\u001b[32mString\u001b[39m] = \u001b[32mNone\u001b[39m"
      ]
     },
     "execution_count": 18,
     "metadata": {},
     "output_type": "execute_result"
    }
   ],
   "source": [
    "val o: Option[String] = Some(\"hola\")\n",
    "val o1: Option[String] = None"
   ]
  },
  {
   "cell_type": "code",
   "execution_count": 19,
   "metadata": {},
   "outputs": [
    {
     "data": {
      "text/plain": [
       "\u001b[36mres19\u001b[39m: \u001b[32mString\u001b[39m = \u001b[32m\"hola\"\u001b[39m"
      ]
     },
     "execution_count": 19,
     "metadata": {},
     "output_type": "execute_result"
    }
   ],
   "source": [
    "o.get"
   ]
  },
  {
   "cell_type": "code",
   "execution_count": 20,
   "metadata": {},
   "outputs": [
    {
     "ename": "java.util.NoSuchElementException",
     "evalue": "None.get",
     "output_type": "error",
     "traceback": [
      "\u001b[31mjava.util.NoSuchElementException: None.get\u001b[39m",
      "  scala.None$.get(\u001b[32mOption.scala\u001b[39m:\u001b[32m627\u001b[39m)",
      "  scala.None$.get(\u001b[32mOption.scala\u001b[39m:\u001b[32m626\u001b[39m)",
      "  ammonite.$sess.cell20$Helper.<init>(\u001b[32mcell20.sc\u001b[39m:\u001b[32m1\u001b[39m)",
      "  ammonite.$sess.cell20$.<clinit>(\u001b[32mcell20.sc\u001b[39m:\u001b[32m65376\u001b[39m)"
     ]
    }
   ],
   "source": [
    "o1.get"
   ]
  },
  {
   "cell_type": "code",
   "execution_count": 21,
   "metadata": {},
   "outputs": [
    {
     "data": {
      "text/plain": [
       "defined \u001b[32mfunction\u001b[39m \u001b[36mfirstLetters\u001b[39m"
      ]
     },
     "execution_count": 21,
     "metadata": {},
     "output_type": "execute_result"
    }
   ],
   "source": [
    "def firstLetters(l: List[String]): Option[String] = \n",
    "    l match \n",
    "        case Nil => Some(\"\") : Option[String]\n",
    "        case (h: String) :: (t: List[String]) =>  \n",
    "            val tailSol: Option[String] = firstLetters(t)\n",
    "            // h(0).toString + tailSol : Option[String]\n",
    "            if tailSol == None || h == \"\" then \n",
    "                None\n",
    "            else \n",
    "                Some(h(0).toString + tailSol.get) : Option[String]"
   ]
  },
  {
   "cell_type": "code",
   "execution_count": 24,
   "metadata": {},
   "outputs": [
    {
     "data": {
      "text/plain": [
       "defined \u001b[32mfunction\u001b[39m \u001b[36mfirstLetters\u001b[39m"
      ]
     },
     "execution_count": 24,
     "metadata": {},
     "output_type": "execute_result"
    }
   ],
   "source": [
    "def firstLetters(l: List[String]): Option[String] = \n",
    "    l match \n",
    "        case Nil => Some(\"\") : Option[String]\n",
    "        case (h: String) :: (t: List[String]) =>  \n",
    "            val tailSol: Option[String] = firstLetters(t)\n",
    "            tailSol match \n",
    "                case Some(ts) if h != \"\" => \n",
    "                    Some(h(0).toString + ts) : Option[String]\n",
    "                case _ => \n",
    "                    None"
   ]
  },
  {
   "cell_type": "code",
   "execution_count": null,
   "metadata": {},
   "outputs": [],
   "source": [
    "def firstLetters(l: List[String]): Option[String] = \n",
    "    recursionTemplate[String, Option[String]](l)(\n",
    "        ??? : Option[String], \n",
    "        (head: ???, tailSol: ???) => ??? : Option[String]\n",
    "    )"
   ]
  },
  {
   "cell_type": "code",
   "execution_count": 29,
   "metadata": {},
   "outputs": [
    {
     "data": {
      "text/plain": [
       "defined \u001b[32mfunction\u001b[39m \u001b[36mfirstLetters\u001b[39m"
      ]
     },
     "execution_count": 29,
     "metadata": {},
     "output_type": "execute_result"
    }
   ],
   "source": [
    "def firstLetters(l: List[String]): Option[String] = \n",
    "    recursionTemplate[String, Option[String]](l)(\n",
    "        Some(\"\") : Option[String], \n",
    "        (head: String, tailSol: Option[String]) => \n",
    "            tailSol match \n",
    "                case Some(ts) if head != \"\" => \n",
    "                    Some(head(0).toString + ts) : Option[String]\n",
    "                case _ => \n",
    "                    None\n",
    "    )"
   ]
  },
  {
   "cell_type": "code",
   "execution_count": 46,
   "metadata": {},
   "outputs": [
    {
     "data": {
      "text/plain": [
       "defined \u001b[32mfunction\u001b[39m \u001b[36mfirstLetters\u001b[39m"
      ]
     },
     "execution_count": 46,
     "metadata": {},
     "output_type": "execute_result"
    }
   ],
   "source": [
    "def firstLetters(l: List[String]): Option[String] = \n",
    "    l.foldRight[Option[String]](\n",
    "        Some(\"\") : Option[String]\n",
    "    )(\n",
    "        (head: String, tailSol: Option[String]) => \n",
    "            tailSol match \n",
    "                case Some(ts) if head != \"\" => \n",
    "                    Some(head(0).toString + ts) : Option[String]\n",
    "                case _ => \n",
    "                    None\n",
    "    )"
   ]
  },
  {
   "cell_type": "code",
   "execution_count": 30,
   "metadata": {},
   "outputs": [
    {
     "data": {
      "text/plain": [
       "\u001b[36mres30\u001b[39m: \u001b[32mBoolean\u001b[39m = \u001b[32mtrue\u001b[39m"
      ]
     },
     "execution_count": 30,
     "metadata": {},
     "output_type": "execute_result"
    }
   ],
   "source": [
    "firstLetters(List(\"hola\", \"adios\", \"bye\")) == Some(\"hab\")"
   ]
  },
  {
   "cell_type": "code",
   "execution_count": 23,
   "metadata": {},
   "outputs": [
    {
     "data": {
      "text/plain": [
       "\u001b[36mres23\u001b[39m: \u001b[32mBoolean\u001b[39m = \u001b[32mtrue\u001b[39m"
      ]
     },
     "execution_count": 23,
     "metadata": {},
     "output_type": "execute_result"
    }
   ],
   "source": [
    "firstLetters(\"hola\" :: List(\"\", \"bye\")) == None"
   ]
  },
  {
   "cell_type": "code",
   "execution_count": 17,
   "metadata": {},
   "outputs": [
    {
     "ename": "java.lang.StringIndexOutOfBoundsException",
     "evalue": "String index out of range: 0",
     "output_type": "error",
     "traceback": [
      "\u001b[31mjava.lang.StringIndexOutOfBoundsException: String index out of range: 0\u001b[39m",
      "  java.lang.StringLatin1.charAt(\u001b[32mStringLatin1.java\u001b[39m:\u001b[32m47\u001b[39m)",
      "  java.lang.String.charAt(\u001b[32mString.java\u001b[39m:\u001b[32m693\u001b[39m)",
      "  scala.collection.StringOps$.apply$extension(\u001b[32mStringOps.scala\u001b[39m:\u001b[32m190\u001b[39m)",
      "  ammonite.$sess.cell13$Helper.firstLetters(\u001b[32mcell13.sc\u001b[39m:\u001b[32m6\u001b[39m)",
      "  ammonite.$sess.cell13$Helper.firstLetters(\u001b[32mcell13.sc\u001b[39m:\u001b[32m5\u001b[39m)",
      "  ammonite.$sess.cell17$Helper.<init>(\u001b[32mcell17.sc\u001b[39m:\u001b[32m1\u001b[39m)",
      "  ammonite.$sess.cell17$.<clinit>(\u001b[32mcell17.sc\u001b[39m:\u001b[32m65385\u001b[39m)"
     ]
    }
   ],
   "source": [
    "firstLetters(List(\"hola\", \"\", \"bye\")) == \"hab\""
   ]
  },
  {
   "cell_type": "code",
   "execution_count": 10,
   "metadata": {},
   "outputs": [
    {
     "data": {
      "text/plain": [
       "\u001b[36mres10\u001b[39m: \u001b[32mChar\u001b[39m = \u001b[32m'h'\u001b[39m"
      ]
     },
     "execution_count": 10,
     "metadata": {},
     "output_type": "execute_result"
    }
   ],
   "source": [
    "\"hola\".apply(0)"
   ]
  },
  {
   "cell_type": "code",
   "execution_count": 16,
   "metadata": {},
   "outputs": [
    {
     "ename": "java.lang.StringIndexOutOfBoundsException",
     "evalue": "String index out of range: 0",
     "output_type": "error",
     "traceback": [
      "\u001b[31mjava.lang.StringIndexOutOfBoundsException: String index out of range: 0\u001b[39m",
      "  java.lang.StringLatin1.charAt(\u001b[32mStringLatin1.java\u001b[39m:\u001b[32m47\u001b[39m)",
      "  java.lang.String.charAt(\u001b[32mString.java\u001b[39m:\u001b[32m693\u001b[39m)",
      "  scala.collection.StringOps$.apply$extension(\u001b[32mStringOps.scala\u001b[39m:\u001b[32m190\u001b[39m)",
      "  ammonite.$sess.cell16$Helper.<init>(\u001b[32mcell16.sc\u001b[39m:\u001b[32m1\u001b[39m)",
      "  ammonite.$sess.cell16$.<clinit>(\u001b[32mcell16.sc\u001b[39m:\u001b[32m65385\u001b[39m)"
     ]
    }
   ],
   "source": [
    "\"\".apply(0)"
   ]
  },
  {
   "cell_type": "code",
   "execution_count": 12,
   "metadata": {},
   "outputs": [
    {
     "data": {
      "text/plain": [
       "\u001b[36mres12\u001b[39m: \u001b[32mString\u001b[39m = \u001b[32m\"hola\"\u001b[39m"
      ]
     },
     "execution_count": 12,
     "metadata": {},
     "output_type": "execute_result"
    }
   ],
   "source": [
    "'h'.toString + \"ola\""
   ]
  },
  {
   "cell_type": "code",
   "execution_count": 15,
   "metadata": {},
   "outputs": [
    {
     "data": {
      "text/plain": [
       "\u001b[36mres15\u001b[39m: \u001b[32mBoolean\u001b[39m = \u001b[32mtrue\u001b[39m"
      ]
     },
     "execution_count": 15,
     "metadata": {},
     "output_type": "execute_result"
    }
   ],
   "source": [
    "firstLetters(\"hola\" :: List(\"adios\", \"bye\")) == {\n",
    "    val tailSol: String = \"ab\"\n",
    "    // \"hab\"\n",
    "    \"hola\"(0).toString + tailSol\n",
    "}"
   ]
  },
  {
   "cell_type": "markdown",
   "metadata": {},
   "source": [
    "These functions clearly share a common logic: their only differences are the value which is returned when the list is empty, and the function used to combine numbers (`+` and `*`, respectively). We can abstract away these differences and arrive to a more generic function which encodes that common logic:"
   ]
  },
  {
   "cell_type": "code",
   "execution_count": 4,
   "metadata": {},
   "outputs": [
    {
     "data": {
      "text/plain": [
       "defined \u001b[32mfunction\u001b[39m \u001b[36mcombine\u001b[39m"
      ]
     },
     "execution_count": 4,
     "metadata": {},
     "output_type": "execute_result"
    }
   ],
   "source": [
    "// monomorphic `combine` method"
   ]
  },
  {
   "cell_type": "markdown",
   "metadata": {},
   "source": [
    "which allows us to re-define in a modular way the `sum` and `multiply` functions:"
   ]
  },
  {
   "cell_type": "code",
   "execution_count": null,
   "metadata": {},
   "outputs": [],
   "source": [
    "def sum(list: List[Int]): Int = \n",
    "    ???"
   ]
  },
  {
   "cell_type": "code",
   "execution_count": null,
   "metadata": {},
   "outputs": [],
   "source": [
    "def recursionTemplate[A, B](l: List[A]): B = \n",
    "    l match \n",
    "        case Nil => ??? : B\n",
    "        case head :: tail => \n",
    "            val tailSol: B = recursionTemplate(tail) \n",
    "            ???(head, tailSol)"
   ]
  },
  {
   "cell_type": "code",
   "execution_count": 3,
   "metadata": {},
   "outputs": [
    {
     "data": {
      "text/plain": [
       "\u001b[36mres3_0\u001b[39m: \u001b[32mBoolean\u001b[39m = \u001b[32mtrue\u001b[39m\n",
       "\u001b[36mres3_1\u001b[39m: \u001b[32mBoolean\u001b[39m = \u001b[32mtrue\u001b[39m\n",
       "\u001b[36mres3_2\u001b[39m: \u001b[32mBoolean\u001b[39m = \u001b[32mtrue\u001b[39m"
      ]
     },
     "execution_count": 3,
     "metadata": {},
     "output_type": "execute_result"
    }
   ],
   "source": [
    "multiply(List(7,2,3,4)) == 7*2*3*4\n",
    "multiply(List(4)) == 4\n",
    "multiply(List()) == 1"
   ]
  },
  {
   "cell_type": "code",
   "execution_count": 4,
   "metadata": {},
   "outputs": [
    {
     "data": {
      "text/plain": [
       "\u001b[36mres4\u001b[39m: \u001b[32mBoolean\u001b[39m = \u001b[32mtrue\u001b[39m"
      ]
     },
     "execution_count": 4,
     "metadata": {},
     "output_type": "execute_result"
    }
   ],
   "source": [
    "multiply(7 :: List(2,3,4)) == {\n",
    "    val head: Int = 7\n",
    "    val tailSol: Int = 2*3*4\n",
    "    // 7 * 2 * 3 * 4\n",
    "    head * tailSol\n",
    "}"
   ]
  },
  {
   "cell_type": "code",
   "execution_count": 14,
   "metadata": {
    "collapsed": true,
    "jupyter": {
     "outputs_hidden": true
    },
    "tags": []
   },
   "outputs": [
    {
     "data": {
      "text/plain": [
       "\u001b[36mres14\u001b[39m: \u001b[32mList\u001b[39m[\u001b[32mInt\u001b[39m] = \u001b[33mList\u001b[39m(\n",
       "  \u001b[32m1\u001b[39m,\n",
       "  \u001b[32m2\u001b[39m,\n",
       "  \u001b[32m3\u001b[39m,\n",
       "  \u001b[32m0\u001b[39m,\n",
       "  \u001b[32m1\u001b[39m,\n",
       "  \u001b[32m1\u001b[39m,\n",
       "  \u001b[32m1\u001b[39m,\n",
       "  \u001b[32m1\u001b[39m,\n",
       "  \u001b[32m1\u001b[39m,\n",
       "  \u001b[32m1\u001b[39m,\n",
       "  \u001b[32m1\u001b[39m,\n",
       "  \u001b[32m1\u001b[39m,\n",
       "  \u001b[32m1\u001b[39m,\n",
       "  \u001b[32m1\u001b[39m,\n",
       "  \u001b[32m1\u001b[39m,\n",
       "  \u001b[32m1\u001b[39m,\n",
       "  \u001b[32m1\u001b[39m,\n",
       "  \u001b[32m1\u001b[39m,\n",
       "  \u001b[32m1\u001b[39m,\n",
       "  \u001b[32m1\u001b[39m,\n",
       "  \u001b[32m1\u001b[39m,\n",
       "  \u001b[32m1\u001b[39m,\n",
       "  \u001b[32m1\u001b[39m,\n",
       "  \u001b[32m1\u001b[39m,\n",
       "  \u001b[32m1\u001b[39m,\n",
       "  \u001b[32m1\u001b[39m,\n",
       "  \u001b[32m1\u001b[39m,\n",
       "  \u001b[32m1\u001b[39m,\n",
       "  \u001b[32m1\u001b[39m,\n",
       "  \u001b[32m1\u001b[39m,\n",
       "  \u001b[32m1\u001b[39m,\n",
       "  \u001b[32m1\u001b[39m,\n",
       "  \u001b[32m1\u001b[39m,\n",
       "  \u001b[32m1\u001b[39m,\n",
       "  \u001b[32m1\u001b[39m,\n",
       "  \u001b[32m1\u001b[39m,\n",
       "  \u001b[32m1\u001b[39m,\n",
       "  \u001b[32m1\u001b[39m,\n",
       "..."
      ]
     },
     "execution_count": 14,
     "metadata": {},
     "output_type": "execute_result"
    }
   ],
   "source": [
    "List(1,2,3) ++ (0 :: List.fill(10000)(1))"
   ]
  },
  {
   "cell_type": "code",
   "execution_count": 15,
   "metadata": {},
   "outputs": [
    {
     "data": {
      "text/plain": [
       "defined \u001b[32mfunction\u001b[39m \u001b[36mmultiply\u001b[39m"
      ]
     },
     "execution_count": 15,
     "metadata": {},
     "output_type": "execute_result"
    }
   ],
   "source": [
    "def multiply(l: List[Int]): Int = \n",
    "    l match \n",
    "        case Nil => 1 : Int\n",
    "        case 0 :: tail => 0\n",
    "        case head :: tail => \n",
    "            val tailSol: Int = multiply(tail) \n",
    "            head * tailSol"
   ]
  },
  {
   "cell_type": "code",
   "execution_count": 2,
   "metadata": {},
   "outputs": [
    {
     "data": {
      "text/plain": [
       "defined \u001b[32mfunction\u001b[39m \u001b[36mmultiply\u001b[39m"
      ]
     },
     "execution_count": 2,
     "metadata": {},
     "output_type": "execute_result"
    }
   ],
   "source": [
    "def multiply(l: List[Int]): Int = \n",
    "    l match \n",
    "        case Nil => 1 : Int\n",
    "        case head :: tail => \n",
    "            val tailSol: Int = multiply(tail) \n",
    "            head * tailSol"
   ]
  },
  {
   "cell_type": "code",
   "execution_count": null,
   "metadata": {},
   "outputs": [],
   "source": [
    "def recursionTemplate[A, B](l: List[A]): B = \n",
    "    l match \n",
    "        case Nil => ??? : B\n",
    "        case head :: tail => \n",
    "            val tailSol: B = recursionTemplate(tail) \n",
    "            ???(head, tailSol)"
   ]
  },
  {
   "cell_type": "code",
   "execution_count": 5,
   "metadata": {},
   "outputs": [
    {
     "data": {
      "text/plain": [
       "defined \u001b[32mfunction\u001b[39m \u001b[36mrecursionTemplate\u001b[39m"
      ]
     },
     "execution_count": 5,
     "metadata": {},
     "output_type": "execute_result"
    }
   ],
   "source": [
    "def recursionTemplate[A, B](l: List[A])(\n",
    "        nil: B, cons: (A, B) => B): B = \n",
    "    l match \n",
    "        case Nil => nil : B\n",
    "        case head :: tail => \n",
    "            val tailSol: B = recursionTemplate(tail)(nil, cons)\n",
    "            cons(head, tailSol): B"
   ]
  },
  {
   "cell_type": "code",
   "execution_count": 6,
   "metadata": {},
   "outputs": [
    {
     "data": {
      "text/plain": [
       "defined \u001b[32mfunction\u001b[39m \u001b[36mmultiply\u001b[39m"
      ]
     },
     "execution_count": 6,
     "metadata": {},
     "output_type": "execute_result"
    }
   ],
   "source": [
    "def multiply(l: List[Int]): Int = \n",
    "    recursionTemplate(l)(\n",
    "        1 : Int,\n",
    "        (head, tailSol) => \n",
    "            head * tailSol\n",
    "    )"
   ]
  },
  {
   "cell_type": "code",
   "execution_count": 7,
   "metadata": {},
   "outputs": [
    {
     "data": {
      "text/plain": [
       "defined \u001b[32mfunction\u001b[39m \u001b[36mmultiply\u001b[39m"
      ]
     },
     "execution_count": 7,
     "metadata": {},
     "output_type": "execute_result"
    }
   ],
   "source": [
    "def multiply(l: List[Int]): Int = \n",
    "    l.foldRight(\n",
    "        1 : Int\n",
    "    )(\n",
    "        (head, tailSol) => \n",
    "            head * tailSol\n",
    "    )"
   ]
  },
  {
   "cell_type": "code",
   "execution_count": 8,
   "metadata": {},
   "outputs": [
    {
     "data": {
      "text/plain": [
       "defined \u001b[32mfunction\u001b[39m \u001b[36mmultiply\u001b[39m"
      ]
     },
     "execution_count": 8,
     "metadata": {},
     "output_type": "execute_result"
    }
   ],
   "source": [
    "def multiply(l: List[Int]): Int = \n",
    "    l.foldRight(1)((head, tailSol) => head * tailSol)"
   ]
  },
  {
   "cell_type": "code",
   "execution_count": 10,
   "metadata": {},
   "outputs": [
    {
     "data": {
      "text/plain": [
       "defined \u001b[32mfunction\u001b[39m \u001b[36mmultiply\u001b[39m"
      ]
     },
     "execution_count": 10,
     "metadata": {},
     "output_type": "execute_result"
    }
   ],
   "source": [
    "def multiply(l: List[Int]): Int = \n",
    "    l.foldRight(1)(_*_)"
   ]
  },
  {
   "cell_type": "code",
   "execution_count": 11,
   "metadata": {},
   "outputs": [
    {
     "data": {
      "text/plain": [
       "defined \u001b[32mfunction\u001b[39m \u001b[36msum\u001b[39m"
      ]
     },
     "execution_count": 11,
     "metadata": {},
     "output_type": "execute_result"
    }
   ],
   "source": [
    "def sum(l: List[Int]): Int = \n",
    "    l.foldRight(0)(_+_)"
   ]
  },
  {
   "cell_type": "markdown",
   "metadata": {},
   "source": [
    "But we don't need to constrain ourselves to integers. In its generic version, the `combine` function is actually the `foldRight` higher-order function (for `List`s):"
   ]
  },
  {
   "cell_type": "code",
   "execution_count": null,
   "metadata": {},
   "outputs": [],
   "source": [
    "// more generically: foldRight\n"
   ]
  },
  {
   "cell_type": "markdown",
   "metadata": {},
   "source": [
    "Graphically, we can explain the behaviour of `foldRight` as follows: "
   ]
  },
  {
   "cell_type": "markdown",
   "metadata": {},
   "source": [
    "![with elements](../images/foldRight.1.svg)\n",
    "\n",
    "(all images credit to [Scala Visual Reference](https://superruzafa.github.io/visual-scala-reference/))"
   ]
  },
  {
   "cell_type": "markdown",
   "metadata": {},
   "source": [
    "We can understand `foldRight` as an implementation of the divide-and-conquer design pattern: first, divide your problems in subproblems; second, solve these sub-problems; last, compose their solutions to obtain the solution to the overall problem. If the sub-problems are simple enough they can be solved directly; otherwise, they are solved recursively. In the case of lists:\n",
    "- The problem is obtaining a value of type `B` for a given list.\n",
    "- The only sub-problem corresponds to the tail of that list. \n",
    "- The arguments of the `foldRight` function tell us how to obtain the solution for the empty list (the atomic problem which can not be further decomposed), and how to obtain the solution from the solution to the sub-problem."
   ]
  },
  {
   "cell_type": "markdown",
   "metadata": {},
   "source": [
    "From this perspective, the implementation of `sum` and `multiply` is exactly the same as before when we used the function `combine`, although we can explain them differently:"
   ]
  },
  {
   "cell_type": "code",
   "execution_count": 6,
   "metadata": {},
   "outputs": [
    {
     "data": {
      "text/plain": [
       "defined \u001b[32mfunction\u001b[39m \u001b[36msum\u001b[39m"
      ]
     },
     "execution_count": 6,
     "metadata": {},
     "output_type": "execute_result"
    }
   ],
   "source": [
    "def sum(list: List[Int]): Int = \n",
    "    foldRight[Int, Int](list)(\n",
    "        0, // direct solution to atomic problem\n",
    "        (head, subsol) => head + subsol // composing sub-solution\n",
    "    )"
   ]
  },
  {
   "cell_type": "code",
   "execution_count": 7,
   "metadata": {},
   "outputs": [
    {
     "data": {
      "text/plain": [
       "defined \u001b[32mfunction\u001b[39m \u001b[36mmultiply\u001b[39m"
      ]
     },
     "execution_count": 7,
     "metadata": {},
     "output_type": "execute_result"
    }
   ],
   "source": [
    "def multiply(list: List[Int]): Int = \n",
    "    foldRight(list)(\n",
    "        1, // direct solution\n",
    "        (head: Int, subsol: Int) => head * subsol // compose\n",
    "    )"
   ]
  },
  {
   "cell_type": "markdown",
   "metadata": {},
   "source": [
    "#### HOFs in the Scala API"
   ]
  },
  {
   "cell_type": "markdown",
   "metadata": {},
   "source": [
    "The `foldRight` HOF, as all the HOFs that we will explain in this notebook, are actually part of the standard Collections library of Scala. Typically, they are implemented as member methods of the corresponding collection class. For lists, the [Scala API](https://www.scala-lang.org/api/2.13.1/scala/collection/immutable/List.html) offers something like this:"
   ]
  },
  {
   "cell_type": "code",
   "execution_count": 9,
   "metadata": {},
   "outputs": [
    {
     "data": {
      "text/plain": [
       "defined \u001b[32mobject\u001b[39m \u001b[36mStandard\u001b[39m"
      ]
     },
     "execution_count": 9,
     "metadata": {},
     "output_type": "execute_result"
    }
   ],
   "source": [
    "object Standard{\n",
    "    class List[A]{\n",
    "        def foldRight[B](b: B)(f: (B, A) => B): B = ???\n",
    "    }\n",
    "}"
   ]
  },
  {
   "cell_type": "markdown",
   "metadata": {},
   "source": [
    "So, invocations of the standard `foldRight` do not receive the list as argument, but are common method invocations on some `List` instance:"
   ]
  },
  {
   "cell_type": "code",
   "execution_count": 10,
   "metadata": {},
   "outputs": [
    {
     "data": {
      "text/plain": [
       "\u001b[36mres10\u001b[39m: \u001b[32mInt\u001b[39m = \u001b[32m6\u001b[39m"
      ]
     },
     "execution_count": 10,
     "metadata": {},
     "output_type": "execute_result"
    }
   ],
   "source": [
    "// foldRight over lists\n",
    "\n"
   ]
  },
  {
   "cell_type": "markdown",
   "metadata": {},
   "source": [
    "Normally, we will use standard HOFs instead of our home-made versions, once they are explained. "
   ]
  },
  {
   "cell_type": "markdown",
   "metadata": {},
   "source": [
    "## The Hall of Fame of HOFs"
   ]
  },
  {
   "cell_type": "markdown",
   "metadata": {},
   "source": [
    "Besides `compose`, `andThen` and `foldRight`, there are other famous higher-order functions which work great as modularity devices: "
   ]
  },
  {
   "cell_type": "code",
   "execution_count": 11,
   "metadata": {},
   "outputs": [
    {
     "data": {
      "text/plain": [
       "defined \u001b[32mfunction\u001b[39m \u001b[36mfoldLeft\u001b[39m\n",
       "defined \u001b[32mfunction\u001b[39m \u001b[36mfilter\u001b[39m\n",
       "defined \u001b[32mfunction\u001b[39m \u001b[36mmap\u001b[39m\n",
       "defined \u001b[32mfunction\u001b[39m \u001b[36mflatMap\u001b[39m"
      ]
     },
     "execution_count": 11,
     "metadata": {},
     "output_type": "execute_result"
    }
   ],
   "source": [
    "def foldLeft[A, B](list: List[A])(b: B)(f: (B, A) => B): B = ???\n",
    "def filter[A](list: List[A])(f: A => Boolean): List[A] = ???\n",
    "def map[A, B](list: List[A])(f: A => B): List[B] = ???\n",
    "def flatMap[A, B](list: List[A])(f: A => List[B]): List[B] = ???"
   ]
  },
  {
   "cell_type": "markdown",
   "metadata": {},
   "source": [
    "But most of these functions do not only work for `List`, they work also for `Option`, `Either[A, ?]`, and many other data structures. For instance:"
   ]
  },
  {
   "cell_type": "code",
   "execution_count": 12,
   "metadata": {},
   "outputs": [
    {
     "data": {
      "text/plain": [
       "defined \u001b[32mfunction\u001b[39m \u001b[36mfold\u001b[39m\n",
       "defined \u001b[32mfunction\u001b[39m \u001b[36mfilter\u001b[39m\n",
       "defined \u001b[32mfunction\u001b[39m \u001b[36mmap\u001b[39m\n",
       "defined \u001b[32mfunction\u001b[39m \u001b[36mflatMap\u001b[39m"
      ]
     },
     "execution_count": 12,
     "metadata": {},
     "output_type": "execute_result"
    }
   ],
   "source": [
    "def fold[A, B](opt: Option[A])(none: B)(some: A => B): B = ???\n",
    "def filter[A](opt: Option[A])(f: A => Boolean): Option[A] = ???\n",
    "def map[A, B](opt: Option[A])(f: A => B): Option[B] = ???  \n",
    "def flatMap[A, B](opt: Option[A])(f: A => Option[B] ): Option[B] = ???"
   ]
  },
  {
   "cell_type": "code",
   "execution_count": 13,
   "metadata": {},
   "outputs": [
    {
     "data": {
      "text/plain": [
       "defined \u001b[32mfunction\u001b[39m \u001b[36mfold\u001b[39m\n",
       "defined \u001b[32mfunction\u001b[39m \u001b[36mfilter\u001b[39m\n",
       "defined \u001b[32mfunction\u001b[39m \u001b[36mmap\u001b[39m\n",
       "defined \u001b[32mfunction\u001b[39m \u001b[36mflatMap\u001b[39m"
      ]
     },
     "execution_count": 13,
     "metadata": {},
     "output_type": "execute_result"
    }
   ],
   "source": [
    "def fold[A, B, C](opt: Either[A, B])(left: A => C, right: B => C): C = ???\n",
    "def filter[A, B](opt: Either[A, B])(f: B => Boolean): Either[A, B] = ???\n",
    "def map[A, B, C](opt: Either[A, B])(f: B => C): Either[A, C] = ???  \n",
    "def flatMap[A, B, C](opt: Either[A, B])(f: B => Either[A, C] ): Either[A, C] = ???"
   ]
  },
  {
   "cell_type": "markdown",
   "metadata": {},
   "source": [
    "The `fold` function is the catamorphism for `Option` and `Either[A, ?]`, in the same way than `foldRight` is the catamorphism for lists (unfortunately, the concept of catamorphism won't be explained due to lack of time). "
   ]
  },
  {
   "cell_type": "markdown",
   "metadata": {},
   "source": [
    "## FoldLeft: a better loop"
   ]
  },
  {
   "cell_type": "markdown",
   "metadata": {},
   "source": [
    "The `foldLeft` HOF is the functional way to implement common imperative algorithms. For instance:"
   ]
  },
  {
   "cell_type": "markdown",
   "metadata": {},
   "source": [
    "out           aux\n",
    "---           --- \n",
    "???           List(1,2,3)\n",
    "???(1, out)   List(2,3)\n",
    "???(2, out)   List(3)\n",
    "???(3, out)   List()"
   ]
  },
  {
   "cell_type": "markdown",
   "metadata": {},
   "source": [
    "out           aux\n",
    "---           --- \n",
    "0             List(1,2,3)\n",
    "1+0           List(2,3)\n",
    "1+(1+0)       List(3)\n",
    "1+(1+1+0)     List()"
   ]
  },
  {
   "cell_type": "code",
   "execution_count": 24,
   "metadata": {},
   "outputs": [
    {
     "data": {
      "text/plain": [
       "defined \u001b[32mfunction\u001b[39m \u001b[36miterativeTemplate_Imperatively\u001b[39m"
      ]
     },
     "execution_count": 24,
     "metadata": {},
     "output_type": "execute_result"
    }
   ],
   "source": [
    "def iterativeTemplate_Imperatively[A, B](l: List[A]): B = \n",
    "    var out: B = ??? \n",
    "    var aux: List[A] = l\n",
    "    while aux != Nil do \n",
    "        out = (??? : (A, B) => B)(l.head, out)\n",
    "        aux = aux.tail\n",
    "    out"
   ]
  },
  {
   "cell_type": "code",
   "execution_count": 30,
   "metadata": {},
   "outputs": [
    {
     "data": {
      "text/plain": [
       "defined \u001b[32mfunction\u001b[39m \u001b[36mlength_Imperatively\u001b[39m"
      ]
     },
     "execution_count": 30,
     "metadata": {},
     "output_type": "execute_result"
    }
   ],
   "source": [
    "def length_Imperatively[A](l: List[A]): Int = \n",
    "    println(\"out\" +  \"\\t\\t\\t\" + \"aux\")\n",
    "    println(\"---\" +  \"\\t\\t\\t\" + \"---\")\n",
    "    var out: Int = 0 \n",
    "    var aux: List[A] = l\n",
    "    while aux != Nil do \n",
    "        println(out.toString + \"\\t\\t\\t\" + aux)\n",
    "        out = 1+out // (??? : (A, Int) => Int)(l.head, out)\n",
    "        aux = aux.tail\n",
    "    out"
   ]
  },
  {
   "cell_type": "code",
   "execution_count": 31,
   "metadata": {},
   "outputs": [
    {
     "name": "stdout",
     "output_type": "stream",
     "text": [
      "out\t\t\taux\n",
      "---\t\t\t---\n",
      "0\t\t\tList(1, 2, 3, 4)\n",
      "1\t\t\tList(2, 3, 4)\n",
      "2\t\t\tList(3, 4)\n",
      "3\t\t\tList(4)\n"
     ]
    },
    {
     "data": {
      "text/plain": [
       "\u001b[36mres31\u001b[39m: \u001b[32mInt\u001b[39m = \u001b[32m4\u001b[39m"
      ]
     },
     "execution_count": 31,
     "metadata": {},
     "output_type": "execute_result"
    }
   ],
   "source": [
    "length_Imperatively(List(1,2,3,4))"
   ]
  },
  {
   "cell_type": "code",
   "execution_count": 49,
   "metadata": {},
   "outputs": [
    {
     "data": {
      "text/plain": [
       "defined \u001b[32mfunction\u001b[39m \u001b[36miterativeTemplate_TailRecursion\u001b[39m"
      ]
     },
     "execution_count": 49,
     "metadata": {},
     "output_type": "execute_result"
    }
   ],
   "source": [
    "def iterativeTemplate_TailRecursion[A, B](l: List[A]): B = \n",
    "    \n",
    "    def step(out: B, aux: List[A]): B = \n",
    "        aux match \n",
    "            case Nil => out\n",
    "            case e :: tail => \n",
    "                val out1 = (??? : (B, A) => B)(out, l.head)\n",
    "                val aux1 = aux.tail\n",
    "                step(out, aux)\n",
    "\n",
    "    step(??? : B, l)"
   ]
  },
  {
   "cell_type": "code",
   "execution_count": 50,
   "metadata": {},
   "outputs": [
    {
     "data": {
      "text/plain": [
       "defined \u001b[32mfunction\u001b[39m \u001b[36miterativeTemplate_TailRecursion\u001b[39m"
      ]
     },
     "execution_count": 50,
     "metadata": {},
     "output_type": "execute_result"
    }
   ],
   "source": [
    "def iterativeTemplate_TailRecursion[A, B](l: List[A]): B = \n",
    "    \n",
    "    def step(out: B, aux: List[A]): B = \n",
    "        aux match \n",
    "            case Nil => out\n",
    "            case e :: tail => \n",
    "                step((??? : (B, A) => B)(out, e), tail)\n",
    "\n",
    "    step(??? : B, l)"
   ]
  },
  {
   "cell_type": "code",
   "execution_count": 33,
   "metadata": {},
   "outputs": [
    {
     "data": {
      "text/plain": [
       "defined \u001b[32mfunction\u001b[39m \u001b[36mlength_TailRecursion\u001b[39m"
      ]
     },
     "execution_count": 33,
     "metadata": {},
     "output_type": "execute_result"
    }
   ],
   "source": [
    "def length_TailRecursion[A](l: List[A]): Int = \n",
    "    \n",
    "    def step(out: Int, aux: List[A]): Int = \n",
    "        println(out.toString + \"\\t\\t\\t\" + aux)\n",
    "        aux match \n",
    "            case Nil => out\n",
    "            case e :: tail => \n",
    "                step(1+out, tail)\n",
    "\n",
    "    println(\"out\" +  \"\\t\\t\\t\" + \"aux\")\n",
    "    println(\"---\" +  \"\\t\\t\\t\" + \"---\")\n",
    "    \n",
    "    step(0 : Int, l)"
   ]
  },
  {
   "cell_type": "code",
   "execution_count": 34,
   "metadata": {},
   "outputs": [
    {
     "name": "stdout",
     "output_type": "stream",
     "text": [
      "out\t\t\taux\n",
      "---\t\t\t---\n",
      "0\t\t\tList(1, 2, 3, 4)\n",
      "1\t\t\tList(2, 3, 4)\n",
      "2\t\t\tList(3, 4)\n",
      "3\t\t\tList(4)\n",
      "4\t\t\tList()\n"
     ]
    },
    {
     "data": {
      "text/plain": [
       "\u001b[36mres34\u001b[39m: \u001b[32mInt\u001b[39m = \u001b[32m4\u001b[39m"
      ]
     },
     "execution_count": 34,
     "metadata": {},
     "output_type": "execute_result"
    }
   ],
   "source": [
    "length_TailRecursion(List(1,2,3,4))"
   ]
  },
  {
   "cell_type": "code",
   "execution_count": null,
   "metadata": {},
   "outputs": [],
   "source": [
    "out: List[A]         aux: List[A]\n",
    "------------         ------------\n",
    "Nil                  List(1,2,3)\n",
    "1 :: Nil             List(2,3)\n",
    "2 :: (1 :: Nil)      List(3)\n",
    "3 :: (2 :: 1 :: Nil) List()"
   ]
  },
  {
   "cell_type": "code",
   "execution_count": 37,
   "metadata": {},
   "outputs": [
    {
     "data": {
      "text/plain": [
       "defined \u001b[32mfunction\u001b[39m \u001b[36mreverse_TailRecursion\u001b[39m"
      ]
     },
     "execution_count": 37,
     "metadata": {},
     "output_type": "execute_result"
    }
   ],
   "source": [
    "def reverse_TailRecursion[A](l: List[A]): List[A] = \n",
    "    \n",
    "    def step(out: List[A], aux: List[A]): List[A] = \n",
    "        println(out.toString + \"\\t\\t\\t\" + aux)\n",
    "        aux match \n",
    "            case Nil => out\n",
    "            case e :: tail => \n",
    "                step(e :: out, tail)\n",
    "\n",
    "    println(\"out\" +  \"\\t\\t\\t\" + \"aux\")\n",
    "    println(\"---\" +  \"\\t\\t\\t\" + \"---\")\n",
    "    \n",
    "    step(Nil : List[A], l)"
   ]
  },
  {
   "cell_type": "code",
   "execution_count": 38,
   "metadata": {},
   "outputs": [
    {
     "name": "stdout",
     "output_type": "stream",
     "text": [
      "out\t\t\taux\n",
      "---\t\t\t---\n",
      "List()\t\t\tList(1, 2, 3, 4, 5)\n",
      "List(1)\t\t\tList(2, 3, 4, 5)\n",
      "List(2, 1)\t\t\tList(3, 4, 5)\n",
      "List(3, 2, 1)\t\t\tList(4, 5)\n",
      "List(4, 3, 2, 1)\t\t\tList(5)\n",
      "List(5, 4, 3, 2, 1)\t\t\tList()\n"
     ]
    },
    {
     "data": {
      "text/plain": [
       "\u001b[36mres38\u001b[39m: \u001b[32mList\u001b[39m[\u001b[32mInt\u001b[39m] = \u001b[33mList\u001b[39m(\u001b[32m5\u001b[39m, \u001b[32m4\u001b[39m, \u001b[32m3\u001b[39m, \u001b[32m2\u001b[39m, \u001b[32m1\u001b[39m)"
      ]
     },
     "execution_count": 38,
     "metadata": {},
     "output_type": "execute_result"
    }
   ],
   "source": [
    "reverse_TailRecursion(List(1,2,3,4,5))"
   ]
  },
  {
   "cell_type": "code",
   "execution_count": 35,
   "metadata": {},
   "outputs": [
    {
     "data": {
      "text/plain": [
       "\u001b[36mres35\u001b[39m: \u001b[32mList\u001b[39m[\u001b[32mInt\u001b[39m] = \u001b[33mList\u001b[39m(\u001b[32m4\u001b[39m, \u001b[32m3\u001b[39m, \u001b[32m2\u001b[39m, \u001b[32m1\u001b[39m)"
      ]
     },
     "execution_count": 35,
     "metadata": {},
     "output_type": "execute_result"
    }
   ],
   "source": [
    "List(1,2,3,4).foldRight(Nil: List[Int])(\n",
    "    (head, tailReversed) => tailReversed :+ head)"
   ]
  },
  {
   "cell_type": "code",
   "execution_count": 15,
   "metadata": {},
   "outputs": [
    {
     "data": {
      "text/plain": [
       "defined \u001b[32mfunction\u001b[39m \u001b[36mreverse\u001b[39m"
      ]
     },
     "execution_count": 15,
     "metadata": {},
     "output_type": "execute_result"
    }
   ],
   "source": [
    "// reverse function, imperatively\n"
   ]
  },
  {
   "cell_type": "code",
   "execution_count": 51,
   "metadata": {},
   "outputs": [
    {
     "data": {
      "text/plain": [
       "defined \u001b[32mfunction\u001b[39m \u001b[36miterativeTemplate_TailRecursion\u001b[39m"
      ]
     },
     "execution_count": 51,
     "metadata": {},
     "output_type": "execute_result"
    }
   ],
   "source": [
    "def iterativeTemplate_TailRecursion[A, B](l: List[A]): B = \n",
    "    \n",
    "    def step(out: B, aux: List[A]): B = \n",
    "        aux match \n",
    "            case Nil => out\n",
    "            case e :: tail => \n",
    "                step((??? : (B, A) => B)(out, e), tail)\n",
    "\n",
    "    step(??? : B, l)"
   ]
  },
  {
   "cell_type": "code",
   "execution_count": 52,
   "metadata": {},
   "outputs": [
    {
     "data": {
      "text/plain": [
       "defined \u001b[32mfunction\u001b[39m \u001b[36mreverse\u001b[39m"
      ]
     },
     "execution_count": 52,
     "metadata": {},
     "output_type": "execute_result"
    }
   ],
   "source": [
    "def reverse[A](l: List[A]): List[A] = \n",
    "    \n",
    "    def step(out: List[A], aux: List[A]): List[A] = \n",
    "        aux match \n",
    "            case Nil => out\n",
    "            case e :: tail => \n",
    "                step(e :: out, tail)\n",
    "\n",
    "    step(Nil, l)"
   ]
  },
  {
   "cell_type": "code",
   "execution_count": 53,
   "metadata": {},
   "outputs": [
    {
     "data": {
      "text/plain": [
       "defined \u001b[32mfunction\u001b[39m \u001b[36miterativeTemplate_TailRecursion\u001b[39m"
      ]
     },
     "execution_count": 53,
     "metadata": {},
     "output_type": "execute_result"
    }
   ],
   "source": [
    "def iterativeTemplate_TailRecursion[A, B](l: List[A])(\n",
    "        initial: B, update: (B, A) => B): B = \n",
    "    @annotation.tailrec\n",
    "    def step(out: B, aux: List[A]): B = \n",
    "        aux match \n",
    "            case Nil => out\n",
    "            case e :: tail => \n",
    "                step(update(out, e), tail)\n",
    "\n",
    "    step(initial : B, l)"
   ]
  },
  {
   "cell_type": "code",
   "execution_count": 54,
   "metadata": {},
   "outputs": [
    {
     "data": {
      "text/plain": [
       "defined \u001b[32mfunction\u001b[39m \u001b[36mreverse\u001b[39m"
      ]
     },
     "execution_count": 54,
     "metadata": {},
     "output_type": "execute_result"
    }
   ],
   "source": [
    "def reverse[A](l: List[A]): List[A] = \n",
    "    iterativeTemplate_TailRecursion[A, List[A]](l)(\n",
    "        Nil, (out, e) => e :: out\n",
    "    )"
   ]
  },
  {
   "cell_type": "code",
   "execution_count": 44,
   "metadata": {},
   "outputs": [
    {
     "data": {
      "text/plain": [
       "defined \u001b[32mfunction\u001b[39m \u001b[36mreverse\u001b[39m"
      ]
     },
     "execution_count": 44,
     "metadata": {},
     "output_type": "execute_result"
    }
   ],
   "source": [
    "def reverse[A](l: List[A]): List[A] = \n",
    "    l.foldLeft(\n",
    "        Nil : List[A]\n",
    "    )((out, e) => e :: out\n",
    "    )"
   ]
  },
  {
   "cell_type": "code",
   "execution_count": 45,
   "metadata": {},
   "outputs": [
    {
     "data": {
      "text/plain": [
       "defined \u001b[32mfunction\u001b[39m \u001b[36mreverse\u001b[39m"
      ]
     },
     "execution_count": 45,
     "metadata": {},
     "output_type": "execute_result"
    }
   ],
   "source": [
    "def reverse[A](l: List[A]): List[A] = \n",
    "    l.foldLeft[List[A]](Nil)((out, e) => e :: out)"
   ]
  },
  {
   "cell_type": "code",
   "execution_count": 43,
   "metadata": {},
   "outputs": [
    {
     "data": {
      "text/plain": [
       "\u001b[36mres43\u001b[39m: \u001b[32mList\u001b[39m[\u001b[32mInt\u001b[39m] = \u001b[33mList\u001b[39m(\u001b[32m5\u001b[39m, \u001b[32m4\u001b[39m, \u001b[32m3\u001b[39m, \u001b[32m2\u001b[39m, \u001b[32m1\u001b[39m)"
      ]
     },
     "execution_count": 43,
     "metadata": {},
     "output_type": "execute_result"
    }
   ],
   "source": [
    "reverse(List(1,2,3,4,5))"
   ]
  },
  {
   "cell_type": "markdown",
   "metadata": {},
   "source": [
    "The following implementation abstracts away the differences in the above functions, and declares two additional parameters: the initial value of a mutable variable, and the update function executed in every step of the loop."
   ]
  },
  {
   "cell_type": "code",
   "execution_count": 16,
   "metadata": {},
   "outputs": [
    {
     "data": {
      "text/plain": [
       "defined \u001b[32mfunction\u001b[39m \u001b[36mfoldLeft\u001b[39m"
      ]
     },
     "execution_count": 16,
     "metadata": {},
     "output_type": "execute_result"
    }
   ],
   "source": [
    "// abstraction: foldLeft, imperatively\n"
   ]
  },
  {
   "cell_type": "markdown",
   "metadata": {},
   "source": [
    "Similarly, the `foldLeft` function is typically used where a tail-recursive function is needed. Its recursive implementation is naturally tail-recursive:"
   ]
  },
  {
   "cell_type": "code",
   "execution_count": 48,
   "metadata": {},
   "outputs": [
    {
     "data": {
      "text/plain": [
       "defined \u001b[32mfunction\u001b[39m \u001b[36miterativeTemplate_TailRecursion\u001b[39m"
      ]
     },
     "execution_count": 48,
     "metadata": {},
     "output_type": "execute_result"
    }
   ],
   "source": [
    "@annotation.tailrec\n",
    "def iterativeTemplate_TailRecursion[A, B](l: List[A])(\n",
    "        initial: B, update: (A, B) => B): B = \n",
    "    l match \n",
    "        case Nil => initial\n",
    "        case e :: tail => \n",
    "            iterativeTemplate_TailRecursion(tail)(update(e, initial), update)"
   ]
  },
  {
   "cell_type": "code",
   "execution_count": null,
   "metadata": {},
   "outputs": [
    {
     "name": "stderr",
     "output_type": "stream",
     "text": [
      "-- [E097] Syntax Error: cell1.sc:2:4 -------------------------------------------\n",
      "2 |def foldLeft[A, B](list: List[A])(out: B)(update: (B, A) => B): B =\n",
      "  |    ^\n",
      "  |TailRec optimisation not applicable, method foldLeft contains no recursive calls\n",
      "Compilation Failed"
     ]
    }
   ],
   "source": [
    "@annotation.tailrec\n",
    "def foldLeft[A, B](list: List[A])(out: B)(update: (B, A) => B): B =\n",
    "    ??? "
   ]
  },
  {
   "cell_type": "markdown",
   "metadata": {},
   "source": [
    "Using `foldLeft` we can implement functions at a higher-level of abstraction, i.e. using constructs which are nearer to the problem-domain, without caring about mutable variables, tail-safe recursion, etc. Its use also leads to very concise (and readable!) implementations. For instance, these are (almost) one-liner implementations of some of the functions of the last notebook on recursive functions:"
   ]
  },
  {
   "cell_type": "code",
   "execution_count": 18,
   "metadata": {},
   "outputs": [
    {
     "data": {
      "text/plain": [
       "defined \u001b[32mfunction\u001b[39m \u001b[36mlength\u001b[39m"
      ]
     },
     "execution_count": 18,
     "metadata": {},
     "output_type": "execute_result"
    }
   ],
   "source": [
    "def length[A](list: List[A]): Int = \n",
    "    ??? "
   ]
  },
  {
   "cell_type": "code",
   "execution_count": 19,
   "metadata": {},
   "outputs": [
    {
     "data": {
      "text/plain": [
       "defined \u001b[32mfunction\u001b[39m \u001b[36msum\u001b[39m"
      ]
     },
     "execution_count": 19,
     "metadata": {},
     "output_type": "execute_result"
    }
   ],
   "source": [
    "def sum(list: List[Int]): Int = \n",
    "    ???"
   ]
  },
  {
   "cell_type": "code",
   "execution_count": 20,
   "metadata": {},
   "outputs": [
    {
     "data": {
      "text/plain": [
       "defined \u001b[32mfunction\u001b[39m \u001b[36mreverse\u001b[39m"
      ]
     },
     "execution_count": 20,
     "metadata": {},
     "output_type": "execute_result"
    }
   ],
   "source": [
    "def reverse[A](list: List[A]): List[A] = \n",
    "    ??? "
   ]
  },
  {
   "cell_type": "markdown",
   "metadata": {},
   "source": [
    "But we may also use the `foldRight` function to implement them:"
   ]
  },
  {
   "cell_type": "code",
   "execution_count": 21,
   "metadata": {},
   "outputs": [
    {
     "data": {
      "text/plain": [
       "defined \u001b[32mfunction\u001b[39m \u001b[36mlength\u001b[39m"
      ]
     },
     "execution_count": 21,
     "metadata": {},
     "output_type": "execute_result"
    }
   ],
   "source": [
    "def length[A](list: List[A]): Int = \n",
    "    ??? "
   ]
  },
  {
   "cell_type": "code",
   "execution_count": 22,
   "metadata": {},
   "outputs": [
    {
     "data": {
      "text/plain": [
       "defined \u001b[32mfunction\u001b[39m \u001b[36msum\u001b[39m"
      ]
     },
     "execution_count": 22,
     "metadata": {},
     "output_type": "execute_result"
    }
   ],
   "source": [
    "def sum(list: List[Int]): Int = \n",
    "    ???"
   ]
  },
  {
   "cell_type": "code",
   "execution_count": 24,
   "metadata": {},
   "outputs": [
    {
     "data": {
      "text/plain": [
       "defined \u001b[32mfunction\u001b[39m \u001b[36mreverse\u001b[39m"
      ]
     },
     "execution_count": 24,
     "metadata": {},
     "output_type": "execute_result"
    }
   ],
   "source": [
    "def reverse[A](list: List[A]): List[A] = \n",
    "    ???"
   ]
  },
  {
   "cell_type": "markdown",
   "metadata": {},
   "source": [
    "Functionally, both versions are equivalent, but the ones using `foldLeft` are more efficient. In particular, the `foldRight` version of `reverse` has cuadratic complexity. "
   ]
  },
  {
   "cell_type": "markdown",
   "metadata": {},
   "source": [
    "#### Implementing `foldRight` with `foldLeft`"
   ]
  },
  {
   "cell_type": "markdown",
   "metadata": {},
   "source": [
    "The implementation that we gave for `foldRight` was not tail-recursive, so this will blow up the stack:"
   ]
  },
  {
   "cell_type": "code",
   "execution_count": 26,
   "metadata": {
    "collapsed": true,
    "jupyter": {
     "outputs_hidden": true
    },
    "tags": []
   },
   "outputs": [
    {
     "ename": "java.lang.StackOverflowError",
     "evalue": "null",
     "output_type": "error",
     "traceback": [
      "\u001b[31mjava.lang.StackOverflowError\u001b[39m",
      "  scala.collection.immutable.List.equals(\u001b[32mList.scala\u001b[39m:\u001b[32m612\u001b[39m)",
      "  ammonite.$sess.cell5$Helper.foldRight(\u001b[32mcell5.sc\u001b[39m:\u001b[32m3\u001b[39m)",
      "  ammonite.$sess.cell5$Helper.foldRight(\u001b[32mcell5.sc\u001b[39m:\u001b[32m4\u001b[39m)",
      "  ammonite.$sess.cell5$Helper.foldRight(\u001b[32mcell5.sc\u001b[39m:\u001b[32m4\u001b[39m)",
      "  ammonite.$sess.cell5$Helper.foldRight(\u001b[32mcell5.sc\u001b[39m:\u001b[32m4\u001b[39m)",
      "  ammonite.$sess.cell5$Helper.foldRight(\u001b[32mcell5.sc\u001b[39m:\u001b[32m4\u001b[39m)",
      "  ammonite.$sess.cell5$Helper.foldRight(\u001b[32mcell5.sc\u001b[39m:\u001b[32m4\u001b[39m)",
      "  ammonite.$sess.cell5$Helper.foldRight(\u001b[32mcell5.sc\u001b[39m:\u001b[32m4\u001b[39m)",
      "  ammonite.$sess.cell5$Helper.foldRight(\u001b[32mcell5.sc\u001b[39m:\u001b[32m4\u001b[39m)",
      "  ammonite.$sess.cell5$Helper.foldRight(\u001b[32mcell5.sc\u001b[39m:\u001b[32m4\u001b[39m)",
      "  ammonite.$sess.cell5$Helper.foldRight(\u001b[32mcell5.sc\u001b[39m:\u001b[32m4\u001b[39m)",
      "  ammonite.$sess.cell5$Helper.foldRight(\u001b[32mcell5.sc\u001b[39m:\u001b[32m4\u001b[39m)",
      "  ammonite.$sess.cell5$Helper.foldRight(\u001b[32mcell5.sc\u001b[39m:\u001b[32m4\u001b[39m)",
      "  ammonite.$sess.cell5$Helper.foldRight(\u001b[32mcell5.sc\u001b[39m:\u001b[32m4\u001b[39m)",
      "  ammonite.$sess.cell5$Helper.foldRight(\u001b[32mcell5.sc\u001b[39m:\u001b[32m4\u001b[39m)",
      "  ammonite.$sess.cell5$Helper.foldRight(\u001b[32mcell5.sc\u001b[39m:\u001b[32m4\u001b[39m)",
      "  ammonite.$sess.cell5$Helper.foldRight(\u001b[32mcell5.sc\u001b[39m:\u001b[32m4\u001b[39m)",
      "  ammonite.$sess.cell5$Helper.foldRight(\u001b[32mcell5.sc\u001b[39m:\u001b[32m4\u001b[39m)",
      "  ammonite.$sess.cell5$Helper.foldRight(\u001b[32mcell5.sc\u001b[39m:\u001b[32m4\u001b[39m)",
      "  ammonite.$sess.cell5$Helper.foldRight(\u001b[32mcell5.sc\u001b[39m:\u001b[32m4\u001b[39m)",
      "  ammonite.$sess.cell5$Helper.foldRight(\u001b[32mcell5.sc\u001b[39m:\u001b[32m4\u001b[39m)",
      "  ammonite.$sess.cell5$Helper.foldRight(\u001b[32mcell5.sc\u001b[39m:\u001b[32m4\u001b[39m)",
      "  ammonite.$sess.cell5$Helper.foldRight(\u001b[32mcell5.sc\u001b[39m:\u001b[32m4\u001b[39m)",
      "  ammonite.$sess.cell5$Helper.foldRight(\u001b[32mcell5.sc\u001b[39m:\u001b[32m4\u001b[39m)",
      "  ammonite.$sess.cell5$Helper.foldRight(\u001b[32mcell5.sc\u001b[39m:\u001b[32m4\u001b[39m)",
      "  ammonite.$sess.cell5$Helper.foldRight(\u001b[32mcell5.sc\u001b[39m:\u001b[32m4\u001b[39m)",
      "  ammonite.$sess.cell5$Helper.foldRight(\u001b[32mcell5.sc\u001b[39m:\u001b[32m4\u001b[39m)",
      "  ammonite.$sess.cell5$Helper.foldRight(\u001b[32mcell5.sc\u001b[39m:\u001b[32m4\u001b[39m)",
      "  ammonite.$sess.cell5$Helper.foldRight(\u001b[32mcell5.sc\u001b[39m:\u001b[32m4\u001b[39m)",
      "  ammonite.$sess.cell5$Helper.foldRight(\u001b[32mcell5.sc\u001b[39m:\u001b[32m4\u001b[39m)",
      "  ammonite.$sess.cell5$Helper.foldRight(\u001b[32mcell5.sc\u001b[39m:\u001b[32m4\u001b[39m)",
      "  ammonite.$sess.cell5$Helper.foldRight(\u001b[32mcell5.sc\u001b[39m:\u001b[32m4\u001b[39m)",
      "  ammonite.$sess.cell5$Helper.foldRight(\u001b[32mcell5.sc\u001b[39m:\u001b[32m4\u001b[39m)",
      "  ammonite.$sess.cell5$Helper.foldRight(\u001b[32mcell5.sc\u001b[39m:\u001b[32m4\u001b[39m)",
      "  ammonite.$sess.cell5$Helper.foldRight(\u001b[32mcell5.sc\u001b[39m:\u001b[32m4\u001b[39m)",
      "  ammonite.$sess.cell5$Helper.foldRight(\u001b[32mcell5.sc\u001b[39m:\u001b[32m4\u001b[39m)",
      "  ammonite.$sess.cell5$Helper.foldRight(\u001b[32mcell5.sc\u001b[39m:\u001b[32m4\u001b[39m)",
      "  ammonite.$sess.cell5$Helper.foldRight(\u001b[32mcell5.sc\u001b[39m:\u001b[32m4\u001b[39m)",
      "  ammonite.$sess.cell5$Helper.foldRight(\u001b[32mcell5.sc\u001b[39m:\u001b[32m4\u001b[39m)",
      "  ammonite.$sess.cell5$Helper.foldRight(\u001b[32mcell5.sc\u001b[39m:\u001b[32m4\u001b[39m)",
      "  ammonite.$sess.cell5$Helper.foldRight(\u001b[32mcell5.sc\u001b[39m:\u001b[32m4\u001b[39m)",
      "  ammonite.$sess.cell5$Helper.foldRight(\u001b[32mcell5.sc\u001b[39m:\u001b[32m4\u001b[39m)",
      "  ammonite.$sess.cell5$Helper.foldRight(\u001b[32mcell5.sc\u001b[39m:\u001b[32m4\u001b[39m)",
      "  ammonite.$sess.cell5$Helper.foldRight(\u001b[32mcell5.sc\u001b[39m:\u001b[32m4\u001b[39m)",
      "  ammonite.$sess.cell5$Helper.foldRight(\u001b[32mcell5.sc\u001b[39m:\u001b[32m4\u001b[39m)",
      "  ammonite.$sess.cell5$Helper.foldRight(\u001b[32mcell5.sc\u001b[39m:\u001b[32m4\u001b[39m)",
      "  ammonite.$sess.cell5$Helper.foldRight(\u001b[32mcell5.sc\u001b[39m:\u001b[32m4\u001b[39m)",
      "  ammonite.$sess.cell5$Helper.foldRight(\u001b[32mcell5.sc\u001b[39m:\u001b[32m4\u001b[39m)",
      "  ammonite.$sess.cell5$Helper.foldRight(\u001b[32mcell5.sc\u001b[39m:\u001b[32m4\u001b[39m)",
      "  ammonite.$sess.cell5$Helper.foldRight(\u001b[32mcell5.sc\u001b[39m:\u001b[32m4\u001b[39m)",
      "  ammonite.$sess.cell5$Helper.foldRight(\u001b[32mcell5.sc\u001b[39m:\u001b[32m4\u001b[39m)",
      "  ammonite.$sess.cell5$Helper.foldRight(\u001b[32mcell5.sc\u001b[39m:\u001b[32m4\u001b[39m)",
      "  ammonite.$sess.cell5$Helper.foldRight(\u001b[32mcell5.sc\u001b[39m:\u001b[32m4\u001b[39m)",
      "  ammonite.$sess.cell5$Helper.foldRight(\u001b[32mcell5.sc\u001b[39m:\u001b[32m4\u001b[39m)",
      "  ammonite.$sess.cell5$Helper.foldRight(\u001b[32mcell5.sc\u001b[39m:\u001b[32m4\u001b[39m)",
      "  ammonite.$sess.cell5$Helper.foldRight(\u001b[32mcell5.sc\u001b[39m:\u001b[32m4\u001b[39m)",
      "  ammonite.$sess.cell5$Helper.foldRight(\u001b[32mcell5.sc\u001b[39m:\u001b[32m4\u001b[39m)",
      "  ammonite.$sess.cell5$Helper.foldRight(\u001b[32mcell5.sc\u001b[39m:\u001b[32m4\u001b[39m)",
      "  ammonite.$sess.cell5$Helper.foldRight(\u001b[32mcell5.sc\u001b[39m:\u001b[32m4\u001b[39m)",
      "  ammonite.$sess.cell5$Helper.foldRight(\u001b[32mcell5.sc\u001b[39m:\u001b[32m4\u001b[39m)",
      "  ammonite.$sess.cell5$Helper.foldRight(\u001b[32mcell5.sc\u001b[39m:\u001b[32m4\u001b[39m)",
      "  ammonite.$sess.cell5$Helper.foldRight(\u001b[32mcell5.sc\u001b[39m:\u001b[32m4\u001b[39m)",
      "  ammonite.$sess.cell5$Helper.foldRight(\u001b[32mcell5.sc\u001b[39m:\u001b[32m4\u001b[39m)",
      "  ammonite.$sess.cell5$Helper.foldRight(\u001b[32mcell5.sc\u001b[39m:\u001b[32m4\u001b[39m)",
      "  ammonite.$sess.cell5$Helper.foldRight(\u001b[32mcell5.sc\u001b[39m:\u001b[32m4\u001b[39m)",
      "  ammonite.$sess.cell5$Helper.foldRight(\u001b[32mcell5.sc\u001b[39m:\u001b[32m4\u001b[39m)",
      "  ammonite.$sess.cell5$Helper.foldRight(\u001b[32mcell5.sc\u001b[39m:\u001b[32m4\u001b[39m)",
      "  ammonite.$sess.cell5$Helper.foldRight(\u001b[32mcell5.sc\u001b[39m:\u001b[32m4\u001b[39m)",
      "  ammonite.$sess.cell5$Helper.foldRight(\u001b[32mcell5.sc\u001b[39m:\u001b[32m4\u001b[39m)",
      "  ammonite.$sess.cell5$Helper.foldRight(\u001b[32mcell5.sc\u001b[39m:\u001b[32m4\u001b[39m)",
      "  ammonite.$sess.cell5$Helper.foldRight(\u001b[32mcell5.sc\u001b[39m:\u001b[32m4\u001b[39m)",
      "  ammonite.$sess.cell5$Helper.foldRight(\u001b[32mcell5.sc\u001b[39m:\u001b[32m4\u001b[39m)",
      "  ammonite.$sess.cell5$Helper.foldRight(\u001b[32mcell5.sc\u001b[39m:\u001b[32m4\u001b[39m)",
      "  ammonite.$sess.cell5$Helper.foldRight(\u001b[32mcell5.sc\u001b[39m:\u001b[32m4\u001b[39m)",
      "  ammonite.$sess.cell5$Helper.foldRight(\u001b[32mcell5.sc\u001b[39m:\u001b[32m4\u001b[39m)",
      "  ammonite.$sess.cell5$Helper.foldRight(\u001b[32mcell5.sc\u001b[39m:\u001b[32m4\u001b[39m)",
      "  ammonite.$sess.cell5$Helper.foldRight(\u001b[32mcell5.sc\u001b[39m:\u001b[32m4\u001b[39m)",
      "  ammonite.$sess.cell5$Helper.foldRight(\u001b[32mcell5.sc\u001b[39m:\u001b[32m4\u001b[39m)",
      "  ammonite.$sess.cell5$Helper.foldRight(\u001b[32mcell5.sc\u001b[39m:\u001b[32m4\u001b[39m)",
      "  ammonite.$sess.cell5$Helper.foldRight(\u001b[32mcell5.sc\u001b[39m:\u001b[32m4\u001b[39m)",
      "  ammonite.$sess.cell5$Helper.foldRight(\u001b[32mcell5.sc\u001b[39m:\u001b[32m4\u001b[39m)",
      "  ammonite.$sess.cell5$Helper.foldRight(\u001b[32mcell5.sc\u001b[39m:\u001b[32m4\u001b[39m)",
      "  ammonite.$sess.cell5$Helper.foldRight(\u001b[32mcell5.sc\u001b[39m:\u001b[32m4\u001b[39m)",
      "  ammonite.$sess.cell5$Helper.foldRight(\u001b[32mcell5.sc\u001b[39m:\u001b[32m4\u001b[39m)",
      "  ammonite.$sess.cell5$Helper.foldRight(\u001b[32mcell5.sc\u001b[39m:\u001b[32m4\u001b[39m)",
      "  ammonite.$sess.cell5$Helper.foldRight(\u001b[32mcell5.sc\u001b[39m:\u001b[32m4\u001b[39m)",
      "  ammonite.$sess.cell5$Helper.foldRight(\u001b[32mcell5.sc\u001b[39m:\u001b[32m4\u001b[39m)",
      "  ammonite.$sess.cell5$Helper.foldRight(\u001b[32mcell5.sc\u001b[39m:\u001b[32m4\u001b[39m)",
      "  ammonite.$sess.cell5$Helper.foldRight(\u001b[32mcell5.sc\u001b[39m:\u001b[32m4\u001b[39m)",
      "  ammonite.$sess.cell5$Helper.foldRight(\u001b[32mcell5.sc\u001b[39m:\u001b[32m4\u001b[39m)",
      "  ammonite.$sess.cell5$Helper.foldRight(\u001b[32mcell5.sc\u001b[39m:\u001b[32m4\u001b[39m)",
      "  ammonite.$sess.cell5$Helper.foldRight(\u001b[32mcell5.sc\u001b[39m:\u001b[32m4\u001b[39m)",
      "  ammonite.$sess.cell5$Helper.foldRight(\u001b[32mcell5.sc\u001b[39m:\u001b[32m4\u001b[39m)",
      "  ammonite.$sess.cell5$Helper.foldRight(\u001b[32mcell5.sc\u001b[39m:\u001b[32m4\u001b[39m)",
      "  ammonite.$sess.cell5$Helper.foldRight(\u001b[32mcell5.sc\u001b[39m:\u001b[32m4\u001b[39m)",
      "  ammonite.$sess.cell5$Helper.foldRight(\u001b[32mcell5.sc\u001b[39m:\u001b[32m4\u001b[39m)",
      "  ammonite.$sess.cell5$Helper.foldRight(\u001b[32mcell5.sc\u001b[39m:\u001b[32m4\u001b[39m)",
      "  ammonite.$sess.cell5$Helper.foldRight(\u001b[32mcell5.sc\u001b[39m:\u001b[32m4\u001b[39m)",
      "  ammonite.$sess.cell5$Helper.foldRight(\u001b[32mcell5.sc\u001b[39m:\u001b[32m4\u001b[39m)",
      "  ammonite.$sess.cell5$Helper.foldRight(\u001b[32mcell5.sc\u001b[39m:\u001b[32m4\u001b[39m)",
      "  ammonite.$sess.cell5$Helper.foldRight(\u001b[32mcell5.sc\u001b[39m:\u001b[32m4\u001b[39m)",
      "  ammonite.$sess.cell5$Helper.foldRight(\u001b[32mcell5.sc\u001b[39m:\u001b[32m4\u001b[39m)",
      "  ammonite.$sess.cell5$Helper.foldRight(\u001b[32mcell5.sc\u001b[39m:\u001b[32m4\u001b[39m)",
      "  ammonite.$sess.cell5$Helper.foldRight(\u001b[32mcell5.sc\u001b[39m:\u001b[32m4\u001b[39m)",
      "  ammonite.$sess.cell5$Helper.foldRight(\u001b[32mcell5.sc\u001b[39m:\u001b[32m4\u001b[39m)",
      "  ammonite.$sess.cell5$Helper.foldRight(\u001b[32mcell5.sc\u001b[39m:\u001b[32m4\u001b[39m)",
      "  ammonite.$sess.cell5$Helper.foldRight(\u001b[32mcell5.sc\u001b[39m:\u001b[32m4\u001b[39m)",
      "  ammonite.$sess.cell5$Helper.foldRight(\u001b[32mcell5.sc\u001b[39m:\u001b[32m4\u001b[39m)",
      "  ammonite.$sess.cell5$Helper.foldRight(\u001b[32mcell5.sc\u001b[39m:\u001b[32m4\u001b[39m)",
      "  ammonite.$sess.cell5$Helper.foldRight(\u001b[32mcell5.sc\u001b[39m:\u001b[32m4\u001b[39m)",
      "  ammonite.$sess.cell5$Helper.foldRight(\u001b[32mcell5.sc\u001b[39m:\u001b[32m4\u001b[39m)",
      "  ammonite.$sess.cell5$Helper.foldRight(\u001b[32mcell5.sc\u001b[39m:\u001b[32m4\u001b[39m)",
      "  ammonite.$sess.cell5$Helper.foldRight(\u001b[32mcell5.sc\u001b[39m:\u001b[32m4\u001b[39m)",
      "  ammonite.$sess.cell5$Helper.foldRight(\u001b[32mcell5.sc\u001b[39m:\u001b[32m4\u001b[39m)",
      "  ammonite.$sess.cell5$Helper.foldRight(\u001b[32mcell5.sc\u001b[39m:\u001b[32m4\u001b[39m)",
      "  ammonite.$sess.cell5$Helper.foldRight(\u001b[32mcell5.sc\u001b[39m:\u001b[32m4\u001b[39m)",
      "  ammonite.$sess.cell5$Helper.foldRight(\u001b[32mcell5.sc\u001b[39m:\u001b[32m4\u001b[39m)",
      "  ammonite.$sess.cell5$Helper.foldRight(\u001b[32mcell5.sc\u001b[39m:\u001b[32m4\u001b[39m)",
      "  ammonite.$sess.cell5$Helper.foldRight(\u001b[32mcell5.sc\u001b[39m:\u001b[32m4\u001b[39m)",
      "  ammonite.$sess.cell5$Helper.foldRight(\u001b[32mcell5.sc\u001b[39m:\u001b[32m4\u001b[39m)",
      "  ammonite.$sess.cell5$Helper.foldRight(\u001b[32mcell5.sc\u001b[39m:\u001b[32m4\u001b[39m)",
      "  ammonite.$sess.cell5$Helper.foldRight(\u001b[32mcell5.sc\u001b[39m:\u001b[32m4\u001b[39m)",
      "  ammonite.$sess.cell5$Helper.foldRight(\u001b[32mcell5.sc\u001b[39m:\u001b[32m4\u001b[39m)",
      "  ammonite.$sess.cell5$Helper.foldRight(\u001b[32mcell5.sc\u001b[39m:\u001b[32m4\u001b[39m)",
      "  ammonite.$sess.cell5$Helper.foldRight(\u001b[32mcell5.sc\u001b[39m:\u001b[32m4\u001b[39m)",
      "  ammonite.$sess.cell5$Helper.foldRight(\u001b[32mcell5.sc\u001b[39m:\u001b[32m4\u001b[39m)",
      "  ammonite.$sess.cell5$Helper.foldRight(\u001b[32mcell5.sc\u001b[39m:\u001b[32m4\u001b[39m)",
      "  ammonite.$sess.cell5$Helper.foldRight(\u001b[32mcell5.sc\u001b[39m:\u001b[32m4\u001b[39m)",
      "  ammonite.$sess.cell5$Helper.foldRight(\u001b[32mcell5.sc\u001b[39m:\u001b[32m4\u001b[39m)",
      "  ammonite.$sess.cell5$Helper.foldRight(\u001b[32mcell5.sc\u001b[39m:\u001b[32m4\u001b[39m)",
      "  ammonite.$sess.cell5$Helper.foldRight(\u001b[32mcell5.sc\u001b[39m:\u001b[32m4\u001b[39m)",
      "  ammonite.$sess.cell5$Helper.foldRight(\u001b[32mcell5.sc\u001b[39m:\u001b[32m4\u001b[39m)",
      "  ammonite.$sess.cell5$Helper.foldRight(\u001b[32mcell5.sc\u001b[39m:\u001b[32m4\u001b[39m)",
      "  ammonite.$sess.cell5$Helper.foldRight(\u001b[32mcell5.sc\u001b[39m:\u001b[32m4\u001b[39m)",
      "  ammonite.$sess.cell5$Helper.foldRight(\u001b[32mcell5.sc\u001b[39m:\u001b[32m4\u001b[39m)",
      "  ammonite.$sess.cell5$Helper.foldRight(\u001b[32mcell5.sc\u001b[39m:\u001b[32m4\u001b[39m)",
      "  ammonite.$sess.cell5$Helper.foldRight(\u001b[32mcell5.sc\u001b[39m:\u001b[32m4\u001b[39m)",
      "  ammonite.$sess.cell5$Helper.foldRight(\u001b[32mcell5.sc\u001b[39m:\u001b[32m4\u001b[39m)",
      "  ammonite.$sess.cell5$Helper.foldRight(\u001b[32mcell5.sc\u001b[39m:\u001b[32m4\u001b[39m)",
      "  ammonite.$sess.cell5$Helper.foldRight(\u001b[32mcell5.sc\u001b[39m:\u001b[32m4\u001b[39m)",
      "  ammonite.$sess.cell5$Helper.foldRight(\u001b[32mcell5.sc\u001b[39m:\u001b[32m4\u001b[39m)",
      "  ammonite.$sess.cell5$Helper.foldRight(\u001b[32mcell5.sc\u001b[39m:\u001b[32m4\u001b[39m)",
      "  ammonite.$sess.cell5$Helper.foldRight(\u001b[32mcell5.sc\u001b[39m:\u001b[32m4\u001b[39m)",
      "  ammonite.$sess.cell5$Helper.foldRight(\u001b[32mcell5.sc\u001b[39m:\u001b[32m4\u001b[39m)",
      "  ammonite.$sess.cell5$Helper.foldRight(\u001b[32mcell5.sc\u001b[39m:\u001b[32m4\u001b[39m)",
      "  ammonite.$sess.cell5$Helper.foldRight(\u001b[32mcell5.sc\u001b[39m:\u001b[32m4\u001b[39m)",
      "  ammonite.$sess.cell5$Helper.foldRight(\u001b[32mcell5.sc\u001b[39m:\u001b[32m4\u001b[39m)",
      "  ammonite.$sess.cell5$Helper.foldRight(\u001b[32mcell5.sc\u001b[39m:\u001b[32m4\u001b[39m)",
      "  ammonite.$sess.cell5$Helper.foldRight(\u001b[32mcell5.sc\u001b[39m:\u001b[32m4\u001b[39m)",
      "  ammonite.$sess.cell5$Helper.foldRight(\u001b[32mcell5.sc\u001b[39m:\u001b[32m4\u001b[39m)",
      "  ammonite.$sess.cell5$Helper.foldRight(\u001b[32mcell5.sc\u001b[39m:\u001b[32m4\u001b[39m)",
      "  ammonite.$sess.cell5$Helper.foldRight(\u001b[32mcell5.sc\u001b[39m:\u001b[32m4\u001b[39m)",
      "  ammonite.$sess.cell5$Helper.foldRight(\u001b[32mcell5.sc\u001b[39m:\u001b[32m4\u001b[39m)",
      "  ammonite.$sess.cell5$Helper.foldRight(\u001b[32mcell5.sc\u001b[39m:\u001b[32m4\u001b[39m)",
      "  ammonite.$sess.cell5$Helper.foldRight(\u001b[32mcell5.sc\u001b[39m:\u001b[32m4\u001b[39m)",
      "  ammonite.$sess.cell5$Helper.foldRight(\u001b[32mcell5.sc\u001b[39m:\u001b[32m4\u001b[39m)",
      "  ammonite.$sess.cell5$Helper.foldRight(\u001b[32mcell5.sc\u001b[39m:\u001b[32m4\u001b[39m)",
      "  ammonite.$sess.cell5$Helper.foldRight(\u001b[32mcell5.sc\u001b[39m:\u001b[32m4\u001b[39m)",
      "  ammonite.$sess.cell5$Helper.foldRight(\u001b[32mcell5.sc\u001b[39m:\u001b[32m4\u001b[39m)",
      "  ammonite.$sess.cell5$Helper.foldRight(\u001b[32mcell5.sc\u001b[39m:\u001b[32m4\u001b[39m)",
      "  ammonite.$sess.cell5$Helper.foldRight(\u001b[32mcell5.sc\u001b[39m:\u001b[32m4\u001b[39m)",
      "  ammonite.$sess.cell5$Helper.foldRight(\u001b[32mcell5.sc\u001b[39m:\u001b[32m4\u001b[39m)",
      "  ammonite.$sess.cell5$Helper.foldRight(\u001b[32mcell5.sc\u001b[39m:\u001b[32m4\u001b[39m)",
      "  ammonite.$sess.cell5$Helper.foldRight(\u001b[32mcell5.sc\u001b[39m:\u001b[32m4\u001b[39m)",
      "  ammonite.$sess.cell5$Helper.foldRight(\u001b[32mcell5.sc\u001b[39m:\u001b[32m4\u001b[39m)",
      "  ammonite.$sess.cell5$Helper.foldRight(\u001b[32mcell5.sc\u001b[39m:\u001b[32m4\u001b[39m)",
      "  ammonite.$sess.cell5$Helper.foldRight(\u001b[32mcell5.sc\u001b[39m:\u001b[32m4\u001b[39m)",
      "  ammonite.$sess.cell5$Helper.foldRight(\u001b[32mcell5.sc\u001b[39m:\u001b[32m4\u001b[39m)",
      "  ammonite.$sess.cell5$Helper.foldRight(\u001b[32mcell5.sc\u001b[39m:\u001b[32m4\u001b[39m)",
      "  ammonite.$sess.cell5$Helper.foldRight(\u001b[32mcell5.sc\u001b[39m:\u001b[32m4\u001b[39m)",
      "  ammonite.$sess.cell5$Helper.foldRight(\u001b[32mcell5.sc\u001b[39m:\u001b[32m4\u001b[39m)",
      "  ammonite.$sess.cell5$Helper.foldRight(\u001b[32mcell5.sc\u001b[39m:\u001b[32m4\u001b[39m)",
      "  ammonite.$sess.cell5$Helper.foldRight(\u001b[32mcell5.sc\u001b[39m:\u001b[32m4\u001b[39m)",
      "  ammonite.$sess.cell5$Helper.foldRight(\u001b[32mcell5.sc\u001b[39m:\u001b[32m4\u001b[39m)",
      "  ammonite.$sess.cell5$Helper.foldRight(\u001b[32mcell5.sc\u001b[39m:\u001b[32m4\u001b[39m)",
      "  ammonite.$sess.cell5$Helper.foldRight(\u001b[32mcell5.sc\u001b[39m:\u001b[32m4\u001b[39m)",
      "  ammonite.$sess.cell5$Helper.foldRight(\u001b[32mcell5.sc\u001b[39m:\u001b[32m4\u001b[39m)",
      "  ammonite.$sess.cell5$Helper.foldRight(\u001b[32mcell5.sc\u001b[39m:\u001b[32m4\u001b[39m)",
      "  ammonite.$sess.cell5$Helper.foldRight(\u001b[32mcell5.sc\u001b[39m:\u001b[32m4\u001b[39m)",
      "  ammonite.$sess.cell5$Helper.foldRight(\u001b[32mcell5.sc\u001b[39m:\u001b[32m4\u001b[39m)",
      "  ammonite.$sess.cell5$Helper.foldRight(\u001b[32mcell5.sc\u001b[39m:\u001b[32m4\u001b[39m)",
      "  ammonite.$sess.cell5$Helper.foldRight(\u001b[32mcell5.sc\u001b[39m:\u001b[32m4\u001b[39m)",
      "  ammonite.$sess.cell5$Helper.foldRight(\u001b[32mcell5.sc\u001b[39m:\u001b[32m4\u001b[39m)",
      "  ammonite.$sess.cell5$Helper.foldRight(\u001b[32mcell5.sc\u001b[39m:\u001b[32m4\u001b[39m)",
      "  ammonite.$sess.cell5$Helper.foldRight(\u001b[32mcell5.sc\u001b[39m:\u001b[32m4\u001b[39m)",
      "  ammonite.$sess.cell5$Helper.foldRight(\u001b[32mcell5.sc\u001b[39m:\u001b[32m4\u001b[39m)",
      "  ammonite.$sess.cell5$Helper.foldRight(\u001b[32mcell5.sc\u001b[39m:\u001b[32m4\u001b[39m)",
      "  ammonite.$sess.cell5$Helper.foldRight(\u001b[32mcell5.sc\u001b[39m:\u001b[32m4\u001b[39m)",
      "  ammonite.$sess.cell5$Helper.foldRight(\u001b[32mcell5.sc\u001b[39m:\u001b[32m4\u001b[39m)",
      "  ammonite.$sess.cell5$Helper.foldRight(\u001b[32mcell5.sc\u001b[39m:\u001b[32m4\u001b[39m)",
      "  ammonite.$sess.cell5$Helper.foldRight(\u001b[32mcell5.sc\u001b[39m:\u001b[32m4\u001b[39m)",
      "  ammonite.$sess.cell5$Helper.foldRight(\u001b[32mcell5.sc\u001b[39m:\u001b[32m4\u001b[39m)",
      "  ammonite.$sess.cell5$Helper.foldRight(\u001b[32mcell5.sc\u001b[39m:\u001b[32m4\u001b[39m)",
      "  ammonite.$sess.cell5$Helper.foldRight(\u001b[32mcell5.sc\u001b[39m:\u001b[32m4\u001b[39m)",
      "  ammonite.$sess.cell5$Helper.foldRight(\u001b[32mcell5.sc\u001b[39m:\u001b[32m4\u001b[39m)",
      "  ammonite.$sess.cell5$Helper.foldRight(\u001b[32mcell5.sc\u001b[39m:\u001b[32m4\u001b[39m)",
      "  ammonite.$sess.cell5$Helper.foldRight(\u001b[32mcell5.sc\u001b[39m:\u001b[32m4\u001b[39m)",
      "  ammonite.$sess.cell5$Helper.foldRight(\u001b[32mcell5.sc\u001b[39m:\u001b[32m4\u001b[39m)",
      "  ammonite.$sess.cell5$Helper.foldRight(\u001b[32mcell5.sc\u001b[39m:\u001b[32m4\u001b[39m)",
      "  ammonite.$sess.cell5$Helper.foldRight(\u001b[32mcell5.sc\u001b[39m:\u001b[32m4\u001b[39m)",
      "  ammonite.$sess.cell5$Helper.foldRight(\u001b[32mcell5.sc\u001b[39m:\u001b[32m4\u001b[39m)",
      "  ammonite.$sess.cell5$Helper.foldRight(\u001b[32mcell5.sc\u001b[39m:\u001b[32m4\u001b[39m)",
      "  ammonite.$sess.cell5$Helper.foldRight(\u001b[32mcell5.sc\u001b[39m:\u001b[32m4\u001b[39m)",
      "  ammonite.$sess.cell5$Helper.foldRight(\u001b[32mcell5.sc\u001b[39m:\u001b[32m4\u001b[39m)",
      "  ammonite.$sess.cell5$Helper.foldRight(\u001b[32mcell5.sc\u001b[39m:\u001b[32m4\u001b[39m)",
      "  ammonite.$sess.cell5$Helper.foldRight(\u001b[32mcell5.sc\u001b[39m:\u001b[32m4\u001b[39m)",
      "  ammonite.$sess.cell5$Helper.foldRight(\u001b[32mcell5.sc\u001b[39m:\u001b[32m4\u001b[39m)",
      "  ammonite.$sess.cell5$Helper.foldRight(\u001b[32mcell5.sc\u001b[39m:\u001b[32m4\u001b[39m)",
      "  ammonite.$sess.cell5$Helper.foldRight(\u001b[32mcell5.sc\u001b[39m:\u001b[32m4\u001b[39m)",
      "  ammonite.$sess.cell5$Helper.foldRight(\u001b[32mcell5.sc\u001b[39m:\u001b[32m4\u001b[39m)",
      "  ammonite.$sess.cell5$Helper.foldRight(\u001b[32mcell5.sc\u001b[39m:\u001b[32m4\u001b[39m)",
      "  ammonite.$sess.cell5$Helper.foldRight(\u001b[32mcell5.sc\u001b[39m:\u001b[32m4\u001b[39m)",
      "  ammonite.$sess.cell5$Helper.foldRight(\u001b[32mcell5.sc\u001b[39m:\u001b[32m4\u001b[39m)",
      "  ammonite.$sess.cell5$Helper.foldRight(\u001b[32mcell5.sc\u001b[39m:\u001b[32m4\u001b[39m)",
      "  ammonite.$sess.cell5$Helper.foldRight(\u001b[32mcell5.sc\u001b[39m:\u001b[32m4\u001b[39m)",
      "  ammonite.$sess.cell5$Helper.foldRight(\u001b[32mcell5.sc\u001b[39m:\u001b[32m4\u001b[39m)",
      "  ammonite.$sess.cell5$Helper.foldRight(\u001b[32mcell5.sc\u001b[39m:\u001b[32m4\u001b[39m)",
      "  ammonite.$sess.cell5$Helper.foldRight(\u001b[32mcell5.sc\u001b[39m:\u001b[32m4\u001b[39m)",
      "  ammonite.$sess.cell5$Helper.foldRight(\u001b[32mcell5.sc\u001b[39m:\u001b[32m4\u001b[39m)",
      "  ammonite.$sess.cell5$Helper.foldRight(\u001b[32mcell5.sc\u001b[39m:\u001b[32m4\u001b[39m)",
      "  ammonite.$sess.cell5$Helper.foldRight(\u001b[32mcell5.sc\u001b[39m:\u001b[32m4\u001b[39m)",
      "  ammonite.$sess.cell5$Helper.foldRight(\u001b[32mcell5.sc\u001b[39m:\u001b[32m4\u001b[39m)",
      "  ammonite.$sess.cell5$Helper.foldRight(\u001b[32mcell5.sc\u001b[39m:\u001b[32m4\u001b[39m)",
      "  ammonite.$sess.cell5$Helper.foldRight(\u001b[32mcell5.sc\u001b[39m:\u001b[32m4\u001b[39m)",
      "  ammonite.$sess.cell5$Helper.foldRight(\u001b[32mcell5.sc\u001b[39m:\u001b[32m4\u001b[39m)",
      "  ammonite.$sess.cell5$Helper.foldRight(\u001b[32mcell5.sc\u001b[39m:\u001b[32m4\u001b[39m)",
      "  ammonite.$sess.cell5$Helper.foldRight(\u001b[32mcell5.sc\u001b[39m:\u001b[32m4\u001b[39m)",
      "  ammonite.$sess.cell5$Helper.foldRight(\u001b[32mcell5.sc\u001b[39m:\u001b[32m4\u001b[39m)",
      "  ammonite.$sess.cell5$Helper.foldRight(\u001b[32mcell5.sc\u001b[39m:\u001b[32m4\u001b[39m)",
      "  ammonite.$sess.cell5$Helper.foldRight(\u001b[32mcell5.sc\u001b[39m:\u001b[32m4\u001b[39m)",
      "  ammonite.$sess.cell5$Helper.foldRight(\u001b[32mcell5.sc\u001b[39m:\u001b[32m4\u001b[39m)",
      "  ammonite.$sess.cell5$Helper.foldRight(\u001b[32mcell5.sc\u001b[39m:\u001b[32m4\u001b[39m)",
      "  ammonite.$sess.cell5$Helper.foldRight(\u001b[32mcell5.sc\u001b[39m:\u001b[32m4\u001b[39m)",
      "  ammonite.$sess.cell5$Helper.foldRight(\u001b[32mcell5.sc\u001b[39m:\u001b[32m4\u001b[39m)",
      "  ammonite.$sess.cell5$Helper.foldRight(\u001b[32mcell5.sc\u001b[39m:\u001b[32m4\u001b[39m)",
      "  ammonite.$sess.cell5$Helper.foldRight(\u001b[32mcell5.sc\u001b[39m:\u001b[32m4\u001b[39m)",
      "  ammonite.$sess.cell5$Helper.foldRight(\u001b[32mcell5.sc\u001b[39m:\u001b[32m4\u001b[39m)",
      "  ammonite.$sess.cell5$Helper.foldRight(\u001b[32mcell5.sc\u001b[39m:\u001b[32m4\u001b[39m)",
      "  ammonite.$sess.cell5$Helper.foldRight(\u001b[32mcell5.sc\u001b[39m:\u001b[32m4\u001b[39m)",
      "  ammonite.$sess.cell5$Helper.foldRight(\u001b[32mcell5.sc\u001b[39m:\u001b[32m4\u001b[39m)",
      "  ammonite.$sess.cell5$Helper.foldRight(\u001b[32mcell5.sc\u001b[39m:\u001b[32m4\u001b[39m)",
      "  ammonite.$sess.cell5$Helper.foldRight(\u001b[32mcell5.sc\u001b[39m:\u001b[32m4\u001b[39m)",
      "  ammonite.$sess.cell5$Helper.foldRight(\u001b[32mcell5.sc\u001b[39m:\u001b[32m4\u001b[39m)",
      "  ammonite.$sess.cell5$Helper.foldRight(\u001b[32mcell5.sc\u001b[39m:\u001b[32m4\u001b[39m)",
      "  ammonite.$sess.cell5$Helper.foldRight(\u001b[32mcell5.sc\u001b[39m:\u001b[32m4\u001b[39m)",
      "  ammonite.$sess.cell5$Helper.foldRight(\u001b[32mcell5.sc\u001b[39m:\u001b[32m4\u001b[39m)",
      "  ammonite.$sess.cell5$Helper.foldRight(\u001b[32mcell5.sc\u001b[39m:\u001b[32m4\u001b[39m)",
      "  ammonite.$sess.cell5$Helper.foldRight(\u001b[32mcell5.sc\u001b[39m:\u001b[32m4\u001b[39m)",
      "  ammonite.$sess.cell5$Helper.foldRight(\u001b[32mcell5.sc\u001b[39m:\u001b[32m4\u001b[39m)",
      "  ammonite.$sess.cell5$Helper.foldRight(\u001b[32mcell5.sc\u001b[39m:\u001b[32m4\u001b[39m)",
      "  ammonite.$sess.cell5$Helper.foldRight(\u001b[32mcell5.sc\u001b[39m:\u001b[32m4\u001b[39m)",
      "  ammonite.$sess.cell5$Helper.foldRight(\u001b[32mcell5.sc\u001b[39m:\u001b[32m4\u001b[39m)",
      "  ammonite.$sess.cell5$Helper.foldRight(\u001b[32mcell5.sc\u001b[39m:\u001b[32m4\u001b[39m)",
      "  ammonite.$sess.cell5$Helper.foldRight(\u001b[32mcell5.sc\u001b[39m:\u001b[32m4\u001b[39m)",
      "  ammonite.$sess.cell5$Helper.foldRight(\u001b[32mcell5.sc\u001b[39m:\u001b[32m4\u001b[39m)",
      "  ammonite.$sess.cell5$Helper.foldRight(\u001b[32mcell5.sc\u001b[39m:\u001b[32m4\u001b[39m)",
      "  ammonite.$sess.cell5$Helper.foldRight(\u001b[32mcell5.sc\u001b[39m:\u001b[32m4\u001b[39m)",
      "  ammonite.$sess.cell5$Helper.foldRight(\u001b[32mcell5.sc\u001b[39m:\u001b[32m4\u001b[39m)",
      "  ammonite.$sess.cell5$Helper.foldRight(\u001b[32mcell5.sc\u001b[39m:\u001b[32m4\u001b[39m)",
      "  ammonite.$sess.cell5$Helper.foldRight(\u001b[32mcell5.sc\u001b[39m:\u001b[32m4\u001b[39m)",
      "  ammonite.$sess.cell5$Helper.foldRight(\u001b[32mcell5.sc\u001b[39m:\u001b[32m4\u001b[39m)",
      "  ammonite.$sess.cell5$Helper.foldRight(\u001b[32mcell5.sc\u001b[39m:\u001b[32m4\u001b[39m)",
      "  ammonite.$sess.cell5$Helper.foldRight(\u001b[32mcell5.sc\u001b[39m:\u001b[32m4\u001b[39m)",
      "  ammonite.$sess.cell5$Helper.foldRight(\u001b[32mcell5.sc\u001b[39m:\u001b[32m4\u001b[39m)",
      "  ammonite.$sess.cell5$Helper.foldRight(\u001b[32mcell5.sc\u001b[39m:\u001b[32m4\u001b[39m)",
      "  ammonite.$sess.cell5$Helper.foldRight(\u001b[32mcell5.sc\u001b[39m:\u001b[32m4\u001b[39m)",
      "  ammonite.$sess.cell5$Helper.foldRight(\u001b[32mcell5.sc\u001b[39m:\u001b[32m4\u001b[39m)",
      "  ammonite.$sess.cell5$Helper.foldRight(\u001b[32mcell5.sc\u001b[39m:\u001b[32m4\u001b[39m)",
      "  ammonite.$sess.cell5$Helper.foldRight(\u001b[32mcell5.sc\u001b[39m:\u001b[32m4\u001b[39m)",
      "  ammonite.$sess.cell5$Helper.foldRight(\u001b[32mcell5.sc\u001b[39m:\u001b[32m4\u001b[39m)",
      "  ammonite.$sess.cell5$Helper.foldRight(\u001b[32mcell5.sc\u001b[39m:\u001b[32m4\u001b[39m)",
      "  ammonite.$sess.cell5$Helper.foldRight(\u001b[32mcell5.sc\u001b[39m:\u001b[32m4\u001b[39m)",
      "  ammonite.$sess.cell5$Helper.foldRight(\u001b[32mcell5.sc\u001b[39m:\u001b[32m4\u001b[39m)",
      "  ammonite.$sess.cell5$Helper.foldRight(\u001b[32mcell5.sc\u001b[39m:\u001b[32m4\u001b[39m)",
      "  ammonite.$sess.cell5$Helper.foldRight(\u001b[32mcell5.sc\u001b[39m:\u001b[32m4\u001b[39m)",
      "  ammonite.$sess.cell5$Helper.foldRight(\u001b[32mcell5.sc\u001b[39m:\u001b[32m4\u001b[39m)",
      "  ammonite.$sess.cell5$Helper.foldRight(\u001b[32mcell5.sc\u001b[39m:\u001b[32m4\u001b[39m)",
      "  ammonite.$sess.cell5$Helper.foldRight(\u001b[32mcell5.sc\u001b[39m:\u001b[32m4\u001b[39m)",
      "  ammonite.$sess.cell5$Helper.foldRight(\u001b[32mcell5.sc\u001b[39m:\u001b[32m4\u001b[39m)",
      "  ammonite.$sess.cell5$Helper.foldRight(\u001b[32mcell5.sc\u001b[39m:\u001b[32m4\u001b[39m)",
      "  ammonite.$sess.cell5$Helper.foldRight(\u001b[32mcell5.sc\u001b[39m:\u001b[32m4\u001b[39m)",
      "  ammonite.$sess.cell5$Helper.foldRight(\u001b[32mcell5.sc\u001b[39m:\u001b[32m4\u001b[39m)",
      "  ammonite.$sess.cell5$Helper.foldRight(\u001b[32mcell5.sc\u001b[39m:\u001b[32m4\u001b[39m)",
      "  ammonite.$sess.cell5$Helper.foldRight(\u001b[32mcell5.sc\u001b[39m:\u001b[32m4\u001b[39m)",
      "  ammonite.$sess.cell5$Helper.foldRight(\u001b[32mcell5.sc\u001b[39m:\u001b[32m4\u001b[39m)",
      "  ammonite.$sess.cell5$Helper.foldRight(\u001b[32mcell5.sc\u001b[39m:\u001b[32m4\u001b[39m)",
      "  ammonite.$sess.cell5$Helper.foldRight(\u001b[32mcell5.sc\u001b[39m:\u001b[32m4\u001b[39m)",
      "  ammonite.$sess.cell5$Helper.foldRight(\u001b[32mcell5.sc\u001b[39m:\u001b[32m4\u001b[39m)",
      "  ammonite.$sess.cell5$Helper.foldRight(\u001b[32mcell5.sc\u001b[39m:\u001b[32m4\u001b[39m)",
      "  ammonite.$sess.cell5$Helper.foldRight(\u001b[32mcell5.sc\u001b[39m:\u001b[32m4\u001b[39m)",
      "  ammonite.$sess.cell5$Helper.foldRight(\u001b[32mcell5.sc\u001b[39m:\u001b[32m4\u001b[39m)",
      "  ammonite.$sess.cell5$Helper.foldRight(\u001b[32mcell5.sc\u001b[39m:\u001b[32m4\u001b[39m)",
      "  ammonite.$sess.cell5$Helper.foldRight(\u001b[32mcell5.sc\u001b[39m:\u001b[32m4\u001b[39m)",
      "  ammonite.$sess.cell5$Helper.foldRight(\u001b[32mcell5.sc\u001b[39m:\u001b[32m4\u001b[39m)",
      "  ammonite.$sess.cell5$Helper.foldRight(\u001b[32mcell5.sc\u001b[39m:\u001b[32m4\u001b[39m)",
      "  ammonite.$sess.cell5$Helper.foldRight(\u001b[32mcell5.sc\u001b[39m:\u001b[32m4\u001b[39m)",
      "  ammonite.$sess.cell5$Helper.foldRight(\u001b[32mcell5.sc\u001b[39m:\u001b[32m4\u001b[39m)",
      "  ammonite.$sess.cell5$Helper.foldRight(\u001b[32mcell5.sc\u001b[39m:\u001b[32m4\u001b[39m)",
      "  ammonite.$sess.cell5$Helper.foldRight(\u001b[32mcell5.sc\u001b[39m:\u001b[32m4\u001b[39m)",
      "  ammonite.$sess.cell5$Helper.foldRight(\u001b[32mcell5.sc\u001b[39m:\u001b[32m4\u001b[39m)",
      "  ammonite.$sess.cell5$Helper.foldRight(\u001b[32mcell5.sc\u001b[39m:\u001b[32m4\u001b[39m)",
      "  ammonite.$sess.cell5$Helper.foldRight(\u001b[32mcell5.sc\u001b[39m:\u001b[32m4\u001b[39m)",
      "  ammonite.$sess.cell5$Helper.foldRight(\u001b[32mcell5.sc\u001b[39m:\u001b[32m4\u001b[39m)",
      "  ammonite.$sess.cell5$Helper.foldRight(\u001b[32mcell5.sc\u001b[39m:\u001b[32m4\u001b[39m)",
      "  ammonite.$sess.cell5$Helper.foldRight(\u001b[32mcell5.sc\u001b[39m:\u001b[32m4\u001b[39m)",
      "  ammonite.$sess.cell5$Helper.foldRight(\u001b[32mcell5.sc\u001b[39m:\u001b[32m4\u001b[39m)",
      "  ammonite.$sess.cell5$Helper.foldRight(\u001b[32mcell5.sc\u001b[39m:\u001b[32m4\u001b[39m)",
      "  ammonite.$sess.cell5$Helper.foldRight(\u001b[32mcell5.sc\u001b[39m:\u001b[32m4\u001b[39m)",
      "  ammonite.$sess.cell5$Helper.foldRight(\u001b[32mcell5.sc\u001b[39m:\u001b[32m4\u001b[39m)",
      "  ammonite.$sess.cell5$Helper.foldRight(\u001b[32mcell5.sc\u001b[39m:\u001b[32m4\u001b[39m)",
      "  ammonite.$sess.cell5$Helper.foldRight(\u001b[32mcell5.sc\u001b[39m:\u001b[32m4\u001b[39m)",
      "  ammonite.$sess.cell5$Helper.foldRight(\u001b[32mcell5.sc\u001b[39m:\u001b[32m4\u001b[39m)",
      "  ammonite.$sess.cell5$Helper.foldRight(\u001b[32mcell5.sc\u001b[39m:\u001b[32m4\u001b[39m)",
      "  ammonite.$sess.cell5$Helper.foldRight(\u001b[32mcell5.sc\u001b[39m:\u001b[32m4\u001b[39m)",
      "  ammonite.$sess.cell5$Helper.foldRight(\u001b[32mcell5.sc\u001b[39m:\u001b[32m4\u001b[39m)",
      "  ammonite.$sess.cell5$Helper.foldRight(\u001b[32mcell5.sc\u001b[39m:\u001b[32m4\u001b[39m)",
      "  ammonite.$sess.cell5$Helper.foldRight(\u001b[32mcell5.sc\u001b[39m:\u001b[32m4\u001b[39m)",
      "  ammonite.$sess.cell5$Helper.foldRight(\u001b[32mcell5.sc\u001b[39m:\u001b[32m4\u001b[39m)",
      "  ammonite.$sess.cell5$Helper.foldRight(\u001b[32mcell5.sc\u001b[39m:\u001b[32m4\u001b[39m)",
      "  ammonite.$sess.cell5$Helper.foldRight(\u001b[32mcell5.sc\u001b[39m:\u001b[32m4\u001b[39m)",
      "  ammonite.$sess.cell5$Helper.foldRight(\u001b[32mcell5.sc\u001b[39m:\u001b[32m4\u001b[39m)",
      "  ammonite.$sess.cell5$Helper.foldRight(\u001b[32mcell5.sc\u001b[39m:\u001b[32m4\u001b[39m)",
      "  ammonite.$sess.cell5$Helper.foldRight(\u001b[32mcell5.sc\u001b[39m:\u001b[32m4\u001b[39m)",
      "  ammonite.$sess.cell5$Helper.foldRight(\u001b[32mcell5.sc\u001b[39m:\u001b[32m4\u001b[39m)",
      "  ammonite.$sess.cell5$Helper.foldRight(\u001b[32mcell5.sc\u001b[39m:\u001b[32m4\u001b[39m)",
      "  ammonite.$sess.cell5$Helper.foldRight(\u001b[32mcell5.sc\u001b[39m:\u001b[32m4\u001b[39m)",
      "  ammonite.$sess.cell5$Helper.foldRight(\u001b[32mcell5.sc\u001b[39m:\u001b[32m4\u001b[39m)",
      "  ammonite.$sess.cell5$Helper.foldRight(\u001b[32mcell5.sc\u001b[39m:\u001b[32m4\u001b[39m)",
      "  ammonite.$sess.cell5$Helper.foldRight(\u001b[32mcell5.sc\u001b[39m:\u001b[32m4\u001b[39m)",
      "  ammonite.$sess.cell5$Helper.foldRight(\u001b[32mcell5.sc\u001b[39m:\u001b[32m4\u001b[39m)",
      "  ammonite.$sess.cell5$Helper.foldRight(\u001b[32mcell5.sc\u001b[39m:\u001b[32m4\u001b[39m)",
      "  ammonite.$sess.cell5$Helper.foldRight(\u001b[32mcell5.sc\u001b[39m:\u001b[32m4\u001b[39m)",
      "  ammonite.$sess.cell5$Helper.foldRight(\u001b[32mcell5.sc\u001b[39m:\u001b[32m4\u001b[39m)",
      "  ammonite.$sess.cell5$Helper.foldRight(\u001b[32mcell5.sc\u001b[39m:\u001b[32m4\u001b[39m)",
      "  ammonite.$sess.cell5$Helper.foldRight(\u001b[32mcell5.sc\u001b[39m:\u001b[32m4\u001b[39m)",
      "  ammonite.$sess.cell5$Helper.foldRight(\u001b[32mcell5.sc\u001b[39m:\u001b[32m4\u001b[39m)",
      "  ammonite.$sess.cell5$Helper.foldRight(\u001b[32mcell5.sc\u001b[39m:\u001b[32m4\u001b[39m)",
      "  ammonite.$sess.cell5$Helper.foldRight(\u001b[32mcell5.sc\u001b[39m:\u001b[32m4\u001b[39m)",
      "  ammonite.$sess.cell5$Helper.foldRight(\u001b[32mcell5.sc\u001b[39m:\u001b[32m4\u001b[39m)",
      "  ammonite.$sess.cell5$Helper.foldRight(\u001b[32mcell5.sc\u001b[39m:\u001b[32m4\u001b[39m)",
      "  ammonite.$sess.cell5$Helper.foldRight(\u001b[32mcell5.sc\u001b[39m:\u001b[32m4\u001b[39m)",
      "  ammonite.$sess.cell5$Helper.foldRight(\u001b[32mcell5.sc\u001b[39m:\u001b[32m4\u001b[39m)",
      "  ammonite.$sess.cell5$Helper.foldRight(\u001b[32mcell5.sc\u001b[39m:\u001b[32m4\u001b[39m)",
      "  ammonite.$sess.cell5$Helper.foldRight(\u001b[32mcell5.sc\u001b[39m:\u001b[32m4\u001b[39m)",
      "  ammonite.$sess.cell5$Helper.foldRight(\u001b[32mcell5.sc\u001b[39m:\u001b[32m4\u001b[39m)",
      "  ammonite.$sess.cell5$Helper.foldRight(\u001b[32mcell5.sc\u001b[39m:\u001b[32m4\u001b[39m)",
      "  ammonite.$sess.cell5$Helper.foldRight(\u001b[32mcell5.sc\u001b[39m:\u001b[32m4\u001b[39m)",
      "  ammonite.$sess.cell5$Helper.foldRight(\u001b[32mcell5.sc\u001b[39m:\u001b[32m4\u001b[39m)",
      "  ammonite.$sess.cell5$Helper.foldRight(\u001b[32mcell5.sc\u001b[39m:\u001b[32m4\u001b[39m)",
      "  ammonite.$sess.cell5$Helper.foldRight(\u001b[32mcell5.sc\u001b[39m:\u001b[32m4\u001b[39m)",
      "  ammonite.$sess.cell5$Helper.foldRight(\u001b[32mcell5.sc\u001b[39m:\u001b[32m4\u001b[39m)",
      "  ammonite.$sess.cell5$Helper.foldRight(\u001b[32mcell5.sc\u001b[39m:\u001b[32m4\u001b[39m)",
      "  ammonite.$sess.cell5$Helper.foldRight(\u001b[32mcell5.sc\u001b[39m:\u001b[32m4\u001b[39m)",
      "  ammonite.$sess.cell5$Helper.foldRight(\u001b[32mcell5.sc\u001b[39m:\u001b[32m4\u001b[39m)",
      "  ammonite.$sess.cell5$Helper.foldRight(\u001b[32mcell5.sc\u001b[39m:\u001b[32m4\u001b[39m)",
      "  ammonite.$sess.cell5$Helper.foldRight(\u001b[32mcell5.sc\u001b[39m:\u001b[32m4\u001b[39m)",
      "  ammonite.$sess.cell5$Helper.foldRight(\u001b[32mcell5.sc\u001b[39m:\u001b[32m4\u001b[39m)",
      "  ammonite.$sess.cell5$Helper.foldRight(\u001b[32mcell5.sc\u001b[39m:\u001b[32m4\u001b[39m)",
      "  ammonite.$sess.cell5$Helper.foldRight(\u001b[32mcell5.sc\u001b[39m:\u001b[32m4\u001b[39m)",
      "  ammonite.$sess.cell5$Helper.foldRight(\u001b[32mcell5.sc\u001b[39m:\u001b[32m4\u001b[39m)",
      "  ammonite.$sess.cell5$Helper.foldRight(\u001b[32mcell5.sc\u001b[39m:\u001b[32m4\u001b[39m)",
      "  ammonite.$sess.cell5$Helper.foldRight(\u001b[32mcell5.sc\u001b[39m:\u001b[32m4\u001b[39m)",
      "  ammonite.$sess.cell5$Helper.foldRight(\u001b[32mcell5.sc\u001b[39m:\u001b[32m4\u001b[39m)",
      "  ammonite.$sess.cell5$Helper.foldRight(\u001b[32mcell5.sc\u001b[39m:\u001b[32m4\u001b[39m)",
      "  ammonite.$sess.cell5$Helper.foldRight(\u001b[32mcell5.sc\u001b[39m:\u001b[32m4\u001b[39m)",
      "  ammonite.$sess.cell5$Helper.foldRight(\u001b[32mcell5.sc\u001b[39m:\u001b[32m4\u001b[39m)",
      "  ammonite.$sess.cell5$Helper.foldRight(\u001b[32mcell5.sc\u001b[39m:\u001b[32m4\u001b[39m)",
      "  ammonite.$sess.cell5$Helper.foldRight(\u001b[32mcell5.sc\u001b[39m:\u001b[32m4\u001b[39m)",
      "  ammonite.$sess.cell5$Helper.foldRight(\u001b[32mcell5.sc\u001b[39m:\u001b[32m4\u001b[39m)",
      "  ammonite.$sess.cell5$Helper.foldRight(\u001b[32mcell5.sc\u001b[39m:\u001b[32m4\u001b[39m)",
      "  ammonite.$sess.cell5$Helper.foldRight(\u001b[32mcell5.sc\u001b[39m:\u001b[32m4\u001b[39m)",
      "  ammonite.$sess.cell5$Helper.foldRight(\u001b[32mcell5.sc\u001b[39m:\u001b[32m4\u001b[39m)",
      "  ammonite.$sess.cell5$Helper.foldRight(\u001b[32mcell5.sc\u001b[39m:\u001b[32m4\u001b[39m)",
      "  ammonite.$sess.cell5$Helper.foldRight(\u001b[32mcell5.sc\u001b[39m:\u001b[32m4\u001b[39m)",
      "  ammonite.$sess.cell5$Helper.foldRight(\u001b[32mcell5.sc\u001b[39m:\u001b[32m4\u001b[39m)",
      "  ammonite.$sess.cell5$Helper.foldRight(\u001b[32mcell5.sc\u001b[39m:\u001b[32m4\u001b[39m)",
      "  ammonite.$sess.cell5$Helper.foldRight(\u001b[32mcell5.sc\u001b[39m:\u001b[32m4\u001b[39m)",
      "  ammonite.$sess.cell5$Helper.foldRight(\u001b[32mcell5.sc\u001b[39m:\u001b[32m4\u001b[39m)",
      "  ammonite.$sess.cell5$Helper.foldRight(\u001b[32mcell5.sc\u001b[39m:\u001b[32m4\u001b[39m)",
      "  ammonite.$sess.cell5$Helper.foldRight(\u001b[32mcell5.sc\u001b[39m:\u001b[32m4\u001b[39m)",
      "  ammonite.$sess.cell5$Helper.foldRight(\u001b[32mcell5.sc\u001b[39m:\u001b[32m4\u001b[39m)",
      "  ammonite.$sess.cell5$Helper.foldRight(\u001b[32mcell5.sc\u001b[39m:\u001b[32m4\u001b[39m)",
      "  ammonite.$sess.cell5$Helper.foldRight(\u001b[32mcell5.sc\u001b[39m:\u001b[32m4\u001b[39m)",
      "  ammonite.$sess.cell5$Helper.foldRight(\u001b[32mcell5.sc\u001b[39m:\u001b[32m4\u001b[39m)",
      "  ammonite.$sess.cell5$Helper.foldRight(\u001b[32mcell5.sc\u001b[39m:\u001b[32m4\u001b[39m)",
      "  ammonite.$sess.cell5$Helper.foldRight(\u001b[32mcell5.sc\u001b[39m:\u001b[32m4\u001b[39m)",
      "  ammonite.$sess.cell5$Helper.foldRight(\u001b[32mcell5.sc\u001b[39m:\u001b[32m4\u001b[39m)",
      "  ammonite.$sess.cell5$Helper.foldRight(\u001b[32mcell5.sc\u001b[39m:\u001b[32m4\u001b[39m)",
      "  ammonite.$sess.cell5$Helper.foldRight(\u001b[32mcell5.sc\u001b[39m:\u001b[32m4\u001b[39m)",
      "  ammonite.$sess.cell5$Helper.foldRight(\u001b[32mcell5.sc\u001b[39m:\u001b[32m4\u001b[39m)",
      "  ammonite.$sess.cell5$Helper.foldRight(\u001b[32mcell5.sc\u001b[39m:\u001b[32m4\u001b[39m)",
      "  ammonite.$sess.cell5$Helper.foldRight(\u001b[32mcell5.sc\u001b[39m:\u001b[32m4\u001b[39m)",
      "  ammonite.$sess.cell5$Helper.foldRight(\u001b[32mcell5.sc\u001b[39m:\u001b[32m4\u001b[39m)",
      "  ammonite.$sess.cell5$Helper.foldRight(\u001b[32mcell5.sc\u001b[39m:\u001b[32m4\u001b[39m)",
      "  ammonite.$sess.cell5$Helper.foldRight(\u001b[32mcell5.sc\u001b[39m:\u001b[32m4\u001b[39m)",
      "  ammonite.$sess.cell5$Helper.foldRight(\u001b[32mcell5.sc\u001b[39m:\u001b[32m4\u001b[39m)",
      "  ammonite.$sess.cell5$Helper.foldRight(\u001b[32mcell5.sc\u001b[39m:\u001b[32m4\u001b[39m)",
      "  ammonite.$sess.cell5$Helper.foldRight(\u001b[32mcell5.sc\u001b[39m:\u001b[32m4\u001b[39m)",
      "  ammonite.$sess.cell5$Helper.foldRight(\u001b[32mcell5.sc\u001b[39m:\u001b[32m4\u001b[39m)",
      "  ammonite.$sess.cell5$Helper.foldRight(\u001b[32mcell5.sc\u001b[39m:\u001b[32m4\u001b[39m)",
      "  ammonite.$sess.cell5$Helper.foldRight(\u001b[32mcell5.sc\u001b[39m:\u001b[32m4\u001b[39m)",
      "  ammonite.$sess.cell5$Helper.foldRight(\u001b[32mcell5.sc\u001b[39m:\u001b[32m4\u001b[39m)",
      "  ammonite.$sess.cell5$Helper.foldRight(\u001b[32mcell5.sc\u001b[39m:\u001b[32m4\u001b[39m)",
      "  ammonite.$sess.cell5$Helper.foldRight(\u001b[32mcell5.sc\u001b[39m:\u001b[32m4\u001b[39m)",
      "  ammonite.$sess.cell5$Helper.foldRight(\u001b[32mcell5.sc\u001b[39m:\u001b[32m4\u001b[39m)",
      "  ammonite.$sess.cell5$Helper.foldRight(\u001b[32mcell5.sc\u001b[39m:\u001b[32m4\u001b[39m)",
      "  ammonite.$sess.cell5$Helper.foldRight(\u001b[32mcell5.sc\u001b[39m:\u001b[32m4\u001b[39m)",
      "  ammonite.$sess.cell5$Helper.foldRight(\u001b[32mcell5.sc\u001b[39m:\u001b[32m4\u001b[39m)",
      "  ammonite.$sess.cell5$Helper.foldRight(\u001b[32mcell5.sc\u001b[39m:\u001b[32m4\u001b[39m)",
      "  ammonite.$sess.cell5$Helper.foldRight(\u001b[32mcell5.sc\u001b[39m:\u001b[32m4\u001b[39m)",
      "  ammonite.$sess.cell5$Helper.foldRight(\u001b[32mcell5.sc\u001b[39m:\u001b[32m4\u001b[39m)",
      "  ammonite.$sess.cell5$Helper.foldRight(\u001b[32mcell5.sc\u001b[39m:\u001b[32m4\u001b[39m)",
      "  ammonite.$sess.cell5$Helper.foldRight(\u001b[32mcell5.sc\u001b[39m:\u001b[32m4\u001b[39m)",
      "  ammonite.$sess.cell5$Helper.foldRight(\u001b[32mcell5.sc\u001b[39m:\u001b[32m4\u001b[39m)",
      "  ammonite.$sess.cell5$Helper.foldRight(\u001b[32mcell5.sc\u001b[39m:\u001b[32m4\u001b[39m)",
      "  ammonite.$sess.cell5$Helper.foldRight(\u001b[32mcell5.sc\u001b[39m:\u001b[32m4\u001b[39m)",
      "  ammonite.$sess.cell5$Helper.foldRight(\u001b[32mcell5.sc\u001b[39m:\u001b[32m4\u001b[39m)",
      "  ammonite.$sess.cell5$Helper.foldRight(\u001b[32mcell5.sc\u001b[39m:\u001b[32m4\u001b[39m)",
      "  ammonite.$sess.cell5$Helper.foldRight(\u001b[32mcell5.sc\u001b[39m:\u001b[32m4\u001b[39m)",
      "  ammonite.$sess.cell5$Helper.foldRight(\u001b[32mcell5.sc\u001b[39m:\u001b[32m4\u001b[39m)",
      "  ammonite.$sess.cell5$Helper.foldRight(\u001b[32mcell5.sc\u001b[39m:\u001b[32m4\u001b[39m)",
      "  ammonite.$sess.cell5$Helper.foldRight(\u001b[32mcell5.sc\u001b[39m:\u001b[32m4\u001b[39m)",
      "  ammonite.$sess.cell5$Helper.foldRight(\u001b[32mcell5.sc\u001b[39m:\u001b[32m4\u001b[39m)",
      "  ammonite.$sess.cell5$Helper.foldRight(\u001b[32mcell5.sc\u001b[39m:\u001b[32m4\u001b[39m)",
      "  ammonite.$sess.cell5$Helper.foldRight(\u001b[32mcell5.sc\u001b[39m:\u001b[32m4\u001b[39m)",
      "  ammonite.$sess.cell5$Helper.foldRight(\u001b[32mcell5.sc\u001b[39m:\u001b[32m4\u001b[39m)",
      "  ammonite.$sess.cell5$Helper.foldRight(\u001b[32mcell5.sc\u001b[39m:\u001b[32m4\u001b[39m)",
      "  ammonite.$sess.cell5$Helper.foldRight(\u001b[32mcell5.sc\u001b[39m:\u001b[32m4\u001b[39m)",
      "  ammonite.$sess.cell5$Helper.foldRight(\u001b[32mcell5.sc\u001b[39m:\u001b[32m4\u001b[39m)",
      "  ammonite.$sess.cell5$Helper.foldRight(\u001b[32mcell5.sc\u001b[39m:\u001b[32m4\u001b[39m)",
      "  ammonite.$sess.cell5$Helper.foldRight(\u001b[32mcell5.sc\u001b[39m:\u001b[32m4\u001b[39m)",
      "  ammonite.$sess.cell5$Helper.foldRight(\u001b[32mcell5.sc\u001b[39m:\u001b[32m4\u001b[39m)",
      "  ammonite.$sess.cell5$Helper.foldRight(\u001b[32mcell5.sc\u001b[39m:\u001b[32m4\u001b[39m)",
      "  ammonite.$sess.cell5$Helper.foldRight(\u001b[32mcell5.sc\u001b[39m:\u001b[32m4\u001b[39m)",
      "  ammonite.$sess.cell5$Helper.foldRight(\u001b[32mcell5.sc\u001b[39m:\u001b[32m4\u001b[39m)",
      "  ammonite.$sess.cell5$Helper.foldRight(\u001b[32mcell5.sc\u001b[39m:\u001b[32m4\u001b[39m)",
      "  ammonite.$sess.cell5$Helper.foldRight(\u001b[32mcell5.sc\u001b[39m:\u001b[32m4\u001b[39m)",
      "  ammonite.$sess.cell5$Helper.foldRight(\u001b[32mcell5.sc\u001b[39m:\u001b[32m4\u001b[39m)",
      "  ammonite.$sess.cell5$Helper.foldRight(\u001b[32mcell5.sc\u001b[39m:\u001b[32m4\u001b[39m)",
      "  ammonite.$sess.cell5$Helper.foldRight(\u001b[32mcell5.sc\u001b[39m:\u001b[32m4\u001b[39m)",
      "  ammonite.$sess.cell5$Helper.foldRight(\u001b[32mcell5.sc\u001b[39m:\u001b[32m4\u001b[39m)",
      "  ammonite.$sess.cell5$Helper.foldRight(\u001b[32mcell5.sc\u001b[39m:\u001b[32m4\u001b[39m)",
      "  ammonite.$sess.cell5$Helper.foldRight(\u001b[32mcell5.sc\u001b[39m:\u001b[32m4\u001b[39m)",
      "  ammonite.$sess.cell5$Helper.foldRight(\u001b[32mcell5.sc\u001b[39m:\u001b[32m4\u001b[39m)",
      "  ammonite.$sess.cell5$Helper.foldRight(\u001b[32mcell5.sc\u001b[39m:\u001b[32m4\u001b[39m)",
      "  ammonite.$sess.cell5$Helper.foldRight(\u001b[32mcell5.sc\u001b[39m:\u001b[32m4\u001b[39m)",
      "  ammonite.$sess.cell5$Helper.foldRight(\u001b[32mcell5.sc\u001b[39m:\u001b[32m4\u001b[39m)",
      "  ammonite.$sess.cell5$Helper.foldRight(\u001b[32mcell5.sc\u001b[39m:\u001b[32m4\u001b[39m)",
      "  ammonite.$sess.cell5$Helper.foldRight(\u001b[32mcell5.sc\u001b[39m:\u001b[32m4\u001b[39m)",
      "  ammonite.$sess.cell5$Helper.foldRight(\u001b[32mcell5.sc\u001b[39m:\u001b[32m4\u001b[39m)",
      "  ammonite.$sess.cell5$Helper.foldRight(\u001b[32mcell5.sc\u001b[39m:\u001b[32m4\u001b[39m)",
      "  ammonite.$sess.cell5$Helper.foldRight(\u001b[32mcell5.sc\u001b[39m:\u001b[32m4\u001b[39m)",
      "  ammonite.$sess.cell5$Helper.foldRight(\u001b[32mcell5.sc\u001b[39m:\u001b[32m4\u001b[39m)",
      "  ammonite.$sess.cell5$Helper.foldRight(\u001b[32mcell5.sc\u001b[39m:\u001b[32m4\u001b[39m)",
      "  ammonite.$sess.cell5$Helper.foldRight(\u001b[32mcell5.sc\u001b[39m:\u001b[32m4\u001b[39m)",
      "  ammonite.$sess.cell5$Helper.foldRight(\u001b[32mcell5.sc\u001b[39m:\u001b[32m4\u001b[39m)",
      "  ammonite.$sess.cell5$Helper.foldRight(\u001b[32mcell5.sc\u001b[39m:\u001b[32m4\u001b[39m)",
      "  ammonite.$sess.cell5$Helper.foldRight(\u001b[32mcell5.sc\u001b[39m:\u001b[32m4\u001b[39m)",
      "  ammonite.$sess.cell5$Helper.foldRight(\u001b[32mcell5.sc\u001b[39m:\u001b[32m4\u001b[39m)",
      "  ammonite.$sess.cell5$Helper.foldRight(\u001b[32mcell5.sc\u001b[39m:\u001b[32m4\u001b[39m)",
      "  ammonite.$sess.cell5$Helper.foldRight(\u001b[32mcell5.sc\u001b[39m:\u001b[32m4\u001b[39m)",
      "  ammonite.$sess.cell5$Helper.foldRight(\u001b[32mcell5.sc\u001b[39m:\u001b[32m4\u001b[39m)",
      "  ammonite.$sess.cell5$Helper.foldRight(\u001b[32mcell5.sc\u001b[39m:\u001b[32m4\u001b[39m)",
      "  ammonite.$sess.cell5$Helper.foldRight(\u001b[32mcell5.sc\u001b[39m:\u001b[32m4\u001b[39m)",
      "  ammonite.$sess.cell5$Helper.foldRight(\u001b[32mcell5.sc\u001b[39m:\u001b[32m4\u001b[39m)",
      "  ammonite.$sess.cell5$Helper.foldRight(\u001b[32mcell5.sc\u001b[39m:\u001b[32m4\u001b[39m)",
      "  ammonite.$sess.cell5$Helper.foldRight(\u001b[32mcell5.sc\u001b[39m:\u001b[32m4\u001b[39m)",
      "  ammonite.$sess.cell5$Helper.foldRight(\u001b[32mcell5.sc\u001b[39m:\u001b[32m4\u001b[39m)",
      "  ammonite.$sess.cell5$Helper.foldRight(\u001b[32mcell5.sc\u001b[39m:\u001b[32m4\u001b[39m)",
      "  ammonite.$sess.cell5$Helper.foldRight(\u001b[32mcell5.sc\u001b[39m:\u001b[32m4\u001b[39m)",
      "  ammonite.$sess.cell5$Helper.foldRight(\u001b[32mcell5.sc\u001b[39m:\u001b[32m4\u001b[39m)",
      "  ammonite.$sess.cell5$Helper.foldRight(\u001b[32mcell5.sc\u001b[39m:\u001b[32m4\u001b[39m)",
      "  ammonite.$sess.cell5$Helper.foldRight(\u001b[32mcell5.sc\u001b[39m:\u001b[32m4\u001b[39m)",
      "  ammonite.$sess.cell5$Helper.foldRight(\u001b[32mcell5.sc\u001b[39m:\u001b[32m4\u001b[39m)",
      "  ammonite.$sess.cell5$Helper.foldRight(\u001b[32mcell5.sc\u001b[39m:\u001b[32m4\u001b[39m)",
      "  ammonite.$sess.cell5$Helper.foldRight(\u001b[32mcell5.sc\u001b[39m:\u001b[32m4\u001b[39m)",
      "  ammonite.$sess.cell5$Helper.foldRight(\u001b[32mcell5.sc\u001b[39m:\u001b[32m4\u001b[39m)",
      "  ammonite.$sess.cell5$Helper.foldRight(\u001b[32mcell5.sc\u001b[39m:\u001b[32m4\u001b[39m)",
      "  ammonite.$sess.cell5$Helper.foldRight(\u001b[32mcell5.sc\u001b[39m:\u001b[32m4\u001b[39m)",
      "  ammonite.$sess.cell5$Helper.foldRight(\u001b[32mcell5.sc\u001b[39m:\u001b[32m4\u001b[39m)",
      "  ammonite.$sess.cell5$Helper.foldRight(\u001b[32mcell5.sc\u001b[39m:\u001b[32m4\u001b[39m)",
      "  ammonite.$sess.cell5$Helper.foldRight(\u001b[32mcell5.sc\u001b[39m:\u001b[32m4\u001b[39m)",
      "  ammonite.$sess.cell5$Helper.foldRight(\u001b[32mcell5.sc\u001b[39m:\u001b[32m4\u001b[39m)",
      "  ammonite.$sess.cell5$Helper.foldRight(\u001b[32mcell5.sc\u001b[39m:\u001b[32m4\u001b[39m)",
      "  ammonite.$sess.cell5$Helper.foldRight(\u001b[32mcell5.sc\u001b[39m:\u001b[32m4\u001b[39m)",
      "  ammonite.$sess.cell5$Helper.foldRight(\u001b[32mcell5.sc\u001b[39m:\u001b[32m4\u001b[39m)",
      "  ammonite.$sess.cell5$Helper.foldRight(\u001b[32mcell5.sc\u001b[39m:\u001b[32m4\u001b[39m)",
      "  ammonite.$sess.cell5$Helper.foldRight(\u001b[32mcell5.sc\u001b[39m:\u001b[32m4\u001b[39m)",
      "  ammonite.$sess.cell5$Helper.foldRight(\u001b[32mcell5.sc\u001b[39m:\u001b[32m4\u001b[39m)",
      "  ammonite.$sess.cell5$Helper.foldRight(\u001b[32mcell5.sc\u001b[39m:\u001b[32m4\u001b[39m)",
      "  ammonite.$sess.cell5$Helper.foldRight(\u001b[32mcell5.sc\u001b[39m:\u001b[32m4\u001b[39m)",
      "  ammonite.$sess.cell5$Helper.foldRight(\u001b[32mcell5.sc\u001b[39m:\u001b[32m4\u001b[39m)",
      "  ammonite.$sess.cell5$Helper.foldRight(\u001b[32mcell5.sc\u001b[39m:\u001b[32m4\u001b[39m)",
      "  ammonite.$sess.cell5$Helper.foldRight(\u001b[32mcell5.sc\u001b[39m:\u001b[32m4\u001b[39m)",
      "  ammonite.$sess.cell5$Helper.foldRight(\u001b[32mcell5.sc\u001b[39m:\u001b[32m4\u001b[39m)",
      "  ammonite.$sess.cell5$Helper.foldRight(\u001b[32mcell5.sc\u001b[39m:\u001b[32m4\u001b[39m)",
      "  ammonite.$sess.cell5$Helper.foldRight(\u001b[32mcell5.sc\u001b[39m:\u001b[32m4\u001b[39m)",
      "  ammonite.$sess.cell5$Helper.foldRight(\u001b[32mcell5.sc\u001b[39m:\u001b[32m4\u001b[39m)",
      "  ammonite.$sess.cell5$Helper.foldRight(\u001b[32mcell5.sc\u001b[39m:\u001b[32m4\u001b[39m)",
      "  ammonite.$sess.cell5$Helper.foldRight(\u001b[32mcell5.sc\u001b[39m:\u001b[32m4\u001b[39m)",
      "  ammonite.$sess.cell5$Helper.foldRight(\u001b[32mcell5.sc\u001b[39m:\u001b[32m4\u001b[39m)",
      "  ammonite.$sess.cell5$Helper.foldRight(\u001b[32mcell5.sc\u001b[39m:\u001b[32m4\u001b[39m)",
      "  ammonite.$sess.cell5$Helper.foldRight(\u001b[32mcell5.sc\u001b[39m:\u001b[32m4\u001b[39m)",
      "  ammonite.$sess.cell5$Helper.foldRight(\u001b[32mcell5.sc\u001b[39m:\u001b[32m4\u001b[39m)",
      "  ammonite.$sess.cell5$Helper.foldRight(\u001b[32mcell5.sc\u001b[39m:\u001b[32m4\u001b[39m)",
      "  ammonite.$sess.cell5$Helper.foldRight(\u001b[32mcell5.sc\u001b[39m:\u001b[32m4\u001b[39m)",
      "  ammonite.$sess.cell5$Helper.foldRight(\u001b[32mcell5.sc\u001b[39m:\u001b[32m4\u001b[39m)",
      "  ammonite.$sess.cell5$Helper.foldRight(\u001b[32mcell5.sc\u001b[39m:\u001b[32m4\u001b[39m)",
      "  ammonite.$sess.cell5$Helper.foldRight(\u001b[32mcell5.sc\u001b[39m:\u001b[32m4\u001b[39m)",
      "  ammonite.$sess.cell5$Helper.foldRight(\u001b[32mcell5.sc\u001b[39m:\u001b[32m4\u001b[39m)",
      "  ammonite.$sess.cell5$Helper.foldRight(\u001b[32mcell5.sc\u001b[39m:\u001b[32m4\u001b[39m)",
      "  ammonite.$sess.cell5$Helper.foldRight(\u001b[32mcell5.sc\u001b[39m:\u001b[32m4\u001b[39m)",
      "  ammonite.$sess.cell5$Helper.foldRight(\u001b[32mcell5.sc\u001b[39m:\u001b[32m4\u001b[39m)",
      "  ammonite.$sess.cell5$Helper.foldRight(\u001b[32mcell5.sc\u001b[39m:\u001b[32m4\u001b[39m)",
      "  ammonite.$sess.cell5$Helper.foldRight(\u001b[32mcell5.sc\u001b[39m:\u001b[32m4\u001b[39m)",
      "  ammonite.$sess.cell5$Helper.foldRight(\u001b[32mcell5.sc\u001b[39m:\u001b[32m4\u001b[39m)",
      "  ammonite.$sess.cell5$Helper.foldRight(\u001b[32mcell5.sc\u001b[39m:\u001b[32m4\u001b[39m)",
      "  ammonite.$sess.cell5$Helper.foldRight(\u001b[32mcell5.sc\u001b[39m:\u001b[32m4\u001b[39m)",
      "  ammonite.$sess.cell5$Helper.foldRight(\u001b[32mcell5.sc\u001b[39m:\u001b[32m4\u001b[39m)",
      "  ammonite.$sess.cell5$Helper.foldRight(\u001b[32mcell5.sc\u001b[39m:\u001b[32m4\u001b[39m)",
      "  ammonite.$sess.cell5$Helper.foldRight(\u001b[32mcell5.sc\u001b[39m:\u001b[32m4\u001b[39m)",
      "  ammonite.$sess.cell5$Helper.foldRight(\u001b[32mcell5.sc\u001b[39m:\u001b[32m4\u001b[39m)",
      "  ammonite.$sess.cell5$Helper.foldRight(\u001b[32mcell5.sc\u001b[39m:\u001b[32m4\u001b[39m)",
      "  ammonite.$sess.cell5$Helper.foldRight(\u001b[32mcell5.sc\u001b[39m:\u001b[32m4\u001b[39m)",
      "  ammonite.$sess.cell5$Helper.foldRight(\u001b[32mcell5.sc\u001b[39m:\u001b[32m4\u001b[39m)",
      "  ammonite.$sess.cell5$Helper.foldRight(\u001b[32mcell5.sc\u001b[39m:\u001b[32m4\u001b[39m)",
      "  ammonite.$sess.cell5$Helper.foldRight(\u001b[32mcell5.sc\u001b[39m:\u001b[32m4\u001b[39m)",
      "  ammonite.$sess.cell5$Helper.foldRight(\u001b[32mcell5.sc\u001b[39m:\u001b[32m4\u001b[39m)",
      "  ammonite.$sess.cell5$Helper.foldRight(\u001b[32mcell5.sc\u001b[39m:\u001b[32m4\u001b[39m)",
      "  ammonite.$sess.cell5$Helper.foldRight(\u001b[32mcell5.sc\u001b[39m:\u001b[32m4\u001b[39m)",
      "  ammonite.$sess.cell5$Helper.foldRight(\u001b[32mcell5.sc\u001b[39m:\u001b[32m4\u001b[39m)",
      "  ammonite.$sess.cell5$Helper.foldRight(\u001b[32mcell5.sc\u001b[39m:\u001b[32m4\u001b[39m)",
      "  ammonite.$sess.cell5$Helper.foldRight(\u001b[32mcell5.sc\u001b[39m:\u001b[32m4\u001b[39m)",
      "  ammonite.$sess.cell5$Helper.foldRight(\u001b[32mcell5.sc\u001b[39m:\u001b[32m4\u001b[39m)",
      "  ammonite.$sess.cell5$Helper.foldRight(\u001b[32mcell5.sc\u001b[39m:\u001b[32m4\u001b[39m)",
      "  ammonite.$sess.cell5$Helper.foldRight(\u001b[32mcell5.sc\u001b[39m:\u001b[32m4\u001b[39m)",
      "  ammonite.$sess.cell5$Helper.foldRight(\u001b[32mcell5.sc\u001b[39m:\u001b[32m4\u001b[39m)",
      "  ammonite.$sess.cell5$Helper.foldRight(\u001b[32mcell5.sc\u001b[39m:\u001b[32m4\u001b[39m)",
      "  ammonite.$sess.cell5$Helper.foldRight(\u001b[32mcell5.sc\u001b[39m:\u001b[32m4\u001b[39m)",
      "  ammonite.$sess.cell5$Helper.foldRight(\u001b[32mcell5.sc\u001b[39m:\u001b[32m4\u001b[39m)",
      "  ammonite.$sess.cell5$Helper.foldRight(\u001b[32mcell5.sc\u001b[39m:\u001b[32m4\u001b[39m)",
      "  ammonite.$sess.cell5$Helper.foldRight(\u001b[32mcell5.sc\u001b[39m:\u001b[32m4\u001b[39m)",
      "  ammonite.$sess.cell5$Helper.foldRight(\u001b[32mcell5.sc\u001b[39m:\u001b[32m4\u001b[39m)",
      "  ammonite.$sess.cell5$Helper.foldRight(\u001b[32mcell5.sc\u001b[39m:\u001b[32m4\u001b[39m)",
      "  ammonite.$sess.cell5$Helper.foldRight(\u001b[32mcell5.sc\u001b[39m:\u001b[32m4\u001b[39m)",
      "  ammonite.$sess.cell5$Helper.foldRight(\u001b[32mcell5.sc\u001b[39m:\u001b[32m4\u001b[39m)",
      "  ammonite.$sess.cell5$Helper.foldRight(\u001b[32mcell5.sc\u001b[39m:\u001b[32m4\u001b[39m)",
      "  ammonite.$sess.cell5$Helper.foldRight(\u001b[32mcell5.sc\u001b[39m:\u001b[32m4\u001b[39m)",
      "  ammonite.$sess.cell5$Helper.foldRight(\u001b[32mcell5.sc\u001b[39m:\u001b[32m4\u001b[39m)",
      "  ammonite.$sess.cell5$Helper.foldRight(\u001b[32mcell5.sc\u001b[39m:\u001b[32m4\u001b[39m)",
      "  ammonite.$sess.cell5$Helper.foldRight(\u001b[32mcell5.sc\u001b[39m:\u001b[32m4\u001b[39m)",
      "  ammonite.$sess.cell5$Helper.foldRight(\u001b[32mcell5.sc\u001b[39m:\u001b[32m4\u001b[39m)",
      "  ammonite.$sess.cell5$Helper.foldRight(\u001b[32mcell5.sc\u001b[39m:\u001b[32m4\u001b[39m)",
      "  ammonite.$sess.cell5$Helper.foldRight(\u001b[32mcell5.sc\u001b[39m:\u001b[32m4\u001b[39m)",
      "  ammonite.$sess.cell5$Helper.foldRight(\u001b[32mcell5.sc\u001b[39m:\u001b[32m4\u001b[39m)",
      "  ammonite.$sess.cell5$Helper.foldRight(\u001b[32mcell5.sc\u001b[39m:\u001b[32m4\u001b[39m)",
      "  ammonite.$sess.cell5$Helper.foldRight(\u001b[32mcell5.sc\u001b[39m:\u001b[32m4\u001b[39m)",
      "  ammonite.$sess.cell5$Helper.foldRight(\u001b[32mcell5.sc\u001b[39m:\u001b[32m4\u001b[39m)",
      "  ammonite.$sess.cell5$Helper.foldRight(\u001b[32mcell5.sc\u001b[39m:\u001b[32m4\u001b[39m)",
      "  ammonite.$sess.cell5$Helper.foldRight(\u001b[32mcell5.sc\u001b[39m:\u001b[32m4\u001b[39m)",
      "  ammonite.$sess.cell5$Helper.foldRight(\u001b[32mcell5.sc\u001b[39m:\u001b[32m4\u001b[39m)",
      "  ammonite.$sess.cell5$Helper.foldRight(\u001b[32mcell5.sc\u001b[39m:\u001b[32m4\u001b[39m)",
      "  ammonite.$sess.cell5$Helper.foldRight(\u001b[32mcell5.sc\u001b[39m:\u001b[32m4\u001b[39m)",
      "  ammonite.$sess.cell5$Helper.foldRight(\u001b[32mcell5.sc\u001b[39m:\u001b[32m4\u001b[39m)",
      "  ammonite.$sess.cell5$Helper.foldRight(\u001b[32mcell5.sc\u001b[39m:\u001b[32m4\u001b[39m)",
      "  ammonite.$sess.cell5$Helper.foldRight(\u001b[32mcell5.sc\u001b[39m:\u001b[32m4\u001b[39m)",
      "  ammonite.$sess.cell5$Helper.foldRight(\u001b[32mcell5.sc\u001b[39m:\u001b[32m4\u001b[39m)",
      "  ammonite.$sess.cell5$Helper.foldRight(\u001b[32mcell5.sc\u001b[39m:\u001b[32m4\u001b[39m)",
      "  ammonite.$sess.cell5$Helper.foldRight(\u001b[32mcell5.sc\u001b[39m:\u001b[32m4\u001b[39m)",
      "  ammonite.$sess.cell5$Helper.foldRight(\u001b[32mcell5.sc\u001b[39m:\u001b[32m4\u001b[39m)",
      "  ammonite.$sess.cell5$Helper.foldRight(\u001b[32mcell5.sc\u001b[39m:\u001b[32m4\u001b[39m)",
      "  ammonite.$sess.cell5$Helper.foldRight(\u001b[32mcell5.sc\u001b[39m:\u001b[32m4\u001b[39m)",
      "  ammonite.$sess.cell5$Helper.foldRight(\u001b[32mcell5.sc\u001b[39m:\u001b[32m4\u001b[39m)",
      "  ammonite.$sess.cell5$Helper.foldRight(\u001b[32mcell5.sc\u001b[39m:\u001b[32m4\u001b[39m)",
      "  ammonite.$sess.cell5$Helper.foldRight(\u001b[32mcell5.sc\u001b[39m:\u001b[32m4\u001b[39m)",
      "  ammonite.$sess.cell5$Helper.foldRight(\u001b[32mcell5.sc\u001b[39m:\u001b[32m4\u001b[39m)",
      "  ammonite.$sess.cell5$Helper.foldRight(\u001b[32mcell5.sc\u001b[39m:\u001b[32m4\u001b[39m)",
      "  ammonite.$sess.cell5$Helper.foldRight(\u001b[32mcell5.sc\u001b[39m:\u001b[32m4\u001b[39m)",
      "  ammonite.$sess.cell5$Helper.foldRight(\u001b[32mcell5.sc\u001b[39m:\u001b[32m4\u001b[39m)",
      "  ammonite.$sess.cell5$Helper.foldRight(\u001b[32mcell5.sc\u001b[39m:\u001b[32m4\u001b[39m)",
      "  ammonite.$sess.cell5$Helper.foldRight(\u001b[32mcell5.sc\u001b[39m:\u001b[32m4\u001b[39m)",
      "  ammonite.$sess.cell5$Helper.foldRight(\u001b[32mcell5.sc\u001b[39m:\u001b[32m4\u001b[39m)",
      "  ammonite.$sess.cell5$Helper.foldRight(\u001b[32mcell5.sc\u001b[39m:\u001b[32m4\u001b[39m)",
      "  ammonite.$sess.cell5$Helper.foldRight(\u001b[32mcell5.sc\u001b[39m:\u001b[32m4\u001b[39m)",
      "  ammonite.$sess.cell5$Helper.foldRight(\u001b[32mcell5.sc\u001b[39m:\u001b[32m4\u001b[39m)",
      "  ammonite.$sess.cell5$Helper.foldRight(\u001b[32mcell5.sc\u001b[39m:\u001b[32m4\u001b[39m)",
      "  ammonite.$sess.cell5$Helper.foldRight(\u001b[32mcell5.sc\u001b[39m:\u001b[32m4\u001b[39m)",
      "  ammonite.$sess.cell5$Helper.foldRight(\u001b[32mcell5.sc\u001b[39m:\u001b[32m4\u001b[39m)",
      "  ammonite.$sess.cell5$Helper.foldRight(\u001b[32mcell5.sc\u001b[39m:\u001b[32m4\u001b[39m)",
      "  ammonite.$sess.cell5$Helper.foldRight(\u001b[32mcell5.sc\u001b[39m:\u001b[32m4\u001b[39m)",
      "  ammonite.$sess.cell5$Helper.foldRight(\u001b[32mcell5.sc\u001b[39m:\u001b[32m4\u001b[39m)",
      "  ammonite.$sess.cell5$Helper.foldRight(\u001b[32mcell5.sc\u001b[39m:\u001b[32m4\u001b[39m)",
      "  ammonite.$sess.cell5$Helper.foldRight(\u001b[32mcell5.sc\u001b[39m:\u001b[32m4\u001b[39m)",
      "  ammonite.$sess.cell5$Helper.foldRight(\u001b[32mcell5.sc\u001b[39m:\u001b[32m4\u001b[39m)",
      "  ammonite.$sess.cell5$Helper.foldRight(\u001b[32mcell5.sc\u001b[39m:\u001b[32m4\u001b[39m)",
      "  ammonite.$sess.cell5$Helper.foldRight(\u001b[32mcell5.sc\u001b[39m:\u001b[32m4\u001b[39m)",
      "  ammonite.$sess.cell5$Helper.foldRight(\u001b[32mcell5.sc\u001b[39m:\u001b[32m4\u001b[39m)",
      "  ammonite.$sess.cell5$Helper.foldRight(\u001b[32mcell5.sc\u001b[39m:\u001b[32m4\u001b[39m)",
      "  ammonite.$sess.cell5$Helper.foldRight(\u001b[32mcell5.sc\u001b[39m:\u001b[32m4\u001b[39m)",
      "  ammonite.$sess.cell5$Helper.foldRight(\u001b[32mcell5.sc\u001b[39m:\u001b[32m4\u001b[39m)",
      "  ammonite.$sess.cell5$Helper.foldRight(\u001b[32mcell5.sc\u001b[39m:\u001b[32m4\u001b[39m)",
      "  ammonite.$sess.cell5$Helper.foldRight(\u001b[32mcell5.sc\u001b[39m:\u001b[32m4\u001b[39m)",
      "  ammonite.$sess.cell5$Helper.foldRight(\u001b[32mcell5.sc\u001b[39m:\u001b[32m4\u001b[39m)",
      "  ammonite.$sess.cell5$Helper.foldRight(\u001b[32mcell5.sc\u001b[39m:\u001b[32m4\u001b[39m)",
      "  ammonite.$sess.cell5$Helper.foldRight(\u001b[32mcell5.sc\u001b[39m:\u001b[32m4\u001b[39m)",
      "  ammonite.$sess.cell5$Helper.foldRight(\u001b[32mcell5.sc\u001b[39m:\u001b[32m4\u001b[39m)",
      "  ammonite.$sess.cell5$Helper.foldRight(\u001b[32mcell5.sc\u001b[39m:\u001b[32m4\u001b[39m)",
      "  ammonite.$sess.cell5$Helper.foldRight(\u001b[32mcell5.sc\u001b[39m:\u001b[32m4\u001b[39m)",
      "  ammonite.$sess.cell5$Helper.foldRight(\u001b[32mcell5.sc\u001b[39m:\u001b[32m4\u001b[39m)",
      "  ammonite.$sess.cell5$Helper.foldRight(\u001b[32mcell5.sc\u001b[39m:\u001b[32m4\u001b[39m)",
      "  ammonite.$sess.cell5$Helper.foldRight(\u001b[32mcell5.sc\u001b[39m:\u001b[32m4\u001b[39m)",
      "  ammonite.$sess.cell5$Helper.foldRight(\u001b[32mcell5.sc\u001b[39m:\u001b[32m4\u001b[39m)",
      "  ammonite.$sess.cell5$Helper.foldRight(\u001b[32mcell5.sc\u001b[39m:\u001b[32m4\u001b[39m)",
      "  ammonite.$sess.cell5$Helper.foldRight(\u001b[32mcell5.sc\u001b[39m:\u001b[32m4\u001b[39m)",
      "  ammonite.$sess.cell5$Helper.foldRight(\u001b[32mcell5.sc\u001b[39m:\u001b[32m4\u001b[39m)",
      "  ammonite.$sess.cell5$Helper.foldRight(\u001b[32mcell5.sc\u001b[39m:\u001b[32m4\u001b[39m)",
      "  ammonite.$sess.cell5$Helper.foldRight(\u001b[32mcell5.sc\u001b[39m:\u001b[32m4\u001b[39m)",
      "  ammonite.$sess.cell5$Helper.foldRight(\u001b[32mcell5.sc\u001b[39m:\u001b[32m4\u001b[39m)",
      "  ammonite.$sess.cell5$Helper.foldRight(\u001b[32mcell5.sc\u001b[39m:\u001b[32m4\u001b[39m)",
      "  ammonite.$sess.cell5$Helper.foldRight(\u001b[32mcell5.sc\u001b[39m:\u001b[32m4\u001b[39m)",
      "  ammonite.$sess.cell5$Helper.foldRight(\u001b[32mcell5.sc\u001b[39m:\u001b[32m4\u001b[39m)",
      "  ammonite.$sess.cell5$Helper.foldRight(\u001b[32mcell5.sc\u001b[39m:\u001b[32m4\u001b[39m)",
      "  ammonite.$sess.cell5$Helper.foldRight(\u001b[32mcell5.sc\u001b[39m:\u001b[32m4\u001b[39m)",
      "  ammonite.$sess.cell5$Helper.foldRight(\u001b[32mcell5.sc\u001b[39m:\u001b[32m4\u001b[39m)",
      "  ammonite.$sess.cell5$Helper.foldRight(\u001b[32mcell5.sc\u001b[39m:\u001b[32m4\u001b[39m)",
      "  ammonite.$sess.cell5$Helper.foldRight(\u001b[32mcell5.sc\u001b[39m:\u001b[32m4\u001b[39m)",
      "  ammonite.$sess.cell5$Helper.foldRight(\u001b[32mcell5.sc\u001b[39m:\u001b[32m4\u001b[39m)",
      "  ammonite.$sess.cell5$Helper.foldRight(\u001b[32mcell5.sc\u001b[39m:\u001b[32m4\u001b[39m)",
      "  ammonite.$sess.cell5$Helper.foldRight(\u001b[32mcell5.sc\u001b[39m:\u001b[32m4\u001b[39m)",
      "  ammonite.$sess.cell5$Helper.foldRight(\u001b[32mcell5.sc\u001b[39m:\u001b[32m4\u001b[39m)",
      "  ammonite.$sess.cell5$Helper.foldRight(\u001b[32mcell5.sc\u001b[39m:\u001b[32m4\u001b[39m)",
      "  ammonite.$sess.cell5$Helper.foldRight(\u001b[32mcell5.sc\u001b[39m:\u001b[32m4\u001b[39m)",
      "  ammonite.$sess.cell5$Helper.foldRight(\u001b[32mcell5.sc\u001b[39m:\u001b[32m4\u001b[39m)",
      "  ammonite.$sess.cell5$Helper.foldRight(\u001b[32mcell5.sc\u001b[39m:\u001b[32m4\u001b[39m)",
      "  ammonite.$sess.cell5$Helper.foldRight(\u001b[32mcell5.sc\u001b[39m:\u001b[32m4\u001b[39m)",
      "  ammonite.$sess.cell5$Helper.foldRight(\u001b[32mcell5.sc\u001b[39m:\u001b[32m4\u001b[39m)",
      "  ammonite.$sess.cell5$Helper.foldRight(\u001b[32mcell5.sc\u001b[39m:\u001b[32m4\u001b[39m)",
      "  ammonite.$sess.cell5$Helper.foldRight(\u001b[32mcell5.sc\u001b[39m:\u001b[32m4\u001b[39m)",
      "  ammonite.$sess.cell5$Helper.foldRight(\u001b[32mcell5.sc\u001b[39m:\u001b[32m4\u001b[39m)",
      "  ammonite.$sess.cell5$Helper.foldRight(\u001b[32mcell5.sc\u001b[39m:\u001b[32m4\u001b[39m)",
      "  ammonite.$sess.cell5$Helper.foldRight(\u001b[32mcell5.sc\u001b[39m:\u001b[32m4\u001b[39m)",
      "  ammonite.$sess.cell5$Helper.foldRight(\u001b[32mcell5.sc\u001b[39m:\u001b[32m4\u001b[39m)",
      "  ammonite.$sess.cell5$Helper.foldRight(\u001b[32mcell5.sc\u001b[39m:\u001b[32m4\u001b[39m)",
      "  ammonite.$sess.cell5$Helper.foldRight(\u001b[32mcell5.sc\u001b[39m:\u001b[32m4\u001b[39m)",
      "  ammonite.$sess.cell5$Helper.foldRight(\u001b[32mcell5.sc\u001b[39m:\u001b[32m4\u001b[39m)",
      "  ammonite.$sess.cell5$Helper.foldRight(\u001b[32mcell5.sc\u001b[39m:\u001b[32m4\u001b[39m)",
      "  ammonite.$sess.cell5$Helper.foldRight(\u001b[32mcell5.sc\u001b[39m:\u001b[32m4\u001b[39m)",
      "  ammonite.$sess.cell5$Helper.foldRight(\u001b[32mcell5.sc\u001b[39m:\u001b[32m4\u001b[39m)",
      "  ammonite.$sess.cell5$Helper.foldRight(\u001b[32mcell5.sc\u001b[39m:\u001b[32m4\u001b[39m)",
      "  ammonite.$sess.cell5$Helper.foldRight(\u001b[32mcell5.sc\u001b[39m:\u001b[32m4\u001b[39m)",
      "  ammonite.$sess.cell5$Helper.foldRight(\u001b[32mcell5.sc\u001b[39m:\u001b[32m4\u001b[39m)",
      "  ammonite.$sess.cell5$Helper.foldRight(\u001b[32mcell5.sc\u001b[39m:\u001b[32m4\u001b[39m)",
      "  ammonite.$sess.cell5$Helper.foldRight(\u001b[32mcell5.sc\u001b[39m:\u001b[32m4\u001b[39m)",
      "  ammonite.$sess.cell5$Helper.foldRight(\u001b[32mcell5.sc\u001b[39m:\u001b[32m4\u001b[39m)",
      "  ammonite.$sess.cell5$Helper.foldRight(\u001b[32mcell5.sc\u001b[39m:\u001b[32m4\u001b[39m)",
      "  ammonite.$sess.cell5$Helper.foldRight(\u001b[32mcell5.sc\u001b[39m:\u001b[32m4\u001b[39m)",
      "  ammonite.$sess.cell5$Helper.foldRight(\u001b[32mcell5.sc\u001b[39m:\u001b[32m4\u001b[39m)",
      "  ammonite.$sess.cell5$Helper.foldRight(\u001b[32mcell5.sc\u001b[39m:\u001b[32m4\u001b[39m)",
      "  ammonite.$sess.cell5$Helper.foldRight(\u001b[32mcell5.sc\u001b[39m:\u001b[32m4\u001b[39m)",
      "  ammonite.$sess.cell5$Helper.foldRight(\u001b[32mcell5.sc\u001b[39m:\u001b[32m4\u001b[39m)",
      "  ammonite.$sess.cell5$Helper.foldRight(\u001b[32mcell5.sc\u001b[39m:\u001b[32m4\u001b[39m)",
      "  ammonite.$sess.cell5$Helper.foldRight(\u001b[32mcell5.sc\u001b[39m:\u001b[32m4\u001b[39m)",
      "  ammonite.$sess.cell5$Helper.foldRight(\u001b[32mcell5.sc\u001b[39m:\u001b[32m4\u001b[39m)",
      "  ammonite.$sess.cell5$Helper.foldRight(\u001b[32mcell5.sc\u001b[39m:\u001b[32m4\u001b[39m)",
      "  ammonite.$sess.cell5$Helper.foldRight(\u001b[32mcell5.sc\u001b[39m:\u001b[32m4\u001b[39m)",
      "  ammonite.$sess.cell5$Helper.foldRight(\u001b[32mcell5.sc\u001b[39m:\u001b[32m4\u001b[39m)",
      "  ammonite.$sess.cell5$Helper.foldRight(\u001b[32mcell5.sc\u001b[39m:\u001b[32m4\u001b[39m)",
      "  ammonite.$sess.cell5$Helper.foldRight(\u001b[32mcell5.sc\u001b[39m:\u001b[32m4\u001b[39m)",
      "  ammonite.$sess.cell5$Helper.foldRight(\u001b[32mcell5.sc\u001b[39m:\u001b[32m4\u001b[39m)",
      "  ammonite.$sess.cell5$Helper.foldRight(\u001b[32mcell5.sc\u001b[39m:\u001b[32m4\u001b[39m)",
      "  ammonite.$sess.cell5$Helper.foldRight(\u001b[32mcell5.sc\u001b[39m:\u001b[32m4\u001b[39m)",
      "  ammonite.$sess.cell5$Helper.foldRight(\u001b[32mcell5.sc\u001b[39m:\u001b[32m4\u001b[39m)",
      "  ammonite.$sess.cell5$Helper.foldRight(\u001b[32mcell5.sc\u001b[39m:\u001b[32m4\u001b[39m)",
      "  ammonite.$sess.cell5$Helper.foldRight(\u001b[32mcell5.sc\u001b[39m:\u001b[32m4\u001b[39m)",
      "  ammonite.$sess.cell5$Helper.foldRight(\u001b[32mcell5.sc\u001b[39m:\u001b[32m4\u001b[39m)",
      "  ammonite.$sess.cell5$Helper.foldRight(\u001b[32mcell5.sc\u001b[39m:\u001b[32m4\u001b[39m)",
      "  ammonite.$sess.cell5$Helper.foldRight(\u001b[32mcell5.sc\u001b[39m:\u001b[32m4\u001b[39m)",
      "  ammonite.$sess.cell5$Helper.foldRight(\u001b[32mcell5.sc\u001b[39m:\u001b[32m4\u001b[39m)",
      "  ammonite.$sess.cell5$Helper.foldRight(\u001b[32mcell5.sc\u001b[39m:\u001b[32m4\u001b[39m)",
      "  ammonite.$sess.cell5$Helper.foldRight(\u001b[32mcell5.sc\u001b[39m:\u001b[32m4\u001b[39m)",
      "  ammonite.$sess.cell5$Helper.foldRight(\u001b[32mcell5.sc\u001b[39m:\u001b[32m4\u001b[39m)",
      "  ammonite.$sess.cell5$Helper.foldRight(\u001b[32mcell5.sc\u001b[39m:\u001b[32m4\u001b[39m)",
      "  ammonite.$sess.cell5$Helper.foldRight(\u001b[32mcell5.sc\u001b[39m:\u001b[32m4\u001b[39m)",
      "  ammonite.$sess.cell5$Helper.foldRight(\u001b[32mcell5.sc\u001b[39m:\u001b[32m4\u001b[39m)",
      "  ammonite.$sess.cell5$Helper.foldRight(\u001b[32mcell5.sc\u001b[39m:\u001b[32m4\u001b[39m)",
      "  ammonite.$sess.cell5$Helper.foldRight(\u001b[32mcell5.sc\u001b[39m:\u001b[32m4\u001b[39m)",
      "  ammonite.$sess.cell5$Helper.foldRight(\u001b[32mcell5.sc\u001b[39m:\u001b[32m4\u001b[39m)",
      "  ammonite.$sess.cell5$Helper.foldRight(\u001b[32mcell5.sc\u001b[39m:\u001b[32m4\u001b[39m)",
      "  ammonite.$sess.cell5$Helper.foldRight(\u001b[32mcell5.sc\u001b[39m:\u001b[32m4\u001b[39m)",
      "  ammonite.$sess.cell5$Helper.foldRight(\u001b[32mcell5.sc\u001b[39m:\u001b[32m4\u001b[39m)",
      "  ammonite.$sess.cell5$Helper.foldRight(\u001b[32mcell5.sc\u001b[39m:\u001b[32m4\u001b[39m)",
      "  ammonite.$sess.cell5$Helper.foldRight(\u001b[32mcell5.sc\u001b[39m:\u001b[32m4\u001b[39m)",
      "  ammonite.$sess.cell5$Helper.foldRight(\u001b[32mcell5.sc\u001b[39m:\u001b[32m4\u001b[39m)",
      "  ammonite.$sess.cell5$Helper.foldRight(\u001b[32mcell5.sc\u001b[39m:\u001b[32m4\u001b[39m)",
      "  ammonite.$sess.cell5$Helper.foldRight(\u001b[32mcell5.sc\u001b[39m:\u001b[32m4\u001b[39m)",
      "  ammonite.$sess.cell5$Helper.foldRight(\u001b[32mcell5.sc\u001b[39m:\u001b[32m4\u001b[39m)",
      "  ammonite.$sess.cell5$Helper.foldRight(\u001b[32mcell5.sc\u001b[39m:\u001b[32m4\u001b[39m)",
      "  ammonite.$sess.cell5$Helper.foldRight(\u001b[32mcell5.sc\u001b[39m:\u001b[32m4\u001b[39m)",
      "  ammonite.$sess.cell5$Helper.foldRight(\u001b[32mcell5.sc\u001b[39m:\u001b[32m4\u001b[39m)",
      "  ammonite.$sess.cell5$Helper.foldRight(\u001b[32mcell5.sc\u001b[39m:\u001b[32m4\u001b[39m)",
      "  ammonite.$sess.cell5$Helper.foldRight(\u001b[32mcell5.sc\u001b[39m:\u001b[32m4\u001b[39m)",
      "  ammonite.$sess.cell5$Helper.foldRight(\u001b[32mcell5.sc\u001b[39m:\u001b[32m4\u001b[39m)",
      "  ammonite.$sess.cell5$Helper.foldRight(\u001b[32mcell5.sc\u001b[39m:\u001b[32m4\u001b[39m)",
      "  ammonite.$sess.cell5$Helper.foldRight(\u001b[32mcell5.sc\u001b[39m:\u001b[32m4\u001b[39m)",
      "  ammonite.$sess.cell5$Helper.foldRight(\u001b[32mcell5.sc\u001b[39m:\u001b[32m4\u001b[39m)",
      "  ammonite.$sess.cell5$Helper.foldRight(\u001b[32mcell5.sc\u001b[39m:\u001b[32m4\u001b[39m)",
      "  ammonite.$sess.cell5$Helper.foldRight(\u001b[32mcell5.sc\u001b[39m:\u001b[32m4\u001b[39m)",
      "  ammonite.$sess.cell5$Helper.foldRight(\u001b[32mcell5.sc\u001b[39m:\u001b[32m4\u001b[39m)",
      "  ammonite.$sess.cell5$Helper.foldRight(\u001b[32mcell5.sc\u001b[39m:\u001b[32m4\u001b[39m)",
      "  ammonite.$sess.cell5$Helper.foldRight(\u001b[32mcell5.sc\u001b[39m:\u001b[32m4\u001b[39m)",
      "  ammonite.$sess.cell5$Helper.foldRight(\u001b[32mcell5.sc\u001b[39m:\u001b[32m4\u001b[39m)",
      "  ammonite.$sess.cell5$Helper.foldRight(\u001b[32mcell5.sc\u001b[39m:\u001b[32m4\u001b[39m)",
      "  ammonite.$sess.cell5$Helper.foldRight(\u001b[32mcell5.sc\u001b[39m:\u001b[32m4\u001b[39m)",
      "  ammonite.$sess.cell5$Helper.foldRight(\u001b[32mcell5.sc\u001b[39m:\u001b[32m4\u001b[39m)",
      "  ammonite.$sess.cell5$Helper.foldRight(\u001b[32mcell5.sc\u001b[39m:\u001b[32m4\u001b[39m)",
      "  ammonite.$sess.cell5$Helper.foldRight(\u001b[32mcell5.sc\u001b[39m:\u001b[32m4\u001b[39m)",
      "  ammonite.$sess.cell5$Helper.foldRight(\u001b[32mcell5.sc\u001b[39m:\u001b[32m4\u001b[39m)",
      "  ammonite.$sess.cell5$Helper.foldRight(\u001b[32mcell5.sc\u001b[39m:\u001b[32m4\u001b[39m)",
      "  ammonite.$sess.cell5$Helper.foldRight(\u001b[32mcell5.sc\u001b[39m:\u001b[32m4\u001b[39m)",
      "  ammonite.$sess.cell5$Helper.foldRight(\u001b[32mcell5.sc\u001b[39m:\u001b[32m4\u001b[39m)",
      "  ammonite.$sess.cell5$Helper.foldRight(\u001b[32mcell5.sc\u001b[39m:\u001b[32m4\u001b[39m)",
      "  ammonite.$sess.cell5$Helper.foldRight(\u001b[32mcell5.sc\u001b[39m:\u001b[32m4\u001b[39m)",
      "  ammonite.$sess.cell5$Helper.foldRight(\u001b[32mcell5.sc\u001b[39m:\u001b[32m4\u001b[39m)",
      "  ammonite.$sess.cell5$Helper.foldRight(\u001b[32mcell5.sc\u001b[39m:\u001b[32m4\u001b[39m)",
      "  ammonite.$sess.cell5$Helper.foldRight(\u001b[32mcell5.sc\u001b[39m:\u001b[32m4\u001b[39m)",
      "  ammonite.$sess.cell5$Helper.foldRight(\u001b[32mcell5.sc\u001b[39m:\u001b[32m4\u001b[39m)",
      "  ammonite.$sess.cell5$Helper.foldRight(\u001b[32mcell5.sc\u001b[39m:\u001b[32m4\u001b[39m)",
      "  ammonite.$sess.cell5$Helper.foldRight(\u001b[32mcell5.sc\u001b[39m:\u001b[32m4\u001b[39m)",
      "  ammonite.$sess.cell5$Helper.foldRight(\u001b[32mcell5.sc\u001b[39m:\u001b[32m4\u001b[39m)",
      "  ammonite.$sess.cell5$Helper.foldRight(\u001b[32mcell5.sc\u001b[39m:\u001b[32m4\u001b[39m)",
      "  ammonite.$sess.cell5$Helper.foldRight(\u001b[32mcell5.sc\u001b[39m:\u001b[32m4\u001b[39m)",
      "  ammonite.$sess.cell5$Helper.foldRight(\u001b[32mcell5.sc\u001b[39m:\u001b[32m4\u001b[39m)",
      "  ammonite.$sess.cell5$Helper.foldRight(\u001b[32mcell5.sc\u001b[39m:\u001b[32m4\u001b[39m)",
      "  ammonite.$sess.cell5$Helper.foldRight(\u001b[32mcell5.sc\u001b[39m:\u001b[32m4\u001b[39m)",
      "  ammonite.$sess.cell5$Helper.foldRight(\u001b[32mcell5.sc\u001b[39m:\u001b[32m4\u001b[39m)",
      "  ammonite.$sess.cell5$Helper.foldRight(\u001b[32mcell5.sc\u001b[39m:\u001b[32m4\u001b[39m)",
      "  ammonite.$sess.cell5$Helper.foldRight(\u001b[32mcell5.sc\u001b[39m:\u001b[32m4\u001b[39m)",
      "  ammonite.$sess.cell5$Helper.foldRight(\u001b[32mcell5.sc\u001b[39m:\u001b[32m4\u001b[39m)",
      "  ammonite.$sess.cell5$Helper.foldRight(\u001b[32mcell5.sc\u001b[39m:\u001b[32m4\u001b[39m)",
      "  ammonite.$sess.cell5$Helper.foldRight(\u001b[32mcell5.sc\u001b[39m:\u001b[32m4\u001b[39m)",
      "  ammonite.$sess.cell5$Helper.foldRight(\u001b[32mcell5.sc\u001b[39m:\u001b[32m4\u001b[39m)",
      "  ammonite.$sess.cell5$Helper.foldRight(\u001b[32mcell5.sc\u001b[39m:\u001b[32m4\u001b[39m)",
      "  ammonite.$sess.cell5$Helper.foldRight(\u001b[32mcell5.sc\u001b[39m:\u001b[32m4\u001b[39m)",
      "  ammonite.$sess.cell5$Helper.foldRight(\u001b[32mcell5.sc\u001b[39m:\u001b[32m4\u001b[39m)",
      "  ammonite.$sess.cell5$Helper.foldRight(\u001b[32mcell5.sc\u001b[39m:\u001b[32m4\u001b[39m)",
      "  ammonite.$sess.cell5$Helper.foldRight(\u001b[32mcell5.sc\u001b[39m:\u001b[32m4\u001b[39m)",
      "  ammonite.$sess.cell5$Helper.foldRight(\u001b[32mcell5.sc\u001b[39m:\u001b[32m4\u001b[39m)",
      "  ammonite.$sess.cell5$Helper.foldRight(\u001b[32mcell5.sc\u001b[39m:\u001b[32m4\u001b[39m)",
      "  ammonite.$sess.cell5$Helper.foldRight(\u001b[32mcell5.sc\u001b[39m:\u001b[32m4\u001b[39m)",
      "  ammonite.$sess.cell5$Helper.foldRight(\u001b[32mcell5.sc\u001b[39m:\u001b[32m4\u001b[39m)",
      "  ammonite.$sess.cell5$Helper.foldRight(\u001b[32mcell5.sc\u001b[39m:\u001b[32m4\u001b[39m)",
      "  ammonite.$sess.cell5$Helper.foldRight(\u001b[32mcell5.sc\u001b[39m:\u001b[32m4\u001b[39m)",
      "  ammonite.$sess.cell5$Helper.foldRight(\u001b[32mcell5.sc\u001b[39m:\u001b[32m4\u001b[39m)",
      "  ammonite.$sess.cell5$Helper.foldRight(\u001b[32mcell5.sc\u001b[39m:\u001b[32m4\u001b[39m)",
      "  ammonite.$sess.cell5$Helper.foldRight(\u001b[32mcell5.sc\u001b[39m:\u001b[32m4\u001b[39m)",
      "  ammonite.$sess.cell5$Helper.foldRight(\u001b[32mcell5.sc\u001b[39m:\u001b[32m4\u001b[39m)",
      "  ammonite.$sess.cell5$Helper.foldRight(\u001b[32mcell5.sc\u001b[39m:\u001b[32m4\u001b[39m)",
      "  ammonite.$sess.cell5$Helper.foldRight(\u001b[32mcell5.sc\u001b[39m:\u001b[32m4\u001b[39m)",
      "  ammonite.$sess.cell5$Helper.foldRight(\u001b[32mcell5.sc\u001b[39m:\u001b[32m4\u001b[39m)",
      "  ammonite.$sess.cell5$Helper.foldRight(\u001b[32mcell5.sc\u001b[39m:\u001b[32m4\u001b[39m)",
      "  ammonite.$sess.cell5$Helper.foldRight(\u001b[32mcell5.sc\u001b[39m:\u001b[32m4\u001b[39m)",
      "  ammonite.$sess.cell5$Helper.foldRight(\u001b[32mcell5.sc\u001b[39m:\u001b[32m4\u001b[39m)",
      "  ammonite.$sess.cell5$Helper.foldRight(\u001b[32mcell5.sc\u001b[39m:\u001b[32m4\u001b[39m)",
      "  ammonite.$sess.cell5$Helper.foldRight(\u001b[32mcell5.sc\u001b[39m:\u001b[32m4\u001b[39m)",
      "  ammonite.$sess.cell5$Helper.foldRight(\u001b[32mcell5.sc\u001b[39m:\u001b[32m4\u001b[39m)",
      "  ammonite.$sess.cell5$Helper.foldRight(\u001b[32mcell5.sc\u001b[39m:\u001b[32m4\u001b[39m)",
      "  ammonite.$sess.cell5$Helper.foldRight(\u001b[32mcell5.sc\u001b[39m:\u001b[32m4\u001b[39m)",
      "  ammonite.$sess.cell5$Helper.foldRight(\u001b[32mcell5.sc\u001b[39m:\u001b[32m4\u001b[39m)",
      "  ammonite.$sess.cell5$Helper.foldRight(\u001b[32mcell5.sc\u001b[39m:\u001b[32m4\u001b[39m)",
      "  ammonite.$sess.cell5$Helper.foldRight(\u001b[32mcell5.sc\u001b[39m:\u001b[32m4\u001b[39m)",
      "  ammonite.$sess.cell5$Helper.foldRight(\u001b[32mcell5.sc\u001b[39m:\u001b[32m4\u001b[39m)",
      "  ammonite.$sess.cell5$Helper.foldRight(\u001b[32mcell5.sc\u001b[39m:\u001b[32m4\u001b[39m)",
      "  ammonite.$sess.cell5$Helper.foldRight(\u001b[32mcell5.sc\u001b[39m:\u001b[32m4\u001b[39m)",
      "  ammonite.$sess.cell5$Helper.foldRight(\u001b[32mcell5.sc\u001b[39m:\u001b[32m4\u001b[39m)",
      "  ammonite.$sess.cell5$Helper.foldRight(\u001b[32mcell5.sc\u001b[39m:\u001b[32m4\u001b[39m)",
      "  ammonite.$sess.cell5$Helper.foldRight(\u001b[32mcell5.sc\u001b[39m:\u001b[32m4\u001b[39m)",
      "  ammonite.$sess.cell5$Helper.foldRight(\u001b[32mcell5.sc\u001b[39m:\u001b[32m4\u001b[39m)",
      "  ammonite.$sess.cell5$Helper.foldRight(\u001b[32mcell5.sc\u001b[39m:\u001b[32m4\u001b[39m)",
      "  ammonite.$sess.cell5$Helper.foldRight(\u001b[32mcell5.sc\u001b[39m:\u001b[32m4\u001b[39m)",
      "  ammonite.$sess.cell5$Helper.foldRight(\u001b[32mcell5.sc\u001b[39m:\u001b[32m4\u001b[39m)",
      "  ammonite.$sess.cell5$Helper.foldRight(\u001b[32mcell5.sc\u001b[39m:\u001b[32m4\u001b[39m)",
      "  ammonite.$sess.cell5$Helper.foldRight(\u001b[32mcell5.sc\u001b[39m:\u001b[32m4\u001b[39m)",
      "  ammonite.$sess.cell5$Helper.foldRight(\u001b[32mcell5.sc\u001b[39m:\u001b[32m4\u001b[39m)",
      "  ammonite.$sess.cell5$Helper.foldRight(\u001b[32mcell5.sc\u001b[39m:\u001b[32m4\u001b[39m)",
      "  ammonite.$sess.cell5$Helper.foldRight(\u001b[32mcell5.sc\u001b[39m:\u001b[32m4\u001b[39m)",
      "  ammonite.$sess.cell5$Helper.foldRight(\u001b[32mcell5.sc\u001b[39m:\u001b[32m4\u001b[39m)",
      "  ammonite.$sess.cell5$Helper.foldRight(\u001b[32mcell5.sc\u001b[39m:\u001b[32m4\u001b[39m)",
      "  ammonite.$sess.cell5$Helper.foldRight(\u001b[32mcell5.sc\u001b[39m:\u001b[32m4\u001b[39m)",
      "  ammonite.$sess.cell5$Helper.foldRight(\u001b[32mcell5.sc\u001b[39m:\u001b[32m4\u001b[39m)",
      "  ammonite.$sess.cell5$Helper.foldRight(\u001b[32mcell5.sc\u001b[39m:\u001b[32m4\u001b[39m)",
      "  ammonite.$sess.cell5$Helper.foldRight(\u001b[32mcell5.sc\u001b[39m:\u001b[32m4\u001b[39m)",
      "  ammonite.$sess.cell5$Helper.foldRight(\u001b[32mcell5.sc\u001b[39m:\u001b[32m4\u001b[39m)",
      "  ammonite.$sess.cell5$Helper.foldRight(\u001b[32mcell5.sc\u001b[39m:\u001b[32m4\u001b[39m)",
      "  ammonite.$sess.cell5$Helper.foldRight(\u001b[32mcell5.sc\u001b[39m:\u001b[32m4\u001b[39m)",
      "  ammonite.$sess.cell5$Helper.foldRight(\u001b[32mcell5.sc\u001b[39m:\u001b[32m4\u001b[39m)",
      "  ammonite.$sess.cell5$Helper.foldRight(\u001b[32mcell5.sc\u001b[39m:\u001b[32m4\u001b[39m)",
      "  ammonite.$sess.cell5$Helper.foldRight(\u001b[32mcell5.sc\u001b[39m:\u001b[32m4\u001b[39m)",
      "  ammonite.$sess.cell5$Helper.foldRight(\u001b[32mcell5.sc\u001b[39m:\u001b[32m4\u001b[39m)",
      "  ammonite.$sess.cell5$Helper.foldRight(\u001b[32mcell5.sc\u001b[39m:\u001b[32m4\u001b[39m)",
      "  ammonite.$sess.cell5$Helper.foldRight(\u001b[32mcell5.sc\u001b[39m:\u001b[32m4\u001b[39m)",
      "  ammonite.$sess.cell5$Helper.foldRight(\u001b[32mcell5.sc\u001b[39m:\u001b[32m4\u001b[39m)",
      "  ammonite.$sess.cell5$Helper.foldRight(\u001b[32mcell5.sc\u001b[39m:\u001b[32m4\u001b[39m)",
      "  ammonite.$sess.cell5$Helper.foldRight(\u001b[32mcell5.sc\u001b[39m:\u001b[32m4\u001b[39m)",
      "  ammonite.$sess.cell5$Helper.foldRight(\u001b[32mcell5.sc\u001b[39m:\u001b[32m4\u001b[39m)",
      "  ammonite.$sess.cell5$Helper.foldRight(\u001b[32mcell5.sc\u001b[39m:\u001b[32m4\u001b[39m)",
      "  ammonite.$sess.cell5$Helper.foldRight(\u001b[32mcell5.sc\u001b[39m:\u001b[32m4\u001b[39m)",
      "  ammonite.$sess.cell5$Helper.foldRight(\u001b[32mcell5.sc\u001b[39m:\u001b[32m4\u001b[39m)",
      "  ammonite.$sess.cell5$Helper.foldRight(\u001b[32mcell5.sc\u001b[39m:\u001b[32m4\u001b[39m)",
      "  ammonite.$sess.cell5$Helper.foldRight(\u001b[32mcell5.sc\u001b[39m:\u001b[32m4\u001b[39m)",
      "  ammonite.$sess.cell5$Helper.foldRight(\u001b[32mcell5.sc\u001b[39m:\u001b[32m4\u001b[39m)",
      "  ammonite.$sess.cell5$Helper.foldRight(\u001b[32mcell5.sc\u001b[39m:\u001b[32m4\u001b[39m)",
      "  ammonite.$sess.cell5$Helper.foldRight(\u001b[32mcell5.sc\u001b[39m:\u001b[32m4\u001b[39m)",
      "  ammonite.$sess.cell5$Helper.foldRight(\u001b[32mcell5.sc\u001b[39m:\u001b[32m4\u001b[39m)",
      "  ammonite.$sess.cell5$Helper.foldRight(\u001b[32mcell5.sc\u001b[39m:\u001b[32m4\u001b[39m)",
      "  ammonite.$sess.cell5$Helper.foldRight(\u001b[32mcell5.sc\u001b[39m:\u001b[32m4\u001b[39m)",
      "  ammonite.$sess.cell5$Helper.foldRight(\u001b[32mcell5.sc\u001b[39m:\u001b[32m4\u001b[39m)",
      "  ammonite.$sess.cell5$Helper.foldRight(\u001b[32mcell5.sc\u001b[39m:\u001b[32m4\u001b[39m)",
      "  ammonite.$sess.cell5$Helper.foldRight(\u001b[32mcell5.sc\u001b[39m:\u001b[32m4\u001b[39m)",
      "  ammonite.$sess.cell5$Helper.foldRight(\u001b[32mcell5.sc\u001b[39m:\u001b[32m4\u001b[39m)",
      "  ammonite.$sess.cell5$Helper.foldRight(\u001b[32mcell5.sc\u001b[39m:\u001b[32m4\u001b[39m)",
      "  ammonite.$sess.cell5$Helper.foldRight(\u001b[32mcell5.sc\u001b[39m:\u001b[32m4\u001b[39m)",
      "  ammonite.$sess.cell5$Helper.foldRight(\u001b[32mcell5.sc\u001b[39m:\u001b[32m4\u001b[39m)",
      "  ammonite.$sess.cell5$Helper.foldRight(\u001b[32mcell5.sc\u001b[39m:\u001b[32m4\u001b[39m)",
      "  ammonite.$sess.cell5$Helper.foldRight(\u001b[32mcell5.sc\u001b[39m:\u001b[32m4\u001b[39m)",
      "  ammonite.$sess.cell5$Helper.foldRight(\u001b[32mcell5.sc\u001b[39m:\u001b[32m4\u001b[39m)",
      "  ammonite.$sess.cell5$Helper.foldRight(\u001b[32mcell5.sc\u001b[39m:\u001b[32m4\u001b[39m)",
      "  ammonite.$sess.cell5$Helper.foldRight(\u001b[32mcell5.sc\u001b[39m:\u001b[32m4\u001b[39m)",
      "  ammonite.$sess.cell5$Helper.foldRight(\u001b[32mcell5.sc\u001b[39m:\u001b[32m4\u001b[39m)",
      "  ammonite.$sess.cell5$Helper.foldRight(\u001b[32mcell5.sc\u001b[39m:\u001b[32m4\u001b[39m)",
      "  ammonite.$sess.cell5$Helper.foldRight(\u001b[32mcell5.sc\u001b[39m:\u001b[32m4\u001b[39m)",
      "  ammonite.$sess.cell5$Helper.foldRight(\u001b[32mcell5.sc\u001b[39m:\u001b[32m4\u001b[39m)",
      "  ammonite.$sess.cell5$Helper.foldRight(\u001b[32mcell5.sc\u001b[39m:\u001b[32m4\u001b[39m)",
      "  ammonite.$sess.cell5$Helper.foldRight(\u001b[32mcell5.sc\u001b[39m:\u001b[32m4\u001b[39m)",
      "  ammonite.$sess.cell5$Helper.foldRight(\u001b[32mcell5.sc\u001b[39m:\u001b[32m4\u001b[39m)",
      "  ammonite.$sess.cell5$Helper.foldRight(\u001b[32mcell5.sc\u001b[39m:\u001b[32m4\u001b[39m)",
      "  ammonite.$sess.cell5$Helper.foldRight(\u001b[32mcell5.sc\u001b[39m:\u001b[32m4\u001b[39m)",
      "  ammonite.$sess.cell5$Helper.foldRight(\u001b[32mcell5.sc\u001b[39m:\u001b[32m4\u001b[39m)",
      "  ammonite.$sess.cell5$Helper.foldRight(\u001b[32mcell5.sc\u001b[39m:\u001b[32m4\u001b[39m)",
      "  ammonite.$sess.cell5$Helper.foldRight(\u001b[32mcell5.sc\u001b[39m:\u001b[32m4\u001b[39m)",
      "  ammonite.$sess.cell5$Helper.foldRight(\u001b[32mcell5.sc\u001b[39m:\u001b[32m4\u001b[39m)",
      "  ammonite.$sess.cell5$Helper.foldRight(\u001b[32mcell5.sc\u001b[39m:\u001b[32m4\u001b[39m)",
      "  ammonite.$sess.cell5$Helper.foldRight(\u001b[32mcell5.sc\u001b[39m:\u001b[32m4\u001b[39m)",
      "  ammonite.$sess.cell5$Helper.foldRight(\u001b[32mcell5.sc\u001b[39m:\u001b[32m4\u001b[39m)",
      "  ammonite.$sess.cell5$Helper.foldRight(\u001b[32mcell5.sc\u001b[39m:\u001b[32m4\u001b[39m)",
      "  ammonite.$sess.cell5$Helper.foldRight(\u001b[32mcell5.sc\u001b[39m:\u001b[32m4\u001b[39m)",
      "  ammonite.$sess.cell5$Helper.foldRight(\u001b[32mcell5.sc\u001b[39m:\u001b[32m4\u001b[39m)",
      "  ammonite.$sess.cell5$Helper.foldRight(\u001b[32mcell5.sc\u001b[39m:\u001b[32m4\u001b[39m)",
      "  ammonite.$sess.cell5$Helper.foldRight(\u001b[32mcell5.sc\u001b[39m:\u001b[32m4\u001b[39m)",
      "  ammonite.$sess.cell5$Helper.foldRight(\u001b[32mcell5.sc\u001b[39m:\u001b[32m4\u001b[39m)",
      "  ammonite.$sess.cell5$Helper.foldRight(\u001b[32mcell5.sc\u001b[39m:\u001b[32m4\u001b[39m)",
      "  ammonite.$sess.cell5$Helper.foldRight(\u001b[32mcell5.sc\u001b[39m:\u001b[32m4\u001b[39m)",
      "  ammonite.$sess.cell5$Helper.foldRight(\u001b[32mcell5.sc\u001b[39m:\u001b[32m4\u001b[39m)",
      "  ammonite.$sess.cell5$Helper.foldRight(\u001b[32mcell5.sc\u001b[39m:\u001b[32m4\u001b[39m)",
      "  ammonite.$sess.cell5$Helper.foldRight(\u001b[32mcell5.sc\u001b[39m:\u001b[32m4\u001b[39m)",
      "  ammonite.$sess.cell5$Helper.foldRight(\u001b[32mcell5.sc\u001b[39m:\u001b[32m4\u001b[39m)",
      "  ammonite.$sess.cell5$Helper.foldRight(\u001b[32mcell5.sc\u001b[39m:\u001b[32m4\u001b[39m)",
      "  ammonite.$sess.cell5$Helper.foldRight(\u001b[32mcell5.sc\u001b[39m:\u001b[32m4\u001b[39m)",
      "  ammonite.$sess.cell5$Helper.foldRight(\u001b[32mcell5.sc\u001b[39m:\u001b[32m4\u001b[39m)",
      "  ammonite.$sess.cell5$Helper.foldRight(\u001b[32mcell5.sc\u001b[39m:\u001b[32m4\u001b[39m)",
      "  ammonite.$sess.cell5$Helper.foldRight(\u001b[32mcell5.sc\u001b[39m:\u001b[32m4\u001b[39m)",
      "  ammonite.$sess.cell5$Helper.foldRight(\u001b[32mcell5.sc\u001b[39m:\u001b[32m4\u001b[39m)",
      "  ammonite.$sess.cell5$Helper.foldRight(\u001b[32mcell5.sc\u001b[39m:\u001b[32m4\u001b[39m)",
      "  ammonite.$sess.cell5$Helper.foldRight(\u001b[32mcell5.sc\u001b[39m:\u001b[32m4\u001b[39m)",
      "  ammonite.$sess.cell5$Helper.foldRight(\u001b[32mcell5.sc\u001b[39m:\u001b[32m4\u001b[39m)",
      "  ammonite.$sess.cell5$Helper.foldRight(\u001b[32mcell5.sc\u001b[39m:\u001b[32m4\u001b[39m)",
      "  ammonite.$sess.cell5$Helper.foldRight(\u001b[32mcell5.sc\u001b[39m:\u001b[32m4\u001b[39m)",
      "  ammonite.$sess.cell5$Helper.foldRight(\u001b[32mcell5.sc\u001b[39m:\u001b[32m4\u001b[39m)",
      "  ammonite.$sess.cell5$Helper.foldRight(\u001b[32mcell5.sc\u001b[39m:\u001b[32m4\u001b[39m)",
      "  ammonite.$sess.cell5$Helper.foldRight(\u001b[32mcell5.sc\u001b[39m:\u001b[32m4\u001b[39m)",
      "  ammonite.$sess.cell5$Helper.foldRight(\u001b[32mcell5.sc\u001b[39m:\u001b[32m4\u001b[39m)",
      "  ammonite.$sess.cell5$Helper.foldRight(\u001b[32mcell5.sc\u001b[39m:\u001b[32m4\u001b[39m)",
      "  ammonite.$sess.cell5$Helper.foldRight(\u001b[32mcell5.sc\u001b[39m:\u001b[32m4\u001b[39m)",
      "  ammonite.$sess.cell5$Helper.foldRight(\u001b[32mcell5.sc\u001b[39m:\u001b[32m4\u001b[39m)",
      "  ammonite.$sess.cell5$Helper.foldRight(\u001b[32mcell5.sc\u001b[39m:\u001b[32m4\u001b[39m)",
      "  ammonite.$sess.cell5$Helper.foldRight(\u001b[32mcell5.sc\u001b[39m:\u001b[32m4\u001b[39m)",
      "  ammonite.$sess.cell5$Helper.foldRight(\u001b[32mcell5.sc\u001b[39m:\u001b[32m4\u001b[39m)",
      "  ammonite.$sess.cell5$Helper.foldRight(\u001b[32mcell5.sc\u001b[39m:\u001b[32m4\u001b[39m)",
      "  ammonite.$sess.cell5$Helper.foldRight(\u001b[32mcell5.sc\u001b[39m:\u001b[32m4\u001b[39m)",
      "  ammonite.$sess.cell5$Helper.foldRight(\u001b[32mcell5.sc\u001b[39m:\u001b[32m4\u001b[39m)",
      "  ammonite.$sess.cell5$Helper.foldRight(\u001b[32mcell5.sc\u001b[39m:\u001b[32m4\u001b[39m)",
      "  ammonite.$sess.cell5$Helper.foldRight(\u001b[32mcell5.sc\u001b[39m:\u001b[32m4\u001b[39m)",
      "  ammonite.$sess.cell5$Helper.foldRight(\u001b[32mcell5.sc\u001b[39m:\u001b[32m4\u001b[39m)",
      "  ammonite.$sess.cell5$Helper.foldRight(\u001b[32mcell5.sc\u001b[39m:\u001b[32m4\u001b[39m)",
      "  ammonite.$sess.cell5$Helper.foldRight(\u001b[32mcell5.sc\u001b[39m:\u001b[32m4\u001b[39m)",
      "  ammonite.$sess.cell5$Helper.foldRight(\u001b[32mcell5.sc\u001b[39m:\u001b[32m4\u001b[39m)",
      "  ammonite.$sess.cell5$Helper.foldRight(\u001b[32mcell5.sc\u001b[39m:\u001b[32m4\u001b[39m)",
      "  ammonite.$sess.cell5$Helper.foldRight(\u001b[32mcell5.sc\u001b[39m:\u001b[32m4\u001b[39m)",
      "  ammonite.$sess.cell5$Helper.foldRight(\u001b[32mcell5.sc\u001b[39m:\u001b[32m4\u001b[39m)",
      "  ammonite.$sess.cell5$Helper.foldRight(\u001b[32mcell5.sc\u001b[39m:\u001b[32m4\u001b[39m)",
      "  ammonite.$sess.cell5$Helper.foldRight(\u001b[32mcell5.sc\u001b[39m:\u001b[32m4\u001b[39m)",
      "  ammonite.$sess.cell5$Helper.foldRight(\u001b[32mcell5.sc\u001b[39m:\u001b[32m4\u001b[39m)",
      "  ammonite.$sess.cell5$Helper.foldRight(\u001b[32mcell5.sc\u001b[39m:\u001b[32m4\u001b[39m)",
      "  ammonite.$sess.cell5$Helper.foldRight(\u001b[32mcell5.sc\u001b[39m:\u001b[32m4\u001b[39m)",
      "  ammonite.$sess.cell5$Helper.foldRight(\u001b[32mcell5.sc\u001b[39m:\u001b[32m4\u001b[39m)",
      "  ammonite.$sess.cell5$Helper.foldRight(\u001b[32mcell5.sc\u001b[39m:\u001b[32m4\u001b[39m)",
      "  ammonite.$sess.cell5$Helper.foldRight(\u001b[32mcell5.sc\u001b[39m:\u001b[32m4\u001b[39m)",
      "  ammonite.$sess.cell5$Helper.foldRight(\u001b[32mcell5.sc\u001b[39m:\u001b[32m4\u001b[39m)",
      "  ammonite.$sess.cell5$Helper.foldRight(\u001b[32mcell5.sc\u001b[39m:\u001b[32m4\u001b[39m)",
      "  ammonite.$sess.cell5$Helper.foldRight(\u001b[32mcell5.sc\u001b[39m:\u001b[32m4\u001b[39m)",
      "  ammonite.$sess.cell5$Helper.foldRight(\u001b[32mcell5.sc\u001b[39m:\u001b[32m4\u001b[39m)",
      "  ammonite.$sess.cell5$Helper.foldRight(\u001b[32mcell5.sc\u001b[39m:\u001b[32m4\u001b[39m)",
      "  ammonite.$sess.cell5$Helper.foldRight(\u001b[32mcell5.sc\u001b[39m:\u001b[32m4\u001b[39m)",
      "  ammonite.$sess.cell5$Helper.foldRight(\u001b[32mcell5.sc\u001b[39m:\u001b[32m4\u001b[39m)",
      "  ammonite.$sess.cell5$Helper.foldRight(\u001b[32mcell5.sc\u001b[39m:\u001b[32m4\u001b[39m)",
      "  ammonite.$sess.cell5$Helper.foldRight(\u001b[32mcell5.sc\u001b[39m:\u001b[32m4\u001b[39m)",
      "  ammonite.$sess.cell5$Helper.foldRight(\u001b[32mcell5.sc\u001b[39m:\u001b[32m4\u001b[39m)",
      "  ammonite.$sess.cell5$Helper.foldRight(\u001b[32mcell5.sc\u001b[39m:\u001b[32m4\u001b[39m)",
      "  ammonite.$sess.cell5$Helper.foldRight(\u001b[32mcell5.sc\u001b[39m:\u001b[32m4\u001b[39m)",
      "  ammonite.$sess.cell5$Helper.foldRight(\u001b[32mcell5.sc\u001b[39m:\u001b[32m4\u001b[39m)",
      "  ammonite.$sess.cell5$Helper.foldRight(\u001b[32mcell5.sc\u001b[39m:\u001b[32m4\u001b[39m)",
      "  ammonite.$sess.cell5$Helper.foldRight(\u001b[32mcell5.sc\u001b[39m:\u001b[32m4\u001b[39m)",
      "  ammonite.$sess.cell5$Helper.foldRight(\u001b[32mcell5.sc\u001b[39m:\u001b[32m4\u001b[39m)",
      "  ammonite.$sess.cell5$Helper.foldRight(\u001b[32mcell5.sc\u001b[39m:\u001b[32m4\u001b[39m)",
      "  ammonite.$sess.cell5$Helper.foldRight(\u001b[32mcell5.sc\u001b[39m:\u001b[32m4\u001b[39m)",
      "  ammonite.$sess.cell5$Helper.foldRight(\u001b[32mcell5.sc\u001b[39m:\u001b[32m4\u001b[39m)",
      "  ammonite.$sess.cell5$Helper.foldRight(\u001b[32mcell5.sc\u001b[39m:\u001b[32m4\u001b[39m)",
      "  ammonite.$sess.cell5$Helper.foldRight(\u001b[32mcell5.sc\u001b[39m:\u001b[32m4\u001b[39m)",
      "  ammonite.$sess.cell5$Helper.foldRight(\u001b[32mcell5.sc\u001b[39m:\u001b[32m4\u001b[39m)",
      "  ammonite.$sess.cell5$Helper.foldRight(\u001b[32mcell5.sc\u001b[39m:\u001b[32m4\u001b[39m)",
      "  ammonite.$sess.cell5$Helper.foldRight(\u001b[32mcell5.sc\u001b[39m:\u001b[32m4\u001b[39m)",
      "  ammonite.$sess.cell5$Helper.foldRight(\u001b[32mcell5.sc\u001b[39m:\u001b[32m4\u001b[39m)",
      "  ammonite.$sess.cell5$Helper.foldRight(\u001b[32mcell5.sc\u001b[39m:\u001b[32m4\u001b[39m)",
      "  ammonite.$sess.cell5$Helper.foldRight(\u001b[32mcell5.sc\u001b[39m:\u001b[32m4\u001b[39m)",
      "  ammonite.$sess.cell5$Helper.foldRight(\u001b[32mcell5.sc\u001b[39m:\u001b[32m4\u001b[39m)",
      "  ammonite.$sess.cell5$Helper.foldRight(\u001b[32mcell5.sc\u001b[39m:\u001b[32m4\u001b[39m)",
      "  ammonite.$sess.cell5$Helper.foldRight(\u001b[32mcell5.sc\u001b[39m:\u001b[32m4\u001b[39m)",
      "  ammonite.$sess.cell5$Helper.foldRight(\u001b[32mcell5.sc\u001b[39m:\u001b[32m4\u001b[39m)",
      "  ammonite.$sess.cell5$Helper.foldRight(\u001b[32mcell5.sc\u001b[39m:\u001b[32m4\u001b[39m)",
      "  ammonite.$sess.cell5$Helper.foldRight(\u001b[32mcell5.sc\u001b[39m:\u001b[32m4\u001b[39m)",
      "  ammonite.$sess.cell5$Helper.foldRight(\u001b[32mcell5.sc\u001b[39m:\u001b[32m4\u001b[39m)",
      "  ammonite.$sess.cell5$Helper.foldRight(\u001b[32mcell5.sc\u001b[39m:\u001b[32m4\u001b[39m)",
      "  ammonite.$sess.cell5$Helper.foldRight(\u001b[32mcell5.sc\u001b[39m:\u001b[32m4\u001b[39m)",
      "  ammonite.$sess.cell5$Helper.foldRight(\u001b[32mcell5.sc\u001b[39m:\u001b[32m4\u001b[39m)",
      "  ammonite.$sess.cell5$Helper.foldRight(\u001b[32mcell5.sc\u001b[39m:\u001b[32m4\u001b[39m)",
      "  ammonite.$sess.cell5$Helper.foldRight(\u001b[32mcell5.sc\u001b[39m:\u001b[32m4\u001b[39m)",
      "  ammonite.$sess.cell5$Helper.foldRight(\u001b[32mcell5.sc\u001b[39m:\u001b[32m4\u001b[39m)",
      "  ammonite.$sess.cell5$Helper.foldRight(\u001b[32mcell5.sc\u001b[39m:\u001b[32m4\u001b[39m)",
      "  ammonite.$sess.cell5$Helper.foldRight(\u001b[32mcell5.sc\u001b[39m:\u001b[32m4\u001b[39m)",
      "  ammonite.$sess.cell5$Helper.foldRight(\u001b[32mcell5.sc\u001b[39m:\u001b[32m4\u001b[39m)",
      "  ammonite.$sess.cell5$Helper.foldRight(\u001b[32mcell5.sc\u001b[39m:\u001b[32m4\u001b[39m)",
      "  ammonite.$sess.cell5$Helper.foldRight(\u001b[32mcell5.sc\u001b[39m:\u001b[32m4\u001b[39m)",
      "  ammonite.$sess.cell5$Helper.foldRight(\u001b[32mcell5.sc\u001b[39m:\u001b[32m4\u001b[39m)",
      "  ammonite.$sess.cell5$Helper.foldRight(\u001b[32mcell5.sc\u001b[39m:\u001b[32m4\u001b[39m)",
      "  ammonite.$sess.cell5$Helper.foldRight(\u001b[32mcell5.sc\u001b[39m:\u001b[32m4\u001b[39m)",
      "  ammonite.$sess.cell5$Helper.foldRight(\u001b[32mcell5.sc\u001b[39m:\u001b[32m4\u001b[39m)",
      "  ammonite.$sess.cell5$Helper.foldRight(\u001b[32mcell5.sc\u001b[39m:\u001b[32m4\u001b[39m)",
      "  ammonite.$sess.cell5$Helper.foldRight(\u001b[32mcell5.sc\u001b[39m:\u001b[32m4\u001b[39m)",
      "  ammonite.$sess.cell5$Helper.foldRight(\u001b[32mcell5.sc\u001b[39m:\u001b[32m4\u001b[39m)",
      "  ammonite.$sess.cell5$Helper.foldRight(\u001b[32mcell5.sc\u001b[39m:\u001b[32m4\u001b[39m)",
      "  ammonite.$sess.cell5$Helper.foldRight(\u001b[32mcell5.sc\u001b[39m:\u001b[32m4\u001b[39m)",
      "  ammonite.$sess.cell5$Helper.foldRight(\u001b[32mcell5.sc\u001b[39m:\u001b[32m4\u001b[39m)",
      "  ammonite.$sess.cell5$Helper.foldRight(\u001b[32mcell5.sc\u001b[39m:\u001b[32m4\u001b[39m)",
      "  ammonite.$sess.cell5$Helper.foldRight(\u001b[32mcell5.sc\u001b[39m:\u001b[32m4\u001b[39m)",
      "  ammonite.$sess.cell5$Helper.foldRight(\u001b[32mcell5.sc\u001b[39m:\u001b[32m4\u001b[39m)",
      "  ammonite.$sess.cell5$Helper.foldRight(\u001b[32mcell5.sc\u001b[39m:\u001b[32m4\u001b[39m)",
      "  ammonite.$sess.cell5$Helper.foldRight(\u001b[32mcell5.sc\u001b[39m:\u001b[32m4\u001b[39m)",
      "  ammonite.$sess.cell5$Helper.foldRight(\u001b[32mcell5.sc\u001b[39m:\u001b[32m4\u001b[39m)",
      "  ammonite.$sess.cell5$Helper.foldRight(\u001b[32mcell5.sc\u001b[39m:\u001b[32m4\u001b[39m)",
      "  ammonite.$sess.cell5$Helper.foldRight(\u001b[32mcell5.sc\u001b[39m:\u001b[32m4\u001b[39m)",
      "  ammonite.$sess.cell5$Helper.foldRight(\u001b[32mcell5.sc\u001b[39m:\u001b[32m4\u001b[39m)",
      "  ammonite.$sess.cell5$Helper.foldRight(\u001b[32mcell5.sc\u001b[39m:\u001b[32m4\u001b[39m)",
      "  ammonite.$sess.cell5$Helper.foldRight(\u001b[32mcell5.sc\u001b[39m:\u001b[32m4\u001b[39m)",
      "  ammonite.$sess.cell5$Helper.foldRight(\u001b[32mcell5.sc\u001b[39m:\u001b[32m4\u001b[39m)",
      "  ammonite.$sess.cell5$Helper.foldRight(\u001b[32mcell5.sc\u001b[39m:\u001b[32m4\u001b[39m)",
      "  ammonite.$sess.cell5$Helper.foldRight(\u001b[32mcell5.sc\u001b[39m:\u001b[32m4\u001b[39m)",
      "  ammonite.$sess.cell5$Helper.foldRight(\u001b[32mcell5.sc\u001b[39m:\u001b[32m4\u001b[39m)",
      "  ammonite.$sess.cell5$Helper.foldRight(\u001b[32mcell5.sc\u001b[39m:\u001b[32m4\u001b[39m)",
      "  ammonite.$sess.cell5$Helper.foldRight(\u001b[32mcell5.sc\u001b[39m:\u001b[32m4\u001b[39m)",
      "  ammonite.$sess.cell5$Helper.foldRight(\u001b[32mcell5.sc\u001b[39m:\u001b[32m4\u001b[39m)",
      "  ammonite.$sess.cell5$Helper.foldRight(\u001b[32mcell5.sc\u001b[39m:\u001b[32m4\u001b[39m)",
      "  ammonite.$sess.cell5$Helper.foldRight(\u001b[32mcell5.sc\u001b[39m:\u001b[32m4\u001b[39m)",
      "  ammonite.$sess.cell5$Helper.foldRight(\u001b[32mcell5.sc\u001b[39m:\u001b[32m4\u001b[39m)",
      "  ammonite.$sess.cell5$Helper.foldRight(\u001b[32mcell5.sc\u001b[39m:\u001b[32m4\u001b[39m)",
      "  ammonite.$sess.cell5$Helper.foldRight(\u001b[32mcell5.sc\u001b[39m:\u001b[32m4\u001b[39m)",
      "  ammonite.$sess.cell5$Helper.foldRight(\u001b[32mcell5.sc\u001b[39m:\u001b[32m4\u001b[39m)",
      "  ammonite.$sess.cell5$Helper.foldRight(\u001b[32mcell5.sc\u001b[39m:\u001b[32m4\u001b[39m)",
      "  ammonite.$sess.cell5$Helper.foldRight(\u001b[32mcell5.sc\u001b[39m:\u001b[32m4\u001b[39m)",
      "  ammonite.$sess.cell5$Helper.foldRight(\u001b[32mcell5.sc\u001b[39m:\u001b[32m4\u001b[39m)",
      "  ammonite.$sess.cell5$Helper.foldRight(\u001b[32mcell5.sc\u001b[39m:\u001b[32m4\u001b[39m)",
      "  ammonite.$sess.cell5$Helper.foldRight(\u001b[32mcell5.sc\u001b[39m:\u001b[32m4\u001b[39m)",
      "  ammonite.$sess.cell5$Helper.foldRight(\u001b[32mcell5.sc\u001b[39m:\u001b[32m4\u001b[39m)",
      "  ammonite.$sess.cell5$Helper.foldRight(\u001b[32mcell5.sc\u001b[39m:\u001b[32m4\u001b[39m)",
      "  ammonite.$sess.cell5$Helper.foldRight(\u001b[32mcell5.sc\u001b[39m:\u001b[32m4\u001b[39m)",
      "  ammonite.$sess.cell5$Helper.foldRight(\u001b[32mcell5.sc\u001b[39m:\u001b[32m4\u001b[39m)",
      "  ammonite.$sess.cell5$Helper.foldRight(\u001b[32mcell5.sc\u001b[39m:\u001b[32m4\u001b[39m)",
      "  ammonite.$sess.cell5$Helper.foldRight(\u001b[32mcell5.sc\u001b[39m:\u001b[32m4\u001b[39m)",
      "  ammonite.$sess.cell5$Helper.foldRight(\u001b[32mcell5.sc\u001b[39m:\u001b[32m4\u001b[39m)",
      "  ammonite.$sess.cell5$Helper.foldRight(\u001b[32mcell5.sc\u001b[39m:\u001b[32m4\u001b[39m)",
      "  ammonite.$sess.cell5$Helper.foldRight(\u001b[32mcell5.sc\u001b[39m:\u001b[32m4\u001b[39m)",
      "  ammonite.$sess.cell5$Helper.foldRight(\u001b[32mcell5.sc\u001b[39m:\u001b[32m4\u001b[39m)",
      "  ammonite.$sess.cell5$Helper.foldRight(\u001b[32mcell5.sc\u001b[39m:\u001b[32m4\u001b[39m)",
      "  ammonite.$sess.cell5$Helper.foldRight(\u001b[32mcell5.sc\u001b[39m:\u001b[32m4\u001b[39m)",
      "  ammonite.$sess.cell5$Helper.foldRight(\u001b[32mcell5.sc\u001b[39m:\u001b[32m4\u001b[39m)",
      "  ammonite.$sess.cell5$Helper.foldRight(\u001b[32mcell5.sc\u001b[39m:\u001b[32m4\u001b[39m)",
      "  ammonite.$sess.cell5$Helper.foldRight(\u001b[32mcell5.sc\u001b[39m:\u001b[32m4\u001b[39m)",
      "  ammonite.$sess.cell5$Helper.foldRight(\u001b[32mcell5.sc\u001b[39m:\u001b[32m4\u001b[39m)",
      "  ammonite.$sess.cell5$Helper.foldRight(\u001b[32mcell5.sc\u001b[39m:\u001b[32m4\u001b[39m)",
      "  ammonite.$sess.cell5$Helper.foldRight(\u001b[32mcell5.sc\u001b[39m:\u001b[32m4\u001b[39m)",
      "  ammonite.$sess.cell5$Helper.foldRight(\u001b[32mcell5.sc\u001b[39m:\u001b[32m4\u001b[39m)",
      "  ammonite.$sess.cell5$Helper.foldRight(\u001b[32mcell5.sc\u001b[39m:\u001b[32m4\u001b[39m)",
      "  ammonite.$sess.cell5$Helper.foldRight(\u001b[32mcell5.sc\u001b[39m:\u001b[32m4\u001b[39m)",
      "  ammonite.$sess.cell5$Helper.foldRight(\u001b[32mcell5.sc\u001b[39m:\u001b[32m4\u001b[39m)",
      "  ammonite.$sess.cell5$Helper.foldRight(\u001b[32mcell5.sc\u001b[39m:\u001b[32m4\u001b[39m)",
      "  ammonite.$sess.cell5$Helper.foldRight(\u001b[32mcell5.sc\u001b[39m:\u001b[32m4\u001b[39m)",
      "  ammonite.$sess.cell5$Helper.foldRight(\u001b[32mcell5.sc\u001b[39m:\u001b[32m4\u001b[39m)",
      "  ammonite.$sess.cell5$Helper.foldRight(\u001b[32mcell5.sc\u001b[39m:\u001b[32m4\u001b[39m)",
      "  ammonite.$sess.cell5$Helper.foldRight(\u001b[32mcell5.sc\u001b[39m:\u001b[32m4\u001b[39m)",
      "  ammonite.$sess.cell5$Helper.foldRight(\u001b[32mcell5.sc\u001b[39m:\u001b[32m4\u001b[39m)",
      "  ammonite.$sess.cell5$Helper.foldRight(\u001b[32mcell5.sc\u001b[39m:\u001b[32m4\u001b[39m)",
      "  ammonite.$sess.cell5$Helper.foldRight(\u001b[32mcell5.sc\u001b[39m:\u001b[32m4\u001b[39m)",
      "  ammonite.$sess.cell5$Helper.foldRight(\u001b[32mcell5.sc\u001b[39m:\u001b[32m4\u001b[39m)",
      "  ammonite.$sess.cell5$Helper.foldRight(\u001b[32mcell5.sc\u001b[39m:\u001b[32m4\u001b[39m)",
      "  ammonite.$sess.cell5$Helper.foldRight(\u001b[32mcell5.sc\u001b[39m:\u001b[32m4\u001b[39m)",
      "  ammonite.$sess.cell5$Helper.foldRight(\u001b[32mcell5.sc\u001b[39m:\u001b[32m4\u001b[39m)",
      "  ammonite.$sess.cell5$Helper.foldRight(\u001b[32mcell5.sc\u001b[39m:\u001b[32m4\u001b[39m)",
      "  ammonite.$sess.cell5$Helper.foldRight(\u001b[32mcell5.sc\u001b[39m:\u001b[32m4\u001b[39m)",
      "  ammonite.$sess.cell5$Helper.foldRight(\u001b[32mcell5.sc\u001b[39m:\u001b[32m4\u001b[39m)",
      "  ammonite.$sess.cell5$Helper.foldRight(\u001b[32mcell5.sc\u001b[39m:\u001b[32m4\u001b[39m)",
      "  ammonite.$sess.cell5$Helper.foldRight(\u001b[32mcell5.sc\u001b[39m:\u001b[32m4\u001b[39m)",
      "  ammonite.$sess.cell5$Helper.foldRight(\u001b[32mcell5.sc\u001b[39m:\u001b[32m4\u001b[39m)",
      "  ammonite.$sess.cell5$Helper.foldRight(\u001b[32mcell5.sc\u001b[39m:\u001b[32m4\u001b[39m)",
      "  ammonite.$sess.cell5$Helper.foldRight(\u001b[32mcell5.sc\u001b[39m:\u001b[32m4\u001b[39m)",
      "  ammonite.$sess.cell5$Helper.foldRight(\u001b[32mcell5.sc\u001b[39m:\u001b[32m4\u001b[39m)",
      "  ammonite.$sess.cell5$Helper.foldRight(\u001b[32mcell5.sc\u001b[39m:\u001b[32m4\u001b[39m)"
     ]
    }
   ],
   "source": [
    "// blowing up the stack \n"
   ]
  },
  {
   "cell_type": "markdown",
   "metadata": {},
   "source": [
    "In order to obtain a better implementation, we may first reverse the list and use `foldLeft` as follows: "
   ]
  },
  {
   "cell_type": "code",
   "execution_count": 1,
   "metadata": {},
   "outputs": [
    {
     "data": {
      "text/plain": [
       "defined \u001b[32mfunction\u001b[39m \u001b[36mfoldRightTR\u001b[39m"
      ]
     },
     "execution_count": 1,
     "metadata": {},
     "output_type": "execute_result"
    }
   ],
   "source": [
    "def foldRightTR[A, B](list: List[A])(nil: B)(cons: (A, B) => B): B = \n",
    "    ???"
   ]
  },
  {
   "cell_type": "markdown",
   "metadata": {},
   "source": [
    "This implementation works right with big lists:"
   ]
  },
  {
   "cell_type": "code",
   "execution_count": 28,
   "metadata": {},
   "outputs": [
    {
     "data": {
      "text/plain": [
       "\u001b[36mres28\u001b[39m: \u001b[32mInt\u001b[39m = \u001b[32m0\u001b[39m"
      ]
     },
     "execution_count": 28,
     "metadata": {},
     "output_type": "execute_result"
    }
   ],
   "source": [
    "// check it out\n"
   ]
  },
  {
   "cell_type": "markdown",
   "metadata": {},
   "source": [
    "#### Implementing `foldLeft` with `foldRight`"
   ]
  },
  {
   "cell_type": "markdown",
   "metadata": {},
   "source": [
    "This is also possible, though challenging. We start from the tail-recursive implementation of `foldLeft`. First, we rearrange the arguments so that it now returns a function instead of a plain value of type `B`. "
   ]
  },
  {
   "cell_type": "code",
   "execution_count": 29,
   "metadata": {},
   "outputs": [
    {
     "data": {
      "text/plain": [
       "defined \u001b[32mfunction\u001b[39m \u001b[36mfoldLeftAux\u001b[39m"
      ]
     },
     "execution_count": 29,
     "metadata": {},
     "output_type": "execute_result"
    }
   ],
   "source": [
    "// foldLeftAux\n"
   ]
  },
  {
   "cell_type": "markdown",
   "metadata": {},
   "source": [
    "This was in order to better expose the recursion pattern of `foldRight`. The solution is now obtained simply by noticing that `foldLeft(tail)(update)` is the solution for the tail:"
   ]
  },
  {
   "cell_type": "code",
   "execution_count": 30,
   "metadata": {},
   "outputs": [
    {
     "data": {
      "text/plain": [
       "defined \u001b[32mfunction\u001b[39m \u001b[36mfoldLeftAux\u001b[39m"
      ]
     },
     "execution_count": 30,
     "metadata": {},
     "output_type": "execute_result"
    }
   ],
   "source": [
    "// foldLeftAux with foldRight\n"
   ]
  },
  {
   "cell_type": "markdown",
   "metadata": {},
   "source": [
    "The original signature can then be implemented as follows: "
   ]
  },
  {
   "cell_type": "code",
   "execution_count": 2,
   "metadata": {},
   "outputs": [
    {
     "data": {
      "text/plain": [
       "defined \u001b[32mfunction\u001b[39m \u001b[36mfoldLeft\u001b[39m"
      ]
     },
     "execution_count": 2,
     "metadata": {},
     "output_type": "execute_result"
    }
   ],
   "source": [
    "def foldLeft[A, B](list: List[A])(out: B)(update: (B, A) => B): B =\n",
    "    ???"
   ]
  },
  {
   "cell_type": "markdown",
   "metadata": {},
   "source": [
    "## The `map` HOF"
   ]
  },
  {
   "cell_type": "markdown",
   "metadata": {},
   "source": [
    "The `map` function is one of the essential HOFs. Its purpose is applying a function to the elements of a data structure, in such a way that the relationships between these elements do not change. The only thing that must be modified is the _content_ of the data structure, not its _shape_. This condition is expressed in the following equations:\n",
    "\n",
    "1. `map(list)(identity) == list` for all `list: List[A]`\n",
    "2. `map(map(list)(f))(g) == map(list)(g compose f)` for all `list: List[A]`, `f: A => B`, `g: B => C`"
   ]
  },
  {
   "cell_type": "markdown",
   "metadata": {},
   "source": [
    "![map](../images/map.svg)"
   ]
  },
  {
   "cell_type": "markdown",
   "metadata": {},
   "source": [
    "The implementation for lists can be done as follows:"
   ]
  },
  {
   "cell_type": "code",
   "execution_count": 5,
   "metadata": {},
   "outputs": [
    {
     "data": {
      "text/plain": [
       "\u001b[36mres5_0\u001b[39m: \u001b[32mChar\u001b[39m = \u001b[32m'x'\u001b[39m\n",
       "\u001b[36mres5_1\u001b[39m: \u001b[32mChar\u001b[39m = \u001b[32m'{'\u001b[39m\n",
       "\u001b[36mres5_2\u001b[39m: \u001b[32mChar\u001b[39m = \u001b[32m'|'\u001b[39m"
      ]
     },
     "execution_count": 5,
     "metadata": {},
     "output_type": "execute_result"
    }
   ],
   "source": [
    "120.toChar\n",
    "123.toChar\n",
    "124.toChar"
   ]
  },
  {
   "cell_type": "code",
   "execution_count": 6,
   "metadata": {},
   "outputs": [
    {
     "data": {
      "text/plain": [
       "defined \u001b[32mfunction\u001b[39m \u001b[36mchars\u001b[39m"
      ]
     },
     "execution_count": 6,
     "metadata": {},
     "output_type": "execute_result"
    }
   ],
   "source": [
    "// map example 1\n",
    "def chars(l: List[Int]): List[Char] = \n",
    "    l match \n",
    "        case Nil => ??? : List[Char]\n",
    "        case head :: tail => \n",
    "            val tailSol: List[Char] = ??? \n",
    "            ???(head, tailSol): List[Char]"
   ]
  },
  {
   "cell_type": "code",
   "execution_count": 8,
   "metadata": {},
   "outputs": [
    {
     "data": {
      "text/plain": [
       "defined \u001b[32mfunction\u001b[39m \u001b[36mchars\u001b[39m"
      ]
     },
     "execution_count": 8,
     "metadata": {},
     "output_type": "execute_result"
    }
   ],
   "source": [
    "// map example 1\n",
    "def chars(l: List[Int]): List[Char] = \n",
    "    l match \n",
    "        case Nil => Nil : List[Char]\n",
    "        case head :: tail => \n",
    "            val tailSol: List[Char] = chars(tail)\n",
    "            head.toChar :: tailSol : List[Char]"
   ]
  },
  {
   "cell_type": "code",
   "execution_count": 11,
   "metadata": {},
   "outputs": [
    {
     "data": {
      "text/plain": [
       "\u001b[36mres11_0\u001b[39m: \u001b[32mBoolean\u001b[39m = \u001b[32mtrue\u001b[39m\n",
       "\u001b[36mres11_1\u001b[39m: \u001b[32mBoolean\u001b[39m = \u001b[32mtrue\u001b[39m"
      ]
     },
     "execution_count": 11,
     "metadata": {},
     "output_type": "execute_result"
    }
   ],
   "source": [
    "chars(List(120,123,124)) == List('x', '{', '|')\n",
    "chars(120 :: List(123,124)) == 'x' :: List('{', '|')                                        "
   ]
  },
  {
   "cell_type": "code",
   "execution_count": 15,
   "metadata": {},
   "outputs": [
    {
     "data": {
      "text/plain": [
       "defined \u001b[32mfunction\u001b[39m \u001b[36mempties\u001b[39m"
      ]
     },
     "execution_count": 15,
     "metadata": {},
     "output_type": "execute_result"
    }
   ],
   "source": [
    "// map example 2\n",
    "def empties(l: List[String]): List[Boolean] = \n",
    "    l match \n",
    "        case Nil => Nil : List[Boolean]\n",
    "        case head :: tail => \n",
    "            val tailSol: List[Boolean] = empties(tail)\n",
    "            (head == \"\") :: tailSol : List[Boolean]"
   ]
  },
  {
   "cell_type": "code",
   "execution_count": 16,
   "metadata": {},
   "outputs": [
    {
     "data": {
      "text/plain": [
       "\u001b[36mres16\u001b[39m: \u001b[32mBoolean\u001b[39m = \u001b[32mtrue\u001b[39m"
      ]
     },
     "execution_count": 16,
     "metadata": {},
     "output_type": "execute_result"
    }
   ],
   "source": [
    "empties(\"abc\" :: List(\"\", \"hola\", \"\", \"adios\")) == {\n",
    "    val head = \"abc\"\n",
    "    val tail = List(\"\", \"hola\", \"\", \"adios\")\n",
    "    val tailSol = List(true, false, true, false)\n",
    "    // List(false, true, false, true, false)\n",
    "    (head == \"\") :: List(true, false, true, false)\n",
    "}"
   ]
  },
  {
   "cell_type": "code",
   "execution_count": 8,
   "metadata": {},
   "outputs": [
    {
     "data": {
      "text/plain": [
       "defined \u001b[32mfunction\u001b[39m \u001b[36mchars\u001b[39m"
      ]
     },
     "execution_count": 8,
     "metadata": {},
     "output_type": "execute_result"
    }
   ],
   "source": [
    "// map example 1\n",
    "def map(l: List[???]): List[???] = \n",
    "    l match \n",
    "        case Nil => Nil : List[???]\n",
    "        case head :: tail => \n",
    "            val tailSol: List[???] = map(tail)\n",
    "            ???(head) :: tailSol : List[???]"
   ]
  },
  {
   "cell_type": "code",
   "execution_count": 8,
   "metadata": {},
   "outputs": [
    {
     "data": {
      "text/plain": [
       "defined \u001b[32mfunction\u001b[39m \u001b[36mchars\u001b[39m"
      ]
     },
     "execution_count": 8,
     "metadata": {},
     "output_type": "execute_result"
    }
   ],
   "source": [
    "// map example 1\n",
    "def smash(l: List[Tomate]): List[Zumo] = \n",
    "    l match \n",
    "        case Nil => Nil : List[Zumo]\n",
    "        case head :: tail => \n",
    "            val tailSol: List[Zumo] = map(tail)\n",
    "            aplasta(head) :: tailSol : List[Zumo]"
   ]
  },
  {
   "cell_type": "code",
   "execution_count": 24,
   "metadata": {},
   "outputs": [
    {
     "data": {
      "text/plain": [
       "defined \u001b[32mobject\u001b[39m \u001b[36mStd\u001b[39m"
      ]
     },
     "execution_count": 24,
     "metadata": {},
     "output_type": "execute_result"
    }
   ],
   "source": [
    "object Std: \n",
    "\n",
    "    abstract class List[A]: \n",
    "        def map[B](f: A => B): List[B]"
   ]
  },
  {
   "cell_type": "code",
   "execution_count": 17,
   "metadata": {},
   "outputs": [
    {
     "data": {
      "text/plain": [
       "defined \u001b[32mfunction\u001b[39m \u001b[36mmap\u001b[39m"
      ]
     },
     "execution_count": 17,
     "metadata": {},
     "output_type": "execute_result"
    }
   ],
   "source": [
    "// map example 1\n",
    "def map[A, B](l: List[A])(f: A => B): List[B] = \n",
    "    l match \n",
    "        case Nil => Nil : List[B]\n",
    "        case (head: A) :: (tail: List[A]) => \n",
    "            val tailSol: List[B] = map(tail)(f)\n",
    "            (f(head) :: tailSol) : List[B]"
   ]
  },
  {
   "cell_type": "code",
   "execution_count": 26,
   "metadata": {},
   "outputs": [
    {
     "data": {
      "text/plain": [
       "defined \u001b[32mfunction\u001b[39m \u001b[36mempties\u001b[39m"
      ]
     },
     "execution_count": 26,
     "metadata": {},
     "output_type": "execute_result"
    }
   ],
   "source": [
    "// map example 2\n",
    "def empties(l: List[String]): List[Boolean] = \n",
    "    map[String, Boolean](l)(head => head == \"\")"
   ]
  },
  {
   "cell_type": "code",
   "execution_count": 27,
   "metadata": {},
   "outputs": [
    {
     "data": {
      "text/plain": [
       "defined \u001b[32mfunction\u001b[39m \u001b[36mempties\u001b[39m"
      ]
     },
     "execution_count": 27,
     "metadata": {},
     "output_type": "execute_result"
    }
   ],
   "source": [
    "// map example 2\n",
    "def empties(l: List[String]): List[Boolean] = \n",
    "    l.map[Boolean](head => head == \"\")"
   ]
  },
  {
   "cell_type": "code",
   "execution_count": 19,
   "metadata": {},
   "outputs": [
    {
     "data": {
      "text/plain": [
       "defined \u001b[32mfunction\u001b[39m \u001b[36mempties\u001b[39m"
      ]
     },
     "execution_count": 19,
     "metadata": {},
     "output_type": "execute_result"
    }
   ],
   "source": [
    "// map example 2\n",
    "def empties(l: List[String]): List[Boolean] = \n",
    "    map(l)(_ == \"\")"
   ]
  },
  {
   "cell_type": "code",
   "execution_count": 20,
   "metadata": {},
   "outputs": [
    {
     "data": {
      "text/plain": [
       "defined \u001b[32mfunction\u001b[39m \u001b[36mchars\u001b[39m"
      ]
     },
     "execution_count": 20,
     "metadata": {},
     "output_type": "execute_result"
    }
   ],
   "source": [
    "// map example 1\n",
    "def chars(l: List[Int]): List[Char] = \n",
    "    map(l)(head => head.toChar)"
   ]
  },
  {
   "cell_type": "code",
   "execution_count": 21,
   "metadata": {},
   "outputs": [
    {
     "data": {
      "text/plain": [
       "defined \u001b[32mfunction\u001b[39m \u001b[36mchars\u001b[39m"
      ]
     },
     "execution_count": 21,
     "metadata": {},
     "output_type": "execute_result"
    }
   ],
   "source": [
    "// map example 1\n",
    "def chars(l: List[Int]): List[Char] = \n",
    "    map(l)(_.toChar)"
   ]
  },
  {
   "cell_type": "code",
   "execution_count": 23,
   "metadata": {},
   "outputs": [
    {
     "data": {
      "text/plain": [
       "defined \u001b[32mfunction\u001b[39m \u001b[36mchars\u001b[39m"
      ]
     },
     "execution_count": 23,
     "metadata": {},
     "output_type": "execute_result"
    }
   ],
   "source": [
    "// map example 1\n",
    "def chars(l: List[Int]): List[Char] = \n",
    "    l.map(_.toChar)"
   ]
  },
  {
   "cell_type": "code",
   "execution_count": 2,
   "metadata": {},
   "outputs": [],
   "source": [
    "// map generically\n"
   ]
  },
  {
   "cell_type": "markdown",
   "metadata": {},
   "source": [
    "The `map` function is polymorphic in `A` and `B`, but we can't pass generic functions (aka polymorphic values) as parameters using `FunctionN`classes (these classes only wrap functions from specific types to specific result types). We may create polymorphic versions of `FunctionN` clases, but in order to keep things simple, we will define the test catalogue for `map` using a specific signature chosen at random (any other may serve as well):"
   ]
  },
  {
   "cell_type": "code",
   "execution_count": 22,
   "metadata": {},
   "outputs": [
    {
     "data": {
      "text/plain": [
       "defined \u001b[32mclass\u001b[39m \u001b[36mTestMap\u001b[39m"
      ]
     },
     "execution_count": 22,
     "metadata": {},
     "output_type": "execute_result"
    }
   ],
   "source": [
    "class TestMap(\n",
    "    map: List[Int] => (Int => Boolean) => List[Boolean]\n",
    ") extends AnyFlatSpec with should.Matchers:\n",
    "\n",
    "    val isEven: Int => Boolean = _ % 2 == 0\n",
    "\n",
    "    \"mapping an empty list\" should \"return an empty list\" in:\n",
    "        map(List())(isEven) shouldBe ???\n",
    "\n",
    "    \"mapping an non-empty list\" should \"only change its content\" in:\n",
    "        map(List(1))(isEven) shouldBe ???\n",
    "        map(List(1,2))(isEven) shouldBe ???\n",
    "        map(List(1,2,3))(isEven) shouldBe ???"
   ]
  },
  {
   "cell_type": "markdown",
   "metadata": {},
   "source": [
    "To run the tests we will pass the `map` function for `Ìnt` and `Boolean` types:"
   ]
  },
  {
   "cell_type": "code",
   "execution_count": 34,
   "metadata": {},
   "outputs": [
    {
     "name": "stdout",
     "output_type": "stream",
     "text": [
      "\u001b[32mcell32$Helper$TestMap:\u001b[0m\n",
      "\u001b[32mmapping an empty list\u001b[0m\n",
      "\u001b[32m- should return an empty list\u001b[0m\n",
      "\u001b[32mmapping an non-empty list\u001b[0m\n",
      "\u001b[32m- should only change its content\u001b[0m\n"
     ]
    }
   ],
   "source": [
    "run(TestMap(map[Int, Boolean]))"
   ]
  },
  {
   "cell_type": "markdown",
   "metadata": {},
   "source": [
    "although it's not necessary to write the types explicitly (Scala will infer the types for us):"
   ]
  },
  {
   "cell_type": "code",
   "execution_count": 35,
   "metadata": {},
   "outputs": [
    {
     "name": "stdout",
     "output_type": "stream",
     "text": [
      "\u001b[32mcell32$Helper$TestMap:\u001b[0m\n",
      "\u001b[32mmapping an empty list\u001b[0m\n",
      "\u001b[32m- should return an empty list\u001b[0m\n",
      "\u001b[32mmapping an non-empty list\u001b[0m\n",
      "\u001b[32m- should only change its content\u001b[0m\n"
     ]
    }
   ],
   "source": [
    "run(TestMap(map))"
   ]
  },
  {
   "cell_type": "markdown",
   "metadata": {},
   "source": [
    "The implementation of `map` is really close to the implementation of `foldRight`. Indeed, we can give a more modular implementation using this more basic HOF: "
   ]
  },
  {
   "cell_type": "code",
   "execution_count": 17,
   "metadata": {},
   "outputs": [
    {
     "data": {
      "text/plain": [
       "defined \u001b[32mfunction\u001b[39m \u001b[36mmap\u001b[39m"
      ]
     },
     "execution_count": 17,
     "metadata": {},
     "output_type": "execute_result"
    }
   ],
   "source": [
    "// map example 1\n",
    "def map[A, B](l: List[A])(f: A => B): List[B] = \n",
    "    l match \n",
    "        case Nil => Nil : List[B]\n",
    "        case (head: A) :: (tail: List[A]) => \n",
    "            val tailSol: List[B] = map(tail)(f)\n",
    "            (f(head) :: tailSol) : List[B]"
   ]
  },
  {
   "cell_type": "code",
   "execution_count": 17,
   "metadata": {},
   "outputs": [
    {
     "data": {
      "text/plain": [
       "defined \u001b[32mfunction\u001b[39m \u001b[36mmap\u001b[39m"
      ]
     },
     "execution_count": 17,
     "metadata": {},
     "output_type": "execute_result"
    }
   ],
   "source": [
    "// map example 1\n",
    "def map[A, B](l: List[A])(f: A => B): List[B] = \n",
    "    l.foldRight(??? : List[B])(\n",
    "        (head, tailSol) => ??? : List[B]\n",
    "    )"
   ]
  },
  {
   "cell_type": "code",
   "execution_count": 28,
   "metadata": {},
   "outputs": [
    {
     "data": {
      "text/plain": [
       "defined \u001b[32mfunction\u001b[39m \u001b[36mmap\u001b[39m"
      ]
     },
     "execution_count": 28,
     "metadata": {},
     "output_type": "execute_result"
    }
   ],
   "source": [
    "// map example 1\n",
    "def map[A, B](l: List[A])(f: A => B): List[B] = \n",
    "    l.foldRight(Nil : List[B])(\n",
    "        (head, tailSol) => f(head) :: tailSol : List[B]\n",
    "    )"
   ]
  },
  {
   "cell_type": "code",
   "execution_count": 36,
   "metadata": {},
   "outputs": [
    {
     "data": {
      "text/plain": [
       "defined \u001b[32mfunction\u001b[39m \u001b[36mmapFR\u001b[39m"
      ]
     },
     "execution_count": 36,
     "metadata": {},
     "output_type": "execute_result"
    }
   ],
   "source": [
    "/*\n",
    "def foldRight[A, B](list: List[A])(nil: B)(cons: (A, B) => B): B = \n",
    "    list match {\n",
    "        case Nil => nil\n",
    "        case head :: tail => cons(head, foldRight(tail)(nil)(cons))\n",
    "    }\n",
    "*/\n",
    "\n",
    "def mapFR[A, B](list: List[A])(f: A => B): List[B] = \n",
    "    ???"
   ]
  },
  {
   "cell_type": "code",
   "execution_count": 37,
   "metadata": {},
   "outputs": [
    {
     "name": "stdout",
     "output_type": "stream",
     "text": [
      "\u001b[32mcell32$Helper$TestMap:\u001b[0m\n",
      "\u001b[32mmapping an empty list\u001b[0m\n",
      "\u001b[32m- should return an empty list\u001b[0m\n",
      "\u001b[32mmapping an non-empty list\u001b[0m\n",
      "\u001b[32m- should only change its content\u001b[0m\n"
     ]
    }
   ],
   "source": [
    "run(TestMap(mapFR))"
   ]
  },
  {
   "cell_type": "markdown",
   "metadata": {},
   "source": [
    "### `map` for `Option`"
   ]
  },
  {
   "cell_type": "markdown",
   "metadata": {},
   "source": [
    "The implementation of the `map` function given above works over lists, but we can also map optional values and many other data structures. The implementation for the data structure `Option` must satisfy the following test:"
   ]
  },
  {
   "cell_type": "code",
   "execution_count": 38,
   "metadata": {},
   "outputs": [
    {
     "data": {
      "text/plain": [
       "defined \u001b[32mclass\u001b[39m \u001b[36mTestMapOption\u001b[39m"
      ]
     },
     "execution_count": 38,
     "metadata": {},
     "output_type": "execute_result"
    }
   ],
   "source": [
    "class TestMapOption(\n",
    "    map: Option[Int] => (Int => Boolean) => Option[Boolean]\n",
    ") extends AnyFlatSpec with should.Matchers:\n",
    "    \n",
    "    val isEven: Int => Boolean = _ % 2 == 0\n",
    "\n",
    "    \"mapping the `None` value\" should \"return `None`\" in:\n",
    "        map(None)(isEven) shouldBe ???\n",
    "    \n",
    "    \"mapping a `Some` value\" should \"only change its content\" in:\n",
    "        map(Option(3))(isEven) shouldBe ???\n",
    "        map(Option(1))(isEven) shouldBe ???\n",
    "        map(Option(2))(isEven) shouldBe ???"
   ]
  },
  {
   "cell_type": "markdown",
   "metadata": {},
   "source": [
    "The implementation is simple:"
   ]
  },
  {
   "cell_type": "code",
   "execution_count": 39,
   "metadata": {},
   "outputs": [
    {
     "data": {
      "text/plain": [
       "defined \u001b[32mfunction\u001b[39m \u001b[36mmapOpt\u001b[39m"
      ]
     },
     "execution_count": 39,
     "metadata": {},
     "output_type": "execute_result"
    }
   ],
   "source": [
    "def mapOpt[A, B](maybeA: Option[A])(f: A => B): Option[B] = \n",
    "    ???"
   ]
  },
  {
   "cell_type": "code",
   "execution_count": 40,
   "metadata": {},
   "outputs": [
    {
     "name": "stdout",
     "output_type": "stream",
     "text": [
      "\u001b[32mcell38$Helper$TestMapOption:\u001b[0m\n",
      "\u001b[32mmapping the `None` value\u001b[0m\n",
      "\u001b[32m- should return `None`\u001b[0m\n",
      "\u001b[32mmapping a `Some` value\u001b[0m\n",
      "\u001b[32m- should only change its content\u001b[0m\n"
     ]
    }
   ],
   "source": [
    "run(TestMapOption(mapOpt))"
   ]
  },
  {
   "cell_type": "markdown",
   "metadata": {},
   "source": [
    "## Filtering elements"
   ]
  },
  {
   "cell_type": "markdown",
   "metadata": {},
   "source": [
    "Unlike `map`, the `filter` HOF allows us to change the shape of the data structure, removing those elements that do not satisfy a given predicate. "
   ]
  },
  {
   "cell_type": "markdown",
   "metadata": {},
   "source": [
    "![filter](../images/filter.svg)"
   ]
  },
  {
   "cell_type": "code",
   "execution_count": null,
   "metadata": {},
   "outputs": [],
   "source": [
    "def even(l: List[Int]): List[Int] = \n",
    "    l match \n",
    "        case Nil => ??? : List[Int]\n",
    "        case head :: tail => \n",
    "            val tailSol: List[Int] = even(tail)\n",
    "            ???(head, tailSol)"
   ]
  },
  {
   "cell_type": "code",
   "execution_count": 29,
   "metadata": {},
   "outputs": [
    {
     "data": {
      "text/plain": [
       "defined \u001b[32mfunction\u001b[39m \u001b[36meven\u001b[39m"
      ]
     },
     "execution_count": 29,
     "metadata": {},
     "output_type": "execute_result"
    }
   ],
   "source": [
    "def even(l: List[Int]): List[Int] = \n",
    "    l match \n",
    "        case Nil => Nil : List[Int]\n",
    "        case head :: tail => \n",
    "            val tailSol: List[Int] = even(tail)\n",
    "            if head % 2 == 0 then head :: tailSol\n",
    "            else tailSol"
   ]
  },
  {
   "cell_type": "code",
   "execution_count": 29,
   "metadata": {},
   "outputs": [
    {
     "data": {
      "text/plain": [
       "defined \u001b[32mfunction\u001b[39m \u001b[36meven\u001b[39m"
      ]
     },
     "execution_count": 29,
     "metadata": {},
     "output_type": "execute_result"
    }
   ],
   "source": [
    "def even(l: List[Int]): List[Int] = \n",
    "    filter(l)(head => head % 2 == 0)"
   ]
  },
  {
   "cell_type": "code",
   "execution_count": 33,
   "metadata": {},
   "outputs": [
    {
     "data": {
      "text/plain": [
       "defined \u001b[32mfunction\u001b[39m \u001b[36meven\u001b[39m"
      ]
     },
     "execution_count": 33,
     "metadata": {},
     "output_type": "execute_result"
    }
   ],
   "source": [
    "def even(l: List[Int]): List[Int] = \n",
    "    l.filter(head => head % 2 == 0)"
   ]
  },
  {
   "cell_type": "code",
   "execution_count": 37,
   "metadata": {},
   "outputs": [
    {
     "data": {
      "text/plain": [
       "defined \u001b[32mfunction\u001b[39m \u001b[36meven\u001b[39m"
      ]
     },
     "execution_count": 37,
     "metadata": {},
     "output_type": "execute_result"
    }
   ],
   "source": [
    "def even(l: List[Int]): List[Int] = \n",
    "    l.filter(_ % 2 == 0)"
   ]
  },
  {
   "cell_type": "code",
   "execution_count": 34,
   "metadata": {},
   "outputs": [
    {
     "data": {
      "text/plain": [
       "\u001b[36mres34_0\u001b[39m: \u001b[32mBoolean\u001b[39m = \u001b[32mtrue\u001b[39m\n",
       "\u001b[36mres34_1\u001b[39m: \u001b[32mBoolean\u001b[39m = \u001b[32mtrue\u001b[39m"
      ]
     },
     "execution_count": 34,
     "metadata": {},
     "output_type": "execute_result"
    }
   ],
   "source": [
    "even(List(1,2,3,4,5)) == List(2,4)\n",
    "even(List(1,3,5)) == List()"
   ]
  },
  {
   "cell_type": "code",
   "execution_count": 31,
   "metadata": {},
   "outputs": [
    {
     "data": {
      "text/plain": [
       "defined \u001b[32mfunction\u001b[39m \u001b[36mnonempties\u001b[39m"
      ]
     },
     "execution_count": 31,
     "metadata": {},
     "output_type": "execute_result"
    }
   ],
   "source": [
    "def nonempties(l: List[String]): List[String] = \n",
    "    l match \n",
    "        case Nil => Nil : List[String]\n",
    "        case head :: tail => \n",
    "            val tailSol: List[String] = nonempties(tail)\n",
    "            if head != \"\" then head :: tailSol\n",
    "            else tailSol"
   ]
  },
  {
   "cell_type": "code",
   "execution_count": 31,
   "metadata": {},
   "outputs": [
    {
     "data": {
      "text/plain": [
       "defined \u001b[32mfunction\u001b[39m \u001b[36mnonempties\u001b[39m"
      ]
     },
     "execution_count": 31,
     "metadata": {},
     "output_type": "execute_result"
    }
   ],
   "source": [
    "def nonempties(l: List[String]): List[String] = \n",
    "    filter(l)(head => head != \"\")"
   ]
  },
  {
   "cell_type": "code",
   "execution_count": 35,
   "metadata": {},
   "outputs": [
    {
     "data": {
      "text/plain": [
       "defined \u001b[32mfunction\u001b[39m \u001b[36mnonempties\u001b[39m"
      ]
     },
     "execution_count": 35,
     "metadata": {},
     "output_type": "execute_result"
    }
   ],
   "source": [
    "def nonempties(l: List[String]): List[String] = \n",
    "    l.filter(head => head != \"\")"
   ]
  },
  {
   "cell_type": "code",
   "execution_count": 36,
   "metadata": {},
   "outputs": [
    {
     "data": {
      "text/plain": [
       "defined \u001b[32mfunction\u001b[39m \u001b[36mnonempties\u001b[39m"
      ]
     },
     "execution_count": 36,
     "metadata": {},
     "output_type": "execute_result"
    }
   ],
   "source": [
    "def nonempties(l: List[String]): List[String] = \n",
    "    l.filter(_ != \"\")"
   ]
  },
  {
   "cell_type": "code",
   "execution_count": null,
   "metadata": {},
   "outputs": [],
   "source": [
    "def maduros(l: List[Tomate]): List[Tomate] = \n",
    "    l match \n",
    "        case Nil => Nil : List[Tomate]\n",
    "        case head :: tail => \n",
    "            val tailSol: List[Tomate] = nonempties(tail)\n",
    "            if esMaduro(head) then head :: tailSol\n",
    "            else tailSol"
   ]
  },
  {
   "cell_type": "code",
   "execution_count": null,
   "metadata": {},
   "outputs": [],
   "source": [
    "def maduros(l: List[Tomate]): List[Tomate] = \n",
    "    filter(l)(esMaduro) \n",
    "    //filter(l)( (t: Tomate) => esMaduro(t)) "
   ]
  },
  {
   "cell_type": "code",
   "execution_count": 38,
   "metadata": {},
   "outputs": [
    {
     "data": {
      "text/plain": [
       "defined \u001b[32mfunction\u001b[39m \u001b[36mfilter\u001b[39m"
      ]
     },
     "execution_count": 38,
     "metadata": {},
     "output_type": "execute_result"
    }
   ],
   "source": [
    "def filter[A](l: List[A])(pred: A => Boolean): List[A] = \n",
    "    l match \n",
    "        case Nil => Nil : List[A]\n",
    "        case head :: tail => \n",
    "            val tailSol: List[A] = filter(tail)(pred)\n",
    "            if pred(head) then head :: tailSol\n",
    "            else tailSol"
   ]
  },
  {
   "cell_type": "code",
   "execution_count": 43,
   "metadata": {},
   "outputs": [
    {
     "data": {
      "text/plain": [
       "defined \u001b[32mfunction\u001b[39m \u001b[36mfilter\u001b[39m"
      ]
     },
     "execution_count": 43,
     "metadata": {},
     "output_type": "execute_result"
    }
   ],
   "source": [
    "def filter[A](l: List[A])(pred: A => Boolean): List[A] = \n",
    "    l.foldRight(Nil : List[A]):\n",
    "        (head, tailSol) => \n",
    "            if pred(head) then head :: tailSol\n",
    "            else tailSol"
   ]
  },
  {
   "cell_type": "markdown",
   "metadata": {},
   "source": [
    "out                  aux\n",
    "---                  --- \n",
    "Nil                  List(1,2,4,5,6)\n",
    "Nil                  List(2,4,5,6)\n",
    "List(2)              List(4,5,6)\n",
    "List(2,4)            List(5,6)\n",
    "List(2,4)            List(6)\n",
    "List(2,4,6)          List()"
   ]
  },
  {
   "cell_type": "code",
   "execution_count": 45,
   "metadata": {},
   "outputs": [
    {
     "data": {
      "text/plain": [
       "defined \u001b[32mfunction\u001b[39m \u001b[36mfilter\u001b[39m"
      ]
     },
     "execution_count": 45,
     "metadata": {},
     "output_type": "execute_result"
    }
   ],
   "source": [
    "def filter[A](l: List[A])(pred: A => Boolean): List[A] = \n",
    "    l.foldLeft(Nil : List[A]): \n",
    "        (out: List[A], a: A) =>\n",
    "            if pred(a) then out :+ a : List[A]\n",
    "            else out"
   ]
  },
  {
   "cell_type": "code",
   "execution_count": 53,
   "metadata": {},
   "outputs": [
    {
     "data": {
      "text/plain": [
       "defined \u001b[32mfunction\u001b[39m \u001b[36mfilter\u001b[39m"
      ]
     },
     "execution_count": 53,
     "metadata": {},
     "output_type": "execute_result"
    }
   ],
   "source": [
    "def filter[A](l: List[A])(pred: A => Boolean): List[A] = \n",
    "    l.foldLeft{\n",
    "        println(\"out\\t\\t\\t\\taux\\n---\\t\\t\\t\\t---\")\n",
    "        Nil : List[A]\n",
    "    }{\n",
    "        (out: List[A], a: A) =>\n",
    "            println(out.toString + \"\\t\\t\\t\\t\" + a.toString)\n",
    "            if pred(a) then a :: out : List[A]\n",
    "            else out\n",
    "    }.reverse"
   ]
  },
  {
   "cell_type": "code",
   "execution_count": 54,
   "metadata": {},
   "outputs": [
    {
     "name": "stdout",
     "output_type": "stream",
     "text": [
      "out\t\t\t\taux\n",
      "---\t\t\t\t---\n",
      "List()\t\t\t\t1\n",
      "List()\t\t\t\t2\n",
      "List(2)\t\t\t\t3\n",
      "List(2)\t\t\t\t4\n",
      "List(4, 2)\t\t\t\t5\n",
      "List(4, 2)\t\t\t\t6\n",
      "List(6, 4, 2)\t\t\t\t8\n"
     ]
    },
    {
     "data": {
      "text/plain": [
       "\u001b[36mres54\u001b[39m: \u001b[32mList\u001b[39m[\u001b[32mInt\u001b[39m] = \u001b[33mList\u001b[39m(\u001b[32m2\u001b[39m, \u001b[32m4\u001b[39m, \u001b[32m6\u001b[39m, \u001b[32m8\u001b[39m)"
      ]
     },
     "execution_count": 54,
     "metadata": {},
     "output_type": "execute_result"
    }
   ],
   "source": [
    "filter(List(1,2,3,4,5,6,8))(_ % 2 == 0)"
   ]
  },
  {
   "cell_type": "code",
   "execution_count": 44,
   "metadata": {},
   "outputs": [
    {
     "data": {
      "text/plain": [
       "defined \u001b[32mfunction\u001b[39m \u001b[36mfilter\u001b[39m"
      ]
     },
     "execution_count": 44,
     "metadata": {},
     "output_type": "execute_result"
    }
   ],
   "source": [
    "def filter[A](l: List[A])(pred: A => Boolean): List[A] = \n",
    "    l.foldLeft(??? : List[A]): \n",
    "        (out: List[A], a: A) =>\n",
    "            ??? : List[A]"
   ]
  },
  {
   "cell_type": "code",
   "execution_count": 41,
   "metadata": {},
   "outputs": [
    {
     "data": {
      "text/plain": [
       "\u001b[36mres41_0\u001b[39m: \u001b[32mList\u001b[39m[\u001b[32mInt\u001b[39m] = \u001b[33mList\u001b[39m(\u001b[32m2\u001b[39m, \u001b[32m4\u001b[39m, \u001b[32m6\u001b[39m)\n",
       "\u001b[36mres41_1\u001b[39m: \u001b[32mList\u001b[39m[\u001b[32mInt\u001b[39m] = \u001b[33mList\u001b[39m(\u001b[32m1\u001b[39m, \u001b[32m3\u001b[39m, \u001b[32m5\u001b[39m)\n",
       "\u001b[36mres41_2\u001b[39m: \u001b[32mList\u001b[39m[\u001b[32mString\u001b[39m] = \u001b[33mList\u001b[39m(\u001b[32m\"a\"\u001b[39m, \u001b[32m\"b\"\u001b[39m, \u001b[32m\"c\"\u001b[39m, \u001b[32m\"d\"\u001b[39m)"
      ]
     },
     "execution_count": 41,
     "metadata": {},
     "output_type": "execute_result"
    }
   ],
   "source": [
    "filter(List(2,4,6))(_ % 2 == 0)\n",
    "List(1,2,3,4,5,6).filter(_ % 2 != 0)\n",
    "List(\"a\", \"\", \"b\", \"c\", \"d\").filter(_ != \"\")"
   ]
  },
  {
   "cell_type": "code",
   "execution_count": null,
   "metadata": {},
   "outputs": [],
   "source": [
    "def filter(l: List[???]): List[???] = \n",
    "    l match \n",
    "        case Nil => Nil : List[???]\n",
    "        case head :: tail => \n",
    "            val tailSol: List[???] = filter(tail)\n",
    "            if ???(head) then head :: tailSol\n",
    "            else tailSol"
   ]
  },
  {
   "cell_type": "code",
   "execution_count": 32,
   "metadata": {},
   "outputs": [
    {
     "data": {
      "text/plain": [
       "\u001b[36mres32\u001b[39m: \u001b[32mBoolean\u001b[39m = \u001b[32mtrue\u001b[39m"
      ]
     },
     "execution_count": 32,
     "metadata": {},
     "output_type": "execute_result"
    }
   ],
   "source": [
    "nonempties(List(\"abc\", \"\", \"hola\", \"adios\", \"\")) == List(\"abc\", \"hola\", \"adios\")"
   ]
  },
  {
   "cell_type": "code",
   "execution_count": 41,
   "metadata": {},
   "outputs": [
    {
     "data": {
      "text/plain": [
       "defined \u001b[32mfunction\u001b[39m \u001b[36mfilterR\u001b[39m"
      ]
     },
     "execution_count": 41,
     "metadata": {},
     "output_type": "execute_result"
    }
   ],
   "source": [
    "// filter, generically "
   ]
  },
  {
   "cell_type": "code",
   "execution_count": 42,
   "metadata": {},
   "outputs": [
    {
     "data": {
      "text/plain": [
       "defined \u001b[32mclass\u001b[39m \u001b[36mTestFilterList\u001b[39m"
      ]
     },
     "execution_count": 42,
     "metadata": {},
     "output_type": "execute_result"
    }
   ],
   "source": [
    "class TestFilterList(\n",
    "    filter: List[Int] => (Int => Boolean) => List[Int]\n",
    ") extends AnyFlatSpec with should.Matchers:\n",
    "    \n",
    "    val isEven: Int => Boolean = _ % 2 == 0\n",
    "\n",
    "    \"filter\" should \"work\" in:\n",
    "        filter(List())(isEven) shouldBe ???\n",
    "        filter(List(1))(isEven) shouldBe ???\n",
    "        filter(List(1,3,5))(isEven) shouldBe ???\n",
    "        filter(List(2,4,6))(isEven) shouldBe ???"
   ]
  },
  {
   "cell_type": "code",
   "execution_count": 43,
   "metadata": {},
   "outputs": [
    {
     "name": "stdout",
     "output_type": "stream",
     "text": [
      "\u001b[32mcell42$Helper$TestFilterList:\u001b[0m\n",
      "\u001b[32mfilter\u001b[0m\n",
      "\u001b[32m- should work\u001b[0m\n"
     ]
    }
   ],
   "source": [
    "run(TestFilterList(filterR))"
   ]
  },
  {
   "cell_type": "markdown",
   "metadata": {},
   "source": [
    "Using `foldRight` we can get a more modular implementation: "
   ]
  },
  {
   "cell_type": "code",
   "execution_count": 45,
   "metadata": {},
   "outputs": [
    {
     "data": {
      "text/plain": [
       "defined \u001b[32mfunction\u001b[39m \u001b[36mfilterFR\u001b[39m"
      ]
     },
     "execution_count": 45,
     "metadata": {},
     "output_type": "execute_result"
    }
   ],
   "source": [
    "def filterFR[A](list: List[A])(predicate: A => Boolean): List[A] = \n",
    "    ???"
   ]
  },
  {
   "cell_type": "code",
   "execution_count": 46,
   "metadata": {},
   "outputs": [
    {
     "name": "stdout",
     "output_type": "stream",
     "text": [
      "\u001b[32mcell42$Helper$TestFilterList:\u001b[0m\n",
      "\u001b[32mfilter\u001b[0m\n",
      "\u001b[32m- should work\u001b[0m\n"
     ]
    }
   ],
   "source": [
    "run(TestFilterList(filterFR))"
   ]
  },
  {
   "cell_type": "markdown",
   "metadata": {},
   "source": [
    "### Filtering optional values"
   ]
  },
  {
   "cell_type": "markdown",
   "metadata": {},
   "source": [
    "We only have a possible value, so implementing filtering is easy in this case:"
   ]
  },
  {
   "cell_type": "code",
   "execution_count": 48,
   "metadata": {},
   "outputs": [
    {
     "data": {
      "text/plain": [
       "defined \u001b[32mclass\u001b[39m \u001b[36mTestFilterOption\u001b[39m"
      ]
     },
     "execution_count": 48,
     "metadata": {},
     "output_type": "execute_result"
    }
   ],
   "source": [
    "class TestFilterOption(\n",
    "    filter: Option[Int] => (Int => Boolean) => Option[Int]\n",
    ") extends AnyFlatSpec with should.Matchers:\n",
    "    \n",
    "    val isEven: Int => Boolean = _ % 2 == 0\n",
    "\n",
    "    \"filter\" should \"work\" in:\n",
    "        filter(None)(isEven) shouldBe ???\n",
    "        filter(Some(1))(isEven) shouldBe ???\n",
    "        filter(Some(2))(isEven) shouldBe ???"
   ]
  },
  {
   "cell_type": "code",
   "execution_count": 49,
   "metadata": {},
   "outputs": [
    {
     "data": {
      "text/plain": [
       "defined \u001b[32mfunction\u001b[39m \u001b[36mfilter\u001b[39m"
      ]
     },
     "execution_count": 49,
     "metadata": {},
     "output_type": "execute_result"
    }
   ],
   "source": [
    "def filter[A](maybeA: Option[A])(predicate: A => Boolean): Option[A] = \n",
    "    ???"
   ]
  },
  {
   "cell_type": "code",
   "execution_count": 50,
   "metadata": {},
   "outputs": [
    {
     "name": "stdout",
     "output_type": "stream",
     "text": [
      "\u001b[32mcell48$Helper$TestFilterOption:\u001b[0m\n",
      "\u001b[32mfilter\u001b[0m\n",
      "\u001b[32m- should work\u001b[0m\n"
     ]
    }
   ],
   "source": [
    "run(TestFilterOption(filter))"
   ]
  },
  {
   "cell_type": "markdown",
   "metadata": {},
   "source": [
    "## FlatMapping data structures"
   ]
  },
  {
   "cell_type": "markdown",
   "metadata": {},
   "source": [
    "Let's consider a paragraph represented as a list of sentences, where each sentence is in turn modelled as a string made of _words_ separated by blank spaces. We want to obtain a list of all the words in each sentence. "
   ]
  },
  {
   "cell_type": "code",
   "execution_count": 52,
   "metadata": {},
   "outputs": [
    {
     "data": {
      "text/plain": [
       "defined \u001b[32mclass\u001b[39m \u001b[36mTestWords\u001b[39m"
      ]
     },
     "execution_count": 52,
     "metadata": {},
     "output_type": "execute_result"
    }
   ],
   "source": [
    "class TestWords(\n",
    "    words: List[String] => List[String]\n",
    ") extends AnyFlatSpec with should.Matchers:\n",
    "            \n",
    "    val paragraph1 = List(\n",
    "        \"En un lugar\",\n",
    "        \"de la Mancha\", \n",
    "        \"de cuyo nombre no\",\n",
    "        \"quiero acordarme\")\n",
    "    \n",
    "    \"words\" should \"work\" in:\n",
    "        words(paragraph1) shouldBe \n",
    "            ???"
   ]
  },
  {
   "cell_type": "markdown",
   "metadata": {},
   "source": [
    "We may try to map the paragraph with a function that `split`s  each sentence into the words they are made of:"
   ]
  },
  {
   "cell_type": "code",
   "execution_count": 53,
   "metadata": {},
   "outputs": [
    {
     "data": {
      "text/plain": [
       "\u001b[36mparagraph\u001b[39m: \u001b[32mList\u001b[39m[\u001b[32mString\u001b[39m] = \u001b[33mList\u001b[39m(\u001b[32m\"en un lugar\"\u001b[39m, \u001b[32m\"de la Mancha\"\u001b[39m)\n",
       "\u001b[36mres53_1\u001b[39m: \u001b[32mList\u001b[39m[\u001b[32mList\u001b[39m[\u001b[32mString\u001b[39m]] = \u001b[33mList\u001b[39m(\n",
       "  \u001b[33mList\u001b[39m(\u001b[32m\"en\"\u001b[39m, \u001b[32m\"un\"\u001b[39m, \u001b[32m\"lugar\"\u001b[39m),\n",
       "  \u001b[33mList\u001b[39m(\u001b[32m\"de\"\u001b[39m, \u001b[32m\"la\"\u001b[39m, \u001b[32m\"Mancha\"\u001b[39m)\n",
       ")"
      ]
     },
     "execution_count": 53,
     "metadata": {},
     "output_type": "execute_result"
    }
   ],
   "source": [
    "val paragraph: List[String] = List(\"en un lugar\", \"de la Mancha\")\n",
    "\n",
    "???"
   ]
  },
  {
   "cell_type": "markdown",
   "metadata": {},
   "source": [
    "but then we obtain a _list of lists_ of strings, not a list of plain strings. The solution is not far though: we have just to concatenate all the lists and we obtain what we need. The function `flatten` performs this concatenation:"
   ]
  },
  {
   "cell_type": "code",
   "execution_count": 54,
   "metadata": {},
   "outputs": [
    {
     "data": {
      "text/plain": [
       "defined \u001b[32mfunction\u001b[39m \u001b[36mflatten\u001b[39m"
      ]
     },
     "execution_count": 54,
     "metadata": {},
     "output_type": "execute_result"
    }
   ],
   "source": [
    "// flatten\n"
   ]
  },
  {
   "cell_type": "markdown",
   "metadata": {},
   "source": [
    "The function `flatten` is actually provided by the Scala API. So, the implementation of the `words` function is as follows:"
   ]
  },
  {
   "cell_type": "code",
   "execution_count": 55,
   "metadata": {},
   "outputs": [
    {
     "data": {
      "text/plain": [
       "defined \u001b[32mfunction\u001b[39m \u001b[36mwords\u001b[39m"
      ]
     },
     "execution_count": 55,
     "metadata": {},
     "output_type": "execute_result"
    }
   ],
   "source": [
    "def words(paragraph: List[String]): List[String] = \n",
    "    ???"
   ]
  },
  {
   "cell_type": "code",
   "execution_count": 57,
   "metadata": {},
   "outputs": [
    {
     "name": "stdout",
     "output_type": "stream",
     "text": [
      "\u001b[32mcell52$Helper$TestWords:\u001b[0m\n",
      "\u001b[32mwords\u001b[0m\n",
      "\u001b[32m- should work\u001b[0m\n"
     ]
    }
   ],
   "source": [
    "run(TestWords(words))"
   ]
  },
  {
   "cell_type": "markdown",
   "metadata": {},
   "source": [
    "This combination of the HOF `map` and the function `flatten` is so common, that it has been given a proper name: `flatMap`. "
   ]
  },
  {
   "cell_type": "code",
   "execution_count": 58,
   "metadata": {},
   "outputs": [
    {
     "data": {
      "text/plain": [
       "defined \u001b[32mfunction\u001b[39m \u001b[36mflatMap\u001b[39m"
      ]
     },
     "execution_count": 58,
     "metadata": {},
     "output_type": "execute_result"
    }
   ],
   "source": [
    "// flatMap \n"
   ]
  },
  {
   "cell_type": "markdown",
   "metadata": {},
   "source": [
    "![filter](../images/flatMap.svg)"
   ]
  },
  {
   "cell_type": "markdown",
   "metadata": {},
   "source": [
    "Using `flatMap` the word function is implemented even more easily:"
   ]
  },
  {
   "cell_type": "code",
   "execution_count": 59,
   "metadata": {},
   "outputs": [
    {
     "data": {
      "text/plain": [
       "defined \u001b[32mfunction\u001b[39m \u001b[36mwords\u001b[39m"
      ]
     },
     "execution_count": 59,
     "metadata": {},
     "output_type": "execute_result"
    }
   ],
   "source": [
    "def words(paragraph: List[String]): List[String] = \n",
    "    ???"
   ]
  },
  {
   "cell_type": "markdown",
   "metadata": {},
   "source": [
    "### FlatMapping optional values"
   ]
  },
  {
   "cell_type": "code",
   "execution_count": 60,
   "metadata": {},
   "outputs": [
    {
     "data": {
      "text/plain": [
       "defined \u001b[32mfunction\u001b[39m \u001b[36mflatMap\u001b[39m"
      ]
     },
     "execution_count": 60,
     "metadata": {},
     "output_type": "execute_result"
    }
   ],
   "source": [
    "def flatMap[A, B](maybeA: Option[A])(cont: A => Option[B]): Option[B] = \n",
    "    ???"
   ]
  },
  {
   "cell_type": "code",
   "execution_count": 61,
   "metadata": {},
   "outputs": [
    {
     "data": {
      "text/plain": [
       "defined \u001b[32mclass\u001b[39m \u001b[36mTestFlatMapOption\u001b[39m"
      ]
     },
     "execution_count": 61,
     "metadata": {},
     "output_type": "execute_result"
    }
   ],
   "source": [
    "class TestFlatMapOption(\n",
    "    flatMap: Option[Int] => (Int => Option[Boolean]) => Option[Boolean]\n",
    ") extends AnyFlatSpec with should.Matchers:\n",
    "    \n",
    "    def isPositiveEven(i: Int): Option[Boolean] = \n",
    "        if (i>=0) Some(i % 2 == 0)\n",
    "        else None\n",
    "    \n",
    "    \"flatMap\" should \"work\" in:\n",
    "        flatMap(None)(isPositiveEven) shouldBe ???\n",
    "        flatMap(Some(5))(isPositiveEven) shouldBe ???\n",
    "        flatMap(Some(-5))(isPositiveEven) shouldBe ???\n",
    "        flatMap(Some(0))(isPositiveEven) shouldBe ???\n",
    "        flatMap(Some(4))(isPositiveEven) shouldBe ???"
   ]
  },
  {
   "cell_type": "code",
   "execution_count": 62,
   "metadata": {},
   "outputs": [
    {
     "name": "stdout",
     "output_type": "stream",
     "text": [
      "\u001b[32mcell61$Helper$TestFlatMapOption:\u001b[0m\n",
      "\u001b[32mflatMap\u001b[0m\n",
      "\u001b[32m- should work\u001b[0m\n"
     ]
    }
   ],
   "source": [
    "run(TestFlatMapOption(flatMap))"
   ]
  },
  {
   "cell_type": "markdown",
   "metadata": {},
   "source": [
    "## All together: a modularity problem"
   ]
  },
  {
   "cell_type": "markdown",
   "metadata": {},
   "source": [
    "As before, we start from a list of sentences, but now we want to take care of the possible extra spaces between each word. Also, we want to obtain not the words themselves but their lengths. So, the specification of our problem is a function `lengths`:"
   ]
  },
  {
   "cell_type": "code",
   "execution_count": 64,
   "metadata": {},
   "outputs": [
    {
     "data": {
      "text/plain": [
       "defined \u001b[32mclass\u001b[39m \u001b[36mTestLengths\u001b[39m"
      ]
     },
     "execution_count": 64,
     "metadata": {},
     "output_type": "execute_result"
    }
   ],
   "source": [
    "class TestLengths(\n",
    "    lengths: List[String] => List[Int]\n",
    ") extends AnyFlatSpec with should.Matchers:\n",
    "            \n",
    "    val paragraph1 = List(\n",
    "        \"En un  lugar\",\n",
    "        \"de  la Mancha \", \n",
    "        \"de cuyo nombre no\",\n",
    "        \"quiero        acordarme\")\n",
    "    \n",
    "    \"lengths\" should \"work\" in:\n",
    "        lengths(paragraph1) shouldBe \n",
    "            List(2, 2, 5, 2, 2, 6, \n",
    "                 2, 4, 6, 2, 6, 9)"
   ]
  },
  {
   "cell_type": "markdown",
   "metadata": {},
   "source": [
    "We may try to implement this function imperatively using mutable variables:"
   ]
  },
  {
   "cell_type": "code",
   "execution_count": 70,
   "metadata": {},
   "outputs": [
    {
     "data": {
      "text/plain": [
       "defined \u001b[32mfunction\u001b[39m \u001b[36mlengthsM\u001b[39m"
      ]
     },
     "execution_count": 70,
     "metadata": {},
     "output_type": "execute_result"
    }
   ],
   "source": [
    "def lengthsM(paragraph: List[String]): List[Int] =\n",
    "    ???"
   ]
  },
  {
   "cell_type": "markdown",
   "metadata": {},
   "source": [
    "and this works, of course: "
   ]
  },
  {
   "cell_type": "code",
   "execution_count": 69,
   "metadata": {},
   "outputs": [
    {
     "name": "stdout",
     "output_type": "stream",
     "text": [
      "\u001b[32mcell64$Helper$TestLengths:\u001b[0m\n",
      "\u001b[32mlengths\u001b[0m\n",
      "\u001b[32m- should work\u001b[0m\n"
     ]
    }
   ],
   "source": [
    "run(TestLengths(lengthsM))"
   ]
  },
  {
   "cell_type": "markdown",
   "metadata": {},
   "source": [
    "but can we do it better? Yes, we can! Using HOFs we can get a more concise, understandable and reliable version, with a great level of reuse!"
   ]
  },
  {
   "cell_type": "code",
   "execution_count": 71,
   "metadata": {},
   "outputs": [
    {
     "data": {
      "text/plain": [
       "defined \u001b[32mfunction\u001b[39m \u001b[36mlengthsHOF\u001b[39m"
      ]
     },
     "execution_count": 71,
     "metadata": {},
     "output_type": "execute_result"
    }
   ],
   "source": [
    "def lengthsHOF(paragraph: List[String]): List[Int] = \n",
    "    ???"
   ]
  },
  {
   "cell_type": "code",
   "execution_count": 73,
   "metadata": {},
   "outputs": [
    {
     "name": "stdout",
     "output_type": "stream",
     "text": [
      "\u001b[32mcell64$Helper$TestLengths:\u001b[0m\n",
      "\u001b[32mlengths\u001b[0m\n",
      "\u001b[32m- should work\u001b[0m\n"
     ]
    }
   ],
   "source": [
    "run(TestLengths(lengthsHOF))"
   ]
  },
  {
   "cell_type": "markdown",
   "metadata": {},
   "source": [
    "This solution contrasts with the mutable version in several respects:\n",
    "- It's more **modular**, i.e. it's made of coarse-grained components: the HOFs `flatMap`, `filter` and `map`. The mutable version builds instead upon fine-grained components: `var`s, and `for` loops.\n",
    "- The HOF components `flatMap`, etc., are actually very generic and domain-independent, and are typically part of standard libraries, so the level of **reuse** and **reliability** of the HOF-based solution is very high.\n",
    "- The HOF-based solution is more **understandable**: it models the solution to the problem in terms of standard _transformations_ which are composed together using plain function composition. Moreover, these transformations are also at the right level of abstraction, i.e. it's natural to specify the solution to the problem in terms of flatMap, filter and map."
   ]
  },
  {
   "cell_type": "markdown",
   "metadata": {},
   "source": [
    "### For-comprehensions"
   ]
  },
  {
   "cell_type": "markdown",
   "metadata": {},
   "source": [
    "The combination of `map`, `flatMap` and `filter` HOFs is so common, that Scala has a special syntax for them: for-comprehensions."
   ]
  },
  {
   "cell_type": "code",
   "execution_count": 3,
   "metadata": {},
   "outputs": [
    {
     "data": {
      "text/plain": [
       "defined \u001b[32mfunction\u001b[39m \u001b[36mlengthsFC\u001b[39m"
      ]
     },
     "execution_count": 3,
     "metadata": {},
     "output_type": "execute_result"
    }
   ],
   "source": [
    "def lengthsFC(paragraph: List[String]): List[Int] = \n",
    "    ???"
   ]
  },
  {
   "cell_type": "code",
   "execution_count": 77,
   "metadata": {},
   "outputs": [
    {
     "name": "stdout",
     "output_type": "stream",
     "text": [
      "\u001b[32mcell64$Helper$TestLengths:\u001b[0m\n",
      "\u001b[32mlengths\u001b[0m\n",
      "\u001b[32m- should work\u001b[0m\n"
     ]
    }
   ],
   "source": [
    "run(TestLengths(lengthsFC))"
   ]
  }
 ],
 "metadata": {
  "kernelspec": {
   "display_name": "Scala 3.3",
   "language": "scala",
   "name": "scala33"
  },
  "language_info": {
   "codemirror_mode": "text/x-scala",
   "file_extension": ".sc",
   "mimetype": "text/x-scala",
   "name": "scala",
   "nbconvert_exporter": "script",
   "version": "2.13.12"
  }
 },
 "nbformat": 4,
 "nbformat_minor": 4
}
