{
 "cells": [
  {
   "cell_type": "markdown",
   "id": "0157ca7f",
   "metadata": {},
   "source": [
    "# Topic 2. Strongly-typed vs. Dynamic languages\n",
    "\n",
    "## 2.3 Structured programming in Scala"
   ]
  },
  {
   "cell_type": "markdown",
   "id": "ad21ac91",
   "metadata": {},
   "source": [
    "### References"
   ]
  },
  {
   "cell_type": "markdown",
   "id": "16451227",
   "metadata": {},
   "source": [
    "[__Programming in Scala, \n",
    "A comprehensive step-by-step guide__](https://www.artima.com/shop/programming_in_scala_3ed) Third Edition.\n",
    "by Martin Odersky, Lex Spoon, and Bill Venners. \n",
    "\n",
    "This is an introductory book that covers the basic features of the language as well as its most advanced characteristics. The following chapters are the most relevant for the purpose of this notebook:\n",
    "\n",
    "1. A Scalable Language\n",
    "2. First Steps in Scala\n",
    "3. Next Steps in Scala\n",
    "4. Classes and Objects\n",
    "5. Basic Types and Operations\n",
    "7. Built-in Control Structures 117\n",
    "9. Control Abstraction 167\n",
    "10. Composition and Inheritance 183\n",
    "11. Scala's Hierarchy 211"
   ]
  },
  {
   "cell_type": "markdown",
   "id": "1505db7e-a4da-4407-a921-52cec00d0ab0",
   "metadata": {},
   "source": [
    "__[Scala book (online)](https://docs.scala-lang.org/scala3/book/introduction.html)__. A basic introduction to the basic features of Scala. Note that we will be using the Scala 3 version throughout this course. Check in particular the first trail:\n",
    "\n",
    "- [_Prelude: a taste of Scala_](https://docs.scala-lang.org/scala3/book/taste-intro.html)"
   ]
  },
  {
   "cell_type": "markdown",
   "id": "6bc42f7e-f413-4dbf-baeb-644c6a51ed65",
   "metadata": {},
   "source": [
    "[Scala Cheatsheet](https://alvinalexander.com/scala/scala-3-cheat-sheet-examples/)"
   ]
  },
  {
   "cell_type": "markdown",
   "id": "465a4af7",
   "metadata": {},
   "source": [
    "# Variables, values and types\n",
    "\n",
    "Variables stand for values of a given type. In the next example:"
   ]
  },
  {
   "cell_type": "code",
   "execution_count": null,
   "id": "fb33a480",
   "metadata": {},
   "outputs": [],
   "source": [
    "// variables, values and type\n",
    "\n"
   ]
  },
  {
   "cell_type": "markdown",
   "id": "918bbde1",
   "metadata": {},
   "source": [
    "`a` is the name of the variable, `Int` represents its type, and `1`, the initial value of the variable. In order to retrieve the value of a variable, we simply refer to it: "
   ]
  },
  {
   "cell_type": "code",
   "execution_count": null,
   "id": "2207252f",
   "metadata": {},
   "outputs": [],
   "source": [
    "// accessing the value of a variable\n",
    "\n"
   ]
  },
  {
   "cell_type": "markdown",
   "id": "676e0afd",
   "metadata": {},
   "source": [
    "Being a variable, we can _mutate_ or modify its content: "
   ]
  },
  {
   "cell_type": "code",
   "execution_count": null,
   "id": "cab0417d",
   "metadata": {},
   "outputs": [],
   "source": [
    "// mutate variable\n",
    "\n"
   ]
  },
  {
   "cell_type": "markdown",
   "id": "06341754",
   "metadata": {},
   "source": [
    "so that the new content is now: "
   ]
  },
  {
   "cell_type": "code",
   "execution_count": null,
   "id": "e6d1a6f5",
   "metadata": {},
   "outputs": [],
   "source": [
    "// get new content\n",
    "\n"
   ]
  },
  {
   "cell_type": "markdown",
   "id": "c132f5ac",
   "metadata": {},
   "source": [
    "> Note that the execution of a notebook cell containing an expression always return the name of an auto-generated value `res?`, its type and the computed value. On the other hand, the assignment `a = 3` is not an _expression_, it's a _command_, and, therefore, its execution does not return any output. "
   ]
  },
  {
   "cell_type": "markdown",
   "id": "414f592d",
   "metadata": {},
   "source": [
    "Now, there is another kind of variables in Scala, so-called _inmutable variables_, declared with the reserved keyword `val`: "
   ]
  },
  {
   "cell_type": "code",
   "execution_count": null,
   "id": "e7a80ebf",
   "metadata": {},
   "outputs": [],
   "source": [
    "// now, inmutable variables\n",
    "var i: Int = 1"
   ]
  },
  {
   "cell_type": "markdown",
   "id": "e76a113a",
   "metadata": {},
   "source": [
    "Being inmutable, their associated value can't be modified: "
   ]
  },
  {
   "cell_type": "code",
   "execution_count": null,
   "id": "21e61c37",
   "metadata": {},
   "outputs": [],
   "source": [
    "// not mutable!\n",
    "\n"
   ]
  },
  {
   "cell_type": "markdown",
   "id": "0a9f640d",
   "metadata": {},
   "source": [
    "But then, in which sense inmutable variables are _variables_? They are variables very much in the same way in which we talk about variables in mathematics: they are variables because they may refer, in principle, to _any_ value of the given type. But, once they are assigned a value, they won't change. "
   ]
  },
  {
   "cell_type": "markdown",
   "id": "f1216f6b",
   "metadata": {},
   "source": [
    "> __Inmutability__ is one of the defining features of functional programming. Inmutable data allow us to reason more easily about the behaviour of our programs (no fear that some part of the program will unexpectedly mutate the value of some variable), and they play nicely with other features such as concurrency. "
   ]
  },
  {
   "cell_type": "markdown",
   "id": "ddced501",
   "metadata": {},
   "source": [
    "# Methods\n",
    "\n",
    "We already saw several examples of functions defined as _methods_. A new one:"
   ]
  },
  {
   "cell_type": "code",
   "execution_count": null,
   "id": "773b228e",
   "metadata": {},
   "outputs": [],
   "source": [
    "import scala.math.{pow, Pi}\n",
    "\n",
    "// method that computes the area of circles\n"
   ]
  },
  {
   "cell_type": "markdown",
   "id": "a16cf563",
   "metadata": {},
   "source": [
    "Scala is primarily an __object-oriented language__, i.e. a language in which the primitive constructs are objects, classes, methods, fields, traits, inheritance, etc. But Scala is also a functional programming language insofar it supports adequately well the programming abstractions of this paradigm. We need to take into account, however, that this support ultimately builds upon the primitive object-oriented abstractions. "
   ]
  },
  {
   "cell_type": "markdown",
   "id": "515dc802",
   "metadata": {},
   "source": [
    "> Methods represent the behaviour of classes of objects. Jupyter allows us to write methods outside any class, but this is only because the Scala runtime (almond) inserts this method in an auto-generated class named `Helper`.  "
   ]
  },
  {
   "cell_type": "code",
   "execution_count": null,
   "id": "e6d206da",
   "metadata": {},
   "outputs": [],
   "source": [
    "// reveal the name of the enclosing class\n"
   ]
  },
  {
   "cell_type": "markdown",
   "id": "acad34c5",
   "metadata": {},
   "source": [
    "# Control structures"
   ]
  },
  {
   "cell_type": "markdown",
   "id": "48697a30",
   "metadata": {},
   "source": [
    "### For-loops"
   ]
  },
  {
   "cell_type": "markdown",
   "id": "e47f22d3",
   "metadata": {},
   "source": [
    "Let's implement a Scala function which returns the sum of a range of numbers, from $a$ to $b$, i.e. $\\Sigma_{i=a}^b i$. This will allow us to introduce `for`-loops statements:"
   ]
  },
  {
   "cell_type": "code",
   "execution_count": null,
   "id": "69751ad6",
   "metadata": {},
   "outputs": [],
   "source": [
    "// sum interval function\n"
   ]
  },
  {
   "cell_type": "markdown",
   "id": "8dedd152",
   "metadata": {},
   "source": [
    "Note that the `return` statements are optional. Some tests: "
   ]
  },
  {
   "cell_type": "code",
   "execution_count": null,
   "id": "7de90a75",
   "metadata": {},
   "outputs": [],
   "source": [
    "// some assertions\n"
   ]
  },
  {
   "cell_type": "markdown",
   "id": "454efc48",
   "metadata": {},
   "source": [
    "Let's suppose now that we simply want the function to _print_ the square of each number between $a$ and $b$: "
   ]
  },
  {
   "cell_type": "code",
   "execution_count": null,
   "id": "9ecd5cff",
   "metadata": {},
   "outputs": [],
   "source": [
    "// print squares: a function returning Unit\n",
    "\n"
   ]
  },
  {
   "cell_type": "code",
   "execution_count": null,
   "id": "b1f54ee4",
   "metadata": {},
   "outputs": [],
   "source": []
  },
  {
   "cell_type": "markdown",
   "id": "0526feea",
   "metadata": {},
   "source": [
    "Note the return type of the function: the type `Unit` is used here to indicate that no meaningful value is returned by the function, i.e. we just want to invoke this function for its side-effects (printing in the console)."
   ]
  },
  {
   "cell_type": "markdown",
   "id": "5e914c62",
   "metadata": {},
   "source": [
    "> We will speak later on about _pure_ and _impure_ functions, an essential feature of functional programming."
   ]
  },
  {
   "cell_type": "markdown",
   "id": "99bf16a2",
   "metadata": {},
   "source": [
    "### If-then-else expressions"
   ]
  },
  {
   "cell_type": "markdown",
   "id": "7d9ea51e",
   "metadata": {},
   "source": [
    "The `if-then-else` construct is not a statement, but an expression, i.e. it denotes a proper value:"
   ]
  },
  {
   "cell_type": "code",
   "execution_count": null,
   "id": "befd1d38",
   "metadata": {},
   "outputs": [],
   "source": [
    "// if-the-else expression, assignment to vals\n",
    "\n"
   ]
  },
  {
   "attachments": {
    "image-2.png": {
     "image/png": "[encoded data removed]"
    }
   },
   "cell_type": "markdown",
   "id": "4a788d30",
   "metadata": {},
   "source": [
    "Let's implement now a function `isPrime` which tests whether a number is prime or not. We can translate the following Python program from [wikipedia](https://en.wikipedia.org/wiki/Primality_test#:~:text=The%20simplest%20primality%20test%20is,Otherwise%2C%20it%20is%20prime.): \n",
    "\n",
    "![image-2.png](attachment:image-2.png)"
   ]
  },
  {
   "cell_type": "markdown",
   "id": "5366b4c1",
   "metadata": {},
   "source": [
    "The translation will use equivalent control structures to the ones shown in the Python code: `if-then-else` and `for`-loops, in particular. "
   ]
  },
  {
   "cell_type": "code",
   "execution_count": null,
   "id": "67356dbc",
   "metadata": {},
   "outputs": [],
   "source": [
    "import scala.math.sqrt\n",
    "\n",
    "// isPrime function\n"
   ]
  },
  {
   "cell_type": "markdown",
   "id": "a309b23a",
   "metadata": {},
   "source": [
    "Some simple tests using `assert`:"
   ]
  },
  {
   "cell_type": "code",
   "execution_count": null,
   "id": "313f7846",
   "metadata": {},
   "outputs": [],
   "source": [
    "assert(isPrime(5))\n",
    "assert(isPrime(13))\n",
    "assert(!isPrime(15))\n",
    "assert(isPrime(1279))\n",
    "assert(!isPrime(200001))"
   ]
  },
  {
   "cell_type": "markdown",
   "id": "3752e4a7",
   "metadata": {},
   "source": [
    "Note the that the `return` statement in the inner for-loop is necessary, since we must return control inmediately and skip the rest of the computation.\n",
    "\n",
    "The example also shows the `if ... [then] ... else if ...` common pattern, whereby several if-then-else expressions are chained. \n"
   ]
  },
  {
   "cell_type": "markdown",
   "id": "07141d27",
   "metadata": {},
   "source": [
    "### `While` statements"
   ]
  },
  {
   "cell_type": "markdown",
   "id": "a9d4200e",
   "metadata": {},
   "source": [
    "The same example using `while` to avoid the inner `return` statement:"
   ]
  },
  {
   "cell_type": "code",
   "execution_count": null,
   "id": "11220ebe",
   "metadata": {},
   "outputs": [],
   "source": [
    "import scala.math.sqrt\n",
    "\n",
    "def isPrime(n: Int): Boolean = boundary:\n",
    "    if n <= 3 then n > 1\n",
    "    else if n % 2 == 0 || n % 3 == 0 then false\n",
    "    else\n",
    "        val limit: Int = sqrt(n).toInt\n",
    "        for i <- 5 to limit+1 by 6 do\n",
    "            if n % i == 0 || n % (i+2) == 0 then \n",
    "                break(false) // akin to `return false\n",
    "        return true"
   ]
  }
 ],
 "metadata": {
  "kernelspec": {
   "display_name": "Scala 3.3",
   "language": "scala",
   "name": "scala33"
  },
  "language_info": {
   "codemirror_mode": "text/x-scala",
   "file_extension": ".sc",
   "mimetype": "text/x-scala",
   "name": "scala",
   "nbconvert_exporter": "script",
   "version": "2.13.12"
  }
 },
 "nbformat": 4,
 "nbformat_minor": 5
}
