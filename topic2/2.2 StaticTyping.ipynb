{
 "cells": [
  {
   "cell_type": "markdown",
   "id": "0157ca7f",
   "metadata": {},
   "source": [
    "# Topic 2. Strongly-typed vs. Dynamic languages\n",
    "\n",
    "## 2.2 Strongly-typed languages"
   ]
  },
  {
   "cell_type": "markdown",
   "id": "630e0138",
   "metadata": {},
   "source": [
    "# Types in Scala"
   ]
  },
  {
   "cell_type": "markdown",
   "id": "7096350b",
   "metadata": {},
   "source": [
    "Scala is a statically-typed language, which means that types play a prominent syntactic role and that type-checking is actually enforced by the compiler itself. For instance, we can't declare functions without explicitly indicating the input types:"
   ]
  },
  {
   "cell_type": "code",
   "execution_count": null,
   "id": "f9407e54",
   "metadata": {},
   "outputs": [],
   "source": [
    "def is_even_length(x) = \n",
    "    ???"
   ]
  },
  {
   "cell_type": "markdown",
   "id": "7b1b73a1",
   "metadata": {},
   "source": [
    "> __Scala__: question marks `???` are used to indicate that function body is not finished."
   ]
  },
  {
   "cell_type": "markdown",
   "id": "d4ca0a83",
   "metadata": {},
   "source": [
    "It's mandatory to specify the type of the input arguments: "
   ]
  },
  {
   "cell_type": "code",
   "execution_count": null,
   "id": "aa025dc5",
   "metadata": {},
   "outputs": [],
   "source": [
    "def is_even_length(x: String) = \n",
    "    ???"
   ]
  },
  {
   "cell_type": "markdown",
   "id": "627df1f1",
   "metadata": {},
   "source": [
    "The return type is optional (the compiler can infer it - more on this later), but it's good practice to annotate it:"
   ]
  },
  {
   "cell_type": "code",
   "execution_count": null,
   "id": "d7fc4682",
   "metadata": {},
   "outputs": [],
   "source": [
    "def is_even_length(x: String): Boolean = \n",
    "    ???"
   ]
  },
  {
   "cell_type": "markdown",
   "id": "3dedb923",
   "metadata": {},
   "source": [
    "Let's complete the implementation, so that we can move forward:"
   ]
  },
  {
   "cell_type": "code",
   "execution_count": null,
   "id": "b798a9b6",
   "metadata": {},
   "outputs": [],
   "source": [
    "def is_even_length(x: String): Boolean = \n",
    "    x.length % 2 == 0"
   ]
  },
  {
   "cell_type": "markdown",
   "id": "7ec7a5d6",
   "metadata": {},
   "source": [
    "We will explain later on the syntax of the function body, in particular, the  `x.length` expression."
   ]
  },
  {
   "cell_type": "markdown",
   "id": "b875c9db",
   "metadata": {},
   "source": [
    "Let's see now the differences with respect to the Python implementation. If we invoke this function with the right arguments, everything is fine:"
   ]
  },
  {
   "cell_type": "code",
   "execution_count": null,
   "id": "ad6f9d66",
   "metadata": {},
   "outputs": [],
   "source": [
    "is_even_length(\"blablablá\")\n",
    "is_even_length(\"blaa\")"
   ]
  },
  {
   "cell_type": "markdown",
   "id": "4e0872fd",
   "metadata": {},
   "source": [
    "Similarly to the Python implementation, if we invoke the function with a non-string value, an error will be raised:"
   ]
  },
  {
   "cell_type": "code",
   "execution_count": null,
   "id": "4e4f18e9",
   "metadata": {},
   "outputs": [],
   "source": [
    "is_even_length(111)"
   ]
  },
  {
   "cell_type": "markdown",
   "id": "12dcd2a7",
   "metadata": {},
   "source": [
    "This error is a _type error_, as in the Python case: it was expected a value of type `String`, but an `Int` was found. However, this error is raised at _compile time_, not at runtime. This means that the program was not even executed, since \"Compilation failed\". Note that in the case of Python, the error pointed to the `len` function, meaning that the program was actually being exectued. On the contrary, the Scala compiler raises the error without actually looking at the function body. "
   ]
  },
  {
   "cell_type": "markdown",
   "id": "a08c3ecf",
   "metadata": {},
   "source": [
    "In Scala, there are also type errors that can be reported at runtime, but in order to get those, we have to cheat the compiler. For instance, we can force the compiler to ignore that value `111` is not an integer, but a string, using the `asInstanceOf[String]` expression:"
   ]
  },
  {
   "cell_type": "code",
   "execution_count": null,
   "id": "052e2c3a",
   "metadata": {},
   "outputs": [],
   "source": [
    "def foo = is_even_length(111.asInstanceOf[String])"
   ]
  },
  {
   "cell_type": "markdown",
   "id": "1d6b6b07",
   "metadata": {},
   "source": [
    "> We write the `is_even_length` expression within the `foo` function in order to prevent the inmediate execution by Jupyter"
   ]
  },
  {
   "cell_type": "markdown",
   "id": "617754fa",
   "metadata": {},
   "source": [
    "In doing so, we are actually saying to the compiler: \"trust me, this is a string\". Then, the compiler will happily trust our judgement and the expression will type-check. However, when we try to execute this program:"
   ]
  },
  {
   "cell_type": "code",
   "execution_count": null,
   "id": "37d7dc16",
   "metadata": {},
   "outputs": [],
   "source": [
    "is_even_length(111.asInstanceOf[String])"
   ]
  },
  {
   "cell_type": "markdown",
   "id": "ce64031d",
   "metadata": {},
   "source": [
    "an exception will be raised _at runtime_, reporting the obvious type error. The moral is clear:"
   ]
  },
  {
   "cell_type": "markdown",
   "id": "b514ab48",
   "metadata": {},
   "source": [
    "> DO NOT USE `asInstanceOf[_]`, it's not type-safe."
   ]
  },
  {
   "cell_type": "markdown",
   "id": "cd543dfa",
   "metadata": {},
   "source": [
    "During this course, we won't use this unsafe features of the Scala programming language. It's completely forbidden."
   ]
  },
  {
   "cell_type": "markdown",
   "id": "86f4383e",
   "metadata": {},
   "source": [
    "This example shows that type ckecks are not only performed by the Scala compiler, but by the generated code as well. On the other hand, note that the error is reported in the form of a `ClassCastException`. Exceptions are the way in which runtime errors are reported, and there are many standard errors. For instance, if we try to divide by 0:"
   ]
  },
  {
   "cell_type": "code",
   "execution_count": null,
   "id": "bb177da1",
   "metadata": {},
   "outputs": [],
   "source": [
    "def foo = 1/0"
   ]
  },
  {
   "cell_type": "markdown",
   "id": "ec4a8e3d",
   "metadata": {},
   "source": [
    "the compiler won't detect any problem (it could with little effort, by the way), but an `ArithmeticException` will be raised if we attempt to execute that expression:"
   ]
  },
  {
   "cell_type": "code",
   "execution_count": null,
   "id": "de2a84d7",
   "metadata": {},
   "outputs": [],
   "source": [
    "1/0"
   ]
  },
  {
   "cell_type": "markdown",
   "id": "e4fd3377",
   "metadata": {},
   "source": [
    "By the way, note that these exceptions are actually called `java.lang.*`. What does all this have to do with the Java language? Well, a Scala program is actually compiled into Java, and eventually run by the Java Virtual Machine. The standard library of Scala reuses some many features of Java, including the above exceptions, and basic types such as the `java.lang.String` itself."
   ]
  },
  {
   "cell_type": "markdown",
   "id": "1fa38cf9",
   "metadata": {},
   "source": [
    "# Type-inference"
   ]
  },
  {
   "cell_type": "markdown",
   "id": "4f165e22",
   "metadata": {},
   "source": [
    "Ok, type annotations allow us to anticipate problems at runtime, but it's annoying to have to explicitly annotate our signatures with types. For instance, the returning `Boolean` type of the `is_even_length` function is completely redundant: it's clear from the function body that the function will return a boolean value. \n",
    "\n",
    "Fortunately, the Scala compiler is clever enough to perform this kind of type inference itself, and will allow us to get rid of the returned type in this case:"
   ]
  },
  {
   "cell_type": "code",
   "execution_count": null,
   "id": "81b3d7b3",
   "metadata": {},
   "outputs": [],
   "source": [
    "def is_even_length(x: String) = \n",
    "    x.length % 2 == 0"
   ]
  },
  {
   "cell_type": "markdown",
   "id": "e391d13a",
   "metadata": {},
   "source": [
    "However, we will be commonly write the returned type of function signatures, since it will allow us to know what is (partially) doing the function, without actually looking inside the function body. It aids understanding."
   ]
  },
  {
   "cell_type": "markdown",
   "id": "6085da55",
   "metadata": {},
   "source": [
    "# Type-ascription"
   ]
  },
  {
   "cell_type": "markdown",
   "id": "561ea57f",
   "metadata": {},
   "source": [
    "Besides functions and datatype signatures, expressions can also feature type occurrences. It happens when we call _generic_ functions (e.g. `asInstanceOf[_]`), but also in the case of [_type ascriptions_](https://docs.scala-lang.org/style/types.html#ascription):"
   ]
  },
  {
   "cell_type": "code",
   "execution_count": null,
   "id": "3e6a250a",
   "metadata": {},
   "outputs": [],
   "source": [
    "(1: Int) + (2: Int)"
   ]
  },
  {
   "cell_type": "markdown",
   "id": "989890b8",
   "metadata": {},
   "source": [
    "With type ascriptions, we are saying to the compiler: \"note that value `1` is of type `Int`\". In this case, it's completely redundant because the compiler can figure it out itself. In other cases, however, the Scala compiler might struggle without success to find the right type of an expression, and we will have to help it a little bit. This may happen, for instance, when some value have several types because of inheritance."
   ]
  },
  {
   "cell_type": "markdown",
   "id": "58de36ad",
   "metadata": {},
   "source": [
    "# Advantages of static typing"
   ]
  },
  {
   "cell_type": "markdown",
   "id": "73cadf8a",
   "metadata": {},
   "source": [
    "We can summarize the advantages of using types at the source level as follows:\n",
    "\n",
    "* __Self-explanatory documentation.__ Types do not allow us to dispense with comments, but they certainly reduce the burden. Indeed, type signatures can be regarded as _partial_ specifications of the required functionality, so that comments can focuse in more essential aspects.\n",
    "\n",
    "* __Prevent errors in advance.__ As Robin Milner put it: \"type-checked programs can't go wrong\": if the program compiles, it won't raised errors at runtime. Going further, a popular saying in the functional community is: \"if it compiles, it _works_\".\n",
    "\n",
    "* __Better aids for IDEs.__ IDEs can leverage type annotations by providing the user with extra functionality such as: showing methods to be used for those types, etc.\n",
    "\n",
    "* __Type-driven development.__ We will speak about this in long detail in forthcoming lectures."
   ]
  }
 ],
 "metadata": {
  "kernelspec": {
   "display_name": "Scala 3.3",
   "language": "scala",
   "name": "scala33"
  },
  "language_info": {
   "codemirror_mode": {
    "name": "ipython",
    "version": 3
   },
   "file_extension": ".py",
   "mimetype": "text/x-python",
   "name": "python",
   "nbconvert_exporter": "python",
   "pygments_lexer": "ipython3",
   "version": "3.11.6"
  }
 },
 "nbformat": 4,
 "nbformat_minor": 5
}
