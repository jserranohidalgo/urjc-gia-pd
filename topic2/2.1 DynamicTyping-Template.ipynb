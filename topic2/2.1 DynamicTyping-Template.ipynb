{
 "cells": [
  {
   "cell_type": "markdown",
   "id": "0157ca7f",
   "metadata": {},
   "source": [
    "# Topic 2. Strongly-typed vs. Dynamic languages\n",
    "\n",
    "## 2.1 Dynamically-typed language"
   ]
  },
  {
   "cell_type": "markdown",
   "id": "9b85d003",
   "metadata": {},
   "source": [
    "# Types and values "
   ]
  },
  {
   "cell_type": "markdown",
   "id": "83fb8d03",
   "metadata": {},
   "source": [
    "Values are literals like `1`, `\"hola\"`, `true`, `'a'`, etc.; types allow us to classify values into different collections. For instance:\n",
    "* `0`, `1`, `2` and `3` belong to the collection, or type of, _natural_ numbers\n",
    "* `\"hola\"`, `\"hi\"`, `\"bye\"`, `\"adios\"` and `\"\"` are _string_ values\n",
    "* _images_, _vectors_, _binary numbers_, _week days_, etc., are also types. \n",
    "\n",
    "Why do we need types in computing? For one thing, types allow us to explain why we can't apply a given operation to certain arguments. For instance, we can't (i.e. it's meaningless) to multiply _boolean_ values with _strings_. It only makes sense if both arguments are values of _numeric types_, such as _integers_, _reals_, etc. But types also serve of great help from a methodological point of view, as we will see when we study type-driven development in the forthcoming lectures."
   ]
  },
  {
   "cell_type": "markdown",
   "id": "cfd70f7d",
   "metadata": {},
   "source": [
    "# Types in Python"
   ]
  },
  {
   "cell_type": "markdown",
   "id": "ae561cb6",
   "metadata": {},
   "source": [
    "Apparently, there are no types in Python, at least at the source level. For instance, let's consider the following function, which checks whether the length of the input string is even: "
   ]
  },
  {
   "cell_type": "code",
   "execution_count": null,
   "id": "8ae772c8",
   "metadata": {},
   "outputs": [],
   "source": [
    "# is_even_length \n"
   ]
  },
  {
   "cell_type": "markdown",
   "id": "c865dd32",
   "metadata": {},
   "source": [
    "Recall the definition of the `len` function:"
   ]
  },
  {
   "attachments": {
    "image.png": {
     "image/png": "[encoded data removed]"
    }
   },
   "cell_type": "markdown",
   "id": "ea8c6242",
   "metadata": {},
   "source": [
    "![image.png](attachment:image.png)"
   ]
  },
  {
   "cell_type": "markdown",
   "id": "69911280",
   "metadata": {},
   "source": [
    "Then, the following invocations work as excepted:"
   ]
  },
  {
   "cell_type": "code",
   "execution_count": null,
   "id": "593f6018",
   "metadata": {},
   "outputs": [],
   "source": [
    "print(\"The length of the string \\\"abcd\\\" is even:\")\n",
    "\n",
    "\n",
    "print(\"The length of the string \\\"abc\\\" is even:\")\n"
   ]
  },
  {
   "cell_type": "markdown",
   "id": "3e7f5912",
   "metadata": {},
   "source": [
    "What does it happen if we invoke the `is_even_length` function with an argument which is not a string?"
   ]
  },
  {
   "cell_type": "code",
   "execution_count": null,
   "id": "1bbd66d6",
   "metadata": {},
   "outputs": [],
   "source": [
    "# dynamic error\n"
   ]
  },
  {
   "cell_type": "markdown",
   "id": "0ecb741a",
   "metadata": {},
   "source": [
    "Now, errors show up explicitly, though not at compile time, but at _runtime_, i.e. when the program is executed. Note the difference:\n",
    "* Compile-time errors. Errors reported when the Python compiler process your source code.\n",
    "* Runtime errors. Errors reported while the program is being run. \n",
    "\n",
    "An example of compile-time error might be produced by syntactically-ill programs: "
   ]
  },
  {
   "cell_type": "code",
   "execution_count": null,
   "id": "f38427dc",
   "metadata": {},
   "outputs": [],
   "source": [
    "# malformed program\n"
   ]
  },
  {
   "cell_type": "markdown",
   "id": "e12a3be8",
   "metadata": {},
   "source": [
    "In this case, the program is not even run; the compiler prevents this and shows a syntax error instead.\n",
    "\n",
    "On the other hand, our type error is thrown at runtime, i.e. type checking is performed at runtime. In these cases, we talk of __dynamically-typed languages__. When type checking is performed at compile-time, and the error is thrown by the compiler, we talk of __statically-typed languages__."
   ]
  },
  {
   "cell_type": "markdown",
   "id": "0a9fdd4a",
   "metadata": {},
   "source": [
    "# Type annotations"
   ]
  },
  {
   "cell_type": "markdown",
   "id": "1f73ee8c",
   "metadata": {},
   "source": [
    "Since version 3.5, however, Python allows for [typing annotations](https://docs.python.org/3/library/typing.html):"
   ]
  },
  {
   "cell_type": "code",
   "execution_count": null,
   "id": "06f10e63",
   "metadata": {},
   "outputs": [],
   "source": [
    "# add types\n",
    "\n",
    "def is_even_length(x): \n",
    "    return len(x) % 2 == 0"
   ]
  },
  {
   "cell_type": "markdown",
   "id": "3f3fa96f",
   "metadata": {},
   "source": [
    "But, alas, the compiler won't type check our code, and the following code compiles"
   ]
  },
  {
   "cell_type": "code",
   "execution_count": null,
   "id": "4a75613c",
   "metadata": {},
   "outputs": [],
   "source": [
    "# types are not checked out by the compiler!\n",
    "# wrong call compiles\n"
   ]
  },
  {
   "cell_type": "markdown",
   "id": "94adb803",
   "metadata": {},
   "source": [
    "The type-checking task is delegated to IDEs (like VSCode), which will highlight potential errors via warnings. "
   ]
  },
  {
   "cell_type": "markdown",
   "id": "08dd796f",
   "metadata": {},
   "source": [
    "You may want to check [this post](https://towardsdatascience.com/type-annotations-in-python-d90990b172dc) for further information."
   ]
  },
  {
   "cell_type": "code",
   "execution_count": null,
   "id": "5489a952",
   "metadata": {},
   "outputs": [],
   "source": []
  }
 ],
 "metadata": {
  "kernelspec": {
   "display_name": "Python 3 (ipykernel)",
   "language": "python",
   "name": "python3"
  },
  "language_info": {
   "codemirror_mode": {
    "name": "ipython",
    "version": 3
   },
   "file_extension": ".py",
   "mimetype": "text/x-python",
   "name": "python",
   "nbconvert_exporter": "python",
   "pygments_lexer": "ipython3",
   "version": "3.11.6"
  }
 },
 "nbformat": 4,
 "nbformat_minor": 5
}
